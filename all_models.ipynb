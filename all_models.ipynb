{
 "cells": [
  {
   "cell_type": "code",
   "execution_count": 1,
   "metadata": {},
   "outputs": [],
   "source": [
    "import pandas as pd\n",
    "import numpy as np\n",
    "import tensorflow as tf\n",
    "from Evaluation import get_metrics\n",
    "%load_ext autoreload\n",
    "%autoreload 2"
   ]
  },
  {
   "cell_type": "markdown",
   "metadata": {},
   "source": [
    "---\n",
    "## Read Data"
   ]
  },
  {
   "cell_type": "code",
   "execution_count": 2,
   "metadata": {},
   "outputs": [],
   "source": [
    "from Data_prep import leave_last_out"
   ]
  },
  {
   "cell_type": "code",
   "execution_count": 3,
   "metadata": {},
   "outputs": [],
   "source": [
    "# path = 'C:/Users/robin.opdam/Google Drive/Thesis (Msc)/Thesis_shared_files/'\n",
    "# path = '/Users/Robin/Google Drive/Thesis (Msc)/Thesis_shared_files/'\n",
    "path = '../'"
   ]
  },
  {
   "cell_type": "code",
   "execution_count": 4,
   "metadata": {},
   "outputs": [],
   "source": [
    "data_path = 'Data/Amazon/'\n",
    "file_name = 'am_40k_users'\n",
    "\n",
    "# data_path = 'Data/ML/'\n",
    "# file_name = 'ml_1m'"
   ]
  },
  {
   "cell_type": "code",
   "execution_count": 5,
   "metadata": {},
   "outputs": [],
   "source": [
    "df = pd.read_pickle(path + data_path + file_name)\n",
    "total_items = df.item_id.nunique()\n",
    "total_users = df.user_id.nunique()"
   ]
  },
  {
   "cell_type": "code",
   "execution_count": 6,
   "metadata": {},
   "outputs": [],
   "source": [
    "# CFRNN Data\n",
    "train_set_cfrnn = pd.read_pickle(path + data_path + file_name + '_train_cfrnn')\n",
    "val_set_cfrnn = pd.read_pickle(path + data_path + file_name + '_val_cfrnn')\n",
    "test_set_cfrnn = pd.read_pickle(path + data_path + file_name + '_test_cfrnn')\n",
    "\n",
    "# MF based Data\n",
    "train_set_mf = pd.read_pickle(path + data_path + file_name + '_train_mf')\n",
    "val_set_mf = pd.read_pickle(path + data_path + file_name + '_val_mf')\n",
    "test_set_mf = pd.read_pickle(path + data_path + file_name + '_test_mf')"
   ]
  },
  {
   "cell_type": "markdown",
   "metadata": {},
   "source": [
    "## Create Datasets\n",
    "- (to be moved to data_used)"
   ]
  },
  {
   "cell_type": "code",
   "execution_count": 11,
   "metadata": {},
   "outputs": [],
   "source": [
    "train_set, test_set = cfrnn.data_split(df)\n",
    "train_set, val_set = cfrnn.data_split(train_set, val=True)"
   ]
  },
  {
   "cell_type": "code",
   "execution_count": 10,
   "metadata": {},
   "outputs": [],
   "source": [
    "from Data_prep import leave_last_out\n",
    "add_to_train, val_set_mf = leave_last_out(val_set_cfrnn)\n",
    "add_to_train_2, test_set_mf = leave_last_out(test_set_cfrnn)\n",
    "train_set_mf = pd.concat([train_set_cfrnn, add_to_train, add_to_train_2])"
   ]
  },
  {
   "cell_type": "code",
   "execution_count": null,
   "metadata": {},
   "outputs": [],
   "source": [
    "train_set_mf.to_pickle(path + data_path + file_name + '_train_mf')\n",
    "val_set_mf.to_pickle(path + data_path + file_name + '_val_mf')\n",
    "test_set_mf.to_pickle(path + data_path + file_name + '_test_mf')"
   ]
  },
  {
   "cell_type": "code",
   "execution_count": 13,
   "metadata": {},
   "outputs": [],
   "source": [
    "# Eval\n",
    "steps = 5\n",
    "rank_at = 20"
   ]
  },
  {
   "cell_type": "markdown",
   "metadata": {},
   "source": [
    "---\n",
    "# BPR"
   ]
  },
  {
   "cell_type": "code",
   "execution_count": 47,
   "metadata": {},
   "outputs": [],
   "source": [
    "bpr_params = {\n",
    "\"nolf\": 8, #Size of latent feature vectors\n",
    "\"n_iterations\": 20, #around 20 is sufficient\n",
    "\"sample_size\": 0.5*len(train_set_mf),\n",
    "\"seed\": 1234,\n",
    "\"alpha\": 0.08, # Learning rate: Amazon_01 best: 0.08\n",
    "\"rho\": 1.05, # Bold driver increase alpha\n",
    "\"sigma\": 0.5, # Bold driver decrease alpha\n",
    "          \n",
    "\"reg_user\": 0.1, # Am_40k best: 0.1 # ML_1 best: 0\n",
    "\"reg_item\": 0.1, # Am_40k best: 0.1 # ML_1 best: 0\n",
    "}"
   ]
  },
  {
   "cell_type": "code",
   "execution_count": 61,
   "metadata": {},
   "outputs": [],
   "source": [
    "from BPR import BPR\n",
    "bpr = BPR(total_users, total_items, bpr_params)"
   ]
  },
  {
   "cell_type": "code",
   "execution_count": 62,
   "metadata": {},
   "outputs": [],
   "source": [
    "samples_name = file_name + '_bpr_samples'"
   ]
  },
  {
   "cell_type": "code",
   "execution_count": 50,
   "metadata": {},
   "outputs": [
    {
     "name": "stdout",
     "output_type": "stream",
     "text": [
      "Creating 20 samples of length 174385\n"
     ]
    },
    {
     "name": "stderr",
     "output_type": "stream",
     "text": [
      "100% |########################################################################|\n"
     ]
    }
   ],
   "source": [
    "samples = bpr.create_samples(train_set_mf)"
   ]
  },
  {
   "cell_type": "code",
   "execution_count": 51,
   "metadata": {},
   "outputs": [],
   "source": [
    "samples = np.array(samples)\n",
    "np.save(path + data_path + 'Samples/' + samples_name, samples)"
   ]
  },
  {
   "cell_type": "code",
   "execution_count": 63,
   "metadata": {},
   "outputs": [
    {
     "name": "stdout",
     "output_type": "stream",
     "text": [
      "Training BPR on 20 of size 174385\n",
      "iteration: 0  loss: 0.708559  rec@10: 0.0\n",
      "iteration: 1  loss: 0.705844  rec@10: 0.0\n",
      "iteration: 2  loss: 0.703646  rec@10: 0.0\n",
      "iteration: 3  loss: 0.701608  rec@10: 0.0\n",
      "iteration: 4  loss: 0.699701  rec@10: 0.011\n",
      "iteration: 5  loss: 0.697619  rec@10: 0.017\n",
      "iteration: 6  loss: 0.695275  rec@10: 0.02\n",
      "iteration: 7  loss: 0.692617  rec@10: 0.024\n",
      "iteration: 8  loss: 0.689637  rec@10: 0.03\n",
      "iteration: 9  loss: 0.686697  rec@10: 0.035\n",
      "iteration: 10  loss: 0.683479  rec@10: 0.036\n",
      "iteration: 11  loss: 0.680835  rec@10: 0.042\n",
      "iteration: 12  loss: 0.677421  rec@10: 0.047\n",
      "iteration: 13  loss: 0.674153  rec@10: 0.053\n",
      "iteration: 14  loss: 0.671132  rec@10: 0.054\n",
      "iteration: 15  loss: 0.667486  rec@10: 0.061\n",
      "iteration: 16  loss: 0.664576  rec@10: 0.061\n",
      "iteration: 17  loss: 0.660583  rec@10: 0.063\n",
      "iteration: 18  loss: 0.657787  rec@10: 0.06\n",
      "iteration: 19  loss: 0.654992  rec@10: 0.058\n",
      "CPU times: user 4min 41s, sys: 6min 45s, total: 11min 26s\n",
      "Wall time: 3min 23s\n"
     ]
    }
   ],
   "source": [
    "%%time\n",
    "bpr.train_model(sample_path = path + data_path + 'Samples/' + samples_name + '.npy', val_set=val_set_mf)"
   ]
  },
  {
   "cell_type": "code",
   "execution_count": 64,
   "metadata": {},
   "outputs": [
    {
     "name": "stdout",
     "output_type": "stream",
     "text": [
      "results added\n"
     ]
    },
    {
     "data": {
      "image/png": "[encoded data removed]",
      "text/plain": [
       "<Figure size 864x576 with 3 Axes>"
      ]
     },
     "metadata": {
      "needs_background": "light"
     },
     "output_type": "display_data"
    }
   ],
   "source": [
    "bpr.store_model(path + '/Logs/', file_name + '_bpr_log', file_name)\n",
    "bpr.plot_training()"
   ]
  },
  {
   "cell_type": "code",
   "execution_count": 65,
   "metadata": {},
   "outputs": [
    {
     "data": {
      "text/html": [
       "<div>\n",
       "<style scoped>\n",
       "    .dataframe tbody tr th:only-of-type {\n",
       "        vertical-align: middle;\n",
       "    }\n",
       "\n",
       "    .dataframe tbody tr th {\n",
       "        vertical-align: top;\n",
       "    }\n",
       "\n",
       "    .dataframe thead th {\n",
       "        text-align: right;\n",
       "    }\n",
       "</style>\n",
       "<table border=\"1\" class=\"dataframe\">\n",
       "  <thead>\n",
       "    <tr style=\"text-align: right;\">\n",
       "      <th></th>\n",
       "      <th>rank_at</th>\n",
       "      <th>hitcounts</th>\n",
       "      <th>recall</th>\n",
       "      <th>precision</th>\n",
       "      <th>ndcg</th>\n",
       "    </tr>\n",
       "  </thead>\n",
       "  <tbody>\n",
       "    <tr>\n",
       "      <th>0</th>\n",
       "      <td>1</td>\n",
       "      <td>22</td>\n",
       "      <td>0.0110</td>\n",
       "      <td>0.011000</td>\n",
       "      <td>0.011000</td>\n",
       "    </tr>\n",
       "    <tr>\n",
       "      <th>1</th>\n",
       "      <td>5</td>\n",
       "      <td>102</td>\n",
       "      <td>0.0510</td>\n",
       "      <td>0.010200</td>\n",
       "      <td>0.031203</td>\n",
       "    </tr>\n",
       "    <tr>\n",
       "      <th>2</th>\n",
       "      <td>10</td>\n",
       "      <td>124</td>\n",
       "      <td>0.0620</td>\n",
       "      <td>0.006200</td>\n",
       "      <td>0.034708</td>\n",
       "    </tr>\n",
       "    <tr>\n",
       "      <th>3</th>\n",
       "      <td>15</td>\n",
       "      <td>132</td>\n",
       "      <td>0.0660</td>\n",
       "      <td>0.004400</td>\n",
       "      <td>0.035749</td>\n",
       "    </tr>\n",
       "    <tr>\n",
       "      <th>4</th>\n",
       "      <td>20</td>\n",
       "      <td>139</td>\n",
       "      <td>0.0695</td>\n",
       "      <td>0.003475</td>\n",
       "      <td>0.036567</td>\n",
       "    </tr>\n",
       "  </tbody>\n",
       "</table>\n",
       "</div>"
      ],
      "text/plain": [
       "   rank_at  hitcounts  recall  precision      ndcg\n",
       "0        1         22  0.0110   0.011000  0.011000\n",
       "1        5        102  0.0510   0.010200  0.031203\n",
       "2       10        124  0.0620   0.006200  0.034708\n",
       "3       15        132  0.0660   0.004400  0.035749\n",
       "4       20        139  0.0695   0.003475  0.036567"
      ]
     },
     "execution_count": 65,
     "metadata": {},
     "output_type": "execute_result"
    }
   ],
   "source": [
    "ranked_df_bpr = bpr.get_predictions(test_set_mf, stats=False)\n",
    "bpr_metrics = get_metrics(ranked_df_bpr, steps, rank_at, stats=False)\n",
    "bpr_metrics"
   ]
  },
  {
   "cell_type": "code",
   "execution_count": 66,
   "metadata": {},
   "outputs": [],
   "source": [
    "bpr_metrics.to_pickle(path + 'Results/BPR/' + file_name + '_metrics')"
   ]
  },
  {
   "cell_type": "markdown",
   "metadata": {},
   "source": [
    "---\n",
    "# CFRNN"
   ]
  },
  {
   "cell_type": "code",
   "execution_count": 29,
   "metadata": {},
   "outputs": [],
   "source": [
    "cfrnn_params = {\n",
    "'train_time':0,\n",
    "'epochs':100,\n",
    "'BATCH_SIZE':32,\n",
    "'learning_rate':0.1,\n",
    "'delta':0.01,             # Diversity Bias\n",
    "'max_seq_len':30,        # Max length of sequence71=median\n",
    "'embedding_dim':100,\n",
    "'rnn_units':20,\n",
    "'ckpt_dir': path + f'Logs/ckpts/cfrnn_ckpts_{file_name}/ckpts',\n",
    "\n",
    "'test_users': 500,\n",
    "'val_users': 500,\n",
    "\n",
    "'pad_value':total_items, # Pad with total_items+1 => masked => still use item 0\n",
    "'shift_targets_by':1     \n",
    "}"
   ]
  },
  {
   "cell_type": "code",
   "execution_count": 30,
   "metadata": {},
   "outputs": [
    {
     "name": "stdout",
     "output_type": "stream",
     "text": [
      "Creating Diveristy Bias\n",
      "Compiled LSTM\n"
     ]
    }
   ],
   "source": [
    "from CFRNN import CFRNN\n",
    "cfrnn = CFRNN(total_users, total_items, cfrnn_params)\n",
    "cfrnn.build_model(summary=False)\n",
    "cfrnn.compile_model(train_set=train_set_cfrnn)"
   ]
  },
  {
   "cell_type": "code",
   "execution_count": 31,
   "metadata": {},
   "outputs": [],
   "source": [
    "train_dataset = cfrnn.create_seq_batch_tf_dataset(train_set_cfrnn, stats=False)\n",
    "val_dataset = cfrnn.create_seq_batch_tf_dataset(val_set_cfrnn, stats=False)"
   ]
  },
  {
   "cell_type": "code",
   "execution_count": 32,
   "metadata": {},
   "outputs": [
    {
     "name": "stdout",
     "output_type": "stream",
     "text": [
      "Fitting LSTM with parameters:\n",
      "train_time                                              0\n",
      "epochs                                                100\n",
      "BATCH_SIZE                                             32\n",
      "learning_rate                                         0.1\n",
      "delta                                                0.01\n",
      "max_seq_len                                            30\n",
      "embedding_dim                                         100\n",
      "rnn_units                                              20\n",
      "ckpt_dir            ../Logs/ckpts/cfrnn_ckpts_ml_1m/ckpts\n",
      "test_users                                            500\n",
      "val_users                                             500\n",
      "pad_value                                            3706\n",
      "shift_targets_by                                        1\n",
      "Name: 0, dtype: object\n",
      "Train for 141 steps, validate for 15 steps\n",
      "Epoch 1/100\n",
      "141/141 [==============================] - 5s 36ms/step - loss: 7.7503 - recall: 0.0000e+00 - val_loss: 7.7563 - val_recall: 0.0000e+00\n",
      "Epoch 2/100\n",
      "141/141 [==============================] - 2s 11ms/step - loss: 7.7212 - recall: 0.0000e+00 - val_loss: 7.7226 - val_recall: 0.0000e+00\n",
      "Epoch 3/100\n",
      "141/141 [==============================] - 2s 11ms/step - loss: 7.6686 - recall: 0.0015 - val_loss: 7.6472 - val_recall: 0.0070\n",
      "Epoch 4/100\n",
      "141/141 [==============================] - 1s 11ms/step - loss: 7.5466 - recall: 0.0229 - val_loss: 7.4790 - val_recall: 0.0474\n",
      "Epoch 5/100\n",
      "141/141 [==============================] - 2s 11ms/step - loss: 7.3588 - recall: 0.0753 - val_loss: 7.3219 - val_recall: 0.1004\n",
      "Epoch 6/100\n",
      "141/141 [==============================] - 2s 11ms/step - loss: 7.2387 - recall: 0.1207 - val_loss: 7.2442 - val_recall: 0.1385\n",
      "Epoch 7/100\n",
      "141/141 [==============================] - 2s 11ms/step - loss: 7.1758 - recall: 0.1515 - val_loss: 7.2010 - val_recall: 0.1632\n",
      "Epoch 8/100\n",
      "141/141 [==============================] - 2s 11ms/step - loss: 7.1385 - recall: 0.1718 - val_loss: 7.1740 - val_recall: 0.1803\n",
      "Epoch 9/100\n",
      "141/141 [==============================] - 2s 11ms/step - loss: 7.1142 - recall: 0.1867 - val_loss: 7.1559 - val_recall: 0.1934\n",
      "Epoch 10/100\n",
      "141/141 [==============================] - 2s 12ms/step - loss: 7.0972 - recall: 0.1998 - val_loss: 7.1428 - val_recall: 0.2066\n",
      "Epoch 11/100\n",
      "141/141 [==============================] - 2s 11ms/step - loss: 7.0847 - recall: 0.2137 - val_loss: 7.1330 - val_recall: 0.2179\n",
      "Epoch 12/100\n",
      "141/141 [==============================] - 2s 11ms/step - loss: 7.0752 - recall: 0.2227 - val_loss: 7.1254 - val_recall: 0.2274\n",
      "Epoch 13/100\n",
      "141/141 [==============================] - 2s 12ms/step - loss: 7.0676 - recall: 0.2319 - val_loss: 7.1194 - val_recall: 0.2369\n",
      "Epoch 14/100\n",
      "141/141 [==============================] - 2s 11ms/step - loss: 7.0615 - recall: 0.2399 - val_loss: 7.1144 - val_recall: 0.2440\n",
      "Epoch 15/100\n",
      "141/141 [==============================] - 2s 11ms/step - loss: 7.0565 - recall: 0.2464 - val_loss: 7.1103 - val_recall: 0.2490\n",
      "Epoch 16/100\n",
      "141/141 [==============================] - 2s 11ms/step - loss: 7.0523 - recall: 0.2517 - val_loss: 7.1069 - val_recall: 0.2546\n",
      "Epoch 17/100\n",
      "141/141 [==============================] - 1s 10ms/step - loss: 7.0487 - recall: 0.2574 - val_loss: 7.1040 - val_recall: 0.2604\n",
      "Epoch 18/100\n",
      "141/141 [==============================] - 2s 13ms/step - loss: 7.0456 - recall: 0.2622 - val_loss: 7.1014 - val_recall: 0.2636\n",
      "Epoch 19/100\n",
      "141/141 [==============================] - 1s 10ms/step - loss: 7.0429 - recall: 0.2668 - val_loss: 7.0993 - val_recall: 0.2697\n",
      "Epoch 20/100\n",
      "141/141 [==============================] - 2s 11ms/step - loss: 7.0405 - recall: 0.2712 - val_loss: 7.0974 - val_recall: 0.2738\n",
      "Epoch 21/100\n",
      "141/141 [==============================] - 1s 10ms/step - loss: 7.0384 - recall: 0.2744 - val_loss: 7.0957 - val_recall: 0.2766\n",
      "Epoch 22/100\n",
      "141/141 [==============================] - 2s 11ms/step - loss: 7.0365 - recall: 0.2775 - val_loss: 7.0942 - val_recall: 0.2785\n",
      "Epoch 23/100\n",
      "141/141 [==============================] - 2s 11ms/step - loss: 7.0349 - recall: 0.2802 - val_loss: 7.0928 - val_recall: 0.2809\n",
      "Epoch 24/100\n",
      "141/141 [==============================] - 1s 10ms/step - loss: 7.0334 - recall: 0.2823 - val_loss: 7.0916 - val_recall: 0.2837\n",
      "Epoch 25/100\n",
      "141/141 [==============================] - 2s 11ms/step - loss: 7.0320 - recall: 0.2842 - val_loss: 7.0905 - val_recall: 0.2851\n",
      "Epoch 26/100\n",
      "141/141 [==============================] - 2s 11ms/step - loss: 7.0307 - recall: 0.2858 - val_loss: 7.0896 - val_recall: 0.2871\n",
      "Epoch 27/100\n",
      "141/141 [==============================] - 1s 10ms/step - loss: 7.0296 - recall: 0.2871 - val_loss: 7.0887 - val_recall: 0.2879\n",
      "Epoch 28/100\n",
      "141/141 [==============================] - 1s 10ms/step - loss: 7.0285 - recall: 0.2883 - val_loss: 7.0878 - val_recall: 0.2886\n",
      "Epoch 29/100\n",
      "141/141 [==============================] - 2s 11ms/step - loss: 7.0276 - recall: 0.2891 - val_loss: 7.0871 - val_recall: 0.2899\n",
      "Epoch 30/100\n",
      "141/141 [==============================] - 2s 11ms/step - loss: 7.0267 - recall: 0.2897 - val_loss: 7.0864 - val_recall: 0.2904\n",
      "Epoch 31/100\n",
      "141/141 [==============================] - 2s 11ms/step - loss: 7.0259 - recall: 0.2902 - val_loss: 7.0858 - val_recall: 0.2908\n",
      "Epoch 32/100\n",
      "141/141 [==============================] - 1s 11ms/step - loss: 7.0251 - recall: 0.2906 - val_loss: 7.0852 - val_recall: 0.2912\n",
      "Epoch 33/100\n",
      "141/141 [==============================] - 2s 11ms/step - loss: 7.0244 - recall: 0.2908 - val_loss: 7.0846 - val_recall: 0.2913\n",
      "Epoch 34/100\n",
      "141/141 [==============================] - 1s 10ms/step - loss: 7.0237 - recall: 0.2910 - val_loss: 7.0841 - val_recall: 0.2914\n",
      "Epoch 35/100\n",
      "141/141 [==============================] - 1s 10ms/step - loss: 7.0231 - recall: 0.2910 - val_loss: 7.0836 - val_recall: 0.2914\n",
      "Epoch 36/100\n",
      "141/141 [==============================] - 2s 11ms/step - loss: 7.0225 - recall: 0.2910 - val_loss: 7.0832 - val_recall: 0.2912\n",
      "Epoch 37/100\n",
      "141/141 [==============================] - 1s 11ms/step - loss: 7.0219 - recall: 0.2909 - val_loss: 7.0828 - val_recall: 0.2912\n",
      "Epoch 38/100\n",
      "141/141 [==============================] - 2s 11ms/step - loss: 7.0214 - recall: 0.2907 - val_loss: 7.0824 - val_recall: 0.2912\n",
      "Epoch 39/100\n",
      "141/141 [==============================] - 2s 11ms/step - loss: 7.0209 - recall: 0.2904 - val_loss: 7.0820 - val_recall: 0.2910\n",
      "Epoch 40/100\n",
      "141/141 [==============================] - 2s 11ms/step - loss: 7.0204 - recall: 0.2901 - val_loss: 7.0816 - val_recall: 0.2903\n",
      "Epoch 41/100\n",
      "141/141 [==============================] - 1s 11ms/step - loss: 7.0200 - recall: 0.2897 - val_loss: 7.0813 - val_recall: 0.2899\n",
      "Epoch 42/100\n",
      "141/141 [==============================] - 2s 11ms/step - loss: 7.0195 - recall: 0.2892 - val_loss: 7.0810 - val_recall: 0.2892\n",
      "Epoch 43/100\n",
      "141/141 [==============================] - 1s 10ms/step - loss: 7.0191 - recall: 0.2887 - val_loss: 7.0807 - val_recall: 0.2882\n",
      "Epoch 44/100\n",
      "141/141 [==============================] - 2s 11ms/step - loss: 7.0187 - recall: 0.2880 - val_loss: 7.0804 - val_recall: 0.2876\n",
      "Epoch 45/100\n",
      "141/141 [==============================] - 2s 11ms/step - loss: 7.0184 - recall: 0.2873 - val_loss: 7.0801 - val_recall: 0.2869\n",
      "Epoch 46/100\n",
      "141/141 [==============================] - 1s 10ms/step - loss: 7.0180 - recall: 0.2866 - val_loss: 7.0799 - val_recall: 0.2862\n",
      "Epoch 47/100\n",
      "141/141 [==============================] - 2s 11ms/step - loss: 7.0177 - recall: 0.2859 - val_loss: 7.0796 - val_recall: 0.2861\n",
      "Epoch 48/100\n",
      "141/141 [==============================] - 1s 11ms/step - loss: 7.0174 - recall: 0.2851 - val_loss: 7.0794 - val_recall: 0.2849\n",
      "Epoch 49/100\n",
      "141/141 [==============================] - 2s 11ms/step - loss: 7.0170 - recall: 0.2843 - val_loss: 7.0792 - val_recall: 0.2839\n",
      "Epoch 50/100\n",
      "141/141 [==============================] - 2s 11ms/step - loss: 7.0167 - recall: 0.2834 - val_loss: 7.0790 - val_recall: 0.2829\n"
     ]
    }
   ],
   "source": [
    "cfrnn.train(train_dataset, val_dataset, verbose=1)"
   ]
  },
  {
   "cell_type": "code",
   "execution_count": 33,
   "metadata": {},
   "outputs": [
    {
     "data": {
      "image/png": "[encoded data removed]",
      "text/plain": [
       "<Figure size 432x288 with 1 Axes>"
      ]
     },
     "metadata": {
      "needs_background": "light"
     },
     "output_type": "display_data"
    },
    {
     "data": {
      "image/png": "[encoded data removed]",
      "text/plain": [
       "<Figure size 432x288 with 1 Axes>"
      ]
     },
     "metadata": {
      "needs_background": "light"
     },
     "output_type": "display_data"
    }
   ],
   "source": [
    "cfrnn.plot_training()"
   ]
  },
  {
   "cell_type": "code",
   "execution_count": 34,
   "metadata": {},
   "outputs": [
    {
     "data": {
      "text/plain": [
       "'../Logs/ckpts/cfrnn_ckpts_ml_1m/ckpts'"
      ]
     },
     "execution_count": 34,
     "metadata": {},
     "output_type": "execute_result"
    }
   ],
   "source": [
    "cfrnn_params['ckpt_dir']"
   ]
  },
  {
   "cell_type": "code",
   "execution_count": 35,
   "metadata": {},
   "outputs": [
    {
     "data": {
      "text/html": [
       "<div>\n",
       "<style scoped>\n",
       "    .dataframe tbody tr th:only-of-type {\n",
       "        vertical-align: middle;\n",
       "    }\n",
       "\n",
       "    .dataframe tbody tr th {\n",
       "        vertical-align: top;\n",
       "    }\n",
       "\n",
       "    .dataframe thead th {\n",
       "        text-align: right;\n",
       "    }\n",
       "</style>\n",
       "<table border=\"1\" class=\"dataframe\">\n",
       "  <thead>\n",
       "    <tr style=\"text-align: right;\">\n",
       "      <th></th>\n",
       "      <th>rank_at</th>\n",
       "      <th>hitcounts</th>\n",
       "      <th>recall</th>\n",
       "      <th>precision</th>\n",
       "      <th>ndcg</th>\n",
       "    </tr>\n",
       "  </thead>\n",
       "  <tbody>\n",
       "    <tr>\n",
       "      <th>0</th>\n",
       "      <td>1</td>\n",
       "      <td>4</td>\n",
       "      <td>0.004</td>\n",
       "      <td>0.004000</td>\n",
       "      <td>0.004000</td>\n",
       "    </tr>\n",
       "    <tr>\n",
       "      <th>1</th>\n",
       "      <td>5</td>\n",
       "      <td>19</td>\n",
       "      <td>0.019</td>\n",
       "      <td>0.003800</td>\n",
       "      <td>0.011119</td>\n",
       "    </tr>\n",
       "    <tr>\n",
       "      <th>2</th>\n",
       "      <td>10</td>\n",
       "      <td>43</td>\n",
       "      <td>0.043</td>\n",
       "      <td>0.004300</td>\n",
       "      <td>0.018755</td>\n",
       "    </tr>\n",
       "    <tr>\n",
       "      <th>3</th>\n",
       "      <td>15</td>\n",
       "      <td>71</td>\n",
       "      <td>0.071</td>\n",
       "      <td>0.004733</td>\n",
       "      <td>0.026086</td>\n",
       "    </tr>\n",
       "    <tr>\n",
       "      <th>4</th>\n",
       "      <td>20</td>\n",
       "      <td>92</td>\n",
       "      <td>0.092</td>\n",
       "      <td>0.004600</td>\n",
       "      <td>0.031059</td>\n",
       "    </tr>\n",
       "  </tbody>\n",
       "</table>\n",
       "</div>"
      ],
      "text/plain": [
       "   rank_at  hitcounts  recall  precision      ndcg\n",
       "0        1          4   0.004   0.004000  0.004000\n",
       "1        5         19   0.019   0.003800  0.011119\n",
       "2       10         43   0.043   0.004300  0.018755\n",
       "3       15         71   0.071   0.004733  0.026086\n",
       "4       20         92   0.092   0.004600  0.031059"
      ]
     },
     "execution_count": 35,
     "metadata": {},
     "output_type": "execute_result"
    }
   ],
   "source": [
    "test_set, left_out = leave_last_out(test_set_cfrnn, n_items=1)\n",
    "ranked_df_cfrnn = cfrnn.get_predictions(train_set_cfrnn, test_set, left_out, batch_size=500, rank_at=rank_at, ckpt_dir=cfrnn_params['ckpt_dir'])\n",
    "cfrnn_metrics = get_metrics(ranked_df_cfrnn, steps, rank_at, stats=False)\n",
    "cfrnn_metrics"
   ]
  },
  {
   "cell_type": "code",
   "execution_count": 36,
   "metadata": {},
   "outputs": [],
   "source": [
    "cfrnn_metrics.to_pickle(path + 'Results/CFRNN/' + file_name + '_metrics')"
   ]
  },
  {
   "cell_type": "markdown",
   "metadata": {},
   "source": [
    "---\n",
    "# NCF"
   ]
  },
  {
   "cell_type": "code",
   "execution_count": 7,
   "metadata": {},
   "outputs": [],
   "source": [
    "GMF_params = {\n",
    "    'learning_rate': 0.0005,\n",
    "    'batch_size': 256,\n",
    "    'nolf': 8,\n",
    "    'regs': [0.000001,0.000001],\n",
    "    'epochs': 2,\n",
    "    'sample_size': len(train_set_mf),#int(0.5*len(train_set.user_id.unique())),\n",
    "    'num_neg': 4,\n",
    "    'weights_dir': f'../Logs/weights/GMF_weights_{file_name}/GMF_weights',\n",
    "    'optimizer':'Adam'\n",
    "}\n",
    "\n",
    "MLP_params = {\n",
    "    'learning_rate': 0.0005,\n",
    "    'batch_size': 256,\n",
    "    'layers': [16,32,16,8],\n",
    "    'reg_layers': [0.00001,0.00001,0.00001,0.00001],   #ML: [+-0.0005,0,0,0],\n",
    "    'epochs': 2,\n",
    "    'sample_size': len(train_set_mf),#int(0.5*len(train_set.user_id.unique())),\n",
    "    'num_neg': 10,\n",
    "    'weights_dir': f'../Logs/weights/MLP_weights_{file_name}/MLP_weights',\n",
    "    'optimizer':'Adam'\n",
    "}\n",
    "\n",
    "NeuMF_params = {\n",
    "    'learning_rate': 0.0005,\n",
    "    'batch_size': 256,\n",
    "    'layers': [16,32,16,8],\n",
    "    'reg_layers': [0.00001,0.00001,0.00001,0.00001],#[0.0001, 0.0001, 0.0001, 0.0001],\n",
    "    'reg_mf': [0.000001,0.000001],\n",
    "    'nolf': 8,\n",
    "    'epochs': 25,\n",
    "    'sample_size': len(train_set_mf),#int(0.5*len(train_set.user_id.unique())),\n",
    "    'num_neg': 4,\n",
    "    'weights_dir': f'../Logs/weights/NeuMF_weights_{file_name}/NeuMF_weights',\n",
    "    'optimizer':'Adam'\n",
    "}"
   ]
  },
  {
   "cell_type": "code",
   "execution_count": 8,
   "metadata": {},
   "outputs": [],
   "source": [
    "from NCF import NCF\n",
    "NCF = NCF(total_users, total_items, GMF_params, MLP_params, NeuMF_params)\n",
    "NCF.build_GMF_model()\n",
    "NCF.build_MLP_model()\n",
    "NCF.build_NeuMF_model()"
   ]
  },
  {
   "cell_type": "code",
   "execution_count": 9,
   "metadata": {},
   "outputs": [
    {
     "name": "stderr",
     "output_type": "stream",
     "text": [
      "100% |########################################################################|\n"
     ]
    }
   ],
   "source": [
    "sample_path = path + data_path + 'Samples/' + file_name + '_samples_4_neg/'\n",
    "samples = NCF.load_samples(sample_path, file_name + '_sample', 25)"
   ]
  },
  {
   "cell_type": "code",
   "execution_count": 87,
   "metadata": {},
   "outputs": [
    {
     "name": "stdout",
     "output_type": "stream",
     "text": [
      "\n",
      "Fitting GMF with parameters:\n",
      "learning_rate                                               0.0005\n",
      "batch_size                                                     256\n",
      "nolf                                                             8\n",
      "regs                                                [1e-06, 1e-06]\n",
      "epochs                                                           2\n",
      "sample_size                                                 348771\n",
      "num_neg                                                          4\n",
      "weights_dir      ../Logs/weights/GMF_weights_am_40k_users/GMF_w...\n",
      "optimizer                                                     Adam\n",
      "Name: 0, dtype: object\n",
      "Epoch: 0\n",
      "Train on 1743855 samples\n"
     ]
    },
    {
     "name": "stderr",
     "output_type": "stream",
     "text": [
      "/usr/local/lib/python3.6/dist-packages/tensorflow_core/python/framework/indexed_slices.py:424: UserWarning: Converting sparse IndexedSlices to a dense Tensor of unknown shape. This may consume a large amount of memory.\n",
      "  \"Converting sparse IndexedSlices to a dense Tensor of unknown shape. \"\n",
      "/usr/local/lib/python3.6/dist-packages/tensorflow_core/python/framework/indexed_slices.py:424: UserWarning: Converting sparse IndexedSlices to a dense Tensor of unknown shape. This may consume a large amount of memory.\n",
      "  \"Converting sparse IndexedSlices to a dense Tensor of unknown shape. \"\n"
     ]
    },
    {
     "name": "stdout",
     "output_type": "stream",
     "text": [
      "1743855/1743855 [==============================] - 39s 22us/sample - loss: 0.5261\n",
      "Epoch: 1\n",
      "Train on 1743855 samples\n",
      "1743855/1743855 [==============================] - 38s 22us/sample - loss: 0.4180\n"
     ]
    }
   ],
   "source": [
    "GMF_val_metrics = NCF.train_model('GMF', samples)"
   ]
  },
  {
   "cell_type": "code",
   "execution_count": 88,
   "metadata": {},
   "outputs": [
    {
     "name": "stdout",
     "output_type": "stream",
     "text": [
      "\n",
      "Fitting MLP with parameters:\n",
      "learning_rate                                               0.0005\n",
      "batch_size                                                     256\n",
      "layers                                             [16, 32, 16, 8]\n",
      "reg_layers                            [1e-05, 1e-05, 1e-05, 1e-05]\n",
      "epochs                                                           2\n",
      "sample_size                                                 348771\n",
      "num_neg                                                         10\n",
      "weights_dir      ../Logs/weights/MLP_weights_am_40k_users/MLP_w...\n",
      "optimizer                                                     Adam\n",
      "Name: 0, dtype: object\n",
      "Epoch: 0\n",
      "Train on 1743855 samples\n"
     ]
    },
    {
     "name": "stderr",
     "output_type": "stream",
     "text": [
      "/usr/local/lib/python3.6/dist-packages/tensorflow_core/python/framework/indexed_slices.py:424: UserWarning: Converting sparse IndexedSlices to a dense Tensor of unknown shape. This may consume a large amount of memory.\n",
      "  \"Converting sparse IndexedSlices to a dense Tensor of unknown shape. \"\n",
      "/usr/local/lib/python3.6/dist-packages/tensorflow_core/python/framework/indexed_slices.py:424: UserWarning: Converting sparse IndexedSlices to a dense Tensor of unknown shape. This may consume a large amount of memory.\n",
      "  \"Converting sparse IndexedSlices to a dense Tensor of unknown shape. \"\n"
     ]
    },
    {
     "name": "stdout",
     "output_type": "stream",
     "text": [
      "1743855/1743855 [==============================] - 42s 24us/sample - loss: 0.3821\n",
      "Epoch: 1\n",
      "Train on 1743855 samples\n",
      "1743855/1743855 [==============================] - 39s 22us/sample - loss: 0.3367\n"
     ]
    }
   ],
   "source": [
    "MLP_val_metrics = NCF.train_model('MLP', samples)"
   ]
  },
  {
   "cell_type": "code",
   "execution_count": 10,
   "metadata": {},
   "outputs": [],
   "source": [
    "NCF.use_pretrain_model()\n",
    "NCF.NeuMF_params['optimizer'] = 'SGD'"
   ]
  },
  {
   "cell_type": "code",
   "execution_count": 11,
   "metadata": {},
   "outputs": [
    {
     "name": "stdout",
     "output_type": "stream",
     "text": [
      "\n",
      "Fitting NeuMF with parameters:\n",
      "learning_rate                                               0.0005\n",
      "batch_size                                                     256\n",
      "layers                                             [16, 32, 16, 8]\n",
      "reg_layers                            [1e-05, 1e-05, 1e-05, 1e-05]\n",
      "reg_mf                                              [1e-06, 1e-06]\n",
      "nolf                                                             8\n",
      "epochs                                                          25\n",
      "sample_size                                                 348771\n",
      "num_neg                                                          4\n",
      "weights_dir      ../Logs/weights/NeuMF_weights_am_40k_users/Neu...\n",
      "optimizer                                                      SGD\n",
      "Name: 0, dtype: object\n",
      "Epoch: 0\n",
      "Train on 1743855 samples\n"
     ]
    },
    {
     "name": "stderr",
     "output_type": "stream",
     "text": [
      "/usr/local/lib/python3.6/dist-packages/tensorflow_core/python/framework/indexed_slices.py:424: UserWarning: Converting sparse IndexedSlices to a dense Tensor of unknown shape. This may consume a large amount of memory.\n",
      "  \"Converting sparse IndexedSlices to a dense Tensor of unknown shape. \"\n",
      "/usr/local/lib/python3.6/dist-packages/tensorflow_core/python/framework/indexed_slices.py:424: UserWarning: Converting sparse IndexedSlices to a dense Tensor of unknown shape. This may consume a large amount of memory.\n",
      "  \"Converting sparse IndexedSlices to a dense Tensor of unknown shape. \"\n"
     ]
    },
    {
     "name": "stdout",
     "output_type": "stream",
     "text": [
      "1743855/1743855 [==============================] - 56s 32us/sample - loss: 0.3280\n",
      "Epoch: 1\n",
      "Train on 1743855 samples\n",
      "1743855/1743855 [==============================] - 52s 30us/sample - loss: 0.2346\n",
      "Epoch: 2\n",
      "Train on 1743855 samples\n",
      "1743855/1743855 [==============================] - 52s 30us/sample - loss: 0.1668\n",
      "Epoch: 3\n",
      "Train on 1743855 samples\n",
      "1743855/1743855 [==============================] - 52s 30us/sample - loss: 0.1256\n",
      "Epoch: 4\n",
      "Train on 1743855 samples\n",
      "1743855/1743855 [==============================] - 52s 30us/sample - loss: 0.1031\n",
      "Epoch: 5\n",
      "Train on 1743855 samples\n",
      "1743855/1743855 [==============================] - 53s 30us/sample - loss: 0.0892\n",
      "Epoch: 6\n",
      "Train on 1743855 samples\n",
      "1743855/1743855 [==============================] - 52s 30us/sample - loss: 0.0791\n",
      "Epoch: 7\n",
      "Train on 1743855 samples\n",
      "1743855/1743855 [==============================] - 52s 30us/sample - loss: 0.0717\n",
      "Epoch: 8\n",
      "Train on 1743855 samples\n",
      "1743855/1743855 [==============================] - 52s 30us/sample - loss: 0.0661\n",
      "Epoch: 9\n",
      "Train on 1743855 samples\n",
      "1743855/1743855 [==============================] - 52s 30us/sample - loss: 0.0618\n",
      "Epoch: 10\n",
      "Train on 1743855 samples\n",
      "1743855/1743855 [==============================] - 52s 30us/sample - loss: 0.0581\n",
      "Epoch: 11\n",
      "Train on 1743855 samples\n",
      "1743855/1743855 [==============================] - 52s 30us/sample - loss: 0.0552\n",
      "Epoch: 12\n",
      "Train on 1743855 samples\n",
      "1743855/1743855 [==============================] - 52s 30us/sample - loss: 0.0528\n",
      "Epoch: 13\n",
      "Train on 1743855 samples\n",
      "1743855/1743855 [==============================] - 52s 30us/sample - loss: 0.0507\n",
      "Epoch: 14\n",
      "Train on 1743855 samples\n",
      "1743855/1743855 [==============================] - 52s 30us/sample - loss: 0.0489\n",
      "Epoch: 15\n",
      "Train on 1743855 samples\n",
      "1743855/1743855 [==============================] - 52s 30us/sample - loss: 0.0472\n",
      "Epoch: 16\n",
      "Train on 1743855 samples\n",
      "1743855/1743855 [==============================] - 52s 30us/sample - loss: 0.0456\n",
      "Epoch: 17\n",
      "Train on 1743855 samples\n",
      "1743855/1743855 [==============================] - 52s 30us/sample - loss: 0.0444\n",
      "Epoch: 18\n",
      "Train on 1743855 samples\n",
      "1743855/1743855 [==============================] - 52s 30us/sample - loss: 0.0432\n",
      "Epoch: 19\n",
      "Train on 1743855 samples\n",
      "1743855/1743855 [==============================] - 52s 30us/sample - loss: 0.0418\n",
      "Epoch: 20\n",
      "Train on 1743855 samples\n",
      "1743855/1743855 [==============================] - 52s 30us/sample - loss: 0.0408\n",
      "Epoch: 21\n",
      "Train on 1743855 samples\n",
      "1743855/1743855 [==============================] - 52s 30us/sample - loss: 0.0399\n",
      "Epoch: 22\n",
      "Train on 1743855 samples\n",
      "1743855/1743855 [==============================] - 52s 30us/sample - loss: 0.0391\n",
      "Epoch: 23\n",
      "Train on 1743855 samples\n",
      "1743855/1743855 [==============================] - 52s 30us/sample - loss: 0.0382\n",
      "Epoch: 24\n",
      "Train on 1743855 samples\n",
      "1743855/1743855 [==============================] - 52s 30us/sample - loss: 0.0372\n"
     ]
    }
   ],
   "source": [
    "NeuMF_val_metrics = NCF.train_model('NeuMF', samples)"
   ]
  },
  {
   "cell_type": "code",
   "execution_count": null,
   "metadata": {},
   "outputs": [
    {
     "name": "stderr",
     "output_type": "stream",
     "text": [
      " 94% |###################################################################     |\r"
     ]
    }
   ],
   "source": [
    "ranked_df_neumf = NCF.get_predictions('NeuMF', test_set_mf)\n",
    "neumf_metrics = get_metrics(ranked_df_neumf, stats=False)\n",
    "neumf_metrics"
   ]
  },
  {
   "cell_type": "code",
   "execution_count": null,
   "metadata": {},
   "outputs": [],
   "source": [
    "neumf_metrics.to_pickle(path + 'Results/NCF/' + file_name + '_metrics')"
   ]
  },
  {
   "cell_type": "markdown",
   "metadata": {},
   "source": [
    "---\n",
    "## Compare"
   ]
  },
  {
   "cell_type": "code",
   "execution_count": 50,
   "metadata": {},
   "outputs": [
    {
     "data": {
      "image/png": "[encoded data removed]",
      "text/plain": [
       "<Figure size 720x576 with 4 Axes>"
      ]
     },
     "metadata": {
      "needs_background": "light"
     },
     "output_type": "display_data"
    }
   ],
   "source": [
    "from visualize_results import plot_metrics\n",
    "plot_metrics([bpr_metrics, neumf_metrics, cfrnn_metrics], 'Comparison ML_1M', ['BPR', 'NeuMF', 'CFRNN'])"
   ]
  },
  {
   "cell_type": "code",
   "execution_count": null,
   "metadata": {},
   "outputs": [],
   "source": []
  }
 ],
 "metadata": {
  "kernelspec": {
   "display_name": "Python 3",
   "language": "python",
   "name": "python3"
  },
  "language_info": {
   "codemirror_mode": {
    "name": "ipython",
    "version": 3
   },
   "file_extension": ".py",
   "mimetype": "text/x-python",
   "name": "python",
   "nbconvert_exporter": "python",
   "pygments_lexer": "ipython3",
   "version": "3.6.8"
  }
 },
 "nbformat": 4,
 "nbformat_minor": 4
}
