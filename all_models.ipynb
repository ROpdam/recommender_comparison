{
 "cells": [
  {
   "cell_type": "code",
   "execution_count": 1,
   "metadata": {},
   "outputs": [],
   "source": [
    "import pandas as pd\n",
    "import numpy as np\n",
    "import tensorflow as tf\n",
    "from Evaluation import get_metrics"
   ]
  },
  {
   "cell_type": "markdown",
   "metadata": {},
   "source": [
    "---\n",
    "## Read Data"
   ]
  },
  {
   "cell_type": "code",
   "execution_count": 5,
   "metadata": {},
   "outputs": [],
   "source": [
    "# path = 'C:/Users/robin.opdam/Google Drive/Thesis (Msc)/Thesis_shared_files/'\n",
    "path = '/Users/Robin/Google Drive/Thesis (Msc)/Thesis_shared_files/'\n",
    "# path = '../'"
   ]
  },
  {
   "cell_type": "code",
   "execution_count": 21,
   "metadata": {},
   "outputs": [],
   "source": [
    "data_path = 'Data/Amazon/'\n",
    "file_name = 'am_40k_users'\n",
    "data_path = 'Data/ML/'\n",
    "file_name = 'ml_1m'"
   ]
  },
  {
   "cell_type": "code",
   "execution_count": 22,
   "metadata": {},
   "outputs": [],
   "source": [
    "df = pd.read_pickle(path + data_path + file_name)\n",
    "total_items = df.item_id.nunique()\n",
    "total_users = df.user_id.nunique()"
   ]
  },
  {
   "cell_type": "code",
   "execution_count": 23,
   "metadata": {},
   "outputs": [],
   "source": [
    "train_set = pd.read_pickle(path + data_path + file_name + '_train')\n",
    "# val_set = pd.read_pickle(path + data_path + file_name + '_val')\n",
    "test_set = pd.read_pickle(path + data_path + file_name + '_test')"
   ]
  },
  {
   "cell_type": "markdown",
   "metadata": {},
   "source": [
    "---\n",
    "# Set Params"
   ]
  },
  {
   "cell_type": "code",
   "execution_count": 27,
   "metadata": {},
   "outputs": [],
   "source": [
    "# Eval\n",
    "steps = 5\n",
    "rank_at = 20"
   ]
  },
  {
   "cell_type": "code",
   "execution_count": 24,
   "metadata": {},
   "outputs": [],
   "source": [
    "bpr_params = {\n",
    "\"nolf\": 8, #Size of latent feature vectors\n",
    "\"n_iterations\": 20, #around 20 is sufficient\n",
    "\"sample_size\": 0.5*len(train_set),\n",
    "\"seed\": 1234,\n",
    "\"alpha\": 0.08, # Learning rate: Amazon_01 best: 0.08\n",
    "\"rho\": 1.05, # Bold driver increase alpha\n",
    "\"sigma\": 0.5, # Bold driver decrease alpha\n",
    "          \n",
    "\"reg_user\": 0, #0.1, # Am_40k best: 0.1 # ML_1 best: 0\n",
    "\"reg_item\": 0, #0.1, # Am_40k best: 0.1 # ML_1 best: 0\n",
    "}"
   ]
  },
  {
   "cell_type": "code",
   "execution_count": 25,
   "metadata": {},
   "outputs": [],
   "source": [
    "cfrnn_params = {\n",
    "'train_time':0,\n",
    "'epochs':10,\n",
    "'BATCH_SIZE':32,\n",
    "'learning_rate':0.1,\n",
    "'delta':0.01,             # Diversity Bias\n",
    "'max_seq_len':30,        # Max length of sequence71=median\n",
    "'embedding_dim':100,\n",
    "'rnn_units':20,\n",
    "'ckpt_dir': '../ckpts/ckpts',\n",
    "\n",
    "'test_users': 500,\n",
    "'val_users': 500,\n",
    "\n",
    "'pad_value':total_items, # Pad with total_items+1 => masked => still use item 0\n",
    "'shift_targets_by':1     \n",
    "}"
   ]
  },
  {
   "cell_type": "markdown",
   "metadata": {},
   "source": [
    "---\n",
    "# BPR"
   ]
  },
  {
   "cell_type": "code",
   "execution_count": 26,
   "metadata": {},
   "outputs": [],
   "source": [
    "from BPR import BPR\n",
    "bpr = BPR(total_users, total_items, bpr_params)"
   ]
  },
  {
   "cell_type": "code",
   "execution_count": null,
   "metadata": {},
   "outputs": [],
   "source": [
    "samples_name = data_path + '/samples/' + file_name + '_samples'"
   ]
  },
  {
   "cell_type": "code",
   "execution_count": null,
   "metadata": {},
   "outputs": [],
   "source": [
    "%%time\n",
    "bpr.train_model(sample_path=path + samples_name + '.npy', val_set=val_set)"
   ]
  },
  {
   "cell_type": "code",
   "execution_count": null,
   "metadata": {},
   "outputs": [],
   "source": [
    "bpr.store_model(path + '/logs/' + file_name + '_log')\n",
    "bpr.plot_training()"
   ]
  },
  {
   "cell_type": "code",
   "execution_count": null,
   "metadata": {},
   "outputs": [],
   "source": [
    "ranked_df_bpr = bpr.get_predictions(test_set, stats=False)\n",
    "bpr_metrics = get_metrics(ranked_df_bpr, steps, rank_at, stats=False)\n",
    "bpr_metrics"
   ]
  },
  {
   "cell_type": "code",
   "execution_count": null,
   "metadata": {},
   "outputs": [],
   "source": [
    "bpr_metrics.to_pickle(path + 'Results/' + file_name + '_bpr_metrics')"
   ]
  },
  {
   "cell_type": "markdown",
   "metadata": {},
   "source": [
    "---\n",
    "# CFRNN"
   ]
  },
  {
   "cell_type": "code",
   "execution_count": null,
   "metadata": {},
   "outputs": [],
   "source": [
    "from CFRNN import CFRNN\n",
    "cfrnn = CFRNN(total_users, total_items, cfrnn_params)\n",
    "cfrnn.build_model(summary=False)\n",
    "cfrnn.compile_model(train_set=train_set)"
   ]
  },
  {
   "cell_type": "code",
   "execution_count": null,
   "metadata": {},
   "outputs": [],
   "source": [
    "train_dataset = cfrnn.create_seq_batch_tf_dataset(train_set, stats=False)\n",
    "val_dataset = cfrnn.create_seq_batch_tf_dataset(val_set, stats=False)"
   ]
  },
  {
   "cell_type": "code",
   "execution_count": null,
   "metadata": {},
   "outputs": [],
   "source": [
    "cfrnn.train(train_dataset, val_dataset, verbose=1)\n",
    "cfrnn.plot_training"
   ]
  },
  {
   "cell_type": "code",
   "execution_count": null,
   "metadata": {},
   "outputs": [],
   "source": [
    "ranked_df_cfrnn = cfrnn.get_predictions(test_set, test_leave_one_out, batch_size=1024, rank_at=rank_at, ckpt_dir=cfrnn_params['ckpt_dir'])\n",
    "cfrnn_metrics = get_metrics(ranked_df_cfrnn, steps, rank_at, stats=False)\n",
    "cfrnn_metrics"
   ]
  },
  {
   "cell_type": "markdown",
   "metadata": {},
   "source": [
    "---\n",
    "# NCF"
   ]
  },
  {
   "cell_type": "code",
   "execution_count": null,
   "metadata": {},
   "outputs": [],
   "source": []
  }
 ],
 "metadata": {
  "kernelspec": {
   "display_name": "Python 3",
   "language": "python",
   "name": "python3"
  },
  "language_info": {
   "codemirror_mode": {
    "name": "ipython",
    "version": 3
   },
   "file_extension": ".py",
   "mimetype": "text/x-python",
   "name": "python",
   "nbconvert_exporter": "python",
   "pygments_lexer": "ipython3",
   "version": "3.7.7"
  }
 },
 "nbformat": 4,
 "nbformat_minor": 4
}
