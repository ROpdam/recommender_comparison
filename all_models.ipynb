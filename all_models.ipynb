{
 "cells": [
  {
   "cell_type": "code",
   "execution_count": 4,
   "metadata": {},
   "outputs": [],
   "source": [
    "import pandas as pd\n",
    "import numpy as np\n",
    "import tensorflow as tf\n",
    "from Evaluation import get_metrics\n",
    "%load_ext autoreload\n",
    "%autoreload 2"
   ]
  },
  {
   "cell_type": "markdown",
   "metadata": {},
   "source": [
    "---\n",
    "## Read Data"
   ]
  },
  {
   "cell_type": "code",
   "execution_count": 5,
   "metadata": {},
   "outputs": [],
   "source": [
    "from Data_prep import leave_last_out"
   ]
  },
  {
   "cell_type": "code",
   "execution_count": 10,
   "metadata": {},
   "outputs": [],
   "source": [
    "# path = 'C:/Users/robin.opdam/Google Drive/Thesis (Msc)/Thesis_shared_files/'\n",
    "path = '/Users/Robin/Google Drive/Thesis (Msc)/Thesis_shared_files/'\n",
    "# path = '../'"
   ]
  },
  {
   "cell_type": "code",
   "execution_count": 11,
   "metadata": {},
   "outputs": [],
   "source": [
    "data_path = 'Data/Amazon/'\n",
    "file_name = 'am_20k_users'\n",
    "# file_name = 'am_like_ml'\n",
    "\n",
    "# data_path = 'Data/ML/'\n",
    "# file_name = 'ml_1m'"
   ]
  },
  {
   "cell_type": "code",
   "execution_count": 12,
   "metadata": {},
   "outputs": [],
   "source": [
    "df = pd.read_pickle(path + data_path + file_name)\n",
    "total_items = df.item_id.nunique()\n",
    "total_users = df.user_id.nunique()"
   ]
  },
  {
   "cell_type": "code",
   "execution_count": 13,
   "metadata": {},
   "outputs": [],
   "source": [
    "# CFRNN Data\n",
    "train_set_cfrnn = pd.read_pickle(path + data_path + file_name + '_train_cfrnn')\n",
    "val_set_cfrnn = pd.read_pickle(path + data_path + file_name + '_val_cfrnn')\n",
    "test_set_cfrnn = pd.read_pickle(path + data_path + file_name + '_test_cfrnn')\n",
    "\n",
    "# MF based Data\n",
    "train_set_mf = pd.read_pickle(path + data_path + file_name + '_train_mf')\n",
    "val_set_mf = pd.read_pickle(path + data_path + file_name + '_val_mf')\n",
    "test_set_mf = pd.read_pickle(path + data_path + file_name + '_test_mf')"
   ]
  },
  {
   "cell_type": "code",
   "execution_count": 14,
   "metadata": {},
   "outputs": [],
   "source": [
    "# Eval\n",
    "steps = 5\n",
    "rank_at = 20"
   ]
  },
  {
   "cell_type": "markdown",
   "metadata": {},
   "source": [
    "---\n",
    "# BPR"
   ]
  },
  {
   "cell_type": "code",
   "execution_count": 42,
   "metadata": {},
   "outputs": [],
   "source": [
    "bpr_params = {\n",
    "\"nolf\": 8, #Size of latent feature vectors\n",
    "\"n_iterations\": 40, #around 20 is sufficient\n",
    "\"sample_size\": 0.5*len(train_set_mf),\n",
    "\"seed\": 1234,\n",
    "\"alpha\": 0.08, # Learning rate: Amazon_01 best: 0.08\n",
    "\"rho\": 1.05, # Bold driver increase alpha\n",
    "\"sigma\": 0.55, # Bold driver decrease alpha\n",
    "          \n",
    "\"reg_user\": 0.1, # Am_40k best: 0.1 # ML_1 best: 0\n",
    "\"reg_item\": 0.1, # Am_40k best: 0.1 # ML_1 best: 0\n",
    "}"
   ]
  },
  {
   "cell_type": "code",
   "execution_count": 55,
   "metadata": {},
   "outputs": [],
   "source": [
    "from BPR import BPR\n",
    "bpr = BPR(total_users, total_items, bpr_params)"
   ]
  },
  {
   "cell_type": "code",
   "execution_count": 53,
   "metadata": {},
   "outputs": [],
   "source": [
    "samples_name = file_name + '_bpr_samples'"
   ]
  },
  {
   "cell_type": "code",
   "execution_count": 45,
   "metadata": {},
   "outputs": [
    {
     "name": "stdout",
     "output_type": "stream",
     "text": [
      "Creating 40 samples of length 88904\n"
     ]
    },
    {
     "name": "stderr",
     "output_type": "stream",
     "text": [
      "100% |########################################################################|\n"
     ]
    }
   ],
   "source": [
    "samples = bpr.create_samples(train_set_mf)"
   ]
  },
  {
   "cell_type": "code",
   "execution_count": 46,
   "metadata": {},
   "outputs": [],
   "source": [
    "samples = np.array(samples)\n",
    "np.save(path + data_path + 'Samples/' + samples_name, samples)"
   ]
  },
  {
   "cell_type": "code",
   "execution_count": 56,
   "metadata": {},
   "outputs": [
    {
     "name": "stdout",
     "output_type": "stream",
     "text": [
      "Training BPR on 40 samples of size 88904\n",
      "iteration: 0  loss: 0.708695  val_rec@10: 0.0\n",
      "no improvement\n",
      "iteration: 1  loss: 0.706129  val_rec@10: 0.0\n",
      "no improvement\n",
      "iteration: 2  loss: 0.703855  val_rec@10: 0.0\n",
      "best updated\n",
      "iteration: 3  loss: 0.701784  val_rec@10: 0.002\n",
      "best updated\n",
      "iteration: 4  loss: 0.699508  val_rec@10: 0.005\n",
      "best updated\n",
      "iteration: 5  loss: 0.697177  val_rec@10: 0.009\n",
      "best updated\n",
      "iteration: 6  loss: 0.694253  val_rec@10: 0.012\n",
      "best updated\n",
      "iteration: 7  loss: 0.691154  val_rec@10: 0.014\n",
      "best updated\n",
      "iteration: 8  loss: 0.687299  val_rec@10: 0.02\n",
      "best updated\n",
      "iteration: 9  loss: 0.683171  val_rec@10: 0.022\n",
      "best updated\n",
      "iteration: 10  loss: 0.678914  val_rec@10: 0.03\n",
      "best updated\n",
      "iteration: 11  loss: 0.674397  val_rec@10: 0.033\n",
      "no improvement\n",
      "iteration: 12  loss: 0.669006  val_rec@10: 0.033\n",
      "no improvement\n",
      "iteration: 13  loss: 0.663456  val_rec@10: 0.032\n",
      "best updated\n",
      "iteration: 14  loss: 0.65806  val_rec@10: 0.034\n",
      "best updated\n",
      "iteration: 15  loss: 0.653605  val_rec@10: 0.039\n",
      "no improvement\n",
      "iteration: 16  loss: 0.648848  val_rec@10: 0.039\n",
      "no improvement\n",
      "iteration: 17  loss: 0.647815  val_rec@10: 0.038\n",
      "no improvement\n",
      "iteration: 18  loss: 0.648881  val_rec@10: 0.035\n",
      "no improvement\n",
      "iteration: 19  loss: 0.648128  val_rec@10: 0.034\n",
      "no improvement\n",
      "iteration: 20  loss: 0.644925  val_rec@10: 0.034\n",
      "no improvement\n",
      "iteration: 21  loss: 0.643475  val_rec@10: 0.032\n",
      "no improvement\n",
      "iteration: 22  loss: 0.643252  val_rec@10: 0.028\n",
      "no improvement\n",
      "iteration: 23  loss: 0.643574  val_rec@10: 0.029\n",
      "no improvement\n",
      "iteration: 24  loss: 0.641768  val_rec@10: 0.032\n",
      "no improvement\n",
      "Early Stopping, no improvement for 10 iterations\n",
      "CPU times: user 4min 45s, sys: 3.38 s, total: 4min 48s\n",
      "Wall time: 3min 55s\n"
     ]
    }
   ],
   "source": [
    "%%time\n",
    "bpr.train_model(sample_path = path + data_path + 'Samples/' + samples_name + '.npy', \n",
    "                train_set=train_set_mf, \n",
    "                val_set=val_set_mf,\n",
    "                verbose=1,\n",
    "                patience=10,\n",
    "                save_best=True)"
   ]
  },
  {
   "cell_type": "code",
   "execution_count": 57,
   "metadata": {},
   "outputs": [
    {
     "name": "stdout",
     "output_type": "stream",
     "text": [
      "results added\n"
     ]
    },
    {
     "data": {
      "image/png": "[encoded data removed]",
      "text/plain": [
       "<Figure size 864x576 with 3 Axes>"
      ]
     },
     "metadata": {
      "needs_background": "light"
     },
     "output_type": "display_data"
    }
   ],
   "source": [
    "bpr.store_model(path + '/Logs/', file_name + '_bpr_log', file_name)\n",
    "bpr.plot_training()"
   ]
  },
  {
   "cell_type": "code",
   "execution_count": 17,
   "metadata": {},
   "outputs": [
    {
     "data": {
      "text/html": [
       "<div>\n",
       "<style scoped>\n",
       "    .dataframe tbody tr th:only-of-type {\n",
       "        vertical-align: middle;\n",
       "    }\n",
       "\n",
       "    .dataframe tbody tr th {\n",
       "        vertical-align: top;\n",
       "    }\n",
       "\n",
       "    .dataframe thead th {\n",
       "        text-align: right;\n",
       "    }\n",
       "</style>\n",
       "<table border=\"1\" class=\"dataframe\">\n",
       "  <thead>\n",
       "    <tr style=\"text-align: right;\">\n",
       "      <th></th>\n",
       "      <th>rank_at</th>\n",
       "      <th>hitcounts</th>\n",
       "      <th>recall</th>\n",
       "      <th>precision</th>\n",
       "      <th>ndcg</th>\n",
       "    </tr>\n",
       "  </thead>\n",
       "  <tbody>\n",
       "    <tr>\n",
       "      <th>0</th>\n",
       "      <td>1</td>\n",
       "      <td>12</td>\n",
       "      <td>0.012</td>\n",
       "      <td>0.01200</td>\n",
       "      <td>0.012000</td>\n",
       "    </tr>\n",
       "    <tr>\n",
       "      <th>1</th>\n",
       "      <td>5</td>\n",
       "      <td>66</td>\n",
       "      <td>0.066</td>\n",
       "      <td>0.01320</td>\n",
       "      <td>0.040333</td>\n",
       "    </tr>\n",
       "    <tr>\n",
       "      <th>2</th>\n",
       "      <td>10</td>\n",
       "      <td>81</td>\n",
       "      <td>0.081</td>\n",
       "      <td>0.00810</td>\n",
       "      <td>0.045131</td>\n",
       "    </tr>\n",
       "    <tr>\n",
       "      <th>3</th>\n",
       "      <td>15</td>\n",
       "      <td>87</td>\n",
       "      <td>0.087</td>\n",
       "      <td>0.00580</td>\n",
       "      <td>0.046714</td>\n",
       "    </tr>\n",
       "    <tr>\n",
       "      <th>4</th>\n",
       "      <td>20</td>\n",
       "      <td>87</td>\n",
       "      <td>0.087</td>\n",
       "      <td>0.00435</td>\n",
       "      <td>0.046714</td>\n",
       "    </tr>\n",
       "  </tbody>\n",
       "</table>\n",
       "</div>"
      ],
      "text/plain": [
       "   rank_at  hitcounts  recall  precision      ndcg\n",
       "0        1         12   0.012    0.01200  0.012000\n",
       "1        5         66   0.066    0.01320  0.040333\n",
       "2       10         81   0.081    0.00810  0.045131\n",
       "3       15         87   0.087    0.00580  0.046714\n",
       "4       20         87   0.087    0.00435  0.046714"
      ]
     },
     "execution_count": 17,
     "metadata": {},
     "output_type": "execute_result"
    }
   ],
   "source": [
    "ranked_df_bpr = bpr.get_predictions(train_set_mf, test_set_mf, stats=False)\n",
    "bpr_metrics = get_metrics(ranked_df_bpr, steps, rank_at, stats=False)\n",
    "bpr_metrics"
   ]
  },
  {
   "cell_type": "code",
   "execution_count": 58,
   "metadata": {},
   "outputs": [
    {
     "data": {
      "text/html": [
       "<div>\n",
       "<style scoped>\n",
       "    .dataframe tbody tr th:only-of-type {\n",
       "        vertical-align: middle;\n",
       "    }\n",
       "\n",
       "    .dataframe tbody tr th {\n",
       "        vertical-align: top;\n",
       "    }\n",
       "\n",
       "    .dataframe thead th {\n",
       "        text-align: right;\n",
       "    }\n",
       "</style>\n",
       "<table border=\"1\" class=\"dataframe\">\n",
       "  <thead>\n",
       "    <tr style=\"text-align: right;\">\n",
       "      <th></th>\n",
       "      <th>rank_at</th>\n",
       "      <th>hitcounts</th>\n",
       "      <th>recall</th>\n",
       "      <th>precision</th>\n",
       "      <th>ndcg</th>\n",
       "    </tr>\n",
       "  </thead>\n",
       "  <tbody>\n",
       "    <tr>\n",
       "      <th>0</th>\n",
       "      <td>1</td>\n",
       "      <td>45</td>\n",
       "      <td>0.0225</td>\n",
       "      <td>0.022500</td>\n",
       "      <td>0.022500</td>\n",
       "    </tr>\n",
       "    <tr>\n",
       "      <th>1</th>\n",
       "      <td>5</td>\n",
       "      <td>66</td>\n",
       "      <td>0.0330</td>\n",
       "      <td>0.006600</td>\n",
       "      <td>0.027843</td>\n",
       "    </tr>\n",
       "    <tr>\n",
       "      <th>2</th>\n",
       "      <td>10</td>\n",
       "      <td>76</td>\n",
       "      <td>0.0380</td>\n",
       "      <td>0.003800</td>\n",
       "      <td>0.029455</td>\n",
       "    </tr>\n",
       "    <tr>\n",
       "      <th>3</th>\n",
       "      <td>15</td>\n",
       "      <td>77</td>\n",
       "      <td>0.0385</td>\n",
       "      <td>0.002567</td>\n",
       "      <td>0.029583</td>\n",
       "    </tr>\n",
       "    <tr>\n",
       "      <th>4</th>\n",
       "      <td>20</td>\n",
       "      <td>80</td>\n",
       "      <td>0.0400</td>\n",
       "      <td>0.002000</td>\n",
       "      <td>0.029932</td>\n",
       "    </tr>\n",
       "  </tbody>\n",
       "</table>\n",
       "</div>"
      ],
      "text/plain": [
       "   rank_at  hitcounts  recall  precision      ndcg\n",
       "0        1         45  0.0225   0.022500  0.022500\n",
       "1        5         66  0.0330   0.006600  0.027843\n",
       "2       10         76  0.0380   0.003800  0.029455\n",
       "3       15         77  0.0385   0.002567  0.029583\n",
       "4       20         80  0.0400   0.002000  0.029932"
      ]
     },
     "execution_count": 58,
     "metadata": {},
     "output_type": "execute_result"
    }
   ],
   "source": [
    "ranked_df_bpr = bpr.get_predictions(train_set_mf, test_set_mf, stats=False)\n",
    "bpr_metrics = get_metrics(ranked_df_bpr, steps, rank_at, stats=False)\n",
    "bpr_metrics"
   ]
  },
  {
   "cell_type": "code",
   "execution_count": 18,
   "metadata": {},
   "outputs": [],
   "source": [
    "bpr_metrics.to_pickle(path + 'Results/BPR/' + file_name + '_metrics')"
   ]
  },
  {
   "cell_type": "markdown",
   "metadata": {},
   "source": [
    "---\n",
    "# CFRNN"
   ]
  },
  {
   "cell_type": "code",
   "execution_count": 22,
   "metadata": {},
   "outputs": [],
   "source": [
    "cfrnn_params = {\n",
    "'train_time':0,\n",
    "'epochs':100,\n",
    "'BATCH_SIZE':32,\n",
    "'learning_rate':0.1,\n",
    "'delta':0.01,             # Diversity Bias\n",
    "'max_seq_len':30,        # Max length of sequence71=median\n",
    "'embedding_dim':100,\n",
    "'rnn_units':20,\n",
    "'ckpt_dir': path + f'Logs/ckpts/cfrnn_ckpts_{file_name}/ckpts',\n",
    "\n",
    "'test_users': 500,\n",
    "'val_users': 500,\n",
    "\n",
    "'pad_value':total_items, # Pad with total_items+1 => masked => still use item 0\n",
    "'shift_targets_by':1     \n",
    "}"
   ]
  },
  {
   "cell_type": "code",
   "execution_count": 30,
   "metadata": {},
   "outputs": [
    {
     "name": "stdout",
     "output_type": "stream",
     "text": [
      "Creating Diveristy Bias\n",
      "Compiled LSTM\n"
     ]
    }
   ],
   "source": [
    "from CFRNN import CFRNN\n",
    "cfrnn = CFRNN(total_users, total_items, cfrnn_params)\n",
    "cfrnn.build_model(summary=False)\n",
    "cfrnn.compile_model(train_set=train_set_cfrnn)"
   ]
  },
  {
   "cell_type": "code",
   "execution_count": 31,
   "metadata": {},
   "outputs": [],
   "source": [
    "train_dataset = cfrnn.create_seq_batch_tf_dataset(train_set_cfrnn, stats=False)\n",
    "val_dataset = cfrnn.create_seq_batch_tf_dataset(val_set_cfrnn, stats=False)"
   ]
  },
  {
   "cell_type": "code",
   "execution_count": null,
   "metadata": {},
   "outputs": [],
   "source": [
    "cfrnn.train(train_dataset, val_dataset, verbose=1)"
   ]
  },
  {
   "cell_type": "code",
   "execution_count": 33,
   "metadata": {},
   "outputs": [
    {
     "data": {
      "image/png": "[encoded data removed]",
      "text/plain": [
       "<Figure size 432x288 with 1 Axes>"
      ]
     },
     "metadata": {
      "needs_background": "light"
     },
     "output_type": "display_data"
    },
    {
     "data": {
      "image/png": "[encoded data removed]",
      "text/plain": [
       "<Figure size 432x288 with 1 Axes>"
      ]
     },
     "metadata": {
      "needs_background": "light"
     },
     "output_type": "display_data"
    }
   ],
   "source": [
    "cfrnn.plot_training()"
   ]
  },
  {
   "cell_type": "code",
   "execution_count": 34,
   "metadata": {},
   "outputs": [
    {
     "data": {
      "text/plain": [
       "'../Logs/ckpts/cfrnn_ckpts_ml_1m/ckpts'"
      ]
     },
     "execution_count": 34,
     "metadata": {},
     "output_type": "execute_result"
    }
   ],
   "source": [
    "cfrnn_params['ckpt_dir']"
   ]
  },
  {
   "cell_type": "code",
   "execution_count": 35,
   "metadata": {},
   "outputs": [
    {
     "data": {
      "text/html": [
       "<div>\n",
       "<style scoped>\n",
       "    .dataframe tbody tr th:only-of-type {\n",
       "        vertical-align: middle;\n",
       "    }\n",
       "\n",
       "    .dataframe tbody tr th {\n",
       "        vertical-align: top;\n",
       "    }\n",
       "\n",
       "    .dataframe thead th {\n",
       "        text-align: right;\n",
       "    }\n",
       "</style>\n",
       "<table border=\"1\" class=\"dataframe\">\n",
       "  <thead>\n",
       "    <tr style=\"text-align: right;\">\n",
       "      <th></th>\n",
       "      <th>rank_at</th>\n",
       "      <th>hitcounts</th>\n",
       "      <th>recall</th>\n",
       "      <th>precision</th>\n",
       "      <th>ndcg</th>\n",
       "    </tr>\n",
       "  </thead>\n",
       "  <tbody>\n",
       "    <tr>\n",
       "      <th>0</th>\n",
       "      <td>1</td>\n",
       "      <td>4</td>\n",
       "      <td>0.004</td>\n",
       "      <td>0.004000</td>\n",
       "      <td>0.004000</td>\n",
       "    </tr>\n",
       "    <tr>\n",
       "      <th>1</th>\n",
       "      <td>5</td>\n",
       "      <td>19</td>\n",
       "      <td>0.019</td>\n",
       "      <td>0.003800</td>\n",
       "      <td>0.011119</td>\n",
       "    </tr>\n",
       "    <tr>\n",
       "      <th>2</th>\n",
       "      <td>10</td>\n",
       "      <td>43</td>\n",
       "      <td>0.043</td>\n",
       "      <td>0.004300</td>\n",
       "      <td>0.018755</td>\n",
       "    </tr>\n",
       "    <tr>\n",
       "      <th>3</th>\n",
       "      <td>15</td>\n",
       "      <td>71</td>\n",
       "      <td>0.071</td>\n",
       "      <td>0.004733</td>\n",
       "      <td>0.026086</td>\n",
       "    </tr>\n",
       "    <tr>\n",
       "      <th>4</th>\n",
       "      <td>20</td>\n",
       "      <td>92</td>\n",
       "      <td>0.092</td>\n",
       "      <td>0.004600</td>\n",
       "      <td>0.031059</td>\n",
       "    </tr>\n",
       "  </tbody>\n",
       "</table>\n",
       "</div>"
      ],
      "text/plain": [
       "   rank_at  hitcounts  recall  precision      ndcg\n",
       "0        1          4   0.004   0.004000  0.004000\n",
       "1        5         19   0.019   0.003800  0.011119\n",
       "2       10         43   0.043   0.004300  0.018755\n",
       "3       15         71   0.071   0.004733  0.026086\n",
       "4       20         92   0.092   0.004600  0.031059"
      ]
     },
     "execution_count": 35,
     "metadata": {},
     "output_type": "execute_result"
    }
   ],
   "source": [
    "test_set, left_out = leave_last_out(test_set_cfrnn, n_items=1)\n",
    "ranked_df_cfrnn = cfrnn.get_predictions(train_set_cfrnn, test_set, left_out, batch_size=500, rank_at=rank_at, ckpt_dir=cfrnn_params['ckpt_dir'])\n",
    "cfrnn_metrics = get_metrics(ranked_df_cfrnn, steps, rank_at, stats=False)\n",
    "cfrnn_metrics"
   ]
  },
  {
   "cell_type": "code",
   "execution_count": 36,
   "metadata": {},
   "outputs": [],
   "source": [
    "cfrnn_metrics.to_pickle(path + 'Results/CFRNN/' + file_name + '_metrics')"
   ]
  },
  {
   "cell_type": "markdown",
   "metadata": {},
   "source": [
    "---\n",
    "# NCF"
   ]
  },
  {
   "cell_type": "code",
   "execution_count": 23,
   "metadata": {},
   "outputs": [],
   "source": [
    "GMF_params = {\n",
    "    'learning_rate': 0.0005,\n",
    "    'batch_size': 256,\n",
    "    'nolf': 8,\n",
    "    'regs': [0.000001,0.000001],\n",
    "    'epochs': 10,\n",
    "    'sample_size': len(train_set_mf),#int(0.5*len(train_set.user_id.unique())),\n",
    "    'num_neg': 4,\n",
    "    'weights_dir': f'../Logs/weights/GMF_weights_{file_name}/GMF_weights',\n",
    "    'optimizer':'Adam'\n",
    "}\n",
    "\n",
    "MLP_params = {\n",
    "    'learning_rate': 0.0005,\n",
    "    'batch_size': 256,\n",
    "    'layers': [16,32,16,8],\n",
    "    'reg_layers': [0.00001,0.00001,0.00001,0.00001],   #ML: [+-0.0005,0,0,0],\n",
    "    'epochs': 10,\n",
    "    'sample_size': len(train_set_mf),#int(0.5*len(train_set.user_id.unique())),\n",
    "    'num_neg': 10,\n",
    "    'weights_dir': f'../Logs/weights/MLP_weights_{file_name}/MLP_weights',\n",
    "    'optimizer':'Adam'\n",
    "}\n",
    "\n",
    "NeuMF_params = {\n",
    "    'learning_rate': 0.0005,\n",
    "    'batch_size': 256,\n",
    "    'layers': [16,32,16,8],\n",
    "    'reg_layers': [0.00001,0.00001,0.00001,0.00001],#[0.0001, 0.0001, 0.0001, 0.0001],\n",
    "    'reg_mf': [0.000001,0.000001],\n",
    "    'nolf': 8,\n",
    "    'epochs': 25,\n",
    "    'sample_size': len(train_set_mf),#int(0.5*len(train_set.user_id.unique())),\n",
    "    'num_neg': 4,\n",
    "    'weights_dir': f'../Logs/weights/NeuMF_weights_{file_name}/NeuMF_weights',\n",
    "    'optimizer':'Adam'\n",
    "}"
   ]
  },
  {
   "cell_type": "code",
   "execution_count": 24,
   "metadata": {},
   "outputs": [],
   "source": [
    "from NCF import NCF\n",
    "NCF = NCF(total_users, total_items, GMF_params, MLP_params, NeuMF_params)\n",
    "NCF.build_GMF_model()\n",
    "NCF.build_MLP_model()\n",
    "NCF.build_NeuMF_model()"
   ]
  },
  {
   "cell_type": "code",
   "execution_count": 21,
   "metadata": {},
   "outputs": [
    {
     "name": "stderr",
     "output_type": "stream",
     "text": [
      "100% |########################################################################|\n"
     ]
    }
   ],
   "source": [
    "sample_path = path + data_path + 'Samples/' + file_name + '_samples_4_neg/'\n",
    "samples = NCF.load_samples(sample_path, file_name + '_sample', 25)"
   ]
  },
  {
   "cell_type": "code",
   "execution_count": 22,
   "metadata": {},
   "outputs": [
    {
     "name": "stdout",
     "output_type": "stream",
     "text": [
      "\n",
      "Fitting GMF with parameters:\n",
      "learning_rate                                               0.0005\n",
      "batch_size                                                     256\n",
      "nolf                                                             8\n",
      "regs                                                [1e-06, 1e-06]\n",
      "epochs                                                          10\n",
      "sample_size                                                 176012\n",
      "num_neg                                                          4\n",
      "weights_dir      ../Logs/weights/GMF_weights_am_like_ml/GMF_wei...\n",
      "optimizer                                                     Adam\n",
      "Name: 0, dtype: object\n",
      "Epoch: 0\n",
      "Train on 880060 samples\n"
     ]
    },
    {
     "name": "stderr",
     "output_type": "stream",
     "text": [
      "/usr/local/lib/python3.6/dist-packages/tensorflow_core/python/framework/indexed_slices.py:424: UserWarning: Converting sparse IndexedSlices to a dense Tensor of unknown shape. This may consume a large amount of memory.\n",
      "  \"Converting sparse IndexedSlices to a dense Tensor of unknown shape. \"\n",
      "/usr/local/lib/python3.6/dist-packages/tensorflow_core/python/framework/indexed_slices.py:424: UserWarning: Converting sparse IndexedSlices to a dense Tensor of unknown shape. This may consume a large amount of memory.\n",
      "  \"Converting sparse IndexedSlices to a dense Tensor of unknown shape. \"\n"
     ]
    },
    {
     "name": "stdout",
     "output_type": "stream",
     "text": [
      "880060/880060 [==============================] - 15s 17us/sample - loss: 0.5449\n",
      "Epoch: 1\n",
      "Train on 880060 samples\n",
      "880060/880060 [==============================] - 14s 16us/sample - loss: 0.3761\n",
      "Epoch: 2\n",
      "Train on 880060 samples\n",
      "880060/880060 [==============================] - 15s 16us/sample - loss: 0.2331\n",
      "Epoch: 3\n",
      "Train on 880060 samples\n",
      "880060/880060 [==============================] - 14s 16us/sample - loss: 0.1449\n",
      "Epoch: 4\n",
      "Train on 880060 samples\n",
      "880060/880060 [==============================] - 14s 16us/sample - loss: 0.1038\n",
      "Epoch: 5\n",
      "Train on 880060 samples\n",
      "880060/880060 [==============================] - 14s 16us/sample - loss: 0.0825\n",
      "Epoch: 6\n",
      "Train on 880060 samples\n",
      "880060/880060 [==============================] - 14s 16us/sample - loss: 0.0696\n",
      "Epoch: 7\n",
      "Train on 880060 samples\n",
      "880060/880060 [==============================] - 15s 17us/sample - loss: 0.0607\n",
      "Epoch: 8\n",
      "Train on 880060 samples\n",
      "880060/880060 [==============================] - 14s 16us/sample - loss: 0.0541\n",
      "Epoch: 9\n",
      "Train on 880060 samples\n",
      "880060/880060 [==============================] - 14s 16us/sample - loss: 0.0489\n"
     ]
    }
   ],
   "source": [
    "GMF_val_metrics = NCF.train_model('GMF', samples)"
   ]
  },
  {
   "cell_type": "code",
   "execution_count": 25,
   "metadata": {},
   "outputs": [
    {
     "name": "stdout",
     "output_type": "stream",
     "text": [
      "\n",
      "Fitting MLP with parameters:\n",
      "learning_rate                                               0.0005\n",
      "batch_size                                                     256\n",
      "layers                                             [16, 32, 16, 8]\n",
      "reg_layers                            [1e-05, 1e-05, 1e-05, 1e-05]\n",
      "epochs                                                          10\n",
      "sample_size                                                 176012\n",
      "num_neg                                                         10\n",
      "weights_dir      ../Logs/weights/MLP_weights_am_like_ml/MLP_wei...\n",
      "optimizer                                                     Adam\n",
      "Name: 0, dtype: object\n",
      "Epoch: 0\n",
      "Train on 880060 samples\n"
     ]
    },
    {
     "name": "stderr",
     "output_type": "stream",
     "text": [
      "/usr/local/lib/python3.6/dist-packages/tensorflow_core/python/framework/indexed_slices.py:424: UserWarning: Converting sparse IndexedSlices to a dense Tensor of unknown shape. This may consume a large amount of memory.\n",
      "  \"Converting sparse IndexedSlices to a dense Tensor of unknown shape. \"\n",
      "/usr/local/lib/python3.6/dist-packages/tensorflow_core/python/framework/indexed_slices.py:424: UserWarning: Converting sparse IndexedSlices to a dense Tensor of unknown shape. This may consume a large amount of memory.\n",
      "  \"Converting sparse IndexedSlices to a dense Tensor of unknown shape. \"\n"
     ]
    },
    {
     "name": "stdout",
     "output_type": "stream",
     "text": [
      "880060/880060 [==============================] - 17s 19us/sample - loss: 0.3631\n",
      "Epoch: 1\n",
      "Train on 880060 samples\n",
      "880060/880060 [==============================] - 15s 17us/sample - loss: 0.2922\n",
      "Epoch: 2\n",
      "Train on 880060 samples\n",
      "880060/880060 [==============================] - 15s 17us/sample - loss: 0.2802\n",
      "Epoch: 3\n",
      "Train on 880060 samples\n",
      "880060/880060 [==============================] - 15s 17us/sample - loss: 0.2617\n",
      "Epoch: 4\n",
      "Train on 880060 samples\n",
      "880060/880060 [==============================] - 15s 17us/sample - loss: 0.2223\n",
      "Epoch: 5\n",
      "Train on 880060 samples\n",
      "880060/880060 [==============================] - 15s 17us/sample - loss: 0.1792\n",
      "Epoch: 6\n",
      "Train on 880060 samples\n",
      "880060/880060 [==============================] - 15s 17us/sample - loss: 0.1460\n",
      "Epoch: 7\n",
      "Train on 880060 samples\n",
      "880060/880060 [==============================] - 15s 17us/sample - loss: 0.1222\n",
      "Epoch: 8\n",
      "Train on 880060 samples\n",
      "880060/880060 [==============================] - 15s 17us/sample - loss: 0.1055\n",
      "Epoch: 9\n",
      "Train on 880060 samples\n",
      "880060/880060 [==============================] - 15s 17us/sample - loss: 0.0931\n"
     ]
    }
   ],
   "source": [
    "MLP_val_metrics = NCF.train_model('MLP', samples)"
   ]
  },
  {
   "cell_type": "code",
   "execution_count": 26,
   "metadata": {},
   "outputs": [],
   "source": [
    "NCF.use_pretrain_model()\n",
    "NCF.NeuMF_params['optimizer'] = 'SGD'"
   ]
  },
  {
   "cell_type": "code",
   "execution_count": null,
   "metadata": {},
   "outputs": [],
   "source": [
    "NeuMF_val_metrics = NCF.train_model('NeuMF', samples, train_set=train_set_mf, val_set=val_set_mf)"
   ]
  },
  {
   "cell_type": "code",
   "execution_count": 39,
   "metadata": {},
   "outputs": [
    {
     "name": "stderr",
     "output_type": "stream",
     "text": [
      "100% |########################################################################|\n"
     ]
    },
    {
     "data": {
      "text/html": [
       "<div>\n",
       "<style scoped>\n",
       "    .dataframe tbody tr th:only-of-type {\n",
       "        vertical-align: middle;\n",
       "    }\n",
       "\n",
       "    .dataframe tbody tr th {\n",
       "        vertical-align: top;\n",
       "    }\n",
       "\n",
       "    .dataframe thead th {\n",
       "        text-align: right;\n",
       "    }\n",
       "</style>\n",
       "<table border=\"1\" class=\"dataframe\">\n",
       "  <thead>\n",
       "    <tr style=\"text-align: right;\">\n",
       "      <th></th>\n",
       "      <th>rank_at</th>\n",
       "      <th>hitcounts</th>\n",
       "      <th>recall</th>\n",
       "      <th>precision</th>\n",
       "      <th>ndcg</th>\n",
       "    </tr>\n",
       "  </thead>\n",
       "  <tbody>\n",
       "    <tr>\n",
       "      <th>0</th>\n",
       "      <td>1</td>\n",
       "      <td>0</td>\n",
       "      <td>0.0000</td>\n",
       "      <td>0.00000</td>\n",
       "      <td>0.000000</td>\n",
       "    </tr>\n",
       "    <tr>\n",
       "      <th>1</th>\n",
       "      <td>5</td>\n",
       "      <td>1</td>\n",
       "      <td>0.0005</td>\n",
       "      <td>0.00010</td>\n",
       "      <td>0.000215</td>\n",
       "    </tr>\n",
       "    <tr>\n",
       "      <th>2</th>\n",
       "      <td>10</td>\n",
       "      <td>2</td>\n",
       "      <td>0.0010</td>\n",
       "      <td>0.00010</td>\n",
       "      <td>0.000360</td>\n",
       "    </tr>\n",
       "    <tr>\n",
       "      <th>3</th>\n",
       "      <td>15</td>\n",
       "      <td>3</td>\n",
       "      <td>0.0015</td>\n",
       "      <td>0.00010</td>\n",
       "      <td>0.000499</td>\n",
       "    </tr>\n",
       "    <tr>\n",
       "      <th>4</th>\n",
       "      <td>20</td>\n",
       "      <td>6</td>\n",
       "      <td>0.0030</td>\n",
       "      <td>0.00015</td>\n",
       "      <td>0.000843</td>\n",
       "    </tr>\n",
       "  </tbody>\n",
       "</table>\n",
       "</div>"
      ],
      "text/plain": [
       "   rank_at  hitcounts  recall  precision      ndcg\n",
       "0        1          0  0.0000    0.00000  0.000000\n",
       "1        5          1  0.0005    0.00010  0.000215\n",
       "2       10          2  0.0010    0.00010  0.000360\n",
       "3       15          3  0.0015    0.00010  0.000499\n",
       "4       20          6  0.0030    0.00015  0.000843"
      ]
     },
     "execution_count": 39,
     "metadata": {},
     "output_type": "execute_result"
    }
   ],
   "source": [
    "ranked_df_neumf = NCF.get_predictions('NeuMF', train_set=train_set_mf, test_set=test_set_mf)\n",
    "neumf_metrics = get_metrics(ranked_df_neumf, stats=False)\n",
    "neumf_metrics"
   ]
  },
  {
   "cell_type": "code",
   "execution_count": 28,
   "metadata": {},
   "outputs": [
    {
     "name": "stderr",
     "output_type": "stream",
     "text": [
      "100% |########################################################################|\n"
     ]
    },
    {
     "data": {
      "text/html": [
       "<div>\n",
       "<style scoped>\n",
       "    .dataframe tbody tr th:only-of-type {\n",
       "        vertical-align: middle;\n",
       "    }\n",
       "\n",
       "    .dataframe tbody tr th {\n",
       "        vertical-align: top;\n",
       "    }\n",
       "\n",
       "    .dataframe thead th {\n",
       "        text-align: right;\n",
       "    }\n",
       "</style>\n",
       "<table border=\"1\" class=\"dataframe\">\n",
       "  <thead>\n",
       "    <tr style=\"text-align: right;\">\n",
       "      <th></th>\n",
       "      <th>rank_at</th>\n",
       "      <th>hitcounts</th>\n",
       "      <th>recall</th>\n",
       "      <th>precision</th>\n",
       "      <th>ndcg</th>\n",
       "    </tr>\n",
       "  </thead>\n",
       "  <tbody>\n",
       "    <tr>\n",
       "      <th>0</th>\n",
       "      <td>1</td>\n",
       "      <td>9</td>\n",
       "      <td>0.009</td>\n",
       "      <td>0.009000</td>\n",
       "      <td>0.009000</td>\n",
       "    </tr>\n",
       "    <tr>\n",
       "      <th>1</th>\n",
       "      <td>5</td>\n",
       "      <td>19</td>\n",
       "      <td>0.019</td>\n",
       "      <td>0.003800</td>\n",
       "      <td>0.013959</td>\n",
       "    </tr>\n",
       "    <tr>\n",
       "      <th>2</th>\n",
       "      <td>10</td>\n",
       "      <td>24</td>\n",
       "      <td>0.024</td>\n",
       "      <td>0.002400</td>\n",
       "      <td>0.015539</td>\n",
       "    </tr>\n",
       "    <tr>\n",
       "      <th>3</th>\n",
       "      <td>15</td>\n",
       "      <td>32</td>\n",
       "      <td>0.032</td>\n",
       "      <td>0.002133</td>\n",
       "      <td>0.017668</td>\n",
       "    </tr>\n",
       "    <tr>\n",
       "      <th>4</th>\n",
       "      <td>20</td>\n",
       "      <td>38</td>\n",
       "      <td>0.038</td>\n",
       "      <td>0.001900</td>\n",
       "      <td>0.019069</td>\n",
       "    </tr>\n",
       "  </tbody>\n",
       "</table>\n",
       "</div>"
      ],
      "text/plain": [
       "   rank_at  hitcounts  recall  precision      ndcg\n",
       "0        1          9   0.009   0.009000  0.009000\n",
       "1        5         19   0.019   0.003800  0.013959\n",
       "2       10         24   0.024   0.002400  0.015539\n",
       "3       15         32   0.032   0.002133  0.017668\n",
       "4       20         38   0.038   0.001900  0.019069"
      ]
     },
     "execution_count": 28,
     "metadata": {},
     "output_type": "execute_result"
    }
   ],
   "source": [
    "ranked_df_neumf = NCF.get_predictions('NeuMF', train_set=train_set_mf, test_set=test_set_mf)\n",
    "neumf_metrics = get_metrics(ranked_df_neumf, stats=False)\n",
    "neumf_metrics"
   ]
  },
  {
   "cell_type": "code",
   "execution_count": 29,
   "metadata": {},
   "outputs": [],
   "source": [
    "neumf_metrics.to_pickle(path + 'Results/NCF/' + file_name + '_metrics')"
   ]
  },
  {
   "cell_type": "markdown",
   "metadata": {},
   "source": [
    "---\n",
    "## Compare"
   ]
  },
  {
   "cell_type": "code",
   "execution_count": 52,
   "metadata": {},
   "outputs": [],
   "source": [
    "# file_name = 'ml_1m'\n",
    "file_name = 'am_20k_users'\n",
    "# file_name = 'am_like_ml'"
   ]
  },
  {
   "cell_type": "code",
   "execution_count": 53,
   "metadata": {},
   "outputs": [],
   "source": [
    "bpr_metrics = pd.read_pickle(path + 'Results/BPR/' + file_name + '_metrics')\n",
    "neumf_metrics = pd.read_pickle(path + 'Results/NCF/' + file_name + '_metrics')\n",
    "cfrnn_metrics = pd.read_pickle(path + 'Results/CFRNN/' + file_name + '_metrics')"
   ]
  },
  {
   "cell_type": "code",
   "execution_count": 54,
   "metadata": {},
   "outputs": [],
   "source": [
    "store_path = path + 'Plots/' + file_name\n",
    "plot_title = f'Comparison {file_name}'"
   ]
  },
  {
   "cell_type": "code",
   "execution_count": 55,
   "metadata": {},
   "outputs": [
    {
     "data": {
      "image/png": "[encoded data removed]",
      "text/plain": [
       "<Figure size 720x576 with 4 Axes>"
      ]
     },
     "metadata": {
      "needs_background": "light"
     },
     "output_type": "display_data"
    }
   ],
   "source": [
    "from visualize_results import plot_metrics\n",
    "plot_metrics([bpr_metrics, neumf_metrics, cfrnn_metrics], ['BPR', 'NeuMF', 'CFRNN'], store_path=store_path)"
   ]
  },
  {
   "cell_type": "code",
   "execution_count": null,
   "metadata": {},
   "outputs": [],
   "source": []
  }
 ],
 "metadata": {
  "kernelspec": {
   "display_name": "Python 3",
   "language": "python",
   "name": "python3"
  },
  "language_info": {
   "codemirror_mode": {
    "name": "ipython",
    "version": 3
   },
   "file_extension": ".py",
   "mimetype": "text/x-python",
   "name": "python",
   "nbconvert_exporter": "python",
   "pygments_lexer": "ipython3",
   "version": "3.7.7"
  }
 },
 "nbformat": 4,
 "nbformat_minor": 4
}
