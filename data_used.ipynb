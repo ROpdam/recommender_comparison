{
 "cells": [
  {
   "cell_type": "code",
   "execution_count": 1,
   "metadata": {},
   "outputs": [],
   "source": [
    "import pandas as pd\n",
    "import numpy as np\n",
    "import matplotlib.pyplot as plt\n",
    "\n",
    "pd.set_option('display.max_columns', 100)\n",
    "%load_ext autoreload\n",
    "%autoreload 2"
   ]
  },
  {
   "cell_type": "code",
   "execution_count": 2,
   "metadata": {},
   "outputs": [],
   "source": [
    "# from IPython.core.display import display, HTML\n",
    "# display(HTML(\"<style>.container { width:100% !important; }</style>\"))"
   ]
  },
  {
   "cell_type": "markdown",
   "metadata": {},
   "source": [
    "# Read Data"
   ]
  },
  {
   "cell_type": "code",
   "execution_count": 3,
   "metadata": {},
   "outputs": [],
   "source": [
    "# path = 'C:/Users/robin.opdam/Google Drive/Thesis (Msc)/Thesis_shared_files/'\n",
    "path = '/Users/Robin/Google Drive/Thesis (Msc)/Thesis_shared_files/'\n",
    "data_path = 'data/'"
   ]
  },
  {
   "cell_type": "markdown",
   "metadata": {},
   "source": [
    "# Full datasets"
   ]
  },
  {
   "cell_type": "code",
   "execution_count": 49,
   "metadata": {},
   "outputs": [],
   "source": [
    "# Amazon\n",
    "df_am = pd.read_pickle(path + data_path + 'Amazon/Amazon_full')\n",
    "# subsets\n",
    "names_am = ['Amazon_05_users', 'Amazon_01_users', 'Amazon_005_users', 'Amazon_001_users']\n",
    "\n",
    "# MovieLens\n",
    "df_ml = pd.read_pickle(path + data_path + 'ML/ML_full')\n",
    "# subsets\n",
    "names_ml = ['ML_05_users', 'ML_01_users', 'ML_005_users', 'ML_001_users']"
   ]
  },
  {
   "cell_type": "code",
   "execution_count": 50,
   "metadata": {},
   "outputs": [
    {
     "data": {
      "text/html": [
       "<div>\n",
       "<style scoped>\n",
       "    .dataframe tbody tr th:only-of-type {\n",
       "        vertical-align: middle;\n",
       "    }\n",
       "\n",
       "    .dataframe tbody tr th {\n",
       "        vertical-align: top;\n",
       "    }\n",
       "\n",
       "    .dataframe thead th {\n",
       "        text-align: right;\n",
       "    }\n",
       "</style>\n",
       "<table border=\"1\" class=\"dataframe\">\n",
       "  <thead>\n",
       "    <tr style=\"text-align: right;\">\n",
       "      <th></th>\n",
       "      <th>user</th>\n",
       "      <th>item</th>\n",
       "      <th>datetime</th>\n",
       "      <th>rating</th>\n",
       "    </tr>\n",
       "  </thead>\n",
       "  <tbody>\n",
       "    <tr>\n",
       "      <th>40273</th>\n",
       "      <td>A2X8QS4ZWXW7QP</td>\n",
       "      <td>B0000ZCE0O</td>\n",
       "      <td>2003-05-26</td>\n",
       "      <td>5.0</td>\n",
       "    </tr>\n",
       "    <tr>\n",
       "      <th>32383</th>\n",
       "      <td>ACJQVWGHRRLHJ</td>\n",
       "      <td>B0000TIKK8</td>\n",
       "      <td>2004-01-12</td>\n",
       "      <td>5.0</td>\n",
       "    </tr>\n",
       "    <tr>\n",
       "      <th>393270</th>\n",
       "      <td>A4SMAB99DG0AT</td>\n",
       "      <td>B000GAWSEU</td>\n",
       "      <td>2004-11-11</td>\n",
       "      <td>4.0</td>\n",
       "    </tr>\n",
       "    <tr>\n",
       "      <th>46906</th>\n",
       "      <td>A2PUJ083AYU5Y1</td>\n",
       "      <td>B0001KOBJ0</td>\n",
       "      <td>2004-12-20</td>\n",
       "      <td>3.0</td>\n",
       "    </tr>\n",
       "    <tr>\n",
       "      <th>46905</th>\n",
       "      <td>A31RMV81JXPB2E</td>\n",
       "      <td>B0001KOBJ0</td>\n",
       "      <td>2005-01-05</td>\n",
       "      <td>2.0</td>\n",
       "    </tr>\n",
       "  </tbody>\n",
       "</table>\n",
       "</div>"
      ],
      "text/plain": [
       "                  user        item   datetime  rating\n",
       "40273   A2X8QS4ZWXW7QP  B0000ZCE0O 2003-05-26     5.0\n",
       "32383    ACJQVWGHRRLHJ  B0000TIKK8 2004-01-12     5.0\n",
       "393270   A4SMAB99DG0AT  B000GAWSEU 2004-11-11     4.0\n",
       "46906   A2PUJ083AYU5Y1  B0001KOBJ0 2004-12-20     3.0\n",
       "46905   A31RMV81JXPB2E  B0001KOBJ0 2005-01-05     2.0"
      ]
     },
     "execution_count": 50,
     "metadata": {},
     "output_type": "execute_result"
    }
   ],
   "source": [
    "df_am.head()"
   ]
  },
  {
   "cell_type": "code",
   "execution_count": 8,
   "metadata": {},
   "outputs": [],
   "source": [
    "def get_stats(df):\n",
    "    user_ratings = df.groupby('user')['rating'].count()\n",
    "    item_ratings = df.groupby('item')['rating'].count()\n",
    "    norpu = user_ratings.mean()\n",
    "    norpi = item_ratings.mean()\n",
    "    total_users = df.user.unique().size\n",
    "    total_items = df.item.unique().size\n",
    "    sparseness = 1 - len(df) / (len(df['user'].unique()) * len(df['item'].unique()))\n",
    "    \n",
    "    print('rows ', len(df), \n",
    "          '\\n#ratings/user', round(norpu,2), \n",
    "          '\\n#ratings/item', round(norpi,2), \n",
    "          '\\naverage rating', \"{0:.2f}\".format(np.average(df['rating'])), \n",
    "          '\\n#users ', df['user'].unique().size, \n",
    "          '\\n#items ', df['item'].unique().size, \n",
    "          '\\nsparse ', round(sparseness,5))"
   ]
  },
  {
   "cell_type": "code",
   "execution_count": null,
   "metadata": {},
   "outputs": [],
   "source": [
    "def parse(path):\n",
    "  g = gzip.open(path, 'r')\n",
    "  for l in g:\n",
    "    yield json.loads(l)"
   ]
  },
  {
   "cell_type": "code",
   "execution_count": null,
   "metadata": {},
   "outputs": [],
   "source": [
    "import pandas as pd\n",
    "import gzip\n",
    "import json\n",
    "\n",
    "def parse(path):\n",
    "  g = gzip.open(path, 'rb')\n",
    "  for l in g:\n",
    "    yield json.loads(l)\n",
    "\n",
    "def getDF(path):\n",
    "  i = 0\n",
    "  df = {}\n",
    "  for d in parse(path):\n",
    "    df[i] = d\n",
    "    i += 1\n",
    "  return pd.DataFrame.from_dict(df, orient='index')\n",
    "\n",
    "df = getDF('Clothing_Shoes_and_Jewelry_5.json.gz')"
   ]
  },
  {
   "cell_type": "code",
   "execution_count": null,
   "metadata": {},
   "outputs": [],
   "source": []
  },
  {
   "cell_type": "code",
   "execution_count": null,
   "metadata": {},
   "outputs": [],
   "source": [
    "df.head()"
   ]
  },
  {
   "cell_type": "code",
   "execution_count": null,
   "metadata": {},
   "outputs": [],
   "source": [
    "get_stats(df_am)"
   ]
  },
  {
   "cell_type": "code",
   "execution_count": null,
   "metadata": {},
   "outputs": [],
   "source": [
    "get_stats(df_ml)"
   ]
  },
  {
   "cell_type": "markdown",
   "metadata": {},
   "source": [
    "# Splits\n",
    "- 0.5 * total users\n",
    "- 0.1 * total users\n",
    "- 0.05 * total users\n",
    "- 0.01 * total users"
   ]
  },
  {
   "cell_type": "code",
   "execution_count": null,
   "metadata": {},
   "outputs": [],
   "source": [
    "splits = [0.5, 0.1, 0.05, 0.01]"
   ]
  },
  {
   "cell_type": "markdown",
   "metadata": {},
   "source": [
    "## Leave users out"
   ]
  },
  {
   "cell_type": "code",
   "execution_count": null,
   "metadata": {},
   "outputs": [],
   "source": [
    "from Data_prep import leave_users_out\n",
    "def data_split(df, splits, names, store_path):\n",
    "    total_users = len(df.user.unique())\n",
    "\n",
    "    for i, split in enumerate(splits):\n",
    "        n_users = int(split * total_users)\n",
    "        print('File:', names[i], ' #Users:', n_users)\n",
    "        leftovers, new_df = leave_users_out(df, n_users)\n",
    "        new_df.to_pickle(store_path + names[i])"
   ]
  },
  {
   "cell_type": "code",
   "execution_count": null,
   "metadata": {},
   "outputs": [],
   "source": [
    "df_am['item_id'] = df_am.item.astype('category').cat.codes\n",
    "df_am['user_id'] = df_am.user.astype('category').cat.codes"
   ]
  },
  {
   "cell_type": "code",
   "execution_count": null,
   "metadata": {},
   "outputs": [],
   "source": [
    "df_ml['item_id'] = df_ml.item.astype('category').cat.codes\n",
    "df_ml['user_id'] = df_ml.user.astype('category').cat.codes"
   ]
  },
  {
   "cell_type": "markdown",
   "metadata": {},
   "source": [
    "## Splits Amazon"
   ]
  },
  {
   "cell_type": "code",
   "execution_count": null,
   "metadata": {},
   "outputs": [],
   "source": [
    "store_path = path + data_path + 'Amazon/'\n",
    "data_split(df_am, splits, names_am, store_path)"
   ]
  },
  {
   "cell_type": "markdown",
   "metadata": {},
   "source": [
    "## Splits MovieLens"
   ]
  },
  {
   "cell_type": "code",
   "execution_count": null,
   "metadata": {},
   "outputs": [],
   "source": [
    "store_path = path + data_path + 'ML/'\n",
    "data_split(df_ml, splits, names_ml, store_path)"
   ]
  },
  {
   "cell_type": "markdown",
   "metadata": {},
   "source": [
    "# Time Sorting Per User"
   ]
  },
  {
   "cell_type": "code",
   "execution_count": null,
   "metadata": {},
   "outputs": [],
   "source": [
    "def time_sort_user(names, data_path):\n",
    "    for name in names:\n",
    "        from progressbar import ProgressBar\n",
    "        pbar = ProgressBar()\n",
    "        df = pd.read_pickle(data_path + name)\n",
    "        users = df.user.unique()\n",
    "        new_df = pd.DataFrame(columns=list(df))\n",
    "        for u in pbar(users):\n",
    "            df_u = df[df['user']==u]\n",
    "            df_u = df_u.sort_values(by='datetime')\n",
    "            new_df = pd.concat([new_df, df_u])\n",
    "        new_df.to_pickle(data_path + name)    "
   ]
  },
  {
   "cell_type": "code",
   "execution_count": null,
   "metadata": {},
   "outputs": [],
   "source": [
    "path + data_path + 'Amazon/' + names_am[0]"
   ]
  },
  {
   "cell_type": "code",
   "execution_count": null,
   "metadata": {},
   "outputs": [],
   "source": [
    "# Amazon\n",
    "file_path = path + data_path + 'Amazon/'\n",
    "time_sort_user([names_am[0]], file_path)"
   ]
  },
  {
   "cell_type": "code",
   "execution_count": null,
   "metadata": {},
   "outputs": [],
   "source": [
    "names_ml[:3]"
   ]
  },
  {
   "cell_type": "code",
   "execution_count": null,
   "metadata": {},
   "outputs": [],
   "source": [
    "# MovieLens\n",
    "file_path = path + data_path + 'ML/'\n",
    "time_sort_user(names_ml[:3], file_path)"
   ]
  },
  {
   "cell_type": "markdown",
   "metadata": {},
   "source": [
    "# Exploration"
   ]
  },
  {
   "cell_type": "code",
   "execution_count": null,
   "metadata": {},
   "outputs": [],
   "source": []
  },
  {
   "cell_type": "code",
   "execution_count": 368,
   "metadata": {},
   "outputs": [],
   "source": [
    "import matplotlib.gridspec as gridspec\n",
    "import matplotlib.pylab as pl\n",
    "\n",
    "def eda_plots(df, title, size=(20,16), store_path=''):\n",
    "    \n",
    "    user_counts = df.groupby('user_id')['item_id'].count()\n",
    "    item_counts = df.groupby('item_id')['user_id'].count().sort_values(ascending=True)\n",
    "    norpu = user_counts.mean()\n",
    "    norpi = item_counts.mean()\n",
    "    total_users = df.user.unique().size\n",
    "    total_items = df.item.unique().size\n",
    "    sparseness = 1 - len(df) / (len(df['user'].unique()) * len(df['item'].unique()))\n",
    "    \n",
    "    print('rows ', len(df), \n",
    "          '\\n#ratings/user', round(norpu,2), \n",
    "          '\\n#ratings/item', round(norpi,2), \n",
    "          '\\naverage rating', \"{0:.2f}\".format(np.average(df['rating'])), \n",
    "          '\\n#users ', df['user'].unique().size, \n",
    "          '\\n#items ', df['item'].unique().size, \n",
    "          '\\nsparse ', round(sparseness,5))\n",
    "    \n",
    "    fig = plt.figure(figsize=size)\n",
    "#     fig.suptitle(title, x=0.5, y=0.95, fontsize=22)\n",
    "    gs = fig.add_gridspec(2,2, wspace=0.4, hspace=0.4)\n",
    "    \n",
    "    f_ax1 = fig.add_subplot(gs[0,0])\n",
    "    plt.hist(df.rating, bins=5)\n",
    "    plt.title('Rating Distribution')\n",
    "    plt.xlabel('Rating')\n",
    "    plt.xticks(range(1,6))\n",
    "    plt.ylabel('Count')\n",
    "    \n",
    "    f_ax2 = fig.add_subplot(gs[0,1])\n",
    "    plt.hist(df.datetime, bins = 20)\n",
    "    plt.xlabel('Time of Rating (years)')\n",
    "    plt.ylabel('Count')\n",
    "    plt.title('Time Distribution of Ratings')\n",
    "\n",
    "    f_ax3 = fig.add_subplot(gs[1,0])\n",
    "    plt.hist(item_counts, bins = 1000)\n",
    "    plt.xlim([0,50])\n",
    "    plt.title('Number of Ratings per Item')\n",
    "    plt.xlabel('Reviews per Item')\n",
    "    plt.ylabel('Count')\n",
    "    plt.xticks(range(0,50,5))\n",
    "    \n",
    "    f_ax4 = fig.add_subplot(gs[1,1])\n",
    "    plt.hist(user_counts, bins = 150)\n",
    "    plt.xlim([0,50])\n",
    "    plt.title('Number of Reviews per User')\n",
    "    plt.xlabel('Reviews per User')\n",
    "    plt.ylabel('Count')\n",
    "    plt.xticks(range(0,50,5))\n",
    "\n",
    "    if len(store_path) > 0:\n",
    "        fig.savefig(store_path, bbox_inches='tight')\n",
    "        \n",
    "    plt.show()"
   ]
  },
  {
   "cell_type": "code",
   "execution_count": 369,
   "metadata": {},
   "outputs": [],
   "source": [
    "plt.rcParams.update({'font.size':18})"
   ]
  },
  {
   "cell_type": "code",
   "execution_count": 370,
   "metadata": {},
   "outputs": [
    {
     "name": "stdout",
     "output_type": "stream",
     "text": [
      "rows  1058788 \n",
      "#ratings/user 8.72 \n",
      "#ratings/item 4.28 \n",
      "average rating 4.28 \n",
      "#users  121372 \n",
      "#items  247465 \n",
      "sparse  0.99996\n"
     ]
    },
    {
     "data": {
      "image/png": "[encoded data removed]",
      "text/plain": [
       "<Figure size 1440x1152 with 4 Axes>"
      ]
     },
     "metadata": {
      "needs_background": "light"
     },
     "output_type": "display_data"
    }
   ],
   "source": [
    "store_name = 'EDA_am_01'\n",
    "store_path = path + 'Plots/EDA/' + store_name\n",
    "title = 'Exploratory Data Analysis Amazon 10% of Users'\n",
    "eda_plots(am, title, store_path=store_path)"
   ]
  },
  {
   "cell_type": "code",
   "execution_count": 286,
   "metadata": {},
   "outputs": [
    {
     "data": {
      "text/plain": [
       "item_id\n",
       "314     8272\n",
       "351     8198\n",
       "292     7968\n",
       "585     7428\n",
       "2480    7312\n",
       "257     6884\n",
       "475     6434\n",
       "522     6120\n",
       "108     5881\n",
       "2867    5870\n",
       "581     5752\n",
       "1166    5746\n",
       "0       5709\n",
       "4887    5627\n",
       "49      5535\n",
       "1168    5472\n",
       "1179    5456\n",
       "2766    5440\n",
       "840     5261\n",
       "5840    5191\n",
       "Name: rating, dtype: int64"
      ]
     },
     "execution_count": 286,
     "metadata": {},
     "output_type": "execute_result"
    }
   ],
   "source": [
    "ml.groupby('item_id')['rating'].count().sort_values(ascending=False)[:20]"
   ]
  },
  {
   "cell_type": "code",
   "execution_count": 4,
   "metadata": {},
   "outputs": [],
   "source": []
  },
  {
   "cell_type": "code",
   "execution_count": 5,
   "metadata": {},
   "outputs": [],
   "source": []
  },
  {
   "cell_type": "code",
   "execution_count": 66,
   "metadata": {},
   "outputs": [],
   "source": [
    "am['item_id'] = am.item.astype('category').cat.codes\n",
    "am['user_id'] = am.user.astype('category').cat.codes"
   ]
  },
  {
   "cell_type": "code",
   "execution_count": 68,
   "metadata": {},
   "outputs": [],
   "source": [
    "item_counts_ml = ml.groupby('item_id')['user_id'].count().sort_values(ascending=False)\n",
    "item_counts_am = am.groupby('item_id')['user_id'].count().sort_values(ascending=False)"
   ]
  },
  {
   "cell_type": "code",
   "execution_count": 211,
   "metadata": {},
   "outputs": [
    {
     "data": {
      "image/png": "[encoded data removed]",
      "text/plain": [
       "<Figure size 432x288 with 1 Axes>"
      ]
     },
     "metadata": {
      "needs_background": "light"
     },
     "output_type": "display_data"
    }
   ],
   "source": [
    "plt.hist(item_counts_am, bins=1000)\n",
    "plt.show()"
   ]
  },
  {
   "cell_type": "code",
   "execution_count": 32,
   "metadata": {},
   "outputs": [],
   "source": [
    "from brokenaxes import brokenaxes"
   ]
  },
  {
   "cell_type": "code",
   "execution_count": 74,
   "metadata": {},
   "outputs": [
    {
     "data": {
      "text/plain": [
       "247465"
      ]
     },
     "execution_count": 74,
     "metadata": {},
     "output_type": "execute_result"
    }
   ],
   "source": [
    "len(item_counts_am)"
   ]
  },
  {
   "cell_type": "code",
   "execution_count": 202,
   "metadata": {},
   "outputs": [],
   "source": [
    "xy = np.vstack([x,y])\n",
    "z = gaussian_kde(xy)(xy)"
   ]
  },
  {
   "cell_type": "code",
   "execution_count": null,
   "metadata": {},
   "outputs": [],
   "source": [
    "x = item_counts_ml.index\n",
    "y = item_counts_ml\n",
    "fig, ax = plt.subplots(figsize=(10,8))\n",
    "\n",
    "ax.scatter(x,y, s=10)\n",
    "plt.show()"
   ]
  },
  {
   "cell_type": "code",
   "execution_count": 207,
   "metadata": {},
   "outputs": [
    {
     "data": {
      "image/png": "[encoded data removed]",
      "text/plain": [
       "<Figure size 720x576 with 1 Axes>"
      ]
     },
     "metadata": {
      "needs_background": "light"
     },
     "output_type": "display_data"
    }
   ],
   "source": [
    "x = item_counts_ml.index\n",
    "y = item_counts_ml\n",
    "fig, ax = plt.subplots(figsize=(10,8))\n",
    "\n",
    "ax.scatter(x,y, s=10)\n",
    "plt.show()"
   ]
  },
  {
   "cell_type": "markdown",
   "metadata": {},
   "source": [
    "# Create Am similar to ML"
   ]
  },
  {
   "cell_type": "code",
   "execution_count": 98,
   "metadata": {},
   "outputs": [],
   "source": [
    "am = pd.read_pickle(path + 'Data/Amazon/Amazon_01_users')\n",
    "ml =  pd.read_pickle(path + 'Data/ML/ML_01_users')"
   ]
  },
  {
   "cell_type": "code",
   "execution_count": 99,
   "metadata": {},
   "outputs": [],
   "source": [
    "longest_users = pd.DataFrame(am.groupby('user_id')['item_id'].count().sort_values(ascending=False)[:len(ml.user_id.unique())].index).set_index('user_id')"
   ]
  },
  {
   "cell_type": "code",
   "execution_count": 100,
   "metadata": {},
   "outputs": [],
   "source": [
    "am.set_index('user_id', inplace=True)\n",
    "am_like_ml = longest_users.join(am).reset_index()"
   ]
  },
  {
   "cell_type": "code",
   "execution_count": 109,
   "metadata": {},
   "outputs": [],
   "source": [
    "am_like_ml.to_pickle(path + 'Data/Amazon/am_like_ml_01')"
   ]
  },
  {
   "cell_type": "markdown",
   "metadata": {},
   "source": [
    "# Appendix"
   ]
  },
  {
   "cell_type": "markdown",
   "metadata": {},
   "source": [
    "## Old EDA with fig, axes"
   ]
  },
  {
   "cell_type": "code",
   "execution_count": null,
   "metadata": {},
   "outputs": [],
   "source": [
    "# def eda_plots(df, title, size=(10,8)):\n",
    "#     user_ratings = df.groupby('user')['rating'].count()\n",
    "#     item_ratings = df.groupby('item')['rating'].count()\n",
    "#     norpu = user_ratings.mean()\n",
    "#     norpi = item_ratings.mean()\n",
    "#     total_users = df.user.unique().size\n",
    "#     total_items = df.item.unique().size\n",
    "#     sparseness = 1 - len(df) / (len(df['user'].unique()) * len(df['item'].unique()))\n",
    "    \n",
    "#     print('rows ', len(df), \n",
    "#           '\\n#ratings/user', round(norpu,2), \n",
    "#           '\\n#ratings/item', round(norpi,2), \n",
    "#           '\\naverage rating', \"{0:.2f}\".format(np.average(df['rating'])), \n",
    "#           '\\n#users ', df['user'].unique().size, \n",
    "#           '\\n#items ', df['item'].unique().size, \n",
    "#           '\\nsparse ', round(sparseness,5))\n",
    "    \n",
    "    \n",
    "#     figure, axes = plt.subplots(nrows=2, ncols=2, figsize=size)\n",
    "#     figure.suptitle(title)\n",
    "#     figure.subplots_adjust(wspace=0.4, hspace=0.4)\n",
    "    \n",
    "#     axes[0,0].hist(df.rating, bins=5)\n",
    "#     axes[0,0].set_title('Rating Distribution')\n",
    "#     axes[0,0].set_xlabel('Rating')\n",
    "#     axes[0,0].set_xticks(range(1,6))\n",
    "#     axes[0,0].set_ylabel('Count')\n",
    "    \n",
    "#     axes[0,1].hist(df.datetime, bins = 20)\n",
    "#     axes[0,1].set_xlabel('Review time (years)')\n",
    "#     axes[0,1].set_ylabel('Count')\n",
    "#     axes[0,1].set_title('Time distribution of reviews')\n",
    "\n",
    "#     axes[1,0].hist(item_ratings, bins = 1000)\n",
    "#     axes[1,0].set_xlim([0,50])\n",
    "#     axes[1,0].set_title('Number of Reviews per Item')\n",
    "#     axes[1,0].set_xlabel('Reviews per Item')\n",
    "#     axes[1,0].set_ylabel('Count')\n",
    "#     axes[1,0].set_xticks(range(0,50,5))\n",
    "\n",
    "#     axes[1,1].hist(user_ratings, bins = 150)\n",
    "#     axes[1,1].set_xlim([0,50])\n",
    "#     axes[1,1].set_title('Number of Reviews per User')\n",
    "#     axes[1,1].set_xlabel('Reviews per User')\n",
    "#     axes[1,1].set_ylabel('Count')\n",
    "#     axes[1,1].set_xticks(range(0,50,5))\n",
    "    \n",
    "#     plt.show()"
   ]
  }
 ],
 "metadata": {
  "kernelspec": {
   "display_name": "Python 3",
   "language": "python",
   "name": "python3"
  },
  "language_info": {
   "codemirror_mode": {
    "name": "ipython",
    "version": 3
   },
   "file_extension": ".py",
   "mimetype": "text/x-python",
   "name": "python",
   "nbconvert_exporter": "python",
   "pygments_lexer": "ipython3",
   "version": "3.7.6"
  },
  "toc": {
   "base_numbering": 1,
   "nav_menu": {},
   "number_sections": true,
   "sideBar": true,
   "skip_h1_title": false,
   "title_cell": "Table of Contents",
   "title_sidebar": "Contents",
   "toc_cell": false,
   "toc_position": {
    "height": "375.742px",
    "left": "1048.75px",
    "top": "110.57px",
    "width": "200.295px"
   },
   "toc_section_display": true,
   "toc_window_display": false
  }
 },
 "nbformat": 4,
 "nbformat_minor": 2
}
