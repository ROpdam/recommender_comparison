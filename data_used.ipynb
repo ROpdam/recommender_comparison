{
 "cells": [
  {
   "cell_type": "code",
   "execution_count": 1,
   "metadata": {},
   "outputs": [],
   "source": [
    "import pandas as pd\n",
    "import numpy as np\n",
    "import matplotlib.pyplot as plt\n",
    "\n",
    "pd.set_option('display.max_columns', 100)"
   ]
  },
  {
   "cell_type": "code",
   "execution_count": 2,
   "metadata": {},
   "outputs": [],
   "source": [
    "# from IPython.core.display import display, HTML\n",
    "# display(HTML(\"<style>.container { width:100% !important; }</style>\"))"
   ]
  },
  {
   "cell_type": "markdown",
   "metadata": {},
   "source": [
    "# Read Data"
   ]
  },
  {
   "cell_type": "code",
   "execution_count": 3,
   "metadata": {},
   "outputs": [],
   "source": [
    "path = 'C:/Users/robin.opdam/Google Drive/Thesis (Msc)/Thesis_shared_files/'\n",
    "# path = '/Users/Robin/Google Drive/Thesis (Msc)/Thesis_shared_files/'\n",
    "data_path = 'data/'"
   ]
  },
  {
   "cell_type": "markdown",
   "metadata": {},
   "source": [
    "# Full datasets"
   ]
  },
  {
   "cell_type": "code",
   "execution_count": 4,
   "metadata": {},
   "outputs": [],
   "source": [
    "# Amazon\n",
    "df_am = pd.read_pickle(path + data_path + 'Amazon/Amazon_full')\n",
    "# subsets\n",
    "names_am = ['Amazon_05_users', 'Amazon_01_users', 'Amazon_005_users', 'Amazon_001_users']\n",
    "\n",
    "# MovieLens\n",
    "df_ml = pd.read_pickle(path + data_path + 'ML/ML_full')\n",
    "# subsets\n",
    "names_ml = ['ML_05_users', 'ML_01_users', 'ML_005_users', 'ML_001_users']"
   ]
  },
  {
   "cell_type": "markdown",
   "metadata": {},
   "source": [
    "# Splits\n",
    "- 0.5 * total users\n",
    "- 0.1 * total users\n",
    "- 0.05 * total users\n",
    "- 0.01 * total users"
   ]
  },
  {
   "cell_type": "code",
   "execution_count": 5,
   "metadata": {},
   "outputs": [],
   "source": [
    "splits = [0.5, 0.1, 0.05, 0.01]"
   ]
  },
  {
   "cell_type": "markdown",
   "metadata": {},
   "source": [
    "## Leave users out"
   ]
  },
  {
   "cell_type": "code",
   "execution_count": 6,
   "metadata": {},
   "outputs": [],
   "source": [
    "def leave_users_out(full_data, leave_out):\n",
    "    full_data['index'] = full_data.index\n",
    "    user_index_df = full_data.groupby('user_id')['index'].apply(list)\n",
    "    users = np.random.choice(list(user_index_df.index), leave_out, replace=False)\n",
    "    users_indices = []\n",
    "    \n",
    "    for user in users:\n",
    "        users_indices.extend(user_index_df.loc[user])\n",
    "    \n",
    "    sub_set = full_data.loc[users_indices]\n",
    "    remaining = full_data.drop(users_indices)\n",
    "    \n",
    "    return remaining.drop(columns=['index']), sub_set.drop(columns=['index'])"
   ]
  },
  {
   "cell_type": "code",
   "execution_count": 7,
   "metadata": {},
   "outputs": [],
   "source": [
    "def data_split(df, splits, names, store_path):\n",
    "    total_users = len(df.user.unique())\n",
    "\n",
    "    for i, split in enumerate(splits):\n",
    "        n_users = int(split * total_users)\n",
    "        print('File:', names[i], ' #Users:', n_users)\n",
    "        leftovers, new_df = leave_users_out(df, n_users)\n",
    "        new_df.to_pickle(store_path + names[i])"
   ]
  },
  {
   "cell_type": "code",
   "execution_count": 8,
   "metadata": {},
   "outputs": [],
   "source": [
    "df_am['item_id'] = df_am.item.astype('category').cat.codes\n",
    "df_am['user_id'] = df_am.user.astype('category').cat.codes"
   ]
  },
  {
   "cell_type": "code",
   "execution_count": 9,
   "metadata": {},
   "outputs": [],
   "source": [
    "df_ml['item_id'] = df_ml.item.astype('category').cat.codes\n",
    "df_ml['user_id'] = df_ml.user.astype('category').cat.codes"
   ]
  },
  {
   "cell_type": "markdown",
   "metadata": {},
   "source": [
    "## Splits Amazon"
   ]
  },
  {
   "cell_type": "code",
   "execution_count": 85,
   "metadata": {},
   "outputs": [
    {
     "name": "stdout",
     "output_type": "stream",
     "text": [
      "File: Amazon_05_users Users: 606864\n",
      "File: Amazon_01_users Users: 121372\n",
      "File: Amazon_005_users Users: 60686\n",
      "File: Amazon_001_users Users: 12137\n"
     ]
    }
   ],
   "source": [
    "store_path = path + data_path + 'Amazon/'\n",
    "data_split(df_am, splits, names_am, store_path)"
   ]
  },
  {
   "cell_type": "markdown",
   "metadata": {},
   "source": [
    "## Splits MovieLens"
   ]
  },
  {
   "cell_type": "code",
   "execution_count": 89,
   "metadata": {},
   "outputs": [
    {
     "name": "stdout",
     "output_type": "stream",
     "text": [
      "File: ML_05_users  #Users: 81270\n",
      "File: ML_01_users  #Users: 16254\n",
      "File: ML_005_users  #Users: 8127\n",
      "File: ML_001_users  #Users: 1625\n"
     ]
    }
   ],
   "source": [
    "store_path = path + data_path + 'ML/'\n",
    "data_split(df_ml, splits, names_ml, store_path)"
   ]
  },
  {
   "cell_type": "markdown",
   "metadata": {},
   "source": [
    "# Time Sorting Per User"
   ]
  },
  {
   "cell_type": "code",
   "execution_count": 65,
   "metadata": {},
   "outputs": [],
   "source": []
  },
  {
   "cell_type": "code",
   "execution_count": 10,
   "metadata": {},
   "outputs": [],
   "source": [
    "def time_sort_user(names, data_path):\n",
    "    for name in names:\n",
    "        from progressbar import ProgressBar\n",
    "        pbar = ProgressBar()\n",
    "        df = pd.read_pickle(data_path + name)\n",
    "        users = df.user.unique()\n",
    "        new_df = pd.DataFrame(columns=list(df))\n",
    "        for u in pbar(users):\n",
    "            df_u = df[df['user']==u]\n",
    "            df_u = df_u.sort_values(by='datetime')\n",
    "            new_df = pd.concat([new_df, df_u])\n",
    "        new_df.to_pickle(data_path + name)    "
   ]
  },
  {
   "cell_type": "code",
   "execution_count": 15,
   "metadata": {},
   "outputs": [
    {
     "data": {
      "text/plain": [
       "'C:/Users/robin.opdam/Google Drive/Thesis (Msc)/Thesis_shared_files/data/Amazon/Amazon_05_users'"
      ]
     },
     "execution_count": 15,
     "metadata": {},
     "output_type": "execute_result"
    }
   ],
   "source": [
    "path + data_path + 'Amazon/' + names_am[0]"
   ]
  },
  {
   "cell_type": "code",
   "execution_count": null,
   "metadata": {},
   "outputs": [
    {
     "name": "stderr",
     "output_type": "stream",
     "text": [
      " 58% |#########################################                               |\r"
     ]
    }
   ],
   "source": [
    "# Amazon\n",
    "file_path = path + data_path + 'Amazon/'\n",
    "time_sort_user([names_am[0]], file_path)"
   ]
  },
  {
   "cell_type": "code",
   "execution_count": 42,
   "metadata": {},
   "outputs": [
    {
     "data": {
      "text/plain": [
       "['ML_05_users', 'ML_01_users', 'ML_005_users']"
      ]
     },
     "execution_count": 42,
     "metadata": {},
     "output_type": "execute_result"
    }
   ],
   "source": [
    "names_ml[:3]"
   ]
  },
  {
   "cell_type": "code",
   "execution_count": null,
   "metadata": {},
   "outputs": [],
   "source": [
    "# MovieLens\n",
    "file_path = path + data_path + 'ML/'\n",
    "time_sort_user(names_ml[:3], file_path)"
   ]
  },
  {
   "cell_type": "markdown",
   "metadata": {},
   "source": [
    "# Exploration"
   ]
  },
  {
   "cell_type": "code",
   "execution_count": 11,
   "metadata": {},
   "outputs": [],
   "source": [
    "df['user_rating_counts'] = df.groupby('user')['rating'].transform('count')\n",
    "user_ratings = df.groupby('user')['rating'].count()\n",
    "item_ratings = df.groupby('item')['rating'].count()\n",
    "norpu = user_ratings.mean()\n",
    "norpi = item_ratings.mean()\n",
    "total_users = df.user.unique().size\n",
    "total_items = df.item.unique().size\n",
    "sparseness = 1 - len(df) / (len(df['user'].unique()) * len(df['item'].unique()))"
   ]
  },
  {
   "cell_type": "code",
   "execution_count": 13,
   "metadata": {},
   "outputs": [
    {
     "name": "stdout",
     "output_type": "stream",
     "text": [
      "rows  105644 \n",
      "#ratings 105644 \n",
      "#ratings/user 8.7 \n",
      "#ratings/item 1.71 \n",
      "average rating 4.28 \n",
      "#users  12137 \n",
      "#items  61616 \n",
      "sparse  0.99986 %\n"
     ]
    },
    {
     "ename": "FileNotFoundError",
     "evalue": "[Errno 2] No such file or directory: 'Plots/Deliverables/rating_dist_ml.png'",
     "output_type": "error",
     "traceback": [
      "\u001b[0;31m---------------------------------------------------------------------------\u001b[0m",
      "\u001b[0;31mFileNotFoundError\u001b[0m                         Traceback (most recent call last)",
      "\u001b[0;32m<ipython-input-13-37ff5d13cb47>\u001b[0m in \u001b[0;36m<module>\u001b[0;34m\u001b[0m\n\u001b[1;32m      5\u001b[0m \u001b[0mplt\u001b[0m\u001b[0;34m.\u001b[0m\u001b[0mxlabel\u001b[0m\u001b[0;34m(\u001b[0m\u001b[0;34m'Rating'\u001b[0m\u001b[0;34m)\u001b[0m\u001b[0;34m\u001b[0m\u001b[0;34m\u001b[0m\u001b[0m\n\u001b[1;32m      6\u001b[0m \u001b[0mplt\u001b[0m\u001b[0;34m.\u001b[0m\u001b[0mxticks\u001b[0m\u001b[0;34m(\u001b[0m\u001b[0mrange\u001b[0m\u001b[0;34m(\u001b[0m\u001b[0;36m1\u001b[0m\u001b[0;34m,\u001b[0m\u001b[0;36m6\u001b[0m\u001b[0;34m)\u001b[0m\u001b[0;34m)\u001b[0m\u001b[0;34m\u001b[0m\u001b[0;34m\u001b[0m\u001b[0m\n\u001b[0;32m----> 7\u001b[0;31m \u001b[0mplt\u001b[0m\u001b[0;34m.\u001b[0m\u001b[0msavefig\u001b[0m\u001b[0;34m(\u001b[0m\u001b[0;34m'Plots/Deliverables/rating_dist_ml'\u001b[0m\u001b[0;34m)\u001b[0m\u001b[0;34m\u001b[0m\u001b[0;34m\u001b[0m\u001b[0m\n\u001b[0m\u001b[1;32m      8\u001b[0m \u001b[0mplt\u001b[0m\u001b[0;34m.\u001b[0m\u001b[0mshow\u001b[0m\u001b[0;34m(\u001b[0m\u001b[0;34m)\u001b[0m\u001b[0;34m\u001b[0m\u001b[0;34m\u001b[0m\u001b[0m\n\u001b[1;32m      9\u001b[0m \u001b[0;34m\u001b[0m\u001b[0m\n",
      "\u001b[0;32m/opt/anaconda3/envs/re_research_m/lib/python3.7/site-packages/matplotlib/pyplot.py\u001b[0m in \u001b[0;36msavefig\u001b[0;34m(*args, **kwargs)\u001b[0m\n\u001b[1;32m    727\u001b[0m \u001b[0;32mdef\u001b[0m \u001b[0msavefig\u001b[0m\u001b[0;34m(\u001b[0m\u001b[0;34m*\u001b[0m\u001b[0margs\u001b[0m\u001b[0;34m,\u001b[0m \u001b[0;34m**\u001b[0m\u001b[0mkwargs\u001b[0m\u001b[0;34m)\u001b[0m\u001b[0;34m:\u001b[0m\u001b[0;34m\u001b[0m\u001b[0;34m\u001b[0m\u001b[0m\n\u001b[1;32m    728\u001b[0m     \u001b[0mfig\u001b[0m \u001b[0;34m=\u001b[0m \u001b[0mgcf\u001b[0m\u001b[0;34m(\u001b[0m\u001b[0;34m)\u001b[0m\u001b[0;34m\u001b[0m\u001b[0;34m\u001b[0m\u001b[0m\n\u001b[0;32m--> 729\u001b[0;31m     \u001b[0mres\u001b[0m \u001b[0;34m=\u001b[0m \u001b[0mfig\u001b[0m\u001b[0;34m.\u001b[0m\u001b[0msavefig\u001b[0m\u001b[0;34m(\u001b[0m\u001b[0;34m*\u001b[0m\u001b[0margs\u001b[0m\u001b[0;34m,\u001b[0m \u001b[0;34m**\u001b[0m\u001b[0mkwargs\u001b[0m\u001b[0;34m)\u001b[0m\u001b[0;34m\u001b[0m\u001b[0;34m\u001b[0m\u001b[0m\n\u001b[0m\u001b[1;32m    730\u001b[0m     \u001b[0mfig\u001b[0m\u001b[0;34m.\u001b[0m\u001b[0mcanvas\u001b[0m\u001b[0;34m.\u001b[0m\u001b[0mdraw_idle\u001b[0m\u001b[0;34m(\u001b[0m\u001b[0;34m)\u001b[0m   \u001b[0;31m# need this if 'transparent=True' to reset colors\u001b[0m\u001b[0;34m\u001b[0m\u001b[0;34m\u001b[0m\u001b[0m\n\u001b[1;32m    731\u001b[0m     \u001b[0;32mreturn\u001b[0m \u001b[0mres\u001b[0m\u001b[0;34m\u001b[0m\u001b[0;34m\u001b[0m\u001b[0m\n",
      "\u001b[0;32m/opt/anaconda3/envs/re_research_m/lib/python3.7/site-packages/matplotlib/figure.py\u001b[0m in \u001b[0;36msavefig\u001b[0;34m(self, fname, transparent, **kwargs)\u001b[0m\n\u001b[1;32m   2178\u001b[0m             \u001b[0mself\u001b[0m\u001b[0;34m.\u001b[0m\u001b[0mpatch\u001b[0m\u001b[0;34m.\u001b[0m\u001b[0mset_visible\u001b[0m\u001b[0;34m(\u001b[0m\u001b[0mframeon\u001b[0m\u001b[0;34m)\u001b[0m\u001b[0;34m\u001b[0m\u001b[0;34m\u001b[0m\u001b[0m\n\u001b[1;32m   2179\u001b[0m \u001b[0;34m\u001b[0m\u001b[0m\n\u001b[0;32m-> 2180\u001b[0;31m         \u001b[0mself\u001b[0m\u001b[0;34m.\u001b[0m\u001b[0mcanvas\u001b[0m\u001b[0;34m.\u001b[0m\u001b[0mprint_figure\u001b[0m\u001b[0;34m(\u001b[0m\u001b[0mfname\u001b[0m\u001b[0;34m,\u001b[0m \u001b[0;34m**\u001b[0m\u001b[0mkwargs\u001b[0m\u001b[0;34m)\u001b[0m\u001b[0;34m\u001b[0m\u001b[0;34m\u001b[0m\u001b[0m\n\u001b[0m\u001b[1;32m   2181\u001b[0m \u001b[0;34m\u001b[0m\u001b[0m\n\u001b[1;32m   2182\u001b[0m         \u001b[0;32mif\u001b[0m \u001b[0mframeon\u001b[0m\u001b[0;34m:\u001b[0m\u001b[0;34m\u001b[0m\u001b[0;34m\u001b[0m\u001b[0m\n",
      "\u001b[0;32m/opt/anaconda3/envs/re_research_m/lib/python3.7/site-packages/matplotlib/backend_bases.py\u001b[0m in \u001b[0;36mprint_figure\u001b[0;34m(self, filename, dpi, facecolor, edgecolor, orientation, format, bbox_inches, **kwargs)\u001b[0m\n\u001b[1;32m   2089\u001b[0m                     \u001b[0morientation\u001b[0m\u001b[0;34m=\u001b[0m\u001b[0morientation\u001b[0m\u001b[0;34m,\u001b[0m\u001b[0;34m\u001b[0m\u001b[0;34m\u001b[0m\u001b[0m\n\u001b[1;32m   2090\u001b[0m                     \u001b[0mbbox_inches_restore\u001b[0m\u001b[0;34m=\u001b[0m\u001b[0m_bbox_inches_restore\u001b[0m\u001b[0;34m,\u001b[0m\u001b[0;34m\u001b[0m\u001b[0;34m\u001b[0m\u001b[0m\n\u001b[0;32m-> 2091\u001b[0;31m                     **kwargs)\n\u001b[0m\u001b[1;32m   2092\u001b[0m             \u001b[0;32mfinally\u001b[0m\u001b[0;34m:\u001b[0m\u001b[0;34m\u001b[0m\u001b[0;34m\u001b[0m\u001b[0m\n\u001b[1;32m   2093\u001b[0m                 \u001b[0;32mif\u001b[0m \u001b[0mbbox_inches\u001b[0m \u001b[0;32mand\u001b[0m \u001b[0mrestore_bbox\u001b[0m\u001b[0;34m:\u001b[0m\u001b[0;34m\u001b[0m\u001b[0;34m\u001b[0m\u001b[0m\n",
      "\u001b[0;32m/opt/anaconda3/envs/re_research_m/lib/python3.7/site-packages/matplotlib/backends/backend_agg.py\u001b[0m in \u001b[0;36mprint_png\u001b[0;34m(self, filename_or_obj, metadata, pil_kwargs, *args, **kwargs)\u001b[0m\n\u001b[1;32m    528\u001b[0m             \u001b[0mrenderer\u001b[0m \u001b[0;34m=\u001b[0m \u001b[0mself\u001b[0m\u001b[0;34m.\u001b[0m\u001b[0mget_renderer\u001b[0m\u001b[0;34m(\u001b[0m\u001b[0;34m)\u001b[0m\u001b[0;34m\u001b[0m\u001b[0;34m\u001b[0m\u001b[0m\n\u001b[1;32m    529\u001b[0m             \u001b[0;32mwith\u001b[0m \u001b[0mcbook\u001b[0m\u001b[0;34m.\u001b[0m\u001b[0m_setattr_cm\u001b[0m\u001b[0;34m(\u001b[0m\u001b[0mrenderer\u001b[0m\u001b[0;34m,\u001b[0m \u001b[0mdpi\u001b[0m\u001b[0;34m=\u001b[0m\u001b[0mself\u001b[0m\u001b[0;34m.\u001b[0m\u001b[0mfigure\u001b[0m\u001b[0;34m.\u001b[0m\u001b[0mdpi\u001b[0m\u001b[0;34m)\u001b[0m\u001b[0;34m,\u001b[0m\u001b[0;31m \u001b[0m\u001b[0;31m\\\u001b[0m\u001b[0;34m\u001b[0m\u001b[0;34m\u001b[0m\u001b[0m\n\u001b[0;32m--> 530\u001b[0;31m                     \u001b[0mcbook\u001b[0m\u001b[0;34m.\u001b[0m\u001b[0mopen_file_cm\u001b[0m\u001b[0;34m(\u001b[0m\u001b[0mfilename_or_obj\u001b[0m\u001b[0;34m,\u001b[0m \u001b[0;34m\"wb\"\u001b[0m\u001b[0;34m)\u001b[0m \u001b[0;32mas\u001b[0m \u001b[0mfh\u001b[0m\u001b[0;34m:\u001b[0m\u001b[0;34m\u001b[0m\u001b[0;34m\u001b[0m\u001b[0m\n\u001b[0m\u001b[1;32m    531\u001b[0m                 _png.write_png(renderer._renderer, fh,\n\u001b[1;32m    532\u001b[0m                                self.figure.dpi, metadata=metadata)\n",
      "\u001b[0;32m/opt/anaconda3/envs/re_research_m/lib/python3.7/contextlib.py\u001b[0m in \u001b[0;36m__enter__\u001b[0;34m(self)\u001b[0m\n\u001b[1;32m    110\u001b[0m         \u001b[0;32mdel\u001b[0m \u001b[0mself\u001b[0m\u001b[0;34m.\u001b[0m\u001b[0margs\u001b[0m\u001b[0;34m,\u001b[0m \u001b[0mself\u001b[0m\u001b[0;34m.\u001b[0m\u001b[0mkwds\u001b[0m\u001b[0;34m,\u001b[0m \u001b[0mself\u001b[0m\u001b[0;34m.\u001b[0m\u001b[0mfunc\u001b[0m\u001b[0;34m\u001b[0m\u001b[0;34m\u001b[0m\u001b[0m\n\u001b[1;32m    111\u001b[0m         \u001b[0;32mtry\u001b[0m\u001b[0;34m:\u001b[0m\u001b[0;34m\u001b[0m\u001b[0;34m\u001b[0m\u001b[0m\n\u001b[0;32m--> 112\u001b[0;31m             \u001b[0;32mreturn\u001b[0m \u001b[0mnext\u001b[0m\u001b[0;34m(\u001b[0m\u001b[0mself\u001b[0m\u001b[0;34m.\u001b[0m\u001b[0mgen\u001b[0m\u001b[0;34m)\u001b[0m\u001b[0;34m\u001b[0m\u001b[0;34m\u001b[0m\u001b[0m\n\u001b[0m\u001b[1;32m    113\u001b[0m         \u001b[0;32mexcept\u001b[0m \u001b[0mStopIteration\u001b[0m\u001b[0;34m:\u001b[0m\u001b[0;34m\u001b[0m\u001b[0;34m\u001b[0m\u001b[0m\n\u001b[1;32m    114\u001b[0m             \u001b[0;32mraise\u001b[0m \u001b[0mRuntimeError\u001b[0m\u001b[0;34m(\u001b[0m\u001b[0;34m\"generator didn't yield\"\u001b[0m\u001b[0;34m)\u001b[0m \u001b[0;32mfrom\u001b[0m \u001b[0;32mNone\u001b[0m\u001b[0;34m\u001b[0m\u001b[0;34m\u001b[0m\u001b[0m\n",
      "\u001b[0;32m/opt/anaconda3/envs/re_research_m/lib/python3.7/site-packages/matplotlib/cbook/__init__.py\u001b[0m in \u001b[0;36mopen_file_cm\u001b[0;34m(path_or_file, mode, encoding)\u001b[0m\n\u001b[1;32m    445\u001b[0m \u001b[0;32mdef\u001b[0m \u001b[0mopen_file_cm\u001b[0m\u001b[0;34m(\u001b[0m\u001b[0mpath_or_file\u001b[0m\u001b[0;34m,\u001b[0m \u001b[0mmode\u001b[0m\u001b[0;34m=\u001b[0m\u001b[0;34m\"r\"\u001b[0m\u001b[0;34m,\u001b[0m \u001b[0mencoding\u001b[0m\u001b[0;34m=\u001b[0m\u001b[0;32mNone\u001b[0m\u001b[0;34m)\u001b[0m\u001b[0;34m:\u001b[0m\u001b[0;34m\u001b[0m\u001b[0;34m\u001b[0m\u001b[0m\n\u001b[1;32m    446\u001b[0m     \u001b[0;34mr\"\"\"Pass through file objects and context-manage `.PathLike`\\s.\"\"\"\u001b[0m\u001b[0;34m\u001b[0m\u001b[0;34m\u001b[0m\u001b[0m\n\u001b[0;32m--> 447\u001b[0;31m     \u001b[0mfh\u001b[0m\u001b[0;34m,\u001b[0m \u001b[0mopened\u001b[0m \u001b[0;34m=\u001b[0m \u001b[0mto_filehandle\u001b[0m\u001b[0;34m(\u001b[0m\u001b[0mpath_or_file\u001b[0m\u001b[0;34m,\u001b[0m \u001b[0mmode\u001b[0m\u001b[0;34m,\u001b[0m \u001b[0;32mTrue\u001b[0m\u001b[0;34m,\u001b[0m \u001b[0mencoding\u001b[0m\u001b[0;34m)\u001b[0m\u001b[0;34m\u001b[0m\u001b[0;34m\u001b[0m\u001b[0m\n\u001b[0m\u001b[1;32m    448\u001b[0m     \u001b[0;32mif\u001b[0m \u001b[0mopened\u001b[0m\u001b[0;34m:\u001b[0m\u001b[0;34m\u001b[0m\u001b[0;34m\u001b[0m\u001b[0m\n\u001b[1;32m    449\u001b[0m         \u001b[0;32mwith\u001b[0m \u001b[0mfh\u001b[0m\u001b[0;34m:\u001b[0m\u001b[0;34m\u001b[0m\u001b[0;34m\u001b[0m\u001b[0m\n",
      "\u001b[0;32m/opt/anaconda3/envs/re_research_m/lib/python3.7/site-packages/matplotlib/cbook/__init__.py\u001b[0m in \u001b[0;36mto_filehandle\u001b[0;34m(fname, flag, return_opened, encoding)\u001b[0m\n\u001b[1;32m    430\u001b[0m             \u001b[0mfh\u001b[0m \u001b[0;34m=\u001b[0m \u001b[0mbz2\u001b[0m\u001b[0;34m.\u001b[0m\u001b[0mBZ2File\u001b[0m\u001b[0;34m(\u001b[0m\u001b[0mfname\u001b[0m\u001b[0;34m,\u001b[0m \u001b[0mflag\u001b[0m\u001b[0;34m)\u001b[0m\u001b[0;34m\u001b[0m\u001b[0;34m\u001b[0m\u001b[0m\n\u001b[1;32m    431\u001b[0m         \u001b[0;32melse\u001b[0m\u001b[0;34m:\u001b[0m\u001b[0;34m\u001b[0m\u001b[0;34m\u001b[0m\u001b[0m\n\u001b[0;32m--> 432\u001b[0;31m             \u001b[0mfh\u001b[0m \u001b[0;34m=\u001b[0m \u001b[0mopen\u001b[0m\u001b[0;34m(\u001b[0m\u001b[0mfname\u001b[0m\u001b[0;34m,\u001b[0m \u001b[0mflag\u001b[0m\u001b[0;34m,\u001b[0m \u001b[0mencoding\u001b[0m\u001b[0;34m=\u001b[0m\u001b[0mencoding\u001b[0m\u001b[0;34m)\u001b[0m\u001b[0;34m\u001b[0m\u001b[0;34m\u001b[0m\u001b[0m\n\u001b[0m\u001b[1;32m    433\u001b[0m         \u001b[0mopened\u001b[0m \u001b[0;34m=\u001b[0m \u001b[0;32mTrue\u001b[0m\u001b[0;34m\u001b[0m\u001b[0;34m\u001b[0m\u001b[0m\n\u001b[1;32m    434\u001b[0m     \u001b[0;32melif\u001b[0m \u001b[0mhasattr\u001b[0m\u001b[0;34m(\u001b[0m\u001b[0mfname\u001b[0m\u001b[0;34m,\u001b[0m \u001b[0;34m'seek'\u001b[0m\u001b[0;34m)\u001b[0m\u001b[0;34m:\u001b[0m\u001b[0;34m\u001b[0m\u001b[0;34m\u001b[0m\u001b[0m\n",
      "\u001b[0;31mFileNotFoundError\u001b[0m: [Errno 2] No such file or directory: 'Plots/Deliverables/rating_dist_ml.png'"
     ]
    },
    {
     "data": {
      "image/png": "[encoded data removed]",
      "text/plain": [
       "<Figure size 432x288 with 1 Axes>"
      ]
     },
     "metadata": {
      "needs_background": "light"
     },
     "output_type": "display_data"
    }
   ],
   "source": [
    "print('rows ', len(df), '\\n#ratings', len(df[df['rating'] != 0]), '\\n#ratings/user', round(norpu,2), '\\n#ratings/item', round(norpi,2), '\\naverage rating', \"{0:.2f}\".format(np.average(df['rating'])), '\\n#users ', df['user'].unique().size, '\\n#items ', df['item'].unique().size, '\\nsparse ', round(sparseness,5), '%')\n",
    "\n",
    "df.hist(column='rating', bins=5, grid=False)\n",
    "plt.title('Rating Distribution')\n",
    "plt.xlabel('Rating')\n",
    "plt.xticks(range(1,6))\n",
    "plt.savefig('Plots/Deliverables/rating_dist_ml')\n",
    "plt.show()\n",
    "\n",
    "plt.hist(item_ratings, bins = 100)\n",
    "plt.xlim([0,100])\n",
    "plt.title('#ratings per item distribution (1000 bins)')\n",
    "plt.xlabel('Items')\n",
    "plt.ylabel('Count')\n",
    "plt.savefig('Plots/Deliverables/#ratings_per_item_dist_ml')\n",
    "plt.show()\n",
    "\n",
    "plt.hist(user_ratings, bins = 100)\n",
    "plt.xlim([0,30])\n",
    "plt.title('#ratings per user distribution (1000 bins)')\n",
    "plt.xlabel('Users')\n",
    "plt.ylabel('Count')\n",
    "plt.savefig('Plots/Deliverables/#ratings_per_user_dist_ml')\n",
    "plt.show()"
   ]
  },
  {
   "cell_type": "markdown",
   "metadata": {},
   "source": [
    "# Other Splits"
   ]
  },
  {
   "cell_type": "markdown",
   "metadata": {},
   "source": [
    "## Leave item out"
   ]
  },
  {
   "cell_type": "code",
   "execution_count": null,
   "metadata": {},
   "outputs": [],
   "source": [
    "def leave_x_out(full_data, leave_out):\n",
    "    # Input: data must be formatted by func: tranfsorm\n",
    "    # Output: full_data = without all entries in leave one out set\n",
    "    #         leave_one_out_set = data with one user and one item from full_data\n",
    "    \n",
    "    full_data['index'] = full_data.index\n",
    "    user_items_ind = full_data.groupby('user_id')['index'].apply(list)\n",
    "    index_to_drop = []\n",
    "    \n",
    "    for indices in user_items_ind:\n",
    "        if len(indices) > leave_out:\n",
    "            for to_leave_out in range(leave_out):\n",
    "                index = indices[- to_leave_out]\n",
    "                index_to_drop.append(index)\n",
    "    \n",
    "    leave_one_out_set = full_data.loc[index_to_drop]\n",
    "    full_data_leave_one_out = full_data.drop(index_to_drop)\n",
    "    \n",
    "    return full_data_leave_one_out.drop(columns=['index']), leave_one_out_set.drop(columns=['index'])"
   ]
  },
  {
   "cell_type": "markdown",
   "metadata": {},
   "source": [
    "---\n",
    "## Setting rating threshold of 3 and above for a 1"
   ]
  },
  {
   "cell_type": "code",
   "execution_count": null,
   "metadata": {},
   "outputs": [],
   "source": [
    "# user_thres = 5"
   ]
  },
  {
   "cell_type": "code",
   "execution_count": null,
   "metadata": {},
   "outputs": [],
   "source": [
    "# df['#ratings'] = df.groupby('user')['user'].transform('count')\n",
    "# df = df[df['#ratings'] >= user_thres].drop(columns=['#ratings'])"
   ]
  },
  {
   "cell_type": "code",
   "execution_count": 30,
   "metadata": {},
   "outputs": [],
   "source": [
    "df_upper = df[df['user_rating_counts'] > median].copy()\n",
    "df_lower = df[df['user_rating_counts'] <= median].copy()"
   ]
  },
  {
   "cell_type": "code",
   "execution_count": 33,
   "metadata": {},
   "outputs": [],
   "source": [
    "df_lower = df_lower.drop(columns=['user_rating_counts'])"
   ]
  },
  {
   "cell_type": "code",
   "execution_count": 51,
   "metadata": {},
   "outputs": [
    {
     "data": {
      "text/html": [
       "<div>\n",
       "<style scoped>\n",
       "    .dataframe tbody tr th:only-of-type {\n",
       "        vertical-align: middle;\n",
       "    }\n",
       "\n",
       "    .dataframe tbody tr th {\n",
       "        vertical-align: top;\n",
       "    }\n",
       "\n",
       "    .dataframe thead th {\n",
       "        text-align: right;\n",
       "    }\n",
       "</style>\n",
       "<table border=\"1\" class=\"dataframe\">\n",
       "  <thead>\n",
       "    <tr style=\"text-align: right;\">\n",
       "      <th></th>\n",
       "      <th>user</th>\n",
       "      <th>item</th>\n",
       "      <th>datetime</th>\n",
       "      <th>rating</th>\n",
       "      <th>user_rating_counts</th>\n",
       "    </tr>\n",
       "  </thead>\n",
       "  <tbody>\n",
       "    <tr>\n",
       "      <th>0</th>\n",
       "      <td>A2IC3NZN488KWK</td>\n",
       "      <td>0871167042</td>\n",
       "      <td>2014-05-04</td>\n",
       "      <td>5.0</td>\n",
       "      <td>16</td>\n",
       "    </tr>\n",
       "    <tr>\n",
       "      <th>1</th>\n",
       "      <td>A30FG02C424EJ5</td>\n",
       "      <td>0871167042</td>\n",
       "      <td>2014-03-31</td>\n",
       "      <td>5.0</td>\n",
       "      <td>6</td>\n",
       "    </tr>\n",
       "    <tr>\n",
       "      <th>2</th>\n",
       "      <td>A2G9GWQEWWNQUB</td>\n",
       "      <td>0871167042</td>\n",
       "      <td>2015-05-30</td>\n",
       "      <td>5.0</td>\n",
       "      <td>10</td>\n",
       "    </tr>\n",
       "    <tr>\n",
       "      <th>3</th>\n",
       "      <td>A3NI5OGW35SLY2</td>\n",
       "      <td>0871167042</td>\n",
       "      <td>2015-02-21</td>\n",
       "      <td>5.0</td>\n",
       "      <td>5</td>\n",
       "    </tr>\n",
       "    <tr>\n",
       "      <th>4</th>\n",
       "      <td>A1OPRA4NE56EV6</td>\n",
       "      <td>0871167042</td>\n",
       "      <td>2015-01-21</td>\n",
       "      <td>5.0</td>\n",
       "      <td>7</td>\n",
       "    </tr>\n",
       "    <tr>\n",
       "      <th>...</th>\n",
       "      <td>...</td>\n",
       "      <td>...</td>\n",
       "      <td>...</td>\n",
       "      <td>...</td>\n",
       "      <td>...</td>\n",
       "    </tr>\n",
       "    <tr>\n",
       "      <th>11285454</th>\n",
       "      <td>A2ENZHR6N5WV6S</td>\n",
       "      <td>B01HJHR8A6</td>\n",
       "      <td>2017-03-27</td>\n",
       "      <td>4.0</td>\n",
       "      <td>20</td>\n",
       "    </tr>\n",
       "    <tr>\n",
       "      <th>11285455</th>\n",
       "      <td>ALOIB506XZBQP</td>\n",
       "      <td>B01HJHR8A6</td>\n",
       "      <td>2017-02-06</td>\n",
       "      <td>2.0</td>\n",
       "      <td>5</td>\n",
       "    </tr>\n",
       "    <tr>\n",
       "      <th>11285456</th>\n",
       "      <td>A25IAJ2112FA09</td>\n",
       "      <td>B01HJHR8A6</td>\n",
       "      <td>2016-12-30</td>\n",
       "      <td>5.0</td>\n",
       "      <td>16</td>\n",
       "    </tr>\n",
       "    <tr>\n",
       "      <th>11285457</th>\n",
       "      <td>A2ZFPAT7GQ77D9</td>\n",
       "      <td>B01HJHC4WS</td>\n",
       "      <td>2016-11-23</td>\n",
       "      <td>5.0</td>\n",
       "      <td>5</td>\n",
       "    </tr>\n",
       "    <tr>\n",
       "      <th>11285461</th>\n",
       "      <td>A1M2KFEC6HCTHB</td>\n",
       "      <td>B01HJHC4WS</td>\n",
       "      <td>2016-11-01</td>\n",
       "      <td>5.0</td>\n",
       "      <td>20</td>\n",
       "    </tr>\n",
       "  </tbody>\n",
       "</table>\n",
       "<p>10592657 rows × 5 columns</p>\n",
       "</div>"
      ],
      "text/plain": [
       "                    user        item   datetime  rating  user_rating_counts\n",
       "0         A2IC3NZN488KWK  0871167042 2014-05-04     5.0                  16\n",
       "1         A30FG02C424EJ5  0871167042 2014-03-31     5.0                   6\n",
       "2         A2G9GWQEWWNQUB  0871167042 2015-05-30     5.0                  10\n",
       "3         A3NI5OGW35SLY2  0871167042 2015-02-21     5.0                   5\n",
       "4         A1OPRA4NE56EV6  0871167042 2015-01-21     5.0                   7\n",
       "...                  ...         ...        ...     ...                 ...\n",
       "11285454  A2ENZHR6N5WV6S  B01HJHR8A6 2017-03-27     4.0                  20\n",
       "11285455   ALOIB506XZBQP  B01HJHR8A6 2017-02-06     2.0                   5\n",
       "11285456  A25IAJ2112FA09  B01HJHR8A6 2016-12-30     5.0                  16\n",
       "11285457  A2ZFPAT7GQ77D9  B01HJHC4WS 2016-11-23     5.0                   5\n",
       "11285461  A1M2KFEC6HCTHB  B01HJHC4WS 2016-11-01     5.0                  20\n",
       "\n",
       "[10592657 rows x 5 columns]"
      ]
     },
     "execution_count": 51,
     "metadata": {},
     "output_type": "execute_result"
    }
   ],
   "source": [
    "df"
   ]
  },
  {
   "cell_type": "code",
   "execution_count": 35,
   "metadata": {},
   "outputs": [
    {
     "data": {
      "text/html": [
       "<div>\n",
       "<style scoped>\n",
       "    .dataframe tbody tr th:only-of-type {\n",
       "        vertical-align: middle;\n",
       "    }\n",
       "\n",
       "    .dataframe tbody tr th {\n",
       "        vertical-align: top;\n",
       "    }\n",
       "\n",
       "    .dataframe thead th {\n",
       "        text-align: right;\n",
       "    }\n",
       "</style>\n",
       "<table border=\"1\" class=\"dataframe\">\n",
       "  <thead>\n",
       "    <tr style=\"text-align: right;\">\n",
       "      <th></th>\n",
       "      <th>user</th>\n",
       "      <th>item</th>\n",
       "      <th>datetime</th>\n",
       "      <th>rating</th>\n",
       "    </tr>\n",
       "  </thead>\n",
       "  <tbody>\n",
       "    <tr>\n",
       "      <th>1</th>\n",
       "      <td>A30FG02C424EJ5</td>\n",
       "      <td>0871167042</td>\n",
       "      <td>2014-03-31</td>\n",
       "      <td>5.0</td>\n",
       "    </tr>\n",
       "    <tr>\n",
       "      <th>3</th>\n",
       "      <td>A3NI5OGW35SLY2</td>\n",
       "      <td>0871167042</td>\n",
       "      <td>2015-02-21</td>\n",
       "      <td>5.0</td>\n",
       "    </tr>\n",
       "    <tr>\n",
       "      <th>4</th>\n",
       "      <td>A1OPRA4NE56EV6</td>\n",
       "      <td>0871167042</td>\n",
       "      <td>2015-01-21</td>\n",
       "      <td>5.0</td>\n",
       "    </tr>\n",
       "    <tr>\n",
       "      <th>7</th>\n",
       "      <td>A1YIEW86G14BHP</td>\n",
       "      <td>0871167042</td>\n",
       "      <td>2014-07-23</td>\n",
       "      <td>3.0</td>\n",
       "    </tr>\n",
       "    <tr>\n",
       "      <th>10</th>\n",
       "      <td>AZI75OKBKZ98R</td>\n",
       "      <td>0871167042</td>\n",
       "      <td>2014-05-10</td>\n",
       "      <td>5.0</td>\n",
       "    </tr>\n",
       "    <tr>\n",
       "      <th>...</th>\n",
       "      <td>...</td>\n",
       "      <td>...</td>\n",
       "      <td>...</td>\n",
       "      <td>...</td>\n",
       "    </tr>\n",
       "    <tr>\n",
       "      <th>11285448</th>\n",
       "      <td>A4U6BHSB96BFD</td>\n",
       "      <td>B01HJH7W0W</td>\n",
       "      <td>2017-02-14</td>\n",
       "      <td>5.0</td>\n",
       "    </tr>\n",
       "    <tr>\n",
       "      <th>11285449</th>\n",
       "      <td>A23BKWHWCZXTF6</td>\n",
       "      <td>B01HJH7W0W</td>\n",
       "      <td>2017-01-31</td>\n",
       "      <td>4.0</td>\n",
       "    </tr>\n",
       "    <tr>\n",
       "      <th>11285450</th>\n",
       "      <td>A2AGN73TX9LB3V</td>\n",
       "      <td>B01HJHR8A6</td>\n",
       "      <td>2018-05-31</td>\n",
       "      <td>2.0</td>\n",
       "    </tr>\n",
       "    <tr>\n",
       "      <th>11285455</th>\n",
       "      <td>ALOIB506XZBQP</td>\n",
       "      <td>B01HJHR8A6</td>\n",
       "      <td>2017-02-06</td>\n",
       "      <td>2.0</td>\n",
       "    </tr>\n",
       "    <tr>\n",
       "      <th>11285457</th>\n",
       "      <td>A2ZFPAT7GQ77D9</td>\n",
       "      <td>B01HJHC4WS</td>\n",
       "      <td>2016-11-23</td>\n",
       "      <td>5.0</td>\n",
       "    </tr>\n",
       "  </tbody>\n",
       "</table>\n",
       "<p>3994020 rows × 4 columns</p>\n",
       "</div>"
      ],
      "text/plain": [
       "                    user        item   datetime  rating\n",
       "1         A30FG02C424EJ5  0871167042 2014-03-31     5.0\n",
       "3         A3NI5OGW35SLY2  0871167042 2015-02-21     5.0\n",
       "4         A1OPRA4NE56EV6  0871167042 2015-01-21     5.0\n",
       "7         A1YIEW86G14BHP  0871167042 2014-07-23     3.0\n",
       "10         AZI75OKBKZ98R  0871167042 2014-05-10     5.0\n",
       "...                  ...         ...        ...     ...\n",
       "11285448   A4U6BHSB96BFD  B01HJH7W0W 2017-02-14     5.0\n",
       "11285449  A23BKWHWCZXTF6  B01HJH7W0W 2017-01-31     4.0\n",
       "11285450  A2AGN73TX9LB3V  B01HJHR8A6 2018-05-31     2.0\n",
       "11285455   ALOIB506XZBQP  B01HJHR8A6 2017-02-06     2.0\n",
       "11285457  A2ZFPAT7GQ77D9  B01HJHC4WS 2016-11-23     5.0\n",
       "\n",
       "[3994020 rows x 4 columns]"
      ]
     },
     "execution_count": 35,
     "metadata": {},
     "output_type": "execute_result"
    }
   ],
   "source": [
    "pd.read_pickle(path + data_path + 'Amazon_lo_all_users_4m')"
   ]
  },
  {
   "cell_type": "code",
   "execution_count": 19,
   "metadata": {},
   "outputs": [],
   "source": [
    "renames = {'datetime':'date'}\n",
    "df = df.rename(renames)"
   ]
  },
  {
   "cell_type": "code",
   "execution_count": 27,
   "metadata": {},
   "outputs": [],
   "source": [
    "df = df[['user', 'item', 'datetime', 'rating']]\n",
    "df.to_pickle(path + data_path + 'Amazon_10m')"
   ]
  },
  {
   "cell_type": "code",
   "execution_count": 52,
   "metadata": {},
   "outputs": [],
   "source": [
    "df_lower.to_pickle(path + data_path + 'Amazon/Amazon_lo_all_users_4m')\n",
    "df_upper.to_pickle(path + data_path + 'Amazon/Amazon_up_all_users_6_5m')"
   ]
  },
  {
   "cell_type": "code",
   "execution_count": 60,
   "metadata": {},
   "outputs": [],
   "source": [
    "df = df_og"
   ]
  },
  {
   "cell_type": "code",
   "execution_count": 9,
   "metadata": {},
   "outputs": [],
   "source": [
    "df['datetime'] = pd.to_datetime(df['unixReviewTime'], unit='s')\n",
    "df = df.drop(columns=['unixReviewTime'])"
   ]
  },
  {
   "cell_type": "code",
   "execution_count": 30,
   "metadata": {},
   "outputs": [],
   "source": [
    "df = df.drop(columns=['user_rating_counts'])"
   ]
  },
  {
   "cell_type": "code",
   "execution_count": 13,
   "metadata": {},
   "outputs": [],
   "source": [
    "df = df[df['verified']==True]"
   ]
  },
  {
   "cell_type": "code",
   "execution_count": 32,
   "metadata": {},
   "outputs": [],
   "source": [
    "df = df.drop(columns=['verified'])"
   ]
  },
  {
   "cell_type": "code",
   "execution_count": 66,
   "metadata": {},
   "outputs": [],
   "source": [
    "df = df_upper"
   ]
  },
  {
   "cell_type": "code",
   "execution_count": 53,
   "metadata": {},
   "outputs": [],
   "source": [
    "df.to_pickle(path + data_path + 'Amazon/Amazon_10m')"
   ]
  },
  {
   "cell_type": "code",
   "execution_count": null,
   "metadata": {},
   "outputs": [],
   "source": []
  },
  {
   "cell_type": "code",
   "execution_count": 29,
   "metadata": {},
   "outputs": [
    {
     "data": {
      "text/plain": [
       "7.0"
      ]
     },
     "execution_count": 29,
     "metadata": {},
     "output_type": "execute_result"
    }
   ],
   "source": [
    "median = user_ratings.median()\n",
    "median"
   ]
  },
  {
   "cell_type": "code",
   "execution_count": 28,
   "metadata": {},
   "outputs": [],
   "source": [
    "df['user_rating_counts'] = df.groupby('user')['rating'].transform('count')\n",
    "user_ratings = df.groupby('user')['rating'].count()\n",
    "item_ratings = df.groupby('item')['rating'].count()\n",
    "norpu = user_ratings.mean()\n",
    "norpi = item_ratings.mean()\n",
    "total_users = df.user.unique().size\n",
    "total_items = df.item.unique().size\n",
    "sparseness = 1 - len(df) / (len(df['user'].unique()) * len(df['item'].unique()))"
   ]
  },
  {
   "cell_type": "code",
   "execution_count": 15,
   "metadata": {},
   "outputs": [
    {
     "name": "stdout",
     "output_type": "stream",
     "text": [
      "rows  10592657 \n",
      "#ratings 10592657 \n",
      "#ratings/user 8.73 \n",
      "#ratings/item 28.22 \n",
      "average rating 4.28 \n",
      "#users  1213729 \n",
      "#items  375397 \n",
      "sparse  0.99998 %\n"
     ]
    },
    {
     "data": {
      "image/png": "[encoded data removed]",
      "text/plain": [
       "<Figure size 432x288 with 1 Axes>"
      ]
     },
     "metadata": {
      "needs_background": "light"
     },
     "output_type": "display_data"
    },
    {
     "data": {
      "image/png": "[encoded data removed]",
      "text/plain": [
       "<Figure size 432x288 with 1 Axes>"
      ]
     },
     "metadata": {
      "needs_background": "light"
     },
     "output_type": "display_data"
    },
    {
     "data": {
      "image/png": "[encoded data removed]",
      "text/plain": [
       "<Figure size 432x288 with 1 Axes>"
      ]
     },
     "metadata": {
      "needs_background": "light"
     },
     "output_type": "display_data"
    }
   ],
   "source": [
    "print('rows ', len(df), '\\n#ratings', len(df[df['rating'] != 0]), '\\n#ratings/user', round(norpu,2), '\\n#ratings/item', round(norpi,2), '\\naverage rating', \"{0:.2f}\".format(np.average(df['rating'])), '\\n#users ', df['user'].unique().size, '\\n#items ', df['item'].unique().size, '\\nsparse ', round(sparseness,5), '%')\n",
    "\n",
    "df.hist(column='rating', bins=5, grid=False)\n",
    "plt.title('Rating Distribution')\n",
    "plt.xlabel('Rating')\n",
    "plt.xticks(range(1,6))\n",
    "plt.savefig('Plots/Deliverables/rating_dist_ml')\n",
    "plt.show()\n",
    "\n",
    "plt.hist(item_ratings, bins = 1000)\n",
    "plt.xlim([0,100])\n",
    "plt.title('#ratings per item distribution (1000 bins)')\n",
    "plt.xlabel('Items')\n",
    "plt.ylabel('Count')\n",
    "plt.savefig('Plots/Deliverables/#ratings_per_item_dist_ml')\n",
    "plt.show()\n",
    "\n",
    "plt.hist(user_ratings, bins = 1000)\n",
    "plt.xlim([0,30])\n",
    "plt.title('#ratings per user distribution (1000 bins)')\n",
    "plt.xlabel('Users')\n",
    "plt.ylabel('Count')\n",
    "plt.savefig('Plots/Deliverables/#ratings_per_user_dist_ml')\n",
    "plt.show()"
   ]
  },
  {
   "cell_type": "markdown",
   "metadata": {},
   "source": [
    "# Data Prep\n",
    "Create new ids for users and items that match the row and column indices of the user-item interaction matrix"
   ]
  },
  {
   "cell_type": "code",
   "execution_count": 36,
   "metadata": {},
   "outputs": [],
   "source": [
    "df_lower['item_id'] = df_lower.item.astype('category').cat.codes\n",
    "df_lower['user_id'] = df_lower.user.astype('category').cat.codes"
   ]
  },
  {
   "cell_type": "markdown",
   "metadata": {},
   "source": [
    "## Leave item out train test split"
   ]
  },
  {
   "cell_type": "code",
   "execution_count": 37,
   "metadata": {},
   "outputs": [],
   "source": [
    "def leave_x_out(full_data, leave_out):\n",
    "    # Input: data must be formatted by func: tranfsorm\n",
    "    # Output: full_data = without all entries in leave one out set\n",
    "    #         leave_one_out_set = data with one user and one item from full_data\n",
    "    \n",
    "    full_data['index'] = full_data.index\n",
    "    user_items_ind = full_data.groupby('user_id')['index'].apply(list)\n",
    "    index_to_drop = []\n",
    "    \n",
    "    for indices in user_items_ind:\n",
    "        if len(indices) > leave_out:\n",
    "            for to_leave_out in range(leave_out):\n",
    "                index = indices[- to_leave_out]\n",
    "                index_to_drop.append(index)\n",
    "    \n",
    "    leave_one_out_set = full_data.loc[index_to_drop]\n",
    "    full_data_leave_one_out = full_data.drop(index_to_drop)\n",
    "    \n",
    "    return full_data_leave_one_out.drop(columns=['index']), leave_one_out_set.drop(columns=['index'])"
   ]
  },
  {
   "cell_type": "code",
   "execution_count": null,
   "metadata": {},
   "outputs": [],
   "source": [
    "def create_matrices(data, n_users, n_items):\n",
    "        r = data['user_id']\n",
    "        c = data['item_id']\n",
    "        d = data['rating']\n",
    "        m = sparse.csr_matrix((d, (r, c)), shape=(n_users, n_items))\n",
    "        m_ones = m.copy()\n",
    "        m_ones[m_ones > 0] = 1\n",
    "                               \n",
    "        return m, m_ones"
   ]
  },
  {
   "cell_type": "code",
   "execution_count": null,
   "metadata": {},
   "outputs": [],
   "source": [
    "train_set, test_set = leave_x_out(df_new_ids, 2)\n",
    "val_set, test_set = leave_x_out(test_set, 1)"
   ]
  },
  {
   "cell_type": "markdown",
   "metadata": {},
   "source": [
    "## Leave users out "
   ]
  },
  {
   "cell_type": "code",
   "execution_count": 38,
   "metadata": {},
   "outputs": [],
   "source": [
    "def leave_users_out(full_data, leave_out):\n",
    "    full_data['index'] = full_data.index\n",
    "    user_index_df = full_data.groupby('user_id')['index'].apply(list)\n",
    "    users = np.random.choice(list(user_index_df.index), leave_out, replace=False)\n",
    "    users_indices = []\n",
    "    \n",
    "    for user in users:\n",
    "        users_indices.extend(user_index_df.loc[user])\n",
    "    \n",
    "    sub_set = full_data.loc[users_indices]\n",
    "    remaining = full_data.drop(users_indices)\n",
    "    \n",
    "    return remaining.drop(columns=['index']), sub_set.drop(columns=['index'])"
   ]
  },
  {
   "cell_type": "code",
   "execution_count": 39,
   "metadata": {},
   "outputs": [],
   "source": [
    "half_users = int(len(df_lower.user.unique())/2)\n",
    "quarter_users = int(half_users/2)"
   ]
  },
  {
   "cell_type": "code",
   "execution_count": 40,
   "metadata": {},
   "outputs": [
    {
     "data": {
      "text/plain": [
       "181382"
      ]
     },
     "execution_count": 40,
     "metadata": {},
     "output_type": "execute_result"
    }
   ],
   "source": [
    "quarter_users"
   ]
  },
  {
   "cell_type": "code",
   "execution_count": 41,
   "metadata": {},
   "outputs": [],
   "source": [
    "leftovers, lower_half_users = leave_users_out(df_lower, half_users)"
   ]
  },
  {
   "cell_type": "code",
   "execution_count": 42,
   "metadata": {},
   "outputs": [],
   "source": [
    "leftovers, lower_quarter_users = leave_users_out(df_lower, quarter_users)"
   ]
  },
  {
   "cell_type": "code",
   "execution_count": 43,
   "metadata": {},
   "outputs": [
    {
     "data": {
      "text/html": [
       "<div>\n",
       "<style scoped>\n",
       "    .dataframe tbody tr th:only-of-type {\n",
       "        vertical-align: middle;\n",
       "    }\n",
       "\n",
       "    .dataframe tbody tr th {\n",
       "        vertical-align: top;\n",
       "    }\n",
       "\n",
       "    .dataframe thead th {\n",
       "        text-align: right;\n",
       "    }\n",
       "</style>\n",
       "<table border=\"1\" class=\"dataframe\">\n",
       "  <thead>\n",
       "    <tr style=\"text-align: right;\">\n",
       "      <th></th>\n",
       "      <th>user</th>\n",
       "      <th>item</th>\n",
       "      <th>datetime</th>\n",
       "      <th>rating</th>\n",
       "      <th>item_id</th>\n",
       "      <th>user_id</th>\n",
       "    </tr>\n",
       "  </thead>\n",
       "  <tbody>\n",
       "    <tr>\n",
       "      <th>339543</th>\n",
       "      <td>A4VZDM06BRTN8</td>\n",
       "      <td>B000EX15NY</td>\n",
       "      <td>2017-07-18</td>\n",
       "      <td>5.0</td>\n",
       "      <td>3708</td>\n",
       "      <td>559648</td>\n",
       "    </tr>\n",
       "    <tr>\n",
       "      <th>1002052</th>\n",
       "      <td>A4VZDM06BRTN8</td>\n",
       "      <td>B0017LT9OO</td>\n",
       "      <td>2017-07-18</td>\n",
       "      <td>5.0</td>\n",
       "      <td>14774</td>\n",
       "      <td>559648</td>\n",
       "    </tr>\n",
       "    <tr>\n",
       "      <th>1002901</th>\n",
       "      <td>A4VZDM06BRTN8</td>\n",
       "      <td>B0017LT9PS</td>\n",
       "      <td>2017-07-18</td>\n",
       "      <td>5.0</td>\n",
       "      <td>14775</td>\n",
       "      <td>559648</td>\n",
       "    </tr>\n",
       "    <tr>\n",
       "      <th>1320045</th>\n",
       "      <td>A4VZDM06BRTN8</td>\n",
       "      <td>B0017LT9OO</td>\n",
       "      <td>2017-07-18</td>\n",
       "      <td>5.0</td>\n",
       "      <td>14774</td>\n",
       "      <td>559648</td>\n",
       "    </tr>\n",
       "    <tr>\n",
       "      <th>1320894</th>\n",
       "      <td>A4VZDM06BRTN8</td>\n",
       "      <td>B0017LT9PS</td>\n",
       "      <td>2017-07-18</td>\n",
       "      <td>5.0</td>\n",
       "      <td>14775</td>\n",
       "      <td>559648</td>\n",
       "    </tr>\n",
       "    <tr>\n",
       "      <th>...</th>\n",
       "      <td>...</td>\n",
       "      <td>...</td>\n",
       "      <td>...</td>\n",
       "      <td>...</td>\n",
       "      <td>...</td>\n",
       "      <td>...</td>\n",
       "    </tr>\n",
       "    <tr>\n",
       "      <th>4324769</th>\n",
       "      <td>ADTNVGWWY99H2</td>\n",
       "      <td>B00CDJX87S</td>\n",
       "      <td>2014-04-28</td>\n",
       "      <td>5.0</td>\n",
       "      <td>118967</td>\n",
       "      <td>607152</td>\n",
       "    </tr>\n",
       "    <tr>\n",
       "      <th>4438633</th>\n",
       "      <td>ADTNVGWWY99H2</td>\n",
       "      <td>B00CZ7L3HA</td>\n",
       "      <td>2014-04-28</td>\n",
       "      <td>3.0</td>\n",
       "      <td>124374</td>\n",
       "      <td>607152</td>\n",
       "    </tr>\n",
       "    <tr>\n",
       "      <th>6204989</th>\n",
       "      <td>ADTNVGWWY99H2</td>\n",
       "      <td>B00MGG0YK2</td>\n",
       "      <td>2016-02-20</td>\n",
       "      <td>5.0</td>\n",
       "      <td>205931</td>\n",
       "      <td>607152</td>\n",
       "    </tr>\n",
       "    <tr>\n",
       "      <th>9945462</th>\n",
       "      <td>ADTNVGWWY99H2</td>\n",
       "      <td>B007RKKM04</td>\n",
       "      <td>2016-03-03</td>\n",
       "      <td>5.0</td>\n",
       "      <td>80068</td>\n",
       "      <td>607152</td>\n",
       "    </tr>\n",
       "    <tr>\n",
       "      <th>10469023</th>\n",
       "      <td>ADTNVGWWY99H2</td>\n",
       "      <td>B00KBLADL4</td>\n",
       "      <td>2016-03-03</td>\n",
       "      <td>5.0</td>\n",
       "      <td>186760</td>\n",
       "      <td>607152</td>\n",
       "    </tr>\n",
       "  </tbody>\n",
       "</table>\n",
       "<p>998950 rows × 6 columns</p>\n",
       "</div>"
      ],
      "text/plain": [
       "                   user        item   datetime  rating  item_id  user_id\n",
       "339543    A4VZDM06BRTN8  B000EX15NY 2017-07-18     5.0     3708   559648\n",
       "1002052   A4VZDM06BRTN8  B0017LT9OO 2017-07-18     5.0    14774   559648\n",
       "1002901   A4VZDM06BRTN8  B0017LT9PS 2017-07-18     5.0    14775   559648\n",
       "1320045   A4VZDM06BRTN8  B0017LT9OO 2017-07-18     5.0    14774   559648\n",
       "1320894   A4VZDM06BRTN8  B0017LT9PS 2017-07-18     5.0    14775   559648\n",
       "...                 ...         ...        ...     ...      ...      ...\n",
       "4324769   ADTNVGWWY99H2  B00CDJX87S 2014-04-28     5.0   118967   607152\n",
       "4438633   ADTNVGWWY99H2  B00CZ7L3HA 2014-04-28     3.0   124374   607152\n",
       "6204989   ADTNVGWWY99H2  B00MGG0YK2 2016-02-20     5.0   205931   607152\n",
       "9945462   ADTNVGWWY99H2  B007RKKM04 2016-03-03     5.0    80068   607152\n",
       "10469023  ADTNVGWWY99H2  B00KBLADL4 2016-03-03     5.0   186760   607152\n",
       "\n",
       "[998950 rows x 6 columns]"
      ]
     },
     "execution_count": 43,
     "metadata": {},
     "output_type": "execute_result"
    }
   ],
   "source": [
    "lower_quarter_users"
   ]
  },
  {
   "cell_type": "code",
   "execution_count": 44,
   "metadata": {},
   "outputs": [
    {
     "data": {
      "text/plain": [
       "181382"
      ]
     },
     "execution_count": 44,
     "metadata": {},
     "output_type": "execute_result"
    }
   ],
   "source": [
    "len(lower_quarter_users.user_id.unique())"
   ]
  },
  {
   "cell_type": "code",
   "execution_count": 48,
   "metadata": {},
   "outputs": [],
   "source": [
    "lower_half_users.to_pickle(path + data_path + 'Amazon/Amazon_lo_half_users')"
   ]
  },
  {
   "cell_type": "code",
   "execution_count": 49,
   "metadata": {},
   "outputs": [],
   "source": [
    "lower_quarter_users.to_pickle(path + data_path + 'Amazon/Amazon_lo_quarter_users')"
   ]
  },
  {
   "cell_type": "code",
   "execution_count": 47,
   "metadata": {},
   "outputs": [],
   "source": [
    "df_upper['item_id'] = df_upper.item.astype('category').cat.codes\n",
    "df_upper['user_id'] = df_upper.user.astype('category').cat.codes\n",
    "\n",
    "half_users = int(len(df_upper.user.unique())/2)\n",
    "quarter_users = int(half_users/2)\n",
    "\n",
    "quarter_users\n",
    "\n",
    "leftovers, upper_half_users = leave_users_out(df_upper, half_users)\n",
    "\n",
    "leftovers, upper_quarter_users = leave_users_out(df_upper, quarter_users)\n",
    "\n",
    "upper_quarter_users\n",
    "\n",
    "len(upper_quarter_users.user_id.unique())\n",
    "\n"
   ]
  },
  {
   "cell_type": "code",
   "execution_count": 50,
   "metadata": {},
   "outputs": [],
   "source": [
    "upper_half_users.to_pickle(path + data_path + 'Amazon/Amazon_up_half_users')\n",
    "\n",
    "upper_quarter_users.to_pickle(path + data_path + 'Amazon/Amazon_up_quarter_users')"
   ]
  },
  {
   "cell_type": "code",
   "execution_count": null,
   "metadata": {},
   "outputs": [],
   "source": []
  }
 ],
 "metadata": {
  "kernelspec": {
   "display_name": "Python 3",
   "language": "python",
   "name": "python3"
  },
  "language_info": {
   "codemirror_mode": {
    "name": "ipython",
    "version": 3
   },
   "file_extension": ".py",
   "mimetype": "text/x-python",
   "name": "python",
   "nbconvert_exporter": "python",
   "pygments_lexer": "ipython3",
   "version": "3.7.6"
  },
  "toc": {
   "base_numbering": 1,
   "nav_menu": {},
   "number_sections": true,
   "sideBar": true,
   "skip_h1_title": false,
   "title_cell": "Table of Contents",
   "title_sidebar": "Contents",
   "toc_cell": false,
   "toc_position": {
    "height": "375.742px",
    "left": "1048.75px",
    "top": "110.57px",
    "width": "200.295px"
   },
   "toc_section_display": true,
   "toc_window_display": false
  }
 },
 "nbformat": 4,
 "nbformat_minor": 2
}
