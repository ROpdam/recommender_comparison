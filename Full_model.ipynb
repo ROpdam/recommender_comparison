{
 "cells": [
  {
   "cell_type": "code",
   "execution_count": 1,
   "metadata": {},
   "outputs": [],
   "source": [
    "import pandas as pd\n",
    "import numpy as np\n",
    "import matplotlib.pyplot as plt\n",
    "import math\n",
    "import os\n",
    "import time\n",
    "import copy\n",
    "\n",
    "from scipy import sparse\n",
    "from sklearn.model_selection import train_test_split\n",
    "from sklearn.preprocessing import StandardScaler\n",
    "\n",
    "pd.set_option('display.max_columns', 100)"
   ]
  },
  {
   "cell_type": "markdown",
   "metadata": {},
   "source": [
    "# Read Data"
   ]
  },
  {
   "cell_type": "markdown",
   "metadata": {},
   "source": [
    "## Amazon Fashion"
   ]
  },
  {
   "cell_type": "markdown",
   "metadata": {},
   "source": [
    "### Data from paper"
   ]
  },
  {
   "cell_type": "code",
   "execution_count": null,
   "metadata": {},
   "outputs": [],
   "source": [
    "df_user_train = pd.read_pickle('Data/cnn_paper/user_train')\n",
    "df_user_val = pd.read_pickle('Data/cnn_paper/user_val')\n",
    "df_user_test = pd.read_pickle('Data/cnn_paper/user_test')"
   ]
  },
  {
   "cell_type": "code",
   "execution_count": null,
   "metadata": {},
   "outputs": [],
   "source": [
    "df = pd.concat([df_user_train, df_user_val, df_user_test])"
   ]
  },
  {
   "cell_type": "markdown",
   "metadata": {},
   "source": [
    "### Full csj with styles"
   ]
  },
  {
   "cell_type": "code",
   "execution_count": null,
   "metadata": {},
   "outputs": [],
   "source": [
    "df = pd.read_pickle('Data/df_amazon_csj_with_styles')\n",
    "df.head()"
   ]
  },
  {
   "cell_type": "markdown",
   "metadata": {},
   "source": [
    "### With styles, par_col column, colors, cleaned"
   ]
  },
  {
   "cell_type": "code",
   "execution_count": null,
   "metadata": {},
   "outputs": [],
   "source": [
    "df = pd.read_pickle('Data/df_styles_and_cleaned_colors')\n",
    "df.head()"
   ]
  },
  {
   "cell_type": "markdown",
   "metadata": {},
   "source": [
    "### Without styles"
   ]
  },
  {
   "cell_type": "code",
   "execution_count": null,
   "metadata": {},
   "outputs": [],
   "source": [
    "df = pd.read_csv('Data/amazon_fashion.csv', names=['item','user','rating'])\n",
    "df.head()"
   ]
  },
  {
   "cell_type": "code",
   "execution_count": null,
   "metadata": {},
   "outputs": [],
   "source": [
    "df['rating'] = df['rating'].astype(int)"
   ]
  },
  {
   "cell_type": "markdown",
   "metadata": {},
   "source": [
    "## MovieLens"
   ]
  },
  {
   "cell_type": "markdown",
   "metadata": {},
   "source": [
    "### 100k ratings"
   ]
  },
  {
   "cell_type": "code",
   "execution_count": null,
   "metadata": {},
   "outputs": [],
   "source": [
    "df = pd.read_csv('Data/movie_lens_ratings_small.csv').drop(columns=['timestamp'])\n",
    "df.head()\n",
    "df.columns = ['user', 'item', 'rating']\n",
    "print('rating interval:', df.rating.unique().min(), ',', df.rating.unique().max())\n",
    "df.head()"
   ]
  },
  {
   "cell_type": "code",
   "execution_count": 34,
   "metadata": {},
   "outputs": [
    {
     "name": "stdout",
     "output_type": "stream",
     "text": [
      "rating interval: 0.5 , 5.0\n"
     ]
    },
    {
     "data": {
      "text/html": [
       "<div>\n",
       "<style scoped>\n",
       "    .dataframe tbody tr th:only-of-type {\n",
       "        vertical-align: middle;\n",
       "    }\n",
       "\n",
       "    .dataframe tbody tr th {\n",
       "        vertical-align: top;\n",
       "    }\n",
       "\n",
       "    .dataframe thead th {\n",
       "        text-align: right;\n",
       "    }\n",
       "</style>\n",
       "<table border=\"1\" class=\"dataframe\">\n",
       "  <thead>\n",
       "    <tr style=\"text-align: right;\">\n",
       "      <th></th>\n",
       "      <th>user</th>\n",
       "      <th>item</th>\n",
       "      <th>rating</th>\n",
       "    </tr>\n",
       "  </thead>\n",
       "  <tbody>\n",
       "    <tr>\n",
       "      <th>0</th>\n",
       "      <td>1</td>\n",
       "      <td>296</td>\n",
       "      <td>5.0</td>\n",
       "    </tr>\n",
       "    <tr>\n",
       "      <th>1</th>\n",
       "      <td>1</td>\n",
       "      <td>306</td>\n",
       "      <td>3.5</td>\n",
       "    </tr>\n",
       "    <tr>\n",
       "      <th>2</th>\n",
       "      <td>1</td>\n",
       "      <td>307</td>\n",
       "      <td>5.0</td>\n",
       "    </tr>\n",
       "    <tr>\n",
       "      <th>3</th>\n",
       "      <td>1</td>\n",
       "      <td>665</td>\n",
       "      <td>5.0</td>\n",
       "    </tr>\n",
       "    <tr>\n",
       "      <th>4</th>\n",
       "      <td>1</td>\n",
       "      <td>899</td>\n",
       "      <td>3.5</td>\n",
       "    </tr>\n",
       "  </tbody>\n",
       "</table>\n",
       "</div>"
      ],
      "text/plain": [
       "   user  item  rating\n",
       "0     1   296     5.0\n",
       "1     1   306     3.5\n",
       "2     1   307     5.0\n",
       "3     1   665     5.0\n",
       "4     1   899     3.5"
      ]
     },
     "execution_count": 34,
     "metadata": {},
     "output_type": "execute_result"
    }
   ],
   "source": [
    "df = pd.read_csv('Data/ml-25m/ratings.csv').drop(columns=['timestamp'])\n",
    "df.head()\n",
    "df.columns = ['user', 'item', 'rating']\n",
    "print('rating interval:', df.rating.unique().min(), ',', df.rating.unique().max())\n",
    "df.head()"
   ]
  },
  {
   "cell_type": "markdown",
   "metadata": {},
   "source": [
    "# Data Exploration\n",
    "\n",
    "First filtering active users and rated items with x or more ratings:"
   ]
  },
  {
   "cell_type": "code",
   "execution_count": 82,
   "metadata": {},
   "outputs": [],
   "source": [
    "item_thres = 5\n",
    "user_thres = 5"
   ]
  },
  {
   "cell_type": "code",
   "execution_count": 83,
   "metadata": {},
   "outputs": [],
   "source": [
    "df['#ratings'] = df.groupby('item')['item'].transform('count')\n",
    "df = df[df['#ratings'] >= item_thres].drop(columns=['#ratings'])\n",
    "\n",
    "df['#ratings'] = df.groupby('user')['user'].transform('count')\n",
    "df = df[df['#ratings'] >= user_thres].drop(columns=['#ratings'])"
   ]
  },
  {
   "cell_type": "code",
   "execution_count": 166,
   "metadata": {},
   "outputs": [],
   "source": [
    "user_ratings = df.groupby('user')['rating'].count()\n",
    "item_ratings = df.groupby('item')['rating'].count()\n",
    "norpu = user_ratings.mean()\n",
    "norpi = item_ratings.mean()\n",
    "total_users = df.user.unique().size\n",
    "total_items = df.item.unique().size\n",
    "sparseness = 1 - len(df) / (len(df['user'].unique()) * len(df['item'].unique()))"
   ]
  },
  {
   "cell_type": "markdown",
   "metadata": {},
   "source": [
    "## Sub Sample"
   ]
  },
  {
   "cell_type": "code",
   "execution_count": 81,
   "metadata": {},
   "outputs": [],
   "source": [
    "df = df.sample(frac=0.9, random_state=1234)"
   ]
  },
  {
   "cell_type": "code",
   "execution_count": 178,
   "metadata": {},
   "outputs": [
    {
     "name": "stdout",
     "output_type": "stream",
     "text": [
      "rows  707447 \n",
      "#ratings 707447 \n",
      "#ratings/user 13.03 \n",
      "#ratings/item 75.32 \n",
      "average rating 3.49 \n",
      "#users  54277 \n",
      "#items  9392 \n",
      "sparse  0.99861 %\n"
     ]
    },
    {
     "data": {
      "image/png": "[encoded data removed]",
      "text/plain": [
       "<Figure size 432x288 with 1 Axes>"
      ]
     },
     "metadata": {
      "needs_background": "light"
     },
     "output_type": "display_data"
    },
    {
     "data": {
      "image/png": "[encoded data removed]",
      "text/plain": [
       "<Figure size 432x288 with 1 Axes>"
      ]
     },
     "metadata": {
      "needs_background": "light"
     },
     "output_type": "display_data"
    },
    {
     "data": {
      "image/png": "[encoded data removed]",
      "text/plain": [
       "<Figure size 432x288 with 1 Axes>"
      ]
     },
     "metadata": {
      "needs_background": "light"
     },
     "output_type": "display_data"
    }
   ],
   "source": [
    "print('rows ', len(df), '\\n#ratings', len(df[df['rating'] != 0]), '\\n#ratings/user', round(norpu,2), '\\n#ratings/item', round(norpi,2), '\\naverage rating', \"{0:.2f}\".format(np.average(df['rating'])), '\\n#users ', df['user'].unique().size, '\\n#items ', df['item'].unique().size, '\\nsparse ', round(sparseness,5), '%')\n",
    "df.hist(column='rating', bins=5, grid=False)\n",
    "plt.title('Rating Distribution')\n",
    "plt.xlabel('Rating')\n",
    "plt.xticks(range(1,6))\n",
    "plt.savefig('Plots/Deliverables/rating_dist_ml')\n",
    "plt.show()\n",
    "\n",
    "plt.hist(item_ratings, bins = 1000)\n",
    "plt.xlim([0,100])\n",
    "plt.title('#ratings per item distribution (1000 bins)')\n",
    "plt.xlabel('Items')\n",
    "plt.ylabel('Count')\n",
    "plt.savefig('Plots/Deliverables/#ratings_per_item_dist_ml')\n",
    "plt.show()\n",
    "\n",
    "plt.hist(user_ratings, bins = 100)\n",
    "plt.xlim([0,30])\n",
    "plt.title('#ratings per user distribution (100 bins)')\n",
    "plt.xlabel('Users')\n",
    "plt.ylabel('Count')\n",
    "plt.savefig('Plots/Deliverables/#ratings_per_user_dist_ml')\n",
    "plt.show()"
   ]
  },
  {
   "cell_type": "code",
   "execution_count": 164,
   "metadata": {},
   "outputs": [
    {
     "data": {
      "text/plain": [
       "0.9988895992026355"
      ]
     },
     "execution_count": 164,
     "metadata": {},
     "output_type": "execute_result"
    }
   ],
   "source": [
    "1 - len(train_set) / (len(train_set['user'].unique()) * len(train_set['item'].unique()))"
   ]
  },
  {
   "cell_type": "markdown",
   "metadata": {},
   "source": [
    "## Style analysis"
   ]
  },
  {
   "cell_type": "code",
   "execution_count": null,
   "metadata": {},
   "outputs": [],
   "source": [
    "keys = ['Style:',\n",
    " 'Size Name:',\n",
    " 'Metal Type:',\n",
    " 'Item Display Length:',\n",
    " 'Size:',\n",
    " 'Color:',\n",
    " 'Team Name:',\n",
    " 'Length:',\n",
    " 'Material:',\n",
    " 'Item Package Quantity:',\n",
    " 'Scent Name:',\n",
    " 'Gem Type:',\n",
    " 'Shape:',\n",
    " 'Format:',\n",
    " 'Style Name:',\n",
    " 'Package Quantity:']"
   ]
  },
  {
   "cell_type": "code",
   "execution_count": null,
   "metadata": {},
   "outputs": [],
   "source": [
    "style_perc_present = []\n",
    "for style in keys:\n",
    "    style_perc_present.append(1 - df[style].isnull().sum() / len(df))"
   ]
  },
  {
   "cell_type": "code",
   "execution_count": null,
   "metadata": {},
   "outputs": [],
   "source": [
    "plt.rcParams['figure.figsize'] = [15,10]\n",
    "bars = plt.bar(keys, style_perc_present)\n",
    "for i, bar in enumerate(bars):\n",
    "    yval = bar.get_height()\n",
    "    plt.text(bar.get_x(), yval + 0.005, keys[i])\n",
    "plt.title('Percentage of data labeled with style')\n",
    "plt.xticks('')\n",
    "plt.show()"
   ]
  },
  {
   "cell_type": "markdown",
   "metadata": {},
   "source": [
    "### Color Focus"
   ]
  },
  {
   "cell_type": "markdown",
   "metadata": {},
   "source": [
    "#### Oiriginal Colors"
   ]
  },
  {
   "cell_type": "code",
   "execution_count": null,
   "metadata": {},
   "outputs": [],
   "source": [
    "color_labels = df.groupby('Color:')['rating'].count().sort_values(ascending=False).index\n",
    "color_perc_present = list(list(df.groupby('Color:')['rating'].count().sort_values(ascending=False)) / (len(df) - df['Color:'].isnull().sum()))\n",
    "\n",
    "total_perc = 0\n",
    "labels = []\n",
    "for i, perc in enumerate(color_perc_present):\n",
    "    total_perc += perc\n",
    "    labels.append(color_labels[i])\n",
    "    if total_perc > 0.20:\n",
    "        break\n",
    "        \n",
    "print('20% of cum_dist labels: ', labels)"
   ]
  },
  {
   "cell_type": "code",
   "execution_count": null,
   "metadata": {},
   "outputs": [],
   "source": [
    "plt.rcParams['figure.figsize'] = [10,8]\n",
    "bars = plt.bar(color_labels[:20], color_perc_present[:20])\n",
    "for i, bar in enumerate(bars):\n",
    "    yval = bar.get_height()\n",
    "    plt.text(bar.get_x(), yval + 0.001, color_labels[i])\n",
    "plt.title('Distribution of color labels within colors (Pareto)')\n",
    "plt.xticks('')\n",
    "plt.text(0.43, -0.01, '23% | 77%')\n",
    "plt.axvline(x=1.5, color='red')\n",
    "plt.show()\n",
    "print('Note: 11046 color labels in total')"
   ]
  },
  {
   "cell_type": "markdown",
   "metadata": {},
   "source": [
    "#### Cleaned colors"
   ]
  },
  {
   "cell_type": "code",
   "execution_count": null,
   "metadata": {},
   "outputs": [],
   "source": [
    "color_labels = df.groupby('Color2:')['rating'].count().sort_values(ascending=False).index\n",
    "color_perc_present = list(list(df.groupby('Color2:')['rating'].count().sort_values(ascending=False)) / (len(df) - df['Color:'].isnull().sum()))\n",
    "\n",
    "total_perc = 0\n",
    "labels = []\n",
    "for i, perc in enumerate(color_perc_present):\n",
    "    total_perc += perc\n",
    "    labels.append(color_labels[i])\n",
    "    if total_perc > 0.20:\n",
    "        break\n",
    "        \n",
    "print('20% of cum_dist labels: ', labels)"
   ]
  },
  {
   "cell_type": "code",
   "execution_count": null,
   "metadata": {},
   "outputs": [],
   "source": [
    "plt.rcParams['figure.figsize'] = [10,8]\n",
    "bars = plt.bar(color_labels[:20], color_perc_present[:20])\n",
    "for i, bar in enumerate(bars):\n",
    "    yval = bar.get_height()\n",
    "    plt.text(bar.get_x(), yval + 0.001, color_labels[i])\n",
    "plt.title('Distribution of color labels within colors (Pareto)')\n",
    "plt.xticks('')\n",
    "plt.text(-0.6, -0.01, '25% | 75%')\n",
    "plt.axvline(x=0.5, color='red')\n",
    "plt.show()\n",
    "print('Note: 11046 color labels in total')"
   ]
  },
  {
   "cell_type": "markdown",
   "metadata": {},
   "source": [
    "### Add pareto color column to df\n",
    "- 0 = no color\n",
    "- 1 = secondary color\n",
    "- 2 = primary color"
   ]
  },
  {
   "cell_type": "code",
   "execution_count": null,
   "metadata": {},
   "outputs": [],
   "source": [
    "# df.loc[df['Color:'] == ' Black/Black', 'Color:'] = ' Black' # Assuming Black/Black == Black"
   ]
  },
  {
   "cell_type": "code",
   "execution_count": null,
   "metadata": {},
   "outputs": [],
   "source": [
    "# # Change color to most mentioned per item\n",
    "# modes_col = df.groupby('item')['Color:'].apply(pd.Series.mode)\n",
    "# modes_col.name = 'Color2:'"
   ]
  },
  {
   "cell_type": "code",
   "execution_count": null,
   "metadata": {},
   "outputs": [],
   "source": [
    "# df_new = pd.merge(df, modes_col, left_on='item', right_on='item', how='left')"
   ]
  },
  {
   "cell_type": "code",
   "execution_count": null,
   "metadata": {},
   "outputs": [],
   "source": [
    "# df_new.to_pickle('Data/df_styles_and_cleaned_colors')"
   ]
  },
  {
   "cell_type": "code",
   "execution_count": null,
   "metadata": {},
   "outputs": [],
   "source": [
    "labels = [' Black']\n",
    "\n",
    "def pareto_color(x):\n",
    "    x = x['Color2:']\n",
    "    if type(x) is float and np.isnan(x):\n",
    "        return 0\n",
    "    elif x in labels:\n",
    "        return 2\n",
    "    \n",
    "    return 1"
   ]
  },
  {
   "cell_type": "code",
   "execution_count": null,
   "metadata": {},
   "outputs": [],
   "source": [
    "# df_temp = pd.DataFrame()\n",
    "# df_temp['par_col2'] = df.apply(pareto_color, axis=1, result_type='expand')\n",
    "# df = df.merge(df_temp, right_index=True, left_index=True)"
   ]
  },
  {
   "cell_type": "code",
   "execution_count": null,
   "metadata": {},
   "outputs": [],
   "source": [
    "# df.to_pickle('Data/df_styles_and_cleaned_colors')"
   ]
  },
  {
   "cell_type": "markdown",
   "metadata": {},
   "source": [
    "## Verification analysis"
   ]
  },
  {
   "cell_type": "code",
   "execution_count": null,
   "metadata": {},
   "outputs": [],
   "source": [
    "print('verified:', df['verified'].sum() / len(df))\n",
    "df = df[df['verified']==True]\n",
    "print('verified:', df['verified'].sum() / len(df))"
   ]
  },
  {
   "cell_type": "markdown",
   "metadata": {},
   "source": [
    "# Model"
   ]
  },
  {
   "cell_type": "code",
   "execution_count": 86,
   "metadata": {},
   "outputs": [],
   "source": [
    "class SVD:\n",
    "    \"\"\"\" All functions used to run, test, plot and store the\n",
    "    Singular Value Decomposition Model\"\"\"\n",
    "\n",
    "    def __init__(self, params, total_users, total_items):\n",
    "        self.nolf = params['nolf']\n",
    "        self.n_epochs = params['n_epochs']\n",
    "        self.alpha = params['alpha']\n",
    "        self.alpha_b = params['alpha_b']\n",
    "        self.alpha_cb = params['alpha_cb']\n",
    "        self.use_bias = params['use_bias']\n",
    "        self.use_impl_fb = params['use_impl_fb']\n",
    "        self.use_color = params['use_color']\n",
    "        self.use_weight_ver = params['use_weight_ver']\n",
    "        self.bu_reg = params['bu_reg']\n",
    "        self.bi_reg = params['bi_reg']\n",
    "        self.pu_reg = params['pu_reg']\n",
    "        self.qi_reg = params['qi_reg']\n",
    "        self.x_reg = params['x_reg']\n",
    "        self.cb_reg = params['cb_reg']\n",
    "        self.ver_weight = params['ver_weight']\n",
    "        self.stop = params['stop']\n",
    "        self.random_state = params['random_state']\n",
    "        self.total_users = total_users\n",
    "        self.total_items = total_items\n",
    "        self.params = params\n",
    "        self.mu = 0 \n",
    "        self.N = []\n",
    "        self.N_test = []\n",
    "        self.t = pd.DataFrame()\n",
    "        self.c = pd.DataFrame()\n",
    "        self.F = pd.DataFrame()\n",
    "\n",
    "        self.train_data = pd.DataFrame()\n",
    "        self.test_data = pd.DataFrame()\n",
    "        self.val_data = pd.DataFrame()\n",
    "        self.train_time = 0\n",
    "        self.best_model = {}\n",
    "        self.model = {}\n",
    "        self.test_results = {}\n",
    "\n",
    "    def fit(self, train_data, val_data=[], verbose=1, plot=True, plot_name=''):\n",
    "        self.train_data = train_data\n",
    "        self.val_data = val_data\n",
    "        self.SVD(train_data=train_data, val_data=val_data, verbose=verbose, plot=plot, plot_name=plot_name)\n",
    "        return self\n",
    "\n",
    "    \n",
    "###############################################################################################\n",
    "    \n",
    "    def SVD(self, train_data, val_data, verbose, plot, plot_name):\n",
    "        \"\"\"\"The SVD algorithm with sgd\n",
    "        input: rating dataset with columns:['rating', 'user_id', 'item_id']\n",
    "        output: the resulting p, q, bi, bu matrices\"\"\"\n",
    "        self.mu = self.create_mu(train_data)\n",
    "        train_matrix = self.create_matrix(train_data, self.total_users, self.total_items)\n",
    "        \n",
    "        tuples_train = [tuple(x) for x in train_data[['new_user_id', 'new_item_id', 'rating']].to_numpy()]\n",
    "        \n",
    "        p = np.random.normal(0, .1, (total_users, self.nolf))  # users\n",
    "        q = np.random.normal(0, .1, (total_items, self.nolf))  # items\n",
    "        \n",
    "        # user and item biases\n",
    "        b_user = np.zeros(total_users)\n",
    "        b_item = np.zeros(total_items)\n",
    "        \n",
    "        # using color (pareto split (0,1,2)) attribute bias\n",
    "        if self.use_color:\n",
    "            print('Creating F and c, for incorporating color bias')\n",
    "            self.F, self.c = self.init_color(train_data)\n",
    "\n",
    "        # implicit fb rated, not rated\n",
    "        x = np.random.normal(0, .1, (total_items, self.nolf))\n",
    "        impl_fb_u = np.zeros(self.nolf)\n",
    "        if self.use_impl_fb:\n",
    "            print('Creating N, for incorporating implicit feedback')\n",
    "            self.N = train_data.groupby('new_user_id')['new_item_id'].apply(list)\n",
    "        \n",
    "        # 0.5 weight on the errors of verified = False user item combinations\n",
    "        if self.use_weight_ver:\n",
    "            i_verified = train_data.set_index(['new_user_id', 'new_item_id'])['verified']\n",
    "            i_verified = i_verified.loc[~i_verified.index.duplicated(keep='first')]\n",
    "        \n",
    "        sqrt_Nu = 0\n",
    "        cb = 0\n",
    "        rmses = []\n",
    "        val_rmses = []\n",
    "        smallest_val_rmse = 10000\n",
    "        val_rmse = \"na\"\n",
    "        start = time.time()\n",
    "        for epoch in range(self.n_epochs):\n",
    "            total_sq_error = 0\n",
    "            for u, i, r_ui in tuples_train:\n",
    "                u = int(u)\n",
    "                i = int(i)\n",
    "                \n",
    "                if self.use_impl_fb:\n",
    "                    impl_fb_u = np.zeros(self.nolf)\n",
    "                    sqrt_Nu = np.sqrt(len(self.N[u]))\n",
    "                    for j in self.N[u]:\n",
    "                        impl_fb_u += x[j] / sqrt_Nu\n",
    "\n",
    "                if self.use_color and epoch > 5:\n",
    "                    F_ui =  self.F[u,i] #Set of items associated with i and rated by u\n",
    "                    u_mu = self.mu + b_user[u]\n",
    "                    sqrt_F_ui = np.sqrt(len(F_ui))\n",
    "                    for index, f in enumerate(F_ui):\n",
    "                        r_uf = train_data[(train_data['new_user_id']==u) & (train_data['new_item_id']==f)]['rating'].iloc[0]\n",
    "                        cb += (r_uf - u_mu) * self.c[u,i][index]\n",
    "                    cb /=  sqrt_F_ui\n",
    "                        \n",
    "                if self.use_bias:   \n",
    "                    error = r_ui - ((self.mu + b_user[u] + b_item[i] + cb) + np.dot(p[u] + impl_fb_u, q[i]))\n",
    "                    if self.use_weight_ver and not i_verified[u,i]:\n",
    "                        error = self.ver_weight * error\n",
    "                    \n",
    "                    b_user[u] += self.alpha_b * (error - self.bu_reg * b_user[u])\n",
    "                    b_item[i] += self.alpha_b * (error - self.bi_reg * b_item[i])\n",
    "                else:\n",
    "                    error = r_ui - np.dot(p[u], q[i])\n",
    "\n",
    "                p[u] += self.alpha * (error * q[i] - self.pu_reg * p[u])\n",
    "                q[i] += self.alpha * (error * (p[u] + impl_fb_u) - self.qi_reg * q[i])\n",
    "                total_sq_error += np.square(error)\n",
    "            \n",
    "                if self.use_impl_fb:\n",
    "                    for j in self.N[u]:\n",
    "                        x[j] += self.alpha * (error * q[i] / sqrt_Nu - self.x_reg * x[j])\n",
    "                \n",
    "                if self.use_color and epoch > 5:\n",
    "                    for index, f in enumerate(F_ui):\n",
    "                        r_uf = train_data[(train_data['new_user_id']==u) & (train_data['new_item_id']==f)]['rating'].iloc[0]\n",
    "                        u_mu = self.mu + b_user[u]\n",
    "                        self.c[u,i][index] += self.alpha_cb * (error * (1/sqrt_F_ui) * (r_uf - u_mu) - self.cb_reg * self.c[u,i][index])\n",
    "                \n",
    "            rmse = np.sqrt(total_sq_error / len(tuples_train))\n",
    "            rmses.append(rmse)\n",
    "            \n",
    "            self.model = {'p': p, 'q': q, 'bu':b_user, 'bi':b_item, 'cbu': self.c, 'x':x, 'rmse':rmses, 'val_rmse':val_rmses}\n",
    "            \n",
    "            # Validation\n",
    "            if len(val_data) > 0:\n",
    "                new_val_rmse = self.test(val_data, val=True)\n",
    "                val_rmses.append(new_val_rmse)\n",
    "                if new_val_rmse < smallest_val_rmse:\n",
    "                    smallest_val_rmse = new_val_rmse\n",
    "                    self.best_model = copy.deepcopy(self.model)\n",
    "                val_rmse = new_val_rmse\n",
    "                \n",
    "            # Epoch Printing\n",
    "            if epoch % verbose == 0:\n",
    "                if len(val_data) > 0:\n",
    "                    print('Epoch:', epoch, '  RMSE:', rmse, ' Val_RMSE:', val_rmse)\n",
    "                else:\n",
    "                    print('Epoch:', epoch, '  RMSE:', rmse)\n",
    "            \n",
    "            if self.stop and val_rmses[-2:][0] < val_rmse:\n",
    "                print('BREAK: Validation set not improving anymore')\n",
    "                break\n",
    "                \n",
    "        if plot:\n",
    "            self.plot_rmse(rmses, val_rmses, plot_name)\n",
    "\n",
    "        self.train_time = time.time() - start\n",
    "        self.model = {'p': p, 'q': q, 'bu':b_user, 'bi':b_item, 'cbu': self.c, 'x':x, 'rmse':rmses, 'val_rmse':val_rmses}\n",
    "#################################################################################################\n",
    "\n",
    "    def init_color(self, data_set):\n",
    "        self.t = data_set.groupby(['new_user_id', 'par_col2'])['new_item_id'].apply(list)\n",
    "        F = data_set.groupby(['new_user_id', 'new_item_id'])['par_col2'].apply(self.sim_items)\n",
    "        c = data_set.groupby(['new_user_id', 'new_item_id'])['par_col2'].apply(self.sim_items, random=True)\n",
    "        return F, c\n",
    "\n",
    "    def sim_items(self, x, random=False):\n",
    "        u_id = x.name[0]\n",
    "        col = x.iloc[0]\n",
    "        if random:\n",
    "            return np.random.normal(0,.1,len(self.t[u_id, col]))\n",
    "        return self.t[u_id, col]\n",
    "    \n",
    "    def create_matrix(self, X_train, n_users, n_items):\n",
    "        r = X_train['new_user_id']\n",
    "        c = X_train['new_item_id']\n",
    "        d = X_train['rating']\n",
    "        train_matrix = sparse.coo_matrix((d, (r, c)), shape=(n_users, n_items))\n",
    "    \n",
    "        return train_matrix.tocsr()\n",
    "    \n",
    "    def create_mu(self, train_set):\n",
    "        # Better mean calculation according to https://sifter.org/~simon/journal/20061211.html\n",
    "        va = train_set.groupby('new_user_id')['rating'].mean().var() #variance mean ratings users\n",
    "        vb = train_set.groupby('new_item_id')['rating'].mean().var() #variance mean ratings items\n",
    "        k = va/vb #variance proportion\n",
    "        better_mu = (train_set['rating'].mean() + train_set['rating'].sum()) / (k+len(train_set))\n",
    "        return better_mu\n",
    "    \n",
    "    def plot_rmse(self, rmse, val_rmses=[], plot_name=''):\n",
    "        plt.plot(np.arange(len(rmse)), rmse)\n",
    "        if len(val_rmses) > 0:\n",
    "            plt.plot(np.arange(len(val_rmses)), val_rmses, color='red')\n",
    "        plt.title('RMSE')\n",
    "        plt.xlabel('epoch')\n",
    "        plt.ylabel('RMSE')\n",
    "        plt.legend(['Train', 'Validation'])\n",
    "        if len(plot_name) > 0:\n",
    "            plt.savefig('Plots/' + plot_name + '.png')\n",
    "        plt.show()\n",
    "\n",
    "    def test(self, test_data, val=False):\n",
    "        if not val:\n",
    "            self.test_data = test_data\n",
    "        tuples_test = [tuple(x) for x in test_data[['new_user_id', 'new_item_id', 'rating']].to_numpy()]\n",
    "        test_matrix = self.create_matrix(test_data, self.total_users, self.total_items)\n",
    "        \n",
    "        if self.use_impl_fb and val:\n",
    "            self.N_test = self.val_data.groupby('new_user_id')['new_item_id'].apply(list)\n",
    "        elif self.use_impl_fb:\n",
    "            self.N_test = self.test_data.groupby('new_user_id')['new_item_id'].apply(list)\n",
    "            \n",
    "        total_error = 0\n",
    "        estimates = []\n",
    "        for u, i, r_ui in tuples_test:\n",
    "            u = int(u)\n",
    "            i = int(i)\n",
    "            est = self.estimate(u, i, test_matrix, test_data)\n",
    "            estimates.append(est)\n",
    "            total_error += np.square(r_ui - est)\n",
    "        \n",
    "        rmse = np.sqrt(total_error / len(tuples_test))\n",
    "        \n",
    "        if not val:\n",
    "            self.test_results = {'rmse': rmse, 'estimates':estimates}\n",
    "            print('RMSE on test set:', self.test_results['rmse'])\n",
    "        else:\n",
    "            return rmse\n",
    "\n",
    "    def estimate(self, u, i, test_matrix, test_data):\n",
    "        est = self.mu + self.model['bu'][u] + self.model['bi'][i]\n",
    "        impl_fb_u = np.zeros(self.nolf)\n",
    "        cb = 0\n",
    "        if u in self.train_data['new_user_id'] and i in self.train_data['new_item_id']:\n",
    "            \n",
    "            if self.use_impl_fb and u in self.N.index:\n",
    "                sqrt_Nu = np.sqrt(len(self.N[u]))\n",
    "                for j in self.N[u]:   \n",
    "                    impl_fb_u += self.model['x'][j] / sqrt_Nu\n",
    "            \n",
    "            if self.use_color and (u,i) in self.model['cbu']:\n",
    "                F_ui =  self.F[u,i] #Set of items associated with i and rated by u\n",
    "                u_mu = self.mu + self.model['bu'][u]\n",
    "                sqrt_F_ui = np.sqrt(len(F_ui))\n",
    "                for index, f in enumerate(F_ui):\n",
    "                    r_uf = self.train_data[(self.train_data['new_user_id']==u) & (self.train_data['new_item_id']==f)]['rating'].iloc[0]\n",
    "                    cb += (r_uf - u_mu) * self.model['cbu'][u,i][index]\n",
    "                cb /=  sqrt_F_ui\n",
    "                \n",
    "            est += cb + np.dot(self.model['p'][u] + impl_fb_u, self.model['q'][i])\n",
    "\n",
    "        return est\n",
    "    \n",
    "    def store_results(self, log_path, res_name, user_thres, item_thres):\n",
    "        train_size = round((len(self.train_data) / (len(self.train_data) + len(self.test_data) + len(self.val_data))),1)\n",
    "        test_size = round((len(self.test_data) / (len(self.train_data) + len(self.test_data) + len(self.val_data))),1)\n",
    "        val_size = round((len(self.val_data) / (len(self.train_data) + len(self.test_data) + len(self.val_data))),1)\n",
    "        \n",
    "        result_info = {'RMSE_test': self.test_results['rmse'], 'train_speed': round(self.train_time,2)}\n",
    "        other_info = {'u_thres': user_thres,'i_thres': item_thres, 'train_size':train_size, 'test_size':test_size, 'val_size':val_size, 'train_rmse':self.model['rmse'], 'val_rmse':self.model['val_rmse']}\n",
    "        final_log = dict(result_info, **self.params, **other_info)\n",
    "\n",
    "        if not os.path.exists(log_path + res_name):\n",
    "            df_results = pd.DataFrame(columns=final_log.keys())\n",
    "            print('new results created')\n",
    "\n",
    "        else:\n",
    "            df_results = pd.read_pickle(log_path + res_name)\n",
    "            print('results added')\n",
    "\n",
    "        df_results = df_results.append(final_log, ignore_index=True)\n",
    "        pd.to_pickle(df_results, log_path + res_name)"
   ]
  },
  {
   "cell_type": "markdown",
   "metadata": {},
   "source": [
    "# Data Prep\n",
    "Create new ids for users and items that match the row and column indices of the user-item interaction matrix"
   ]
  },
  {
   "cell_type": "code",
   "execution_count": 87,
   "metadata": {},
   "outputs": [
    {
     "name": "stdout",
     "output_type": "stream",
     "text": [
      "Full data #row:  707447\n"
     ]
    }
   ],
   "source": [
    "def transform(df):\n",
    "    items = df['item'].unique()\n",
    "    itemsDF = pd.DataFrame(data=items, columns=['original_item_id'])\n",
    "    itemsDF['new_item_id'] = itemsDF.index\n",
    "\n",
    "    users = df['user'].unique()\n",
    "    usersDF = pd.DataFrame(data=users, columns=['original_user_id'])\n",
    "    usersDF['new_user_id'] = usersDF.index\n",
    "\n",
    "    ratingDF = df.merge(itemsDF, left_on='item', right_on='original_item_id')\n",
    "    ratingDF = ratingDF.drop(columns=['original_item_id'])\n",
    "\n",
    "    ratingDF = ratingDF.merge(usersDF, left_on='user', right_on='original_user_id')\n",
    "    ratingDF = ratingDF.drop(columns=['original_user_id'])\n",
    "\n",
    "    df_new_ids = ratingDF\n",
    "    print('Full data #row: ', df_new_ids.shape[0])\n",
    "    df_new_ids.head()\n",
    "    \n",
    "    return df_new_ids\n",
    "\n",
    "df_new_ids = transform(df)"
   ]
  },
  {
   "cell_type": "markdown",
   "metadata": {},
   "source": [
    "## Train Test split\n",
    "Train 0.8, Train 0.2, Test 0.1, could add validation set"
   ]
  },
  {
   "cell_type": "code",
   "execution_count": 88,
   "metadata": {},
   "outputs": [
    {
     "name": "stdout",
     "output_type": "stream",
     "text": [
      "Size of train set:  565957\n",
      "Size of validation set:  70745\n",
      "Size of test set:  70745\n"
     ]
    }
   ],
   "source": [
    "random_state = 1234\n",
    "train_set, test_set = train_test_split(df_new_ids, test_size=0.20, shuffle=True, random_state=random_state)\n",
    "val_set, test_set = train_test_split(test_set, test_size=0.50, shuffle=True, random_state=random_state)\n",
    "\n",
    "print('Size of train set: ', len(train_set))\n",
    "print('Size of validation set: ', len(val_set))\n",
    "print('Size of test set: ', len(test_set))"
   ]
  },
  {
   "cell_type": "markdown",
   "metadata": {},
   "source": [
    "# Params"
   ]
  },
  {
   "cell_type": "code",
   "execution_count": 90,
   "metadata": {},
   "outputs": [],
   "source": [
    "params = {\"nolf\":20, #Size of latent feature vectors\n",
    "\"n_epochs\":40,\n",
    "\"random_state\":1234,\n",
    "\n",
    "#Learning rate\n",
    "\"alpha\":0.004, #Low alpha to prevent diverging => sgd all over the place => error up\n",
    "\"alpha_b\":0.004,\n",
    "\"alpha_cb\":0.001,\n",
    "\n",
    "\"stop\":True, #Stops when val set does not improve\n",
    "\"use_bias\":True,\n",
    "\"use_color\":False,\n",
    "\"use_impl_fb\":False,\n",
    "\"use_weight_ver\":False,\n",
    "\n",
    "#Regularizers, still tweaking the values\n",
    "\"bu_reg\":0.05,\n",
    "\"bi_reg\":0.05,\n",
    "\"pu_reg\":0.001,\n",
    "\"qi_reg\":0.001,\n",
    "\"x_reg\":0.001,\n",
    "\"cb_reg\": 0.01,\n",
    "\"ver_weight\": 0.5\n",
    "}"
   ]
  },
  {
   "cell_type": "markdown",
   "metadata": {},
   "source": [
    "# Train and Test Model"
   ]
  },
  {
   "cell_type": "markdown",
   "metadata": {},
   "source": [
    "## Model basic bias on ML 0.7m"
   ]
  },
  {
   "cell_type": "code",
   "execution_count": 91,
   "metadata": {
    "scrolled": false
   },
   "outputs": [
    {
     "name": "stdout",
     "output_type": "stream",
     "text": [
      "Epoch: 0   RMSE: 1.0043209703724225  Val_RMSE: 0.9806632719832211\n",
      "Epoch: 1   RMSE: 0.9585997879316766  Val_RMSE: 0.9571649684980635\n",
      "Epoch: 2   RMSE: 0.9345688967136301  Val_RMSE: 0.9427070062598235\n",
      "Epoch: 3   RMSE: 0.9173204534954583  Val_RMSE: 0.9324537804930464\n",
      "Epoch: 4   RMSE: 0.9036749498785231  Val_RMSE: 0.9246652560835502\n",
      "Epoch: 5   RMSE: 0.8922904396320589  Val_RMSE: 0.9185057968614893\n",
      "Epoch: 6   RMSE: 0.8824556251209029  Val_RMSE: 0.9135070239180434\n",
      "Epoch: 7   RMSE: 0.8737388549002569  Val_RMSE: 0.9093785734309572\n",
      "Epoch: 8   RMSE: 0.8658523623513311  Val_RMSE: 0.9059273861614414\n",
      "Epoch: 9   RMSE: 0.8585902936283273  Val_RMSE: 0.9030184987184362\n",
      "Epoch: 10   RMSE: 0.851796941398248  Val_RMSE: 0.9005540377494525\n",
      "Epoch: 11   RMSE: 0.845348993307214  Val_RMSE: 0.8984610784518374\n",
      "Epoch: 12   RMSE: 0.8391449598161976  Val_RMSE: 0.8966841932174658\n",
      "Epoch: 13   RMSE: 0.83309860329301  Val_RMSE: 0.8951806514760463\n",
      "Epoch: 14   RMSE: 0.8271347758022924  Val_RMSE: 0.89391719845444\n",
      "Epoch: 15   RMSE: 0.8211868192439433  Val_RMSE: 0.8928678127034516\n",
      "Epoch: 16   RMSE: 0.8151950538714278  Val_RMSE: 0.8920120882620393\n",
      "Epoch: 17   RMSE: 0.8091060708551474  Val_RMSE: 0.8913340231726978\n",
      "Epoch: 18   RMSE: 0.8028726356877504  Val_RMSE: 0.8908210755270375\n",
      "Epoch: 19   RMSE: 0.7964540425698645  Val_RMSE: 0.8904633977874156\n",
      "Epoch: 20   RMSE: 0.7898167591728442  Val_RMSE: 0.8902531933161103\n",
      "Epoch: 21   RMSE: 0.7829351849714543  Val_RMSE: 0.8901841626420384\n",
      "Epoch: 22   RMSE: 0.7757923327282098  Val_RMSE: 0.8902510240349325\n",
      "BREAK: Validation set not improving anymore\n"
     ]
    },
    {
     "data": {
      "image/png": "[encoded data removed]",
      "text/plain": [
       "<Figure size 432x288 with 1 Axes>"
      ]
     },
     "metadata": {
      "needs_background": "light"
     },
     "output_type": "display_data"
    },
    {
     "data": {
      "text/plain": [
       "<__main__.SVD at 0x12928b01588>"
      ]
     },
     "execution_count": 91,
     "metadata": {},
     "output_type": "execute_result"
    }
   ],
   "source": [
    "model = SVD(params, total_users, total_items)\n",
    "model.fit(train_set, val_set, 1, plot=True, plot_name='ML_0.7m_svd_train')"
   ]
  },
  {
   "cell_type": "code",
   "execution_count": 92,
   "metadata": {
    "scrolled": true
   },
   "outputs": [
    {
     "name": "stdout",
     "output_type": "stream",
     "text": [
      "RMSE on test set: 0.8889826841707456\n"
     ]
    }
   ],
   "source": [
    "model.test(test_set)"
   ]
  },
  {
   "cell_type": "code",
   "execution_count": 93,
   "metadata": {},
   "outputs": [
    {
     "name": "stdout",
     "output_type": "stream",
     "text": [
      "results added\n"
     ]
    }
   ],
   "source": [
    "log_path = 'Results/'\n",
    "res_name = 'diff_amazon_0.63m_ml_0.7m_svd_res'\n",
    "model.store_results(log_path, res_name, user_thres, item_thres)"
   ]
  },
  {
   "cell_type": "markdown",
   "metadata": {},
   "source": [
    "## Impl_fb ML 0.7m"
   ]
  },
  {
   "cell_type": "code",
   "execution_count": 165,
   "metadata": {},
   "outputs": [
    {
     "name": "stdout",
     "output_type": "stream",
     "text": [
      "Creating N, for incorporating implicit feedback\n"
     ]
    },
    {
     "ename": "KeyboardInterrupt",
     "evalue": "",
     "output_type": "error",
     "traceback": [
      "\u001b[1;31m---------------------------------------------------------------------------\u001b[0m",
      "\u001b[1;31mKeyboardInterrupt\u001b[0m                         Traceback (most recent call last)",
      "\u001b[1;32m<ipython-input-165-dca7f0c7313b>\u001b[0m in \u001b[0;36m<module>\u001b[1;34m\u001b[0m\n\u001b[0;32m      3\u001b[0m \u001b[0mparams\u001b[0m\u001b[1;33m[\u001b[0m\u001b[1;34m'use_impl_fb'\u001b[0m\u001b[1;33m]\u001b[0m \u001b[1;33m=\u001b[0m \u001b[1;32mTrue\u001b[0m\u001b[1;33m\u001b[0m\u001b[1;33m\u001b[0m\u001b[0m\n\u001b[0;32m      4\u001b[0m \u001b[0mmodel2\u001b[0m \u001b[1;33m=\u001b[0m \u001b[0mSVD\u001b[0m\u001b[1;33m(\u001b[0m\u001b[0mparams\u001b[0m\u001b[1;33m,\u001b[0m \u001b[0mtotal_users\u001b[0m\u001b[1;33m,\u001b[0m \u001b[0mtotal_items\u001b[0m\u001b[1;33m)\u001b[0m\u001b[1;33m\u001b[0m\u001b[1;33m\u001b[0m\u001b[0m\n\u001b[1;32m----> 5\u001b[1;33m \u001b[0mmodel2\u001b[0m\u001b[1;33m.\u001b[0m\u001b[0mfit\u001b[0m\u001b[1;33m(\u001b[0m\u001b[0mtrain_set\u001b[0m\u001b[1;33m,\u001b[0m \u001b[0mval_set\u001b[0m\u001b[1;33m,\u001b[0m \u001b[1;36m1\u001b[0m\u001b[1;33m,\u001b[0m \u001b[0mplot\u001b[0m\u001b[1;33m=\u001b[0m\u001b[1;32mTrue\u001b[0m\u001b[1;33m,\u001b[0m \u001b[0mplot_name\u001b[0m\u001b[1;33m=\u001b[0m\u001b[1;34m'ML_0.7m_svd_train_impl_fb'\u001b[0m\u001b[1;33m)\u001b[0m\u001b[1;33m\u001b[0m\u001b[1;33m\u001b[0m\u001b[0m\n\u001b[0m",
      "\u001b[1;32m<ipython-input-86-3ecfd488fe52>\u001b[0m in \u001b[0;36mfit\u001b[1;34m(self, train_data, val_data, verbose, plot, plot_name)\u001b[0m\n\u001b[0;32m     43\u001b[0m         \u001b[0mself\u001b[0m\u001b[1;33m.\u001b[0m\u001b[0mtrain_data\u001b[0m \u001b[1;33m=\u001b[0m \u001b[0mtrain_data\u001b[0m\u001b[1;33m\u001b[0m\u001b[1;33m\u001b[0m\u001b[0m\n\u001b[0;32m     44\u001b[0m         \u001b[0mself\u001b[0m\u001b[1;33m.\u001b[0m\u001b[0mval_data\u001b[0m \u001b[1;33m=\u001b[0m \u001b[0mval_data\u001b[0m\u001b[1;33m\u001b[0m\u001b[1;33m\u001b[0m\u001b[0m\n\u001b[1;32m---> 45\u001b[1;33m         \u001b[0mself\u001b[0m\u001b[1;33m.\u001b[0m\u001b[0mSVD\u001b[0m\u001b[1;33m(\u001b[0m\u001b[0mtrain_data\u001b[0m\u001b[1;33m=\u001b[0m\u001b[0mtrain_data\u001b[0m\u001b[1;33m,\u001b[0m \u001b[0mval_data\u001b[0m\u001b[1;33m=\u001b[0m\u001b[0mval_data\u001b[0m\u001b[1;33m,\u001b[0m \u001b[0mverbose\u001b[0m\u001b[1;33m=\u001b[0m\u001b[0mverbose\u001b[0m\u001b[1;33m,\u001b[0m \u001b[0mplot\u001b[0m\u001b[1;33m=\u001b[0m\u001b[0mplot\u001b[0m\u001b[1;33m,\u001b[0m \u001b[0mplot_name\u001b[0m\u001b[1;33m=\u001b[0m\u001b[0mplot_name\u001b[0m\u001b[1;33m)\u001b[0m\u001b[1;33m\u001b[0m\u001b[1;33m\u001b[0m\u001b[0m\n\u001b[0m\u001b[0;32m     46\u001b[0m         \u001b[1;32mreturn\u001b[0m \u001b[0mself\u001b[0m\u001b[1;33m\u001b[0m\u001b[1;33m\u001b[0m\u001b[0m\n\u001b[0;32m     47\u001b[0m \u001b[1;33m\u001b[0m\u001b[0m\n",
      "\u001b[1;32m<ipython-input-86-3ecfd488fe52>\u001b[0m in \u001b[0;36mSVD\u001b[1;34m(self, train_data, val_data, verbose, plot, plot_name)\u001b[0m\n\u001b[0;32m    111\u001b[0m \u001b[1;33m\u001b[0m\u001b[0m\n\u001b[0;32m    112\u001b[0m                 \u001b[1;32mif\u001b[0m \u001b[0mself\u001b[0m\u001b[1;33m.\u001b[0m\u001b[0muse_bias\u001b[0m\u001b[1;33m:\u001b[0m\u001b[1;33m\u001b[0m\u001b[1;33m\u001b[0m\u001b[0m\n\u001b[1;32m--> 113\u001b[1;33m                     \u001b[0merror\u001b[0m \u001b[1;33m=\u001b[0m \u001b[0mr_ui\u001b[0m \u001b[1;33m-\u001b[0m \u001b[1;33m(\u001b[0m\u001b[1;33m(\u001b[0m\u001b[0mself\u001b[0m\u001b[1;33m.\u001b[0m\u001b[0mmu\u001b[0m \u001b[1;33m+\u001b[0m \u001b[0mb_user\u001b[0m\u001b[1;33m[\u001b[0m\u001b[0mu\u001b[0m\u001b[1;33m]\u001b[0m \u001b[1;33m+\u001b[0m \u001b[0mb_item\u001b[0m\u001b[1;33m[\u001b[0m\u001b[0mi\u001b[0m\u001b[1;33m]\u001b[0m \u001b[1;33m+\u001b[0m \u001b[0mcb\u001b[0m\u001b[1;33m)\u001b[0m \u001b[1;33m+\u001b[0m \u001b[0mnp\u001b[0m\u001b[1;33m.\u001b[0m\u001b[0mdot\u001b[0m\u001b[1;33m(\u001b[0m\u001b[0mp\u001b[0m\u001b[1;33m[\u001b[0m\u001b[0mu\u001b[0m\u001b[1;33m]\u001b[0m \u001b[1;33m+\u001b[0m \u001b[0mimpl_fb_u\u001b[0m\u001b[1;33m,\u001b[0m \u001b[0mq\u001b[0m\u001b[1;33m[\u001b[0m\u001b[0mi\u001b[0m\u001b[1;33m]\u001b[0m\u001b[1;33m)\u001b[0m\u001b[1;33m)\u001b[0m\u001b[1;33m\u001b[0m\u001b[1;33m\u001b[0m\u001b[0m\n\u001b[0m\u001b[0;32m    114\u001b[0m                     \u001b[1;32mif\u001b[0m \u001b[0mself\u001b[0m\u001b[1;33m.\u001b[0m\u001b[0muse_weight_ver\u001b[0m \u001b[1;32mand\u001b[0m \u001b[1;32mnot\u001b[0m \u001b[0mi_verified\u001b[0m\u001b[1;33m[\u001b[0m\u001b[0mu\u001b[0m\u001b[1;33m,\u001b[0m\u001b[0mi\u001b[0m\u001b[1;33m]\u001b[0m\u001b[1;33m:\u001b[0m\u001b[1;33m\u001b[0m\u001b[1;33m\u001b[0m\u001b[0m\n\u001b[0;32m    115\u001b[0m                         \u001b[0merror\u001b[0m \u001b[1;33m=\u001b[0m \u001b[0mself\u001b[0m\u001b[1;33m.\u001b[0m\u001b[0mver_weight\u001b[0m \u001b[1;33m*\u001b[0m \u001b[0merror\u001b[0m\u001b[1;33m\u001b[0m\u001b[1;33m\u001b[0m\u001b[0m\n",
      "\u001b[1;32m<__array_function__ internals>\u001b[0m in \u001b[0;36mdot\u001b[1;34m(*args, **kwargs)\u001b[0m\n",
      "\u001b[1;31mKeyboardInterrupt\u001b[0m: "
     ]
    }
   ],
   "source": [
    "params['bu_reg'] = 0.05\n",
    "params['bi_reg'] = 0.05\n",
    "params['use_impl_fb'] = True\n",
    "model2 = SVD(params, total_users, total_items)\n",
    "model2.fit(train_set, val_set, 1, plot=True, plot_name='ML_0.7m_svd_train_impl_fb')"
   ]
  },
  {
   "cell_type": "code",
   "execution_count": 95,
   "metadata": {},
   "outputs": [
    {
     "name": "stdout",
     "output_type": "stream",
     "text": [
      "RMSE on test set: 0.9015460046298889\n"
     ]
    }
   ],
   "source": [
    "model2.test(test_set)"
   ]
  },
  {
   "cell_type": "code",
   "execution_count": 96,
   "metadata": {},
   "outputs": [
    {
     "name": "stdout",
     "output_type": "stream",
     "text": [
      "results added\n"
     ]
    }
   ],
   "source": [
    "log_path = 'Results/'\n",
    "res_name = 'diff_amazon_0.63m_ml_0.7m_svd_res'\n",
    "model2.store_results(log_path, res_name, user_thres, item_thres)"
   ]
  },
  {
   "cell_type": "code",
   "execution_count": 98,
   "metadata": {},
   "outputs": [],
   "source": [
    "df.to_pickle('Data/ml_0.7_u_above_5')"
   ]
  },
  {
   "cell_type": "markdown",
   "metadata": {},
   "source": [
    "## Impl_fb, more reg ML 0.7m"
   ]
  },
  {
   "cell_type": "code",
   "execution_count": 101,
   "metadata": {},
   "outputs": [
    {
     "name": "stdout",
     "output_type": "stream",
     "text": [
      "Creating N, for incorporating implicit feedback\n",
      "Epoch: 0   RMSE: 1.0043539915594077  Val_RMSE: 0.9808354598102975\n",
      "Epoch: 1   RMSE: 0.9584704485902822  Val_RMSE: 0.9573517194884253\n",
      "Epoch: 2   RMSE: 0.9344269848748133  Val_RMSE: 0.9429137955910379\n",
      "Epoch: 3   RMSE: 0.9171704561259731  Val_RMSE: 0.9326812569583314\n",
      "Epoch: 4   RMSE: 0.9035155740940102  Val_RMSE: 0.9249139150192087\n",
      "Epoch: 5   RMSE: 0.8921191795709468  Val_RMSE: 0.9187759596433364\n",
      "Epoch: 6   RMSE: 0.8822695434224944  Val_RMSE: 0.913798849068123\n",
      "Epoch: 7   RMSE: 0.8735347825965215  Val_RMSE: 0.9096921502399605\n",
      "Epoch: 8   RMSE: 0.8656269571113724  Val_RMSE: 0.906262825110154\n",
      "Epoch: 9   RMSE: 0.8583400514751969  Val_RMSE: 0.9033759967399794\n",
      "Epoch: 10   RMSE: 0.8515181912597266  Val_RMSE: 0.9009339217352741\n",
      "Epoch: 11   RMSE: 0.8450378854296018  Val_RMSE: 0.898863835538195\n",
      "Epoch: 12   RMSE: 0.8387974523000543  Val_RMSE: 0.8971104955202357\n",
      "Epoch: 13   RMSE: 0.8327104482158938  Val_RMSE: 0.8956313809799543\n",
      "Epoch: 14   RMSE: 0.8267015056019532  Val_RMSE: 0.8943934759233206\n",
      "Epoch: 15   RMSE: 0.820703734816832  Val_RMSE: 0.8933710327976566\n",
      "Epoch: 16   RMSE: 0.8146572182578091  Val_RMSE: 0.8925439612478557\n",
      "Epoch: 17   RMSE: 0.8085083164335554  Val_RMSE: 0.8918966214080923\n",
      "Epoch: 18   RMSE: 0.8022095979151671  Val_RMSE: 0.891416880193265\n",
      "Epoch: 19   RMSE: 0.7957202379041679  Val_RMSE: 0.8910953383134614\n",
      "Epoch: 20   RMSE: 0.7890067262292443  Val_RMSE: 0.8909246692461849\n",
      "Epoch: 21   RMSE: 0.7820437031582363  Val_RMSE: 0.8908990363589034\n",
      "Epoch: 22   RMSE: 0.7748147198279433  Val_RMSE: 0.8910135739193603\n",
      "BREAK: Validation set not improving anymore\n"
     ]
    },
    {
     "data": {
      "image/png": "[encoded data removed]",
      "text/plain": [
       "<Figure size 432x288 with 1 Axes>"
      ]
     },
     "metadata": {
      "needs_background": "light"
     },
     "output_type": "display_data"
    },
    {
     "data": {
      "text/plain": [
       "<__main__.SVD at 0x12953191d48>"
      ]
     },
     "execution_count": 101,
     "metadata": {},
     "output_type": "execute_result"
    }
   ],
   "source": [
    "params['bu_reg'] = 0.05\n",
    "params['bi_reg'] = 0.05\n",
    "params['use_impl_fb'] = True\n",
    "params['x_reg'] = 0.5\n",
    "model3 = SVD(params, total_users, total_items)\n",
    "model3.fit(train_set, val_set, 1, plot=True, plot_name='ML_0.7m_svd_train_impl_fb_xreg0.5')"
   ]
  },
  {
   "cell_type": "code",
   "execution_count": 102,
   "metadata": {},
   "outputs": [
    {
     "name": "stdout",
     "output_type": "stream",
     "text": [
      "RMSE on test set: 0.8891501003083401\n"
     ]
    }
   ],
   "source": [
    "model3.test(test_set)"
   ]
  },
  {
   "cell_type": "code",
   "execution_count": 103,
   "metadata": {},
   "outputs": [
    {
     "name": "stdout",
     "output_type": "stream",
     "text": [
      "results added\n"
     ]
    }
   ],
   "source": [
    "log_path = 'Results/'\n",
    "res_name = 'diff_amazon_0.63m_ml_0.7m_svd_res'\n",
    "model3.store_results(log_path, res_name, user_thres, item_thres)"
   ]
  },
  {
   "cell_type": "code",
   "execution_count": 105,
   "metadata": {},
   "outputs": [
    {
     "data": {
      "text/html": [
       "<div>\n",
       "<style scoped>\n",
       "    .dataframe tbody tr th:only-of-type {\n",
       "        vertical-align: middle;\n",
       "    }\n",
       "\n",
       "    .dataframe tbody tr th {\n",
       "        vertical-align: top;\n",
       "    }\n",
       "\n",
       "    .dataframe thead th {\n",
       "        text-align: right;\n",
       "    }\n",
       "</style>\n",
       "<table border=\"1\" class=\"dataframe\">\n",
       "  <thead>\n",
       "    <tr style=\"text-align: right;\">\n",
       "      <th></th>\n",
       "      <th>RMSE_test</th>\n",
       "      <th>train_speed</th>\n",
       "      <th>nolf</th>\n",
       "      <th>n_epochs</th>\n",
       "      <th>random_state</th>\n",
       "      <th>alpha</th>\n",
       "      <th>alpha_b</th>\n",
       "      <th>alpha_cb</th>\n",
       "      <th>stop</th>\n",
       "      <th>use_bias</th>\n",
       "      <th>use_color</th>\n",
       "      <th>use_impl_fb</th>\n",
       "      <th>use_weight_ver</th>\n",
       "      <th>bu_reg</th>\n",
       "      <th>bi_reg</th>\n",
       "      <th>pu_reg</th>\n",
       "      <th>qi_reg</th>\n",
       "      <th>x_reg</th>\n",
       "      <th>cb_reg</th>\n",
       "      <th>ver_weight</th>\n",
       "      <th>u_thres</th>\n",
       "      <th>i_thres</th>\n",
       "      <th>train_size</th>\n",
       "      <th>test_size</th>\n",
       "      <th>val_size</th>\n",
       "      <th>train_rmse</th>\n",
       "      <th>val_rmse</th>\n",
       "    </tr>\n",
       "  </thead>\n",
       "  <tbody>\n",
       "    <tr>\n",
       "      <th>0</th>\n",
       "      <td>0.974660</td>\n",
       "      <td>735.11</td>\n",
       "      <td>20</td>\n",
       "      <td>40</td>\n",
       "      <td>1234</td>\n",
       "      <td>0.004</td>\n",
       "      <td>0.004</td>\n",
       "      <td>0.001</td>\n",
       "      <td>True</td>\n",
       "      <td>True</td>\n",
       "      <td>False</td>\n",
       "      <td>False</td>\n",
       "      <td>False</td>\n",
       "      <td>0.05</td>\n",
       "      <td>0.05</td>\n",
       "      <td>0.001</td>\n",
       "      <td>0.001</td>\n",
       "      <td>0.001</td>\n",
       "      <td>0.01</td>\n",
       "      <td>0.5</td>\n",
       "      <td>5</td>\n",
       "      <td>5</td>\n",
       "      <td>0.8</td>\n",
       "      <td>0.1</td>\n",
       "      <td>0.1</td>\n",
       "      <td>[1.0964998875525962, 1.077890991237727, 1.0608...</td>\n",
       "      <td>[1.084106734973401, 1.0758673188719923, 1.0685...</td>\n",
       "    </tr>\n",
       "    <tr>\n",
       "      <th>1</th>\n",
       "      <td>0.888983</td>\n",
       "      <td>465.07</td>\n",
       "      <td>20</td>\n",
       "      <td>40</td>\n",
       "      <td>1234</td>\n",
       "      <td>0.004</td>\n",
       "      <td>0.004</td>\n",
       "      <td>0.001</td>\n",
       "      <td>True</td>\n",
       "      <td>True</td>\n",
       "      <td>False</td>\n",
       "      <td>False</td>\n",
       "      <td>False</td>\n",
       "      <td>0.05</td>\n",
       "      <td>0.05</td>\n",
       "      <td>0.001</td>\n",
       "      <td>0.001</td>\n",
       "      <td>0.001</td>\n",
       "      <td>0.01</td>\n",
       "      <td>0.5</td>\n",
       "      <td>5</td>\n",
       "      <td>5</td>\n",
       "      <td>0.8</td>\n",
       "      <td>0.1</td>\n",
       "      <td>0.1</td>\n",
       "      <td>[1.0043209703724225, 0.9585997879316766, 0.934...</td>\n",
       "      <td>[0.9806632719832211, 0.9571649684980635, 0.942...</td>\n",
       "    </tr>\n",
       "    <tr>\n",
       "      <th>2</th>\n",
       "      <td>0.901546</td>\n",
       "      <td>4008.69</td>\n",
       "      <td>20</td>\n",
       "      <td>40</td>\n",
       "      <td>1234</td>\n",
       "      <td>0.004</td>\n",
       "      <td>0.004</td>\n",
       "      <td>0.001</td>\n",
       "      <td>True</td>\n",
       "      <td>True</td>\n",
       "      <td>False</td>\n",
       "      <td>True</td>\n",
       "      <td>False</td>\n",
       "      <td>0.05</td>\n",
       "      <td>0.05</td>\n",
       "      <td>0.001</td>\n",
       "      <td>0.001</td>\n",
       "      <td>0.001</td>\n",
       "      <td>0.01</td>\n",
       "      <td>0.5</td>\n",
       "      <td>5</td>\n",
       "      <td>5</td>\n",
       "      <td>0.8</td>\n",
       "      <td>0.1</td>\n",
       "      <td>0.1</td>\n",
       "      <td>[1.0046325333388055, 0.9575346658147529, 0.932...</td>\n",
       "      <td>[0.9817306182226897, 0.9583214980718305, 0.943...</td>\n",
       "    </tr>\n",
       "    <tr>\n",
       "      <th>3</th>\n",
       "      <td>0.977303</td>\n",
       "      <td>4730.79</td>\n",
       "      <td>20</td>\n",
       "      <td>40</td>\n",
       "      <td>1234</td>\n",
       "      <td>0.004</td>\n",
       "      <td>0.004</td>\n",
       "      <td>0.001</td>\n",
       "      <td>True</td>\n",
       "      <td>True</td>\n",
       "      <td>False</td>\n",
       "      <td>True</td>\n",
       "      <td>False</td>\n",
       "      <td>0.05</td>\n",
       "      <td>0.05</td>\n",
       "      <td>0.001</td>\n",
       "      <td>0.001</td>\n",
       "      <td>0.001</td>\n",
       "      <td>0.01</td>\n",
       "      <td>0.5</td>\n",
       "      <td>5</td>\n",
       "      <td>5</td>\n",
       "      <td>0.8</td>\n",
       "      <td>0.1</td>\n",
       "      <td>0.1</td>\n",
       "      <td>[1.0972634826578922, 1.0768362886928646, 1.058...</td>\n",
       "      <td>[1.0846694856842962, 1.0764145198595443, 1.069...</td>\n",
       "    </tr>\n",
       "    <tr>\n",
       "      <th>4</th>\n",
       "      <td>0.973846</td>\n",
       "      <td>4631.19</td>\n",
       "      <td>20</td>\n",
       "      <td>40</td>\n",
       "      <td>1234</td>\n",
       "      <td>0.004</td>\n",
       "      <td>0.004</td>\n",
       "      <td>0.001</td>\n",
       "      <td>True</td>\n",
       "      <td>True</td>\n",
       "      <td>False</td>\n",
       "      <td>True</td>\n",
       "      <td>False</td>\n",
       "      <td>0.05</td>\n",
       "      <td>0.05</td>\n",
       "      <td>0.001</td>\n",
       "      <td>0.001</td>\n",
       "      <td>0.500</td>\n",
       "      <td>0.01</td>\n",
       "      <td>0.5</td>\n",
       "      <td>5</td>\n",
       "      <td>5</td>\n",
       "      <td>0.8</td>\n",
       "      <td>0.1</td>\n",
       "      <td>0.1</td>\n",
       "      <td>[1.097150938913198, 1.0771435306183033, 1.0591...</td>\n",
       "      <td>[1.0839654683510576, 1.07568371842164, 1.06832...</td>\n",
       "    </tr>\n",
       "    <tr>\n",
       "      <th>5</th>\n",
       "      <td>0.889150</td>\n",
       "      <td>5334.53</td>\n",
       "      <td>20</td>\n",
       "      <td>40</td>\n",
       "      <td>1234</td>\n",
       "      <td>0.004</td>\n",
       "      <td>0.004</td>\n",
       "      <td>0.001</td>\n",
       "      <td>True</td>\n",
       "      <td>True</td>\n",
       "      <td>False</td>\n",
       "      <td>True</td>\n",
       "      <td>False</td>\n",
       "      <td>0.05</td>\n",
       "      <td>0.05</td>\n",
       "      <td>0.001</td>\n",
       "      <td>0.001</td>\n",
       "      <td>0.500</td>\n",
       "      <td>0.01</td>\n",
       "      <td>0.5</td>\n",
       "      <td>5</td>\n",
       "      <td>5</td>\n",
       "      <td>0.8</td>\n",
       "      <td>0.1</td>\n",
       "      <td>0.1</td>\n",
       "      <td>[1.0043539915594077, 0.9584704485902822, 0.934...</td>\n",
       "      <td>[0.9808354598102975, 0.9573517194884253, 0.942...</td>\n",
       "    </tr>\n",
       "  </tbody>\n",
       "</table>\n",
       "</div>"
      ],
      "text/plain": [
       "   RMSE_test  train_speed nolf n_epochs random_state  alpha  alpha_b  \\\n",
       "0   0.974660       735.11   20       40         1234  0.004    0.004   \n",
       "1   0.888983       465.07   20       40         1234  0.004    0.004   \n",
       "2   0.901546      4008.69   20       40         1234  0.004    0.004   \n",
       "3   0.977303      4730.79   20       40         1234  0.004    0.004   \n",
       "4   0.973846      4631.19   20       40         1234  0.004    0.004   \n",
       "5   0.889150      5334.53   20       40         1234  0.004    0.004   \n",
       "\n",
       "   alpha_cb  stop use_bias use_color use_impl_fb use_weight_ver  bu_reg  \\\n",
       "0     0.001  True     True     False       False          False    0.05   \n",
       "1     0.001  True     True     False       False          False    0.05   \n",
       "2     0.001  True     True     False        True          False    0.05   \n",
       "3     0.001  True     True     False        True          False    0.05   \n",
       "4     0.001  True     True     False        True          False    0.05   \n",
       "5     0.001  True     True     False        True          False    0.05   \n",
       "\n",
       "   bi_reg  pu_reg  qi_reg  x_reg  cb_reg  ver_weight u_thres i_thres  \\\n",
       "0    0.05   0.001   0.001  0.001    0.01         0.5       5       5   \n",
       "1    0.05   0.001   0.001  0.001    0.01         0.5       5       5   \n",
       "2    0.05   0.001   0.001  0.001    0.01         0.5       5       5   \n",
       "3    0.05   0.001   0.001  0.001    0.01         0.5       5       5   \n",
       "4    0.05   0.001   0.001  0.500    0.01         0.5       5       5   \n",
       "5    0.05   0.001   0.001  0.500    0.01         0.5       5       5   \n",
       "\n",
       "   train_size  test_size  val_size  \\\n",
       "0         0.8        0.1       0.1   \n",
       "1         0.8        0.1       0.1   \n",
       "2         0.8        0.1       0.1   \n",
       "3         0.8        0.1       0.1   \n",
       "4         0.8        0.1       0.1   \n",
       "5         0.8        0.1       0.1   \n",
       "\n",
       "                                          train_rmse  \\\n",
       "0  [1.0964998875525962, 1.077890991237727, 1.0608...   \n",
       "1  [1.0043209703724225, 0.9585997879316766, 0.934...   \n",
       "2  [1.0046325333388055, 0.9575346658147529, 0.932...   \n",
       "3  [1.0972634826578922, 1.0768362886928646, 1.058...   \n",
       "4  [1.097150938913198, 1.0771435306183033, 1.0591...   \n",
       "5  [1.0043539915594077, 0.9584704485902822, 0.934...   \n",
       "\n",
       "                                            val_rmse  \n",
       "0  [1.084106734973401, 1.0758673188719923, 1.0685...  \n",
       "1  [0.9806632719832211, 0.9571649684980635, 0.942...  \n",
       "2  [0.9817306182226897, 0.9583214980718305, 0.943...  \n",
       "3  [1.0846694856842962, 1.0764145198595443, 1.069...  \n",
       "4  [1.0839654683510576, 1.07568371842164, 1.06832...  \n",
       "5  [0.9808354598102975, 0.9573517194884253, 0.942...  "
      ]
     },
     "execution_count": 105,
     "metadata": {},
     "output_type": "execute_result"
    }
   ],
   "source": [
    "results = pd.read_pickle('Results/' + res_name)\n",
    "results"
   ]
  },
  {
   "cell_type": "markdown",
   "metadata": {},
   "source": [
    "## Impl_fb, no reg ML 0.7m"
   ]
  },
  {
   "cell_type": "code",
   "execution_count": 106,
   "metadata": {},
   "outputs": [
    {
     "name": "stdout",
     "output_type": "stream",
     "text": [
      "Creating N, for incorporating implicit feedback\n",
      "Epoch: 0   RMSE: 1.004291125392521  Val_RMSE: 0.9806332918833931\n",
      "Epoch: 1   RMSE: 0.9585592188954637  Val_RMSE: 0.9571463139308806\n",
      "Epoch: 2   RMSE: 0.9345453105112621  Val_RMSE: 0.9426989371861002\n",
      "Epoch: 3   RMSE: 0.9173091559901304  Val_RMSE: 0.9324541507456438\n",
      "Epoch: 4   RMSE: 0.9036745455134774  Val_RMSE: 0.9246722934847432\n",
      "Epoch: 5   RMSE: 0.8923007663330936  Val_RMSE: 0.9185179592716322\n",
      "Epoch: 6   RMSE: 0.8824772143768078  Val_RMSE: 0.9135229177042461\n",
      "Epoch: 7   RMSE: 0.8737727547348066  Val_RMSE: 0.9093969177239105\n",
      "Epoch: 8   RMSE: 0.8659000738475058  Val_RMSE: 0.9059469843637104\n",
      "Epoch: 9   RMSE: 0.8586537486785821  Val_RMSE: 0.9030382091367777\n",
      "Epoch: 10   RMSE: 0.8518784934388487  Val_RMSE: 0.9005727440122563\n",
      "Epoch: 11   RMSE: 0.8454514049756912  Val_RMSE: 0.8984776621272105\n",
      "Epoch: 12   RMSE: 0.8392713747243099  Val_RMSE: 0.8966975113275085\n",
      "Epoch: 13   RMSE: 0.8332524897484322  Val_RMSE: 0.8951895217530318\n",
      "Epoch: 14   RMSE: 0.8273198306970289  Val_RMSE: 0.89392039540986\n",
      "Epoch: 15   RMSE: 0.8214068218286763  Val_RMSE: 0.8928640777706459\n",
      "Epoch: 16   RMSE: 0.815453662815842  Val_RMSE: 0.8920001572069932\n",
      "Epoch: 17   RMSE: 0.8094065645493175  Val_RMSE: 0.8913126733906884\n",
      "Epoch: 18   RMSE: 0.8032176051985055  Val_RMSE: 0.8907891945288244\n",
      "Epoch: 19   RMSE: 0.7968450581223896  Val_RMSE: 0.890420072016314\n",
      "Epoch: 20   RMSE: 0.790254042712159  Val_RMSE: 0.8901978135023743\n",
      "Epoch: 21   RMSE: 0.7834173311606362  Val_RMSE: 0.8901165384869211\n",
      "Epoch: 22   RMSE: 0.7763161268655487  Val_RMSE: 0.8901714976166403\n",
      "BREAK: Validation set not improving anymore\n"
     ]
    },
    {
     "data": {
      "image/png": "[encoded data removed]",
      "text/plain": [
       "<Figure size 432x288 with 1 Axes>"
      ]
     },
     "metadata": {
      "needs_background": "light"
     },
     "output_type": "display_data"
    },
    {
     "data": {
      "text/plain": [
       "<__main__.SVD at 0x12936695f88>"
      ]
     },
     "execution_count": 106,
     "metadata": {},
     "output_type": "execute_result"
    }
   ],
   "source": [
    "params['bu_reg'] = 0.05\n",
    "params['bi_reg'] = 0.05\n",
    "params['use_impl_fb'] = True\n",
    "params['x_reg'] = 2\n",
    "model4 = SVD(params, total_users, total_items)\n",
    "model4.fit(train_set, val_set, 1, plot=True, plot_name='ML_0.7m_svd_train_impl_fb_xreg0')"
   ]
  },
  {
   "cell_type": "code",
   "execution_count": 107,
   "metadata": {},
   "outputs": [
    {
     "name": "stdout",
     "output_type": "stream",
     "text": [
      "RMSE on test set: 0.8879020055996585\n"
     ]
    }
   ],
   "source": [
    "model4.test(test_set)"
   ]
  },
  {
   "cell_type": "code",
   "execution_count": 108,
   "metadata": {},
   "outputs": [
    {
     "name": "stdout",
     "output_type": "stream",
     "text": [
      "results added\n"
     ]
    }
   ],
   "source": [
    "log_path = 'Results/'\n",
    "res_name = 'diff_amazon_0.63m_ml_0.7m_svd_res'\n",
    "model4.store_results(log_path, res_name, user_thres, item_thres)"
   ]
  },
  {
   "cell_type": "code",
   "execution_count": 109,
   "metadata": {},
   "outputs": [
    {
     "data": {
      "text/html": [
       "<div>\n",
       "<style scoped>\n",
       "    .dataframe tbody tr th:only-of-type {\n",
       "        vertical-align: middle;\n",
       "    }\n",
       "\n",
       "    .dataframe tbody tr th {\n",
       "        vertical-align: top;\n",
       "    }\n",
       "\n",
       "    .dataframe thead th {\n",
       "        text-align: right;\n",
       "    }\n",
       "</style>\n",
       "<table border=\"1\" class=\"dataframe\">\n",
       "  <thead>\n",
       "    <tr style=\"text-align: right;\">\n",
       "      <th></th>\n",
       "      <th>RMSE_test</th>\n",
       "      <th>train_speed</th>\n",
       "      <th>nolf</th>\n",
       "      <th>n_epochs</th>\n",
       "      <th>random_state</th>\n",
       "      <th>alpha</th>\n",
       "      <th>alpha_b</th>\n",
       "      <th>alpha_cb</th>\n",
       "      <th>stop</th>\n",
       "      <th>use_bias</th>\n",
       "      <th>use_color</th>\n",
       "      <th>use_impl_fb</th>\n",
       "      <th>use_weight_ver</th>\n",
       "      <th>bu_reg</th>\n",
       "      <th>bi_reg</th>\n",
       "      <th>pu_reg</th>\n",
       "      <th>qi_reg</th>\n",
       "      <th>x_reg</th>\n",
       "      <th>cb_reg</th>\n",
       "      <th>ver_weight</th>\n",
       "      <th>u_thres</th>\n",
       "      <th>i_thres</th>\n",
       "      <th>train_size</th>\n",
       "      <th>test_size</th>\n",
       "      <th>val_size</th>\n",
       "      <th>train_rmse</th>\n",
       "      <th>val_rmse</th>\n",
       "    </tr>\n",
       "  </thead>\n",
       "  <tbody>\n",
       "    <tr>\n",
       "      <th>0</th>\n",
       "      <td>0.974660</td>\n",
       "      <td>735.11</td>\n",
       "      <td>20</td>\n",
       "      <td>40</td>\n",
       "      <td>1234</td>\n",
       "      <td>0.004</td>\n",
       "      <td>0.004</td>\n",
       "      <td>0.001</td>\n",
       "      <td>True</td>\n",
       "      <td>True</td>\n",
       "      <td>False</td>\n",
       "      <td>False</td>\n",
       "      <td>False</td>\n",
       "      <td>0.05</td>\n",
       "      <td>0.05</td>\n",
       "      <td>0.001</td>\n",
       "      <td>0.001</td>\n",
       "      <td>0.001</td>\n",
       "      <td>0.01</td>\n",
       "      <td>0.5</td>\n",
       "      <td>5</td>\n",
       "      <td>5</td>\n",
       "      <td>0.8</td>\n",
       "      <td>0.1</td>\n",
       "      <td>0.1</td>\n",
       "      <td>[1.0964998875525962, 1.077890991237727, 1.0608...</td>\n",
       "      <td>[1.084106734973401, 1.0758673188719923, 1.0685...</td>\n",
       "    </tr>\n",
       "    <tr>\n",
       "      <th>1</th>\n",
       "      <td>0.888983</td>\n",
       "      <td>465.07</td>\n",
       "      <td>20</td>\n",
       "      <td>40</td>\n",
       "      <td>1234</td>\n",
       "      <td>0.004</td>\n",
       "      <td>0.004</td>\n",
       "      <td>0.001</td>\n",
       "      <td>True</td>\n",
       "      <td>True</td>\n",
       "      <td>False</td>\n",
       "      <td>False</td>\n",
       "      <td>False</td>\n",
       "      <td>0.05</td>\n",
       "      <td>0.05</td>\n",
       "      <td>0.001</td>\n",
       "      <td>0.001</td>\n",
       "      <td>0.001</td>\n",
       "      <td>0.01</td>\n",
       "      <td>0.5</td>\n",
       "      <td>5</td>\n",
       "      <td>5</td>\n",
       "      <td>0.8</td>\n",
       "      <td>0.1</td>\n",
       "      <td>0.1</td>\n",
       "      <td>[1.0043209703724225, 0.9585997879316766, 0.934...</td>\n",
       "      <td>[0.9806632719832211, 0.9571649684980635, 0.942...</td>\n",
       "    </tr>\n",
       "    <tr>\n",
       "      <th>2</th>\n",
       "      <td>0.901546</td>\n",
       "      <td>4008.69</td>\n",
       "      <td>20</td>\n",
       "      <td>40</td>\n",
       "      <td>1234</td>\n",
       "      <td>0.004</td>\n",
       "      <td>0.004</td>\n",
       "      <td>0.001</td>\n",
       "      <td>True</td>\n",
       "      <td>True</td>\n",
       "      <td>False</td>\n",
       "      <td>True</td>\n",
       "      <td>False</td>\n",
       "      <td>0.05</td>\n",
       "      <td>0.05</td>\n",
       "      <td>0.001</td>\n",
       "      <td>0.001</td>\n",
       "      <td>0.001</td>\n",
       "      <td>0.01</td>\n",
       "      <td>0.5</td>\n",
       "      <td>5</td>\n",
       "      <td>5</td>\n",
       "      <td>0.8</td>\n",
       "      <td>0.1</td>\n",
       "      <td>0.1</td>\n",
       "      <td>[1.0046325333388055, 0.9575346658147529, 0.932...</td>\n",
       "      <td>[0.9817306182226897, 0.9583214980718305, 0.943...</td>\n",
       "    </tr>\n",
       "    <tr>\n",
       "      <th>3</th>\n",
       "      <td>0.977303</td>\n",
       "      <td>4730.79</td>\n",
       "      <td>20</td>\n",
       "      <td>40</td>\n",
       "      <td>1234</td>\n",
       "      <td>0.004</td>\n",
       "      <td>0.004</td>\n",
       "      <td>0.001</td>\n",
       "      <td>True</td>\n",
       "      <td>True</td>\n",
       "      <td>False</td>\n",
       "      <td>True</td>\n",
       "      <td>False</td>\n",
       "      <td>0.05</td>\n",
       "      <td>0.05</td>\n",
       "      <td>0.001</td>\n",
       "      <td>0.001</td>\n",
       "      <td>0.001</td>\n",
       "      <td>0.01</td>\n",
       "      <td>0.5</td>\n",
       "      <td>5</td>\n",
       "      <td>5</td>\n",
       "      <td>0.8</td>\n",
       "      <td>0.1</td>\n",
       "      <td>0.1</td>\n",
       "      <td>[1.0972634826578922, 1.0768362886928646, 1.058...</td>\n",
       "      <td>[1.0846694856842962, 1.0764145198595443, 1.069...</td>\n",
       "    </tr>\n",
       "    <tr>\n",
       "      <th>4</th>\n",
       "      <td>0.973846</td>\n",
       "      <td>4631.19</td>\n",
       "      <td>20</td>\n",
       "      <td>40</td>\n",
       "      <td>1234</td>\n",
       "      <td>0.004</td>\n",
       "      <td>0.004</td>\n",
       "      <td>0.001</td>\n",
       "      <td>True</td>\n",
       "      <td>True</td>\n",
       "      <td>False</td>\n",
       "      <td>True</td>\n",
       "      <td>False</td>\n",
       "      <td>0.05</td>\n",
       "      <td>0.05</td>\n",
       "      <td>0.001</td>\n",
       "      <td>0.001</td>\n",
       "      <td>0.500</td>\n",
       "      <td>0.01</td>\n",
       "      <td>0.5</td>\n",
       "      <td>5</td>\n",
       "      <td>5</td>\n",
       "      <td>0.8</td>\n",
       "      <td>0.1</td>\n",
       "      <td>0.1</td>\n",
       "      <td>[1.097150938913198, 1.0771435306183033, 1.0591...</td>\n",
       "      <td>[1.0839654683510576, 1.07568371842164, 1.06832...</td>\n",
       "    </tr>\n",
       "    <tr>\n",
       "      <th>5</th>\n",
       "      <td>0.889150</td>\n",
       "      <td>5334.53</td>\n",
       "      <td>20</td>\n",
       "      <td>40</td>\n",
       "      <td>1234</td>\n",
       "      <td>0.004</td>\n",
       "      <td>0.004</td>\n",
       "      <td>0.001</td>\n",
       "      <td>True</td>\n",
       "      <td>True</td>\n",
       "      <td>False</td>\n",
       "      <td>True</td>\n",
       "      <td>False</td>\n",
       "      <td>0.05</td>\n",
       "      <td>0.05</td>\n",
       "      <td>0.001</td>\n",
       "      <td>0.001</td>\n",
       "      <td>0.500</td>\n",
       "      <td>0.01</td>\n",
       "      <td>0.5</td>\n",
       "      <td>5</td>\n",
       "      <td>5</td>\n",
       "      <td>0.8</td>\n",
       "      <td>0.1</td>\n",
       "      <td>0.1</td>\n",
       "      <td>[1.0043539915594077, 0.9584704485902822, 0.934...</td>\n",
       "      <td>[0.9808354598102975, 0.9573517194884253, 0.942...</td>\n",
       "    </tr>\n",
       "    <tr>\n",
       "      <th>6</th>\n",
       "      <td>0.973801</td>\n",
       "      <td>5955.84</td>\n",
       "      <td>20</td>\n",
       "      <td>40</td>\n",
       "      <td>1234</td>\n",
       "      <td>0.004</td>\n",
       "      <td>0.004</td>\n",
       "      <td>0.001</td>\n",
       "      <td>True</td>\n",
       "      <td>True</td>\n",
       "      <td>False</td>\n",
       "      <td>True</td>\n",
       "      <td>False</td>\n",
       "      <td>0.05</td>\n",
       "      <td>0.05</td>\n",
       "      <td>0.001</td>\n",
       "      <td>0.001</td>\n",
       "      <td>2.000</td>\n",
       "      <td>0.01</td>\n",
       "      <td>0.5</td>\n",
       "      <td>5</td>\n",
       "      <td>5</td>\n",
       "      <td>0.8</td>\n",
       "      <td>0.1</td>\n",
       "      <td>0.1</td>\n",
       "      <td>[1.0969116476784215, 1.077229741787626, 1.0596...</td>\n",
       "      <td>[1.0837589423958007, 1.0754705353744252, 1.068...</td>\n",
       "    </tr>\n",
       "    <tr>\n",
       "      <th>7</th>\n",
       "      <td>0.887902</td>\n",
       "      <td>7476.37</td>\n",
       "      <td>20</td>\n",
       "      <td>40</td>\n",
       "      <td>1234</td>\n",
       "      <td>0.004</td>\n",
       "      <td>0.004</td>\n",
       "      <td>0.001</td>\n",
       "      <td>True</td>\n",
       "      <td>True</td>\n",
       "      <td>False</td>\n",
       "      <td>True</td>\n",
       "      <td>False</td>\n",
       "      <td>0.05</td>\n",
       "      <td>0.05</td>\n",
       "      <td>0.001</td>\n",
       "      <td>0.001</td>\n",
       "      <td>2.000</td>\n",
       "      <td>0.01</td>\n",
       "      <td>0.5</td>\n",
       "      <td>5</td>\n",
       "      <td>5</td>\n",
       "      <td>0.8</td>\n",
       "      <td>0.1</td>\n",
       "      <td>0.1</td>\n",
       "      <td>[1.004291125392521, 0.9585592188954637, 0.9345...</td>\n",
       "      <td>[0.9806332918833931, 0.9571463139308806, 0.942...</td>\n",
       "    </tr>\n",
       "  </tbody>\n",
       "</table>\n",
       "</div>"
      ],
      "text/plain": [
       "   RMSE_test  train_speed nolf n_epochs random_state  alpha  alpha_b  \\\n",
       "0   0.974660       735.11   20       40         1234  0.004    0.004   \n",
       "1   0.888983       465.07   20       40         1234  0.004    0.004   \n",
       "2   0.901546      4008.69   20       40         1234  0.004    0.004   \n",
       "3   0.977303      4730.79   20       40         1234  0.004    0.004   \n",
       "4   0.973846      4631.19   20       40         1234  0.004    0.004   \n",
       "5   0.889150      5334.53   20       40         1234  0.004    0.004   \n",
       "6   0.973801      5955.84   20       40         1234  0.004    0.004   \n",
       "7   0.887902      7476.37   20       40         1234  0.004    0.004   \n",
       "\n",
       "   alpha_cb  stop use_bias use_color use_impl_fb use_weight_ver  bu_reg  \\\n",
       "0     0.001  True     True     False       False          False    0.05   \n",
       "1     0.001  True     True     False       False          False    0.05   \n",
       "2     0.001  True     True     False        True          False    0.05   \n",
       "3     0.001  True     True     False        True          False    0.05   \n",
       "4     0.001  True     True     False        True          False    0.05   \n",
       "5     0.001  True     True     False        True          False    0.05   \n",
       "6     0.001  True     True     False        True          False    0.05   \n",
       "7     0.001  True     True     False        True          False    0.05   \n",
       "\n",
       "   bi_reg  pu_reg  qi_reg  x_reg  cb_reg  ver_weight u_thres i_thres  \\\n",
       "0    0.05   0.001   0.001  0.001    0.01         0.5       5       5   \n",
       "1    0.05   0.001   0.001  0.001    0.01         0.5       5       5   \n",
       "2    0.05   0.001   0.001  0.001    0.01         0.5       5       5   \n",
       "3    0.05   0.001   0.001  0.001    0.01         0.5       5       5   \n",
       "4    0.05   0.001   0.001  0.500    0.01         0.5       5       5   \n",
       "5    0.05   0.001   0.001  0.500    0.01         0.5       5       5   \n",
       "6    0.05   0.001   0.001  2.000    0.01         0.5       5       5   \n",
       "7    0.05   0.001   0.001  2.000    0.01         0.5       5       5   \n",
       "\n",
       "   train_size  test_size  val_size  \\\n",
       "0         0.8        0.1       0.1   \n",
       "1         0.8        0.1       0.1   \n",
       "2         0.8        0.1       0.1   \n",
       "3         0.8        0.1       0.1   \n",
       "4         0.8        0.1       0.1   \n",
       "5         0.8        0.1       0.1   \n",
       "6         0.8        0.1       0.1   \n",
       "7         0.8        0.1       0.1   \n",
       "\n",
       "                                          train_rmse  \\\n",
       "0  [1.0964998875525962, 1.077890991237727, 1.0608...   \n",
       "1  [1.0043209703724225, 0.9585997879316766, 0.934...   \n",
       "2  [1.0046325333388055, 0.9575346658147529, 0.932...   \n",
       "3  [1.0972634826578922, 1.0768362886928646, 1.058...   \n",
       "4  [1.097150938913198, 1.0771435306183033, 1.0591...   \n",
       "5  [1.0043539915594077, 0.9584704485902822, 0.934...   \n",
       "6  [1.0969116476784215, 1.077229741787626, 1.0596...   \n",
       "7  [1.004291125392521, 0.9585592188954637, 0.9345...   \n",
       "\n",
       "                                            val_rmse  \n",
       "0  [1.084106734973401, 1.0758673188719923, 1.0685...  \n",
       "1  [0.9806632719832211, 0.9571649684980635, 0.942...  \n",
       "2  [0.9817306182226897, 0.9583214980718305, 0.943...  \n",
       "3  [1.0846694856842962, 1.0764145198595443, 1.069...  \n",
       "4  [1.0839654683510576, 1.07568371842164, 1.06832...  \n",
       "5  [0.9808354598102975, 0.9573517194884253, 0.942...  \n",
       "6  [1.0837589423958007, 1.0754705353744252, 1.068...  \n",
       "7  [0.9806332918833931, 0.9571463139308806, 0.942...  "
      ]
     },
     "execution_count": 109,
     "metadata": {},
     "output_type": "execute_result"
    }
   ],
   "source": [
    "results = pd.read_pickle(log_path + res_name)\n",
    "results"
   ]
  },
  {
   "cell_type": "markdown",
   "metadata": {},
   "source": [
    "# View results"
   ]
  },
  {
   "cell_type": "code",
   "execution_count": 112,
   "metadata": {},
   "outputs": [],
   "source": [
    "results_ml = results[results['RMSE_test'] < 0.95]\n",
    "results_amazon = results[results['RMSE_test'] > 0.95]"
   ]
  },
  {
   "cell_type": "code",
   "execution_count": 129,
   "metadata": {},
   "outputs": [
    {
     "data": {
      "text/html": [
       "<div>\n",
       "<style scoped>\n",
       "    .dataframe tbody tr th:only-of-type {\n",
       "        vertical-align: middle;\n",
       "    }\n",
       "\n",
       "    .dataframe tbody tr th {\n",
       "        vertical-align: top;\n",
       "    }\n",
       "\n",
       "    .dataframe thead th {\n",
       "        text-align: right;\n",
       "    }\n",
       "</style>\n",
       "<table border=\"1\" class=\"dataframe\">\n",
       "  <thead>\n",
       "    <tr style=\"text-align: right;\">\n",
       "      <th></th>\n",
       "      <th>RMSE_test</th>\n",
       "      <th>train_speed</th>\n",
       "      <th>nolf</th>\n",
       "      <th>n_epochs</th>\n",
       "      <th>random_state</th>\n",
       "      <th>alpha</th>\n",
       "      <th>alpha_b</th>\n",
       "      <th>alpha_cb</th>\n",
       "      <th>stop</th>\n",
       "      <th>use_bias</th>\n",
       "      <th>use_color</th>\n",
       "      <th>use_impl_fb</th>\n",
       "      <th>use_weight_ver</th>\n",
       "      <th>bu_reg</th>\n",
       "      <th>bi_reg</th>\n",
       "      <th>pu_reg</th>\n",
       "      <th>qi_reg</th>\n",
       "      <th>x_reg</th>\n",
       "      <th>cb_reg</th>\n",
       "      <th>ver_weight</th>\n",
       "      <th>u_thres</th>\n",
       "      <th>i_thres</th>\n",
       "      <th>train_size</th>\n",
       "      <th>test_size</th>\n",
       "      <th>val_size</th>\n",
       "      <th>train_rmse</th>\n",
       "      <th>val_rmse</th>\n",
       "    </tr>\n",
       "  </thead>\n",
       "  <tbody>\n",
       "    <tr>\n",
       "      <th>6</th>\n",
       "      <td>0.973801</td>\n",
       "      <td>5955.84</td>\n",
       "      <td>20</td>\n",
       "      <td>40</td>\n",
       "      <td>1234</td>\n",
       "      <td>0.004</td>\n",
       "      <td>0.004</td>\n",
       "      <td>0.001</td>\n",
       "      <td>True</td>\n",
       "      <td>True</td>\n",
       "      <td>False</td>\n",
       "      <td>True</td>\n",
       "      <td>False</td>\n",
       "      <td>0.05</td>\n",
       "      <td>0.05</td>\n",
       "      <td>0.001</td>\n",
       "      <td>0.001</td>\n",
       "      <td>2.000</td>\n",
       "      <td>0.01</td>\n",
       "      <td>0.5</td>\n",
       "      <td>5</td>\n",
       "      <td>5</td>\n",
       "      <td>0.8</td>\n",
       "      <td>0.1</td>\n",
       "      <td>0.1</td>\n",
       "      <td>[1.0969116476784215, 1.077229741787626, 1.0596...</td>\n",
       "      <td>[1.0837589423958007, 1.0754705353744252, 1.068...</td>\n",
       "    </tr>\n",
       "    <tr>\n",
       "      <th>4</th>\n",
       "      <td>0.973846</td>\n",
       "      <td>4631.19</td>\n",
       "      <td>20</td>\n",
       "      <td>40</td>\n",
       "      <td>1234</td>\n",
       "      <td>0.004</td>\n",
       "      <td>0.004</td>\n",
       "      <td>0.001</td>\n",
       "      <td>True</td>\n",
       "      <td>True</td>\n",
       "      <td>False</td>\n",
       "      <td>True</td>\n",
       "      <td>False</td>\n",
       "      <td>0.05</td>\n",
       "      <td>0.05</td>\n",
       "      <td>0.001</td>\n",
       "      <td>0.001</td>\n",
       "      <td>0.500</td>\n",
       "      <td>0.01</td>\n",
       "      <td>0.5</td>\n",
       "      <td>5</td>\n",
       "      <td>5</td>\n",
       "      <td>0.8</td>\n",
       "      <td>0.1</td>\n",
       "      <td>0.1</td>\n",
       "      <td>[1.097150938913198, 1.0771435306183033, 1.0591...</td>\n",
       "      <td>[1.0839654683510576, 1.07568371842164, 1.06832...</td>\n",
       "    </tr>\n",
       "    <tr>\n",
       "      <th>0</th>\n",
       "      <td>0.974660</td>\n",
       "      <td>735.11</td>\n",
       "      <td>20</td>\n",
       "      <td>40</td>\n",
       "      <td>1234</td>\n",
       "      <td>0.004</td>\n",
       "      <td>0.004</td>\n",
       "      <td>0.001</td>\n",
       "      <td>True</td>\n",
       "      <td>True</td>\n",
       "      <td>False</td>\n",
       "      <td>False</td>\n",
       "      <td>False</td>\n",
       "      <td>0.05</td>\n",
       "      <td>0.05</td>\n",
       "      <td>0.001</td>\n",
       "      <td>0.001</td>\n",
       "      <td>0.001</td>\n",
       "      <td>0.01</td>\n",
       "      <td>0.5</td>\n",
       "      <td>5</td>\n",
       "      <td>5</td>\n",
       "      <td>0.8</td>\n",
       "      <td>0.1</td>\n",
       "      <td>0.1</td>\n",
       "      <td>[1.0964998875525962, 1.077890991237727, 1.0608...</td>\n",
       "      <td>[1.084106734973401, 1.0758673188719923, 1.0685...</td>\n",
       "    </tr>\n",
       "    <tr>\n",
       "      <th>3</th>\n",
       "      <td>0.977303</td>\n",
       "      <td>4730.79</td>\n",
       "      <td>20</td>\n",
       "      <td>40</td>\n",
       "      <td>1234</td>\n",
       "      <td>0.004</td>\n",
       "      <td>0.004</td>\n",
       "      <td>0.001</td>\n",
       "      <td>True</td>\n",
       "      <td>True</td>\n",
       "      <td>False</td>\n",
       "      <td>True</td>\n",
       "      <td>False</td>\n",
       "      <td>0.05</td>\n",
       "      <td>0.05</td>\n",
       "      <td>0.001</td>\n",
       "      <td>0.001</td>\n",
       "      <td>0.001</td>\n",
       "      <td>0.01</td>\n",
       "      <td>0.5</td>\n",
       "      <td>5</td>\n",
       "      <td>5</td>\n",
       "      <td>0.8</td>\n",
       "      <td>0.1</td>\n",
       "      <td>0.1</td>\n",
       "      <td>[1.0972634826578922, 1.0768362886928646, 1.058...</td>\n",
       "      <td>[1.0846694856842962, 1.0764145198595443, 1.069...</td>\n",
       "    </tr>\n",
       "  </tbody>\n",
       "</table>\n",
       "</div>"
      ],
      "text/plain": [
       "   RMSE_test  train_speed nolf n_epochs random_state  alpha  alpha_b  \\\n",
       "6   0.973801      5955.84   20       40         1234  0.004    0.004   \n",
       "4   0.973846      4631.19   20       40         1234  0.004    0.004   \n",
       "0   0.974660       735.11   20       40         1234  0.004    0.004   \n",
       "3   0.977303      4730.79   20       40         1234  0.004    0.004   \n",
       "\n",
       "   alpha_cb  stop use_bias use_color use_impl_fb use_weight_ver  bu_reg  \\\n",
       "6     0.001  True     True     False        True          False    0.05   \n",
       "4     0.001  True     True     False        True          False    0.05   \n",
       "0     0.001  True     True     False       False          False    0.05   \n",
       "3     0.001  True     True     False        True          False    0.05   \n",
       "\n",
       "   bi_reg  pu_reg  qi_reg  x_reg  cb_reg  ver_weight u_thres i_thres  \\\n",
       "6    0.05   0.001   0.001  2.000    0.01         0.5       5       5   \n",
       "4    0.05   0.001   0.001  0.500    0.01         0.5       5       5   \n",
       "0    0.05   0.001   0.001  0.001    0.01         0.5       5       5   \n",
       "3    0.05   0.001   0.001  0.001    0.01         0.5       5       5   \n",
       "\n",
       "   train_size  test_size  val_size  \\\n",
       "6         0.8        0.1       0.1   \n",
       "4         0.8        0.1       0.1   \n",
       "0         0.8        0.1       0.1   \n",
       "3         0.8        0.1       0.1   \n",
       "\n",
       "                                          train_rmse  \\\n",
       "6  [1.0969116476784215, 1.077229741787626, 1.0596...   \n",
       "4  [1.097150938913198, 1.0771435306183033, 1.0591...   \n",
       "0  [1.0964998875525962, 1.077890991237727, 1.0608...   \n",
       "3  [1.0972634826578922, 1.0768362886928646, 1.058...   \n",
       "\n",
       "                                            val_rmse  \n",
       "6  [1.0837589423958007, 1.0754705353744252, 1.068...  \n",
       "4  [1.0839654683510576, 1.07568371842164, 1.06832...  \n",
       "0  [1.084106734973401, 1.0758673188719923, 1.0685...  \n",
       "3  [1.0846694856842962, 1.0764145198595443, 1.069...  "
      ]
     },
     "execution_count": 129,
     "metadata": {},
     "output_type": "execute_result"
    }
   ],
   "source": [
    "results_amazon.sort_values('RMSE_test')"
   ]
  },
  {
   "cell_type": "code",
   "execution_count": 150,
   "metadata": {},
   "outputs": [
    {
     "name": "stdout",
     "output_type": "stream",
     "text": [
      "0.9738008513773665 0.97465995560912\n"
     ]
    }
   ],
   "source": [
    "best_impl_fb = results_amazon.sort_values('RMSE_test').iloc[0]['RMSE_test']\n",
    "best_basic = results_amazon[results_amazon['use_impl_fb'] == False]['RMSE_test'][0]\n",
    "print(best_impl_fb, best_basic)"
   ]
  },
  {
   "cell_type": "code",
   "execution_count": 162,
   "metadata": {},
   "outputs": [
    {
     "data": {
      "text/plain": [
       "(0.86, 0.98)"
      ]
     },
     "execution_count": 162,
     "metadata": {},
     "output_type": "execute_result"
    },
    {
     "data": {
      "image/png": "[encoded data removed]",
      "text/plain": [
       "<Figure size 432x288 with 1 Axes>"
      ]
     },
     "metadata": {
      "needs_background": "light"
     },
     "output_type": "display_data"
    }
   ],
   "source": [
    "plt.bar(range(2), [best_impl_fb, best_basic])\n",
    "plt.ylim([0.86,0.98])"
   ]
  },
  {
   "cell_type": "code",
   "execution_count": 158,
   "metadata": {},
   "outputs": [
    {
     "data": {
      "text/html": [
       "<div>\n",
       "<style scoped>\n",
       "    .dataframe tbody tr th:only-of-type {\n",
       "        vertical-align: middle;\n",
       "    }\n",
       "\n",
       "    .dataframe tbody tr th {\n",
       "        vertical-align: top;\n",
       "    }\n",
       "\n",
       "    .dataframe thead th {\n",
       "        text-align: right;\n",
       "    }\n",
       "</style>\n",
       "<table border=\"1\" class=\"dataframe\">\n",
       "  <thead>\n",
       "    <tr style=\"text-align: right;\">\n",
       "      <th></th>\n",
       "      <th>RMSE_test</th>\n",
       "      <th>train_speed</th>\n",
       "      <th>nolf</th>\n",
       "      <th>n_epochs</th>\n",
       "      <th>random_state</th>\n",
       "      <th>alpha</th>\n",
       "      <th>alpha_b</th>\n",
       "      <th>alpha_cb</th>\n",
       "      <th>stop</th>\n",
       "      <th>use_bias</th>\n",
       "      <th>use_color</th>\n",
       "      <th>use_impl_fb</th>\n",
       "      <th>use_weight_ver</th>\n",
       "      <th>bu_reg</th>\n",
       "      <th>bi_reg</th>\n",
       "      <th>pu_reg</th>\n",
       "      <th>qi_reg</th>\n",
       "      <th>x_reg</th>\n",
       "      <th>cb_reg</th>\n",
       "      <th>ver_weight</th>\n",
       "      <th>u_thres</th>\n",
       "      <th>i_thres</th>\n",
       "      <th>train_size</th>\n",
       "      <th>test_size</th>\n",
       "      <th>val_size</th>\n",
       "      <th>train_rmse</th>\n",
       "      <th>val_rmse</th>\n",
       "    </tr>\n",
       "  </thead>\n",
       "  <tbody>\n",
       "    <tr>\n",
       "      <th>7</th>\n",
       "      <td>0.887902</td>\n",
       "      <td>7476.37</td>\n",
       "      <td>20</td>\n",
       "      <td>40</td>\n",
       "      <td>1234</td>\n",
       "      <td>0.004</td>\n",
       "      <td>0.004</td>\n",
       "      <td>0.001</td>\n",
       "      <td>True</td>\n",
       "      <td>True</td>\n",
       "      <td>False</td>\n",
       "      <td>True</td>\n",
       "      <td>False</td>\n",
       "      <td>0.05</td>\n",
       "      <td>0.05</td>\n",
       "      <td>0.001</td>\n",
       "      <td>0.001</td>\n",
       "      <td>2.000</td>\n",
       "      <td>0.01</td>\n",
       "      <td>0.5</td>\n",
       "      <td>5</td>\n",
       "      <td>5</td>\n",
       "      <td>0.8</td>\n",
       "      <td>0.1</td>\n",
       "      <td>0.1</td>\n",
       "      <td>[1.004291125392521, 0.9585592188954637, 0.9345...</td>\n",
       "      <td>[0.9806332918833931, 0.9571463139308806, 0.942...</td>\n",
       "    </tr>\n",
       "    <tr>\n",
       "      <th>1</th>\n",
       "      <td>0.888983</td>\n",
       "      <td>465.07</td>\n",
       "      <td>20</td>\n",
       "      <td>40</td>\n",
       "      <td>1234</td>\n",
       "      <td>0.004</td>\n",
       "      <td>0.004</td>\n",
       "      <td>0.001</td>\n",
       "      <td>True</td>\n",
       "      <td>True</td>\n",
       "      <td>False</td>\n",
       "      <td>False</td>\n",
       "      <td>False</td>\n",
       "      <td>0.05</td>\n",
       "      <td>0.05</td>\n",
       "      <td>0.001</td>\n",
       "      <td>0.001</td>\n",
       "      <td>0.001</td>\n",
       "      <td>0.01</td>\n",
       "      <td>0.5</td>\n",
       "      <td>5</td>\n",
       "      <td>5</td>\n",
       "      <td>0.8</td>\n",
       "      <td>0.1</td>\n",
       "      <td>0.1</td>\n",
       "      <td>[1.0043209703724225, 0.9585997879316766, 0.934...</td>\n",
       "      <td>[0.9806632719832211, 0.9571649684980635, 0.942...</td>\n",
       "    </tr>\n",
       "    <tr>\n",
       "      <th>5</th>\n",
       "      <td>0.889150</td>\n",
       "      <td>5334.53</td>\n",
       "      <td>20</td>\n",
       "      <td>40</td>\n",
       "      <td>1234</td>\n",
       "      <td>0.004</td>\n",
       "      <td>0.004</td>\n",
       "      <td>0.001</td>\n",
       "      <td>True</td>\n",
       "      <td>True</td>\n",
       "      <td>False</td>\n",
       "      <td>True</td>\n",
       "      <td>False</td>\n",
       "      <td>0.05</td>\n",
       "      <td>0.05</td>\n",
       "      <td>0.001</td>\n",
       "      <td>0.001</td>\n",
       "      <td>0.500</td>\n",
       "      <td>0.01</td>\n",
       "      <td>0.5</td>\n",
       "      <td>5</td>\n",
       "      <td>5</td>\n",
       "      <td>0.8</td>\n",
       "      <td>0.1</td>\n",
       "      <td>0.1</td>\n",
       "      <td>[1.0043539915594077, 0.9584704485902822, 0.934...</td>\n",
       "      <td>[0.9808354598102975, 0.9573517194884253, 0.942...</td>\n",
       "    </tr>\n",
       "    <tr>\n",
       "      <th>2</th>\n",
       "      <td>0.901546</td>\n",
       "      <td>4008.69</td>\n",
       "      <td>20</td>\n",
       "      <td>40</td>\n",
       "      <td>1234</td>\n",
       "      <td>0.004</td>\n",
       "      <td>0.004</td>\n",
       "      <td>0.001</td>\n",
       "      <td>True</td>\n",
       "      <td>True</td>\n",
       "      <td>False</td>\n",
       "      <td>True</td>\n",
       "      <td>False</td>\n",
       "      <td>0.05</td>\n",
       "      <td>0.05</td>\n",
       "      <td>0.001</td>\n",
       "      <td>0.001</td>\n",
       "      <td>0.001</td>\n",
       "      <td>0.01</td>\n",
       "      <td>0.5</td>\n",
       "      <td>5</td>\n",
       "      <td>5</td>\n",
       "      <td>0.8</td>\n",
       "      <td>0.1</td>\n",
       "      <td>0.1</td>\n",
       "      <td>[1.0046325333388055, 0.9575346658147529, 0.932...</td>\n",
       "      <td>[0.9817306182226897, 0.9583214980718305, 0.943...</td>\n",
       "    </tr>\n",
       "  </tbody>\n",
       "</table>\n",
       "</div>"
      ],
      "text/plain": [
       "   RMSE_test  train_speed nolf n_epochs random_state  alpha  alpha_b  \\\n",
       "7   0.887902      7476.37   20       40         1234  0.004    0.004   \n",
       "1   0.888983       465.07   20       40         1234  0.004    0.004   \n",
       "5   0.889150      5334.53   20       40         1234  0.004    0.004   \n",
       "2   0.901546      4008.69   20       40         1234  0.004    0.004   \n",
       "\n",
       "   alpha_cb  stop use_bias use_color use_impl_fb use_weight_ver  bu_reg  \\\n",
       "7     0.001  True     True     False        True          False    0.05   \n",
       "1     0.001  True     True     False       False          False    0.05   \n",
       "5     0.001  True     True     False        True          False    0.05   \n",
       "2     0.001  True     True     False        True          False    0.05   \n",
       "\n",
       "   bi_reg  pu_reg  qi_reg  x_reg  cb_reg  ver_weight u_thres i_thres  \\\n",
       "7    0.05   0.001   0.001  2.000    0.01         0.5       5       5   \n",
       "1    0.05   0.001   0.001  0.001    0.01         0.5       5       5   \n",
       "5    0.05   0.001   0.001  0.500    0.01         0.5       5       5   \n",
       "2    0.05   0.001   0.001  0.001    0.01         0.5       5       5   \n",
       "\n",
       "   train_size  test_size  val_size  \\\n",
       "7         0.8        0.1       0.1   \n",
       "1         0.8        0.1       0.1   \n",
       "5         0.8        0.1       0.1   \n",
       "2         0.8        0.1       0.1   \n",
       "\n",
       "                                          train_rmse  \\\n",
       "7  [1.004291125392521, 0.9585592188954637, 0.9345...   \n",
       "1  [1.0043209703724225, 0.9585997879316766, 0.934...   \n",
       "5  [1.0043539915594077, 0.9584704485902822, 0.934...   \n",
       "2  [1.0046325333388055, 0.9575346658147529, 0.932...   \n",
       "\n",
       "                                            val_rmse  \n",
       "7  [0.9806332918833931, 0.9571463139308806, 0.942...  \n",
       "1  [0.9806632719832211, 0.9571649684980635, 0.942...  \n",
       "5  [0.9808354598102975, 0.9573517194884253, 0.942...  \n",
       "2  [0.9817306182226897, 0.9583214980718305, 0.943...  "
      ]
     },
     "execution_count": 158,
     "metadata": {},
     "output_type": "execute_result"
    }
   ],
   "source": [
    "results_ml.sort_values('RMSE_test')"
   ]
  },
  {
   "cell_type": "code",
   "execution_count": 159,
   "metadata": {},
   "outputs": [
    {
     "name": "stdout",
     "output_type": "stream",
     "text": [
      "0.8879020055996585 0.8889826841707456\n"
     ]
    }
   ],
   "source": [
    "best_impl_fb_ml = results_ml.sort_values('RMSE_test').iloc[0]['RMSE_test']\n",
    "best_basic_ml = results_ml.sort_values('RMSE_test').iloc[1]['RMSE_test']\n",
    "print(best_impl_fb_ml, best_basic_ml)"
   ]
  },
  {
   "cell_type": "code",
   "execution_count": 163,
   "metadata": {},
   "outputs": [
    {
     "data": {
      "text/plain": [
       "(0.86, 0.98)"
      ]
     },
     "execution_count": 163,
     "metadata": {},
     "output_type": "execute_result"
    },
    {
     "data": {
      "image/png": "[encoded data removed]",
      "text/plain": [
       "<Figure size 432x288 with 1 Axes>"
      ]
     },
     "metadata": {
      "needs_background": "light"
     },
     "output_type": "display_data"
    }
   ],
   "source": [
    "plt.bar(range(2), [best_impl_fb_ml, best_basic_ml])\n",
    "plt.ylim([0.86,0.98])"
   ]
  },
  {
   "cell_type": "markdown",
   "metadata": {},
   "source": [
    "## Delete last results"
   ]
  },
  {
   "cell_type": "code",
   "execution_count": null,
   "metadata": {},
   "outputs": [],
   "source": [
    "# pd.read_pickle(log_path + res_name)[1:].to_pickle(log_path + res_name)"
   ]
  },
  {
   "cell_type": "markdown",
   "metadata": {},
   "source": [
    "# Cross Validation all algs data with #ratings/item & user > 3"
   ]
  },
  {
   "cell_type": "code",
   "execution_count": null,
   "metadata": {},
   "outputs": [],
   "source": [
    "from sklearn.model_selection import KFold\n",
    "def cv(data, params, n_splits, res_name, model_res_name):\n",
    "    kf = KFold(n_splits = n_splits, shuffle = True)\n",
    "    full_data = data\n",
    "    scores = []\n",
    "\n",
    "    for i in range(n_splits):\n",
    "        result = next(kf.split(full_data), None)\n",
    "        train_set = full_data.iloc[result[0]]\n",
    "        test_set = full_data.iloc[result[1]]\n",
    "        model = SVD(params, total_users, total_items)\n",
    "        model.fit(train_set, verbose = 1000, plot = False)\n",
    "        \n",
    "        model.test(test_set)\n",
    "        model.store_results('', model_res_name, user_thres, item_thres)  \n",
    "\n",
    "    df_cv_results = pd.read_pickle(model_res_name)[-5:]\n",
    "    params_dict = df_cv_results.iloc[0][['nolf', 'n_epochs', 'random_state', 'alpha', 'alpha_b', 'use_bias', 'use_impl_fb', 'use_color', 'use_weight_ver', 'ver_weight' 'bu_reg', 'bi_reg', 'pu_reg', 'qi_reg', 'x_reg', 'u_thres', 'i_thres', 'train_size', 'test_size', 'train_rmse']].to_dict()\n",
    "    avg_rmse_dict = {'avg_rmse_test':np.average(df_cv_results['RMSE_test'])}\n",
    "    final_dict = {**avg_rmse_dict, **params_dict}\n",
    "\n",
    "    if not os.path.exists(res_name):\n",
    "        cv_res = pd.DataFrame(columns=final_dict.keys())\n",
    "        print('new results created')\n",
    "\n",
    "    else:\n",
    "        cv_res = pd.read_pickle(res_name)\n",
    "        print('results added')\n",
    "\n",
    "    cv_res = cv_res.append(final_dict, ignore_index=True)\n",
    "    pd.to_pickle(cv_res, res_name)"
   ]
  },
  {
   "cell_type": "markdown",
   "metadata": {},
   "source": [
    "## Bias Only"
   ]
  },
  {
   "cell_type": "code",
   "execution_count": null,
   "metadata": {},
   "outputs": [],
   "source": [
    "params"
   ]
  },
  {
   "cell_type": "code",
   "execution_count": null,
   "metadata": {},
   "outputs": [],
   "source": [
    "log_path = 'Results/'\n",
    "res_name = log_path + 'cv_#ratings_ui_above_3_all_algs'\n",
    "cv_res_name = log_path + 'cv_#ratings_ui_above_3_bias_only'\n",
    "n_splits = 5\n",
    "\n",
    "cv(df_new_ids, params, n_splits, res_name, cv_res_name)"
   ]
  },
  {
   "cell_type": "markdown",
   "metadata": {},
   "source": [
    "## Weighted Verification and Bias"
   ]
  },
  {
   "cell_type": "code",
   "execution_count": null,
   "metadata": {},
   "outputs": [],
   "source": [
    "params"
   ]
  },
  {
   "cell_type": "code",
   "execution_count": null,
   "metadata": {},
   "outputs": [],
   "source": [
    "params['use_weight_ver'] = True\n",
    "params['ver_weight'] = 0.7\n",
    "log_path = 'Results/'\n",
    "res_name = log_path + 'cv_#ratings_ui_above_3_all_algs'\n",
    "cv_res_name = log_path + 'cv_#ratings_ui_above_3_ver_weight'\n",
    "n_splits = 5\n",
    "\n",
    "cv(df_new_ids, params, n_splits, res_name, cv_res_name)"
   ]
  },
  {
   "cell_type": "markdown",
   "metadata": {},
   "source": [
    "## Impl_fb with Bias"
   ]
  },
  {
   "cell_type": "code",
   "execution_count": null,
   "metadata": {},
   "outputs": [],
   "source": [
    "params"
   ]
  },
  {
   "cell_type": "code",
   "execution_count": null,
   "metadata": {},
   "outputs": [],
   "source": [
    "params['use_weight_ver'] = False\n",
    "params['use_impl_fb'] = True\n",
    "params['x_reg'] = 0.01\n",
    "log_path = 'Results/'\n",
    "res_name = log_path + 'cv_#ratings_ui_above_3_all_algs'\n",
    "cv_res_name = log_path + 'cv_#ratings_ui_above_3_impl_fb'\n",
    "n_splits = 5\n",
    "\n",
    "cv(df_new_ids, params, n_splits, res_name, cv_res_name)"
   ]
  },
  {
   "cell_type": "markdown",
   "metadata": {},
   "source": [
    "## Color attribute with Bias"
   ]
  },
  {
   "cell_type": "code",
   "execution_count": null,
   "metadata": {},
   "outputs": [],
   "source": [
    "params"
   ]
  },
  {
   "cell_type": "code",
   "execution_count": null,
   "metadata": {},
   "outputs": [],
   "source": [
    "params['use_impl_fb'] = False\n",
    "params['use_color'] = True\n",
    "log_path = 'Results/'\n",
    "res_name = log_path + 'cv_#ratings_ui_above_3_all_algs'\n",
    "cv_res_name = log_path + 'cv_#ratings_ui_above_3_color'\n",
    "n_splits = 5\n",
    "\n",
    "cv(df_new_ids, params, n_splits, res_name, cv_res_name)"
   ]
  },
  {
   "cell_type": "markdown",
   "metadata": {},
   "source": [
    "## Impl_fb with verification weights and Bias"
   ]
  },
  {
   "cell_type": "code",
   "execution_count": null,
   "metadata": {},
   "outputs": [],
   "source": [
    "params"
   ]
  },
  {
   "cell_type": "code",
   "execution_count": null,
   "metadata": {
    "scrolled": true
   },
   "outputs": [],
   "source": [
    "params['use_impl_fb'] = True\n",
    "params['use_color'] = False\n",
    "params['use_weight_ver'] = True\n",
    "log_path = 'Results/'\n",
    "res_name = log_path + 'cv_#ratings_ui_above_3_all_algs'\n",
    "cv_res_name = log_path + 'cv_#ratings_ui_above_3_ver_weight_impl_fb'\n",
    "n_splits = 5\n",
    "\n",
    "cv(df_new_ids, params, n_splits, res_name, cv_res_name)"
   ]
  },
  {
   "cell_type": "markdown",
   "metadata": {},
   "source": [
    "## Color, impl_fb, weight_ver and bias"
   ]
  },
  {
   "cell_type": "code",
   "execution_count": null,
   "metadata": {},
   "outputs": [],
   "source": [
    "params['use_impl_fb'] = True\n",
    "params['use_color'] = True\n",
    "params['use_weight_ver'] = True\n",
    "log_path = 'Results/'\n",
    "res_name = log_path + 'cv_#ratings_ui_above_3_all_algs'\n",
    "cv_res_name = log_path + 'cv_#ratings_ui_above_3_bias_impl_fb_weight_color'\n",
    "n_splits = 5\n",
    "\n",
    "cv(df_new_ids, params, n_splits, res_name, cv_res_name)"
   ]
  },
  {
   "cell_type": "markdown",
   "metadata": {},
   "source": [
    "## Results CV all algs"
   ]
  },
  {
   "cell_type": "code",
   "execution_count": null,
   "metadata": {},
   "outputs": [],
   "source": [
    "df_cv_results = pd.read_pickle(res_name).sort_values('avg_rmse_test')\n",
    "df_cv_results"
   ]
  },
  {
   "cell_type": "markdown",
   "metadata": {},
   "source": [
    "# Cross Validation"
   ]
  },
  {
   "cell_type": "code",
   "execution_count": null,
   "metadata": {},
   "outputs": [],
   "source": [
    "res_name = 'cv_half_df_all_algs'\n",
    "cv_res_name = 'cv_res_bias'\n",
    "log_path = 'Results/'\n",
    "n_splits = 5"
   ]
  },
  {
   "cell_type": "code",
   "execution_count": null,
   "metadata": {},
   "outputs": [],
   "source": [
    "from sklearn.model_selection import KFold\n",
    "kf = KFold(n_splits = n_splits, shuffle = True)\n",
    "full_data = df_new_ids\n",
    "scores = []\n",
    "\n",
    "for i in range(n_splits):\n",
    "    result = next(kf.split(full_data), None)\n",
    "    train_set = full_data.iloc[result[0]]\n",
    "    test_set = full_data.iloc[result[1]]\n",
    "    model = SVD(params, total_users, total_items)\n",
    "    model.fit(train_set, verbose = 1000, plot = False)\n",
    "\n",
    "    model.test(test_set)\n",
    "    model.store_results(log_path, cv_res_name, user_thres, item_thres)  \n",
    "\n",
    "df_cv_results = pd.read_pickle(log_path + cv_res_name)[-5:]\n",
    "params_dict = df_cv_results.iloc[0][['nolf', 'n_epochs', 'random_state', 'alpha', 'alpha_b', 'use_bias', 'use_impl_fb', 'use_color', 'use_weight_ver', 'bu_reg', 'bi_reg', 'pu_reg', 'qi_reg', 'x_reg', 'u_thres', 'i_thres', 'train_size', 'test_size', 'train_rmse']].to_dict()\n",
    "avg_rmse_dict = {'avg_rmse_test':np.average(df_cv_results['RMSE_test'])}\n",
    "final_dict = {**avg_rmse_dict, **params_dict}\n",
    "\n",
    "if not os.path.exists(log_path + res_name):\n",
    "    cv_res = pd.DataFrame(columns=final_dict.keys())\n",
    "    print('new results created')\n",
    "\n",
    "else:\n",
    "    cv_res = pd.read_pickle(log_path + res_name)\n",
    "    print('results added')\n",
    "\n",
    "cv_res = cv_res.append(final_dict, ignore_index=True)\n",
    "pd.to_pickle(cv_res, log_path + res_name)"
   ]
  },
  {
   "cell_type": "code",
   "execution_count": null,
   "metadata": {},
   "outputs": [],
   "source": [
    "df_cv_results = pd.read_pickle(log_path + res_name).sort_values('avg_rmse_test')\n",
    "df_cv_results"
   ]
  },
  {
   "cell_type": "code",
   "execution_count": null,
   "metadata": {},
   "outputs": [],
   "source": []
  },
  {
   "cell_type": "markdown",
   "metadata": {},
   "source": [
    "# Read and View Results"
   ]
  },
  {
   "cell_type": "markdown",
   "metadata": {},
   "source": [
    "## All models"
   ]
  },
  {
   "cell_type": "code",
   "execution_count": null,
   "metadata": {
    "scrolled": true
   },
   "outputs": [],
   "source": [
    "pd.read_pickle(log_path +'all_results_movie_lens')"
   ]
  },
  {
   "cell_type": "markdown",
   "metadata": {},
   "source": [
    "### Old but gold"
   ]
  },
  {
   "cell_type": "code",
   "execution_count": null,
   "metadata": {},
   "outputs": [],
   "source": [
    "pd.read_pickle('Results/df_comparison_impl_fb')"
   ]
  },
  {
   "cell_type": "code",
   "execution_count": null,
   "metadata": {},
   "outputs": [],
   "source": [
    "df_results = pd.read_pickle('Results/' + 'df_results_svd')\n",
    "df_results.sort_values('RMSE_test')"
   ]
  },
  {
   "cell_type": "markdown",
   "metadata": {},
   "source": [
    "Note the RMSE in the first results should be higher (+1.1) due to a mistake in the calculation"
   ]
  },
  {
   "cell_type": "code",
   "execution_count": null,
   "metadata": {},
   "outputs": [],
   "source": [
    "x = ['with Bias and Reg', 'with Bias', 'Plain']\n",
    "y = [1.313160, 1.314319, 2.860927]\n",
    "\n",
    "fig, ax = plt.subplots()\n",
    "ind = np.arange(len(y))\n",
    "width = 0.8\n",
    "ax.bar(ind, y, width, color=['darkblue'])\n",
    "ax.set_xticks(ind+width/500)\n",
    "ax.set_xticklabels(x, minor=False)\n",
    "ax.set_ylabel('RMSE')\n",
    "ax.set_title('Model Comparison')\n",
    "for i, v in enumerate(y):\n",
    "    ax.text(i -0.2, v + 0.02, str(v), fontweight='bold')\n",
    "plt.show()"
   ]
  },
  {
   "cell_type": "markdown",
   "metadata": {},
   "source": [
    "## Best model train RMSE"
   ]
  },
  {
   "cell_type": "markdown",
   "metadata": {},
   "source": [
    "### Best from Comparison"
   ]
  },
  {
   "cell_type": "code",
   "execution_count": null,
   "metadata": {},
   "outputs": [],
   "source": [
    "best = df_results_b.iloc[6]\n",
    "model.plot_rmse(best['train_rmse'])"
   ]
  },
  {
   "cell_type": "markdown",
   "metadata": {},
   "source": [
    "### Best of All Models"
   ]
  },
  {
   "cell_type": "code",
   "execution_count": null,
   "metadata": {},
   "outputs": [],
   "source": [
    "best = df_results_all\n",
    "model.plot_rmse(best['train_rmse'])"
   ]
  },
  {
   "cell_type": "code",
   "execution_count": null,
   "metadata": {},
   "outputs": [],
   "source": []
  },
  {
   "cell_type": "code",
   "execution_count": null,
   "metadata": {},
   "outputs": [],
   "source": []
  },
  {
   "cell_type": "markdown",
   "metadata": {},
   "source": [
    "# Appendix"
   ]
  },
  {
   "cell_type": "markdown",
   "metadata": {},
   "source": [
    "## Data Split (Pandas)"
   ]
  },
  {
   "cell_type": "code",
   "execution_count": null,
   "metadata": {},
   "outputs": [],
   "source": [
    "# from scipy.linalg import sqrtm\n",
    "\n",
    "# X_train, X_test = train_test_split(df, test_size=0.10, shuffle=True, random_state=1234)\n",
    "# X_validation, X_test = train_test_split(X_test, test_size=0.50, shuffle=True, random_state=1234)\n",
    "\n",
    "# def create_utility_matrix(data, formatizer = {'user':0, 'item': 1, 'value': 2}):\n",
    "#     \"\"\"\n",
    "#         :param data:      Array-like, 2D, nx3\n",
    "#         :param formatizer:pass the formatizer\n",
    "#         :return:          utility matrix (n x m), n=users, m=items\n",
    "#     \"\"\"\n",
    "        \n",
    "#     itemField = formatizer['item']\n",
    "#     userField = formatizer['user']\n",
    "#     valueField = formatizer['value']\n",
    "    \n",
    "#     userList = data.iloc[:,userField].tolist()\n",
    "#     itemList = data.iloc[:,itemField].tolist()\n",
    "#     valueList = data.iloc[:,valueField].tolist()\n",
    "    \n",
    "#     users = list(set(data.iloc[:,userField]))\n",
    "#     items = list(set(data.iloc[:,itemField]))\n",
    "    \n",
    "#     users_index = {users[i]: i for i in range(len(users))}\n",
    "#     pd_dict = {item: [np.nan for i in range(len(users))] for item in items}\n",
    "    \n",
    "#     for i in range(0,len(data)):\n",
    "#         item = itemList[i]\n",
    "#         user = userList[i]\n",
    "#         value = valueList[i]\n",
    "        \n",
    "#     pd_dict[item][users_index[user]] = value\n",
    "#     X = pd.DataFrame(pd_dict)\n",
    "#     X.index = users\n",
    "        \n",
    "#     itemcols = list(X.columns)\n",
    "#     items_index = {itemcols[i]: i for i in range(len(itemcols))}\n",
    "#     # users_index gives us a mapping of user_id to index of user\n",
    "#     # items_index provides the same for items\n",
    "#     return X, users_index, items_index\n",
    "\n",
    "# X, users_index, items_index = create_utility_matrix(X_train)\n",
    "\n",
    "hide_toggle()"
   ]
  },
  {
   "cell_type": "markdown",
   "metadata": {},
   "source": [
    "## Create user item matrix"
   ]
  },
  {
   "cell_type": "code",
   "execution_count": null,
   "metadata": {},
   "outputs": [],
   "source": [
    "# n_users = df.user.unique().shape[0]\n",
    "# n_items = df.item.unique().shape[0]\n",
    "\n",
    "# ratings_train = np.zeros((n_users, n_items))\n",
    "# for row in X_train.itertuples():\n",
    "#         ratings_train[row[5], row[4]] = row[3]\n",
    "\n",
    "# pd.DataFrame(ratings_train).head()\n",
    "# # sparse.csr_matrix((X_train['rating']),shape(n_users, n_items))\n",
    "hide_toggle()"
   ]
  },
  {
   "cell_type": "markdown",
   "metadata": {},
   "source": [
    "## Different SGD coding"
   ]
  },
  {
   "cell_type": "code",
   "execution_count": null,
   "metadata": {},
   "outputs": [],
   "source": [
    "# user_item_combos = 0\n",
    "# for epoch in range(n_epochs):\n",
    "#     for u in range(ratings_train.shape[0]): #users\n",
    "#         for i in range(ratings_train.shape[1]): #items\n",
    "#             r_ui = ratings_train[u,i]\n",
    "            \n",
    "#             if  r_ui != 0:\n",
    "#                 user_item_combos += 1\n",
    "#                 error = r_ui - np.dot(p[u], q[i])\n",
    "                \n",
    "#                 p[u] += alpha *(error * q[i])\n",
    "#                 q[i] += alpha * (error * p[u])\n",
    "                \n",
    "#                 total_error += np.square(error)\n",
    "# #         print(total_error)\n",
    "#     rmse = math.sqrt(total_error)\n",
    "#     print('epoch: ', epoch)#, '  rmse: ', rmse)\n",
    "#     print(user_item_combos, X_train['rating'].shape[0])\n",
    "hide_toggle()"
   ]
  },
  {
   "cell_type": "markdown",
   "metadata": {},
   "source": [
    "## With regularization"
   ]
  },
  {
   "cell_type": "code",
   "execution_count": null,
   "metadata": {},
   "outputs": [],
   "source": [
    "# b_user[u] += alpha_b * (error - bu_reg * b_user[u])\n",
    "# b_item[i] += alpha_b * (error - bi_reg * b_item[i])\n",
    "            \n",
    "# p[u] += alpha * (error * q[i] - pu_reg * p[u])\n",
    "# q[i] += alpha * (error * p[u] - qi_reg * q[i])\n",
    "hide_toggle()"
   ]
  },
  {
   "cell_type": "markdown",
   "metadata": {},
   "source": [
    "## Colors binary split"
   ]
  },
  {
   "cell_type": "code",
   "execution_count": null,
   "metadata": {},
   "outputs": [],
   "source": [
    "# plt.rcParams['figure.figsize'] = [8,6]\n",
    "# pop_col = (df.groupby('Color:')['rating'].count().sort_values(ascending=False)[0:35]/len(df)).sum()\n",
    "# non_pop_col = (df.groupby('Color:')['rating'].count().sort_values(ascending=False)[35:]/len(df)).sum()\n",
    "\n",
    "# bars = plt.bar(['pop_col', 'non_pop_col'], [pop_col, non_pop_col])\n",
    "# plt.text(bars[0].get_x() + 0.13, pop_col + -0.05, pop_col, color=\"white\", fontweight = 'bold')\n",
    "# plt.text(bars[1].get_x() + 0.13, non_pop_col + -0.05, non_pop_col, color=\"white\", fontweight = 'bold')\n",
    "# plt.title('Binary split between 35 most populair colors and non populair colors')\n",
    "# plt.show()"
   ]
  },
  {
   "cell_type": "code",
   "execution_count": null,
   "metadata": {},
   "outputs": [],
   "source": [
    "# pop_colors = df.groupby('Color:')['rating'].count().sort_values(ascending=False)[0:35] \n",
    "\n",
    "# def pop_color(x):\n",
    "#     x = x['Color:']\n",
    "#     if x in pop_colors:\n",
    "#         return 1\n",
    "#     elif x not in pop_colors:\n",
    "#         return 0\n",
    "#     else:\n",
    "#         return False\n",
    "\n",
    "# temp_df = pd.DataFrame()\n",
    "# temp_df['bin_pop_col'] = df.apply(pop_color, axis=1, result_type='expand')\n",
    "# df = df.merge(temp_df, left_index=True, right_index=True)"
   ]
  },
  {
   "cell_type": "code",
   "execution_count": null,
   "metadata": {},
   "outputs": [],
   "source": []
  }
 ],
 "metadata": {
  "kernelspec": {
   "display_name": "Python 3",
   "language": "python",
   "name": "python3"
  },
  "language_info": {
   "codemirror_mode": {
    "name": "ipython",
    "version": 3
   },
   "file_extension": ".py",
   "mimetype": "text/x-python",
   "name": "python",
   "nbconvert_exporter": "python",
   "pygments_lexer": "ipython3",
   "version": "3.7.6"
  },
  "toc": {
   "base_numbering": 1,
   "nav_menu": {},
   "number_sections": true,
   "sideBar": true,
   "skip_h1_title": false,
   "title_cell": "Table of Contents",
   "title_sidebar": "Contents",
   "toc_cell": false,
   "toc_position": {
    "height": "375.742px",
    "left": "1048.75px",
    "top": "110.57px",
    "width": "164.988px"
   },
   "toc_section_display": true,
   "toc_window_display": true
  }
 },
 "nbformat": 4,
 "nbformat_minor": 2
}
