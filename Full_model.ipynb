{
 "cells": [
  {
   "cell_type": "code",
   "execution_count": 389,
   "metadata": {},
   "outputs": [],
   "source": [
    "import pandas as pd\n",
    "import numpy as np\n",
    "import matplotlib.pyplot as plt\n",
    "import math\n",
    "import os\n",
    "import time\n",
    "\n",
    "from scipy import sparse\n",
    "from sklearn.model_selection import train_test_split\n",
    "from sklearn.preprocessing import StandardScaler\n",
    "\n",
    "pd.set_option('display.max_columns', 100)"
   ]
  },
  {
   "cell_type": "markdown",
   "metadata": {},
   "source": [
    "# Read Data"
   ]
  },
  {
   "cell_type": "markdown",
   "metadata": {},
   "source": [
    "## Amazon Fashion"
   ]
  },
  {
   "cell_type": "code",
   "execution_count": 390,
   "metadata": {},
   "outputs": [
    {
     "data": {
      "text/html": [
       "<div>\n",
       "<style scoped>\n",
       "    .dataframe tbody tr th:only-of-type {\n",
       "        vertical-align: middle;\n",
       "    }\n",
       "\n",
       "    .dataframe tbody tr th {\n",
       "        vertical-align: top;\n",
       "    }\n",
       "\n",
       "    .dataframe thead th {\n",
       "        text-align: right;\n",
       "    }\n",
       "</style>\n",
       "<table border=\"1\" class=\"dataframe\">\n",
       "  <thead>\n",
       "    <tr style=\"text-align: right;\">\n",
       "      <th></th>\n",
       "      <th>item</th>\n",
       "      <th>user</th>\n",
       "      <th>rating</th>\n",
       "    </tr>\n",
       "  </thead>\n",
       "  <tbody>\n",
       "    <tr>\n",
       "      <th>0</th>\n",
       "      <td>7106116521</td>\n",
       "      <td>A1D4G1SNUZWQOT</td>\n",
       "      <td>5.0</td>\n",
       "    </tr>\n",
       "    <tr>\n",
       "      <th>1</th>\n",
       "      <td>7106116521</td>\n",
       "      <td>A3DDWDH9PX2YX2</td>\n",
       "      <td>2.0</td>\n",
       "    </tr>\n",
       "    <tr>\n",
       "      <th>2</th>\n",
       "      <td>7106116521</td>\n",
       "      <td>A2MWC41EW7XL15</td>\n",
       "      <td>4.0</td>\n",
       "    </tr>\n",
       "    <tr>\n",
       "      <th>3</th>\n",
       "      <td>7106116521</td>\n",
       "      <td>A2UH2QQ275NV45</td>\n",
       "      <td>2.0</td>\n",
       "    </tr>\n",
       "    <tr>\n",
       "      <th>4</th>\n",
       "      <td>7106116521</td>\n",
       "      <td>A89F3LQADZBS5</td>\n",
       "      <td>3.0</td>\n",
       "    </tr>\n",
       "  </tbody>\n",
       "</table>\n",
       "</div>"
      ],
      "text/plain": [
       "         item            user  rating\n",
       "0  7106116521  A1D4G1SNUZWQOT     5.0\n",
       "1  7106116521  A3DDWDH9PX2YX2     2.0\n",
       "2  7106116521  A2MWC41EW7XL15     4.0\n",
       "3  7106116521  A2UH2QQ275NV45     2.0\n",
       "4  7106116521   A89F3LQADZBS5     3.0"
      ]
     },
     "execution_count": 390,
     "metadata": {},
     "output_type": "execute_result"
    }
   ],
   "source": [
    "df = pd.read_csv('Data/amazon_fashion.csv', names=['item','user','rating'])\n",
    "df.head()"
   ]
  },
  {
   "cell_type": "code",
   "execution_count": 391,
   "metadata": {},
   "outputs": [],
   "source": [
    "df['rating'] = df['rating'].astype(int)"
   ]
  },
  {
   "cell_type": "markdown",
   "metadata": {},
   "source": [
    "## MovieLens"
   ]
  },
  {
   "cell_type": "code",
   "execution_count": 377,
   "metadata": {},
   "outputs": [
    {
     "name": "stdout",
     "output_type": "stream",
     "text": [
      "rating interval: 0.5 , 5.0\n"
     ]
    },
    {
     "data": {
      "text/html": [
       "<div>\n",
       "<style scoped>\n",
       "    .dataframe tbody tr th:only-of-type {\n",
       "        vertical-align: middle;\n",
       "    }\n",
       "\n",
       "    .dataframe tbody tr th {\n",
       "        vertical-align: top;\n",
       "    }\n",
       "\n",
       "    .dataframe thead th {\n",
       "        text-align: right;\n",
       "    }\n",
       "</style>\n",
       "<table border=\"1\" class=\"dataframe\">\n",
       "  <thead>\n",
       "    <tr style=\"text-align: right;\">\n",
       "      <th></th>\n",
       "      <th>user</th>\n",
       "      <th>item</th>\n",
       "      <th>rating</th>\n",
       "    </tr>\n",
       "  </thead>\n",
       "  <tbody>\n",
       "    <tr>\n",
       "      <th>0</th>\n",
       "      <td>1</td>\n",
       "      <td>31</td>\n",
       "      <td>2.5</td>\n",
       "    </tr>\n",
       "    <tr>\n",
       "      <th>1</th>\n",
       "      <td>1</td>\n",
       "      <td>1029</td>\n",
       "      <td>3.0</td>\n",
       "    </tr>\n",
       "    <tr>\n",
       "      <th>2</th>\n",
       "      <td>1</td>\n",
       "      <td>1061</td>\n",
       "      <td>3.0</td>\n",
       "    </tr>\n",
       "    <tr>\n",
       "      <th>3</th>\n",
       "      <td>1</td>\n",
       "      <td>1129</td>\n",
       "      <td>2.0</td>\n",
       "    </tr>\n",
       "    <tr>\n",
       "      <th>4</th>\n",
       "      <td>1</td>\n",
       "      <td>1172</td>\n",
       "      <td>4.0</td>\n",
       "    </tr>\n",
       "  </tbody>\n",
       "</table>\n",
       "</div>"
      ],
      "text/plain": [
       "   user  item  rating\n",
       "0     1    31     2.5\n",
       "1     1  1029     3.0\n",
       "2     1  1061     3.0\n",
       "3     1  1129     2.0\n",
       "4     1  1172     4.0"
      ]
     },
     "execution_count": 377,
     "metadata": {},
     "output_type": "execute_result"
    }
   ],
   "source": [
    "df = pd.read_csv('Data/movie_lens_ratings_small.csv').drop(columns=['timestamp'])\n",
    "df.head()\n",
    "df.columns = ['user', 'item', 'rating']\n",
    "print('rating interval:', df.rating.unique().min(), ',', df.rating.unique().max())\n",
    "df.head()"
   ]
  },
  {
   "cell_type": "markdown",
   "metadata": {},
   "source": [
    "# Data Exploration\n",
    "\n",
    "First filtering active users and rated items with x or more ratings:"
   ]
  },
  {
   "cell_type": "code",
   "execution_count": 392,
   "metadata": {},
   "outputs": [],
   "source": [
    "item_thres = 1\n",
    "user_thres = 1"
   ]
  },
  {
   "cell_type": "code",
   "execution_count": 393,
   "metadata": {},
   "outputs": [],
   "source": [
    "df['#ratings'] = df.groupby('item')['item'].transform('count')\n",
    "df = df[df['#ratings'] >= item_thres].drop(columns=['#ratings'])\n",
    "\n",
    "df['#ratings'] = df.groupby('user')['user'].transform('count')\n",
    "df = df[df['#ratings'] >= user_thres].drop(columns=['#ratings'])"
   ]
  },
  {
   "cell_type": "code",
   "execution_count": 394,
   "metadata": {},
   "outputs": [],
   "source": [
    "norpu = df.groupby('user')['rating'].count().mean()\n",
    "total_users = df.user.unique().size\n",
    "total_items = df.item.unique().size"
   ]
  },
  {
   "cell_type": "markdown",
   "metadata": {},
   "source": [
    "## Sub Sample"
   ]
  },
  {
   "cell_type": "code",
   "execution_count": 328,
   "metadata": {},
   "outputs": [],
   "source": [
    "df = df.sample(frac=0.1, random_state=1234)"
   ]
  },
  {
   "cell_type": "code",
   "execution_count": 395,
   "metadata": {},
   "outputs": [
    {
     "name": "stdout",
     "output_type": "stream",
     "text": [
      "rows  883636 \n",
      "#ratings 883636 \n",
      "#ratings/user 1.18 \n",
      "average rating 3.91 \n",
      "#users  749233 \n",
      "#items  186189\n"
     ]
    },
    {
     "data": {
      "image/png": "[encoded data removed]",
      "text/plain": [
       "<Figure size 432x288 with 1 Axes>"
      ]
     },
     "metadata": {
      "needs_background": "light"
     },
     "output_type": "display_data"
    }
   ],
   "source": [
    "print('rows ', len(df), '\\n#ratings', len(df[df['rating'] != 0]), '\\n#ratings/user', round(norpu,2), '\\naverage rating', \"{0:.2f}\".format(np.average(df['rating'])), '\\n#users ', df['user'].unique().size, '\\n#items ', df['item'].unique().size)\n",
    "df.hist(column='rating', bins=5, grid=False)\n",
    "plt.title('Rating Distribution')\n",
    "plt.xlabel('Rating')\n",
    "plt.ylabel('Count')\n",
    "plt.xticks(range(1,6))\n",
    "plt.show()"
   ]
  },
  {
   "cell_type": "markdown",
   "metadata": {},
   "source": [
    "# Model"
   ]
  },
  {
   "cell_type": "code",
   "execution_count": 396,
   "metadata": {},
   "outputs": [],
   "source": [
    "class SVD:\n",
    "    \"\"\"\" All functions used to run, test, plot and store the\n",
    "    Singular Value Decomposition Model\"\"\"\n",
    "\n",
    "    def __init__(self, params, total_users, total_items):\n",
    "        self.nolf = params['nolf']\n",
    "        self.n_epochs = params['n_epochs']\n",
    "        self.alpha = params['alpha']\n",
    "        self.alpha_b = params['alpha_b']\n",
    "        self.use_bias = params['use_bias']\n",
    "        self.use_impl_fb = params['use_impl_fb']\n",
    "        self.bu_reg = params['bu_reg']\n",
    "        self.bi_reg = params['bi_reg']\n",
    "        self.pu_reg = params['pu_reg']\n",
    "        self.qi_reg = params['qi_reg']\n",
    "        self.x_reg = params['x_reg']\n",
    "        self.stop = params['stop']\n",
    "        self.random_state = params['random_state']\n",
    "        self.total_users = total_users\n",
    "        self.total_items = total_items\n",
    "        self.params = params\n",
    "        self.mu = 0 \n",
    "        self.N = []\n",
    "        self.N_test = []\n",
    "\n",
    "        self.train_data = pd.DataFrame()\n",
    "        self.test_data = pd.DataFrame()\n",
    "        self.val_data = pd.DataFrame()\n",
    "        self.train_time = 0\n",
    "        self.model = {}\n",
    "        self.test_results = {}\n",
    "\n",
    "    def fit(self, train_data, val_data=[], verbose=1, plot=True):\n",
    "        self.train_data = train_data\n",
    "        self.val_data = val_data\n",
    "        self.SVD(train_data=train_data, val_set=val_set, verbose=verbose, plot=plot)\n",
    "        return self\n",
    "\n",
    "    \n",
    "###############################################################################################\n",
    "    \n",
    "    def SVD(self, train_data, val_set, verbose, plot):\n",
    "        \"\"\"\"The SVD algorithm with sgd\n",
    "        input: rating dataset with columns:['rating', 'user_id', 'item_id']\n",
    "        output: the resulting p, q, bi, bu matrices\"\"\"\n",
    "        self.mu = self.create_mu(train_data)\n",
    "        train_matrix = self.create_matrix(train_data, total_users, total_items)\n",
    "        \n",
    "        tuples_train = [tuple(x) for x in train_data[['new_user_id', 'new_item_id', 'rating']].to_numpy()]\n",
    "        b_user = np.zeros(total_users)\n",
    "        b_item = np.zeros(total_items)\n",
    "\n",
    "        p = np.random.normal(0, .1, (total_users, self.nolf))  # users\n",
    "        q = np.random.normal(0, .1, (total_items, self.nolf))  # items\n",
    "\n",
    "        x = np.random.normal(0, .1, (total_items, self.nolf)) # implicit fb rated, not rated\n",
    "        impl_fb_u = np.zeros(self.nolf)\n",
    "        \n",
    "        if self.use_impl_fb:\n",
    "            print('Creating N, for incorporating implicit feedback')\n",
    "            self.N = train_data.groupby('new_user_id')['new_item_id'].apply(list)\n",
    "        \n",
    "        sqrt_Nu = 0\n",
    "        rmses = []\n",
    "        val_rmses = []\n",
    "        val_rmse = \"na\"\n",
    "        start = time.time()\n",
    "        for epoch in range(self.n_epochs):\n",
    "            total_sq_error = 0\n",
    "            for u, i, r_ui in tuples_train:\n",
    "                u = int(u)\n",
    "                i = int(i)\n",
    "                if self.use_impl_fb:\n",
    "                    impl_fb_u = np.zeros(self.nolf)\n",
    "                    sqrt_Nu = np.sqrt(len(self.N[u]))\n",
    "                    for j in self.N[u]:\n",
    "                        impl_fb_u += x[j] / sqrt_Nu\n",
    "                    \n",
    "#                     impl_fb_u = np.zeros(self.nolf)\n",
    "#                     sqrt_Nu = np.sqrt(len(self.N[u]))\n",
    "#                     for j in self.N[u]:\n",
    "#                         r_uj = train_matrix[u,j]\n",
    "# #                         r_uj = list(train_data[(train_data['new_item_id'] == j) & (train_data['new_user_id'] == u)]['rating'])\n",
    "#                         if r_uj > 0:\n",
    "#                             if r_uj < self.mu + b_user[u]:\n",
    "#                                 impl_fb_u -= x[j] / sqrt_Nu\n",
    "#                             if r_uj > self.mu + b_user[u]:\n",
    "#                                 impl_fb_u += x[j] / sqrt_Nu\n",
    "\n",
    "                if self.use_bias:\n",
    "                    error = r_ui - ((self.mu + b_user[u] + b_item[i]) + np.dot(p[u] + impl_fb_u, q[i]))\n",
    "                    b_user[u] += self.alpha_b * (error - self.bu_reg * b_user[u])\n",
    "                    b_item[i] += self.alpha_b * (error - self.bi_reg * b_item[i])\n",
    "                else:\n",
    "                    error = r_ui - np.dot(p[u], q[i])\n",
    "\n",
    "                p[u] += self.alpha * (error * q[i] - self.pu_reg * p[u])\n",
    "                q[i] += self.alpha * (error * (p[u] + impl_fb_u) - self.qi_reg * q[i])\n",
    "                total_sq_error += np.square(error)\n",
    "            \n",
    "                if self.use_impl_fb:\n",
    "                    for j in self.N[u]:\n",
    "                        x[j] += self.alpha * (error * q[i] / sqrt_Nu - self.x_reg * x[j])\n",
    "                \n",
    "            rmse = np.sqrt(total_sq_error / len(tuples_train))\n",
    "            rmses.append(rmse)\n",
    "            \n",
    "            self.model = {'p': p, 'q': q, 'bu':b_user, 'bi':b_item, 'x':x, 'rmse':rmses, 'val_rmse':val_rmses}\n",
    "            if len(val_set) > 0:\n",
    "                val_rmse = self.test(val_set, val=True)\n",
    "                val_rmses.append(val_rmse)\n",
    "                    \n",
    "            if epoch % verbose == 0:\n",
    "                if len(val_set) > 0:\n",
    "                    print('Epoch:', epoch, '  RMSE:', rmse, ' Val_RMSE:', val_rmse)\n",
    "                else:\n",
    "                    print('Epoch:', epoch, '  RMSE:', rmse)\n",
    "            \n",
    "            if self.stop and val_rmses[-2:][0] < val_rmse:\n",
    "                print('BREAK: Validation set not improving anymore')\n",
    "                break\n",
    "                \n",
    "        if plot:\n",
    "            self.plot_rmse(rmses, val_rmses)\n",
    "\n",
    "        self.train_time = time.time() - start\n",
    "        self.model = {'p': p, 'q': q, 'bu':b_user, 'bi':b_item, 'x':x, 'rmse':rmses, 'val_rmse':val_rmses}\n",
    "#################################################################################################\n",
    "\n",
    "\n",
    "    def create_matrix(self, X_train, n_users, n_items):\n",
    "        n_users = df.user.unique().shape[0]\n",
    "        n_items = df.item.unique().shape[0]\n",
    "\n",
    "        r = X_train['new_user_id']\n",
    "        c = X_train['new_item_id']\n",
    "        d = X_train['rating']\n",
    "        train_matrix = sparse.coo_matrix((d, (r, c)), shape=(n_users, n_items))\n",
    "    \n",
    "        return train_matrix.tocsr()\n",
    "    \n",
    "    def create_mu(self, train_set):\n",
    "        # Better mean calculation according to https://sifter.org/~simon/journal/20061211.html\n",
    "        va = train_set.groupby('new_user_id')['rating'].mean().var() #variance mean ratings users\n",
    "        vb = train_set.groupby('new_item_id')['rating'].mean().var() #variance mean ratings items\n",
    "        k = va/vb #variance proportion\n",
    "        better_mu = (train_set['rating'].mean() + train_set['rating'].sum()) / (k+len(train_set))\n",
    "        return better_mu\n",
    "    \n",
    "    def plot_rmse(self, rmse, val_rmses=[]):\n",
    "        plt.plot(np.arange(len(rmse)), rmse)\n",
    "        if len(val_rmses) > 0:\n",
    "            plt.plot(np.arange(len(val_rmses)), val_rmses, color='red')\n",
    "        plt.title('RMSE')\n",
    "        plt.xlabel('epoch')\n",
    "        plt.ylabel('loss')\n",
    "        plt.legend(['Train', 'Validation'])\n",
    "        plt.show()\n",
    "\n",
    "    def test(self, test_data, val=False):\n",
    "        if not val:\n",
    "            self.test_data = test_data\n",
    "        tuples_test = [tuple(x) for x in test_data[['new_user_id', 'new_item_id', 'rating']].to_numpy()]\n",
    "        test_matrix = self.create_matrix(test_data, self.total_users, self.total_items)\n",
    "        \n",
    "        if self.use_impl_fb and val:\n",
    "            self.N_test = self.val_data.groupby('new_user_id')['new_item_id'].apply(list)\n",
    "        elif self.use_impl_fb:\n",
    "            self.N_test = self.test_data.groupby('new_user_id')['new_item_id'].apply(list)\n",
    "            \n",
    "        total_error = 0\n",
    "        estimates = []\n",
    "        for u, i, r_ui in tuples_test:\n",
    "            u = int(u)\n",
    "            i = int(i)\n",
    "            est = self.estimate(u, i, test_matrix)\n",
    "            estimates.append(est)\n",
    "            total_error += np.square(r_ui - est)\n",
    "        \n",
    "        rmse = np.sqrt(total_error / len(tuples_test))\n",
    "        \n",
    "        if not val:\n",
    "            self.test_results = {'rmse': rmse, 'estimates':estimates}\n",
    "            print('RMSE on test set:', self.test_results['rmse'])\n",
    "        else:\n",
    "            return rmse\n",
    "\n",
    "    def estimate(self, u, i, test_matrix):\n",
    "        est = self.mu + self.model['bu'][u] + self.model['bi'][i]\n",
    "        impl_fb_u = np.zeros(self.nolf)\n",
    "        \n",
    "        if u in self.train_data['new_user_id'] and i in self.train_data['new_item_id']:\n",
    "            \n",
    "            if self.use_impl_fb and u in self.N.index:\n",
    "                sqrt_Nu_test = np.sqrt(len(self.N_test[u]))\n",
    "                for j in self.N_test[u]:   \n",
    "                    impl_fb_u += self.model['x'][j] / sqrt_Nu_test\n",
    "#                     r_uj = test_matrix[u,j]\n",
    "#                     if r_uj > 0:\n",
    "#                         if r_uj < self.mu + b_user[u]:\n",
    "#                             impl_fb_u -= x[j] / sqrt_Nu_test\n",
    "#                         if r_uj > self.mu + b_user[u]:\n",
    "#                             impl_fb_u += x[j] / sqrt_Nu_test\n",
    "\n",
    "            est += np.dot(self.model['p'][u] + impl_fb_u, self.model['q'][i])\n",
    "\n",
    "        return est\n",
    "    \n",
    "    def store_results(self, log_path, res_name, user_thres, item_thres):\n",
    "        train_size = round((len(self.train_data) / (len(self.train_data) + len(self.test_data) + len(self.val_data))),1)\n",
    "        test_size = round((len(self.test_data) / (len(self.train_data) + len(self.test_data) + len(self.val_data))),1)\n",
    "        val_size = round((len(self.val_data) / (len(self.train_data) + len(self.test_data) + len(self.val_data))),1)\n",
    "        \n",
    "        result_info = {'RMSE_test': self.test_results['rmse'], 'train_speed': round(self.train_time,2)}\n",
    "        other_info = {'u_thres': user_thres,'i_thres': item_thres, 'train_size':train_size, 'test_size':test_size, 'val_size':val_size, 'train_rmse':self.model['rmse']}\n",
    "        final_log = dict(result_info, **self.params, **other_info)\n",
    "\n",
    "        if not os.path.exists(log_path + res_name):\n",
    "            df_results = pd.DataFrame(columns=final_log.keys())\n",
    "            print('new results created')\n",
    "\n",
    "        else:\n",
    "            df_results = pd.read_pickle(log_path + res_name)\n",
    "            print('results added')\n",
    "\n",
    "        df_results = df_results.append(final_log, ignore_index=True)\n",
    "        pd.to_pickle(df_results, log_path + res_name)"
   ]
  },
  {
   "cell_type": "markdown",
   "metadata": {},
   "source": [
    "# Data Prep\n",
    "Create new ids for users and items that match the row and column indices of the user-item interaction matrix"
   ]
  },
  {
   "cell_type": "code",
   "execution_count": 397,
   "metadata": {},
   "outputs": [
    {
     "name": "stdout",
     "output_type": "stream",
     "text": [
      "Full data #row:  883636 \n",
      "#users:  749233 \n",
      "#items:  186189\n"
     ]
    },
    {
     "data": {
      "text/html": [
       "<div>\n",
       "<style scoped>\n",
       "    .dataframe tbody tr th:only-of-type {\n",
       "        vertical-align: middle;\n",
       "    }\n",
       "\n",
       "    .dataframe tbody tr th {\n",
       "        vertical-align: top;\n",
       "    }\n",
       "\n",
       "    .dataframe thead th {\n",
       "        text-align: right;\n",
       "    }\n",
       "</style>\n",
       "<table border=\"1\" class=\"dataframe\">\n",
       "  <thead>\n",
       "    <tr style=\"text-align: right;\">\n",
       "      <th></th>\n",
       "      <th>item</th>\n",
       "      <th>user</th>\n",
       "      <th>rating</th>\n",
       "      <th>new_item_id</th>\n",
       "      <th>new_user_id</th>\n",
       "    </tr>\n",
       "  </thead>\n",
       "  <tbody>\n",
       "    <tr>\n",
       "      <th>0</th>\n",
       "      <td>7106116521</td>\n",
       "      <td>A1D4G1SNUZWQOT</td>\n",
       "      <td>5</td>\n",
       "      <td>0</td>\n",
       "      <td>0</td>\n",
       "    </tr>\n",
       "    <tr>\n",
       "      <th>1</th>\n",
       "      <td>7106116521</td>\n",
       "      <td>A3DDWDH9PX2YX2</td>\n",
       "      <td>2</td>\n",
       "      <td>0</td>\n",
       "      <td>1</td>\n",
       "    </tr>\n",
       "    <tr>\n",
       "      <th>2</th>\n",
       "      <td>B00J8WZBEG</td>\n",
       "      <td>A3DDWDH9PX2YX2</td>\n",
       "      <td>5</td>\n",
       "      <td>47122</td>\n",
       "      <td>1</td>\n",
       "    </tr>\n",
       "    <tr>\n",
       "      <th>3</th>\n",
       "      <td>7106116521</td>\n",
       "      <td>A2MWC41EW7XL15</td>\n",
       "      <td>4</td>\n",
       "      <td>0</td>\n",
       "      <td>2</td>\n",
       "    </tr>\n",
       "    <tr>\n",
       "      <th>4</th>\n",
       "      <td>7106116521</td>\n",
       "      <td>A2UH2QQ275NV45</td>\n",
       "      <td>2</td>\n",
       "      <td>0</td>\n",
       "      <td>3</td>\n",
       "    </tr>\n",
       "  </tbody>\n",
       "</table>\n",
       "</div>"
      ],
      "text/plain": [
       "         item            user  rating  new_item_id  new_user_id\n",
       "0  7106116521  A1D4G1SNUZWQOT       5            0            0\n",
       "1  7106116521  A3DDWDH9PX2YX2       2            0            1\n",
       "2  B00J8WZBEG  A3DDWDH9PX2YX2       5        47122            1\n",
       "3  7106116521  A2MWC41EW7XL15       4            0            2\n",
       "4  7106116521  A2UH2QQ275NV45       2            0            3"
      ]
     },
     "execution_count": 397,
     "metadata": {},
     "output_type": "execute_result"
    }
   ],
   "source": [
    "items = df['item'].unique()\n",
    "itemsDF = pd.DataFrame(data=items, columns=['original_item_id'])\n",
    "itemsDF['new_item_id'] = itemsDF.index\n",
    "\n",
    "users = df['user'].unique()\n",
    "usersDF = pd.DataFrame(data=users, columns=['original_user_id'])\n",
    "usersDF['new_user_id'] = usersDF.index\n",
    "\n",
    "ratingDF = df.merge(itemsDF, left_on='item', right_on='original_item_id')\n",
    "ratingDF = ratingDF.drop(columns=['original_item_id'])\n",
    "\n",
    "ratingDF = ratingDF.merge(usersDF, left_on='user', right_on='original_user_id')\n",
    "ratingDF = ratingDF.drop(columns=['original_user_id'])\n",
    "\n",
    "df_new_ids = ratingDF\n",
    "print('Full data #row: ', df_new_ids.shape[0], '\\n#users: ', total_users, '\\n#items: ', total_items)\n",
    "df_new_ids.head()"
   ]
  },
  {
   "cell_type": "markdown",
   "metadata": {},
   "source": [
    "## Train Test split\n",
    "Train 0.8, Train 0.2, Test 0.1, could add validation set"
   ]
  },
  {
   "cell_type": "code",
   "execution_count": 398,
   "metadata": {},
   "outputs": [
    {
     "name": "stdout",
     "output_type": "stream",
     "text": [
      "Size of train set:  706908\n",
      "Size of validation set:  88364\n",
      "Size of test set:  88364\n"
     ]
    }
   ],
   "source": [
    "random_state = 1234\n",
    "train_set, test_set = train_test_split(df_new_ids, test_size=0.20, shuffle=True, random_state=random_state)\n",
    "val_set, test_set = train_test_split(test_set, test_size=0.50, shuffle=True, random_state=random_state)\n",
    "\n",
    "print('Size of train set: ', len(train_set))\n",
    "print('Size of validation set: ', len(val_set))\n",
    "print('Size of test set: ', len(test_set))"
   ]
  },
  {
   "cell_type": "markdown",
   "metadata": {},
   "source": [
    "# Params"
   ]
  },
  {
   "cell_type": "code",
   "execution_count": 399,
   "metadata": {},
   "outputs": [],
   "source": [
    "params = {\"nolf\":15, #Size of latent feature vectors\n",
    "\"n_epochs\":50,\n",
    "\"random_state\":random_state,\n",
    "\n",
    "#Learning rate\n",
    "\"alpha\":0.004, #Low alpha to prevent diverging => sgd all over the place => error up\n",
    "\"alpha_b\":0.004,\n",
    "\n",
    "\"stop\":True,\n",
    "\"use_bias\":True,\n",
    "\"use_impl_fb\":False,\n",
    "\n",
    "#Regularizers, still tweaking the values\n",
    "\"bu_reg\":0.05,\n",
    "\"bi_reg\":0.05,\n",
    "\"pu_reg\":0.01,\n",
    "\"qi_reg\":0.01,\n",
    "\"x_reg\":0.01,\n",
    "}"
   ]
  },
  {
   "cell_type": "markdown",
   "metadata": {},
   "source": [
    "# Train and Test Model"
   ]
  },
  {
   "cell_type": "markdown",
   "metadata": {},
   "source": [
    "## Model without impl_fb"
   ]
  },
  {
   "cell_type": "code",
   "execution_count": 400,
   "metadata": {},
   "outputs": [
    {
     "name": "stdout",
     "output_type": "stream",
     "text": [
      "Epoch: 0   RMSE: 1.3981511802905118  Val_RMSE: 1.3886493446975077\n",
      "Epoch: 5   RMSE: 1.3042408129350196  Val_RMSE: 1.357703794794906\n",
      "Epoch: 10   RMSE: 1.2393056975454753  Val_RMSE: 1.344062627339879\n",
      "Epoch: 15   RMSE: 1.1790567011472373  Val_RMSE: 1.3346583087209276\n",
      "Epoch: 20   RMSE: 1.1191681769215471  Val_RMSE: 1.327998717183779\n",
      "Epoch: 25   RMSE: 1.0597579220183722  Val_RMSE: 1.3237498814536597\n",
      "Epoch: 30   RMSE: 1.0020860733403987  Val_RMSE: 1.3211744757494617\n",
      "Epoch: 35   RMSE: 0.9471046608183138  Val_RMSE: 1.3196142325119642\n",
      "Epoch: 40   RMSE: 0.8951320100141524  Val_RMSE: 1.3186054954974182\n",
      "Epoch: 45   RMSE: 0.8461764561120803  Val_RMSE: 1.3179197181099418\n"
     ]
    },
    {
     "data": {
      "image/png": "[encoded data removed]",
      "text/plain": [
       "<Figure size 432x288 with 1 Axes>"
      ]
     },
     "metadata": {
      "needs_background": "light"
     },
     "output_type": "display_data"
    },
    {
     "data": {
      "text/plain": [
       "<__main__.SVD at 0x1b32b479788>"
      ]
     },
     "execution_count": 400,
     "metadata": {},
     "output_type": "execute_result"
    }
   ],
   "source": [
    "params['use_impl_fb'] = False\n",
    "model = SVD(params, total_users, total_items)\n",
    "model.fit(train_set, val_set, 5, plot=True)"
   ]
  },
  {
   "cell_type": "code",
   "execution_count": 401,
   "metadata": {},
   "outputs": [
    {
     "name": "stdout",
     "output_type": "stream",
     "text": [
      "RMSE on test set: 1.319916335988349\n"
     ]
    }
   ],
   "source": [
    "model.test(test_set)"
   ]
  },
  {
   "cell_type": "markdown",
   "metadata": {},
   "source": [
    "## Model with impl_fb"
   ]
  },
  {
   "cell_type": "code",
   "execution_count": 402,
   "metadata": {},
   "outputs": [
    {
     "name": "stdout",
     "output_type": "stream",
     "text": [
      "Creating N, for incorporating implicit feedback\n",
      "Epoch: 0   RMSE: 1.3962183590738364  Val_RMSE: 1.3899891356617866\n",
      "Epoch: 5   RMSE: 1.294357865985788  Val_RMSE: 1.3623099499252604\n",
      "Epoch: 10   RMSE: 1.2247173119424024  Val_RMSE: 1.3519961129126148\n",
      "Epoch: 15   RMSE: 1.159711210567497  Val_RMSE: 1.3454588712069793\n",
      "Epoch: 20   RMSE: 1.0953440620913193  Val_RMSE: 1.3413971520918306\n",
      "Epoch: 25   RMSE: 1.0318046723219163  Val_RMSE: 1.3397875962000192\n",
      "BREAK: Validation set not improving anymore\n"
     ]
    },
    {
     "data": {
      "image/png": "[encoded data removed]",
      "text/plain": [
       "<Figure size 432x288 with 1 Axes>"
      ]
     },
     "metadata": {
      "needs_background": "light"
     },
     "output_type": "display_data"
    },
    {
     "data": {
      "text/plain": [
       "<__main__.SVD at 0x1b304a33608>"
      ]
     },
     "execution_count": 402,
     "metadata": {},
     "output_type": "execute_result"
    }
   ],
   "source": [
    "params['use_impl_fb'] = True\n",
    "model2 = SVD(params, total_users, total_items)\n",
    "model2.fit(train_set, val_set, 5, plot=True)"
   ]
  },
  {
   "cell_type": "code",
   "execution_count": 403,
   "metadata": {},
   "outputs": [
    {
     "name": "stdout",
     "output_type": "stream",
     "text": [
      "RMSE on test set: 1.3420718787158907\n"
     ]
    }
   ],
   "source": [
    "model2.test(test_set)"
   ]
  },
  {
   "cell_type": "markdown",
   "metadata": {},
   "source": [
    "# Store Results"
   ]
  },
  {
   "cell_type": "code",
   "execution_count": 404,
   "metadata": {},
   "outputs": [],
   "source": [
    "log_path = 'Results/'\n",
    "res_name = 'all_results'"
   ]
  },
  {
   "cell_type": "code",
   "execution_count": 405,
   "metadata": {},
   "outputs": [
    {
     "name": "stdout",
     "output_type": "stream",
     "text": [
      "results added\n"
     ]
    }
   ],
   "source": [
    "model.store_results(log_path, res_name, user_thres, item_thres)"
   ]
  },
  {
   "cell_type": "code",
   "execution_count": 406,
   "metadata": {},
   "outputs": [
    {
     "name": "stdout",
     "output_type": "stream",
     "text": [
      "results added\n"
     ]
    }
   ],
   "source": [
    "model2.store_results(log_path, res_name, user_thres, item_thres)"
   ]
  },
  {
   "cell_type": "markdown",
   "metadata": {},
   "source": [
    "## Delete last results"
   ]
  },
  {
   "cell_type": "code",
   "execution_count": 206,
   "metadata": {},
   "outputs": [],
   "source": [
    "# pd.read_pickle(log_path + res_name)[1:].to_pickle(log_path + res_name)"
   ]
  },
  {
   "cell_type": "markdown",
   "metadata": {},
   "source": [
    "# Cross Validation"
   ]
  },
  {
   "cell_type": "code",
   "execution_count": null,
   "metadata": {},
   "outputs": [],
   "source": [
    "cv_res_name = 'cv_res_impl_fb'"
   ]
  },
  {
   "cell_type": "code",
   "execution_count": null,
   "metadata": {},
   "outputs": [],
   "source": [
    "# x_regs = [0, 0.001, 0.1, 0.5, 1, 5, 10, 20, 100, 500]\n",
    "# nolfs = [5,10,15,30,50]\n",
    "\n",
    "for x_reg in x_regs:\n",
    "    for nolf in nolfs:\n",
    "        params['x_reg'] = x_reg\n",
    "        params['nolf'] = nolf\n",
    "\n",
    "        print('\\n', params['x_reg'], params['nolf'], '\\n')\n",
    "\n",
    "        n_splits = 5\n",
    "\n",
    "        kf = KFold(n_splits = n_splits, shuffle = True)\n",
    "        full_data = df_new_ids\n",
    "        scores = []\n",
    "\n",
    "        for i in range(n_splits):\n",
    "            result = next(kf.split(full_data), None)\n",
    "            train_set = full_data.iloc[result[0]]\n",
    "            test_set = full_data.iloc[result[1]]\n",
    "            model = SVD(params)\n",
    "            model.fit(train_set, total_users, total_items, verbose = 1000, plot = False)\n",
    "\n",
    "            model.test(test_set)\n",
    "            model.store_results('', 'one_cv_run_res_impl', user_thres, item_thres)  \n",
    "\n",
    "        df_cv_results = pd.read_pickle('one_cv_run_res_impl')[-5:]\n",
    "        params_dict = df_cv_results.iloc[0][['nolf', 'n_epochs', 'random_state', 'alpha', 'alpha_b', 'use_bias', 'use_impl_fb', 'bu_reg', 'bi_reg', 'pu_reg', 'qi_reg', 'x_reg', 'u_thres', 'i_thres', 'train_size', 'test_size', 'train_rmse']].to_dict()\n",
    "        avg_rmse_dict = {'avg_rmse_test':np.average(df_cv_results['RMSE_test'])}\n",
    "        final_dict = {**avg_rmse_dict, **params_dict}\n",
    "\n",
    "        if not os.path.exists(res_name):\n",
    "            cv_res = pd.DataFrame(columns=final_dict.keys())\n",
    "            print('new results created')\n",
    "\n",
    "        else:\n",
    "            cv_res = pd.read_pickle(res_name)\n",
    "            print('results added')\n",
    "\n",
    "        cv_res = cv_res.append(final_dict, ignore_index=True)\n",
    "        pd.to_pickle(cv_res, res_name)"
   ]
  },
  {
   "cell_type": "code",
   "execution_count": null,
   "metadata": {},
   "outputs": [],
   "source": [
    "df_cv_results = pd.read_pickle(res_name).sort_values('avg_rmse_test')\n",
    "df_cv_results"
   ]
  },
  {
   "cell_type": "code",
   "execution_count": null,
   "metadata": {},
   "outputs": [],
   "source": []
  },
  {
   "cell_type": "markdown",
   "metadata": {},
   "source": [
    "# Read and View Results"
   ]
  },
  {
   "cell_type": "markdown",
   "metadata": {},
   "source": [
    "## All models"
   ]
  },
  {
   "cell_type": "code",
   "execution_count": 407,
   "metadata": {
    "scrolled": true
   },
   "outputs": [
    {
     "data": {
      "text/html": [
       "<div>\n",
       "<style scoped>\n",
       "    .dataframe tbody tr th:only-of-type {\n",
       "        vertical-align: middle;\n",
       "    }\n",
       "\n",
       "    .dataframe tbody tr th {\n",
       "        vertical-align: top;\n",
       "    }\n",
       "\n",
       "    .dataframe thead th {\n",
       "        text-align: right;\n",
       "    }\n",
       "</style>\n",
       "<table border=\"1\" class=\"dataframe\">\n",
       "  <thead>\n",
       "    <tr style=\"text-align: right;\">\n",
       "      <th></th>\n",
       "      <th>RMSE_test</th>\n",
       "      <th>train_speed</th>\n",
       "      <th>nolf</th>\n",
       "      <th>n_epochs</th>\n",
       "      <th>random_state</th>\n",
       "      <th>alpha</th>\n",
       "      <th>alpha_b</th>\n",
       "      <th>stop</th>\n",
       "      <th>use_bias</th>\n",
       "      <th>use_impl_fb</th>\n",
       "      <th>bu_reg</th>\n",
       "      <th>bi_reg</th>\n",
       "      <th>pu_reg</th>\n",
       "      <th>qi_reg</th>\n",
       "      <th>x_reg</th>\n",
       "      <th>u_thres</th>\n",
       "      <th>i_thres</th>\n",
       "      <th>train_size</th>\n",
       "      <th>test_size</th>\n",
       "      <th>val_size</th>\n",
       "      <th>train_rmse</th>\n",
       "    </tr>\n",
       "  </thead>\n",
       "  <tbody>\n",
       "    <tr>\n",
       "      <th>0</th>\n",
       "      <td>0.895239</td>\n",
       "      <td>59.47</td>\n",
       "      <td>15</td>\n",
       "      <td>50</td>\n",
       "      <td>1234</td>\n",
       "      <td>0.004</td>\n",
       "      <td>0.004</td>\n",
       "      <td>True</td>\n",
       "      <td>True</td>\n",
       "      <td>True</td>\n",
       "      <td>0.05</td>\n",
       "      <td>0.05</td>\n",
       "      <td>0.01</td>\n",
       "      <td>0.01</td>\n",
       "      <td>0.01</td>\n",
       "      <td>1</td>\n",
       "      <td>1</td>\n",
       "      <td>0.8</td>\n",
       "      <td>0.1</td>\n",
       "      <td>0.1</td>\n",
       "      <td>[0.9914434585189615, 0.942023365621841, 0.9216...</td>\n",
       "    </tr>\n",
       "    <tr>\n",
       "      <th>1</th>\n",
       "      <td>0.900685</td>\n",
       "      <td>8505.40</td>\n",
       "      <td>15</td>\n",
       "      <td>50</td>\n",
       "      <td>1234</td>\n",
       "      <td>0.004</td>\n",
       "      <td>0.004</td>\n",
       "      <td>True</td>\n",
       "      <td>True</td>\n",
       "      <td>True</td>\n",
       "      <td>0.05</td>\n",
       "      <td>0.05</td>\n",
       "      <td>0.01</td>\n",
       "      <td>0.01</td>\n",
       "      <td>0.01</td>\n",
       "      <td>1</td>\n",
       "      <td>1</td>\n",
       "      <td>0.8</td>\n",
       "      <td>0.1</td>\n",
       "      <td>0.1</td>\n",
       "      <td>[0.9913298617947324, 0.9408508049856862, 0.919...</td>\n",
       "    </tr>\n",
       "  </tbody>\n",
       "</table>\n",
       "</div>"
      ],
      "text/plain": [
       "   RMSE_test  train_speed nolf n_epochs random_state  alpha  alpha_b  stop  \\\n",
       "0   0.895239        59.47   15       50         1234  0.004    0.004  True   \n",
       "1   0.900685      8505.40   15       50         1234  0.004    0.004  True   \n",
       "\n",
       "  use_bias use_impl_fb  bu_reg  bi_reg  pu_reg  qi_reg  x_reg u_thres i_thres  \\\n",
       "0     True        True    0.05    0.05    0.01    0.01   0.01       1       1   \n",
       "1     True        True    0.05    0.05    0.01    0.01   0.01       1       1   \n",
       "\n",
       "   train_size  test_size  val_size  \\\n",
       "0         0.8        0.1       0.1   \n",
       "1         0.8        0.1       0.1   \n",
       "\n",
       "                                          train_rmse  \n",
       "0  [0.9914434585189615, 0.942023365621841, 0.9216...  \n",
       "1  [0.9913298617947324, 0.9408508049856862, 0.919...  "
      ]
     },
     "execution_count": 407,
     "metadata": {},
     "output_type": "execute_result"
    }
   ],
   "source": [
    "pd.read_pickle(log_path +'all_results_movie_lens')"
   ]
  },
  {
   "cell_type": "markdown",
   "metadata": {},
   "source": [
    "### Old but gold"
   ]
  },
  {
   "cell_type": "code",
   "execution_count": null,
   "metadata": {},
   "outputs": [],
   "source": [
    "pd.read_pickle('Results/df_comparison_impl_fb')"
   ]
  },
  {
   "cell_type": "code",
   "execution_count": 101,
   "metadata": {},
   "outputs": [
    {
     "data": {
      "text/html": [
       "<div>\n",
       "<style scoped>\n",
       "    .dataframe tbody tr th:only-of-type {\n",
       "        vertical-align: middle;\n",
       "    }\n",
       "\n",
       "    .dataframe tbody tr th {\n",
       "        vertical-align: top;\n",
       "    }\n",
       "\n",
       "    .dataframe thead th {\n",
       "        text-align: right;\n",
       "    }\n",
       "</style>\n",
       "<table border=\"1\" class=\"dataframe\">\n",
       "  <thead>\n",
       "    <tr style=\"text-align: right;\">\n",
       "      <th></th>\n",
       "      <th>RMSE_test</th>\n",
       "      <th>train_speed</th>\n",
       "      <th>nolf</th>\n",
       "      <th>n_epochs</th>\n",
       "      <th>alpha</th>\n",
       "      <th>alpha_b</th>\n",
       "      <th>use_bias</th>\n",
       "      <th>bu_reg</th>\n",
       "      <th>bi_reg</th>\n",
       "      <th>pu_reg</th>\n",
       "      <th>qi_reg</th>\n",
       "      <th>u_thres</th>\n",
       "      <th>i_thres</th>\n",
       "      <th>train_size</th>\n",
       "      <th>test_size</th>\n",
       "      <th>train_rmse</th>\n",
       "    </tr>\n",
       "  </thead>\n",
       "  <tbody>\n",
       "    <tr>\n",
       "      <th>6</th>\n",
       "      <td>1.311972</td>\n",
       "      <td>1173.22</td>\n",
       "      <td>5</td>\n",
       "      <td>50</td>\n",
       "      <td>0.004</td>\n",
       "      <td>0.004</td>\n",
       "      <td>True</td>\n",
       "      <td>0.005</td>\n",
       "      <td>0.005</td>\n",
       "      <td>0.010</td>\n",
       "      <td>0.010</td>\n",
       "      <td>1</td>\n",
       "      <td>1</td>\n",
       "      <td>795272</td>\n",
       "      <td>88364</td>\n",
       "      <td>[0.6246596789669256, 0.612616886735595, 0.6041...</td>\n",
       "    </tr>\n",
       "    <tr>\n",
       "      <th>4</th>\n",
       "      <td>1.313160</td>\n",
       "      <td>1322.85</td>\n",
       "      <td>5</td>\n",
       "      <td>50</td>\n",
       "      <td>0.003</td>\n",
       "      <td>0.003</td>\n",
       "      <td>True</td>\n",
       "      <td>0.005</td>\n",
       "      <td>0.005</td>\n",
       "      <td>0.010</td>\n",
       "      <td>0.010</td>\n",
       "      <td>1</td>\n",
       "      <td>1</td>\n",
       "      <td>795272</td>\n",
       "      <td>88364</td>\n",
       "      <td>[0.6258713932781838, 0.6156808155704458, 0.608...</td>\n",
       "    </tr>\n",
       "    <tr>\n",
       "      <th>7</th>\n",
       "      <td>1.314319</td>\n",
       "      <td>1241.88</td>\n",
       "      <td>5</td>\n",
       "      <td>50</td>\n",
       "      <td>0.003</td>\n",
       "      <td>0.003</td>\n",
       "      <td>True</td>\n",
       "      <td>0</td>\n",
       "      <td>0</td>\n",
       "      <td>0.000</td>\n",
       "      <td>0.000</td>\n",
       "      <td>1</td>\n",
       "      <td>1</td>\n",
       "      <td>795272</td>\n",
       "      <td>88364</td>\n",
       "      <td>[0.6258841108561224, 0.6156900891089366, 0.608...</td>\n",
       "    </tr>\n",
       "    <tr>\n",
       "      <th>5</th>\n",
       "      <td>1.314979</td>\n",
       "      <td>1324.39</td>\n",
       "      <td>5</td>\n",
       "      <td>50</td>\n",
       "      <td>0.003</td>\n",
       "      <td>0.003</td>\n",
       "      <td>True</td>\n",
       "      <td>0.01</td>\n",
       "      <td>0.01</td>\n",
       "      <td>0.050</td>\n",
       "      <td>0.050</td>\n",
       "      <td>1</td>\n",
       "      <td>1</td>\n",
       "      <td>795272</td>\n",
       "      <td>88364</td>\n",
       "      <td>[0.625878122576873, 0.6156927787600004, 0.6085...</td>\n",
       "    </tr>\n",
       "    <tr>\n",
       "      <th>2</th>\n",
       "      <td>1.330818</td>\n",
       "      <td>1224.36</td>\n",
       "      <td>5</td>\n",
       "      <td>50</td>\n",
       "      <td>0.003</td>\n",
       "      <td>0.001</td>\n",
       "      <td>True</td>\n",
       "      <td>0.005</td>\n",
       "      <td>0.005</td>\n",
       "      <td>0.010</td>\n",
       "      <td>0.010</td>\n",
       "      <td>1</td>\n",
       "      <td>1</td>\n",
       "      <td>795272</td>\n",
       "      <td>88364</td>\n",
       "      <td>[0.6295165887895271, 0.6238583479047624, 0.619...</td>\n",
       "    </tr>\n",
       "    <tr>\n",
       "      <th>3</th>\n",
       "      <td>1.337847</td>\n",
       "      <td>1208.92</td>\n",
       "      <td>5</td>\n",
       "      <td>50</td>\n",
       "      <td>0.003</td>\n",
       "      <td>0.001</td>\n",
       "      <td>True</td>\n",
       "      <td>0.05</td>\n",
       "      <td>0.05</td>\n",
       "      <td>0.100</td>\n",
       "      <td>0.100</td>\n",
       "      <td>1</td>\n",
       "      <td>1</td>\n",
       "      <td>795272</td>\n",
       "      <td>88364</td>\n",
       "      <td>[0.6295421469568135, 0.6239100139317504, 0.620...</td>\n",
       "    </tr>\n",
       "    <tr>\n",
       "      <th>1</th>\n",
       "      <td>2.860312</td>\n",
       "      <td>1286.91</td>\n",
       "      <td>5</td>\n",
       "      <td>50</td>\n",
       "      <td>0.003</td>\n",
       "      <td>0.001</td>\n",
       "      <td>False</td>\n",
       "      <td>0</td>\n",
       "      <td>0</td>\n",
       "      <td>0.000</td>\n",
       "      <td>0.000</td>\n",
       "      <td>1</td>\n",
       "      <td>1</td>\n",
       "      <td>795272</td>\n",
       "      <td>88364</td>\n",
       "      <td>[1.8586080489019707, 1.8578002094624173, 1.854...</td>\n",
       "    </tr>\n",
       "    <tr>\n",
       "      <th>0</th>\n",
       "      <td>2.860927</td>\n",
       "      <td>1250.70</td>\n",
       "      <td>5</td>\n",
       "      <td>50</td>\n",
       "      <td>0.003</td>\n",
       "      <td>0.001</td>\n",
       "      <td>False</td>\n",
       "      <td>0</td>\n",
       "      <td>0</td>\n",
       "      <td>0.001</td>\n",
       "      <td>0.001</td>\n",
       "      <td>1</td>\n",
       "      <td>1</td>\n",
       "      <td>795272</td>\n",
       "      <td>88364</td>\n",
       "      <td>[1.8586331916010113, 1.8579347936390103, 1.855...</td>\n",
       "    </tr>\n",
       "  </tbody>\n",
       "</table>\n",
       "</div>"
      ],
      "text/plain": [
       "   RMSE_test  train_speed nolf n_epochs  alpha  alpha_b use_bias bu_reg  \\\n",
       "6   1.311972      1173.22    5       50  0.004    0.004     True  0.005   \n",
       "4   1.313160      1322.85    5       50  0.003    0.003     True  0.005   \n",
       "7   1.314319      1241.88    5       50  0.003    0.003     True      0   \n",
       "5   1.314979      1324.39    5       50  0.003    0.003     True   0.01   \n",
       "2   1.330818      1224.36    5       50  0.003    0.001     True  0.005   \n",
       "3   1.337847      1208.92    5       50  0.003    0.001     True   0.05   \n",
       "1   2.860312      1286.91    5       50  0.003    0.001    False      0   \n",
       "0   2.860927      1250.70    5       50  0.003    0.001    False      0   \n",
       "\n",
       "  bi_reg  pu_reg  qi_reg u_thres i_thres train_size test_size  \\\n",
       "6  0.005   0.010   0.010       1       1     795272     88364   \n",
       "4  0.005   0.010   0.010       1       1     795272     88364   \n",
       "7      0   0.000   0.000       1       1     795272     88364   \n",
       "5   0.01   0.050   0.050       1       1     795272     88364   \n",
       "2  0.005   0.010   0.010       1       1     795272     88364   \n",
       "3   0.05   0.100   0.100       1       1     795272     88364   \n",
       "1      0   0.000   0.000       1       1     795272     88364   \n",
       "0      0   0.001   0.001       1       1     795272     88364   \n",
       "\n",
       "                                          train_rmse  \n",
       "6  [0.6246596789669256, 0.612616886735595, 0.6041...  \n",
       "4  [0.6258713932781838, 0.6156808155704458, 0.608...  \n",
       "7  [0.6258841108561224, 0.6156900891089366, 0.608...  \n",
       "5  [0.625878122576873, 0.6156927787600004, 0.6085...  \n",
       "2  [0.6295165887895271, 0.6238583479047624, 0.619...  \n",
       "3  [0.6295421469568135, 0.6239100139317504, 0.620...  \n",
       "1  [1.8586080489019707, 1.8578002094624173, 1.854...  \n",
       "0  [1.8586331916010113, 1.8579347936390103, 1.855...  "
      ]
     },
     "execution_count": 101,
     "metadata": {},
     "output_type": "execute_result"
    }
   ],
   "source": [
    "df_results = pd.read_pickle('Results/' + 'df_results_svd')\n",
    "df_results.sort_values('RMSE_test')"
   ]
  },
  {
   "cell_type": "markdown",
   "metadata": {},
   "source": [
    "Note the RMSE in the first results should be higher (+1.1) due to a mistake in the calculation"
   ]
  },
  {
   "cell_type": "code",
   "execution_count": 102,
   "metadata": {},
   "outputs": [
    {
     "data": {
      "image/png": "[encoded data removed]",
      "text/plain": [
       "<Figure size 432x288 with 1 Axes>"
      ]
     },
     "metadata": {
      "needs_background": "light"
     },
     "output_type": "display_data"
    }
   ],
   "source": [
    "x = ['with Bias and Reg', 'with Bias', 'Plain']\n",
    "y = [1.313160, 1.314319, 2.860927]\n",
    "\n",
    "fig, ax = plt.subplots()\n",
    "ind = np.arange(len(y))\n",
    "width = 0.8\n",
    "ax.bar(ind, y, width, color=['darkblue'])\n",
    "ax.set_xticks(ind+width/500)\n",
    "ax.set_xticklabels(x, minor=False)\n",
    "ax.set_ylabel('RMSE')\n",
    "ax.set_title('Model Comparison')\n",
    "for i, v in enumerate(y):\n",
    "    ax.text(i -0.2, v + 0.02, str(v), fontweight='bold')\n",
    "plt.show()"
   ]
  },
  {
   "cell_type": "markdown",
   "metadata": {},
   "source": [
    "## Best model train RMSE"
   ]
  },
  {
   "cell_type": "markdown",
   "metadata": {},
   "source": [
    "### Best from Comparison"
   ]
  },
  {
   "cell_type": "code",
   "execution_count": 105,
   "metadata": {},
   "outputs": [
    {
     "data": {
      "image/png": "[encoded data removed]",
      "text/plain": [
       "<Figure size 432x288 with 1 Axes>"
      ]
     },
     "metadata": {
      "needs_background": "light"
     },
     "output_type": "display_data"
    }
   ],
   "source": [
    "best = df_results_b.iloc[6]\n",
    "model.plot_rmse(best['train_rmse'])"
   ]
  },
  {
   "cell_type": "markdown",
   "metadata": {},
   "source": [
    "### Best of All Models"
   ]
  },
  {
   "cell_type": "code",
   "execution_count": null,
   "metadata": {},
   "outputs": [],
   "source": [
    "best = df_results_all\n",
    "model.plot_rmse(best['train_rmse'])"
   ]
  },
  {
   "cell_type": "code",
   "execution_count": null,
   "metadata": {},
   "outputs": [],
   "source": []
  },
  {
   "cell_type": "code",
   "execution_count": null,
   "metadata": {},
   "outputs": [],
   "source": []
  },
  {
   "cell_type": "markdown",
   "metadata": {},
   "source": [
    "# Appendix"
   ]
  },
  {
   "cell_type": "markdown",
   "metadata": {},
   "source": [
    "## Data Split (Pandas)"
   ]
  },
  {
   "cell_type": "code",
   "execution_count": null,
   "metadata": {},
   "outputs": [],
   "source": [
    "# from scipy.linalg import sqrtm\n",
    "\n",
    "# X_train, X_test = train_test_split(df, test_size=0.10, shuffle=True, random_state=1234)\n",
    "# X_validation, X_test = train_test_split(X_test, test_size=0.50, shuffle=True, random_state=1234)\n",
    "\n",
    "# def create_utility_matrix(data, formatizer = {'user':0, 'item': 1, 'value': 2}):\n",
    "#     \"\"\"\n",
    "#         :param data:      Array-like, 2D, nx3\n",
    "#         :param formatizer:pass the formatizer\n",
    "#         :return:          utility matrix (n x m), n=users, m=items\n",
    "#     \"\"\"\n",
    "        \n",
    "#     itemField = formatizer['item']\n",
    "#     userField = formatizer['user']\n",
    "#     valueField = formatizer['value']\n",
    "    \n",
    "#     userList = data.iloc[:,userField].tolist()\n",
    "#     itemList = data.iloc[:,itemField].tolist()\n",
    "#     valueList = data.iloc[:,valueField].tolist()\n",
    "    \n",
    "#     users = list(set(data.iloc[:,userField]))\n",
    "#     items = list(set(data.iloc[:,itemField]))\n",
    "    \n",
    "#     users_index = {users[i]: i for i in range(len(users))}\n",
    "#     pd_dict = {item: [np.nan for i in range(len(users))] for item in items}\n",
    "    \n",
    "#     for i in range(0,len(data)):\n",
    "#         item = itemList[i]\n",
    "#         user = userList[i]\n",
    "#         value = valueList[i]\n",
    "        \n",
    "#     pd_dict[item][users_index[user]] = value\n",
    "#     X = pd.DataFrame(pd_dict)\n",
    "#     X.index = users\n",
    "        \n",
    "#     itemcols = list(X.columns)\n",
    "#     items_index = {itemcols[i]: i for i in range(len(itemcols))}\n",
    "#     # users_index gives us a mapping of user_id to index of user\n",
    "#     # items_index provides the same for items\n",
    "#     return X, users_index, items_index\n",
    "\n",
    "# X, users_index, items_index = create_utility_matrix(X_train)\n",
    "\n",
    "hide_toggle()"
   ]
  },
  {
   "cell_type": "markdown",
   "metadata": {},
   "source": [
    "## Create user item matrix"
   ]
  },
  {
   "cell_type": "code",
   "execution_count": null,
   "metadata": {},
   "outputs": [],
   "source": [
    "# n_users = df.user.unique().shape[0]\n",
    "# n_items = df.item.unique().shape[0]\n",
    "\n",
    "# ratings_train = np.zeros((n_users, n_items))\n",
    "# for row in X_train.itertuples():\n",
    "#         ratings_train[row[5], row[4]] = row[3]\n",
    "\n",
    "# pd.DataFrame(ratings_train).head()\n",
    "# # sparse.csr_matrix((X_train['rating']),shape(n_users, n_items))\n",
    "hide_toggle()"
   ]
  },
  {
   "cell_type": "markdown",
   "metadata": {},
   "source": [
    "## Different SGD coding"
   ]
  },
  {
   "cell_type": "code",
   "execution_count": null,
   "metadata": {},
   "outputs": [],
   "source": [
    "# user_item_combos = 0\n",
    "# for epoch in range(n_epochs):\n",
    "#     for u in range(ratings_train.shape[0]): #users\n",
    "#         for i in range(ratings_train.shape[1]): #items\n",
    "#             r_ui = ratings_train[u,i]\n",
    "            \n",
    "#             if  r_ui != 0:\n",
    "#                 user_item_combos += 1\n",
    "#                 error = r_ui - np.dot(p[u], q[i])\n",
    "                \n",
    "#                 p[u] += alpha *(error * q[i])\n",
    "#                 q[i] += alpha * (error * p[u])\n",
    "                \n",
    "#                 total_error += np.square(error)\n",
    "# #         print(total_error)\n",
    "#     rmse = math.sqrt(total_error)\n",
    "#     print('epoch: ', epoch)#, '  rmse: ', rmse)\n",
    "#     print(user_item_combos, X_train['rating'].shape[0])\n",
    "hide_toggle()"
   ]
  },
  {
   "cell_type": "markdown",
   "metadata": {},
   "source": [
    "## With regularization"
   ]
  },
  {
   "cell_type": "code",
   "execution_count": null,
   "metadata": {},
   "outputs": [],
   "source": [
    "# b_user[u] += alpha_b * (error - bu_reg * b_user[u])\n",
    "# b_item[i] += alpha_b * (error - bi_reg * b_item[i])\n",
    "            \n",
    "# p[u] += alpha * (error * q[i] - pu_reg * p[u])\n",
    "# q[i] += alpha * (error * p[u] - qi_reg * q[i])\n",
    "hide_toggle()"
   ]
  },
  {
   "cell_type": "code",
   "execution_count": null,
   "metadata": {},
   "outputs": [],
   "source": []
  }
 ],
 "metadata": {
  "kernelspec": {
   "display_name": "Python 3",
   "language": "python",
   "name": "python3"
  },
  "language_info": {
   "codemirror_mode": {
    "name": "ipython",
    "version": 3
   },
   "file_extension": ".py",
   "mimetype": "text/x-python",
   "name": "python",
   "nbconvert_exporter": "python",
   "pygments_lexer": "ipython3",
   "version": "3.7.6"
  },
  "toc": {
   "base_numbering": 1,
   "nav_menu": {},
   "number_sections": true,
   "sideBar": true,
   "skip_h1_title": false,
   "title_cell": "Table of Contents",
   "title_sidebar": "Contents",
   "toc_cell": false,
   "toc_position": {
    "height": "calc(100% - 180px)",
    "left": "10px",
    "top": "150px",
    "width": "178.486px"
   },
   "toc_section_display": true,
   "toc_window_display": true
  }
 },
 "nbformat": 4,
 "nbformat_minor": 2
}
