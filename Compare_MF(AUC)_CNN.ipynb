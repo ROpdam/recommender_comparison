{
 "cells": [
  {
   "cell_type": "code",
   "execution_count": 42,
   "metadata": {},
   "outputs": [],
   "source": [
    "import pandas as pd\n",
    "import numpy as np\n",
    "import matplotlib.pyplot as plt\n",
    "import math\n",
    "import os\n",
    "import time\n",
    "import copy\n",
    "import random as rand\n",
    "\n",
    "from scipy import sparse\n",
    "from sklearn.model_selection import train_test_split\n",
    "from sklearn.preprocessing import StandardScaler\n",
    "\n",
    "pd.set_option('display.max_columns', 100)"
   ]
  },
  {
   "cell_type": "markdown",
   "metadata": {},
   "source": [
    "# Read Data"
   ]
  },
  {
   "cell_type": "markdown",
   "metadata": {},
   "source": [
    "## Amazon Fashion From Paper\n",
    "https://arxiv.org/pdf/1711.02231.pdf"
   ]
  },
  {
   "cell_type": "markdown",
   "metadata": {},
   "source": [
    "### Full Dataset"
   ]
  },
  {
   "cell_type": "code",
   "execution_count": null,
   "metadata": {},
   "outputs": [],
   "source": [
    "dataset = np.load('Data/AmazonFashion6ImgPartitioned.npy', allow_pickle=True, encoding='latin1')\n",
    "[user_train, user_validation, user_test, Item, usernum, itemnum] = dataset"
   ]
  },
  {
   "cell_type": "markdown",
   "metadata": {},
   "source": [
    "### Dataset for SVD"
   ]
  },
  {
   "cell_type": "code",
   "execution_count": 43,
   "metadata": {},
   "outputs": [],
   "source": [
    "df_user_train = pd.read_pickle('Data/cnn_paper/user_train')\n",
    "df_user_val = pd.read_pickle('Data/cnn_paper/user_val')\n",
    "df_user_test = pd.read_pickle('Data/cnn_paper/user_test')"
   ]
  },
  {
   "cell_type": "code",
   "execution_count": 44,
   "metadata": {},
   "outputs": [],
   "source": [
    "df = pd.concat([df_user_train, df_user_val, df_user_test])"
   ]
  },
  {
   "cell_type": "code",
   "execution_count": 45,
   "metadata": {},
   "outputs": [
    {
     "data": {
      "text/html": [
       "<div>\n",
       "<style scoped>\n",
       "    .dataframe tbody tr th:only-of-type {\n",
       "        vertical-align: middle;\n",
       "    }\n",
       "\n",
       "    .dataframe tbody tr th {\n",
       "        vertical-align: top;\n",
       "    }\n",
       "\n",
       "    .dataframe thead th {\n",
       "        text-align: right;\n",
       "    }\n",
       "</style>\n",
       "<table border=\"1\" class=\"dataframe\">\n",
       "  <thead>\n",
       "    <tr style=\"text-align: right;\">\n",
       "      <th></th>\n",
       "      <th>user</th>\n",
       "      <th>item</th>\n",
       "      <th>reviewerName</th>\n",
       "      <th>helpful</th>\n",
       "      <th>reviewText</th>\n",
       "      <th>rating</th>\n",
       "      <th>summary</th>\n",
       "      <th>unixReviewTime</th>\n",
       "      <th>reviewTime</th>\n",
       "      <th>productid</th>\n",
       "    </tr>\n",
       "  </thead>\n",
       "  <tbody>\n",
       "    <tr>\n",
       "      <th>0</th>\n",
       "      <td>A1JWX45KHE34AL</td>\n",
       "      <td>B00APT3MHO</td>\n",
       "      <td>varnienarsil</td>\n",
       "      <td>[0, 0]</td>\n",
       "      <td>Good for someone who likes skinny jeans but do...</td>\n",
       "      <td>5.0</td>\n",
       "      <td>Love these jeans</td>\n",
       "      <td>1384646400</td>\n",
       "      <td>11 17, 2013</td>\n",
       "      <td>1</td>\n",
       "    </tr>\n",
       "    <tr>\n",
       "      <th>1</th>\n",
       "      <td>A1JWX45KHE34AL</td>\n",
       "      <td>B00CJ5NH36</td>\n",
       "      <td>varnienarsil</td>\n",
       "      <td>[0, 0]</td>\n",
       "      <td>This shirt with it's bold graphic is seriously...</td>\n",
       "      <td>5.0</td>\n",
       "      <td>As cute as it looks</td>\n",
       "      <td>1384646400</td>\n",
       "      <td>11 17, 2013</td>\n",
       "      <td>2</td>\n",
       "    </tr>\n",
       "    <tr>\n",
       "      <th>2</th>\n",
       "      <td>A1JWX45KHE34AL</td>\n",
       "      <td>B00F9NGAPM</td>\n",
       "      <td>varnienarsil</td>\n",
       "      <td>[1, 1]</td>\n",
       "      <td>The shirt is a little flowy-er than I expected...</td>\n",
       "      <td>3.0</td>\n",
       "      <td>Like, don't love</td>\n",
       "      <td>1384646400</td>\n",
       "      <td>11 17, 2013</td>\n",
       "      <td>4</td>\n",
       "    </tr>\n",
       "    <tr>\n",
       "      <th>3</th>\n",
       "      <td>A2YHF6O2D37PMX</td>\n",
       "      <td>B000LYFF46</td>\n",
       "      <td>DCP</td>\n",
       "      <td>[0, 0]</td>\n",
       "      <td>I selected &amp;#34;fit as expected&amp;#34;, but they...</td>\n",
       "      <td>3.0</td>\n",
       "      <td>Just not comfortable for me</td>\n",
       "      <td>1393804800</td>\n",
       "      <td>03 3, 2014</td>\n",
       "      <td>5</td>\n",
       "    </tr>\n",
       "    <tr>\n",
       "      <th>4</th>\n",
       "      <td>A2YHF6O2D37PMX</td>\n",
       "      <td>B005FPAC8K</td>\n",
       "      <td>DCP</td>\n",
       "      <td>[3, 3]</td>\n",
       "      <td>May 27:  I've worn them 3-4 times each since M...</td>\n",
       "      <td>1.0</td>\n",
       "      <td>Lowered my rating</td>\n",
       "      <td>1336348800</td>\n",
       "      <td>05 7, 2012</td>\n",
       "      <td>6</td>\n",
       "    </tr>\n",
       "  </tbody>\n",
       "</table>\n",
       "</div>"
      ],
      "text/plain": [
       "             user        item  reviewerName helpful  \\\n",
       "0  A1JWX45KHE34AL  B00APT3MHO  varnienarsil  [0, 0]   \n",
       "1  A1JWX45KHE34AL  B00CJ5NH36  varnienarsil  [0, 0]   \n",
       "2  A1JWX45KHE34AL  B00F9NGAPM  varnienarsil  [1, 1]   \n",
       "3  A2YHF6O2D37PMX  B000LYFF46           DCP  [0, 0]   \n",
       "4  A2YHF6O2D37PMX  B005FPAC8K           DCP  [3, 3]   \n",
       "\n",
       "                                          reviewText  rating  \\\n",
       "0  Good for someone who likes skinny jeans but do...     5.0   \n",
       "1  This shirt with it's bold graphic is seriously...     5.0   \n",
       "2  The shirt is a little flowy-er than I expected...     3.0   \n",
       "3  I selected &#34;fit as expected&#34;, but they...     3.0   \n",
       "4  May 27:  I've worn them 3-4 times each since M...     1.0   \n",
       "\n",
       "                       summary  unixReviewTime   reviewTime  productid  \n",
       "0             Love these jeans      1384646400  11 17, 2013          1  \n",
       "1          As cute as it looks      1384646400  11 17, 2013          2  \n",
       "2             Like, don't love      1384646400  11 17, 2013          4  \n",
       "3  Just not comfortable for me      1393804800   03 3, 2014          5  \n",
       "4            Lowered my rating      1336348800   05 7, 2012          6  "
      ]
     },
     "execution_count": 45,
     "metadata": {},
     "output_type": "execute_result"
    }
   ],
   "source": [
    "df.head()"
   ]
  },
  {
   "cell_type": "markdown",
   "metadata": {},
   "source": [
    "## MovieLens"
   ]
  },
  {
   "cell_type": "code",
   "execution_count": 81,
   "metadata": {},
   "outputs": [
    {
     "name": "stdout",
     "output_type": "stream",
     "text": [
      "rating interval: 0.5 , 5.0\n"
     ]
    },
    {
     "data": {
      "text/html": [
       "<div>\n",
       "<style scoped>\n",
       "    .dataframe tbody tr th:only-of-type {\n",
       "        vertical-align: middle;\n",
       "    }\n",
       "\n",
       "    .dataframe tbody tr th {\n",
       "        vertical-align: top;\n",
       "    }\n",
       "\n",
       "    .dataframe thead th {\n",
       "        text-align: right;\n",
       "    }\n",
       "</style>\n",
       "<table border=\"1\" class=\"dataframe\">\n",
       "  <thead>\n",
       "    <tr style=\"text-align: right;\">\n",
       "      <th></th>\n",
       "      <th>user</th>\n",
       "      <th>item</th>\n",
       "      <th>rating</th>\n",
       "    </tr>\n",
       "  </thead>\n",
       "  <tbody>\n",
       "    <tr>\n",
       "      <th>0</th>\n",
       "      <td>1</td>\n",
       "      <td>31</td>\n",
       "      <td>2.5</td>\n",
       "    </tr>\n",
       "    <tr>\n",
       "      <th>1</th>\n",
       "      <td>1</td>\n",
       "      <td>1029</td>\n",
       "      <td>3.0</td>\n",
       "    </tr>\n",
       "    <tr>\n",
       "      <th>2</th>\n",
       "      <td>1</td>\n",
       "      <td>1061</td>\n",
       "      <td>3.0</td>\n",
       "    </tr>\n",
       "    <tr>\n",
       "      <th>3</th>\n",
       "      <td>1</td>\n",
       "      <td>1129</td>\n",
       "      <td>2.0</td>\n",
       "    </tr>\n",
       "    <tr>\n",
       "      <th>4</th>\n",
       "      <td>1</td>\n",
       "      <td>1172</td>\n",
       "      <td>4.0</td>\n",
       "    </tr>\n",
       "  </tbody>\n",
       "</table>\n",
       "</div>"
      ],
      "text/plain": [
       "   user  item  rating\n",
       "0     1    31     2.5\n",
       "1     1  1029     3.0\n",
       "2     1  1061     3.0\n",
       "3     1  1129     2.0\n",
       "4     1  1172     4.0"
      ]
     },
     "execution_count": 81,
     "metadata": {},
     "output_type": "execute_result"
    }
   ],
   "source": [
    "df = pd.read_csv('Data/movie_lens_ratings_small.csv').drop(columns=['timestamp'])\n",
    "df.head()\n",
    "df.columns = ['user', 'item', 'rating']\n",
    "print('rating interval:', df.rating.unique().min(), ',', df.rating.unique().max())\n",
    "df.head()"
   ]
  },
  {
   "cell_type": "code",
   "execution_count": 24,
   "metadata": {},
   "outputs": [],
   "source": [
    "df_user_train = pd.DataFrame(columns=list(df))\n",
    "df_user_val = pd.DataFrame(columns=list(df))\n",
    "df_user_test = pd.DataFrame(columns=list(df))\n",
    "\n",
    "users = df['user'].unique()\n",
    "\n",
    "for u in users:\n",
    "    df_temp = df[df['user']==u][['user', 'item', 'rating']]\n",
    "    df_user_train = df_user_train.append(df_temp.iloc[2:])\n",
    "    df_user_val = df_user_val.append(df_temp.iloc[0])\n",
    "    df_user_test = df_user_test.append(df_temp.iloc[1])"
   ]
  },
  {
   "cell_type": "code",
   "execution_count": 26,
   "metadata": {},
   "outputs": [],
   "source": [
    "df_user_train.to_pickle('Data/user_train')\n",
    "df_user_val.to_pickle('Data/user_val')\n",
    "df_user_test.to_pickle('Data/user_test')"
   ]
  },
  {
   "cell_type": "code",
   "execution_count": 80,
   "metadata": {},
   "outputs": [],
   "source": [
    "df_user_train = pd.read_pickle('Data/user_train_ml')\n",
    "df_user_val = pd.read_pickle('Data/user_val_ml')\n",
    "df_user_test = pd.read_pickle('Data/user_test_ml')"
   ]
  },
  {
   "cell_type": "code",
   "execution_count": 25,
   "metadata": {},
   "outputs": [
    {
     "name": "stdout",
     "output_type": "stream",
     "text": [
      "98662 671 671\n"
     ]
    }
   ],
   "source": [
    "print(len(df_user_train), len(df_user_test), len(df_user_val))"
   ]
  },
  {
   "cell_type": "markdown",
   "metadata": {},
   "source": [
    "## Data stats"
   ]
  },
  {
   "cell_type": "code",
   "execution_count": 82,
   "metadata": {},
   "outputs": [],
   "source": [
    "norpu = df.groupby('user')['rating'].count().mean()\n",
    "norpi = df.groupby('item')['rating'].count().mean()\n",
    "total_users = df.user.unique().size\n",
    "total_items = df.item.unique().size"
   ]
  },
  {
   "cell_type": "code",
   "execution_count": 83,
   "metadata": {},
   "outputs": [],
   "source": [
    "# df = df.sample(frac=0.5, random_state=1234)"
   ]
  },
  {
   "cell_type": "code",
   "execution_count": 84,
   "metadata": {},
   "outputs": [
    {
     "name": "stdout",
     "output_type": "stream",
     "text": [
      "rows  100004 \n",
      "#ratings 100004 \n",
      "#ratings/user 149.04 \n",
      "#ratings/item 11.03 \n",
      "average rating 3.54 \n",
      "#users  671 \n",
      "#items  9066\n"
     ]
    },
    {
     "data": {
      "image/png": "[encoded data removed]",
      "text/plain": [
       "<Figure size 432x288 with 1 Axes>"
      ]
     },
     "metadata": {
      "needs_background": "light"
     },
     "output_type": "display_data"
    }
   ],
   "source": [
    "print('rows ', len(df), '\\n#ratings', len(df[df['rating'] != 0]), '\\n#ratings/user', round(norpu,2), '\\n#ratings/item', round(norpi,2), '\\naverage rating', \"{0:.2f}\".format(np.average(df['rating'])), '\\n#users ', df['user'].unique().size, '\\n#items ', df['item'].unique().size)\n",
    "df.hist(column='rating', bins=5, grid=False)\n",
    "plt.title('Rating Distribution')\n",
    "plt.xlabel('Rating')\n",
    "plt.ylabel('Count')\n",
    "plt.xticks(range(1,6))\n",
    "plt.show()"
   ]
  },
  {
   "cell_type": "markdown",
   "metadata": {},
   "source": [
    "# SVD"
   ]
  },
  {
   "cell_type": "markdown",
   "metadata": {},
   "source": [
    "## Data Prep"
   ]
  },
  {
   "cell_type": "code",
   "execution_count": 85,
   "metadata": {},
   "outputs": [
    {
     "name": "stdout",
     "output_type": "stream",
     "text": [
      "Full data #row:  98662\n",
      "Full data #row:  671\n",
      "Full data #row:  671\n"
     ]
    }
   ],
   "source": [
    "def transform(df):\n",
    "    items = df['item'].unique()\n",
    "    itemsDF = pd.DataFrame(data=items, columns=['original_item_id'])\n",
    "    itemsDF['new_item_id'] = itemsDF.index\n",
    "\n",
    "    users = df['user'].unique()\n",
    "    usersDF = pd.DataFrame(data=users, columns=['original_user_id'])\n",
    "    usersDF['new_user_id'] = usersDF.index\n",
    "\n",
    "    ratingDF = df.merge(itemsDF, left_on='item', right_on='original_item_id')\n",
    "    ratingDF = ratingDF.drop(columns=['original_item_id'])\n",
    "\n",
    "    ratingDF = ratingDF.merge(usersDF, left_on='user', right_on='original_user_id')\n",
    "    ratingDF = ratingDF.drop(columns=['original_user_id'])\n",
    "\n",
    "    df_new_ids = ratingDF\n",
    "    print('Full data #row: ', df_new_ids.shape[0])\n",
    "    df_new_ids.head()\n",
    "    \n",
    "    return df_new_ids\n",
    "\n",
    "# df_new_ids = transform(df)\n",
    "train_set = transform(df_user_train)\n",
    "val_set = transform(df_user_val)\n",
    "test_set = transform(df_user_test)"
   ]
  },
  {
   "cell_type": "markdown",
   "metadata": {},
   "source": [
    "## Model"
   ]
  },
  {
   "cell_type": "code",
   "execution_count": 86,
   "metadata": {},
   "outputs": [],
   "source": [
    "class SVD:\n",
    "    \"\"\"\" All functions used to run, test, plot and store the\n",
    "    Singular Value Decomposition Model\"\"\"\n",
    "\n",
    "    def __init__(self, params, total_users, total_items):\n",
    "        self.nolf = params['nolf']\n",
    "        self.n_epochs = params['n_epochs']\n",
    "        self.alpha = params['alpha']\n",
    "        self.alpha_b = params['alpha_b']\n",
    "        self.alpha_cb = params['alpha_cb']\n",
    "        self.use_bias = params['use_bias']\n",
    "        self.use_impl_fb = params['use_impl_fb']\n",
    "        self.use_color = params['use_color']\n",
    "        self.use_weight_ver = params['use_weight_ver']\n",
    "        self.bu_reg = params['bu_reg']\n",
    "        self.bi_reg = params['bi_reg']\n",
    "        self.pu_reg = params['pu_reg']\n",
    "        self.qi_reg = params['qi_reg']\n",
    "        self.x_reg = params['x_reg']\n",
    "        self.cb_reg = params['cb_reg']\n",
    "        self.ver_weight = params['ver_weight']\n",
    "        self.stop = params['stop']\n",
    "        self.random_state = params['random_state']\n",
    "        self.total_users = total_users\n",
    "        self.total_items = total_items\n",
    "        self.params = params\n",
    "        self.mu = 0 \n",
    "        self.N = []\n",
    "        self.N_test = []\n",
    "        self.t = pd.DataFrame()\n",
    "        self.c = pd.DataFrame()\n",
    "        self.F = pd.DataFrame()\n",
    "\n",
    "        self.train_data = pd.DataFrame()\n",
    "        self.test_data = pd.DataFrame()\n",
    "        self.val_data = pd.DataFrame()\n",
    "        self.train_time = 0\n",
    "        self.best_model = {}\n",
    "        self.model = {}\n",
    "        self.test_results = {}\n",
    "\n",
    "    def fit(self, train_data, val_data=[], verbose=1, plot=True):\n",
    "        self.train_data = train_data\n",
    "        self.val_data = val_data\n",
    "        self.SVD(train_data=train_data, val_data=val_data, verbose=verbose, plot=plot)\n",
    "        return self\n",
    "\n",
    "    \n",
    "###############################################################################################\n",
    "    \n",
    "    def SVD(self, train_data, val_data, verbose, plot):\n",
    "        \"\"\"\"The SVD algorithm with sgd\n",
    "        input: rating dataset with columns:['rating', 'user_id', 'item_id']\n",
    "        output: the resulting p, q, bi, bu matrices\"\"\"\n",
    "        self.mu = self.create_mu(train_data)\n",
    "        train_matrix = self.create_matrix(train_data, total_users, total_items)\n",
    "        \n",
    "        tuples_train = [tuple(x) for x in train_data[['new_user_id', 'new_item_id', 'rating']].to_numpy()]\n",
    "        \n",
    "        p = np.random.normal(0, .1, (total_users, self.nolf))  # users\n",
    "        q = np.random.normal(0, .1, (total_items, self.nolf))  # items\n",
    "        \n",
    "        # user and item biases\n",
    "        b_user = np.zeros(total_users)\n",
    "        b_item = np.zeros(total_items)\n",
    "        \n",
    "        # using color (pareto split (0,1,2)) attribute bias\n",
    "        if self.use_color:\n",
    "            print('Creating F and c, for incorporating color bias')\n",
    "            self.F, self.c = self.init_color(train_data)\n",
    "\n",
    "        # implicit fb rated, not rated\n",
    "        x = np.random.normal(0, .1, (total_items, self.nolf))\n",
    "        impl_fb_u = np.zeros(self.nolf)\n",
    "        if self.use_impl_fb:\n",
    "            print('Creating N, for incorporating implicit feedback')\n",
    "            self.N = train_data.groupby('new_user_id')['new_item_id'].apply(list)\n",
    "        \n",
    "        # 0.5 weight on the errors of verified = False user item combinations\n",
    "        if self.use_weight_ver:\n",
    "            i_verified = train_data.set_index(['new_user_id', 'new_item_id'])['verified']\n",
    "            i_verified = i_verified.loc[~i_verified.index.duplicated(keep='first')]\n",
    "        \n",
    "        sqrt_Nu = 0\n",
    "        cb = 0\n",
    "        rmses = []\n",
    "        val_rmses = []\n",
    "        smallest_val_rmse = 10000\n",
    "        val_rmse = \"na\"\n",
    "        start = time.time()\n",
    "        for epoch in range(self.n_epochs):\n",
    "            total_sq_error = 0\n",
    "            for u, i, r_ui in tuples_train:\n",
    "                u = int(u)\n",
    "                i = int(i)\n",
    "                \n",
    "                if self.use_impl_fb:\n",
    "                    impl_fb_u = np.zeros(self.nolf)\n",
    "                    sqrt_Nu = np.sqrt(len(self.N[u]))\n",
    "                    for j in self.N[u]:\n",
    "                        impl_fb_u += x[j] / sqrt_Nu\n",
    "\n",
    "                if self.use_color and epoch > 5:\n",
    "                    F_ui =  self.F[u,i] #Set of items associated with i and rated by u\n",
    "                    u_mu = self.mu + b_user[u]\n",
    "                    sqrt_F_ui = np.sqrt(len(F_ui))\n",
    "                    for index, f in enumerate(F_ui):\n",
    "                        r_uf = train_data[(train_data['new_user_id']==u) & (train_data['new_item_id']==f)]['rating'].iloc[0]\n",
    "                        cb += (r_uf - u_mu) * self.c[u,i][index]\n",
    "                    cb /=  sqrt_F_ui\n",
    "                        \n",
    "                if self.use_bias:   \n",
    "                    error = r_ui - ((self.mu + b_user[u] + b_item[i] + cb) + np.dot(p[u] + impl_fb_u, q[i]))\n",
    "                    if self.use_weight_ver and not i_verified[u,i]:\n",
    "                        error = self.ver_weight * error\n",
    "                    \n",
    "                    b_user[u] += self.alpha_b * (error - self.bu_reg * b_user[u])\n",
    "                    b_item[i] += self.alpha_b * (error - self.bi_reg * b_item[i])\n",
    "                else:\n",
    "                    error = r_ui - np.dot(p[u], q[i])\n",
    "\n",
    "                p[u] += self.alpha * (error * q[i] - self.pu_reg * p[u])\n",
    "                q[i] += self.alpha * (error * (p[u] + impl_fb_u) - self.qi_reg * q[i])\n",
    "                total_sq_error += np.square(error)\n",
    "            \n",
    "                if self.use_impl_fb:\n",
    "                    for j in self.N[u]:\n",
    "                        x[j] += self.alpha * (error * q[i] / sqrt_Nu - self.x_reg * x[j])\n",
    "                \n",
    "                if self.use_color and epoch > 5:\n",
    "                    for index, f in enumerate(F_ui):\n",
    "                        r_uf = train_data[(train_data['new_user_id']==u) & (train_data['new_item_id']==f)]['rating'].iloc[0]\n",
    "                        u_mu = self.mu + b_user[u]\n",
    "                        self.c[u,i][index] += self.alpha_cb * (error * (1/sqrt_F_ui) * (r_uf - u_mu) - self.cb_reg * self.c[u,i][index])\n",
    "                \n",
    "            rmse = np.sqrt(total_sq_error / len(tuples_train))\n",
    "            rmses.append(rmse)\n",
    "            \n",
    "            self.model = {'p': p, 'q': q, 'bu':b_user, 'bi':b_item, 'cbu': self.c, 'x':x, 'rmse':rmses, 'val_rmse':val_rmses}\n",
    "            \n",
    "            # Validation\n",
    "            if len(val_data) > 0:\n",
    "                new_val_rmse = self.test(val_data, val=True)\n",
    "                val_rmses.append(new_val_rmse)\n",
    "                if new_val_rmse < smallest_val_rmse:\n",
    "                    smallest_val_rmse = new_val_rmse\n",
    "                    self.best_model = copy.deepcopy(self.model)\n",
    "                val_rmse = new_val_rmse\n",
    "                \n",
    "            # Epoch Printing\n",
    "            if epoch % verbose == 0:\n",
    "                if len(val_data) > 0:\n",
    "                    print('Epoch:', epoch, '  RMSE:', rmse, ' Val_RMSE:', val_rmse)\n",
    "                else:\n",
    "                    print('Epoch:', epoch, '  RMSE:', rmse)\n",
    "            \n",
    "            if self.stop and val_rmses[-2:][0] < val_rmse:\n",
    "                print('BREAK: Validation set not improving anymore')\n",
    "                break\n",
    "                \n",
    "        if plot:\n",
    "            self.plot_rmse(rmses, val_rmses)\n",
    "\n",
    "        self.train_time = time.time() - start\n",
    "        self.model = {'p': p, 'q': q, 'bu':b_user, 'bi':b_item, 'cbu': self.c, 'x':x, 'rmse':rmses, 'val_rmse':val_rmses}\n",
    "#################################################################################################\n",
    "\n",
    "    def init_color(self, data_set):\n",
    "        self.t = data_set.groupby(['new_user_id', 'par_col2'])['new_item_id'].apply(list)\n",
    "        F = data_set.groupby(['new_user_id', 'new_item_id'])['par_col2'].apply(self.sim_items)\n",
    "        c = data_set.groupby(['new_user_id', 'new_item_id'])['par_col2'].apply(self.sim_items, random=True)\n",
    "        return F, c\n",
    "\n",
    "    def sim_items(self, x, random=False):\n",
    "        u_id = x.name[0]\n",
    "        col = x.iloc[0]\n",
    "        if random:\n",
    "            return np.random.normal(0,.1,len(self.t[u_id, col]))\n",
    "        return self.t[u_id, col]\n",
    "    \n",
    "    def create_matrix(self, X_train, n_users, n_items):\n",
    "        n_users = df.user.unique().shape[0]\n",
    "        n_items = df.item.unique().shape[0]\n",
    "\n",
    "        r = X_train['new_user_id']\n",
    "        c = X_train['new_item_id']\n",
    "        d = X_train['rating']\n",
    "        train_matrix = sparse.coo_matrix((d, (r, c)), shape=(n_users, n_items))\n",
    "    \n",
    "        return train_matrix.tocsr()\n",
    "    \n",
    "    def create_mu(self, train_set):\n",
    "        # Better mean calculation according to https://sifter.org/~simon/journal/20061211.html\n",
    "        va = train_set.groupby('new_user_id')['rating'].mean().var() #variance mean ratings users\n",
    "        vb = train_set.groupby('new_item_id')['rating'].mean().var() #variance mean ratings items\n",
    "        k = va/vb #variance proportion\n",
    "        better_mu = (train_set['rating'].mean() + train_set['rating'].sum()) / (k+len(train_set))\n",
    "        return better_mu\n",
    "\n",
    "    def sigmoid(x):\n",
    "          return 1 / (1 + math.exp(-x))\n",
    "    \n",
    "    def plot_rmse(self, rmse, val_rmses=[]):\n",
    "        plt.plot(np.arange(len(rmse)), rmse)\n",
    "        if len(val_rmses) > 0:\n",
    "            plt.plot(np.arange(len(val_rmses)), val_rmses, color='red')\n",
    "        plt.title('RMSE')\n",
    "        plt.xlabel('epoch')\n",
    "        plt.ylabel('loss')\n",
    "        plt.legend(['Train', 'Validation'])\n",
    "        plt.show()\n",
    "\n",
    "    def test(self, test_data, val=False):\n",
    "        if not val:\n",
    "            self.test_data = test_data\n",
    "        tuples_test = [tuple(x) for x in test_data[['new_user_id', 'new_item_id', 'rating']].to_numpy()]\n",
    "        test_matrix = self.create_matrix(test_data, self.total_users, self.total_items)\n",
    "        \n",
    "        if self.use_impl_fb and val:\n",
    "            self.N_test = self.val_data.groupby('new_user_id')['new_item_id'].apply(list)\n",
    "        elif self.use_impl_fb:\n",
    "            self.N_test = self.test_data.groupby('new_user_id')['new_item_id'].apply(list)\n",
    "            \n",
    "        total_error = 0\n",
    "        estimates = []\n",
    "        for u, i, r_ui in tuples_test:\n",
    "            u = int(u)\n",
    "            i = int(i)\n",
    "            est = self.estimate(u, i, test_matrix, test_data)\n",
    "            estimates.append(est)\n",
    "            total_error += np.square(r_ui - est)\n",
    "        \n",
    "        rmse = np.sqrt(total_error / len(tuples_test))\n",
    "        \n",
    "        if not val:\n",
    "            self.test_results = {'rmse': rmse, 'estimates':estimates}\n",
    "            print('RMSE on test set:', self.test_results['rmse'])\n",
    "        else:\n",
    "            return rmse\n",
    "\n",
    "    def estimate(self, u, i, test_matrix, test_data):\n",
    "        est = self.mu + self.model['bu'][u] + self.model['bi'][i]\n",
    "        impl_fb_u = np.zeros(self.nolf)\n",
    "        cb = 0\n",
    "        if u in self.train_data['new_user_id'] and i in self.train_data['new_item_id']:\n",
    "            \n",
    "            if self.use_impl_fb and u in self.N.index:\n",
    "                sqrt_Nu = np.sqrt(len(self.N[u]))\n",
    "                for j in self.N[u]:   \n",
    "                    impl_fb_u += self.model['x'][j] / sqrt_Nu\n",
    "            \n",
    "            if self.use_color and (u,i) in self.model['cbu']:\n",
    "                F_ui =  self.F[u,i] #Set of items associated with i and rated by u\n",
    "                u_mu = self.mu + self.model['bu'][u]\n",
    "                sqrt_F_ui = np.sqrt(len(F_ui))\n",
    "                for index, f in enumerate(F_ui):\n",
    "                    r_uf = self.train_data[(self.train_data['new_user_id']==u) & (self.train_data['new_item_id']==f)]['rating'].iloc[0]\n",
    "                    cb += (r_uf - u_mu) * self.model['cbu'][u,i][index]\n",
    "                cb /=  sqrt_F_ui\n",
    "                \n",
    "            est += cb + np.dot(self.model['p'][u] + impl_fb_u, self.model['q'][i])\n",
    "\n",
    "        return est\n",
    "    \n",
    "    def store_results(self, log_path, res_name, user_thres, item_thres):\n",
    "        train_size = round((len(self.train_data) / (len(self.train_data) + len(self.test_data) + len(self.val_data))),1)\n",
    "        test_size = round((len(self.test_data) / (len(self.train_data) + len(self.test_data) + len(self.val_data))),1)\n",
    "        val_size = round((len(self.val_data) / (len(self.train_data) + len(self.test_data) + len(self.val_data))),1)\n",
    "        \n",
    "        result_info = {'RMSE_test': self.test_results['rmse'], 'train_speed': round(self.train_time,2)}\n",
    "        other_info = {'u_thres': user_thres,'i_thres': item_thres, 'train_size':train_size, 'test_size':test_size, 'val_size':val_size, 'train_rmse':self.model['rmse']}\n",
    "        final_log = dict(result_info, **self.params, **other_info)\n",
    "\n",
    "        if not os.path.exists(log_path + res_name):\n",
    "            df_results = pd.DataFrame(columns=final_log.keys())\n",
    "            print('new results created')\n",
    "\n",
    "        else:\n",
    "            df_results = pd.read_pickle(log_path + res_name)\n",
    "            print('results added')\n",
    "\n",
    "        df_results = df_results.append(final_log, ignore_index=True)\n",
    "        pd.to_pickle(df_results, log_path + res_name)"
   ]
  },
  {
   "cell_type": "markdown",
   "metadata": {},
   "source": [
    "## Params"
   ]
  },
  {
   "cell_type": "code",
   "execution_count": 87,
   "metadata": {},
   "outputs": [],
   "source": [
    "params = {\"nolf\":100, #Size of latent feature vectors\n",
    "\"n_epochs\":60,\n",
    "\"random_state\":1234,\n",
    "\n",
    "#Learning rate\n",
    "\"alpha\":0.004, #Low alpha to prevent diverging => sgd all over the place => error up\n",
    "\"alpha_b\":0.004,\n",
    "\"alpha_cb\":0.001,\n",
    "\n",
    "\"stop\":True,\n",
    "\"use_bias\":True,\n",
    "\"use_color\":False,\n",
    "\"use_impl_fb\":False,\n",
    "\"use_weight_ver\":False,\n",
    "\n",
    "#Regularizers, still tweaking the values\n",
    "\"bu_reg\":0.5,\n",
    "\"bi_reg\":0.5,\n",
    "\"pu_reg\":0.01,\n",
    "\"qi_reg\":0.01,\n",
    "\"x_reg\":0.001,\n",
    "\"cb_reg\": 0.01,\n",
    "\"ver_weight\": 0.5\n",
    "}"
   ]
  },
  {
   "cell_type": "markdown",
   "metadata": {},
   "source": [
    "## Train and Test Model"
   ]
  },
  {
   "cell_type": "markdown",
   "metadata": {},
   "source": [
    "### MovieLens model"
   ]
  },
  {
   "cell_type": "code",
   "execution_count": 37,
   "metadata": {},
   "outputs": [
    {
     "name": "stdout",
     "output_type": "stream",
     "text": [
      "Epoch: 0   RMSE: 1.003224387334317  Val_RMSE: 0.9967320736967449\n",
      "Epoch: 1   RMSE: 0.9607766683280534  Val_RMSE: 0.9796314262452755\n",
      "Epoch: 2   RMSE: 0.9411232282589503  Val_RMSE: 0.9693298407444796\n",
      "Epoch: 3   RMSE: 0.9284889907663378  Val_RMSE: 0.9626170335217376\n",
      "Epoch: 4   RMSE: 0.9192590578088184  Val_RMSE: 0.9580008387184187\n",
      "Epoch: 5   RMSE: 0.9119959318876302  Val_RMSE: 0.9547177580136532\n",
      "Epoch: 6   RMSE: 0.9060012001415213  Val_RMSE: 0.9523417775599022\n",
      "Epoch: 7   RMSE: 0.9008880597562369  Val_RMSE: 0.9506162549921322\n",
      "Epoch: 8   RMSE: 0.8964208433723316  Val_RMSE: 0.9493756184766395\n",
      "Epoch: 9   RMSE: 0.8924452278187478  Val_RMSE: 0.948506476867191\n",
      "Epoch: 10   RMSE: 0.888854350779362  Val_RMSE: 0.9479272036340882\n",
      "Epoch: 11   RMSE: 0.8855708513093647  Val_RMSE: 0.9475766569081187\n",
      "Epoch: 12   RMSE: 0.8825366506229279  Val_RMSE: 0.947407630947109\n",
      "Epoch: 13   RMSE: 0.879706791253362  Val_RMSE: 0.9473828622939127\n",
      "Epoch: 14   RMSE: 0.8770455414987417  Val_RMSE: 0.9474724710890795\n",
      "BREAK: Validation set not improving anymore\n"
     ]
    },
    {
     "data": {
      "image/png": "[encoded data removed]",
      "text/plain": [
       "<Figure size 432x288 with 1 Axes>"
      ]
     },
     "metadata": {
      "needs_background": "light"
     },
     "output_type": "display_data"
    },
    {
     "data": {
      "text/plain": [
       "<__main__.SVD at 0x2287abf7508>"
      ]
     },
     "execution_count": 37,
     "metadata": {},
     "output_type": "execute_result"
    }
   ],
   "source": [
    "model_ml = SVD(params, total_users, total_items)\n",
    "model_ml.fit(train_set, val_set, 1, plot=True)"
   ]
  },
  {
   "cell_type": "code",
   "execution_count": 38,
   "metadata": {},
   "outputs": [
    {
     "name": "stdout",
     "output_type": "stream",
     "text": [
      "RMSE on test set: 1.0174982541984474\n"
     ]
    }
   ],
   "source": [
    "model_ml.test(test_set)"
   ]
  },
  {
   "cell_type": "markdown",
   "metadata": {},
   "source": [
    "### Basic model with biases"
   ]
  },
  {
   "cell_type": "code",
   "execution_count": 59,
   "metadata": {
    "scrolled": false
   },
   "outputs": [
    {
     "name": "stdout",
     "output_type": "stream",
     "text": [
      "Epoch: 0   RMSE: 1.1495008939617049  Val_RMSE: 1.1535987249583823\n",
      "Epoch: 1   RMSE: 1.123983528176987  Val_RMSE: 1.1499335330656473\n",
      "Epoch: 2   RMSE: 1.1010361942231295  Val_RMSE: 1.1467527147003085\n",
      "Epoch: 3   RMSE: 1.0798590903330503  Val_RMSE: 1.1439680177474785\n",
      "Epoch: 4   RMSE: 1.0600455527094037  Val_RMSE: 1.1415177465489776\n",
      "Epoch: 5   RMSE: 1.0413396740507923  Val_RMSE: 1.1393551559192492\n",
      "Epoch: 6   RMSE: 1.0235612166347003  Val_RMSE: 1.1374431279997081\n",
      "Epoch: 7   RMSE: 1.0065746590997557  Val_RMSE: 1.1357512867350512\n",
      "Epoch: 8   RMSE: 0.9902736554050816  Val_RMSE: 1.1342542469025039\n",
      "Epoch: 9   RMSE: 0.9745721901890202  Val_RMSE: 1.1329304641198386\n",
      "Epoch: 10   RMSE: 0.9593991093085683  Val_RMSE: 1.131761434813199\n",
      "Epoch: 11   RMSE: 0.9446945312895737  Val_RMSE: 1.1307311151952615\n",
      "Epoch: 12   RMSE: 0.9304073854142172  Val_RMSE: 1.1298254852056457\n",
      "Epoch: 13   RMSE: 0.9164936628347575  Val_RMSE: 1.1290322127245207\n",
      "Epoch: 14   RMSE: 0.902915139017063  Val_RMSE: 1.1283403896141861\n",
      "Epoch: 15   RMSE: 0.8896384188099956  Val_RMSE: 1.1277403206760166\n",
      "Epoch: 16   RMSE: 0.8766342085882315  Val_RMSE: 1.1272233524930881\n",
      "Epoch: 17   RMSE: 0.8638767517029216  Val_RMSE: 1.126781732915015\n",
      "Epoch: 18   RMSE: 0.8513433832269037  Val_RMSE: 1.1264084944681814\n",
      "Epoch: 19   RMSE: 0.8390141726821204  Val_RMSE: 1.1260973567100343\n",
      "Epoch: 20   RMSE: 0.826871631878022  Val_RMSE: 1.1258426437694018\n",
      "Epoch: 21   RMSE: 0.8149004708057267  Val_RMSE: 1.1256392141944955\n",
      "Epoch: 22   RMSE: 0.8030873887127854  Val_RMSE: 1.125482400874856\n",
      "Epoch: 23   RMSE: 0.7914208906339731  Val_RMSE: 1.1253679592832204\n",
      "Epoch: 24   RMSE: 0.7798911221522793  Val_RMSE: 1.1252920226445522\n",
      "Epoch: 25   RMSE: 0.7684897172232668  Val_RMSE: 1.1252510629158818\n",
      "Epoch: 26   RMSE: 0.7572096556267366  Val_RMSE: 1.1252418566732671\n",
      "Epoch: 27   RMSE: 0.7460451280477265  Val_RMSE: 1.1252614551682634\n",
      "BREAK: Validation set not improving anymore\n"
     ]
    },
    {
     "data": {
      "image/png": "[encoded data removed]",
      "text/plain": [
       "<Figure size 432x288 with 1 Axes>"
      ]
     },
     "metadata": {
      "needs_background": "light"
     },
     "output_type": "display_data"
    },
    {
     "data": {
      "text/plain": [
       "<__main__.SVD at 0x2285ad65888>"
      ]
     },
     "execution_count": 59,
     "metadata": {},
     "output_type": "execute_result"
    }
   ],
   "source": [
    "model = SVD(params, total_users, total_items)\n",
    "model.fit(train_set, val_set, 1, plot=True)"
   ]
  },
  {
   "cell_type": "code",
   "execution_count": 60,
   "metadata": {
    "scrolled": true
   },
   "outputs": [
    {
     "name": "stdout",
     "output_type": "stream",
     "text": [
      "RMSE on test set: 1.1304159542385113\n"
     ]
    }
   ],
   "source": [
    "model.test(test_set)"
   ]
  },
  {
   "cell_type": "markdown",
   "metadata": {},
   "source": [
    "### More bias regularisation"
   ]
  },
  {
   "cell_type": "code",
   "execution_count": null,
   "metadata": {},
   "outputs": [],
   "source": [
    "params['bu_reg'] = 0.1\n",
    "params['bi_reg'] = 0.1\n",
    "model2 = SVD(params, total_users, total_items)\n",
    "model2.fit(train_set, val_set, 1, plot=True)"
   ]
  },
  {
   "cell_type": "code",
   "execution_count": null,
   "metadata": {},
   "outputs": [],
   "source": [
    "model2.test(test_set)"
   ]
  },
  {
   "cell_type": "markdown",
   "metadata": {},
   "source": [
    "### Model with impl_fb"
   ]
  },
  {
   "cell_type": "code",
   "execution_count": 61,
   "metadata": {},
   "outputs": [
    {
     "name": "stdout",
     "output_type": "stream",
     "text": [
      "Creating N, for incorporating implicit feedback\n",
      "Epoch: 0   RMSE: 1.1520435805818146  Val_RMSE: 1.1559070343225328\n",
      "Epoch: 1   RMSE: 1.118616855222398  Val_RMSE: 1.1518711451230945\n",
      "Epoch: 2   RMSE: 1.0898483492001139  Val_RMSE: 1.148486419016559\n",
      "Epoch: 3   RMSE: 1.0640150075835142  Val_RMSE: 1.1455737675822\n",
      "Epoch: 4   RMSE: 1.0403311604021583  Val_RMSE: 1.1430378909925578\n",
      "Epoch: 5   RMSE: 1.0183283123105469  Val_RMSE: 1.1408160128914195\n",
      "Epoch: 6   RMSE: 0.9976898914699311  Val_RMSE: 1.138861990874051\n",
      "Epoch: 7   RMSE: 0.9781860998284434  Val_RMSE: 1.1371397854304175\n",
      "Epoch: 8   RMSE: 0.9596421872184575  Val_RMSE: 1.1356202052503979\n",
      "Epoch: 9   RMSE: 0.9419208458307021  Val_RMSE: 1.1342790375245964\n",
      "Epoch: 10   RMSE: 0.924911554369342  Val_RMSE: 1.133095858450034\n",
      "Epoch: 11   RMSE: 0.9085237165066768  Val_RMSE: 1.1320532204475136\n",
      "Epoch: 12   RMSE: 0.8926820311275026  Val_RMSE: 1.13113606819962\n",
      "Epoch: 13   RMSE: 0.877323251084325  Val_RMSE: 1.1303313035796003\n",
      "Epoch: 14   RMSE: 0.8623938442469526  Val_RMSE: 1.1296274525319092\n",
      "Epoch: 15   RMSE: 0.8478482612158376  Val_RMSE: 1.1290144045014832\n",
      "Epoch: 16   RMSE: 0.8336476218694975  Val_RMSE: 1.1284832050546745\n",
      "Epoch: 17   RMSE: 0.8197586969327267  Val_RMSE: 1.128025888445985\n",
      "Epoch: 18   RMSE: 0.8061531004537777  Val_RMSE: 1.1276353407820652\n",
      "Epoch: 19   RMSE: 0.7928066347197552  Val_RMSE: 1.127305187016533\n",
      "Epoch: 20   RMSE: 0.7796987463747594  Val_RMSE: 1.127029696772022\n",
      "Epoch: 21   RMSE: 0.766812064536371  Val_RMSE: 1.1268037052199373\n",
      "Epoch: 22   RMSE: 0.754132000382395  Val_RMSE: 1.1266225461308959\n",
      "Epoch: 23   RMSE: 0.7416463940647353  Val_RMSE: 1.1264819948518836\n",
      "Epoch: 24   RMSE: 0.7293451995167483  Val_RMSE: 1.1263782194423821\n",
      "Epoch: 25   RMSE: 0.7172202011131962  Val_RMSE: 1.1263077385611409\n",
      "Epoch: 26   RMSE: 0.7052647584608023  Val_RMSE: 1.1262673849703606\n",
      "Epoch: 27   RMSE: 0.6934735770299605  Val_RMSE: 1.1262542737386312\n",
      "Epoch: 28   RMSE: 0.6818425030793976  Val_RMSE: 1.1262657743935067\n",
      "BREAK: Validation set not improving anymore\n"
     ]
    },
    {
     "data": {
      "image/png": "[encoded data removed]",
      "text/plain": [
       "<Figure size 432x288 with 1 Axes>"
      ]
     },
     "metadata": {
      "needs_background": "light"
     },
     "output_type": "display_data"
    },
    {
     "data": {
      "text/plain": [
       "<__main__.SVD at 0x2286013aec8>"
      ]
     },
     "execution_count": 61,
     "metadata": {},
     "output_type": "execute_result"
    }
   ],
   "source": [
    "params['use_impl_fb'] = True\n",
    "params['x_reg'] = 0.9\n",
    "model3= SVD(params, total_users, total_items)\n",
    "model3.fit(train_set, val_set, 1, plot=True)"
   ]
  },
  {
   "cell_type": "code",
   "execution_count": 62,
   "metadata": {},
   "outputs": [
    {
     "name": "stdout",
     "output_type": "stream",
     "text": [
      "RMSE on test set: 1.1319186156392735\n"
     ]
    }
   ],
   "source": [
    "model3.test(test_set)"
   ]
  },
  {
   "cell_type": "markdown",
   "metadata": {},
   "source": [
    "### Model with impl_fb more regularisation"
   ]
  },
  {
   "cell_type": "code",
   "execution_count": 63,
   "metadata": {},
   "outputs": [
    {
     "name": "stdout",
     "output_type": "stream",
     "text": [
      "Creating N, for incorporating implicit feedback\n",
      "Epoch: 0   RMSE: 1.1518586537158881  Val_RMSE: 1.154406250019155\n",
      "Epoch: 1   RMSE: 1.1209084076029667  Val_RMSE: 1.1501606308086796\n",
      "Epoch: 2   RMSE: 1.095115071543519  Val_RMSE: 1.1467080887022383\n",
      "Epoch: 3   RMSE: 1.0721119654029165  Val_RMSE: 1.1437681454524842\n",
      "Epoch: 4   RMSE: 1.0510441487026068  Val_RMSE: 1.1412210064450212\n",
      "Epoch: 5   RMSE: 1.0314451388192452  Val_RMSE: 1.1389954449310322\n",
      "Epoch: 6   RMSE: 1.01301650563446  Val_RMSE: 1.1370418533824826\n",
      "Epoch: 7   RMSE: 0.9955494716089035  Val_RMSE: 1.1353226608546172\n",
      "Epoch: 8   RMSE: 0.9788893388320604  Val_RMSE: 1.1338079922799509\n",
      "Epoch: 9   RMSE: 0.9629167878424081  Val_RMSE: 1.1324733440161379\n",
      "Epoch: 10   RMSE: 0.9475370308115938  Val_RMSE: 1.131298184740693\n",
      "Epoch: 11   RMSE: 0.9326730623676764  Val_RMSE: 1.1302650411540291\n",
      "Epoch: 12   RMSE: 0.9182612322187924  Val_RMSE: 1.1293588640603736\n",
      "Epoch: 13   RMSE: 0.9042482185773694  Val_RMSE: 1.1285665690538718\n",
      "Epoch: 14   RMSE: 0.8905888893149412  Val_RMSE: 1.1278766922523722\n",
      "Epoch: 15   RMSE: 0.8772447481217345  Val_RMSE: 1.1272791252565708\n",
      "Epoch: 16   RMSE: 0.8641827783527287  Val_RMSE: 1.1267649066307899\n",
      "Epoch: 17   RMSE: 0.8513745639126798  Val_RMSE: 1.1263260548948357\n",
      "Epoch: 18   RMSE: 0.8387956067977242  Val_RMSE: 1.1259554327486623\n",
      "Epoch: 19   RMSE: 0.8264247862199662  Val_RMSE: 1.1256466352827548\n",
      "Epoch: 20   RMSE: 0.814243920762929  Val_RMSE: 1.1253938969335713\n",
      "Epoch: 21   RMSE: 0.8022374061979576  Val_RMSE: 1.125192013312749\n",
      "Epoch: 22   RMSE: 0.7903919094234454  Val_RMSE: 1.125036274994328\n",
      "Epoch: 23   RMSE: 0.7786961046304941  Val_RMSE: 1.124922411028841\n",
      "Epoch: 24   RMSE: 0.7671404419357813  Val_RMSE: 1.1248465404498622\n",
      "Epoch: 25   RMSE: 0.7557169417603967  Val_RMSE: 1.124805130408103\n",
      "Epoch: 26   RMSE: 0.744419010425877  Val_RMSE: 1.1247949598446705\n",
      "Epoch: 27   RMSE: 0.7332412739548542  Val_RMSE: 1.1248130878264326\n",
      "BREAK: Validation set not improving anymore\n"
     ]
    },
    {
     "data": {
      "image/png": "[encoded data removed]",
      "text/plain": [
       "<Figure size 432x288 with 1 Axes>"
      ]
     },
     "metadata": {
      "needs_background": "light"
     },
     "output_type": "display_data"
    },
    {
     "data": {
      "text/plain": [
       "<__main__.SVD at 0x22803008688>"
      ]
     },
     "execution_count": 63,
     "metadata": {},
     "output_type": "execute_result"
    }
   ],
   "source": [
    "params['use_impl_fb'] = True\n",
    "params['x_reg'] = 5\n",
    "model4= SVD(params, total_users, total_items)\n",
    "model4.fit(train_set, val_set, 1, plot=True)"
   ]
  },
  {
   "cell_type": "code",
   "execution_count": 64,
   "metadata": {},
   "outputs": [
    {
     "name": "stdout",
     "output_type": "stream",
     "text": [
      "RMSE on test set: 1.130798866373235\n"
     ]
    }
   ],
   "source": [
    "model4.test(test_set)"
   ]
  },
  {
   "cell_type": "markdown",
   "metadata": {},
   "source": [
    "### Model with impl_fb MORE regularisation"
   ]
  },
  {
   "cell_type": "code",
   "execution_count": 66,
   "metadata": {},
   "outputs": [
    {
     "name": "stdout",
     "output_type": "stream",
     "text": [
      "Creating N, for incorporating implicit feedback\n",
      "Epoch: 0   RMSE: 1.1510587005505573  Val_RMSE: 1.1533714926640857\n",
      "Epoch: 1   RMSE: 1.1219677785707753  Val_RMSE: 1.1493493147444984\n",
      "Epoch: 2   RMSE: 1.0978541935484454  Val_RMSE: 1.146039131650629\n",
      "Epoch: 3   RMSE: 1.07614706920191  Val_RMSE: 1.1432085321051515\n",
      "Epoch: 4   RMSE: 1.0560814507473695  Val_RMSE: 1.1407498291250877\n",
      "Epoch: 5   RMSE: 1.0372629424535453  Val_RMSE: 1.1385966555014306\n",
      "Epoch: 6   RMSE: 1.0194457501474286  Val_RMSE: 1.1367025599109208\n",
      "Epoch: 7   RMSE: 1.0024599735948951  Val_RMSE: 1.1350324745074793\n",
      "Epoch: 8   RMSE: 0.9861801501073346  Val_RMSE: 1.13355857761243\n",
      "Epoch: 9   RMSE: 0.9705092693458871  Val_RMSE: 1.132258041019648\n",
      "Epoch: 10   RMSE: 0.9553697528953007  Val_RMSE: 1.1311116903700207\n",
      "Epoch: 11   RMSE: 0.9406979714404722  Val_RMSE: 1.1301031474372063\n",
      "Epoch: 12   RMSE: 0.9264407202329912  Val_RMSE: 1.1292182461397406\n",
      "Epoch: 13   RMSE: 0.9125528514626579  Val_RMSE: 1.1284446147147462\n",
      "Epoch: 14   RMSE: 0.8989956259649247  Val_RMSE: 1.1277713648662635\n",
      "Epoch: 15   RMSE: 0.8857355309500504  Val_RMSE: 1.1271888533123624\n",
      "Epoch: 16   RMSE: 0.8727434098180494  Val_RMSE: 1.1266884943885174\n",
      "Epoch: 17   RMSE: 0.8599938065519832  Val_RMSE: 1.126262609878557\n",
      "Epoch: 18   RMSE: 0.8474644606465631  Val_RMSE: 1.1259043067356378\n",
      "Epoch: 19   RMSE: 0.8351359091535098  Val_RMSE: 1.1256073761689114\n",
      "Epoch: 20   RMSE: 0.8229911656118797  Val_RMSE: 1.125366209406436\n",
      "Epoch: 21   RMSE: 0.8110154543849726  Val_RMSE: 1.1251757266834075\n",
      "Epoch: 22   RMSE: 0.7991959849743788  Val_RMSE: 1.1250313168658341\n",
      "Epoch: 23   RMSE: 0.787521755237483  Val_RMSE: 1.1249287857319465\n",
      "Epoch: 24   RMSE: 0.7759833756885182  Val_RMSE: 1.1248643113784436\n",
      "Epoch: 25   RMSE: 0.7645729095534078  Val_RMSE: 1.1248344055470971\n",
      "Epoch: 26   RMSE: 0.7532837251581792  Val_RMSE: 1.1248358799131597\n",
      "BREAK: Validation set not improving anymore\n"
     ]
    },
    {
     "data": {
      "image/png": "[encoded data removed]",
      "text/plain": [
       "<Figure size 432x288 with 1 Axes>"
      ]
     },
     "metadata": {
      "needs_background": "light"
     },
     "output_type": "display_data"
    },
    {
     "data": {
      "text/plain": [
       "<__main__.SVD at 0x2281c248648>"
      ]
     },
     "execution_count": 66,
     "metadata": {},
     "output_type": "execute_result"
    }
   ],
   "source": [
    "params['use_impl_fb'] = True\n",
    "params['x_reg'] = 15\n",
    "model5 = SVD(params, total_users, total_items)\n",
    "model5.fit(train_set, val_set, 1, plot=True)"
   ]
  },
  {
   "cell_type": "code",
   "execution_count": 67,
   "metadata": {},
   "outputs": [
    {
     "name": "stdout",
     "output_type": "stream",
     "text": [
      "RMSE on test set: 1.1302504004018814\n"
     ]
    }
   ],
   "source": [
    "model5.test(test_set)"
   ]
  },
  {
   "cell_type": "markdown",
   "metadata": {},
   "source": [
    "### Model with impl_fb MORE MORE regularisation"
   ]
  },
  {
   "cell_type": "code",
   "execution_count": 69,
   "metadata": {},
   "outputs": [
    {
     "name": "stdout",
     "output_type": "stream",
     "text": [
      "Creating N, for incorporating implicit feedback\n",
      "Epoch: 0   RMSE: 1.1500981240233035  Val_RMSE: 1.1528941568858229\n",
      "Epoch: 1   RMSE: 1.1228870695300863  Val_RMSE: 1.1491002410304614\n",
      "Epoch: 2   RMSE: 1.099793627257529  Val_RMSE: 1.1459243330100806\n",
      "Epoch: 3   RMSE: 1.0786080294782452  Val_RMSE: 1.1431660855061145\n",
      "Epoch: 4   RMSE: 1.0588056680564797  Val_RMSE: 1.1407449781392918\n",
      "Epoch: 5   RMSE: 1.0401105120036782  Val_RMSE: 1.1386106565862213\n",
      "Epoch: 6   RMSE: 1.0223388553431132  Val_RMSE: 1.1367253913123503\n",
      "Epoch: 7   RMSE: 1.005354935049728  Val_RMSE: 1.1350588154520163\n",
      "Epoch: 8   RMSE: 0.9890527572068873  Val_RMSE: 1.1335856672247713\n",
      "Epoch: 9   RMSE: 0.9733467228242975  Val_RMSE: 1.1322845304529272\n",
      "Epoch: 10   RMSE: 0.9581660652507542  Val_RMSE: 1.1311370139980006\n",
      "Epoch: 11   RMSE: 0.9434512560192845  Val_RMSE: 1.1301271698943918\n",
      "Epoch: 12   RMSE: 0.929151551150687  Val_RMSE: 1.1292410600453446\n",
      "Epoch: 13   RMSE: 0.9152232499778387  Val_RMSE: 1.1284664231825863\n",
      "Epoch: 14   RMSE: 0.9016284228531979  Val_RMSE: 1.1277924130190091\n",
      "Epoch: 15   RMSE: 0.8883339593024163  Val_RMSE: 1.1272093887329082\n",
      "Epoch: 16   RMSE: 0.8753108415217299  Val_RMSE: 1.1267087449141022\n",
      "Epoch: 17   RMSE: 0.8625335798054571  Val_RMSE: 1.126282771868648\n",
      "Epoch: 18   RMSE: 0.8499797661766892  Val_RMSE: 1.1259245396662054\n",
      "Epoch: 19   RMSE: 0.8376297151890923  Val_RMSE: 1.1256278010164535\n",
      "Epoch: 20   RMSE: 0.8254661693354655  Val_RMSE: 1.1253869092606983\n",
      "Epoch: 21   RMSE: 0.813474052346136  Val_RMSE: 1.1251967486283598\n",
      "Epoch: 22   RMSE: 0.8016402578526418  Val_RMSE: 1.1250526745417975\n",
      "Epoch: 23   RMSE: 0.7899534640215691  Val_RMSE: 1.1249504622249935\n",
      "Epoch: 24   RMSE: 0.778403967196808  Val_RMSE: 1.124886262227988\n",
      "Epoch: 25   RMSE: 0.7669835295438805  Val_RMSE: 1.1248565617512962\n",
      "Epoch: 26   RMSE: 0.7556852372900034  Val_RMSE: 1.1248581508650797\n",
      "BREAK: Validation set not improving anymore\n"
     ]
    },
    {
     "data": {
      "image/png": "[encoded data removed]",
      "text/plain": [
       "<Figure size 432x288 with 1 Axes>"
      ]
     },
     "metadata": {
      "needs_background": "light"
     },
     "output_type": "display_data"
    },
    {
     "data": {
      "text/plain": [
       "<__main__.SVD at 0x22859345c08>"
      ]
     },
     "execution_count": 69,
     "metadata": {},
     "output_type": "execute_result"
    }
   ],
   "source": [
    "params['use_impl_fb'] = True\n",
    "params['x_reg'] = 50\n",
    "model6 = SVD(params, total_users, total_items)\n",
    "model6.fit(train_set, val_set, 1, plot=True)"
   ]
  },
  {
   "cell_type": "code",
   "execution_count": 70,
   "metadata": {},
   "outputs": [
    {
     "name": "stdout",
     "output_type": "stream",
     "text": [
      "RMSE on test set: 1.1315224089239866\n"
     ]
    }
   ],
   "source": [
    "model6.test(test_set)"
   ]
  },
  {
   "cell_type": "code",
   "execution_count": null,
   "metadata": {},
   "outputs": [],
   "source": []
  },
  {
   "cell_type": "markdown",
   "metadata": {},
   "source": [
    "## AUC"
   ]
  },
  {
   "cell_type": "code",
   "execution_count": 88,
   "metadata": {},
   "outputs": [],
   "source": [
    "def AUC(train,test,model):\n",
    "    U = model.model['p']\n",
    "    I = model.model['q']\n",
    "    mu = model.mu\n",
    "    b_i = model.model['bi']\n",
    "    b_u = model.model['bu']\n",
    "    \n",
    "    ans=0\n",
    "    cc=0\n",
    "    for u in train['new_user_id']:\n",
    "        i=test[test['new_user_id']==u]['new_item_id'].iloc[0]\n",
    "        T=mu + b_u[u] + np.dot(U[u,:],I.T)\n",
    "        cc+=1\n",
    "        M=set()      \n",
    "        for item in train[train['new_user_id']==u]['new_item_id']:\n",
    "            M.add(item)\n",
    "        M.add(i)   \n",
    "            \n",
    "        count=0\n",
    "        tmpans=0\n",
    "        #for j in xrange(itemnum):\n",
    "        for j in rand.sample(range(total_items),100): #sample\n",
    "            if j in M: continue\n",
    "            if T[i] + b_i[i] > T[j] + b_i[j]: \n",
    "                tmpans+=1\n",
    "            count+=1\n",
    "        tmpans/=float(count)\n",
    "        ans+=tmpans\n",
    "    ans/=float(cc)\n",
    "    return ans"
   ]
  },
  {
   "cell_type": "code",
   "execution_count": 89,
   "metadata": {},
   "outputs": [],
   "source": [
    "def AUC_ranked(train,test,model):\n",
    "    U = model.model['p']\n",
    "    I = model.model['q']\n",
    "    mu = model.mu\n",
    "    b_i = model.model['bi']\n",
    "    b_u = model.model['bu']\n",
    "    \n",
    "    ans=0\n",
    "    cc=0\n",
    "    \n",
    "    for u in train['new_user_id']:\n",
    "        i=test[test['new_user_id']==u]['new_item_id'].iloc[0]\n",
    "        T=mu + b_u[u] + np.dot(U[u,:],I.T)\n",
    "        cc+=1\n",
    "        M=[]      \n",
    "        for item in train[train['new_user_id']==u]['new_item_id']:\n",
    "            M.append(item)\n",
    "        M.append(i)   \n",
    "        M = sorted(M, reverse=True)\n",
    "        i_index = M.index(i)\n",
    "        \n",
    "        count=0\n",
    "        tmpans=0\n",
    "        #for j in xrange(itemnum):\n",
    "        for j in M[i_index:]: #sample\n",
    "#             if j in M: continue\n",
    "            if T[i] + b_i[i] > T[j] + b_i[j]: \n",
    "                tmpans+=1\n",
    "            count+=1\n",
    "        tmpans/=float(count)\n",
    "        ans+=tmpans\n",
    "    ans/=float(cc)\n",
    "    return ans"
   ]
  },
  {
   "cell_type": "code",
   "execution_count": 90,
   "metadata": {},
   "outputs": [
    {
     "name": "stdout",
     "output_type": "stream",
     "text": [
      "ready\n"
     ]
    }
   ],
   "source": [
    "print('ready')"
   ]
  },
  {
   "cell_type": "code",
   "execution_count": null,
   "metadata": {},
   "outputs": [],
   "source": [
    "auc1 = AUC1(train_set, test_set, model)"
   ]
  },
  {
   "cell_type": "code",
   "execution_count": null,
   "metadata": {},
   "outputs": [],
   "source": [
    "auc1"
   ]
  },
  {
   "cell_type": "code",
   "execution_count": 40,
   "metadata": {},
   "outputs": [],
   "source": [
    "auc1_ml = AUC1(train_set, test_set, model_ml)"
   ]
  },
  {
   "cell_type": "code",
   "execution_count": 73,
   "metadata": {},
   "outputs": [
    {
     "data": {
      "text/plain": [
       "0.43219128051266475"
      ]
     },
     "execution_count": 73,
     "metadata": {},
     "output_type": "execute_result"
    }
   ],
   "source": [
    "auc1_ml"
   ]
  },
  {
   "cell_type": "code",
   "execution_count": 91,
   "metadata": {},
   "outputs": [],
   "source": [
    "auc_ranked = AUC_ranked(train_set, test_set, model_ml)"
   ]
  },
  {
   "cell_type": "code",
   "execution_count": 92,
   "metadata": {},
   "outputs": [
    {
     "data": {
      "text/plain": [
       "0.17462422961268434"
      ]
     },
     "execution_count": 92,
     "metadata": {},
     "output_type": "execute_result"
    }
   ],
   "source": [
    "auc_ranked"
   ]
  },
  {
   "cell_type": "markdown",
   "metadata": {},
   "source": [
    "## Store Results"
   ]
  },
  {
   "cell_type": "code",
   "execution_count": null,
   "metadata": {},
   "outputs": [],
   "source": [
    "log_path = 'Results/'\n",
    "res_name = 'res_#ratings_ui_above_3'"
   ]
  },
  {
   "cell_type": "code",
   "execution_count": null,
   "metadata": {},
   "outputs": [],
   "source": [
    "model.store_results(log_path, res_name, user_thres, item_thres)"
   ]
  },
  {
   "cell_type": "markdown",
   "metadata": {},
   "source": [
    "## Delete last results"
   ]
  },
  {
   "cell_type": "code",
   "execution_count": null,
   "metadata": {},
   "outputs": [],
   "source": [
    "# pd.read_pickle(log_path + res_name)[1:].to_pickle(log_path + res_name)"
   ]
  },
  {
   "cell_type": "markdown",
   "metadata": {},
   "source": [
    "## Cross Validation all algs"
   ]
  },
  {
   "cell_type": "code",
   "execution_count": null,
   "metadata": {},
   "outputs": [],
   "source": [
    "from sklearn.model_selection import KFold\n",
    "def cv(data, params, n_splits, res_name, model_res_name):\n",
    "    kf = KFold(n_splits = n_splits, shuffle = True)\n",
    "    full_data = data\n",
    "    scores = []\n",
    "\n",
    "    for i in range(n_splits):\n",
    "        result = next(kf.split(full_data), None)\n",
    "        train_set = full_data.iloc[result[0]]\n",
    "        test_set = full_data.iloc[result[1]]\n",
    "        model = SVD(params, total_users, total_items)\n",
    "        model.fit(train_set, verbose = 1000, plot = False)\n",
    "        \n",
    "        model.test(test_set)\n",
    "        model.store_results('', model_res_name, user_thres, item_thres)  \n",
    "\n",
    "    df_cv_results = pd.read_pickle(model_res_name)[-5:]\n",
    "    params_dict = df_cv_results.iloc[0][['nolf', 'n_epochs', 'random_state', 'alpha', 'alpha_b', 'use_bias', 'use_impl_fb', 'use_color', 'use_weight_ver', 'ver_weight' 'bu_reg', 'bi_reg', 'pu_reg', 'qi_reg', 'x_reg', 'u_thres', 'i_thres', 'train_size', 'test_size', 'train_rmse']].to_dict()\n",
    "    avg_rmse_dict = {'avg_rmse_test':np.average(df_cv_results['RMSE_test'])}\n",
    "    final_dict = {**avg_rmse_dict, **params_dict}\n",
    "\n",
    "    if not os.path.exists(res_name):\n",
    "        cv_res = pd.DataFrame(columns=final_dict.keys())\n",
    "        print('new results created')\n",
    "\n",
    "    else:\n",
    "        cv_res = pd.read_pickle(res_name)\n",
    "        print('results added')\n",
    "\n",
    "    cv_res = cv_res.append(final_dict, ignore_index=True)\n",
    "    pd.to_pickle(cv_res, res_name)"
   ]
  },
  {
   "cell_type": "markdown",
   "metadata": {},
   "source": [
    "### Bias Only"
   ]
  },
  {
   "cell_type": "code",
   "execution_count": null,
   "metadata": {},
   "outputs": [],
   "source": [
    "params"
   ]
  },
  {
   "cell_type": "code",
   "execution_count": null,
   "metadata": {},
   "outputs": [],
   "source": [
    "log_path = 'Results/'\n",
    "res_name = log_path + 'cv_#ratings_ui_above_3_all_algs'\n",
    "cv_res_name = log_path + 'cv_#ratings_ui_above_3_bias_only'\n",
    "n_splits = 5\n",
    "\n",
    "cv(df_new_ids, params, n_splits, res_name, cv_res_name)"
   ]
  },
  {
   "cell_type": "markdown",
   "metadata": {},
   "source": [
    "### Weighted Verification and Bias"
   ]
  },
  {
   "cell_type": "code",
   "execution_count": null,
   "metadata": {},
   "outputs": [],
   "source": [
    "params"
   ]
  },
  {
   "cell_type": "code",
   "execution_count": null,
   "metadata": {},
   "outputs": [],
   "source": [
    "params['use_weight_ver'] = True\n",
    "params['ver_weight'] = 0.7\n",
    "log_path = 'Results/'\n",
    "res_name = log_path + 'cv_#ratings_ui_above_3_all_algs'\n",
    "cv_res_name = log_path + 'cv_#ratings_ui_above_3_ver_weight'\n",
    "n_splits = 5\n",
    "\n",
    "cv(df_new_ids, params, n_splits, res_name, cv_res_name)"
   ]
  },
  {
   "cell_type": "markdown",
   "metadata": {},
   "source": [
    "### Impl_fb with Bias"
   ]
  },
  {
   "cell_type": "code",
   "execution_count": null,
   "metadata": {},
   "outputs": [],
   "source": [
    "params"
   ]
  },
  {
   "cell_type": "code",
   "execution_count": null,
   "metadata": {},
   "outputs": [],
   "source": [
    "params['use_weight_ver'] = False\n",
    "params['use_impl_fb'] = True\n",
    "params['x_reg'] = 0.01\n",
    "log_path = 'Results/'\n",
    "res_name = log_path + 'cv_#ratings_ui_above_3_all_algs'\n",
    "cv_res_name = log_path + 'cv_#ratings_ui_above_3_impl_fb'\n",
    "n_splits = 5\n",
    "\n",
    "cv(df_new_ids, params, n_splits, res_name, cv_res_name)"
   ]
  },
  {
   "cell_type": "markdown",
   "metadata": {},
   "source": [
    "### Color attribute with Bias"
   ]
  },
  {
   "cell_type": "code",
   "execution_count": null,
   "metadata": {},
   "outputs": [],
   "source": [
    "params"
   ]
  },
  {
   "cell_type": "code",
   "execution_count": null,
   "metadata": {},
   "outputs": [],
   "source": [
    "params['use_impl_fb'] = False\n",
    "params['use_color'] = True\n",
    "log_path = 'Results/'\n",
    "res_name = log_path + 'cv_#ratings_ui_above_3_all_algs'\n",
    "cv_res_name = log_path + 'cv_#ratings_ui_above_3_color'\n",
    "n_splits = 5\n",
    "\n",
    "cv(df_new_ids, params, n_splits, res_name, cv_res_name)"
   ]
  },
  {
   "cell_type": "markdown",
   "metadata": {},
   "source": [
    "### Impl_fb with verification weights and Bias"
   ]
  },
  {
   "cell_type": "code",
   "execution_count": null,
   "metadata": {},
   "outputs": [],
   "source": [
    "params"
   ]
  },
  {
   "cell_type": "code",
   "execution_count": null,
   "metadata": {
    "scrolled": true
   },
   "outputs": [],
   "source": [
    "params['use_impl_fb'] = True\n",
    "params['use_color'] = False\n",
    "params['use_weight_ver'] = True\n",
    "log_path = 'Results/'\n",
    "res_name = log_path + 'cv_#ratings_ui_above_3_all_algs'\n",
    "cv_res_name = log_path + 'cv_#ratings_ui_above_3_ver_weight_impl_fb'\n",
    "n_splits = 5\n",
    "\n",
    "cv(df_new_ids, params, n_splits, res_name, cv_res_name)"
   ]
  },
  {
   "cell_type": "markdown",
   "metadata": {},
   "source": [
    "### Color, impl_fb, weight_ver and bias"
   ]
  },
  {
   "cell_type": "code",
   "execution_count": null,
   "metadata": {},
   "outputs": [],
   "source": [
    "params['use_impl_fb'] = True\n",
    "params['use_color'] = True\n",
    "params['use_weight_ver'] = True\n",
    "log_path = 'Results/'\n",
    "res_name = log_path + 'cv_#ratings_ui_above_3_all_algs'\n",
    "cv_res_name = log_path + 'cv_#ratings_ui_above_3_bias_impl_fb_weight_color'\n",
    "n_splits = 5\n",
    "\n",
    "cv(df_new_ids, params, n_splits, res_name, cv_res_name)"
   ]
  },
  {
   "cell_type": "markdown",
   "metadata": {},
   "source": [
    "### Results CV all algs"
   ]
  },
  {
   "cell_type": "code",
   "execution_count": null,
   "metadata": {},
   "outputs": [],
   "source": [
    "df_cv_results = pd.read_pickle(res_name).sort_values('avg_rmse_test')\n",
    "df_cv_results"
   ]
  },
  {
   "cell_type": "markdown",
   "metadata": {},
   "source": [
    "# Read and View Results"
   ]
  },
  {
   "cell_type": "markdown",
   "metadata": {},
   "source": [
    "## All models"
   ]
  },
  {
   "cell_type": "code",
   "execution_count": null,
   "metadata": {
    "scrolled": true
   },
   "outputs": [],
   "source": [
    "pd.read_pickle(log_path +'all_results_movie_lens')"
   ]
  },
  {
   "cell_type": "markdown",
   "metadata": {},
   "source": [
    "### Old but gold"
   ]
  },
  {
   "cell_type": "code",
   "execution_count": null,
   "metadata": {},
   "outputs": [],
   "source": [
    "pd.read_pickle('Results/df_comparison_impl_fb')"
   ]
  },
  {
   "cell_type": "code",
   "execution_count": null,
   "metadata": {},
   "outputs": [],
   "source": [
    "df_results = pd.read_pickle('Results/' + 'df_results_svd')\n",
    "df_results.sort_values('RMSE_test')"
   ]
  },
  {
   "cell_type": "markdown",
   "metadata": {},
   "source": [
    "Note the RMSE in the first results should be higher (+1.1) due to a mistake in the calculation"
   ]
  },
  {
   "cell_type": "code",
   "execution_count": null,
   "metadata": {},
   "outputs": [],
   "source": [
    "x = ['with Bias and Reg', 'with Bias', 'Plain']\n",
    "y = [1.313160, 1.314319, 2.860927]\n",
    "\n",
    "fig, ax = plt.subplots()\n",
    "ind = np.arange(len(y))\n",
    "width = 0.8\n",
    "ax.bar(ind, y, width, color=['darkblue'])\n",
    "ax.set_xticks(ind+width/500)\n",
    "ax.set_xticklabels(x, minor=False)\n",
    "ax.set_ylabel('RMSE')\n",
    "ax.set_title('Model Comparison')\n",
    "for i, v in enumerate(y):\n",
    "    ax.text(i -0.2, v + 0.02, str(v), fontweight='bold')\n",
    "plt.show()"
   ]
  },
  {
   "cell_type": "markdown",
   "metadata": {},
   "source": [
    "## Best model train RMSE"
   ]
  },
  {
   "cell_type": "markdown",
   "metadata": {},
   "source": [
    "### Best from Comparison"
   ]
  },
  {
   "cell_type": "code",
   "execution_count": null,
   "metadata": {},
   "outputs": [],
   "source": [
    "best = df_results_b.iloc[6]\n",
    "model.plot_rmse(best['train_rmse'])"
   ]
  },
  {
   "cell_type": "markdown",
   "metadata": {},
   "source": [
    "### Best of All Models"
   ]
  },
  {
   "cell_type": "code",
   "execution_count": null,
   "metadata": {},
   "outputs": [],
   "source": [
    "best = df_results_all\n",
    "model.plot_rmse(best['train_rmse'])"
   ]
  },
  {
   "cell_type": "code",
   "execution_count": null,
   "metadata": {},
   "outputs": [],
   "source": []
  },
  {
   "cell_type": "code",
   "execution_count": null,
   "metadata": {},
   "outputs": [],
   "source": []
  },
  {
   "cell_type": "markdown",
   "metadata": {},
   "source": [
    "# Appendix"
   ]
  },
  {
   "cell_type": "markdown",
   "metadata": {},
   "source": [
    "## Data Split (Pandas)"
   ]
  },
  {
   "cell_type": "code",
   "execution_count": null,
   "metadata": {},
   "outputs": [],
   "source": [
    "# from scipy.linalg import sqrtm\n",
    "\n",
    "# X_train, X_test = train_test_split(df, test_size=0.10, shuffle=True, random_state=1234)\n",
    "# X_validation, X_test = train_test_split(X_test, test_size=0.50, shuffle=True, random_state=1234)\n",
    "\n",
    "# def create_utility_matrix(data, formatizer = {'user':0, 'item': 1, 'value': 2}):\n",
    "#     \"\"\"\n",
    "#         :param data:      Array-like, 2D, nx3\n",
    "#         :param formatizer:pass the formatizer\n",
    "#         :return:          utility matrix (n x m), n=users, m=items\n",
    "#     \"\"\"\n",
    "        \n",
    "#     itemField = formatizer['item']\n",
    "#     userField = formatizer['user']\n",
    "#     valueField = formatizer['value']\n",
    "    \n",
    "#     userList = data.iloc[:,userField].tolist()\n",
    "#     itemList = data.iloc[:,itemField].tolist()\n",
    "#     valueList = data.iloc[:,valueField].tolist()\n",
    "    \n",
    "#     users = list(set(data.iloc[:,userField]))\n",
    "#     items = list(set(data.iloc[:,itemField]))\n",
    "    \n",
    "#     users_index = {users[i]: i for i in range(len(users))}\n",
    "#     pd_dict = {item: [np.nan for i in range(len(users))] for item in items}\n",
    "    \n",
    "#     for i in range(0,len(data)):\n",
    "#         item = itemList[i]\n",
    "#         user = userList[i]\n",
    "#         value = valueList[i]\n",
    "        \n",
    "#     pd_dict[item][users_index[user]] = value\n",
    "#     X = pd.DataFrame(pd_dict)\n",
    "#     X.index = users\n",
    "        \n",
    "#     itemcols = list(X.columns)\n",
    "#     items_index = {itemcols[i]: i for i in range(len(itemcols))}\n",
    "#     # users_index gives us a mapping of user_id to index of user\n",
    "#     # items_index provides the same for items\n",
    "#     return X, users_index, items_index\n",
    "\n",
    "# X, users_index, items_index = create_utility_matrix(X_train)\n",
    "\n",
    "hide_toggle()"
   ]
  },
  {
   "cell_type": "markdown",
   "metadata": {},
   "source": [
    "## Create user item matrix"
   ]
  },
  {
   "cell_type": "code",
   "execution_count": null,
   "metadata": {},
   "outputs": [],
   "source": [
    "# n_users = df.user.unique().shape[0]\n",
    "# n_items = df.item.unique().shape[0]\n",
    "\n",
    "# ratings_train = np.zeros((n_users, n_items))\n",
    "# for row in X_train.itertuples():\n",
    "#         ratings_train[row[5], row[4]] = row[3]\n",
    "\n",
    "# pd.DataFrame(ratings_train).head()\n",
    "# # sparse.csr_matrix((X_train['rating']),shape(n_users, n_items))\n",
    "hide_toggle()"
   ]
  },
  {
   "cell_type": "markdown",
   "metadata": {},
   "source": [
    "## Different SGD coding"
   ]
  },
  {
   "cell_type": "code",
   "execution_count": null,
   "metadata": {},
   "outputs": [],
   "source": [
    "# user_item_combos = 0\n",
    "# for epoch in range(n_epochs):\n",
    "#     for u in range(ratings_train.shape[0]): #users\n",
    "#         for i in range(ratings_train.shape[1]): #items\n",
    "#             r_ui = ratings_train[u,i]\n",
    "            \n",
    "#             if  r_ui != 0:\n",
    "#                 user_item_combos += 1\n",
    "#                 error = r_ui - np.dot(p[u], q[i])\n",
    "                \n",
    "#                 p[u] += alpha *(error * q[i])\n",
    "#                 q[i] += alpha * (error * p[u])\n",
    "                \n",
    "#                 total_error += np.square(error)\n",
    "# #         print(total_error)\n",
    "#     rmse = math.sqrt(total_error)\n",
    "#     print('epoch: ', epoch)#, '  rmse: ', rmse)\n",
    "#     print(user_item_combos, X_train['rating'].shape[0])\n",
    "hide_toggle()"
   ]
  },
  {
   "cell_type": "markdown",
   "metadata": {},
   "source": [
    "## With regularization"
   ]
  },
  {
   "cell_type": "code",
   "execution_count": null,
   "metadata": {},
   "outputs": [],
   "source": [
    "# b_user[u] += alpha_b * (error - bu_reg * b_user[u])\n",
    "# b_item[i] += alpha_b * (error - bi_reg * b_item[i])\n",
    "            \n",
    "# p[u] += alpha * (error * q[i] - pu_reg * p[u])\n",
    "# q[i] += alpha * (error * p[u] - qi_reg * q[i])\n",
    "hide_toggle()"
   ]
  },
  {
   "cell_type": "markdown",
   "metadata": {},
   "source": [
    "## Colors binary split"
   ]
  },
  {
   "cell_type": "code",
   "execution_count": null,
   "metadata": {},
   "outputs": [],
   "source": [
    "# plt.rcParams['figure.figsize'] = [8,6]\n",
    "# pop_col = (df.groupby('Color:')['rating'].count().sort_values(ascending=False)[0:35]/len(df)).sum()\n",
    "# non_pop_col = (df.groupby('Color:')['rating'].count().sort_values(ascending=False)[35:]/len(df)).sum()\n",
    "\n",
    "# bars = plt.bar(['pop_col', 'non_pop_col'], [pop_col, non_pop_col])\n",
    "# plt.text(bars[0].get_x() + 0.13, pop_col + -0.05, pop_col, color=\"white\", fontweight = 'bold')\n",
    "# plt.text(bars[1].get_x() + 0.13, non_pop_col + -0.05, non_pop_col, color=\"white\", fontweight = 'bold')\n",
    "# plt.title('Binary split between 35 most populair colors and non populair colors')\n",
    "# plt.show()"
   ]
  },
  {
   "cell_type": "code",
   "execution_count": null,
   "metadata": {},
   "outputs": [],
   "source": [
    "# pop_colors = df.groupby('Color:')['rating'].count().sort_values(ascending=False)[0:35] \n",
    "\n",
    "# def pop_color(x):\n",
    "#     x = x['Color:']\n",
    "#     if x in pop_colors:\n",
    "#         return 1\n",
    "#     elif x not in pop_colors:\n",
    "#         return 0\n",
    "#     else:\n",
    "#         return False\n",
    "\n",
    "# temp_df = pd.DataFrame()\n",
    "# temp_df['bin_pop_col'] = df.apply(pop_color, axis=1, result_type='expand')\n",
    "# df = df.merge(temp_df, left_index=True, right_index=True)"
   ]
  },
  {
   "cell_type": "code",
   "execution_count": null,
   "metadata": {},
   "outputs": [],
   "source": []
  }
 ],
 "metadata": {
  "kernelspec": {
   "display_name": "Python 3",
   "language": "python",
   "name": "python3"
  },
  "language_info": {
   "codemirror_mode": {
    "name": "ipython",
    "version": 3
   },
   "file_extension": ".py",
   "mimetype": "text/x-python",
   "name": "python",
   "nbconvert_exporter": "python",
   "pygments_lexer": "ipython3",
   "version": "3.7.6"
  },
  "toc": {
   "base_numbering": 1,
   "nav_menu": {},
   "number_sections": true,
   "sideBar": true,
   "skip_h1_title": false,
   "title_cell": "Table of Contents",
   "title_sidebar": "Contents",
   "toc_cell": false,
   "toc_position": {
    "height": "375.742px",
    "left": "1048.75px",
    "top": "110.57px",
    "width": "234.514px"
   },
   "toc_section_display": true,
   "toc_window_display": true
  }
 },
 "nbformat": 4,
 "nbformat_minor": 2
}
