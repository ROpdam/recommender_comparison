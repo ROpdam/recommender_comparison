{
 "cells": [
  {
   "cell_type": "code",
   "execution_count": 1,
   "metadata": {},
   "outputs": [],
   "source": [
    "import pandas as pd\n",
    "import numpy as np\n",
    "import tensorflow as tf\n",
    "import os\n",
    "\n",
    "%load_ext autoreload\n",
    "%autoreload 2"
   ]
  },
  {
   "cell_type": "code",
   "execution_count": 2,
   "metadata": {},
   "outputs": [
    {
     "name": "stdout",
     "output_type": "stream",
     "text": [
      "TF version: 2.2.0\n"
     ]
    }
   ],
   "source": [
    "print(f'TF version: {tf.__version__}')"
   ]
  },
  {
   "cell_type": "markdown",
   "metadata": {},
   "source": [
    "# Read Data"
   ]
  },
  {
   "cell_type": "code",
   "execution_count": 3,
   "metadata": {},
   "outputs": [],
   "source": [
    "# path = 'C:/Users/robin.opdam/Google Drive/Thesis (Msc)/Thesis_shared_files/'\n",
    "path = '/Users/Robin/Google Drive/Thesis (Msc)/Thesis_shared_files/'"
   ]
  },
  {
   "cell_type": "markdown",
   "metadata": {},
   "source": [
    "## Amazon Fashion"
   ]
  },
  {
   "cell_type": "code",
   "execution_count": 62,
   "metadata": {},
   "outputs": [],
   "source": [
    "data_path = 'data/Amazon/'\n",
    "# file_name = 'Amazon_full' # file_name = 'Amazon_05_users' \n",
    "file_name = 'Amazon_01_users'\n",
    "file_name = 'am_80k_users'"
   ]
  },
  {
   "cell_type": "markdown",
   "metadata": {},
   "source": [
    "## MovieLens"
   ]
  },
  {
   "cell_type": "code",
   "execution_count": 63,
   "metadata": {},
   "outputs": [],
   "source": [
    "# data_path = 'data/ML/'\n",
    "# file_name = 'ML_full' # file_name = 'ML_05_users'\n",
    "# file_name = 'ML_01_users'"
   ]
  },
  {
   "cell_type": "code",
   "execution_count": 64,
   "metadata": {},
   "outputs": [
    {
     "data": {
      "text/html": [
       "<div>\n",
       "<style scoped>\n",
       "    .dataframe tbody tr th:only-of-type {\n",
       "        vertical-align: middle;\n",
       "    }\n",
       "\n",
       "    .dataframe tbody tr th {\n",
       "        vertical-align: top;\n",
       "    }\n",
       "\n",
       "    .dataframe thead th {\n",
       "        text-align: right;\n",
       "    }\n",
       "</style>\n",
       "<table border=\"1\" class=\"dataframe\">\n",
       "  <thead>\n",
       "    <tr style=\"text-align: right;\">\n",
       "      <th></th>\n",
       "      <th>user</th>\n",
       "      <th>item</th>\n",
       "      <th>datetime</th>\n",
       "      <th>rating</th>\n",
       "      <th>user_id</th>\n",
       "      <th>item_id</th>\n",
       "    </tr>\n",
       "  </thead>\n",
       "  <tbody>\n",
       "    <tr>\n",
       "      <th>6904244</th>\n",
       "      <td>A2EQZT4NOBKME3</td>\n",
       "      <td>B00SFLJZ52</td>\n",
       "      <td>2015-06-11</td>\n",
       "      <td>3.0</td>\n",
       "      <td>29949</td>\n",
       "      <td>137482</td>\n",
       "    </tr>\n",
       "    <tr>\n",
       "      <th>4472551</th>\n",
       "      <td>A2EQZT4NOBKME3</td>\n",
       "      <td>B00D4TJRWG</td>\n",
       "      <td>2015-06-11</td>\n",
       "      <td>5.0</td>\n",
       "      <td>29949</td>\n",
       "      <td>73746</td>\n",
       "    </tr>\n",
       "    <tr>\n",
       "      <th>10630561</th>\n",
       "      <td>A2EQZT4NOBKME3</td>\n",
       "      <td>B00OBT081W</td>\n",
       "      <td>2016-01-15</td>\n",
       "      <td>5.0</td>\n",
       "      <td>29949</td>\n",
       "      <td>126216</td>\n",
       "    </tr>\n",
       "    <tr>\n",
       "      <th>5801430</th>\n",
       "      <td>A2EQZT4NOBKME3</td>\n",
       "      <td>B00KD9AGAC</td>\n",
       "      <td>2016-08-24</td>\n",
       "      <td>5.0</td>\n",
       "      <td>29949</td>\n",
       "      <td>108075</td>\n",
       "    </tr>\n",
       "    <tr>\n",
       "      <th>5505899</th>\n",
       "      <td>A1QKA075BTCNIH</td>\n",
       "      <td>B00ISY7VNO</td>\n",
       "      <td>2015-01-13</td>\n",
       "      <td>5.0</td>\n",
       "      <td>15581</td>\n",
       "      <td>100488</td>\n",
       "    </tr>\n",
       "  </tbody>\n",
       "</table>\n",
       "</div>"
      ],
      "text/plain": [
       "                    user        item   datetime  rating  user_id  item_id\n",
       "6904244   A2EQZT4NOBKME3  B00SFLJZ52 2015-06-11     3.0    29949   137482\n",
       "4472551   A2EQZT4NOBKME3  B00D4TJRWG 2015-06-11     5.0    29949    73746\n",
       "10630561  A2EQZT4NOBKME3  B00OBT081W 2016-01-15     5.0    29949   126216\n",
       "5801430   A2EQZT4NOBKME3  B00KD9AGAC 2016-08-24     5.0    29949   108075\n",
       "5505899   A1QKA075BTCNIH  B00ISY7VNO 2015-01-13     5.0    15581   100488"
      ]
     },
     "execution_count": 64,
     "metadata": {},
     "output_type": "execute_result"
    }
   ],
   "source": [
    "df = pd.read_pickle(path + data_path + file_name)\n",
    "df.user_id = df.user_id.astype('category').cat.codes\n",
    "df.item_id = df.item_id.astype('category').cat.codes\n",
    "df.head()"
   ]
  },
  {
   "cell_type": "markdown",
   "metadata": {},
   "source": [
    "---\n",
    "# Data Prep"
   ]
  },
  {
   "cell_type": "markdown",
   "metadata": {},
   "source": [
    "## Dataset Params"
   ]
  },
  {
   "cell_type": "code",
   "execution_count": 65,
   "metadata": {},
   "outputs": [],
   "source": [
    "val_perc = test_perc = 0.1\n",
    "n_last_items_val = n_last_items_test = 1\n",
    "\n",
    "total_items = len(df.item_id.unique())\n",
    "total_users = len(df.user_id.unique())"
   ]
  },
  {
   "cell_type": "markdown",
   "metadata": {},
   "source": [
    "## Create Split"
   ]
  },
  {
   "cell_type": "code",
   "execution_count": 66,
   "metadata": {},
   "outputs": [],
   "source": [
    "from Data_prep import train_val_test_split\n",
    "datasets = train_val_test_split(df, val_perc, test_perc, n_last_items_val, n_last_items_test)\n",
    "train_set, val_set, test_set = datasets"
   ]
  },
  {
   "cell_type": "markdown",
   "metadata": {},
   "source": [
    "---\n",
    "# Neural Collaborative Filtering (NCF)\n",
    "Using the NCF we build Generalized Matrix Factorisation (GMF), Multiplayer Perceptron Matrix Factorisation (MLP) and combine the two in Neural Matrix Factorisation (NeuMF)\n",
    "- paper: http://papers.www2017.com.au.s3-website-ap-southeast-2.amazonaws.com/proceedings/p173.pdf\n",
    "- blog: https://medium.com/@victorkohler/collaborative-filtering-using-deep-neural-networks-in-tensorflow-96e5d41a39a1\n",
    "- code: https://github.com/Leavingseason/NeuralCF/blob/master"
   ]
  },
  {
   "cell_type": "markdown",
   "metadata": {},
   "source": [
    "## Set Parameters"
   ]
  },
  {
   "cell_type": "code",
   "execution_count": 67,
   "metadata": {},
   "outputs": [],
   "source": [
    "GMF_params = {\n",
    "    'learning_rate': 0.0001,\n",
    "    'batch_size': 64,\n",
    "    'nolf': 16,\n",
    "    'regs': [0,0],\n",
    "    'epochs': 20,\n",
    "    'sample_size': int(0.5*len(train_set.user_id.unique())),\n",
    "    'num_neg': 5,\n",
    "    'ckpt_dir': '../NeuMF_storage/GMF_ckpts/ckpts',\n",
    "    'optimizer':'rmsprop'\n",
    "}"
   ]
  },
  {
   "cell_type": "code",
   "execution_count": 68,
   "metadata": {},
   "outputs": [],
   "source": [
    "MLP_params = {\n",
    "    'learning_rate': 0.01,\n",
    "    'batch_size': 256,\n",
    "    'layers': [32,16,8],\n",
    "    'reg_layers': [0,0,0],\n",
    "    'epochs': 20,\n",
    "    'sample_size': int(0.5*len(train_set.user_id.unique())),\n",
    "    'num_neg': 4,\n",
    "    'ckpt_dir': '../NeuMF_storage/MLP_ckpts/ckpts',\n",
    "    'optimizer':'Adam'\n",
    "}"
   ]
  },
  {
   "cell_type": "code",
   "execution_count": 19,
   "metadata": {},
   "outputs": [],
   "source": [
    "NeuMF_params = {\n",
    "    'learning_rate': 0.001,\n",
    "    'batch_size': 256,\n",
    "    'layers': [32,16,8],\n",
    "    'reg_layers': [0,0,0],\n",
    "    'reg_mf': [0,0],\n",
    "    'nolf': 16,\n",
    "    'epochs': 1,#20,\n",
    "    'sample_size': 10000, #int(0.5*len(train_set.user_id.unique())),\n",
    "    'num_neg': 4,\n",
    "    'ckpt_dir': '../NeuMF_storage/MLP_ckpts/ckpts',\n",
    "    'optimizer':'Adam'\n",
    "}"
   ]
  },
  {
   "cell_type": "markdown",
   "metadata": {},
   "source": [
    "## Init"
   ]
  },
  {
   "cell_type": "code",
   "execution_count": null,
   "metadata": {},
   "outputs": [],
   "source": [
    "from NCF import NCF\n",
    "NCF = NCF(total_users, total_items, GMF_params, MLP_params, NeuMF_params)\n",
    "\n",
    "NCF.build_GMF_model()\n",
    "NCF.build_MLP_model()\n",
    "NCF.build_NeuMF_model()"
   ]
  },
  {
   "cell_type": "markdown",
   "metadata": {},
   "source": [
    "## Create Samples"
   ]
  },
  {
   "cell_type": "code",
   "execution_count": 21,
   "metadata": {},
   "outputs": [
    {
     "name": "stderr",
     "output_type": "stream",
     "text": [
      "  0% |                                                                        |\r"
     ]
    },
    {
     "name": "stdout",
     "output_type": "stream",
     "text": [
      "Creating Samples for GMF\n"
     ]
    },
    {
     "name": "stderr",
     "output_type": "stream",
     "text": [
      "100% |########################################################################|\n",
      "  0% |                                                                        |\r"
     ]
    },
    {
     "name": "stdout",
     "output_type": "stream",
     "text": [
      "Creating Samples for MLP\n"
     ]
    },
    {
     "name": "stderr",
     "output_type": "stream",
     "text": [
      "100% |########################################################################|\n"
     ]
    }
   ],
   "source": [
    "GMF_samples = NCF.create_samples(name='GMF', data=train_set)\n",
    "MLP_samples = NCF.create_samples(name='MLP', data=train_set)\n",
    "# NeuMF_samples = NCF.create_samples(name='GMF', data=train_set)\n",
    "NeuMF_samples = MLP_samples"
   ]
  },
  {
   "cell_type": "markdown",
   "metadata": {},
   "source": [
    "## Training"
   ]
  },
  {
   "cell_type": "code",
   "execution_count": null,
   "metadata": {},
   "outputs": [],
   "source": [
    "NCF.train_model('GMF', GMF_samples, store_path='../NeuMF_storage/GMF_weights_try/GMF_weights') "
   ]
  },
  {
   "cell_type": "code",
   "execution_count": null,
   "metadata": {},
   "outputs": [],
   "source": [
    "NCF.train_model('MLP', MLP_samples, store_path='../NeuMF_storage/MLP_weights_try/MLP_weights') "
   ]
  },
  {
   "cell_type": "code",
   "execution_count": null,
   "metadata": {},
   "outputs": [],
   "source": [
    "# NCF.train_model('NeuMF', NeuMF_samples) "
   ]
  },
  {
   "cell_type": "markdown",
   "metadata": {},
   "source": [
    "#### Load weights for NeuMF"
   ]
  },
  {
   "cell_type": "code",
   "execution_count": 38,
   "metadata": {},
   "outputs": [],
   "source": [
    "NCF.use_pretrain_model(GMF_weights_path='../NeuMF_storage/GMF_weights_try/GMF_weights',\n",
    "                       MLP_weights_path='../NeuMF_storage/MLP_weights_try/MLP_weights')"
   ]
  },
  {
   "cell_type": "markdown",
   "metadata": {},
   "source": [
    "---\n",
    "## Evaluation"
   ]
  },
  {
   "cell_type": "code",
   "execution_count": null,
   "metadata": {},
   "outputs": [],
   "source": [
    "rank_at = 20\n",
    "sample_len = 100"
   ]
  },
  {
   "cell_type": "markdown",
   "metadata": {},
   "source": [
    "## Full set scores"
   ]
  },
  {
   "cell_type": "code",
   "execution_count": 46,
   "metadata": {},
   "outputs": [
    {
     "name": "stderr",
     "output_type": "stream",
     "text": [
      "100% |########################################################################|\n"
     ]
    }
   ],
   "source": [
    "ranked_df_full = NCF.get_predictions('NeuMF', train_set, test_set)"
   ]
  },
  {
   "cell_type": "code",
   "execution_count": 47,
   "metadata": {},
   "outputs": [
    {
     "name": "stdout",
     "output_type": "stream",
     "text": [
      "Obtaining metrics time: 0.13\n"
     ]
    },
    {
     "data": {
      "text/html": [
       "<div>\n",
       "<style scoped>\n",
       "    .dataframe tbody tr th:only-of-type {\n",
       "        vertical-align: middle;\n",
       "    }\n",
       "\n",
       "    .dataframe tbody tr th {\n",
       "        vertical-align: top;\n",
       "    }\n",
       "\n",
       "    .dataframe thead th {\n",
       "        text-align: right;\n",
       "    }\n",
       "</style>\n",
       "<table border=\"1\" class=\"dataframe\">\n",
       "  <thead>\n",
       "    <tr style=\"text-align: right;\">\n",
       "      <th></th>\n",
       "      <th>rank_at</th>\n",
       "      <th>hitcounts</th>\n",
       "      <th>recall</th>\n",
       "      <th>precision</th>\n",
       "    </tr>\n",
       "  </thead>\n",
       "  <tbody>\n",
       "    <tr>\n",
       "      <th>0</th>\n",
       "      <td>1</td>\n",
       "      <td>0</td>\n",
       "      <td>0.0</td>\n",
       "      <td>0.0</td>\n",
       "    </tr>\n",
       "    <tr>\n",
       "      <th>1</th>\n",
       "      <td>5</td>\n",
       "      <td>0</td>\n",
       "      <td>0.0</td>\n",
       "      <td>0.0</td>\n",
       "    </tr>\n",
       "    <tr>\n",
       "      <th>2</th>\n",
       "      <td>10</td>\n",
       "      <td>0</td>\n",
       "      <td>0.0</td>\n",
       "      <td>0.0</td>\n",
       "    </tr>\n",
       "    <tr>\n",
       "      <th>3</th>\n",
       "      <td>15</td>\n",
       "      <td>0</td>\n",
       "      <td>0.0</td>\n",
       "      <td>0.0</td>\n",
       "    </tr>\n",
       "    <tr>\n",
       "      <th>4</th>\n",
       "      <td>20</td>\n",
       "      <td>0</td>\n",
       "      <td>0.0</td>\n",
       "      <td>0.0</td>\n",
       "    </tr>\n",
       "  </tbody>\n",
       "</table>\n",
       "</div>"
      ],
      "text/plain": [
       "   rank_at  hitcounts  recall  precision\n",
       "0        1          0     0.0        0.0\n",
       "1        5          0     0.0        0.0\n",
       "2       10          0     0.0        0.0\n",
       "3       15          0     0.0        0.0\n",
       "4       20          0     0.0        0.0"
      ]
     },
     "execution_count": 47,
     "metadata": {},
     "output_type": "execute_result"
    }
   ],
   "source": [
    "get_metrics(ranked_df_full, 5, 20)"
   ]
  },
  {
   "cell_type": "markdown",
   "metadata": {},
   "source": [
    "## Sample scores"
   ]
  },
  {
   "cell_type": "code",
   "execution_count": 41,
   "metadata": {},
   "outputs": [
    {
     "name": "stderr",
     "output_type": "stream",
     "text": [
      "100% |########################################################################|\n"
     ]
    }
   ],
   "source": [
    "ranked_df = NCF.sample_prediction('NeuMF', train_set, test_set)"
   ]
  },
  {
   "cell_type": "code",
   "execution_count": 42,
   "metadata": {},
   "outputs": [
    {
     "name": "stdout",
     "output_type": "stream",
     "text": [
      "Obtaining metrics time: 0.14\n"
     ]
    },
    {
     "data": {
      "text/html": [
       "<div>\n",
       "<style scoped>\n",
       "    .dataframe tbody tr th:only-of-type {\n",
       "        vertical-align: middle;\n",
       "    }\n",
       "\n",
       "    .dataframe tbody tr th {\n",
       "        vertical-align: top;\n",
       "    }\n",
       "\n",
       "    .dataframe thead th {\n",
       "        text-align: right;\n",
       "    }\n",
       "</style>\n",
       "<table border=\"1\" class=\"dataframe\">\n",
       "  <thead>\n",
       "    <tr style=\"text-align: right;\">\n",
       "      <th></th>\n",
       "      <th>rank_at</th>\n",
       "      <th>hitcounts</th>\n",
       "      <th>recall</th>\n",
       "      <th>precision</th>\n",
       "    </tr>\n",
       "  </thead>\n",
       "  <tbody>\n",
       "    <tr>\n",
       "      <th>0</th>\n",
       "      <td>1</td>\n",
       "      <td>1</td>\n",
       "      <td>0.008475</td>\n",
       "      <td>0.008475</td>\n",
       "    </tr>\n",
       "    <tr>\n",
       "      <th>1</th>\n",
       "      <td>5</td>\n",
       "      <td>3</td>\n",
       "      <td>0.025424</td>\n",
       "      <td>0.005085</td>\n",
       "    </tr>\n",
       "    <tr>\n",
       "      <th>2</th>\n",
       "      <td>10</td>\n",
       "      <td>9</td>\n",
       "      <td>0.076271</td>\n",
       "      <td>0.007627</td>\n",
       "    </tr>\n",
       "    <tr>\n",
       "      <th>3</th>\n",
       "      <td>15</td>\n",
       "      <td>15</td>\n",
       "      <td>0.127119</td>\n",
       "      <td>0.008475</td>\n",
       "    </tr>\n",
       "    <tr>\n",
       "      <th>4</th>\n",
       "      <td>20</td>\n",
       "      <td>19</td>\n",
       "      <td>0.161017</td>\n",
       "      <td>0.008051</td>\n",
       "    </tr>\n",
       "  </tbody>\n",
       "</table>\n",
       "</div>"
      ],
      "text/plain": [
       "   rank_at  hitcounts    recall  precision\n",
       "0        1          1  0.008475   0.008475\n",
       "1        5          3  0.025424   0.005085\n",
       "2       10          9  0.076271   0.007627\n",
       "3       15         15  0.127119   0.008475\n",
       "4       20         19  0.161017   0.008051"
      ]
     },
     "execution_count": 42,
     "metadata": {},
     "output_type": "execute_result"
    }
   ],
   "source": [
    "from Evaluation import get_metrics\n",
    "get_metrics(ranked_df, 5, 20)"
   ]
  }
 ],
 "metadata": {
  "kernelspec": {
   "display_name": "Python 3",
   "language": "python",
   "name": "python3"
  },
  "language_info": {
   "codemirror_mode": {
    "name": "ipython",
    "version": 3
   },
   "file_extension": ".py",
   "mimetype": "text/x-python",
   "name": "python",
   "nbconvert_exporter": "python",
   "pygments_lexer": "ipython3",
   "version": "3.7.7"
  },
  "toc": {
   "base_numbering": 1,
   "nav_menu": {},
   "number_sections": true,
   "sideBar": true,
   "skip_h1_title": false,
   "title_cell": "Table of Contents",
   "title_sidebar": "Contents",
   "toc_cell": false,
   "toc_position": {},
   "toc_section_display": true,
   "toc_window_display": true
  }
 },
 "nbformat": 4,
 "nbformat_minor": 4
}
