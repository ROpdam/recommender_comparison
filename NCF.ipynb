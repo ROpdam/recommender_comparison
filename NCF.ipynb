{
 "cells": [
  {
   "cell_type": "code",
   "execution_count": 1,
   "metadata": {},
   "outputs": [],
   "source": [
    "import pandas as pd\n",
    "import numpy as np\n",
    "import tensorflow as tf\n",
    "from Evaluation import get_metrics\n",
    "%load_ext autoreload\n",
    "%autoreload 2"
   ]
  },
  {
   "cell_type": "markdown",
   "metadata": {},
   "source": [
    "---\n",
    "## Read Data"
   ]
  },
  {
   "cell_type": "code",
   "execution_count": 2,
   "metadata": {},
   "outputs": [],
   "source": [
    "from Data_prep import leave_last_out"
   ]
  },
  {
   "cell_type": "code",
   "execution_count": 3,
   "metadata": {},
   "outputs": [],
   "source": [
    "path = 'C:/Users/robin.opdam/Google Drive/Thesis (Msc)/Thesis_shared_files/'\n",
    "# path = '/Users/Robin/Google Drive/Thesis (Msc)/Thesis_shared_files/'\n",
    "# path = '../'"
   ]
  },
  {
   "cell_type": "code",
   "execution_count": 4,
   "metadata": {},
   "outputs": [],
   "source": [
    "# data_path = 'Data/Amazon/'\n",
    "# file_name = 'am_20k_users'\n",
    "# file_name = 'am_like_ml'\n",
    "\n",
    "data_path = 'Data/ML/'\n",
    "file_name = 'ml_1m'"
   ]
  },
  {
   "cell_type": "code",
   "execution_count": 5,
   "metadata": {},
   "outputs": [],
   "source": [
    "df = pd.read_pickle(path + data_path + file_name)\n",
    "total_items = df.item_id.nunique()\n",
    "total_users = df.user_id.nunique()"
   ]
  },
  {
   "cell_type": "code",
   "execution_count": 6,
   "metadata": {},
   "outputs": [],
   "source": [
    "# MF based Data\n",
    "train_set_mf = pd.read_pickle(path + data_path + file_name + '_train_mf')\n",
    "val_set_mf = pd.read_pickle(path + data_path + file_name + '_val_mf')\n",
    "test_set_mf = pd.read_pickle(path + data_path + file_name + '_test_mf')"
   ]
  },
  {
   "cell_type": "code",
   "execution_count": 7,
   "metadata": {},
   "outputs": [],
   "source": [
    "# Eval\n",
    "steps = 5\n",
    "rank_at = 20\n",
    "n_runs = 30"
   ]
  },
  {
   "cell_type": "markdown",
   "metadata": {},
   "source": [
    "## Top 5 GS results"
   ]
  },
  {
   "cell_type": "code",
   "execution_count": 8,
   "metadata": {},
   "outputs": [
    {
     "data": {
      "text/html": [
       "<div>\n",
       "<style scoped>\n",
       "    .dataframe tbody tr th:only-of-type {\n",
       "        vertical-align: middle;\n",
       "    }\n",
       "\n",
       "    .dataframe tbody tr th {\n",
       "        vertical-align: top;\n",
       "    }\n",
       "\n",
       "    .dataframe thead th {\n",
       "        text-align: right;\n",
       "    }\n",
       "</style>\n",
       "<table border=\"1\" class=\"dataframe\">\n",
       "  <thead>\n",
       "    <tr style=\"text-align: right;\">\n",
       "      <th></th>\n",
       "      <th>val_rec@10</th>\n",
       "      <th>learning_rate</th>\n",
       "      <th>train_loss</th>\n",
       "      <th>val_auc</th>\n",
       "      <th>p</th>\n",
       "      <th>q</th>\n",
       "      <th>train_time</th>\n",
       "      <th>total_test_rec</th>\n",
       "      <th>test_rec@10</th>\n",
       "      <th>nolf</th>\n",
       "      <th>n_iterations</th>\n",
       "      <th>sample_size</th>\n",
       "      <th>seed</th>\n",
       "      <th>alpha</th>\n",
       "      <th>rho</th>\n",
       "      <th>sigma</th>\n",
       "      <th>reg_user</th>\n",
       "      <th>reg_item</th>\n",
       "      <th>file</th>\n",
       "    </tr>\n",
       "  </thead>\n",
       "  <tbody>\n",
       "    <tr>\n",
       "      <th>5</th>\n",
       "      <td>[0.014, 0.04, 0.04, 0.05, 0.048, 0.048, 0.042,...</td>\n",
       "      <td>[0.03, 0.033, 0.036300000000000006, 0.03993000...</td>\n",
       "      <td>[0.6928840096669814, 0.6885358726376268, 0.611...</td>\n",
       "      <td>[]</td>\n",
       "      <td>0</td>\n",
       "      <td>0</td>\n",
       "      <td>305.445064</td>\n",
       "      <td>0.328</td>\n",
       "      <td>0.078</td>\n",
       "      <td>8</td>\n",
       "      <td>25</td>\n",
       "      <td>299612.7</td>\n",
       "      <td>1234</td>\n",
       "      <td>0.03</td>\n",
       "      <td>1.1</td>\n",
       "      <td>0.5</td>\n",
       "      <td>0</td>\n",
       "      <td>0</td>\n",
       "      <td>ml_1m</td>\n",
       "    </tr>\n",
       "    <tr>\n",
       "      <th>41</th>\n",
       "      <td>[0.046, 0.046, 0.054, 0.048, 0.048, 0.058, 0.0...</td>\n",
       "      <td>[0.08, 0.08800000000000001, 0.0968000000000000...</td>\n",
       "      <td>[0.6681123964756175, 0.3958474435381411, 0.310...</td>\n",
       "      <td>[]</td>\n",
       "      <td>0</td>\n",
       "      <td>0</td>\n",
       "      <td>297.027570</td>\n",
       "      <td>0.352</td>\n",
       "      <td>0.077</td>\n",
       "      <td>8</td>\n",
       "      <td>25</td>\n",
       "      <td>299612.7</td>\n",
       "      <td>1234</td>\n",
       "      <td>0.08</td>\n",
       "      <td>1.1</td>\n",
       "      <td>0.5</td>\n",
       "      <td>0.001</td>\n",
       "      <td>0.001</td>\n",
       "      <td>ml_1m</td>\n",
       "    </tr>\n",
       "    <tr>\n",
       "      <th>45</th>\n",
       "      <td>[0.046, 0.046, 0.06, 0.056, 0.052, 0.054, 0.06...</td>\n",
       "      <td>[0.1, 0.11000000000000001, 0.12100000000000002...</td>\n",
       "      <td>[0.6242018303224871, 0.3482956618510598, 0.293...</td>\n",
       "      <td>[]</td>\n",
       "      <td>0</td>\n",
       "      <td>0</td>\n",
       "      <td>271.964864</td>\n",
       "      <td>0.345</td>\n",
       "      <td>0.076</td>\n",
       "      <td>8</td>\n",
       "      <td>25</td>\n",
       "      <td>299612.7</td>\n",
       "      <td>1234</td>\n",
       "      <td>0.10</td>\n",
       "      <td>1.1</td>\n",
       "      <td>0.5</td>\n",
       "      <td>0.001</td>\n",
       "      <td>0.001</td>\n",
       "      <td>ml_1m</td>\n",
       "    </tr>\n",
       "    <tr>\n",
       "      <th>37</th>\n",
       "      <td>[0.028, 0.046, 0.052, 0.046, 0.048, 0.046, 0.0...</td>\n",
       "      <td>[0.05, 0.05500000000000001, 0.0605000000000000...</td>\n",
       "      <td>[0.6919734206500515, 0.5955196889772099, 0.377...</td>\n",
       "      <td>[]</td>\n",
       "      <td>0</td>\n",
       "      <td>0</td>\n",
       "      <td>298.123402</td>\n",
       "      <td>0.342</td>\n",
       "      <td>0.075</td>\n",
       "      <td>8</td>\n",
       "      <td>25</td>\n",
       "      <td>299612.7</td>\n",
       "      <td>1234</td>\n",
       "      <td>0.05</td>\n",
       "      <td>1.1</td>\n",
       "      <td>0.5</td>\n",
       "      <td>0.001</td>\n",
       "      <td>0.001</td>\n",
       "      <td>ml_1m</td>\n",
       "    </tr>\n",
       "    <tr>\n",
       "      <th>1</th>\n",
       "      <td>[0.01, 0.01, 0.012, 0.016, 0.03, 0.036, 0.046,...</td>\n",
       "      <td>[0.01, 0.011000000000000001, 0.012100000000000...</td>\n",
       "      <td>[0.6932482913189884, 0.6927994985776338, 0.692...</td>\n",
       "      <td>[]</td>\n",
       "      <td>0</td>\n",
       "      <td>0</td>\n",
       "      <td>312.357428</td>\n",
       "      <td>0.325</td>\n",
       "      <td>0.073</td>\n",
       "      <td>8</td>\n",
       "      <td>25</td>\n",
       "      <td>299612.7</td>\n",
       "      <td>1234</td>\n",
       "      <td>0.01</td>\n",
       "      <td>1.1</td>\n",
       "      <td>0.5</td>\n",
       "      <td>0</td>\n",
       "      <td>0</td>\n",
       "      <td>ml_1m</td>\n",
       "    </tr>\n",
       "  </tbody>\n",
       "</table>\n",
       "</div>"
      ],
      "text/plain": [
       "                                           val_rec@10  \\\n",
       "5   [0.014, 0.04, 0.04, 0.05, 0.048, 0.048, 0.042,...   \n",
       "41  [0.046, 0.046, 0.054, 0.048, 0.048, 0.058, 0.0...   \n",
       "45  [0.046, 0.046, 0.06, 0.056, 0.052, 0.054, 0.06...   \n",
       "37  [0.028, 0.046, 0.052, 0.046, 0.048, 0.046, 0.0...   \n",
       "1   [0.01, 0.01, 0.012, 0.016, 0.03, 0.036, 0.046,...   \n",
       "\n",
       "                                        learning_rate  \\\n",
       "5   [0.03, 0.033, 0.036300000000000006, 0.03993000...   \n",
       "41  [0.08, 0.08800000000000001, 0.0968000000000000...   \n",
       "45  [0.1, 0.11000000000000001, 0.12100000000000002...   \n",
       "37  [0.05, 0.05500000000000001, 0.0605000000000000...   \n",
       "1   [0.01, 0.011000000000000001, 0.012100000000000...   \n",
       "\n",
       "                                           train_loss val_auc  p  q  \\\n",
       "5   [0.6928840096669814, 0.6885358726376268, 0.611...      []  0  0   \n",
       "41  [0.6681123964756175, 0.3958474435381411, 0.310...      []  0  0   \n",
       "45  [0.6242018303224871, 0.3482956618510598, 0.293...      []  0  0   \n",
       "37  [0.6919734206500515, 0.5955196889772099, 0.377...      []  0  0   \n",
       "1   [0.6932482913189884, 0.6927994985776338, 0.692...      []  0  0   \n",
       "\n",
       "    train_time  total_test_rec  test_rec@10 nolf n_iterations  sample_size  \\\n",
       "5   305.445064           0.328        0.078    8           25     299612.7   \n",
       "41  297.027570           0.352        0.077    8           25     299612.7   \n",
       "45  271.964864           0.345        0.076    8           25     299612.7   \n",
       "37  298.123402           0.342        0.075    8           25     299612.7   \n",
       "1   312.357428           0.325        0.073    8           25     299612.7   \n",
       "\n",
       "    seed  alpha  rho  sigma reg_user reg_item   file  \n",
       "5   1234   0.03  1.1    0.5        0        0  ml_1m  \n",
       "41  1234   0.08  1.1    0.5    0.001    0.001  ml_1m  \n",
       "45  1234   0.10  1.1    0.5    0.001    0.001  ml_1m  \n",
       "37  1234   0.05  1.1    0.5    0.001    0.001  ml_1m  \n",
       "1   1234   0.01  1.1    0.5        0        0  ml_1m  "
      ]
     },
     "execution_count": 8,
     "metadata": {},
     "output_type": "execute_result"
    }
   ],
   "source": [
    "pd.read_pickle(path + 'Logs/GS/' + file_name + '_ncf_gs_log').sort_values('test_rec@10', ascending=False).iloc[:5]"
   ]
  },
  {
   "cell_type": "markdown",
   "metadata": {},
   "source": [
    "---\n",
    "# NCF\n",
    "- ML: specify which GS result to use"
   ]
  },
  {
   "cell_type": "code",
   "execution_count": 23,
   "metadata": {},
   "outputs": [],
   "source": [
    "GMF_params = {\n",
    "    'learning_rate': 0.0005,\n",
    "    'batch_size': 256,\n",
    "    'nolf': 8,\n",
    "    'regs': [0.000001,0.000001],\n",
    "    'epochs': 10,\n",
    "    'sample_size': len(train_set_mf),#int(0.5*len(train_set.user_id.unique())),\n",
    "    'num_neg': 4,\n",
    "    'weights_dir': f'../Logs/weights/GMF_weights_{file_name}/GMF_weights',\n",
    "    'optimizer':'Adam'\n",
    "}\n",
    "\n",
    "MLP_params = {\n",
    "    'learning_rate': 0.0005,\n",
    "    'batch_size': 256,\n",
    "    'layers': [16,32,16,8],\n",
    "    'reg_layers': [0.00001,0.00001,0.00001,0.00001],   #ML: [+-0.0005,0,0,0],\n",
    "    'epochs': 10,\n",
    "    'sample_size': len(train_set_mf),#int(0.5*len(train_set.user_id.unique())),\n",
    "    'num_neg': 4,\n",
    "    'weights_dir': f'../Logs/weights/MLP_weights_{file_name}/MLP_weights',\n",
    "    'optimizer':'Adam'\n",
    "}\n",
    "\n",
    "NeuMF_params = {\n",
    "    'learning_rate': 0.0005,\n",
    "    'batch_size': 256,\n",
    "    'layers': [16,32,16,8],\n",
    "    'reg_layers': [0.00001,0.00001,0.00001,0.00001],#[0.0001, 0.0001, 0.0001, 0.0001],\n",
    "    'reg_mf': [0.000001,0.000001],\n",
    "    'nolf': 8,\n",
    "    'epochs': 25,\n",
    "    'sample_size': len(train_set_mf),#int(0.5*len(train_set.user_id.unique())),\n",
    "    'num_neg': 4,\n",
    "    'weights_dir': f'../Logs/weights/NeuMF_weights_{file_name}/NeuMF_weights',\n",
    "    'optimizer':'Adam'\n",
    "}"
   ]
  },
  {
   "cell_type": "code",
   "execution_count": 24,
   "metadata": {},
   "outputs": [],
   "source": [
    "from NCF import NCF\n",
    "ncf = NCF(total_users, total_items, GMF_params, MLP_params, NeuMF_params)\n",
    "ncf.build_GMF_model()\n",
    "ncf.build_MLP_model()\n",
    "ncf.build_NeuMF_model()"
   ]
  },
  {
   "cell_type": "code",
   "execution_count": 21,
   "metadata": {},
   "outputs": [
    {
     "name": "stderr",
     "output_type": "stream",
     "text": [
      "100% |########################################################################|\n"
     ]
    }
   ],
   "source": [
    "sample_path = path + data_path + 'Samples/' + file_name + '_samples_' + NeuMF_params['num_neg'] + '_neg/'\n",
    "samples = ncf.load_samples(sample_path, file_name + '_sample', NeuMF_params['epochs'])"
   ]
  },
  {
   "cell_type": "markdown",
   "metadata": {},
   "source": [
    "### Pre-Train GMF and MLP to conversion"
   ]
  },
  {
   "cell_type": "code",
   "execution_count": null,
   "metadata": {},
   "outputs": [],
   "source": [
    "GMF_val_metrics = ncf.train_model('GMF', samples, train_set=train_set, val_set=val_set, verbose=1)"
   ]
  },
  {
   "cell_type": "code",
   "execution_count": null,
   "metadata": {},
   "outputs": [],
   "source": [
    "MLP_val_metrics = ncf.train_model('MLP', samples, train_set=train_set, val_set=val_set, verbose=1)"
   ]
  },
  {
   "cell_type": "markdown",
   "metadata": {},
   "source": [
    "### Run NeuMF with GMF and MLP init"
   ]
  },
  {
   "cell_type": "code",
   "execution_count": 26,
   "metadata": {},
   "outputs": [],
   "source": [
    "NCF.use_pretrain_model()\n",
    "NCF.NeuMF_params['optimizer'] = 'SGD'"
   ]
  },
  {
   "cell_type": "code",
   "execution_count": null,
   "metadata": {},
   "outputs": [],
   "source": [
    "for i in range(num_runs):\n",
    "    NeuMF_val_metrics = NCF.train_model('NeuMF', samples, train_set=train_set_mf, val_set=val_set_mf, verbose=1)\n",
    "    ranked_df_neumf = NCF.get_predictions('NeuMF', train_set=train_set_mf, test_set=test_set_mf)\n",
    "    neumf_metrics = get_metrics(ranked_df_neumf, stats=False)"
   ]
  },
  {
   "cell_type": "code",
   "execution_count": 28,
   "metadata": {},
   "outputs": [
    {
     "name": "stderr",
     "output_type": "stream",
     "text": [
      "100% |########################################################################|\n"
     ]
    },
    {
     "data": {
      "text/html": [
       "<div>\n",
       "<style scoped>\n",
       "    .dataframe tbody tr th:only-of-type {\n",
       "        vertical-align: middle;\n",
       "    }\n",
       "\n",
       "    .dataframe tbody tr th {\n",
       "        vertical-align: top;\n",
       "    }\n",
       "\n",
       "    .dataframe thead th {\n",
       "        text-align: right;\n",
       "    }\n",
       "</style>\n",
       "<table border=\"1\" class=\"dataframe\">\n",
       "  <thead>\n",
       "    <tr style=\"text-align: right;\">\n",
       "      <th></th>\n",
       "      <th>rank_at</th>\n",
       "      <th>hitcounts</th>\n",
       "      <th>recall</th>\n",
       "      <th>precision</th>\n",
       "      <th>ndcg</th>\n",
       "    </tr>\n",
       "  </thead>\n",
       "  <tbody>\n",
       "    <tr>\n",
       "      <th>0</th>\n",
       "      <td>1</td>\n",
       "      <td>9</td>\n",
       "      <td>0.009</td>\n",
       "      <td>0.009000</td>\n",
       "      <td>0.009000</td>\n",
       "    </tr>\n",
       "    <tr>\n",
       "      <th>1</th>\n",
       "      <td>5</td>\n",
       "      <td>19</td>\n",
       "      <td>0.019</td>\n",
       "      <td>0.003800</td>\n",
       "      <td>0.013959</td>\n",
       "    </tr>\n",
       "    <tr>\n",
       "      <th>2</th>\n",
       "      <td>10</td>\n",
       "      <td>24</td>\n",
       "      <td>0.024</td>\n",
       "      <td>0.002400</td>\n",
       "      <td>0.015539</td>\n",
       "    </tr>\n",
       "    <tr>\n",
       "      <th>3</th>\n",
       "      <td>15</td>\n",
       "      <td>32</td>\n",
       "      <td>0.032</td>\n",
       "      <td>0.002133</td>\n",
       "      <td>0.017668</td>\n",
       "    </tr>\n",
       "    <tr>\n",
       "      <th>4</th>\n",
       "      <td>20</td>\n",
       "      <td>38</td>\n",
       "      <td>0.038</td>\n",
       "      <td>0.001900</td>\n",
       "      <td>0.019069</td>\n",
       "    </tr>\n",
       "  </tbody>\n",
       "</table>\n",
       "</div>"
      ],
      "text/plain": [
       "   rank_at  hitcounts  recall  precision      ndcg\n",
       "0        1          9   0.009   0.009000  0.009000\n",
       "1        5         19   0.019   0.003800  0.013959\n",
       "2       10         24   0.024   0.002400  0.015539\n",
       "3       15         32   0.032   0.002133  0.017668\n",
       "4       20         38   0.038   0.001900  0.019069"
      ]
     },
     "execution_count": 28,
     "metadata": {},
     "output_type": "execute_result"
    }
   ],
   "source": [
    "ranked_df_neumf = NCF.get_predictions('NeuMF', train_set=train_set_mf, test_set=test_set_mf)\n",
    "neumf_metrics = get_metrics(ranked_df_neumf, stats=False)\n",
    "neumf_metrics"
   ]
  }
 ],
 "metadata": {
  "kernelspec": {
   "display_name": "Python 3",
   "language": "python",
   "name": "python3"
  },
  "language_info": {
   "codemirror_mode": {
    "name": "ipython",
    "version": 3
   },
   "file_extension": ".py",
   "mimetype": "text/x-python",
   "name": "python",
   "nbconvert_exporter": "python",
   "pygments_lexer": "ipython3",
   "version": "3.7.7"
  }
 },
 "nbformat": 4,
 "nbformat_minor": 4
}
