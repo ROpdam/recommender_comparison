{
 "cells": [
  {
   "cell_type": "code",
   "execution_count": 1,
   "metadata": {},
   "outputs": [],
   "source": [
    "import pandas as pd\n",
    "import numpy as np\n",
    "import tensorflow as tf\n",
    "import os\n",
    "import progressbar as progressbar\n",
    "import matplotlib.pyplot as plt\n",
    "\n",
    "%load_ext autoreload\n",
    "%autoreload 2"
   ]
  },
  {
   "cell_type": "code",
   "execution_count": 2,
   "metadata": {},
   "outputs": [
    {
     "name": "stdout",
     "output_type": "stream",
     "text": [
      "TF version: 2.1.0\n"
     ]
    },
    {
     "data": {
      "text/plain": [
       "[PhysicalDevice(name='/physical_device:CPU:0', device_type='CPU'),\n",
       " PhysicalDevice(name='/physical_device:XLA_CPU:0', device_type='XLA_CPU'),\n",
       " PhysicalDevice(name='/physical_device:XLA_GPU:0', device_type='XLA_GPU'),\n",
       " PhysicalDevice(name='/physical_device:GPU:0', device_type='GPU')]"
      ]
     },
     "execution_count": 2,
     "metadata": {},
     "output_type": "execute_result"
    }
   ],
   "source": [
    "print(f'TF version: {tf.__version__}')\n",
    "tf.config.list_physical_devices()"
   ]
  },
  {
   "cell_type": "markdown",
   "metadata": {},
   "source": [
    "# Read Data"
   ]
  },
  {
   "cell_type": "code",
   "execution_count": 3,
   "metadata": {},
   "outputs": [],
   "source": [
    "# path = 'C:/Users/robin.opdam/Google Drive/Thesis (Msc)/Thesis_shared_files/'\n",
    "path = '/Users/Robin/Google Drive/Thesis (Msc)/Thesis_shared_files/'\n",
    "path = '../datasets/'"
   ]
  },
  {
   "cell_type": "markdown",
   "metadata": {},
   "source": [
    "## Amazon Fashion"
   ]
  },
  {
   "cell_type": "code",
   "execution_count": 4,
   "metadata": {},
   "outputs": [],
   "source": [
    "# data_path = 'data/Amazon/'\n",
    "# file_name = 'Amazon_full' # file_name = 'Amazon_05_users' \n",
    "# file_name = 'Amazon_01_users'\n",
    "# file_name = 'am_80k_users'\n",
    "# file_name = 'am_40k_users'\n",
    "file_name = 'am_like_ml'"
   ]
  },
  {
   "cell_type": "markdown",
   "metadata": {},
   "source": [
    "## MovieLens"
   ]
  },
  {
   "cell_type": "code",
   "execution_count": 5,
   "metadata": {},
   "outputs": [],
   "source": [
    "# data_path = 'data/ML/'\n",
    "file_name = 'ml_1m'\n",
    "# file_name = 'ML_full' # file_name = 'ML_05_users'\n",
    "# file_name = 'ML_01_users'"
   ]
  },
  {
   "cell_type": "code",
   "execution_count": 6,
   "metadata": {},
   "outputs": [],
   "source": [
    "test_set_cfrnn = pd.read_pickle(path + 'test_set_ml_cfrnn')\n",
    "val_set_cfrnn = pd.read_pickle(path +  'val_set_ml_cfrnn')\n",
    "train_set_cfrnn = pd.read_pickle(path + 'train_set_ml_cfrnn')\n",
    "\n",
    "from Data_prep import leave_last_x_out_2\n",
    "\n",
    "add_to_train, val_set = leave_last_x_out_2(val_set_cfrnn)\n",
    "add_to_train_2, test_set = leave_last_x_out_2(test_set_cfrnn)\n",
    "\n",
    "train_set = pd.concat([train_set_cfrnn, add_to_train, add_to_train_2])"
   ]
  },
  {
   "cell_type": "code",
   "execution_count": 7,
   "metadata": {},
   "outputs": [
    {
     "data": {
      "text/html": [
       "<div>\n",
       "<style scoped>\n",
       "    .dataframe tbody tr th:only-of-type {\n",
       "        vertical-align: middle;\n",
       "    }\n",
       "\n",
       "    .dataframe tbody tr th {\n",
       "        vertical-align: top;\n",
       "    }\n",
       "\n",
       "    .dataframe thead th {\n",
       "        text-align: right;\n",
       "    }\n",
       "</style>\n",
       "<table border=\"1\" class=\"dataframe\">\n",
       "  <thead>\n",
       "    <tr style=\"text-align: right;\">\n",
       "      <th></th>\n",
       "      <th>rating</th>\n",
       "      <th>datetime</th>\n",
       "      <th>user_id</th>\n",
       "      <th>item_id</th>\n",
       "    </tr>\n",
       "  </thead>\n",
       "  <tbody>\n",
       "    <tr>\n",
       "      <th>0</th>\n",
       "      <td>4</td>\n",
       "      <td>2000-12-31 22:00:19</td>\n",
       "      <td>0</td>\n",
       "      <td>2969</td>\n",
       "    </tr>\n",
       "    <tr>\n",
       "      <th>1</th>\n",
       "      <td>4</td>\n",
       "      <td>2000-12-31 22:00:55</td>\n",
       "      <td>0</td>\n",
       "      <td>1574</td>\n",
       "    </tr>\n",
       "    <tr>\n",
       "      <th>2</th>\n",
       "      <td>5</td>\n",
       "      <td>2000-12-31 22:00:55</td>\n",
       "      <td>0</td>\n",
       "      <td>957</td>\n",
       "    </tr>\n",
       "    <tr>\n",
       "      <th>3</th>\n",
       "      <td>5</td>\n",
       "      <td>2000-12-31 22:00:55</td>\n",
       "      <td>0</td>\n",
       "      <td>1178</td>\n",
       "    </tr>\n",
       "    <tr>\n",
       "      <th>4</th>\n",
       "      <td>3</td>\n",
       "      <td>2000-12-31 22:01:43</td>\n",
       "      <td>0</td>\n",
       "      <td>2147</td>\n",
       "    </tr>\n",
       "  </tbody>\n",
       "</table>\n",
       "</div>"
      ],
      "text/plain": [
       "   rating            datetime  user_id  item_id\n",
       "0       4 2000-12-31 22:00:19        0     2969\n",
       "1       4 2000-12-31 22:00:55        0     1574\n",
       "2       5 2000-12-31 22:00:55        0      957\n",
       "3       5 2000-12-31 22:00:55        0     1178\n",
       "4       3 2000-12-31 22:01:43        0     2147"
      ]
     },
     "execution_count": 7,
     "metadata": {},
     "output_type": "execute_result"
    }
   ],
   "source": [
    "df = pd.read_pickle(path + file_name)\n",
    "df.user_id = df.user_id.astype('category').cat.codes\n",
    "df.item_id = df.item_id.astype('category').cat.codes\n",
    "df.head()"
   ]
  },
  {
   "cell_type": "markdown",
   "metadata": {},
   "source": [
    "### Read ML split (paper)"
   ]
  },
  {
   "cell_type": "code",
   "execution_count": 56,
   "metadata": {},
   "outputs": [],
   "source": [
    "test_set = pd.read_pickle(path + 'ml_1m_test')\n",
    "train_set = pd.read_pickle(path + 'ml_1m_train')"
   ]
  },
  {
   "cell_type": "markdown",
   "metadata": {},
   "source": [
    "### Read am_like_ml splits"
   ]
  },
  {
   "cell_type": "code",
   "execution_count": 30,
   "metadata": {},
   "outputs": [],
   "source": [
    "test_set = pd.read_pickle(path + 'test_set_am_like_ml')\n",
    "val_set = pd.read_pickle(path + 'val_set_am_like_ml')\n",
    "train_set = pd.read_pickle(path + 'train_set_am_like_ml')"
   ]
  },
  {
   "cell_type": "markdown",
   "metadata": {},
   "source": [
    "### Subset data"
   ]
  },
  {
   "cell_type": "code",
   "execution_count": null,
   "metadata": {},
   "outputs": [],
   "source": [
    "from Data_prep import leave_users_out\n",
    "remaining, subset = leave_users_out(df, 60000)\n",
    "print(len(subset))\n",
    "df = subset\n",
    "df.user_id = df.user_id.astype('category').cat.codes\n",
    "df.item_id = df.item_id.astype('category').cat.codes"
   ]
  },
  {
   "cell_type": "markdown",
   "metadata": {},
   "source": [
    "---\n",
    "# Data Prep"
   ]
  },
  {
   "cell_type": "markdown",
   "metadata": {},
   "source": [
    "## Dataset Params"
   ]
  },
  {
   "cell_type": "code",
   "execution_count": 8,
   "metadata": {},
   "outputs": [
    {
     "name": "stdout",
     "output_type": "stream",
     "text": [
      "total_items: 3706\n",
      "total_users: 6040\n"
     ]
    }
   ],
   "source": [
    "val_perc = test_perc = 0.1\n",
    "n_last_items_val = n_last_items_test = 1\n",
    "\n",
    "total_items = len(df.item_id.unique())\n",
    "total_users = len(df.user_id.unique())\n",
    "print(f'total_items: {total_items}')\n",
    "print(f'total_users: {total_users}')"
   ]
  },
  {
   "cell_type": "markdown",
   "metadata": {},
   "source": [
    "## Create Split"
   ]
  },
  {
   "cell_type": "code",
   "execution_count": 8,
   "metadata": {},
   "outputs": [],
   "source": [
    "from Data_prep import train_val_test_split\n",
    "datasets = train_val_test_split(df, val_perc, test_perc, n_last_items_val, n_last_items_test)\n",
    "train_set, val_set, test_set = datasets"
   ]
  },
  {
   "cell_type": "code",
   "execution_count": 9,
   "metadata": {},
   "outputs": [
    {
     "data": {
      "text/plain": [
       "4000"
      ]
     },
     "execution_count": 9,
     "metadata": {},
     "output_type": "execute_result"
    }
   ],
   "source": [
    "len(test_set.user_id.unique())"
   ]
  },
  {
   "cell_type": "markdown",
   "metadata": {},
   "source": [
    "---\n",
    "# Neural Collaborative Filtering (NCF)\n",
    "Using the NCF framework we build Generalized Matrix Factorisation (GMF), Multiplayer Perceptron Matrix Factorisation (MLP) and combine the two in Neural Matrix Factorisation (NeuMF)\n",
    "- paper: http://papers.www2017.com.au.s3-website-ap-southeast-2.amazonaws.com/proceedings/p173.pdf\n",
    "- blog: https://medium.com/@victorkohler/collaborative-filtering-using-deep-neural-networks-in-tensorflow-96e5d41a39a1\n",
    "- code: https://github.com/Leavingseason/NeuralCF/blob/master"
   ]
  },
  {
   "cell_type": "markdown",
   "metadata": {},
   "source": [
    "## Set Parameters"
   ]
  },
  {
   "cell_type": "code",
   "execution_count": 17,
   "metadata": {},
   "outputs": [],
   "source": [
    "store_path = '../NeuMF_storage/GS/'\n",
    "gs_result_name = f'GS_NeuMF_bs_{256}'\n",
    "gs_res = pd.read_pickle(store_path + gs_result_name).sort_values('test_rec@10', ascending=False)"
   ]
  },
  {
   "cell_type": "code",
   "execution_count": 20,
   "metadata": {},
   "outputs": [
    {
     "data": {
      "text/plain": [
       "test_rec@10                                                        0.01925\n",
       "100_sample_val_rec@10                                                 0.19\n",
       "val_metrics              [[rank_at, hitcounts, recall, precision, ndcg]...\n",
       "test_metrics                rank_at  hitcounts   recall  precision     ...\n",
       "loss                     [0.46384, 0.35846, 0.325, 0.30419, 0.28889, 0....\n",
       "train_time                                                         1294.88\n",
       "learning_rate                                                       0.0001\n",
       "batch_size                                                             256\n",
       "layers                                                     [16, 32, 16, 8]\n",
       "reg_layers                                    [1e-06, 1e-06, 1e-06, 1e-06]\n",
       "reg_mf                                                              [0, 0]\n",
       "nolf                                                                     8\n",
       "epochs                                                                  14\n",
       "sample_size                                                         343771\n",
       "num_neg                                                                  4\n",
       "ckpt_dir                 ../NeuMF_storage/NeuMF_ckpts_am_40k_GS_nolf_8/...\n",
       "optimizer                                                             Adam\n",
       "Name: 22, dtype: object"
      ]
     },
     "execution_count": 20,
     "metadata": {},
     "output_type": "execute_result"
    }
   ],
   "source": [
    "gs_res.iloc[0]"
   ]
  },
  {
   "cell_type": "code",
   "execution_count": 18,
   "metadata": {},
   "outputs": [
    {
     "data": {
      "text/plain": [
       "[<matplotlib.lines.Line2D at 0x7f224c2fc278>]"
      ]
     },
     "execution_count": 18,
     "metadata": {},
     "output_type": "execute_result"
    },
    {
     "data": {
      "image/png": "[encoded data removed]",
      "text/plain": [
       "<Figure size 432x288 with 1 Axes>"
      ]
     },
     "metadata": {
      "needs_background": "light"
     },
     "output_type": "display_data"
    }
   ],
   "source": [
    "plt.plot(gs_res.iloc[0]['loss'])"
   ]
  },
  {
   "cell_type": "code",
   "execution_count": 9,
   "metadata": {},
   "outputs": [],
   "source": [
    "# run_num = 'am_40k_nolf_8'\n",
    "# run_num = 'am_like_ml_nolf_8'\n",
    "# run_num = 'ml_1m_nolf_8'\n",
    "run_num = 'ml_1m_nolf_8_cfrnn_data'"
   ]
  },
  {
   "cell_type": "code",
   "execution_count": 10,
   "metadata": {},
   "outputs": [],
   "source": [
    "GMF_params = {\n",
    "    'learning_rate': 0.0005,\n",
    "    'batch_size': 256,\n",
    "    'nolf': 8,\n",
    "    'regs': [0,0],\n",
    "    'epochs': 10,\n",
    "    'sample_size': len(train_set),#int(0.5*len(train_set.user_id.unique())),\n",
    "    'num_neg': 4,\n",
    "    'ckpt_dir': f'../NeuMF_storage/GMF_ckpts_{run_num}/ckpts',\n",
    "    'optimizer':'Adam'\n",
    "}"
   ]
  },
  {
   "cell_type": "code",
   "execution_count": 11,
   "metadata": {},
   "outputs": [],
   "source": [
    "MLP_params = {\n",
    "    'learning_rate': 0.0005,\n",
    "    'batch_size': 256,\n",
    "    'layers': [16,32,16,8],\n",
    "    'reg_layers': [0,0,0,0],   #ML: [+-0.0005,0,0,0],\n",
    "    'epochs': 10,\n",
    "    'sample_size': len(train_set),#int(0.5*len(train_set.user_id.unique())),\n",
    "    'num_neg': 10,\n",
    "    'ckpt_dir': f'../NeuMF_storage/MLP_ckpts_{run_num}/ckpts',\n",
    "    'optimizer':'Adam'\n",
    "}"
   ]
  },
  {
   "cell_type": "code",
   "execution_count": 12,
   "metadata": {},
   "outputs": [],
   "source": [
    "NeuMF_params = {\n",
    "    'learning_rate': 0.0005,\n",
    "    'batch_size': 256,\n",
    "    'layers': [16,32,16,8],\n",
    "    'reg_layers': [0,0,0,0],#[0.0001, 0.0001, 0.0001, 0.0001],\n",
    "    'reg_mf': [0,0],\n",
    "    'nolf': 8,\n",
    "    'epochs': 20,\n",
    "    'sample_size': len(train_set),#int(0.5*len(train_set.user_id.unique())),\n",
    "    'num_neg': 4,\n",
    "    'ckpt_dir': f'../NeuMF_storage/NeuMF_ckpts_{run_num}/ckpts',\n",
    "    'optimizer':'Adam'\n",
    "}"
   ]
  },
  {
   "cell_type": "markdown",
   "metadata": {},
   "source": [
    "\n",
    "## Init"
   ]
  },
  {
   "cell_type": "code",
   "execution_count": 13,
   "metadata": {},
   "outputs": [],
   "source": [
    "from NCF import NCF\n",
    "NCF = NCF(total_users, total_items, GMF_params, MLP_params, NeuMF_params)\n",
    "\n",
    "NCF.build_GMF_model()\n",
    "NCF.build_MLP_model()\n",
    "NCF.build_NeuMF_model()"
   ]
  },
  {
   "cell_type": "markdown",
   "metadata": {},
   "source": [
    "## Training"
   ]
  },
  {
   "cell_type": "markdown",
   "metadata": {},
   "source": [
    "### Read Stored Samples (3min for ML_1m)"
   ]
  },
  {
   "cell_type": "code",
   "execution_count": 16,
   "metadata": {},
   "outputs": [],
   "source": [
    "sample_path = '../NeuMF_storage/samples_ml_1m_cfrnn_4_neg/'\n",
    "sample_name = 'ml_1m_sample_'\n",
    "\n",
    "# sample_path = '../NeuMF_storage/samples_ml_1m_4_neg/'\n",
    "# sample_name = 'ml_1m_sample_'\n",
    "\n",
    "# sample_path = '../NeuMF_storage/samples_am_40k_4_neg/'\n",
    "# sample_path = '../NeuMF_storage/samples_am_40k_8_neg/'\n",
    "# sample_name = 'am_40k_sample_'\n",
    "\n",
    "# sample_path = '../NeuMF_storage/samples_am_like_ml_4_neg/'\n",
    "# sample_name = 'am_40k_sample_'"
   ]
  },
  {
   "cell_type": "code",
   "execution_count": 17,
   "metadata": {},
   "outputs": [
    {
     "name": "stderr",
     "output_type": "stream",
     "text": [
      "100% |########################################################################|\r"
     ]
    },
    {
     "name": "stdout",
     "output_type": "stream",
     "text": [
      "CPU times: user 2min 3s, sys: 11.9 s, total: 2min 15s\n",
      "Wall time: 2min 25s\n"
     ]
    },
    {
     "name": "stderr",
     "output_type": "stream",
     "text": [
      "\n"
     ]
    }
   ],
   "source": [
    "%%time\n",
    "import csv\n",
    "samples = []\n",
    "pbar = progressbar.ProgressBar()\n",
    "for sample_num in pbar(range(20)):\n",
    "    with open(f'{sample_path}{sample_name}{sample_num}.csv', 'r') as read_obj:\n",
    "        sample = [[], [], []]\n",
    "        csv_reader = csv.reader(read_obj)\n",
    "        sample_str = list(csv_reader)\n",
    "        \n",
    "        for user_input, item_input, label in zip(sample_str[0], sample_str[1], sample_str[2]):\n",
    "            sample[0].append(int(user_input))\n",
    "            sample[1].append(int(item_input))\n",
    "            sample[2].append(int(label))\n",
    "        \n",
    "    samples.append(sample)"
   ]
  },
  {
   "cell_type": "markdown",
   "metadata": {},
   "source": [
    "# Fit model"
   ]
  },
  {
   "cell_type": "markdown",
   "metadata": {},
   "source": [
    "## GMF 4 neg samples"
   ]
  },
  {
   "cell_type": "code",
   "execution_count": 18,
   "metadata": {},
   "outputs": [
    {
     "name": "stdout",
     "output_type": "stream",
     "text": [
      "\n",
      "Fitting GMF with parameters:\n",
      "learning_rate                                               0.0005\n",
      "batch_size                                                     256\n",
      "nolf                                                             8\n",
      "regs                                                        [0, 0]\n",
      "epochs                                                          10\n",
      "sample_size                                                 998709\n",
      "num_neg                                                          4\n",
      "ckpt_dir         ../NeuMF_storage/GMF_ckpts_ml_1m_nolf_8_cfrnn_...\n",
      "optimizer                                                     Adam\n",
      "Name: 0, dtype: object\n",
      "Epoch: 0\n",
      "Train on 4993545 samples\n",
      "4993545/4993545 [==============================] - 84s 17us/sample - loss: 0.3817\n"
     ]
    },
    {
     "name": "stderr",
     "output_type": "stream",
     "text": [
      "100% |########################################################################|\n"
     ]
    },
    {
     "name": "stdout",
     "output_type": "stream",
     "text": [
      "[   rank_at  hitcounts  recall  precision      ndcg\n",
      "0        1          3   0.006     0.0060  0.006000\n",
      "1        5          4   0.008     0.0016  0.007262\n",
      "2       10          6   0.012     0.0012  0.008466\n",
      "3       15          9   0.018     0.0012  0.009990\n",
      "4       20         16   0.032     0.0016  0.013265]\n",
      "Epoch: 1\n",
      "Train on 4993545 samples\n",
      "4993545/4993545 [==============================] - 84s 17us/sample - loss: 0.3452\n"
     ]
    },
    {
     "name": "stderr",
     "output_type": "stream",
     "text": [
      "100% |########################################################################|\n"
     ]
    },
    {
     "name": "stdout",
     "output_type": "stream",
     "text": [
      "[   rank_at  hitcounts  recall  precision      ndcg\n",
      "0        1          3   0.006   0.006000  0.006000\n",
      "1        5          4   0.008   0.001600  0.007000\n",
      "2       10          8   0.016   0.001600  0.009552\n",
      "3       15         11   0.022   0.001467  0.011052\n",
      "4       20         15   0.030   0.001500  0.012921]\n",
      "Epoch: 2\n",
      "Train on 4993545 samples\n",
      "4993545/4993545 [==============================] - 83s 17us/sample - loss: 0.3174\n"
     ]
    },
    {
     "name": "stderr",
     "output_type": "stream",
     "text": [
      "100% |########################################################################|\n"
     ]
    },
    {
     "name": "stdout",
     "output_type": "stream",
     "text": [
      "[   rank_at  hitcounts  recall  precision      ndcg\n",
      "0        1          2   0.004   0.004000  0.004000\n",
      "1        5          5   0.010   0.002000  0.006409\n",
      "2       10         12   0.024   0.002400  0.010988\n",
      "3       15         17   0.034   0.002267  0.013639\n",
      "4       20         25   0.050   0.002500  0.017410]\n",
      "Epoch: 3\n",
      "Train on 4993545 samples\n",
      "4993545/4993545 [==============================] - 83s 17us/sample - loss: 0.2987\n"
     ]
    },
    {
     "name": "stderr",
     "output_type": "stream",
     "text": [
      "100% |########################################################################|\n"
     ]
    },
    {
     "name": "stdout",
     "output_type": "stream",
     "text": [
      "[   rank_at  hitcounts  recall  precision      ndcg\n",
      "0        1          2   0.004   0.004000  0.004000\n",
      "1        5          7   0.014   0.002800  0.008861\n",
      "2       10         10   0.020   0.002000  0.010778\n",
      "3       15         16   0.032   0.002133  0.013967\n",
      "4       20         24   0.048   0.002400  0.017729]\n",
      "Epoch: 4\n",
      "Train on 4993545 samples\n",
      "4993545/4993545 [==============================] - 83s 17us/sample - loss: 0.2842\n"
     ]
    },
    {
     "name": "stderr",
     "output_type": "stream",
     "text": [
      "100% |########################################################################|\n"
     ]
    },
    {
     "name": "stdout",
     "output_type": "stream",
     "text": [
      "[   rank_at  hitcounts  recall  precision      ndcg\n",
      "0        1          1   0.002     0.0020  0.002000\n",
      "1        5          7   0.014     0.0028  0.009047\n",
      "2       10          9   0.018     0.0018  0.010292\n",
      "3       15         15   0.030     0.0020  0.013513\n",
      "4       20         27   0.054     0.0027  0.019239]\n",
      "Epoch: 5\n",
      "Train on 4993545 samples\n",
      "4993545/4993545 [==============================] - 83s 17us/sample - loss: 0.2755\n"
     ]
    },
    {
     "name": "stderr",
     "output_type": "stream",
     "text": [
      "100% |########################################################################|\n"
     ]
    },
    {
     "name": "stdout",
     "output_type": "stream",
     "text": [
      "[   rank_at  hitcounts  recall  precision      ndcg\n",
      "0        1          0   0.000     0.0000  0.000000\n",
      "1        5          7   0.014     0.0028  0.008083\n",
      "2       10         14   0.028     0.0028  0.012343\n",
      "3       15         18   0.036     0.0024  0.014450\n",
      "4       20         22   0.044     0.0022  0.016313]\n",
      "Epoch: 6\n",
      "Train on 4993545 samples\n",
      "4993545/4993545 [==============================] - 83s 17us/sample - loss: 0.2708\n"
     ]
    },
    {
     "name": "stderr",
     "output_type": "stream",
     "text": [
      "100% |########################################################################|\n"
     ]
    },
    {
     "name": "stdout",
     "output_type": "stream",
     "text": [
      "[   rank_at  hitcounts  recall  precision      ndcg\n",
      "0        1          0   0.000   0.000000  0.000000\n",
      "1        5          8   0.016   0.003200  0.008194\n",
      "2       10         12   0.024   0.002400  0.010842\n",
      "3       15         17   0.034   0.002267  0.013491\n",
      "4       20         20   0.040   0.002000  0.014915]\n",
      "Epoch: 7\n",
      "Train on 4993545 samples\n",
      "4993545/4993545 [==============================] - 82s 17us/sample - loss: 0.2681\n"
     ]
    },
    {
     "name": "stderr",
     "output_type": "stream",
     "text": [
      "100% |########################################################################|\n"
     ]
    },
    {
     "name": "stdout",
     "output_type": "stream",
     "text": [
      "[   rank_at  hitcounts  recall  precision      ndcg\n",
      "0        1          1   0.002   0.002000  0.002000\n",
      "1        5          8   0.016   0.003200  0.008932\n",
      "2       10         15   0.030   0.003000  0.013427\n",
      "3       15         17   0.034   0.002267  0.014464\n",
      "4       20         22   0.044   0.002200  0.016814]\n",
      "Epoch: 8\n",
      "Train on 4993545 samples\n",
      "4993545/4993545 [==============================] - 83s 17us/sample - loss: 0.2664\n"
     ]
    },
    {
     "name": "stderr",
     "output_type": "stream",
     "text": [
      "100% |########################################################################|\n"
     ]
    },
    {
     "name": "stdout",
     "output_type": "stream",
     "text": [
      "[   rank_at  hitcounts  recall  precision      ndcg\n",
      "0        1          2   0.004   0.004000  0.004000\n",
      "1        5          7   0.014   0.002800  0.009821\n",
      "2       10         16   0.032   0.003200  0.015613\n",
      "3       15         20   0.040   0.002667  0.017703\n",
      "4       20         25   0.050   0.002500  0.020034]\n",
      "Epoch: 9\n",
      "Train on 4993545 samples\n",
      "4993545/4993545 [==============================] - 82s 17us/sample - loss: 0.2652\n"
     ]
    },
    {
     "name": "stderr",
     "output_type": "stream",
     "text": [
      "100% |########################################################################|\n"
     ]
    },
    {
     "name": "stdout",
     "output_type": "stream",
     "text": [
      "[   rank_at  hitcounts  recall  precision      ndcg\n",
      "0        1          2   0.004   0.004000  0.004000\n",
      "1        5         10   0.020   0.004000  0.011167\n",
      "2       10         18   0.036   0.003600  0.016214\n",
      "3       15         23   0.046   0.003067  0.018836\n",
      "4       20         30   0.060   0.003000  0.022173]\n"
     ]
    }
   ],
   "source": [
    "GMF_val_metrics = NCF.train_model('GMF', samples, train_set, val_set, store_path=f'../weights/GMF_weights_{run_num}/GMF_weights') "
   ]
  },
  {
   "cell_type": "markdown",
   "metadata": {},
   "source": [
    "## MLP 4 neg samples"
   ]
  },
  {
   "cell_type": "code",
   "execution_count": 19,
   "metadata": {},
   "outputs": [
    {
     "name": "stdout",
     "output_type": "stream",
     "text": [
      "\n",
      "Fitting MLP with parameters:\n",
      "learning_rate                                               0.0005\n",
      "batch_size                                                     256\n",
      "layers                                             [16, 32, 16, 8]\n",
      "reg_layers                                            [0, 0, 0, 0]\n",
      "epochs                                                          10\n",
      "sample_size                                                 998709\n",
      "num_neg                                                         10\n",
      "ckpt_dir         ../NeuMF_storage/MLP_ckpts_ml_1m_nolf_8_cfrnn_...\n",
      "optimizer                                                     Adam\n",
      "Name: 0, dtype: object\n",
      "Epoch: 0\n",
      "Train on 4993545 samples\n",
      "4993545/4993545 [==============================] - 94s 19us/sample - loss: 0.3518\n"
     ]
    },
    {
     "name": "stderr",
     "output_type": "stream",
     "text": [
      "100% |########################################################################|\n"
     ]
    },
    {
     "name": "stdout",
     "output_type": "stream",
     "text": [
      "[   rank_at  hitcounts  recall  precision      ndcg\n",
      "0        1          1   0.002   0.002000  0.002000\n",
      "1        5          5   0.010   0.002000  0.006159\n",
      "2       10         12   0.024   0.002400  0.010692\n",
      "3       15         16   0.032   0.002133  0.012813\n",
      "4       20         19   0.038   0.001900  0.014234]\n",
      "Epoch: 1\n",
      "Train on 4993545 samples\n",
      "4993545/4993545 [==============================] - 93s 19us/sample - loss: 0.3175\n"
     ]
    },
    {
     "name": "stderr",
     "output_type": "stream",
     "text": [
      "100% |########################################################################|\n"
     ]
    },
    {
     "name": "stdout",
     "output_type": "stream",
     "text": [
      "[   rank_at  hitcounts  recall  precision      ndcg\n",
      "0        1          1   0.002   0.002000  0.002000\n",
      "1        5          7   0.014   0.002800  0.007897\n",
      "2       10         11   0.022   0.002200  0.010545\n",
      "3       15         16   0.032   0.002133  0.013155\n",
      "4       20         21   0.042   0.002100  0.015545]\n",
      "Epoch: 2\n",
      "Train on 4993545 samples\n",
      "4993545/4993545 [==============================] - 94s 19us/sample - loss: 0.3025\n"
     ]
    },
    {
     "name": "stderr",
     "output_type": "stream",
     "text": [
      "100% |########################################################################|\n"
     ]
    },
    {
     "name": "stdout",
     "output_type": "stream",
     "text": [
      "[   rank_at  hitcounts  recall  precision      ndcg\n",
      "0        1          1   0.002     0.0020  0.002000\n",
      "1        5          4   0.008     0.0016  0.004547\n",
      "2       10          8   0.016     0.0016  0.007001\n",
      "3       15         12   0.024     0.0016  0.009137\n",
      "4       20         18   0.036     0.0018  0.011941]\n",
      "Epoch: 3\n",
      "Train on 4993545 samples\n",
      "4993545/4993545 [==============================] - 93s 19us/sample - loss: 0.2906\n"
     ]
    },
    {
     "name": "stderr",
     "output_type": "stream",
     "text": [
      "100% |########################################################################|\n"
     ]
    },
    {
     "name": "stdout",
     "output_type": "stream",
     "text": [
      "[   rank_at  hitcounts  recall  precision      ndcg\n",
      "0        1          2   0.004   0.004000  0.004000\n",
      "1        5          5   0.010   0.002000  0.006635\n",
      "2       10          7   0.014   0.001400  0.007978\n",
      "3       15         13   0.026   0.001733  0.011113\n",
      "4       20         22   0.044   0.002200  0.015338]\n",
      "Epoch: 4\n",
      "Train on 4993545 samples\n",
      "4993545/4993545 [==============================] - 94s 19us/sample - loss: 0.2842\n"
     ]
    },
    {
     "name": "stderr",
     "output_type": "stream",
     "text": [
      "100% |########################################################################|\n"
     ]
    },
    {
     "name": "stdout",
     "output_type": "stream",
     "text": [
      "[   rank_at  hitcounts  recall  precision      ndcg\n",
      "0        1          2   0.004   0.004000  0.004000\n",
      "1        5          7   0.014   0.002800  0.009159\n",
      "2       10         11   0.022   0.002200  0.011807\n",
      "3       15         17   0.034   0.002267  0.014980\n",
      "4       20         24   0.048   0.002400  0.018273]\n",
      "Epoch: 5\n",
      "Train on 4993545 samples\n",
      "4993545/4993545 [==============================] - 94s 19us/sample - loss: 0.2799\n"
     ]
    },
    {
     "name": "stderr",
     "output_type": "stream",
     "text": [
      "100% |########################################################################|\n"
     ]
    },
    {
     "name": "stdout",
     "output_type": "stream",
     "text": [
      "[   rank_at  hitcounts  recall  precision      ndcg\n",
      "0        1          3   0.006   0.006000  0.006000\n",
      "1        5          5   0.010   0.002000  0.007861\n",
      "2       10          8   0.016   0.001600  0.009596\n",
      "3       15         11   0.022   0.001467  0.011148\n",
      "4       20         21   0.042   0.002100  0.015947]\n",
      "Epoch: 6\n",
      "Train on 4993545 samples\n",
      "4993545/4993545 [==============================] - 93s 19us/sample - loss: 0.2766\n"
     ]
    },
    {
     "name": "stderr",
     "output_type": "stream",
     "text": [
      "100% |########################################################################|\n"
     ]
    },
    {
     "name": "stdout",
     "output_type": "stream",
     "text": [
      "[   rank_at  hitcounts  recall  precision      ndcg\n",
      "0        1          2   0.004   0.004000  0.004000\n",
      "1        5          4   0.008   0.001600  0.005861\n",
      "2       10          9   0.018   0.001800  0.008970\n",
      "3       15         13   0.026   0.001733  0.011079\n",
      "4       20         21   0.042   0.002100  0.014809]\n",
      "Epoch: 7\n",
      "Train on 4993545 samples\n",
      "4993545/4993545 [==============================] - 94s 19us/sample - loss: 0.2742\n"
     ]
    },
    {
     "name": "stderr",
     "output_type": "stream",
     "text": [
      "100% |########################################################################|\n"
     ]
    },
    {
     "name": "stdout",
     "output_type": "stream",
     "text": [
      "[   rank_at  hitcounts  recall  precision      ndcg\n",
      "0        1          2   0.004   0.004000  0.004000\n",
      "1        5          4   0.008   0.001600  0.005861\n",
      "2       10          9   0.018   0.001800  0.009133\n",
      "3       15         11   0.022   0.001467  0.010158\n",
      "4       20         17   0.034   0.001700  0.012988]\n",
      "Epoch: 8\n",
      "Train on 4993545 samples\n",
      "4993545/4993545 [==============================] - 93s 19us/sample - loss: 0.2722\n"
     ]
    },
    {
     "name": "stderr",
     "output_type": "stream",
     "text": [
      "100% |########################################################################|\n"
     ]
    },
    {
     "name": "stdout",
     "output_type": "stream",
     "text": [
      "[   rank_at  hitcounts  recall  precision      ndcg\n",
      "0        1          2   0.004     0.0040  0.004000\n",
      "1        5          4   0.008     0.0016  0.005774\n",
      "2       10         10   0.020     0.0020  0.009542\n",
      "3       15         18   0.036     0.0024  0.013859\n",
      "4       20         25   0.050     0.0025  0.017151]\n",
      "Epoch: 9\n",
      "Train on 4993545 samples\n",
      "4993545/4993545 [==============================] - 94s 19us/sample - loss: 0.2706\n"
     ]
    },
    {
     "name": "stderr",
     "output_type": "stream",
     "text": [
      "100% |########################################################################|\n"
     ]
    },
    {
     "name": "stdout",
     "output_type": "stream",
     "text": [
      "[   rank_at  hitcounts  recall  precision      ndcg\n",
      "0        1          2   0.004   0.004000  0.004000\n",
      "1        5          5   0.010   0.002000  0.006897\n",
      "2       10          9   0.018   0.001800  0.009404\n",
      "3       15         14   0.028   0.001867  0.012051\n",
      "4       20         23   0.046   0.002300  0.016293]\n"
     ]
    }
   ],
   "source": [
    "MLP_val_metrics = NCF.train_model('MLP', samples, train_set, val_set, store_path=f'../weights/MLP_weights_{run_num}/MLP_weights') "
   ]
  },
  {
   "cell_type": "markdown",
   "metadata": {},
   "source": [
    "## NeuMF 4 neg samples"
   ]
  },
  {
   "cell_type": "markdown",
   "metadata": {},
   "source": [
    "#### Load weights for NeuMF"
   ]
  },
  {
   "cell_type": "code",
   "execution_count": 20,
   "metadata": {},
   "outputs": [],
   "source": [
    "NCF.use_pretrain_model(GMF_weights_path=f'../weights/GMF_weights_{run_num}/GMF_weights',\n",
    "                       MLP_weights_path=f'../weights/MLP_weights_{run_num}/MLP_weights')\n",
    "NCF.NeuMF_params['optimizer'] = 'SGD'"
   ]
  },
  {
   "cell_type": "code",
   "execution_count": 21,
   "metadata": {
    "scrolled": true
   },
   "outputs": [
    {
     "name": "stdout",
     "output_type": "stream",
     "text": [
      "\n",
      "Fitting NeuMF with parameters:\n",
      "learning_rate                                               0.0005\n",
      "batch_size                                                     256\n",
      "layers                                             [16, 32, 16, 8]\n",
      "reg_layers                                            [0, 0, 0, 0]\n",
      "reg_mf                                                      [0, 0]\n",
      "nolf                                                             8\n",
      "epochs                                                          20\n",
      "sample_size                                                 998709\n",
      "num_neg                                                          4\n",
      "ckpt_dir         ../NeuMF_storage/NeuMF_ckpts_ml_1m_nolf_8_cfrn...\n",
      "optimizer                                                      SGD\n",
      "Name: 0, dtype: object\n",
      "Epoch: 0\n",
      "Train on 4993545 samples\n",
      "4993545/4993545 [==============================] - 107s 21us/sample - loss: 0.2570\n"
     ]
    },
    {
     "name": "stderr",
     "output_type": "stream",
     "text": [
      "100% |########################################################################|\n"
     ]
    },
    {
     "name": "stdout",
     "output_type": "stream",
     "text": [
      "[   rank_at  hitcounts  recall  precision      ndcg\n",
      "0        1          1   0.002   0.002000  0.002000\n",
      "1        5          5   0.010   0.002000  0.005321\n",
      "2       10         12   0.024   0.002400  0.009895\n",
      "3       15         17   0.034   0.002267  0.012489\n",
      "4       20         29   0.058   0.002900  0.018114]\n",
      "Epoch: 1\n",
      "Train on 4993545 samples\n",
      "4993545/4993545 [==============================] - 106s 21us/sample - loss: 0.2519\n"
     ]
    },
    {
     "name": "stderr",
     "output_type": "stream",
     "text": [
      "100% |########################################################################|\n"
     ]
    },
    {
     "name": "stdout",
     "output_type": "stream",
     "text": [
      "[   rank_at  hitcounts  recall  precision      ndcg\n",
      "0        1          1   0.002   0.002000  0.002000\n",
      "1        5          5   0.010   0.002000  0.006159\n",
      "2       10         12   0.024   0.002400  0.010481\n",
      "3       15         19   0.038   0.002533  0.014081\n",
      "4       20         24   0.048   0.002400  0.016457]\n",
      "Epoch: 2\n",
      "Train on 4993545 samples\n",
      "4993545/4993545 [==============================] - 106s 21us/sample - loss: 0.2482\n"
     ]
    },
    {
     "name": "stderr",
     "output_type": "stream",
     "text": [
      "100% |########################################################################|\n"
     ]
    },
    {
     "name": "stdout",
     "output_type": "stream",
     "text": [
      "[   rank_at  hitcounts  recall  precision      ndcg\n",
      "0        1          1   0.002   0.002000  0.002000\n",
      "1        5          6   0.012   0.002400  0.007508\n",
      "2       10         11   0.022   0.002200  0.010658\n",
      "3       15         20   0.040   0.002667  0.015483\n",
      "4       20         27   0.054   0.002700  0.018790]\n",
      "Epoch: 3\n",
      "Train on 4993545 samples\n",
      "4993545/4993545 [==============================] - 106s 21us/sample - loss: 0.2453\n"
     ]
    },
    {
     "name": "stderr",
     "output_type": "stream",
     "text": [
      "100% |########################################################################|\n"
     ]
    },
    {
     "name": "stdout",
     "output_type": "stream",
     "text": [
      "[   rank_at  hitcounts  recall  precision      ndcg\n",
      "0        1          1   0.002   0.002000  0.002000\n",
      "1        5          6   0.012   0.002400  0.007159\n",
      "2       10         12   0.024   0.002400  0.010973\n",
      "3       15         19   0.038   0.002533  0.014628\n",
      "4       20         26   0.052   0.002600  0.017946]\n",
      "Epoch: 4\n",
      "Train on 4993545 samples\n",
      "4993545/4993545 [==============================] - 106s 21us/sample - loss: 0.2431\n"
     ]
    },
    {
     "name": "stderr",
     "output_type": "stream",
     "text": [
      "100% |########################################################################|\n"
     ]
    },
    {
     "name": "stdout",
     "output_type": "stream",
     "text": [
      "[   rank_at  hitcounts  recall  precision      ndcg\n",
      "0        1          1   0.002   0.002000  0.002000\n",
      "1        5          6   0.012   0.002400  0.006846\n",
      "2       10         12   0.024   0.002400  0.010545\n",
      "3       15         17   0.034   0.002267  0.013069\n",
      "4       20         22   0.044   0.002200  0.015443]\n",
      "Epoch: 5\n",
      "Train on 4993545 samples\n",
      "4993545/4993545 [==============================] - 106s 21us/sample - loss: 0.2412\n"
     ]
    },
    {
     "name": "stderr",
     "output_type": "stream",
     "text": [
      "100% |########################################################################|\n"
     ]
    },
    {
     "name": "stdout",
     "output_type": "stream",
     "text": [
      "[   rank_at  hitcounts  recall  precision      ndcg\n",
      "0        1          1   0.002     0.0020  0.002000\n",
      "1        5          7   0.014     0.0028  0.007985\n",
      "2       10         10   0.020     0.0020  0.009767\n",
      "3       15         21   0.042     0.0028  0.015455\n",
      "4       20         27   0.054     0.0027  0.018309]\n",
      "Epoch: 6\n",
      "Train on 4993545 samples\n",
      "4993545/4993545 [==============================] - 105s 21us/sample - loss: 0.2396\n"
     ]
    },
    {
     "name": "stderr",
     "output_type": "stream",
     "text": [
      "100% |########################################################################|\n"
     ]
    },
    {
     "name": "stdout",
     "output_type": "stream",
     "text": [
      "[   rank_at  hitcounts  recall  precision      ndcg\n",
      "0        1          1   0.002   0.002000  0.002000\n",
      "1        5          5   0.010   0.002000  0.005846\n",
      "2       10         12   0.024   0.002400  0.010247\n",
      "3       15         20   0.040   0.002667  0.014435\n",
      "4       20         27   0.054   0.002700  0.017735]\n",
      "Epoch: 7\n",
      "Train on 4993545 samples\n",
      "4993545/4993545 [==============================] - 106s 21us/sample - loss: 0.2383\n"
     ]
    },
    {
     "name": "stderr",
     "output_type": "stream",
     "text": [
      "100% |########################################################################|\n"
     ]
    },
    {
     "name": "stdout",
     "output_type": "stream",
     "text": [
      "[   rank_at  hitcounts  recall  precision      ndcg\n",
      "0        1          1   0.002   0.002000  0.002000\n",
      "1        5          6   0.012   0.002400  0.006774\n",
      "2       10         11   0.022   0.002200  0.009846\n",
      "3       15         19   0.038   0.002533  0.014056\n",
      "4       20         28   0.056   0.002800  0.018284]\n",
      "Epoch: 8\n",
      "Train on 4993545 samples\n",
      "4993545/4993545 [==============================] - 105s 21us/sample - loss: 0.2372\n"
     ]
    },
    {
     "name": "stderr",
     "output_type": "stream",
     "text": [
      "100% |########################################################################|\n"
     ]
    },
    {
     "name": "stdout",
     "output_type": "stream",
     "text": [
      "[   rank_at  hitcounts  recall  precision      ndcg\n",
      "0        1          2   0.004   0.004000  0.004000\n",
      "1        5          7   0.014   0.002800  0.008671\n",
      "2       10         14   0.028   0.002800  0.012818\n",
      "3       15         17   0.034   0.002267  0.014428\n",
      "4       20         29   0.058   0.002900  0.020085]\n",
      "Epoch: 9\n",
      "Train on 4993545 samples\n",
      "4993545/4993545 [==============================] - 106s 21us/sample - loss: 0.2363\n"
     ]
    },
    {
     "name": "stderr",
     "output_type": "stream",
     "text": [
      "100% |########################################################################|\n"
     ]
    },
    {
     "name": "stdout",
     "output_type": "stream",
     "text": [
      "[   rank_at  hitcounts  recall  precision      ndcg\n",
      "0        1          1   0.002     0.0020  0.002000\n",
      "1        5          4   0.008     0.0016  0.005123\n",
      "2       10         13   0.026     0.0026  0.010919\n",
      "3       15         21   0.042     0.0028  0.015175\n",
      "4       20         31   0.062     0.0031  0.019907]\n",
      "Epoch: 10\n",
      "Train on 4993545 samples\n",
      "4993545/4993545 [==============================] - 106s 21us/sample - loss: 0.2355\n"
     ]
    },
    {
     "name": "stderr",
     "output_type": "stream",
     "text": [
      "100% |########################################################################|\n"
     ]
    },
    {
     "name": "stdout",
     "output_type": "stream",
     "text": [
      "[   rank_at  hitcounts  recall  precision      ndcg\n",
      "0        1          2   0.004   0.004000  0.004000\n",
      "1        5          8   0.016   0.003200  0.009270\n",
      "2       10         12   0.024   0.002400  0.011772\n",
      "3       15         19   0.038   0.002533  0.015453\n",
      "4       20         29   0.058   0.002900  0.020182]\n",
      "Epoch: 11\n",
      "Train on 4993545 samples\n",
      "4993545/4993545 [==============================] - 106s 21us/sample - loss: 0.2348\n"
     ]
    },
    {
     "name": "stderr",
     "output_type": "stream",
     "text": [
      "100% |########################################################################|\n"
     ]
    },
    {
     "name": "stdout",
     "output_type": "stream",
     "text": [
      "[   rank_at  hitcounts  recall  precision      ndcg\n",
      "0        1          2   0.004     0.0040  0.004000\n",
      "1        5          6   0.012     0.0024  0.008159\n",
      "2       10         11   0.022     0.0022  0.011234\n",
      "3       15         21   0.042     0.0028  0.016424\n",
      "4       20         29   0.058     0.0029  0.020196]\n",
      "Epoch: 12\n",
      "Train on 4993545 samples\n",
      "4993545/4993545 [==============================] - 106s 21us/sample - loss: 0.2341\n"
     ]
    },
    {
     "name": "stderr",
     "output_type": "stream",
     "text": [
      "100% |########################################################################|\n"
     ]
    },
    {
     "name": "stdout",
     "output_type": "stream",
     "text": [
      "[   rank_at  hitcounts  recall  precision      ndcg\n",
      "0        1          2   0.004     0.0040  0.004000\n",
      "1        5          9   0.018     0.0036  0.010167\n",
      "2       10         12   0.024     0.0024  0.011978\n",
      "3       15         21   0.042     0.0028  0.016748\n",
      "4       20         34   0.068     0.0034  0.022897]\n",
      "Epoch: 13\n",
      "Train on 4993545 samples\n",
      "4993545/4993545 [==============================] - 106s 21us/sample - loss: 0.2336\n"
     ]
    },
    {
     "name": "stderr",
     "output_type": "stream",
     "text": [
      "100% |########################################################################|\n"
     ]
    },
    {
     "name": "stdout",
     "output_type": "stream",
     "text": [
      "[   rank_at  hitcounts  recall  precision      ndcg\n",
      "0        1          3   0.006   0.006000  0.006000\n",
      "1        5          8   0.016   0.003200  0.010547\n",
      "2       10         13   0.026   0.002600  0.013714\n",
      "3       15         23   0.046   0.003067  0.019044\n",
      "4       20         34   0.068   0.003400  0.024163]\n",
      "Epoch: 14\n",
      "Train on 4993545 samples\n",
      "4993545/4993545 [==============================] - 106s 21us/sample - loss: 0.2330\n"
     ]
    },
    {
     "name": "stderr",
     "output_type": "stream",
     "text": [
      "100% |########################################################################|\n"
     ]
    },
    {
     "name": "stdout",
     "output_type": "stream",
     "text": [
      "[   rank_at  hitcounts  recall  precision      ndcg\n",
      "0        1          3   0.006   0.006000  0.006000\n",
      "1        5         10   0.020   0.004000  0.012270\n",
      "2       10         13   0.026   0.002600  0.014081\n",
      "3       15         22   0.044   0.002933  0.018741\n",
      "4       20         30   0.060   0.003000  0.022462]\n",
      "Epoch: 15\n",
      "Train on 4993545 samples\n",
      "4993545/4993545 [==============================] - 107s 21us/sample - loss: 0.2325\n"
     ]
    },
    {
     "name": "stderr",
     "output_type": "stream",
     "text": [
      "100% |########################################################################|\n"
     ]
    },
    {
     "name": "stdout",
     "output_type": "stream",
     "text": [
      "[   rank_at  hitcounts  recall  precision      ndcg\n",
      "0        1          2   0.004   0.004000  0.004000\n",
      "1        5          7   0.014   0.002800  0.008758\n",
      "2       10         17   0.034   0.003400  0.015273\n",
      "3       15         25   0.050   0.003333  0.019459\n",
      "4       20         28   0.056   0.002800  0.020900]\n",
      "Epoch: 16\n",
      "Train on 4993545 samples\n",
      "4993545/4993545 [==============================] - 107s 21us/sample - loss: 0.2321\n"
     ]
    },
    {
     "name": "stderr",
     "output_type": "stream",
     "text": [
      "100% |########################################################################|\n"
     ]
    },
    {
     "name": "stdout",
     "output_type": "stream",
     "text": [
      "[   rank_at  hitcounts  recall  precision      ndcg\n",
      "0        1          3   0.006   0.006000  0.006000\n",
      "1        5          8   0.016   0.003200  0.010635\n",
      "2       10         14   0.028   0.002800  0.014509\n",
      "3       15         26   0.052   0.003467  0.020875\n",
      "4       20         32   0.064   0.003200  0.023669]\n",
      "Epoch: 17\n",
      "Train on 4993545 samples\n",
      "4993545/4993545 [==============================] - 106s 21us/sample - loss: 0.2316\n"
     ]
    },
    {
     "name": "stderr",
     "output_type": "stream",
     "text": [
      "100% |########################################################################|\n"
     ]
    },
    {
     "name": "stdout",
     "output_type": "stream",
     "text": [
      "[   rank_at  hitcounts  recall  precision      ndcg\n",
      "0        1          2   0.004   0.004000  0.004000\n",
      "1        5          6   0.012   0.002400  0.007985\n",
      "2       10         14   0.028   0.002800  0.012899\n",
      "3       15         23   0.046   0.003067  0.017724\n",
      "4       20         25   0.050   0.002500  0.018669]\n",
      "Epoch: 18\n",
      "Train on 4993545 samples\n",
      "4993545/4993545 [==============================] - 106s 21us/sample - loss: 0.2313\n"
     ]
    },
    {
     "name": "stderr",
     "output_type": "stream",
     "text": [
      "100% |########################################################################|\n"
     ]
    },
    {
     "name": "stdout",
     "output_type": "stream",
     "text": [
      "[   rank_at  hitcounts  recall  precision      ndcg\n",
      "0        1          3   0.006   0.006000  0.006000\n",
      "1        5          7   0.014   0.002800  0.009584\n",
      "2       10         13   0.026   0.002600  0.013398\n",
      "3       15         20   0.040   0.002667  0.017098\n",
      "4       20         25   0.050   0.002500  0.019463]\n",
      "Epoch: 19\n",
      "Train on 4993545 samples\n",
      "4993545/4993545 [==============================] - 106s 21us/sample - loss: 0.2309\n"
     ]
    },
    {
     "name": "stderr",
     "output_type": "stream",
     "text": [
      "100% |########################################################################|\n"
     ]
    },
    {
     "name": "stdout",
     "output_type": "stream",
     "text": [
      "[   rank_at  hitcounts  recall  precision      ndcg\n",
      "0        1          3   0.006   0.006000  0.006000\n",
      "1        5          5   0.010   0.002000  0.008036\n",
      "2       10         13   0.026   0.002600  0.012991\n",
      "3       15         19   0.038   0.002533  0.016208\n",
      "4       20         25   0.050   0.002500  0.019039]\n",
      "CPU times: user 1h 22min 28s, sys: 7min 7s, total: 1h 29min 35s\n",
      "Wall time: 43min 1s\n"
     ]
    }
   ],
   "source": [
    "%%time\n",
    "NeuMF_val_metrics = NCF.train_model('NeuMF', samples, train_set, val_set, store_path=f'../weights/NeuMF_weights_{run_num}/NeuMF_weights', verbose=1) "
   ]
  },
  {
   "cell_type": "markdown",
   "metadata": {},
   "source": [
    "---\n",
    "## Evaluation"
   ]
  },
  {
   "cell_type": "code",
   "execution_count": 22,
   "metadata": {},
   "outputs": [],
   "source": [
    "steps = 5\n",
    "rank_at = 20\n",
    "sample_len = 100"
   ]
  },
  {
   "cell_type": "code",
   "execution_count": 37,
   "metadata": {},
   "outputs": [],
   "source": [
    "run_num = 'am_40k_nolf_8'\n",
    "# run_num = 'am_40k_nolf_16'"
   ]
  },
  {
   "cell_type": "code",
   "execution_count": 24,
   "metadata": {},
   "outputs": [
    {
     "data": {
      "text/plain": [
       "<tensorflow.python.training.tracking.util.CheckpointLoadStatus at 0x7f4bd8bbabe0>"
      ]
     },
     "execution_count": 24,
     "metadata": {},
     "output_type": "execute_result"
    }
   ],
   "source": [
    "NCF.NeuMF.load_weights(f'../weights/NeuMF_weights_{run_num}/NeuMF_weights').expect_partial()\n",
    "# NCF.GMF.load_weights(f'../weights/GMF_weights_{run_num}/GMF_weights').expect_partial()\n",
    "# NCF.MLP.load_weights(f'../weights/MLP_weights_{run_num}/MLP_weights').expect_partial()"
   ]
  },
  {
   "cell_type": "markdown",
   "metadata": {},
   "source": [
    "---\n",
    "## GMF"
   ]
  },
  {
   "cell_type": "markdown",
   "metadata": {},
   "source": [
    "### Full set scores"
   ]
  },
  {
   "cell_type": "code",
   "execution_count": 49,
   "metadata": {},
   "outputs": [
    {
     "name": "stderr",
     "output_type": "stream",
     "text": [
      "  1% |                                                                        |\r"
     ]
    },
    {
     "ename": "KeyboardInterrupt",
     "evalue": "",
     "output_type": "error",
     "traceback": [
      "\u001b[0;31m---------------------------------------------------------------------------\u001b[0m",
      "\u001b[0;31mKeyboardInterrupt\u001b[0m                         Traceback (most recent call last)",
      "\u001b[0;32m<timed exec>\u001b[0m in \u001b[0;36m<module>\u001b[0;34m\u001b[0m\n",
      "\u001b[0;32m/storage/Robin/recommender_systems/NCF.py\u001b[0m in \u001b[0;36mget_predictions\u001b[0;34m(self, name, test_set, rank_at)\u001b[0m\n\u001b[1;32m    400\u001b[0m             \u001b[0muser_array\u001b[0m \u001b[0;34m=\u001b[0m \u001b[0mnp\u001b[0m\u001b[0;34m.\u001b[0m\u001b[0mfull\u001b[0m\u001b[0;34m(\u001b[0m\u001b[0mself\u001b[0m\u001b[0;34m.\u001b[0m\u001b[0mtotal_items\u001b[0m\u001b[0;34m,\u001b[0m \u001b[0mu\u001b[0m\u001b[0;34m,\u001b[0m \u001b[0mdtype\u001b[0m\u001b[0;34m=\u001b[0m\u001b[0;34m'int32'\u001b[0m\u001b[0;34m)\u001b[0m\u001b[0;34m\u001b[0m\u001b[0;34m\u001b[0m\u001b[0m\n\u001b[1;32m    401\u001b[0m             \u001b[0mtotal_sample\u001b[0m \u001b[0;34m=\u001b[0m \u001b[0mnp\u001b[0m\u001b[0;34m.\u001b[0m\u001b[0marange\u001b[0m\u001b[0;34m(\u001b[0m\u001b[0mself\u001b[0m\u001b[0;34m.\u001b[0m\u001b[0mtotal_items\u001b[0m\u001b[0;34m)\u001b[0m\u001b[0;34m\u001b[0m\u001b[0;34m\u001b[0m\u001b[0m\n\u001b[0;32m--> 402\u001b[0;31m             \u001b[0mpreds\u001b[0m \u001b[0;34m=\u001b[0m \u001b[0mnp\u001b[0m\u001b[0;34m.\u001b[0m\u001b[0mhstack\u001b[0m\u001b[0;34m(\u001b[0m\u001b[0mmodel\u001b[0m\u001b[0;34m.\u001b[0m\u001b[0mpredict\u001b[0m\u001b[0;34m(\u001b[0m\u001b[0;34m[\u001b[0m\u001b[0muser_array\u001b[0m\u001b[0;34m,\u001b[0m \u001b[0mtotal_sample\u001b[0m\u001b[0;34m]\u001b[0m\u001b[0;34m,\u001b[0m \u001b[0mbatch_size\u001b[0m\u001b[0;34m=\u001b[0m\u001b[0mself\u001b[0m\u001b[0;34m.\u001b[0m\u001b[0mtotal_items\u001b[0m\u001b[0;34m,\u001b[0m \u001b[0mverbose\u001b[0m\u001b[0;34m=\u001b[0m\u001b[0;36m0\u001b[0m\u001b[0;34m)\u001b[0m\u001b[0;34m)\u001b[0m\u001b[0;34m\u001b[0m\u001b[0;34m\u001b[0m\u001b[0m\n\u001b[0m\u001b[1;32m    403\u001b[0m             \u001b[0mids\u001b[0m \u001b[0;34m=\u001b[0m \u001b[0mnp\u001b[0m\u001b[0;34m.\u001b[0m\u001b[0margpartition\u001b[0m\u001b[0;34m(\u001b[0m\u001b[0mpreds\u001b[0m\u001b[0;34m,\u001b[0m \u001b[0;34m-\u001b[0m\u001b[0mrank_at\u001b[0m\u001b[0;34m)\u001b[0m\u001b[0;34m[\u001b[0m\u001b[0;34m-\u001b[0m\u001b[0mrank_at\u001b[0m\u001b[0;34m:\u001b[0m\u001b[0;34m]\u001b[0m\u001b[0;34m\u001b[0m\u001b[0;34m\u001b[0m\u001b[0m\n\u001b[1;32m    404\u001b[0m             \u001b[0mbest_ids\u001b[0m \u001b[0;34m=\u001b[0m \u001b[0mnp\u001b[0m\u001b[0;34m.\u001b[0m\u001b[0margsort\u001b[0m\u001b[0;34m(\u001b[0m\u001b[0mpreds\u001b[0m\u001b[0;34m[\u001b[0m\u001b[0mids\u001b[0m\u001b[0;34m]\u001b[0m\u001b[0;34m)\u001b[0m\u001b[0;34m[\u001b[0m\u001b[0;34m:\u001b[0m\u001b[0;34m:\u001b[0m\u001b[0;34m-\u001b[0m\u001b[0;36m1\u001b[0m\u001b[0;34m]\u001b[0m\u001b[0;34m\u001b[0m\u001b[0;34m\u001b[0m\u001b[0m\n",
      "\u001b[0;32m/usr/local/lib/python3.6/dist-packages/tensorflow_core/python/keras/engine/training.py\u001b[0m in \u001b[0;36mpredict\u001b[0;34m(self, x, batch_size, verbose, steps, callbacks, max_queue_size, workers, use_multiprocessing)\u001b[0m\n\u001b[1;32m   1011\u001b[0m         \u001b[0mmax_queue_size\u001b[0m\u001b[0;34m=\u001b[0m\u001b[0mmax_queue_size\u001b[0m\u001b[0;34m,\u001b[0m\u001b[0;34m\u001b[0m\u001b[0;34m\u001b[0m\u001b[0m\n\u001b[1;32m   1012\u001b[0m         \u001b[0mworkers\u001b[0m\u001b[0;34m=\u001b[0m\u001b[0mworkers\u001b[0m\u001b[0;34m,\u001b[0m\u001b[0;34m\u001b[0m\u001b[0;34m\u001b[0m\u001b[0m\n\u001b[0;32m-> 1013\u001b[0;31m         use_multiprocessing=use_multiprocessing)\n\u001b[0m\u001b[1;32m   1014\u001b[0m \u001b[0;34m\u001b[0m\u001b[0m\n\u001b[1;32m   1015\u001b[0m   \u001b[0;32mdef\u001b[0m \u001b[0mreset_metrics\u001b[0m\u001b[0;34m(\u001b[0m\u001b[0mself\u001b[0m\u001b[0;34m)\u001b[0m\u001b[0;34m:\u001b[0m\u001b[0;34m\u001b[0m\u001b[0;34m\u001b[0m\u001b[0m\n",
      "\u001b[0;32m/usr/local/lib/python3.6/dist-packages/tensorflow_core/python/keras/engine/training_v2.py\u001b[0m in \u001b[0;36mpredict\u001b[0;34m(self, model, x, batch_size, verbose, steps, callbacks, max_queue_size, workers, use_multiprocessing, **kwargs)\u001b[0m\n\u001b[1;32m    496\u001b[0m         \u001b[0mmodel\u001b[0m\u001b[0;34m,\u001b[0m \u001b[0mModeKeys\u001b[0m\u001b[0;34m.\u001b[0m\u001b[0mPREDICT\u001b[0m\u001b[0;34m,\u001b[0m \u001b[0mx\u001b[0m\u001b[0;34m=\u001b[0m\u001b[0mx\u001b[0m\u001b[0;34m,\u001b[0m \u001b[0mbatch_size\u001b[0m\u001b[0;34m=\u001b[0m\u001b[0mbatch_size\u001b[0m\u001b[0;34m,\u001b[0m \u001b[0mverbose\u001b[0m\u001b[0;34m=\u001b[0m\u001b[0mverbose\u001b[0m\u001b[0;34m,\u001b[0m\u001b[0;34m\u001b[0m\u001b[0;34m\u001b[0m\u001b[0m\n\u001b[1;32m    497\u001b[0m         \u001b[0msteps\u001b[0m\u001b[0;34m=\u001b[0m\u001b[0msteps\u001b[0m\u001b[0;34m,\u001b[0m \u001b[0mcallbacks\u001b[0m\u001b[0;34m=\u001b[0m\u001b[0mcallbacks\u001b[0m\u001b[0;34m,\u001b[0m \u001b[0mmax_queue_size\u001b[0m\u001b[0;34m=\u001b[0m\u001b[0mmax_queue_size\u001b[0m\u001b[0;34m,\u001b[0m\u001b[0;34m\u001b[0m\u001b[0;34m\u001b[0m\u001b[0m\n\u001b[0;32m--> 498\u001b[0;31m         workers=workers, use_multiprocessing=use_multiprocessing, **kwargs)\n\u001b[0m\u001b[1;32m    499\u001b[0m \u001b[0;34m\u001b[0m\u001b[0m\n\u001b[1;32m    500\u001b[0m \u001b[0;34m\u001b[0m\u001b[0m\n",
      "\u001b[0;32m/usr/local/lib/python3.6/dist-packages/tensorflow_core/python/keras/engine/training_v2.py\u001b[0m in \u001b[0;36m_model_iteration\u001b[0;34m(self, model, mode, x, y, batch_size, verbose, sample_weight, steps, callbacks, max_queue_size, workers, use_multiprocessing, **kwargs)\u001b[0m\n\u001b[1;32m    424\u001b[0m           \u001b[0mmax_queue_size\u001b[0m\u001b[0;34m=\u001b[0m\u001b[0mmax_queue_size\u001b[0m\u001b[0;34m,\u001b[0m\u001b[0;34m\u001b[0m\u001b[0;34m\u001b[0m\u001b[0m\n\u001b[1;32m    425\u001b[0m           \u001b[0mworkers\u001b[0m\u001b[0;34m=\u001b[0m\u001b[0mworkers\u001b[0m\u001b[0;34m,\u001b[0m\u001b[0;34m\u001b[0m\u001b[0;34m\u001b[0m\u001b[0m\n\u001b[0;32m--> 426\u001b[0;31m           use_multiprocessing=use_multiprocessing)\n\u001b[0m\u001b[1;32m    427\u001b[0m       \u001b[0mtotal_samples\u001b[0m \u001b[0;34m=\u001b[0m \u001b[0m_get_total_number_of_samples\u001b[0m\u001b[0;34m(\u001b[0m\u001b[0madapter\u001b[0m\u001b[0;34m)\u001b[0m\u001b[0;34m\u001b[0m\u001b[0;34m\u001b[0m\u001b[0m\n\u001b[1;32m    428\u001b[0m       \u001b[0muse_sample\u001b[0m \u001b[0;34m=\u001b[0m \u001b[0mtotal_samples\u001b[0m \u001b[0;32mis\u001b[0m \u001b[0;32mnot\u001b[0m \u001b[0;32mNone\u001b[0m\u001b[0;34m\u001b[0m\u001b[0;34m\u001b[0m\u001b[0m\n",
      "\u001b[0;32m/usr/local/lib/python3.6/dist-packages/tensorflow_core/python/keras/engine/training_v2.py\u001b[0m in \u001b[0;36m_process_inputs\u001b[0;34m(model, mode, x, y, batch_size, epochs, sample_weights, class_weights, shuffle, steps, distribution_strategy, max_queue_size, workers, use_multiprocessing)\u001b[0m\n\u001b[1;32m    704\u001b[0m       \u001b[0mmax_queue_size\u001b[0m\u001b[0;34m=\u001b[0m\u001b[0mmax_queue_size\u001b[0m\u001b[0;34m,\u001b[0m\u001b[0;34m\u001b[0m\u001b[0;34m\u001b[0m\u001b[0m\n\u001b[1;32m    705\u001b[0m       \u001b[0mworkers\u001b[0m\u001b[0;34m=\u001b[0m\u001b[0mworkers\u001b[0m\u001b[0;34m,\u001b[0m\u001b[0;34m\u001b[0m\u001b[0;34m\u001b[0m\u001b[0m\n\u001b[0;32m--> 706\u001b[0;31m       use_multiprocessing=use_multiprocessing)\n\u001b[0m\u001b[1;32m    707\u001b[0m \u001b[0;34m\u001b[0m\u001b[0m\n\u001b[1;32m    708\u001b[0m   \u001b[0;32mreturn\u001b[0m \u001b[0madapter\u001b[0m\u001b[0;34m\u001b[0m\u001b[0;34m\u001b[0m\u001b[0m\n",
      "\u001b[0;32m/usr/local/lib/python3.6/dist-packages/tensorflow_core/python/keras/engine/data_adapter.py\u001b[0m in \u001b[0;36m__init__\u001b[0;34m(self, x, y, sample_weights, sample_weight_modes, batch_size, epochs, steps, shuffle, **kwargs)\u001b[0m\n\u001b[1;32m    319\u001b[0m     \u001b[0;31m# trigger the next permutation. On the other hand, too many simultaneous\u001b[0m\u001b[0;34m\u001b[0m\u001b[0;34m\u001b[0m\u001b[0;34m\u001b[0m\u001b[0m\n\u001b[1;32m    320\u001b[0m     \u001b[0;31m# shuffles can contend on a hardware level and degrade all performance.\u001b[0m\u001b[0;34m\u001b[0m\u001b[0;34m\u001b[0m\u001b[0;34m\u001b[0m\u001b[0m\n\u001b[0;32m--> 321\u001b[0;31m     \u001b[0mindices_dataset\u001b[0m \u001b[0;34m=\u001b[0m \u001b[0mindices_dataset\u001b[0m\u001b[0;34m.\u001b[0m\u001b[0mmap\u001b[0m\u001b[0;34m(\u001b[0m\u001b[0mpermutation\u001b[0m\u001b[0;34m)\u001b[0m\u001b[0;34m.\u001b[0m\u001b[0mprefetch\u001b[0m\u001b[0;34m(\u001b[0m\u001b[0;36m1\u001b[0m\u001b[0;34m)\u001b[0m\u001b[0;34m\u001b[0m\u001b[0;34m\u001b[0m\u001b[0m\n\u001b[0m\u001b[1;32m    322\u001b[0m \u001b[0;34m\u001b[0m\u001b[0m\n\u001b[1;32m    323\u001b[0m     \u001b[0;32mdef\u001b[0m \u001b[0mslice_batch_indices\u001b[0m\u001b[0;34m(\u001b[0m\u001b[0mindices\u001b[0m\u001b[0;34m)\u001b[0m\u001b[0;34m:\u001b[0m\u001b[0;34m\u001b[0m\u001b[0;34m\u001b[0m\u001b[0m\n",
      "\u001b[0;32m/usr/local/lib/python3.6/dist-packages/tensorflow_core/python/data/ops/dataset_ops.py\u001b[0m in \u001b[0;36mmap\u001b[0;34m(self, map_func, num_parallel_calls)\u001b[0m\n\u001b[1;32m   1586\u001b[0m     \"\"\"\n\u001b[1;32m   1587\u001b[0m     \u001b[0;32mif\u001b[0m \u001b[0mnum_parallel_calls\u001b[0m \u001b[0;32mis\u001b[0m \u001b[0;32mNone\u001b[0m\u001b[0;34m:\u001b[0m\u001b[0;34m\u001b[0m\u001b[0;34m\u001b[0m\u001b[0m\n\u001b[0;32m-> 1588\u001b[0;31m       \u001b[0;32mreturn\u001b[0m \u001b[0mMapDataset\u001b[0m\u001b[0;34m(\u001b[0m\u001b[0mself\u001b[0m\u001b[0;34m,\u001b[0m \u001b[0mmap_func\u001b[0m\u001b[0;34m,\u001b[0m \u001b[0mpreserve_cardinality\u001b[0m\u001b[0;34m=\u001b[0m\u001b[0;32mTrue\u001b[0m\u001b[0;34m)\u001b[0m\u001b[0;34m\u001b[0m\u001b[0;34m\u001b[0m\u001b[0m\n\u001b[0m\u001b[1;32m   1589\u001b[0m     \u001b[0;32melse\u001b[0m\u001b[0;34m:\u001b[0m\u001b[0;34m\u001b[0m\u001b[0;34m\u001b[0m\u001b[0m\n\u001b[1;32m   1590\u001b[0m       return ParallelMapDataset(\n",
      "\u001b[0;32m/usr/local/lib/python3.6/dist-packages/tensorflow_core/python/data/ops/dataset_ops.py\u001b[0m in \u001b[0;36m__init__\u001b[0;34m(self, input_dataset, map_func, use_inter_op_parallelism, preserve_cardinality, use_legacy_function)\u001b[0m\n\u001b[1;32m   3886\u001b[0m         \u001b[0mself\u001b[0m\u001b[0;34m.\u001b[0m\u001b[0m_transformation_name\u001b[0m\u001b[0;34m(\u001b[0m\u001b[0;34m)\u001b[0m\u001b[0;34m,\u001b[0m\u001b[0;34m\u001b[0m\u001b[0;34m\u001b[0m\u001b[0m\n\u001b[1;32m   3887\u001b[0m         \u001b[0mdataset\u001b[0m\u001b[0;34m=\u001b[0m\u001b[0minput_dataset\u001b[0m\u001b[0;34m,\u001b[0m\u001b[0;34m\u001b[0m\u001b[0;34m\u001b[0m\u001b[0m\n\u001b[0;32m-> 3888\u001b[0;31m         use_legacy_function=use_legacy_function)\n\u001b[0m\u001b[1;32m   3889\u001b[0m     variant_tensor = gen_dataset_ops.map_dataset(\n\u001b[1;32m   3890\u001b[0m         \u001b[0minput_dataset\u001b[0m\u001b[0;34m.\u001b[0m\u001b[0m_variant_tensor\u001b[0m\u001b[0;34m,\u001b[0m  \u001b[0;31m# pylint: disable=protected-access\u001b[0m\u001b[0;34m\u001b[0m\u001b[0;34m\u001b[0m\u001b[0m\n",
      "\u001b[0;32m/usr/local/lib/python3.6/dist-packages/tensorflow_core/python/data/ops/dataset_ops.py\u001b[0m in \u001b[0;36m__init__\u001b[0;34m(self, func, transformation_name, dataset, input_classes, input_shapes, input_types, input_structure, add_to_graph, use_legacy_function, defun_kwargs)\u001b[0m\n\u001b[1;32m   3145\u001b[0m       \u001b[0;32mwith\u001b[0m \u001b[0mtracking\u001b[0m\u001b[0;34m.\u001b[0m\u001b[0mresource_tracker_scope\u001b[0m\u001b[0;34m(\u001b[0m\u001b[0mresource_tracker\u001b[0m\u001b[0;34m)\u001b[0m\u001b[0;34m:\u001b[0m\u001b[0;34m\u001b[0m\u001b[0;34m\u001b[0m\u001b[0m\n\u001b[1;32m   3146\u001b[0m         \u001b[0;31m# TODO(b/141462134): Switch to using garbage collection.\u001b[0m\u001b[0;34m\u001b[0m\u001b[0;34m\u001b[0m\u001b[0;34m\u001b[0m\u001b[0m\n\u001b[0;32m-> 3147\u001b[0;31m         \u001b[0mself\u001b[0m\u001b[0;34m.\u001b[0m\u001b[0m_function\u001b[0m \u001b[0;34m=\u001b[0m \u001b[0mwrapper_fn\u001b[0m\u001b[0;34m.\u001b[0m\u001b[0m_get_concrete_function_internal\u001b[0m\u001b[0;34m(\u001b[0m\u001b[0;34m)\u001b[0m\u001b[0;34m\u001b[0m\u001b[0;34m\u001b[0m\u001b[0m\n\u001b[0m\u001b[1;32m   3148\u001b[0m \u001b[0;34m\u001b[0m\u001b[0m\n\u001b[1;32m   3149\u001b[0m         \u001b[0;32mif\u001b[0m \u001b[0madd_to_graph\u001b[0m\u001b[0;34m:\u001b[0m\u001b[0;34m\u001b[0m\u001b[0;34m\u001b[0m\u001b[0m\n",
      "\u001b[0;32m/usr/local/lib/python3.6/dist-packages/tensorflow_core/python/eager/function.py\u001b[0m in \u001b[0;36m_get_concrete_function_internal\u001b[0;34m(self, *args, **kwargs)\u001b[0m\n\u001b[1;32m   2393\u001b[0m     \u001b[0;34m\"\"\"Bypasses error checking when getting a graph function.\"\"\"\u001b[0m\u001b[0;34m\u001b[0m\u001b[0;34m\u001b[0m\u001b[0m\n\u001b[1;32m   2394\u001b[0m     graph_function = self._get_concrete_function_internal_garbage_collected(\n\u001b[0;32m-> 2395\u001b[0;31m         *args, **kwargs)\n\u001b[0m\u001b[1;32m   2396\u001b[0m     \u001b[0;31m# We're returning this concrete function to someone, and they may keep a\u001b[0m\u001b[0;34m\u001b[0m\u001b[0;34m\u001b[0m\u001b[0;34m\u001b[0m\u001b[0m\n\u001b[1;32m   2397\u001b[0m     \u001b[0;31m# reference to the FuncGraph without keeping a reference to the\u001b[0m\u001b[0;34m\u001b[0m\u001b[0;34m\u001b[0m\u001b[0;34m\u001b[0m\u001b[0m\n",
      "\u001b[0;32m/usr/local/lib/python3.6/dist-packages/tensorflow_core/python/eager/function.py\u001b[0m in \u001b[0;36m_get_concrete_function_internal_garbage_collected\u001b[0;34m(self, *args, **kwargs)\u001b[0m\n\u001b[1;32m   2387\u001b[0m       \u001b[0margs\u001b[0m\u001b[0;34m,\u001b[0m \u001b[0mkwargs\u001b[0m \u001b[0;34m=\u001b[0m \u001b[0;32mNone\u001b[0m\u001b[0;34m,\u001b[0m \u001b[0;32mNone\u001b[0m\u001b[0;34m\u001b[0m\u001b[0;34m\u001b[0m\u001b[0m\n\u001b[1;32m   2388\u001b[0m     \u001b[0;32mwith\u001b[0m \u001b[0mself\u001b[0m\u001b[0;34m.\u001b[0m\u001b[0m_lock\u001b[0m\u001b[0;34m:\u001b[0m\u001b[0;34m\u001b[0m\u001b[0;34m\u001b[0m\u001b[0m\n\u001b[0;32m-> 2389\u001b[0;31m       \u001b[0mgraph_function\u001b[0m\u001b[0;34m,\u001b[0m \u001b[0m_\u001b[0m\u001b[0;34m,\u001b[0m \u001b[0m_\u001b[0m \u001b[0;34m=\u001b[0m \u001b[0mself\u001b[0m\u001b[0;34m.\u001b[0m\u001b[0m_maybe_define_function\u001b[0m\u001b[0;34m(\u001b[0m\u001b[0margs\u001b[0m\u001b[0;34m,\u001b[0m \u001b[0mkwargs\u001b[0m\u001b[0;34m)\u001b[0m\u001b[0;34m\u001b[0m\u001b[0;34m\u001b[0m\u001b[0m\n\u001b[0m\u001b[1;32m   2390\u001b[0m     \u001b[0;32mreturn\u001b[0m \u001b[0mgraph_function\u001b[0m\u001b[0;34m\u001b[0m\u001b[0;34m\u001b[0m\u001b[0m\n\u001b[1;32m   2391\u001b[0m \u001b[0;34m\u001b[0m\u001b[0m\n",
      "\u001b[0;32m/usr/local/lib/python3.6/dist-packages/tensorflow_core/python/eager/function.py\u001b[0m in \u001b[0;36m_maybe_define_function\u001b[0;34m(self, args, kwargs)\u001b[0m\n\u001b[1;32m   2701\u001b[0m \u001b[0;34m\u001b[0m\u001b[0m\n\u001b[1;32m   2702\u001b[0m       \u001b[0mself\u001b[0m\u001b[0;34m.\u001b[0m\u001b[0m_function_cache\u001b[0m\u001b[0;34m.\u001b[0m\u001b[0mmissed\u001b[0m\u001b[0;34m.\u001b[0m\u001b[0madd\u001b[0m\u001b[0;34m(\u001b[0m\u001b[0mcall_context_key\u001b[0m\u001b[0;34m)\u001b[0m\u001b[0;34m\u001b[0m\u001b[0;34m\u001b[0m\u001b[0m\n\u001b[0;32m-> 2703\u001b[0;31m       \u001b[0mgraph_function\u001b[0m \u001b[0;34m=\u001b[0m \u001b[0mself\u001b[0m\u001b[0;34m.\u001b[0m\u001b[0m_create_graph_function\u001b[0m\u001b[0;34m(\u001b[0m\u001b[0margs\u001b[0m\u001b[0;34m,\u001b[0m \u001b[0mkwargs\u001b[0m\u001b[0;34m)\u001b[0m\u001b[0;34m\u001b[0m\u001b[0;34m\u001b[0m\u001b[0m\n\u001b[0m\u001b[1;32m   2704\u001b[0m       \u001b[0mself\u001b[0m\u001b[0;34m.\u001b[0m\u001b[0m_function_cache\u001b[0m\u001b[0;34m.\u001b[0m\u001b[0mprimary\u001b[0m\u001b[0;34m[\u001b[0m\u001b[0mcache_key\u001b[0m\u001b[0;34m]\u001b[0m \u001b[0;34m=\u001b[0m \u001b[0mgraph_function\u001b[0m\u001b[0;34m\u001b[0m\u001b[0;34m\u001b[0m\u001b[0m\n\u001b[1;32m   2705\u001b[0m       \u001b[0;32mreturn\u001b[0m \u001b[0mgraph_function\u001b[0m\u001b[0;34m,\u001b[0m \u001b[0margs\u001b[0m\u001b[0;34m,\u001b[0m \u001b[0mkwargs\u001b[0m\u001b[0;34m\u001b[0m\u001b[0;34m\u001b[0m\u001b[0m\n",
      "\u001b[0;32m/usr/local/lib/python3.6/dist-packages/tensorflow_core/python/eager/function.py\u001b[0m in \u001b[0;36m_create_graph_function\u001b[0;34m(self, args, kwargs, override_flat_arg_shapes)\u001b[0m\n\u001b[1;32m   2591\u001b[0m             \u001b[0marg_names\u001b[0m\u001b[0;34m=\u001b[0m\u001b[0marg_names\u001b[0m\u001b[0;34m,\u001b[0m\u001b[0;34m\u001b[0m\u001b[0;34m\u001b[0m\u001b[0m\n\u001b[1;32m   2592\u001b[0m             \u001b[0moverride_flat_arg_shapes\u001b[0m\u001b[0;34m=\u001b[0m\u001b[0moverride_flat_arg_shapes\u001b[0m\u001b[0;34m,\u001b[0m\u001b[0;34m\u001b[0m\u001b[0;34m\u001b[0m\u001b[0m\n\u001b[0;32m-> 2593\u001b[0;31m             capture_by_value=self._capture_by_value),\n\u001b[0m\u001b[1;32m   2594\u001b[0m         \u001b[0mself\u001b[0m\u001b[0;34m.\u001b[0m\u001b[0m_function_attributes\u001b[0m\u001b[0;34m,\u001b[0m\u001b[0;34m\u001b[0m\u001b[0;34m\u001b[0m\u001b[0m\n\u001b[1;32m   2595\u001b[0m         \u001b[0;31m# Tell the ConcreteFunction to clean up its graph once it goes out of\u001b[0m\u001b[0;34m\u001b[0m\u001b[0;34m\u001b[0m\u001b[0;34m\u001b[0m\u001b[0m\n",
      "\u001b[0;32m/usr/local/lib/python3.6/dist-packages/tensorflow_core/python/framework/func_graph.py\u001b[0m in \u001b[0;36mfunc_graph_from_py_func\u001b[0;34m(name, python_func, args, kwargs, signature, func_graph, autograph, autograph_options, add_control_dependencies, arg_names, op_return_value, collections, capture_by_value, override_flat_arg_shapes)\u001b[0m\n\u001b[1;32m    976\u001b[0m                                           converted_func)\n\u001b[1;32m    977\u001b[0m \u001b[0;34m\u001b[0m\u001b[0m\n\u001b[0;32m--> 978\u001b[0;31m       \u001b[0mfunc_outputs\u001b[0m \u001b[0;34m=\u001b[0m \u001b[0mpython_func\u001b[0m\u001b[0;34m(\u001b[0m\u001b[0;34m*\u001b[0m\u001b[0mfunc_args\u001b[0m\u001b[0;34m,\u001b[0m \u001b[0;34m**\u001b[0m\u001b[0mfunc_kwargs\u001b[0m\u001b[0;34m)\u001b[0m\u001b[0;34m\u001b[0m\u001b[0;34m\u001b[0m\u001b[0m\n\u001b[0m\u001b[1;32m    979\u001b[0m \u001b[0;34m\u001b[0m\u001b[0m\n\u001b[1;32m    980\u001b[0m       \u001b[0;31m# invariant: `func_outputs` contains only Tensors, CompositeTensors,\u001b[0m\u001b[0;34m\u001b[0m\u001b[0;34m\u001b[0m\u001b[0;34m\u001b[0m\u001b[0m\n",
      "\u001b[0;32m/usr/local/lib/python3.6/dist-packages/tensorflow_core/python/data/ops/dataset_ops.py\u001b[0m in \u001b[0;36mwrapper_fn\u001b[0;34m(*args)\u001b[0m\n\u001b[1;32m   3138\u001b[0m           attributes=defun_kwargs)\n\u001b[1;32m   3139\u001b[0m       \u001b[0;32mdef\u001b[0m \u001b[0mwrapper_fn\u001b[0m\u001b[0;34m(\u001b[0m\u001b[0;34m*\u001b[0m\u001b[0margs\u001b[0m\u001b[0;34m)\u001b[0m\u001b[0;34m:\u001b[0m  \u001b[0;31m# pylint: disable=missing-docstring\u001b[0m\u001b[0;34m\u001b[0m\u001b[0;34m\u001b[0m\u001b[0m\n\u001b[0;32m-> 3140\u001b[0;31m         \u001b[0mret\u001b[0m \u001b[0;34m=\u001b[0m \u001b[0m_wrapper_helper\u001b[0m\u001b[0;34m(\u001b[0m\u001b[0;34m*\u001b[0m\u001b[0margs\u001b[0m\u001b[0;34m)\u001b[0m\u001b[0;34m\u001b[0m\u001b[0;34m\u001b[0m\u001b[0m\n\u001b[0m\u001b[1;32m   3141\u001b[0m         \u001b[0mret\u001b[0m \u001b[0;34m=\u001b[0m \u001b[0mstructure\u001b[0m\u001b[0;34m.\u001b[0m\u001b[0mto_tensor_list\u001b[0m\u001b[0;34m(\u001b[0m\u001b[0mself\u001b[0m\u001b[0;34m.\u001b[0m\u001b[0m_output_structure\u001b[0m\u001b[0;34m,\u001b[0m \u001b[0mret\u001b[0m\u001b[0;34m)\u001b[0m\u001b[0;34m\u001b[0m\u001b[0;34m\u001b[0m\u001b[0m\n\u001b[1;32m   3142\u001b[0m         \u001b[0;32mreturn\u001b[0m \u001b[0;34m[\u001b[0m\u001b[0mops\u001b[0m\u001b[0;34m.\u001b[0m\u001b[0mconvert_to_tensor\u001b[0m\u001b[0;34m(\u001b[0m\u001b[0mt\u001b[0m\u001b[0;34m)\u001b[0m \u001b[0;32mfor\u001b[0m \u001b[0mt\u001b[0m \u001b[0;32min\u001b[0m \u001b[0mret\u001b[0m\u001b[0;34m]\u001b[0m\u001b[0;34m\u001b[0m\u001b[0;34m\u001b[0m\u001b[0m\n",
      "\u001b[0;32m/usr/local/lib/python3.6/dist-packages/tensorflow_core/python/data/ops/dataset_ops.py\u001b[0m in \u001b[0;36m_wrapper_helper\u001b[0;34m(*args)\u001b[0m\n\u001b[1;32m   3080\u001b[0m         \u001b[0mnested_args\u001b[0m \u001b[0;34m=\u001b[0m \u001b[0;34m(\u001b[0m\u001b[0mnested_args\u001b[0m\u001b[0;34m,\u001b[0m\u001b[0;34m)\u001b[0m\u001b[0;34m\u001b[0m\u001b[0;34m\u001b[0m\u001b[0m\n\u001b[1;32m   3081\u001b[0m \u001b[0;34m\u001b[0m\u001b[0m\n\u001b[0;32m-> 3082\u001b[0;31m       \u001b[0mret\u001b[0m \u001b[0;34m=\u001b[0m \u001b[0mautograph\u001b[0m\u001b[0;34m.\u001b[0m\u001b[0mtf_convert\u001b[0m\u001b[0;34m(\u001b[0m\u001b[0mfunc\u001b[0m\u001b[0;34m,\u001b[0m \u001b[0mag_ctx\u001b[0m\u001b[0;34m)\u001b[0m\u001b[0;34m(\u001b[0m\u001b[0;34m*\u001b[0m\u001b[0mnested_args\u001b[0m\u001b[0;34m)\u001b[0m\u001b[0;34m\u001b[0m\u001b[0;34m\u001b[0m\u001b[0m\n\u001b[0m\u001b[1;32m   3083\u001b[0m       \u001b[0;31m# If `func` returns a list of tensors, `nest.flatten()` and\u001b[0m\u001b[0;34m\u001b[0m\u001b[0;34m\u001b[0m\u001b[0;34m\u001b[0m\u001b[0m\n\u001b[1;32m   3084\u001b[0m       \u001b[0;31m# `ops.convert_to_tensor()` would conspire to attempt to stack\u001b[0m\u001b[0;34m\u001b[0m\u001b[0;34m\u001b[0m\u001b[0;34m\u001b[0m\u001b[0m\n",
      "\u001b[0;32m/usr/local/lib/python3.6/dist-packages/tensorflow_core/python/autograph/impl/api.py\u001b[0m in \u001b[0;36mwrapper\u001b[0;34m(*args, **kwargs)\u001b[0m\n\u001b[1;32m    232\u001b[0m           optional_features=optional_features)\n\u001b[1;32m    233\u001b[0m       \u001b[0;32mtry\u001b[0m\u001b[0;34m:\u001b[0m\u001b[0;34m\u001b[0m\u001b[0;34m\u001b[0m\u001b[0m\n\u001b[0;32m--> 234\u001b[0;31m         \u001b[0;32mreturn\u001b[0m \u001b[0mconverted_call\u001b[0m\u001b[0;34m(\u001b[0m\u001b[0mf\u001b[0m\u001b[0;34m,\u001b[0m \u001b[0margs\u001b[0m\u001b[0;34m,\u001b[0m \u001b[0mkwargs\u001b[0m\u001b[0;34m,\u001b[0m \u001b[0moptions\u001b[0m\u001b[0;34m=\u001b[0m\u001b[0moptions\u001b[0m\u001b[0;34m)\u001b[0m\u001b[0;34m\u001b[0m\u001b[0;34m\u001b[0m\u001b[0m\n\u001b[0m\u001b[1;32m    235\u001b[0m       \u001b[0;32mexcept\u001b[0m \u001b[0mException\u001b[0m \u001b[0;32mas\u001b[0m \u001b[0me\u001b[0m\u001b[0;34m:\u001b[0m  \u001b[0;31m# pylint:disable=broad-except\u001b[0m\u001b[0;34m\u001b[0m\u001b[0;34m\u001b[0m\u001b[0m\n\u001b[1;32m    236\u001b[0m         \u001b[0;32mif\u001b[0m \u001b[0mhasattr\u001b[0m\u001b[0;34m(\u001b[0m\u001b[0me\u001b[0m\u001b[0;34m,\u001b[0m \u001b[0;34m'ag_error_metadata'\u001b[0m\u001b[0;34m)\u001b[0m\u001b[0;34m:\u001b[0m\u001b[0;34m\u001b[0m\u001b[0;34m\u001b[0m\u001b[0m\n",
      "\u001b[0;32m/usr/local/lib/python3.6/dist-packages/tensorflow_core/python/autograph/impl/api.py\u001b[0m in \u001b[0;36mconverted_call\u001b[0;34m(f, args, kwargs, caller_fn_scope, options)\u001b[0m\n\u001b[1;32m    457\u001b[0m \u001b[0;34m\u001b[0m\u001b[0m\n\u001b[1;32m    458\u001b[0m   \u001b[0;32mif\u001b[0m \u001b[0;32mnot\u001b[0m \u001b[0moptions\u001b[0m\u001b[0;34m.\u001b[0m\u001b[0muser_requested\u001b[0m \u001b[0;32mand\u001b[0m \u001b[0mconversion\u001b[0m\u001b[0;34m.\u001b[0m\u001b[0mis_whitelisted_for_graph\u001b[0m\u001b[0;34m(\u001b[0m\u001b[0mf\u001b[0m\u001b[0;34m)\u001b[0m\u001b[0;34m:\u001b[0m\u001b[0;34m\u001b[0m\u001b[0;34m\u001b[0m\u001b[0m\n\u001b[0;32m--> 459\u001b[0;31m     \u001b[0;32mreturn\u001b[0m \u001b[0m_call_unconverted\u001b[0m\u001b[0;34m(\u001b[0m\u001b[0mf\u001b[0m\u001b[0;34m,\u001b[0m \u001b[0margs\u001b[0m\u001b[0;34m,\u001b[0m \u001b[0mkwargs\u001b[0m\u001b[0;34m,\u001b[0m \u001b[0moptions\u001b[0m\u001b[0;34m)\u001b[0m\u001b[0;34m\u001b[0m\u001b[0;34m\u001b[0m\u001b[0m\n\u001b[0m\u001b[1;32m    460\u001b[0m \u001b[0;34m\u001b[0m\u001b[0m\n\u001b[1;32m    461\u001b[0m   \u001b[0;31m# internal_convert_user_code is for example turned off when issuing a dynamic\u001b[0m\u001b[0;34m\u001b[0m\u001b[0;34m\u001b[0m\u001b[0;34m\u001b[0m\u001b[0m\n",
      "\u001b[0;32m/usr/local/lib/python3.6/dist-packages/tensorflow_core/python/autograph/impl/api.py\u001b[0m in \u001b[0;36m_call_unconverted\u001b[0;34m(f, args, kwargs, options, update_cache)\u001b[0m\n\u001b[1;32m    328\u001b[0m   \u001b[0;32mtry\u001b[0m\u001b[0;34m:\u001b[0m\u001b[0;34m\u001b[0m\u001b[0;34m\u001b[0m\u001b[0m\n\u001b[1;32m    329\u001b[0m     \u001b[0;32mif\u001b[0m \u001b[0mkwargs\u001b[0m \u001b[0;32mis\u001b[0m \u001b[0;32mnot\u001b[0m \u001b[0;32mNone\u001b[0m\u001b[0;34m:\u001b[0m\u001b[0;34m\u001b[0m\u001b[0;34m\u001b[0m\u001b[0m\n\u001b[0;32m--> 330\u001b[0;31m       \u001b[0;32mreturn\u001b[0m \u001b[0mf\u001b[0m\u001b[0;34m(\u001b[0m\u001b[0;34m*\u001b[0m\u001b[0margs\u001b[0m\u001b[0;34m,\u001b[0m \u001b[0;34m**\u001b[0m\u001b[0mkwargs\u001b[0m\u001b[0;34m)\u001b[0m\u001b[0;34m\u001b[0m\u001b[0;34m\u001b[0m\u001b[0m\n\u001b[0m\u001b[1;32m    331\u001b[0m     \u001b[0;32melse\u001b[0m\u001b[0;34m:\u001b[0m\u001b[0;34m\u001b[0m\u001b[0;34m\u001b[0m\u001b[0m\n\u001b[1;32m    332\u001b[0m       \u001b[0;32mreturn\u001b[0m \u001b[0mf\u001b[0m\u001b[0;34m(\u001b[0m\u001b[0;34m*\u001b[0m\u001b[0margs\u001b[0m\u001b[0;34m)\u001b[0m\u001b[0;34m\u001b[0m\u001b[0;34m\u001b[0m\u001b[0m\n",
      "\u001b[0;32m/usr/local/lib/python3.6/dist-packages/tensorflow_core/python/keras/engine/data_adapter.py\u001b[0m in \u001b[0;36mpermutation\u001b[0;34m(_)\u001b[0m\n\u001b[1;32m    310\u001b[0m       \u001b[0;31m# than reusing the same range Tensor. (presumably because of buffer\u001b[0m\u001b[0;34m\u001b[0m\u001b[0;34m\u001b[0m\u001b[0;34m\u001b[0m\u001b[0m\n\u001b[1;32m    311\u001b[0m       \u001b[0;31m# forwarding.)\u001b[0m\u001b[0;34m\u001b[0m\u001b[0;34m\u001b[0m\u001b[0;34m\u001b[0m\u001b[0m\n\u001b[0;32m--> 312\u001b[0;31m       \u001b[0mindices\u001b[0m \u001b[0;34m=\u001b[0m \u001b[0mmath_ops\u001b[0m\u001b[0;34m.\u001b[0m\u001b[0mrange\u001b[0m\u001b[0;34m(\u001b[0m\u001b[0mnum_samples\u001b[0m\u001b[0;34m,\u001b[0m \u001b[0mdtype\u001b[0m\u001b[0;34m=\u001b[0m\u001b[0mdtypes\u001b[0m\u001b[0;34m.\u001b[0m\u001b[0mint64\u001b[0m\u001b[0;34m)\u001b[0m\u001b[0;34m\u001b[0m\u001b[0;34m\u001b[0m\u001b[0m\n\u001b[0m\u001b[1;32m    313\u001b[0m       \u001b[0;32mif\u001b[0m \u001b[0mshuffle\u001b[0m \u001b[0;32mand\u001b[0m \u001b[0mshuffle\u001b[0m \u001b[0;34m!=\u001b[0m \u001b[0;34m\"batch\"\u001b[0m\u001b[0;34m:\u001b[0m\u001b[0;34m\u001b[0m\u001b[0;34m\u001b[0m\u001b[0m\n\u001b[1;32m    314\u001b[0m         \u001b[0mindices\u001b[0m \u001b[0;34m=\u001b[0m \u001b[0mrandom_ops\u001b[0m\u001b[0;34m.\u001b[0m\u001b[0mrandom_shuffle\u001b[0m\u001b[0;34m(\u001b[0m\u001b[0mindices\u001b[0m\u001b[0;34m)\u001b[0m\u001b[0;34m\u001b[0m\u001b[0;34m\u001b[0m\u001b[0m\n",
      "\u001b[0;32m/usr/local/lib/python3.6/dist-packages/tensorflow_core/python/ops/math_ops.py\u001b[0m in \u001b[0;36mrange\u001b[0;34m(start, limit, delta, dtype, name)\u001b[0m\n\u001b[1;32m   1427\u001b[0m \u001b[0;34m\u001b[0m\u001b[0m\n\u001b[1;32m   1428\u001b[0m   \u001b[0;32mwith\u001b[0m \u001b[0mops\u001b[0m\u001b[0;34m.\u001b[0m\u001b[0mname_scope\u001b[0m\u001b[0;34m(\u001b[0m\u001b[0mname\u001b[0m\u001b[0;34m,\u001b[0m \u001b[0;34m\"Range\"\u001b[0m\u001b[0;34m,\u001b[0m \u001b[0;34m[\u001b[0m\u001b[0mstart\u001b[0m\u001b[0;34m,\u001b[0m \u001b[0mlimit\u001b[0m\u001b[0;34m,\u001b[0m \u001b[0mdelta\u001b[0m\u001b[0;34m]\u001b[0m\u001b[0;34m)\u001b[0m \u001b[0;32mas\u001b[0m \u001b[0mname\u001b[0m\u001b[0;34m:\u001b[0m\u001b[0;34m\u001b[0m\u001b[0;34m\u001b[0m\u001b[0m\n\u001b[0;32m-> 1429\u001b[0;31m     \u001b[0mstart\u001b[0m \u001b[0;34m=\u001b[0m \u001b[0mops\u001b[0m\u001b[0;34m.\u001b[0m\u001b[0mconvert_to_tensor\u001b[0m\u001b[0;34m(\u001b[0m\u001b[0mstart\u001b[0m\u001b[0;34m,\u001b[0m \u001b[0mdtype\u001b[0m\u001b[0;34m=\u001b[0m\u001b[0mdtype\u001b[0m\u001b[0;34m,\u001b[0m \u001b[0mname\u001b[0m\u001b[0;34m=\u001b[0m\u001b[0;34m\"start\"\u001b[0m\u001b[0;34m)\u001b[0m\u001b[0;34m\u001b[0m\u001b[0;34m\u001b[0m\u001b[0m\n\u001b[0m\u001b[1;32m   1430\u001b[0m     \u001b[0mlimit\u001b[0m \u001b[0;34m=\u001b[0m \u001b[0mops\u001b[0m\u001b[0;34m.\u001b[0m\u001b[0mconvert_to_tensor\u001b[0m\u001b[0;34m(\u001b[0m\u001b[0mlimit\u001b[0m\u001b[0;34m,\u001b[0m \u001b[0mdtype\u001b[0m\u001b[0;34m=\u001b[0m\u001b[0mdtype\u001b[0m\u001b[0;34m,\u001b[0m \u001b[0mname\u001b[0m\u001b[0;34m=\u001b[0m\u001b[0;34m\"limit\"\u001b[0m\u001b[0;34m)\u001b[0m\u001b[0;34m\u001b[0m\u001b[0;34m\u001b[0m\u001b[0m\n\u001b[1;32m   1431\u001b[0m     \u001b[0mdelta\u001b[0m \u001b[0;34m=\u001b[0m \u001b[0mops\u001b[0m\u001b[0;34m.\u001b[0m\u001b[0mconvert_to_tensor\u001b[0m\u001b[0;34m(\u001b[0m\u001b[0mdelta\u001b[0m\u001b[0;34m,\u001b[0m \u001b[0mdtype\u001b[0m\u001b[0;34m=\u001b[0m\u001b[0mdtype\u001b[0m\u001b[0;34m,\u001b[0m \u001b[0mname\u001b[0m\u001b[0;34m=\u001b[0m\u001b[0;34m\"delta\"\u001b[0m\u001b[0;34m)\u001b[0m\u001b[0;34m\u001b[0m\u001b[0;34m\u001b[0m\u001b[0m\n",
      "\u001b[0;32m/usr/local/lib/python3.6/dist-packages/tensorflow_core/python/framework/ops.py\u001b[0m in \u001b[0;36mconvert_to_tensor\u001b[0;34m(value, dtype, name, as_ref, preferred_dtype, dtype_hint, ctx, accepted_result_types)\u001b[0m\n\u001b[1;32m   1312\u001b[0m \u001b[0;34m\u001b[0m\u001b[0m\n\u001b[1;32m   1313\u001b[0m     \u001b[0;32mif\u001b[0m \u001b[0mret\u001b[0m \u001b[0;32mis\u001b[0m \u001b[0;32mNone\u001b[0m\u001b[0;34m:\u001b[0m\u001b[0;34m\u001b[0m\u001b[0;34m\u001b[0m\u001b[0m\n\u001b[0;32m-> 1314\u001b[0;31m       \u001b[0mret\u001b[0m \u001b[0;34m=\u001b[0m \u001b[0mconversion_func\u001b[0m\u001b[0;34m(\u001b[0m\u001b[0mvalue\u001b[0m\u001b[0;34m,\u001b[0m \u001b[0mdtype\u001b[0m\u001b[0;34m=\u001b[0m\u001b[0mdtype\u001b[0m\u001b[0;34m,\u001b[0m \u001b[0mname\u001b[0m\u001b[0;34m=\u001b[0m\u001b[0mname\u001b[0m\u001b[0;34m,\u001b[0m \u001b[0mas_ref\u001b[0m\u001b[0;34m=\u001b[0m\u001b[0mas_ref\u001b[0m\u001b[0;34m)\u001b[0m\u001b[0;34m\u001b[0m\u001b[0;34m\u001b[0m\u001b[0m\n\u001b[0m\u001b[1;32m   1315\u001b[0m \u001b[0;34m\u001b[0m\u001b[0m\n\u001b[1;32m   1316\u001b[0m     \u001b[0;32mif\u001b[0m \u001b[0mret\u001b[0m \u001b[0;32mis\u001b[0m \u001b[0mNotImplemented\u001b[0m\u001b[0;34m:\u001b[0m\u001b[0;34m\u001b[0m\u001b[0;34m\u001b[0m\u001b[0m\n",
      "\u001b[0;32m/usr/local/lib/python3.6/dist-packages/tensorflow_core/python/framework/tensor_conversion_registry.py\u001b[0m in \u001b[0;36m_default_conversion_function\u001b[0;34m(***failed resolving arguments***)\u001b[0m\n\u001b[1;32m     50\u001b[0m \u001b[0;32mdef\u001b[0m \u001b[0m_default_conversion_function\u001b[0m\u001b[0;34m(\u001b[0m\u001b[0mvalue\u001b[0m\u001b[0;34m,\u001b[0m \u001b[0mdtype\u001b[0m\u001b[0;34m,\u001b[0m \u001b[0mname\u001b[0m\u001b[0;34m,\u001b[0m \u001b[0mas_ref\u001b[0m\u001b[0;34m)\u001b[0m\u001b[0;34m:\u001b[0m\u001b[0;34m\u001b[0m\u001b[0;34m\u001b[0m\u001b[0m\n\u001b[1;32m     51\u001b[0m   \u001b[0;32mdel\u001b[0m \u001b[0mas_ref\u001b[0m  \u001b[0;31m# Unused.\u001b[0m\u001b[0;34m\u001b[0m\u001b[0;34m\u001b[0m\u001b[0m\n\u001b[0;32m---> 52\u001b[0;31m   \u001b[0;32mreturn\u001b[0m \u001b[0mconstant_op\u001b[0m\u001b[0;34m.\u001b[0m\u001b[0mconstant\u001b[0m\u001b[0;34m(\u001b[0m\u001b[0mvalue\u001b[0m\u001b[0;34m,\u001b[0m \u001b[0mdtype\u001b[0m\u001b[0;34m,\u001b[0m \u001b[0mname\u001b[0m\u001b[0;34m=\u001b[0m\u001b[0mname\u001b[0m\u001b[0;34m)\u001b[0m\u001b[0;34m\u001b[0m\u001b[0;34m\u001b[0m\u001b[0m\n\u001b[0m\u001b[1;32m     53\u001b[0m \u001b[0;34m\u001b[0m\u001b[0m\n\u001b[1;32m     54\u001b[0m \u001b[0;34m\u001b[0m\u001b[0m\n",
      "\u001b[0;32m/usr/local/lib/python3.6/dist-packages/tensorflow_core/python/framework/constant_op.py\u001b[0m in \u001b[0;36mconstant\u001b[0;34m(value, dtype, shape, name)\u001b[0m\n\u001b[1;32m    256\u001b[0m   \"\"\"\n\u001b[1;32m    257\u001b[0m   return _constant_impl(value, dtype, shape, name, verify_shape=False,\n\u001b[0;32m--> 258\u001b[0;31m                         allow_broadcast=True)\n\u001b[0m\u001b[1;32m    259\u001b[0m \u001b[0;34m\u001b[0m\u001b[0m\n\u001b[1;32m    260\u001b[0m \u001b[0;34m\u001b[0m\u001b[0m\n",
      "\u001b[0;32m/usr/local/lib/python3.6/dist-packages/tensorflow_core/python/framework/constant_op.py\u001b[0m in \u001b[0;36m_constant_impl\u001b[0;34m(value, dtype, shape, name, verify_shape, allow_broadcast)\u001b[0m\n\u001b[1;32m    300\u001b[0m       attrs={\"value\": tensor_value,\n\u001b[1;32m    301\u001b[0m              \"dtype\": dtype_value},\n\u001b[0;32m--> 302\u001b[0;31m       name=name).outputs[0]\n\u001b[0m\u001b[1;32m    303\u001b[0m   \u001b[0;32mreturn\u001b[0m \u001b[0mconst_tensor\u001b[0m\u001b[0;34m\u001b[0m\u001b[0;34m\u001b[0m\u001b[0m\n\u001b[1;32m    304\u001b[0m \u001b[0;34m\u001b[0m\u001b[0m\n",
      "\u001b[0;32m/usr/local/lib/python3.6/dist-packages/tensorflow_core/python/framework/func_graph.py\u001b[0m in \u001b[0;36m_create_op_internal\u001b[0;34m(self, op_type, inputs, dtypes, input_types, name, attrs, op_def, compute_device)\u001b[0m\n\u001b[1;32m    528\u001b[0m     \u001b[0;32mreturn\u001b[0m \u001b[0mcaptured_value\u001b[0m\u001b[0;34m.\u001b[0m\u001b[0mop\u001b[0m\u001b[0;34m\u001b[0m\u001b[0;34m\u001b[0m\u001b[0m\n\u001b[1;32m    529\u001b[0m \u001b[0;34m\u001b[0m\u001b[0m\n\u001b[0;32m--> 530\u001b[0;31m   def _create_op_internal(\n\u001b[0m\u001b[1;32m    531\u001b[0m       \u001b[0mself\u001b[0m\u001b[0;34m,\u001b[0m\u001b[0;34m\u001b[0m\u001b[0;34m\u001b[0m\u001b[0m\n\u001b[1;32m    532\u001b[0m       \u001b[0mop_type\u001b[0m\u001b[0;34m,\u001b[0m\u001b[0;34m\u001b[0m\u001b[0;34m\u001b[0m\u001b[0m\n",
      "\u001b[0;31mKeyboardInterrupt\u001b[0m: "
     ]
    }
   ],
   "source": [
    "%%time\n",
    "ranked_df_full = NCF.get_predictions('GMF', test_set)"
   ]
  },
  {
   "cell_type": "code",
   "execution_count": 43,
   "metadata": {},
   "outputs": [
    {
     "ename": "NameError",
     "evalue": "name 'ranked_df_full' is not defined",
     "output_type": "error",
     "traceback": [
      "\u001b[0;31m---------------------------------------------------------------------------\u001b[0m",
      "\u001b[0;31mNameError\u001b[0m                                 Traceback (most recent call last)",
      "\u001b[0;32m<ipython-input-43-9d99ae0e0602>\u001b[0m in \u001b[0;36m<module>\u001b[0;34m\u001b[0m\n\u001b[1;32m      1\u001b[0m \u001b[0;32mfrom\u001b[0m \u001b[0mEvaluation\u001b[0m \u001b[0;32mimport\u001b[0m \u001b[0mget_metrics\u001b[0m\u001b[0;34m\u001b[0m\u001b[0;34m\u001b[0m\u001b[0m\n\u001b[0;32m----> 2\u001b[0;31m \u001b[0mget_metrics\u001b[0m\u001b[0;34m(\u001b[0m\u001b[0mranked_df_full\u001b[0m\u001b[0;34m,\u001b[0m \u001b[0mstats\u001b[0m\u001b[0;34m=\u001b[0m\u001b[0;32mFalse\u001b[0m\u001b[0;34m)\u001b[0m\u001b[0;31m#.to_pickle(f'../results/NCF/GMF_metrics_{run_num}')\u001b[0m\u001b[0;34m\u001b[0m\u001b[0;34m\u001b[0m\u001b[0m\n\u001b[0m",
      "\u001b[0;31mNameError\u001b[0m: name 'ranked_df_full' is not defined"
     ]
    }
   ],
   "source": [
    "from Evaluation import get_metrics\n",
    "get_metrics(ranked_df_full, stats=False)#.to_pickle(f'../results/NCF/GMF_metrics_{run_num}')"
   ]
  },
  {
   "cell_type": "markdown",
   "metadata": {},
   "source": [
    "### Sample scores"
   ]
  },
  {
   "cell_type": "code",
   "execution_count": null,
   "metadata": {},
   "outputs": [],
   "source": [
    "%%time\n",
    "ranked_df = NCF.sample_prediction('GMF', train_set, test_set.iloc[:4000], sample_len=100)"
   ]
  },
  {
   "cell_type": "code",
   "execution_count": null,
   "metadata": {},
   "outputs": [],
   "source": [
    "from Evaluation import get_metrics\n",
    "get_metrics(ranked_df, stats=False)#.to_pickle('../results/NCF/GMF_metrics_base_100_sample_am_40k')"
   ]
  },
  {
   "cell_type": "code",
   "execution_count": null,
   "metadata": {},
   "outputs": [],
   "source": [
    "sample_preds_gmf = NCF.get_raw_predictions('GMF', train_set, test_set.iloc[:4000], sample_len=100)"
   ]
  },
  {
   "cell_type": "code",
   "execution_count": null,
   "metadata": {},
   "outputs": [],
   "source": [
    "sample_preds_gmf"
   ]
  },
  {
   "cell_type": "code",
   "execution_count": null,
   "metadata": {},
   "outputs": [],
   "source": [
    "import matplotlib.pyplot as plt\n",
    "plt.plot(np.average(sample_preds_gmf, axis=0))"
   ]
  },
  {
   "cell_type": "code",
   "execution_count": null,
   "metadata": {},
   "outputs": [],
   "source": [
    "preds_gmf = NCF.get_raw_predictions('GMF', train_set, test_set.iloc[:100])"
   ]
  },
  {
   "cell_type": "code",
   "execution_count": null,
   "metadata": {},
   "outputs": [],
   "source": [
    "plt.plot(np.average(preds_gmf, axis=0))"
   ]
  },
  {
   "cell_type": "code",
   "execution_count": 34,
   "metadata": {},
   "outputs": [
    {
     "name": "stderr",
     "output_type": "stream",
     "text": [
      "100% |########################################################################|\n"
     ]
    },
    {
     "name": "stdout",
     "output_type": "stream",
     "text": [
      "Obtaining metrics time: 7.13\n"
     ]
    },
    {
     "name": "stderr",
     "output_type": "stream",
     "text": [
      "100% |########################################################################|\n"
     ]
    },
    {
     "name": "stdout",
     "output_type": "stream",
     "text": [
      "Obtaining metrics time: 7.26\n"
     ]
    },
    {
     "name": "stderr",
     "output_type": "stream",
     "text": [
      "100% |########################################################################|\n"
     ]
    },
    {
     "name": "stdout",
     "output_type": "stream",
     "text": [
      "Obtaining metrics time: 7.26\n"
     ]
    },
    {
     "name": "stderr",
     "output_type": "stream",
     "text": [
      "100% |########################################################################|\n"
     ]
    },
    {
     "name": "stdout",
     "output_type": "stream",
     "text": [
      "Obtaining metrics time: 7.47\n"
     ]
    },
    {
     "name": "stderr",
     "output_type": "stream",
     "text": [
      "100% |########################################################################|\n"
     ]
    },
    {
     "name": "stdout",
     "output_type": "stream",
     "text": [
      "Obtaining metrics time: 7.74\n"
     ]
    },
    {
     "name": "stderr",
     "output_type": "stream",
     "text": [
      "100% |########################################################################|\n"
     ]
    },
    {
     "name": "stdout",
     "output_type": "stream",
     "text": [
      "Obtaining metrics time: 7.67\n",
      "CPU times: user 24min, sys: 29.5 s, total: 24min 30s\n",
      "Wall time: 23min 40s\n"
     ]
    }
   ],
   "source": [
    "%%time\n",
    "from Evaluation import get_metrics\n",
    "sample_sizes = [20, 50, 100, 500, 1000, 5000]\n",
    "metrics = []\n",
    "\n",
    "for sample_size in sample_sizes:\n",
    "    ranked_sample_df = NCF.sample_prediction('GMF', train_set, test_set, sample_len=sample_size)\n",
    "    metric = get_metrics(ranked_sample_df, steps, rank_at)\n",
    "    metrics.append(metric)\n",
    "    metric.to_pickle(f'../results/NCF/GMF_metrics_{run_num}_{sample_size}')"
   ]
  },
  {
   "cell_type": "markdown",
   "metadata": {},
   "source": [
    "---\n",
    "## MLP"
   ]
  },
  {
   "cell_type": "markdown",
   "metadata": {},
   "source": [
    "### Full set scores"
   ]
  },
  {
   "cell_type": "code",
   "execution_count": null,
   "metadata": {},
   "outputs": [],
   "source": [
    "%%time\n",
    "MLP_ranked_df_full = NCF.get_predictions('MLP', test_set.iloc[:4000])"
   ]
  },
  {
   "cell_type": "code",
   "execution_count": 52,
   "metadata": {},
   "outputs": [],
   "source": [
    "from Evaluation import get_metrics\n",
    "get_metrics(MLP_ranked_df_full, steps, rank_at, stats=False).to_pickle('../results/NCF/MLP_metrics_base_am_40k')"
   ]
  },
  {
   "cell_type": "code",
   "execution_count": null,
   "metadata": {},
   "outputs": [],
   "source": [
    "get_metrics(MLP_ranked_df_full, stats=False)"
   ]
  },
  {
   "cell_type": "markdown",
   "metadata": {},
   "source": [
    "### Sample scores"
   ]
  },
  {
   "cell_type": "code",
   "execution_count": null,
   "metadata": {},
   "outputs": [],
   "source": [
    "%%time\n",
    "MLP_ranked_df = NCF.sample_prediction('MLP', train_set, test_set.iloc[:4000])"
   ]
  },
  {
   "cell_type": "code",
   "execution_count": null,
   "metadata": {},
   "outputs": [],
   "source": [
    "from Evaluation import get_metrics\n",
    "get_metrics(MLP_ranked_df, steps, rank_at, stats=False).to_pickle('../results/NCF/MLP_metrics_base_100_sample_am_40k')"
   ]
  },
  {
   "cell_type": "code",
   "execution_count": null,
   "metadata": {},
   "outputs": [],
   "source": [
    "get_metrics(MLP_ranked_df, stats=False)"
   ]
  },
  {
   "cell_type": "markdown",
   "metadata": {},
   "source": [
    "---\n",
    "## NeuMF"
   ]
  },
  {
   "cell_type": "markdown",
   "metadata": {},
   "source": [
    "### Full set scores"
   ]
  },
  {
   "cell_type": "code",
   "execution_count": 23,
   "metadata": {},
   "outputs": [
    {
     "name": "stderr",
     "output_type": "stream",
     "text": [
      "100% |########################################################################|\r"
     ]
    },
    {
     "name": "stdout",
     "output_type": "stream",
     "text": [
      "CPU times: user 44 s, sys: 534 ms, total: 44.6 s\n",
      "Wall time: 42.5 s\n"
     ]
    },
    {
     "name": "stderr",
     "output_type": "stream",
     "text": [
      "\n"
     ]
    }
   ],
   "source": [
    "%%time\n",
    "NeuMF_ranked_df_full = NCF.get_predictions('NeuMF', test_set)"
   ]
  },
  {
   "cell_type": "code",
   "execution_count": 24,
   "metadata": {},
   "outputs": [],
   "source": [
    "from Evaluation import get_metrics\n",
    "metrics = get_metrics(NeuMF_ranked_df_full, stats=False)"
   ]
  },
  {
   "cell_type": "code",
   "execution_count": 25,
   "metadata": {},
   "outputs": [
    {
     "data": {
      "text/html": [
       "<div>\n",
       "<style scoped>\n",
       "    .dataframe tbody tr th:only-of-type {\n",
       "        vertical-align: middle;\n",
       "    }\n",
       "\n",
       "    .dataframe tbody tr th {\n",
       "        vertical-align: top;\n",
       "    }\n",
       "\n",
       "    .dataframe thead th {\n",
       "        text-align: right;\n",
       "    }\n",
       "</style>\n",
       "<table border=\"1\" class=\"dataframe\">\n",
       "  <thead>\n",
       "    <tr style=\"text-align: right;\">\n",
       "      <th></th>\n",
       "      <th>rank_at</th>\n",
       "      <th>hitcounts</th>\n",
       "      <th>recall</th>\n",
       "      <th>precision</th>\n",
       "      <th>ndcg</th>\n",
       "    </tr>\n",
       "  </thead>\n",
       "  <tbody>\n",
       "    <tr>\n",
       "      <th>0</th>\n",
       "      <td>1</td>\n",
       "      <td>3</td>\n",
       "      <td>0.003</td>\n",
       "      <td>0.003000</td>\n",
       "      <td>0.003000</td>\n",
       "    </tr>\n",
       "    <tr>\n",
       "      <th>1</th>\n",
       "      <td>5</td>\n",
       "      <td>19</td>\n",
       "      <td>0.019</td>\n",
       "      <td>0.003800</td>\n",
       "      <td>0.010524</td>\n",
       "    </tr>\n",
       "    <tr>\n",
       "      <th>2</th>\n",
       "      <td>10</td>\n",
       "      <td>34</td>\n",
       "      <td>0.034</td>\n",
       "      <td>0.003400</td>\n",
       "      <td>0.015157</td>\n",
       "    </tr>\n",
       "    <tr>\n",
       "      <th>3</th>\n",
       "      <td>15</td>\n",
       "      <td>47</td>\n",
       "      <td>0.047</td>\n",
       "      <td>0.003133</td>\n",
       "      <td>0.018549</td>\n",
       "    </tr>\n",
       "    <tr>\n",
       "      <th>4</th>\n",
       "      <td>20</td>\n",
       "      <td>60</td>\n",
       "      <td>0.060</td>\n",
       "      <td>0.003000</td>\n",
       "      <td>0.021585</td>\n",
       "    </tr>\n",
       "  </tbody>\n",
       "</table>\n",
       "</div>"
      ],
      "text/plain": [
       "   rank_at  hitcounts  recall  precision      ndcg\n",
       "0        1          3   0.003   0.003000  0.003000\n",
       "1        5         19   0.019   0.003800  0.010524\n",
       "2       10         34   0.034   0.003400  0.015157\n",
       "3       15         47   0.047   0.003133  0.018549\n",
       "4       20         60   0.060   0.003000  0.021585"
      ]
     },
     "execution_count": 25,
     "metadata": {},
     "output_type": "execute_result"
    }
   ],
   "source": [
    "metrics"
   ]
  },
  {
   "cell_type": "code",
   "execution_count": 26,
   "metadata": {},
   "outputs": [],
   "source": [
    "metrics.to_pickle('../Results/metrics_ml_1m_neumf_cfrnn')"
   ]
  },
  {
   "cell_type": "markdown",
   "metadata": {},
   "source": [
    "### Sample scores"
   ]
  },
  {
   "cell_type": "code",
   "execution_count": 83,
   "metadata": {},
   "outputs": [
    {
     "name": "stdout",
     "output_type": "stream",
     "text": [
      "CPU times: user 3min 9s, sys: 2.88 s, total: 3min 12s\n",
      "Wall time: 3min 4s\n"
     ]
    }
   ],
   "source": [
    "%%time\n",
    "NeuMF_ranked_df = NCF.sample_prediction('NeuMF', train_set, test_set)"
   ]
  },
  {
   "cell_type": "code",
   "execution_count": 84,
   "metadata": {},
   "outputs": [],
   "source": [
    "from Evaluation import get_metrics\n",
    "sample_metrics = get_metrics(NeuMF_ranked_df, stats=False)"
   ]
  },
  {
   "cell_type": "code",
   "execution_count": 85,
   "metadata": {
    "scrolled": true
   },
   "outputs": [
    {
     "data": {
      "text/html": [
       "<div>\n",
       "<style scoped>\n",
       "    .dataframe tbody tr th:only-of-type {\n",
       "        vertical-align: middle;\n",
       "    }\n",
       "\n",
       "    .dataframe tbody tr th {\n",
       "        vertical-align: top;\n",
       "    }\n",
       "\n",
       "    .dataframe thead th {\n",
       "        text-align: right;\n",
       "    }\n",
       "</style>\n",
       "<table border=\"1\" class=\"dataframe\">\n",
       "  <thead>\n",
       "    <tr style=\"text-align: right;\">\n",
       "      <th></th>\n",
       "      <th>rank_at</th>\n",
       "      <th>hitcounts</th>\n",
       "      <th>recall</th>\n",
       "      <th>precision</th>\n",
       "      <th>ndcg</th>\n",
       "    </tr>\n",
       "  </thead>\n",
       "  <tbody>\n",
       "    <tr>\n",
       "      <th>0</th>\n",
       "      <td>1</td>\n",
       "      <td>894</td>\n",
       "      <td>0.148013</td>\n",
       "      <td>0.148013</td>\n",
       "      <td>0.148013</td>\n",
       "    </tr>\n",
       "    <tr>\n",
       "      <th>1</th>\n",
       "      <td>5</td>\n",
       "      <td>2718</td>\n",
       "      <td>0.450000</td>\n",
       "      <td>0.090000</td>\n",
       "      <td>0.301350</td>\n",
       "    </tr>\n",
       "    <tr>\n",
       "      <th>2</th>\n",
       "      <td>10</td>\n",
       "      <td>3798</td>\n",
       "      <td>0.628808</td>\n",
       "      <td>0.062881</td>\n",
       "      <td>0.359070</td>\n",
       "    </tr>\n",
       "    <tr>\n",
       "      <th>3</th>\n",
       "      <td>15</td>\n",
       "      <td>4436</td>\n",
       "      <td>0.734437</td>\n",
       "      <td>0.048962</td>\n",
       "      <td>0.387066</td>\n",
       "    </tr>\n",
       "    <tr>\n",
       "      <th>4</th>\n",
       "      <td>20</td>\n",
       "      <td>4819</td>\n",
       "      <td>0.797848</td>\n",
       "      <td>0.039892</td>\n",
       "      <td>0.402063</td>\n",
       "    </tr>\n",
       "  </tbody>\n",
       "</table>\n",
       "</div>"
      ],
      "text/plain": [
       "   rank_at  hitcounts    recall  precision      ndcg\n",
       "0        1        894  0.148013   0.148013  0.148013\n",
       "1        5       2718  0.450000   0.090000  0.301350\n",
       "2       10       3798  0.628808   0.062881  0.359070\n",
       "3       15       4436  0.734437   0.048962  0.387066\n",
       "4       20       4819  0.797848   0.039892  0.402063"
      ]
     },
     "execution_count": 85,
     "metadata": {},
     "output_type": "execute_result"
    }
   ],
   "source": [
    "sample_metrics"
   ]
  },
  {
   "cell_type": "code",
   "execution_count": 86,
   "metadata": {},
   "outputs": [],
   "source": [
    "sample_metrics.to_pickle('../Results/metrics_100_sample_ml_1m')"
   ]
  },
  {
   "cell_type": "markdown",
   "metadata": {},
   "source": [
    "#### This one"
   ]
  },
  {
   "cell_type": "code",
   "execution_count": null,
   "metadata": {},
   "outputs": [],
   "source": [
    "sample_metrics"
   ]
  },
  {
   "cell_type": "code",
   "execution_count": 93,
   "metadata": {},
   "outputs": [
    {
     "name": "stderr",
     "output_type": "stream",
     "text": [
      "100% |########################################################################|\n"
     ]
    }
   ],
   "source": [
    "sample_preds = NCF.get_raw_predictions('NeuMF', train_set, test_set.iloc[:100], sample_len=100)"
   ]
  },
  {
   "cell_type": "code",
   "execution_count": 95,
   "metadata": {},
   "outputs": [
    {
     "data": {
      "text/plain": [
       "100"
      ]
     },
     "execution_count": 95,
     "metadata": {},
     "output_type": "execute_result"
    }
   ],
   "source": [
    "len(set(sample_preds[0]))"
   ]
  },
  {
   "cell_type": "code",
   "execution_count": 98,
   "metadata": {},
   "outputs": [
    {
     "data": {
      "text/plain": [
       "array([9.9999905e-01, 9.9980885e-01, 9.7944254e-01, 9.4736689e-01,\n",
       "       9.3648505e-01, 9.2252994e-01, 9.0318501e-01, 8.9529747e-01,\n",
       "       8.8954401e-01, 8.6965990e-01, 8.4587336e-01, 8.3226883e-01,\n",
       "       8.2986253e-01, 8.2167161e-01, 8.1780380e-01, 7.9422367e-01,\n",
       "       7.6696765e-01, 7.6359797e-01, 7.4944979e-01, 7.3852885e-01,\n",
       "       7.3042029e-01, 7.2632414e-01, 7.1575320e-01, 6.8373024e-01,\n",
       "       6.7412531e-01, 6.7230374e-01, 6.5144885e-01, 6.4021289e-01,\n",
       "       6.2667531e-01, 6.0390884e-01, 6.0296512e-01, 5.9519130e-01,\n",
       "       5.8717757e-01, 5.7607579e-01, 5.7379872e-01, 5.4795605e-01,\n",
       "       5.3310120e-01, 5.0977647e-01, 5.0960737e-01, 5.0562882e-01,\n",
       "       4.7339004e-01, 4.6814051e-01, 4.6007127e-01, 4.5387447e-01,\n",
       "       4.5237342e-01, 4.5066103e-01, 4.4982681e-01, 4.4869626e-01,\n",
       "       4.4355500e-01, 4.4113356e-01, 4.3997282e-01, 4.3918660e-01,\n",
       "       4.3282169e-01, 3.9047235e-01, 3.7092400e-01, 3.5147914e-01,\n",
       "       3.4386984e-01, 3.3793911e-01, 3.2845986e-01, 3.2560632e-01,\n",
       "       3.1536952e-01, 2.9895446e-01, 2.6769531e-01, 2.6681602e-01,\n",
       "       2.5174087e-01, 2.4137878e-01, 2.3114972e-01, 2.3004009e-01,\n",
       "       2.1571368e-01, 2.1077295e-01, 1.9112721e-01, 1.7704290e-01,\n",
       "       1.6503271e-01, 1.5474741e-01, 1.2410429e-01, 1.1389543e-01,\n",
       "       1.0319699e-01, 9.8051146e-02, 7.2730459e-02, 7.2688274e-02,\n",
       "       7.1907111e-02, 6.1412863e-02, 5.8263343e-02, 5.3363066e-02,\n",
       "       5.1945530e-02, 4.4310626e-02, 4.0347893e-02, 3.1781286e-02,\n",
       "       2.7356764e-02, 2.3104865e-02, 1.9366454e-02, 1.0534354e-02,\n",
       "       1.0174252e-02, 7.1800728e-03, 6.9246781e-03, 3.4232780e-03,\n",
       "       2.0170866e-03, 1.3271335e-03, 7.0919580e-04, 3.2831746e-04],\n",
       "      dtype=float32)"
      ]
     },
     "execution_count": 98,
     "metadata": {},
     "output_type": "execute_result"
    }
   ],
   "source": [
    "sample_preds[0]"
   ]
  },
  {
   "cell_type": "markdown",
   "metadata": {},
   "source": [
    "## Amazon 40K users\n",
    "- average distribution of 100 test users\n",
    "- 100 sample"
   ]
  },
  {
   "cell_type": "code",
   "execution_count": 99,
   "metadata": {},
   "outputs": [
    {
     "data": {
      "text/plain": [
       "[<matplotlib.lines.Line2D at 0x7f415426b898>]"
      ]
     },
     "execution_count": 99,
     "metadata": {},
     "output_type": "execute_result"
    },
    {
     "data": {
      "image/png": "[encoded data removed]",
      "text/plain": [
       "<Figure size 432x288 with 1 Axes>"
      ]
     },
     "metadata": {
      "needs_background": "light"
     },
     "output_type": "display_data"
    }
   ],
   "source": [
    "import matplotlib.pyplot as plt\n",
    "plt.plot(np.average(sample_preds, axis=0))"
   ]
  },
  {
   "cell_type": "markdown",
   "metadata": {},
   "source": [
    "- average distribution of 100 test users\n",
    "- all 139230 items"
   ]
  },
  {
   "cell_type": "code",
   "execution_count": 100,
   "metadata": {},
   "outputs": [
    {
     "name": "stderr",
     "output_type": "stream",
     "text": [
      "100% |########################################################################|\n"
     ]
    }
   ],
   "source": [
    "preds = NCF.get_raw_predictions('NeuMF', train_set, test_set.iloc[:100])"
   ]
  },
  {
   "cell_type": "code",
   "execution_count": 101,
   "metadata": {},
   "outputs": [
    {
     "data": {
      "text/plain": [
       "[<matplotlib.lines.Line2D at 0x7f4168a477b8>]"
      ]
     },
     "execution_count": 101,
     "metadata": {},
     "output_type": "execute_result"
    },
    {
     "data": {
      "image/png": "[encoded data removed]",
      "text/plain": [
       "<Figure size 432x288 with 1 Axes>"
      ]
     },
     "metadata": {
      "needs_background": "light"
     },
     "output_type": "display_data"
    }
   ],
   "source": [
    "plt.plot(np.average(preds, axis=0))"
   ]
  },
  {
   "cell_type": "code",
   "execution_count": 102,
   "metadata": {},
   "outputs": [
    {
     "data": {
      "text/plain": [
       "138660"
      ]
     },
     "execution_count": 102,
     "metadata": {},
     "output_type": "execute_result"
    }
   ],
   "source": [
    "len(set(preds[0]))"
   ]
  },
  {
   "cell_type": "code",
   "execution_count": 121,
   "metadata": {},
   "outputs": [],
   "source": [
    "uniques = []\n",
    "for user_preds in preds:\n",
    "    uniques.append(len(set(user_preds)))"
   ]
  },
  {
   "cell_type": "code",
   "execution_count": 122,
   "metadata": {},
   "outputs": [
    {
     "data": {
      "text/plain": [
       "array([1.        , 0.9999999 , 0.99999964, 0.9999995 , 0.9999995 ,\n",
       "       0.9999994 , 0.9999993 , 0.999997  , 0.9999963 , 0.99999547,\n",
       "       0.99999535, 0.999995  , 0.9999933 , 0.9999927 , 0.9999914 ,\n",
       "       0.9999906 , 0.99999034, 0.9999887 , 0.999987  , 0.99998355,\n",
       "       0.99998355, 0.9999809 , 0.99997747, 0.9999771 , 0.9999763 ,\n",
       "       0.99997425, 0.99997246, 0.9999714 , 0.9999702 , 0.9999685 ,\n",
       "       0.99996746, 0.9999665 , 0.99996614, 0.9999641 , 0.99995995,\n",
       "       0.9999578 , 0.9999573 , 0.99995494, 0.9999547 , 0.9999546 ,\n",
       "       0.99995005, 0.99994826, 0.9999478 , 0.99994695, 0.9999454 ,\n",
       "       0.99994504, 0.9999442 , 0.9999424 , 0.9999423 , 0.99994206],\n",
       "      dtype=float32)"
      ]
     },
     "execution_count": 122,
     "metadata": {},
     "output_type": "execute_result"
    }
   ],
   "source": [
    "preds[np.argmin(uniques)][:50]"
   ]
  },
  {
   "cell_type": "code",
   "execution_count": 103,
   "metadata": {},
   "outputs": [
    {
     "data": {
      "text/plain": [
       "139230"
      ]
     },
     "execution_count": 103,
     "metadata": {},
     "output_type": "execute_result"
    }
   ],
   "source": [
    "total_items"
   ]
  },
  {
   "cell_type": "markdown",
   "metadata": {},
   "source": [
    "# Results 4 samples"
   ]
  },
  {
   "cell_type": "code",
   "execution_count": 77,
   "metadata": {},
   "outputs": [
    {
     "data": {
      "text/html": [
       "<div>\n",
       "<style scoped>\n",
       "    .dataframe tbody tr th:only-of-type {\n",
       "        vertical-align: middle;\n",
       "    }\n",
       "\n",
       "    .dataframe tbody tr th {\n",
       "        vertical-align: top;\n",
       "    }\n",
       "\n",
       "    .dataframe thead th {\n",
       "        text-align: right;\n",
       "    }\n",
       "</style>\n",
       "<table border=\"1\" class=\"dataframe\">\n",
       "  <thead>\n",
       "    <tr style=\"text-align: right;\">\n",
       "      <th></th>\n",
       "      <th>rank_at</th>\n",
       "      <th>hitcounts</th>\n",
       "      <th>recall</th>\n",
       "      <th>precision</th>\n",
       "      <th>ndcg</th>\n",
       "    </tr>\n",
       "  </thead>\n",
       "  <tbody>\n",
       "    <tr>\n",
       "      <th>0</th>\n",
       "      <td>1</td>\n",
       "      <td>653</td>\n",
       "      <td>0.16325</td>\n",
       "      <td>0.163250</td>\n",
       "      <td>0.163250</td>\n",
       "    </tr>\n",
       "    <tr>\n",
       "      <th>1</th>\n",
       "      <td>5</td>\n",
       "      <td>712</td>\n",
       "      <td>0.17800</td>\n",
       "      <td>0.035600</td>\n",
       "      <td>0.170003</td>\n",
       "    </tr>\n",
       "    <tr>\n",
       "      <th>2</th>\n",
       "      <td>10</td>\n",
       "      <td>807</td>\n",
       "      <td>0.20175</td>\n",
       "      <td>0.020175</td>\n",
       "      <td>0.177539</td>\n",
       "    </tr>\n",
       "    <tr>\n",
       "      <th>3</th>\n",
       "      <td>15</td>\n",
       "      <td>895</td>\n",
       "      <td>0.22375</td>\n",
       "      <td>0.014917</td>\n",
       "      <td>0.183291</td>\n",
       "    </tr>\n",
       "    <tr>\n",
       "      <th>4</th>\n",
       "      <td>20</td>\n",
       "      <td>944</td>\n",
       "      <td>0.23600</td>\n",
       "      <td>0.011800</td>\n",
       "      <td>0.186177</td>\n",
       "    </tr>\n",
       "  </tbody>\n",
       "</table>\n",
       "</div>"
      ],
      "text/plain": [
       "   rank_at  hitcounts   recall  precision      ndcg\n",
       "0        1        653  0.16325   0.163250  0.163250\n",
       "1        5        712  0.17800   0.035600  0.170003\n",
       "2       10        807  0.20175   0.020175  0.177539\n",
       "3       15        895  0.22375   0.014917  0.183291\n",
       "4       20        944  0.23600   0.011800  0.186177"
      ]
     },
     "execution_count": 77,
     "metadata": {},
     "output_type": "execute_result"
    }
   ],
   "source": [
    "sample_metrics_100"
   ]
  },
  {
   "cell_type": "code",
   "execution_count": 79,
   "metadata": {},
   "outputs": [
    {
     "data": {
      "text/html": [
       "<div>\n",
       "<style scoped>\n",
       "    .dataframe tbody tr th:only-of-type {\n",
       "        vertical-align: middle;\n",
       "    }\n",
       "\n",
       "    .dataframe tbody tr th {\n",
       "        vertical-align: top;\n",
       "    }\n",
       "\n",
       "    .dataframe thead th {\n",
       "        text-align: right;\n",
       "    }\n",
       "</style>\n",
       "<table border=\"1\" class=\"dataframe\">\n",
       "  <thead>\n",
       "    <tr style=\"text-align: right;\">\n",
       "      <th></th>\n",
       "      <th>rank_at</th>\n",
       "      <th>hitcounts</th>\n",
       "      <th>recall</th>\n",
       "      <th>precision</th>\n",
       "      <th>ndcg</th>\n",
       "    </tr>\n",
       "  </thead>\n",
       "  <tbody>\n",
       "    <tr>\n",
       "      <th>0</th>\n",
       "      <td>1</td>\n",
       "      <td>0</td>\n",
       "      <td>0.0</td>\n",
       "      <td>0.0</td>\n",
       "      <td>0.0</td>\n",
       "    </tr>\n",
       "    <tr>\n",
       "      <th>1</th>\n",
       "      <td>5</td>\n",
       "      <td>0</td>\n",
       "      <td>0.0</td>\n",
       "      <td>0.0</td>\n",
       "      <td>0.0</td>\n",
       "    </tr>\n",
       "    <tr>\n",
       "      <th>2</th>\n",
       "      <td>10</td>\n",
       "      <td>0</td>\n",
       "      <td>0.0</td>\n",
       "      <td>0.0</td>\n",
       "      <td>0.0</td>\n",
       "    </tr>\n",
       "    <tr>\n",
       "      <th>3</th>\n",
       "      <td>15</td>\n",
       "      <td>0</td>\n",
       "      <td>0.0</td>\n",
       "      <td>0.0</td>\n",
       "      <td>0.0</td>\n",
       "    </tr>\n",
       "    <tr>\n",
       "      <th>4</th>\n",
       "      <td>20</td>\n",
       "      <td>0</td>\n",
       "      <td>0.0</td>\n",
       "      <td>0.0</td>\n",
       "      <td>0.0</td>\n",
       "    </tr>\n",
       "  </tbody>\n",
       "</table>\n",
       "</div>"
      ],
      "text/plain": [
       "   rank_at  hitcounts  recall  precision  ndcg\n",
       "0        1          0     0.0        0.0   0.0\n",
       "1        5          0     0.0        0.0   0.0\n",
       "2       10          0     0.0        0.0   0.0\n",
       "3       15          0     0.0        0.0   0.0\n",
       "4       20          0     0.0        0.0   0.0"
      ]
     },
     "execution_count": 79,
     "metadata": {},
     "output_type": "execute_result"
    }
   ],
   "source": [
    "metrics"
   ]
  },
  {
   "cell_type": "code",
   "execution_count": null,
   "metadata": {},
   "outputs": [],
   "source": [
    "%%time\n",
    "from Evaluation import get_metrics\n",
    "test_set = test_set.iloc[:300]\n",
    "sample_sizes = [500, 1000, 10000]\n",
    "metrics = []\n",
    "for sample_size in sample_sizes:\n",
    "    ranked_sample_df = NCF.sample_prediction('NeuMF', train_set, test_set, sample_len=sample_size)\n",
    "    metric = get_metrics(ranked_sample_df)\n",
    "    metrics.append(metric)\n",
    "#     get_metrics(ranked_sample_df).to_pickle(f'../results/NCF/NCF_metrics_{sample_size}_sample_am_40k')"
   ]
  },
  {
   "cell_type": "code",
   "execution_count": null,
   "metadata": {},
   "outputs": [],
   "source": [
    "get_metrics(ranked_df_full, steps, rank_at).to_pickle('../results/NCF/NCF_metrics_ml_1m')\n",
    "get_metrics(ranked_df, steps, rank_at).to_pickle('../results/NCF/NCF_metrics_100_sample_ml_1m')"
   ]
  },
  {
   "cell_type": "markdown",
   "metadata": {},
   "source": [
    "## See predictions"
   ]
  },
  {
   "cell_type": "code",
   "execution_count": 149,
   "metadata": {},
   "outputs": [],
   "source": [
    "test_set_og = test_set"
   ]
  },
  {
   "cell_type": "code",
   "execution_count": 162,
   "metadata": {},
   "outputs": [],
   "source": [
    "test_set = test_set.iloc[:500]\n",
    "sample_len = 15000\n",
    "rank_at = 20"
   ]
  },
  {
   "cell_type": "code",
   "execution_count": 164,
   "metadata": {},
   "outputs": [],
   "source": [
    "model, _ = NCF.get_model('NeuMF')"
   ]
  },
  {
   "cell_type": "code",
   "execution_count": 158,
   "metadata": {},
   "outputs": [],
   "source": [
    "user_items = train_set.groupby('user_id')['item_id'].apply(list)\n",
    "test_user_items = test_set.groupby('user_id')['item_id'].apply(list)\n",
    "train_items = train_set.item_id.unique()"
   ]
  },
  {
   "cell_type": "code",
   "execution_count": 165,
   "metadata": {},
   "outputs": [
    {
     "name": "stderr",
     "output_type": "stream",
     "text": [
      "  0% |                                                                        |\r"
     ]
    },
    {
     "name": "stdout",
     "output_type": "stream",
     "text": [
      "[0.9956434  0.9951572  0.9950917  0.9948907  0.9945088  0.9931384\n",
      " 0.99202067 0.9907787  0.99066895 0.99065    0.9899809  0.98996663\n",
      " 0.9896769  0.9896606  0.9890085  0.9888465  0.9886746  0.98814744\n",
      " 0.9879204  0.9878512  0.98780173 0.9875709  0.9874286  0.98719263\n",
      " 0.98719263 0.98719263 0.9867951  0.98659885 0.98658854 0.9863073\n",
      " 0.9852386  0.9852367  0.98486245 0.9846811  0.98447    0.98407817\n",
      " 0.98329943 0.9831819  0.98317784 0.9830608 ]\n",
      "[0.9999559  0.99988985 0.9997912  0.999777   0.99977297 0.9997607\n",
      " 0.9997162  0.9997142  0.9996611  0.9996025  0.99956626 0.9995615\n",
      " 0.9995609  0.9995577  0.99955267 0.99946755 0.9994628  0.9994506\n",
      " 0.9994186  0.9993462  0.9993418  0.99931574 0.9992532  0.9992531\n",
      " 0.99914896 0.99914837 0.99911696 0.9991084  0.9990613  0.99905926\n",
      " 0.9990539  0.99904746 0.9990023  0.9989981  0.99889165 0.99888676\n",
      " 0.99885464 0.9988115  0.99880934 0.99877614]\n",
      "[0.9983834  0.99652475 0.9947048  0.9945446  0.9944563  0.9937543\n",
      " 0.99374205 0.9931384  0.9925915  0.99256647 0.99148667 0.99055123\n",
      " 0.9899809  0.9892833  0.98853683 0.98839754 0.98836577 0.9882273\n",
      " 0.98792654 0.9878512  0.98767006 0.98753124 0.98738396 0.9870745\n",
      " 0.98705137 0.98654944 0.9864442  0.9863122  0.98628324 0.9859374\n",
      " 0.9859244  0.985897   0.98536366 0.9850935  0.9841278  0.9839199\n",
      " 0.98390293 0.98386    0.9836003  0.98347247]\n",
      "[0.99956614 0.9947048  0.994118   0.9938938  0.9933206  0.99319685\n",
      " 0.99275523 0.99195474 0.99168855 0.9914621  0.99124676 0.99109143\n",
      " 0.99101454 0.9907918  0.9907918  0.9907918  0.9892167  0.989022\n",
      " 0.989022   0.9889698  0.9888304  0.98871875 0.9882047  0.98801863\n",
      " 0.98766035 0.9874893  0.9872994  0.98719263 0.98713094 0.98707473\n",
      " 0.9865601  0.9862846  0.98610604 0.9858543  0.9858543  0.9856725\n",
      " 0.98555213 0.98524255 0.9852367  0.98514634]\n"
     ]
    },
    {
     "name": "stderr",
     "output_type": "stream",
     "text": [
      "  1% |                                                                        |\r"
     ]
    },
    {
     "name": "stdout",
     "output_type": "stream",
     "text": [
      "[0.9999999  0.9999999  0.9999995  0.9999994  0.9999994  0.9999993\n",
      " 0.99999917 0.99999905 0.99999905 0.9999988  0.9999987  0.9999987\n",
      " 0.9999987  0.9999982  0.9999976  0.9999976  0.9999975  0.9999975\n",
      " 0.99999714 0.99999714 0.9999968  0.99999666 0.99999654 0.9999964\n",
      " 0.9999964  0.99999607 0.99999595 0.99999595 0.99999475 0.9999944\n",
      " 0.9999944  0.99999404 0.99999356 0.9999931  0.99999285 0.9999927\n",
      " 0.9999926  0.9999925  0.99999225 0.99999166]\n",
      "[0.99672    0.995983   0.9943077  0.99405175 0.9931384  0.9917026\n",
      " 0.99097365 0.990842   0.9908202  0.99055123 0.9904508  0.9899603\n",
      " 0.98991394 0.98982847 0.9896102  0.989027   0.989022   0.98894393\n",
      " 0.9889259  0.9888304  0.9888209  0.9886141  0.9885727  0.9885634\n",
      " 0.98839754 0.9880889  0.98717135 0.98688275 0.9868197  0.98675644\n",
      " 0.98659885 0.98658854 0.9864253  0.9863122  0.98617226 0.9860771\n",
      " 0.9858978  0.98578787 0.9856872  0.98565316]\n",
      "[0.9996057  0.999146   0.9990631  0.99828124 0.99825734 0.9981996\n",
      " 0.99815315 0.99800724 0.99780625 0.9976367  0.9974483  0.9974253\n",
      " 0.9974185  0.9973889  0.99713874 0.99681    0.9967012  0.9966456\n",
      " 0.99658394 0.99658394 0.99641454 0.99628866 0.9962101  0.99608564\n",
      " 0.9960427  0.9959894  0.9957045  0.99563843 0.99563485 0.99563485\n",
      " 0.99558324 0.9954698  0.9953381  0.9953381  0.9952997  0.99526227\n",
      " 0.9952514  0.99519014 0.99492294 0.99492043]\n",
      "[0.99983144 0.9995478  0.9993253  0.9990625  0.9981042  0.9966877\n",
      " 0.9954347  0.9944857  0.9943077  0.99319685 0.99256647 0.99168855\n",
      " 0.99168855 0.9914621  0.9914621  0.99097997 0.9908875  0.9905991\n",
      " 0.990575   0.990316   0.990316   0.98996663 0.9899603  0.98894393\n",
      " 0.98890334 0.98889285 0.9886076  0.9885727  0.9882047  0.98798174\n",
      " 0.98767006 0.987495   0.9874628  0.9873986  0.98713094 0.9870745\n",
      " 0.9870488  0.9868197  0.98675644 0.98658854]\n",
      "[0.9997321  0.9995739  0.99916494 0.9990971  0.99901927 0.9989429\n",
      " 0.9988323  0.9987895  0.998718   0.99864274 0.9985488  0.998389\n",
      " 0.99836785 0.998073   0.9978573  0.99783605 0.997832   0.99771214\n",
      " 0.99761546 0.9973979  0.9973603  0.99733377 0.9972813  0.9972504\n",
      " 0.99713266 0.9970583  0.9969007  0.9968406  0.99683774 0.99661994\n",
      " 0.9965178  0.99630785 0.99617755 0.996141   0.996141   0.9961379\n",
      " 0.9960187  0.9959372  0.9959372  0.9958866 ]\n"
     ]
    },
    {
     "name": "stderr",
     "output_type": "stream",
     "text": [
      "  2% |#                                                                       |\r"
     ]
    },
    {
     "name": "stdout",
     "output_type": "stream",
     "text": [
      "[0.99998796 0.9999869  0.9999819  0.99997866 0.99997735 0.9999739\n",
      " 0.9999733  0.99995005 0.99994206 0.99993956 0.99993515 0.99992895\n",
      " 0.9999267  0.99992466 0.9999229  0.99991965 0.99991643 0.9999163\n",
      " 0.99991214 0.999908   0.999902   0.999897   0.9998963  0.9998956\n",
      " 0.9998729  0.99987245 0.99986315 0.999861   0.999861   0.9998548\n",
      " 0.9998468  0.99984586 0.99984086 0.99982834 0.9998216  0.9998209\n",
      " 0.99981874 0.9998186  0.9998166  0.99981564]\n",
      "[0.9998323  0.99975795 0.99960166 0.99958247 0.9994331  0.9993524\n",
      " 0.999313   0.9992865  0.9992137  0.9991763  0.99885833 0.99880755\n",
      " 0.9987532  0.99874866 0.99872977 0.9987231  0.9986487  0.9985782\n",
      " 0.99849534 0.99847895 0.9984451  0.99839056 0.9983752  0.9983752\n",
      " 0.9982851  0.9982779  0.9982674  0.99826294 0.9982236  0.99799335\n",
      " 0.99795985 0.99790394 0.997886   0.99785954 0.9977076  0.99765116\n",
      " 0.9976426  0.9976036  0.99751043 0.9975073 ]\n",
      "[0.9995478  0.99912494 0.9990748  0.9981943  0.99697196 0.99648935\n",
      " 0.995983   0.9954347  0.9949544  0.9949013  0.9949013  0.9945446\n",
      " 0.9938938  0.9918876  0.9913009  0.9913009  0.9913009  0.99103504\n",
      " 0.99103504 0.9904869  0.99014294 0.98960775 0.9894649  0.9892167\n",
      " 0.9892167  0.9891867  0.9882273  0.98764825 0.9875014  0.9874171\n",
      " 0.98725325 0.98717135 0.9868175  0.98675644 0.9866022  0.986542\n",
      " 0.9864123  0.9862228  0.98617226 0.9860771 ]\n",
      "[0.9999771  0.99969316 0.99963903 0.9996302  0.9996284  0.9996106\n",
      " 0.9995467  0.9995285  0.9995191  0.99947864 0.99946684 0.99945194\n",
      " 0.9994273  0.9993351  0.99932027 0.99923146 0.99916506 0.9990376\n",
      " 0.99902666 0.9990213  0.999014   0.99899334 0.9989819  0.99892235\n",
      " 0.99890757 0.9989029  0.9989029  0.9988649  0.99885833 0.9987973\n",
      " 0.9987888  0.99871945 0.99868554 0.9986615  0.99865794 0.998642\n",
      " 0.99863714 0.99861586 0.99861336 0.9985946 ]\n",
      "[0.99963546 0.99963546 0.9990625  0.9990625  0.9986966  0.9977139\n",
      " 0.9963213  0.9963213  0.9931384  0.99131435 0.99131435 0.9908202\n",
      " 0.9907787  0.9891867  0.9889259  0.98889285 0.9888465  0.9885211\n",
      " 0.9882684  0.98756033 0.9874538  0.9874286  0.9874286  0.9874121\n",
      " 0.9870684  0.9870488  0.9868197  0.98595494 0.9859374  0.98563266\n",
      " 0.9852401  0.9849924  0.9847668  0.98429316 0.9842317  0.98399043\n",
      " 0.9839256  0.9837473  0.98373914 0.9835849 ]\n"
     ]
    },
    {
     "name": "stderr",
     "output_type": "stream",
     "text": [
      "  3% |##                                                                      |\r"
     ]
    },
    {
     "name": "stdout",
     "output_type": "stream",
     "text": [
      "[0.9986966  0.9981042  0.9918876  0.99168855 0.9915605  0.99139446\n",
      " 0.9912845  0.9908886  0.9907066  0.9905991  0.9905991  0.98984945\n",
      " 0.9887811  0.9882684  0.98817563 0.9878578  0.98766035 0.98753124\n",
      " 0.98738396 0.98719263 0.9870667  0.98680127 0.98658854 0.98654944\n",
      " 0.986542   0.98639756 0.9863073  0.986252   0.98595494 0.9859313\n",
      " 0.9858978  0.98555213 0.9854719  0.9853613  0.98514634 0.9848578\n",
      " 0.9847668  0.9846772  0.9846015  0.9845143 ]\n",
      "[0.99826753 0.9965669  0.99513406 0.9948148  0.99449337 0.9943077\n",
      " 0.99210465 0.99168855 0.99109143 0.9907066  0.9897837  0.98946524\n",
      " 0.9894049  0.9894049  0.9892167  0.9891867  0.989027   0.9887811\n",
      " 0.9886746  0.9886072  0.9885211  0.98798174 0.9875014  0.9874286\n",
      " 0.9870745  0.9865601  0.98654455 0.98641324 0.98639756 0.9863073\n",
      " 0.9862017  0.98617226 0.9859577  0.985897   0.98582447 0.98581684\n",
      " 0.9856371  0.9855114  0.9851992  0.9848599 ]\n",
      "[0.9998429  0.999819   0.9996731  0.9996642  0.9995703  0.99953437\n",
      " 0.9995314  0.99948454 0.9994205  0.9994055  0.99940455 0.9993954\n",
      " 0.99937797 0.9993742  0.99934167 0.99931693 0.9992761  0.99923706\n",
      " 0.9992199  0.99919885 0.9991831  0.999132   0.999129   0.99909604\n",
      " 0.999071   0.9990638  0.9990594  0.9990434  0.99903834 0.9989496\n",
      " 0.99892586 0.9989247  0.99891317 0.9988856  0.99887973 0.9988004\n",
      " 0.99874014 0.9986778  0.99866986 0.9986596 ]\n",
      "[0.99983156 0.9990707  0.99905854 0.9989398  0.9988912  0.99880457\n",
      " 0.9987161  0.99833894 0.998257   0.99821943 0.99801755 0.9978714\n",
      " 0.997769   0.9977053  0.997681   0.99761105 0.9976095  0.9975873\n",
      " 0.99753654 0.99749583 0.99744534 0.99738806 0.99734586 0.9971738\n",
      " 0.9969896  0.9968605  0.9966863  0.9964803  0.99629515 0.9962054\n",
      " 0.9961916  0.99618906 0.9961628  0.9961409  0.996007   0.9959061\n",
      " 0.9959019  0.9958022  0.99575126 0.9957308 ]\n",
      "[0.9987544  0.9983834  0.99672    0.9949544  0.994118   0.9918876\n",
      " 0.9914621  0.99137783 0.9910386  0.9908875  0.9908202  0.99065\n",
      " 0.9904508  0.99014294 0.9898263  0.9894649  0.9892833  0.98889285\n",
      " 0.9885634  0.9882273  0.9882273  0.9882047  0.98817563 0.9881621\n",
      " 0.98773414 0.98770756 0.98764825 0.98746324 0.9874171  0.9874085\n",
      " 0.98719263 0.9866022  0.98659885 0.98628324 0.9862017  0.98617226\n",
      " 0.9859577  0.9858543  0.98574346 0.9854952 ]\n"
     ]
    },
    {
     "name": "stderr",
     "output_type": "stream",
     "text": [
      "  4% |##                                                                      |\r"
     ]
    },
    {
     "name": "stdout",
     "output_type": "stream",
     "text": [
      "[0.99894553 0.99683505 0.9960353  0.9959416  0.9954347  0.994118\n",
      " 0.9938883  0.99374205 0.99335456 0.9925915  0.9925506  0.9922983\n",
      " 0.99152815 0.99139446 0.99137783 0.9908886  0.9908749  0.99066895\n",
      " 0.9904869  0.9904508  0.99032485 0.9899014  0.9898263  0.98889285\n",
      " 0.9888304  0.9887967  0.9886746  0.9886141  0.98852265 0.9882684\n",
      " 0.9881941  0.9879689  0.9879689  0.98790467 0.9874893  0.9874538\n",
      " 0.9874171  0.9866022  0.98654455 0.98641324]\n",
      "[0.99826753 0.9981943  0.99524176 0.9948148  0.993956   0.99333066\n",
      " 0.99319685 0.9931384  0.9925915  0.9922983  0.9918876  0.9917026\n",
      " 0.9916421  0.99148667 0.99109143 0.99101454 0.9905991  0.9904869\n",
      " 0.990408   0.9903957  0.99012053 0.989967   0.98991394 0.9898263\n",
      " 0.9891867  0.98912233 0.9887811  0.98873025 0.98855805 0.98839754\n",
      " 0.9877752  0.98770756 0.9875546  0.9873986  0.9872994  0.98705137\n",
      " 0.98702955 0.986542   0.9862363  0.9862363 ]\n",
      "[0.999907   0.99954826 0.99953556 0.9994443  0.9993406  0.99924767\n",
      " 0.99920374 0.99911624 0.99907553 0.9989513  0.99887735 0.9987627\n",
      " 0.99871874 0.99871874 0.99871135 0.99864906 0.99864906 0.99854857\n",
      " 0.9984956  0.9983413  0.9982982  0.998298   0.9982836  0.99827266\n",
      " 0.9982652  0.9981493  0.99809164 0.997981   0.99797124 0.99793196\n",
      " 0.9979279  0.9979175  0.99789065 0.99783164 0.9978307  0.99777466\n",
      " 0.99753785 0.9975217  0.997491   0.997407  ]\n",
      "[0.9999975  0.9999653  0.9999455  0.999943   0.9998311  0.9998274\n",
      " 0.99979216 0.99979144 0.9997063  0.9996525  0.99964225 0.99961483\n",
      " 0.9995671  0.9995266  0.9995266  0.9994419  0.9993517  0.99929667\n",
      " 0.99928147 0.99924916 0.9992442  0.9992442  0.9991748  0.99915004\n",
      " 0.9991248  0.9991216  0.9991007  0.9990853  0.99906975 0.99906975\n",
      " 0.9990582  0.99903524 0.9990245  0.9990049  0.99900275 0.99898523\n",
      " 0.9989268  0.9989219  0.998871   0.99882466]\n",
      "[0.9999814  0.9999788  0.99997723 0.9999758  0.9999548  0.9999466\n",
      " 0.9999285  0.99991536 0.99990666 0.9999056  0.9999051  0.9998965\n",
      " 0.9998858  0.99982303 0.9998024  0.9997907  0.9997632  0.9997309\n",
      " 0.9997042  0.9996904  0.9996662  0.99965405 0.9996517  0.9996517\n",
      " 0.99963486 0.99962056 0.99957436 0.9995695  0.9995384  0.9995203\n",
      " 0.99950993 0.99950135 0.9994973  0.999482   0.99946445 0.9994512\n",
      " 0.99941695 0.99941516 0.9994056  0.99939036]\n"
     ]
    },
    {
     "name": "stderr",
     "output_type": "stream",
     "text": [
      "  5% |###                                                                     |\r"
     ]
    },
    {
     "name": "stdout",
     "output_type": "stream",
     "text": [
      "[0.99912494 0.9977139  0.9950917  0.9943619  0.9922983  0.99139446\n",
      " 0.99109143 0.9910522  0.99101454 0.99097365 0.9908202  0.9907787\n",
      " 0.99032485 0.990316   0.9894649  0.9889698  0.9889259  0.9881621\n",
      " 0.9879578  0.98753124 0.9874893  0.9874628  0.9872171  0.9870667\n",
      " 0.98654944 0.9858978  0.98581684 0.9855849  0.98536366 0.9849037\n",
      " 0.9849037  0.98445547 0.984443   0.9838277  0.9838277  0.98359513\n",
      " 0.9835849  0.9835398  0.9833581  0.98323905]\n",
      "[0.99983144 0.9995671  0.9995478  0.99952006 0.9994469  0.9994035\n",
      " 0.9993993  0.9993806  0.99937016 0.99932957 0.999302   0.99927574\n",
      " 0.9992473  0.9992453  0.9992099  0.9991417  0.9990922  0.99908376\n",
      " 0.99900466 0.99898297 0.9989496  0.99892527 0.9987764  0.99874854\n",
      " 0.99872655 0.9987011  0.9986889  0.99860567 0.9985902  0.9984035\n",
      " 0.9983438  0.9982942  0.99828905 0.9981364  0.99809426 0.9980136\n",
      " 0.9979905  0.9979772  0.997965   0.997962  ]\n",
      "[0.99999964 0.99999464 0.99999344 0.9999931  0.99999297 0.999992\n",
      " 0.9999888  0.99998546 0.99997675 0.99996996 0.99996436 0.99996114\n",
      " 0.99995875 0.99995863 0.9999565  0.99995303 0.9999516  0.99995136\n",
      " 0.99995005 0.9999465  0.9999443  0.9999405  0.9999374  0.9999317\n",
      " 0.9999317  0.9999281  0.99992216 0.99991655 0.99990845 0.99990237\n",
      " 0.99989986 0.99989784 0.99989355 0.99989057 0.99989057 0.9998903\n",
      " 0.99988985 0.999884   0.99988246 0.9998816 ]\n",
      "[0.99991703 0.9998425  0.99971014 0.9995378  0.99952686 0.9993917\n",
      " 0.9993875  0.9993782  0.9993389  0.9992156  0.9991804  0.9990312\n",
      " 0.9989555  0.9988649  0.9988288  0.9987979  0.9987979  0.9987545\n",
      " 0.99872595 0.99869114 0.99858594 0.99849904 0.998393   0.9983859\n",
      " 0.998304   0.9982894  0.9981198  0.998095   0.99808574 0.99803144\n",
      " 0.9980258  0.9979803  0.99797946 0.9979074  0.9978866  0.9978746\n",
      " 0.99776006 0.9977265  0.99772125 0.9977124 ]\n",
      "[0.9999844  0.9999584  0.9996847  0.9996847  0.99966705 0.9994861\n",
      " 0.99938047 0.99936885 0.99936885 0.99931157 0.99925953 0.99924135\n",
      " 0.9992384  0.99921906 0.9992071  0.99916494 0.99915874 0.9991117\n",
      " 0.9990778  0.9990778  0.99906427 0.99906236 0.99900633 0.9989467\n",
      " 0.9989467  0.9989467  0.99883896 0.99879384 0.9987914  0.99876815\n",
      " 0.9987446  0.99874395 0.99868256 0.99861526 0.9985178  0.9984864\n",
      " 0.99847394 0.9984705  0.99840003 0.99835724]\n"
     ]
    },
    {
     "name": "stderr",
     "output_type": "stream",
     "text": [
      "  6% |####                                                                    |\r"
     ]
    },
    {
     "name": "stdout",
     "output_type": "stream",
     "text": [
      "[0.99912494 0.99672    0.9963213  0.9960353  0.9943347  0.9933935\n",
      " 0.9933206  0.9933206  0.99319685 0.9925506  0.9915605  0.9903042\n",
      " 0.9899384  0.9896606  0.9896102  0.98839754 0.98801863 0.9879689\n",
      " 0.98764825 0.98764825 0.9875014  0.9875014  0.9874893  0.9872994\n",
      " 0.98719263 0.9870667  0.9870488  0.98639756 0.9863897  0.98610604\n",
      " 0.9856371  0.98524255 0.9846811  0.98445547 0.98445547 0.9844072\n",
      " 0.9843178  0.9842609  0.98411894 0.98404586]\n",
      "[0.9999807  0.99996805 0.9999192  0.9999186  0.9999186  0.9999137\n",
      " 0.99990475 0.9998983  0.9998956  0.9998902  0.9998846  0.99986625\n",
      " 0.99985623 0.9998555  0.99985266 0.9998274  0.99980575 0.9998024\n",
      " 0.99979967 0.9997886  0.9997683  0.99976736 0.99976283 0.9997588\n",
      " 0.9997501  0.9997056  0.99970466 0.99968207 0.9996741  0.9996666\n",
      " 0.99966574 0.99965775 0.99964404 0.99964404 0.99964404 0.99963605\n",
      " 0.99962544 0.9996253  0.9996214  0.99961394]\n",
      "[0.99995005 0.99993896 0.9999281  0.99991286 0.99989104 0.9998815\n",
      " 0.9998627  0.9998621  0.9998529  0.99983644 0.99981767 0.9998165\n",
      " 0.99979657 0.9997898  0.9997644  0.99976104 0.99976104 0.99974984\n",
      " 0.999742   0.9996604  0.9996604  0.99963355 0.9996246  0.9994868\n",
      " 0.9994337  0.9994123  0.9993631  0.9993191  0.99928635 0.9992791\n",
      " 0.999258   0.9992524  0.99924636 0.9992067  0.9991978  0.99918467\n",
      " 0.99918133 0.99918133 0.99917895 0.99913234]\n",
      "[0.9956434  0.9945088  0.99333066 0.99128515 0.9908749  0.9908202\n",
      " 0.99066895 0.99055123 0.9903957  0.9903956  0.9894649  0.9891867\n",
      " 0.9891426  0.9889698  0.9888209  0.9886141  0.9878512  0.98775893\n",
      " 0.98770756 0.987495   0.9874893  0.9873986  0.9870745  0.9870667\n",
      " 0.98702955 0.98696774 0.98693466 0.9859374  0.9858978  0.98582447\n",
      " 0.98528427 0.98524255 0.9849937  0.98492855 0.98489237 0.98458093\n",
      " 0.9845143  0.98445547 0.98407817 0.9839028 ]\n",
      "[0.99577004 0.99513406 0.9943619  0.99319685 0.99275523 0.9925506\n",
      " 0.99175394 0.9910386  0.9903957  0.9899384  0.98912233 0.98912233\n",
      " 0.989027   0.9888209  0.9886746  0.9881941  0.98817563 0.98770756\n",
      " 0.98766035 0.98756033 0.9874893  0.98746324 0.9874286  0.9872717\n",
      " 0.9872717  0.98702955 0.98696774 0.9868175  0.98680127 0.9867951\n",
      " 0.9865601  0.98654944 0.98654455 0.986542   0.9858543  0.98574346\n",
      " 0.98563266 0.9854494  0.9853613  0.98507845]\n"
     ]
    },
    {
     "name": "stderr",
     "output_type": "stream",
     "text": [
      "  7% |#####                                                                   |\r"
     ]
    },
    {
     "name": "stdout",
     "output_type": "stream",
     "text": [
      "[0.9998338  0.9998338  0.99979275 0.99974865 0.9997279  0.99961996\n",
      " 0.99961996 0.9995497  0.9995345  0.99921906 0.9991978  0.9991934\n",
      " 0.9991247  0.9989785  0.9989619  0.9988242  0.99880934 0.99880934\n",
      " 0.99876887 0.9987569  0.9987437  0.9987437  0.99871254 0.99868184\n",
      " 0.99843043 0.9982975  0.9981987  0.99819595 0.99806553 0.9980603\n",
      " 0.9979315  0.9979067  0.9978163  0.9977701  0.99776244 0.99775463\n",
      " 0.99770206 0.9976566  0.99755055 0.9974886 ]\n",
      "[0.99998116 0.99966896 0.99963737 0.9995491  0.999401   0.99939716\n",
      " 0.9992617  0.9992617  0.99917287 0.9991455  0.9991209  0.99882835\n",
      " 0.99878496 0.99861956 0.99861836 0.99861836 0.99861836 0.99860173\n",
      " 0.9985966  0.9985593  0.99855703 0.9984621  0.9984604  0.9984497\n",
      " 0.9983248  0.99830097 0.9982072  0.99820495 0.99819916 0.9981505\n",
      " 0.9980166  0.99798703 0.9979717  0.99786794 0.997757   0.99767\n",
      " 0.99762374 0.9976156  0.9976023  0.9975732 ]\n",
      "[0.9993938  0.99912494 0.99912494 0.9983834  0.995983   0.9946173\n",
      " 0.9946173  0.9945446  0.9936441  0.99351114 0.99333066 0.9933206\n",
      " 0.99195474 0.99168855 0.99128306 0.9910944  0.990842   0.9907918\n",
      " 0.9904869  0.9904508  0.9898263  0.98960775 0.9894449  0.9892167\n",
      " 0.98873025 0.9882032  0.98814744 0.9879578  0.9878512  0.98658854\n",
      " 0.9864123  0.98638237 0.98634815 0.98616564 0.9859374  0.9859313\n",
      " 0.985897   0.9858828  0.9849554  0.9847668 ]\n",
      "[0.9986966  0.9977139  0.9959416  0.99333066 0.99319685 0.9914621\n",
      " 0.9912845  0.9908202  0.9899384  0.98989826 0.9889259  0.9888209\n",
      " 0.9885634  0.9882684  0.98814744 0.9879689  0.9879204  0.98780173\n",
      " 0.98754245 0.9874893  0.98705137 0.9867951  0.98658854 0.98658854\n",
      " 0.9864123  0.98633355 0.98616564 0.98608273 0.9859313  0.98565316\n",
      " 0.9854952  0.9853419  0.9853419  0.9852386  0.9849362  0.98486245\n",
      " 0.98472834 0.98472834 0.98467493 0.98445547]\n",
      "[0.99894553 0.9981943  0.9965669  0.99648935 0.9963213  0.9960353\n",
      " 0.9956434  0.99528426 0.99405175 0.993956   0.9939348  0.99374205\n",
      " 0.99202067 0.9913072  0.9910386  0.99101454 0.990316   0.9903042\n",
      " 0.98996663 0.98989826 0.98960775 0.98933357 0.98890334 0.98871875\n",
      " 0.9885727  0.98852265 0.98839754 0.9881621  0.9879578  0.9878512\n",
      " 0.98773414 0.9875709  0.98713094 0.9870745  0.9869307  0.98688275\n",
      " 0.98654944 0.9862816  0.986252   0.9862363 ]\n"
     ]
    },
    {
     "name": "stderr",
     "output_type": "stream",
     "text": [
      "  8% |#####                                                                   |\r"
     ]
    },
    {
     "name": "stdout",
     "output_type": "stream",
     "text": [
      "[0.9995478  0.9990748  0.9986966  0.9981943  0.9977139  0.9939348\n",
      " 0.99374205 0.99335456 0.99335456 0.9925915  0.99202067 0.99148667\n",
      " 0.99128515 0.99103504 0.9904508  0.99032485 0.99014294 0.989967\n",
      " 0.98996663 0.98933357 0.9889698  0.98894393 0.9886746  0.9886746\n",
      " 0.9886746  0.98855805 0.9880889  0.98756033 0.98756033 0.9874171\n",
      " 0.9874171  0.9874171  0.9874171  0.9874121  0.98680127 0.986636\n",
      " 0.9865805  0.9864482  0.9864442  0.98639756]\n",
      "[0.99894553 0.99648935 0.99648935 0.99577004 0.99577004 0.9957373\n",
      " 0.9946173  0.993956   0.99168855 0.99139446 0.9908749  0.990842\n",
      " 0.9907066  0.99055123 0.989967   0.98933357 0.98876256 0.98873425\n",
      " 0.9885727  0.98775893 0.9874286  0.9872994  0.98696774 0.98693466\n",
      " 0.9864123  0.98637146 0.9862228  0.98608273 0.98555213 0.98528427\n",
      " 0.9852386  0.9852129  0.9850487  0.98492116 0.98472834 0.98447\n",
      " 0.9838574  0.98373806 0.98373806 0.98372275]\n",
      "[0.9993938  0.9981943  0.99722135 0.9966877  0.9945446  0.9943619\n",
      " 0.9931384  0.99202067 0.99168855 0.99128515 0.99109143 0.990842\n",
      " 0.99055123 0.99055123 0.9891533  0.9888304  0.9888209  0.9887102\n",
      " 0.98852265 0.98845345 0.98817563 0.98814744 0.9879578  0.9879204\n",
      " 0.98780173 0.98766035 0.98766035 0.98753124 0.987495   0.98717135\n",
      " 0.9870488  0.9865601  0.9864442  0.98634815 0.98616564 0.98582447\n",
      " 0.9854952  0.9854952  0.9852401  0.9851992 ]\n",
      "[0.9980496  0.99683505 0.9948148  0.9939348  0.9925915  0.99139446\n",
      " 0.9913009  0.99097365 0.9908875  0.9908749  0.9898263  0.9897837\n",
      " 0.9897837  0.98960775 0.98890334 0.9888304  0.98873025 0.98859686\n",
      " 0.98832977 0.98814744 0.98792654 0.9879204  0.9879204  0.98767006\n",
      " 0.9874286  0.98727036 0.9870488  0.9870488  0.98702955 0.9866022\n",
      " 0.98637146 0.98637146 0.9859577  0.9859577  0.98578787 0.9852454\n",
      " 0.9851687  0.9850935  0.985038   0.9849937 ]\n",
      "[0.9999175  0.99979013 0.9997564  0.99946696 0.99936765 0.99895006\n",
      " 0.99895006 0.99874675 0.9987128  0.9985776  0.99838614 0.9983278\n",
      " 0.9982551  0.99810684 0.99802375 0.997976   0.9979411  0.9977773\n",
      " 0.9977773  0.9977684  0.99769586 0.99753785 0.99746525 0.99740654\n",
      " 0.9973937  0.9973917  0.99728346 0.99725777 0.99722207 0.9971533\n",
      " 0.99699914 0.9969908  0.9969091  0.99688417 0.9968257  0.9968071\n",
      " 0.99677676 0.9966888  0.99666864 0.99660945]\n"
     ]
    },
    {
     "name": "stderr",
     "output_type": "stream",
     "text": [
      "  9% |######                                                                  |\r"
     ]
    },
    {
     "name": "stdout",
     "output_type": "stream",
     "text": [
      "[0.9998142  0.9997892  0.99975437 0.99971837 0.99970573 0.99963117\n",
      " 0.99962866 0.99958557 0.99949217 0.99949217 0.9994155  0.9994141\n",
      " 0.99938774 0.99938774 0.99937207 0.999366   0.9993537  0.9993267\n",
      " 0.999326   0.99926656 0.9992644  0.9992487  0.9992459  0.9991511\n",
      " 0.9991277  0.99909806 0.9990823  0.99900585 0.99900585 0.9989802\n",
      " 0.9988949  0.9988949  0.99882287 0.99882287 0.99880934 0.99875784\n",
      " 0.9987294  0.9986934  0.9986891  0.99868685]\n",
      "[0.99983144 0.9995478  0.99894553 0.9981943  0.99672    0.9949544\n",
      " 0.99438757 0.9943077  0.99351114 0.99175394 0.99055123 0.990408\n",
      " 0.990319   0.9899014  0.98982847 0.98982847 0.9896769  0.9891426\n",
      " 0.98912233 0.9887811  0.9886746  0.9885727  0.9882684  0.9874628\n",
      " 0.9873986  0.98725325 0.9870667  0.98688275 0.9867951  0.98675644\n",
      " 0.9864253  0.9864123  0.9863897  0.98634815 0.9862363  0.98616564\n",
      " 0.9860771  0.98595494 0.98574346 0.9855114 ]\n",
      "[0.9990748  0.9981042  0.9966877  0.9965669  0.9949544  0.9944857\n",
      " 0.99405175 0.9936441  0.99168855 0.9916421  0.9913009  0.9910944\n",
      " 0.99103504 0.99097997 0.99065    0.9905991  0.990319   0.99014294\n",
      " 0.9899809  0.98991394 0.9896102  0.98946524 0.9894049  0.989027\n",
      " 0.98894393 0.9887102  0.9885211  0.98839754 0.98832977 0.9882032\n",
      " 0.9879689  0.9879204  0.98790467 0.98775893 0.9875709  0.98756033\n",
      " 0.9874538  0.9874286  0.9874171  0.9868197 ]\n",
      "[0.9998659  0.99976593 0.999736   0.99967885 0.99964714 0.99963105\n",
      " 0.9996112  0.99956065 0.99949765 0.9994861  0.99947673 0.99939966\n",
      " 0.99938273 0.9993563  0.9993311  0.9993149  0.9993082  0.9993051\n",
      " 0.9991621  0.99915624 0.9991504  0.9991411  0.9991211  0.9989858\n",
      " 0.99897814 0.9989766  0.9989316  0.998922   0.99886215 0.9988495\n",
      " 0.9988154  0.99876827 0.9986539  0.9985487  0.9985468  0.9984371\n",
      " 0.99840635 0.9983883  0.99821484 0.9982114 ]\n",
      "[0.99826753 0.9981042  0.99683505 0.9967437  0.99648935 0.9948907\n",
      " 0.9945446  0.9943619  0.9943619  0.99168855 0.99137783 0.99109143\n",
      " 0.9910522  0.99101454 0.990842   0.99032485 0.9903042  0.9903042\n",
      " 0.9899384  0.98984945 0.98982847 0.9896606  0.98960775 0.9895104\n",
      " 0.98912233 0.98889285 0.9887811  0.9879204  0.9878512  0.98761475\n",
      " 0.98753124 0.9874286  0.9874121  0.9869546  0.9868175  0.9865601\n",
      " 0.98654455 0.9862846  0.98628324 0.98608273]\n"
     ]
    },
    {
     "name": "stderr",
     "output_type": "stream",
     "text": [
      " 10% |#######                                                                 |\r"
     ]
    },
    {
     "name": "stdout",
     "output_type": "stream",
     "text": [
      "[0.9999474  0.99992204 0.9998375  0.999816   0.9998023  0.9997744\n",
      " 0.9996985  0.99963784 0.9996197  0.9995449  0.9995291  0.9995221\n",
      " 0.99951684 0.9995147  0.9995147  0.9995147  0.99946326 0.9994462\n",
      " 0.99943393 0.9994235  0.9994215  0.99941826 0.99940157 0.9993938\n",
      " 0.99937916 0.99936837 0.99927646 0.9992712  0.99923813 0.9992353\n",
      " 0.9992261  0.99922574 0.99922144 0.99922025 0.9992101  0.9992023\n",
      " 0.9991518  0.9991179  0.99911326 0.99909675]\n",
      "[0.9990748  0.9986966  0.9983834  0.9977139  0.99652475 0.9959416\n",
      " 0.9945446  0.994118   0.9939348  0.9937543  0.9925915  0.9922983\n",
      " 0.9912845  0.99103504 0.9908749  0.9904869  0.9903956  0.9903042\n",
      " 0.98982847 0.9891533  0.9891533  0.9887967  0.98873025 0.98871875\n",
      " 0.98845345 0.98832977 0.9882047  0.9882032  0.9878512  0.987495\n",
      " 0.9874893  0.9874121  0.98738396 0.9872717  0.9870684  0.9867951\n",
      " 0.98659885 0.9860771  0.9854494  0.9854494 ]\n",
      "[0.99860567 0.99826753 0.9980496  0.9980496  0.99672    0.9954347\n",
      " 0.9954347  0.9951572  0.9949544  0.99168855 0.99168855 0.9896769\n",
      " 0.98960775 0.989027   0.9889698  0.9888209  0.9887102  0.9885211\n",
      " 0.9885211  0.98845345 0.9882684  0.98798174 0.9879578  0.9879578\n",
      " 0.9879204  0.98756033 0.987495   0.9874171  0.986636   0.98634815\n",
      " 0.9862816  0.9860771  0.9859244  0.9851992  0.9851992  0.9849924\n",
      " 0.9849362  0.98492926 0.98492116 0.98458093]\n",
      "[0.99983144 0.99944276 0.9981042  0.99438757 0.99351114 0.99137783\n",
      " 0.9904869  0.98982847 0.9893779  0.9889698  0.98853683 0.98836577\n",
      " 0.9882047  0.98770756 0.98770756 0.98754245 0.9874121  0.9872994\n",
      " 0.98727036 0.98705137 0.98658854 0.9864253  0.9864123  0.98628324\n",
      " 0.9855849  0.98547363 0.98524255 0.9851333  0.9851231  0.98506606\n",
      " 0.98492116 0.9846015  0.98452073 0.9844072  0.98402333 0.9839085\n",
      " 0.9838574  0.98372895 0.98372895 0.98372126]\n",
      "[0.9995241  0.9993994  0.9991854  0.99917126 0.9990466  0.99880004\n",
      " 0.9987148  0.99854714 0.9984534  0.99832815 0.9981244  0.9980171\n",
      " 0.9979906  0.99793684 0.997926   0.99785066 0.9977422  0.99769706\n",
      " 0.9976109  0.9976109  0.9975527  0.99752706 0.99751866 0.9974989\n",
      " 0.9973356  0.99724007 0.9972065  0.9972065  0.99709237 0.99708074\n",
      " 0.9970626  0.99705386 0.9969753  0.99695635 0.9969537  0.9969048\n",
      " 0.9968376  0.9967416  0.9966229  0.99652606]\n"
     ]
    },
    {
     "name": "stderr",
     "output_type": "stream",
     "text": [
      " 11% |#######                                                                 |\r"
     ]
    },
    {
     "name": "stdout",
     "output_type": "stream",
     "text": [
      "[0.99988806 0.99987984 0.9998691  0.99985945 0.99985135 0.9998388\n",
      " 0.9998388  0.9998305  0.99976057 0.99973875 0.99972504 0.9997112\n",
      " 0.99970764 0.9996456  0.99963903 0.999617   0.9996126  0.9996111\n",
      " 0.99953973 0.9995358  0.99950826 0.9995073  0.9995043  0.9994912\n",
      " 0.9994777  0.9994747  0.9994672  0.9994295  0.9993806  0.9993806\n",
      " 0.9993648  0.9993259  0.9993056  0.9992902  0.9992717  0.9992717\n",
      " 0.9992557  0.9992229  0.99920565 0.99918514]\n",
      "[0.99991894 0.9998492  0.9998319  0.9998141  0.99977297 0.9997398\n",
      " 0.9997334  0.999705   0.9996612  0.99963963 0.9996357  0.999603\n",
      " 0.9995035  0.99950147 0.99950147 0.9994875  0.9994635  0.99943835\n",
      " 0.9994198  0.999383   0.99937135 0.99937135 0.99932325 0.9992933\n",
      " 0.9992933  0.9992841  0.99927837 0.99924916 0.9992054  0.9991684\n",
      " 0.9991604  0.9991534  0.99906284 0.9990607  0.9990515  0.9990337\n",
      " 0.99898154 0.99893945 0.99892896 0.99892896]\n",
      "[0.99998295 0.9999504  0.999795   0.99969566 0.9996625  0.99962056\n",
      " 0.99960774 0.9995741  0.9995704  0.99952126 0.9994578  0.9994566\n",
      " 0.9994529  0.9994523  0.99943596 0.99943215 0.99943215 0.9994211\n",
      " 0.99941695 0.99941695 0.9994048  0.9993123  0.99929404 0.99920756\n",
      " 0.99919575 0.9991636  0.9991013  0.999081   0.99907696 0.99905604\n",
      " 0.99902177 0.99899095 0.9989656  0.9989422  0.9989017  0.99886703\n",
      " 0.9987728  0.9987702  0.99876213 0.998754  ]\n",
      "[0.9986966  0.99826753 0.99672    0.9954347  0.9949544  0.9943619\n",
      " 0.9943347  0.994118   0.9939348  0.9931384  0.99256647 0.9914621\n",
      " 0.99128515 0.9908749  0.9904869  0.9903042  0.989967   0.98996663\n",
      " 0.9897837  0.9896769  0.98960775 0.9894049  0.9894049  0.9892833\n",
      " 0.9888465  0.9887811  0.9886746  0.98845345 0.98775893 0.98767006\n",
      " 0.98725325 0.98717135 0.98688275 0.98675644 0.98675644 0.98616564\n",
      " 0.985897   0.98563266 0.9853613  0.98535955]\n",
      "[0.9998846  0.999864   0.9998275  0.9997991  0.9997869  0.9997811\n",
      " 0.9997081  0.9996929  0.9996909  0.99965894 0.9996389  0.9995912\n",
      " 0.99956244 0.9995546  0.9995183  0.99949837 0.9994843  0.99946934\n",
      " 0.99942446 0.9994222  0.9994149  0.99937207 0.9993636  0.99934536\n",
      " 0.9992835  0.9992404  0.9992404  0.99919266 0.9991493  0.99912184\n",
      " 0.99909985 0.9990965  0.9990231  0.9989329  0.9989195  0.99890494\n",
      " 0.99889576 0.9988919  0.9987955  0.9987895 ]\n"
     ]
    },
    {
     "name": "stderr",
     "output_type": "stream",
     "text": [
      " 12% |########                                                                |\r"
     ]
    },
    {
     "name": "stdout",
     "output_type": "stream",
     "text": [
      "[0.9998716  0.9998653  0.9998399  0.9998098  0.9997348  0.99971515\n",
      " 0.9996408  0.99962234 0.999587   0.99957687 0.9995573  0.9995272\n",
      " 0.9994331  0.99940526 0.9993167  0.99930155 0.99926966 0.99925405\n",
      " 0.9992499  0.99921954 0.9992186  0.9991775  0.9990753  0.9990621\n",
      " 0.9990514  0.99895966 0.99895966 0.99892944 0.9989197  0.99885523\n",
      " 0.9988231  0.99879164 0.99879164 0.9987255  0.99865085 0.9986338\n",
      " 0.99858934 0.9985481  0.9985258  0.99845827]\n",
      "[0.99963546 0.9986966  0.9986966  0.99672    0.9950917  0.9950917\n",
      " 0.9945446  0.9933206  0.99275523 0.99210465 0.9918065  0.9914621\n",
      " 0.99109143 0.9908202  0.9907918  0.9904869  0.99014294 0.99014294\n",
      " 0.98962384 0.9891533  0.9890085  0.9888465  0.9887967  0.9886141\n",
      " 0.98836577 0.98761475 0.9875709  0.98756033 0.9874121  0.9873986\n",
      " 0.98738396 0.9860508  0.98595494 0.9859374  0.9858978  0.9852386\n",
      " 0.9852129  0.9851992  0.9850487  0.98496336]\n",
      "[0.99999297 0.99985385 0.9998387  0.9998373  0.9998373  0.9997682\n",
      " 0.99975497 0.99966764 0.9996674  0.99960965 0.99959654 0.9994673\n",
      " 0.9993993  0.9993782  0.9993767  0.9993611  0.9993119  0.9992275\n",
      " 0.999086   0.9989544  0.99894744 0.9988556  0.9988411  0.9988243\n",
      " 0.9988243  0.99875605 0.99875605 0.99865204 0.99852836 0.99840754\n",
      " 0.99838495 0.99825996 0.9981798  0.9981178  0.99806863 0.99801755\n",
      " 0.9979808  0.9979808  0.9978678  0.99775463]\n",
      "[0.9987544  0.99672    0.9960353  0.9956434  0.9945446  0.9943619\n",
      " 0.9943619  0.993956   0.993956   0.99195474 0.9918876  0.9918065\n",
      " 0.9917464  0.9907066  0.99066895 0.990575   0.9904508  0.9903957\n",
      " 0.99032485 0.990319   0.9899384  0.9894049  0.9894049  0.9886076\n",
      " 0.98853683 0.98839754 0.98836577 0.9882047  0.98766035 0.9874171\n",
      " 0.98717135 0.9868197  0.9868175  0.9868175  0.98641324 0.98641324\n",
      " 0.9863897  0.986252   0.9861601  0.9858543 ]\n",
      "[0.99999833 0.9999927  0.99997675 0.9999714  0.9999713  0.99995995\n",
      " 0.99995923 0.99993694 0.9999237  0.9999144  0.99990296 0.99990225\n",
      " 0.99990165 0.9999013  0.99989665 0.99985635 0.9998528  0.9998246\n",
      " 0.9998221  0.9998203  0.9998047  0.99979645 0.99979013 0.99979013\n",
      " 0.9997781  0.99977297 0.99976987 0.9997664  0.9997639  0.9997615\n",
      " 0.999759   0.99975735 0.99974865 0.9997311  0.99972945 0.9997278\n",
      " 0.99972636 0.9997198  0.999701   0.999673  ]\n"
     ]
    },
    {
     "name": "stderr",
     "output_type": "stream",
     "text": [
      " 13% |#########                                                               |\r"
     ]
    },
    {
     "name": "stdout",
     "output_type": "stream",
     "text": [
      "[0.9993938  0.9966877  0.99652475 0.9951572  0.9944563  0.9938883\n",
      " 0.9918876  0.9916421  0.9916421  0.99137783 0.9908875  0.99032485\n",
      " 0.989967   0.9899014  0.98984945 0.9887811  0.9882047  0.9879689\n",
      " 0.98756033 0.9874085  0.98738396 0.986636   0.9864442  0.98638237\n",
      " 0.9862228  0.985897   0.9858543  0.9857964  0.9856872  0.9853613\n",
      " 0.98535955 0.9850487  0.985038   0.98496336 0.98467493 0.98447925\n",
      " 0.98445547 0.9844434  0.984443   0.98417795]\n",
      "[0.99894553 0.9987544  0.9972475  0.99683505 0.99648935 0.9947048\n",
      " 0.993956   0.99275523 0.9918876  0.9913152  0.9907918  0.990575\n",
      " 0.990408   0.99012053 0.9896769  0.98962384 0.989022   0.98873025\n",
      " 0.9880904  0.98792654 0.98761475 0.9872994  0.9872171  0.98713094\n",
      " 0.9868175  0.98637146 0.9860771  0.9859374  0.9854952  0.9853419\n",
      " 0.9853419  0.9852401  0.9850487  0.98502445 0.98496336 0.98493284\n",
      " 0.98486245 0.98445547 0.9843035  0.9840837 ]\n",
      "[0.9956434  0.9945446  0.9936441  0.99333066 0.99333066 0.9918876\n",
      " 0.9913009  0.9912845  0.99097997 0.99097365 0.9908875  0.99032485\n",
      " 0.9896102  0.989022   0.9887811  0.98873425 0.98873425 0.98855805\n",
      " 0.98836577 0.9882047  0.98773414 0.98753124 0.9875014  0.9874286\n",
      " 0.9874121  0.9872171  0.98713094 0.98705137 0.98659885 0.98654944\n",
      " 0.98641324 0.9862846  0.986252   0.9860771  0.9857964  0.9856872\n",
      " 0.9855527  0.98555213 0.9854952  0.9852367 ]\n",
      "[0.99963546 0.9986966  0.9965669  0.9959416  0.9951572  0.9917464\n",
      " 0.99168855 0.99148667 0.99131435 0.99131435 0.9910944  0.9908749\n",
      " 0.99065    0.990575   0.990408   0.989967   0.9896769  0.9893779\n",
      " 0.98894393 0.9887102  0.9885634  0.98845345 0.9880904  0.98780173\n",
      " 0.98770756 0.98764825 0.98754245 0.9874628  0.98725325 0.9865363\n",
      " 0.9864442  0.98639756 0.9863073  0.98608273 0.9860771  0.98578787\n",
      " 0.9855114  0.98538184 0.98535955 0.98514634]\n",
      "[0.99989116 0.99989116 0.99980575 0.99978226 0.999577   0.99954647\n",
      " 0.999509   0.9993887  0.9993781  0.9993304  0.9993075  0.99923706\n",
      " 0.9992361  0.9991985  0.9991748  0.99905306 0.99901783 0.9990164\n",
      " 0.9990125  0.99899    0.9989839  0.99884796 0.99882394 0.9988165\n",
      " 0.99880266 0.9987633  0.99870646 0.9987025  0.99869764 0.99869233\n",
      " 0.9986853  0.9985031  0.99848086 0.9984774  0.9982659  0.99823195\n",
      " 0.9981665  0.998164   0.99816364 0.9981558 ]\n"
     ]
    },
    {
     "name": "stderr",
     "output_type": "stream",
     "text": [
      " 14% |##########                                                              |\r"
     ]
    },
    {
     "name": "stdout",
     "output_type": "stream",
     "text": [
      "[0.9995478  0.9983834  0.9967437  0.99672    0.9949544  0.9945088\n",
      " 0.9944563  0.9937543  0.9936441  0.99351114 0.99202067 0.9916421\n",
      " 0.99152815 0.99124676 0.99101454 0.9907918  0.9907918  0.9899384\n",
      " 0.98989826 0.9897837  0.98933357 0.9891867  0.9891533  0.9887811\n",
      " 0.9886746  0.9886072  0.98836577 0.98801863 0.9879578  0.98790467\n",
      " 0.9875546  0.98754245 0.98753124 0.98746324 0.9874628  0.9874538\n",
      " 0.9874286  0.98727036 0.98725325 0.98705137]\n",
      "[0.9999838  0.9999789  0.99985385 0.999843   0.9996717  0.9995696\n",
      " 0.9995659  0.99947053 0.9994374  0.99941707 0.999388   0.9993606\n",
      " 0.99922824 0.99922824 0.99922824 0.9991467  0.9991279  0.99904174\n",
      " 0.9989858  0.99888307 0.99888307 0.99885154 0.9988446  0.9988294\n",
      " 0.99865156 0.99861085 0.99860674 0.9985844  0.99852705 0.998345\n",
      " 0.99829787 0.9982481  0.9981071  0.9980071  0.9979316  0.9979298\n",
      " 0.99790525 0.99790525 0.9978314  0.99779725]\n",
      "[0.9999765  0.9999348  0.9999285  0.9998841  0.9998535  0.9998006\n",
      " 0.9997907  0.99971133 0.999676   0.99967134 0.9996295  0.9996295\n",
      " 0.99962175 0.99962175 0.9996086  0.9995902  0.9995709  0.9995609\n",
      " 0.9995596  0.9995584  0.9995468  0.9995395  0.99951935 0.9995158\n",
      " 0.99949455 0.9994893  0.9994765  0.99947244 0.999451   0.9994123\n",
      " 0.99938726 0.99937505 0.9993104  0.9992778  0.99922645 0.9991811\n",
      " 0.99916637 0.9991522  0.9991472  0.9991279 ]\n",
      "[0.99963546 0.9986966  0.9986966  0.9981943  0.9977139  0.9972475\n",
      " 0.99683505 0.99672    0.9966877  0.9965669  0.9963213  0.9959416\n",
      " 0.9947048  0.9943077  0.993956   0.9939348  0.99374205 0.9933935\n",
      " 0.9933935  0.9933935  0.99319685 0.9925915  0.9917464  0.9917464\n",
      " 0.99128306 0.99109143 0.9907787  0.9904869  0.9893779  0.9892167\n",
      " 0.98889285 0.9887811  0.98876256 0.98839754 0.9882273  0.9882273\n",
      " 0.98801863 0.9879578  0.98790467 0.9878512 ]\n",
      "[0.9990748  0.9986966  0.99697196 0.99577004 0.9949544  0.9938938\n",
      " 0.9938883  0.9917026  0.9917026  0.99168855 0.99137783 0.99128515\n",
      " 0.9897837  0.9889698  0.9888304  0.9887102  0.98790467 0.98790467\n",
      " 0.98790467 0.9874171  0.9874121  0.98719263 0.9870745  0.98696774\n",
      " 0.9869546  0.98654455 0.98616564 0.9861601  0.9858978  0.9858543\n",
      " 0.98578787 0.9856371  0.98555213 0.9853419  0.98524255 0.9852401\n",
      " 0.9852129  0.98492855 0.98458254 0.98458093]\n"
     ]
    },
    {
     "name": "stderr",
     "output_type": "stream",
     "text": [
      " 15% |##########                                                              |\r"
     ]
    },
    {
     "name": "stdout",
     "output_type": "stream",
     "text": [
      "[0.9977139  0.99683505 0.99652475 0.9933935  0.99202067 0.9917464\n",
      " 0.9914621  0.99137783 0.9910386  0.99097365 0.9908202  0.989967\n",
      " 0.9897837  0.9894449  0.98859686 0.98853683 0.98839754 0.98817563\n",
      " 0.9880904  0.98775893 0.98770756 0.98767006 0.98746324 0.98713094\n",
      " 0.9868197  0.98608273 0.9856725  0.9856371  0.9854494  0.9851992\n",
      " 0.98496336 0.9847668  0.9847668  0.98417795 0.98402333 0.9838574\n",
      " 0.9838217  0.98372126 0.98368907 0.98359513]\n",
      "[0.99956614 0.9993938  0.99912494 0.99912494 0.9966877  0.9965669\n",
      " 0.99652475 0.9957373  0.99524176 0.994118   0.99374205 0.9915605\n",
      " 0.9915605  0.9908202  0.9908202  0.9899603  0.9899014  0.9894449\n",
      " 0.98890334 0.9888209  0.98853683 0.9881941  0.98761475 0.98719263\n",
      " 0.98702955 0.986542   0.98641324 0.9862017  0.9862017  0.985897\n",
      " 0.98582447 0.9856872  0.98563266 0.98535955 0.9851687  0.9851231\n",
      " 0.9850935  0.9849037  0.98467493 0.9846015 ]\n",
      "[0.9993938  0.9967437  0.9950917  0.9949544  0.9949013  0.9944857\n",
      " 0.9938883  0.9938883  0.9916421  0.99101454 0.99097365 0.990319\n",
      " 0.990316   0.989967   0.98962384 0.98946524 0.9894449  0.9890085\n",
      " 0.98894393 0.9887811  0.9885211  0.9882047  0.9881941  0.98756033\n",
      " 0.98754245 0.9874286  0.9873986  0.9872717  0.9872171  0.9864482\n",
      " 0.98634815 0.9863073  0.9859374  0.98581684 0.9857964  0.98578787\n",
      " 0.9852401  0.9852367  0.9849924  0.9849554 ]\n",
      "[0.99652475 0.99648935 0.9960353  0.9945446  0.99351114 0.9922983\n",
      " 0.9908886  0.99055123 0.9905015  0.9902784  0.99012053 0.9899384\n",
      " 0.98984945 0.9896102  0.98946524 0.989027   0.989022   0.9889259\n",
      " 0.98871875 0.98817563 0.9881621  0.98766035 0.98761475 0.98754245\n",
      " 0.98693466 0.98654944 0.9864253  0.98628324 0.98608273 0.9854494\n",
      " 0.9849924  0.9846811  0.98458254 0.9844413  0.9841324  0.98411894\n",
      " 0.98404586 0.983931   0.9837945  0.98372126]\n",
      "[0.99963546 0.99652475 0.9946173  0.99256647 0.9918876  0.99137783\n",
      " 0.99103504 0.9907787  0.9904508  0.99014294 0.9899384  0.98946524\n",
      " 0.9891011  0.9888465  0.9888209  0.98855805 0.98855805 0.9882684\n",
      " 0.98814744 0.98798174 0.9879689  0.9870684  0.986542   0.9864442\n",
      " 0.98641324 0.9863122  0.9862363  0.9856872  0.98547363 0.9854494\n",
      " 0.9851687  0.9849924  0.98467493 0.98447925 0.9842609  0.9839199\n",
      " 0.9839199  0.9839085  0.98390293 0.9837473 ]\n"
     ]
    },
    {
     "name": "stderr",
     "output_type": "stream",
     "text": [
      " 16% |###########                                                             |\r"
     ]
    },
    {
     "name": "stdout",
     "output_type": "stream",
     "text": [
      "[0.99999034 0.9999862  0.99992037 0.99981505 0.99978966 0.999747\n",
      " 0.99971706 0.99966574 0.9996536  0.9995534  0.99947244 0.99947244\n",
      " 0.99945325 0.9993292  0.99931216 0.9992588  0.9992206  0.9991297\n",
      " 0.99912673 0.99911886 0.99908984 0.9990835  0.99901366 0.9990075\n",
      " 0.9989575  0.99894494 0.9988381  0.99880826 0.99880826 0.9986217\n",
      " 0.9986022  0.99856794 0.9985636  0.99847966 0.9984787  0.9984396\n",
      " 0.9984301  0.99841046 0.9983876  0.9983694 ]\n",
      "[0.9999969  0.9997576  0.9996679  0.999617   0.999617   0.9996132\n",
      " 0.9995223  0.999509   0.9994199  0.99936694 0.9993637  0.99930966\n",
      " 0.9992926  0.99920386 0.9991543  0.99903655 0.9989649  0.9989237\n",
      " 0.9989164  0.9989023  0.99888784 0.9988512  0.9988248  0.9988136\n",
      " 0.9988072  0.9987016  0.99869496 0.9986565  0.9985751  0.9985671\n",
      " 0.9984837  0.9983726  0.998251   0.99819225 0.9981748  0.9980989\n",
      " 0.9980883  0.99807644 0.9980484  0.99797636]\n",
      "[0.99983144 0.9981943  0.99722135 0.9945446  0.9916421  0.9910944\n",
      " 0.990575   0.99055123 0.99032485 0.9899384  0.9899014  0.9896606\n",
      " 0.98946524 0.9894649  0.98912233 0.9891011  0.9888209  0.9886746\n",
      " 0.9882684  0.9865805  0.9865805  0.9864123  0.98608273 0.9857964\n",
      " 0.9854952  0.98528427 0.9852129  0.9851687  0.98514    0.9851231\n",
      " 0.98502445 0.9846811  0.9846811  0.9844434  0.9841865  0.9841865\n",
      " 0.98411894 0.98404837 0.98386085 0.98386   ]\n",
      "[0.99999726 0.9999852  0.99981374 0.9996693  0.9996693  0.99961287\n",
      " 0.9996038  0.99957436 0.9994894  0.9994442  0.99944025 0.99942255\n",
      " 0.99942255 0.99942076 0.9993581  0.99933016 0.9992976  0.99923646\n",
      " 0.99922025 0.99921644 0.99918836 0.99914134 0.999132   0.9990885\n",
      " 0.9990808  0.9990615  0.99905854 0.9990145  0.99900764 0.9989925\n",
      " 0.9989794  0.99890924 0.9988907  0.99888355 0.99885917 0.9988343\n",
      " 0.9987949  0.99879164 0.99878687 0.99860805]\n",
      "[0.99985623 0.9998172  0.9996123  0.99954623 0.9994429  0.99940705\n",
      " 0.9993783  0.9993668  0.99936074 0.99934953 0.9993031  0.99929047\n",
      " 0.99925226 0.99923694 0.9991848  0.9991673  0.9991549  0.99915385\n",
      " 0.9991001  0.99909055 0.99908864 0.99908817 0.99903476 0.99899036\n",
      " 0.99899036 0.99894434 0.9988937  0.99887496 0.99880743 0.99880743\n",
      " 0.9988071  0.9988071  0.9987909  0.9987909  0.9987532  0.9987212\n",
      " 0.99871385 0.9986957  0.99863154 0.9985461 ]\n"
     ]
    },
    {
     "ename": "KeyboardInterrupt",
     "evalue": "",
     "output_type": "error",
     "traceback": [
      "\u001b[0;31m---------------------------------------------------------------------------\u001b[0m",
      "\u001b[0;31mKeyboardInterrupt\u001b[0m                         Traceback (most recent call last)",
      "\u001b[0;32m<ipython-input-165-71b2441444bf>\u001b[0m in \u001b[0;36m<module>\u001b[0;34m\u001b[0m\n\u001b[1;32m     10\u001b[0m     \u001b[0muser_array\u001b[0m \u001b[0;34m=\u001b[0m \u001b[0mnp\u001b[0m\u001b[0;34m.\u001b[0m\u001b[0mfull\u001b[0m\u001b[0;34m(\u001b[0m\u001b[0mlen\u001b[0m\u001b[0;34m(\u001b[0m\u001b[0mtotal_sample\u001b[0m\u001b[0;34m)\u001b[0m\u001b[0;34m,\u001b[0m \u001b[0mu\u001b[0m\u001b[0;34m,\u001b[0m \u001b[0mdtype\u001b[0m\u001b[0;34m=\u001b[0m\u001b[0;34m'int32'\u001b[0m\u001b[0;34m)\u001b[0m\u001b[0;34m\u001b[0m\u001b[0;34m\u001b[0m\u001b[0m\n\u001b[1;32m     11\u001b[0m \u001b[0;34m\u001b[0m\u001b[0m\n\u001b[0;32m---> 12\u001b[0;31m     \u001b[0mpreds\u001b[0m \u001b[0;34m=\u001b[0m \u001b[0mnp\u001b[0m\u001b[0;34m.\u001b[0m\u001b[0mhstack\u001b[0m\u001b[0;34m(\u001b[0m\u001b[0mmodel\u001b[0m\u001b[0;34m.\u001b[0m\u001b[0mpredict\u001b[0m\u001b[0;34m(\u001b[0m\u001b[0;34m[\u001b[0m\u001b[0muser_array\u001b[0m\u001b[0;34m,\u001b[0m \u001b[0mtotal_sample\u001b[0m\u001b[0;34m]\u001b[0m\u001b[0;34m,\u001b[0m \u001b[0mbatch_size\u001b[0m\u001b[0;34m=\u001b[0m\u001b[0msample_len\u001b[0m\u001b[0;34m,\u001b[0m \u001b[0mverbose\u001b[0m\u001b[0;34m=\u001b[0m\u001b[0;36m0\u001b[0m\u001b[0;34m)\u001b[0m\u001b[0;34m)\u001b[0m\u001b[0;34m\u001b[0m\u001b[0;34m\u001b[0m\u001b[0m\n\u001b[0m\u001b[1;32m     13\u001b[0m     \u001b[0mprint\u001b[0m\u001b[0;34m(\u001b[0m\u001b[0mnp\u001b[0m\u001b[0;34m.\u001b[0m\u001b[0msort\u001b[0m\u001b[0;34m(\u001b[0m\u001b[0mpreds\u001b[0m\u001b[0;34m)\u001b[0m\u001b[0;34m[\u001b[0m\u001b[0;34m-\u001b[0m\u001b[0;36m40\u001b[0m\u001b[0;34m:\u001b[0m\u001b[0;34m]\u001b[0m\u001b[0;34m[\u001b[0m\u001b[0;34m:\u001b[0m\u001b[0;34m:\u001b[0m\u001b[0;34m-\u001b[0m\u001b[0;36m1\u001b[0m\u001b[0;34m]\u001b[0m\u001b[0;34m)\u001b[0m\u001b[0;34m\u001b[0m\u001b[0;34m\u001b[0m\u001b[0m\n\u001b[1;32m     14\u001b[0m \u001b[0;31m#     best = total_sample[np.argsort(preds)][-rank_at:][::-1]\u001b[0m\u001b[0;34m\u001b[0m\u001b[0;34m\u001b[0m\u001b[0;34m\u001b[0m\u001b[0m\n",
      "\u001b[0;32m/usr/local/lib/python3.6/dist-packages/tensorflow_core/python/keras/engine/training.py\u001b[0m in \u001b[0;36mpredict\u001b[0;34m(self, x, batch_size, verbose, steps, callbacks, max_queue_size, workers, use_multiprocessing)\u001b[0m\n\u001b[1;32m   1011\u001b[0m         \u001b[0mmax_queue_size\u001b[0m\u001b[0;34m=\u001b[0m\u001b[0mmax_queue_size\u001b[0m\u001b[0;34m,\u001b[0m\u001b[0;34m\u001b[0m\u001b[0;34m\u001b[0m\u001b[0m\n\u001b[1;32m   1012\u001b[0m         \u001b[0mworkers\u001b[0m\u001b[0;34m=\u001b[0m\u001b[0mworkers\u001b[0m\u001b[0;34m,\u001b[0m\u001b[0;34m\u001b[0m\u001b[0;34m\u001b[0m\u001b[0m\n\u001b[0;32m-> 1013\u001b[0;31m         use_multiprocessing=use_multiprocessing)\n\u001b[0m\u001b[1;32m   1014\u001b[0m \u001b[0;34m\u001b[0m\u001b[0m\n\u001b[1;32m   1015\u001b[0m   \u001b[0;32mdef\u001b[0m \u001b[0mreset_metrics\u001b[0m\u001b[0;34m(\u001b[0m\u001b[0mself\u001b[0m\u001b[0;34m)\u001b[0m\u001b[0;34m:\u001b[0m\u001b[0;34m\u001b[0m\u001b[0;34m\u001b[0m\u001b[0m\n",
      "\u001b[0;32m/usr/local/lib/python3.6/dist-packages/tensorflow_core/python/keras/engine/training_v2.py\u001b[0m in \u001b[0;36mpredict\u001b[0;34m(self, model, x, batch_size, verbose, steps, callbacks, max_queue_size, workers, use_multiprocessing, **kwargs)\u001b[0m\n\u001b[1;32m    496\u001b[0m         \u001b[0mmodel\u001b[0m\u001b[0;34m,\u001b[0m \u001b[0mModeKeys\u001b[0m\u001b[0;34m.\u001b[0m\u001b[0mPREDICT\u001b[0m\u001b[0;34m,\u001b[0m \u001b[0mx\u001b[0m\u001b[0;34m=\u001b[0m\u001b[0mx\u001b[0m\u001b[0;34m,\u001b[0m \u001b[0mbatch_size\u001b[0m\u001b[0;34m=\u001b[0m\u001b[0mbatch_size\u001b[0m\u001b[0;34m,\u001b[0m \u001b[0mverbose\u001b[0m\u001b[0;34m=\u001b[0m\u001b[0mverbose\u001b[0m\u001b[0;34m,\u001b[0m\u001b[0;34m\u001b[0m\u001b[0;34m\u001b[0m\u001b[0m\n\u001b[1;32m    497\u001b[0m         \u001b[0msteps\u001b[0m\u001b[0;34m=\u001b[0m\u001b[0msteps\u001b[0m\u001b[0;34m,\u001b[0m \u001b[0mcallbacks\u001b[0m\u001b[0;34m=\u001b[0m\u001b[0mcallbacks\u001b[0m\u001b[0;34m,\u001b[0m \u001b[0mmax_queue_size\u001b[0m\u001b[0;34m=\u001b[0m\u001b[0mmax_queue_size\u001b[0m\u001b[0;34m,\u001b[0m\u001b[0;34m\u001b[0m\u001b[0;34m\u001b[0m\u001b[0m\n\u001b[0;32m--> 498\u001b[0;31m         workers=workers, use_multiprocessing=use_multiprocessing, **kwargs)\n\u001b[0m\u001b[1;32m    499\u001b[0m \u001b[0;34m\u001b[0m\u001b[0m\n\u001b[1;32m    500\u001b[0m \u001b[0;34m\u001b[0m\u001b[0m\n",
      "\u001b[0;32m/usr/local/lib/python3.6/dist-packages/tensorflow_core/python/keras/engine/training_v2.py\u001b[0m in \u001b[0;36m_model_iteration\u001b[0;34m(self, model, mode, x, y, batch_size, verbose, sample_weight, steps, callbacks, max_queue_size, workers, use_multiprocessing, **kwargs)\u001b[0m\n\u001b[1;32m    444\u001b[0m           model, mode)\n\u001b[1;32m    445\u001b[0m \u001b[0;34m\u001b[0m\u001b[0m\n\u001b[0;32m--> 446\u001b[0;31m       \u001b[0mdata_iterator\u001b[0m \u001b[0;34m=\u001b[0m \u001b[0miter\u001b[0m\u001b[0;34m(\u001b[0m\u001b[0mdataset\u001b[0m\u001b[0;34m)\u001b[0m\u001b[0;34m\u001b[0m\u001b[0;34m\u001b[0m\u001b[0m\n\u001b[0m\u001b[1;32m    447\u001b[0m \u001b[0;34m\u001b[0m\u001b[0m\n\u001b[1;32m    448\u001b[0m       callbacks = cbks.configure_callbacks(\n",
      "\u001b[0;32m/usr/local/lib/python3.6/dist-packages/tensorflow_core/python/data/ops/dataset_ops.py\u001b[0m in \u001b[0;36m__iter__\u001b[0;34m(self)\u001b[0m\n\u001b[1;32m    416\u001b[0m     if (context.executing_eagerly()\n\u001b[1;32m    417\u001b[0m         or ops.get_default_graph()._building_function):  # pylint: disable=protected-access\n\u001b[0;32m--> 418\u001b[0;31m       \u001b[0;32mreturn\u001b[0m \u001b[0miterator_ops\u001b[0m\u001b[0;34m.\u001b[0m\u001b[0mOwnedIterator\u001b[0m\u001b[0;34m(\u001b[0m\u001b[0mself\u001b[0m\u001b[0;34m)\u001b[0m\u001b[0;34m\u001b[0m\u001b[0;34m\u001b[0m\u001b[0m\n\u001b[0m\u001b[1;32m    419\u001b[0m     \u001b[0;32melse\u001b[0m\u001b[0;34m:\u001b[0m\u001b[0;34m\u001b[0m\u001b[0;34m\u001b[0m\u001b[0m\n\u001b[1;32m    420\u001b[0m       raise RuntimeError(\"__iter__() is only supported inside of tf.function \"\n",
      "\u001b[0;32m/usr/local/lib/python3.6/dist-packages/tensorflow_core/python/data/ops/iterator_ops.py\u001b[0m in \u001b[0;36m__init__\u001b[0;34m(self, dataset, components, element_spec)\u001b[0m\n\u001b[1;32m    592\u001b[0m           context.context().device_spec.device_type != \"CPU\"):\n\u001b[1;32m    593\u001b[0m         \u001b[0;32mwith\u001b[0m \u001b[0mops\u001b[0m\u001b[0;34m.\u001b[0m\u001b[0mdevice\u001b[0m\u001b[0;34m(\u001b[0m\u001b[0;34m\"/cpu:0\"\u001b[0m\u001b[0;34m)\u001b[0m\u001b[0;34m:\u001b[0m\u001b[0;34m\u001b[0m\u001b[0;34m\u001b[0m\u001b[0m\n\u001b[0;32m--> 594\u001b[0;31m           \u001b[0mself\u001b[0m\u001b[0;34m.\u001b[0m\u001b[0m_create_iterator\u001b[0m\u001b[0;34m(\u001b[0m\u001b[0mdataset\u001b[0m\u001b[0;34m)\u001b[0m\u001b[0;34m\u001b[0m\u001b[0;34m\u001b[0m\u001b[0m\n\u001b[0m\u001b[1;32m    595\u001b[0m       \u001b[0;32melse\u001b[0m\u001b[0;34m:\u001b[0m\u001b[0;34m\u001b[0m\u001b[0;34m\u001b[0m\u001b[0m\n\u001b[1;32m    596\u001b[0m         \u001b[0mself\u001b[0m\u001b[0;34m.\u001b[0m\u001b[0m_create_iterator\u001b[0m\u001b[0;34m(\u001b[0m\u001b[0mdataset\u001b[0m\u001b[0;34m)\u001b[0m\u001b[0;34m\u001b[0m\u001b[0;34m\u001b[0m\u001b[0m\n",
      "\u001b[0;32m/usr/local/lib/python3.6/dist-packages/tensorflow_core/python/data/ops/iterator_ops.py\u001b[0m in \u001b[0;36m_create_iterator\u001b[0;34m(self, dataset)\u001b[0m\n\u001b[1;32m    617\u001b[0m               \u001b[0moutput_types\u001b[0m\u001b[0;34m=\u001b[0m\u001b[0mself\u001b[0m\u001b[0;34m.\u001b[0m\u001b[0m_flat_output_types\u001b[0m\u001b[0;34m,\u001b[0m\u001b[0;34m\u001b[0m\u001b[0;34m\u001b[0m\u001b[0m\n\u001b[1;32m    618\u001b[0m               output_shapes=self._flat_output_shapes))\n\u001b[0;32m--> 619\u001b[0;31m       \u001b[0mgen_dataset_ops\u001b[0m\u001b[0;34m.\u001b[0m\u001b[0mmake_iterator\u001b[0m\u001b[0;34m(\u001b[0m\u001b[0mds_variant\u001b[0m\u001b[0;34m,\u001b[0m \u001b[0mself\u001b[0m\u001b[0;34m.\u001b[0m\u001b[0m_iterator_resource\u001b[0m\u001b[0;34m)\u001b[0m\u001b[0;34m\u001b[0m\u001b[0;34m\u001b[0m\u001b[0m\n\u001b[0m\u001b[1;32m    620\u001b[0m       \u001b[0;31m# Delete the resource when this object is deleted\u001b[0m\u001b[0;34m\u001b[0m\u001b[0;34m\u001b[0m\u001b[0;34m\u001b[0m\u001b[0m\n\u001b[1;32m    621\u001b[0m       self._resource_deleter = IteratorResourceDeleter(\n",
      "\u001b[0;32m/usr/local/lib/python3.6/dist-packages/tensorflow_core/python/ops/gen_dataset_ops.py\u001b[0m in \u001b[0;36mmake_iterator\u001b[0;34m(dataset, iterator, name)\u001b[0m\n\u001b[1;32m   2694\u001b[0m       _result = _pywrap_tensorflow.TFE_Py_FastPathExecute(\n\u001b[1;32m   2695\u001b[0m         \u001b[0m_ctx\u001b[0m\u001b[0;34m.\u001b[0m\u001b[0m_context_handle\u001b[0m\u001b[0;34m,\u001b[0m \u001b[0mtld\u001b[0m\u001b[0;34m.\u001b[0m\u001b[0mdevice_name\u001b[0m\u001b[0;34m,\u001b[0m \u001b[0;34m\"MakeIterator\"\u001b[0m\u001b[0;34m,\u001b[0m \u001b[0mname\u001b[0m\u001b[0;34m,\u001b[0m\u001b[0;34m\u001b[0m\u001b[0;34m\u001b[0m\u001b[0m\n\u001b[0;32m-> 2696\u001b[0;31m         tld.op_callbacks, dataset, iterator)\n\u001b[0m\u001b[1;32m   2697\u001b[0m       \u001b[0;32mreturn\u001b[0m \u001b[0m_result\u001b[0m\u001b[0;34m\u001b[0m\u001b[0;34m\u001b[0m\u001b[0m\n\u001b[1;32m   2698\u001b[0m     \u001b[0;32mexcept\u001b[0m \u001b[0m_core\u001b[0m\u001b[0;34m.\u001b[0m\u001b[0m_FallbackException\u001b[0m\u001b[0;34m:\u001b[0m\u001b[0;34m\u001b[0m\u001b[0;34m\u001b[0m\u001b[0m\n",
      "\u001b[0;31mKeyboardInterrupt\u001b[0m: "
     ]
    }
   ],
   "source": [
    "preds_ranked = []\n",
    "true_items = []\n",
    "pbar = progressbar.ProgressBar()\n",
    "for u in pbar(test_user_items.index):\n",
    "    true_item = test_user_items[u]\n",
    "    pos_items = user_items[u]\n",
    "    neg_items = set(train_items) - set(pos_items)\n",
    "    neg_sample = np.random.choice(list(neg_items), sample_len-1)\n",
    "    total_sample = np.append(true_item, neg_sample)\n",
    "    user_array = np.full(len(total_sample), u, dtype='int32')\n",
    "\n",
    "    preds = np.hstack(model.predict([user_array, total_sample], batch_size=sample_len, verbose=0))\n",
    "    print(np.sort(preds)[-40:][::-1])\n",
    "#     best = total_sample[np.argsort(preds)][-rank_at:][::-1]\n",
    "    ids = np.argpartition(preds, -rank_at)[-rank_at:]\n",
    "    best_ids = np.argsort(preds[ids])[::-1]\n",
    "    best = total_sample[ids[best_ids]]\n",
    "\n",
    "    preds_ranked.append(best)\n",
    "    true_items.append(true_item)\n",
    "\n",
    "ranked_df = pd.DataFrame(list(zip(test_user_items.index, preds_ranked, true_items)),\n",
    "                         columns=['users', 'pred_items_ranked', 'true_id'])"
   ]
  },
  {
   "cell_type": "code",
   "execution_count": 92,
   "metadata": {
    "scrolled": false
   },
   "outputs": [
    {
     "data": {
      "text/html": [
       "<div>\n",
       "<style scoped>\n",
       "    .dataframe tbody tr th:only-of-type {\n",
       "        vertical-align: middle;\n",
       "    }\n",
       "\n",
       "    .dataframe tbody tr th {\n",
       "        vertical-align: top;\n",
       "    }\n",
       "\n",
       "    .dataframe thead th {\n",
       "        text-align: right;\n",
       "    }\n",
       "</style>\n",
       "<table border=\"1\" class=\"dataframe\">\n",
       "  <thead>\n",
       "    <tr style=\"text-align: right;\">\n",
       "      <th></th>\n",
       "      <th>rank_at</th>\n",
       "      <th>hitcounts</th>\n",
       "      <th>recall</th>\n",
       "      <th>precision</th>\n",
       "      <th>ndcg</th>\n",
       "    </tr>\n",
       "  </thead>\n",
       "  <tbody>\n",
       "    <tr>\n",
       "      <th>0</th>\n",
       "      <td>1</td>\n",
       "      <td>0</td>\n",
       "      <td>0.000</td>\n",
       "      <td>0.0000</td>\n",
       "      <td>0.000000</td>\n",
       "    </tr>\n",
       "    <tr>\n",
       "      <th>1</th>\n",
       "      <td>5</td>\n",
       "      <td>5</td>\n",
       "      <td>0.010</td>\n",
       "      <td>0.0020</td>\n",
       "      <td>0.003956</td>\n",
       "    </tr>\n",
       "    <tr>\n",
       "      <th>2</th>\n",
       "      <td>10</td>\n",
       "      <td>24</td>\n",
       "      <td>0.048</td>\n",
       "      <td>0.0048</td>\n",
       "      <td>0.015909</td>\n",
       "    </tr>\n",
       "    <tr>\n",
       "      <th>3</th>\n",
       "      <td>15</td>\n",
       "      <td>51</td>\n",
       "      <td>0.102</td>\n",
       "      <td>0.0068</td>\n",
       "      <td>0.030284</td>\n",
       "    </tr>\n",
       "    <tr>\n",
       "      <th>4</th>\n",
       "      <td>20</td>\n",
       "      <td>68</td>\n",
       "      <td>0.136</td>\n",
       "      <td>0.0068</td>\n",
       "      <td>0.038184</td>\n",
       "    </tr>\n",
       "  </tbody>\n",
       "</table>\n",
       "</div>"
      ],
      "text/plain": [
       "   rank_at  hitcounts  recall  precision      ndcg\n",
       "0        1          0   0.000     0.0000  0.000000\n",
       "1        5          5   0.010     0.0020  0.003956\n",
       "2       10         24   0.048     0.0048  0.015909\n",
       "3       15         51   0.102     0.0068  0.030284\n",
       "4       20         68   0.136     0.0068  0.038184"
      ]
     },
     "execution_count": 92,
     "metadata": {},
     "output_type": "execute_result"
    }
   ],
   "source": [
    "get_metrics(ranked_df, 5, rank_at, stats=False)"
   ]
  },
  {
   "cell_type": "markdown",
   "metadata": {},
   "source": [
    "---\n",
    "# Appendix"
   ]
  },
  {
   "cell_type": "markdown",
   "metadata": {},
   "source": [
    "### Best GMF Params (ML_1M)"
   ]
  },
  {
   "cell_type": "code",
   "execution_count": null,
   "metadata": {},
   "outputs": [],
   "source": [
    "GMF_params = {\n",
    "    'learning_rate': 0.0005,\n",
    "    'batch_size': 128,\n",
    "    'nolf': 8,\n",
    "    'regs': [0.00001,0.00001],\n",
    "    'epochs': 20,\n",
    "    'sample_size': len(train_set),#int(0.5*len(train_set.user_id.unique())),\n",
    "    'num_neg': 4,\n",
    "    'ckpt_dir': f'../NeuMF_storage/GMF_ckpts_{run_num}/ckpts',\n",
    "    'optimizer':'Adam'\n",
    "}"
   ]
  },
  {
   "cell_type": "markdown",
   "metadata": {},
   "source": [
    "### Multiprocessing for multiple samples creatings "
   ]
  },
  {
   "cell_type": "code",
   "execution_count": null,
   "metadata": {},
   "outputs": [],
   "source": [
    "# from progressbar import progressbar\n",
    "# def create_samples(params, data, name=''):\n",
    "#         print(f'Creating Samples for {name}')\n",
    "# #         _, params = self.get_model(name)\n",
    "#         all_user_inputs, all_item_inputs, all_labels = [], [], []\n",
    "#         user_items = data.groupby('user_id')['item_id'].apply(list)\n",
    "#         train_users = data.user_id.unique()\n",
    "#         train_items = data.item_id.unique()\n",
    "\n",
    "#         pbar = progressbar.ProgressBar()\n",
    "#         for n in pbar(range(params['epochs'])):\n",
    "#             user_inputs, item_inputs, labels = [], [], []\n",
    "#             for s in range(int(params['sample_size'])):\n",
    "#                 # Add positive item\n",
    "#                 u = np.random.choice(train_users)\n",
    "#                 u_items = user_items[u]\n",
    "#                 i = np.random.choice(u_items)\n",
    "\n",
    "#                 user_inputs.append(u)\n",
    "#                 item_inputs.append(i)\n",
    "#                 labels.append(1)\n",
    "\n",
    "#                 # Add negative item\n",
    "#                 for i in range(params['num_neg']):\n",
    "#                     j = np.random.choice(train_items)\n",
    "#                     while j in u_items:  # neg item j cannot be in the set of pos items of user u\n",
    "#                         j = np.random.choice(train_items)\n",
    "\n",
    "#                     user_inputs.append(u)\n",
    "#                     item_inputs.append(j)\n",
    "#                     labels.append(0)\n",
    "\n",
    "#             all_user_inputs.append(user_inputs)\n",
    "#             all_item_inputs.append(item_inputs)\n",
    "#             all_labels.append(labels)\n",
    "\n",
    "#         return [all_user_inputs, all_item_inputs, all_labels]"
   ]
  },
  {
   "cell_type": "code",
   "execution_count": null,
   "metadata": {},
   "outputs": [],
   "source": [
    "# import multiprocessing as mp\n",
    "# if __name__ == '__main__':\n",
    "    \n",
    "#     with mp.Pool(processes=2) as pool:\n",
    "#         results = pool.starmap(create_samples, [(GMF_params, train_set, 'GMF'), (MLP_params, train_set, 'MLP')])\n",
    "        "
   ]
  },
  {
   "cell_type": "markdown",
   "metadata": {},
   "source": [
    "## MP sampler"
   ]
  },
  {
   "cell_type": "code",
   "execution_count": null,
   "metadata": {},
   "outputs": [],
   "source": [
    "def subsampler(worker_id, epochs, user_items, train_users, train_items, params):\n",
    "    print(f'worker {workes_id} started')\n",
    "    all_user_inputs, all_item_inputs, all_labels = [], [], []\n",
    "    for epoch in range(epochs): \n",
    "        user_inputs, item_inputs, labels = [], [], []\n",
    "        for s in range(params['sample_size']):\n",
    "            # Add positive item\n",
    "            u = np.random.choice(train_users)\n",
    "            u_items = user_items[u]\n",
    "            i = np.random.choice(u_items)\n",
    "\n",
    "            user_inputs.append(u)\n",
    "            item_inputs.append(i)\n",
    "            labels.append(1)\n",
    "\n",
    "            # Add negative item\n",
    "            for i in range(params['num_neg']):\n",
    "                j = np.random.choice(train_items)\n",
    "                while j in u_items:  # neg item j cannot be in the set of pos items of user u\n",
    "                    j = np.random.choice(train_items)\n",
    "\n",
    "                user_inputs.append(u)\n",
    "                item_inputs.append(j)\n",
    "                labels.append(0)\n",
    "                \n",
    "        all_user_inputs.append(user_inputs)\n",
    "        all_item_inputs.append(item_inputs)\n",
    "        all_labels.append(labels)\n",
    "        \n",
    "    return {'u':all_user_inputs, 'i':all_item_inputs, 'l':all_labels}"
   ]
  },
  {
   "cell_type": "code",
   "execution_count": null,
   "metadata": {},
   "outputs": [],
   "source": [
    "%%time\n",
    "import multiprocessing as mp\n",
    "from progressbar import progressbar\n",
    "if __name__ == '__main__':\n",
    "    processors = mp.cpu_count()\n",
    "    params = NCF.GMF_params\n",
    "#     params = NCF.MLP_params\n",
    "#     params = NCF.NeuMF_params\n",
    "    data = train_set\n",
    "\n",
    "    all_user_inputs, all_item_inputs, all_labels = [], [], []\n",
    "    user_items = data.groupby('user_id')['item_id'].apply(list)\n",
    "    train_users = data.user_id.unique()\n",
    "    train_items = data.item_id.unique()\n",
    "    \n",
    "    epoch_splits = np.array_split(np.array(range(params['epochs'])), processors)\n",
    "    args = []\n",
    "    for worker_id, epoch_split in enumerate(epoch_splits):\n",
    "        args.append((worker_id, len(epoch_split), user_items, train_users, train_items, params))\n",
    "        \n",
    "    with mp.Pool(processes=processors) as pool:\n",
    "        results = pool.starmap(subsampler, args)\n",
    "    \n",
    "    all_user_inputs, all_item_inputs, all_labels = [], [], []\n",
    "    samples = [[], [], []]\n",
    "    for res_epochs in results:\n",
    "        all_user_inputs.extend(res_epochs['u'])\n",
    "        all_item_inputs.extend(res_epochs['i'])\n",
    "        all_labels.extend(res_epochs['l'])\n",
    "    \n",
    "    GMF_samples_mp = [all_user_inputs, all_item_inputs, all_labels]\n",
    "#     MLP_samples_mp = [all_user_inputs, all_item_inputs, all_labels]\n",
    "#     NeuMF_samples_mp = [all_user_inputs, all_item_inputs, all_labels]\n"
   ]
  },
  {
   "cell_type": "code",
   "execution_count": null,
   "metadata": {},
   "outputs": [],
   "source": [
    "import multiprocessing as mp\n",
    "from Evaluation import get_metrics\n",
    "def train_model(name='', train_set=[], val_set=[], verbose=1, store_path=''):\n",
    "    model, params = NCF.get_model(name)\n",
    "\n",
    "    ckpts_prefix = os.path.join(params['ckpt_dir'], \"ckpt\")\n",
    "    ckpts_callback = tf.keras.callbacks.ModelCheckpoint(filepath=ckpts_prefix,    \n",
    "                                                     monitor='loss',    \n",
    "                                                     mode='min',    \n",
    "                                                     save_best_only=True,\n",
    "                                                     save_weights_only=True)\n",
    "\n",
    "    if len(train_set) == 0:\n",
    "        raise Exception('No samples available, create samples first using: create_samples')\n",
    "        \n",
    "    val_metrics = fit(model, params, train_set, val_set, [ckpts_callback], verbose)\n",
    "\n",
    "    if len(store_path) > 0:\n",
    "        model.save_weights(store_path)\n",
    "        \n",
    "    return val_metrics\n",
    "\n",
    "\n",
    "def fit(model, params, train_set, val_set, callbacks, verbose):\n",
    "    print(f'\\nFitting {model._name} with parameters:')\n",
    "    print(pd.DataFrame.from_dict(params, orient='index'))\n",
    "    user_items = train_set.groupby('user_id')['item_id'].apply(list)\n",
    "    train_users = train_set.user_id.unique()\n",
    "    train_items = train_set.item_id.unique()\n",
    "    num_processes = mp.cpu_count()\n",
    "    val_metrics = []\n",
    "    for epoch in range(params['epochs']):\n",
    "        print(f'Epoch: {epoch}')\n",
    "        user_inputs, item_inputs, labels = create_sample(user_items, train_users, train_items, params, num_processes)\n",
    "        hist = model.fit([np.array(user_inputs), np.array(item_inputs)], \n",
    "                  np.array(labels), \n",
    "                  batch_size=params['batch_size'], \n",
    "                  verbose=verbose, \n",
    "                  epochs=1, \n",
    "                  shuffle=True,\n",
    "                  callbacks=callbacks)\n",
    "        \n",
    "        ranked_df = sample_prediction(model, train_set, val_set)\n",
    "        val_metrics.append(get_metrics(ranked_df, 5, 20, stats=False))\n",
    "        print(val_metrics[-1:])\n",
    "\n",
    "        NCF.history[model._name]['loss'].append(round(hist.history['loss'][0],5))\n",
    "    return val_metrics\n",
    "        \n",
    "        \n",
    "def create_sample(user_items, train_users, train_items, params, num_processes):\n",
    "    samples_sizes_split = np.array_split(np.array(range(params['sample_size'])),8)\n",
    "    args = []\n",
    "    for samples_size in samples_sizes_split:\n",
    "        args.append((user_items, train_users, train_items, len(samples_size), params['num_neg']))\n",
    "    with mp.Pool(processes=num_processes) as pool:\n",
    "        results = pool.starmap(create_sample_worker, args)\n",
    "\n",
    "    user_inputs, item_inputs, labels = [], [], []\n",
    "    for res_epochs in results: \n",
    "        user_inputs.extend(res_epochs['u'])\n",
    "        item_inputs.extend(res_epochs['i'])\n",
    "        labels.extend(res_epochs['l'])\n",
    "\n",
    "    return user_inputs, item_inputs, labels\n",
    "\n",
    "\n",
    "def create_sample_worker(user_items, train_users, train_items, sample_size, num_neg):\n",
    "    user_inputs, item_inputs, labels = [], [], []\n",
    "#     print('worker started')\n",
    "    for s in range(sample_size):\n",
    "        # Add positive item\n",
    "        u = np.random.choice(train_users)\n",
    "        u_items = user_items[u]\n",
    "        i = np.random.choice(u_items)\n",
    "\n",
    "        user_inputs.append(u)\n",
    "        item_inputs.append(i)\n",
    "        labels.append(1)\n",
    "\n",
    "        # Add negative item\n",
    "        for i in range(num_neg):\n",
    "            j = np.random.choice(train_items)\n",
    "            while j in u_items:  # neg item j cannot be in the set of pos items of user u\n",
    "                j = np.random.choice(train_items)\n",
    "\n",
    "            user_inputs.append(u)\n",
    "            item_inputs.append(j)\n",
    "            labels.append(0)\n",
    "\n",
    "    return {'u':user_inputs, 'i':item_inputs, 'l':labels}"
   ]
  }
 ],
 "metadata": {
  "kernelspec": {
   "display_name": "Python 3",
   "language": "python",
   "name": "python3"
  },
  "language_info": {
   "codemirror_mode": {
    "name": "ipython",
    "version": 3
   },
   "file_extension": ".py",
   "mimetype": "text/x-python",
   "name": "python",
   "nbconvert_exporter": "python",
   "pygments_lexer": "ipython3",
   "version": "3.6.9"
  },
  "toc": {
   "base_numbering": 1,
   "nav_menu": {},
   "number_sections": true,
   "sideBar": true,
   "skip_h1_title": false,
   "title_cell": "Table of Contents",
   "title_sidebar": "Contents",
   "toc_cell": false,
   "toc_position": {},
   "toc_section_display": true,
   "toc_window_display": true
  }
 },
 "nbformat": 4,
 "nbformat_minor": 4
}
