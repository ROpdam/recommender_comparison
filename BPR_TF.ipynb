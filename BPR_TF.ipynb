{
 "cells": [
  {
   "cell_type": "code",
   "execution_count": 58,
   "metadata": {},
   "outputs": [],
   "source": [
    "import pandas as pd\n",
    "import numpy as np\n",
    "import matplotlib.pyplot as plt\n",
    "import math\n",
    "import os\n",
    "import time\n",
    "import copy\n",
    "import calc_vector\n",
    "import multiprocessing as mp\n",
    "import random\n",
    "import tensorflow as tf\n",
    "\n",
    "# pd.set_option('display.max_columns', 100)"
   ]
  },
  {
   "cell_type": "code",
   "execution_count": 59,
   "metadata": {},
   "outputs": [],
   "source": [
    "# from IPython.core.display import display, HTML\n",
    "# display(HTML(\"<style>.container { width:100% !important; }</style>\"))"
   ]
  },
  {
   "cell_type": "markdown",
   "metadata": {},
   "source": [
    "# Read Data"
   ]
  },
  {
   "cell_type": "code",
   "execution_count": 1,
   "metadata": {},
   "outputs": [],
   "source": [
    "path = 'C:/Users/robin.opdam/Dropbox/'\n",
    "# path = '/Users/Robin/Dropbox'\n",
    "data_path = 'data/'"
   ]
  },
  {
   "cell_type": "markdown",
   "metadata": {},
   "source": [
    "## Amazon Fashion"
   ]
  },
  {
   "cell_type": "code",
   "execution_count": 61,
   "metadata": {},
   "outputs": [],
   "source": [
    "#Full data\n",
    "# file_name = 'amazon_clothing_shoes_jewelry_data' \n",
    "\n",
    "# Subsets, #user ratings above 5\n",
    "# file_name = 'amazon_2m'\n",
    "# file_name = 'amazon_063m' "
   ]
  },
  {
   "cell_type": "markdown",
   "metadata": {},
   "source": [
    "## MovieLens"
   ]
  },
  {
   "cell_type": "code",
   "execution_count": 91,
   "metadata": {},
   "outputs": [],
   "source": [
    "# Full data\n",
    "# file_name = '25m_ml'\n",
    "\n",
    "#Subsets #user ratings above 5\n",
    "file_name = 'ml_2m'\n",
    "# file_name = 'ml_07m'"
   ]
  },
  {
   "cell_type": "code",
   "execution_count": 92,
   "metadata": {},
   "outputs": [
    {
     "data": {
      "text/html": [
       "<div>\n",
       "<style scoped>\n",
       "    .dataframe tbody tr th:only-of-type {\n",
       "        vertical-align: middle;\n",
       "    }\n",
       "\n",
       "    .dataframe tbody tr th {\n",
       "        vertical-align: top;\n",
       "    }\n",
       "\n",
       "    .dataframe thead th {\n",
       "        text-align: right;\n",
       "    }\n",
       "</style>\n",
       "<table border=\"1\" class=\"dataframe\">\n",
       "  <thead>\n",
       "    <tr style=\"text-align: right;\">\n",
       "      <th></th>\n",
       "      <th>user</th>\n",
       "      <th>item</th>\n",
       "      <th>rating</th>\n",
       "      <th>timestamp</th>\n",
       "      <th>verified</th>\n",
       "    </tr>\n",
       "  </thead>\n",
       "  <tbody>\n",
       "    <tr>\n",
       "      <th>7511868</th>\n",
       "      <td>48786</td>\n",
       "      <td>5218</td>\n",
       "      <td>2.5</td>\n",
       "      <td>1252520796</td>\n",
       "      <td>1</td>\n",
       "    </tr>\n",
       "    <tr>\n",
       "      <th>1648248</th>\n",
       "      <td>11003</td>\n",
       "      <td>8961</td>\n",
       "      <td>3.5</td>\n",
       "      <td>1467192135</td>\n",
       "      <td>1</td>\n",
       "    </tr>\n",
       "    <tr>\n",
       "      <th>13591401</th>\n",
       "      <td>87980</td>\n",
       "      <td>7261</td>\n",
       "      <td>3.5</td>\n",
       "      <td>1117066110</td>\n",
       "      <td>1</td>\n",
       "    </tr>\n",
       "    <tr>\n",
       "      <th>1341601</th>\n",
       "      <td>9040</td>\n",
       "      <td>858</td>\n",
       "      <td>4.0</td>\n",
       "      <td>1007862875</td>\n",
       "      <td>1</td>\n",
       "    </tr>\n",
       "    <tr>\n",
       "      <th>23660300</th>\n",
       "      <td>153635</td>\n",
       "      <td>34405</td>\n",
       "      <td>5.0</td>\n",
       "      <td>1289255124</td>\n",
       "      <td>1</td>\n",
       "    </tr>\n",
       "  </tbody>\n",
       "</table>\n",
       "</div>"
      ],
      "text/plain": [
       "            user   item  rating   timestamp  verified\n",
       "7511868    48786   5218     2.5  1252520796         1\n",
       "1648248    11003   8961     3.5  1467192135         1\n",
       "13591401   87980   7261     3.5  1117066110         1\n",
       "1341601     9040    858     4.0  1007862875         1\n",
       "23660300  153635  34405     5.0  1289255124         1"
      ]
     },
     "execution_count": 92,
     "metadata": {},
     "output_type": "execute_result"
    }
   ],
   "source": [
    "df = pd.read_pickle(path + data_path + file_name)\n",
    "df.head()"
   ]
  },
  {
   "cell_type": "code",
   "execution_count": 93,
   "metadata": {},
   "outputs": [],
   "source": [
    "# df = df.sample(frac=0.01, random_state=1234)"
   ]
  },
  {
   "cell_type": "markdown",
   "metadata": {},
   "source": [
    "# Data Prep\n",
    "Create new ids for users and items that match the row and column indices of the user-item interaction matrix"
   ]
  },
  {
   "cell_type": "code",
   "execution_count": 94,
   "metadata": {},
   "outputs": [],
   "source": [
    "df['item_id'] = df.item.astype('category').cat.codes\n",
    "df['user_id'] = df.user.astype('category').cat.codes"
   ]
  },
  {
   "cell_type": "code",
   "execution_count": 95,
   "metadata": {},
   "outputs": [
    {
     "data": {
      "text/plain": [
       "29902"
      ]
     },
     "execution_count": 95,
     "metadata": {},
     "output_type": "execute_result"
    }
   ],
   "source": [
    "df.item_id.unique().max()"
   ]
  },
  {
   "cell_type": "markdown",
   "metadata": {},
   "source": [
    "## Leave item out train test split"
   ]
  },
  {
   "cell_type": "code",
   "execution_count": 96,
   "metadata": {},
   "outputs": [],
   "source": [
    "def leave_x_out(full_data, leave_out):\n",
    "    # Input: data must contain user_id\n",
    "    # Output: full_data = without all entries in leave one out set\n",
    "    #         leave_one_out_set = data with one user and one item from full_data\n",
    "    \n",
    "    full_data['index'] = full_data.index\n",
    "    user_items_ind = full_data.groupby('user_id')['index'].apply(list)\n",
    "    index_to_drop = []\n",
    "    \n",
    "    for indices in user_items_ind:\n",
    "        if len(indices) > leave_out:\n",
    "            for to_leave_out in range(leave_out):\n",
    "                index = indices[- to_leave_out]\n",
    "                index_to_drop.append(index)\n",
    "    \n",
    "    leave_one_out_set = full_data.loc[index_to_drop]\n",
    "    full_data_leave_one_out = full_data.drop(index_to_drop)\n",
    "    \n",
    "    return full_data_leave_one_out.drop(columns=['index']), leave_one_out_set.drop(columns=['index'])"
   ]
  },
  {
   "cell_type": "code",
   "execution_count": 97,
   "metadata": {},
   "outputs": [],
   "source": [
    "def create_matrices(data, n_users, n_items):\n",
    "        r = data['new_user_id']\n",
    "        c = data['new_item_id']\n",
    "        d = data['rating']\n",
    "        m = sparse.csr_matrix((d, (r, c)), shape=(n_users, n_items))\n",
    "        m_ones = m.copy()\n",
    "        m_ones[m_ones > 0] = 1\n",
    "                               \n",
    "        return m, m_ones"
   ]
  },
  {
   "cell_type": "code",
   "execution_count": 98,
   "metadata": {},
   "outputs": [],
   "source": [
    "train_set, test_set = leave_x_out(df, 2)\n",
    "val_set, test_set = leave_x_out(test_set, 1)"
   ]
  },
  {
   "cell_type": "code",
   "execution_count": 99,
   "metadata": {},
   "outputs": [
    {
     "name": "stdout",
     "output_type": "stream",
     "text": [
      "Leave one item out per user \n",
      "\n",
      "Full Df length:\t\t 1974692 \n",
      "Training Set length:\t 1777440 \n",
      "Testing Set length:\t 98626 \n",
      "Validation Set length:\t 98626\n"
     ]
    }
   ],
   "source": [
    "print('Leave one item out per user',\n",
    "      '\\n\\nFull Df length:\\t\\t', len(df),\n",
    "      '\\nTraining Set length:\\t', len(train_set),\n",
    "      '\\nTesting Set length:\\t', len(test_set),\n",
    "      '\\nValidation Set length:\\t', len(val_set))"
   ]
  },
  {
   "cell_type": "markdown",
   "metadata": {},
   "source": [
    "# Model: BPR MF in TF"
   ]
  },
  {
   "cell_type": "markdown",
   "metadata": {},
   "source": [
    "- Paper: https://arxiv.org/pdf/1205.2618.pdf\n",
    "- Code:  https://github.com/valerystrizh/bpr/blob/master/BPR.java"
   ]
  },
  {
   "cell_type": "markdown",
   "metadata": {},
   "source": [
    "---\n",
    "## Init: Variables"
   ]
  },
  {
   "cell_type": "code",
   "execution_count": 100,
   "metadata": {},
   "outputs": [],
   "source": [
    "total_users = len(df.user_id.unique())\n",
    "total_items = len(df.item_id.unique())\n",
    "latent_dim = 20\n",
    "learning_rate = 0.1\n",
    "\n",
    "n_epochs = 10\n",
    "\n",
    "user_items = train_set.groupby('user_id')['item_id'].apply(list)\n",
    "train_users = train_set.user_id.unique()\n",
    "train_items = train_set.item_id.unique()"
   ]
  },
  {
   "cell_type": "code",
   "execution_count": 101,
   "metadata": {},
   "outputs": [
    {
     "name": "stdout",
     "output_type": "stream",
     "text": [
      "Total Users: 98626 \n",
      "Total Items: 29903\n"
     ]
    }
   ],
   "source": [
    "print('Total Users:', total_users,\n",
    "      '\\nTotal Items:', total_items)"
   ]
  },
  {
   "cell_type": "markdown",
   "metadata": {},
   "source": [
    "---\n",
    "## Define Model (with bias), Loss, Train Step and Helpers"
   ]
  },
  {
   "cell_type": "code",
   "execution_count": 115,
   "metadata": {},
   "outputs": [],
   "source": [
    "class BPR_MF(tf.keras.Model):\n",
    "    def __init__(self, init_func, total_users, total_items, latent_dim): #b_init_func\n",
    "        super(BPR_MF, self).__init__()\n",
    "        self.p = tf.Variable(init_func(total_users, latent_dim), name=\"p\")\n",
    "        self.q = tf.Variable(init_func(total_items, latent_dim), name=\"q\")\n",
    "#         self.b = tf.Variable(b_init_func((total_items, 1)), name=\"b\")\n",
    "    \n",
    "    def call(self, uij):\n",
    "        return tf.math.multiply(self.p[uij[0]], (self.q[uij[1]] - self.q[uij[2]]))"
   ]
  },
  {
   "cell_type": "code",
   "execution_count": 116,
   "metadata": {},
   "outputs": [],
   "source": [
    "class Loss:\n",
    "    def __call__(self, x):\n",
    "        return - tf.math.log_sigmoid(tf.math.reduce_sum(x))"
   ]
  },
  {
   "cell_type": "code",
   "execution_count": 117,
   "metadata": {},
   "outputs": [],
   "source": [
    "@tf.function\n",
    "def train_step(model, optimizer, uij):\n",
    "    with tf.GradientTape(persistent=True) as tape:\n",
    "        x = model(uij) \n",
    "        loss = loss_obj(x) # -x or not? \n",
    "\n",
    "    gradients = tape.gradient(loss, model.trainable_variables)\n",
    "    optimizer.apply_gradients(zip(gradients, model.trainable_variables))\n",
    "    \n",
    "    return loss"
   ]
  },
  {
   "cell_type": "code",
   "execution_count": 118,
   "metadata": {},
   "outputs": [],
   "source": [
    "def draw_sample(train_users, train_items, user_items):\n",
    "    u = int(np.random.choice(train_users))\n",
    "    u_items = user_items[u]\n",
    "    i = random.choice(u_items)\n",
    "    j = int(np.random.choice(train_items)) # neg item\n",
    "\n",
    "    while j in u_items: # j cannot be the same item or an item with a 1\n",
    "        j = int(np.random.choice(train_items))\n",
    "        \n",
    "    return [u, i, j]"
   ]
  },
  {
   "cell_type": "markdown",
   "metadata": {},
   "source": [
    "---\n",
    "# Train Model"
   ]
  },
  {
   "cell_type": "markdown",
   "metadata": {},
   "source": [
    "## Init Model and Loss"
   ]
  },
  {
   "cell_type": "code",
   "execution_count": 119,
   "metadata": {},
   "outputs": [],
   "source": [
    "normal_init = lambda v, d: tf.random.normal((v, d), 0.0, 1.0/d)\n",
    "zero_init = lambda v: tf.zeros(v,1)\n",
    "\n",
    "model = BPR_MF(normal_init, total_users, total_items, latent_dim)"
   ]
  },
  {
   "cell_type": "code",
   "execution_count": 120,
   "metadata": {},
   "outputs": [],
   "source": [
    "loss_obj = Loss()\n",
    "optimizer = tf.keras.optimizers.SGD(learning_rate=learning_rate)"
   ]
  },
  {
   "cell_type": "markdown",
   "metadata": {},
   "source": [
    "---\n",
    "## Train Loop"
   ]
  },
  {
   "cell_type": "code",
   "execution_count": null,
   "metadata": {},
   "outputs": [],
   "source": [
    "train_time_s = time.time()\n",
    "total_losses = []\n",
    "for epoch in tf.range(n_epochs):\n",
    "    ep_time_s = time.time()\n",
    "    ep_losses = []\n",
    "    for sample in tf.range(len(train_set)):\n",
    "        uij_sample = draw_sample(train_users, train_items, user_items)\n",
    "        loss = train_step(model, optimizer, uij_sample)\n",
    "        \n",
    "        ep_losses.append(loss)\n",
    "    ep_loss = np.average(ep_losses)\n",
    "    \n",
    "    print('Epoch:', epoch.numpy(), '\\tLoss:', round(ep_loss,4), '\\tEpoch Time:', time.time() - ep_time_s)\n",
    "    total_losses.append(ep_loss)\n",
    "\n",
    "print('Total training time:', time.time() - train_time_s)"
   ]
  },
  {
   "cell_type": "code",
   "execution_count": 79,
   "metadata": {},
   "outputs": [
    {
     "data": {
      "image/png": "[encoded data removed]",
      "text/plain": [
       "<Figure size 432x288 with 1 Axes>"
      ]
     },
     "metadata": {
      "needs_background": "light"
     },
     "output_type": "display_data"
    }
   ],
   "source": [
    "plt.plot(total_losses)\n",
    "plt.show()"
   ]
  },
  {
   "cell_type": "markdown",
   "metadata": {},
   "source": [
    "---\n",
    "## Quick np save/load"
   ]
  },
  {
   "cell_type": "code",
   "execution_count": 80,
   "metadata": {},
   "outputs": [],
   "source": [
    "# np.savetxt('Results/BPR_TF/p.txt', model.p.numpy(), fmt='%f')\n",
    "# np.savetxt('Results/BPR_TF/q.txt', model.q.numpy(), fmt='%f')\n",
    "\n",
    "\n",
    "p = np.loadtxt(path + 'Results/BPR_TF/p.txt', dtype=float)\n",
    "q = np.loadtxt(path + 'Results/BPR_TF/q.txt', dtype=float)"
   ]
  },
  {
   "cell_type": "markdown",
   "metadata": {},
   "source": [
    "# Evaluate Model"
   ]
  },
  {
   "cell_type": "markdown",
   "metadata": {},
   "source": [
    "---\n",
    "## Rank items per user"
   ]
  },
  {
   "cell_type": "code",
   "execution_count": 81,
   "metadata": {},
   "outputs": [
    {
     "name": "stdout",
     "output_type": "stream",
     "text": [
      "122.44964896440506\n"
     ]
    }
   ],
   "source": [
    "import eval_rank_bpr\n",
    "result = {'p':p, 'q':q}\n",
    "users = test_set.user_id.unique()\n",
    "items = test_set.item_id.unique()\n",
    "test_user_items = test_set.groupby('user_id')['item_id'].apply(list)\n",
    "\n",
    "s = time.time()\n",
    "rank_at = 20\n",
    "mp_splits = 4\n",
    "users_split = np.array_split(users, mp_splits)\n",
    "        \n",
    "if __name__ == '__main__':\n",
    "    pool = mp.Pool(processes = mp_splits)\n",
    "    ranked = pool.map(eval_rank_bpr.eval_rank_bpr, [[result, users_split[0], items, test_user_items, rank_at], \n",
    "                                            [result, users_split[1], items, test_user_items, rank_at], \n",
    "                                            [result, users_split[2], items, test_user_items, rank_at], \n",
    "                                            [result, users_split[3], items, test_user_items, rank_at]])\n",
    "    pool.close()\n",
    "    \n",
    "    ranked_df = pd.DataFrame()\n",
    "\n",
    "    for i in range(mp_splits):\n",
    "        ranked_df = pd.concat([ranked_df, ranked[i]])\n",
    "        \n",
    "    t = time.time() - s\n",
    "    print(t/60)"
   ]
  },
  {
   "cell_type": "code",
   "execution_count": 82,
   "metadata": {},
   "outputs": [
    {
     "data": {
      "text/plain": [
       "[1, 5, 10, 15, 20]"
      ]
     },
     "execution_count": 82,
     "metadata": {},
     "output_type": "execute_result"
    }
   ],
   "source": [
    "steps = 5\n",
    "ranks_at = [1] + [i for i in range(steps, rank_at + steps, steps)]\n",
    "ranks_at"
   ]
  },
  {
   "cell_type": "code",
   "execution_count": 83,
   "metadata": {},
   "outputs": [
    {
     "data": {
      "text/html": [
       "<div>\n",
       "<style scoped>\n",
       "    .dataframe tbody tr th:only-of-type {\n",
       "        vertical-align: middle;\n",
       "    }\n",
       "\n",
       "    .dataframe tbody tr th {\n",
       "        vertical-align: top;\n",
       "    }\n",
       "\n",
       "    .dataframe thead th {\n",
       "        text-align: right;\n",
       "    }\n",
       "</style>\n",
       "<table border=\"1\" class=\"dataframe\">\n",
       "  <thead>\n",
       "    <tr style=\"text-align: right;\">\n",
       "      <th></th>\n",
       "      <th>scores_ranked</th>\n",
       "      <th>pred_items_ranked</th>\n",
       "      <th>true_id</th>\n",
       "    </tr>\n",
       "  </thead>\n",
       "  <tbody>\n",
       "    <tr>\n",
       "      <th>0</th>\n",
       "      <td>(2.1050361468449994, 1.9752039243769999, 1.911...</td>\n",
       "      <td>(236, 307, 8369, 308, 5209, 8098, 237, 6093, 5...</td>\n",
       "      <td>[71625]</td>\n",
       "    </tr>\n",
       "    <tr>\n",
       "      <th>1</th>\n",
       "      <td>(6.9926446383470005, 6.970577475948, 6.8507708...</td>\n",
       "      <td>(81722, 81204, 80191, 77887, 80148, 77888, 828...</td>\n",
       "      <td>[80191]</td>\n",
       "    </tr>\n",
       "    <tr>\n",
       "      <th>2</th>\n",
       "      <td>(3.28214720109, 2.9024799137599997, 2.70580579...</td>\n",
       "      <td>(83556, 81722, 52021, 80191, 3503, 81204, 1762...</td>\n",
       "      <td>[44008]</td>\n",
       "    </tr>\n",
       "    <tr>\n",
       "      <th>3</th>\n",
       "      <td>(1.090095418711, 1.056605869492, 1.02079935229...</td>\n",
       "      <td>(23723, 71463, 6486, 35207, 3315, 4483, 18436,...</td>\n",
       "      <td>[87126]</td>\n",
       "    </tr>\n",
       "    <tr>\n",
       "      <th>4</th>\n",
       "      <td>(4.718846760408, 3.695005577129, 3.58466118151...</td>\n",
       "      <td>(83556, 95746, 84213, 4444, 1760, 52021, 3505,...</td>\n",
       "      <td>[11497]</td>\n",
       "    </tr>\n",
       "  </tbody>\n",
       "</table>\n",
       "</div>"
      ],
      "text/plain": [
       "                                       scores_ranked  \\\n",
       "0  (2.1050361468449994, 1.9752039243769999, 1.911...   \n",
       "1  (6.9926446383470005, 6.970577475948, 6.8507708...   \n",
       "2  (3.28214720109, 2.9024799137599997, 2.70580579...   \n",
       "3  (1.090095418711, 1.056605869492, 1.02079935229...   \n",
       "4  (4.718846760408, 3.695005577129, 3.58466118151...   \n",
       "\n",
       "                                   pred_items_ranked  true_id  \n",
       "0  (236, 307, 8369, 308, 5209, 8098, 237, 6093, 5...  [71625]  \n",
       "1  (81722, 81204, 80191, 77887, 80148, 77888, 828...  [80191]  \n",
       "2  (83556, 81722, 52021, 80191, 3503, 81204, 1762...  [44008]  \n",
       "3  (23723, 71463, 6486, 35207, 3315, 4483, 18436,...  [87126]  \n",
       "4  (83556, 95746, 84213, 4444, 1760, 52021, 3505,...  [11497]  "
      ]
     },
     "execution_count": 83,
     "metadata": {},
     "output_type": "execute_result"
    }
   ],
   "source": [
    "ranked_df.head()"
   ]
  },
  {
   "cell_type": "markdown",
   "metadata": {},
   "source": [
    "---\n",
    "## Calc Hits@, Rec@ and Prec@"
   ]
  },
  {
   "cell_type": "code",
   "execution_count": 84,
   "metadata": {},
   "outputs": [
    {
     "name": "stdout",
     "output_type": "stream",
     "text": [
      "rank_at: 1   Hits: 925\n",
      "rank_at: 5   Hits: 4149\n",
      "rank_at: 10   Hits: 7518\n",
      "rank_at: 15   Hits: 9605\n",
      "rank_at: 20   Hits: 11202\n"
     ]
    },
    {
     "data": {
      "text/html": [
       "<div>\n",
       "<style scoped>\n",
       "    .dataframe tbody tr th:only-of-type {\n",
       "        vertical-align: middle;\n",
       "    }\n",
       "\n",
       "    .dataframe tbody tr th {\n",
       "        vertical-align: top;\n",
       "    }\n",
       "\n",
       "    .dataframe thead th {\n",
       "        text-align: right;\n",
       "    }\n",
       "</style>\n",
       "<table border=\"1\" class=\"dataframe\">\n",
       "  <thead>\n",
       "    <tr style=\"text-align: right;\">\n",
       "      <th></th>\n",
       "      <th>rank_at</th>\n",
       "      <th>hitcounts</th>\n",
       "      <th>recall</th>\n",
       "      <th>precision</th>\n",
       "    </tr>\n",
       "  </thead>\n",
       "  <tbody>\n",
       "    <tr>\n",
       "      <th>0</th>\n",
       "      <td>1</td>\n",
       "      <td>925</td>\n",
       "      <td>0.010141</td>\n",
       "      <td>0.010141</td>\n",
       "    </tr>\n",
       "    <tr>\n",
       "      <th>1</th>\n",
       "      <td>5</td>\n",
       "      <td>4149</td>\n",
       "      <td>0.045485</td>\n",
       "      <td>0.009097</td>\n",
       "    </tr>\n",
       "    <tr>\n",
       "      <th>2</th>\n",
       "      <td>10</td>\n",
       "      <td>7518</td>\n",
       "      <td>0.082420</td>\n",
       "      <td>0.008242</td>\n",
       "    </tr>\n",
       "    <tr>\n",
       "      <th>3</th>\n",
       "      <td>15</td>\n",
       "      <td>9605</td>\n",
       "      <td>0.105300</td>\n",
       "      <td>0.007020</td>\n",
       "    </tr>\n",
       "    <tr>\n",
       "      <th>4</th>\n",
       "      <td>20</td>\n",
       "      <td>11202</td>\n",
       "      <td>0.122807</td>\n",
       "      <td>0.006140</td>\n",
       "    </tr>\n",
       "  </tbody>\n",
       "</table>\n",
       "</div>"
      ],
      "text/plain": [
       "   rank_at  hitcounts    recall  precision\n",
       "0        1        925  0.010141   0.010141\n",
       "1        5       4149  0.045485   0.009097\n",
       "2       10       7518  0.082420   0.008242\n",
       "3       15       9605  0.105300   0.007020\n",
       "4       20      11202  0.122807   0.006140"
      ]
     },
     "execution_count": 84,
     "metadata": {},
     "output_type": "execute_result"
    }
   ],
   "source": [
    "hitcounts = []\n",
    "recs_at = []\n",
    "precs_at = []\n",
    "bpr_tf = pd.DataFrame(columns=['rank_at', 'hitcounts', 'recall', 'precision'])\n",
    "for rank in ranks_at:\n",
    "    hitcount = 0\n",
    "    for u in ranked_df.index:\n",
    "        hitcount +=  len(set(ranked_df.loc[u]['true_id']) & set(ranked_df.loc[u]['pred_items_ranked'][:rank]))\n",
    "                    \n",
    "    prec_at = hitcount / rank / len(ranked_df)\n",
    "    rec_at = hitcount / len(ranked_df.iloc[0]['true_id']) / len(ranked_df)\n",
    "    \n",
    "    print('rank_at:', rank, '  Hits:', hitcount)\n",
    "    hitcounts.append(hitcount)                     \n",
    "    recs_at.append(rec_at)\n",
    "    precs_at.append(prec_at)\n",
    "\n",
    "bpr_tf['rank_at'] = ranks_at\n",
    "bpr_tf['hitcounts'] = hitcounts\n",
    "bpr_tf['recall'] = recs_at\n",
    "bpr_tf['precision'] = precs_at\n",
    "bpr_tf"
   ]
  },
  {
   "cell_type": "markdown",
   "metadata": {},
   "source": [
    "---\n",
    "## Store Results"
   ]
  },
  {
   "cell_type": "code",
   "execution_count": 85,
   "metadata": {},
   "outputs": [],
   "source": [
    "result_path = 'Results/BPR_TF/'\n",
    "bpr_tf.to_pickle(path + result_path + file_name + '_bpr_tf_res')"
   ]
  },
  {
   "cell_type": "code",
   "execution_count": 86,
   "metadata": {},
   "outputs": [
    {
     "data": {
      "text/html": [
       "<div>\n",
       "<style scoped>\n",
       "    .dataframe tbody tr th:only-of-type {\n",
       "        vertical-align: middle;\n",
       "    }\n",
       "\n",
       "    .dataframe tbody tr th {\n",
       "        vertical-align: top;\n",
       "    }\n",
       "\n",
       "    .dataframe thead th {\n",
       "        text-align: right;\n",
       "    }\n",
       "</style>\n",
       "<table border=\"1\" class=\"dataframe\">\n",
       "  <thead>\n",
       "    <tr style=\"text-align: right;\">\n",
       "      <th></th>\n",
       "      <th>rank_at</th>\n",
       "      <th>hitcounts</th>\n",
       "      <th>recall</th>\n",
       "      <th>precision</th>\n",
       "    </tr>\n",
       "  </thead>\n",
       "  <tbody>\n",
       "    <tr>\n",
       "      <th>0</th>\n",
       "      <td>1</td>\n",
       "      <td>925</td>\n",
       "      <td>0.010141</td>\n",
       "      <td>0.010141</td>\n",
       "    </tr>\n",
       "    <tr>\n",
       "      <th>1</th>\n",
       "      <td>5</td>\n",
       "      <td>4149</td>\n",
       "      <td>0.045485</td>\n",
       "      <td>0.009097</td>\n",
       "    </tr>\n",
       "    <tr>\n",
       "      <th>2</th>\n",
       "      <td>10</td>\n",
       "      <td>7518</td>\n",
       "      <td>0.082420</td>\n",
       "      <td>0.008242</td>\n",
       "    </tr>\n",
       "    <tr>\n",
       "      <th>3</th>\n",
       "      <td>15</td>\n",
       "      <td>9605</td>\n",
       "      <td>0.105300</td>\n",
       "      <td>0.007020</td>\n",
       "    </tr>\n",
       "    <tr>\n",
       "      <th>4</th>\n",
       "      <td>20</td>\n",
       "      <td>11202</td>\n",
       "      <td>0.122807</td>\n",
       "      <td>0.006140</td>\n",
       "    </tr>\n",
       "  </tbody>\n",
       "</table>\n",
       "</div>"
      ],
      "text/plain": [
       "   rank_at  hitcounts    recall  precision\n",
       "0        1        925  0.010141   0.010141\n",
       "1        5       4149  0.045485   0.009097\n",
       "2       10       7518  0.082420   0.008242\n",
       "3       15       9605  0.105300   0.007020\n",
       "4       20      11202  0.122807   0.006140"
      ]
     },
     "execution_count": 86,
     "metadata": {},
     "output_type": "execute_result"
    }
   ],
   "source": [
    "bpr_tf"
   ]
  },
  {
   "cell_type": "code",
   "execution_count": 90,
   "metadata": {},
   "outputs": [
    {
     "data": {
      "text/html": [
       "<div>\n",
       "<style scoped>\n",
       "    .dataframe tbody tr th:only-of-type {\n",
       "        vertical-align: middle;\n",
       "    }\n",
       "\n",
       "    .dataframe tbody tr th {\n",
       "        vertical-align: top;\n",
       "    }\n",
       "\n",
       "    .dataframe thead th {\n",
       "        text-align: right;\n",
       "    }\n",
       "</style>\n",
       "<table border=\"1\" class=\"dataframe\">\n",
       "  <thead>\n",
       "    <tr style=\"text-align: right;\">\n",
       "      <th></th>\n",
       "      <th>rank_at</th>\n",
       "      <th>hitcounts</th>\n",
       "      <th>recall</th>\n",
       "      <th>precision</th>\n",
       "    </tr>\n",
       "  </thead>\n",
       "  <tbody>\n",
       "    <tr>\n",
       "      <th>0</th>\n",
       "      <td>1</td>\n",
       "      <td>117</td>\n",
       "      <td>0.002156</td>\n",
       "      <td>0.002156</td>\n",
       "    </tr>\n",
       "    <tr>\n",
       "      <th>1</th>\n",
       "      <td>5</td>\n",
       "      <td>495</td>\n",
       "      <td>0.009120</td>\n",
       "      <td>0.001824</td>\n",
       "    </tr>\n",
       "    <tr>\n",
       "      <th>2</th>\n",
       "      <td>10</td>\n",
       "      <td>912</td>\n",
       "      <td>0.016803</td>\n",
       "      <td>0.001680</td>\n",
       "    </tr>\n",
       "    <tr>\n",
       "      <th>3</th>\n",
       "      <td>15</td>\n",
       "      <td>1343</td>\n",
       "      <td>0.024743</td>\n",
       "      <td>0.001650</td>\n",
       "    </tr>\n",
       "    <tr>\n",
       "      <th>4</th>\n",
       "      <td>20</td>\n",
       "      <td>1736</td>\n",
       "      <td>0.031984</td>\n",
       "      <td>0.001599</td>\n",
       "    </tr>\n",
       "  </tbody>\n",
       "</table>\n",
       "</div>"
      ],
      "text/plain": [
       "   rank_at  hitcounts    recall  precision\n",
       "0        1        117  0.002156   0.002156\n",
       "1        5        495  0.009120   0.001824\n",
       "2       10        912  0.016803   0.001680\n",
       "3       15       1343  0.024743   0.001650\n",
       "4       20       1736  0.031984   0.001599"
      ]
     },
     "execution_count": 90,
     "metadata": {},
     "output_type": "execute_result"
    }
   ],
   "source": [
    "pd.read_pickle(path + result_path + 'ml_07m' + '_bpr_tf_res')"
   ]
  },
  {
   "cell_type": "code",
   "execution_count": null,
   "metadata": {},
   "outputs": [],
   "source": []
  }
 ],
 "metadata": {
  "kernelspec": {
   "display_name": "Python 3",
   "language": "python",
   "name": "python3"
  },
  "language_info": {
   "codemirror_mode": {
    "name": "ipython",
    "version": 3
   },
   "file_extension": ".py",
   "mimetype": "text/x-python",
   "name": "python",
   "nbconvert_exporter": "python",
   "pygments_lexer": "ipython3",
   "version": "3.7.6"
  },
  "toc": {
   "base_numbering": 1,
   "nav_menu": {},
   "number_sections": true,
   "sideBar": true,
   "skip_h1_title": false,
   "title_cell": "Table of Contents",
   "title_sidebar": "Contents",
   "toc_cell": false,
   "toc_position": {
    "height": "375.742px",
    "left": "1048.75px",
    "top": "110.57px",
    "width": "200.295px"
   },
   "toc_section_display": true,
   "toc_window_display": true
  }
 },
 "nbformat": 4,
 "nbformat_minor": 2
}
