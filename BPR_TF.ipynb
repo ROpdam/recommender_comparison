{
 "cells": [
  {
   "cell_type": "code",
   "execution_count": 76,
   "metadata": {},
   "outputs": [],
   "source": [
    "import pandas as pd\n",
    "import numpy as np\n",
    "import matplotlib.pyplot as plt\n",
    "import math\n",
    "import os\n",
    "import time\n",
    "import copy\n",
    "import calc_vector\n",
    "import multiprocessing as mp\n",
    "import random\n",
    "import tensorflow as tf\n",
    "\n",
    "pd.set_option('display.max_columns', 100)"
   ]
  },
  {
   "cell_type": "code",
   "execution_count": 77,
   "metadata": {},
   "outputs": [],
   "source": [
    "# from IPython.core.display import display, HTML\n",
    "# display(HTML(\"<style>.container { width:100% !important; }</style>\"))"
   ]
  },
  {
   "cell_type": "markdown",
   "metadata": {},
   "source": [
    "# Read Data"
   ]
  },
  {
   "cell_type": "markdown",
   "metadata": {},
   "source": [
    "Files in DropBox for easy sharing Work and Personal laptop"
   ]
  },
  {
   "cell_type": "code",
   "execution_count": 123,
   "metadata": {},
   "outputs": [],
   "source": [
    "path = '/Users/Robin/Dropbox/Data/'"
   ]
  },
  {
   "cell_type": "markdown",
   "metadata": {},
   "source": [
    "## Amazon Fashion"
   ]
  },
  {
   "cell_type": "code",
   "execution_count": null,
   "metadata": {},
   "outputs": [],
   "source": [
    "#Full data\n",
    "# file_name = 'amazon_clothing_shoes_jewelry_data' \n",
    "\n",
    "#2m user above 5 ratings\n",
    "# file_name = 'amazon_2m'\n",
    "\n",
    "#0.63m user above 5 ratings\n",
    "file_name = 'amazon_063m' "
   ]
  },
  {
   "cell_type": "markdown",
   "metadata": {},
   "source": [
    "## MovieLens"
   ]
  },
  {
   "cell_type": "code",
   "execution_count": null,
   "metadata": {},
   "outputs": [],
   "source": [
    "# Full data\n",
    "# file_name = '25m_ml'\n",
    "\n",
    "# 2m subset\n",
    "# file_name = '2m-ml'\n",
    "# With 3.0 as rating threshold for a 1\n",
    "# file_name = '2m-ml_3_r_thres'\n",
    "# ml_07m subset\n",
    "file_name = 'ml_0.7_u_above_5'"
   ]
  },
  {
   "cell_type": "code",
   "execution_count": 84,
   "metadata": {},
   "outputs": [
    {
     "data": {
      "text/html": [
       "<div>\n",
       "<style scoped>\n",
       "    .dataframe tbody tr th:only-of-type {\n",
       "        vertical-align: middle;\n",
       "    }\n",
       "\n",
       "    .dataframe tbody tr th {\n",
       "        vertical-align: top;\n",
       "    }\n",
       "\n",
       "    .dataframe thead th {\n",
       "        text-align: right;\n",
       "    }\n",
       "</style>\n",
       "<table border=\"1\" class=\"dataframe\">\n",
       "  <thead>\n",
       "    <tr style=\"text-align: right;\">\n",
       "      <th></th>\n",
       "      <th>user</th>\n",
       "      <th>item</th>\n",
       "      <th>rating</th>\n",
       "      <th>verified</th>\n",
       "    </tr>\n",
       "  </thead>\n",
       "  <tbody>\n",
       "    <tr>\n",
       "      <th>0</th>\n",
       "      <td>A2OLY7TMIYHOQQ</td>\n",
       "      <td>B00EAKJUUW</td>\n",
       "      <td>5.0</td>\n",
       "      <td>True</td>\n",
       "    </tr>\n",
       "    <tr>\n",
       "      <th>1</th>\n",
       "      <td>A3F6ZP5VM8QUC6</td>\n",
       "      <td>B00D98EGE6</td>\n",
       "      <td>5.0</td>\n",
       "      <td>True</td>\n",
       "    </tr>\n",
       "    <tr>\n",
       "      <th>2</th>\n",
       "      <td>A21PFJA2O7Z5GY</td>\n",
       "      <td>B01DTEXSHA</td>\n",
       "      <td>2.0</td>\n",
       "      <td>True</td>\n",
       "    </tr>\n",
       "    <tr>\n",
       "      <th>3</th>\n",
       "      <td>AV9HIUYXBZODJ</td>\n",
       "      <td>B0045DBUBQ</td>\n",
       "      <td>3.0</td>\n",
       "      <td>True</td>\n",
       "    </tr>\n",
       "    <tr>\n",
       "      <th>4</th>\n",
       "      <td>A73X3PFCRTJVX</td>\n",
       "      <td>B00DEWBMU8</td>\n",
       "      <td>5.0</td>\n",
       "      <td>True</td>\n",
       "    </tr>\n",
       "  </tbody>\n",
       "</table>\n",
       "</div>"
      ],
      "text/plain": [
       "             user        item  rating  verified\n",
       "0  A2OLY7TMIYHOQQ  B00EAKJUUW     5.0      True\n",
       "1  A3F6ZP5VM8QUC6  B00D98EGE6     5.0      True\n",
       "2  A21PFJA2O7Z5GY  B01DTEXSHA     2.0      True\n",
       "3   AV9HIUYXBZODJ  B0045DBUBQ     3.0      True\n",
       "4   A73X3PFCRTJVX  B00DEWBMU8     5.0      True"
      ]
     },
     "execution_count": 84,
     "metadata": {},
     "output_type": "execute_result"
    }
   ],
   "source": [
    "path = 'Data/'\n",
    "df = pd.read_pickle(path + file_name)\n",
    "df.head()"
   ]
  },
  {
   "cell_type": "code",
   "execution_count": 126,
   "metadata": {},
   "outputs": [
    {
     "data": {
      "text/html": [
       "<div>\n",
       "<style scoped>\n",
       "    .dataframe tbody tr th:only-of-type {\n",
       "        vertical-align: middle;\n",
       "    }\n",
       "\n",
       "    .dataframe tbody tr th {\n",
       "        vertical-align: top;\n",
       "    }\n",
       "\n",
       "    .dataframe thead th {\n",
       "        text-align: right;\n",
       "    }\n",
       "</style>\n",
       "<table border=\"1\" class=\"dataframe\">\n",
       "  <thead>\n",
       "    <tr style=\"text-align: right;\">\n",
       "      <th></th>\n",
       "      <th>user</th>\n",
       "      <th>item</th>\n",
       "      <th>rating</th>\n",
       "      <th>verified</th>\n",
       "    </tr>\n",
       "  </thead>\n",
       "  <tbody>\n",
       "    <tr>\n",
       "      <th>0</th>\n",
       "      <td>A2OLY7TMIYHOQQ</td>\n",
       "      <td>B00EAKJUUW</td>\n",
       "      <td>5.0</td>\n",
       "      <td>True</td>\n",
       "    </tr>\n",
       "    <tr>\n",
       "      <th>1</th>\n",
       "      <td>A3F6ZP5VM8QUC6</td>\n",
       "      <td>B00D98EGE6</td>\n",
       "      <td>5.0</td>\n",
       "      <td>True</td>\n",
       "    </tr>\n",
       "    <tr>\n",
       "      <th>2</th>\n",
       "      <td>A21PFJA2O7Z5GY</td>\n",
       "      <td>B01DTEXSHA</td>\n",
       "      <td>2.0</td>\n",
       "      <td>True</td>\n",
       "    </tr>\n",
       "    <tr>\n",
       "      <th>3</th>\n",
       "      <td>AV9HIUYXBZODJ</td>\n",
       "      <td>B0045DBUBQ</td>\n",
       "      <td>3.0</td>\n",
       "      <td>True</td>\n",
       "    </tr>\n",
       "    <tr>\n",
       "      <th>4</th>\n",
       "      <td>A73X3PFCRTJVX</td>\n",
       "      <td>B00DEWBMU8</td>\n",
       "      <td>5.0</td>\n",
       "      <td>True</td>\n",
       "    </tr>\n",
       "  </tbody>\n",
       "</table>\n",
       "</div>"
      ],
      "text/plain": [
       "             user        item  rating  verified\n",
       "0  A2OLY7TMIYHOQQ  B00EAKJUUW     5.0      True\n",
       "1  A3F6ZP5VM8QUC6  B00D98EGE6     5.0      True\n",
       "2  A21PFJA2O7Z5GY  B01DTEXSHA     2.0      True\n",
       "3   AV9HIUYXBZODJ  B0045DBUBQ     3.0      True\n",
       "4   A73X3PFCRTJVX  B00DEWBMU8     5.0      True"
      ]
     },
     "execution_count": 126,
     "metadata": {},
     "output_type": "execute_result"
    }
   ],
   "source": [
    "path = 'Data/'\n",
    "df = pd.read_pickle(path + file_name)\n",
    "df.head()"
   ]
  },
  {
   "cell_type": "markdown",
   "metadata": {},
   "source": [
    "# Data Prep\n",
    "Create new ids for users and items that match the row and column indices of the user-item interaction matrix"
   ]
  },
  {
   "cell_type": "code",
   "execution_count": null,
   "metadata": {},
   "outputs": [],
   "source": [
    "df['item_id'] = df.item.astype('category').cat.codes\n",
    "df['user_id'] = df.user.astype('category').cat.codes"
   ]
  },
  {
   "cell_type": "code",
   "execution_count": 128,
   "metadata": {},
   "outputs": [
    {
     "data": {
      "text/plain": [
       "115062"
      ]
     },
     "execution_count": 128,
     "metadata": {},
     "output_type": "execute_result"
    }
   ],
   "source": [
    "df.item_id.unique().max()"
   ]
  },
  {
   "cell_type": "markdown",
   "metadata": {},
   "source": [
    "## Leave item out train test split"
   ]
  },
  {
   "cell_type": "code",
   "execution_count": 87,
   "metadata": {},
   "outputs": [],
   "source": [
    "def leave_x_out(full_data, leave_out):\n",
    "    # Input: data must be formatted by func: tranfsorm\n",
    "    # Output: full_data = without all entries in leave one out set\n",
    "    #         leave_one_out_set = data with one user and one item from full_data\n",
    "    \n",
    "    full_data['index'] = full_data.index\n",
    "    user_items_ind = full_data.groupby('user_id')['index'].apply(list)\n",
    "    index_to_drop = []\n",
    "    \n",
    "    for indices in user_items_ind:\n",
    "        if len(indices) > leave_out:\n",
    "            for to_leave_out in range(leave_out):\n",
    "                index = indices[- to_leave_out]\n",
    "                index_to_drop.append(index)\n",
    "    \n",
    "    leave_one_out_set = full_data.loc[index_to_drop]\n",
    "    full_data_leave_one_out = full_data.drop(index_to_drop)\n",
    "    \n",
    "    return full_data_leave_one_out.drop(columns=['index']), leave_one_out_set.drop(columns=['index'])"
   ]
  },
  {
   "cell_type": "code",
   "execution_count": 88,
   "metadata": {},
   "outputs": [],
   "source": [
    "def create_matrices(data, n_users, n_items):\n",
    "        r = data['new_user_id']\n",
    "        c = data['new_item_id']\n",
    "        d = data['rating']\n",
    "        m = sparse.csr_matrix((d, (r, c)), shape=(n_users, n_items))\n",
    "        m_ones = m.copy()\n",
    "        m_ones[m_ones > 0] = 1\n",
    "                               \n",
    "        return m, m_ones"
   ]
  },
  {
   "cell_type": "code",
   "execution_count": 89,
   "metadata": {},
   "outputs": [],
   "source": [
    "train_set, test_set = leave_x_out(df, 2)\n",
    "val_set, test_set = leave_x_out(test_set, 1)"
   ]
  },
  {
   "cell_type": "code",
   "execution_count": 90,
   "metadata": {},
   "outputs": [
    {
     "name": "stdout",
     "output_type": "stream",
     "text": [
      "Leave one item out per user \n",
      "\n",
      "Full Df length:\t\t 629889 \n",
      "Training Set length:\t 447457 \n",
      "Testing Set length:\t 91216 \n",
      "Validation Set length:\t 91216\n"
     ]
    }
   ],
   "source": [
    "print('Leave one item out per user',\n",
    "      '\\n\\nFull Df length:\\t\\t', len(df),\n",
    "      '\\nTraining Set length:\\t', len(train_set),\n",
    "      '\\nTesting Set length:\\t', len(test_set),\n",
    "      '\\nValidation Set length:\\t', len(val_set))"
   ]
  },
  {
   "cell_type": "markdown",
   "metadata": {},
   "source": [
    "# Model: BPR MF in TF"
   ]
  },
  {
   "cell_type": "markdown",
   "metadata": {},
   "source": [
    "- Paper: https://arxiv.org/pdf/1205.2618.pdf\n",
    "- Code:  https://github.com/valerystrizh/bpr/blob/master/BPR.java"
   ]
  },
  {
   "cell_type": "markdown",
   "metadata": {},
   "source": [
    "---\n",
    "## Init: Variables"
   ]
  },
  {
   "cell_type": "code",
   "execution_count": 91,
   "metadata": {},
   "outputs": [],
   "source": [
    "total_users = len(df.user_id.unique())\n",
    "total_items = len(df.item_id.unique())\n",
    "latent_dim = 20\n",
    "learning_rate = 0.1\n",
    "\n",
    "n_epochs = 10\n",
    "\n",
    "user_items = train_set.groupby('user_id')['item_id'].apply(list)\n",
    "train_users = train_set.user_id.unique()\n",
    "train_items = train_set.item_id.unique()"
   ]
  },
  {
   "cell_type": "code",
   "execution_count": 92,
   "metadata": {},
   "outputs": [
    {
     "name": "stdout",
     "output_type": "stream",
     "text": [
      "Total Users: 91216 \n",
      "Total Items: 115063\n"
     ]
    }
   ],
   "source": [
    "print('Total Users:', total_users,\n",
    "      '\\nTotal Items:', total_items)"
   ]
  },
  {
   "cell_type": "markdown",
   "metadata": {},
   "source": [
    "---\n",
    "## Define Model, Loss, Train Step and Helpers"
   ]
  },
  {
   "cell_type": "code",
   "execution_count": 93,
   "metadata": {},
   "outputs": [],
   "source": [
    "class BPR_MF(tf.keras.Model):\n",
    "    def __init__(self, init_func, total_users, total_items, latent_dim): #b_init_func\n",
    "        super(BPR_MF, self).__init__()\n",
    "        self.p = tf.Variable(init_func(total_users, latent_dim), name=\"p\")\n",
    "        self.q = tf.Variable(init_func(total_items, latent_dim), name=\"q\")\n",
    "#         self.b = tf.Variable(b_init_func((total_items, 1)), name=\"b\")\n",
    "    \n",
    "    def call(self, uij):\n",
    "        return tf.math.multiply(self.p[uij[0]], (self.q[uij[1]] - self.q[uij[2]]))"
   ]
  },
  {
   "cell_type": "code",
   "execution_count": 94,
   "metadata": {},
   "outputs": [],
   "source": [
    "class Loss:\n",
    "    def __call__(self, x):\n",
    "        return - tf.math.log_sigmoid(tf.math.reduce_sum(x))"
   ]
  },
  {
   "cell_type": "code",
   "execution_count": 95,
   "metadata": {},
   "outputs": [],
   "source": [
    "@tf.function\n",
    "def train_step(model, optimizer, uij):\n",
    "    with tf.GradientTape(persistent=True) as tape:\n",
    "        x = model(uij) \n",
    "        loss = loss_obj(x) # -x or not? \n",
    "\n",
    "    gradients = tape.gradient(loss, model.trainable_variables)\n",
    "    optimizer.apply_gradients(zip(gradients, model.trainable_variables))\n",
    "    \n",
    "    return loss"
   ]
  },
  {
   "cell_type": "code",
   "execution_count": 96,
   "metadata": {},
   "outputs": [],
   "source": [
    "def draw_sample(train_users, train_items, user_items):\n",
    "    u = int(np.random.choice(train_users))\n",
    "    u_items = user_items[u]\n",
    "    i = random.choice(u_items)\n",
    "    j = int(np.random.choice(train_items)) # neg item\n",
    "\n",
    "    while j in u_items: # j cannot be the same item or an item with a 1\n",
    "        j = int(np.random.choice(train_items))\n",
    "        \n",
    "    return tf.Variable([u, i, j])"
   ]
  },
  {
   "cell_type": "code",
   "execution_count": 119,
   "metadata": {},
   "outputs": [
    {
     "data": {
      "text/plain": [
       "[PhysicalDevice(name='/physical_device:CPU:0', device_type='CPU'),\n",
       " PhysicalDevice(name='/physical_device:XLA_CPU:0', device_type='XLA_CPU')]"
      ]
     },
     "execution_count": 119,
     "metadata": {},
     "output_type": "execute_result"
    }
   ],
   "source": [
    "tf.config.list_physical_devices()"
   ]
  },
  {
   "cell_type": "markdown",
   "metadata": {},
   "source": [
    "---\n",
    "# Train Model"
   ]
  },
  {
   "cell_type": "markdown",
   "metadata": {},
   "source": [
    "## Init Model and Loss"
   ]
  },
  {
   "cell_type": "code",
   "execution_count": 97,
   "metadata": {},
   "outputs": [],
   "source": [
    "normal_init = lambda v, d: tf.random.normal((v, d), 0.0, 1.0/d)\n",
    "zero_init = lambda v: tf.zeros(v,1)\n",
    "\n",
    "model = BPR_MF(normal_init, total_users, total_items, latent_dim)"
   ]
  },
  {
   "cell_type": "code",
   "execution_count": 98,
   "metadata": {},
   "outputs": [],
   "source": [
    "loss_obj = Loss()\n",
    "optimizer = tf.keras.optimizers.SGD(learning_rate=learning_rate)"
   ]
  },
  {
   "cell_type": "markdown",
   "metadata": {},
   "source": [
    "---\n",
    "## Train Loop"
   ]
  },
  {
   "cell_type": "code",
   "execution_count": 40,
   "metadata": {},
   "outputs": [
    {
     "name": "stdout",
     "output_type": "stream",
     "text": [
      "Epoch: 0 \tLoss: 0.6867 \tEpoch Time: 2789.7120835781097\n",
      "Epoch: 1 \tLoss: 0.5903 \tEpoch Time: 2788.5875730514526\n",
      "Epoch: 2 \tLoss: 0.3808 \tEpoch Time: 2785.1623594760895\n",
      "Epoch: 3 \tLoss: 0.2653 \tEpoch Time: 2813.3431804180145\n",
      "Epoch: 4 \tLoss: 0.2181 \tEpoch Time: 2780.731358528137\n",
      "Epoch: 5 \tLoss: 0.1899 \tEpoch Time: 2754.6160719394684\n",
      "Epoch: 6 \tLoss: 0.169 \tEpoch Time: 2757.2164154052734\n",
      "Epoch: 7 \tLoss: 0.1542 \tEpoch Time: 2773.1963369846344\n",
      "Epoch: 8 \tLoss: 0.1407 \tEpoch Time: 2755.1128487586975\n",
      "Epoch: 9 \tLoss: 0.1296 \tEpoch Time: 2754.849689245224\n",
      "Total training time: 27752.541813850403\n"
     ]
    }
   ],
   "source": [
    "train_time_s = time.time()\n",
    "total_losses = []\n",
    "for epoch in tf.range(n_epochs):\n",
    "    ep_time_s = time.time()\n",
    "    ep_losses = []\n",
    "    for sample in tf.range(len(train_set)):\n",
    "        uij_sample = draw_sample(train_users, train_items, user_items)\n",
    "        loss = train_step(model, optimizer, uij_sample)\n",
    "        \n",
    "        ep_losses.append(loss)\n",
    "    ep_loss = np.average(ep_losses)\n",
    "    \n",
    "    print('Epoch:', epoch.numpy(), '\\tLoss:', round(ep_loss,4), '\\tEpoch Time:', time.time() - ep_time_s)\n",
    "    total_losses.append(ep_loss)\n",
    "\n",
    "print('Total training time:', time.time() - train_time_s)"
   ]
  },
  {
   "cell_type": "code",
   "execution_count": 41,
   "metadata": {},
   "outputs": [
    {
     "data": {
      "image/png": "[encoded data removed]",
      "text/plain": [
       "<Figure size 432x288 with 1 Axes>"
      ]
     },
     "metadata": {
      "needs_background": "light"
     },
     "output_type": "display_data"
    }
   ],
   "source": [
    "plt.plot(total_losses)\n",
    "plt.show()"
   ]
  },
  {
   "cell_type": "markdown",
   "metadata": {},
   "source": [
    "---\n",
    "## Quick np save"
   ]
  },
  {
   "cell_type": "code",
   "execution_count": 42,
   "metadata": {},
   "outputs": [],
   "source": [
    "np.savetxt('Results/BPR_TF/p.txt', model.p.numpy(), fmt='%f')\n",
    "np.savetxt('Results/BPR_TF/q.txt', model.q.numpy(), fmt='%f')\n",
    "\n",
    "\n",
    "p = np.loadtxt('Results/BPR_TF/p.txt', dtype=float)\n",
    "q = np.loadtxt('Results/BPR_TF/q.txt', dtype=float)"
   ]
  },
  {
   "cell_type": "markdown",
   "metadata": {},
   "source": [
    "# Evaluate Model"
   ]
  },
  {
   "cell_type": "code",
   "execution_count": 43,
   "metadata": {},
   "outputs": [],
   "source": [
    "train_set.to_pickle('Results/BPR_TF/train_set')\n",
    "test_set.to_pickle('Results/BPR_TF/test_set')"
   ]
  },
  {
   "cell_type": "code",
   "execution_count": 44,
   "metadata": {},
   "outputs": [],
   "source": [
    "train_set = pd.read_pickle('Results/BPR_TF/train_set')\n",
    "test_set = pd.read_pickle('Results/BPR_TF/test_set')"
   ]
  },
  {
   "cell_type": "code",
   "execution_count": 45,
   "metadata": {},
   "outputs": [
    {
     "data": {
      "text/plain": [
       "4.271967854879"
      ]
     },
     "execution_count": 45,
     "metadata": {},
     "output_type": "execute_result"
    }
   ],
   "source": [
    "np.dot(p[0],q[0].T)"
   ]
  },
  {
   "cell_type": "code",
   "execution_count": 5,
   "metadata": {},
   "outputs": [],
   "source": [
    "import eval_rank_bpr\n",
    "result = {'p':p, 'q':q}\n",
    "users = test_set.user_id.unique()\n",
    "items = test_set.item_id.unique()\n",
    "test_user_items = test_set.groupby('user_id')['item_id'].apply(list)\n",
    "\n",
    "s = time.time()\n",
    "rank_at = 20\n",
    "mp_splits = 4\n",
    "users_split = np.array_split(users, mp_splits)"
   ]
  },
  {
   "cell_type": "code",
   "execution_count": 6,
   "metadata": {},
   "outputs": [
    {
     "data": {
      "text/html": [
       "<div>\n",
       "<style scoped>\n",
       "    .dataframe tbody tr th:only-of-type {\n",
       "        vertical-align: middle;\n",
       "    }\n",
       "\n",
       "    .dataframe tbody tr th {\n",
       "        vertical-align: top;\n",
       "    }\n",
       "\n",
       "    .dataframe thead th {\n",
       "        text-align: right;\n",
       "    }\n",
       "</style>\n",
       "<table border=\"1\" class=\"dataframe\">\n",
       "  <thead>\n",
       "    <tr style=\"text-align: right;\">\n",
       "      <th></th>\n",
       "      <th>scores_ranked</th>\n",
       "      <th>pred_items_ranked</th>\n",
       "      <th>true_id</th>\n",
       "    </tr>\n",
       "  </thead>\n",
       "  <tbody>\n",
       "    <tr>\n",
       "      <th>1</th>\n",
       "      <td>(0.782769451433, 0.743779667441, 0.73484823437...</td>\n",
       "      <td>(294, 242, 3710, 451, 4540, 836, 5274, 841, 19...</td>\n",
       "      <td>[3403]</td>\n",
       "    </tr>\n",
       "    <tr>\n",
       "      <th>12</th>\n",
       "      <td>(1.1382500490260001, 0.9098205844179998, 0.825...</td>\n",
       "      <td>(472, 0, 3505, 1781, 239, 429, 833, 18, 3854, ...</td>\n",
       "      <td>[2541]</td>\n",
       "    </tr>\n",
       "    <tr>\n",
       "      <th>30</th>\n",
       "      <td>(1.244876958548, 1.118842594111, 1.05777020205...</td>\n",
       "      <td>(2022, 1100, 4211, 546, 2491, 5543, 1126, 116,...</td>\n",
       "      <td>[840]</td>\n",
       "    </tr>\n",
       "    <tr>\n",
       "      <th>39</th>\n",
       "      <td>(1.382680892857, 1.256073012007, 0.87326090753...</td>\n",
       "      <td>(1919, 2022, 4211, 903, 3505, 1074, 118, 276, ...</td>\n",
       "      <td>[1088]</td>\n",
       "    </tr>\n",
       "    <tr>\n",
       "      <th>50</th>\n",
       "      <td>(2.284304490758, 1.677254996362, 1.53095557457...</td>\n",
       "      <td>(238, 294, 466, 469, 1100, 763, 2241, 2775, 32...</td>\n",
       "      <td>[427]</td>\n",
       "    </tr>\n",
       "    <tr>\n",
       "      <th>...</th>\n",
       "      <td>...</td>\n",
       "      <td>...</td>\n",
       "      <td>...</td>\n",
       "    </tr>\n",
       "    <tr>\n",
       "      <th>8382</th>\n",
       "      <td>(1.404969001027, 1.3350839652889999, 1.2104916...</td>\n",
       "      <td>(1074, 833, 849, 95, 614, 3281, 1613, 1302, 13...</td>\n",
       "      <td>[6127]</td>\n",
       "    </tr>\n",
       "    <tr>\n",
       "      <th>8383</th>\n",
       "      <td>(2.877398222098, 2.557897541755, 2.26984983106...</td>\n",
       "      <td>(759, 482, 4066, 2491, 5543, 1655, 1171, 2241,...</td>\n",
       "      <td>[4254]</td>\n",
       "    </tr>\n",
       "    <tr>\n",
       "      <th>8386</th>\n",
       "      <td>(1.058857749812, 0.9896739806879999, 0.7897804...</td>\n",
       "      <td>(44, 441, 1388, 301, 3470, 1133, 2491, 470, 45...</td>\n",
       "      <td>[6059]</td>\n",
       "    </tr>\n",
       "    <tr>\n",
       "      <th>8387</th>\n",
       "      <td>(1.856431028364, 1.1526715260549998, 1.1026409...</td>\n",
       "      <td>(1919, 2022, 242, 472, 2222, 386, 873, 3303, 9...</td>\n",
       "      <td>[998]</td>\n",
       "    </tr>\n",
       "    <tr>\n",
       "      <th>8391</th>\n",
       "      <td>(1.324084958566, 1.150953148726, 0.91851758846...</td>\n",
       "      <td>(294, 2751, 242, 800, 3869, 471, 5607, 45, 386...</td>\n",
       "      <td>[1990]</td>\n",
       "    </tr>\n",
       "  </tbody>\n",
       "</table>\n",
       "<p>2058 rows × 3 columns</p>\n",
       "</div>"
      ],
      "text/plain": [
       "                                          scores_ranked  \\\n",
       "1     (0.782769451433, 0.743779667441, 0.73484823437...   \n",
       "12    (1.1382500490260001, 0.9098205844179998, 0.825...   \n",
       "30    (1.244876958548, 1.118842594111, 1.05777020205...   \n",
       "39    (1.382680892857, 1.256073012007, 0.87326090753...   \n",
       "50    (2.284304490758, 1.677254996362, 1.53095557457...   \n",
       "...                                                 ...   \n",
       "8382  (1.404969001027, 1.3350839652889999, 1.2104916...   \n",
       "8383  (2.877398222098, 2.557897541755, 2.26984983106...   \n",
       "8386  (1.058857749812, 0.9896739806879999, 0.7897804...   \n",
       "8387  (1.856431028364, 1.1526715260549998, 1.1026409...   \n",
       "8391  (1.324084958566, 1.150953148726, 0.91851758846...   \n",
       "\n",
       "                                      pred_items_ranked true_id  \n",
       "1     (294, 242, 3710, 451, 4540, 836, 5274, 841, 19...  [3403]  \n",
       "12    (472, 0, 3505, 1781, 239, 429, 833, 18, 3854, ...  [2541]  \n",
       "30    (2022, 1100, 4211, 546, 2491, 5543, 1126, 116,...   [840]  \n",
       "39    (1919, 2022, 4211, 903, 3505, 1074, 118, 276, ...  [1088]  \n",
       "50    (238, 294, 466, 469, 1100, 763, 2241, 2775, 32...   [427]  \n",
       "...                                                 ...     ...  \n",
       "8382  (1074, 833, 849, 95, 614, 3281, 1613, 1302, 13...  [6127]  \n",
       "8383  (759, 482, 4066, 2491, 5543, 1655, 1171, 2241,...  [4254]  \n",
       "8386  (44, 441, 1388, 301, 3470, 1133, 2491, 470, 45...  [6059]  \n",
       "8387  (1919, 2022, 242, 472, 2222, 386, 873, 3303, 9...   [998]  \n",
       "8391  (294, 2751, 242, 800, 3869, 471, 5607, 45, 386...  [1990]  \n",
       "\n",
       "[2058 rows x 3 columns]"
      ]
     },
     "execution_count": 6,
     "metadata": {},
     "output_type": "execute_result"
    }
   ],
   "source": [
    "eval_rank_bpr.eval_rank_bpr([result, users_split[0], items, test_user_items, rank_at])"
   ]
  },
  {
   "cell_type": "code",
   "execution_count": 11,
   "metadata": {},
   "outputs": [
    {
     "data": {
      "text/plain": [
       "pandas.core.frame.DataFrame"
      ]
     },
     "execution_count": 11,
     "metadata": {},
     "output_type": "execute_result"
    }
   ],
   "source": [
    "type(test_set)"
   ]
  },
  {
   "cell_type": "code",
   "execution_count": 46,
   "metadata": {},
   "outputs": [
    {
     "name": "stdout",
     "output_type": "stream",
     "text": [
      "17.91136803627014\n"
     ]
    }
   ],
   "source": [
    "import eval_rank_bpr\n",
    "result = {'p':p, 'q':q}\n",
    "users = test_set.user_id.unique()\n",
    "items = test_set.item_id.unique()\n",
    "test_user_items = test_set.groupby('user_id')['item_id'].apply(list)\n",
    "\n",
    "s = time.time()\n",
    "rank_at = 20\n",
    "mp_splits = 4\n",
    "users_split = np.array_split(users, mp_splits)\n",
    "        \n",
    "if __name__ == '__main__':\n",
    "    pool = mp.Pool(processes = mp_splits)\n",
    "    ranked = pool.map(eval_rank_bpr.eval_rank_bpr, [[result, users_split[0], items, test_user_items, rank_at], \n",
    "                                            [result, users_split[1], items, test_user_items, rank_at], \n",
    "                                            [result, users_split[2], items, test_user_items, rank_at], \n",
    "                                            [result, users_split[3], items, test_user_items, rank_at]])\n",
    "    pool.close()\n",
    "    \n",
    "    ranked_df = pd.DataFrame()\n",
    "\n",
    "    for i in range(mp_splits):\n",
    "        ranked_df = pd.concat([ranked_df, ranked[i]])\n",
    "        \n",
    "    t = time.time() - s\n",
    "    print(t/60)"
   ]
  },
  {
   "cell_type": "code",
   "execution_count": 47,
   "metadata": {},
   "outputs": [],
   "source": [
    "steps = 5\n",
    "ranks_at = [1] + [i for i in range(steps, rank_at + steps, steps)]"
   ]
  },
  {
   "cell_type": "code",
   "execution_count": 48,
   "metadata": {},
   "outputs": [
    {
     "data": {
      "text/plain": [
       "[1, 5, 10, 15, 20]"
      ]
     },
     "execution_count": 48,
     "metadata": {},
     "output_type": "execute_result"
    }
   ],
   "source": [
    "ranks_at"
   ]
  },
  {
   "cell_type": "code",
   "execution_count": 49,
   "metadata": {},
   "outputs": [
    {
     "data": {
      "text/plain": [
       "54277"
      ]
     },
     "execution_count": 49,
     "metadata": {},
     "output_type": "execute_result"
    }
   ],
   "source": [
    "len(users)"
   ]
  },
  {
   "cell_type": "code",
   "execution_count": 50,
   "metadata": {},
   "outputs": [
    {
     "data": {
      "text/html": [
       "<div>\n",
       "<style scoped>\n",
       "    .dataframe tbody tr th:only-of-type {\n",
       "        vertical-align: middle;\n",
       "    }\n",
       "\n",
       "    .dataframe tbody tr th {\n",
       "        vertical-align: top;\n",
       "    }\n",
       "\n",
       "    .dataframe thead th {\n",
       "        text-align: right;\n",
       "    }\n",
       "</style>\n",
       "<table border=\"1\" class=\"dataframe\">\n",
       "  <thead>\n",
       "    <tr style=\"text-align: right;\">\n",
       "      <th></th>\n",
       "      <th>scores_ranked</th>\n",
       "      <th>pred_items_ranked</th>\n",
       "      <th>true_id</th>\n",
       "    </tr>\n",
       "  </thead>\n",
       "  <tbody>\n",
       "    <tr>\n",
       "      <th>0</th>\n",
       "      <td>(11.096968328988, 9.790216473669, 9.3872448929...</td>\n",
       "      <td>(875, 4634, 342, 416, 1504, 3142, 725, 223, 68...</td>\n",
       "      <td>[4842]</td>\n",
       "    </tr>\n",
       "    <tr>\n",
       "      <th>1</th>\n",
       "      <td>(9.070790855216, 8.254116944099, 7.70535786749...</td>\n",
       "      <td>(3330, 3274, 725, 3740, 3136, 3132, 1338, 1816...</td>\n",
       "      <td>[4073]</td>\n",
       "    </tr>\n",
       "    <tr>\n",
       "      <th>2</th>\n",
       "      <td>(10.480868196541998, 8.86418392492, 8.75772140...</td>\n",
       "      <td>(4997, 6305, 7048, 230, 2955, 853, 4178, 6453,...</td>\n",
       "      <td>[8406]</td>\n",
       "    </tr>\n",
       "    <tr>\n",
       "      <th>3</th>\n",
       "      <td>(7.813343638447001, 6.992423157903, 6.43505922...</td>\n",
       "      <td>(939, 452, 320, 146, 20, 955, 9, 900, 929, 974...</td>\n",
       "      <td>[297]</td>\n",
       "    </tr>\n",
       "    <tr>\n",
       "      <th>4</th>\n",
       "      <td>(8.511280315242999, 8.301163375839002, 8.18785...</td>\n",
       "      <td>(0, 293, 939, 2033, 283, 126, 900, 445, 4178, ...</td>\n",
       "      <td>[523]</td>\n",
       "    </tr>\n",
       "    <tr>\n",
       "      <th>...</th>\n",
       "      <td>...</td>\n",
       "      <td>...</td>\n",
       "      <td>...</td>\n",
       "    </tr>\n",
       "    <tr>\n",
       "      <th>54272</th>\n",
       "      <td>(8.741283549908001, 8.289856669636, 8.12622371...</td>\n",
       "      <td>(6880, 2301, 283, 3792, 623, 535, 858, 521, 10...</td>\n",
       "      <td>[2527]</td>\n",
       "    </tr>\n",
       "    <tr>\n",
       "      <th>54273</th>\n",
       "      <td>(7.784468629646, 7.5277180533150005, 7.4389892...</td>\n",
       "      <td>(3784, 875, 230, 4634, 4279, 2301, 2033, 1771,...</td>\n",
       "      <td>[9333]</td>\n",
       "    </tr>\n",
       "    <tr>\n",
       "      <th>54274</th>\n",
       "      <td>(6.225381308359999, 5.8081412444869995, 5.3706...</td>\n",
       "      <td>(282, 32, 320, 97, 7789, 2256, 179, 141, 3330,...</td>\n",
       "      <td>[2560]</td>\n",
       "    </tr>\n",
       "    <tr>\n",
       "      <th>54275</th>\n",
       "      <td>(9.066234802238, 7.814730784342, 6.96329663954...</td>\n",
       "      <td>(425, 521, 853, 4556, 313, 3806, 7048, 230, 19...</td>\n",
       "      <td>[6386]</td>\n",
       "    </tr>\n",
       "    <tr>\n",
       "      <th>54276</th>\n",
       "      <td>(9.101858443213999, 6.554103476541, 5.12566068...</td>\n",
       "      <td>(522, 614, 99, 1114, 2486, 1570, 2299, 4556, 1...</td>\n",
       "      <td>[892]</td>\n",
       "    </tr>\n",
       "  </tbody>\n",
       "</table>\n",
       "<p>54277 rows × 3 columns</p>\n",
       "</div>"
      ],
      "text/plain": [
       "                                           scores_ranked  \\\n",
       "0      (11.096968328988, 9.790216473669, 9.3872448929...   \n",
       "1      (9.070790855216, 8.254116944099, 7.70535786749...   \n",
       "2      (10.480868196541998, 8.86418392492, 8.75772140...   \n",
       "3      (7.813343638447001, 6.992423157903, 6.43505922...   \n",
       "4      (8.511280315242999, 8.301163375839002, 8.18785...   \n",
       "...                                                  ...   \n",
       "54272  (8.741283549908001, 8.289856669636, 8.12622371...   \n",
       "54273  (7.784468629646, 7.5277180533150005, 7.4389892...   \n",
       "54274  (6.225381308359999, 5.8081412444869995, 5.3706...   \n",
       "54275  (9.066234802238, 7.814730784342, 6.96329663954...   \n",
       "54276  (9.101858443213999, 6.554103476541, 5.12566068...   \n",
       "\n",
       "                                       pred_items_ranked true_id  \n",
       "0      (875, 4634, 342, 416, 1504, 3142, 725, 223, 68...  [4842]  \n",
       "1      (3330, 3274, 725, 3740, 3136, 3132, 1338, 1816...  [4073]  \n",
       "2      (4997, 6305, 7048, 230, 2955, 853, 4178, 6453,...  [8406]  \n",
       "3      (939, 452, 320, 146, 20, 955, 9, 900, 929, 974...   [297]  \n",
       "4      (0, 293, 939, 2033, 283, 126, 900, 445, 4178, ...   [523]  \n",
       "...                                                  ...     ...  \n",
       "54272  (6880, 2301, 283, 3792, 623, 535, 858, 521, 10...  [2527]  \n",
       "54273  (3784, 875, 230, 4634, 4279, 2301, 2033, 1771,...  [9333]  \n",
       "54274  (282, 32, 320, 97, 7789, 2256, 179, 141, 3330,...  [2560]  \n",
       "54275  (425, 521, 853, 4556, 313, 3806, 7048, 230, 19...  [6386]  \n",
       "54276  (522, 614, 99, 1114, 2486, 1570, 2299, 4556, 1...   [892]  \n",
       "\n",
       "[54277 rows x 3 columns]"
      ]
     },
     "execution_count": 50,
     "metadata": {},
     "output_type": "execute_result"
    }
   ],
   "source": [
    "ranked_df"
   ]
  },
  {
   "cell_type": "code",
   "execution_count": 51,
   "metadata": {},
   "outputs": [
    {
     "name": "stdout",
     "output_type": "stream",
     "text": [
      "rank_at: 1   Hits: 117\n",
      "rank_at: 5   Hits: 495\n",
      "rank_at: 10   Hits: 912\n",
      "rank_at: 15   Hits: 1343\n",
      "rank_at: 20   Hits: 1736\n"
     ]
    }
   ],
   "source": [
    "hitcounts = []\n",
    "recs_at = []\n",
    "precs_at = []\n",
    "for rank in ranks_at:\n",
    "    hitcount = 0\n",
    "    for u in ranked_df.index:\n",
    "        hitcount +=  len(set(ranked_df.loc[u]['true_id']) & set(ranked_df.loc[u]['pred_items_ranked'][:rank]))\n",
    "                    \n",
    "    prec_at = hitcount / rank / len(ranked_df)\n",
    "    rec_at = hitcount / len(ranked_df.iloc[0]['true_id']) / len(ranked_df)\n",
    "    \n",
    "    print('rank_at:', rank, '  Hits:', hitcount)\n",
    "    hitcounts.append(hitcount)                     \n",
    "    recs_at.append(rec_at)\n",
    "    precs_at.append(prec_at)"
   ]
  },
  {
   "cell_type": "code",
   "execution_count": 53,
   "metadata": {},
   "outputs": [
    {
     "data": {
      "text/plain": [
       "[117, 495, 912, 1343, 1736]"
      ]
     },
     "execution_count": 53,
     "metadata": {},
     "output_type": "execute_result"
    }
   ],
   "source": [
    "hitcounts"
   ]
  },
  {
   "cell_type": "code",
   "execution_count": 52,
   "metadata": {},
   "outputs": [
    {
     "data": {
      "text/plain": [
       "'ml_0.7_u_above_5'"
      ]
     },
     "execution_count": 52,
     "metadata": {},
     "output_type": "execute_result"
    }
   ],
   "source": [
    "file_name"
   ]
  },
  {
   "cell_type": "code",
   "execution_count": 69,
   "metadata": {},
   "outputs": [],
   "source": [
    "bpr_tf = pd.DataFrame(columns=['rank_at', 'hitcounts', 'recall', 'precision'])"
   ]
  },
  {
   "cell_type": "code",
   "execution_count": 70,
   "metadata": {},
   "outputs": [
    {
     "data": {
      "text/html": [
       "<div>\n",
       "<style scoped>\n",
       "    .dataframe tbody tr th:only-of-type {\n",
       "        vertical-align: middle;\n",
       "    }\n",
       "\n",
       "    .dataframe tbody tr th {\n",
       "        vertical-align: top;\n",
       "    }\n",
       "\n",
       "    .dataframe thead th {\n",
       "        text-align: right;\n",
       "    }\n",
       "</style>\n",
       "<table border=\"1\" class=\"dataframe\">\n",
       "  <thead>\n",
       "    <tr style=\"text-align: right;\">\n",
       "      <th></th>\n",
       "      <th>rank_at</th>\n",
       "      <th>hitcounts</th>\n",
       "      <th>recall</th>\n",
       "      <th>precision</th>\n",
       "    </tr>\n",
       "  </thead>\n",
       "  <tbody>\n",
       "  </tbody>\n",
       "</table>\n",
       "</div>"
      ],
      "text/plain": [
       "Empty DataFrame\n",
       "Columns: [rank_at, hitcounts, recall, precision]\n",
       "Index: []"
      ]
     },
     "execution_count": 70,
     "metadata": {},
     "output_type": "execute_result"
    }
   ],
   "source": [
    "bpr_tf"
   ]
  },
  {
   "cell_type": "code",
   "execution_count": 71,
   "metadata": {},
   "outputs": [],
   "source": [
    "bpr_tf['rank_at'] = ranks_at\n",
    "bpr_tf['hitcounts'] = hitcounts\n",
    "bpr_tf['recall'] = recs_at\n",
    "bpr_tf['precision'] = precs_at"
   ]
  },
  {
   "cell_type": "code",
   "execution_count": 72,
   "metadata": {},
   "outputs": [
    {
     "data": {
      "text/html": [
       "<div>\n",
       "<style scoped>\n",
       "    .dataframe tbody tr th:only-of-type {\n",
       "        vertical-align: middle;\n",
       "    }\n",
       "\n",
       "    .dataframe tbody tr th {\n",
       "        vertical-align: top;\n",
       "    }\n",
       "\n",
       "    .dataframe thead th {\n",
       "        text-align: right;\n",
       "    }\n",
       "</style>\n",
       "<table border=\"1\" class=\"dataframe\">\n",
       "  <thead>\n",
       "    <tr style=\"text-align: right;\">\n",
       "      <th></th>\n",
       "      <th>rank_at</th>\n",
       "      <th>hitcounts</th>\n",
       "      <th>recall</th>\n",
       "      <th>precision</th>\n",
       "    </tr>\n",
       "  </thead>\n",
       "  <tbody>\n",
       "    <tr>\n",
       "      <th>0</th>\n",
       "      <td>1</td>\n",
       "      <td>117</td>\n",
       "      <td>0.002156</td>\n",
       "      <td>0.002156</td>\n",
       "    </tr>\n",
       "    <tr>\n",
       "      <th>1</th>\n",
       "      <td>5</td>\n",
       "      <td>495</td>\n",
       "      <td>0.009120</td>\n",
       "      <td>0.001824</td>\n",
       "    </tr>\n",
       "    <tr>\n",
       "      <th>2</th>\n",
       "      <td>10</td>\n",
       "      <td>912</td>\n",
       "      <td>0.016803</td>\n",
       "      <td>0.001680</td>\n",
       "    </tr>\n",
       "    <tr>\n",
       "      <th>3</th>\n",
       "      <td>15</td>\n",
       "      <td>1343</td>\n",
       "      <td>0.024743</td>\n",
       "      <td>0.001650</td>\n",
       "    </tr>\n",
       "    <tr>\n",
       "      <th>4</th>\n",
       "      <td>20</td>\n",
       "      <td>1736</td>\n",
       "      <td>0.031984</td>\n",
       "      <td>0.001599</td>\n",
       "    </tr>\n",
       "  </tbody>\n",
       "</table>\n",
       "</div>"
      ],
      "text/plain": [
       "   rank_at  hitcounts    recall  precision\n",
       "0        1        117  0.002156   0.002156\n",
       "1        5        495  0.009120   0.001824\n",
       "2       10        912  0.016803   0.001680\n",
       "3       15       1343  0.024743   0.001650\n",
       "4       20       1736  0.031984   0.001599"
      ]
     },
     "execution_count": 72,
     "metadata": {},
     "output_type": "execute_result"
    }
   ],
   "source": [
    "bpr_tf"
   ]
  },
  {
   "cell_type": "code",
   "execution_count": 107,
   "metadata": {},
   "outputs": [],
   "source": [
    "path = 'C:/Users/robin.opdam/Dropbox'"
   ]
  },
  {
   "cell_type": "code",
   "execution_count": 108,
   "metadata": {},
   "outputs": [],
   "source": [
    "bpr_tf.to_pickle(path + '/Results/BPR_TF/' + file_name + '_tf_res')"
   ]
  },
  {
   "cell_type": "code",
   "execution_count": null,
   "metadata": {},
   "outputs": [],
   "source": []
  }
 ],
 "metadata": {
  "kernelspec": {
   "display_name": "Python 3",
   "language": "python",
   "name": "python3"
  },
  "language_info": {
   "codemirror_mode": {
    "name": "ipython",
    "version": 3
   },
   "file_extension": ".py",
   "mimetype": "text/x-python",
   "name": "python",
   "nbconvert_exporter": "python",
   "pygments_lexer": "ipython3",
   "version": "3.7.6"
  },
  "toc": {
   "base_numbering": 1,
   "nav_menu": {},
   "number_sections": true,
   "sideBar": true,
   "skip_h1_title": false,
   "title_cell": "Table of Contents",
   "title_sidebar": "Contents",
   "toc_cell": false,
   "toc_position": {
    "height": "375.742px",
    "left": "1048.75px",
    "top": "110.57px",
    "width": "200.295px"
   },
   "toc_section_display": true,
   "toc_window_display": false
  }
 },
 "nbformat": 4,
 "nbformat_minor": 2
}
