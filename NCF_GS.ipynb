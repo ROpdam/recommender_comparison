{
 "cells": [
  {
   "cell_type": "code",
   "execution_count": 1,
   "metadata": {},
   "outputs": [],
   "source": [
    "import pandas as pd\n",
    "import numpy as np\n",
    "import tensorflow as tf\n",
    "import os\n",
    "import progressbar as progressbar\n",
    "\n",
    "%load_ext autoreload\n",
    "%autoreload 2"
   ]
  },
  {
   "cell_type": "code",
   "execution_count": 2,
   "metadata": {},
   "outputs": [
    {
     "name": "stdout",
     "output_type": "stream",
     "text": [
      "TF version: 2.1.0\n"
     ]
    },
    {
     "data": {
      "text/plain": [
       "[PhysicalDevice(name='/physical_device:CPU:0', device_type='CPU'),\n",
       " PhysicalDevice(name='/physical_device:XLA_CPU:0', device_type='XLA_CPU'),\n",
       " PhysicalDevice(name='/physical_device:XLA_GPU:0', device_type='XLA_GPU'),\n",
       " PhysicalDevice(name='/physical_device:GPU:0', device_type='GPU')]"
      ]
     },
     "execution_count": 2,
     "metadata": {},
     "output_type": "execute_result"
    }
   ],
   "source": [
    "print(f'TF version: {tf.__version__}')\n",
    "tf.config.list_physical_devices()"
   ]
  },
  {
   "cell_type": "markdown",
   "metadata": {},
   "source": [
    "# Read Data"
   ]
  },
  {
   "cell_type": "code",
   "execution_count": 3,
   "metadata": {},
   "outputs": [],
   "source": [
    "# path = 'C:/Users/robin.opdam/Google Drive/Thesis (Msc)/Thesis_shared_files/'\n",
    "# path = '/Users/Robin/Google Drive/Thesis (Msc)/Thesis_shared_files/'\n",
    "path = '../datasets/'"
   ]
  },
  {
   "cell_type": "markdown",
   "metadata": {},
   "source": [
    "## Amazon Fashion"
   ]
  },
  {
   "cell_type": "code",
   "execution_count": 4,
   "metadata": {},
   "outputs": [],
   "source": [
    "# data_path = 'data/Amazon/'\n",
    "# file_name = 'Amazon_full' # file_name = 'Amazon_05_users' \n",
    "# file_name = 'Amazon_01_users'\n",
    "# file_name = 'am_80k_users'\n",
    "file_name = 'am_40k_users'"
   ]
  },
  {
   "cell_type": "markdown",
   "metadata": {},
   "source": [
    "## MovieLens"
   ]
  },
  {
   "cell_type": "code",
   "execution_count": 5,
   "metadata": {},
   "outputs": [],
   "source": [
    "# data_path = 'data/ML/'\n",
    "# file_name = 'ml_1m'\n",
    "# file_name = 'ML_full' # file_name = 'ML_05_users'\n",
    "# file_name = 'ML_01_users'"
   ]
  },
  {
   "cell_type": "code",
   "execution_count": 6,
   "metadata": {},
   "outputs": [
    {
     "data": {
      "text/html": [
       "<div>\n",
       "<style scoped>\n",
       "    .dataframe tbody tr th:only-of-type {\n",
       "        vertical-align: middle;\n",
       "    }\n",
       "\n",
       "    .dataframe tbody tr th {\n",
       "        vertical-align: top;\n",
       "    }\n",
       "\n",
       "    .dataframe thead th {\n",
       "        text-align: right;\n",
       "    }\n",
       "</style>\n",
       "<table border=\"1\" class=\"dataframe\">\n",
       "  <thead>\n",
       "    <tr style=\"text-align: right;\">\n",
       "      <th></th>\n",
       "      <th>user</th>\n",
       "      <th>item</th>\n",
       "      <th>datetime</th>\n",
       "      <th>rating</th>\n",
       "      <th>user_id</th>\n",
       "      <th>item_id</th>\n",
       "    </tr>\n",
       "  </thead>\n",
       "  <tbody>\n",
       "    <tr>\n",
       "      <th>1845392</th>\n",
       "      <td>AGYA6NBNU1VUH</td>\n",
       "      <td>B0020B4EYU</td>\n",
       "      <td>2015-04-14</td>\n",
       "      <td>3.0</td>\n",
       "      <td>34371</td>\n",
       "      <td>11002</td>\n",
       "    </tr>\n",
       "    <tr>\n",
       "      <th>919114</th>\n",
       "      <td>AGYA6NBNU1VUH</td>\n",
       "      <td>B0000ZFDD4</td>\n",
       "      <td>2015-04-14</td>\n",
       "      <td>3.0</td>\n",
       "      <td>34371</td>\n",
       "      <td>179</td>\n",
       "    </tr>\n",
       "    <tr>\n",
       "      <th>5872323</th>\n",
       "      <td>AGYA6NBNU1VUH</td>\n",
       "      <td>B00KR6I6IK</td>\n",
       "      <td>2015-04-14</td>\n",
       "      <td>5.0</td>\n",
       "      <td>34371</td>\n",
       "      <td>75683</td>\n",
       "    </tr>\n",
       "    <tr>\n",
       "      <th>1237107</th>\n",
       "      <td>AGYA6NBNU1VUH</td>\n",
       "      <td>B0000ZFDD4</td>\n",
       "      <td>2015-04-14</td>\n",
       "      <td>3.0</td>\n",
       "      <td>34371</td>\n",
       "      <td>179</td>\n",
       "    </tr>\n",
       "    <tr>\n",
       "      <th>9971633</th>\n",
       "      <td>AGYA6NBNU1VUH</td>\n",
       "      <td>B008GXBRNM</td>\n",
       "      <td>2015-12-20</td>\n",
       "      <td>5.0</td>\n",
       "      <td>34371</td>\n",
       "      <td>35964</td>\n",
       "    </tr>\n",
       "  </tbody>\n",
       "</table>\n",
       "</div>"
      ],
      "text/plain": [
       "                  user        item   datetime  rating  user_id  item_id\n",
       "1845392  AGYA6NBNU1VUH  B0020B4EYU 2015-04-14     3.0    34371    11002\n",
       "919114   AGYA6NBNU1VUH  B0000ZFDD4 2015-04-14     3.0    34371      179\n",
       "5872323  AGYA6NBNU1VUH  B00KR6I6IK 2015-04-14     5.0    34371    75683\n",
       "1237107  AGYA6NBNU1VUH  B0000ZFDD4 2015-04-14     3.0    34371      179\n",
       "9971633  AGYA6NBNU1VUH  B008GXBRNM 2015-12-20     5.0    34371    35964"
      ]
     },
     "execution_count": 6,
     "metadata": {},
     "output_type": "execute_result"
    }
   ],
   "source": [
    "df = pd.read_pickle(path + file_name)\n",
    "df.user_id = df.user_id.astype('category').cat.codes\n",
    "df.item_id = df.item_id.astype('category').cat.codes\n",
    "df.head()"
   ]
  },
  {
   "cell_type": "markdown",
   "metadata": {},
   "source": [
    "### Create ML split (paper)"
   ]
  },
  {
   "cell_type": "code",
   "execution_count": null,
   "metadata": {},
   "outputs": [],
   "source": [
    "test_set = pd.DataFrame()\n",
    "train_set = pd.DataFrame()\n",
    "pbar = progressbar.ProgressBar()\n",
    "for u in pbar(df.user_id.unique()):\n",
    "    last_item = df[df.user_id==u].iloc[-1:]\n",
    "    test_set = test_set.append(last_item)\n",
    "    remaining = df[df.user_id==u].iloc[:-1]\n",
    "    train_set = pd.concat([train_set, remaining])"
   ]
  },
  {
   "cell_type": "code",
   "execution_count": 7,
   "metadata": {},
   "outputs": [],
   "source": [
    "test_set = pd.read_pickle(path + 'ml_1m_test')\n",
    "train_set = pd.read_pickle(path + 'ml_1m_train')"
   ]
  },
  {
   "cell_type": "markdown",
   "metadata": {},
   "source": [
    "---\n",
    "# Data Prep"
   ]
  },
  {
   "cell_type": "markdown",
   "metadata": {},
   "source": [
    "## Dataset Params"
   ]
  },
  {
   "cell_type": "code",
   "execution_count": 7,
   "metadata": {},
   "outputs": [],
   "source": [
    "val_perc = test_perc = 0.1\n",
    "n_last_items_val = n_last_items_test = 1\n",
    "\n",
    "total_items = len(df.item_id.unique())\n",
    "total_users = len(df.user_id.unique())"
   ]
  },
  {
   "cell_type": "code",
   "execution_count": 10,
   "metadata": {},
   "outputs": [
    {
     "data": {
      "text/plain": [
       "40000"
      ]
     },
     "execution_count": 10,
     "metadata": {},
     "output_type": "execute_result"
    }
   ],
   "source": [
    "len(train_set.user_id.unique())"
   ]
  },
  {
   "cell_type": "markdown",
   "metadata": {},
   "source": [
    "## Create Split"
   ]
  },
  {
   "cell_type": "code",
   "execution_count": 9,
   "metadata": {},
   "outputs": [],
   "source": [
    "from Data_prep import train_val_test_split\n",
    "datasets = train_val_test_split(df, val_perc, test_perc, n_last_items_val, n_last_items_test)\n",
    "train_set, val_set, test_set = datasets"
   ]
  },
  {
   "cell_type": "markdown",
   "metadata": {},
   "source": [
    "---\n",
    "# Neural Collaborative Filtering (NCF)\n",
    "Using the NCF framework we build Generalized Matrix Factorisation (GMF), Multiplayer Perceptron Matrix Factorisation (MLP) and combine the two in Neural Matrix Factorisation (NeuMF)\n",
    "- paper: http://papers.www2017.com.au.s3-website-ap-southeast-2.amazonaws.com/proceedings/p173.pdf\n",
    "- blog: https://medium.com/@victorkohler/collaborative-filtering-using-deep-neural-networks-in-tensorflow-96e5d41a39a1\n",
    "- code: https://github.com/Leavingseason/NeuralCF/blob/master"
   ]
  },
  {
   "cell_type": "markdown",
   "metadata": {},
   "source": [
    "## Set Parameters"
   ]
  },
  {
   "cell_type": "code",
   "execution_count": 45,
   "metadata": {},
   "outputs": [],
   "source": [
    "run_num = 'am_40k_GS_nolf_8'\n",
    "# run_num = 'ml_1m_nolf_8'"
   ]
  },
  {
   "cell_type": "code",
   "execution_count": 46,
   "metadata": {},
   "outputs": [],
   "source": [
    "GMF_params = {\n",
    "    'learning_rate': 0.001,\n",
    "    'batch_size': 256,\n",
    "    'nolf': 8,\n",
    "    'regs': [0.000001,0.000001], #ML: [0.000001,0.000001]\n",
    "    'epochs': 20,\n",
    "    'sample_size': len(train_set),#int(0.5*len(train_set.user_id.unique())),\n",
    "    'num_neg': 4,\n",
    "    'ckpt_dir': f'../NeuMF_storage/GMF_ckpts_{run_num}/ckpts',\n",
    "    'optimizer':'Adam'\n",
    "}"
   ]
  },
  {
   "cell_type": "code",
   "execution_count": 47,
   "metadata": {},
   "outputs": [],
   "source": [
    "# MLP_params = {\n",
    "#     'learning_rate': 0.001,\n",
    "#     'batch_size': 256,\n",
    "#     'layers': [16,32,16,8],\n",
    "#     'reg_layers': [0.0001,0,0,0],   #ML: [+-0.0005,0,0,0],\n",
    "#     'epochs': 20,\n",
    "#     'sample_size': len(train_set),#int(0.5*len(train_set.user_id.unique())),\n",
    "#     'num_neg': 4,\n",
    "#     'ckpt_dir': f'../NeuMF_storage/MLP_ckpts_{run_num}/ckpts',\n",
    "#     'optimizer':'Adam'\n",
    "# }"
   ]
  },
  {
   "cell_type": "code",
   "execution_count": 48,
   "metadata": {},
   "outputs": [],
   "source": [
    "NeuMF_params = {\n",
    "    'learning_rate': 0.001,\n",
    "    'batch_size': 256,\n",
    "    'layers': [16,32,16,8],\n",
    "    'reg_layers': [0.0001,0,0,0],\n",
    "    'reg_mf': [0.000001,0.000001],\n",
    "    'nolf': 8,\n",
    "    'epochs': 2,\n",
    "    'sample_size': len(train_set),#int(0.5*len(train_set.user_id.unique())),\n",
    "    'num_neg': 4,\n",
    "    'ckpt_dir': f'../NeuMF_storage/NeuMF_ckpts_{run_num}/ckpts',\n",
    "    'optimizer':'Adam'\n",
    "}"
   ]
  },
  {
   "cell_type": "markdown",
   "metadata": {},
   "source": [
    "## Load samples"
   ]
  },
  {
   "cell_type": "code",
   "execution_count": 49,
   "metadata": {},
   "outputs": [],
   "source": [
    "sample_path = '../NeuMF_storage/samples_ml_1m/'\n",
    "sample_name = 'ml_1m_sample_'\n",
    "\n",
    "sample_path = '../NeuMF_storage/samples_am_40k/'\n",
    "sample_name = 'am_40k_sample_'\n",
    "\n",
    "sample_path = '../NeuMF_storage/samples_am_40k_new/'\n",
    "sample_name = 'am_40k_sample_'"
   ]
  },
  {
   "cell_type": "code",
   "execution_count": 16,
   "metadata": {},
   "outputs": [
    {
     "name": "stderr",
     "output_type": "stream",
     "text": [
      "100% |########################################################################|\r"
     ]
    },
    {
     "name": "stdout",
     "output_type": "stream",
     "text": [
      "CPU times: user 39.9 s, sys: 3.58 s, total: 43.4 s\n",
      "Wall time: 43.6 s\n"
     ]
    },
    {
     "name": "stderr",
     "output_type": "stream",
     "text": [
      "\n"
     ]
    }
   ],
   "source": [
    "%%time\n",
    "import csv\n",
    "samples = []\n",
    "pbar = progressbar.ProgressBar()\n",
    "for sample_num in pbar(range(20)):\n",
    "    with open(f'{sample_path}{sample_name}{sample_num}.csv', 'r') as read_obj:\n",
    "        sample = [[], [], []]\n",
    "        csv_reader = csv.reader(read_obj)\n",
    "        sample_str = list(csv_reader)\n",
    "        \n",
    "        for user_input, item_input, label in zip(sample_str[0], sample_str[1], sample_str[2]):\n",
    "            sample[0].append(int(user_input))\n",
    "            sample[1].append(int(item_input))\n",
    "            sample[2].append(int(label))\n",
    "        \n",
    "    samples.append(sample)"
   ]
  },
  {
   "cell_type": "markdown",
   "metadata": {},
   "source": [
    "---\n",
    "# Grid Search: NeuMF"
   ]
  },
  {
   "cell_type": "markdown",
   "metadata": {},
   "source": [
    "## Init"
   ]
  },
  {
   "cell_type": "code",
   "execution_count": 88,
   "metadata": {},
   "outputs": [],
   "source": [
    "from NCF import NCF\n",
    "NCF = NCF(total_users, total_items, NeuMF_params=NeuMF_params)\n",
    "NCF.build_NeuMF_model()"
   ]
  },
  {
   "cell_type": "markdown",
   "metadata": {},
   "source": [
    "## Parameter Space"
   ]
  },
  {
   "cell_type": "code",
   "execution_count": 89,
   "metadata": {},
   "outputs": [
    {
     "data": {
      "text/plain": [
       "40"
      ]
     },
     "execution_count": 89,
     "metadata": {},
     "output_type": "execute_result"
    }
   ],
   "source": [
    "learning_rates = [0.0005, 0.0001]\n",
    "batch_sizes = [256]\n",
    "gmf_regs = [[0,0], [0.0000001, 0.0000001], [0.000001, 0.000001], [0.00001, 0.00001]]\n",
    "mlp_regs = [[0,0,0,0],\n",
    "            [0.0000001, 0.0000001, 0.0000001, 0.0000001],\n",
    "            [0.000001, 0.000001, 0.000001, 0.000001], \n",
    "            [0.00001, 0.00001, 0.00001, 0.00001], \n",
    "            [0.0001, 0.0001, 0.0001, 0.0001]]#,\n",
    "#             [0.001, 0.001, 0.001, 0.001],\n",
    "#             [0.000001, 0, 0, 0],\n",
    "#             [0.00001, 0, 0, 0],\n",
    "#             [0.0001, 0, 0, 0],\n",
    "#             [0, 0, 0, 0.0001],\n",
    "#             [0, 0, 0, 0.00001],\n",
    "#             [0, 0, 0, 0.000001]]\n",
    "            \n",
    "total_runs = len(learning_rates) * len(batch_sizes) * len(gmf_regs) * len(mlp_regs)\n",
    "total_runs"
   ]
  },
  {
   "cell_type": "markdown",
   "metadata": {},
   "source": [
    "### Init eval params"
   ]
  },
  {
   "cell_type": "code",
   "execution_count": 90,
   "metadata": {},
   "outputs": [],
   "source": [
    "from Evaluation import get_metrics\n",
    "steps = 5\n",
    "rank_at = 20\n",
    "sample_len = 100"
   ]
  },
  {
   "cell_type": "markdown",
   "metadata": {},
   "source": [
    "## Init store results"
   ]
  },
  {
   "cell_type": "code",
   "execution_count": 91,
   "metadata": {},
   "outputs": [],
   "source": [
    "store_path = '../NeuMF_storage/GS/'\n",
    "gs_result_name = f'GS_NeuMF_bs_{batch_sizes[0]}'\n",
    "storage_columns = ['test_rec@10', '100_sample_val_rec@10', 'val_metrics', 'test_metrics', 'loss', 'train_time'] + list(NeuMF_params.keys())"
   ]
  },
  {
   "cell_type": "code",
   "execution_count": 92,
   "metadata": {},
   "outputs": [],
   "source": [
    "gs_results = pd.DataFrame(columns=storage_columns)\n",
    "gs_results.to_pickle(store_path + gs_result_name)"
   ]
  },
  {
   "cell_type": "markdown",
   "metadata": {},
   "source": [
    "## Run Grid Search"
   ]
  },
  {
   "cell_type": "code",
   "execution_count": 93,
   "metadata": {},
   "outputs": [
    {
     "name": "stdout",
     "output_type": "stream",
     "text": [
      "\n",
      " ==================================================\n",
      "run 0/40\n"
     ]
    },
    {
     "name": "stderr",
     "output_type": "stream",
     "text": [
      "100% |########################################################################|\n"
     ]
    },
    {
     "name": "stdout",
     "output_type": "stream",
     "text": [
      "\n",
      " ==================================================\n",
      "run 1/40\n"
     ]
    },
    {
     "name": "stderr",
     "output_type": "stream",
     "text": [
      "/usr/local/lib/python3.6/dist-packages/tensorflow_core/python/framework/indexed_slices.py:433: UserWarning: Converting sparse IndexedSlices to a dense Tensor of unknown shape. This may consume a large amount of memory.\n",
      "  \"Converting sparse IndexedSlices to a dense Tensor of unknown shape. \"\n",
      "/usr/local/lib/python3.6/dist-packages/tensorflow_core/python/framework/indexed_slices.py:433: UserWarning: Converting sparse IndexedSlices to a dense Tensor of unknown shape. This may consume a large amount of memory.\n",
      "  \"Converting sparse IndexedSlices to a dense Tensor of unknown shape. \"\n",
      "100% |########################################################################|\n"
     ]
    },
    {
     "name": "stdout",
     "output_type": "stream",
     "text": [
      "\n",
      " ==================================================\n",
      "run 2/40\n"
     ]
    },
    {
     "name": "stderr",
     "output_type": "stream",
     "text": [
      "/usr/local/lib/python3.6/dist-packages/tensorflow_core/python/framework/indexed_slices.py:433: UserWarning: Converting sparse IndexedSlices to a dense Tensor of unknown shape. This may consume a large amount of memory.\n",
      "  \"Converting sparse IndexedSlices to a dense Tensor of unknown shape. \"\n",
      "/usr/local/lib/python3.6/dist-packages/tensorflow_core/python/framework/indexed_slices.py:433: UserWarning: Converting sparse IndexedSlices to a dense Tensor of unknown shape. This may consume a large amount of memory.\n",
      "  \"Converting sparse IndexedSlices to a dense Tensor of unknown shape. \"\n",
      "100% |########################################################################|\n"
     ]
    },
    {
     "name": "stdout",
     "output_type": "stream",
     "text": [
      "\n",
      " ==================================================\n",
      "run 3/40\n"
     ]
    },
    {
     "name": "stderr",
     "output_type": "stream",
     "text": [
      "/usr/local/lib/python3.6/dist-packages/tensorflow_core/python/framework/indexed_slices.py:433: UserWarning: Converting sparse IndexedSlices to a dense Tensor of unknown shape. This may consume a large amount of memory.\n",
      "  \"Converting sparse IndexedSlices to a dense Tensor of unknown shape. \"\n",
      "/usr/local/lib/python3.6/dist-packages/tensorflow_core/python/framework/indexed_slices.py:433: UserWarning: Converting sparse IndexedSlices to a dense Tensor of unknown shape. This may consume a large amount of memory.\n",
      "  \"Converting sparse IndexedSlices to a dense Tensor of unknown shape. \"\n",
      "100% |########################################################################|\n"
     ]
    },
    {
     "name": "stdout",
     "output_type": "stream",
     "text": [
      "\n",
      " ==================================================\n",
      "run 4/40\n"
     ]
    },
    {
     "name": "stderr",
     "output_type": "stream",
     "text": [
      "/usr/local/lib/python3.6/dist-packages/tensorflow_core/python/framework/indexed_slices.py:433: UserWarning: Converting sparse IndexedSlices to a dense Tensor of unknown shape. This may consume a large amount of memory.\n",
      "  \"Converting sparse IndexedSlices to a dense Tensor of unknown shape. \"\n",
      "/usr/local/lib/python3.6/dist-packages/tensorflow_core/python/framework/indexed_slices.py:433: UserWarning: Converting sparse IndexedSlices to a dense Tensor of unknown shape. This may consume a large amount of memory.\n",
      "  \"Converting sparse IndexedSlices to a dense Tensor of unknown shape. \"\n",
      "100% |########################################################################|\n"
     ]
    },
    {
     "name": "stdout",
     "output_type": "stream",
     "text": [
      "\n",
      " ==================================================\n",
      "run 5/40\n"
     ]
    },
    {
     "name": "stderr",
     "output_type": "stream",
     "text": [
      "/usr/local/lib/python3.6/dist-packages/tensorflow_core/python/framework/indexed_slices.py:433: UserWarning: Converting sparse IndexedSlices to a dense Tensor of unknown shape. This may consume a large amount of memory.\n",
      "  \"Converting sparse IndexedSlices to a dense Tensor of unknown shape. \"\n",
      "/usr/local/lib/python3.6/dist-packages/tensorflow_core/python/framework/indexed_slices.py:433: UserWarning: Converting sparse IndexedSlices to a dense Tensor of unknown shape. This may consume a large amount of memory.\n",
      "  \"Converting sparse IndexedSlices to a dense Tensor of unknown shape. \"\n",
      "100% |########################################################################|\n"
     ]
    },
    {
     "name": "stdout",
     "output_type": "stream",
     "text": [
      "\n",
      " ==================================================\n",
      "run 6/40\n"
     ]
    },
    {
     "name": "stderr",
     "output_type": "stream",
     "text": [
      "/usr/local/lib/python3.6/dist-packages/tensorflow_core/python/framework/indexed_slices.py:433: UserWarning: Converting sparse IndexedSlices to a dense Tensor of unknown shape. This may consume a large amount of memory.\n",
      "  \"Converting sparse IndexedSlices to a dense Tensor of unknown shape. \"\n",
      "/usr/local/lib/python3.6/dist-packages/tensorflow_core/python/framework/indexed_slices.py:433: UserWarning: Converting sparse IndexedSlices to a dense Tensor of unknown shape. This may consume a large amount of memory.\n",
      "  \"Converting sparse IndexedSlices to a dense Tensor of unknown shape. \"\n",
      "100% |########################################################################|\n"
     ]
    },
    {
     "name": "stdout",
     "output_type": "stream",
     "text": [
      "\n",
      " ==================================================\n",
      "run 7/40\n"
     ]
    },
    {
     "name": "stderr",
     "output_type": "stream",
     "text": [
      "/usr/local/lib/python3.6/dist-packages/tensorflow_core/python/framework/indexed_slices.py:433: UserWarning: Converting sparse IndexedSlices to a dense Tensor of unknown shape. This may consume a large amount of memory.\n",
      "  \"Converting sparse IndexedSlices to a dense Tensor of unknown shape. \"\n",
      "/usr/local/lib/python3.6/dist-packages/tensorflow_core/python/framework/indexed_slices.py:433: UserWarning: Converting sparse IndexedSlices to a dense Tensor of unknown shape. This may consume a large amount of memory.\n",
      "  \"Converting sparse IndexedSlices to a dense Tensor of unknown shape. \"\n",
      "100% |########################################################################|\n"
     ]
    },
    {
     "name": "stdout",
     "output_type": "stream",
     "text": [
      "\n",
      " ==================================================\n",
      "run 8/40\n"
     ]
    },
    {
     "name": "stderr",
     "output_type": "stream",
     "text": [
      "/usr/local/lib/python3.6/dist-packages/tensorflow_core/python/framework/indexed_slices.py:433: UserWarning: Converting sparse IndexedSlices to a dense Tensor of unknown shape. This may consume a large amount of memory.\n",
      "  \"Converting sparse IndexedSlices to a dense Tensor of unknown shape. \"\n",
      "/usr/local/lib/python3.6/dist-packages/tensorflow_core/python/framework/indexed_slices.py:433: UserWarning: Converting sparse IndexedSlices to a dense Tensor of unknown shape. This may consume a large amount of memory.\n",
      "  \"Converting sparse IndexedSlices to a dense Tensor of unknown shape. \"\n",
      "100% |########################################################################|\n"
     ]
    },
    {
     "name": "stdout",
     "output_type": "stream",
     "text": [
      "\n",
      " ==================================================\n",
      "run 9/40\n"
     ]
    },
    {
     "name": "stderr",
     "output_type": "stream",
     "text": [
      "/usr/local/lib/python3.6/dist-packages/tensorflow_core/python/framework/indexed_slices.py:433: UserWarning: Converting sparse IndexedSlices to a dense Tensor of unknown shape. This may consume a large amount of memory.\n",
      "  \"Converting sparse IndexedSlices to a dense Tensor of unknown shape. \"\n",
      "/usr/local/lib/python3.6/dist-packages/tensorflow_core/python/framework/indexed_slices.py:433: UserWarning: Converting sparse IndexedSlices to a dense Tensor of unknown shape. This may consume a large amount of memory.\n",
      "  \"Converting sparse IndexedSlices to a dense Tensor of unknown shape. \"\n",
      "100% |########################################################################|\n"
     ]
    },
    {
     "name": "stdout",
     "output_type": "stream",
     "text": [
      "\n",
      " ==================================================\n",
      "run 10/40\n"
     ]
    },
    {
     "name": "stderr",
     "output_type": "stream",
     "text": [
      "/usr/local/lib/python3.6/dist-packages/tensorflow_core/python/framework/indexed_slices.py:433: UserWarning: Converting sparse IndexedSlices to a dense Tensor of unknown shape. This may consume a large amount of memory.\n",
      "  \"Converting sparse IndexedSlices to a dense Tensor of unknown shape. \"\n",
      "/usr/local/lib/python3.6/dist-packages/tensorflow_core/python/framework/indexed_slices.py:433: UserWarning: Converting sparse IndexedSlices to a dense Tensor of unknown shape. This may consume a large amount of memory.\n",
      "  \"Converting sparse IndexedSlices to a dense Tensor of unknown shape. \"\n",
      "100% |########################################################################|\n"
     ]
    },
    {
     "name": "stdout",
     "output_type": "stream",
     "text": [
      "\n",
      " ==================================================\n",
      "run 11/40\n"
     ]
    },
    {
     "name": "stderr",
     "output_type": "stream",
     "text": [
      "/usr/local/lib/python3.6/dist-packages/tensorflow_core/python/framework/indexed_slices.py:433: UserWarning: Converting sparse IndexedSlices to a dense Tensor of unknown shape. This may consume a large amount of memory.\n",
      "  \"Converting sparse IndexedSlices to a dense Tensor of unknown shape. \"\n",
      "/usr/local/lib/python3.6/dist-packages/tensorflow_core/python/framework/indexed_slices.py:433: UserWarning: Converting sparse IndexedSlices to a dense Tensor of unknown shape. This may consume a large amount of memory.\n",
      "  \"Converting sparse IndexedSlices to a dense Tensor of unknown shape. \"\n",
      "100% |########################################################################|\n"
     ]
    },
    {
     "name": "stdout",
     "output_type": "stream",
     "text": [
      "\n",
      " ==================================================\n",
      "run 12/40\n"
     ]
    },
    {
     "name": "stderr",
     "output_type": "stream",
     "text": [
      "/usr/local/lib/python3.6/dist-packages/tensorflow_core/python/framework/indexed_slices.py:433: UserWarning: Converting sparse IndexedSlices to a dense Tensor of unknown shape. This may consume a large amount of memory.\n",
      "  \"Converting sparse IndexedSlices to a dense Tensor of unknown shape. \"\n",
      "/usr/local/lib/python3.6/dist-packages/tensorflow_core/python/framework/indexed_slices.py:433: UserWarning: Converting sparse IndexedSlices to a dense Tensor of unknown shape. This may consume a large amount of memory.\n",
      "  \"Converting sparse IndexedSlices to a dense Tensor of unknown shape. \"\n",
      "100% |########################################################################|\n"
     ]
    },
    {
     "name": "stdout",
     "output_type": "stream",
     "text": [
      "\n",
      " ==================================================\n",
      "run 13/40\n"
     ]
    },
    {
     "name": "stderr",
     "output_type": "stream",
     "text": [
      "/usr/local/lib/python3.6/dist-packages/tensorflow_core/python/framework/indexed_slices.py:433: UserWarning: Converting sparse IndexedSlices to a dense Tensor of unknown shape. This may consume a large amount of memory.\n",
      "  \"Converting sparse IndexedSlices to a dense Tensor of unknown shape. \"\n",
      "/usr/local/lib/python3.6/dist-packages/tensorflow_core/python/framework/indexed_slices.py:433: UserWarning: Converting sparse IndexedSlices to a dense Tensor of unknown shape. This may consume a large amount of memory.\n",
      "  \"Converting sparse IndexedSlices to a dense Tensor of unknown shape. \"\n",
      "100% |########################################################################|\n"
     ]
    },
    {
     "name": "stdout",
     "output_type": "stream",
     "text": [
      "\n",
      " ==================================================\n",
      "run 14/40\n"
     ]
    },
    {
     "name": "stderr",
     "output_type": "stream",
     "text": [
      "/usr/local/lib/python3.6/dist-packages/tensorflow_core/python/framework/indexed_slices.py:433: UserWarning: Converting sparse IndexedSlices to a dense Tensor of unknown shape. This may consume a large amount of memory.\n",
      "  \"Converting sparse IndexedSlices to a dense Tensor of unknown shape. \"\n",
      "/usr/local/lib/python3.6/dist-packages/tensorflow_core/python/framework/indexed_slices.py:433: UserWarning: Converting sparse IndexedSlices to a dense Tensor of unknown shape. This may consume a large amount of memory.\n",
      "  \"Converting sparse IndexedSlices to a dense Tensor of unknown shape. \"\n",
      "100% |########################################################################|\n"
     ]
    },
    {
     "name": "stdout",
     "output_type": "stream",
     "text": [
      "\n",
      " ==================================================\n",
      "run 15/40\n"
     ]
    },
    {
     "name": "stderr",
     "output_type": "stream",
     "text": [
      "/usr/local/lib/python3.6/dist-packages/tensorflow_core/python/framework/indexed_slices.py:433: UserWarning: Converting sparse IndexedSlices to a dense Tensor of unknown shape. This may consume a large amount of memory.\n",
      "  \"Converting sparse IndexedSlices to a dense Tensor of unknown shape. \"\n",
      "/usr/local/lib/python3.6/dist-packages/tensorflow_core/python/framework/indexed_slices.py:433: UserWarning: Converting sparse IndexedSlices to a dense Tensor of unknown shape. This may consume a large amount of memory.\n",
      "  \"Converting sparse IndexedSlices to a dense Tensor of unknown shape. \"\n",
      "100% |########################################################################|\n"
     ]
    },
    {
     "name": "stdout",
     "output_type": "stream",
     "text": [
      "\n",
      " ==================================================\n",
      "run 16/40\n"
     ]
    },
    {
     "name": "stderr",
     "output_type": "stream",
     "text": [
      "/usr/local/lib/python3.6/dist-packages/tensorflow_core/python/framework/indexed_slices.py:433: UserWarning: Converting sparse IndexedSlices to a dense Tensor of unknown shape. This may consume a large amount of memory.\n",
      "  \"Converting sparse IndexedSlices to a dense Tensor of unknown shape. \"\n",
      "/usr/local/lib/python3.6/dist-packages/tensorflow_core/python/framework/indexed_slices.py:433: UserWarning: Converting sparse IndexedSlices to a dense Tensor of unknown shape. This may consume a large amount of memory.\n",
      "  \"Converting sparse IndexedSlices to a dense Tensor of unknown shape. \"\n",
      "100% |########################################################################|\n"
     ]
    },
    {
     "name": "stdout",
     "output_type": "stream",
     "text": [
      "\n",
      " ==================================================\n",
      "run 17/40\n"
     ]
    },
    {
     "name": "stderr",
     "output_type": "stream",
     "text": [
      "/usr/local/lib/python3.6/dist-packages/tensorflow_core/python/framework/indexed_slices.py:433: UserWarning: Converting sparse IndexedSlices to a dense Tensor of unknown shape. This may consume a large amount of memory.\n",
      "  \"Converting sparse IndexedSlices to a dense Tensor of unknown shape. \"\n",
      "/usr/local/lib/python3.6/dist-packages/tensorflow_core/python/framework/indexed_slices.py:433: UserWarning: Converting sparse IndexedSlices to a dense Tensor of unknown shape. This may consume a large amount of memory.\n",
      "  \"Converting sparse IndexedSlices to a dense Tensor of unknown shape. \"\n",
      "100% |########################################################################|\n"
     ]
    },
    {
     "name": "stdout",
     "output_type": "stream",
     "text": [
      "\n",
      " ==================================================\n",
      "run 18/40\n"
     ]
    },
    {
     "name": "stderr",
     "output_type": "stream",
     "text": [
      "/usr/local/lib/python3.6/dist-packages/tensorflow_core/python/framework/indexed_slices.py:433: UserWarning: Converting sparse IndexedSlices to a dense Tensor of unknown shape. This may consume a large amount of memory.\n",
      "  \"Converting sparse IndexedSlices to a dense Tensor of unknown shape. \"\n",
      "/usr/local/lib/python3.6/dist-packages/tensorflow_core/python/framework/indexed_slices.py:433: UserWarning: Converting sparse IndexedSlices to a dense Tensor of unknown shape. This may consume a large amount of memory.\n",
      "  \"Converting sparse IndexedSlices to a dense Tensor of unknown shape. \"\n",
      "100% |########################################################################|\n"
     ]
    },
    {
     "name": "stdout",
     "output_type": "stream",
     "text": [
      "\n",
      " ==================================================\n",
      "run 19/40\n"
     ]
    },
    {
     "name": "stderr",
     "output_type": "stream",
     "text": [
      "/usr/local/lib/python3.6/dist-packages/tensorflow_core/python/framework/indexed_slices.py:433: UserWarning: Converting sparse IndexedSlices to a dense Tensor of unknown shape. This may consume a large amount of memory.\n",
      "  \"Converting sparse IndexedSlices to a dense Tensor of unknown shape. \"\n",
      "/usr/local/lib/python3.6/dist-packages/tensorflow_core/python/framework/indexed_slices.py:433: UserWarning: Converting sparse IndexedSlices to a dense Tensor of unknown shape. This may consume a large amount of memory.\n",
      "  \"Converting sparse IndexedSlices to a dense Tensor of unknown shape. \"\n",
      "100% |########################################################################|\n"
     ]
    },
    {
     "name": "stdout",
     "output_type": "stream",
     "text": [
      "\n",
      " ==================================================\n",
      "run 20/40\n"
     ]
    },
    {
     "name": "stderr",
     "output_type": "stream",
     "text": [
      "100% |########################################################################|\n"
     ]
    },
    {
     "name": "stdout",
     "output_type": "stream",
     "text": [
      "\n",
      " ==================================================\n",
      "run 21/40\n"
     ]
    },
    {
     "name": "stderr",
     "output_type": "stream",
     "text": [
      "/usr/local/lib/python3.6/dist-packages/tensorflow_core/python/framework/indexed_slices.py:433: UserWarning: Converting sparse IndexedSlices to a dense Tensor of unknown shape. This may consume a large amount of memory.\n",
      "  \"Converting sparse IndexedSlices to a dense Tensor of unknown shape. \"\n",
      "/usr/local/lib/python3.6/dist-packages/tensorflow_core/python/framework/indexed_slices.py:433: UserWarning: Converting sparse IndexedSlices to a dense Tensor of unknown shape. This may consume a large amount of memory.\n",
      "  \"Converting sparse IndexedSlices to a dense Tensor of unknown shape. \"\n",
      "100% |########################################################################|\n"
     ]
    },
    {
     "name": "stdout",
     "output_type": "stream",
     "text": [
      "\n",
      " ==================================================\n",
      "run 22/40\n"
     ]
    },
    {
     "name": "stderr",
     "output_type": "stream",
     "text": [
      "/usr/local/lib/python3.6/dist-packages/tensorflow_core/python/framework/indexed_slices.py:433: UserWarning: Converting sparse IndexedSlices to a dense Tensor of unknown shape. This may consume a large amount of memory.\n",
      "  \"Converting sparse IndexedSlices to a dense Tensor of unknown shape. \"\n",
      "/usr/local/lib/python3.6/dist-packages/tensorflow_core/python/framework/indexed_slices.py:433: UserWarning: Converting sparse IndexedSlices to a dense Tensor of unknown shape. This may consume a large amount of memory.\n",
      "  \"Converting sparse IndexedSlices to a dense Tensor of unknown shape. \"\n",
      "100% |########################################################################|\n"
     ]
    },
    {
     "name": "stdout",
     "output_type": "stream",
     "text": [
      "\n",
      " ==================================================\n",
      "run 23/40\n"
     ]
    },
    {
     "name": "stderr",
     "output_type": "stream",
     "text": [
      "/usr/local/lib/python3.6/dist-packages/tensorflow_core/python/framework/indexed_slices.py:433: UserWarning: Converting sparse IndexedSlices to a dense Tensor of unknown shape. This may consume a large amount of memory.\n",
      "  \"Converting sparse IndexedSlices to a dense Tensor of unknown shape. \"\n",
      "/usr/local/lib/python3.6/dist-packages/tensorflow_core/python/framework/indexed_slices.py:433: UserWarning: Converting sparse IndexedSlices to a dense Tensor of unknown shape. This may consume a large amount of memory.\n",
      "  \"Converting sparse IndexedSlices to a dense Tensor of unknown shape. \"\n",
      "100% |########################################################################|\n"
     ]
    },
    {
     "name": "stdout",
     "output_type": "stream",
     "text": [
      "\n",
      " ==================================================\n",
      "run 24/40\n"
     ]
    },
    {
     "name": "stderr",
     "output_type": "stream",
     "text": [
      "/usr/local/lib/python3.6/dist-packages/tensorflow_core/python/framework/indexed_slices.py:433: UserWarning: Converting sparse IndexedSlices to a dense Tensor of unknown shape. This may consume a large amount of memory.\n",
      "  \"Converting sparse IndexedSlices to a dense Tensor of unknown shape. \"\n",
      "/usr/local/lib/python3.6/dist-packages/tensorflow_core/python/framework/indexed_slices.py:433: UserWarning: Converting sparse IndexedSlices to a dense Tensor of unknown shape. This may consume a large amount of memory.\n",
      "  \"Converting sparse IndexedSlices to a dense Tensor of unknown shape. \"\n",
      "100% |########################################################################|\n"
     ]
    },
    {
     "name": "stdout",
     "output_type": "stream",
     "text": [
      "\n",
      " ==================================================\n",
      "run 25/40\n"
     ]
    },
    {
     "name": "stderr",
     "output_type": "stream",
     "text": [
      "/usr/local/lib/python3.6/dist-packages/tensorflow_core/python/framework/indexed_slices.py:433: UserWarning: Converting sparse IndexedSlices to a dense Tensor of unknown shape. This may consume a large amount of memory.\n",
      "  \"Converting sparse IndexedSlices to a dense Tensor of unknown shape. \"\n",
      "/usr/local/lib/python3.6/dist-packages/tensorflow_core/python/framework/indexed_slices.py:433: UserWarning: Converting sparse IndexedSlices to a dense Tensor of unknown shape. This may consume a large amount of memory.\n",
      "  \"Converting sparse IndexedSlices to a dense Tensor of unknown shape. \"\n",
      "100% |########################################################################|\n"
     ]
    },
    {
     "name": "stdout",
     "output_type": "stream",
     "text": [
      "\n",
      " ==================================================\n",
      "run 26/40\n"
     ]
    },
    {
     "name": "stderr",
     "output_type": "stream",
     "text": [
      "/usr/local/lib/python3.6/dist-packages/tensorflow_core/python/framework/indexed_slices.py:433: UserWarning: Converting sparse IndexedSlices to a dense Tensor of unknown shape. This may consume a large amount of memory.\n",
      "  \"Converting sparse IndexedSlices to a dense Tensor of unknown shape. \"\n",
      "/usr/local/lib/python3.6/dist-packages/tensorflow_core/python/framework/indexed_slices.py:433: UserWarning: Converting sparse IndexedSlices to a dense Tensor of unknown shape. This may consume a large amount of memory.\n",
      "  \"Converting sparse IndexedSlices to a dense Tensor of unknown shape. \"\n",
      "100% |########################################################################|\n"
     ]
    },
    {
     "name": "stdout",
     "output_type": "stream",
     "text": [
      "\n",
      " ==================================================\n",
      "run 27/40\n"
     ]
    },
    {
     "name": "stderr",
     "output_type": "stream",
     "text": [
      "/usr/local/lib/python3.6/dist-packages/tensorflow_core/python/framework/indexed_slices.py:433: UserWarning: Converting sparse IndexedSlices to a dense Tensor of unknown shape. This may consume a large amount of memory.\n",
      "  \"Converting sparse IndexedSlices to a dense Tensor of unknown shape. \"\n",
      "/usr/local/lib/python3.6/dist-packages/tensorflow_core/python/framework/indexed_slices.py:433: UserWarning: Converting sparse IndexedSlices to a dense Tensor of unknown shape. This may consume a large amount of memory.\n",
      "  \"Converting sparse IndexedSlices to a dense Tensor of unknown shape. \"\n",
      "100% |########################################################################|\n"
     ]
    },
    {
     "name": "stdout",
     "output_type": "stream",
     "text": [
      "\n",
      " ==================================================\n",
      "run 28/40\n"
     ]
    },
    {
     "name": "stderr",
     "output_type": "stream",
     "text": [
      "/usr/local/lib/python3.6/dist-packages/tensorflow_core/python/framework/indexed_slices.py:433: UserWarning: Converting sparse IndexedSlices to a dense Tensor of unknown shape. This may consume a large amount of memory.\n",
      "  \"Converting sparse IndexedSlices to a dense Tensor of unknown shape. \"\n",
      "/usr/local/lib/python3.6/dist-packages/tensorflow_core/python/framework/indexed_slices.py:433: UserWarning: Converting sparse IndexedSlices to a dense Tensor of unknown shape. This may consume a large amount of memory.\n",
      "  \"Converting sparse IndexedSlices to a dense Tensor of unknown shape. \"\n",
      "100% |########################################################################|\n"
     ]
    },
    {
     "name": "stdout",
     "output_type": "stream",
     "text": [
      "\n",
      " ==================================================\n",
      "run 29/40\n"
     ]
    },
    {
     "name": "stderr",
     "output_type": "stream",
     "text": [
      "/usr/local/lib/python3.6/dist-packages/tensorflow_core/python/framework/indexed_slices.py:433: UserWarning: Converting sparse IndexedSlices to a dense Tensor of unknown shape. This may consume a large amount of memory.\n",
      "  \"Converting sparse IndexedSlices to a dense Tensor of unknown shape. \"\n",
      "/usr/local/lib/python3.6/dist-packages/tensorflow_core/python/framework/indexed_slices.py:433: UserWarning: Converting sparse IndexedSlices to a dense Tensor of unknown shape. This may consume a large amount of memory.\n",
      "  \"Converting sparse IndexedSlices to a dense Tensor of unknown shape. \"\n",
      "100% |########################################################################|\n"
     ]
    },
    {
     "name": "stdout",
     "output_type": "stream",
     "text": [
      "\n",
      " ==================================================\n",
      "run 30/40\n"
     ]
    },
    {
     "name": "stderr",
     "output_type": "stream",
     "text": [
      "/usr/local/lib/python3.6/dist-packages/tensorflow_core/python/framework/indexed_slices.py:433: UserWarning: Converting sparse IndexedSlices to a dense Tensor of unknown shape. This may consume a large amount of memory.\n",
      "  \"Converting sparse IndexedSlices to a dense Tensor of unknown shape. \"\n",
      "/usr/local/lib/python3.6/dist-packages/tensorflow_core/python/framework/indexed_slices.py:433: UserWarning: Converting sparse IndexedSlices to a dense Tensor of unknown shape. This may consume a large amount of memory.\n",
      "  \"Converting sparse IndexedSlices to a dense Tensor of unknown shape. \"\n",
      "100% |########################################################################|\n"
     ]
    },
    {
     "name": "stdout",
     "output_type": "stream",
     "text": [
      "\n",
      " ==================================================\n",
      "run 31/40\n"
     ]
    },
    {
     "name": "stderr",
     "output_type": "stream",
     "text": [
      "/usr/local/lib/python3.6/dist-packages/tensorflow_core/python/framework/indexed_slices.py:433: UserWarning: Converting sparse IndexedSlices to a dense Tensor of unknown shape. This may consume a large amount of memory.\n",
      "  \"Converting sparse IndexedSlices to a dense Tensor of unknown shape. \"\n",
      "/usr/local/lib/python3.6/dist-packages/tensorflow_core/python/framework/indexed_slices.py:433: UserWarning: Converting sparse IndexedSlices to a dense Tensor of unknown shape. This may consume a large amount of memory.\n",
      "  \"Converting sparse IndexedSlices to a dense Tensor of unknown shape. \"\n",
      "100% |########################################################################|\n"
     ]
    },
    {
     "name": "stdout",
     "output_type": "stream",
     "text": [
      "\n",
      " ==================================================\n",
      "run 32/40\n"
     ]
    },
    {
     "name": "stderr",
     "output_type": "stream",
     "text": [
      "/usr/local/lib/python3.6/dist-packages/tensorflow_core/python/framework/indexed_slices.py:433: UserWarning: Converting sparse IndexedSlices to a dense Tensor of unknown shape. This may consume a large amount of memory.\n",
      "  \"Converting sparse IndexedSlices to a dense Tensor of unknown shape. \"\n",
      "/usr/local/lib/python3.6/dist-packages/tensorflow_core/python/framework/indexed_slices.py:433: UserWarning: Converting sparse IndexedSlices to a dense Tensor of unknown shape. This may consume a large amount of memory.\n",
      "  \"Converting sparse IndexedSlices to a dense Tensor of unknown shape. \"\n",
      "100% |########################################################################|\n"
     ]
    },
    {
     "name": "stdout",
     "output_type": "stream",
     "text": [
      "\n",
      " ==================================================\n",
      "run 33/40\n"
     ]
    },
    {
     "name": "stderr",
     "output_type": "stream",
     "text": [
      "/usr/local/lib/python3.6/dist-packages/tensorflow_core/python/framework/indexed_slices.py:433: UserWarning: Converting sparse IndexedSlices to a dense Tensor of unknown shape. This may consume a large amount of memory.\n",
      "  \"Converting sparse IndexedSlices to a dense Tensor of unknown shape. \"\n",
      "/usr/local/lib/python3.6/dist-packages/tensorflow_core/python/framework/indexed_slices.py:433: UserWarning: Converting sparse IndexedSlices to a dense Tensor of unknown shape. This may consume a large amount of memory.\n",
      "  \"Converting sparse IndexedSlices to a dense Tensor of unknown shape. \"\n",
      "100% |########################################################################|\n"
     ]
    },
    {
     "name": "stdout",
     "output_type": "stream",
     "text": [
      "\n",
      " ==================================================\n",
      "run 34/40\n"
     ]
    },
    {
     "name": "stderr",
     "output_type": "stream",
     "text": [
      "/usr/local/lib/python3.6/dist-packages/tensorflow_core/python/framework/indexed_slices.py:433: UserWarning: Converting sparse IndexedSlices to a dense Tensor of unknown shape. This may consume a large amount of memory.\n",
      "  \"Converting sparse IndexedSlices to a dense Tensor of unknown shape. \"\n",
      "/usr/local/lib/python3.6/dist-packages/tensorflow_core/python/framework/indexed_slices.py:433: UserWarning: Converting sparse IndexedSlices to a dense Tensor of unknown shape. This may consume a large amount of memory.\n",
      "  \"Converting sparse IndexedSlices to a dense Tensor of unknown shape. \"\n",
      "100% |########################################################################|\n"
     ]
    },
    {
     "name": "stdout",
     "output_type": "stream",
     "text": [
      "\n",
      " ==================================================\n",
      "run 35/40\n"
     ]
    },
    {
     "name": "stderr",
     "output_type": "stream",
     "text": [
      "/usr/local/lib/python3.6/dist-packages/tensorflow_core/python/framework/indexed_slices.py:433: UserWarning: Converting sparse IndexedSlices to a dense Tensor of unknown shape. This may consume a large amount of memory.\n",
      "  \"Converting sparse IndexedSlices to a dense Tensor of unknown shape. \"\n",
      "/usr/local/lib/python3.6/dist-packages/tensorflow_core/python/framework/indexed_slices.py:433: UserWarning: Converting sparse IndexedSlices to a dense Tensor of unknown shape. This may consume a large amount of memory.\n",
      "  \"Converting sparse IndexedSlices to a dense Tensor of unknown shape. \"\n",
      "100% |########################################################################|\n"
     ]
    },
    {
     "name": "stdout",
     "output_type": "stream",
     "text": [
      "\n",
      " ==================================================\n",
      "run 36/40\n"
     ]
    },
    {
     "name": "stderr",
     "output_type": "stream",
     "text": [
      "/usr/local/lib/python3.6/dist-packages/tensorflow_core/python/framework/indexed_slices.py:433: UserWarning: Converting sparse IndexedSlices to a dense Tensor of unknown shape. This may consume a large amount of memory.\n",
      "  \"Converting sparse IndexedSlices to a dense Tensor of unknown shape. \"\n",
      "/usr/local/lib/python3.6/dist-packages/tensorflow_core/python/framework/indexed_slices.py:433: UserWarning: Converting sparse IndexedSlices to a dense Tensor of unknown shape. This may consume a large amount of memory.\n",
      "  \"Converting sparse IndexedSlices to a dense Tensor of unknown shape. \"\n",
      "100% |########################################################################|\n"
     ]
    },
    {
     "name": "stdout",
     "output_type": "stream",
     "text": [
      "\n",
      " ==================================================\n",
      "run 37/40\n"
     ]
    },
    {
     "name": "stderr",
     "output_type": "stream",
     "text": [
      "/usr/local/lib/python3.6/dist-packages/tensorflow_core/python/framework/indexed_slices.py:433: UserWarning: Converting sparse IndexedSlices to a dense Tensor of unknown shape. This may consume a large amount of memory.\n",
      "  \"Converting sparse IndexedSlices to a dense Tensor of unknown shape. \"\n",
      "/usr/local/lib/python3.6/dist-packages/tensorflow_core/python/framework/indexed_slices.py:433: UserWarning: Converting sparse IndexedSlices to a dense Tensor of unknown shape. This may consume a large amount of memory.\n",
      "  \"Converting sparse IndexedSlices to a dense Tensor of unknown shape. \"\n",
      "100% |########################################################################|\n"
     ]
    },
    {
     "name": "stdout",
     "output_type": "stream",
     "text": [
      "\n",
      " ==================================================\n",
      "run 38/40\n"
     ]
    },
    {
     "name": "stderr",
     "output_type": "stream",
     "text": [
      "/usr/local/lib/python3.6/dist-packages/tensorflow_core/python/framework/indexed_slices.py:433: UserWarning: Converting sparse IndexedSlices to a dense Tensor of unknown shape. This may consume a large amount of memory.\n",
      "  \"Converting sparse IndexedSlices to a dense Tensor of unknown shape. \"\n",
      "/usr/local/lib/python3.6/dist-packages/tensorflow_core/python/framework/indexed_slices.py:433: UserWarning: Converting sparse IndexedSlices to a dense Tensor of unknown shape. This may consume a large amount of memory.\n",
      "  \"Converting sparse IndexedSlices to a dense Tensor of unknown shape. \"\n",
      "100% |########################################################################|\n"
     ]
    },
    {
     "name": "stdout",
     "output_type": "stream",
     "text": [
      "\n",
      " ==================================================\n",
      "run 39/40\n"
     ]
    },
    {
     "name": "stderr",
     "output_type": "stream",
     "text": [
      "/usr/local/lib/python3.6/dist-packages/tensorflow_core/python/framework/indexed_slices.py:433: UserWarning: Converting sparse IndexedSlices to a dense Tensor of unknown shape. This may consume a large amount of memory.\n",
      "  \"Converting sparse IndexedSlices to a dense Tensor of unknown shape. \"\n",
      "/usr/local/lib/python3.6/dist-packages/tensorflow_core/python/framework/indexed_slices.py:433: UserWarning: Converting sparse IndexedSlices to a dense Tensor of unknown shape. This may consume a large amount of memory.\n",
      "  \"Converting sparse IndexedSlices to a dense Tensor of unknown shape. \"\n",
      "100% |########################################################################|\n"
     ]
    }
   ],
   "source": [
    "import time\n",
    "NCF.NeuMF_params['epochs'] = 14\n",
    "\n",
    "run = 0\n",
    "model_name = 'NeuMF'\n",
    "\n",
    "for learning_rate in learning_rates:\n",
    "    NCF.NeuMF_params['learning_rate'] = learning_rate\n",
    "    \n",
    "    for batch_size in batch_sizes:\n",
    "        NCF.NeuMF_params['batch_size'] = batch_size\n",
    "        \n",
    "        for gmf_reg in gmf_regs:\n",
    "            NCF.NeuMF_params['reg_mf'] = gmf_reg\n",
    "            \n",
    "            for mlp_reg in mlp_regs:\n",
    "                s = time.time()\n",
    "                NCF.NeuMF_params['reg_layers'] = mlp_reg\n",
    "                print('\\n', '='*50)\n",
    "                print(f'run {run}/{total_runs}')\n",
    "                NCF.build_NeuMF_model()\n",
    "\n",
    "                val_metrics = NCF.train_model(model_name, samples, train_set, val_set.iloc[:100], verbose=2) \n",
    "                t = time.time() - s\n",
    "                ranked_df = NCF.get_predictions(model_name, test_set)\n",
    "                test_metrics = get_metrics(ranked_df, steps, rank_at, stats=False)\n",
    "                val_recall = val_metrics[-1:][0]['recall'].iloc[2]\n",
    "                \n",
    "                results = dict(NCF.NeuMF_params,\n",
    "                    **{'test_rec@10':test_metrics['recall'].iloc[2], \n",
    "                    '100_sample_val_rec@10': val_recall,\n",
    "                    'val_metrics':val_metrics,\n",
    "                    'test_metrics':test_metrics,\n",
    "                    'loss':NCF.history[model_name]['loss'],\n",
    "                    'train_time':t})\n",
    "\n",
    "                pd.read_pickle(store_path + gs_result_name).append(results, ignore_index=True).to_pickle(store_path + gs_result_name)\n",
    "\n",
    "                run += 1       "
   ]
  },
  {
   "cell_type": "code",
   "execution_count": 94,
   "metadata": {},
   "outputs": [
    {
     "data": {
      "text/html": [
       "<div>\n",
       "<style scoped>\n",
       "    .dataframe tbody tr th:only-of-type {\n",
       "        vertical-align: middle;\n",
       "    }\n",
       "\n",
       "    .dataframe tbody tr th {\n",
       "        vertical-align: top;\n",
       "    }\n",
       "\n",
       "    .dataframe thead th {\n",
       "        text-align: right;\n",
       "    }\n",
       "</style>\n",
       "<table border=\"1\" class=\"dataframe\">\n",
       "  <thead>\n",
       "    <tr style=\"text-align: right;\">\n",
       "      <th></th>\n",
       "      <th>test_rec@10</th>\n",
       "      <th>100_sample_val_rec@10</th>\n",
       "      <th>val_metrics</th>\n",
       "      <th>test_metrics</th>\n",
       "      <th>loss</th>\n",
       "      <th>train_time</th>\n",
       "      <th>learning_rate</th>\n",
       "      <th>batch_size</th>\n",
       "      <th>layers</th>\n",
       "      <th>reg_layers</th>\n",
       "      <th>reg_mf</th>\n",
       "      <th>nolf</th>\n",
       "      <th>epochs</th>\n",
       "      <th>sample_size</th>\n",
       "      <th>num_neg</th>\n",
       "      <th>ckpt_dir</th>\n",
       "      <th>optimizer</th>\n",
       "    </tr>\n",
       "  </thead>\n",
       "  <tbody>\n",
       "    <tr>\n",
       "      <th>22</th>\n",
       "      <td>0.01925</td>\n",
       "      <td>0.19</td>\n",
       "      <td>[[rank_at, hitcounts, recall, precision, ndcg]...</td>\n",
       "      <td>rank_at  hitcounts   recall  precision     ...</td>\n",
       "      <td>[0.46384, 0.35846, 0.325, 0.30419, 0.28889, 0....</td>\n",
       "      <td>1294.881698</td>\n",
       "      <td>0.0001</td>\n",
       "      <td>256</td>\n",
       "      <td>[16, 32, 16, 8]</td>\n",
       "      <td>[1e-06, 1e-06, 1e-06, 1e-06]</td>\n",
       "      <td>[0, 0]</td>\n",
       "      <td>8</td>\n",
       "      <td>14</td>\n",
       "      <td>343771</td>\n",
       "      <td>4</td>\n",
       "      <td>../NeuMF_storage/NeuMF_ckpts_am_40k_GS_nolf_8/...</td>\n",
       "      <td>Adam</td>\n",
       "    </tr>\n",
       "    <tr>\n",
       "      <th>20</th>\n",
       "      <td>0.01750</td>\n",
       "      <td>0.19</td>\n",
       "      <td>[[rank_at, hitcounts, recall, precision, ndcg]...</td>\n",
       "      <td>rank_at  hitcounts   recall  precision     ...</td>\n",
       "      <td>[0.46905, 0.37478, 0.33356, 0.31043, 0.29341, ...</td>\n",
       "      <td>1531.528490</td>\n",
       "      <td>0.0001</td>\n",
       "      <td>256</td>\n",
       "      <td>[16, 32, 16, 8]</td>\n",
       "      <td>[0, 0, 0, 0]</td>\n",
       "      <td>[0, 0]</td>\n",
       "      <td>8</td>\n",
       "      <td>14</td>\n",
       "      <td>343771</td>\n",
       "      <td>4</td>\n",
       "      <td>../NeuMF_storage/NeuMF_ckpts_am_40k_GS_nolf_8/...</td>\n",
       "      <td>Adam</td>\n",
       "    </tr>\n",
       "    <tr>\n",
       "      <th>24</th>\n",
       "      <td>0.00500</td>\n",
       "      <td>0.18</td>\n",
       "      <td>[[rank_at, hitcounts, recall, precision, ndcg]...</td>\n",
       "      <td>rank_at  hitcounts   recall  precision     ...</td>\n",
       "      <td>[0.4719, 0.34554, 0.33859, 0.33644, 0.33247, 0...</td>\n",
       "      <td>1309.244294</td>\n",
       "      <td>0.0001</td>\n",
       "      <td>256</td>\n",
       "      <td>[16, 32, 16, 8]</td>\n",
       "      <td>[0.0001, 0.0001, 0.0001, 0.0001]</td>\n",
       "      <td>[0, 0]</td>\n",
       "      <td>8</td>\n",
       "      <td>14</td>\n",
       "      <td>343771</td>\n",
       "      <td>4</td>\n",
       "      <td>../NeuMF_storage/NeuMF_ckpts_am_40k_GS_nolf_8/...</td>\n",
       "      <td>Adam</td>\n",
       "    </tr>\n",
       "    <tr>\n",
       "      <th>23</th>\n",
       "      <td>0.00425</td>\n",
       "      <td>0.15</td>\n",
       "      <td>[[rank_at, hitcounts, recall, precision, ndcg]...</td>\n",
       "      <td>rank_at  hitcounts   recall  precision     ...</td>\n",
       "      <td>[0.44882, 0.32616, 0.30709, 0.29683, 0.28878, ...</td>\n",
       "      <td>1301.970975</td>\n",
       "      <td>0.0001</td>\n",
       "      <td>256</td>\n",
       "      <td>[16, 32, 16, 8]</td>\n",
       "      <td>[1e-05, 1e-05, 1e-05, 1e-05]</td>\n",
       "      <td>[0, 0]</td>\n",
       "      <td>8</td>\n",
       "      <td>14</td>\n",
       "      <td>343771</td>\n",
       "      <td>4</td>\n",
       "      <td>../NeuMF_storage/NeuMF_ckpts_am_40k_GS_nolf_8/...</td>\n",
       "      <td>Adam</td>\n",
       "    </tr>\n",
       "    <tr>\n",
       "      <th>32</th>\n",
       "      <td>0.00375</td>\n",
       "      <td>0.17</td>\n",
       "      <td>[[rank_at, hitcounts, recall, precision, ndcg]...</td>\n",
       "      <td>rank_at  hitcounts   recall  precision     ...</td>\n",
       "      <td>[0.45936, 0.33743, 0.30245, 0.28642, 0.27368, ...</td>\n",
       "      <td>1292.874761</td>\n",
       "      <td>0.0001</td>\n",
       "      <td>256</td>\n",
       "      <td>[16, 32, 16, 8]</td>\n",
       "      <td>[1e-06, 1e-06, 1e-06, 1e-06]</td>\n",
       "      <td>[1e-06, 1e-06]</td>\n",
       "      <td>8</td>\n",
       "      <td>14</td>\n",
       "      <td>343771</td>\n",
       "      <td>4</td>\n",
       "      <td>../NeuMF_storage/NeuMF_ckpts_am_40k_GS_nolf_8/...</td>\n",
       "      <td>Adam</td>\n",
       "    </tr>\n",
       "    <tr>\n",
       "      <th>29</th>\n",
       "      <td>0.00375</td>\n",
       "      <td>0.18</td>\n",
       "      <td>[[rank_at, hitcounts, recall, precision, ndcg]...</td>\n",
       "      <td>rank_at  hitcounts   recall  precision     ...</td>\n",
       "      <td>[0.46322, 0.34414, 0.33903, 0.33794, 0.33611, ...</td>\n",
       "      <td>1176.265156</td>\n",
       "      <td>0.0001</td>\n",
       "      <td>256</td>\n",
       "      <td>[16, 32, 16, 8]</td>\n",
       "      <td>[0.0001, 0.0001, 0.0001, 0.0001]</td>\n",
       "      <td>[1e-07, 1e-07]</td>\n",
       "      <td>8</td>\n",
       "      <td>14</td>\n",
       "      <td>343771</td>\n",
       "      <td>4</td>\n",
       "      <td>../NeuMF_storage/NeuMF_ckpts_am_40k_GS_nolf_8/...</td>\n",
       "      <td>Adam</td>\n",
       "    </tr>\n",
       "    <tr>\n",
       "      <th>27</th>\n",
       "      <td>0.00375</td>\n",
       "      <td>0.14</td>\n",
       "      <td>[[rank_at, hitcounts, recall, precision, ndcg]...</td>\n",
       "      <td>rank_at  hitcounts   recall  precision     ...</td>\n",
       "      <td>[0.46073, 0.33911, 0.30314, 0.28605, 0.27259, ...</td>\n",
       "      <td>1174.188863</td>\n",
       "      <td>0.0001</td>\n",
       "      <td>256</td>\n",
       "      <td>[16, 32, 16, 8]</td>\n",
       "      <td>[1e-06, 1e-06, 1e-06, 1e-06]</td>\n",
       "      <td>[1e-07, 1e-07]</td>\n",
       "      <td>8</td>\n",
       "      <td>14</td>\n",
       "      <td>343771</td>\n",
       "      <td>4</td>\n",
       "      <td>../NeuMF_storage/NeuMF_ckpts_am_40k_GS_nolf_8/...</td>\n",
       "      <td>Adam</td>\n",
       "    </tr>\n",
       "    <tr>\n",
       "      <th>34</th>\n",
       "      <td>0.00350</td>\n",
       "      <td>0.17</td>\n",
       "      <td>[[rank_at, hitcounts, recall, precision, ndcg]...</td>\n",
       "      <td>rank_at  hitcounts   recall  precision     ...</td>\n",
       "      <td>[0.48317, 0.35098, 0.34229, 0.34012, 0.3387, 0...</td>\n",
       "      <td>1187.408793</td>\n",
       "      <td>0.0001</td>\n",
       "      <td>256</td>\n",
       "      <td>[16, 32, 16, 8]</td>\n",
       "      <td>[0.0001, 0.0001, 0.0001, 0.0001]</td>\n",
       "      <td>[1e-06, 1e-06]</td>\n",
       "      <td>8</td>\n",
       "      <td>14</td>\n",
       "      <td>343771</td>\n",
       "      <td>4</td>\n",
       "      <td>../NeuMF_storage/NeuMF_ckpts_am_40k_GS_nolf_8/...</td>\n",
       "      <td>Adam</td>\n",
       "    </tr>\n",
       "    <tr>\n",
       "      <th>39</th>\n",
       "      <td>0.00325</td>\n",
       "      <td>0.17</td>\n",
       "      <td>[[rank_at, hitcounts, recall, precision, ndcg]...</td>\n",
       "      <td>rank_at  hitcounts   recall  precision     ...</td>\n",
       "      <td>[0.49545, 0.34924, 0.34031, 0.33898, 0.33764, ...</td>\n",
       "      <td>1175.592839</td>\n",
       "      <td>0.0001</td>\n",
       "      <td>256</td>\n",
       "      <td>[16, 32, 16, 8]</td>\n",
       "      <td>[0.0001, 0.0001, 0.0001, 0.0001]</td>\n",
       "      <td>[1e-05, 1e-05]</td>\n",
       "      <td>8</td>\n",
       "      <td>14</td>\n",
       "      <td>343771</td>\n",
       "      <td>4</td>\n",
       "      <td>../NeuMF_storage/NeuMF_ckpts_am_40k_GS_nolf_8/...</td>\n",
       "      <td>Adam</td>\n",
       "    </tr>\n",
       "    <tr>\n",
       "      <th>31</th>\n",
       "      <td>0.00300</td>\n",
       "      <td>0.16</td>\n",
       "      <td>[[rank_at, hitcounts, recall, precision, ndcg]...</td>\n",
       "      <td>rank_at  hitcounts   recall  precision     ...</td>\n",
       "      <td>[0.46988, 0.35329, 0.31248, 0.29199, 0.27796, ...</td>\n",
       "      <td>1178.197947</td>\n",
       "      <td>0.0001</td>\n",
       "      <td>256</td>\n",
       "      <td>[16, 32, 16, 8]</td>\n",
       "      <td>[1e-07, 1e-07, 1e-07, 1e-07]</td>\n",
       "      <td>[1e-06, 1e-06]</td>\n",
       "      <td>8</td>\n",
       "      <td>14</td>\n",
       "      <td>343771</td>\n",
       "      <td>4</td>\n",
       "      <td>../NeuMF_storage/NeuMF_ckpts_am_40k_GS_nolf_8/...</td>\n",
       "      <td>Adam</td>\n",
       "    </tr>\n",
       "    <tr>\n",
       "      <th>26</th>\n",
       "      <td>0.00275</td>\n",
       "      <td>0.16</td>\n",
       "      <td>[[rank_at, hitcounts, recall, precision, ndcg]...</td>\n",
       "      <td>rank_at  hitcounts   recall  precision     ...</td>\n",
       "      <td>[0.47401, 0.35386, 0.312, 0.28944, 0.27353, 0....</td>\n",
       "      <td>1175.224771</td>\n",
       "      <td>0.0001</td>\n",
       "      <td>256</td>\n",
       "      <td>[16, 32, 16, 8]</td>\n",
       "      <td>[1e-07, 1e-07, 1e-07, 1e-07]</td>\n",
       "      <td>[1e-07, 1e-07]</td>\n",
       "      <td>8</td>\n",
       "      <td>14</td>\n",
       "      <td>343771</td>\n",
       "      <td>4</td>\n",
       "      <td>../NeuMF_storage/NeuMF_ckpts_am_40k_GS_nolf_8/...</td>\n",
       "      <td>Adam</td>\n",
       "    </tr>\n",
       "    <tr>\n",
       "      <th>37</th>\n",
       "      <td>0.00250</td>\n",
       "      <td>0.19</td>\n",
       "      <td>[[rank_at, hitcounts, recall, precision, ndcg]...</td>\n",
       "      <td>rank_at  hitcounts   recall  precision     ...</td>\n",
       "      <td>[0.46478, 0.33729, 0.3028, 0.28589, 0.27348, 0...</td>\n",
       "      <td>1182.954982</td>\n",
       "      <td>0.0001</td>\n",
       "      <td>256</td>\n",
       "      <td>[16, 32, 16, 8]</td>\n",
       "      <td>[1e-06, 1e-06, 1e-06, 1e-06]</td>\n",
       "      <td>[1e-05, 1e-05]</td>\n",
       "      <td>8</td>\n",
       "      <td>14</td>\n",
       "      <td>343771</td>\n",
       "      <td>4</td>\n",
       "      <td>../NeuMF_storage/NeuMF_ckpts_am_40k_GS_nolf_8/...</td>\n",
       "      <td>Adam</td>\n",
       "    </tr>\n",
       "    <tr>\n",
       "      <th>36</th>\n",
       "      <td>0.00250</td>\n",
       "      <td>0.15</td>\n",
       "      <td>[[rank_at, hitcounts, recall, precision, ndcg]...</td>\n",
       "      <td>rank_at  hitcounts   recall  precision     ...</td>\n",
       "      <td>[0.47121, 0.35313, 0.31243, 0.29193, 0.27856, ...</td>\n",
       "      <td>1185.085481</td>\n",
       "      <td>0.0001</td>\n",
       "      <td>256</td>\n",
       "      <td>[16, 32, 16, 8]</td>\n",
       "      <td>[1e-07, 1e-07, 1e-07, 1e-07]</td>\n",
       "      <td>[1e-05, 1e-05]</td>\n",
       "      <td>8</td>\n",
       "      <td>14</td>\n",
       "      <td>343771</td>\n",
       "      <td>4</td>\n",
       "      <td>../NeuMF_storage/NeuMF_ckpts_am_40k_GS_nolf_8/...</td>\n",
       "      <td>Adam</td>\n",
       "    </tr>\n",
       "    <tr>\n",
       "      <th>28</th>\n",
       "      <td>0.00250</td>\n",
       "      <td>0.14</td>\n",
       "      <td>[[rank_at, hitcounts, recall, precision, ndcg]...</td>\n",
       "      <td>rank_at  hitcounts   recall  precision     ...</td>\n",
       "      <td>[0.45042, 0.32833, 0.30946, 0.30101, 0.29323, ...</td>\n",
       "      <td>1179.037146</td>\n",
       "      <td>0.0001</td>\n",
       "      <td>256</td>\n",
       "      <td>[16, 32, 16, 8]</td>\n",
       "      <td>[1e-05, 1e-05, 1e-05, 1e-05]</td>\n",
       "      <td>[1e-07, 1e-07]</td>\n",
       "      <td>8</td>\n",
       "      <td>14</td>\n",
       "      <td>343771</td>\n",
       "      <td>4</td>\n",
       "      <td>../NeuMF_storage/NeuMF_ckpts_am_40k_GS_nolf_8/...</td>\n",
       "      <td>Adam</td>\n",
       "    </tr>\n",
       "    <tr>\n",
       "      <th>6</th>\n",
       "      <td>0.00225</td>\n",
       "      <td>0.22</td>\n",
       "      <td>[[rank_at, hitcounts, recall, precision, ndcg]...</td>\n",
       "      <td>rank_at  hitcounts   recall  precision     ...</td>\n",
       "      <td>[0.38251, 0.27418, 0.16576, 0.08214, 0.0424, 0...</td>\n",
       "      <td>1216.533779</td>\n",
       "      <td>0.0005</td>\n",
       "      <td>256</td>\n",
       "      <td>[16, 32, 16, 8]</td>\n",
       "      <td>[1e-07, 1e-07, 1e-07, 1e-07]</td>\n",
       "      <td>[1e-07, 1e-07]</td>\n",
       "      <td>8</td>\n",
       "      <td>14</td>\n",
       "      <td>343771</td>\n",
       "      <td>4</td>\n",
       "      <td>../NeuMF_storage/NeuMF_ckpts_am_40k_GS_nolf_8/...</td>\n",
       "      <td>Adam</td>\n",
       "    </tr>\n",
       "    <tr>\n",
       "      <th>18</th>\n",
       "      <td>0.00200</td>\n",
       "      <td>0.13</td>\n",
       "      <td>[[rank_at, hitcounts, recall, precision, ndcg]...</td>\n",
       "      <td>rank_at  hitcounts   recall  precision     ...</td>\n",
       "      <td>[0.38816, 0.33972, 0.33303, 0.31139, 0.27958, ...</td>\n",
       "      <td>1282.031513</td>\n",
       "      <td>0.0005</td>\n",
       "      <td>256</td>\n",
       "      <td>[16, 32, 16, 8]</td>\n",
       "      <td>[1e-05, 1e-05, 1e-05, 1e-05]</td>\n",
       "      <td>[1e-05, 1e-05]</td>\n",
       "      <td>8</td>\n",
       "      <td>14</td>\n",
       "      <td>343771</td>\n",
       "      <td>4</td>\n",
       "      <td>../NeuMF_storage/NeuMF_ckpts_am_40k_GS_nolf_8/...</td>\n",
       "      <td>Adam</td>\n",
       "    </tr>\n",
       "    <tr>\n",
       "      <th>33</th>\n",
       "      <td>0.00200</td>\n",
       "      <td>0.14</td>\n",
       "      <td>[[rank_at, hitcounts, recall, precision, ndcg]...</td>\n",
       "      <td>rank_at  hitcounts   recall  precision     ...</td>\n",
       "      <td>[0.44956, 0.32816, 0.30805, 0.29845, 0.29291, ...</td>\n",
       "      <td>1182.739918</td>\n",
       "      <td>0.0001</td>\n",
       "      <td>256</td>\n",
       "      <td>[16, 32, 16, 8]</td>\n",
       "      <td>[1e-05, 1e-05, 1e-05, 1e-05]</td>\n",
       "      <td>[1e-06, 1e-06]</td>\n",
       "      <td>8</td>\n",
       "      <td>14</td>\n",
       "      <td>343771</td>\n",
       "      <td>4</td>\n",
       "      <td>../NeuMF_storage/NeuMF_ckpts_am_40k_GS_nolf_8/...</td>\n",
       "      <td>Adam</td>\n",
       "    </tr>\n",
       "    <tr>\n",
       "      <th>12</th>\n",
       "      <td>0.00200</td>\n",
       "      <td>0.18</td>\n",
       "      <td>[[rank_at, hitcounts, recall, precision, ndcg]...</td>\n",
       "      <td>rank_at  hitcounts   recall  precision     ...</td>\n",
       "      <td>[0.38041, 0.30408, 0.26964, 0.21831, 0.16709, ...</td>\n",
       "      <td>1199.226444</td>\n",
       "      <td>0.0005</td>\n",
       "      <td>256</td>\n",
       "      <td>[16, 32, 16, 8]</td>\n",
       "      <td>[1e-06, 1e-06, 1e-06, 1e-06]</td>\n",
       "      <td>[1e-06, 1e-06]</td>\n",
       "      <td>8</td>\n",
       "      <td>14</td>\n",
       "      <td>343771</td>\n",
       "      <td>4</td>\n",
       "      <td>../NeuMF_storage/NeuMF_ckpts_am_40k_GS_nolf_8/...</td>\n",
       "      <td>Adam</td>\n",
       "    </tr>\n",
       "    <tr>\n",
       "      <th>30</th>\n",
       "      <td>0.00175</td>\n",
       "      <td>0.17</td>\n",
       "      <td>[[rank_at, hitcounts, recall, precision, ndcg]...</td>\n",
       "      <td>rank_at  hitcounts   recall  precision     ...</td>\n",
       "      <td>[0.47201, 0.36148, 0.31779, 0.29534, 0.2807, 0...</td>\n",
       "      <td>1309.347570</td>\n",
       "      <td>0.0001</td>\n",
       "      <td>256</td>\n",
       "      <td>[16, 32, 16, 8]</td>\n",
       "      <td>[0, 0, 0, 0]</td>\n",
       "      <td>[1e-06, 1e-06]</td>\n",
       "      <td>8</td>\n",
       "      <td>14</td>\n",
       "      <td>343771</td>\n",
       "      <td>4</td>\n",
       "      <td>../NeuMF_storage/NeuMF_ckpts_am_40k_GS_nolf_8/...</td>\n",
       "      <td>Adam</td>\n",
       "    </tr>\n",
       "    <tr>\n",
       "      <th>11</th>\n",
       "      <td>0.00175</td>\n",
       "      <td>0.18</td>\n",
       "      <td>[[rank_at, hitcounts, recall, precision, ndcg]...</td>\n",
       "      <td>rank_at  hitcounts   recall  precision     ...</td>\n",
       "      <td>[0.38285, 0.29069, 0.23663, 0.18033, 0.13667, ...</td>\n",
       "      <td>1184.930241</td>\n",
       "      <td>0.0005</td>\n",
       "      <td>256</td>\n",
       "      <td>[16, 32, 16, 8]</td>\n",
       "      <td>[1e-07, 1e-07, 1e-07, 1e-07]</td>\n",
       "      <td>[1e-06, 1e-06]</td>\n",
       "      <td>8</td>\n",
       "      <td>14</td>\n",
       "      <td>343771</td>\n",
       "      <td>4</td>\n",
       "      <td>../NeuMF_storage/NeuMF_ckpts_am_40k_GS_nolf_8/...</td>\n",
       "      <td>Adam</td>\n",
       "    </tr>\n",
       "    <tr>\n",
       "      <th>13</th>\n",
       "      <td>0.00150</td>\n",
       "      <td>0.17</td>\n",
       "      <td>[[rank_at, hitcounts, recall, precision, ndcg]...</td>\n",
       "      <td>rank_at  hitcounts   recall  precision     ...</td>\n",
       "      <td>[0.3871, 0.33601, 0.31232, 0.25846, 0.19622, 0...</td>\n",
       "      <td>1288.758545</td>\n",
       "      <td>0.0005</td>\n",
       "      <td>256</td>\n",
       "      <td>[16, 32, 16, 8]</td>\n",
       "      <td>[1e-05, 1e-05, 1e-05, 1e-05]</td>\n",
       "      <td>[1e-06, 1e-06]</td>\n",
       "      <td>8</td>\n",
       "      <td>14</td>\n",
       "      <td>343771</td>\n",
       "      <td>4</td>\n",
       "      <td>../NeuMF_storage/NeuMF_ckpts_am_40k_GS_nolf_8/...</td>\n",
       "      <td>Adam</td>\n",
       "    </tr>\n",
       "    <tr>\n",
       "      <th>14</th>\n",
       "      <td>0.00125</td>\n",
       "      <td>0.13</td>\n",
       "      <td>[[rank_at, hitcounts, recall, precision, ndcg]...</td>\n",
       "      <td>rank_at  hitcounts   recall  precision     ...</td>\n",
       "      <td>[0.44102, 0.37339, 0.32155, 0.23704, 0.1639, 0...</td>\n",
       "      <td>1338.150703</td>\n",
       "      <td>0.0005</td>\n",
       "      <td>256</td>\n",
       "      <td>[16, 32, 16, 8]</td>\n",
       "      <td>[0.0001, 0.0001, 0.0001, 0.0001]</td>\n",
       "      <td>[1e-06, 1e-06]</td>\n",
       "      <td>8</td>\n",
       "      <td>14</td>\n",
       "      <td>343771</td>\n",
       "      <td>4</td>\n",
       "      <td>../NeuMF_storage/NeuMF_ckpts_am_40k_GS_nolf_8/...</td>\n",
       "      <td>Adam</td>\n",
       "    </tr>\n",
       "    <tr>\n",
       "      <th>15</th>\n",
       "      <td>0.00100</td>\n",
       "      <td>0.18</td>\n",
       "      <td>[[rank_at, hitcounts, recall, precision, ndcg]...</td>\n",
       "      <td>rank_at  hitcounts   recall  precision     ...</td>\n",
       "      <td>[0.39272, 0.29953, 0.27164, 0.24329, 0.21274, ...</td>\n",
       "      <td>1415.279730</td>\n",
       "      <td>0.0005</td>\n",
       "      <td>256</td>\n",
       "      <td>[16, 32, 16, 8]</td>\n",
       "      <td>[0, 0, 0, 0]</td>\n",
       "      <td>[1e-05, 1e-05]</td>\n",
       "      <td>8</td>\n",
       "      <td>14</td>\n",
       "      <td>343771</td>\n",
       "      <td>4</td>\n",
       "      <td>../NeuMF_storage/NeuMF_ckpts_am_40k_GS_nolf_8/...</td>\n",
       "      <td>Adam</td>\n",
       "    </tr>\n",
       "    <tr>\n",
       "      <th>17</th>\n",
       "      <td>0.00100</td>\n",
       "      <td>0.16</td>\n",
       "      <td>[[rank_at, hitcounts, recall, precision, ndcg]...</td>\n",
       "      <td>rank_at  hitcounts  recall  precision      ...</td>\n",
       "      <td>[0.38011, 0.30039, 0.25712, 0.20066, 0.15503, ...</td>\n",
       "      <td>1275.981232</td>\n",
       "      <td>0.0005</td>\n",
       "      <td>256</td>\n",
       "      <td>[16, 32, 16, 8]</td>\n",
       "      <td>[1e-06, 1e-06, 1e-06, 1e-06]</td>\n",
       "      <td>[1e-05, 1e-05]</td>\n",
       "      <td>8</td>\n",
       "      <td>14</td>\n",
       "      <td>343771</td>\n",
       "      <td>4</td>\n",
       "      <td>../NeuMF_storage/NeuMF_ckpts_am_40k_GS_nolf_8/...</td>\n",
       "      <td>Adam</td>\n",
       "    </tr>\n",
       "    <tr>\n",
       "      <th>38</th>\n",
       "      <td>0.00075</td>\n",
       "      <td>0.13</td>\n",
       "      <td>[[rank_at, hitcounts, recall, precision, ndcg]...</td>\n",
       "      <td>rank_at  hitcounts   recall  precision     ...</td>\n",
       "      <td>[0.45343, 0.3261, 0.30905, 0.30323, 0.29894, 0...</td>\n",
       "      <td>1185.710750</td>\n",
       "      <td>0.0001</td>\n",
       "      <td>256</td>\n",
       "      <td>[16, 32, 16, 8]</td>\n",
       "      <td>[1e-05, 1e-05, 1e-05, 1e-05]</td>\n",
       "      <td>[1e-05, 1e-05]</td>\n",
       "      <td>8</td>\n",
       "      <td>14</td>\n",
       "      <td>343771</td>\n",
       "      <td>4</td>\n",
       "      <td>../NeuMF_storage/NeuMF_ckpts_am_40k_GS_nolf_8/...</td>\n",
       "      <td>Adam</td>\n",
       "    </tr>\n",
       "    <tr>\n",
       "      <th>21</th>\n",
       "      <td>0.00075</td>\n",
       "      <td>0.16</td>\n",
       "      <td>[[rank_at, hitcounts, recall, precision, ndcg]...</td>\n",
       "      <td>rank_at  hitcounts   recall  precision     ...</td>\n",
       "      <td>[0.46542, 0.35217, 0.31044, 0.28811, 0.27237, ...</td>\n",
       "      <td>1353.968495</td>\n",
       "      <td>0.0001</td>\n",
       "      <td>256</td>\n",
       "      <td>[16, 32, 16, 8]</td>\n",
       "      <td>[1e-07, 1e-07, 1e-07, 1e-07]</td>\n",
       "      <td>[0, 0]</td>\n",
       "      <td>8</td>\n",
       "      <td>14</td>\n",
       "      <td>343771</td>\n",
       "      <td>4</td>\n",
       "      <td>../NeuMF_storage/NeuMF_ckpts_am_40k_GS_nolf_8/...</td>\n",
       "      <td>Adam</td>\n",
       "    </tr>\n",
       "    <tr>\n",
       "      <th>8</th>\n",
       "      <td>0.00075</td>\n",
       "      <td>0.19</td>\n",
       "      <td>[[rank_at, hitcounts, recall, precision, ndcg]...</td>\n",
       "      <td>rank_at  hitcounts   recall  precision     ...</td>\n",
       "      <td>[0.38737, 0.31832, 0.22754, 0.12946, 0.07421, ...</td>\n",
       "      <td>1176.436132</td>\n",
       "      <td>0.0005</td>\n",
       "      <td>256</td>\n",
       "      <td>[16, 32, 16, 8]</td>\n",
       "      <td>[1e-05, 1e-05, 1e-05, 1e-05]</td>\n",
       "      <td>[1e-07, 1e-07]</td>\n",
       "      <td>8</td>\n",
       "      <td>14</td>\n",
       "      <td>343771</td>\n",
       "      <td>4</td>\n",
       "      <td>../NeuMF_storage/NeuMF_ckpts_am_40k_GS_nolf_8/...</td>\n",
       "      <td>Adam</td>\n",
       "    </tr>\n",
       "    <tr>\n",
       "      <th>35</th>\n",
       "      <td>0.00075</td>\n",
       "      <td>0.18</td>\n",
       "      <td>[[rank_at, hitcounts, recall, precision, ndcg]...</td>\n",
       "      <td>rank_at  hitcounts   recall  precision     ...</td>\n",
       "      <td>[0.47006, 0.3589, 0.31692, 0.29478, 0.2804, 0....</td>\n",
       "      <td>1305.260641</td>\n",
       "      <td>0.0001</td>\n",
       "      <td>256</td>\n",
       "      <td>[16, 32, 16, 8]</td>\n",
       "      <td>[0, 0, 0, 0]</td>\n",
       "      <td>[1e-05, 1e-05]</td>\n",
       "      <td>8</td>\n",
       "      <td>14</td>\n",
       "      <td>343771</td>\n",
       "      <td>4</td>\n",
       "      <td>../NeuMF_storage/NeuMF_ckpts_am_40k_GS_nolf_8/...</td>\n",
       "      <td>Adam</td>\n",
       "    </tr>\n",
       "    <tr>\n",
       "      <th>10</th>\n",
       "      <td>0.00075</td>\n",
       "      <td>0.18</td>\n",
       "      <td>[[rank_at, hitcounts, recall, precision, ndcg]...</td>\n",
       "      <td>rank_at  hitcounts   recall  precision     ...</td>\n",
       "      <td>[0.39137, 0.29927, 0.26121, 0.19764, 0.13043, ...</td>\n",
       "      <td>1297.272115</td>\n",
       "      <td>0.0005</td>\n",
       "      <td>256</td>\n",
       "      <td>[16, 32, 16, 8]</td>\n",
       "      <td>[0, 0, 0, 0]</td>\n",
       "      <td>[1e-06, 1e-06]</td>\n",
       "      <td>8</td>\n",
       "      <td>14</td>\n",
       "      <td>343771</td>\n",
       "      <td>4</td>\n",
       "      <td>../NeuMF_storage/NeuMF_ckpts_am_40k_GS_nolf_8/...</td>\n",
       "      <td>Adam</td>\n",
       "    </tr>\n",
       "    <tr>\n",
       "      <th>0</th>\n",
       "      <td>0.00050</td>\n",
       "      <td>0.20</td>\n",
       "      <td>[[rank_at, hitcounts, recall, precision, ndcg]...</td>\n",
       "      <td>rank_at  hitcounts   recall  precision     ...</td>\n",
       "      <td>[0.39054, 0.27743, 0.17942, 0.09415, 0.04726, ...</td>\n",
       "      <td>1452.158508</td>\n",
       "      <td>0.0005</td>\n",
       "      <td>256</td>\n",
       "      <td>[16, 32, 16, 8]</td>\n",
       "      <td>[0, 0, 0, 0]</td>\n",
       "      <td>[0, 0]</td>\n",
       "      <td>8</td>\n",
       "      <td>14</td>\n",
       "      <td>343771</td>\n",
       "      <td>4</td>\n",
       "      <td>../NeuMF_storage/NeuMF_ckpts_am_40k_GS_nolf_8/...</td>\n",
       "      <td>Adam</td>\n",
       "    </tr>\n",
       "    <tr>\n",
       "      <th>25</th>\n",
       "      <td>0.00050</td>\n",
       "      <td>0.19</td>\n",
       "      <td>[[rank_at, hitcounts, recall, precision, ndcg]...</td>\n",
       "      <td>rank_at  hitcounts   recall  precision     ...</td>\n",
       "      <td>[0.47627, 0.3586, 0.31724, 0.29511, 0.27938, 0...</td>\n",
       "      <td>1380.381760</td>\n",
       "      <td>0.0001</td>\n",
       "      <td>256</td>\n",
       "      <td>[16, 32, 16, 8]</td>\n",
       "      <td>[0, 0, 0, 0]</td>\n",
       "      <td>[1e-07, 1e-07]</td>\n",
       "      <td>8</td>\n",
       "      <td>14</td>\n",
       "      <td>343771</td>\n",
       "      <td>4</td>\n",
       "      <td>../NeuMF_storage/NeuMF_ckpts_am_40k_GS_nolf_8/...</td>\n",
       "      <td>Adam</td>\n",
       "    </tr>\n",
       "    <tr>\n",
       "      <th>7</th>\n",
       "      <td>0.00050</td>\n",
       "      <td>0.18</td>\n",
       "      <td>[[rank_at, hitcounts, recall, precision, ndcg]...</td>\n",
       "      <td>rank_at  hitcounts   recall  precision     ...</td>\n",
       "      <td>[0.37864, 0.2827, 0.18968, 0.10449, 0.05848, 0...</td>\n",
       "      <td>1181.830913</td>\n",
       "      <td>0.0005</td>\n",
       "      <td>256</td>\n",
       "      <td>[16, 32, 16, 8]</td>\n",
       "      <td>[1e-06, 1e-06, 1e-06, 1e-06]</td>\n",
       "      <td>[1e-07, 1e-07]</td>\n",
       "      <td>8</td>\n",
       "      <td>14</td>\n",
       "      <td>343771</td>\n",
       "      <td>4</td>\n",
       "      <td>../NeuMF_storage/NeuMF_ckpts_am_40k_GS_nolf_8/...</td>\n",
       "      <td>Adam</td>\n",
       "    </tr>\n",
       "    <tr>\n",
       "      <th>16</th>\n",
       "      <td>0.00050</td>\n",
       "      <td>0.18</td>\n",
       "      <td>[[rank_at, hitcounts, recall, precision, ndcg]...</td>\n",
       "      <td>rank_at  hitcounts   recall  precision     ...</td>\n",
       "      <td>[0.38222, 0.29125, 0.23971, 0.19128, 0.15348, ...</td>\n",
       "      <td>1291.349530</td>\n",
       "      <td>0.0005</td>\n",
       "      <td>256</td>\n",
       "      <td>[16, 32, 16, 8]</td>\n",
       "      <td>[1e-07, 1e-07, 1e-07, 1e-07]</td>\n",
       "      <td>[1e-05, 1e-05]</td>\n",
       "      <td>8</td>\n",
       "      <td>14</td>\n",
       "      <td>343771</td>\n",
       "      <td>4</td>\n",
       "      <td>../NeuMF_storage/NeuMF_ckpts_am_40k_GS_nolf_8/...</td>\n",
       "      <td>Adam</td>\n",
       "    </tr>\n",
       "    <tr>\n",
       "      <th>4</th>\n",
       "      <td>0.00025</td>\n",
       "      <td>0.06</td>\n",
       "      <td>[[rank_at, hitcounts, recall, precision, ndcg]...</td>\n",
       "      <td>rank_at  hitcounts   recall  precision     ...</td>\n",
       "      <td>[0.42034, 0.34607, 0.24362, 0.14479, 0.08593, ...</td>\n",
       "      <td>1318.998624</td>\n",
       "      <td>0.0005</td>\n",
       "      <td>256</td>\n",
       "      <td>[16, 32, 16, 8]</td>\n",
       "      <td>[0.0001, 0.0001, 0.0001, 0.0001]</td>\n",
       "      <td>[0, 0]</td>\n",
       "      <td>8</td>\n",
       "      <td>14</td>\n",
       "      <td>343771</td>\n",
       "      <td>4</td>\n",
       "      <td>../NeuMF_storage/NeuMF_ckpts_am_40k_GS_nolf_8/...</td>\n",
       "      <td>Adam</td>\n",
       "    </tr>\n",
       "    <tr>\n",
       "      <th>5</th>\n",
       "      <td>0.00025</td>\n",
       "      <td>0.17</td>\n",
       "      <td>[[rank_at, hitcounts, recall, precision, ndcg]...</td>\n",
       "      <td>rank_at  hitcounts   recall  precision     ...</td>\n",
       "      <td>[0.39062, 0.27657, 0.1671, 0.08177, 0.0407, 0....</td>\n",
       "      <td>1315.289560</td>\n",
       "      <td>0.0005</td>\n",
       "      <td>256</td>\n",
       "      <td>[16, 32, 16, 8]</td>\n",
       "      <td>[0, 0, 0, 0]</td>\n",
       "      <td>[1e-07, 1e-07]</td>\n",
       "      <td>8</td>\n",
       "      <td>14</td>\n",
       "      <td>343771</td>\n",
       "      <td>4</td>\n",
       "      <td>../NeuMF_storage/NeuMF_ckpts_am_40k_GS_nolf_8/...</td>\n",
       "      <td>Adam</td>\n",
       "    </tr>\n",
       "    <tr>\n",
       "      <th>3</th>\n",
       "      <td>0.00000</td>\n",
       "      <td>0.10</td>\n",
       "      <td>[[rank_at, hitcounts, recall, precision, ndcg]...</td>\n",
       "      <td>rank_at  hitcounts   recall  precision     ...</td>\n",
       "      <td>[0.38626, 0.31704, 0.23198, 0.13778, 0.07978, ...</td>\n",
       "      <td>1341.230591</td>\n",
       "      <td>0.0005</td>\n",
       "      <td>256</td>\n",
       "      <td>[16, 32, 16, 8]</td>\n",
       "      <td>[1e-05, 1e-05, 1e-05, 1e-05]</td>\n",
       "      <td>[0, 0]</td>\n",
       "      <td>8</td>\n",
       "      <td>14</td>\n",
       "      <td>343771</td>\n",
       "      <td>4</td>\n",
       "      <td>../NeuMF_storage/NeuMF_ckpts_am_40k_GS_nolf_8/...</td>\n",
       "      <td>Adam</td>\n",
       "    </tr>\n",
       "    <tr>\n",
       "      <th>2</th>\n",
       "      <td>0.00000</td>\n",
       "      <td>0.11</td>\n",
       "      <td>[[rank_at, hitcounts, recall, precision, ndcg]...</td>\n",
       "      <td>rank_at  hitcounts  recall  precision     n...</td>\n",
       "      <td>[0.37729, 0.27994, 0.18833, 0.10412, 0.05662, ...</td>\n",
       "      <td>1314.661029</td>\n",
       "      <td>0.0005</td>\n",
       "      <td>256</td>\n",
       "      <td>[16, 32, 16, 8]</td>\n",
       "      <td>[1e-06, 1e-06, 1e-06, 1e-06]</td>\n",
       "      <td>[0, 0]</td>\n",
       "      <td>8</td>\n",
       "      <td>14</td>\n",
       "      <td>343771</td>\n",
       "      <td>4</td>\n",
       "      <td>../NeuMF_storage/NeuMF_ckpts_am_40k_GS_nolf_8/...</td>\n",
       "      <td>Adam</td>\n",
       "    </tr>\n",
       "    <tr>\n",
       "      <th>1</th>\n",
       "      <td>0.00000</td>\n",
       "      <td>0.15</td>\n",
       "      <td>[[rank_at, hitcounts, recall, precision, ndcg]...</td>\n",
       "      <td>rank_at  hitcounts   recall  precision     ...</td>\n",
       "      <td>[0.38393, 0.27606, 0.17769, 0.09304, 0.04766, ...</td>\n",
       "      <td>1308.088411</td>\n",
       "      <td>0.0005</td>\n",
       "      <td>256</td>\n",
       "      <td>[16, 32, 16, 8]</td>\n",
       "      <td>[1e-07, 1e-07, 1e-07, 1e-07]</td>\n",
       "      <td>[0, 0]</td>\n",
       "      <td>8</td>\n",
       "      <td>14</td>\n",
       "      <td>343771</td>\n",
       "      <td>4</td>\n",
       "      <td>../NeuMF_storage/NeuMF_ckpts_am_40k_GS_nolf_8/...</td>\n",
       "      <td>Adam</td>\n",
       "    </tr>\n",
       "    <tr>\n",
       "      <th>19</th>\n",
       "      <td>0.00000</td>\n",
       "      <td>0.18</td>\n",
       "      <td>[[rank_at, hitcounts, recall, precision, ndcg]...</td>\n",
       "      <td>rank_at  hitcounts  recall  precision  ndcg...</td>\n",
       "      <td>[0.43933, 0.38189, 0.37258, 0.36332, 0.35978, ...</td>\n",
       "      <td>1344.139989</td>\n",
       "      <td>0.0005</td>\n",
       "      <td>256</td>\n",
       "      <td>[16, 32, 16, 8]</td>\n",
       "      <td>[0.0001, 0.0001, 0.0001, 0.0001]</td>\n",
       "      <td>[1e-05, 1e-05]</td>\n",
       "      <td>8</td>\n",
       "      <td>14</td>\n",
       "      <td>343771</td>\n",
       "      <td>4</td>\n",
       "      <td>../NeuMF_storage/NeuMF_ckpts_am_40k_GS_nolf_8/...</td>\n",
       "      <td>Adam</td>\n",
       "    </tr>\n",
       "    <tr>\n",
       "      <th>9</th>\n",
       "      <td>0.00000</td>\n",
       "      <td>0.18</td>\n",
       "      <td>[[rank_at, hitcounts, recall, precision, ndcg]...</td>\n",
       "      <td>rank_at  hitcounts   recall  precision     ...</td>\n",
       "      <td>[0.42455, 0.34811, 0.2375, 0.13129, 0.07723, 0...</td>\n",
       "      <td>1177.568690</td>\n",
       "      <td>0.0005</td>\n",
       "      <td>256</td>\n",
       "      <td>[16, 32, 16, 8]</td>\n",
       "      <td>[0.0001, 0.0001, 0.0001, 0.0001]</td>\n",
       "      <td>[1e-07, 1e-07]</td>\n",
       "      <td>8</td>\n",
       "      <td>14</td>\n",
       "      <td>343771</td>\n",
       "      <td>4</td>\n",
       "      <td>../NeuMF_storage/NeuMF_ckpts_am_40k_GS_nolf_8/...</td>\n",
       "      <td>Adam</td>\n",
       "    </tr>\n",
       "  </tbody>\n",
       "</table>\n",
       "</div>"
      ],
      "text/plain": [
       "    test_rec@10  100_sample_val_rec@10  \\\n",
       "22      0.01925                   0.19   \n",
       "20      0.01750                   0.19   \n",
       "24      0.00500                   0.18   \n",
       "23      0.00425                   0.15   \n",
       "32      0.00375                   0.17   \n",
       "29      0.00375                   0.18   \n",
       "27      0.00375                   0.14   \n",
       "34      0.00350                   0.17   \n",
       "39      0.00325                   0.17   \n",
       "31      0.00300                   0.16   \n",
       "26      0.00275                   0.16   \n",
       "37      0.00250                   0.19   \n",
       "36      0.00250                   0.15   \n",
       "28      0.00250                   0.14   \n",
       "6       0.00225                   0.22   \n",
       "18      0.00200                   0.13   \n",
       "33      0.00200                   0.14   \n",
       "12      0.00200                   0.18   \n",
       "30      0.00175                   0.17   \n",
       "11      0.00175                   0.18   \n",
       "13      0.00150                   0.17   \n",
       "14      0.00125                   0.13   \n",
       "15      0.00100                   0.18   \n",
       "17      0.00100                   0.16   \n",
       "38      0.00075                   0.13   \n",
       "21      0.00075                   0.16   \n",
       "8       0.00075                   0.19   \n",
       "35      0.00075                   0.18   \n",
       "10      0.00075                   0.18   \n",
       "0       0.00050                   0.20   \n",
       "25      0.00050                   0.19   \n",
       "7       0.00050                   0.18   \n",
       "16      0.00050                   0.18   \n",
       "4       0.00025                   0.06   \n",
       "5       0.00025                   0.17   \n",
       "3       0.00000                   0.10   \n",
       "2       0.00000                   0.11   \n",
       "1       0.00000                   0.15   \n",
       "19      0.00000                   0.18   \n",
       "9       0.00000                   0.18   \n",
       "\n",
       "                                          val_metrics  \\\n",
       "22  [[rank_at, hitcounts, recall, precision, ndcg]...   \n",
       "20  [[rank_at, hitcounts, recall, precision, ndcg]...   \n",
       "24  [[rank_at, hitcounts, recall, precision, ndcg]...   \n",
       "23  [[rank_at, hitcounts, recall, precision, ndcg]...   \n",
       "32  [[rank_at, hitcounts, recall, precision, ndcg]...   \n",
       "29  [[rank_at, hitcounts, recall, precision, ndcg]...   \n",
       "27  [[rank_at, hitcounts, recall, precision, ndcg]...   \n",
       "34  [[rank_at, hitcounts, recall, precision, ndcg]...   \n",
       "39  [[rank_at, hitcounts, recall, precision, ndcg]...   \n",
       "31  [[rank_at, hitcounts, recall, precision, ndcg]...   \n",
       "26  [[rank_at, hitcounts, recall, precision, ndcg]...   \n",
       "37  [[rank_at, hitcounts, recall, precision, ndcg]...   \n",
       "36  [[rank_at, hitcounts, recall, precision, ndcg]...   \n",
       "28  [[rank_at, hitcounts, recall, precision, ndcg]...   \n",
       "6   [[rank_at, hitcounts, recall, precision, ndcg]...   \n",
       "18  [[rank_at, hitcounts, recall, precision, ndcg]...   \n",
       "33  [[rank_at, hitcounts, recall, precision, ndcg]...   \n",
       "12  [[rank_at, hitcounts, recall, precision, ndcg]...   \n",
       "30  [[rank_at, hitcounts, recall, precision, ndcg]...   \n",
       "11  [[rank_at, hitcounts, recall, precision, ndcg]...   \n",
       "13  [[rank_at, hitcounts, recall, precision, ndcg]...   \n",
       "14  [[rank_at, hitcounts, recall, precision, ndcg]...   \n",
       "15  [[rank_at, hitcounts, recall, precision, ndcg]...   \n",
       "17  [[rank_at, hitcounts, recall, precision, ndcg]...   \n",
       "38  [[rank_at, hitcounts, recall, precision, ndcg]...   \n",
       "21  [[rank_at, hitcounts, recall, precision, ndcg]...   \n",
       "8   [[rank_at, hitcounts, recall, precision, ndcg]...   \n",
       "35  [[rank_at, hitcounts, recall, precision, ndcg]...   \n",
       "10  [[rank_at, hitcounts, recall, precision, ndcg]...   \n",
       "0   [[rank_at, hitcounts, recall, precision, ndcg]...   \n",
       "25  [[rank_at, hitcounts, recall, precision, ndcg]...   \n",
       "7   [[rank_at, hitcounts, recall, precision, ndcg]...   \n",
       "16  [[rank_at, hitcounts, recall, precision, ndcg]...   \n",
       "4   [[rank_at, hitcounts, recall, precision, ndcg]...   \n",
       "5   [[rank_at, hitcounts, recall, precision, ndcg]...   \n",
       "3   [[rank_at, hitcounts, recall, precision, ndcg]...   \n",
       "2   [[rank_at, hitcounts, recall, precision, ndcg]...   \n",
       "1   [[rank_at, hitcounts, recall, precision, ndcg]...   \n",
       "19  [[rank_at, hitcounts, recall, precision, ndcg]...   \n",
       "9   [[rank_at, hitcounts, recall, precision, ndcg]...   \n",
       "\n",
       "                                         test_metrics  \\\n",
       "22     rank_at  hitcounts   recall  precision     ...   \n",
       "20     rank_at  hitcounts   recall  precision     ...   \n",
       "24     rank_at  hitcounts   recall  precision     ...   \n",
       "23     rank_at  hitcounts   recall  precision     ...   \n",
       "32     rank_at  hitcounts   recall  precision     ...   \n",
       "29     rank_at  hitcounts   recall  precision     ...   \n",
       "27     rank_at  hitcounts   recall  precision     ...   \n",
       "34     rank_at  hitcounts   recall  precision     ...   \n",
       "39     rank_at  hitcounts   recall  precision     ...   \n",
       "31     rank_at  hitcounts   recall  precision     ...   \n",
       "26     rank_at  hitcounts   recall  precision     ...   \n",
       "37     rank_at  hitcounts   recall  precision     ...   \n",
       "36     rank_at  hitcounts   recall  precision     ...   \n",
       "28     rank_at  hitcounts   recall  precision     ...   \n",
       "6      rank_at  hitcounts   recall  precision     ...   \n",
       "18     rank_at  hitcounts   recall  precision     ...   \n",
       "33     rank_at  hitcounts   recall  precision     ...   \n",
       "12     rank_at  hitcounts   recall  precision     ...   \n",
       "30     rank_at  hitcounts   recall  precision     ...   \n",
       "11     rank_at  hitcounts   recall  precision     ...   \n",
       "13     rank_at  hitcounts   recall  precision     ...   \n",
       "14     rank_at  hitcounts   recall  precision     ...   \n",
       "15     rank_at  hitcounts   recall  precision     ...   \n",
       "17     rank_at  hitcounts  recall  precision      ...   \n",
       "38     rank_at  hitcounts   recall  precision     ...   \n",
       "21     rank_at  hitcounts   recall  precision     ...   \n",
       "8      rank_at  hitcounts   recall  precision     ...   \n",
       "35     rank_at  hitcounts   recall  precision     ...   \n",
       "10     rank_at  hitcounts   recall  precision     ...   \n",
       "0      rank_at  hitcounts   recall  precision     ...   \n",
       "25     rank_at  hitcounts   recall  precision     ...   \n",
       "7      rank_at  hitcounts   recall  precision     ...   \n",
       "16     rank_at  hitcounts   recall  precision     ...   \n",
       "4      rank_at  hitcounts   recall  precision     ...   \n",
       "5      rank_at  hitcounts   recall  precision     ...   \n",
       "3      rank_at  hitcounts   recall  precision     ...   \n",
       "2      rank_at  hitcounts  recall  precision     n...   \n",
       "1      rank_at  hitcounts   recall  precision     ...   \n",
       "19     rank_at  hitcounts  recall  precision  ndcg...   \n",
       "9      rank_at  hitcounts   recall  precision     ...   \n",
       "\n",
       "                                                 loss   train_time  \\\n",
       "22  [0.46384, 0.35846, 0.325, 0.30419, 0.28889, 0....  1294.881698   \n",
       "20  [0.46905, 0.37478, 0.33356, 0.31043, 0.29341, ...  1531.528490   \n",
       "24  [0.4719, 0.34554, 0.33859, 0.33644, 0.33247, 0...  1309.244294   \n",
       "23  [0.44882, 0.32616, 0.30709, 0.29683, 0.28878, ...  1301.970975   \n",
       "32  [0.45936, 0.33743, 0.30245, 0.28642, 0.27368, ...  1292.874761   \n",
       "29  [0.46322, 0.34414, 0.33903, 0.33794, 0.33611, ...  1176.265156   \n",
       "27  [0.46073, 0.33911, 0.30314, 0.28605, 0.27259, ...  1174.188863   \n",
       "34  [0.48317, 0.35098, 0.34229, 0.34012, 0.3387, 0...  1187.408793   \n",
       "39  [0.49545, 0.34924, 0.34031, 0.33898, 0.33764, ...  1175.592839   \n",
       "31  [0.46988, 0.35329, 0.31248, 0.29199, 0.27796, ...  1178.197947   \n",
       "26  [0.47401, 0.35386, 0.312, 0.28944, 0.27353, 0....  1175.224771   \n",
       "37  [0.46478, 0.33729, 0.3028, 0.28589, 0.27348, 0...  1182.954982   \n",
       "36  [0.47121, 0.35313, 0.31243, 0.29193, 0.27856, ...  1185.085481   \n",
       "28  [0.45042, 0.32833, 0.30946, 0.30101, 0.29323, ...  1179.037146   \n",
       "6   [0.38251, 0.27418, 0.16576, 0.08214, 0.0424, 0...  1216.533779   \n",
       "18  [0.38816, 0.33972, 0.33303, 0.31139, 0.27958, ...  1282.031513   \n",
       "33  [0.44956, 0.32816, 0.30805, 0.29845, 0.29291, ...  1182.739918   \n",
       "12  [0.38041, 0.30408, 0.26964, 0.21831, 0.16709, ...  1199.226444   \n",
       "30  [0.47201, 0.36148, 0.31779, 0.29534, 0.2807, 0...  1309.347570   \n",
       "11  [0.38285, 0.29069, 0.23663, 0.18033, 0.13667, ...  1184.930241   \n",
       "13  [0.3871, 0.33601, 0.31232, 0.25846, 0.19622, 0...  1288.758545   \n",
       "14  [0.44102, 0.37339, 0.32155, 0.23704, 0.1639, 0...  1338.150703   \n",
       "15  [0.39272, 0.29953, 0.27164, 0.24329, 0.21274, ...  1415.279730   \n",
       "17  [0.38011, 0.30039, 0.25712, 0.20066, 0.15503, ...  1275.981232   \n",
       "38  [0.45343, 0.3261, 0.30905, 0.30323, 0.29894, 0...  1185.710750   \n",
       "21  [0.46542, 0.35217, 0.31044, 0.28811, 0.27237, ...  1353.968495   \n",
       "8   [0.38737, 0.31832, 0.22754, 0.12946, 0.07421, ...  1176.436132   \n",
       "35  [0.47006, 0.3589, 0.31692, 0.29478, 0.2804, 0....  1305.260641   \n",
       "10  [0.39137, 0.29927, 0.26121, 0.19764, 0.13043, ...  1297.272115   \n",
       "0   [0.39054, 0.27743, 0.17942, 0.09415, 0.04726, ...  1452.158508   \n",
       "25  [0.47627, 0.3586, 0.31724, 0.29511, 0.27938, 0...  1380.381760   \n",
       "7   [0.37864, 0.2827, 0.18968, 0.10449, 0.05848, 0...  1181.830913   \n",
       "16  [0.38222, 0.29125, 0.23971, 0.19128, 0.15348, ...  1291.349530   \n",
       "4   [0.42034, 0.34607, 0.24362, 0.14479, 0.08593, ...  1318.998624   \n",
       "5   [0.39062, 0.27657, 0.1671, 0.08177, 0.0407, 0....  1315.289560   \n",
       "3   [0.38626, 0.31704, 0.23198, 0.13778, 0.07978, ...  1341.230591   \n",
       "2   [0.37729, 0.27994, 0.18833, 0.10412, 0.05662, ...  1314.661029   \n",
       "1   [0.38393, 0.27606, 0.17769, 0.09304, 0.04766, ...  1308.088411   \n",
       "19  [0.43933, 0.38189, 0.37258, 0.36332, 0.35978, ...  1344.139989   \n",
       "9   [0.42455, 0.34811, 0.2375, 0.13129, 0.07723, 0...  1177.568690   \n",
       "\n",
       "    learning_rate batch_size           layers  \\\n",
       "22         0.0001        256  [16, 32, 16, 8]   \n",
       "20         0.0001        256  [16, 32, 16, 8]   \n",
       "24         0.0001        256  [16, 32, 16, 8]   \n",
       "23         0.0001        256  [16, 32, 16, 8]   \n",
       "32         0.0001        256  [16, 32, 16, 8]   \n",
       "29         0.0001        256  [16, 32, 16, 8]   \n",
       "27         0.0001        256  [16, 32, 16, 8]   \n",
       "34         0.0001        256  [16, 32, 16, 8]   \n",
       "39         0.0001        256  [16, 32, 16, 8]   \n",
       "31         0.0001        256  [16, 32, 16, 8]   \n",
       "26         0.0001        256  [16, 32, 16, 8]   \n",
       "37         0.0001        256  [16, 32, 16, 8]   \n",
       "36         0.0001        256  [16, 32, 16, 8]   \n",
       "28         0.0001        256  [16, 32, 16, 8]   \n",
       "6          0.0005        256  [16, 32, 16, 8]   \n",
       "18         0.0005        256  [16, 32, 16, 8]   \n",
       "33         0.0001        256  [16, 32, 16, 8]   \n",
       "12         0.0005        256  [16, 32, 16, 8]   \n",
       "30         0.0001        256  [16, 32, 16, 8]   \n",
       "11         0.0005        256  [16, 32, 16, 8]   \n",
       "13         0.0005        256  [16, 32, 16, 8]   \n",
       "14         0.0005        256  [16, 32, 16, 8]   \n",
       "15         0.0005        256  [16, 32, 16, 8]   \n",
       "17         0.0005        256  [16, 32, 16, 8]   \n",
       "38         0.0001        256  [16, 32, 16, 8]   \n",
       "21         0.0001        256  [16, 32, 16, 8]   \n",
       "8          0.0005        256  [16, 32, 16, 8]   \n",
       "35         0.0001        256  [16, 32, 16, 8]   \n",
       "10         0.0005        256  [16, 32, 16, 8]   \n",
       "0          0.0005        256  [16, 32, 16, 8]   \n",
       "25         0.0001        256  [16, 32, 16, 8]   \n",
       "7          0.0005        256  [16, 32, 16, 8]   \n",
       "16         0.0005        256  [16, 32, 16, 8]   \n",
       "4          0.0005        256  [16, 32, 16, 8]   \n",
       "5          0.0005        256  [16, 32, 16, 8]   \n",
       "3          0.0005        256  [16, 32, 16, 8]   \n",
       "2          0.0005        256  [16, 32, 16, 8]   \n",
       "1          0.0005        256  [16, 32, 16, 8]   \n",
       "19         0.0005        256  [16, 32, 16, 8]   \n",
       "9          0.0005        256  [16, 32, 16, 8]   \n",
       "\n",
       "                          reg_layers          reg_mf nolf epochs sample_size  \\\n",
       "22      [1e-06, 1e-06, 1e-06, 1e-06]          [0, 0]    8     14      343771   \n",
       "20                      [0, 0, 0, 0]          [0, 0]    8     14      343771   \n",
       "24  [0.0001, 0.0001, 0.0001, 0.0001]          [0, 0]    8     14      343771   \n",
       "23      [1e-05, 1e-05, 1e-05, 1e-05]          [0, 0]    8     14      343771   \n",
       "32      [1e-06, 1e-06, 1e-06, 1e-06]  [1e-06, 1e-06]    8     14      343771   \n",
       "29  [0.0001, 0.0001, 0.0001, 0.0001]  [1e-07, 1e-07]    8     14      343771   \n",
       "27      [1e-06, 1e-06, 1e-06, 1e-06]  [1e-07, 1e-07]    8     14      343771   \n",
       "34  [0.0001, 0.0001, 0.0001, 0.0001]  [1e-06, 1e-06]    8     14      343771   \n",
       "39  [0.0001, 0.0001, 0.0001, 0.0001]  [1e-05, 1e-05]    8     14      343771   \n",
       "31      [1e-07, 1e-07, 1e-07, 1e-07]  [1e-06, 1e-06]    8     14      343771   \n",
       "26      [1e-07, 1e-07, 1e-07, 1e-07]  [1e-07, 1e-07]    8     14      343771   \n",
       "37      [1e-06, 1e-06, 1e-06, 1e-06]  [1e-05, 1e-05]    8     14      343771   \n",
       "36      [1e-07, 1e-07, 1e-07, 1e-07]  [1e-05, 1e-05]    8     14      343771   \n",
       "28      [1e-05, 1e-05, 1e-05, 1e-05]  [1e-07, 1e-07]    8     14      343771   \n",
       "6       [1e-07, 1e-07, 1e-07, 1e-07]  [1e-07, 1e-07]    8     14      343771   \n",
       "18      [1e-05, 1e-05, 1e-05, 1e-05]  [1e-05, 1e-05]    8     14      343771   \n",
       "33      [1e-05, 1e-05, 1e-05, 1e-05]  [1e-06, 1e-06]    8     14      343771   \n",
       "12      [1e-06, 1e-06, 1e-06, 1e-06]  [1e-06, 1e-06]    8     14      343771   \n",
       "30                      [0, 0, 0, 0]  [1e-06, 1e-06]    8     14      343771   \n",
       "11      [1e-07, 1e-07, 1e-07, 1e-07]  [1e-06, 1e-06]    8     14      343771   \n",
       "13      [1e-05, 1e-05, 1e-05, 1e-05]  [1e-06, 1e-06]    8     14      343771   \n",
       "14  [0.0001, 0.0001, 0.0001, 0.0001]  [1e-06, 1e-06]    8     14      343771   \n",
       "15                      [0, 0, 0, 0]  [1e-05, 1e-05]    8     14      343771   \n",
       "17      [1e-06, 1e-06, 1e-06, 1e-06]  [1e-05, 1e-05]    8     14      343771   \n",
       "38      [1e-05, 1e-05, 1e-05, 1e-05]  [1e-05, 1e-05]    8     14      343771   \n",
       "21      [1e-07, 1e-07, 1e-07, 1e-07]          [0, 0]    8     14      343771   \n",
       "8       [1e-05, 1e-05, 1e-05, 1e-05]  [1e-07, 1e-07]    8     14      343771   \n",
       "35                      [0, 0, 0, 0]  [1e-05, 1e-05]    8     14      343771   \n",
       "10                      [0, 0, 0, 0]  [1e-06, 1e-06]    8     14      343771   \n",
       "0                       [0, 0, 0, 0]          [0, 0]    8     14      343771   \n",
       "25                      [0, 0, 0, 0]  [1e-07, 1e-07]    8     14      343771   \n",
       "7       [1e-06, 1e-06, 1e-06, 1e-06]  [1e-07, 1e-07]    8     14      343771   \n",
       "16      [1e-07, 1e-07, 1e-07, 1e-07]  [1e-05, 1e-05]    8     14      343771   \n",
       "4   [0.0001, 0.0001, 0.0001, 0.0001]          [0, 0]    8     14      343771   \n",
       "5                       [0, 0, 0, 0]  [1e-07, 1e-07]    8     14      343771   \n",
       "3       [1e-05, 1e-05, 1e-05, 1e-05]          [0, 0]    8     14      343771   \n",
       "2       [1e-06, 1e-06, 1e-06, 1e-06]          [0, 0]    8     14      343771   \n",
       "1       [1e-07, 1e-07, 1e-07, 1e-07]          [0, 0]    8     14      343771   \n",
       "19  [0.0001, 0.0001, 0.0001, 0.0001]  [1e-05, 1e-05]    8     14      343771   \n",
       "9   [0.0001, 0.0001, 0.0001, 0.0001]  [1e-07, 1e-07]    8     14      343771   \n",
       "\n",
       "   num_neg                                           ckpt_dir optimizer  \n",
       "22       4  ../NeuMF_storage/NeuMF_ckpts_am_40k_GS_nolf_8/...      Adam  \n",
       "20       4  ../NeuMF_storage/NeuMF_ckpts_am_40k_GS_nolf_8/...      Adam  \n",
       "24       4  ../NeuMF_storage/NeuMF_ckpts_am_40k_GS_nolf_8/...      Adam  \n",
       "23       4  ../NeuMF_storage/NeuMF_ckpts_am_40k_GS_nolf_8/...      Adam  \n",
       "32       4  ../NeuMF_storage/NeuMF_ckpts_am_40k_GS_nolf_8/...      Adam  \n",
       "29       4  ../NeuMF_storage/NeuMF_ckpts_am_40k_GS_nolf_8/...      Adam  \n",
       "27       4  ../NeuMF_storage/NeuMF_ckpts_am_40k_GS_nolf_8/...      Adam  \n",
       "34       4  ../NeuMF_storage/NeuMF_ckpts_am_40k_GS_nolf_8/...      Adam  \n",
       "39       4  ../NeuMF_storage/NeuMF_ckpts_am_40k_GS_nolf_8/...      Adam  \n",
       "31       4  ../NeuMF_storage/NeuMF_ckpts_am_40k_GS_nolf_8/...      Adam  \n",
       "26       4  ../NeuMF_storage/NeuMF_ckpts_am_40k_GS_nolf_8/...      Adam  \n",
       "37       4  ../NeuMF_storage/NeuMF_ckpts_am_40k_GS_nolf_8/...      Adam  \n",
       "36       4  ../NeuMF_storage/NeuMF_ckpts_am_40k_GS_nolf_8/...      Adam  \n",
       "28       4  ../NeuMF_storage/NeuMF_ckpts_am_40k_GS_nolf_8/...      Adam  \n",
       "6        4  ../NeuMF_storage/NeuMF_ckpts_am_40k_GS_nolf_8/...      Adam  \n",
       "18       4  ../NeuMF_storage/NeuMF_ckpts_am_40k_GS_nolf_8/...      Adam  \n",
       "33       4  ../NeuMF_storage/NeuMF_ckpts_am_40k_GS_nolf_8/...      Adam  \n",
       "12       4  ../NeuMF_storage/NeuMF_ckpts_am_40k_GS_nolf_8/...      Adam  \n",
       "30       4  ../NeuMF_storage/NeuMF_ckpts_am_40k_GS_nolf_8/...      Adam  \n",
       "11       4  ../NeuMF_storage/NeuMF_ckpts_am_40k_GS_nolf_8/...      Adam  \n",
       "13       4  ../NeuMF_storage/NeuMF_ckpts_am_40k_GS_nolf_8/...      Adam  \n",
       "14       4  ../NeuMF_storage/NeuMF_ckpts_am_40k_GS_nolf_8/...      Adam  \n",
       "15       4  ../NeuMF_storage/NeuMF_ckpts_am_40k_GS_nolf_8/...      Adam  \n",
       "17       4  ../NeuMF_storage/NeuMF_ckpts_am_40k_GS_nolf_8/...      Adam  \n",
       "38       4  ../NeuMF_storage/NeuMF_ckpts_am_40k_GS_nolf_8/...      Adam  \n",
       "21       4  ../NeuMF_storage/NeuMF_ckpts_am_40k_GS_nolf_8/...      Adam  \n",
       "8        4  ../NeuMF_storage/NeuMF_ckpts_am_40k_GS_nolf_8/...      Adam  \n",
       "35       4  ../NeuMF_storage/NeuMF_ckpts_am_40k_GS_nolf_8/...      Adam  \n",
       "10       4  ../NeuMF_storage/NeuMF_ckpts_am_40k_GS_nolf_8/...      Adam  \n",
       "0        4  ../NeuMF_storage/NeuMF_ckpts_am_40k_GS_nolf_8/...      Adam  \n",
       "25       4  ../NeuMF_storage/NeuMF_ckpts_am_40k_GS_nolf_8/...      Adam  \n",
       "7        4  ../NeuMF_storage/NeuMF_ckpts_am_40k_GS_nolf_8/...      Adam  \n",
       "16       4  ../NeuMF_storage/NeuMF_ckpts_am_40k_GS_nolf_8/...      Adam  \n",
       "4        4  ../NeuMF_storage/NeuMF_ckpts_am_40k_GS_nolf_8/...      Adam  \n",
       "5        4  ../NeuMF_storage/NeuMF_ckpts_am_40k_GS_nolf_8/...      Adam  \n",
       "3        4  ../NeuMF_storage/NeuMF_ckpts_am_40k_GS_nolf_8/...      Adam  \n",
       "2        4  ../NeuMF_storage/NeuMF_ckpts_am_40k_GS_nolf_8/...      Adam  \n",
       "1        4  ../NeuMF_storage/NeuMF_ckpts_am_40k_GS_nolf_8/...      Adam  \n",
       "19       4  ../NeuMF_storage/NeuMF_ckpts_am_40k_GS_nolf_8/...      Adam  \n",
       "9        4  ../NeuMF_storage/NeuMF_ckpts_am_40k_GS_nolf_8/...      Adam  "
      ]
     },
     "execution_count": 94,
     "metadata": {},
     "output_type": "execute_result"
    }
   ],
   "source": [
    "pd.read_pickle(store_path + gs_result_name).sort_values('test_rec@10', ascending=False)"
   ]
  },
  {
   "cell_type": "markdown",
   "metadata": {},
   "source": [
    "---\n",
    "## NeuMF"
   ]
  },
  {
   "cell_type": "markdown",
   "metadata": {},
   "source": [
    "### Full set scores"
   ]
  },
  {
   "cell_type": "code",
   "execution_count": null,
   "metadata": {},
   "outputs": [],
   "source": [
    "%%time\n",
    "NeuMF_ranked_df_full = NCF.get_predictions('NeuMF', test_set)"
   ]
  },
  {
   "cell_type": "code",
   "execution_count": null,
   "metadata": {},
   "outputs": [],
   "source": [
    "from Evaluation import get_metrics\n",
    "get_metrics(NeuMF_ranked_df_full, steps, rank_at, stats=False)"
   ]
  },
  {
   "cell_type": "code",
   "execution_count": 40,
   "metadata": {},
   "outputs": [],
   "source": [
    "metrics_all_sample.to_pickle('../results/NCF/NCF_metrics_all_sample_am_40k')"
   ]
  },
  {
   "cell_type": "markdown",
   "metadata": {},
   "source": [
    "### Sample scores"
   ]
  },
  {
   "cell_type": "code",
   "execution_count": null,
   "metadata": {},
   "outputs": [],
   "source": [
    "%%time\n",
    "NeuMF_ranked_df = NCF.sample_prediction('NeuMF', train_set, test_set)"
   ]
  },
  {
   "cell_type": "code",
   "execution_count": null,
   "metadata": {},
   "outputs": [],
   "source": [
    "from Evaluation import get_metrics\n",
    "get_metrics(NeuMF_ranked_df, steps, rank_at, stats=False)"
   ]
  },
  {
   "cell_type": "markdown",
   "metadata": {},
   "source": [
    "---\n",
    "# Grid Search: GMF"
   ]
  },
  {
   "cell_type": "markdown",
   "metadata": {},
   "source": [
    "## Init"
   ]
  },
  {
   "cell_type": "code",
   "execution_count": 15,
   "metadata": {},
   "outputs": [],
   "source": [
    "from NCF import NCF\n",
    "NCF = NCF(total_users, total_items, GMF_params=GMF_params)\n",
    "NCF.build_GMF_model()\n",
    "\n",
    "# NCF.GMF_params['epochs'] = 10"
   ]
  },
  {
   "cell_type": "markdown",
   "metadata": {},
   "source": [
    "## Parameter Space"
   ]
  },
  {
   "cell_type": "code",
   "execution_count": 16,
   "metadata": {},
   "outputs": [
    {
     "data": {
      "text/plain": [
       "32"
      ]
     },
     "execution_count": 16,
     "metadata": {},
     "output_type": "execute_result"
    }
   ],
   "source": [
    "learning_rates = [0.005, 0.001, 0.0005, 0.0001]\n",
    "batch_sizes = [128, 256]\n",
    "regs = [[0.001, 0.001], [0.0001, 0.0001], [0.00001,0.00001], [0.000001,0.000001]]\n",
    "            \n",
    "total_runs = len(learning_rates) * len(batch_sizes) * len(regs)\n",
    "total_runs"
   ]
  },
  {
   "cell_type": "markdown",
   "metadata": {},
   "source": [
    "### Init eval params"
   ]
  },
  {
   "cell_type": "code",
   "execution_count": 17,
   "metadata": {},
   "outputs": [],
   "source": [
    "from Evaluation import get_metrics\n",
    "steps = 5\n",
    "rank_at = 20\n",
    "sample_len = 100"
   ]
  },
  {
   "cell_type": "markdown",
   "metadata": {},
   "source": [
    "## Init store results"
   ]
  },
  {
   "cell_type": "code",
   "execution_count": 3,
   "metadata": {},
   "outputs": [],
   "source": [
    "store_path = '../NeuMF_storage/GS/'\n",
    "gs_result_name = 'GS_GMF_with_reg_bs_128_256'\n",
    "storage_columns = ['test_rec@10', 'val_metrics', 'test_metrics', 'loss'] + list(GMF_params.keys()"
   ]
  },
  {
   "cell_type": "code",
   "execution_count": 20,
   "metadata": {},
   "outputs": [],
   "source": [
    "gs_results = pd.DataFrame(columns=storage_columns)\n",
    "gs_results.to_pickle(store_path + gs_result_name)"
   ]
  },
  {
   "cell_type": "markdown",
   "metadata": {},
   "source": [
    "## Run Grid Search"
   ]
  },
  {
   "cell_type": "code",
   "execution_count": 21,
   "metadata": {},
   "outputs": [
    {
     "name": "stdout",
     "output_type": "stream",
     "text": [
      "\n",
      " ==================================================\n",
      "run 0/32\n",
      "Train on 4970845 samples\n"
     ]
    },
    {
     "name": "stderr",
     "output_type": "stream",
     "text": [
      "/usr/local/lib/python3.6/dist-packages/tensorflow_core/python/framework/indexed_slices.py:433: UserWarning: Converting sparse IndexedSlices to a dense Tensor of unknown shape. This may consume a large amount of memory.\n",
      "  \"Converting sparse IndexedSlices to a dense Tensor of unknown shape. \"\n",
      "/usr/local/lib/python3.6/dist-packages/tensorflow_core/python/framework/indexed_slices.py:433: UserWarning: Converting sparse IndexedSlices to a dense Tensor of unknown shape. This may consume a large amount of memory.\n",
      "  \"Converting sparse IndexedSlices to a dense Tensor of unknown shape. \"\n"
     ]
    },
    {
     "name": "stdout",
     "output_type": "stream",
     "text": [
      "4970845/4970845 - 125s - loss: 0.5010\n"
     ]
    },
    {
     "name": "stderr",
     "output_type": "stream",
     "text": [
      "100% |########################################################################|\n"
     ]
    },
    {
     "name": "stdout",
     "output_type": "stream",
     "text": [
      "Train on 4970845 samples\n",
      "4970845/4970845 - 124s - loss: 0.5004\n",
      "Train on 4970845 samples\n",
      "4970845/4970845 - 124s - loss: 0.5004\n"
     ]
    },
    {
     "name": "stderr",
     "output_type": "stream",
     "text": [
      "100% |########################################################################|\n"
     ]
    },
    {
     "name": "stdout",
     "output_type": "stream",
     "text": [
      "Train on 4970845 samples\n",
      "4970845/4970845 - 124s - loss: 0.5004\n",
      "Train on 4970845 samples\n",
      "4970845/4970845 - 124s - loss: 0.5004\n"
     ]
    },
    {
     "name": "stderr",
     "output_type": "stream",
     "text": [
      "100% |########################################################################|\n"
     ]
    },
    {
     "name": "stdout",
     "output_type": "stream",
     "text": [
      "Train on 4970845 samples\n",
      "4970845/4970845 - 124s - loss: 0.5004\n",
      "Train on 4970845 samples\n",
      "4970845/4970845 - 124s - loss: 0.5004\n"
     ]
    },
    {
     "name": "stderr",
     "output_type": "stream",
     "text": [
      "100% |########################################################################|\n"
     ]
    },
    {
     "name": "stdout",
     "output_type": "stream",
     "text": [
      "Train on 4970845 samples\n",
      "4970845/4970845 - 124s - loss: 0.5004\n",
      "Train on 4970845 samples\n",
      "4970845/4970845 - 124s - loss: 0.5004\n"
     ]
    },
    {
     "name": "stderr",
     "output_type": "stream",
     "text": [
      "100% |########################################################################|\n"
     ]
    },
    {
     "name": "stdout",
     "output_type": "stream",
     "text": [
      "Train on 4970845 samples\n",
      "4970845/4970845 - 124s - loss: 0.5004\n"
     ]
    },
    {
     "name": "stderr",
     "output_type": "stream",
     "text": [
      "100% |########################################################################|\n"
     ]
    },
    {
     "name": "stdout",
     "output_type": "stream",
     "text": [
      "\n",
      " ==================================================\n",
      "run 1/32\n",
      "Train on 4970845 samples\n"
     ]
    },
    {
     "name": "stderr",
     "output_type": "stream",
     "text": [
      "/usr/local/lib/python3.6/dist-packages/tensorflow_core/python/framework/indexed_slices.py:433: UserWarning: Converting sparse IndexedSlices to a dense Tensor of unknown shape. This may consume a large amount of memory.\n",
      "  \"Converting sparse IndexedSlices to a dense Tensor of unknown shape. \"\n",
      "/usr/local/lib/python3.6/dist-packages/tensorflow_core/python/framework/indexed_slices.py:433: UserWarning: Converting sparse IndexedSlices to a dense Tensor of unknown shape. This may consume a large amount of memory.\n",
      "  \"Converting sparse IndexedSlices to a dense Tensor of unknown shape. \"\n"
     ]
    },
    {
     "name": "stdout",
     "output_type": "stream",
     "text": [
      "4970845/4970845 - 124s - loss: 0.4334\n"
     ]
    },
    {
     "name": "stderr",
     "output_type": "stream",
     "text": [
      "100% |########################################################################|\n"
     ]
    },
    {
     "name": "stdout",
     "output_type": "stream",
     "text": [
      "Train on 4970845 samples\n",
      "4970845/4970845 - 124s - loss: 0.4071\n",
      "Train on 4970845 samples\n",
      "4970845/4970845 - 125s - loss: 0.4069\n"
     ]
    },
    {
     "name": "stderr",
     "output_type": "stream",
     "text": [
      "100% |########################################################################|\n"
     ]
    },
    {
     "name": "stdout",
     "output_type": "stream",
     "text": [
      "Train on 4970845 samples\n",
      "4970845/4970845 - 124s - loss: 0.4068\n",
      "Train on 4970845 samples\n",
      "4970845/4970845 - 124s - loss: 0.4070\n"
     ]
    },
    {
     "name": "stderr",
     "output_type": "stream",
     "text": [
      "100% |########################################################################|\n"
     ]
    },
    {
     "name": "stdout",
     "output_type": "stream",
     "text": [
      "Train on 4970845 samples\n",
      "4970845/4970845 - 125s - loss: 0.4070\n",
      "Train on 4970845 samples\n",
      "4970845/4970845 - 124s - loss: 0.4069\n"
     ]
    },
    {
     "name": "stderr",
     "output_type": "stream",
     "text": [
      "100% |########################################################################|\n"
     ]
    },
    {
     "name": "stdout",
     "output_type": "stream",
     "text": [
      "Train on 4970845 samples\n",
      "4970845/4970845 - 125s - loss: 0.4069\n",
      "Train on 4970845 samples\n",
      "4970845/4970845 - 124s - loss: 0.4068\n"
     ]
    },
    {
     "name": "stderr",
     "output_type": "stream",
     "text": [
      "100% |########################################################################|\n"
     ]
    },
    {
     "name": "stdout",
     "output_type": "stream",
     "text": [
      "Train on 4970845 samples\n",
      "4970845/4970845 - 124s - loss: 0.4069\n"
     ]
    },
    {
     "name": "stderr",
     "output_type": "stream",
     "text": [
      "100% |########################################################################|\n"
     ]
    },
    {
     "name": "stdout",
     "output_type": "stream",
     "text": [
      "\n",
      " ==================================================\n",
      "run 2/32\n",
      "Train on 4970845 samples\n"
     ]
    },
    {
     "name": "stderr",
     "output_type": "stream",
     "text": [
      "/usr/local/lib/python3.6/dist-packages/tensorflow_core/python/framework/indexed_slices.py:433: UserWarning: Converting sparse IndexedSlices to a dense Tensor of unknown shape. This may consume a large amount of memory.\n",
      "  \"Converting sparse IndexedSlices to a dense Tensor of unknown shape. \"\n",
      "/usr/local/lib/python3.6/dist-packages/tensorflow_core/python/framework/indexed_slices.py:433: UserWarning: Converting sparse IndexedSlices to a dense Tensor of unknown shape. This may consume a large amount of memory.\n",
      "  \"Converting sparse IndexedSlices to a dense Tensor of unknown shape. \"\n"
     ]
    },
    {
     "name": "stdout",
     "output_type": "stream",
     "text": [
      "4970845/4970845 - 126s - loss: 0.3336\n"
     ]
    },
    {
     "name": "stderr",
     "output_type": "stream",
     "text": [
      "100% |########################################################################|\n"
     ]
    },
    {
     "name": "stdout",
     "output_type": "stream",
     "text": [
      "Train on 4970845 samples\n",
      "4970845/4970845 - 125s - loss: 0.3060\n",
      "Train on 4970845 samples\n",
      "4970845/4970845 - 125s - loss: 0.3031\n"
     ]
    },
    {
     "name": "stderr",
     "output_type": "stream",
     "text": [
      "100% |########################################################################|\n"
     ]
    },
    {
     "name": "stdout",
     "output_type": "stream",
     "text": [
      "Train on 4970845 samples\n",
      "4970845/4970845 - 125s - loss: 0.3024\n",
      "Train on 4970845 samples\n",
      "4970845/4970845 - 125s - loss: 0.3020\n"
     ]
    },
    {
     "name": "stderr",
     "output_type": "stream",
     "text": [
      "100% |########################################################################|\n"
     ]
    },
    {
     "name": "stdout",
     "output_type": "stream",
     "text": [
      "Train on 4970845 samples\n",
      "4970845/4970845 - 125s - loss: 0.3020\n",
      "Train on 4970845 samples\n",
      "4970845/4970845 - 125s - loss: 0.3019\n"
     ]
    },
    {
     "name": "stderr",
     "output_type": "stream",
     "text": [
      "100% |########################################################################|\n"
     ]
    },
    {
     "name": "stdout",
     "output_type": "stream",
     "text": [
      "Train on 4970845 samples\n",
      "4970845/4970845 - 125s - loss: 0.3017\n",
      "Train on 4970845 samples\n",
      "4970845/4970845 - 125s - loss: 0.3017\n"
     ]
    },
    {
     "name": "stderr",
     "output_type": "stream",
     "text": [
      "100% |########################################################################|\n"
     ]
    },
    {
     "name": "stdout",
     "output_type": "stream",
     "text": [
      "Train on 4970845 samples\n",
      "4970845/4970845 - 124s - loss: 0.3017\n"
     ]
    },
    {
     "name": "stderr",
     "output_type": "stream",
     "text": [
      "100% |########################################################################|\n"
     ]
    },
    {
     "name": "stdout",
     "output_type": "stream",
     "text": [
      "\n",
      " ==================================================\n",
      "run 3/32\n",
      "Train on 4970845 samples\n"
     ]
    },
    {
     "name": "stderr",
     "output_type": "stream",
     "text": [
      "/usr/local/lib/python3.6/dist-packages/tensorflow_core/python/framework/indexed_slices.py:433: UserWarning: Converting sparse IndexedSlices to a dense Tensor of unknown shape. This may consume a large amount of memory.\n",
      "  \"Converting sparse IndexedSlices to a dense Tensor of unknown shape. \"\n",
      "/usr/local/lib/python3.6/dist-packages/tensorflow_core/python/framework/indexed_slices.py:433: UserWarning: Converting sparse IndexedSlices to a dense Tensor of unknown shape. This may consume a large amount of memory.\n",
      "  \"Converting sparse IndexedSlices to a dense Tensor of unknown shape. \"\n"
     ]
    },
    {
     "name": "stdout",
     "output_type": "stream",
     "text": [
      "4970845/4970845 - 125s - loss: 0.2778\n"
     ]
    },
    {
     "name": "stderr",
     "output_type": "stream",
     "text": [
      "100% |########################################################################|\n"
     ]
    },
    {
     "name": "stdout",
     "output_type": "stream",
     "text": [
      "Train on 4970845 samples\n",
      "4970845/4970845 - 125s - loss: 0.2329\n",
      "Train on 4970845 samples\n",
      "4970845/4970845 - 124s - loss: 0.2243\n"
     ]
    },
    {
     "name": "stderr",
     "output_type": "stream",
     "text": [
      "100% |########################################################################|\n"
     ]
    },
    {
     "name": "stdout",
     "output_type": "stream",
     "text": [
      "Train on 4970845 samples\n",
      "4970845/4970845 - 125s - loss: 0.2205\n",
      "Train on 4970845 samples\n",
      "4970845/4970845 - 125s - loss: 0.2184\n"
     ]
    },
    {
     "name": "stderr",
     "output_type": "stream",
     "text": [
      "100% |########################################################################|\n"
     ]
    },
    {
     "name": "stdout",
     "output_type": "stream",
     "text": [
      "Train on 4970845 samples\n",
      "4970845/4970845 - 124s - loss: 0.2172\n",
      "Train on 4970845 samples\n",
      "4970845/4970845 - 125s - loss: 0.2166\n"
     ]
    },
    {
     "name": "stderr",
     "output_type": "stream",
     "text": [
      "100% |########################################################################|\n"
     ]
    },
    {
     "name": "stdout",
     "output_type": "stream",
     "text": [
      "Train on 4970845 samples\n",
      "4970845/4970845 - 124s - loss: 0.2156\n",
      "Train on 4970845 samples\n",
      "4970845/4970845 - 124s - loss: 0.2152\n"
     ]
    },
    {
     "name": "stderr",
     "output_type": "stream",
     "text": [
      "100% |########################################################################|\n"
     ]
    },
    {
     "name": "stdout",
     "output_type": "stream",
     "text": [
      "Train on 4970845 samples\n",
      "4970845/4970845 - 125s - loss: 0.2147\n"
     ]
    },
    {
     "name": "stderr",
     "output_type": "stream",
     "text": [
      "100% |########################################################################|\n"
     ]
    },
    {
     "name": "stdout",
     "output_type": "stream",
     "text": [
      "\n",
      " ==================================================\n",
      "run 4/32\n",
      "Train on 4970845 samples\n"
     ]
    },
    {
     "name": "stderr",
     "output_type": "stream",
     "text": [
      "/usr/local/lib/python3.6/dist-packages/tensorflow_core/python/framework/indexed_slices.py:433: UserWarning: Converting sparse IndexedSlices to a dense Tensor of unknown shape. This may consume a large amount of memory.\n",
      "  \"Converting sparse IndexedSlices to a dense Tensor of unknown shape. \"\n",
      "/usr/local/lib/python3.6/dist-packages/tensorflow_core/python/framework/indexed_slices.py:433: UserWarning: Converting sparse IndexedSlices to a dense Tensor of unknown shape. This may consume a large amount of memory.\n",
      "  \"Converting sparse IndexedSlices to a dense Tensor of unknown shape. \"\n"
     ]
    },
    {
     "name": "stdout",
     "output_type": "stream",
     "text": [
      "4970845/4970845 - 66s - loss: 0.5015\n"
     ]
    },
    {
     "name": "stderr",
     "output_type": "stream",
     "text": [
      "100% |########################################################################|\n"
     ]
    },
    {
     "name": "stdout",
     "output_type": "stream",
     "text": [
      "Train on 4970845 samples\n",
      "4970845/4970845 - 63s - loss: 0.5004\n",
      "Train on 4970845 samples\n",
      "4970845/4970845 - 62s - loss: 0.5004\n"
     ]
    },
    {
     "name": "stderr",
     "output_type": "stream",
     "text": [
      "100% |########################################################################|\n"
     ]
    },
    {
     "name": "stdout",
     "output_type": "stream",
     "text": [
      "Train on 4970845 samples\n",
      "4970845/4970845 - 63s - loss: 0.5004\n",
      "Train on 4970845 samples\n",
      "4970845/4970845 - 63s - loss: 0.5004\n"
     ]
    },
    {
     "name": "stderr",
     "output_type": "stream",
     "text": [
      "100% |########################################################################|\n"
     ]
    },
    {
     "name": "stdout",
     "output_type": "stream",
     "text": [
      "Train on 4970845 samples\n",
      "4970845/4970845 - 63s - loss: 0.5004\n",
      "Train on 4970845 samples\n",
      "4970845/4970845 - 63s - loss: 0.5004\n"
     ]
    },
    {
     "name": "stderr",
     "output_type": "stream",
     "text": [
      "100% |########################################################################|\n"
     ]
    },
    {
     "name": "stdout",
     "output_type": "stream",
     "text": [
      "Train on 4970845 samples\n",
      "4970845/4970845 - 63s - loss: 0.5004\n",
      "Train on 4970845 samples\n",
      "4970845/4970845 - 63s - loss: 0.5004\n"
     ]
    },
    {
     "name": "stderr",
     "output_type": "stream",
     "text": [
      "100% |########################################################################|\n"
     ]
    },
    {
     "name": "stdout",
     "output_type": "stream",
     "text": [
      "Train on 4970845 samples\n",
      "4970845/4970845 - 63s - loss: 0.5004\n"
     ]
    },
    {
     "name": "stderr",
     "output_type": "stream",
     "text": [
      "100% |########################################################################|\n"
     ]
    },
    {
     "name": "stdout",
     "output_type": "stream",
     "text": [
      "\n",
      " ==================================================\n",
      "run 5/32\n",
      "Train on 4970845 samples\n"
     ]
    },
    {
     "name": "stderr",
     "output_type": "stream",
     "text": [
      "/usr/local/lib/python3.6/dist-packages/tensorflow_core/python/framework/indexed_slices.py:433: UserWarning: Converting sparse IndexedSlices to a dense Tensor of unknown shape. This may consume a large amount of memory.\n",
      "  \"Converting sparse IndexedSlices to a dense Tensor of unknown shape. \"\n",
      "/usr/local/lib/python3.6/dist-packages/tensorflow_core/python/framework/indexed_slices.py:433: UserWarning: Converting sparse IndexedSlices to a dense Tensor of unknown shape. This may consume a large amount of memory.\n",
      "  \"Converting sparse IndexedSlices to a dense Tensor of unknown shape. \"\n"
     ]
    },
    {
     "name": "stdout",
     "output_type": "stream",
     "text": [
      "4970845/4970845 - 63s - loss: 0.4349\n"
     ]
    },
    {
     "name": "stderr",
     "output_type": "stream",
     "text": [
      "100% |########################################################################|\n"
     ]
    },
    {
     "name": "stdout",
     "output_type": "stream",
     "text": [
      "Train on 4970845 samples\n",
      "4970845/4970845 - 63s - loss: 0.3924\n",
      "Train on 4970845 samples\n",
      "4970845/4970845 - 63s - loss: 0.3889\n"
     ]
    },
    {
     "name": "stderr",
     "output_type": "stream",
     "text": [
      "100% |########################################################################|\n"
     ]
    },
    {
     "name": "stdout",
     "output_type": "stream",
     "text": [
      "Train on 4970845 samples\n",
      "4970845/4970845 - 63s - loss: 0.3871\n",
      "Train on 4970845 samples\n",
      "4970845/4970845 - 63s - loss: 0.3867\n"
     ]
    },
    {
     "name": "stderr",
     "output_type": "stream",
     "text": [
      "100% |########################################################################|\n"
     ]
    },
    {
     "name": "stdout",
     "output_type": "stream",
     "text": [
      "Train on 4970845 samples\n",
      "4970845/4970845 - 62s - loss: 0.3868\n",
      "Train on 4970845 samples\n",
      "4970845/4970845 - 62s - loss: 0.3868\n"
     ]
    },
    {
     "name": "stderr",
     "output_type": "stream",
     "text": [
      "100% |########################################################################|\n"
     ]
    },
    {
     "name": "stdout",
     "output_type": "stream",
     "text": [
      "Train on 4970845 samples\n",
      "4970845/4970845 - 62s - loss: 0.3867\n",
      "Train on 4970845 samples\n",
      "4970845/4970845 - 63s - loss: 0.3867\n"
     ]
    },
    {
     "name": "stderr",
     "output_type": "stream",
     "text": [
      "100% |########################################################################|\n"
     ]
    },
    {
     "name": "stdout",
     "output_type": "stream",
     "text": [
      "Train on 4970845 samples\n",
      "4970845/4970845 - 63s - loss: 0.3869\n"
     ]
    },
    {
     "name": "stderr",
     "output_type": "stream",
     "text": [
      "100% |########################################################################|\n"
     ]
    },
    {
     "name": "stdout",
     "output_type": "stream",
     "text": [
      "\n",
      " ==================================================\n",
      "run 6/32\n",
      "Train on 4970845 samples\n"
     ]
    },
    {
     "name": "stderr",
     "output_type": "stream",
     "text": [
      "/usr/local/lib/python3.6/dist-packages/tensorflow_core/python/framework/indexed_slices.py:433: UserWarning: Converting sparse IndexedSlices to a dense Tensor of unknown shape. This may consume a large amount of memory.\n",
      "  \"Converting sparse IndexedSlices to a dense Tensor of unknown shape. \"\n",
      "/usr/local/lib/python3.6/dist-packages/tensorflow_core/python/framework/indexed_slices.py:433: UserWarning: Converting sparse IndexedSlices to a dense Tensor of unknown shape. This may consume a large amount of memory.\n",
      "  \"Converting sparse IndexedSlices to a dense Tensor of unknown shape. \"\n"
     ]
    },
    {
     "name": "stdout",
     "output_type": "stream",
     "text": [
      "4970845/4970845 - 63s - loss: 0.3221\n"
     ]
    },
    {
     "name": "stderr",
     "output_type": "stream",
     "text": [
      "100% |########################################################################|\n"
     ]
    },
    {
     "name": "stdout",
     "output_type": "stream",
     "text": [
      "Train on 4970845 samples\n",
      "4970845/4970845 - 63s - loss: 0.2873\n",
      "Train on 4970845 samples\n",
      "4970845/4970845 - 63s - loss: 0.2825\n"
     ]
    },
    {
     "name": "stderr",
     "output_type": "stream",
     "text": [
      "100% |########################################################################|\n"
     ]
    },
    {
     "name": "stdout",
     "output_type": "stream",
     "text": [
      "Train on 4970845 samples\n",
      "4970845/4970845 - 63s - loss: 0.2812\n",
      "Train on 4970845 samples\n",
      "4970845/4970845 - 63s - loss: 0.2807\n"
     ]
    },
    {
     "name": "stderr",
     "output_type": "stream",
     "text": [
      "100% |########################################################################|\n"
     ]
    },
    {
     "name": "stdout",
     "output_type": "stream",
     "text": [
      "Train on 4970845 samples\n",
      "4970845/4970845 - 63s - loss: 0.2802\n",
      "Train on 4970845 samples\n",
      "4970845/4970845 - 63s - loss: 0.2800\n"
     ]
    },
    {
     "name": "stderr",
     "output_type": "stream",
     "text": [
      "100% |########################################################################|\n"
     ]
    },
    {
     "name": "stdout",
     "output_type": "stream",
     "text": [
      "Train on 4970845 samples\n",
      "4970845/4970845 - 63s - loss: 0.2797\n",
      "Train on 4970845 samples\n",
      "4970845/4970845 - 63s - loss: 0.2797\n"
     ]
    },
    {
     "name": "stderr",
     "output_type": "stream",
     "text": [
      "100% |########################################################################|\n"
     ]
    },
    {
     "name": "stdout",
     "output_type": "stream",
     "text": [
      "Train on 4970845 samples\n",
      "4970845/4970845 - 62s - loss: 0.2796\n"
     ]
    },
    {
     "name": "stderr",
     "output_type": "stream",
     "text": [
      "100% |########################################################################|\n"
     ]
    },
    {
     "name": "stdout",
     "output_type": "stream",
     "text": [
      "\n",
      " ==================================================\n",
      "run 7/32\n",
      "Train on 4970845 samples\n"
     ]
    },
    {
     "name": "stderr",
     "output_type": "stream",
     "text": [
      "/usr/local/lib/python3.6/dist-packages/tensorflow_core/python/framework/indexed_slices.py:433: UserWarning: Converting sparse IndexedSlices to a dense Tensor of unknown shape. This may consume a large amount of memory.\n",
      "  \"Converting sparse IndexedSlices to a dense Tensor of unknown shape. \"\n",
      "/usr/local/lib/python3.6/dist-packages/tensorflow_core/python/framework/indexed_slices.py:433: UserWarning: Converting sparse IndexedSlices to a dense Tensor of unknown shape. This may consume a large amount of memory.\n",
      "  \"Converting sparse IndexedSlices to a dense Tensor of unknown shape. \"\n"
     ]
    },
    {
     "name": "stdout",
     "output_type": "stream",
     "text": [
      "4970845/4970845 - 63s - loss: 0.2669\n"
     ]
    },
    {
     "name": "stderr",
     "output_type": "stream",
     "text": [
      "100% |########################################################################|\n"
     ]
    },
    {
     "name": "stdout",
     "output_type": "stream",
     "text": [
      "Train on 4970845 samples\n",
      "4970845/4970845 - 63s - loss: 0.2150\n",
      "Train on 4970845 samples\n",
      "4970845/4970845 - 63s - loss: 0.2050\n"
     ]
    },
    {
     "name": "stderr",
     "output_type": "stream",
     "text": [
      "100% |########################################################################|\n"
     ]
    },
    {
     "name": "stdout",
     "output_type": "stream",
     "text": [
      "Train on 4970845 samples\n",
      "4970845/4970845 - 62s - loss: 0.2001\n",
      "Train on 4970845 samples\n",
      "4970845/4970845 - 63s - loss: 0.1970\n"
     ]
    },
    {
     "name": "stderr",
     "output_type": "stream",
     "text": [
      "100% |########################################################################|\n"
     ]
    },
    {
     "name": "stdout",
     "output_type": "stream",
     "text": [
      "Train on 4970845 samples\n",
      "4970845/4970845 - 63s - loss: 0.1949\n",
      "Train on 4970845 samples\n",
      "4970845/4970845 - 63s - loss: 0.1935\n"
     ]
    },
    {
     "name": "stderr",
     "output_type": "stream",
     "text": [
      "100% |########################################################################|\n"
     ]
    },
    {
     "name": "stdout",
     "output_type": "stream",
     "text": [
      "Train on 4970845 samples\n",
      "4970845/4970845 - 63s - loss: 0.1922\n",
      "Train on 4970845 samples\n",
      "4970845/4970845 - 63s - loss: 0.1912\n"
     ]
    },
    {
     "name": "stderr",
     "output_type": "stream",
     "text": [
      "100% |########################################################################|\n"
     ]
    },
    {
     "name": "stdout",
     "output_type": "stream",
     "text": [
      "Train on 4970845 samples\n",
      "4970845/4970845 - 63s - loss: 0.1905\n"
     ]
    },
    {
     "name": "stderr",
     "output_type": "stream",
     "text": [
      "100% |########################################################################|\n"
     ]
    },
    {
     "name": "stdout",
     "output_type": "stream",
     "text": [
      "\n",
      " ==================================================\n",
      "run 8/32\n",
      "Train on 4970845 samples\n"
     ]
    },
    {
     "name": "stderr",
     "output_type": "stream",
     "text": [
      "/usr/local/lib/python3.6/dist-packages/tensorflow_core/python/framework/indexed_slices.py:433: UserWarning: Converting sparse IndexedSlices to a dense Tensor of unknown shape. This may consume a large amount of memory.\n",
      "  \"Converting sparse IndexedSlices to a dense Tensor of unknown shape. \"\n",
      "/usr/local/lib/python3.6/dist-packages/tensorflow_core/python/framework/indexed_slices.py:433: UserWarning: Converting sparse IndexedSlices to a dense Tensor of unknown shape. This may consume a large amount of memory.\n",
      "  \"Converting sparse IndexedSlices to a dense Tensor of unknown shape. \"\n"
     ]
    },
    {
     "name": "stdout",
     "output_type": "stream",
     "text": [
      "4970845/4970845 - 125s - loss: 0.5031\n"
     ]
    },
    {
     "name": "stderr",
     "output_type": "stream",
     "text": [
      "100% |########################################################################|\n"
     ]
    },
    {
     "name": "stdout",
     "output_type": "stream",
     "text": [
      "Train on 4970845 samples\n",
      "4970845/4970845 - 124s - loss: 0.5004\n",
      "Train on 4970845 samples\n",
      "4970845/4970845 - 125s - loss: 0.5004\n"
     ]
    },
    {
     "name": "stderr",
     "output_type": "stream",
     "text": [
      "100% |########################################################################|\n"
     ]
    },
    {
     "name": "stdout",
     "output_type": "stream",
     "text": [
      "Train on 4970845 samples\n",
      "4970845/4970845 - 124s - loss: 0.5004\n",
      "Train on 4970845 samples\n",
      "4970845/4970845 - 125s - loss: 0.5004\n"
     ]
    },
    {
     "name": "stderr",
     "output_type": "stream",
     "text": [
      "100% |########################################################################|\n"
     ]
    },
    {
     "name": "stdout",
     "output_type": "stream",
     "text": [
      "Train on 4970845 samples\n",
      "4970845/4970845 - 125s - loss: 0.5004\n",
      "Train on 4970845 samples\n",
      "4970845/4970845 - 125s - loss: 0.5004\n"
     ]
    },
    {
     "name": "stderr",
     "output_type": "stream",
     "text": [
      "100% |########################################################################|\n"
     ]
    },
    {
     "name": "stdout",
     "output_type": "stream",
     "text": [
      "Train on 4970845 samples\n",
      "4970845/4970845 - 125s - loss: 0.5004\n",
      "Train on 4970845 samples\n",
      "4970845/4970845 - 125s - loss: 0.5004\n"
     ]
    },
    {
     "name": "stderr",
     "output_type": "stream",
     "text": [
      "100% |########################################################################|\n"
     ]
    },
    {
     "name": "stdout",
     "output_type": "stream",
     "text": [
      "Train on 4970845 samples\n",
      "4970845/4970845 - 125s - loss: 0.5004\n"
     ]
    },
    {
     "name": "stderr",
     "output_type": "stream",
     "text": [
      "100% |########################################################################|\n"
     ]
    },
    {
     "name": "stdout",
     "output_type": "stream",
     "text": [
      "\n",
      " ==================================================\n",
      "run 9/32\n",
      "Train on 4970845 samples\n"
     ]
    },
    {
     "name": "stderr",
     "output_type": "stream",
     "text": [
      "/usr/local/lib/python3.6/dist-packages/tensorflow_core/python/framework/indexed_slices.py:433: UserWarning: Converting sparse IndexedSlices to a dense Tensor of unknown shape. This may consume a large amount of memory.\n",
      "  \"Converting sparse IndexedSlices to a dense Tensor of unknown shape. \"\n",
      "/usr/local/lib/python3.6/dist-packages/tensorflow_core/python/framework/indexed_slices.py:433: UserWarning: Converting sparse IndexedSlices to a dense Tensor of unknown shape. This may consume a large amount of memory.\n",
      "  \"Converting sparse IndexedSlices to a dense Tensor of unknown shape. \"\n"
     ]
    },
    {
     "name": "stdout",
     "output_type": "stream",
     "text": [
      "4970845/4970845 - 125s - loss: 0.5031\n"
     ]
    },
    {
     "name": "stderr",
     "output_type": "stream",
     "text": [
      "100% |########################################################################|\n"
     ]
    },
    {
     "name": "stdout",
     "output_type": "stream",
     "text": [
      "Train on 4970845 samples\n",
      "4970845/4970845 - 124s - loss: 0.5004\n",
      "Train on 4970845 samples\n",
      "4970845/4970845 - 125s - loss: 0.5004\n"
     ]
    },
    {
     "name": "stderr",
     "output_type": "stream",
     "text": [
      "100% |########################################################################|\n"
     ]
    },
    {
     "name": "stdout",
     "output_type": "stream",
     "text": [
      "Train on 4970845 samples\n",
      "4970845/4970845 - 125s - loss: 0.5004\n",
      "Train on 4970845 samples\n",
      "4970845/4970845 - 125s - loss: 0.5004\n"
     ]
    },
    {
     "name": "stderr",
     "output_type": "stream",
     "text": [
      "100% |########################################################################|\n"
     ]
    },
    {
     "name": "stdout",
     "output_type": "stream",
     "text": [
      "Train on 4970845 samples\n",
      "4970845/4970845 - 124s - loss: 0.5004\n",
      "Train on 4970845 samples\n",
      "4970845/4970845 - 125s - loss: 0.5004\n"
     ]
    },
    {
     "name": "stderr",
     "output_type": "stream",
     "text": [
      "100% |########################################################################|\n"
     ]
    },
    {
     "name": "stdout",
     "output_type": "stream",
     "text": [
      "Train on 4970845 samples\n",
      "4970845/4970845 - 125s - loss: 0.5004\n",
      "Train on 4970845 samples\n",
      "4970845/4970845 - 124s - loss: 0.5004\n"
     ]
    },
    {
     "name": "stderr",
     "output_type": "stream",
     "text": [
      "100% |########################################################################|\n"
     ]
    },
    {
     "name": "stdout",
     "output_type": "stream",
     "text": [
      "Train on 4970845 samples\n",
      "4970845/4970845 - 124s - loss: 0.5004\n"
     ]
    },
    {
     "name": "stderr",
     "output_type": "stream",
     "text": [
      "100% |########################################################################|\n"
     ]
    },
    {
     "name": "stdout",
     "output_type": "stream",
     "text": [
      "\n",
      " ==================================================\n",
      "run 10/32\n",
      "Train on 4970845 samples\n"
     ]
    },
    {
     "name": "stderr",
     "output_type": "stream",
     "text": [
      "/usr/local/lib/python3.6/dist-packages/tensorflow_core/python/framework/indexed_slices.py:433: UserWarning: Converting sparse IndexedSlices to a dense Tensor of unknown shape. This may consume a large amount of memory.\n",
      "  \"Converting sparse IndexedSlices to a dense Tensor of unknown shape. \"\n",
      "/usr/local/lib/python3.6/dist-packages/tensorflow_core/python/framework/indexed_slices.py:433: UserWarning: Converting sparse IndexedSlices to a dense Tensor of unknown shape. This may consume a large amount of memory.\n",
      "  \"Converting sparse IndexedSlices to a dense Tensor of unknown shape. \"\n"
     ]
    },
    {
     "name": "stdout",
     "output_type": "stream",
     "text": [
      "4970845/4970845 - 125s - loss: 0.3486\n"
     ]
    },
    {
     "name": "stderr",
     "output_type": "stream",
     "text": [
      "100% |########################################################################|\n"
     ]
    },
    {
     "name": "stdout",
     "output_type": "stream",
     "text": [
      "Train on 4970845 samples\n",
      "4970845/4970845 - 124s - loss: 0.2813\n",
      "Train on 4970845 samples\n",
      "4970845/4970845 - 125s - loss: 0.2685\n"
     ]
    },
    {
     "name": "stderr",
     "output_type": "stream",
     "text": [
      "100% |########################################################################|\n"
     ]
    },
    {
     "name": "stdout",
     "output_type": "stream",
     "text": [
      "Train on 4970845 samples\n",
      "4970845/4970845 - 125s - loss: 0.2624\n",
      "Train on 4970845 samples\n",
      "4970845/4970845 - 125s - loss: 0.2593\n"
     ]
    },
    {
     "name": "stderr",
     "output_type": "stream",
     "text": [
      "100% |########################################################################|\n"
     ]
    },
    {
     "name": "stdout",
     "output_type": "stream",
     "text": [
      "Train on 4970845 samples\n",
      "4970845/4970845 - 125s - loss: 0.2575\n",
      "Train on 4970845 samples\n",
      "4970845/4970845 - 125s - loss: 0.2564\n"
     ]
    },
    {
     "name": "stderr",
     "output_type": "stream",
     "text": [
      "100% |########################################################################|\n"
     ]
    },
    {
     "name": "stdout",
     "output_type": "stream",
     "text": [
      "Train on 4970845 samples\n",
      "4970845/4970845 - 125s - loss: 0.2558\n",
      "Train on 4970845 samples\n",
      "4970845/4970845 - 125s - loss: 0.2554\n"
     ]
    },
    {
     "name": "stderr",
     "output_type": "stream",
     "text": [
      "100% |########################################################################|\n"
     ]
    },
    {
     "name": "stdout",
     "output_type": "stream",
     "text": [
      "Train on 4970845 samples\n",
      "4970845/4970845 - 126s - loss: 0.2551\n"
     ]
    },
    {
     "name": "stderr",
     "output_type": "stream",
     "text": [
      "100% |########################################################################|\n"
     ]
    },
    {
     "name": "stdout",
     "output_type": "stream",
     "text": [
      "\n",
      " ==================================================\n",
      "run 11/32\n",
      "Train on 4970845 samples\n"
     ]
    },
    {
     "name": "stderr",
     "output_type": "stream",
     "text": [
      "/usr/local/lib/python3.6/dist-packages/tensorflow_core/python/framework/indexed_slices.py:433: UserWarning: Converting sparse IndexedSlices to a dense Tensor of unknown shape. This may consume a large amount of memory.\n",
      "  \"Converting sparse IndexedSlices to a dense Tensor of unknown shape. \"\n",
      "/usr/local/lib/python3.6/dist-packages/tensorflow_core/python/framework/indexed_slices.py:433: UserWarning: Converting sparse IndexedSlices to a dense Tensor of unknown shape. This may consume a large amount of memory.\n",
      "  \"Converting sparse IndexedSlices to a dense Tensor of unknown shape. \"\n"
     ]
    },
    {
     "name": "stdout",
     "output_type": "stream",
     "text": [
      "4970845/4970845 - 129s - loss: 0.2942\n"
     ]
    },
    {
     "name": "stderr",
     "output_type": "stream",
     "text": [
      "100% |########################################################################|\n"
     ]
    },
    {
     "name": "stdout",
     "output_type": "stream",
     "text": [
      "Train on 4970845 samples\n",
      "4970845/4970845 - 125s - loss: 0.2107\n",
      "Train on 4970845 samples\n",
      "4970845/4970845 - 125s - loss: 0.1936\n"
     ]
    },
    {
     "name": "stderr",
     "output_type": "stream",
     "text": [
      "100% |########################################################################|\n"
     ]
    },
    {
     "name": "stdout",
     "output_type": "stream",
     "text": [
      "Train on 4970845 samples\n",
      "4970845/4970845 - 125s - loss: 0.1857\n",
      "Train on 4970845 samples\n",
      "4970845/4970845 - 125s - loss: 0.1809\n"
     ]
    },
    {
     "name": "stderr",
     "output_type": "stream",
     "text": [
      "100% |########################################################################|\n"
     ]
    },
    {
     "name": "stdout",
     "output_type": "stream",
     "text": [
      "Train on 4970845 samples\n",
      "4970845/4970845 - 125s - loss: 0.1779\n",
      "Train on 4970845 samples\n",
      "4970845/4970845 - 125s - loss: 0.1755\n"
     ]
    },
    {
     "name": "stderr",
     "output_type": "stream",
     "text": [
      "100% |########################################################################|\n"
     ]
    },
    {
     "name": "stdout",
     "output_type": "stream",
     "text": [
      "Train on 4970845 samples\n",
      "4970845/4970845 - 125s - loss: 0.1735\n",
      "Train on 4970845 samples\n",
      "4970845/4970845 - 125s - loss: 0.1718\n"
     ]
    },
    {
     "name": "stderr",
     "output_type": "stream",
     "text": [
      "100% |########################################################################|\n"
     ]
    },
    {
     "name": "stdout",
     "output_type": "stream",
     "text": [
      "Train on 4970845 samples\n",
      "4970845/4970845 - 125s - loss: 0.1705\n"
     ]
    },
    {
     "name": "stderr",
     "output_type": "stream",
     "text": [
      "100% |########################################################################|\n"
     ]
    },
    {
     "name": "stdout",
     "output_type": "stream",
     "text": [
      "\n",
      " ==================================================\n",
      "run 12/32\n",
      "Train on 4970845 samples\n"
     ]
    },
    {
     "name": "stderr",
     "output_type": "stream",
     "text": [
      "/usr/local/lib/python3.6/dist-packages/tensorflow_core/python/framework/indexed_slices.py:433: UserWarning: Converting sparse IndexedSlices to a dense Tensor of unknown shape. This may consume a large amount of memory.\n",
      "  \"Converting sparse IndexedSlices to a dense Tensor of unknown shape. \"\n",
      "/usr/local/lib/python3.6/dist-packages/tensorflow_core/python/framework/indexed_slices.py:433: UserWarning: Converting sparse IndexedSlices to a dense Tensor of unknown shape. This may consume a large amount of memory.\n",
      "  \"Converting sparse IndexedSlices to a dense Tensor of unknown shape. \"\n"
     ]
    },
    {
     "name": "stdout",
     "output_type": "stream",
     "text": [
      "4970845/4970845 - 63s - loss: 0.5058\n"
     ]
    },
    {
     "name": "stderr",
     "output_type": "stream",
     "text": [
      "100% |########################################################################|\n"
     ]
    },
    {
     "name": "stdout",
     "output_type": "stream",
     "text": [
      "Train on 4970845 samples\n",
      "4970845/4970845 - 63s - loss: 0.5004\n",
      "Train on 4970845 samples\n",
      "4970845/4970845 - 63s - loss: 0.5004\n"
     ]
    },
    {
     "name": "stderr",
     "output_type": "stream",
     "text": [
      "100% |########################################################################|\n"
     ]
    },
    {
     "name": "stdout",
     "output_type": "stream",
     "text": [
      "Train on 4970845 samples\n",
      "4970845/4970845 - 62s - loss: 0.5004\n",
      "Train on 4970845 samples\n",
      "4970845/4970845 - 63s - loss: 0.5004\n"
     ]
    },
    {
     "name": "stderr",
     "output_type": "stream",
     "text": [
      "100% |########################################################################|\n"
     ]
    },
    {
     "name": "stdout",
     "output_type": "stream",
     "text": [
      "Train on 4970845 samples\n",
      "4970845/4970845 - 63s - loss: 0.5004\n",
      "Train on 4970845 samples\n",
      "4970845/4970845 - 63s - loss: 0.5004\n"
     ]
    },
    {
     "name": "stderr",
     "output_type": "stream",
     "text": [
      "100% |########################################################################|\n"
     ]
    },
    {
     "name": "stdout",
     "output_type": "stream",
     "text": [
      "Train on 4970845 samples\n",
      "4970845/4970845 - 63s - loss: 0.5004\n",
      "Train on 4970845 samples\n",
      "4970845/4970845 - 63s - loss: 0.5004\n"
     ]
    },
    {
     "name": "stderr",
     "output_type": "stream",
     "text": [
      "100% |########################################################################|\n"
     ]
    },
    {
     "name": "stdout",
     "output_type": "stream",
     "text": [
      "Train on 4970845 samples\n",
      "4970845/4970845 - 62s - loss: 0.5004\n"
     ]
    },
    {
     "name": "stderr",
     "output_type": "stream",
     "text": [
      "100% |########################################################################|\n"
     ]
    },
    {
     "name": "stdout",
     "output_type": "stream",
     "text": [
      "\n",
      " ==================================================\n",
      "run 13/32\n",
      "Train on 4970845 samples\n"
     ]
    },
    {
     "name": "stderr",
     "output_type": "stream",
     "text": [
      "/usr/local/lib/python3.6/dist-packages/tensorflow_core/python/framework/indexed_slices.py:433: UserWarning: Converting sparse IndexedSlices to a dense Tensor of unknown shape. This may consume a large amount of memory.\n",
      "  \"Converting sparse IndexedSlices to a dense Tensor of unknown shape. \"\n",
      "/usr/local/lib/python3.6/dist-packages/tensorflow_core/python/framework/indexed_slices.py:433: UserWarning: Converting sparse IndexedSlices to a dense Tensor of unknown shape. This may consume a large amount of memory.\n",
      "  \"Converting sparse IndexedSlices to a dense Tensor of unknown shape. \"\n"
     ]
    },
    {
     "name": "stdout",
     "output_type": "stream",
     "text": [
      "4970845/4970845 - 67s - loss: 0.5059\n"
     ]
    },
    {
     "name": "stderr",
     "output_type": "stream",
     "text": [
      "100% |########################################################################|\n"
     ]
    },
    {
     "name": "stdout",
     "output_type": "stream",
     "text": [
      "Train on 4970845 samples\n",
      "4970845/4970845 - 63s - loss: 0.5004\n",
      "Train on 4970845 samples\n",
      "4970845/4970845 - 63s - loss: 0.5004\n"
     ]
    },
    {
     "name": "stderr",
     "output_type": "stream",
     "text": [
      "100% |########################################################################|\n"
     ]
    },
    {
     "name": "stdout",
     "output_type": "stream",
     "text": [
      "Train on 4970845 samples\n",
      "4970845/4970845 - 63s - loss: 0.5004\n",
      "Train on 4970845 samples\n",
      "4970845/4970845 - 63s - loss: 0.5004\n"
     ]
    },
    {
     "name": "stderr",
     "output_type": "stream",
     "text": [
      "100% |########################################################################|\n"
     ]
    },
    {
     "name": "stdout",
     "output_type": "stream",
     "text": [
      "Train on 4970845 samples\n",
      "4970845/4970845 - 63s - loss: 0.5004\n",
      "Train on 4970845 samples\n",
      "4970845/4970845 - 63s - loss: 0.5004\n"
     ]
    },
    {
     "name": "stderr",
     "output_type": "stream",
     "text": [
      "100% |########################################################################|\n"
     ]
    },
    {
     "name": "stdout",
     "output_type": "stream",
     "text": [
      "Train on 4970845 samples\n",
      "4970845/4970845 - 63s - loss: 0.5004\n",
      "Train on 4970845 samples\n",
      "4970845/4970845 - 62s - loss: 0.5004\n"
     ]
    },
    {
     "name": "stderr",
     "output_type": "stream",
     "text": [
      "100% |########################################################################|\n"
     ]
    },
    {
     "name": "stdout",
     "output_type": "stream",
     "text": [
      "Train on 4970845 samples\n",
      "4970845/4970845 - 63s - loss: 0.5004\n"
     ]
    },
    {
     "name": "stderr",
     "output_type": "stream",
     "text": [
      "100% |########################################################################|\n"
     ]
    },
    {
     "name": "stdout",
     "output_type": "stream",
     "text": [
      "\n",
      " ==================================================\n",
      "run 14/32\n",
      "Train on 4970845 samples\n"
     ]
    },
    {
     "name": "stderr",
     "output_type": "stream",
     "text": [
      "/usr/local/lib/python3.6/dist-packages/tensorflow_core/python/framework/indexed_slices.py:433: UserWarning: Converting sparse IndexedSlices to a dense Tensor of unknown shape. This may consume a large amount of memory.\n",
      "  \"Converting sparse IndexedSlices to a dense Tensor of unknown shape. \"\n",
      "/usr/local/lib/python3.6/dist-packages/tensorflow_core/python/framework/indexed_slices.py:433: UserWarning: Converting sparse IndexedSlices to a dense Tensor of unknown shape. This may consume a large amount of memory.\n",
      "  \"Converting sparse IndexedSlices to a dense Tensor of unknown shape. \"\n"
     ]
    },
    {
     "name": "stdout",
     "output_type": "stream",
     "text": [
      "4970845/4970845 - 64s - loss: 0.3631\n"
     ]
    },
    {
     "name": "stderr",
     "output_type": "stream",
     "text": [
      "100% |########################################################################|\n"
     ]
    },
    {
     "name": "stdout",
     "output_type": "stream",
     "text": [
      "Train on 4970845 samples\n",
      "4970845/4970845 - 63s - loss: 0.2590\n",
      "Train on 4970845 samples\n",
      "4970845/4970845 - 63s - loss: 0.2300\n"
     ]
    },
    {
     "name": "stderr",
     "output_type": "stream",
     "text": [
      "100% |########################################################################|\n"
     ]
    },
    {
     "name": "stdout",
     "output_type": "stream",
     "text": [
      "Train on 4970845 samples\n",
      "4970845/4970845 - 63s - loss: 0.2186\n",
      "Train on 4970845 samples\n",
      "4970845/4970845 - 63s - loss: 0.2118\n"
     ]
    },
    {
     "name": "stderr",
     "output_type": "stream",
     "text": [
      "100% |########################################################################|\n"
     ]
    },
    {
     "name": "stdout",
     "output_type": "stream",
     "text": [
      "Train on 4970845 samples\n",
      "4970845/4970845 - 63s - loss: 0.2074\n",
      "Train on 4970845 samples\n",
      "4970845/4970845 - 63s - loss: 0.2042\n"
     ]
    },
    {
     "name": "stderr",
     "output_type": "stream",
     "text": [
      "100% |########################################################################|\n"
     ]
    },
    {
     "name": "stdout",
     "output_type": "stream",
     "text": [
      "Train on 4970845 samples\n",
      "4970845/4970845 - 63s - loss: 0.2017\n",
      "Train on 4970845 samples\n",
      "4970845/4970845 - 63s - loss: 0.1998\n"
     ]
    },
    {
     "name": "stderr",
     "output_type": "stream",
     "text": [
      "100% |########################################################################|\n"
     ]
    },
    {
     "name": "stdout",
     "output_type": "stream",
     "text": [
      "Train on 4970845 samples\n",
      "4970845/4970845 - 63s - loss: 0.1984\n"
     ]
    },
    {
     "name": "stderr",
     "output_type": "stream",
     "text": [
      "100% |########################################################################|\n"
     ]
    },
    {
     "name": "stdout",
     "output_type": "stream",
     "text": [
      "\n",
      " ==================================================\n",
      "run 15/32\n",
      "Train on 4970845 samples\n"
     ]
    },
    {
     "name": "stderr",
     "output_type": "stream",
     "text": [
      "/usr/local/lib/python3.6/dist-packages/tensorflow_core/python/framework/indexed_slices.py:433: UserWarning: Converting sparse IndexedSlices to a dense Tensor of unknown shape. This may consume a large amount of memory.\n",
      "  \"Converting sparse IndexedSlices to a dense Tensor of unknown shape. \"\n",
      "/usr/local/lib/python3.6/dist-packages/tensorflow_core/python/framework/indexed_slices.py:433: UserWarning: Converting sparse IndexedSlices to a dense Tensor of unknown shape. This may consume a large amount of memory.\n",
      "  \"Converting sparse IndexedSlices to a dense Tensor of unknown shape. \"\n"
     ]
    },
    {
     "name": "stdout",
     "output_type": "stream",
     "text": [
      "4970845/4970845 - 63s - loss: 0.3146\n"
     ]
    },
    {
     "name": "stderr",
     "output_type": "stream",
     "text": [
      "100% |########################################################################|\n"
     ]
    },
    {
     "name": "stdout",
     "output_type": "stream",
     "text": [
      "Train on 4970845 samples\n",
      "4970845/4970845 - 63s - loss: 0.2275\n",
      "Train on 4970845 samples\n",
      "4970845/4970845 - 63s - loss: 0.2068\n"
     ]
    },
    {
     "name": "stderr",
     "output_type": "stream",
     "text": [
      "100% |########################################################################|\n"
     ]
    },
    {
     "name": "stdout",
     "output_type": "stream",
     "text": [
      "Train on 4970845 samples\n",
      "4970845/4970845 - 62s - loss: 0.1968\n",
      "Train on 4970845 samples\n",
      "4970845/4970845 - 63s - loss: 0.1906\n"
     ]
    },
    {
     "name": "stderr",
     "output_type": "stream",
     "text": [
      "100% |########################################################################|\n"
     ]
    },
    {
     "name": "stdout",
     "output_type": "stream",
     "text": [
      "Train on 4970845 samples\n",
      "4970845/4970845 - 63s - loss: 0.1863\n",
      "Train on 4970845 samples\n",
      "4970845/4970845 - 63s - loss: 0.1831\n"
     ]
    },
    {
     "name": "stderr",
     "output_type": "stream",
     "text": [
      "100% |########################################################################|\n"
     ]
    },
    {
     "name": "stdout",
     "output_type": "stream",
     "text": [
      "Train on 4970845 samples\n",
      "4970845/4970845 - 63s - loss: 0.1806\n",
      "Train on 4970845 samples\n",
      "4970845/4970845 - 63s - loss: 0.1786\n"
     ]
    },
    {
     "name": "stderr",
     "output_type": "stream",
     "text": [
      "100% |########################################################################|\n"
     ]
    },
    {
     "name": "stdout",
     "output_type": "stream",
     "text": [
      "Train on 4970845 samples\n",
      "4970845/4970845 - 63s - loss: 0.1769\n"
     ]
    },
    {
     "name": "stderr",
     "output_type": "stream",
     "text": [
      "100% |########################################################################|\n"
     ]
    },
    {
     "name": "stdout",
     "output_type": "stream",
     "text": [
      "\n",
      " ==================================================\n",
      "run 16/32\n",
      "Train on 4970845 samples\n"
     ]
    },
    {
     "name": "stderr",
     "output_type": "stream",
     "text": [
      "/usr/local/lib/python3.6/dist-packages/tensorflow_core/python/framework/indexed_slices.py:433: UserWarning: Converting sparse IndexedSlices to a dense Tensor of unknown shape. This may consume a large amount of memory.\n",
      "  \"Converting sparse IndexedSlices to a dense Tensor of unknown shape. \"\n",
      "/usr/local/lib/python3.6/dist-packages/tensorflow_core/python/framework/indexed_slices.py:433: UserWarning: Converting sparse IndexedSlices to a dense Tensor of unknown shape. This may consume a large amount of memory.\n",
      "  \"Converting sparse IndexedSlices to a dense Tensor of unknown shape. \"\n"
     ]
    },
    {
     "name": "stdout",
     "output_type": "stream",
     "text": [
      "4970845/4970845 - 129s - loss: 0.5057\n"
     ]
    },
    {
     "name": "stderr",
     "output_type": "stream",
     "text": [
      "100% |########################################################################|\n"
     ]
    },
    {
     "name": "stdout",
     "output_type": "stream",
     "text": [
      "Train on 4970845 samples\n",
      "4970845/4970845 - 125s - loss: 0.5004\n",
      "Train on 4970845 samples\n",
      "4970845/4970845 - 125s - loss: 0.5004\n"
     ]
    },
    {
     "name": "stderr",
     "output_type": "stream",
     "text": [
      "100% |########################################################################|\n"
     ]
    },
    {
     "name": "stdout",
     "output_type": "stream",
     "text": [
      "Train on 4970845 samples\n",
      "4970845/4970845 - 124s - loss: 0.5004\n",
      "Train on 4970845 samples\n",
      "4970845/4970845 - 125s - loss: 0.5004\n"
     ]
    },
    {
     "name": "stderr",
     "output_type": "stream",
     "text": [
      "100% |########################################################################|\n"
     ]
    },
    {
     "name": "stdout",
     "output_type": "stream",
     "text": [
      "Train on 4970845 samples\n",
      "4970845/4970845 - 125s - loss: 0.5004\n",
      "Train on 4970845 samples\n",
      "4970845/4970845 - 124s - loss: 0.5004\n"
     ]
    },
    {
     "name": "stderr",
     "output_type": "stream",
     "text": [
      "100% |########################################################################|\n"
     ]
    },
    {
     "name": "stdout",
     "output_type": "stream",
     "text": [
      "Train on 4970845 samples\n",
      "4970845/4970845 - 125s - loss: 0.5004\n",
      "Train on 4970845 samples\n",
      "4970845/4970845 - 125s - loss: 0.5004\n"
     ]
    },
    {
     "name": "stderr",
     "output_type": "stream",
     "text": [
      "100% |########################################################################|\n"
     ]
    },
    {
     "name": "stdout",
     "output_type": "stream",
     "text": [
      "Train on 4970845 samples\n",
      "4970845/4970845 - 124s - loss: 0.5004\n"
     ]
    },
    {
     "name": "stderr",
     "output_type": "stream",
     "text": [
      "100% |########################################################################|\n"
     ]
    },
    {
     "name": "stdout",
     "output_type": "stream",
     "text": [
      "\n",
      " ==================================================\n",
      "run 17/32\n",
      "Train on 4970845 samples\n"
     ]
    },
    {
     "name": "stderr",
     "output_type": "stream",
     "text": [
      "/usr/local/lib/python3.6/dist-packages/tensorflow_core/python/framework/indexed_slices.py:433: UserWarning: Converting sparse IndexedSlices to a dense Tensor of unknown shape. This may consume a large amount of memory.\n",
      "  \"Converting sparse IndexedSlices to a dense Tensor of unknown shape. \"\n",
      "/usr/local/lib/python3.6/dist-packages/tensorflow_core/python/framework/indexed_slices.py:433: UserWarning: Converting sparse IndexedSlices to a dense Tensor of unknown shape. This may consume a large amount of memory.\n",
      "  \"Converting sparse IndexedSlices to a dense Tensor of unknown shape. \"\n"
     ]
    },
    {
     "name": "stdout",
     "output_type": "stream",
     "text": [
      "4970845/4970845 - 125s - loss: 0.5057\n"
     ]
    },
    {
     "name": "stderr",
     "output_type": "stream",
     "text": [
      "100% |########################################################################|\n"
     ]
    },
    {
     "name": "stdout",
     "output_type": "stream",
     "text": [
      "Train on 4970845 samples\n",
      "4970845/4970845 - 125s - loss: 0.5004\n",
      "Train on 4970845 samples\n",
      "4970845/4970845 - 126s - loss: 0.5004\n"
     ]
    },
    {
     "name": "stderr",
     "output_type": "stream",
     "text": [
      "100% |########################################################################|\n"
     ]
    },
    {
     "name": "stdout",
     "output_type": "stream",
     "text": [
      "Train on 4970845 samples\n",
      "4970845/4970845 - 125s - loss: 0.5004\n",
      "Train on 4970845 samples\n",
      "4970845/4970845 - 125s - loss: 0.5004\n"
     ]
    },
    {
     "name": "stderr",
     "output_type": "stream",
     "text": [
      "100% |########################################################################|\n"
     ]
    },
    {
     "name": "stdout",
     "output_type": "stream",
     "text": [
      "Train on 4970845 samples\n",
      "4970845/4970845 - 125s - loss: 0.5004\n",
      "Train on 4970845 samples\n",
      "4970845/4970845 - 125s - loss: 0.5004\n"
     ]
    },
    {
     "name": "stderr",
     "output_type": "stream",
     "text": [
      "100% |########################################################################|\n"
     ]
    },
    {
     "name": "stdout",
     "output_type": "stream",
     "text": [
      "Train on 4970845 samples\n",
      "4970845/4970845 - 125s - loss: 0.5004\n",
      "Train on 4970845 samples\n",
      "4970845/4970845 - 125s - loss: 0.5004\n"
     ]
    },
    {
     "name": "stderr",
     "output_type": "stream",
     "text": [
      "100% |########################################################################|\n"
     ]
    },
    {
     "name": "stdout",
     "output_type": "stream",
     "text": [
      "Train on 4970845 samples\n",
      "4970845/4970845 - 125s - loss: 0.5004\n"
     ]
    },
    {
     "name": "stderr",
     "output_type": "stream",
     "text": [
      "100% |########################################################################|\n"
     ]
    },
    {
     "name": "stdout",
     "output_type": "stream",
     "text": [
      "\n",
      " ==================================================\n",
      "run 18/32\n",
      "Train on 4970845 samples\n"
     ]
    },
    {
     "name": "stderr",
     "output_type": "stream",
     "text": [
      "/usr/local/lib/python3.6/dist-packages/tensorflow_core/python/framework/indexed_slices.py:433: UserWarning: Converting sparse IndexedSlices to a dense Tensor of unknown shape. This may consume a large amount of memory.\n",
      "  \"Converting sparse IndexedSlices to a dense Tensor of unknown shape. \"\n",
      "/usr/local/lib/python3.6/dist-packages/tensorflow_core/python/framework/indexed_slices.py:433: UserWarning: Converting sparse IndexedSlices to a dense Tensor of unknown shape. This may consume a large amount of memory.\n",
      "  \"Converting sparse IndexedSlices to a dense Tensor of unknown shape. \"\n"
     ]
    },
    {
     "name": "stdout",
     "output_type": "stream",
     "text": [
      "4970845/4970845 - 126s - loss: 0.3901\n"
     ]
    },
    {
     "name": "stderr",
     "output_type": "stream",
     "text": [
      "100% |########################################################################|\n"
     ]
    },
    {
     "name": "stdout",
     "output_type": "stream",
     "text": [
      "Train on 4970845 samples\n",
      "4970845/4970845 - 125s - loss: 0.3380\n",
      "Train on 4970845 samples\n",
      "4970845/4970845 - 125s - loss: 0.3279\n"
     ]
    },
    {
     "name": "stderr",
     "output_type": "stream",
     "text": [
      "100% |########################################################################|\n"
     ]
    },
    {
     "name": "stdout",
     "output_type": "stream",
     "text": [
      "Train on 4970845 samples\n",
      "4970845/4970845 - 125s - loss: 0.3241\n",
      "Train on 4970845 samples\n",
      "4970845/4970845 - 125s - loss: 0.3226\n"
     ]
    },
    {
     "name": "stderr",
     "output_type": "stream",
     "text": [
      "100% |########################################################################|\n"
     ]
    },
    {
     "name": "stdout",
     "output_type": "stream",
     "text": [
      "Train on 4970845 samples\n",
      "4970845/4970845 - 125s - loss: 0.3220\n",
      "Train on 4970845 samples\n",
      "4970845/4970845 - 125s - loss: 0.3218\n"
     ]
    },
    {
     "name": "stderr",
     "output_type": "stream",
     "text": [
      "100% |########################################################################|\n"
     ]
    },
    {
     "name": "stdout",
     "output_type": "stream",
     "text": [
      "Train on 4970845 samples\n",
      "4970845/4970845 - 125s - loss: 0.3218\n",
      "Train on 4970845 samples\n",
      "4970845/4970845 - 125s - loss: 0.3219\n"
     ]
    },
    {
     "name": "stderr",
     "output_type": "stream",
     "text": [
      "100% |########################################################################|\n"
     ]
    },
    {
     "name": "stdout",
     "output_type": "stream",
     "text": [
      "Train on 4970845 samples\n",
      "4970845/4970845 - 125s - loss: 0.3221\n"
     ]
    },
    {
     "name": "stderr",
     "output_type": "stream",
     "text": [
      "100% |########################################################################|\n"
     ]
    },
    {
     "name": "stdout",
     "output_type": "stream",
     "text": [
      "\n",
      " ==================================================\n",
      "run 19/32\n",
      "Train on 4970845 samples\n"
     ]
    },
    {
     "name": "stderr",
     "output_type": "stream",
     "text": [
      "/usr/local/lib/python3.6/dist-packages/tensorflow_core/python/framework/indexed_slices.py:433: UserWarning: Converting sparse IndexedSlices to a dense Tensor of unknown shape. This may consume a large amount of memory.\n",
      "  \"Converting sparse IndexedSlices to a dense Tensor of unknown shape. \"\n",
      "/usr/local/lib/python3.6/dist-packages/tensorflow_core/python/framework/indexed_slices.py:433: UserWarning: Converting sparse IndexedSlices to a dense Tensor of unknown shape. This may consume a large amount of memory.\n",
      "  \"Converting sparse IndexedSlices to a dense Tensor of unknown shape. \"\n"
     ]
    },
    {
     "name": "stdout",
     "output_type": "stream",
     "text": [
      "4970845/4970845 - 129s - loss: 0.3363\n"
     ]
    },
    {
     "name": "stderr",
     "output_type": "stream",
     "text": [
      "100% |########################################################################|\n"
     ]
    },
    {
     "name": "stdout",
     "output_type": "stream",
     "text": [
      "Train on 4970845 samples\n",
      "4970845/4970845 - 125s - loss: 0.2403\n",
      "Train on 4970845 samples\n",
      "4970845/4970845 - 125s - loss: 0.2048\n"
     ]
    },
    {
     "name": "stderr",
     "output_type": "stream",
     "text": [
      "100% |########################################################################|\n"
     ]
    },
    {
     "name": "stdout",
     "output_type": "stream",
     "text": [
      "Train on 4970845 samples\n",
      "4970845/4970845 - 125s - loss: 0.1903\n",
      "Train on 4970845 samples\n",
      "4970845/4970845 - 125s - loss: 0.1819\n"
     ]
    },
    {
     "name": "stderr",
     "output_type": "stream",
     "text": [
      "100% |########################################################################|\n"
     ]
    },
    {
     "name": "stdout",
     "output_type": "stream",
     "text": [
      "Train on 4970845 samples\n",
      "4970845/4970845 - 125s - loss: 0.1764\n",
      "Train on 4970845 samples\n",
      "4970845/4970845 - 125s - loss: 0.1722\n"
     ]
    },
    {
     "name": "stderr",
     "output_type": "stream",
     "text": [
      "100% |########################################################################|\n"
     ]
    },
    {
     "name": "stdout",
     "output_type": "stream",
     "text": [
      "Train on 4970845 samples\n",
      "4970845/4970845 - 125s - loss: 0.1693\n",
      "Train on 4970845 samples\n",
      "4970845/4970845 - 124s - loss: 0.1668\n"
     ]
    },
    {
     "name": "stderr",
     "output_type": "stream",
     "text": [
      "100% |########################################################################|\n"
     ]
    },
    {
     "name": "stdout",
     "output_type": "stream",
     "text": [
      "Train on 4970845 samples\n",
      "4970845/4970845 - 125s - loss: 0.1647\n"
     ]
    },
    {
     "name": "stderr",
     "output_type": "stream",
     "text": [
      "100% |########################################################################|\n"
     ]
    },
    {
     "name": "stdout",
     "output_type": "stream",
     "text": [
      "\n",
      " ==================================================\n",
      "run 20/32\n",
      "Train on 4970845 samples\n"
     ]
    },
    {
     "name": "stderr",
     "output_type": "stream",
     "text": [
      "/usr/local/lib/python3.6/dist-packages/tensorflow_core/python/framework/indexed_slices.py:433: UserWarning: Converting sparse IndexedSlices to a dense Tensor of unknown shape. This may consume a large amount of memory.\n",
      "  \"Converting sparse IndexedSlices to a dense Tensor of unknown shape. \"\n",
      "/usr/local/lib/python3.6/dist-packages/tensorflow_core/python/framework/indexed_slices.py:433: UserWarning: Converting sparse IndexedSlices to a dense Tensor of unknown shape. This may consume a large amount of memory.\n",
      "  \"Converting sparse IndexedSlices to a dense Tensor of unknown shape. \"\n"
     ]
    },
    {
     "name": "stdout",
     "output_type": "stream",
     "text": [
      "4970845/4970845 - 67s - loss: 0.5111\n"
     ]
    },
    {
     "name": "stderr",
     "output_type": "stream",
     "text": [
      "100% |########################################################################|\n"
     ]
    },
    {
     "name": "stdout",
     "output_type": "stream",
     "text": [
      "Train on 4970845 samples\n",
      "4970845/4970845 - 63s - loss: 0.5004\n",
      "Train on 4970845 samples\n",
      "4970845/4970845 - 62s - loss: 0.5004\n"
     ]
    },
    {
     "name": "stderr",
     "output_type": "stream",
     "text": [
      "100% |########################################################################|\n"
     ]
    },
    {
     "name": "stdout",
     "output_type": "stream",
     "text": [
      "Train on 4970845 samples\n",
      "4970845/4970845 - 62s - loss: 0.5004\n",
      "Train on 4970845 samples\n",
      "4970845/4970845 - 63s - loss: 0.5004\n"
     ]
    },
    {
     "name": "stderr",
     "output_type": "stream",
     "text": [
      "100% |########################################################################|\n"
     ]
    },
    {
     "name": "stdout",
     "output_type": "stream",
     "text": [
      "Train on 4970845 samples\n",
      "4970845/4970845 - 63s - loss: 0.5004\n",
      "Train on 4970845 samples\n",
      "4970845/4970845 - 62s - loss: 0.5004\n"
     ]
    },
    {
     "name": "stderr",
     "output_type": "stream",
     "text": [
      "100% |########################################################################|\n"
     ]
    },
    {
     "name": "stdout",
     "output_type": "stream",
     "text": [
      "Train on 4970845 samples\n",
      "4970845/4970845 - 62s - loss: 0.5004\n",
      "Train on 4970845 samples\n",
      "4970845/4970845 - 63s - loss: 0.5004\n"
     ]
    },
    {
     "name": "stderr",
     "output_type": "stream",
     "text": [
      "100% |########################################################################|\n"
     ]
    },
    {
     "name": "stdout",
     "output_type": "stream",
     "text": [
      "Train on 4970845 samples\n",
      "4970845/4970845 - 62s - loss: 0.5004\n"
     ]
    },
    {
     "name": "stderr",
     "output_type": "stream",
     "text": [
      "100% |########################################################################|\n"
     ]
    },
    {
     "name": "stdout",
     "output_type": "stream",
     "text": [
      "\n",
      " ==================================================\n",
      "run 21/32\n",
      "Train on 4970845 samples\n"
     ]
    },
    {
     "name": "stderr",
     "output_type": "stream",
     "text": [
      "/usr/local/lib/python3.6/dist-packages/tensorflow_core/python/framework/indexed_slices.py:433: UserWarning: Converting sparse IndexedSlices to a dense Tensor of unknown shape. This may consume a large amount of memory.\n",
      "  \"Converting sparse IndexedSlices to a dense Tensor of unknown shape. \"\n",
      "/usr/local/lib/python3.6/dist-packages/tensorflow_core/python/framework/indexed_slices.py:433: UserWarning: Converting sparse IndexedSlices to a dense Tensor of unknown shape. This may consume a large amount of memory.\n",
      "  \"Converting sparse IndexedSlices to a dense Tensor of unknown shape. \"\n"
     ]
    },
    {
     "name": "stdout",
     "output_type": "stream",
     "text": [
      "4970845/4970845 - 63s - loss: 0.5110\n"
     ]
    },
    {
     "name": "stderr",
     "output_type": "stream",
     "text": [
      "100% |########################################################################|\n"
     ]
    },
    {
     "name": "stdout",
     "output_type": "stream",
     "text": [
      "Train on 4970845 samples\n",
      "4970845/4970845 - 63s - loss: 0.5004\n",
      "Train on 4970845 samples\n",
      "4970845/4970845 - 62s - loss: 0.5004\n"
     ]
    },
    {
     "name": "stderr",
     "output_type": "stream",
     "text": [
      "100% |########################################################################|\n"
     ]
    },
    {
     "name": "stdout",
     "output_type": "stream",
     "text": [
      "Train on 4970845 samples\n",
      "4970845/4970845 - 63s - loss: 0.5004\n",
      "Train on 4970845 samples\n",
      "4970845/4970845 - 63s - loss: 0.5004\n"
     ]
    },
    {
     "name": "stderr",
     "output_type": "stream",
     "text": [
      "100% |########################################################################|\n"
     ]
    },
    {
     "name": "stdout",
     "output_type": "stream",
     "text": [
      "Train on 4970845 samples\n",
      "4970845/4970845 - 63s - loss: 0.5004\n",
      "Train on 4970845 samples\n",
      "4970845/4970845 - 63s - loss: 0.5004\n"
     ]
    },
    {
     "name": "stderr",
     "output_type": "stream",
     "text": [
      "100% |########################################################################|\n"
     ]
    },
    {
     "name": "stdout",
     "output_type": "stream",
     "text": [
      "Train on 4970845 samples\n",
      "4970845/4970845 - 63s - loss: 0.5004\n",
      "Train on 4970845 samples\n",
      "4970845/4970845 - 63s - loss: 0.5004\n"
     ]
    },
    {
     "name": "stderr",
     "output_type": "stream",
     "text": [
      "100% |########################################################################|\n"
     ]
    },
    {
     "name": "stdout",
     "output_type": "stream",
     "text": [
      "Train on 4970845 samples\n",
      "4970845/4970845 - 63s - loss: 0.5004\n"
     ]
    },
    {
     "name": "stderr",
     "output_type": "stream",
     "text": [
      "100% |########################################################################|\n"
     ]
    },
    {
     "name": "stdout",
     "output_type": "stream",
     "text": [
      "\n",
      " ==================================================\n",
      "run 22/32\n",
      "Train on 4970845 samples\n"
     ]
    },
    {
     "name": "stderr",
     "output_type": "stream",
     "text": [
      "/usr/local/lib/python3.6/dist-packages/tensorflow_core/python/framework/indexed_slices.py:433: UserWarning: Converting sparse IndexedSlices to a dense Tensor of unknown shape. This may consume a large amount of memory.\n",
      "  \"Converting sparse IndexedSlices to a dense Tensor of unknown shape. \"\n",
      "/usr/local/lib/python3.6/dist-packages/tensorflow_core/python/framework/indexed_slices.py:433: UserWarning: Converting sparse IndexedSlices to a dense Tensor of unknown shape. This may consume a large amount of memory.\n",
      "  \"Converting sparse IndexedSlices to a dense Tensor of unknown shape. \"\n"
     ]
    },
    {
     "name": "stdout",
     "output_type": "stream",
     "text": [
      "4970845/4970845 - 63s - loss: 0.4004\n"
     ]
    },
    {
     "name": "stderr",
     "output_type": "stream",
     "text": [
      "100% |########################################################################|\n"
     ]
    },
    {
     "name": "stdout",
     "output_type": "stream",
     "text": [
      "Train on 4970845 samples\n",
      "4970845/4970845 - 63s - loss: 0.3555\n",
      "Train on 4970845 samples\n",
      "4970845/4970845 - 63s - loss: 0.3195\n"
     ]
    },
    {
     "name": "stderr",
     "output_type": "stream",
     "text": [
      "100% |########################################################################|\n"
     ]
    },
    {
     "name": "stdout",
     "output_type": "stream",
     "text": [
      "Train on 4970845 samples\n",
      "4970845/4970845 - 63s - loss: 0.2906\n",
      "Train on 4970845 samples\n",
      "4970845/4970845 - 63s - loss: 0.2818\n"
     ]
    },
    {
     "name": "stderr",
     "output_type": "stream",
     "text": [
      "100% |########################################################################|\n"
     ]
    },
    {
     "name": "stdout",
     "output_type": "stream",
     "text": [
      "Train on 4970845 samples\n",
      "4970845/4970845 - 63s - loss: 0.2765\n",
      "Train on 4970845 samples\n",
      "4970845/4970845 - 63s - loss: 0.2726\n"
     ]
    },
    {
     "name": "stderr",
     "output_type": "stream",
     "text": [
      "100% |########################################################################|\n"
     ]
    },
    {
     "name": "stdout",
     "output_type": "stream",
     "text": [
      "Train on 4970845 samples\n",
      "4970845/4970845 - 63s - loss: 0.2696\n",
      "Train on 4970845 samples\n",
      "4970845/4970845 - 63s - loss: 0.2671\n"
     ]
    },
    {
     "name": "stderr",
     "output_type": "stream",
     "text": [
      "100% |########################################################################|\n"
     ]
    },
    {
     "name": "stdout",
     "output_type": "stream",
     "text": [
      "Train on 4970845 samples\n",
      "4970845/4970845 - 63s - loss: 0.2650\n"
     ]
    },
    {
     "name": "stderr",
     "output_type": "stream",
     "text": [
      "100% |########################################################################|\n"
     ]
    },
    {
     "name": "stdout",
     "output_type": "stream",
     "text": [
      "\n",
      " ==================================================\n",
      "run 23/32\n",
      "Train on 4970845 samples\n"
     ]
    },
    {
     "name": "stderr",
     "output_type": "stream",
     "text": [
      "/usr/local/lib/python3.6/dist-packages/tensorflow_core/python/framework/indexed_slices.py:433: UserWarning: Converting sparse IndexedSlices to a dense Tensor of unknown shape. This may consume a large amount of memory.\n",
      "  \"Converting sparse IndexedSlices to a dense Tensor of unknown shape. \"\n",
      "/usr/local/lib/python3.6/dist-packages/tensorflow_core/python/framework/indexed_slices.py:433: UserWarning: Converting sparse IndexedSlices to a dense Tensor of unknown shape. This may consume a large amount of memory.\n",
      "  \"Converting sparse IndexedSlices to a dense Tensor of unknown shape. \"\n"
     ]
    },
    {
     "name": "stdout",
     "output_type": "stream",
     "text": [
      "4970845/4970845 - 63s - loss: 0.3677\n"
     ]
    },
    {
     "name": "stderr",
     "output_type": "stream",
     "text": [
      "100% |########################################################################|\n"
     ]
    },
    {
     "name": "stdout",
     "output_type": "stream",
     "text": [
      "Train on 4970845 samples\n",
      "4970845/4970845 - 63s - loss: 0.2977\n",
      "Train on 4970845 samples\n",
      "4970845/4970845 - 63s - loss: 0.2485\n"
     ]
    },
    {
     "name": "stderr",
     "output_type": "stream",
     "text": [
      "100% |########################################################################|\n"
     ]
    },
    {
     "name": "stdout",
     "output_type": "stream",
     "text": [
      "Train on 4970845 samples\n",
      "4970845/4970845 - 63s - loss: 0.2305\n",
      "Train on 4970845 samples\n",
      "4970845/4970845 - 63s - loss: 0.2214\n"
     ]
    },
    {
     "name": "stderr",
     "output_type": "stream",
     "text": [
      "100% |########################################################################|\n"
     ]
    },
    {
     "name": "stdout",
     "output_type": "stream",
     "text": [
      "Train on 4970845 samples\n",
      "4970845/4970845 - 63s - loss: 0.2155\n",
      "Train on 4970845 samples\n",
      "4970845/4970845 - 63s - loss: 0.2112\n"
     ]
    },
    {
     "name": "stderr",
     "output_type": "stream",
     "text": [
      "100% |########################################################################|\n"
     ]
    },
    {
     "name": "stdout",
     "output_type": "stream",
     "text": [
      "Train on 4970845 samples\n",
      "4970845/4970845 - 63s - loss: 0.2079\n",
      "Train on 4970845 samples\n",
      "4970845/4970845 - 63s - loss: 0.2054\n"
     ]
    },
    {
     "name": "stderr",
     "output_type": "stream",
     "text": [
      "100% |########################################################################|\n"
     ]
    },
    {
     "name": "stdout",
     "output_type": "stream",
     "text": [
      "Train on 4970845 samples\n",
      "4970845/4970845 - 63s - loss: 0.2032\n"
     ]
    },
    {
     "name": "stderr",
     "output_type": "stream",
     "text": [
      "100% |########################################################################|\n"
     ]
    },
    {
     "name": "stdout",
     "output_type": "stream",
     "text": [
      "\n",
      " ==================================================\n",
      "run 24/32\n",
      "Train on 4970845 samples\n"
     ]
    },
    {
     "name": "stderr",
     "output_type": "stream",
     "text": [
      "/usr/local/lib/python3.6/dist-packages/tensorflow_core/python/framework/indexed_slices.py:433: UserWarning: Converting sparse IndexedSlices to a dense Tensor of unknown shape. This may consume a large amount of memory.\n",
      "  \"Converting sparse IndexedSlices to a dense Tensor of unknown shape. \"\n",
      "/usr/local/lib/python3.6/dist-packages/tensorflow_core/python/framework/indexed_slices.py:433: UserWarning: Converting sparse IndexedSlices to a dense Tensor of unknown shape. This may consume a large amount of memory.\n",
      "  \"Converting sparse IndexedSlices to a dense Tensor of unknown shape. \"\n"
     ]
    },
    {
     "name": "stdout",
     "output_type": "stream",
     "text": [
      "4970845/4970845 - 125s - loss: 0.5246\n"
     ]
    },
    {
     "name": "stderr",
     "output_type": "stream",
     "text": [
      "100% |########################################################################|\n"
     ]
    },
    {
     "name": "stdout",
     "output_type": "stream",
     "text": [
      "Train on 4970845 samples\n",
      "4970845/4970845 - 124s - loss: 0.5004\n",
      "Train on 4970845 samples\n",
      "4970845/4970845 - 124s - loss: 0.5004\n"
     ]
    },
    {
     "name": "stderr",
     "output_type": "stream",
     "text": [
      "100% |########################################################################|\n"
     ]
    },
    {
     "name": "stdout",
     "output_type": "stream",
     "text": [
      "Train on 4970845 samples\n",
      "4970845/4970845 - 124s - loss: 0.5004\n",
      "Train on 4970845 samples\n",
      "4970845/4970845 - 124s - loss: 0.5004\n"
     ]
    },
    {
     "name": "stderr",
     "output_type": "stream",
     "text": [
      "100% |########################################################################|\n"
     ]
    },
    {
     "name": "stdout",
     "output_type": "stream",
     "text": [
      "Train on 4970845 samples\n",
      "4970845/4970845 - 125s - loss: 0.5004\n",
      "Train on 4970845 samples\n",
      "4970845/4970845 - 124s - loss: 0.5004\n"
     ]
    },
    {
     "name": "stderr",
     "output_type": "stream",
     "text": [
      "100% |########################################################################|\n"
     ]
    },
    {
     "name": "stdout",
     "output_type": "stream",
     "text": [
      "Train on 4970845 samples\n",
      "4970845/4970845 - 124s - loss: 0.5004\n",
      "Train on 4970845 samples\n",
      "4970845/4970845 - 124s - loss: 0.5004\n"
     ]
    },
    {
     "name": "stderr",
     "output_type": "stream",
     "text": [
      "100% |########################################################################|\n"
     ]
    },
    {
     "name": "stdout",
     "output_type": "stream",
     "text": [
      "Train on 4970845 samples\n",
      "4970845/4970845 - 125s - loss: 0.5004\n"
     ]
    },
    {
     "name": "stderr",
     "output_type": "stream",
     "text": [
      "100% |########################################################################|\n"
     ]
    },
    {
     "name": "stdout",
     "output_type": "stream",
     "text": [
      "\n",
      " ==================================================\n",
      "run 25/32\n",
      "Train on 4970845 samples\n"
     ]
    },
    {
     "name": "stderr",
     "output_type": "stream",
     "text": [
      "/usr/local/lib/python3.6/dist-packages/tensorflow_core/python/framework/indexed_slices.py:433: UserWarning: Converting sparse IndexedSlices to a dense Tensor of unknown shape. This may consume a large amount of memory.\n",
      "  \"Converting sparse IndexedSlices to a dense Tensor of unknown shape. \"\n",
      "/usr/local/lib/python3.6/dist-packages/tensorflow_core/python/framework/indexed_slices.py:433: UserWarning: Converting sparse IndexedSlices to a dense Tensor of unknown shape. This may consume a large amount of memory.\n",
      "  \"Converting sparse IndexedSlices to a dense Tensor of unknown shape. \"\n"
     ]
    },
    {
     "name": "stdout",
     "output_type": "stream",
     "text": [
      "4970845/4970845 - 125s - loss: 0.5247\n"
     ]
    },
    {
     "name": "stderr",
     "output_type": "stream",
     "text": [
      "100% |########################################################################|\n"
     ]
    },
    {
     "name": "stdout",
     "output_type": "stream",
     "text": [
      "Train on 4970845 samples\n",
      "4970845/4970845 - 125s - loss: 0.5004\n",
      "Train on 4970845 samples\n",
      "4970845/4970845 - 125s - loss: 0.5004\n"
     ]
    },
    {
     "name": "stderr",
     "output_type": "stream",
     "text": [
      "100% |########################################################################|\n"
     ]
    },
    {
     "name": "stdout",
     "output_type": "stream",
     "text": [
      "Train on 4970845 samples\n",
      "4970845/4970845 - 125s - loss: 0.5004\n",
      "Train on 4970845 samples\n",
      "4970845/4970845 - 125s - loss: 0.5004\n"
     ]
    },
    {
     "name": "stderr",
     "output_type": "stream",
     "text": [
      "100% |########################################################################|\n"
     ]
    },
    {
     "name": "stdout",
     "output_type": "stream",
     "text": [
      "Train on 4970845 samples\n",
      "4970845/4970845 - 124s - loss: 0.5004\n",
      "Train on 4970845 samples\n",
      "4970845/4970845 - 125s - loss: 0.5004\n"
     ]
    },
    {
     "name": "stderr",
     "output_type": "stream",
     "text": [
      "100% |########################################################################|\n"
     ]
    },
    {
     "name": "stdout",
     "output_type": "stream",
     "text": [
      "Train on 4970845 samples\n",
      "4970845/4970845 - 124s - loss: 0.5004\n",
      "Train on 4970845 samples\n",
      "4970845/4970845 - 125s - loss: 0.5004\n"
     ]
    },
    {
     "name": "stderr",
     "output_type": "stream",
     "text": [
      "100% |########################################################################|\n"
     ]
    },
    {
     "name": "stdout",
     "output_type": "stream",
     "text": [
      "Train on 4970845 samples\n",
      "4970845/4970845 - 124s - loss: 0.5004\n"
     ]
    },
    {
     "name": "stderr",
     "output_type": "stream",
     "text": [
      "100% |########################################################################|\n"
     ]
    },
    {
     "name": "stdout",
     "output_type": "stream",
     "text": [
      "\n",
      " ==================================================\n",
      "run 26/32\n",
      "Train on 4970845 samples\n"
     ]
    },
    {
     "name": "stderr",
     "output_type": "stream",
     "text": [
      "/usr/local/lib/python3.6/dist-packages/tensorflow_core/python/framework/indexed_slices.py:433: UserWarning: Converting sparse IndexedSlices to a dense Tensor of unknown shape. This may consume a large amount of memory.\n",
      "  \"Converting sparse IndexedSlices to a dense Tensor of unknown shape. \"\n",
      "/usr/local/lib/python3.6/dist-packages/tensorflow_core/python/framework/indexed_slices.py:433: UserWarning: Converting sparse IndexedSlices to a dense Tensor of unknown shape. This may consume a large amount of memory.\n",
      "  \"Converting sparse IndexedSlices to a dense Tensor of unknown shape. \"\n"
     ]
    },
    {
     "name": "stdout",
     "output_type": "stream",
     "text": [
      "4970845/4970845 - 129s - loss: 0.4752\n"
     ]
    },
    {
     "name": "stderr",
     "output_type": "stream",
     "text": [
      "100% |########################################################################|\n"
     ]
    },
    {
     "name": "stdout",
     "output_type": "stream",
     "text": [
      "Train on 4970845 samples\n",
      "4970845/4970845 - 125s - loss: 0.3691\n",
      "Train on 4970845 samples\n",
      "4970845/4970845 - 125s - loss: 0.3637\n"
     ]
    },
    {
     "name": "stderr",
     "output_type": "stream",
     "text": [
      "100% |########################################################################|\n"
     ]
    },
    {
     "name": "stdout",
     "output_type": "stream",
     "text": [
      "Train on 4970845 samples\n",
      "4970845/4970845 - 124s - loss: 0.3607\n",
      "Train on 4970845 samples\n",
      "4970845/4970845 - 125s - loss: 0.3562\n"
     ]
    },
    {
     "name": "stderr",
     "output_type": "stream",
     "text": [
      "100% |########################################################################|\n"
     ]
    },
    {
     "name": "stdout",
     "output_type": "stream",
     "text": [
      "Train on 4970845 samples\n",
      "4970845/4970845 - 124s - loss: 0.3460\n",
      "Train on 4970845 samples\n",
      "4970845/4970845 - 125s - loss: 0.3350\n"
     ]
    },
    {
     "name": "stderr",
     "output_type": "stream",
     "text": [
      "100% |########################################################################|\n"
     ]
    },
    {
     "name": "stdout",
     "output_type": "stream",
     "text": [
      "Train on 4970845 samples\n",
      "4970845/4970845 - 125s - loss: 0.3247\n",
      "Train on 4970845 samples\n",
      "4970845/4970845 - 124s - loss: 0.3106\n"
     ]
    },
    {
     "name": "stderr",
     "output_type": "stream",
     "text": [
      "100% |########################################################################|\n"
     ]
    },
    {
     "name": "stdout",
     "output_type": "stream",
     "text": [
      "Train on 4970845 samples\n",
      "4970845/4970845 - 125s - loss: 0.2932\n"
     ]
    },
    {
     "name": "stderr",
     "output_type": "stream",
     "text": [
      "100% |########################################################################|\n"
     ]
    },
    {
     "name": "stdout",
     "output_type": "stream",
     "text": [
      "\n",
      " ==================================================\n",
      "run 27/32\n",
      "Train on 4970845 samples\n"
     ]
    },
    {
     "name": "stderr",
     "output_type": "stream",
     "text": [
      "/usr/local/lib/python3.6/dist-packages/tensorflow_core/python/framework/indexed_slices.py:433: UserWarning: Converting sparse IndexedSlices to a dense Tensor of unknown shape. This may consume a large amount of memory.\n",
      "  \"Converting sparse IndexedSlices to a dense Tensor of unknown shape. \"\n",
      "/usr/local/lib/python3.6/dist-packages/tensorflow_core/python/framework/indexed_slices.py:433: UserWarning: Converting sparse IndexedSlices to a dense Tensor of unknown shape. This may consume a large amount of memory.\n",
      "  \"Converting sparse IndexedSlices to a dense Tensor of unknown shape. \"\n"
     ]
    },
    {
     "name": "stdout",
     "output_type": "stream",
     "text": [
      "4970845/4970845 - 125s - loss: 0.4498\n"
     ]
    },
    {
     "name": "stderr",
     "output_type": "stream",
     "text": [
      "100% |########################################################################|\n"
     ]
    },
    {
     "name": "stdout",
     "output_type": "stream",
     "text": [
      "Train on 4970845 samples\n",
      "4970845/4970845 - 125s - loss: 0.3274\n",
      "Train on 4970845 samples\n",
      "4970845/4970845 - 125s - loss: 0.3077\n"
     ]
    },
    {
     "name": "stderr",
     "output_type": "stream",
     "text": [
      "100% |########################################################################|\n"
     ]
    },
    {
     "name": "stdout",
     "output_type": "stream",
     "text": [
      "Train on 4970845 samples\n",
      "4970845/4970845 - 125s - loss: 0.2946\n",
      "Train on 4970845 samples\n",
      "4970845/4970845 - 125s - loss: 0.2791\n"
     ]
    },
    {
     "name": "stderr",
     "output_type": "stream",
     "text": [
      "100% |########################################################################|\n"
     ]
    },
    {
     "name": "stdout",
     "output_type": "stream",
     "text": [
      "Train on 4970845 samples\n",
      "4970845/4970845 - 124s - loss: 0.2592\n",
      "Train on 4970845 samples\n",
      "4970845/4970845 - 125s - loss: 0.2400\n"
     ]
    },
    {
     "name": "stderr",
     "output_type": "stream",
     "text": [
      "100% |########################################################################|\n"
     ]
    },
    {
     "name": "stdout",
     "output_type": "stream",
     "text": [
      "Train on 4970845 samples\n",
      "4970845/4970845 - 125s - loss: 0.2249\n",
      "Train on 4970845 samples\n",
      "4970845/4970845 - 124s - loss: 0.2139\n"
     ]
    },
    {
     "name": "stderr",
     "output_type": "stream",
     "text": [
      "100% |########################################################################|\n"
     ]
    },
    {
     "name": "stdout",
     "output_type": "stream",
     "text": [
      "Train on 4970845 samples\n",
      "4970845/4970845 - 125s - loss: 0.2059\n"
     ]
    },
    {
     "name": "stderr",
     "output_type": "stream",
     "text": [
      "100% |########################################################################|\n"
     ]
    },
    {
     "name": "stdout",
     "output_type": "stream",
     "text": [
      "\n",
      " ==================================================\n",
      "run 28/32\n",
      "Train on 4970845 samples\n"
     ]
    },
    {
     "name": "stderr",
     "output_type": "stream",
     "text": [
      "/usr/local/lib/python3.6/dist-packages/tensorflow_core/python/framework/indexed_slices.py:433: UserWarning: Converting sparse IndexedSlices to a dense Tensor of unknown shape. This may consume a large amount of memory.\n",
      "  \"Converting sparse IndexedSlices to a dense Tensor of unknown shape. \"\n",
      "/usr/local/lib/python3.6/dist-packages/tensorflow_core/python/framework/indexed_slices.py:433: UserWarning: Converting sparse IndexedSlices to a dense Tensor of unknown shape. This may consume a large amount of memory.\n",
      "  \"Converting sparse IndexedSlices to a dense Tensor of unknown shape. \"\n"
     ]
    },
    {
     "name": "stdout",
     "output_type": "stream",
     "text": [
      "4970845/4970845 - 63s - loss: 0.5485\n"
     ]
    },
    {
     "name": "stderr",
     "output_type": "stream",
     "text": [
      "100% |########################################################################|\n"
     ]
    },
    {
     "name": "stdout",
     "output_type": "stream",
     "text": [
      "Train on 4970845 samples\n",
      "4970845/4970845 - 62s - loss: 0.5004\n",
      "Train on 4970845 samples\n",
      "4970845/4970845 - 63s - loss: 0.5004\n"
     ]
    },
    {
     "name": "stderr",
     "output_type": "stream",
     "text": [
      "100% |########################################################################|\n"
     ]
    },
    {
     "name": "stdout",
     "output_type": "stream",
     "text": [
      "Train on 4970845 samples\n",
      "4970845/4970845 - 62s - loss: 0.5004\n",
      "Train on 4970845 samples\n",
      "4970845/4970845 - 62s - loss: 0.5004\n"
     ]
    },
    {
     "name": "stderr",
     "output_type": "stream",
     "text": [
      "100% |########################################################################|\n"
     ]
    },
    {
     "name": "stdout",
     "output_type": "stream",
     "text": [
      "Train on 4970845 samples\n",
      "4970845/4970845 - 63s - loss: 0.5004\n",
      "Train on 4970845 samples\n",
      "4970845/4970845 - 62s - loss: 0.5004\n"
     ]
    },
    {
     "name": "stderr",
     "output_type": "stream",
     "text": [
      "100% |########################################################################|\n"
     ]
    },
    {
     "name": "stdout",
     "output_type": "stream",
     "text": [
      "Train on 4970845 samples\n",
      "4970845/4970845 - 62s - loss: 0.5004\n",
      "Train on 4970845 samples\n",
      "4970845/4970845 - 63s - loss: 0.5004\n"
     ]
    },
    {
     "name": "stderr",
     "output_type": "stream",
     "text": [
      "100% |########################################################################|\n"
     ]
    },
    {
     "name": "stdout",
     "output_type": "stream",
     "text": [
      "Train on 4970845 samples\n",
      "4970845/4970845 - 62s - loss: 0.5004\n"
     ]
    },
    {
     "name": "stderr",
     "output_type": "stream",
     "text": [
      "100% |########################################################################|\n"
     ]
    },
    {
     "name": "stdout",
     "output_type": "stream",
     "text": [
      "\n",
      " ==================================================\n",
      "run 29/32\n",
      "Train on 4970845 samples\n"
     ]
    },
    {
     "name": "stderr",
     "output_type": "stream",
     "text": [
      "/usr/local/lib/python3.6/dist-packages/tensorflow_core/python/framework/indexed_slices.py:433: UserWarning: Converting sparse IndexedSlices to a dense Tensor of unknown shape. This may consume a large amount of memory.\n",
      "  \"Converting sparse IndexedSlices to a dense Tensor of unknown shape. \"\n",
      "/usr/local/lib/python3.6/dist-packages/tensorflow_core/python/framework/indexed_slices.py:433: UserWarning: Converting sparse IndexedSlices to a dense Tensor of unknown shape. This may consume a large amount of memory.\n",
      "  \"Converting sparse IndexedSlices to a dense Tensor of unknown shape. \"\n"
     ]
    },
    {
     "name": "stdout",
     "output_type": "stream",
     "text": [
      "4970845/4970845 - 63s - loss: 0.5486\n"
     ]
    },
    {
     "name": "stderr",
     "output_type": "stream",
     "text": [
      "100% |########################################################################|\n"
     ]
    },
    {
     "name": "stdout",
     "output_type": "stream",
     "text": [
      "Train on 4970845 samples\n",
      "4970845/4970845 - 62s - loss: 0.5004\n",
      "Train on 4970845 samples\n",
      "4970845/4970845 - 63s - loss: 0.5004\n"
     ]
    },
    {
     "name": "stderr",
     "output_type": "stream",
     "text": [
      "100% |########################################################################|\n"
     ]
    },
    {
     "name": "stdout",
     "output_type": "stream",
     "text": [
      "Train on 4970845 samples\n",
      "4970845/4970845 - 63s - loss: 0.5004\n",
      "Train on 4970845 samples\n",
      "4970845/4970845 - 63s - loss: 0.5004\n"
     ]
    },
    {
     "name": "stderr",
     "output_type": "stream",
     "text": [
      "100% |########################################################################|\n"
     ]
    },
    {
     "name": "stdout",
     "output_type": "stream",
     "text": [
      "Train on 4970845 samples\n",
      "4970845/4970845 - 62s - loss: 0.5004\n",
      "Train on 4970845 samples\n",
      "4970845/4970845 - 66s - loss: 0.5004\n"
     ]
    },
    {
     "name": "stderr",
     "output_type": "stream",
     "text": [
      "100% |########################################################################|\n"
     ]
    },
    {
     "name": "stdout",
     "output_type": "stream",
     "text": [
      "Train on 4970845 samples\n",
      "4970845/4970845 - 62s - loss: 0.5004\n",
      "Train on 4970845 samples\n",
      "4970845/4970845 - 62s - loss: 0.5004\n"
     ]
    },
    {
     "name": "stderr",
     "output_type": "stream",
     "text": [
      "100% |########################################################################|\n"
     ]
    },
    {
     "name": "stdout",
     "output_type": "stream",
     "text": [
      "Train on 4970845 samples\n",
      "4970845/4970845 - 63s - loss: 0.5004\n"
     ]
    },
    {
     "name": "stderr",
     "output_type": "stream",
     "text": [
      "100% |########################################################################|\n"
     ]
    },
    {
     "name": "stdout",
     "output_type": "stream",
     "text": [
      "\n",
      " ==================================================\n",
      "run 30/32\n",
      "Train on 4970845 samples\n"
     ]
    },
    {
     "name": "stderr",
     "output_type": "stream",
     "text": [
      "/usr/local/lib/python3.6/dist-packages/tensorflow_core/python/framework/indexed_slices.py:433: UserWarning: Converting sparse IndexedSlices to a dense Tensor of unknown shape. This may consume a large amount of memory.\n",
      "  \"Converting sparse IndexedSlices to a dense Tensor of unknown shape. \"\n",
      "/usr/local/lib/python3.6/dist-packages/tensorflow_core/python/framework/indexed_slices.py:433: UserWarning: Converting sparse IndexedSlices to a dense Tensor of unknown shape. This may consume a large amount of memory.\n",
      "  \"Converting sparse IndexedSlices to a dense Tensor of unknown shape. \"\n"
     ]
    },
    {
     "name": "stdout",
     "output_type": "stream",
     "text": [
      "4970845/4970845 - 66s - loss: 0.5286\n"
     ]
    },
    {
     "name": "stderr",
     "output_type": "stream",
     "text": [
      "100% |########################################################################|\n"
     ]
    },
    {
     "name": "stdout",
     "output_type": "stream",
     "text": [
      "Train on 4970845 samples\n",
      "4970845/4970845 - 62s - loss: 0.3927\n",
      "Train on 4970845 samples\n",
      "4970845/4970845 - 63s - loss: 0.3698\n"
     ]
    },
    {
     "name": "stderr",
     "output_type": "stream",
     "text": [
      "100% |########################################################################|\n"
     ]
    },
    {
     "name": "stdout",
     "output_type": "stream",
     "text": [
      "Train on 4970845 samples\n",
      "4970845/4970845 - 63s - loss: 0.3653\n",
      "Train on 4970845 samples\n",
      "4970845/4970845 - 63s - loss: 0.3624\n"
     ]
    },
    {
     "name": "stderr",
     "output_type": "stream",
     "text": [
      "100% |########################################################################|\n"
     ]
    },
    {
     "name": "stdout",
     "output_type": "stream",
     "text": [
      "Train on 4970845 samples\n",
      "4970845/4970845 - 63s - loss: 0.3601\n",
      "Train on 4970845 samples\n",
      "4970845/4970845 - 63s - loss: 0.3582\n"
     ]
    },
    {
     "name": "stderr",
     "output_type": "stream",
     "text": [
      "100% |########################################################################|\n"
     ]
    },
    {
     "name": "stdout",
     "output_type": "stream",
     "text": [
      "Train on 4970845 samples\n",
      "4970845/4970845 - 63s - loss: 0.3562\n",
      "Train on 4970845 samples\n",
      "4970845/4970845 - 63s - loss: 0.3531\n"
     ]
    },
    {
     "name": "stderr",
     "output_type": "stream",
     "text": [
      "100% |########################################################################|\n"
     ]
    },
    {
     "name": "stdout",
     "output_type": "stream",
     "text": [
      "Train on 4970845 samples\n",
      "4970845/4970845 - 62s - loss: 0.3477\n"
     ]
    },
    {
     "name": "stderr",
     "output_type": "stream",
     "text": [
      "100% |########################################################################|\n"
     ]
    },
    {
     "name": "stdout",
     "output_type": "stream",
     "text": [
      "\n",
      " ==================================================\n",
      "run 31/32\n",
      "Train on 4970845 samples\n"
     ]
    },
    {
     "name": "stderr",
     "output_type": "stream",
     "text": [
      "/usr/local/lib/python3.6/dist-packages/tensorflow_core/python/framework/indexed_slices.py:433: UserWarning: Converting sparse IndexedSlices to a dense Tensor of unknown shape. This may consume a large amount of memory.\n",
      "  \"Converting sparse IndexedSlices to a dense Tensor of unknown shape. \"\n",
      "/usr/local/lib/python3.6/dist-packages/tensorflow_core/python/framework/indexed_slices.py:433: UserWarning: Converting sparse IndexedSlices to a dense Tensor of unknown shape. This may consume a large amount of memory.\n",
      "  \"Converting sparse IndexedSlices to a dense Tensor of unknown shape. \"\n"
     ]
    },
    {
     "name": "stdout",
     "output_type": "stream",
     "text": [
      "4970845/4970845 - 63s - loss: 0.4968\n"
     ]
    },
    {
     "name": "stderr",
     "output_type": "stream",
     "text": [
      "100% |########################################################################|\n"
     ]
    },
    {
     "name": "stdout",
     "output_type": "stream",
     "text": [
      "Train on 4970845 samples\n",
      "4970845/4970845 - 63s - loss: 0.3466\n",
      "Train on 4970845 samples\n",
      "4970845/4970845 - 63s - loss: 0.3396\n"
     ]
    },
    {
     "name": "stderr",
     "output_type": "stream",
     "text": [
      "100% |########################################################################|\n"
     ]
    },
    {
     "name": "stdout",
     "output_type": "stream",
     "text": [
      "Train on 4970845 samples\n",
      "4970845/4970845 - 63s - loss: 0.3364\n",
      "Train on 4970845 samples\n",
      "4970845/4970845 - 63s - loss: 0.3304\n"
     ]
    },
    {
     "name": "stderr",
     "output_type": "stream",
     "text": [
      "100% |########################################################################|\n"
     ]
    },
    {
     "name": "stdout",
     "output_type": "stream",
     "text": [
      "Train on 4970845 samples\n",
      "4970845/4970845 - 62s - loss: 0.3188\n",
      "Train on 4970845 samples\n",
      "4970845/4970845 - 63s - loss: 0.3002\n"
     ]
    },
    {
     "name": "stderr",
     "output_type": "stream",
     "text": [
      "100% |########################################################################|\n"
     ]
    },
    {
     "name": "stdout",
     "output_type": "stream",
     "text": [
      "Train on 4970845 samples\n",
      "4970845/4970845 - 63s - loss: 0.2778\n",
      "Train on 4970845 samples\n",
      "4970845/4970845 - 63s - loss: 0.2563\n"
     ]
    },
    {
     "name": "stderr",
     "output_type": "stream",
     "text": [
      "100% |########################################################################|\n"
     ]
    },
    {
     "name": "stdout",
     "output_type": "stream",
     "text": [
      "Train on 4970845 samples\n",
      "4970845/4970845 - 63s - loss: 0.2380\n"
     ]
    },
    {
     "name": "stderr",
     "output_type": "stream",
     "text": [
      "100% |########################################################################|\n"
     ]
    }
   ],
   "source": [
    "from Evaluation import get_metrics\n",
    "\n",
    "run = 0\n",
    "for learning_rate in learning_rates:\n",
    "    NCF.GMF_params['learning_rate'] = learning_rate\n",
    "    \n",
    "    for batch_size in batch_sizes:\n",
    "        NCF.GMF_params['batch_size'] = batch_size\n",
    "        \n",
    "        for reg in regs:\n",
    "            print('\\n', '='*50)\n",
    "            print(f'run {run}/{total_runs}')\n",
    "            NCF.GMF_params['regs'] = reg\n",
    "            NCF.build_GMF_model()\n",
    "            \n",
    "            val_metrics = NCF.train_model('GMF', samples, train_set, test_set.iloc[:500], verbose=2) \n",
    "            ranked_df = NCF.sample_prediction('GMF', train_set, test_set)\n",
    "            test_metrics = get_metrics(ranked_df, steps, rank_at, stats=False)\n",
    "            results = dict(NCF.GMF_params,\n",
    "                **{'test_rec@10':test_metrics['recall'].iloc[2], \n",
    "                'val_metrics':val_metrics,\n",
    "                'test_metrics':test_metrics,\n",
    "                'loss':NCF.history['GMF']['loss']})\n",
    "\n",
    "            pd.read_pickle(store_path + gs_result_name).append(results, ignore_index=True).to_pickle(store_path + gs_result_name)\n",
    "            \n",
    "            run += 1      "
   ]
  },
  {
   "cell_type": "code",
   "execution_count": 4,
   "metadata": {},
   "outputs": [
    {
     "data": {
      "text/html": [
       "<div>\n",
       "<style scoped>\n",
       "    .dataframe tbody tr th:only-of-type {\n",
       "        vertical-align: middle;\n",
       "    }\n",
       "\n",
       "    .dataframe tbody tr th {\n",
       "        vertical-align: top;\n",
       "    }\n",
       "\n",
       "    .dataframe thead th {\n",
       "        text-align: right;\n",
       "    }\n",
       "</style>\n",
       "<table border=\"1\" class=\"dataframe\">\n",
       "  <thead>\n",
       "    <tr style=\"text-align: right;\">\n",
       "      <th></th>\n",
       "      <th>test_rec@10</th>\n",
       "      <th>val_metrics</th>\n",
       "      <th>test_metrics</th>\n",
       "      <th>loss</th>\n",
       "      <th>learning_rate</th>\n",
       "      <th>batch_size</th>\n",
       "      <th>nolf</th>\n",
       "      <th>regs</th>\n",
       "      <th>epochs</th>\n",
       "      <th>sample_size</th>\n",
       "      <th>num_neg</th>\n",
       "      <th>ckpt_dir</th>\n",
       "      <th>optimizer</th>\n",
       "    </tr>\n",
       "  </thead>\n",
       "  <tbody>\n",
       "    <tr>\n",
       "      <th>8</th>\n",
       "      <td>0.001490</td>\n",
       "      <td>[[rank_at, hitcounts, recall, precision, ndcg]...</td>\n",
       "      <td>rank_at  hitcounts    recall  precision    ...</td>\n",
       "      <td>[0.25461, 0.17192, 0.15172, 0.14021, 0.13227, ...</td>\n",
       "      <td>0.0005</td>\n",
       "      <td>512</td>\n",
       "      <td>8</td>\n",
       "      <td>[0.001, 0.001]</td>\n",
       "      <td>10</td>\n",
       "      <td>994169</td>\n",
       "      <td>4</td>\n",
       "      <td>../NeuMF_storage/GMF_ckpts_ml_1m_nolf_8/ckpts</td>\n",
       "      <td>Adam</td>\n",
       "    </tr>\n",
       "    <tr>\n",
       "      <th>12</th>\n",
       "      <td>0.001656</td>\n",
       "      <td>[[rank_at, hitcounts, recall, precision, ndcg]...</td>\n",
       "      <td>rank_at  hitcounts    recall  precision    ...</td>\n",
       "      <td>[0.25461, 0.17192, 0.15172, 0.14021, 0.13227, ...</td>\n",
       "      <td>0.0001</td>\n",
       "      <td>1024</td>\n",
       "      <td>8</td>\n",
       "      <td>[0.001, 0.001]</td>\n",
       "      <td>10</td>\n",
       "      <td>994169</td>\n",
       "      <td>4</td>\n",
       "      <td>../NeuMF_storage/GMF_ckpts_ml_1m_nolf_8/ckpts</td>\n",
       "      <td>Adam</td>\n",
       "    </tr>\n",
       "    <tr>\n",
       "      <th>13</th>\n",
       "      <td>0.002318</td>\n",
       "      <td>[[rank_at, hitcounts, recall, precision, ndcg]...</td>\n",
       "      <td>rank_at  hitcounts    recall  precision    ...</td>\n",
       "      <td>[0.25461, 0.17192, 0.15172, 0.14021, 0.13227, ...</td>\n",
       "      <td>0.0001</td>\n",
       "      <td>512</td>\n",
       "      <td>8</td>\n",
       "      <td>[0.0001, 0.0001]</td>\n",
       "      <td>10</td>\n",
       "      <td>994169</td>\n",
       "      <td>4</td>\n",
       "      <td>../NeuMF_storage/GMF_ckpts_ml_1m_nolf_8/ckpts</td>\n",
       "      <td>Adam</td>\n",
       "    </tr>\n",
       "    <tr>\n",
       "      <th>5</th>\n",
       "      <td>0.002483</td>\n",
       "      <td>[[rank_at, hitcounts, recall, precision, ndcg]...</td>\n",
       "      <td>rank_at  hitcounts    recall  precision    ...</td>\n",
       "      <td>[0.25461, 0.17192, 0.15172, 0.14021, 0.13227, ...</td>\n",
       "      <td>0.0010</td>\n",
       "      <td>512</td>\n",
       "      <td>8</td>\n",
       "      <td>[0.0001, 0.0001]</td>\n",
       "      <td>10</td>\n",
       "      <td>994169</td>\n",
       "      <td>4</td>\n",
       "      <td>../NeuMF_storage/GMF_ckpts_ml_1m_nolf_8/ckpts</td>\n",
       "      <td>Adam</td>\n",
       "    </tr>\n",
       "    <tr>\n",
       "      <th>29</th>\n",
       "      <td>0.002649</td>\n",
       "      <td>[[rank_at, hitcounts, recall, precision, ndcg]...</td>\n",
       "      <td>rank_at  hitcounts    recall  precision    ...</td>\n",
       "      <td>[0.54862, 0.5004, 0.5004, 0.5004, 0.5004, 0.50...</td>\n",
       "      <td>0.0001</td>\n",
       "      <td>256</td>\n",
       "      <td>8</td>\n",
       "      <td>[0.0001, 0.0001]</td>\n",
       "      <td>10</td>\n",
       "      <td>994169</td>\n",
       "      <td>4</td>\n",
       "      <td>../NeuMF_storage/GMF_ckpts_ml_1m_nolf_8/ckpts</td>\n",
       "      <td>Adam</td>\n",
       "    </tr>\n",
       "    <tr>\n",
       "      <th>...</th>\n",
       "      <td>...</td>\n",
       "      <td>...</td>\n",
       "      <td>...</td>\n",
       "      <td>...</td>\n",
       "      <td>...</td>\n",
       "      <td>...</td>\n",
       "      <td>...</td>\n",
       "      <td>...</td>\n",
       "      <td>...</td>\n",
       "      <td>...</td>\n",
       "      <td>...</td>\n",
       "      <td>...</td>\n",
       "      <td>...</td>\n",
       "    </tr>\n",
       "    <tr>\n",
       "      <th>14</th>\n",
       "      <td>0.475497</td>\n",
       "      <td>[[rank_at, hitcounts, recall, precision, ndcg]...</td>\n",
       "      <td>rank_at  hitcounts    recall  precision    ...</td>\n",
       "      <td>[0.25461, 0.17192, 0.15172, 0.14021, 0.13227, ...</td>\n",
       "      <td>0.0001</td>\n",
       "      <td>512</td>\n",
       "      <td>8</td>\n",
       "      <td>[1e-05, 1e-05]</td>\n",
       "      <td>10</td>\n",
       "      <td>994169</td>\n",
       "      <td>4</td>\n",
       "      <td>../NeuMF_storage/GMF_ckpts_ml_1m_nolf_8/ckpts</td>\n",
       "      <td>Adam</td>\n",
       "    </tr>\n",
       "    <tr>\n",
       "      <th>2</th>\n",
       "      <td>0.476987</td>\n",
       "      <td>[[rank_at, hitcounts, recall, precision, ndcg]...</td>\n",
       "      <td>rank_at  hitcounts    recall  precision    ...</td>\n",
       "      <td>[0.25461, 0.17192, 0.15172, 0.14021, 0.13227, ...</td>\n",
       "      <td>0.0050</td>\n",
       "      <td>512</td>\n",
       "      <td>8</td>\n",
       "      <td>[1e-05, 1e-05]</td>\n",
       "      <td>10</td>\n",
       "      <td>994169</td>\n",
       "      <td>4</td>\n",
       "      <td>../NeuMF_storage/GMF_ckpts_ml_1m_nolf_8/ckpts</td>\n",
       "      <td>Adam</td>\n",
       "    </tr>\n",
       "    <tr>\n",
       "      <th>22</th>\n",
       "      <td>0.479636</td>\n",
       "      <td>[[rank_at, hitcounts, recall, precision, ndcg]...</td>\n",
       "      <td>rank_at  hitcounts    recall  precision    ...</td>\n",
       "      <td>[0.40042, 0.35553, 0.31952, 0.29065, 0.28179, ...</td>\n",
       "      <td>0.0005</td>\n",
       "      <td>256</td>\n",
       "      <td>8</td>\n",
       "      <td>[1e-05, 1e-05]</td>\n",
       "      <td>10</td>\n",
       "      <td>994169</td>\n",
       "      <td>4</td>\n",
       "      <td>../NeuMF_storage/GMF_ckpts_ml_1m_nolf_8/ckpts</td>\n",
       "      <td>Adam</td>\n",
       "    </tr>\n",
       "    <tr>\n",
       "      <th>10</th>\n",
       "      <td>0.482616</td>\n",
       "      <td>[[rank_at, hitcounts, recall, precision, ndcg]...</td>\n",
       "      <td>rank_at  hitcounts    recall  precision    ...</td>\n",
       "      <td>[0.34864, 0.28134, 0.26854, 0.26243, 0.25928, ...</td>\n",
       "      <td>0.0010</td>\n",
       "      <td>128</td>\n",
       "      <td>8</td>\n",
       "      <td>[1e-05, 1e-05]</td>\n",
       "      <td>10</td>\n",
       "      <td>994169</td>\n",
       "      <td>4</td>\n",
       "      <td>../NeuMF_storage/GMF_ckpts_ml_1m_nolf_8/ckpts</td>\n",
       "      <td>Adam</td>\n",
       "    </tr>\n",
       "    <tr>\n",
       "      <th>18</th>\n",
       "      <td>0.488742</td>\n",
       "      <td>[[rank_at, hitcounts, recall, precision, ndcg]...</td>\n",
       "      <td>rank_at  hitcounts    recall  precision    ...</td>\n",
       "      <td>[0.39013, 0.33804, 0.32791, 0.32409, 0.32258, ...</td>\n",
       "      <td>0.0005</td>\n",
       "      <td>128</td>\n",
       "      <td>8</td>\n",
       "      <td>[1e-05, 1e-05]</td>\n",
       "      <td>10</td>\n",
       "      <td>994169</td>\n",
       "      <td>4</td>\n",
       "      <td>../NeuMF_storage/GMF_ckpts_ml_1m_nolf_8/ckpts</td>\n",
       "      <td>Adam</td>\n",
       "    </tr>\n",
       "  </tbody>\n",
       "</table>\n",
       "<p>64 rows × 13 columns</p>\n",
       "</div>"
      ],
      "text/plain": [
       "    test_rec@10                                        val_metrics  \\\n",
       "8      0.001490  [[rank_at, hitcounts, recall, precision, ndcg]...   \n",
       "12     0.001656  [[rank_at, hitcounts, recall, precision, ndcg]...   \n",
       "13     0.002318  [[rank_at, hitcounts, recall, precision, ndcg]...   \n",
       "5      0.002483  [[rank_at, hitcounts, recall, precision, ndcg]...   \n",
       "29     0.002649  [[rank_at, hitcounts, recall, precision, ndcg]...   \n",
       "..          ...                                                ...   \n",
       "14     0.475497  [[rank_at, hitcounts, recall, precision, ndcg]...   \n",
       "2      0.476987  [[rank_at, hitcounts, recall, precision, ndcg]...   \n",
       "22     0.479636  [[rank_at, hitcounts, recall, precision, ndcg]...   \n",
       "10     0.482616  [[rank_at, hitcounts, recall, precision, ndcg]...   \n",
       "18     0.488742  [[rank_at, hitcounts, recall, precision, ndcg]...   \n",
       "\n",
       "                                         test_metrics  \\\n",
       "8      rank_at  hitcounts    recall  precision    ...   \n",
       "12     rank_at  hitcounts    recall  precision    ...   \n",
       "13     rank_at  hitcounts    recall  precision    ...   \n",
       "5      rank_at  hitcounts    recall  precision    ...   \n",
       "29     rank_at  hitcounts    recall  precision    ...   \n",
       "..                                                ...   \n",
       "14     rank_at  hitcounts    recall  precision    ...   \n",
       "2      rank_at  hitcounts    recall  precision    ...   \n",
       "22     rank_at  hitcounts    recall  precision    ...   \n",
       "10     rank_at  hitcounts    recall  precision    ...   \n",
       "18     rank_at  hitcounts    recall  precision    ...   \n",
       "\n",
       "                                                 loss  learning_rate  \\\n",
       "8   [0.25461, 0.17192, 0.15172, 0.14021, 0.13227, ...         0.0005   \n",
       "12  [0.25461, 0.17192, 0.15172, 0.14021, 0.13227, ...         0.0001   \n",
       "13  [0.25461, 0.17192, 0.15172, 0.14021, 0.13227, ...         0.0001   \n",
       "5   [0.25461, 0.17192, 0.15172, 0.14021, 0.13227, ...         0.0010   \n",
       "29  [0.54862, 0.5004, 0.5004, 0.5004, 0.5004, 0.50...         0.0001   \n",
       "..                                                ...            ...   \n",
       "14  [0.25461, 0.17192, 0.15172, 0.14021, 0.13227, ...         0.0001   \n",
       "2   [0.25461, 0.17192, 0.15172, 0.14021, 0.13227, ...         0.0050   \n",
       "22  [0.40042, 0.35553, 0.31952, 0.29065, 0.28179, ...         0.0005   \n",
       "10  [0.34864, 0.28134, 0.26854, 0.26243, 0.25928, ...         0.0010   \n",
       "18  [0.39013, 0.33804, 0.32791, 0.32409, 0.32258, ...         0.0005   \n",
       "\n",
       "   batch_size nolf              regs epochs sample_size num_neg  \\\n",
       "8         512    8    [0.001, 0.001]     10      994169       4   \n",
       "12       1024    8    [0.001, 0.001]     10      994169       4   \n",
       "13        512    8  [0.0001, 0.0001]     10      994169       4   \n",
       "5         512    8  [0.0001, 0.0001]     10      994169       4   \n",
       "29        256    8  [0.0001, 0.0001]     10      994169       4   \n",
       "..        ...  ...               ...    ...         ...     ...   \n",
       "14        512    8    [1e-05, 1e-05]     10      994169       4   \n",
       "2         512    8    [1e-05, 1e-05]     10      994169       4   \n",
       "22        256    8    [1e-05, 1e-05]     10      994169       4   \n",
       "10        128    8    [1e-05, 1e-05]     10      994169       4   \n",
       "18        128    8    [1e-05, 1e-05]     10      994169       4   \n",
       "\n",
       "                                         ckpt_dir optimizer  \n",
       "8   ../NeuMF_storage/GMF_ckpts_ml_1m_nolf_8/ckpts      Adam  \n",
       "12  ../NeuMF_storage/GMF_ckpts_ml_1m_nolf_8/ckpts      Adam  \n",
       "13  ../NeuMF_storage/GMF_ckpts_ml_1m_nolf_8/ckpts      Adam  \n",
       "5   ../NeuMF_storage/GMF_ckpts_ml_1m_nolf_8/ckpts      Adam  \n",
       "29  ../NeuMF_storage/GMF_ckpts_ml_1m_nolf_8/ckpts      Adam  \n",
       "..                                            ...       ...  \n",
       "14  ../NeuMF_storage/GMF_ckpts_ml_1m_nolf_8/ckpts      Adam  \n",
       "2   ../NeuMF_storage/GMF_ckpts_ml_1m_nolf_8/ckpts      Adam  \n",
       "22  ../NeuMF_storage/GMF_ckpts_ml_1m_nolf_8/ckpts      Adam  \n",
       "10  ../NeuMF_storage/GMF_ckpts_ml_1m_nolf_8/ckpts      Adam  \n",
       "18  ../NeuMF_storage/GMF_ckpts_ml_1m_nolf_8/ckpts      Adam  \n",
       "\n",
       "[64 rows x 13 columns]"
      ]
     },
     "execution_count": 4,
     "metadata": {},
     "output_type": "execute_result"
    }
   ],
   "source": [
    "pd.read_pickle(store_path + 'all_GMF_GS')"
   ]
  },
  {
   "cell_type": "code",
   "execution_count": 2,
   "metadata": {},
   "outputs": [
    {
     "ename": "NameError",
     "evalue": "name 'res' is not defined",
     "output_type": "error",
     "traceback": [
      "\u001b[0;31m---------------------------------------------------------------------------\u001b[0m",
      "\u001b[0;31mNameError\u001b[0m                                 Traceback (most recent call last)",
      "\u001b[0;32m<ipython-input-2-e7cb0a5fec60>\u001b[0m in \u001b[0;36m<module>\u001b[0;34m\u001b[0m\n\u001b[0;32m----> 1\u001b[0;31m \u001b[0mres\u001b[0m\u001b[0;34m.\u001b[0m\u001b[0msort_values\u001b[0m\u001b[0;34m(\u001b[0m\u001b[0;34m'test_rec@10'\u001b[0m\u001b[0;34m)\u001b[0m\u001b[0;34m[\u001b[0m\u001b[0;34m-\u001b[0m\u001b[0;36m2\u001b[0m\u001b[0;34m:\u001b[0m\u001b[0;34m-\u001b[0m\u001b[0;36m1\u001b[0m\u001b[0;34m]\u001b[0m\u001b[0;34m\u001b[0m\u001b[0;34m\u001b[0m\u001b[0m\n\u001b[0m",
      "\u001b[0;31mNameError\u001b[0m: name 'res' is not defined"
     ]
    }
   ],
   "source": [
    "res.sort_values('test_rec@10')[-2:-1]"
   ]
  },
  {
   "cell_type": "code",
   "execution_count": 48,
   "metadata": {},
   "outputs": [],
   "source": [
    "res.to_pickle(store_path + 'all_GMF_GS')"
   ]
  },
  {
   "cell_type": "code",
   "execution_count": null,
   "metadata": {},
   "outputs": [],
   "source": []
  }
 ],
 "metadata": {
  "kernelspec": {
   "display_name": "Python 3",
   "language": "python",
   "name": "python3"
  },
  "language_info": {
   "codemirror_mode": {
    "name": "ipython",
    "version": 3
   },
   "file_extension": ".py",
   "mimetype": "text/x-python",
   "name": "python",
   "nbconvert_exporter": "python",
   "pygments_lexer": "ipython3",
   "version": "3.6.8"
  },
  "toc": {
   "base_numbering": 1,
   "nav_menu": {},
   "number_sections": true,
   "sideBar": true,
   "skip_h1_title": false,
   "title_cell": "Table of Contents",
   "title_sidebar": "Contents",
   "toc_cell": false,
   "toc_position": {},
   "toc_section_display": true,
   "toc_window_display": true
  }
 },
 "nbformat": 4,
 "nbformat_minor": 4
}
