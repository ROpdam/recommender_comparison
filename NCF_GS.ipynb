{
 "cells": [
  {
   "cell_type": "code",
   "execution_count": 101,
   "metadata": {},
   "outputs": [
    {
     "name": "stdout",
     "output_type": "stream",
     "text": [
      "The autoreload extension is already loaded. To reload it, use:\n",
      "  %reload_ext autoreload\n"
     ]
    }
   ],
   "source": [
    "import pandas as pd\n",
    "import numpy as np\n",
    "import tensorflow as tf\n",
    "import os\n",
    "import progressbar as progressbar\n",
    "\n",
    "%load_ext autoreload\n",
    "%autoreload 2"
   ]
  },
  {
   "cell_type": "code",
   "execution_count": 102,
   "metadata": {},
   "outputs": [
    {
     "name": "stdout",
     "output_type": "stream",
     "text": [
      "TF version: 2.1.0\n"
     ]
    },
    {
     "data": {
      "text/plain": [
       "[PhysicalDevice(name='/physical_device:CPU:0', device_type='CPU'),\n",
       " PhysicalDevice(name='/physical_device:XLA_CPU:0', device_type='XLA_CPU'),\n",
       " PhysicalDevice(name='/physical_device:XLA_GPU:0', device_type='XLA_GPU'),\n",
       " PhysicalDevice(name='/physical_device:GPU:0', device_type='GPU')]"
      ]
     },
     "execution_count": 102,
     "metadata": {},
     "output_type": "execute_result"
    }
   ],
   "source": [
    "print(f'TF version: {tf.__version__}')\n",
    "tf.config.list_physical_devices()"
   ]
  },
  {
   "cell_type": "markdown",
   "metadata": {},
   "source": [
    "# Read Data"
   ]
  },
  {
   "cell_type": "code",
   "execution_count": 103,
   "metadata": {},
   "outputs": [],
   "source": [
    "# path = 'C:/Users/robin.opdam/Google Drive/Thesis (Msc)/Thesis_shared_files/'\n",
    "path = '/Users/Robin/Google Drive/Thesis (Msc)/Thesis_shared_files/'\n",
    "path = '../datasets/'"
   ]
  },
  {
   "cell_type": "markdown",
   "metadata": {},
   "source": [
    "## Amazon Fashion"
   ]
  },
  {
   "cell_type": "code",
   "execution_count": 104,
   "metadata": {},
   "outputs": [],
   "source": [
    "# data_path = 'data/Amazon/'\n",
    "# file_name = 'Amazon_full' # file_name = 'Amazon_05_users' \n",
    "# file_name = 'Amazon_01_users'\n",
    "# file_name = 'am_80k_users'\n",
    "file_name = 'am_40k_users'"
   ]
  },
  {
   "cell_type": "markdown",
   "metadata": {},
   "source": [
    "## MovieLens"
   ]
  },
  {
   "cell_type": "code",
   "execution_count": 85,
   "metadata": {},
   "outputs": [],
   "source": [
    "data_path = 'data/ML/'\n",
    "# file_name = 'ml_1m'\n",
    "# file_name = 'ML_full' # file_name = 'ML_05_users'\n",
    "file_name = 'ML_01_users'"
   ]
  },
  {
   "cell_type": "code",
   "execution_count": 105,
   "metadata": {},
   "outputs": [
    {
     "data": {
      "text/html": [
       "<div>\n",
       "<style scoped>\n",
       "    .dataframe tbody tr th:only-of-type {\n",
       "        vertical-align: middle;\n",
       "    }\n",
       "\n",
       "    .dataframe tbody tr th {\n",
       "        vertical-align: top;\n",
       "    }\n",
       "\n",
       "    .dataframe thead th {\n",
       "        text-align: right;\n",
       "    }\n",
       "</style>\n",
       "<table border=\"1\" class=\"dataframe\">\n",
       "  <thead>\n",
       "    <tr style=\"text-align: right;\">\n",
       "      <th></th>\n",
       "      <th>user</th>\n",
       "      <th>item</th>\n",
       "      <th>datetime</th>\n",
       "      <th>rating</th>\n",
       "      <th>user_id</th>\n",
       "      <th>item_id</th>\n",
       "    </tr>\n",
       "  </thead>\n",
       "  <tbody>\n",
       "    <tr>\n",
       "      <th>1845392</th>\n",
       "      <td>AGYA6NBNU1VUH</td>\n",
       "      <td>B0020B4EYU</td>\n",
       "      <td>2015-04-14</td>\n",
       "      <td>3.0</td>\n",
       "      <td>34371</td>\n",
       "      <td>11002</td>\n",
       "    </tr>\n",
       "    <tr>\n",
       "      <th>919114</th>\n",
       "      <td>AGYA6NBNU1VUH</td>\n",
       "      <td>B0000ZFDD4</td>\n",
       "      <td>2015-04-14</td>\n",
       "      <td>3.0</td>\n",
       "      <td>34371</td>\n",
       "      <td>179</td>\n",
       "    </tr>\n",
       "    <tr>\n",
       "      <th>5872323</th>\n",
       "      <td>AGYA6NBNU1VUH</td>\n",
       "      <td>B00KR6I6IK</td>\n",
       "      <td>2015-04-14</td>\n",
       "      <td>5.0</td>\n",
       "      <td>34371</td>\n",
       "      <td>75683</td>\n",
       "    </tr>\n",
       "    <tr>\n",
       "      <th>1237107</th>\n",
       "      <td>AGYA6NBNU1VUH</td>\n",
       "      <td>B0000ZFDD4</td>\n",
       "      <td>2015-04-14</td>\n",
       "      <td>3.0</td>\n",
       "      <td>34371</td>\n",
       "      <td>179</td>\n",
       "    </tr>\n",
       "    <tr>\n",
       "      <th>9971633</th>\n",
       "      <td>AGYA6NBNU1VUH</td>\n",
       "      <td>B008GXBRNM</td>\n",
       "      <td>2015-12-20</td>\n",
       "      <td>5.0</td>\n",
       "      <td>34371</td>\n",
       "      <td>35964</td>\n",
       "    </tr>\n",
       "  </tbody>\n",
       "</table>\n",
       "</div>"
      ],
      "text/plain": [
       "                  user        item   datetime  rating  user_id  item_id\n",
       "1845392  AGYA6NBNU1VUH  B0020B4EYU 2015-04-14     3.0    34371    11002\n",
       "919114   AGYA6NBNU1VUH  B0000ZFDD4 2015-04-14     3.0    34371      179\n",
       "5872323  AGYA6NBNU1VUH  B00KR6I6IK 2015-04-14     5.0    34371    75683\n",
       "1237107  AGYA6NBNU1VUH  B0000ZFDD4 2015-04-14     3.0    34371      179\n",
       "9971633  AGYA6NBNU1VUH  B008GXBRNM 2015-12-20     5.0    34371    35964"
      ]
     },
     "execution_count": 105,
     "metadata": {},
     "output_type": "execute_result"
    }
   ],
   "source": [
    "df = pd.read_pickle(path + file_name)\n",
    "df.user_id = df.user_id.astype('category').cat.codes\n",
    "df.item_id = df.item_id.astype('category').cat.codes\n",
    "df.head()"
   ]
  },
  {
   "cell_type": "markdown",
   "metadata": {},
   "source": [
    "### Create ML split (paper)"
   ]
  },
  {
   "cell_type": "code",
   "execution_count": 7,
   "metadata": {},
   "outputs": [
    {
     "name": "stderr",
     "output_type": "stream",
     "text": [
      "100% |########################################################################|\n"
     ]
    }
   ],
   "source": [
    "test_set = pd.DataFrame()\n",
    "train_set = pd.DataFrame()\n",
    "pbar = progressbar.ProgressBar()\n",
    "for u in pbar(df.user_id.unique()):\n",
    "    last_item = df[df.user_id==u].iloc[-1:]\n",
    "    test_set = test_set.append(last_item)\n",
    "    remaining = df[df.user_id==u].iloc[:-1]\n",
    "    train_set = pd.concat([train_set, remaining])"
   ]
  },
  {
   "cell_type": "code",
   "execution_count": 87,
   "metadata": {},
   "outputs": [],
   "source": [
    "test_set = pd.read_pickle(path + 'ml_1m_test')\n",
    "train_set = pd.read_pickle(path + 'ml_1m_train')"
   ]
  },
  {
   "cell_type": "markdown",
   "metadata": {},
   "source": [
    "### Subset data"
   ]
  },
  {
   "cell_type": "code",
   "execution_count": 36,
   "metadata": {},
   "outputs": [
    {
     "name": "stdout",
     "output_type": "stream",
     "text": [
      "351771\n"
     ]
    }
   ],
   "source": [
    "from Data_prep import leave_users_out\n",
    "remaining, subset = leave_users_out(df, 40000)\n",
    "print(len(subset))\n",
    "df = subset\n",
    "df.user_id = df.user_id.astype('category').cat.codes\n",
    "df.item_id = df.item_id.astype('category').cat.codes"
   ]
  },
  {
   "cell_type": "markdown",
   "metadata": {},
   "source": [
    "---\n",
    "# Data Prep"
   ]
  },
  {
   "cell_type": "markdown",
   "metadata": {},
   "source": [
    "## Dataset Params"
   ]
  },
  {
   "cell_type": "code",
   "execution_count": 106,
   "metadata": {},
   "outputs": [],
   "source": [
    "val_perc = test_perc = 0.1\n",
    "n_last_items_val = n_last_items_test = 1\n",
    "\n",
    "total_items = len(df.item_id.unique())\n",
    "total_users = len(df.user_id.unique())"
   ]
  },
  {
   "cell_type": "markdown",
   "metadata": {},
   "source": [
    "## Create Split"
   ]
  },
  {
   "cell_type": "code",
   "execution_count": 107,
   "metadata": {},
   "outputs": [],
   "source": [
    "from Data_prep import train_val_test_split\n",
    "datasets = train_val_test_split(df, val_perc, test_perc, n_last_items_val, n_last_items_test)\n",
    "train_set, val_set, test_set = datasets"
   ]
  },
  {
   "cell_type": "markdown",
   "metadata": {},
   "source": [
    "---\n",
    "# Neural Collaborative Filtering (NCF)\n",
    "Using the NCF framework we build Generalized Matrix Factorisation (GMF), Multiplayer Perceptron Matrix Factorisation (MLP) and combine the two in Neural Matrix Factorisation (NeuMF)\n",
    "- paper: http://papers.www2017.com.au.s3-website-ap-southeast-2.amazonaws.com/proceedings/p173.pdf\n",
    "- blog: https://medium.com/@victorkohler/collaborative-filtering-using-deep-neural-networks-in-tensorflow-96e5d41a39a1\n",
    "- code: https://github.com/Leavingseason/NeuralCF/blob/master"
   ]
  },
  {
   "cell_type": "markdown",
   "metadata": {},
   "source": [
    "## Set Parameters"
   ]
  },
  {
   "cell_type": "code",
   "execution_count": 110,
   "metadata": {},
   "outputs": [],
   "source": [
    "run_num = 'am_40k_nolf_8'\n",
    "# run_num = 'ml_1m_nolf_8'"
   ]
  },
  {
   "cell_type": "code",
   "execution_count": 111,
   "metadata": {},
   "outputs": [],
   "source": [
    "GMF_params = {\n",
    "    'learning_rate': 0.001,\n",
    "    'batch_size': 256,\n",
    "    'nolf': 8,\n",
    "    'regs': [0.000001,0.000001], #ML: [0.000001,0.000001]\n",
    "    'epochs': 20,\n",
    "    'sample_size': len(train_set),#int(0.5*len(train_set.user_id.unique())),\n",
    "    'num_neg': 4,\n",
    "    'ckpt_dir': f'../NeuMF_storage/GMF_ckpts_{run_num}/ckpts',\n",
    "    'optimizer':'Adam'\n",
    "}"
   ]
  },
  {
   "cell_type": "code",
   "execution_count": 112,
   "metadata": {},
   "outputs": [],
   "source": [
    "MLP_params = {\n",
    "    'learning_rate': 0.001,\n",
    "    'batch_size': 256,\n",
    "    'layers': [16,32,16,8],\n",
    "    'reg_layers': [0.0001,0,0,0],   #ML: [+-0.0005,0,0,0],\n",
    "    'epochs': 20,\n",
    "    'sample_size': len(train_set),#int(0.5*len(train_set.user_id.unique())),\n",
    "    'num_neg': 4,\n",
    "    'ckpt_dir': f'../NeuMF_storage/MLP_ckpts_{run_num}/ckpts',\n",
    "    'optimizer':'Adam'\n",
    "}"
   ]
  },
  {
   "cell_type": "code",
   "execution_count": 113,
   "metadata": {},
   "outputs": [],
   "source": [
    "NeuMF_params = {\n",
    "    'learning_rate': 0.001,\n",
    "    'batch_size': 256,\n",
    "    'layers': [16,32,16,8],\n",
    "    'reg_layers': [0.0001,0,0,0],\n",
    "    'reg_mf': [0.000001,0.000001],\n",
    "    'nolf': 8,\n",
    "    'epochs': 20,\n",
    "    'sample_size': len(train_set),#int(0.5*len(train_set.user_id.unique())),\n",
    "    'num_neg': 4,\n",
    "    'ckpt_dir': f'../NeuMF_storage/NeuMF_ckpts_{run_num}/ckpts',\n",
    "    'optimizer':'Adam'\n",
    "}"
   ]
  },
  {
   "cell_type": "markdown",
   "metadata": {},
   "source": [
    "## Init"
   ]
  },
  {
   "cell_type": "code",
   "execution_count": 114,
   "metadata": {},
   "outputs": [],
   "source": [
    "from NCF import NCF\n",
    "NCF = NCF(total_users, total_items, GMF_params, MLP_params, NeuMF_params)\n",
    "\n",
    "NCF.build_GMF_model()\n",
    "NCF.build_MLP_model()\n",
    "NCF.build_NeuMF_model()"
   ]
  },
  {
   "cell_type": "markdown",
   "metadata": {},
   "source": [
    "## Training"
   ]
  },
  {
   "cell_type": "markdown",
   "metadata": {},
   "source": [
    "### Read Stored Samples (3min for ML_1m)"
   ]
  },
  {
   "cell_type": "code",
   "execution_count": 116,
   "metadata": {},
   "outputs": [],
   "source": [
    "# sample_path = '../NeuMF_storage/samples_ml_1m/'\n",
    "# sample_name = 'ml_1m_sample_'\n",
    "\n",
    "sample_path = '../NeuMF_storage/samples_am_40k/'\n",
    "sample_name = 'am_40k_sample_'"
   ]
  },
  {
   "cell_type": "code",
   "execution_count": 117,
   "metadata": {},
   "outputs": [
    {
     "name": "stderr",
     "output_type": "stream",
     "text": [
      "100% |########################################################################|\r"
     ]
    },
    {
     "name": "stdout",
     "output_type": "stream",
     "text": [
      "CPU times: user 37 s, sys: 3.22 s, total: 40.2 s\n",
      "Wall time: 40.3 s\n"
     ]
    },
    {
     "name": "stderr",
     "output_type": "stream",
     "text": [
      "\n"
     ]
    }
   ],
   "source": [
    "%%time\n",
    "import csv\n",
    "samples = []\n",
    "pbar = progressbar.ProgressBar()\n",
    "for sample_num in pbar(range(20)):\n",
    "    with open(f'{sample_path}{sample_name}{sample_num}.csv', 'r') as read_obj:\n",
    "        sample = [[], [], []]\n",
    "        csv_reader = csv.reader(read_obj)\n",
    "        sample_str = list(csv_reader)\n",
    "        \n",
    "        for user_input, item_input, label in zip(sample_str[0], sample_str[1], sample_str[2]):\n",
    "            sample[0].append(int(user_input))\n",
    "            sample[1].append(int(item_input))\n",
    "            sample[2].append(int(label))\n",
    "        \n",
    "    samples.append(sample)"
   ]
  },
  {
   "cell_type": "markdown",
   "metadata": {},
   "source": [
    "### Fit model"
   ]
  },
  {
   "cell_type": "markdown",
   "metadata": {},
   "source": [
    "## GMF"
   ]
  },
  {
   "cell_type": "code",
   "execution_count": 119,
   "metadata": {},
   "outputs": [
    {
     "name": "stdout",
     "output_type": "stream",
     "text": [
      "\n",
      "Fitting GMF with parameters:\n",
      "learning_rate                                             0.001\n",
      "batch_size                                                  256\n",
      "nolf                                                          8\n",
      "regs                                             [1e-06, 1e-06]\n",
      "epochs                                                       20\n",
      "sample_size                                              343771\n",
      "num_neg                                                       4\n",
      "ckpt_dir         ../NeuMF_storage/GMF_ckpts_am_40k_nolf_8/ckpts\n",
      "optimizer                                                  Adam\n",
      "Name: 0, dtype: object\n",
      "Epoch: 0\n",
      "Train on 1718855 samples\n",
      "1718855/1718855 [==============================] - 53s 31us/sample - loss: 0.0945\n"
     ]
    },
    {
     "name": "stderr",
     "output_type": "stream",
     "text": [
      "100% |########################################################################|\n"
     ]
    },
    {
     "name": "stdout",
     "output_type": "stream",
     "text": [
      "[   rank_at  hitcounts   recall  precision      ndcg\n",
      "0        1        395  0.49375   0.493750  0.493750\n",
      "1        5        409  0.51125   0.102250  0.502461\n",
      "2       10        426  0.53250   0.053250  0.509254\n",
      "3       15        442  0.55250   0.036833  0.514497\n",
      "4       20        456  0.57000   0.028500  0.518617]\n",
      "Epoch: 1\n",
      "Train on 1718855 samples\n",
      "1718855/1718855 [==============================] - 53s 31us/sample - loss: 0.0366\n"
     ]
    },
    {
     "name": "stderr",
     "output_type": "stream",
     "text": [
      "100% |########################################################################|\n"
     ]
    },
    {
     "name": "stdout",
     "output_type": "stream",
     "text": [
      "[   rank_at  hitcounts   recall  precision      ndcg\n",
      "0        1        395  0.49375   0.493750  0.493750\n",
      "1        5        409  0.51125   0.102250  0.502689\n",
      "2       10        426  0.53250   0.053250  0.509412\n",
      "3       15        438  0.54750   0.036500  0.513301\n",
      "4       20        453  0.56625   0.028312  0.517809]\n",
      "Epoch: 2\n",
      "Train on 1718855 samples\n",
      "1718855/1718855 [==============================] - 53s 31us/sample - loss: 0.0269\n"
     ]
    },
    {
     "name": "stderr",
     "output_type": "stream",
     "text": [
      "100% |########################################################################|\n"
     ]
    },
    {
     "name": "stdout",
     "output_type": "stream",
     "text": [
      "[   rank_at  hitcounts   recall  precision      ndcg\n",
      "0        1        393  0.49125   0.491250  0.491250\n",
      "1        5        414  0.51750   0.103500  0.504239\n",
      "2       10        431  0.53875   0.053875  0.510790\n",
      "3       15        440  0.55000   0.036667  0.513768\n",
      "4       20        459  0.57375   0.028687  0.519416]\n",
      "Epoch: 3\n",
      "Train on 1718855 samples\n",
      "1718855/1718855 [==============================] - 53s 31us/sample - loss: 0.0215\n"
     ]
    },
    {
     "name": "stderr",
     "output_type": "stream",
     "text": [
      "100% |########################################################################|\n"
     ]
    },
    {
     "name": "stdout",
     "output_type": "stream",
     "text": [
      "[   rank_at  hitcounts   recall  precision      ndcg\n",
      "0        1        395  0.49375   0.493750  0.493750\n",
      "1        5        407  0.50875   0.101750  0.500948\n",
      "2       10        425  0.53125   0.053125  0.508129\n",
      "3       15        445  0.55625   0.037083  0.514769\n",
      "4       20        455  0.56875   0.028438  0.517718]\n",
      "Epoch: 4\n",
      "Train on 1718855 samples\n",
      "1718855/1718855 [==============================] - 53s 31us/sample - loss: 0.0180\n"
     ]
    },
    {
     "name": "stderr",
     "output_type": "stream",
     "text": [
      "100% |########################################################################|\n"
     ]
    },
    {
     "name": "stdout",
     "output_type": "stream",
     "text": [
      "[   rank_at  hitcounts   recall  precision      ndcg\n",
      "0        1        393  0.49125   0.491250  0.491250\n",
      "1        5        412  0.51500   0.103000  0.503195\n",
      "2       10        429  0.53625   0.053625  0.509942\n",
      "3       15        448  0.56000   0.037333  0.516219\n",
      "4       20        465  0.58125   0.029063  0.521232]\n",
      "Epoch: 5\n",
      "Train on 1718855 samples\n",
      "1718855/1718855 [==============================] - 53s 31us/sample - loss: 0.0156\n"
     ]
    },
    {
     "name": "stderr",
     "output_type": "stream",
     "text": [
      "100% |########################################################################|\n"
     ]
    },
    {
     "name": "stdout",
     "output_type": "stream",
     "text": [
      "[   rank_at  hitcounts   recall  precision      ndcg\n",
      "0        1        396  0.49500   0.495000  0.495000\n",
      "1        5        413  0.51625   0.103250  0.505532\n",
      "2       10        423  0.52875   0.052875  0.509597\n",
      "3       15        442  0.55250   0.036833  0.515725\n",
      "4       20        461  0.57625   0.028813  0.521343]\n",
      "Epoch: 6\n",
      "Train on 1718855 samples\n",
      "1718855/1718855 [==============================] - 53s 31us/sample - loss: 0.0138\n"
     ]
    },
    {
     "name": "stderr",
     "output_type": "stream",
     "text": [
      "100% |########################################################################|\n"
     ]
    },
    {
     "name": "stdout",
     "output_type": "stream",
     "text": [
      "[   rank_at  hitcounts   recall  precision      ndcg\n",
      "0        1        397  0.49625   0.496250  0.496250\n",
      "1        5        409  0.51125   0.102250  0.504013\n",
      "2       10        435  0.54375   0.054375  0.514551\n",
      "3       15        448  0.56000   0.037333  0.518871\n",
      "4       20        462  0.57750   0.028875  0.522982]\n",
      "Epoch: 7\n",
      "Train on 1718855 samples\n",
      "1718855/1718855 [==============================] - 53s 31us/sample - loss: 0.0124\n"
     ]
    },
    {
     "name": "stderr",
     "output_type": "stream",
     "text": [
      "100% |########################################################################|\n"
     ]
    },
    {
     "name": "stdout",
     "output_type": "stream",
     "text": [
      "[   rank_at  hitcounts   recall  precision      ndcg\n",
      "0        1        399  0.49875   0.498750  0.498750\n",
      "1        5        415  0.51875   0.103750  0.508820\n",
      "2       10        428  0.53500   0.053500  0.513941\n",
      "3       15        446  0.55750   0.037167  0.519866\n",
      "4       20        464  0.58000   0.029000  0.525146]\n",
      "Epoch: 8\n",
      "Train on 1718855 samples\n",
      "1718855/1718855 [==============================] - 53s 31us/sample - loss: 0.0112\n"
     ]
    },
    {
     "name": "stderr",
     "output_type": "stream",
     "text": [
      "100% |########################################################################|\n"
     ]
    },
    {
     "name": "stdout",
     "output_type": "stream",
     "text": [
      "[   rank_at  hitcounts   recall  precision      ndcg\n",
      "0        1        395  0.49375   0.493750  0.493750\n",
      "1        5        416  0.52000   0.104000  0.506399\n",
      "2       10        437  0.54625   0.054625  0.514846\n",
      "3       15        457  0.57125   0.038083  0.521565\n",
      "4       20        472  0.59000   0.029500  0.525955]\n",
      "Epoch: 9\n",
      "Train on 1718855 samples\n",
      "1718855/1718855 [==============================] - 53s 31us/sample - loss: 0.0104\n"
     ]
    },
    {
     "name": "stderr",
     "output_type": "stream",
     "text": [
      "100% |########################################################################|\n"
     ]
    },
    {
     "name": "stdout",
     "output_type": "stream",
     "text": [
      "[   rank_at  hitcounts   recall  precision      ndcg\n",
      "0        1        395  0.49375   0.493750  0.493750\n",
      "1        5        419  0.52375   0.104750  0.509616\n",
      "2       10        438  0.54750   0.054750  0.517074\n",
      "3       15        453  0.56625   0.037750  0.522059\n",
      "4       20        463  0.57875   0.028937  0.525022]\n",
      "Epoch: 10\n",
      "Train on 1718855 samples\n",
      "1718855/1718855 [==============================] - 53s 31us/sample - loss: 0.0096\n"
     ]
    },
    {
     "name": "stderr",
     "output_type": "stream",
     "text": [
      "100% |########################################################################|\n"
     ]
    },
    {
     "name": "stdout",
     "output_type": "stream",
     "text": [
      "[   rank_at  hitcounts   recall  precision      ndcg\n",
      "0        1        395  0.49375   0.493750  0.493750\n",
      "1        5        417  0.52125   0.104250  0.507669\n",
      "2       10        434  0.54250   0.054250  0.514381\n",
      "3       15        452  0.56500   0.037667  0.520373\n",
      "4       20        466  0.58250   0.029125  0.524523]\n",
      "Epoch: 11\n",
      "Train on 1718855 samples\n",
      "1718855/1718855 [==============================] - 53s 31us/sample - loss: 0.0090\n"
     ]
    },
    {
     "name": "stderr",
     "output_type": "stream",
     "text": [
      "100% |########################################################################|\n"
     ]
    },
    {
     "name": "stdout",
     "output_type": "stream",
     "text": [
      "[   rank_at  hitcounts   recall  precision      ndcg\n",
      "0        1        396  0.49500   0.495000  0.495000\n",
      "1        5        407  0.50875   0.101750  0.501551\n",
      "2       10        436  0.54500   0.054500  0.513363\n",
      "3       15        447  0.55875   0.037250  0.517042\n",
      "4       20        465  0.58125   0.029063  0.522383]\n",
      "Epoch: 12\n",
      "Train on 1718855 samples\n",
      "1718855/1718855 [==============================] - 53s 31us/sample - loss: 0.0084\n"
     ]
    },
    {
     "name": "stderr",
     "output_type": "stream",
     "text": [
      "100% |########################################################################|\n"
     ]
    },
    {
     "name": "stdout",
     "output_type": "stream",
     "text": [
      "[   rank_at  hitcounts   recall  precision      ndcg\n",
      "0        1        396  0.49500   0.495000  0.495000\n",
      "1        5        418  0.52250   0.104500  0.508419\n",
      "2       10        431  0.53875   0.053875  0.513636\n",
      "3       15        447  0.55875   0.037250  0.518921\n",
      "4       20        463  0.57875   0.028937  0.523632]\n",
      "Epoch: 13\n",
      "Train on 1718855 samples\n",
      "1718855/1718855 [==============================] - 53s 31us/sample - loss: 0.0080\n"
     ]
    },
    {
     "name": "stderr",
     "output_type": "stream",
     "text": [
      "100% |########################################################################|\n"
     ]
    },
    {
     "name": "stdout",
     "output_type": "stream",
     "text": [
      "[   rank_at  hitcounts   recall  precision      ndcg\n",
      "0        1        397  0.49625   0.496250  0.496250\n",
      "1        5        415  0.51875   0.103750  0.507743\n",
      "2       10        429  0.53625   0.053625  0.513189\n",
      "3       15        446  0.55750   0.037167  0.518682\n",
      "4       20        466  0.58250   0.029125  0.524499]\n",
      "Epoch: 14\n",
      "Train on 1718855 samples\n",
      "1718855/1718855 [==============================] - 53s 31us/sample - loss: 0.0076\n"
     ]
    },
    {
     "name": "stderr",
     "output_type": "stream",
     "text": [
      "100% |########################################################################|\n"
     ]
    },
    {
     "name": "stdout",
     "output_type": "stream",
     "text": [
      "[   rank_at  hitcounts   recall  precision      ndcg\n",
      "0        1        394  0.49250   0.492500  0.492500\n",
      "1        5        414  0.51750   0.103500  0.505070\n",
      "2       10        434  0.54250   0.054250  0.513268\n",
      "3       15        449  0.56125   0.037417  0.518179\n",
      "4       20        468  0.58500   0.029250  0.523782]\n",
      "Epoch: 15\n",
      "Train on 1718855 samples\n",
      "1718855/1718855 [==============================] - 53s 31us/sample - loss: 0.0072\n"
     ]
    },
    {
     "name": "stderr",
     "output_type": "stream",
     "text": [
      "100% |########################################################################|\n"
     ]
    },
    {
     "name": "stdout",
     "output_type": "stream",
     "text": [
      "[   rank_at  hitcounts   recall  precision      ndcg\n",
      "0        1        398  0.49750   0.497500  0.497500\n",
      "1        5        413  0.51625   0.103250  0.506367\n",
      "2       10        435  0.54375   0.054375  0.515088\n",
      "3       15        447  0.55875   0.037250  0.519087\n",
      "4       20        465  0.58125   0.029063  0.524416]\n",
      "Epoch: 16\n",
      "Train on 1718855 samples\n",
      "1718855/1718855 [==============================] - 53s 31us/sample - loss: 0.0069\n"
     ]
    },
    {
     "name": "stderr",
     "output_type": "stream",
     "text": [
      "100% |########################################################################|\n"
     ]
    },
    {
     "name": "stdout",
     "output_type": "stream",
     "text": [
      "[   rank_at  hitcounts   recall  precision      ndcg\n",
      "0        1        395  0.49375   0.493750  0.493750\n",
      "1        5        417  0.52125   0.104250  0.507483\n",
      "2       10        435  0.54375   0.054375  0.514868\n",
      "3       15        453  0.56625   0.037750  0.520841\n",
      "4       20        471  0.58875   0.029438  0.526106]\n",
      "Epoch: 17\n",
      "Train on 1718855 samples\n",
      "1718855/1718855 [==============================] - 53s 31us/sample - loss: 0.0066\n"
     ]
    },
    {
     "name": "stderr",
     "output_type": "stream",
     "text": [
      "100% |########################################################################|\n"
     ]
    },
    {
     "name": "stdout",
     "output_type": "stream",
     "text": [
      "[   rank_at  hitcounts   recall  precision      ndcg\n",
      "0        1        398  0.49750   0.497500  0.497500\n",
      "1        5        422  0.52750   0.105500  0.512091\n",
      "2       10        438  0.54750   0.054750  0.518496\n",
      "3       15        452  0.56500   0.037667  0.523120\n",
      "4       20        471  0.58875   0.029438  0.528691]\n",
      "Epoch: 18\n",
      "Train on 1718855 samples\n",
      "1718855/1718855 [==============================] - 53s 31us/sample - loss: 0.0063\n"
     ]
    },
    {
     "name": "stderr",
     "output_type": "stream",
     "text": [
      "100% |########################################################################|\n"
     ]
    },
    {
     "name": "stdout",
     "output_type": "stream",
     "text": [
      "[   rank_at  hitcounts   recall  precision      ndcg\n",
      "0        1        396  0.49500   0.495000  0.495000\n",
      "1        5        417  0.52125   0.104250  0.508795\n",
      "2       10        438  0.54750   0.054750  0.517135\n",
      "3       15        455  0.56875   0.037917  0.522732\n",
      "4       20        470  0.58750   0.029375  0.527191]\n",
      "Epoch: 19\n",
      "Train on 1718855 samples\n",
      "1718855/1718855 [==============================] - 53s 31us/sample - loss: 0.0061\n"
     ]
    },
    {
     "name": "stderr",
     "output_type": "stream",
     "text": [
      "100% |########################################################################|\n"
     ]
    },
    {
     "name": "stdout",
     "output_type": "stream",
     "text": [
      "[   rank_at  hitcounts   recall  precision      ndcg\n",
      "0        1        397  0.49625   0.496250  0.496250\n",
      "1        5        418  0.52250   0.104500  0.509554\n",
      "2       10        438  0.54750   0.054750  0.517710\n",
      "3       15        456  0.57000   0.038000  0.523633\n",
      "4       20        469  0.58625   0.029312  0.527474]\n"
     ]
    }
   ],
   "source": [
    "GMF_val_metrics = NCF.train_model('GMF', samples, train_set, val_set.iloc[:800], store_path=f'../weights/GMF_weights_{run_num}/GMF_weights') "
   ]
  },
  {
   "cell_type": "markdown",
   "metadata": {},
   "source": [
    "## MLP"
   ]
  },
  {
   "cell_type": "code",
   "execution_count": 120,
   "metadata": {},
   "outputs": [
    {
     "name": "stdout",
     "output_type": "stream",
     "text": [
      "\n",
      "Fitting MLP with parameters:\n",
      "learning_rate                                             0.001\n",
      "batch_size                                                  256\n",
      "layers                                          [16, 32, 16, 8]\n",
      "reg_layers                                    [0.0001, 0, 0, 0]\n",
      "epochs                                                       20\n",
      "sample_size                                              343771\n",
      "num_neg                                                       4\n",
      "ckpt_dir         ../NeuMF_storage/MLP_ckpts_am_40k_nolf_8/ckpts\n",
      "optimizer                                                  Adam\n",
      "Name: 0, dtype: object\n",
      "Epoch: 0\n",
      "Train on 1718855 samples\n"
     ]
    },
    {
     "name": "stderr",
     "output_type": "stream",
     "text": [
      "/usr/local/lib/python3.6/dist-packages/tensorflow_core/python/framework/indexed_slices.py:433: UserWarning: Converting sparse IndexedSlices to a dense Tensor of unknown shape. This may consume a large amount of memory.\n",
      "  \"Converting sparse IndexedSlices to a dense Tensor of unknown shape. \"\n",
      "/usr/local/lib/python3.6/dist-packages/tensorflow_core/python/framework/indexed_slices.py:433: UserWarning: Converting sparse IndexedSlices to a dense Tensor of unknown shape. This may consume a large amount of memory.\n",
      "  \"Converting sparse IndexedSlices to a dense Tensor of unknown shape. \"\n"
     ]
    },
    {
     "name": "stdout",
     "output_type": "stream",
     "text": [
      "1718855/1718855 [==============================] - 56s 33us/sample - loss: 0.2354\n"
     ]
    },
    {
     "name": "stderr",
     "output_type": "stream",
     "text": [
      "100% |########################################################################|\n"
     ]
    },
    {
     "name": "stdout",
     "output_type": "stream",
     "text": [
      "[   rank_at  hitcounts   recall  precision      ndcg\n",
      "0        1         35  0.04375   0.043750  0.043750\n",
      "1        5        129  0.16125   0.032250  0.101947\n",
      "2       10        197  0.24625   0.024625  0.129401\n",
      "3       15        268  0.33500   0.022333  0.152736\n",
      "4       20        342  0.42750   0.021375  0.174625]\n",
      "Epoch: 1\n",
      "Train on 1718855 samples\n",
      "1718855/1718855 [==============================] - 56s 32us/sample - loss: 0.0786\n"
     ]
    },
    {
     "name": "stderr",
     "output_type": "stream",
     "text": [
      "100% |########################################################################|\n"
     ]
    },
    {
     "name": "stdout",
     "output_type": "stream",
     "text": [
      "[   rank_at  hitcounts   recall  precision      ndcg\n",
      "0        1         25  0.03125   0.031250  0.031250\n",
      "1        5        107  0.13375   0.026750  0.081070\n",
      "2       10        193  0.24125   0.024125  0.115315\n",
      "3       15        260  0.32500   0.021667  0.137400\n",
      "4       20        331  0.41375   0.020688  0.158351]\n",
      "Epoch: 2\n",
      "Train on 1718855 samples\n",
      "1718855/1718855 [==============================] - 56s 32us/sample - loss: 0.0575\n"
     ]
    },
    {
     "name": "stderr",
     "output_type": "stream",
     "text": [
      "100% |########################################################################|\n"
     ]
    },
    {
     "name": "stdout",
     "output_type": "stream",
     "text": [
      "[   rank_at  hitcounts   recall  precision      ndcg\n",
      "0        1         46  0.05750   0.057500  0.057500\n",
      "1        5        109  0.13625   0.027250  0.095614\n",
      "2       10        189  0.23625   0.023625  0.127880\n",
      "3       15        263  0.32875   0.021917  0.152421\n",
      "4       20        338  0.42250   0.021125  0.174532]\n",
      "Epoch: 3\n",
      "Train on 1718855 samples\n",
      "1718855/1718855 [==============================] - 56s 32us/sample - loss: 0.0549\n"
     ]
    },
    {
     "name": "stderr",
     "output_type": "stream",
     "text": [
      "100% |########################################################################|\n"
     ]
    },
    {
     "name": "stdout",
     "output_type": "stream",
     "text": [
      "[   rank_at  hitcounts   recall  precision      ndcg\n",
      "0        1         33  0.04125   0.041250  0.041250\n",
      "1        5        117  0.14625   0.029250  0.093158\n",
      "2       10        195  0.24375   0.024375  0.124816\n",
      "3       15        239  0.29875   0.019917  0.139221\n",
      "4       20        283  0.35375   0.017688  0.152112]\n",
      "Epoch: 4\n",
      "Train on 1718855 samples\n",
      "1718855/1718855 [==============================] - 56s 32us/sample - loss: 0.0505\n"
     ]
    },
    {
     "name": "stderr",
     "output_type": "stream",
     "text": [
      "100% |########################################################################|\n"
     ]
    },
    {
     "name": "stdout",
     "output_type": "stream",
     "text": [
      "[   rank_at  hitcounts   recall  precision      ndcg\n",
      "0        1         35  0.04375   0.043750  0.043750\n",
      "1        5        108  0.13500   0.027000  0.088812\n",
      "2       10        186  0.23250   0.023250  0.120457\n",
      "3       15        245  0.30625   0.020417  0.140005\n",
      "4       20        298  0.37250   0.018625  0.155647]\n",
      "Epoch: 5\n",
      "Train on 1718855 samples\n",
      "1718855/1718855 [==============================] - 56s 32us/sample - loss: 0.0500\n"
     ]
    },
    {
     "name": "stderr",
     "output_type": "stream",
     "text": [
      "100% |########################################################################|\n"
     ]
    },
    {
     "name": "stdout",
     "output_type": "stream",
     "text": [
      "[   rank_at  hitcounts   recall  precision      ndcg\n",
      "0        1         33  0.04125   0.041250  0.041250\n",
      "1        5        112  0.14000   0.028000  0.089773\n",
      "2       10        188  0.23500   0.023500  0.120051\n",
      "3       15        251  0.31375   0.020917  0.140890\n",
      "4       20        319  0.39875   0.019938  0.160972]\n",
      "Epoch: 6\n",
      "Train on 1718855 samples\n",
      "1718855/1718855 [==============================] - 56s 32us/sample - loss: 0.0487\n"
     ]
    },
    {
     "name": "stderr",
     "output_type": "stream",
     "text": [
      "100% |########################################################################|\n"
     ]
    },
    {
     "name": "stdout",
     "output_type": "stream",
     "text": [
      "[   rank_at  hitcounts   recall  precision      ndcg\n",
      "0        1         35  0.04375   0.043750  0.043750\n",
      "1        5        102  0.12750   0.025500  0.085714\n",
      "2       10        179  0.22375   0.022375  0.116485\n",
      "3       15        238  0.29750   0.019833  0.136111\n",
      "4       20        302  0.37750   0.018875  0.154990]\n",
      "Epoch: 7\n",
      "Train on 1718855 samples\n",
      "1718855/1718855 [==============================] - 55s 32us/sample - loss: 0.0492\n"
     ]
    },
    {
     "name": "stderr",
     "output_type": "stream",
     "text": [
      "100% |########################################################################|\n"
     ]
    },
    {
     "name": "stdout",
     "output_type": "stream",
     "text": [
      "[   rank_at  hitcounts   recall  precision      ndcg\n",
      "0        1         41  0.05125   0.051250  0.051250\n",
      "1        5        112  0.14000   0.028000  0.095435\n",
      "2       10        202  0.25250   0.025250  0.131483\n",
      "3       15        259  0.32375   0.021583  0.150196\n",
      "4       20        320  0.40000   0.020000  0.168289]\n",
      "Epoch: 8\n",
      "Train on 1718855 samples\n",
      "1718855/1718855 [==============================] - 55s 32us/sample - loss: 0.0491\n"
     ]
    },
    {
     "name": "stderr",
     "output_type": "stream",
     "text": [
      "100% |########################################################################|\n"
     ]
    },
    {
     "name": "stdout",
     "output_type": "stream",
     "text": [
      "[   rank_at  hitcounts   recall  precision      ndcg\n",
      "0        1         36  0.04500   0.045000  0.045000\n",
      "1        5        115  0.14375   0.028750  0.093697\n",
      "2       10        183  0.22875   0.022875  0.120910\n",
      "3       15        239  0.29875   0.019917  0.139395\n",
      "4       20        282  0.35250   0.017625  0.152043]\n",
      "Epoch: 9\n",
      "Train on 1718855 samples\n",
      "1718855/1718855 [==============================] - 55s 32us/sample - loss: 0.0499\n"
     ]
    },
    {
     "name": "stderr",
     "output_type": "stream",
     "text": [
      "100% |########################################################################|\n"
     ]
    },
    {
     "name": "stdout",
     "output_type": "stream",
     "text": [
      "[   rank_at  hitcounts   recall  precision      ndcg\n",
      "0        1         40  0.05000   0.050000  0.050000\n",
      "1        5        111  0.13875   0.027750  0.095470\n",
      "2       10        182  0.22750   0.022750  0.123735\n",
      "3       15        250  0.31250   0.020833  0.146187\n",
      "4       20        316  0.39500   0.019750  0.165740]\n",
      "Epoch: 10\n",
      "Train on 1718855 samples\n",
      "1718855/1718855 [==============================] - 55s 32us/sample - loss: 0.0500\n"
     ]
    },
    {
     "name": "stderr",
     "output_type": "stream",
     "text": [
      "100% |########################################################################|\n"
     ]
    },
    {
     "name": "stdout",
     "output_type": "stream",
     "text": [
      "[   rank_at  hitcounts   recall  precision      ndcg\n",
      "0        1         39  0.04875   0.048750  0.048750\n",
      "1        5        103  0.12875   0.025750  0.087287\n",
      "2       10        187  0.23375   0.023375  0.120478\n",
      "3       15        268  0.33500   0.022333  0.146889\n",
      "4       20        360  0.45000   0.022500  0.174094]\n",
      "Epoch: 11\n",
      "Train on 1718855 samples\n",
      "1718855/1718855 [==============================] - 55s 32us/sample - loss: 0.0493\n"
     ]
    },
    {
     "name": "stderr",
     "output_type": "stream",
     "text": [
      "100% |########################################################################|\n"
     ]
    },
    {
     "name": "stdout",
     "output_type": "stream",
     "text": [
      "[   rank_at  hitcounts   recall  precision      ndcg\n",
      "0        1         30  0.03750   0.037500  0.037500\n",
      "1        5         93  0.11625   0.023250  0.077087\n",
      "2       10        172  0.21500   0.021500  0.108800\n",
      "3       15        230  0.28750   0.019167  0.128018\n",
      "4       20        284  0.35500   0.017750  0.143944]\n",
      "Epoch: 12\n",
      "Train on 1718855 samples\n",
      "1718855/1718855 [==============================] - 55s 32us/sample - loss: 0.0501\n"
     ]
    },
    {
     "name": "stderr",
     "output_type": "stream",
     "text": [
      "100% |########################################################################|\n"
     ]
    },
    {
     "name": "stdout",
     "output_type": "stream",
     "text": [
      "[   rank_at  hitcounts   recall  precision      ndcg\n",
      "0        1         28  0.03500   0.035000  0.035000\n",
      "1        5         92  0.11500   0.023000  0.074666\n",
      "2       10        194  0.24250   0.024250  0.115216\n",
      "3       15        265  0.33125   0.022083  0.138721\n",
      "4       20        327  0.40875   0.020438  0.157041]\n",
      "Epoch: 13\n",
      "Train on 1718855 samples\n",
      "1718855/1718855 [==============================] - 63s 37us/sample - loss: 0.0498\n"
     ]
    },
    {
     "name": "stderr",
     "output_type": "stream",
     "text": [
      "100% |########################################################################|\n"
     ]
    },
    {
     "name": "stdout",
     "output_type": "stream",
     "text": [
      "[   rank_at  hitcounts   recall  precision      ndcg\n",
      "0        1         31  0.03875   0.038750  0.038750\n",
      "1        5         95  0.11875   0.023750  0.077491\n",
      "2       10        181  0.22625   0.022625  0.111914\n",
      "3       15        223  0.27875   0.018583  0.125782\n",
      "4       20        264  0.33000   0.016500  0.137873]\n",
      "Epoch: 14\n",
      "Train on 1718855 samples\n",
      "1718855/1718855 [==============================] - 55s 32us/sample - loss: 0.0492\n"
     ]
    },
    {
     "name": "stderr",
     "output_type": "stream",
     "text": [
      "100% |########################################################################|\n"
     ]
    },
    {
     "name": "stdout",
     "output_type": "stream",
     "text": [
      "[   rank_at  hitcounts   recall  precision      ndcg\n",
      "0        1         39  0.04875   0.048750  0.048750\n",
      "1        5        109  0.13625   0.027250  0.092406\n",
      "2       10        187  0.23375   0.023375  0.123689\n",
      "3       15        245  0.30625   0.020417  0.142785\n",
      "4       20        297  0.37125   0.018562  0.158048]\n",
      "Epoch: 15\n",
      "Train on 1718855 samples\n",
      "1718855/1718855 [==============================] - 55s 32us/sample - loss: 0.0494\n"
     ]
    },
    {
     "name": "stderr",
     "output_type": "stream",
     "text": [
      "100% |########################################################################|\n"
     ]
    },
    {
     "name": "stdout",
     "output_type": "stream",
     "text": [
      "[   rank_at  hitcounts  recall  precision      ndcg\n",
      "0        1         30  0.0375   0.037500  0.037500\n",
      "1        5        120  0.1500   0.030000  0.092204\n",
      "2       10        212  0.2650   0.026500  0.129238\n",
      "3       15        290  0.3625   0.024167  0.154899\n",
      "4       20        336  0.4200   0.021000  0.168415]\n",
      "Epoch: 16\n",
      "Train on 1718855 samples\n",
      "1718855/1718855 [==============================] - 55s 32us/sample - loss: 0.0489\n"
     ]
    },
    {
     "name": "stderr",
     "output_type": "stream",
     "text": [
      "100% |########################################################################|\n"
     ]
    },
    {
     "name": "stdout",
     "output_type": "stream",
     "text": [
      "[   rank_at  hitcounts   recall  precision      ndcg\n",
      "0        1         35  0.04375   0.043750  0.043750\n",
      "1        5        108  0.13500   0.027000  0.088903\n",
      "2       10        179  0.22375   0.022375  0.117106\n",
      "3       15        238  0.29750   0.019833  0.136537\n",
      "4       20        270  0.33750   0.016875  0.145927]\n",
      "Epoch: 17\n",
      "Train on 1718855 samples\n",
      "1718855/1718855 [==============================] - 83s 48us/sample - loss: 0.0492\n"
     ]
    },
    {
     "name": "stderr",
     "output_type": "stream",
     "text": [
      "100% |########################################################################|\n"
     ]
    },
    {
     "name": "stdout",
     "output_type": "stream",
     "text": [
      "[   rank_at  hitcounts   recall  precision      ndcg\n",
      "0        1         29  0.03625   0.036250  0.036250\n",
      "1        5        107  0.13375   0.026750  0.085028\n",
      "2       10        184  0.23000   0.023000  0.115937\n",
      "3       15        246  0.30750   0.020500  0.136496\n",
      "4       20        305  0.38125   0.019062  0.153913]\n",
      "Epoch: 18\n",
      "Train on 1718855 samples\n",
      "1718855/1718855 [==============================] - 158s 92us/sample - loss: 0.0486\n"
     ]
    },
    {
     "name": "stderr",
     "output_type": "stream",
     "text": [
      "100% |########################################################################|\n"
     ]
    },
    {
     "name": "stdout",
     "output_type": "stream",
     "text": [
      "[   rank_at  hitcounts   recall  precision      ndcg\n",
      "0        1         28  0.03500    0.03500  0.035000\n",
      "1        5         95  0.11875    0.02375  0.074851\n",
      "2       10        182  0.22750    0.02275  0.109212\n",
      "3       15        267  0.33375    0.02225  0.137155\n",
      "4       20        344  0.43000    0.02150  0.159838]\n",
      "Epoch: 19\n",
      "Train on 1718855 samples\n",
      "1718855/1718855 [==============================] - 157s 92us/sample - loss: 0.0471\n"
     ]
    },
    {
     "name": "stderr",
     "output_type": "stream",
     "text": [
      "100% |########################################################################|\n"
     ]
    },
    {
     "name": "stdout",
     "output_type": "stream",
     "text": [
      "[   rank_at  hitcounts   recall  precision      ndcg\n",
      "0        1         37  0.04625   0.046250  0.046250\n",
      "1        5         93  0.11625   0.023250  0.082224\n",
      "2       10        175  0.21875   0.021875  0.115187\n",
      "3       15        245  0.30625   0.020417  0.138134\n",
      "4       20        303  0.37875   0.018937  0.155215]\n"
     ]
    }
   ],
   "source": [
    "MLP_val_metrics = NCF.train_model('MLP', samples, train_set, val_set.iloc[:800], store_path=f'../weights/MLP_weights_{run_num}/MLP_weights') "
   ]
  },
  {
   "cell_type": "markdown",
   "metadata": {},
   "source": [
    "## NeuMF"
   ]
  },
  {
   "cell_type": "code",
   "execution_count": null,
   "metadata": {},
   "outputs": [
    {
     "name": "stdout",
     "output_type": "stream",
     "text": [
      "\n",
      "Fitting NeuMF with parameters:\n",
      "learning_rate                                               0.001\n",
      "batch_size                                                    256\n",
      "layers                                            [16, 32, 16, 8]\n",
      "reg_layers                                      [0.0001, 0, 0, 0]\n",
      "reg_mf                                             [1e-06, 1e-06]\n",
      "nolf                                                            8\n",
      "epochs                                                         20\n",
      "sample_size                                                343771\n",
      "num_neg                                                         4\n",
      "ckpt_dir         ../NeuMF_storage/NeuMF_ckpts_am_40k_nolf_8/ckpts\n",
      "optimizer                                                    Adam\n",
      "Name: 0, dtype: object\n",
      "Epoch: 0\n",
      "Train on 1718855 samples\n"
     ]
    },
    {
     "name": "stderr",
     "output_type": "stream",
     "text": [
      "/usr/local/lib/python3.6/dist-packages/tensorflow_core/python/framework/indexed_slices.py:433: UserWarning: Converting sparse IndexedSlices to a dense Tensor of unknown shape. This may consume a large amount of memory.\n",
      "  \"Converting sparse IndexedSlices to a dense Tensor of unknown shape. \"\n",
      "/usr/local/lib/python3.6/dist-packages/tensorflow_core/python/framework/indexed_slices.py:433: UserWarning: Converting sparse IndexedSlices to a dense Tensor of unknown shape. This may consume a large amount of memory.\n",
      "  \"Converting sparse IndexedSlices to a dense Tensor of unknown shape. \"\n"
     ]
    },
    {
     "name": "stdout",
     "output_type": "stream",
     "text": [
      "1718855/1718855 [==============================] - 218s 127us/sample - loss: 0.2012\n"
     ]
    },
    {
     "name": "stderr",
     "output_type": "stream",
     "text": [
      "100% |########################################################################|\n"
     ]
    },
    {
     "name": "stdout",
     "output_type": "stream",
     "text": [
      "[   rank_at  hitcounts   recall  precision      ndcg\n",
      "0        1         38  0.04750   0.047500  0.047500\n",
      "1        5        123  0.15375   0.030750  0.100177\n",
      "2       10        201  0.25125   0.025125  0.131248\n",
      "3       15        273  0.34125   0.022750  0.154767\n",
      "4       20        338  0.42250   0.021125  0.173936]\n",
      "Epoch: 1\n",
      "Train on 1718855 samples\n",
      "1718855/1718855 [==============================] - 212s 124us/sample - loss: 0.0493\n"
     ]
    },
    {
     "name": "stderr",
     "output_type": "stream",
     "text": [
      "100% |########################################################################|\n"
     ]
    },
    {
     "name": "stdout",
     "output_type": "stream",
     "text": [
      "[   rank_at  hitcounts   recall  precision      ndcg\n",
      "0        1         39  0.04875   0.048750  0.048750\n",
      "1        5        125  0.15625   0.031250  0.102813\n",
      "2       10        186  0.23250   0.023250  0.127751\n",
      "3       15        256  0.32000   0.021333  0.150817\n",
      "4       20        329  0.41125   0.020562  0.172245]\n",
      "Epoch: 2\n",
      "Train on 1718855 samples\n",
      "1718855/1718855 [==============================] - 215s 125us/sample - loss: 0.0433\n"
     ]
    },
    {
     "name": "stderr",
     "output_type": "stream",
     "text": [
      "100% |########################################################################|\n"
     ]
    },
    {
     "name": "stdout",
     "output_type": "stream",
     "text": [
      "[   rank_at  hitcounts   recall  precision      ndcg\n",
      "0        1         43  0.05375   0.053750  0.053750\n",
      "1        5        120  0.15000   0.030000  0.102371\n",
      "2       10        195  0.24375   0.024375  0.132429\n",
      "3       15        251  0.31375   0.020917  0.150903\n",
      "4       20        296  0.37000   0.018500  0.164155]\n",
      "Epoch: 3\n",
      "Train on 1718855 samples\n",
      "1718855/1718855 [==============================] - 215s 125us/sample - loss: 0.0413\n"
     ]
    },
    {
     "name": "stderr",
     "output_type": "stream",
     "text": [
      "100% |########################################################################|\n"
     ]
    },
    {
     "name": "stdout",
     "output_type": "stream",
     "text": [
      "[   rank_at  hitcounts   recall  precision      ndcg\n",
      "0        1         39  0.04875   0.048750  0.048750\n",
      "1        5        119  0.14875   0.029750  0.096120\n",
      "2       10        196  0.24500   0.024500  0.127148\n",
      "3       15        250  0.31250   0.020833  0.144891\n",
      "4       20        314  0.39250   0.019625  0.163860]\n",
      "Epoch: 4\n",
      "Train on 1718855 samples\n",
      "1718855/1718855 [==============================] - 213s 124us/sample - loss: 0.0395\n"
     ]
    },
    {
     "name": "stderr",
     "output_type": "stream",
     "text": [
      "100% |########################################################################|\n"
     ]
    },
    {
     "name": "stdout",
     "output_type": "stream",
     "text": [
      "[   rank_at  hitcounts   recall  precision      ndcg\n",
      "0        1         33  0.04125   0.041250  0.041250\n",
      "1        5        105  0.13125   0.026250  0.085604\n",
      "2       10        187  0.23375   0.023375  0.118546\n",
      "3       15        254  0.31750   0.021167  0.140722\n",
      "4       20        321  0.40125   0.020063  0.160424]\n",
      "Epoch: 5\n",
      "Train on 1718855 samples\n",
      "1718855/1718855 [==============================] - 214s 125us/sample - loss: 0.0377\n"
     ]
    },
    {
     "name": "stderr",
     "output_type": "stream",
     "text": [
      "100% |########################################################################|\n"
     ]
    },
    {
     "name": "stdout",
     "output_type": "stream",
     "text": [
      "[   rank_at  hitcounts   recall  precision      ndcg\n",
      "0        1         32  0.04000   0.040000  0.040000\n",
      "1        5         94  0.11750   0.023500  0.078917\n",
      "2       10        175  0.21875   0.021875  0.111223\n",
      "3       15        241  0.30125   0.020083  0.133000\n",
      "4       20        287  0.35875   0.017937  0.146632]\n",
      "Epoch: 6\n",
      "Train on 1718855 samples\n",
      "1718855/1718855 [==============================] - 192s 112us/sample - loss: 0.0355\n"
     ]
    },
    {
     "name": "stderr",
     "output_type": "stream",
     "text": [
      "100% |########################################################################|\n"
     ]
    },
    {
     "name": "stdout",
     "output_type": "stream",
     "text": [
      "[   rank_at  hitcounts   recall  precision      ndcg\n",
      "0        1         31  0.03875   0.038750  0.038750\n",
      "1        5        105  0.13125   0.026250  0.083416\n",
      "2       10        179  0.22375   0.022375  0.112851\n",
      "3       15        228  0.28500   0.019000  0.129133\n",
      "4       20        274  0.34250   0.017125  0.142748]\n",
      "Epoch: 7\n",
      "Train on 1718855 samples\n",
      "1718855/1718855 [==============================] - 213s 124us/sample - loss: 0.0338\n"
     ]
    },
    {
     "name": "stderr",
     "output_type": "stream",
     "text": [
      "100% |########################################################################|\n"
     ]
    },
    {
     "name": "stdout",
     "output_type": "stream",
     "text": [
      "[   rank_at  hitcounts   recall  precision      ndcg\n",
      "0        1         27  0.03375   0.033750  0.033750\n",
      "1        5        100  0.12500   0.025000  0.079468\n",
      "2       10        178  0.22250   0.022250  0.110754\n",
      "3       15        244  0.30500   0.020333  0.132567\n",
      "4       20        320  0.40000   0.020000  0.155047]\n",
      "Epoch: 8\n",
      "Train on 1718855 samples\n",
      "1718855/1718855 [==============================] - 215s 125us/sample - loss: 0.0312\n"
     ]
    },
    {
     "name": "stderr",
     "output_type": "stream",
     "text": [
      "100% |########################################################################|\n"
     ]
    },
    {
     "name": "stdout",
     "output_type": "stream",
     "text": [
      "[   rank_at  hitcounts   recall  precision      ndcg\n",
      "0        1         28  0.03500   0.035000  0.035000\n",
      "1        5         93  0.11625   0.023250  0.074462\n",
      "2       10        179  0.22375   0.022375  0.108960\n",
      "3       15        253  0.31625   0.021083  0.133512\n",
      "4       20        305  0.38125   0.019062  0.148860]\n",
      "Epoch: 9\n",
      "Train on 1718855 samples\n",
      "1718855/1718855 [==============================] - 213s 124us/sample - loss: 0.0283\n"
     ]
    },
    {
     "name": "stderr",
     "output_type": "stream",
     "text": [
      "100% |########################################################################|\n"
     ]
    },
    {
     "name": "stdout",
     "output_type": "stream",
     "text": [
      "[   rank_at  hitcounts   recall  precision      ndcg\n",
      "0        1         34  0.04250   0.042500  0.042500\n",
      "1        5        113  0.14125   0.028250  0.090772\n",
      "2       10        194  0.24250   0.024250  0.122891\n",
      "3       15        236  0.29500   0.019667  0.136696\n",
      "4       20        310  0.38750   0.019375  0.158489]\n",
      "Epoch: 10\n",
      "Train on 1718855 samples\n",
      "1718855/1718855 [==============================] - 207s 120us/sample - loss: 0.0273\n"
     ]
    },
    {
     "name": "stderr",
     "output_type": "stream",
     "text": [
      "100% |########################################################################|\n"
     ]
    },
    {
     "name": "stdout",
     "output_type": "stream",
     "text": [
      "[   rank_at  hitcounts   recall  precision      ndcg\n",
      "0        1         27  0.03375   0.033750  0.033750\n",
      "1        5        107  0.13375   0.026750  0.082507\n",
      "2       10        174  0.21750   0.021750  0.109057\n",
      "3       15        251  0.31375   0.020917  0.134518\n",
      "4       20        311  0.38875   0.019437  0.152264]\n",
      "Epoch: 11\n",
      "Train on 1718855 samples\n",
      "1718855/1718855 [==============================] - 214s 124us/sample - loss: 0.0247\n"
     ]
    },
    {
     "name": "stderr",
     "output_type": "stream",
     "text": [
      "100% |########################################################################|\n"
     ]
    },
    {
     "name": "stdout",
     "output_type": "stream",
     "text": [
      "[   rank_at  hitcounts   recall  precision      ndcg\n",
      "0        1         36  0.04500   0.045000  0.045000\n",
      "1        5        108  0.13500   0.027000  0.089351\n",
      "2       10        188  0.23500   0.023500  0.121642\n",
      "3       15        266  0.33250   0.022167  0.147357\n",
      "4       20        335  0.41875   0.020938  0.167627]\n",
      "Epoch: 12\n",
      "Train on 1718855 samples\n",
      "1718855/1718855 [==============================] - 214s 125us/sample - loss: 0.0234\n"
     ]
    },
    {
     "name": "stderr",
     "output_type": "stream",
     "text": [
      "100% |########################################################################|\n"
     ]
    },
    {
     "name": "stdout",
     "output_type": "stream",
     "text": [
      "[   rank_at  hitcounts   recall  precision      ndcg\n",
      "0        1         29  0.03625   0.036250  0.036250\n",
      "1        5         99  0.12375   0.024750  0.080398\n",
      "2       10        190  0.23750   0.023750  0.116971\n",
      "3       15        265  0.33125   0.022083  0.141568\n",
      "4       20        329  0.41125   0.020562  0.160426]\n",
      "Epoch: 13\n",
      "Train on 1718855 samples\n",
      "1718855/1718855 [==============================] - 213s 124us/sample - loss: 0.0234\n"
     ]
    },
    {
     "name": "stderr",
     "output_type": "stream",
     "text": [
      "100% |########################################################################|\n"
     ]
    },
    {
     "name": "stdout",
     "output_type": "stream",
     "text": [
      "[   rank_at  hitcounts   recall  precision      ndcg\n",
      "0        1         38  0.04750   0.047500  0.047500\n",
      "1        5        106  0.13250   0.026500  0.089796\n",
      "2       10        181  0.22625   0.022625  0.119262\n",
      "3       15        250  0.31250   0.020833  0.141991\n",
      "4       20        303  0.37875   0.018937  0.157631]\n",
      "Epoch: 14\n",
      "Train on 1718855 samples\n",
      "1718855/1718855 [==============================] - 212s 123us/sample - loss: 0.0216\n"
     ]
    },
    {
     "name": "stderr",
     "output_type": "stream",
     "text": [
      "100% |########################################################################|\n"
     ]
    },
    {
     "name": "stdout",
     "output_type": "stream",
     "text": [
      "[   rank_at  hitcounts   recall  precision      ndcg\n",
      "0        1         33  0.04125   0.041250  0.041250\n",
      "1        5        100  0.12500   0.025000  0.083466\n",
      "2       10        186  0.23250   0.023250  0.118001\n",
      "3       15        248  0.31000   0.020667  0.138346\n",
      "4       20        334  0.41750   0.020875  0.163717]\n",
      "Epoch: 15\n",
      "Train on 1718855 samples\n",
      "1718855/1718855 [==============================] - 208s 121us/sample - loss: 0.0213\n"
     ]
    },
    {
     "name": "stderr",
     "output_type": "stream",
     "text": [
      "100% |########################################################################|\n"
     ]
    },
    {
     "name": "stdout",
     "output_type": "stream",
     "text": [
      "[   rank_at  hitcounts   recall  precision      ndcg\n",
      "0        1         24  0.03000   0.030000  0.030000\n",
      "1        5        103  0.12875   0.025750  0.079123\n",
      "2       10        177  0.22125   0.022125  0.108747\n",
      "3       15        253  0.31625   0.021083  0.133942\n",
      "4       20        333  0.41625   0.020812  0.157545]\n",
      "Epoch: 16\n",
      "Train on 1718855 samples\n",
      "1718855/1718855 [==============================] - 214s 124us/sample - loss: 0.0202\n"
     ]
    },
    {
     "name": "stderr",
     "output_type": "stream",
     "text": [
      "100% |########################################################################|\n"
     ]
    },
    {
     "name": "stdout",
     "output_type": "stream",
     "text": [
      "[   rank_at  hitcounts   recall  precision      ndcg\n",
      "0        1         25  0.03125   0.031250  0.031250\n",
      "1        5        111  0.13875   0.027750  0.083637\n",
      "2       10        173  0.21625   0.021625  0.108563\n",
      "3       15        245  0.30625   0.020417  0.132170\n",
      "4       20        323  0.40375   0.020187  0.155187]\n",
      "Epoch: 17\n",
      "Train on 1718855 samples\n",
      "1718855/1718855 [==============================] - 213s 124us/sample - loss: 0.0195\n"
     ]
    },
    {
     "name": "stderr",
     "output_type": "stream",
     "text": [
      "100% |########################################################################|\n"
     ]
    },
    {
     "name": "stdout",
     "output_type": "stream",
     "text": [
      "[   rank_at  hitcounts   recall  precision      ndcg\n",
      "0        1         27  0.03375   0.033750  0.033750\n",
      "1        5         90  0.11250   0.022500  0.072920\n",
      "2       10        180  0.22500   0.022500  0.108970\n",
      "3       15        270  0.33750   0.022500  0.138457\n",
      "4       20        329  0.41125   0.020562  0.155878]\n",
      "Epoch: 18\n",
      "Train on 1718855 samples\n",
      "1718855/1718855 [==============================] - 212s 124us/sample - loss: 0.0196\n"
     ]
    },
    {
     "name": "stderr",
     "output_type": "stream",
     "text": [
      " 17% |############                                                            |\r"
     ]
    }
   ],
   "source": [
    "NeuMF_val_metrics = NCF.train_model('NeuMF', samples, train_set, val_set.iloc[:800], store_path=f'../weights/NeuMF_weights_{run_num}/NeuMF_weights') "
   ]
  },
  {
   "cell_type": "markdown",
   "metadata": {},
   "source": [
    "#### Load weights for NeuMF"
   ]
  },
  {
   "cell_type": "code",
   "execution_count": null,
   "metadata": {},
   "outputs": [],
   "source": [
    "NCF.use_pretrain_model(GMF_weights_path=f'../weights/GMF_weights_{run_num}/GMF_weights',\n",
    "                       MLP_weights_path=f'../weights/MLP_weights_{run_num}/MLP_weights')"
   ]
  },
  {
   "cell_type": "code",
   "execution_count": null,
   "metadata": {},
   "outputs": [],
   "source": [
    "if __name__ == '__main__':\n",
    "    val_metrics = train_model('NeuMF', train_set, test_set.iloc[:1000], store_path=f'../weights/NeuMF_weights_{run_num}/NeuMF_weights') "
   ]
  },
  {
   "cell_type": "markdown",
   "metadata": {},
   "source": [
    "---\n",
    "## Evaluation"
   ]
  },
  {
   "cell_type": "code",
   "execution_count": null,
   "metadata": {},
   "outputs": [],
   "source": [
    "steps = 5\n",
    "rank_at = 20\n",
    "sample_len = 100"
   ]
  },
  {
   "cell_type": "code",
   "execution_count": 72,
   "metadata": {},
   "outputs": [
    {
     "data": {
      "text/plain": [
       "<tensorflow.python.training.tracking.util.CheckpointLoadStatus at 0x7fd08091e828>"
      ]
     },
     "execution_count": 72,
     "metadata": {},
     "output_type": "execute_result"
    }
   ],
   "source": [
    "NCF.NeuMF.load_weights(f'../weights/NeuMF_weights_{run_num}/NeuMF_weights').expect_partial()\n",
    "NCF.GMF.load_weights(f'../weights/GMF_weights_{run_num}/GMF_weights').expect_partial()\n",
    "NCF.MLP.load_weights(f'../weights/MLP_weights_{run_num}/MLP_weights').expect_partial()"
   ]
  },
  {
   "cell_type": "markdown",
   "metadata": {},
   "source": [
    "---\n",
    "## GMF"
   ]
  },
  {
   "cell_type": "markdown",
   "metadata": {},
   "source": [
    "### Full set scores"
   ]
  },
  {
   "cell_type": "code",
   "execution_count": null,
   "metadata": {},
   "outputs": [],
   "source": [
    "%%time\n",
    "ranked_df_full = NCF.get_predictions('GMF', test_set)"
   ]
  },
  {
   "cell_type": "code",
   "execution_count": null,
   "metadata": {},
   "outputs": [],
   "source": [
    "from Evaluation import get_metrics\n",
    "get_metrics(ranked_df_full, steps, rank_at, stats=False)"
   ]
  },
  {
   "cell_type": "markdown",
   "metadata": {},
   "source": [
    "### Sample scores"
   ]
  },
  {
   "cell_type": "code",
   "execution_count": null,
   "metadata": {},
   "outputs": [],
   "source": [
    "%%time\n",
    "ranked_df = NCF.sample_prediction('GMF', train_set, test_set)"
   ]
  },
  {
   "cell_type": "code",
   "execution_count": null,
   "metadata": {},
   "outputs": [],
   "source": [
    "from Evaluation import get_metrics\n",
    "get_metrics(ranked_df, steps, rank_at, stats=False)"
   ]
  },
  {
   "cell_type": "markdown",
   "metadata": {},
   "source": [
    "---\n",
    "## MLP"
   ]
  },
  {
   "cell_type": "markdown",
   "metadata": {},
   "source": [
    "### Full set scores"
   ]
  },
  {
   "cell_type": "code",
   "execution_count": null,
   "metadata": {},
   "outputs": [],
   "source": [
    "%%time\n",
    "MLP_ranked_df_full = NCF.get_predictions('MLP', test_set)"
   ]
  },
  {
   "cell_type": "code",
   "execution_count": null,
   "metadata": {},
   "outputs": [],
   "source": [
    "from Evaluation import get_metrics\n",
    "get_metrics(MLP_ranked_df_full, steps, rank_at, stats=False)"
   ]
  },
  {
   "cell_type": "markdown",
   "metadata": {},
   "source": [
    "### Sample scores"
   ]
  },
  {
   "cell_type": "code",
   "execution_count": null,
   "metadata": {},
   "outputs": [],
   "source": [
    "%%time\n",
    "MLP_ranked_df = NCF.sample_prediction('MLP', train_set, test_set)"
   ]
  },
  {
   "cell_type": "code",
   "execution_count": null,
   "metadata": {},
   "outputs": [],
   "source": [
    "from Evaluation import get_metrics\n",
    "get_metrics(MLP_ranked_df, steps, rank_at, stats=False)"
   ]
  },
  {
   "cell_type": "code",
   "execution_count": 83,
   "metadata": {},
   "outputs": [],
   "source": [
    "test_set_og = test_set"
   ]
  },
  {
   "cell_type": "code",
   "execution_count": 90,
   "metadata": {},
   "outputs": [],
   "source": [
    "test_set = test_set.iloc[:500]\n",
    "sample_len = 15000\n",
    "rank_at = 20"
   ]
  },
  {
   "cell_type": "code",
   "execution_count": 85,
   "metadata": {},
   "outputs": [],
   "source": [
    "model, _ = NCF.get_model('MLP')\n",
    "user_items = train_set.groupby('user_id')['item_id'].apply(list)\n",
    "test_user_items = test_set.groupby('user_id')['item_id'].apply(list)\n",
    "train_items = train_set.item_id.unique()"
   ]
  },
  {
   "cell_type": "code",
   "execution_count": 91,
   "metadata": {},
   "outputs": [
    {
     "name": "stderr",
     "output_type": "stream",
     "text": [
      "  0% |                                                                        |\r"
     ]
    },
    {
     "name": "stdout",
     "output_type": "stream",
     "text": [
      "[0.99993694 0.9997149  0.9997149  0.99930465 0.99930465 0.99930465\n",
      " 0.99922156 0.9991722  0.9991722  0.9989722  0.9989722  0.99892175\n",
      " 0.99891925 0.9985071  0.99801624 0.9976553  0.99749786 0.99709713\n",
      " 0.99707925 0.99697423]\n",
      "[0.9999896  0.9999553  0.9999374  0.9999374  0.9999144  0.99990296\n",
      " 0.99989116 0.999884   0.9998658  0.9998234  0.9998091  0.999778\n",
      " 0.999778   0.9996866  0.9996866  0.9996866  0.9994733  0.9994704\n",
      " 0.9994173  0.9994173 ]\n",
      "[0.99992776 0.99992776 0.99986124 0.99986124 0.99986124 0.99963975\n",
      " 0.9994522  0.9994522  0.999421   0.9993412  0.9993412  0.9993382\n",
      " 0.9993266  0.9991103  0.9991103  0.99906296 0.99906296 0.9989699\n",
      " 0.99893326 0.9985562 ]\n"
     ]
    },
    {
     "name": "stderr",
     "output_type": "stream",
     "text": [
      "  1% |                                                                        |\r"
     ]
    },
    {
     "name": "stdout",
     "output_type": "stream",
     "text": [
      "[0.99998736 0.99998736 0.99998736 0.9999825  0.99997747 0.99997747\n",
      " 0.9999378  0.9998528  0.9998528  0.9997563  0.9997563  0.9997383\n",
      " 0.99973387 0.99960726 0.9994704  0.9994704  0.99932146 0.99904233\n",
      " 0.99904233 0.99891686]\n",
      "[0.99986863 0.999806   0.99860734 0.9982439  0.9981907  0.9979017\n",
      " 0.9978877  0.99786854 0.99721044 0.99710053 0.9950389  0.99476516\n",
      " 0.9942932  0.9938061  0.9925027  0.9923254  0.9922078  0.9921902\n",
      " 0.99216133 0.99111253]\n",
      "[0.99998546 0.99996555 0.99996555 0.999948   0.9998946  0.99986565\n",
      " 0.99973637 0.9994678  0.9993253  0.9992513  0.9992513  0.99895084\n",
      " 0.9989196  0.9989196  0.99862003 0.99848914 0.99848914 0.99847335\n",
      " 0.998243   0.9982242 ]\n",
      "[0.9999206  0.9997069  0.9996755  0.99935824 0.9990368  0.9990368\n",
      " 0.9986858  0.9986858  0.9984206  0.9979334  0.9974577  0.9973883\n",
      " 0.9973883  0.99737096 0.9971973  0.99690515 0.9962075  0.99616784\n",
      " 0.9956369  0.9955005 ]\n",
      "[0.9998617  0.99950325 0.99931777 0.9992817  0.9990682  0.9990682\n",
      " 0.9987016  0.9987016  0.9986506  0.99826056 0.9981675  0.9981527\n",
      " 0.9981527  0.9980171  0.99794775 0.99794775 0.9976199  0.9975432\n",
      " 0.9975432  0.99751353]\n"
     ]
    },
    {
     "name": "stderr",
     "output_type": "stream",
     "text": [
      "  2% |#                                                                       |\r"
     ]
    },
    {
     "name": "stdout",
     "output_type": "stream",
     "text": [
      "[0.9999887  0.9999852  0.9999852  0.9999827  0.9999827  0.999972\n",
      " 0.9999515  0.9999515  0.9999411  0.99985826 0.9998565  0.9996896\n",
      " 0.9996896  0.99966383 0.99966383 0.99966383 0.9996537  0.99950314\n",
      " 0.9993832  0.9993832 ]\n",
      "[0.9999933  0.9999143  0.99983585 0.9997588  0.9997063  0.99968064\n",
      " 0.9996037  0.9996037  0.9996037  0.99954444 0.99950445 0.9993117\n",
      " 0.99929726 0.99929726 0.9992331  0.9992331  0.9990476  0.9989587\n",
      " 0.99882275 0.9987387 ]\n",
      "[0.9999894  0.99992657 0.99992657 0.9994165  0.9994165  0.99920386\n",
      " 0.998607   0.99859506 0.99854374 0.9982352  0.9981951  0.9981951\n",
      " 0.99818605 0.998159   0.998159   0.9980934  0.9978992  0.9976432\n",
      " 0.9976084  0.9975242 ]\n",
      "[0.99999046 0.9999838  0.9999019  0.9998036  0.9995535  0.9995535\n",
      " 0.9994696  0.9993918  0.999281   0.99920017 0.9991485  0.9988961\n",
      " 0.9988961  0.9985098  0.99847025 0.99847025 0.99847025 0.9982999\n",
      " 0.9981918  0.9981918 ]\n",
      "[0.99994826 0.99992025 0.9998375  0.9996922  0.9996922  0.99966717\n",
      " 0.999635   0.999635   0.99961334 0.99928457 0.99928457 0.9987472\n",
      " 0.99869674 0.99869674 0.99868613 0.9983223  0.9982316  0.99793684\n",
      " 0.9975432  0.997349  ]\n",
      "[0.9999987  0.9999987  0.9999882  0.99998367 0.99998236 0.999951\n",
      " 0.9999416  0.99990714 0.9999018  0.99987984 0.9998679  0.99983287\n",
      " 0.99982136 0.99970347 0.99959916 0.99953544 0.99953544 0.99953544\n",
      " 0.99952817 0.99952817]\n"
     ]
    },
    {
     "name": "stderr",
     "output_type": "stream",
     "text": [
      "  3% |##                                                                      |\r"
     ]
    },
    {
     "name": "stdout",
     "output_type": "stream",
     "text": [
      "[0.99998784 0.99984443 0.999816   0.9997112  0.9994748  0.9994493\n",
      " 0.9994178  0.99933416 0.99925214 0.99925214 0.99852175 0.99814546\n",
      " 0.9979207  0.9979207  0.9979207  0.997623   0.997623   0.9974813\n",
      " 0.9968317  0.99606776]\n",
      "[0.99999034 0.99999034 0.99998593 0.999982   0.9999727  0.9999701\n",
      " 0.99995553 0.9999453  0.9999403  0.999926   0.999926   0.999926\n",
      " 0.99991274 0.9998833  0.9998547  0.99978155 0.99974436 0.9997143\n",
      " 0.9995913  0.999413  ]\n",
      "[0.99996865 0.9998031  0.9998018  0.99978524 0.9995528  0.9994462\n",
      " 0.9994462  0.9994462  0.999321   0.99916685 0.99910057 0.9987955\n",
      " 0.99872655 0.9987103  0.9986265  0.99848574 0.99848574 0.99831235\n",
      " 0.9981067  0.9981067 ]\n"
     ]
    },
    {
     "name": "stderr",
     "output_type": "stream",
     "text": [
      "  4% |##                                                                      |\r"
     ]
    },
    {
     "name": "stdout",
     "output_type": "stream",
     "text": [
      "[0.99973446 0.9994167  0.99909914 0.99904805 0.99904805 0.99904805\n",
      " 0.99904805 0.99886703 0.99886703 0.99879515 0.9987735  0.9987112\n",
      " 0.9987112  0.998623   0.998623   0.998623   0.99859554 0.9985123\n",
      " 0.99849975 0.9984635 ]\n",
      "[0.9996387  0.9996387  0.9996288  0.9996288  0.99936825 0.99922156\n",
      " 0.99922156 0.99891424 0.9985067  0.9982103  0.9982103  0.9976452\n",
      " 0.9976197  0.9975666  0.9975666  0.9974935  0.99745506 0.99745506\n",
      " 0.99707055 0.99704677]\n",
      "[0.99994767 0.999846   0.9988642  0.99856645 0.9983016  0.9981652\n",
      " 0.99788123 0.99767405 0.9974011  0.9973496  0.9973496  0.9971246\n",
      " 0.9971246  0.996797   0.996797   0.99673826 0.99650675 0.9964857\n",
      " 0.9964857  0.9963497 ]\n",
      "[0.99965525 0.9995284  0.9995284  0.9995284  0.9994702  0.9993587\n",
      " 0.9993088  0.9993088  0.99919397 0.9991774  0.9991774  0.99846387\n",
      " 0.99825555 0.9981863  0.9977835  0.997577   0.997577   0.997577\n",
      " 0.9974222  0.9974185 ]\n",
      "[0.9999963  0.99997675 0.9998016  0.9998016  0.9997427  0.999701\n",
      " 0.9996835  0.99940526 0.99940526 0.99940526 0.99921215 0.99921215\n",
      " 0.999171   0.9991172  0.9991172  0.9990878  0.99905103 0.99876285\n",
      " 0.99876285 0.9987174 ]\n",
      "[0.9999938  0.9999684  0.9999242  0.99991477 0.9998913  0.99981016\n",
      " 0.9996339  0.9996339  0.999607   0.99944526 0.99944526 0.9994289\n",
      " 0.9993631  0.99932563 0.99928826 0.99922657 0.9991948  0.9991499\n",
      " 0.99908864 0.99902105]\n"
     ]
    },
    {
     "name": "stderr",
     "output_type": "stream",
     "text": [
      "  5% |###                                                                     |\r"
     ]
    },
    {
     "name": "stdout",
     "output_type": "stream",
     "text": [
      "[0.9998615  0.9998615  0.9998491  0.9998491  0.9994337  0.9992723\n",
      " 0.9987551  0.9981962  0.9981962  0.99814606 0.9980709  0.9980215\n",
      " 0.9980015  0.9980015  0.9980015  0.9979311  0.9979056  0.99774987\n",
      " 0.9976999  0.9976999 ]\n",
      "[0.99999285 0.99999285 0.99997926 0.9999691  0.9999676  0.999956\n",
      " 0.9999509  0.99979    0.99978584 0.99977654 0.99964225 0.99964225\n",
      " 0.9995652  0.9995183  0.9994796  0.999368   0.9993032  0.99918634\n",
      " 0.99918634 0.998992  ]\n",
      "[0.99999213 0.9999677  0.9999677  0.9999616  0.9999616  0.9999616\n",
      " 0.9999616  0.99993956 0.99989927 0.9998976  0.999887   0.99988234\n",
      " 0.99986625 0.9998209  0.9998053  0.9997081  0.9997081  0.9994554\n",
      " 0.9994554  0.9990145 ]\n",
      "[0.99997795 0.99994266 0.9999411  0.9998764  0.9998764  0.99983275\n",
      " 0.9996375  0.9996375  0.9995435  0.9992561  0.9989311  0.9985763\n",
      " 0.9979984  0.9979601  0.99777573 0.997773   0.9974381  0.99724066\n",
      " 0.997138   0.997138  ]\n",
      "[0.99996054 0.99994314 0.99994314 0.9999329  0.99991965 0.999866\n",
      " 0.9997998  0.9997986  0.9994586  0.9994487  0.9994336  0.9994336\n",
      " 0.99934644 0.99924374 0.9990527  0.9989857  0.9989379  0.9989091\n",
      " 0.9984995  0.9984995 ]\n",
      "[0.99990845 0.99990845 0.99981266 0.99980944 0.9998078  0.99977046\n",
      " 0.99977046 0.9997594  0.9997093  0.9997093  0.99970764 0.99968886\n",
      " 0.99968255 0.9996517  0.9996344  0.999617   0.9995142  0.9994873\n",
      " 0.9994873  0.9993624 ]\n"
     ]
    },
    {
     "name": "stderr",
     "output_type": "stream",
     "text": [
      "  6% |####                                                                    |\r"
     ]
    },
    {
     "name": "stdout",
     "output_type": "stream",
     "text": [
      "[0.99996006 0.9999045  0.9999045  0.99986863 0.99955004 0.9988728\n",
      " 0.9988586  0.9985154  0.9984654  0.9978911  0.9978911  0.9978911\n",
      " 0.9976052  0.9975854  0.9975854  0.99756277 0.997497   0.9974058\n",
      " 0.9968495  0.99684864]\n",
      "[0.9998116  0.9998116  0.9997228  0.9996917  0.99965644 0.9996308\n",
      " 0.9995228  0.9995142  0.9995142  0.9993874  0.9992679  0.99917245\n",
      " 0.9990396  0.9990396  0.998988   0.99896264 0.99896264 0.99887437\n",
      " 0.99883515 0.99883515]\n",
      "[0.9999337  0.9997378  0.99971455 0.9996942  0.9996922  0.9996798\n",
      " 0.9996798  0.9996798  0.9994729  0.9994486  0.9994486  0.99930036\n",
      " 0.99930036 0.99928564 0.99928564 0.999146   0.99910444 0.99909055\n",
      " 0.99909055 0.99909055]\n"
     ]
    },
    {
     "name": "stderr",
     "output_type": "stream",
     "text": [
      "  7% |#####                                                                   |\r"
     ]
    },
    {
     "name": "stdout",
     "output_type": "stream",
     "text": [
      "[0.99998045 0.9998412  0.9997428  0.99950373 0.9994715  0.9994715\n",
      " 0.9994369  0.9993067  0.9993067  0.9991836  0.99901736 0.99901736\n",
      " 0.99901736 0.998855   0.99834454 0.99833786 0.9982906  0.99744034\n",
      " 0.9973328  0.9972873 ]\n",
      "[0.9999968  0.9999968  0.9999851  0.9999496  0.9999485  0.9999275\n",
      " 0.9999275  0.99991333 0.99991333 0.99984825 0.99984825 0.9997763\n",
      " 0.99970645 0.99968326 0.99968326 0.999559   0.99950874 0.99950874\n",
      " 0.9994074  0.9993893 ]\n",
      "[0.99998605 0.99998605 0.99985313 0.99984205 0.99956137 0.99949026\n",
      " 0.99949026 0.99947244 0.99946886 0.99946886 0.9991736  0.99898976\n",
      " 0.9986218  0.9985851  0.99854785 0.9985043  0.998423   0.998423\n",
      " 0.9984218  0.9983242 ]\n",
      "[0.99986327 0.9998018  0.99969554 0.9996922  0.9996922  0.9996724\n",
      " 0.99950075 0.99930775 0.9990489  0.9990489  0.99904126 0.99895847\n",
      " 0.9989328  0.9989328  0.9989127  0.99888355 0.99888355 0.99888355\n",
      " 0.99872214 0.99850583]\n",
      "[0.9998604  0.9998604  0.99986017 0.99986017 0.9998585  0.9997888\n",
      " 0.99975127 0.99970883 0.9996443  0.9996195  0.9994677  0.99940836\n",
      " 0.99940836 0.99932766 0.9993017  0.9993017  0.9992836  0.9991579\n",
      " 0.9991462  0.9988121 ]\n",
      "[0.99997663 0.99984217 0.9995183  0.9994066  0.9994066  0.9994066\n",
      " 0.9993217  0.9993217  0.99873835 0.9986511  0.9980799  0.9980799\n",
      " 0.9973767  0.9969458  0.9967803  0.9967803  0.99671245 0.99636227\n",
      " 0.99636227 0.99601185]\n"
     ]
    },
    {
     "name": "stderr",
     "output_type": "stream",
     "text": [
      "  8% |#####                                                                   |\r"
     ]
    },
    {
     "name": "stdout",
     "output_type": "stream",
     "text": [
      "[0.99993455 0.99992836 0.99981683 0.9998024  0.9998018  0.9998018\n",
      " 0.9998018  0.9997509  0.9997414  0.99967194 0.99961483 0.99950016\n",
      " 0.9989673  0.9989159  0.9989159  0.99880385 0.9987955  0.9987955\n",
      " 0.9984132  0.9983719 ]\n",
      "[0.99965537 0.9995691  0.9993979  0.99897075 0.99886036 0.99885607\n",
      " 0.9985936  0.9985936  0.9984805  0.9984805  0.9981236  0.9980862\n",
      " 0.9980399  0.9979808  0.9979808  0.99787104 0.99770445 0.99742067\n",
      " 0.9971523  0.99711335]\n",
      "[0.99988306 0.99988306 0.9998165  0.9998165  0.9998165  0.9998165\n",
      " 0.99964774 0.9994935  0.99942845 0.99942845 0.9993254  0.99919504\n",
      " 0.99904984 0.9990134  0.9987214  0.9981865  0.9981669  0.9980002\n",
      " 0.9976267  0.997317  ]\n",
      "[0.99989605 0.9996283  0.9996283  0.99954236 0.9994529  0.99940395\n",
      " 0.9990427  0.99890065 0.99851626 0.99848205 0.99848205 0.99845946\n",
      " 0.998447   0.998447   0.99835545 0.99820757 0.99820757 0.99800974\n",
      " 0.9979913  0.9979913 ]\n",
      "[0.9999833  0.99995184 0.9998661  0.99985266 0.99978894 0.9997626\n",
      " 0.99974734 0.99966156 0.99960977 0.99960977 0.99950874 0.99946815\n",
      " 0.99945253 0.99942493 0.9993356  0.99932146 0.99919933 0.9991345\n",
      " 0.9991345  0.99911827]\n",
      "[0.9999943  0.99998355 0.99996877 0.9999478  0.9999143  0.9997137\n",
      " 0.9997137  0.99962556 0.9995708  0.9995708  0.9995153  0.9994067\n",
      " 0.9993788  0.9993788  0.9993788  0.999      0.9989925  0.99893576\n",
      " 0.9989165  0.9984915 ]\n"
     ]
    },
    {
     "name": "stderr",
     "output_type": "stream",
     "text": [
      "  9% |######                                                                  |\r"
     ]
    },
    {
     "name": "stdout",
     "output_type": "stream",
     "text": [
      "[0.999624   0.999624   0.99961203 0.99959785 0.99959785 0.99957305\n",
      " 0.9994542  0.99942374 0.99940705 0.99929404 0.9991792  0.9991792\n",
      " 0.9990627  0.9988655  0.99880135 0.99880135 0.99874485 0.99871767\n",
      " 0.99871767 0.9987174 ]\n",
      "[0.99999535 0.99998987 0.99998987 0.99998665 0.99992836 0.99980754\n",
      " 0.99980754 0.99980754 0.9995603  0.99950254 0.99950254 0.9993048\n",
      " 0.99929583 0.9990916  0.9990916  0.9990916  0.99897206 0.99896026\n",
      " 0.9986407  0.99841726]\n",
      "[0.9999907  0.9999907  0.999941   0.999941   0.99988914 0.99988914\n",
      " 0.9998522  0.9998362  0.9998362  0.9998323  0.99973994 0.99967146\n",
      " 0.99934846 0.99934846 0.99934846 0.9992506  0.9992506  0.99915373\n",
      " 0.9991454  0.9990971 ]\n"
     ]
    },
    {
     "name": "stderr",
     "output_type": "stream",
     "text": [
      " 10% |#######                                                                 |\r"
     ]
    },
    {
     "name": "stdout",
     "output_type": "stream",
     "text": [
      "[0.999949   0.99961346 0.9992716  0.9992716  0.99901164 0.9988967\n",
      " 0.9988967  0.998852   0.99873537 0.99865204 0.99844825 0.9981779\n",
      " 0.99812347 0.9980635  0.99794716 0.9978516  0.9978516  0.9977703\n",
      " 0.997552   0.9972761 ]\n",
      "[0.9999498  0.9999131  0.9999131  0.9999131  0.9999068  0.9999068\n",
      " 0.9999068  0.9999068  0.9999068  0.9998741  0.9998104  0.9997273\n",
      " 0.9997273  0.999711   0.999711   0.999711   0.999711   0.9996685\n",
      " 0.9996667  0.99955314]\n",
      "[0.9999982  0.99999416 0.9999769  0.9998764  0.9998616  0.99978787\n",
      " 0.9997781  0.999739   0.9995877  0.9995353  0.9995252  0.9995252\n",
      " 0.99941623 0.99937207 0.9993105  0.99921167 0.999183   0.99918085\n",
      " 0.9987405  0.998596  ]\n",
      "[0.9999448  0.9999428  0.9999428  0.999931   0.9998896  0.9998766\n",
      " 0.999721   0.999721   0.9996382  0.9996382  0.9995714  0.9993734\n",
      " 0.9991417  0.99894196 0.9989243  0.998895   0.9985488  0.99799865\n",
      " 0.9979862  0.9977094 ]\n",
      "[0.9997969  0.9997969  0.99941325 0.9993498  0.9993079  0.9991867\n",
      " 0.9989385  0.9989085  0.9988393  0.9987595  0.9982406  0.9982406\n",
      " 0.9979929  0.9979551  0.9979551  0.9974528  0.9973896  0.9973013\n",
      " 0.99727625 0.9971004 ]\n"
     ]
    },
    {
     "name": "stderr",
     "output_type": "stream",
     "text": [
      " 11% |#######                                                                 |\r"
     ]
    },
    {
     "name": "stdout",
     "output_type": "stream",
     "text": [
      "[0.99990106 0.9995772  0.99955577 0.999443   0.99917966 0.99915886\n",
      " 0.99915886 0.9991302  0.9991302  0.999129   0.999129   0.9991271\n",
      " 0.9991271  0.99898785 0.99898785 0.9989505  0.9989505  0.99887854\n",
      " 0.9985061  0.99846506]\n",
      "[0.99959785 0.9994616  0.99934167 0.99934167 0.99933773 0.99932206\n",
      " 0.9992281  0.9992281  0.9991503  0.99904937 0.99893147 0.9988586\n",
      " 0.9988423  0.9988423  0.998808   0.9984433  0.9984419  0.9984322\n",
      " 0.99837565 0.99837565]\n",
      "[0.999798   0.999798   0.999798   0.9996451  0.9995689  0.9995689\n",
      " 0.9989078  0.9976165  0.9970745  0.99703896 0.99654996 0.9962591\n",
      " 0.9939972  0.9939972  0.9939972  0.9936836  0.9936666  0.99330324\n",
      " 0.99252045 0.99252045]\n",
      "[0.9998926  0.99978095 0.9997168  0.99933237 0.99933237 0.9993124\n",
      " 0.99928635 0.99926156 0.9992072  0.9992072  0.99871004 0.9985393\n",
      " 0.9985393  0.9984011  0.998279   0.99802494 0.9979662  0.9979201\n",
      " 0.9978531  0.9976705 ]\n",
      "[0.99996936 0.99978095 0.99974805 0.99974257 0.99974257 0.9994974\n",
      " 0.9992637  0.99907255 0.99907255 0.99907255 0.99907255 0.99891186\n",
      " 0.99891186 0.99884343 0.9980938  0.9980938  0.99787605 0.99787605\n",
      " 0.99742115 0.9973471 ]\n",
      "[0.99998236 0.99997604 0.99997604 0.9999343  0.99986446 0.99982196\n",
      " 0.99982196 0.99982196 0.99978644 0.99959797 0.99959797 0.99950767\n",
      " 0.99914324 0.99914324 0.99914324 0.99914324 0.9990651  0.9988477\n",
      " 0.9988477  0.9988477 ]\n"
     ]
    },
    {
     "name": "stderr",
     "output_type": "stream",
     "text": [
      " 12% |########                                                                |\r"
     ]
    },
    {
     "name": "stdout",
     "output_type": "stream",
     "text": [
      "[0.99986625 0.9998191  0.9994456  0.99939775 0.99934036 0.99934036\n",
      " 0.99930227 0.99930227 0.99930227 0.99926513 0.99926513 0.99923337\n",
      " 0.9992161  0.9990569  0.9990196  0.9990196  0.9986364  0.99862623\n",
      " 0.99862623 0.99861765]\n",
      "[0.9998109  0.9998109  0.9997874  0.9997874  0.99972135 0.99968386\n",
      " 0.99968386 0.99966586 0.99952686 0.99952686 0.9995252  0.999506\n",
      " 0.9993667  0.9993581  0.99932563 0.9992576  0.9992576  0.9990922\n",
      " 0.99901235 0.9988932 ]\n",
      "[0.9998005  0.9996754  0.9994424  0.9994424  0.9994424  0.99940467\n",
      " 0.9991788  0.99915504 0.9989537  0.998601   0.99847966 0.9984347\n",
      " 0.99839383 0.99835604 0.99831426 0.99831426 0.9980557  0.9980374\n",
      " 0.99759346 0.99759346]\n",
      "[0.99993837 0.9999161  0.99967825 0.99966204 0.99966204 0.99966204\n",
      " 0.99963295 0.99963295 0.9995191  0.99947757 0.99940157 0.9991885\n",
      " 0.9991289  0.99885666 0.9987     0.9987     0.9984927  0.9984927\n",
      " 0.9984869  0.9984869 ]\n",
      "[0.99999726 0.99998605 0.99998605 0.99997866 0.9999671  0.9999671\n",
      " 0.9999651  0.9999391  0.99992716 0.9999243  0.9999243  0.99992263\n",
      " 0.99989045 0.9998692  0.9998692  0.999869   0.9998605  0.9998479\n",
      " 0.99982554 0.99972254]\n",
      "[0.99995327 0.99994755 0.9999472  0.99993384 0.999894   0.9998708\n",
      " 0.99984336 0.9997644  0.9996506  0.9996051  0.9995739  0.9995353\n",
      " 0.99930704 0.9990466  0.99904126 0.9980835  0.99803203 0.99803203\n",
      " 0.9970739  0.99701774]\n"
     ]
    },
    {
     "name": "stderr",
     "output_type": "stream",
     "text": [
      " 13% |#########                                                               |\r"
     ]
    },
    {
     "name": "stdout",
     "output_type": "stream",
     "text": [
      "[0.99978787 0.99939084 0.99937373 0.9993636  0.9993636  0.9993175\n",
      " 0.9993175  0.9993051  0.9992487  0.9992487  0.99921334 0.99902177\n",
      " 0.99901664 0.99901664 0.9989951  0.9989951  0.99898237 0.99895966\n",
      " 0.99895966 0.99893063]\n",
      "[0.99987745 0.99973124 0.9996604  0.9996126  0.9996126  0.9996126\n",
      " 0.9995845  0.9995845  0.99917406 0.99895394 0.9983778  0.99834216\n",
      " 0.9981217  0.99795675 0.9977768  0.9975908  0.99757093 0.99751484\n",
      " 0.99751484 0.997393  ]\n",
      "[0.99998915 0.99998915 0.99994123 0.99994123 0.99987817 0.99980706\n",
      " 0.9997863  0.9997863  0.9994361  0.99941075 0.9992643  0.9992643\n",
      " 0.99907756 0.9989605  0.99885154 0.99871564 0.99871564 0.9984876\n",
      " 0.9984389  0.99834895]\n"
     ]
    },
    {
     "name": "stderr",
     "output_type": "stream",
     "text": [
      " 14% |##########                                                              |\r"
     ]
    },
    {
     "name": "stdout",
     "output_type": "stream",
     "text": [
      "[0.9997849  0.99976534 0.99966073 0.99966073 0.99959093 0.9995548\n",
      " 0.99952793 0.9995047  0.9993011  0.9993011  0.99919194 0.9990152\n",
      " 0.9987717  0.9984738  0.9984738  0.9984738  0.99844426 0.99820435\n",
      " 0.9979923  0.997898  ]\n",
      "[0.999585   0.9988035  0.9987953  0.99842644 0.99834776 0.9979929\n",
      " 0.9977848  0.9974728  0.99682957 0.9965616  0.995815   0.9952727\n",
      " 0.9952242  0.9951999  0.9950134  0.99459684 0.9939865  0.9939865\n",
      " 0.9939865  0.9939865 ]\n",
      "[0.999987   0.9999634  0.9999634  0.9999565  0.9999547  0.9999547\n",
      " 0.9999186  0.9999186  0.99989736 0.9998921  0.9998877  0.9998325\n",
      " 0.99970335 0.9995066  0.9995066  0.99927014 0.99921155 0.9991843\n",
      " 0.99918276 0.99918276]\n",
      "[0.9999063  0.9998392  0.9998319  0.99982506 0.9998054  0.9997439\n",
      " 0.99968517 0.99968517 0.99954563 0.99954563 0.99932075 0.9991079\n",
      " 0.9989254  0.9987325  0.9983766  0.99561644 0.99561644 0.99454814\n",
      " 0.99442935 0.99427044]\n",
      "[0.99988294 0.99981064 0.99981064 0.9996985  0.99969363 0.99969363\n",
      " 0.9996501  0.9995571  0.9993438  0.9993438  0.9992111  0.9991737\n",
      " 0.9991737  0.9990326  0.9989649  0.99865353 0.99860257 0.9985715\n",
      " 0.9985072  0.99842167]\n",
      "[0.9997553  0.9997553  0.99944466 0.9989349  0.99850696 0.998338\n",
      " 0.99813336 0.9980014  0.99783486 0.9977253  0.99733126 0.99733126\n",
      " 0.9972434  0.9971846  0.9970912  0.99699914 0.996935   0.996935\n",
      " 0.9968665  0.9968549 ]\n"
     ]
    },
    {
     "name": "stderr",
     "output_type": "stream",
     "text": [
      " 15% |##########                                                              |\r"
     ]
    },
    {
     "name": "stdout",
     "output_type": "stream",
     "text": [
      "[0.99995816 0.9999162  0.99985695 0.9998543  0.9998543  0.9998543\n",
      " 0.99972767 0.9996669  0.99965453 0.9996302  0.9995121  0.9995121\n",
      " 0.9994708  0.9992706  0.9992706  0.9992612  0.9992612  0.9991353\n",
      " 0.99912184 0.99912184]\n",
      "[0.9996561  0.99937916 0.99934095 0.9992254  0.9991271  0.99830425\n",
      " 0.9982657  0.9982657  0.9978757  0.9976808  0.9974833  0.9974833\n",
      " 0.9970692  0.9970692  0.9967989  0.99605954 0.995167   0.9948297\n",
      " 0.9948297  0.99475104]\n",
      "[0.9999713  0.9999621  0.9999621  0.9998865  0.9998865  0.999881\n",
      " 0.9998641  0.9998641  0.99980325 0.9996301  0.99959415 0.999418\n",
      " 0.99909425 0.9990853  0.9985586  0.9984439  0.9983475  0.9983475\n",
      " 0.9982874  0.99818605]\n",
      "[0.9999887  0.99997365 0.9999616  0.99991715 0.99983203 0.9997731\n",
      " 0.99969363 0.9995307  0.9994972  0.9994498  0.9994498  0.9993073\n",
      " 0.9992884  0.9992884  0.9991548  0.9991196  0.99905103 0.9987785\n",
      " 0.9986286  0.9986286 ]\n",
      "[0.9996432  0.99923396 0.99895704 0.99895704 0.9988098  0.99872476\n",
      " 0.99872476 0.99872476 0.9985495  0.9985234  0.9985234  0.99834967\n",
      " 0.99805474 0.99799675 0.9977518  0.997649   0.9975853  0.9975446\n",
      " 0.9974746  0.99743795]\n",
      "[0.9999435  0.9999435  0.9998259  0.9997199  0.99962664 0.99962664\n",
      " 0.9992519  0.9992519  0.9987979  0.9983364  0.9980715  0.9980715\n",
      " 0.99784756 0.99784756 0.99692047 0.99692047 0.99692047 0.99635386\n",
      " 0.99635386 0.9960872 ]\n"
     ]
    },
    {
     "name": "stderr",
     "output_type": "stream",
     "text": [
      " 16% |###########                                                             |\r"
     ]
    },
    {
     "name": "stdout",
     "output_type": "stream",
     "text": [
      "[0.99995553 0.9999374  0.9999156  0.9999006  0.9998801  0.9998442\n",
      " 0.99980646 0.99980646 0.99980646 0.9998061  0.99977666 0.999696\n",
      " 0.9996536  0.99958545 0.99958223 0.9995617  0.99955374 0.9995059\n",
      " 0.9993936  0.9992455 ]\n",
      "[0.9996408  0.99936396 0.99924123 0.99924123 0.99916744 0.99913245\n",
      " 0.99899167 0.99897003 0.99881613 0.99879587 0.9987877  0.9986941\n",
      " 0.99866784 0.9982993  0.99828064 0.9981229  0.9981229  0.9981047\n",
      " 0.9981047  0.9980938 ]\n",
      "[0.9998375  0.9998375  0.99959666 0.9995535  0.9995535  0.9995308\n",
      " 0.9994517  0.9993759  0.999311   0.99903095 0.99903095 0.9988978\n",
      " 0.9984138  0.9981529  0.998142   0.9981041  0.9980843  0.99791616\n",
      " 0.99789715 0.9977343 ]\n"
     ]
    },
    {
     "name": "stderr",
     "output_type": "stream",
     "text": [
      " 17% |############                                                            |\r"
     ]
    },
    {
     "name": "stdout",
     "output_type": "stream",
     "text": [
      "[0.99992526 0.99992526 0.99992037 0.99985933 0.99985933 0.9998202\n",
      " 0.9987029  0.99840707 0.9980628  0.99778724 0.99777514 0.9977617\n",
      " 0.99752    0.99714464 0.99700874 0.99700874 0.99686533 0.99686533\n",
      " 0.99686533 0.99686533]\n",
      "[0.99995303 0.99995303 0.9999478  0.9999478  0.9998803  0.9998111\n",
      " 0.99980146 0.9994288  0.9994267  0.9994267  0.99904567 0.9988171\n",
      " 0.9987809  0.99869967 0.9985039  0.9985039  0.9984243  0.9984243\n",
      " 0.99788207 0.99788207]\n",
      "[0.9997695  0.9997695  0.99973446 0.9997284  0.9997284  0.9997209\n",
      " 0.9996592  0.9996006  0.99959165 0.9994862  0.9994862  0.9994137\n",
      " 0.99924684 0.9990959  0.9990748  0.99885046 0.99885046 0.9987954\n",
      " 0.99847394 0.99838006]\n",
      "[0.99972695 0.9995384  0.99948335 0.99948335 0.9992335  0.9990988\n",
      " 0.9988288  0.9984763  0.9983254  0.99816245 0.9980083  0.99798346\n",
      " 0.99790776 0.99788386 0.9978497  0.9978497  0.9978436  0.9978436\n",
      " 0.9977786  0.9977786 ]\n",
      "[0.99979407 0.9996728  0.9996635  0.9996635  0.9992047  0.9987287\n",
      " 0.9987287  0.9984547  0.9984394  0.9981133  0.9980868  0.99806446\n",
      " 0.99797255 0.9979413  0.9979413  0.9979413  0.99790406 0.99785787\n",
      " 0.9977621  0.99762136]\n",
      "[0.9999865  0.99998426 0.99998426 0.99995375 0.99995375 0.99995375\n",
      " 0.9999329  0.99983954 0.99983954 0.9997558  0.9997404  0.99966216\n",
      " 0.9995271  0.99926585 0.9991697  0.99907506 0.99890745 0.9986872\n",
      " 0.9985636  0.9985636 ]\n"
     ]
    },
    {
     "name": "stderr",
     "output_type": "stream",
     "text": [
      " 18% |############                                                            |\r"
     ]
    },
    {
     "name": "stdout",
     "output_type": "stream",
     "text": [
      "[0.99984455 0.99984455 0.99975115 0.99974865 0.9997273  0.9996698\n",
      " 0.9996674  0.99945587 0.9993411  0.9993411  0.9992699  0.9990393\n",
      " 0.99893826 0.99870086 0.9983551  0.9978491  0.9978491  0.9978327\n",
      " 0.9975987  0.9975751 ]\n",
      "[0.99992394 0.9996239  0.9995995  0.999503   0.999503   0.999503\n",
      " 0.99936956 0.9993538  0.9988171  0.99851435 0.99822885 0.9981723\n",
      " 0.9981723  0.99802727 0.9975508  0.9975508  0.99660873 0.99660873\n",
      " 0.99660873 0.99659497]\n",
      "[0.99998367 0.99993193 0.9998548  0.9998467  0.99984264 0.99984264\n",
      " 0.99983156 0.9998031  0.9997491  0.99970263 0.9996766  0.99952865\n",
      " 0.9994306  0.9994054  0.9994054  0.99930906 0.99930906 0.999156\n",
      " 0.999156   0.9991136 ]\n",
      "[0.99999976 0.9999826  0.9999622  0.99994385 0.9999372  0.9999372\n",
      " 0.99987674 0.99987674 0.9998242  0.9998005  0.99978524 0.99978524\n",
      " 0.9997335  0.9996979  0.9990388  0.9990388  0.99858785 0.99836093\n",
      " 0.9979804  0.997797  ]\n",
      "[0.9999976  0.9999926  0.9999926  0.99997866 0.9999676  0.9999368\n",
      " 0.9999368  0.99993646 0.99988997 0.9998845  0.99988127 0.99986434\n",
      " 0.99986434 0.99985254 0.99978083 0.99978083 0.9996269  0.9996265\n",
      " 0.9996265  0.99959856]\n",
      "[0.99985254 0.9998448  0.99980277 0.99980277 0.99976283 0.99976283\n",
      " 0.9996929  0.9996203  0.99959916 0.99959916 0.9995679  0.9995679\n",
      " 0.9995679  0.9995641  0.9995641  0.99931943 0.999278   0.99908066\n",
      " 0.99900216 0.998992  ]\n"
     ]
    },
    {
     "name": "stderr",
     "output_type": "stream",
     "text": [
      " 19% |#############                                                           |\r"
     ]
    },
    {
     "name": "stdout",
     "output_type": "stream",
     "text": [
      "[0.99993134 0.9998634  0.9998634  0.99982625 0.99971944 0.99940443\n",
      " 0.99935824 0.99927825 0.99924767 0.99916744 0.9988564  0.9985758\n",
      " 0.99805033 0.9980444  0.9975005  0.9975005  0.99712926 0.99712926\n",
      " 0.9969606  0.99685466]\n",
      "[0.9999958  0.9999703  0.99992967 0.9999143  0.9999143  0.99989665\n",
      " 0.99982506 0.99982506 0.99982506 0.999746   0.999617   0.99956506\n",
      " 0.99955016 0.9992756  0.9992243  0.9992243  0.9992218  0.999153\n",
      " 0.9990314  0.9990314 ]\n",
      "[0.999622   0.9988445  0.9988445  0.9988305  0.9988305  0.99856156\n",
      " 0.9985468  0.9984541  0.9984541  0.9984415  0.9984415  0.9984415\n",
      " 0.9984415  0.99834    0.9977223  0.99765766 0.9975744  0.9975744\n",
      " 0.99756706 0.9975147 ]\n"
     ]
    },
    {
     "name": "stderr",
     "output_type": "stream",
     "text": [
      " 20% |##############                                                          |\r"
     ]
    },
    {
     "name": "stdout",
     "output_type": "stream",
     "text": [
      "[0.9999988  0.9999763  0.9999763  0.9999547  0.9999542  0.99989223\n",
      " 0.9997447  0.9982734  0.9980558  0.9980558  0.9976908  0.9976465\n",
      " 0.9976465  0.9973699  0.9970162  0.99661154 0.9965121  0.99626786\n",
      " 0.99626786 0.99605846]\n",
      "[0.99996305 0.9998822  0.9998229  0.9996574  0.9996574  0.9996487\n",
      " 0.9996487  0.9995919  0.99949586 0.99931955 0.99904174 0.99893135\n",
      " 0.9987192  0.9986035  0.9985247  0.9984333  0.997771   0.99764\n",
      " 0.9972898  0.9971444 ]\n",
      "[0.99993575 0.99993575 0.9999038  0.99982953 0.9998141  0.9998141\n",
      " 0.9998042  0.9998042  0.99976987 0.99976903 0.99976057 0.99976057\n",
      " 0.99976057 0.9996784  0.99952614 0.9993685  0.999328   0.999328\n",
      " 0.999328   0.99928916]\n",
      "[0.9999585  0.9999306  0.9999231  0.9999231  0.9998807  0.9998585\n",
      " 0.99984205 0.99980277 0.9997596  0.9996842  0.9996358  0.9996358\n",
      " 0.9996301  0.999589   0.999589   0.99958247 0.99958247 0.99958247\n",
      " 0.99953926 0.9994887 ]\n",
      "[0.9999831  0.9999651  0.9999455  0.9999367  0.9999143  0.9999143\n",
      " 0.9999143  0.99983287 0.99983287 0.99983287 0.99983287 0.999819\n",
      " 0.999819   0.9992717  0.9987929  0.9987471  0.99871516 0.998206\n",
      " 0.9980433  0.99788433]\n",
      "[0.9998795  0.9994685  0.9992884  0.99928313 0.99928313 0.99928313\n",
      " 0.99928313 0.99927527 0.9985103  0.9985103  0.99844545 0.9983747\n",
      " 0.99830174 0.9981006  0.99787915 0.9978671  0.9977069  0.99765056\n",
      " 0.9975948  0.9975545 ]\n"
     ]
    },
    {
     "name": "stderr",
     "output_type": "stream",
     "text": [
      " 21% |###############                                                         |\r"
     ]
    },
    {
     "name": "stdout",
     "output_type": "stream",
     "text": [
      "[0.9999869  0.9999745  0.9998394  0.9998091  0.9997671  0.9997671\n",
      " 0.9997441  0.999516   0.9994603  0.999302   0.9991492  0.9991235\n",
      " 0.99905735 0.999019   0.998618   0.998618   0.998618   0.998618\n",
      " 0.99842995 0.99842995]\n",
      "[0.9999238  0.9987557  0.9987557  0.99816614 0.9978886  0.9978886\n",
      " 0.9976477  0.9974477  0.9974477  0.99743634 0.99734735 0.9964903\n",
      " 0.9964903  0.9958859  0.9953093  0.9953093  0.99509084 0.99509084\n",
      " 0.99509084 0.9949083 ]\n",
      "[0.9999399  0.9999399  0.9998136  0.9997924  0.9997305  0.9997243\n",
      " 0.9997167  0.99950254 0.9994261  0.999154   0.9990256  0.9990256\n",
      " 0.9985258  0.9985258  0.9984434  0.9984434  0.9983386  0.99824023\n",
      " 0.9981833  0.9981833 ]\n",
      "[0.9999919  0.9999722  0.9998733  0.9995802  0.99949646 0.99919266\n",
      " 0.99919266 0.998531   0.9981938  0.99728835 0.99728835 0.99712104\n",
      " 0.9968629  0.9966101  0.9966101  0.9965636  0.9965636  0.9962878\n",
      " 0.9940753  0.9919016 ]\n",
      "[0.99992704 0.9998863  0.9998863  0.9998406  0.9997819  0.99947494\n",
      " 0.9991757  0.9991441  0.9990897  0.9989712  0.99891305 0.9988292\n",
      " 0.9988292  0.9985537  0.9985537  0.9984425  0.998185   0.9981269\n",
      " 0.9981269  0.9980794 ]\n",
      "[0.9999784  0.99978966 0.99968374 0.99955076 0.9994666  0.9994487\n",
      " 0.9994136  0.9994136  0.9992724  0.99923074 0.99870026 0.99870026\n",
      " 0.9986665  0.99842983 0.9982932  0.9979663  0.99789435 0.9975975\n",
      " 0.997586   0.997586  ]\n"
     ]
    },
    {
     "name": "stderr",
     "output_type": "stream",
     "text": [
      " 22% |###############                                                         |\r"
     ]
    },
    {
     "name": "stdout",
     "output_type": "stream",
     "text": [
      "[0.99999344 0.99997354 0.9999733  0.9999361  0.9999361  0.9999243\n",
      " 0.9999243  0.99985266 0.9998173  0.99978095 0.9996238  0.99959844\n",
      " 0.99958175 0.9995628  0.9995473  0.99940956 0.99923563 0.9992236\n",
      " 0.99890876 0.99862826]\n",
      "[0.9999423  0.9999423  0.99991155 0.99991155 0.99988055 0.9995433\n",
      " 0.9993887  0.99914765 0.99897975 0.99897975 0.99894124 0.9986928\n",
      " 0.9986345  0.99843377 0.99843377 0.99839467 0.99839467 0.99839467\n",
      " 0.9983903  0.9983903 ]\n",
      "[0.9998925  0.9998635  0.99986136 0.9995735  0.9995735  0.9995166\n",
      " 0.9995166  0.9994885  0.9994885  0.9992268  0.99905866 0.9989047\n",
      " 0.9989047  0.9989047  0.9988908  0.99866664 0.99846375 0.9984592\n",
      " 0.9981458  0.9981458 ]\n"
     ]
    },
    {
     "name": "stderr",
     "output_type": "stream",
     "text": [
      " 23% |################                                                        |\r"
     ]
    },
    {
     "name": "stdout",
     "output_type": "stream",
     "text": [
      "[0.9996927  0.9996927  0.9995191  0.999332   0.99926573 0.9991333\n",
      " 0.99880755 0.99880755 0.99861825 0.9983145  0.9983145  0.99776614\n",
      " 0.9976949  0.99769235 0.99747807 0.9972734  0.9972734  0.99695635\n",
      " 0.9949962  0.9949962 ]\n",
      "[0.99971396 0.99971396 0.99966276 0.99966276 0.99966276 0.99957675\n",
      " 0.99948335 0.99944884 0.99941635 0.99932253 0.99924564 0.9990759\n",
      " 0.9989949  0.99878484 0.99863297 0.9986286  0.9984162  0.99841356\n",
      " 0.9983612  0.99820054]\n",
      "[0.99995244 0.9998209  0.99975103 0.99974006 0.99861586 0.99810237\n",
      " 0.99791414 0.99791414 0.99791294 0.99752074 0.99752074 0.99748886\n",
      " 0.9973762  0.9973762  0.99695337 0.99688643 0.99628985 0.99628985\n",
      " 0.99628985 0.9962823 ]\n",
      "[0.99992585 0.99991035 0.999908   0.99981314 0.9997482  0.9997482\n",
      " 0.9997482  0.9995154  0.9995154  0.99912316 0.99912316 0.99860734\n",
      " 0.99846053 0.99831617 0.99817085 0.9981053  0.9981053  0.99802554\n",
      " 0.9976547  0.99734807]\n",
      "[0.9999299  0.999845   0.9997929  0.9997187  0.9996983  0.9996983\n",
      " 0.99945    0.9992975  0.9992213  0.9990972  0.9990972  0.99909663\n",
      " 0.99909663 0.99909663 0.99909663 0.9990107  0.99895287 0.99895287\n",
      " 0.99863225 0.9983878 ]\n",
      "[0.99997485 0.99997485 0.9999443  0.9999161  0.9997944  0.99977607\n",
      " 0.99977607 0.999635   0.9994804  0.999228   0.99854064 0.9984074\n",
      " 0.99671185 0.99671185 0.995242   0.9950518  0.9950518  0.99502194\n",
      " 0.9942141  0.9942141 ]\n"
     ]
    },
    {
     "name": "stderr",
     "output_type": "stream",
     "text": [
      " 24% |#################                                                       |\r"
     ]
    },
    {
     "name": "stdout",
     "output_type": "stream",
     "text": [
      "[0.9999963  0.9999771  0.9998745  0.9997317  0.99955696 0.9995478\n",
      " 0.9994924  0.9993048  0.9993048  0.9992142  0.99910116 0.99885905\n",
      " 0.99885905 0.9985441  0.9984018  0.99835396 0.9981584  0.9979984\n",
      " 0.9979551  0.9978854 ]\n",
      "[0.99998    0.99998    0.99997973 0.99997675 0.99975055 0.99975055\n",
      " 0.9997316  0.9996656  0.9996487  0.9995561  0.9993799  0.9993742\n",
      " 0.9993327  0.9992836  0.99911314 0.99909365 0.9989942  0.9989666\n",
      " 0.9989095  0.9989095 ]\n",
      "[0.9998591  0.99974066 0.99971753 0.99971753 0.99969614 0.99969614\n",
      " 0.999691   0.99948704 0.9994861  0.9994411  0.9994153  0.9993893\n",
      " 0.9991585  0.99914706 0.99913496 0.9988839  0.9988839  0.99877685\n",
      " 0.99877685 0.99875903]\n",
      "[0.9991437  0.9990139  0.9990139  0.99892455 0.99892247 0.99876606\n",
      " 0.99846625 0.99846625 0.9983999  0.9981579  0.99800843 0.99797934\n",
      " 0.99791294 0.9979121  0.9978998  0.99789196 0.99776053 0.99769175\n",
      " 0.99758613 0.9974611 ]\n",
      "[0.9998467  0.9998467  0.9995135  0.99945647 0.99945647 0.99891925\n",
      " 0.99891925 0.99874926 0.99874926 0.9977208  0.99731785 0.99731785\n",
      " 0.99718046 0.99718046 0.99713504 0.9970304  0.9970108  0.9970108\n",
      " 0.9970108  0.9964858 ]\n",
      "[0.99996006 0.99996006 0.9993168  0.9990877  0.99896765 0.9989489\n",
      " 0.99860615 0.9985891  0.99797577 0.99760747 0.99760747 0.99709725\n",
      " 0.9970394  0.9969651  0.995546   0.99483794 0.99483794 0.9944026\n",
      " 0.9944026  0.99395967]\n"
     ]
    },
    {
     "name": "stderr",
     "output_type": "stream",
     "text": [
      " 25% |##################                                                      |\r"
     ]
    },
    {
     "name": "stdout",
     "output_type": "stream",
     "text": [
      "[0.9998982  0.9998299  0.99981683 0.99981683 0.9997805  0.9997303\n",
      " 0.99958557 0.9995604  0.9995604  0.9991873  0.99918133 0.9991178\n",
      " 0.9988668  0.99865204 0.99864656 0.99841845 0.99841845 0.99837816\n",
      " 0.99827266 0.99820805]\n",
      "[0.99986076 0.99982375 0.99982375 0.99982375 0.99982375 0.9997558\n",
      " 0.9991703  0.9991703  0.99895704 0.99895704 0.9989335  0.9985102\n",
      " 0.9982844  0.99825865 0.99807054 0.9976611  0.99761474 0.9974049\n",
      " 0.9972741  0.99721503]\n",
      "[0.9997843  0.99976295 0.99975806 0.99952376 0.99937314 0.9993579\n",
      " 0.99926704 0.99872166 0.99872166 0.99872166 0.99860436 0.99860436\n",
      " 0.9978108  0.9978108  0.9976405  0.9971207  0.99602735 0.99602735\n",
      " 0.9958187  0.99547935]\n"
     ]
    },
    {
     "name": "stderr",
     "output_type": "stream",
     "text": [
      " 26% |##################                                                      |\r"
     ]
    },
    {
     "name": "stdout",
     "output_type": "stream",
     "text": [
      "[0.99996376 0.999853   0.999853   0.999853   0.99953794 0.99953794\n",
      " 0.9990576  0.9989225  0.9988782  0.9985612  0.9982917  0.9978416\n",
      " 0.9976954  0.997279   0.997279   0.99681735 0.99681735 0.99638164\n",
      " 0.99484056 0.9946144 ]\n",
      "[0.9999902  0.9999902  0.99998736 0.99993753 0.99990106 0.99990106\n",
      " 0.99988675 0.99988675 0.9998541  0.9998436  0.9998     0.9997272\n",
      " 0.99967515 0.99965    0.9995733  0.999527   0.9995128  0.99948823\n",
      " 0.9994844  0.9993113 ]\n",
      "[0.9999037  0.99986756 0.99970526 0.99922657 0.99901986 0.9988092\n",
      " 0.99872476 0.9984763  0.9984763  0.9982054  0.9982054  0.99810874\n",
      " 0.99810874 0.99810874 0.99810565 0.9980738  0.998058   0.9979075\n",
      " 0.99782324 0.99782324]\n",
      "[0.99978787 0.99977285 0.9997702  0.9997004  0.99963784 0.9995437\n",
      " 0.9995437  0.99942756 0.99942756 0.9993622  0.9993622  0.999199\n",
      " 0.99914384 0.99889696 0.99874663 0.99852955 0.99850637 0.99850637\n",
      " 0.99850637 0.99850637]\n",
      "[0.99985445 0.9998354  0.9997718  0.9997714  0.99975306 0.999637\n",
      " 0.999524   0.99942255 0.99884427 0.9987882  0.9986858  0.9984079\n",
      " 0.9984079  0.99839205 0.99811894 0.9981036  0.9980203  0.997965\n",
      " 0.99789256 0.9977329 ]\n",
      "[0.99998677 0.9999782  0.9999708  0.9999654  0.9999474  0.99990165\n",
      " 0.9997639  0.9997639  0.99968314 0.9996747  0.9996693  0.99953103\n",
      " 0.99953103 0.9994697  0.9994697  0.9994295  0.99923694 0.99923694\n",
      " 0.9991092  0.9990833 ]\n"
     ]
    },
    {
     "name": "stderr",
     "output_type": "stream",
     "text": [
      " 27% |###################                                                     |\r"
     ]
    },
    {
     "name": "stdout",
     "output_type": "stream",
     "text": [
      "[0.99989974 0.9997751  0.999754   0.99957246 0.9994894  0.9994493\n",
      " 0.99939215 0.99939215 0.9991272  0.99895525 0.9987263  0.9982169\n",
      " 0.99794    0.99794    0.99781585 0.9977423  0.9975293  0.99745446\n",
      " 0.9973816  0.9973816 ]\n",
      "[0.9998839  0.99977595 0.99977595 0.99975973 0.9996232  0.9996145\n",
      " 0.99950445 0.9993001  0.9993001  0.999238   0.999238   0.999238\n",
      " 0.9984927  0.99794906 0.99794036 0.9976326  0.9974878  0.9974878\n",
      " 0.9973732  0.99709594]\n",
      "[0.99991727 0.99991727 0.9998945  0.99974114 0.999554   0.99888545\n",
      " 0.9984029  0.99672914 0.99666387 0.99570614 0.9947694  0.99429756\n",
      " 0.9940029  0.99243927 0.99222296 0.9915748  0.9915748  0.9914903\n",
      " 0.99116397 0.9889981 ]\n",
      "[0.9999907  0.99987304 0.9996834  0.9993327  0.9990251  0.9985629\n",
      " 0.9985537  0.99853706 0.9982943  0.9982943  0.99826896 0.99823844\n",
      " 0.99823844 0.9979995  0.9974976  0.99744153 0.9974299  0.9973755\n",
      " 0.9973537  0.9972511 ]\n",
      "[0.9998939  0.99984694 0.99984694 0.99984694 0.99977726 0.99923706\n",
      " 0.99888676 0.99867165 0.99832267 0.9981401  0.9977424  0.99750346\n",
      " 0.99750346 0.9975032  0.997449   0.9974255  0.9970482  0.9970312\n",
      " 0.9970079  0.9969235 ]\n",
      "[0.9999914  0.9999914  0.9999794  0.99995136 0.99995136 0.9997764\n",
      " 0.9996233  0.9996076  0.9992455  0.9992455  0.99909854 0.99909174\n",
      " 0.99909174 0.99897623 0.99896276 0.9989236  0.9987658  0.9985531\n",
      " 0.99846244 0.99777645]\n"
     ]
    },
    {
     "name": "stderr",
     "output_type": "stream",
     "text": [
      " 28% |####################                                                    |\r"
     ]
    },
    {
     "name": "stdout",
     "output_type": "stream",
     "text": [
      "[0.9999616  0.99983704 0.99980336 0.9997559  0.9997372  0.9997372\n",
      " 0.9997372  0.999729   0.999729   0.9996947  0.99962723 0.9994937\n",
      " 0.99923885 0.9992212  0.9992212  0.9992022  0.9992016  0.9992016\n",
      " 0.9991673  0.9991026 ]\n",
      "[0.99998844 0.99998343 0.99996567 0.9999403  0.9998908  0.9997509\n",
      " 0.9997509  0.9995852  0.9994697  0.9994697  0.9994211  0.99920744\n",
      " 0.99920744 0.99898785 0.998803   0.998803   0.99876827 0.99876827\n",
      " 0.99875414 0.9984969 ]\n",
      "[0.9994598  0.9994598  0.9992317  0.99922454 0.99903464 0.99862015\n",
      " 0.99797446 0.9976544  0.9976544  0.9975563  0.9974179  0.9972318\n",
      " 0.99713683 0.9965281  0.9963605  0.9963348  0.9956291  0.9956291\n",
      " 0.99556917 0.99556917]\n"
     ]
    },
    {
     "name": "stderr",
     "output_type": "stream",
     "text": [
      " 29% |####################                                                    |\r"
     ]
    },
    {
     "name": "stdout",
     "output_type": "stream",
     "text": [
      "[0.99999785 0.99999785 0.9999924  0.99996257 0.99995863 0.99994886\n",
      " 0.99994886 0.99994636 0.99991405 0.9999088  0.9999083  0.999895\n",
      " 0.99989414 0.9998779  0.9995561  0.99953747 0.9995338  0.9993555\n",
      " 0.99929357 0.9992581 ]\n",
      "[0.99998116 0.99996805 0.9999294  0.9997004  0.99966276 0.9995809\n",
      " 0.9995809  0.999546   0.99953914 0.9994141  0.99940526 0.99940336\n",
      " 0.9993844  0.9993098  0.9992975  0.9992975  0.9990344  0.9989767\n",
      " 0.99883825 0.998621  ]\n",
      "[0.99999964 0.999998   0.99999774 0.99998903 0.99998355 0.9999746\n",
      " 0.9999682  0.9999682  0.9999571  0.9999571  0.9999441  0.99993145\n",
      " 0.99991584 0.9999138  0.9998654  0.99985504 0.99985313 0.9998227\n",
      " 0.99977416 0.9996817 ]\n",
      "[0.99993145 0.99993145 0.9998307  0.99971324 0.99965847 0.9991462\n",
      " 0.9991025  0.9976427  0.9976427  0.9975441  0.99738723 0.9944165\n",
      " 0.9942913  0.9942913  0.9931039  0.9922565  0.9919818  0.991647\n",
      " 0.989151   0.9887215 ]\n",
      "[0.99979204 0.99979204 0.99979204 0.99979204 0.9997142  0.9997142\n",
      " 0.99963784 0.9996201  0.9995977  0.9989041  0.9987999  0.9986076\n",
      " 0.99856156 0.99846613 0.99846613 0.9982053  0.9982053  0.99815446\n",
      " 0.99815446 0.99815446]\n",
      "[0.9998036  0.99974066 0.99961793 0.99957174 0.9995308  0.99949694\n",
      " 0.9994122  0.9994122  0.99924964 0.9992448  0.99923015 0.99923015\n",
      " 0.99916124 0.99887496 0.99884427 0.9987722  0.9987722  0.9987722\n",
      " 0.99855095 0.99847084]\n"
     ]
    },
    {
     "name": "stderr",
     "output_type": "stream",
     "text": [
      " 30% |#####################                                                   |\r"
     ]
    },
    {
     "name": "stdout",
     "output_type": "stream",
     "text": [
      "[0.9998597  0.9998597  0.9998357  0.9995665  0.9995665  0.999488\n",
      " 0.99913114 0.9988714  0.99856704 0.99852175 0.99852175 0.99745446\n",
      " 0.9969976  0.9962178  0.99601907 0.99503654 0.9950289  0.9928311\n",
      " 0.99017066 0.98856235]\n",
      "[0.9999912  0.9999864  0.9999682  0.9999461  0.99988425 0.99988425\n",
      " 0.9998124  0.9996111  0.9996111  0.99960035 0.9995943  0.99943143\n",
      " 0.999132   0.99863344 0.99847156 0.9979406  0.9979406  0.9978485\n",
      " 0.99775785 0.9977496 ]\n",
      "[0.99996686 0.999851   0.999811   0.99948114 0.9994442  0.9994442\n",
      " 0.99925774 0.9990357  0.9990357  0.99895775 0.9986129  0.998587\n",
      " 0.9985238  0.9985238  0.9983119  0.9980471  0.9980457  0.99798274\n",
      " 0.99796116 0.99796116]\n",
      "[0.9992028  0.9988656  0.99852175 0.9983777  0.9983777  0.9983777\n",
      " 0.9981744  0.9981674  0.998126   0.998126   0.9970283  0.996194\n",
      " 0.99582773 0.9942516  0.9935383  0.9935383  0.9928389  0.9928389\n",
      " 0.99233997 0.99210864]\n",
      "[0.9997094  0.9989423  0.99855477 0.9979474  0.997163   0.997163\n",
      " 0.997163   0.9969645  0.9968352  0.9967384  0.996696   0.996696\n",
      " 0.9966203  0.9965442  0.9965442  0.9965442  0.99638295 0.99638295\n",
      " 0.9959604  0.9959604 ]\n",
      "[0.9999893  0.9999851  0.9999851  0.9999845  0.9999845  0.9998778\n",
      " 0.9998105  0.9997061  0.99960774 0.9995515  0.9994741  0.99946195\n",
      " 0.9992956  0.9989794  0.9988121  0.9987739  0.99875855 0.99875855\n",
      " 0.99875855 0.99786633]\n"
     ]
    },
    {
     "name": "stderr",
     "output_type": "stream",
     "text": [
      " 31% |######################                                                  |\r"
     ]
    },
    {
     "name": "stdout",
     "output_type": "stream",
     "text": [
      "[0.99980086 0.99964833 0.99953866 0.99953866 0.9991291  0.9991109\n",
      " 0.9991109  0.9991109  0.9991109  0.99898106 0.99892247 0.99883\n",
      " 0.99875295 0.9983152  0.99813145 0.9980388  0.99791735 0.99791735\n",
      " 0.9972887  0.99713033]\n",
      "[0.9998301  0.9997795  0.99977285 0.9996263  0.9996263  0.9996263\n",
      " 0.9994904  0.9994466  0.9992606  0.99925464 0.99925464 0.99915814\n",
      " 0.9991314  0.9989976  0.9987294  0.9986779  0.9983354  0.9982526\n",
      " 0.9982526  0.9981487 ]\n",
      "[0.9999565  0.99979264 0.9997491  0.9997491  0.9996445  0.9996445\n",
      " 0.9996414  0.99930406 0.9992889  0.99926084 0.9990361  0.9990338\n",
      " 0.99898    0.99877554 0.9982614  0.9982614  0.9981517  0.99813974\n",
      " 0.99798787 0.99797136]\n"
     ]
    },
    {
     "name": "stderr",
     "output_type": "stream",
     "text": [
      " 32% |#######################                                                 |\r"
     ]
    },
    {
     "name": "stdout",
     "output_type": "stream",
     "text": [
      "[0.9994443  0.99902725 0.99902725 0.9988888  0.99861217 0.99861217\n",
      " 0.9985092  0.99797744 0.99797744 0.9978713  0.9974916  0.9972037\n",
      " 0.9957579  0.9957008  0.9955226  0.9951526  0.99463993 0.99428433\n",
      " 0.99428433 0.99428433]\n",
      "[0.9996449  0.99876046 0.99865973 0.99865973 0.9981943  0.9977324\n",
      " 0.9977324  0.9976265  0.9973911  0.9973911  0.997198   0.9968731\n",
      " 0.9968485  0.9968362  0.9968362  0.99682105 0.99679726 0.99679726\n",
      " 0.996684   0.996684  ]\n",
      "[0.99999475 0.99999475 0.9999877  0.999889   0.999889   0.9998821\n",
      " 0.9998578  0.9998578  0.9998578  0.9995096  0.9995096  0.99946564\n",
      " 0.9994543  0.9993772  0.9991646  0.9991646  0.99914026 0.9991357\n",
      " 0.9991357  0.9991357 ]\n",
      "[0.99996495 0.9999417  0.9999386  0.9994413  0.9994413  0.9994413\n",
      " 0.99931705 0.99931705 0.99929595 0.99929595 0.99929595 0.99929595\n",
      " 0.9992106  0.9991097  0.9991097  0.9991097  0.9990637  0.9989826\n",
      " 0.9989826  0.998801  ]\n",
      "[0.9991605  0.9985336  0.99792683 0.9976921  0.99719644 0.9971597\n",
      " 0.9965616  0.99651164 0.99651164 0.99651164 0.9961641  0.9959428\n",
      " 0.9958431  0.9958404  0.9956943  0.995501   0.9953857  0.9953857\n",
      " 0.9952851  0.99470043]\n",
      "[0.9999199  0.99989915 0.99988556 0.99984944 0.999491   0.99944884\n",
      " 0.9993444  0.9993444  0.99932814 0.99922943 0.9991246  0.99907804\n",
      " 0.9990527  0.9990527  0.9990282  0.99901223 0.998611   0.9984982\n",
      " 0.99796593 0.9978811 ]\n"
     ]
    },
    {
     "name": "stderr",
     "output_type": "stream",
     "text": [
      " 33% |#######################                                                 |\r"
     ]
    },
    {
     "name": "stdout",
     "output_type": "stream",
     "text": [
      "[0.99997556 0.99997234 0.9999361  0.9997366  0.9997366  0.99948263\n",
      " 0.99948263 0.99948263 0.9988117  0.9980672  0.9979526  0.9978021\n",
      " 0.9978021  0.99769247 0.99769247 0.99759644 0.99753606 0.99734074\n",
      " 0.99729    0.99687946]\n",
      "[0.99990976 0.99990976 0.9998851  0.9998017  0.9996481  0.9994941\n",
      " 0.9994184  0.9993765  0.9993394  0.9993394  0.9993011  0.9988675\n",
      " 0.9988675  0.9987218  0.998185   0.9981078  0.9981078  0.9981078\n",
      " 0.99782616 0.99775463]\n",
      "[0.9999393  0.99946874 0.99946874 0.99938416 0.99821943 0.99809295\n",
      " 0.99809295 0.99803597 0.9979194  0.99789494 0.9978477  0.99782735\n",
      " 0.99782735 0.99782735 0.99779594 0.99779594 0.9977641  0.9977641\n",
      " 0.99768496 0.99762505]\n",
      "[0.9999416  0.99983215 0.99958175 0.99949443 0.9993886  0.99920887\n",
      " 0.9991628  0.9989642  0.9988456  0.9987569  0.9987373  0.99872583\n",
      " 0.9986457  0.99860865 0.99844736 0.99843866 0.998257   0.998257\n",
      " 0.9980895  0.99801624]\n",
      "[0.99998975 0.99998975 0.9999784  0.9999784  0.9999454  0.99993086\n",
      " 0.9999013  0.999884   0.9997799  0.9997799  0.99970883 0.99970883\n",
      " 0.9997062  0.99956053 0.99950814 0.99950814 0.99950814 0.9994443\n",
      " 0.9994355  0.9994355 ]\n",
      "[0.99993885 0.9998927  0.9998797  0.9998797  0.9998797  0.9998796\n",
      " 0.9998659  0.9997136  0.9995598  0.9995598  0.99941695 0.9994147\n",
      " 0.99939775 0.99939775 0.9992669  0.9991111  0.9991111  0.9991111\n",
      " 0.9990018  0.9990018 ]\n"
     ]
    },
    {
     "name": "stderr",
     "output_type": "stream",
     "text": [
      " 34% |########################                                                |\r"
     ]
    },
    {
     "name": "stdout",
     "output_type": "stream",
     "text": [
      "[0.9999182  0.9998264  0.9997396  0.99971086 0.9994816  0.99934846\n",
      " 0.99922156 0.99909675 0.99909675 0.99874604 0.99874604 0.9986249\n",
      " 0.9983708  0.9983708  0.99821967 0.99821967 0.99803203 0.99803203\n",
      " 0.99787295 0.99787295]\n",
      "[0.9999589  0.999928   0.999928   0.99988544 0.999785   0.999785\n",
      " 0.9997619  0.99971515 0.99962604 0.99962604 0.99951196 0.9995022\n",
      " 0.99916375 0.99911314 0.99911314 0.9991105  0.9990989  0.9990989\n",
      " 0.99901307 0.99901307]\n",
      "[0.9993911  0.99934536 0.99919766 0.99919766 0.9991806  0.9986625\n",
      " 0.99843055 0.99805343 0.9980433  0.9980051  0.9978508  0.9976876\n",
      " 0.9973787  0.9972875  0.9972875  0.99633884 0.9962597  0.99604297\n",
      " 0.99585694 0.9958156 ]\n"
     ]
    },
    {
     "name": "stderr",
     "output_type": "stream",
     "text": [
      " 35% |#########################                                               |\r"
     ]
    },
    {
     "name": "stdout",
     "output_type": "stream",
     "text": [
      "[0.99997056 0.99994373 0.99992025 0.99986076 0.9998418  0.9998147\n",
      " 0.99977654 0.99977165 0.99977165 0.99967706 0.9996588  0.9996588\n",
      " 0.999627   0.99953747 0.99948657 0.9994584  0.99945253 0.99935013\n",
      " 0.99935013 0.99930036]\n",
      "[0.9999255  0.99989843 0.9996842  0.9996842  0.99959844 0.99959844\n",
      " 0.99957496 0.99955255 0.9994815  0.9994815  0.9994815  0.99920374\n",
      " 0.99920374 0.9990871  0.9989827  0.9989827  0.9988839  0.9988374\n",
      " 0.9987955  0.9984754 ]\n",
      "[0.9996705  0.99957746 0.9994475  0.99912316 0.99907947 0.99907947\n",
      " 0.99900347 0.99861276 0.9982936  0.9975573  0.997207   0.99693596\n",
      " 0.9967951  0.9967951  0.9966732  0.9966732  0.996648   0.9965778\n",
      " 0.9965778  0.9951083 ]\n",
      "[0.999009   0.9986173  0.9985128  0.99824333 0.9978491  0.99640685\n",
      " 0.9961564  0.9961564  0.99613094 0.99613094 0.9953244  0.9946371\n",
      " 0.9931902  0.9930688  0.9930688  0.9930688  0.9923557  0.99217975\n",
      " 0.99069524 0.99050623]\n",
      "[0.9998105  0.999335   0.999335   0.999335   0.999303   0.9992655\n",
      " 0.9992016  0.9992016  0.9991285  0.9989126  0.9989126  0.9987035\n",
      " 0.9987035  0.9987035  0.99711204 0.996734   0.99648416 0.99628\n",
      " 0.99626726 0.99577004]\n",
      "[0.99992657 0.9999248  0.9999052  0.9997172  0.9997172  0.9996915\n",
      " 0.99965334 0.9996364  0.9995548  0.99950635 0.9994     0.99933785\n",
      " 0.9993255  0.99921656 0.99918765 0.99918586 0.99901104 0.9985607\n",
      " 0.99852544 0.9984768 ]\n"
     ]
    },
    {
     "name": "stderr",
     "output_type": "stream",
     "text": [
      " 36% |#########################                                               |\r"
     ]
    },
    {
     "name": "stdout",
     "output_type": "stream",
     "text": [
      "[0.99967    0.99962664 0.99936014 0.99928135 0.99926955 0.99878675\n",
      " 0.9987355  0.9987355  0.9987355  0.9987355  0.9987355  0.9987355\n",
      " 0.9987355  0.9987355  0.9987355  0.9987355  0.9987355  0.9987355\n",
      " 0.9987355  0.9987355 ]\n",
      "[0.9998702  0.99967    0.99966455 0.99966455 0.99962175 0.99928135\n",
      " 0.99907804 0.9987355  0.9987355  0.9987355  0.9987355  0.9987355\n",
      " 0.9987355  0.9987355  0.9987355  0.9987355  0.9987355  0.9987355\n",
      " 0.9987355  0.9987355 ]\n",
      "[0.9998702  0.99967    0.99967    0.99955684 0.99936014 0.99928135\n",
      " 0.99924266 0.99907804 0.9988337  0.9987741  0.9987692  0.9987692\n",
      " 0.9987355  0.9987355  0.9987355  0.9987355  0.9987355  0.9987355\n",
      " 0.9987355  0.9987355 ]\n",
      "[0.99967    0.99962175 0.99955684 0.99924266 0.99924266 0.99907804\n",
      " 0.9987355  0.9987355  0.9987355  0.9987355  0.9987355  0.9987355\n",
      " 0.9987355  0.9987355  0.9987355  0.9987355  0.9987355  0.9987355\n",
      " 0.9987355  0.9987355 ]\n",
      "[0.99962175 0.99955684 0.99926955 0.99926955 0.99926955 0.99907804\n",
      " 0.99878675 0.9987741  0.9987692  0.9987355  0.9987355  0.9987355\n",
      " 0.9987355  0.9987355  0.9987355  0.9987355  0.9987355  0.9987355\n",
      " 0.9987355  0.9987355 ]\n",
      "[0.99966455 0.99962664 0.99928135 0.99924266 0.99907804 0.99907804\n",
      " 0.99907804 0.99878675 0.9987741  0.9987355  0.9987355  0.9987355\n",
      " 0.9987355  0.9987355  0.9987355  0.9987355  0.9987355  0.9987355\n",
      " 0.9987355  0.9987355 ]\n"
     ]
    },
    {
     "name": "stderr",
     "output_type": "stream",
     "text": [
      " 37% |##########################                                              |\r"
     ]
    },
    {
     "name": "stdout",
     "output_type": "stream",
     "text": [
      "[0.9998702  0.99967    0.99924266 0.99907804 0.9987355  0.9987355\n",
      " 0.9987355  0.9987355  0.9987355  0.9987355  0.9987355  0.9987355\n",
      " 0.9987355  0.9987355  0.9987355  0.9987355  0.9987355  0.9987355\n",
      " 0.9987355  0.9987355 ]\n",
      "[0.9998702  0.9998702  0.99967    0.99966455 0.99962175 0.99962175\n",
      " 0.99955684 0.99928135 0.99926955 0.99924266 0.99878675 0.9987692\n",
      " 0.9987355  0.9987355  0.9987355  0.9987355  0.9987355  0.9987355\n",
      " 0.9987355  0.9987355 ]\n",
      "[0.99967    0.99967    0.99962664 0.99962664 0.99962175 0.99955684\n",
      " 0.99955684 0.99955684 0.99928135 0.99878675 0.9987355  0.9987355\n",
      " 0.9987355  0.9987355  0.9987355  0.9987355  0.9987355  0.9987355\n",
      " 0.9987355  0.9987355 ]\n"
     ]
    },
    {
     "name": "stderr",
     "output_type": "stream",
     "text": [
      " 38% |###########################                                             |\r"
     ]
    },
    {
     "name": "stdout",
     "output_type": "stream",
     "text": [
      "[0.99967    0.99967    0.99962664 0.99928135 0.99907804 0.9988337\n",
      " 0.99878675 0.9987741  0.9987355  0.9987355  0.9987355  0.9987355\n",
      " 0.9987355  0.9987355  0.9987355  0.9987355  0.9987355  0.9987355\n",
      " 0.9987355  0.9987355 ]\n",
      "[0.99967    0.99967    0.99966455 0.99928135 0.99924266 0.9987355\n",
      " 0.9987355  0.9987355  0.9987355  0.9987355  0.9987355  0.9987355\n",
      " 0.9987355  0.9987355  0.9987355  0.9987355  0.9987355  0.9987355\n",
      " 0.9987355  0.9987355 ]\n",
      "[0.99962664 0.99962175 0.99936014 0.99928135 0.99926955 0.99907804\n",
      " 0.99907804 0.99878675 0.9987355  0.9987355  0.9987355  0.9987355\n",
      " 0.9987355  0.9987355  0.9987355  0.9987355  0.9987355  0.9987355\n",
      " 0.9987355  0.9987355 ]\n",
      "[0.99967    0.99966455 0.99962175 0.99962175 0.99926955 0.99907804\n",
      " 0.9988337  0.99878675 0.9987355  0.9987355  0.9987355  0.9987355\n",
      " 0.9987355  0.9987355  0.9987355  0.9987355  0.9987355  0.9987355\n",
      " 0.9987355  0.9987355 ]\n",
      "[0.9998702  0.99967    0.99967    0.99966455 0.99962175 0.99955684\n",
      " 0.99936014 0.99878675 0.9987355  0.9987355  0.9987355  0.9987355\n",
      " 0.9987355  0.9987355  0.9987355  0.9987355  0.9987355  0.9987355\n",
      " 0.9987355  0.9987355 ]\n",
      "[0.9998702  0.99966455 0.99962664 0.99962175 0.99926955 0.99924266\n",
      " 0.99907804 0.9987741  0.9987692  0.9987355  0.9987355  0.9987355\n",
      " 0.9987355  0.9987355  0.9987355  0.9987355  0.9987355  0.9987355\n",
      " 0.9987355  0.9987355 ]\n"
     ]
    },
    {
     "name": "stderr",
     "output_type": "stream",
     "text": [
      " 39% |############################                                            |\r"
     ]
    },
    {
     "name": "stdout",
     "output_type": "stream",
     "text": [
      "[0.99962175 0.99955684 0.99955684 0.99936014 0.99928135 0.99907804\n",
      " 0.9988337  0.99878675 0.99878675 0.9987355  0.9987355  0.9987355\n",
      " 0.9987355  0.9987355  0.9987355  0.9987355  0.9987355  0.9987355\n",
      " 0.9987355  0.9987355 ]\n",
      "[0.99962175 0.99962175 0.99936014 0.99928135 0.99928135 0.99928135\n",
      " 0.99924266 0.9988337  0.99878675 0.9987692  0.9987692  0.9987355\n",
      " 0.9987355  0.9987355  0.9987355  0.9987355  0.9987355  0.9987355\n",
      " 0.9987355  0.9987355 ]\n",
      "[0.99966455 0.99962664 0.99955684 0.99936014 0.99926955 0.9987741\n",
      " 0.9987355  0.9987355  0.9987355  0.9987355  0.9987355  0.9987355\n",
      " 0.9987355  0.9987355  0.9987355  0.9987355  0.9987355  0.9987355\n",
      " 0.9987355  0.9987355 ]\n",
      "[0.9998702  0.99967    0.99967    0.99967    0.99928135 0.99924266\n",
      " 0.99907804 0.9988337  0.99878675 0.9987355  0.9987355  0.9987355\n",
      " 0.9987355  0.9987355  0.9987355  0.9987355  0.9987355  0.9987355\n",
      " 0.9987355  0.9987355 ]\n",
      "[0.99962664 0.99926955 0.99926955 0.99926955 0.9988337  0.9988337\n",
      " 0.9987741  0.9987355  0.9987355  0.9987355  0.9987355  0.9987355\n",
      " 0.9987355  0.9987355  0.9987355  0.9987355  0.9987355  0.9987355\n",
      " 0.9987355  0.9987355 ]\n",
      "[0.9998702  0.9998702  0.99967    0.99955684 0.9987741  0.9987692\n",
      " 0.9987355  0.9987355  0.9987355  0.9987355  0.9987355  0.9987355\n",
      " 0.9987355  0.9987355  0.9987355  0.9987355  0.9987355  0.9987355\n",
      " 0.9987355  0.9987355 ]\n"
     ]
    },
    {
     "name": "stderr",
     "output_type": "stream",
     "text": [
      " 40% |############################                                            |\r"
     ]
    },
    {
     "name": "stdout",
     "output_type": "stream",
     "text": [
      "[0.9998702  0.99962175 0.9988337  0.9987741  0.9987692  0.9987355\n",
      " 0.9987355  0.9987355  0.9987355  0.9987355  0.9987355  0.9987355\n",
      " 0.9987355  0.9987355  0.9987355  0.9987355  0.9987355  0.9987355\n",
      " 0.9987355  0.9987355 ]\n",
      "[0.9998702  0.9998702  0.99936014 0.99936014 0.99926955 0.99924266\n",
      " 0.99924266 0.99907804 0.99907804 0.9988337  0.9988337  0.9988337\n",
      " 0.9987355  0.9987355  0.9987355  0.9987355  0.9987355  0.9987355\n",
      " 0.9987355  0.9987355 ]\n",
      "[0.99962664 0.99962175 0.99955684 0.99907804 0.9988337  0.9987741\n",
      " 0.9987355  0.9987355  0.9987355  0.9987355  0.9987355  0.9987355\n",
      " 0.9987355  0.9987355  0.9987355  0.9987355  0.9987355  0.9987355\n",
      " 0.9987355  0.9987355 ]\n"
     ]
    },
    {
     "name": "stderr",
     "output_type": "stream",
     "text": [
      " 41% |#############################                                           |\r"
     ]
    },
    {
     "name": "stdout",
     "output_type": "stream",
     "text": [
      "[0.99967    0.99962664 0.99962664 0.99936014 0.99926955 0.99924266\n",
      " 0.99924266 0.9988337  0.99878675 0.99878675 0.9987741  0.9987692\n",
      " 0.9987692  0.9987355  0.9987355  0.9987355  0.9987355  0.9987355\n",
      " 0.9987355  0.9987355 ]\n",
      "[0.99966455 0.99926955 0.9988337  0.9987355  0.9987355  0.9987355\n",
      " 0.9987355  0.9987355  0.9987355  0.9987355  0.9987355  0.9987355\n",
      " 0.9987355  0.9987355  0.9987355  0.9987355  0.9987355  0.9987355\n",
      " 0.9987355  0.9987355 ]\n",
      "[0.9998702  0.99962664 0.99962175 0.99962175 0.99936014 0.99936014\n",
      " 0.99926955 0.99907804 0.9987741  0.9987741  0.9987355  0.9987355\n",
      " 0.9987355  0.9987355  0.9987355  0.9987355  0.9987355  0.9987355\n",
      " 0.9987355  0.9987355 ]\n",
      "[0.9998702  0.9998702  0.99967    0.99967    0.99966455 0.99962664\n",
      " 0.99955684 0.99928135 0.99928135 0.99924266 0.99878675 0.9987741\n",
      " 0.9987692  0.9987692  0.9987355  0.9987355  0.9987355  0.9987355\n",
      " 0.9987355  0.9987355 ]\n",
      "[0.9998702  0.99955684 0.99936014 0.99928135 0.99928135 0.99928135\n",
      " 0.99907804 0.9987355  0.9987355  0.9987355  0.9987355  0.9987355\n",
      " 0.9987355  0.9987355  0.9987355  0.9987355  0.9987355  0.9987355\n",
      " 0.9987355  0.9987355 ]\n",
      "[0.99962175 0.99924266 0.99878675 0.9987692  0.9987692  0.9987355\n",
      " 0.9987355  0.9987355  0.9987355  0.9987355  0.9987355  0.9987355\n",
      " 0.9987355  0.9987355  0.9987355  0.9987355  0.9987355  0.9987355\n",
      " 0.9987355  0.9987355 ]\n"
     ]
    },
    {
     "name": "stderr",
     "output_type": "stream",
     "text": [
      " 42% |##############################                                          |\r"
     ]
    },
    {
     "name": "stdout",
     "output_type": "stream",
     "text": [
      "[0.99966455 0.99966455 0.99962664 0.99928135 0.99924266 0.99907804\n",
      " 0.9988337  0.9987741  0.9987741  0.9987355  0.9987355  0.9987355\n",
      " 0.9987355  0.9987355  0.9987355  0.9987355  0.9987355  0.9987355\n",
      " 0.9987355  0.9987355 ]\n",
      "[0.99967    0.99962664 0.99962175 0.99955684 0.99928135 0.99928135\n",
      " 0.99926955 0.99878675 0.9987741  0.9987355  0.9987355  0.9987355\n",
      " 0.9987355  0.9987355  0.9987355  0.9987355  0.9987355  0.9987355\n",
      " 0.9987355  0.9987355 ]\n",
      "[0.9998702  0.99962175 0.99955684 0.99907804 0.9987355  0.9987355\n",
      " 0.9987355  0.9987355  0.9987355  0.9987355  0.9987355  0.9987355\n",
      " 0.9987355  0.9987355  0.9987355  0.9987355  0.9987355  0.9987355\n",
      " 0.9987355  0.9987355 ]\n",
      "[0.99967    0.99967    0.99966455 0.99962175 0.99955684 0.99955684\n",
      " 0.99936014 0.99924266 0.99924266 0.99907804 0.9988337  0.99878675\n",
      " 0.9987692  0.9987355  0.9987355  0.9987355  0.9987355  0.9987355\n",
      " 0.9987355  0.9987355 ]\n",
      "[0.9998702  0.99962175 0.99926955 0.99907804 0.99878675 0.9987741\n",
      " 0.9987741  0.9987741  0.9987692  0.9987355  0.9987355  0.9987355\n",
      " 0.9987355  0.9987355  0.9987355  0.9987355  0.9987355  0.9987355\n",
      " 0.9987355  0.9987355 ]\n",
      "[0.99967    0.99966455 0.99928135 0.99928135 0.99926955 0.99907804\n",
      " 0.99907804 0.9987741  0.9987741  0.9987355  0.9987355  0.9987355\n",
      " 0.9987355  0.9987355  0.9987355  0.9987355  0.9987355  0.9987355\n",
      " 0.9987355  0.9987355 ]\n"
     ]
    },
    {
     "name": "stderr",
     "output_type": "stream",
     "text": [
      " 43% |##############################                                          |\r"
     ]
    },
    {
     "name": "stdout",
     "output_type": "stream",
     "text": [
      "[0.9998702  0.99967    0.99966455 0.99962664 0.99962175 0.99928135\n",
      " 0.99928135 0.99924266 0.99907804 0.9987355  0.9987355  0.9987355\n",
      " 0.9987355  0.9987355  0.9987355  0.9987355  0.9987355  0.9987355\n",
      " 0.9987355  0.9987355 ]\n",
      "[0.9998702  0.99967    0.99955684 0.99955684 0.99936014 0.99907804\n",
      " 0.9987741  0.9987692  0.9987355  0.9987355  0.9987355  0.9987355\n",
      " 0.9987355  0.9987355  0.9987355  0.9987355  0.9987355  0.9987355\n",
      " 0.9987355  0.9987355 ]\n",
      "[0.99966455 0.99926955 0.99924266 0.99907804 0.9987355  0.9987355\n",
      " 0.9987355  0.9987355  0.9987355  0.9987355  0.9987355  0.9987355\n",
      " 0.9987355  0.9987355  0.9987355  0.9987355  0.9987355  0.9987355\n",
      " 0.9987355  0.9987355 ]\n"
     ]
    },
    {
     "name": "stderr",
     "output_type": "stream",
     "text": [
      " 44% |###############################                                         |\r"
     ]
    },
    {
     "name": "stdout",
     "output_type": "stream",
     "text": [
      "[0.9998702  0.99967    0.99962175 0.99926955 0.99878675 0.9987355\n",
      " 0.9987355  0.9987355  0.9987355  0.9987355  0.9987355  0.9987355\n",
      " 0.9987355  0.9987355  0.9987355  0.9987355  0.9987355  0.9987355\n",
      " 0.9987355  0.9987355 ]\n",
      "[0.99967    0.99966455 0.99928135 0.99926955 0.99926955 0.99907804\n",
      " 0.99907804 0.9988337  0.99878675 0.99878675 0.9987741  0.9987355\n",
      " 0.9987355  0.9987355  0.9987355  0.9987355  0.9987355  0.9987355\n",
      " 0.9987355  0.9987355 ]\n",
      "[0.99966455 0.99907804 0.99878675 0.99878675 0.9987355  0.9987355\n",
      " 0.9987355  0.9987355  0.9987355  0.9987355  0.9987355  0.9987355\n",
      " 0.9987355  0.9987355  0.9987355  0.9987355  0.9987355  0.9987355\n",
      " 0.9987355  0.9987355 ]\n",
      "[0.9998702  0.99967    0.99962175 0.99962175 0.99936014 0.99907804\n",
      " 0.99907804 0.99878675 0.9987741  0.9987355  0.9987355  0.9987355\n",
      " 0.9987355  0.9987355  0.9987355  0.9987355  0.9987355  0.9987355\n",
      " 0.9987355  0.9987355 ]\n",
      "[0.9998702  0.9998702  0.99967    0.99967    0.99966455 0.99962175\n",
      " 0.99962175 0.99955684 0.99936014 0.99928135 0.9988337  0.9987355\n",
      " 0.9987355  0.9987355  0.9987355  0.9987355  0.9987355  0.9987355\n",
      " 0.9987355  0.9987355 ]\n",
      "[0.99962664 0.99924266 0.99907804 0.9988337  0.99878675 0.9987741\n",
      " 0.9987355  0.9987355  0.9987355  0.9987355  0.9987355  0.9987355\n",
      " 0.9987355  0.9987355  0.9987355  0.9987355  0.9987355  0.9987355\n",
      " 0.9987355  0.9987355 ]\n"
     ]
    },
    {
     "name": "stderr",
     "output_type": "stream",
     "text": [
      " 45% |################################                                        |\r"
     ]
    },
    {
     "name": "stdout",
     "output_type": "stream",
     "text": [
      "[0.99967    0.99966455 0.99966455 0.99966455 0.99924266 0.9988337\n",
      " 0.99878675 0.99878675 0.9987355  0.9987355  0.9987355  0.9987355\n",
      " 0.9987355  0.9987355  0.9987355  0.9987355  0.9987355  0.9987355\n",
      " 0.9987355  0.9987355 ]\n",
      "[0.99966455 0.99962175 0.99924266 0.99907804 0.99907804 0.9988337\n",
      " 0.99878675 0.9987355  0.9987355  0.9987355  0.9987355  0.9987355\n",
      " 0.9987355  0.9987355  0.9987355  0.9987355  0.9987355  0.9987355\n",
      " 0.9987355  0.9987355 ]\n",
      "[0.99967    0.99967    0.99967    0.99966455 0.99924266 0.99878675\n",
      " 0.99878675 0.9987692  0.9987355  0.9987355  0.9987355  0.9987355\n",
      " 0.9987355  0.9987355  0.9987355  0.9987355  0.9987355  0.9987355\n",
      " 0.9987355  0.9987355 ]\n",
      "[0.9998702  0.99967    0.99926955 0.99924266 0.99924266 0.99878675\n",
      " 0.99878675 0.9987741  0.9987692  0.9987355  0.9987355  0.9987355\n",
      " 0.9987355  0.9987355  0.9987355  0.9987355  0.9987355  0.9987355\n",
      " 0.9987355  0.9987355 ]\n",
      "[0.99967    0.99962664 0.99962175 0.99955684 0.99936014 0.99936014\n",
      " 0.99926955 0.99926955 0.9987355  0.9987355  0.9987355  0.9987355\n",
      " 0.9987355  0.9987355  0.9987355  0.9987355  0.9987355  0.9987355\n",
      " 0.9987355  0.9987355 ]\n",
      "[0.99966455 0.99962175 0.99926955 0.99907804 0.9988337  0.9988337\n",
      " 0.9987355  0.9987355  0.9987355  0.9987355  0.9987355  0.9987355\n",
      " 0.9987355  0.9987355  0.9987355  0.9987355  0.9987355  0.9987355\n",
      " 0.9987355  0.9987355 ]\n"
     ]
    },
    {
     "name": "stderr",
     "output_type": "stream",
     "text": [
      " 46% |#################################                                       |\r"
     ]
    },
    {
     "name": "stdout",
     "output_type": "stream",
     "text": [
      "[0.9998702  0.99936014 0.99924266 0.99924266 0.99907804 0.9987741\n",
      " 0.9987355  0.9987355  0.9987355  0.9987355  0.9987355  0.9987355\n",
      " 0.9987355  0.9987355  0.9987355  0.9987355  0.9987355  0.9987355\n",
      " 0.9987355  0.9987355 ]\n",
      "[0.99962664 0.99962664 0.99962664 0.99962175 0.99936014 0.9988337\n",
      " 0.9987692  0.9987355  0.9987355  0.9987355  0.9987355  0.9987355\n",
      " 0.9987355  0.9987355  0.9987355  0.9987355  0.9987355  0.9987355\n",
      " 0.9987355  0.9987355 ]\n",
      "[0.9998702  0.99967    0.99962664 0.99962664 0.99962175 0.99962175\n",
      " 0.99936014 0.99928135 0.99928135 0.99926955 0.9987355  0.9987355\n",
      " 0.9987355  0.9987355  0.9987355  0.9987355  0.9987355  0.9987355\n",
      " 0.9987355  0.9987355 ]\n"
     ]
    },
    {
     "name": "stderr",
     "output_type": "stream",
     "text": [
      " 47% |#################################                                       |\r"
     ]
    },
    {
     "name": "stdout",
     "output_type": "stream",
     "text": [
      "[0.9998702  0.9998702  0.99966455 0.99966455 0.99962175 0.99955684\n",
      " 0.99926955 0.99926955 0.99924266 0.99907804 0.9988337  0.9987355\n",
      " 0.9987355  0.9987355  0.9987355  0.9987355  0.9987355  0.9987355\n",
      " 0.9987355  0.9987355 ]\n",
      "[0.9998702  0.99967    0.99966455 0.99936014 0.99936014 0.99907804\n",
      " 0.9988337  0.9987355  0.9987355  0.9987355  0.9987355  0.9987355\n",
      " 0.9987355  0.9987355  0.9987355  0.9987355  0.9987355  0.9987355\n",
      " 0.9987355  0.9987355 ]\n",
      "[0.99967    0.99962175 0.99936014 0.99928135 0.99928135 0.99926955\n",
      " 0.99926955 0.9987741  0.9987692  0.9987355  0.9987355  0.9987355\n",
      " 0.9987355  0.9987355  0.9987355  0.9987355  0.9987355  0.9987355\n",
      " 0.9987355  0.9987355 ]\n",
      "[0.99967    0.99967    0.99967    0.99966455 0.99966455 0.99924266\n",
      " 0.99924266 0.99878675 0.9987741  0.9987692  0.9987355  0.9987355\n",
      " 0.9987355  0.9987355  0.9987355  0.9987355  0.9987355  0.9987355\n",
      " 0.9987355  0.9987355 ]\n",
      "[0.99967    0.99967    0.99966455 0.99962664 0.99955684 0.99928135\n",
      " 0.99924266 0.9988337  0.99878675 0.9987355  0.9987355  0.9987355\n",
      " 0.9987355  0.9987355  0.9987355  0.9987355  0.9987355  0.9987355\n",
      " 0.9987355  0.9987355 ]\n",
      "[0.99955684 0.99955684 0.99928135 0.99907804 0.9988337  0.9987355\n",
      " 0.9987355  0.9987355  0.9987355  0.9987355  0.9987355  0.9987355\n",
      " 0.9987355  0.9987355  0.9987355  0.9987355  0.9987355  0.9987355\n",
      " 0.9987355  0.9987355 ]\n"
     ]
    },
    {
     "name": "stderr",
     "output_type": "stream",
     "text": [
      " 48% |##################################                                      |\r"
     ]
    },
    {
     "name": "stdout",
     "output_type": "stream",
     "text": [
      "[0.99967    0.99955684 0.99955684 0.99936014 0.99924266 0.99924266\n",
      " 0.9987741  0.9987355  0.9987355  0.9987355  0.9987355  0.9987355\n",
      " 0.9987355  0.9987355  0.9987355  0.9987355  0.9987355  0.9987355\n",
      " 0.9987355  0.9987355 ]\n",
      "[0.99962175 0.99928135 0.99928135 0.99926955 0.99924266 0.99924266\n",
      " 0.9987692  0.9987355  0.9987355  0.9987355  0.9987355  0.9987355\n",
      " 0.9987355  0.9987355  0.9987355  0.9987355  0.9987355  0.9987355\n",
      " 0.9987355  0.9987355 ]\n",
      "[0.99967    0.99967    0.99962664 0.99962175 0.99962175 0.99962175\n",
      " 0.99955684 0.9988337  0.9987741  0.9987355  0.9987355  0.9987355\n",
      " 0.9987355  0.9987355  0.9987355  0.9987355  0.9987355  0.9987355\n",
      " 0.9987355  0.9987355 ]\n",
      "[0.99967    0.99962664 0.99962664 0.99962175 0.99928135 0.9987355\n",
      " 0.9987355  0.9987355  0.9987355  0.9987355  0.9987355  0.9987355\n",
      " 0.9987355  0.9987355  0.9987355  0.9987355  0.9987355  0.9987355\n",
      " 0.9987355  0.9987355 ]\n",
      "[0.99967    0.99967    0.99966455 0.99924266 0.99924266 0.99907804\n",
      " 0.9987692  0.9987355  0.9987355  0.9987355  0.9987355  0.9987355\n",
      " 0.9987355  0.9987355  0.9987355  0.9987355  0.9987355  0.9987355\n",
      " 0.9987355  0.9987355 ]\n",
      "[0.99962175 0.99955684 0.99928135 0.99926955 0.99924266 0.9987741\n",
      " 0.9987355  0.9987355  0.9987355  0.9987355  0.9987355  0.9987355\n",
      " 0.9987355  0.9987355  0.9987355  0.9987355  0.9987355  0.9987355\n",
      " 0.9987355  0.9987355 ]\n"
     ]
    },
    {
     "name": "stderr",
     "output_type": "stream",
     "text": [
      " 49% |###################################                                     |\r"
     ]
    },
    {
     "name": "stdout",
     "output_type": "stream",
     "text": [
      "[0.9998702  0.99967    0.99962664 0.99962175 0.99928135 0.99926955\n",
      " 0.99924266 0.99907804 0.99907804 0.99878675 0.9987741  0.9987692\n",
      " 0.9987692  0.9987355  0.9987355  0.9987355  0.9987355  0.9987355\n",
      " 0.9987355  0.9987355 ]\n",
      "[0.9998702  0.99967    0.99962664 0.99936014 0.99928135 0.99926955\n",
      " 0.99907804 0.99878675 0.9987355  0.9987355  0.9987355  0.9987355\n",
      " 0.9987355  0.9987355  0.9987355  0.9987355  0.9987355  0.9987355\n",
      " 0.9987355  0.9987355 ]\n",
      "[0.9998702  0.99926955 0.9988337  0.9988337  0.9987741  0.9987692\n",
      " 0.9987355  0.9987355  0.9987355  0.9987355  0.9987355  0.9987355\n",
      " 0.9987355  0.9987355  0.9987355  0.9987355  0.9987355  0.9987355\n",
      " 0.9987355  0.9987355 ]\n"
     ]
    },
    {
     "name": "stderr",
     "output_type": "stream",
     "text": [
      " 50% |####################################                                    |\r"
     ]
    },
    {
     "name": "stdout",
     "output_type": "stream",
     "text": [
      "[0.99967    0.99967    0.99966455 0.99962664 0.99962175 0.99962175\n",
      " 0.99926955 0.99924266 0.99907804 0.99878675 0.9987692  0.9987355\n",
      " 0.9987355  0.9987355  0.9987355  0.9987355  0.9987355  0.9987355\n",
      " 0.9987355  0.9987355 ]\n",
      "[0.9998702  0.9998702  0.99966455 0.99962664 0.99955684 0.99928135\n",
      " 0.99928135 0.99926955 0.99907804 0.99878675 0.9987741  0.9987355\n",
      " 0.9987355  0.9987355  0.9987355  0.9987355  0.9987355  0.9987355\n",
      " 0.9987355  0.9987355 ]\n",
      "[0.99967    0.99967    0.99967    0.99962175 0.99936014 0.99936014\n",
      " 0.99924266 0.99924266 0.99924266 0.99907804 0.9987741  0.9987355\n",
      " 0.9987355  0.9987355  0.9987355  0.9987355  0.9987355  0.9987355\n",
      " 0.9987355  0.9987355 ]\n",
      "[0.99962664 0.99962175 0.99936014 0.99924266 0.99924266 0.99907804\n",
      " 0.99907804 0.99878675 0.9987355  0.9987355  0.9987355  0.9987355\n",
      " 0.9987355  0.9987355  0.9987355  0.9987355  0.9987355  0.9987355\n",
      " 0.9987355  0.9987355 ]\n",
      "[0.9998702  0.9998702  0.9998702  0.9998702  0.99962664 0.99962175\n",
      " 0.99928135 0.99926955 0.99907804 0.99907804 0.9988337  0.9987355\n",
      " 0.9987355  0.9987355  0.9987355  0.9987355  0.9987355  0.9987355\n",
      " 0.9987355  0.9987355 ]\n",
      "[0.99967    0.99962175 0.99955684 0.99936014 0.99928135 0.99926955\n",
      " 0.99926955 0.99926955 0.9988337  0.99878675 0.9987355  0.9987355\n",
      " 0.9987355  0.9987355  0.9987355  0.9987355  0.9987355  0.9987355\n",
      " 0.9987355  0.9987355 ]\n"
     ]
    },
    {
     "name": "stderr",
     "output_type": "stream",
     "text": [
      " 51% |####################################                                    |\r"
     ]
    },
    {
     "name": "stdout",
     "output_type": "stream",
     "text": [
      "[0.9998702  0.99966455 0.99955684 0.99936014 0.9988337  0.9988337\n",
      " 0.9988337  0.9987741  0.9987692  0.9987692  0.9987355  0.9987355\n",
      " 0.9987355  0.9987355  0.9987355  0.9987355  0.9987355  0.9987355\n",
      " 0.9987355  0.9987355 ]\n",
      "[0.9998702  0.99962175 0.99955684 0.99936014 0.99936014 0.99928135\n",
      " 0.99928135 0.99926955 0.9988337  0.99878675 0.99878675 0.9987355\n",
      " 0.9987355  0.9987355  0.9987355  0.9987355  0.9987355  0.9987355\n",
      " 0.9987355  0.9987355 ]\n",
      "[0.99967    0.99955684 0.99928135 0.99924266 0.99924266 0.99907804\n",
      " 0.9988337  0.9987741  0.9987692  0.9987355  0.9987355  0.9987355\n",
      " 0.9987355  0.9987355  0.9987355  0.9987355  0.9987355  0.9987355\n",
      " 0.9987355  0.9987355 ]\n",
      "[0.9998702  0.99962175 0.99955684 0.99955684 0.99936014 0.99928135\n",
      " 0.99907804 0.9988337  0.9988337  0.9987355  0.9987355  0.9987355\n",
      " 0.9987355  0.9987355  0.9987355  0.9987355  0.9987355  0.9987355\n",
      " 0.9987355  0.9987355 ]\n",
      "[0.99967    0.99955684 0.99936014 0.99924266 0.9987692  0.9987355\n",
      " 0.9987355  0.9987355  0.9987355  0.9987355  0.9987355  0.9987355\n",
      " 0.9987355  0.9987355  0.9987355  0.9987355  0.9987355  0.9987355\n",
      " 0.9987355  0.9987355 ]\n",
      "[0.9998702  0.99936014 0.99936014 0.99928135 0.99928135 0.99928135\n",
      " 0.99928135 0.99926955 0.99924266 0.99924266 0.99907804 0.99878675\n",
      " 0.99878675 0.99878675 0.9987741  0.9987692  0.9987355  0.9987355\n",
      " 0.9987355  0.9987355 ]\n"
     ]
    },
    {
     "name": "stderr",
     "output_type": "stream",
     "text": [
      " 52% |#####################################                                   |\r"
     ]
    },
    {
     "name": "stdout",
     "output_type": "stream",
     "text": [
      "[0.9998702  0.99966455 0.99962664 0.99955684 0.99924266 0.99924266\n",
      " 0.9988337  0.9987355  0.9987355  0.9987355  0.9987355  0.9987355\n",
      " 0.9987355  0.9987355  0.9987355  0.9987355  0.9987355  0.9987355\n",
      " 0.9987355  0.9987355 ]\n",
      "[0.99967    0.99936014 0.99926955 0.99924266 0.9987741  0.9987692\n",
      " 0.9987355  0.9987355  0.9987355  0.9987355  0.9987355  0.9987355\n",
      " 0.9987355  0.9987355  0.9987355  0.9987355  0.9987355  0.9987355\n",
      " 0.9987355  0.9987355 ]\n",
      "[0.99967    0.99966455 0.99955684 0.99936014 0.99928135 0.9988337\n",
      " 0.9987355  0.9987355  0.9987355  0.9987355  0.9987355  0.9987355\n",
      " 0.9987355  0.9987355  0.9987355  0.9987355  0.9987355  0.9987355\n",
      " 0.9987355  0.9987355 ]\n"
     ]
    },
    {
     "name": "stderr",
     "output_type": "stream",
     "text": [
      " 53% |######################################                                  |\r"
     ]
    },
    {
     "name": "stdout",
     "output_type": "stream",
     "text": [
      "[0.99966455 0.99966455 0.99962664 0.99955684 0.99955684 0.99936014\n",
      " 0.99926955 0.99926955 0.99924266 0.99924266 0.99907804 0.9987355\n",
      " 0.9987355  0.9987355  0.9987355  0.9987355  0.9987355  0.9987355\n",
      " 0.9987355  0.9987355 ]\n",
      "[0.99967    0.99966455 0.99962175 0.99955684 0.99907804 0.9988337\n",
      " 0.9988337  0.9987355  0.9987355  0.9987355  0.9987355  0.9987355\n",
      " 0.9987355  0.9987355  0.9987355  0.9987355  0.9987355  0.9987355\n",
      " 0.9987355  0.9987355 ]\n",
      "[0.99955684 0.99936014 0.99928135 0.9987355  0.9987355  0.9987355\n",
      " 0.9987355  0.9987355  0.9987355  0.9987355  0.9987355  0.9987355\n",
      " 0.9987355  0.9987355  0.9987355  0.9987355  0.9987355  0.9987355\n",
      " 0.9987355  0.9987355 ]\n",
      "[0.9998702  0.9998702  0.99966455 0.99962175 0.99936014 0.99926955\n",
      " 0.99907804 0.9988337  0.99878675 0.99878675 0.9987741  0.9987355\n",
      " 0.9987355  0.9987355  0.9987355  0.9987355  0.9987355  0.9987355\n",
      " 0.9987355  0.9987355 ]\n",
      "[0.99966455 0.99962175 0.99955684 0.99928135 0.99928135 0.99928135\n",
      " 0.99926955 0.99907804 0.99907804 0.9987741  0.9987692  0.9987692\n",
      " 0.9987692  0.9987355  0.9987355  0.9987355  0.9987355  0.9987355\n",
      " 0.9987355  0.9987355 ]\n",
      "[0.9998702  0.99962175 0.99962175 0.99962175 0.99907804 0.99907804\n",
      " 0.99907804 0.9988337  0.9988337  0.99878675 0.99878675 0.9987692\n",
      " 0.9987355  0.9987355  0.9987355  0.9987355  0.9987355  0.9987355\n",
      " 0.9987355  0.9987355 ]\n"
     ]
    },
    {
     "name": "stderr",
     "output_type": "stream",
     "text": [
      " 54% |######################################                                  |\r"
     ]
    },
    {
     "name": "stdout",
     "output_type": "stream",
     "text": [
      "[0.9998702  0.9998702  0.99967    0.99967    0.99966455 0.99962664\n",
      " 0.99955684 0.99936014 0.99928135 0.99928135 0.99926955 0.99924266\n",
      " 0.99907804 0.99907804 0.9987741  0.9987741  0.9987355  0.9987355\n",
      " 0.9987355  0.9987355 ]\n",
      "[0.99962664 0.99936014 0.9987741  0.9987355  0.9987355  0.9987355\n",
      " 0.9987355  0.9987355  0.9987355  0.9987355  0.9987355  0.9987355\n",
      " 0.9987355  0.9987355  0.9987355  0.9987355  0.9987355  0.9987355\n",
      " 0.9987355  0.9987355 ]\n",
      "[0.99967    0.99966455 0.99924266 0.9987355  0.9987355  0.9987355\n",
      " 0.9987355  0.9987355  0.9987355  0.9987355  0.9987355  0.9987355\n",
      " 0.9987355  0.9987355  0.9987355  0.9987355  0.9987355  0.9987355\n",
      " 0.9987355  0.9987355 ]\n",
      "[0.9998702  0.99966455 0.99966455 0.99962175 0.99962175 0.99936014\n",
      " 0.99936014 0.99926955 0.9988337  0.9988337  0.9987355  0.9987355\n",
      " 0.9987355  0.9987355  0.9987355  0.9987355  0.9987355  0.9987355\n",
      " 0.9987355  0.9987355 ]\n",
      "[0.9998702  0.99967    0.99962664 0.99962664 0.99926955 0.99924266\n",
      " 0.9988337  0.99878675 0.9987355  0.9987355  0.9987355  0.9987355\n",
      " 0.9987355  0.9987355  0.9987355  0.9987355  0.9987355  0.9987355\n",
      " 0.9987355  0.9987355 ]\n",
      "[0.9998702  0.99967    0.99967    0.99967    0.99967    0.99967\n",
      " 0.99966455 0.99928135 0.99928135 0.99926955 0.9988337  0.9987355\n",
      " 0.9987355  0.9987355  0.9987355  0.9987355  0.9987355  0.9987355\n",
      " 0.9987355  0.9987355 ]\n"
     ]
    },
    {
     "name": "stderr",
     "output_type": "stream",
     "text": [
      " 55% |#######################################                                 |\r"
     ]
    },
    {
     "name": "stdout",
     "output_type": "stream",
     "text": [
      "[0.9998702  0.99967    0.99967    0.99936014 0.99928135 0.99928135\n",
      " 0.99907804 0.99907804 0.99878675 0.9987355  0.9987355  0.9987355\n",
      " 0.9987355  0.9987355  0.9987355  0.9987355  0.9987355  0.9987355\n",
      " 0.9987355  0.9987355 ]\n",
      "[0.99966455 0.99962175 0.99955684 0.99924266 0.99907804 0.9988337\n",
      " 0.99878675 0.9987741  0.9987692  0.9987692  0.9987355  0.9987355\n",
      " 0.9987355  0.9987355  0.9987355  0.9987355  0.9987355  0.9987355\n",
      " 0.9987355  0.9987355 ]\n",
      "[0.99966455 0.99955684 0.99936014 0.99928135 0.99928135 0.99926955\n",
      " 0.99924266 0.99924266 0.9987741  0.9987741  0.9987355  0.9987355\n",
      " 0.9987355  0.9987355  0.9987355  0.9987355  0.9987355  0.9987355\n",
      " 0.9987355  0.9987355 ]\n"
     ]
    },
    {
     "name": "stderr",
     "output_type": "stream",
     "text": [
      " 56% |########################################                                |\r"
     ]
    },
    {
     "name": "stdout",
     "output_type": "stream",
     "text": [
      "[0.9998702  0.99926955 0.99907804 0.99907804 0.9987355  0.9987355\n",
      " 0.9987355  0.9987355  0.9987355  0.9987355  0.9987355  0.9987355\n",
      " 0.9987355  0.9987355  0.9987355  0.9987355  0.9987355  0.9987355\n",
      " 0.9987355  0.9987355 ]\n",
      "[0.99966455 0.99962664 0.99962664 0.99962664 0.99955684 0.99955684\n",
      " 0.99924266 0.99878675 0.9987355  0.9987355  0.9987355  0.9987355\n",
      " 0.9987355  0.9987355  0.9987355  0.9987355  0.9987355  0.9987355\n",
      " 0.9987355  0.9987355 ]\n",
      "[0.9998702  0.9998702  0.99967    0.99962175 0.99928135 0.99928135\n",
      " 0.99924266 0.99924266 0.99907804 0.9988337  0.9988337  0.9988337\n",
      " 0.9987741  0.9987692  0.9987355  0.9987355  0.9987355  0.9987355\n",
      " 0.9987355  0.9987355 ]\n",
      "[0.99928135 0.99928135 0.99926955 0.9987355  0.9987355  0.9987355\n",
      " 0.9987355  0.9987355  0.9987355  0.9987355  0.9987355  0.9987355\n",
      " 0.9987355  0.9987355  0.9987355  0.9987355  0.9987355  0.9987355\n",
      " 0.9987355  0.9987355 ]\n",
      "[0.9998702  0.99967    0.99962175 0.99955684 0.99924266 0.9987741\n",
      " 0.9987741  0.9987355  0.9987355  0.9987355  0.9987355  0.9987355\n",
      " 0.9987355  0.9987355  0.9987355  0.9987355  0.9987355  0.9987355\n",
      " 0.9987355  0.9987355 ]\n",
      "[0.9998702  0.99966455 0.99962664 0.99962175 0.99962175 0.99936014\n",
      " 0.99924266 0.99907804 0.99878675 0.9987692  0.9987355  0.9987355\n",
      " 0.9987355  0.9987355  0.9987355  0.9987355  0.9987355  0.9987355\n",
      " 0.9987355  0.9987355 ]\n"
     ]
    },
    {
     "name": "stderr",
     "output_type": "stream",
     "text": [
      " 57% |#########################################                               |\r"
     ]
    },
    {
     "name": "stdout",
     "output_type": "stream",
     "text": [
      "[0.9998702  0.99967    0.99936014 0.99924266 0.99907804 0.99878675\n",
      " 0.9987741  0.9987355  0.9987355  0.9987355  0.9987355  0.9987355\n",
      " 0.9987355  0.9987355  0.9987355  0.9987355  0.9987355  0.9987355\n",
      " 0.9987355  0.9987355 ]\n",
      "[0.9998702  0.9998702  0.99967    0.99966455 0.99962664 0.99962664\n",
      " 0.99955684 0.99928135 0.99907804 0.9988337  0.9988337  0.9987692\n",
      " 0.9987355  0.9987355  0.9987355  0.9987355  0.9987355  0.9987355\n",
      " 0.9987355  0.9987355 ]\n",
      "[0.99967    0.99928135 0.99926955 0.9987741  0.9987355  0.9987355\n",
      " 0.9987355  0.9987355  0.9987355  0.9987355  0.9987355  0.9987355\n",
      " 0.9987355  0.9987355  0.9987355  0.9987355  0.9987355  0.9987355\n",
      " 0.9987355  0.9987355 ]\n",
      "[0.9998702  0.9998702  0.99966455 0.99966455 0.99962175 0.99962175\n",
      " 0.99962175 0.99926955 0.99907804 0.9988337  0.9988337  0.9987741\n",
      " 0.9987355  0.9987355  0.9987355  0.9987355  0.9987355  0.9987355\n",
      " 0.9987355  0.9987355 ]\n",
      "[0.99962664 0.99955684 0.99936014 0.99936014 0.99928135 0.99924266\n",
      " 0.99924266 0.99907804 0.99878675 0.99878675 0.99878675 0.9987741\n",
      " 0.9987741  0.9987692  0.9987692  0.9987355  0.9987355  0.9987355\n",
      " 0.9987355  0.9987355 ]\n",
      "[0.9998702  0.99967    0.99966455 0.99962175 0.99962175 0.99936014\n",
      " 0.99926955 0.99924266 0.99924266 0.99924266 0.9987741  0.9987355\n",
      " 0.9987355  0.9987355  0.9987355  0.9987355  0.9987355  0.9987355\n",
      " 0.9987355  0.9987355 ]\n"
     ]
    },
    {
     "name": "stderr",
     "output_type": "stream",
     "text": [
      " 58% |#########################################                               |\r"
     ]
    },
    {
     "name": "stdout",
     "output_type": "stream",
     "text": [
      "[0.99967    0.99962175 0.99936014 0.9988337  0.9987692  0.9987355\n",
      " 0.9987355  0.9987355  0.9987355  0.9987355  0.9987355  0.9987355\n",
      " 0.9987355  0.9987355  0.9987355  0.9987355  0.9987355  0.9987355\n",
      " 0.9987355  0.9987355 ]\n",
      "[0.9998702  0.99962664 0.99962175 0.99928135 0.99907804 0.9988337\n",
      " 0.9987355  0.9987355  0.9987355  0.9987355  0.9987355  0.9987355\n",
      " 0.9987355  0.9987355  0.9987355  0.9987355  0.9987355  0.9987355\n",
      " 0.9987355  0.9987355 ]\n",
      "[0.99966455 0.99966455 0.99955684 0.99936014 0.99928135 0.99928135\n",
      " 0.99926955 0.99907804 0.99878675 0.9987692  0.9987355  0.9987355\n",
      " 0.9987355  0.9987355  0.9987355  0.9987355  0.9987355  0.9987355\n",
      " 0.9987355  0.9987355 ]\n"
     ]
    },
    {
     "name": "stderr",
     "output_type": "stream",
     "text": [
      " 59% |##########################################                              |\r"
     ]
    },
    {
     "name": "stdout",
     "output_type": "stream",
     "text": [
      "[0.9998702  0.9998702  0.99967    0.99955684 0.99936014 0.99926955\n",
      " 0.9987692  0.9987355  0.9987355  0.9987355  0.9987355  0.9987355\n",
      " 0.9987355  0.9987355  0.9987355  0.9987355  0.9987355  0.9987355\n",
      " 0.9987355  0.9987355 ]\n",
      "[0.99966455 0.99962664 0.99962664 0.99928135 0.99928135 0.99924266\n",
      " 0.99924266 0.99924266 0.99907804 0.9988337  0.9987692  0.9987355\n",
      " 0.9987355  0.9987355  0.9987355  0.9987355  0.9987355  0.9987355\n",
      " 0.9987355  0.9987355 ]\n",
      "[0.99967    0.99966455 0.99962664 0.99928135 0.99926955 0.9988337\n",
      " 0.99878675 0.9987692  0.9987355  0.9987355  0.9987355  0.9987355\n",
      " 0.9987355  0.9987355  0.9987355  0.9987355  0.9987355  0.9987355\n",
      " 0.9987355  0.9987355 ]\n",
      "[0.9998702  0.99966455 0.99962664 0.99962664 0.99955684 0.99955684\n",
      " 0.9987741  0.9987355  0.9987355  0.9987355  0.9987355  0.9987355\n",
      " 0.9987355  0.9987355  0.9987355  0.9987355  0.9987355  0.9987355\n",
      " 0.9987355  0.9987355 ]\n",
      "[0.99967    0.99962664 0.99962664 0.99955684 0.99936014 0.99928135\n",
      " 0.99924266 0.9988337  0.9987692  0.9987355  0.9987355  0.9987355\n",
      " 0.9987355  0.9987355  0.9987355  0.9987355  0.9987355  0.9987355\n",
      " 0.9987355  0.9987355 ]\n",
      "[0.9998702  0.99962175 0.99962175 0.99924266 0.99907804 0.9987355\n",
      " 0.9987355  0.9987355  0.9987355  0.9987355  0.9987355  0.9987355\n",
      " 0.9987355  0.9987355  0.9987355  0.9987355  0.9987355  0.9987355\n",
      " 0.9987355  0.9987355 ]\n"
     ]
    },
    {
     "name": "stderr",
     "output_type": "stream",
     "text": [
      " 60% |###########################################                             |\r"
     ]
    },
    {
     "name": "stdout",
     "output_type": "stream",
     "text": [
      "[0.9998702  0.99962664 0.99955684 0.99924266 0.99924266 0.9987355\n",
      " 0.9987355  0.9987355  0.9987355  0.9987355  0.9987355  0.9987355\n",
      " 0.9987355  0.9987355  0.9987355  0.9987355  0.9987355  0.9987355\n",
      " 0.9987355  0.9987355 ]\n",
      "[0.99962175 0.99955684 0.99936014 0.99936014 0.99926955 0.99907804\n",
      " 0.9988337  0.9988337  0.99878675 0.99878675 0.9987355  0.9987355\n",
      " 0.9987355  0.9987355  0.9987355  0.9987355  0.9987355  0.9987355\n",
      " 0.9987355  0.9987355 ]\n",
      "[0.99967    0.99955684 0.99926955 0.99907804 0.9987692  0.9987355\n",
      " 0.9987355  0.9987355  0.9987355  0.9987355  0.9987355  0.9987355\n",
      " 0.9987355  0.9987355  0.9987355  0.9987355  0.9987355  0.9987355\n",
      " 0.9987355  0.9987355 ]\n",
      "[0.9998702  0.9998702  0.99967    0.99955684 0.99936014 0.99928135\n",
      " 0.99926955 0.99926955 0.99926955 0.99924266 0.99907804 0.99878675\n",
      " 0.9987741  0.9987692  0.9987355  0.9987355  0.9987355  0.9987355\n",
      " 0.9987355  0.9987355 ]\n",
      "[0.9998702  0.99962175 0.99926955 0.9988337  0.99878675 0.99878675\n",
      " 0.9987355  0.9987355  0.9987355  0.9987355  0.9987355  0.9987355\n",
      " 0.9987355  0.9987355  0.9987355  0.9987355  0.9987355  0.9987355\n",
      " 0.9987355  0.9987355 ]\n",
      "[0.99962664 0.99962175 0.99955684 0.99936014 0.99924266 0.99907804\n",
      " 0.9988337  0.9988337  0.9988337  0.9987692  0.9987692  0.9987355\n",
      " 0.9987355  0.9987355  0.9987355  0.9987355  0.9987355  0.9987355\n",
      " 0.9987355  0.9987355 ]\n"
     ]
    },
    {
     "name": "stderr",
     "output_type": "stream",
     "text": [
      " 61% |###########################################                             |\r"
     ]
    },
    {
     "name": "stdout",
     "output_type": "stream",
     "text": [
      "[0.99966455 0.99962175 0.99955684 0.99926955 0.99924266 0.9987692\n",
      " 0.9987355  0.9987355  0.9987355  0.9987355  0.9987355  0.9987355\n",
      " 0.9987355  0.9987355  0.9987355  0.9987355  0.9987355  0.9987355\n",
      " 0.9987355  0.9987355 ]\n",
      "[0.99967    0.99966455 0.99962175 0.99962175 0.99962175 0.99936014\n",
      " 0.99924266 0.99924266 0.99907804 0.9987355  0.9987355  0.9987355\n",
      " 0.9987355  0.9987355  0.9987355  0.9987355  0.9987355  0.9987355\n",
      " 0.9987355  0.9987355 ]\n",
      "[0.9998702  0.9998702  0.9998702  0.99962664 0.99962175 0.99936014\n",
      " 0.99928135 0.99924266 0.9988337  0.99878675 0.99878675 0.99878675\n",
      " 0.9987355  0.9987355  0.9987355  0.9987355  0.9987355  0.9987355\n",
      " 0.9987355  0.9987355 ]\n"
     ]
    },
    {
     "name": "stderr",
     "output_type": "stream",
     "text": [
      " 62% |############################################                            |\r"
     ]
    },
    {
     "name": "stdout",
     "output_type": "stream",
     "text": [
      "[0.99967    0.99967    0.99936014 0.99926955 0.99907804 0.99907804\n",
      " 0.9987741  0.9987741  0.9987692  0.9987692  0.9987355  0.9987355\n",
      " 0.9987355  0.9987355  0.9987355  0.9987355  0.9987355  0.9987355\n",
      " 0.9987355  0.9987355 ]\n",
      "[0.9998702  0.99936014 0.99928135 0.99924266 0.99907804 0.9987741\n",
      " 0.9987692  0.9987692  0.9987355  0.9987355  0.9987355  0.9987355\n",
      " 0.9987355  0.9987355  0.9987355  0.9987355  0.9987355  0.9987355\n",
      " 0.9987355  0.9987355 ]\n",
      "[0.99962175 0.99907804 0.9987741  0.9987741  0.9987355  0.9987355\n",
      " 0.9987355  0.9987355  0.9987355  0.9987355  0.9987355  0.9987355\n",
      " 0.9987355  0.9987355  0.9987355  0.9987355  0.9987355  0.9987355\n",
      " 0.9987355  0.9987355 ]\n",
      "[0.9998702  0.99966455 0.99962175 0.99928135 0.99878675 0.9987355\n",
      " 0.9987355  0.9987355  0.9987355  0.9987355  0.9987355  0.9987355\n",
      " 0.9987355  0.9987355  0.9987355  0.9987355  0.9987355  0.9987355\n",
      " 0.9987355  0.9987355 ]\n",
      "[0.99967    0.99924266 0.99907804 0.99907804 0.99878675 0.99878675\n",
      " 0.9987741  0.9987355  0.9987355  0.9987355  0.9987355  0.9987355\n",
      " 0.9987355  0.9987355  0.9987355  0.9987355  0.9987355  0.9987355\n",
      " 0.9987355  0.9987355 ]\n",
      "[0.99966455 0.99966455 0.99962664 0.99962175 0.99955684 0.99936014\n",
      " 0.99928135 0.9988337  0.9987741  0.9987741  0.9987692  0.9987355\n",
      " 0.9987355  0.9987355  0.9987355  0.9987355  0.9987355  0.9987355\n",
      " 0.9987355  0.9987355 ]\n"
     ]
    },
    {
     "name": "stderr",
     "output_type": "stream",
     "text": [
      " 63% |#############################################                           |\r"
     ]
    },
    {
     "name": "stdout",
     "output_type": "stream",
     "text": [
      "[0.99962664 0.99962664 0.99962175 0.99955684 0.99926955 0.99926955\n",
      " 0.99926955 0.99878675 0.99878675 0.9987741  0.9987741  0.9987355\n",
      " 0.9987355  0.9987355  0.9987355  0.9987355  0.9987355  0.9987355\n",
      " 0.9987355  0.9987355 ]\n",
      "[0.9998702  0.9998702  0.99967    0.99967    0.99962664 0.99955684\n",
      " 0.99936014 0.99926955 0.99878675 0.9987355  0.9987355  0.9987355\n",
      " 0.9987355  0.9987355  0.9987355  0.9987355  0.9987355  0.9987355\n",
      " 0.9987355  0.9987355 ]\n",
      "[0.99962664 0.99962175 0.99928135 0.99928135 0.99926955 0.99924266\n",
      " 0.99924266 0.9987355  0.9987355  0.9987355  0.9987355  0.9987355\n",
      " 0.9987355  0.9987355  0.9987355  0.9987355  0.9987355  0.9987355\n",
      " 0.9987355  0.9987355 ]\n",
      "[0.9998702  0.99966455 0.99966455 0.99962664 0.99962175 0.99962175\n",
      " 0.99955684 0.99955684 0.99936014 0.99878675 0.9987692  0.9987355\n",
      " 0.9987355  0.9987355  0.9987355  0.9987355  0.9987355  0.9987355\n",
      " 0.9987355  0.9987355 ]\n",
      "[0.9998702  0.99967    0.99967    0.99967    0.99962664 0.99907804\n",
      " 0.99907804 0.99907804 0.9988337  0.9987692  0.9987355  0.9987355\n",
      " 0.9987355  0.9987355  0.9987355  0.9987355  0.9987355  0.9987355\n",
      " 0.9987355  0.9987355 ]\n",
      "[0.9998702  0.99967    0.99924266 0.99924266 0.99907804 0.9987741\n",
      " 0.9987741  0.9987355  0.9987355  0.9987355  0.9987355  0.9987355\n",
      " 0.9987355  0.9987355  0.9987355  0.9987355  0.9987355  0.9987355\n",
      " 0.9987355  0.9987355 ]\n"
     ]
    },
    {
     "name": "stderr",
     "output_type": "stream",
     "text": [
      " 64% |##############################################                          |\r"
     ]
    },
    {
     "name": "stdout",
     "output_type": "stream",
     "text": [
      "[0.9998702  0.9998702  0.99962175 0.99962175 0.99962175 0.99955684\n",
      " 0.99955684 0.99928135 0.99924266 0.99924266 0.99924266 0.99924266\n",
      " 0.99907804 0.9987741  0.9987741  0.9987741  0.9987355  0.9987355\n",
      " 0.9987355  0.9987355 ]\n",
      "[0.9998702  0.99962175 0.99924266 0.9988337  0.9987355  0.9987355\n",
      " 0.9987355  0.9987355  0.9987355  0.9987355  0.9987355  0.9987355\n",
      " 0.9987355  0.9987355  0.9987355  0.9987355  0.9987355  0.9987355\n",
      " 0.9987355  0.9987355 ]\n",
      "[0.9998702  0.9998702  0.99962664 0.99955684 0.99955684 0.99936014\n",
      " 0.99926955 0.9988337  0.9987355  0.9987355  0.9987355  0.9987355\n",
      " 0.9987355  0.9987355  0.9987355  0.9987355  0.9987355  0.9987355\n",
      " 0.9987355  0.9987355 ]\n"
     ]
    },
    {
     "name": "stderr",
     "output_type": "stream",
     "text": [
      " 65% |##############################################                          |\r"
     ]
    },
    {
     "name": "stdout",
     "output_type": "stream",
     "text": [
      "[0.99966455 0.9988337  0.9987741  0.9987741  0.9987355  0.9987355\n",
      " 0.9987355  0.9987355  0.9987355  0.9987355  0.9987355  0.9987355\n",
      " 0.9987355  0.9987355  0.9987355  0.9987355  0.9987355  0.9987355\n",
      " 0.9987355  0.9987355 ]\n",
      "[0.9998702  0.99967    0.99966455 0.99962664 0.99936014 0.99936014\n",
      " 0.99926955 0.99924266 0.99907804 0.9988337  0.9987692  0.9987355\n",
      " 0.9987355  0.9987355  0.9987355  0.9987355  0.9987355  0.9987355\n",
      " 0.9987355  0.9987355 ]\n",
      "[0.99966455 0.99936014 0.99926955 0.99924266 0.9988337  0.99878675\n",
      " 0.9987355  0.9987355  0.9987355  0.9987355  0.9987355  0.9987355\n",
      " 0.9987355  0.9987355  0.9987355  0.9987355  0.9987355  0.9987355\n",
      " 0.9987355  0.9987355 ]\n",
      "[0.9998702  0.99967    0.99955684 0.99924266 0.9988337  0.9988337\n",
      " 0.9987355  0.9987355  0.9987355  0.9987355  0.9987355  0.9987355\n",
      " 0.9987355  0.9987355  0.9987355  0.9987355  0.9987355  0.9987355\n",
      " 0.9987355  0.9987355 ]\n",
      "[0.99967    0.99962664 0.99962175 0.99907804 0.9988337  0.99878675\n",
      " 0.99878675 0.9987741  0.9987692  0.9987355  0.9987355  0.9987355\n",
      " 0.9987355  0.9987355  0.9987355  0.9987355  0.9987355  0.9987355\n",
      " 0.9987355  0.9987355 ]\n",
      "[0.99966455 0.99962175 0.99962175 0.99924266 0.99907804 0.99907804\n",
      " 0.9988337  0.9987355  0.9987355  0.9987355  0.9987355  0.9987355\n",
      " 0.9987355  0.9987355  0.9987355  0.9987355  0.9987355  0.9987355\n",
      " 0.9987355  0.9987355 ]\n"
     ]
    },
    {
     "name": "stderr",
     "output_type": "stream",
     "text": [
      " 66% |###############################################                         |\r"
     ]
    },
    {
     "name": "stdout",
     "output_type": "stream",
     "text": [
      "[0.99967    0.99967    0.99955684 0.99955684 0.99936014 0.99928135\n",
      " 0.99907804 0.9988337  0.9987741  0.9987355  0.9987355  0.9987355\n",
      " 0.9987355  0.9987355  0.9987355  0.9987355  0.9987355  0.9987355\n",
      " 0.9987355  0.9987355 ]\n",
      "[0.99962664 0.99926955 0.99907804 0.99907804 0.99907804 0.9987741\n",
      " 0.9987692  0.9987692  0.9987692  0.9987355  0.9987355  0.9987355\n",
      " 0.9987355  0.9987355  0.9987355  0.9987355  0.9987355  0.9987355\n",
      " 0.9987355  0.9987355 ]\n",
      "[0.9998702  0.99966455 0.99966455 0.99955684 0.99928135 0.99907804\n",
      " 0.99907804 0.9987355  0.9987355  0.9987355  0.9987355  0.9987355\n",
      " 0.9987355  0.9987355  0.9987355  0.9987355  0.9987355  0.9987355\n",
      " 0.9987355  0.9987355 ]\n",
      "[0.9998702  0.99966455 0.99962664 0.99962175 0.99926955 0.9987692\n",
      " 0.9987692  0.9987692  0.9987355  0.9987355  0.9987355  0.9987355\n",
      " 0.9987355  0.9987355  0.9987355  0.9987355  0.9987355  0.9987355\n",
      " 0.9987355  0.9987355 ]\n",
      "[0.99962175 0.99924266 0.99924266 0.9988337  0.9987355  0.9987355\n",
      " 0.9987355  0.9987355  0.9987355  0.9987355  0.9987355  0.9987355\n",
      " 0.9987355  0.9987355  0.9987355  0.9987355  0.9987355  0.9987355\n",
      " 0.9987355  0.9987355 ]\n",
      "[0.9998702  0.99966455 0.99962175 0.99962175 0.99955684 0.99928135\n",
      " 0.99926955 0.99924266 0.9987355  0.9987355  0.9987355  0.9987355\n",
      " 0.9987355  0.9987355  0.9987355  0.9987355  0.9987355  0.9987355\n",
      " 0.9987355  0.9987355 ]\n"
     ]
    },
    {
     "name": "stderr",
     "output_type": "stream",
     "text": [
      " 67% |################################################                        |\r"
     ]
    },
    {
     "name": "stdout",
     "output_type": "stream",
     "text": [
      "[0.9998702  0.99962175 0.99955684 0.99936014 0.99928135 0.99907804\n",
      " 0.99907804 0.9988337  0.9988337  0.99878675 0.9987741  0.9987741\n",
      " 0.9987692  0.9987355  0.9987355  0.9987355  0.9987355  0.9987355\n",
      " 0.9987355  0.9987355 ]\n",
      "[0.9998702  0.99962664 0.99936014 0.99928135 0.99928135 0.99907804\n",
      " 0.99907804 0.9988337  0.9987741  0.9987741  0.9987355  0.9987355\n",
      " 0.9987355  0.9987355  0.9987355  0.9987355  0.9987355  0.9987355\n",
      " 0.9987355  0.9987355 ]\n",
      "[0.99967    0.99966455 0.99962175 0.99955684 0.99955684 0.99936014\n",
      " 0.99926955 0.9987692  0.9987692  0.9987355  0.9987355  0.9987355\n",
      " 0.9987355  0.9987355  0.9987355  0.9987355  0.9987355  0.9987355\n",
      " 0.9987355  0.9987355 ]\n"
     ]
    },
    {
     "name": "stderr",
     "output_type": "stream",
     "text": [
      " 68% |################################################                        |\r"
     ]
    },
    {
     "name": "stdout",
     "output_type": "stream",
     "text": [
      "[0.9998702  0.99955684 0.99907804 0.99878675 0.9987741  0.9987692\n",
      " 0.9987692  0.9987355  0.9987355  0.9987355  0.9987355  0.9987355\n",
      " 0.9987355  0.9987355  0.9987355  0.9987355  0.9987355  0.9987355\n",
      " 0.9987355  0.9987355 ]\n",
      "[0.99967    0.99962664 0.99962664 0.99955684 0.99936014 0.99928135\n",
      " 0.99907804 0.9988337  0.99878675 0.9987692  0.9987355  0.9987355\n",
      " 0.9987355  0.9987355  0.9987355  0.9987355  0.9987355  0.9987355\n",
      " 0.9987355  0.9987355 ]\n",
      "[0.99962175 0.99962175 0.99955684 0.99936014 0.99926955 0.99926955\n",
      " 0.99907804 0.99907804 0.99907804 0.9988337  0.9987741  0.9987741\n",
      " 0.9987741  0.9987355  0.9987355  0.9987355  0.9987355  0.9987355\n",
      " 0.9987355  0.9987355 ]\n",
      "[0.9998702  0.99962175 0.99962175 0.99962175 0.99926955 0.99878675\n",
      " 0.9987741  0.9987741  0.9987692  0.9987355  0.9987355  0.9987355\n",
      " 0.9987355  0.9987355  0.9987355  0.9987355  0.9987355  0.9987355\n",
      " 0.9987355  0.9987355 ]\n",
      "[0.9998702  0.99967    0.99967    0.99962664 0.99936014 0.9987692\n",
      " 0.9987692  0.9987355  0.9987355  0.9987355  0.9987355  0.9987355\n",
      " 0.9987355  0.9987355  0.9987355  0.9987355  0.9987355  0.9987355\n",
      " 0.9987355  0.9987355 ]\n",
      "[0.99967    0.99962175 0.99962175 0.99878675 0.99878675 0.9987741\n",
      " 0.9987692  0.9987355  0.9987355  0.9987355  0.9987355  0.9987355\n",
      " 0.9987355  0.9987355  0.9987355  0.9987355  0.9987355  0.9987355\n",
      " 0.9987355  0.9987355 ]\n"
     ]
    },
    {
     "name": "stderr",
     "output_type": "stream",
     "text": [
      " 69% |#################################################                       |\r"
     ]
    },
    {
     "name": "stdout",
     "output_type": "stream",
     "text": [
      "[0.9998702  0.99962664 0.99962175 0.99955684 0.99926955 0.99926955\n",
      " 0.99924266 0.9988337  0.99878675 0.9987741  0.9987692  0.9987355\n",
      " 0.9987355  0.9987355  0.9987355  0.9987355  0.9987355  0.9987355\n",
      " 0.9987355  0.9987355 ]\n",
      "[0.9998702  0.99962175 0.99924266 0.9987741  0.9987741  0.9987741\n",
      " 0.9987692  0.9987355  0.9987355  0.9987355  0.9987355  0.9987355\n",
      " 0.9987355  0.9987355  0.9987355  0.9987355  0.9987355  0.9987355\n",
      " 0.9987355  0.9987355 ]\n",
      "[0.99962664 0.99962664 0.99936014 0.9987741  0.9987692  0.9987355\n",
      " 0.9987355  0.9987355  0.9987355  0.9987355  0.9987355  0.9987355\n",
      " 0.9987355  0.9987355  0.9987355  0.9987355  0.9987355  0.9987355\n",
      " 0.9987355  0.9987355 ]\n",
      "[0.9998702  0.99955684 0.99928135 0.99926955 0.99924266 0.99924266\n",
      " 0.9988337  0.99878675 0.9987355  0.9987355  0.9987355  0.9987355\n",
      " 0.9987355  0.9987355  0.9987355  0.9987355  0.9987355  0.9987355\n",
      " 0.9987355  0.9987355 ]\n",
      "[0.9998702  0.99962664 0.99955684 0.99936014 0.99928135 0.99928135\n",
      " 0.99924266 0.9988337  0.99878675 0.9987741  0.9987692  0.9987355\n",
      " 0.9987355  0.9987355  0.9987355  0.9987355  0.9987355  0.9987355\n",
      " 0.9987355  0.9987355 ]\n",
      "[0.99967    0.99962664 0.99928135 0.99926955 0.99907804 0.99878675\n",
      " 0.9987741  0.9987355  0.9987355  0.9987355  0.9987355  0.9987355\n",
      " 0.9987355  0.9987355  0.9987355  0.9987355  0.9987355  0.9987355\n",
      " 0.9987355  0.9987355 ]\n"
     ]
    },
    {
     "name": "stderr",
     "output_type": "stream",
     "text": [
      " 70% |##################################################                      |\r"
     ]
    },
    {
     "name": "stdout",
     "output_type": "stream",
     "text": [
      "[0.99962664 0.99955684 0.99926955 0.99926955 0.99907804 0.9987741\n",
      " 0.9987692  0.9987355  0.9987355  0.9987355  0.9987355  0.9987355\n",
      " 0.9987355  0.9987355  0.9987355  0.9987355  0.9987355  0.9987355\n",
      " 0.9987355  0.9987355 ]\n",
      "[0.99966455 0.99962175 0.99907804 0.9987741  0.9987355  0.9987355\n",
      " 0.9987355  0.9987355  0.9987355  0.9987355  0.9987355  0.9987355\n",
      " 0.9987355  0.9987355  0.9987355  0.9987355  0.9987355  0.9987355\n",
      " 0.9987355  0.9987355 ]\n",
      "[0.99962664 0.99962175 0.99955684 0.99955684 0.9988337  0.99878675\n",
      " 0.9987741  0.9987355  0.9987355  0.9987355  0.9987355  0.9987355\n",
      " 0.9987355  0.9987355  0.9987355  0.9987355  0.9987355  0.9987355\n",
      " 0.9987355  0.9987355 ]\n"
     ]
    },
    {
     "name": "stderr",
     "output_type": "stream",
     "text": [
      " 71% |###################################################                     |\r"
     ]
    },
    {
     "name": "stdout",
     "output_type": "stream",
     "text": [
      "[0.9998702  0.99967    0.99962664 0.99936014 0.99936014 0.99926955\n",
      " 0.99907804 0.9987355  0.9987355  0.9987355  0.9987355  0.9987355\n",
      " 0.9987355  0.9987355  0.9987355  0.9987355  0.9987355  0.9987355\n",
      " 0.9987355  0.9987355 ]\n",
      "[0.99966455 0.99955684 0.99955684 0.99936014 0.99878675 0.99878675\n",
      " 0.99878675 0.9987741  0.9987355  0.9987355  0.9987355  0.9987355\n",
      " 0.9987355  0.9987355  0.9987355  0.9987355  0.9987355  0.9987355\n",
      " 0.9987355  0.9987355 ]\n",
      "[0.99966455 0.99962664 0.99926955 0.99924266 0.99924266 0.99907804\n",
      " 0.9988337  0.99878675 0.99878675 0.99878675 0.9987741  0.9987741\n",
      " 0.9987355  0.9987355  0.9987355  0.9987355  0.9987355  0.9987355\n",
      " 0.9987355  0.9987355 ]\n",
      "[0.9998702  0.9998702  0.99962664 0.99962664 0.99962175 0.99936014\n",
      " 0.99924266 0.99907804 0.99878675 0.9987741  0.9987741  0.9987692\n",
      " 0.9987692  0.9987355  0.9987355  0.9987355  0.9987355  0.9987355\n",
      " 0.9987355  0.9987355 ]\n",
      "[0.99966455 0.99955684 0.99955684 0.99955684 0.99936014 0.99936014\n",
      " 0.99907804 0.9987355  0.9987355  0.9987355  0.9987355  0.9987355\n",
      " 0.9987355  0.9987355  0.9987355  0.9987355  0.9987355  0.9987355\n",
      " 0.9987355  0.9987355 ]\n",
      "[0.9998702  0.99966455 0.99955684 0.99936014 0.99936014 0.99928135\n",
      " 0.99926955 0.99924266 0.9988337  0.9987741  0.9987355  0.9987355\n",
      " 0.9987355  0.9987355  0.9987355  0.9987355  0.9987355  0.9987355\n",
      " 0.9987355  0.9987355 ]\n"
     ]
    },
    {
     "name": "stderr",
     "output_type": "stream",
     "text": [
      " 72% |###################################################                     |\r"
     ]
    },
    {
     "name": "stdout",
     "output_type": "stream",
     "text": [
      "[0.99967    0.99966455 0.99962664 0.99955684 0.99928135 0.99924266\n",
      " 0.99907804 0.99878675 0.9987355  0.9987355  0.9987355  0.9987355\n",
      " 0.9987355  0.9987355  0.9987355  0.9987355  0.9987355  0.9987355\n",
      " 0.9987355  0.9987355 ]\n",
      "[0.99966455 0.99962175 0.99955684 0.99936014 0.99907804 0.9987355\n",
      " 0.9987355  0.9987355  0.9987355  0.9987355  0.9987355  0.9987355\n",
      " 0.9987355  0.9987355  0.9987355  0.9987355  0.9987355  0.9987355\n",
      " 0.9987355  0.9987355 ]\n",
      "[0.99966455 0.99966455 0.99962664 0.99907804 0.99878675 0.9987741\n",
      " 0.9987741  0.9987692  0.9987692  0.9987692  0.9987692  0.9987355\n",
      " 0.9987355  0.9987355  0.9987355  0.9987355  0.9987355  0.9987355\n",
      " 0.9987355  0.9987355 ]\n",
      "[0.99907804 0.9988337  0.9987741  0.9987741  0.9987355  0.9987355\n",
      " 0.9987355  0.9987355  0.9987355  0.9987355  0.9987355  0.9987355\n",
      " 0.9987355  0.9987355  0.9987355  0.9987355  0.9987355  0.9987355\n",
      " 0.9987355  0.9987355 ]\n",
      "[0.99967    0.99962175 0.99926955 0.99926955 0.9988337  0.9987355\n",
      " 0.9987355  0.9987355  0.9987355  0.9987355  0.9987355  0.9987355\n",
      " 0.9987355  0.9987355  0.9987355  0.9987355  0.9987355  0.9987355\n",
      " 0.9987355  0.9987355 ]\n",
      "[0.9998702  0.9998702  0.9998702  0.99967    0.99967    0.99926955\n",
      " 0.99926955 0.9988337  0.9987355  0.9987355  0.9987355  0.9987355\n",
      " 0.9987355  0.9987355  0.9987355  0.9987355  0.9987355  0.9987355\n",
      " 0.9987355  0.9987355 ]\n"
     ]
    },
    {
     "name": "stderr",
     "output_type": "stream",
     "text": [
      " 73% |####################################################                    |\r"
     ]
    },
    {
     "name": "stdout",
     "output_type": "stream",
     "text": [
      "[0.99962664 0.99962175 0.99962175 0.99962175 0.99878675 0.9987741\n",
      " 0.9987692  0.9987355  0.9987355  0.9987355  0.9987355  0.9987355\n",
      " 0.9987355  0.9987355  0.9987355  0.9987355  0.9987355  0.9987355\n",
      " 0.9987355  0.9987355 ]\n",
      "[0.99962175 0.99955684 0.99936014 0.99928135 0.99924266 0.99907804\n",
      " 0.9987692  0.9987692  0.9987355  0.9987355  0.9987355  0.9987355\n",
      " 0.9987355  0.9987355  0.9987355  0.9987355  0.9987355  0.9987355\n",
      " 0.9987355  0.9987355 ]\n",
      "[0.9998702  0.99962664 0.99936014 0.99936014 0.99924266 0.99907804\n",
      " 0.9988337  0.9987741  0.9987692  0.9987692  0.9987355  0.9987355\n",
      " 0.9987355  0.9987355  0.9987355  0.9987355  0.9987355  0.9987355\n",
      " 0.9987355  0.9987355 ]\n"
     ]
    },
    {
     "name": "stderr",
     "output_type": "stream",
     "text": [
      " 74% |#####################################################                   |\r"
     ]
    },
    {
     "name": "stdout",
     "output_type": "stream",
     "text": [
      "[0.9998702  0.99962664 0.99962664 0.99936014 0.99924266 0.9988337\n",
      " 0.9987741  0.9987741  0.9987355  0.9987355  0.9987355  0.9987355\n",
      " 0.9987355  0.9987355  0.9987355  0.9987355  0.9987355  0.9987355\n",
      " 0.9987355  0.9987355 ]\n",
      "[0.99962175 0.99962175 0.99955684 0.99955684 0.99955684 0.99936014\n",
      " 0.99936014 0.99928135 0.99928135 0.99907804 0.99878675 0.99878675\n",
      " 0.99878675 0.9987741  0.9987741  0.9987355  0.9987355  0.9987355\n",
      " 0.9987355  0.9987355 ]\n",
      "[0.9998702  0.9998702  0.9998702  0.9998702  0.99967    0.99962664\n",
      " 0.99962175 0.99936014 0.99926955 0.9987692  0.9987692  0.9987355\n",
      " 0.9987355  0.9987355  0.9987355  0.9987355  0.9987355  0.9987355\n",
      " 0.9987355  0.9987355 ]\n",
      "[0.9998702  0.99966455 0.99962664 0.99962175 0.99926955 0.99907804\n",
      " 0.99907804 0.9987355  0.9987355  0.9987355  0.9987355  0.9987355\n",
      " 0.9987355  0.9987355  0.9987355  0.9987355  0.9987355  0.9987355\n",
      " 0.9987355  0.9987355 ]\n",
      "[0.9998702  0.99967    0.99962175 0.99955684 0.99936014 0.99936014\n",
      " 0.99924266 0.99907804 0.9987741  0.9987741  0.9987692  0.9987692\n",
      " 0.9987355  0.9987355  0.9987355  0.9987355  0.9987355  0.9987355\n",
      " 0.9987355  0.9987355 ]\n"
     ]
    },
    {
     "name": "stderr",
     "output_type": "stream",
     "text": [
      " 75% |######################################################                  |\r"
     ]
    },
    {
     "name": "stdout",
     "output_type": "stream",
     "text": [
      "[0.9998702  0.99936014 0.99936014 0.99928135 0.9988337  0.99878675\n",
      " 0.9987355  0.9987355  0.9987355  0.9987355  0.9987355  0.9987355\n",
      " 0.9987355  0.9987355  0.9987355  0.9987355  0.9987355  0.9987355\n",
      " 0.9987355  0.9987355 ]\n",
      "[0.99966455 0.99962664 0.99928135 0.99907804 0.9987741  0.9987355\n",
      " 0.9987355  0.9987355  0.9987355  0.9987355  0.9987355  0.9987355\n",
      " 0.9987355  0.9987355  0.9987355  0.9987355  0.9987355  0.9987355\n",
      " 0.9987355  0.9987355 ]\n",
      "[0.9998702  0.9998702  0.99967    0.99955684 0.99928135 0.99926955\n",
      " 0.99907804 0.9988337  0.9987692  0.9987355  0.9987355  0.9987355\n",
      " 0.9987355  0.9987355  0.9987355  0.9987355  0.9987355  0.9987355\n",
      " 0.9987355  0.9987355 ]\n",
      "[0.9998702  0.99967    0.99966455 0.99962175 0.99928135 0.99926955\n",
      " 0.9987692  0.9987355  0.9987355  0.9987355  0.9987355  0.9987355\n",
      " 0.9987355  0.9987355  0.9987355  0.9987355  0.9987355  0.9987355\n",
      " 0.9987355  0.9987355 ]\n",
      "[0.99966455 0.99962175 0.99936014 0.99926955 0.9988337  0.99878675\n",
      " 0.99878675 0.9987692  0.9987355  0.9987355  0.9987355  0.9987355\n",
      " 0.9987355  0.9987355  0.9987355  0.9987355  0.9987355  0.9987355\n",
      " 0.9987355  0.9987355 ]\n",
      "[0.99967    0.99967    0.99955684 0.99928135 0.99928135 0.99907804\n",
      " 0.99907804 0.99878675 0.9987741  0.9987741  0.9987355  0.9987355\n",
      " 0.9987355  0.9987355  0.9987355  0.9987355  0.9987355  0.9987355\n",
      " 0.9987355  0.9987355 ]\n"
     ]
    },
    {
     "name": "stderr",
     "output_type": "stream",
     "text": [
      " 76% |######################################################                  |\r"
     ]
    },
    {
     "name": "stdout",
     "output_type": "stream",
     "text": [
      "[0.99955684 0.99955684 0.99928135 0.99907804 0.9988337  0.9988337\n",
      " 0.9988337  0.9987692  0.9987355  0.9987355  0.9987355  0.9987355\n",
      " 0.9987355  0.9987355  0.9987355  0.9987355  0.9987355  0.9987355\n",
      " 0.9987355  0.9987355 ]\n",
      "[0.9998702  0.99962175 0.99924266 0.9987741  0.9987692  0.9987355\n",
      " 0.9987355  0.9987355  0.9987355  0.9987355  0.9987355  0.9987355\n",
      " 0.9987355  0.9987355  0.9987355  0.9987355  0.9987355  0.9987355\n",
      " 0.9987355  0.9987355 ]\n",
      "[0.9998702  0.99967    0.99966455 0.99962664 0.99928135 0.99907804\n",
      " 0.9988337  0.9988337  0.9987741  0.9987741  0.9987741  0.9987355\n",
      " 0.9987355  0.9987355  0.9987355  0.9987355  0.9987355  0.9987355\n",
      " 0.9987355  0.9987355 ]\n",
      "[0.99967    0.99966455 0.99962664 0.99955684 0.99955684 0.99936014\n",
      " 0.99928135 0.99924266 0.99907804 0.99907804 0.99878675 0.99878675\n",
      " 0.9987355  0.9987355  0.9987355  0.9987355  0.9987355  0.9987355\n",
      " 0.9987355  0.9987355 ]\n",
      "[0.9998702  0.99962664 0.99962664 0.99962175 0.99962175 0.99928135\n",
      " 0.99928135 0.99928135 0.9988337  0.9988337  0.9987692  0.9987355\n",
      " 0.9987355  0.9987355  0.9987355  0.9987355  0.9987355  0.9987355\n",
      " 0.9987355  0.9987355 ]\n",
      "[0.99955684 0.99928135 0.99924266 0.99924266 0.9988337  0.99878675\n",
      " 0.9987355  0.9987355  0.9987355  0.9987355  0.9987355  0.9987355\n",
      " 0.9987355  0.9987355  0.9987355  0.9987355  0.9987355  0.9987355\n",
      " 0.9987355  0.9987355 ]\n"
     ]
    },
    {
     "name": "stderr",
     "output_type": "stream",
     "text": [
      " 77% |#######################################################                 |\r"
     ]
    },
    {
     "name": "stdout",
     "output_type": "stream",
     "text": [
      "[0.99966455 0.99962664 0.99962664 0.99955684 0.9987741  0.9987741\n",
      " 0.9987692  0.9987355  0.9987355  0.9987355  0.9987355  0.9987355\n",
      " 0.9987355  0.9987355  0.9987355  0.9987355  0.9987355  0.9987355\n",
      " 0.9987355  0.9987355 ]\n",
      "[0.99967    0.99962664 0.99962175 0.99928135 0.99926955 0.9987355\n",
      " 0.9987355  0.9987355  0.9987355  0.9987355  0.9987355  0.9987355\n",
      " 0.9987355  0.9987355  0.9987355  0.9987355  0.9987355  0.9987355\n",
      " 0.9987355  0.9987355 ]\n",
      "[0.99966455 0.99966455 0.99962664 0.99962175 0.99955684 0.99928135\n",
      " 0.99928135 0.99924266 0.9988337  0.9987741  0.9987692  0.9987355\n",
      " 0.9987355  0.9987355  0.9987355  0.9987355  0.9987355  0.9987355\n",
      " 0.9987355  0.9987355 ]\n"
     ]
    },
    {
     "name": "stderr",
     "output_type": "stream",
     "text": [
      " 78% |########################################################                |\r"
     ]
    },
    {
     "name": "stdout",
     "output_type": "stream",
     "text": [
      "[0.9998702  0.9998702  0.9998702  0.99955684 0.99955684 0.99936014\n",
      " 0.9987741  0.9987741  0.9987692  0.9987355  0.9987355  0.9987355\n",
      " 0.9987355  0.9987355  0.9987355  0.9987355  0.9987355  0.9987355\n",
      " 0.9987355  0.9987355 ]\n",
      "[0.9998702  0.9998702  0.99967    0.99962664 0.99924266 0.99924266\n",
      " 0.99907804 0.9988337  0.9987741  0.9987692  0.9987355  0.9987355\n",
      " 0.9987355  0.9987355  0.9987355  0.9987355  0.9987355  0.9987355\n",
      " 0.9987355  0.9987355 ]\n",
      "[0.99955684 0.99928135 0.99926955 0.99878675 0.99878675 0.9987741\n",
      " 0.9987692  0.9987692  0.9987355  0.9987355  0.9987355  0.9987355\n",
      " 0.9987355  0.9987355  0.9987355  0.9987355  0.9987355  0.9987355\n",
      " 0.9987355  0.9987355 ]\n",
      "[0.99962664 0.99962175 0.99928135 0.99926955 0.9988337  0.9988337\n",
      " 0.99878675 0.9987741  0.9987692  0.9987355  0.9987355  0.9987355\n",
      " 0.9987355  0.9987355  0.9987355  0.9987355  0.9987355  0.9987355\n",
      " 0.9987355  0.9987355 ]\n",
      "[0.9998702  0.99967    0.99966455 0.99966455 0.99962664 0.99962175\n",
      " 0.99962175 0.99936014 0.99928135 0.99928135 0.99878675 0.9987741\n",
      " 0.9987355  0.9987355  0.9987355  0.9987355  0.9987355  0.9987355\n",
      " 0.9987355  0.9987355 ]\n",
      "[0.9998702  0.99967    0.99962175 0.99926955 0.99878675 0.9987692\n",
      " 0.9987355  0.9987355  0.9987355  0.9987355  0.9987355  0.9987355\n",
      " 0.9987355  0.9987355  0.9987355  0.9987355  0.9987355  0.9987355\n",
      " 0.9987355  0.9987355 ]\n"
     ]
    },
    {
     "name": "stderr",
     "output_type": "stream",
     "text": [
      " 79% |########################################################                |\r"
     ]
    },
    {
     "name": "stdout",
     "output_type": "stream",
     "text": [
      "[0.9998702  0.99962664 0.99962664 0.99924266 0.9988337  0.99878675\n",
      " 0.9987741  0.9987355  0.9987355  0.9987355  0.9987355  0.9987355\n",
      " 0.9987355  0.9987355  0.9987355  0.9987355  0.9987355  0.9987355\n",
      " 0.9987355  0.9987355 ]\n",
      "[0.99962175 0.9987741  0.9987692  0.9987355  0.9987355  0.9987355\n",
      " 0.9987355  0.9987355  0.9987355  0.9987355  0.9987355  0.9987355\n",
      " 0.9987355  0.9987355  0.9987355  0.9987355  0.9987355  0.9987355\n",
      " 0.9987355  0.9987355 ]\n",
      "[0.99966455 0.99966455 0.99966455 0.99962664 0.99962175 0.99936014\n",
      " 0.99928135 0.99926955 0.9987355  0.9987355  0.9987355  0.9987355\n",
      " 0.9987355  0.9987355  0.9987355  0.9987355  0.9987355  0.9987355\n",
      " 0.9987355  0.9987355 ]\n"
     ]
    },
    {
     "name": "stderr",
     "output_type": "stream",
     "text": [
      " 80% |#########################################################               |\r"
     ]
    },
    {
     "name": "stdout",
     "output_type": "stream",
     "text": [
      "[0.9998702  0.99924266 0.99878675 0.99878675 0.9987355  0.9987355\n",
      " 0.9987355  0.9987355  0.9987355  0.9987355  0.9987355  0.9987355\n",
      " 0.9987355  0.9987355  0.9987355  0.9987355  0.9987355  0.9987355\n",
      " 0.9987355  0.9987355 ]\n",
      "[0.99967    0.99966455 0.99926955 0.99907804 0.99878675 0.9987741\n",
      " 0.9987355  0.9987355  0.9987355  0.9987355  0.9987355  0.9987355\n",
      " 0.9987355  0.9987355  0.9987355  0.9987355  0.9987355  0.9987355\n",
      " 0.9987355  0.9987355 ]\n",
      "[0.99967    0.99962664 0.99936014 0.99928135 0.99907804 0.9988337\n",
      " 0.9987741  0.9987692  0.9987355  0.9987355  0.9987355  0.9987355\n",
      " 0.9987355  0.9987355  0.9987355  0.9987355  0.9987355  0.9987355\n",
      " 0.9987355  0.9987355 ]\n",
      "[0.99966455 0.99928135 0.9987692  0.9987692  0.9987692  0.9987355\n",
      " 0.9987355  0.9987355  0.9987355  0.9987355  0.9987355  0.9987355\n",
      " 0.9987355  0.9987355  0.9987355  0.9987355  0.9987355  0.9987355\n",
      " 0.9987355  0.9987355 ]\n",
      "[0.99962664 0.99962175 0.99955684 0.99928135 0.99928135 0.99926955\n",
      " 0.99907804 0.9988337  0.9987355  0.9987355  0.9987355  0.9987355\n",
      " 0.9987355  0.9987355  0.9987355  0.9987355  0.9987355  0.9987355\n",
      " 0.9987355  0.9987355 ]\n",
      "[0.99967    0.99962664 0.99955684 0.99926955 0.99924266 0.99924266\n",
      " 0.9987741  0.9987741  0.9987741  0.9987355  0.9987355  0.9987355\n",
      " 0.9987355  0.9987355  0.9987355  0.9987355  0.9987355  0.9987355\n",
      " 0.9987355  0.9987355 ]\n",
      "[0.99962664 0.99962664 0.99962175 0.99955684 0.99928135 0.99924266\n",
      " 0.9988337  0.9987355  0.9987355  0.9987355  0.9987355  0.9987355\n",
      " 0.9987355  0.9987355  0.9987355  0.9987355  0.9987355  0.9987355\n",
      " 0.9987355  0.9987355 ]\n"
     ]
    },
    {
     "name": "stderr",
     "output_type": "stream",
     "text": [
      " 81% |##########################################################              |\r"
     ]
    },
    {
     "name": "stdout",
     "output_type": "stream",
     "text": [
      "[0.99967    0.99966455 0.99962664 0.99924266 0.99907804 0.9988337\n",
      " 0.99878675 0.9987692  0.9987355  0.9987355  0.9987355  0.9987355\n",
      " 0.9987355  0.9987355  0.9987355  0.9987355  0.9987355  0.9987355\n",
      " 0.9987355  0.9987355 ]\n",
      "[0.9998702  0.99966455 0.99962664 0.99962175 0.99962175 0.99936014\n",
      " 0.99924266 0.99924266 0.9988337  0.99878675 0.9987741  0.9987692\n",
      " 0.9987355  0.9987355  0.9987355  0.9987355  0.9987355  0.9987355\n",
      " 0.9987355  0.9987355 ]\n",
      "[0.9998702  0.99966455 0.99955684 0.9988337  0.9987692  0.9987355\n",
      " 0.9987355  0.9987355  0.9987355  0.9987355  0.9987355  0.9987355\n",
      " 0.9987355  0.9987355  0.9987355  0.9987355  0.9987355  0.9987355\n",
      " 0.9987355  0.9987355 ]\n",
      "[0.9998702  0.99962664 0.99962175 0.99924266 0.99907804 0.9988337\n",
      " 0.9987741  0.9987355  0.9987355  0.9987355  0.9987355  0.9987355\n",
      " 0.9987355  0.9987355  0.9987355  0.9987355  0.9987355  0.9987355\n",
      " 0.9987355  0.9987355 ]\n",
      "[0.99962664 0.99955684 0.99936014 0.99926955 0.99926955 0.99924266\n",
      " 0.9987355  0.9987355  0.9987355  0.9987355  0.9987355  0.9987355\n",
      " 0.9987355  0.9987355  0.9987355  0.9987355  0.9987355  0.9987355\n",
      " 0.9987355  0.9987355 ]\n",
      "[0.99966455 0.99962664 0.99936014 0.99936014 0.99926955 0.9988337\n",
      " 0.9987741  0.9987741  0.9987355  0.9987355  0.9987355  0.9987355\n",
      " 0.9987355  0.9987355  0.9987355  0.9987355  0.9987355  0.9987355\n",
      " 0.9987355  0.9987355 ]\n"
     ]
    },
    {
     "name": "stderr",
     "output_type": "stream",
     "text": [
      " 82% |###########################################################             |\r"
     ]
    },
    {
     "name": "stdout",
     "output_type": "stream",
     "text": [
      "[0.9998702  0.99967    0.99967    0.99967    0.99955684 0.99936014\n",
      " 0.99928135 0.99907804 0.99878675 0.9987692  0.9987692  0.9987355\n",
      " 0.9987355  0.9987355  0.9987355  0.9987355  0.9987355  0.9987355\n",
      " 0.9987355  0.9987355 ]\n",
      "[0.99955684 0.99955684 0.99928135 0.99924266 0.9988337  0.99878675\n",
      " 0.9987741  0.9987741  0.9987692  0.9987692  0.9987355  0.9987355\n",
      " 0.9987355  0.9987355  0.9987355  0.9987355  0.9987355  0.9987355\n",
      " 0.9987355  0.9987355 ]\n",
      "[0.99966455 0.99966455 0.99936014 0.99936014 0.99936014 0.99936014\n",
      " 0.99926955 0.99926955 0.99924266 0.99878675 0.99878675 0.9987741\n",
      " 0.9987741  0.9987355  0.9987355  0.9987355  0.9987355  0.9987355\n",
      " 0.9987355  0.9987355 ]\n"
     ]
    },
    {
     "name": "stderr",
     "output_type": "stream",
     "text": [
      " 83% |###########################################################             |\r"
     ]
    },
    {
     "name": "stdout",
     "output_type": "stream",
     "text": [
      "[0.9998702  0.99967    0.99966455 0.99962664 0.99962664 0.99962175\n",
      " 0.99924266 0.99907804 0.9988337  0.9988337  0.99878675 0.9987741\n",
      " 0.9987355  0.9987355  0.9987355  0.9987355  0.9987355  0.9987355\n",
      " 0.9987355  0.9987355 ]\n",
      "[0.9998702  0.9998702  0.9998702  0.99967    0.99966455 0.99962175\n",
      " 0.99955684 0.99955684 0.99955684 0.99936014 0.99928135 0.99928135\n",
      " 0.99926955 0.99924266 0.99907804 0.99878675 0.9987692  0.9987692\n",
      " 0.9987692  0.9987355 ]\n",
      "[0.99967    0.99966455 0.99962175 0.99955684 0.99936014 0.99926955\n",
      " 0.99924266 0.99924266 0.99907804 0.99878675 0.9987355  0.9987355\n",
      " 0.9987355  0.9987355  0.9987355  0.9987355  0.9987355  0.9987355\n",
      " 0.9987355  0.9987355 ]\n",
      "[0.99967    0.99936014 0.99928135 0.99926955 0.99926955 0.9988337\n",
      " 0.9988337  0.9987355  0.9987355  0.9987355  0.9987355  0.9987355\n",
      " 0.9987355  0.9987355  0.9987355  0.9987355  0.9987355  0.9987355\n",
      " 0.9987355  0.9987355 ]\n",
      "[0.99967    0.99966455 0.99966455 0.99962175 0.99955684 0.99936014\n",
      " 0.99928135 0.99907804 0.9988337  0.9988337  0.99878675 0.9987741\n",
      " 0.9987741  0.9987355  0.9987355  0.9987355  0.9987355  0.9987355\n",
      " 0.9987355  0.9987355 ]\n",
      "[0.9998702  0.99967    0.99967    0.99966455 0.99955684 0.99907804\n",
      " 0.99907804 0.9988337  0.99878675 0.99878675 0.99878675 0.9987692\n",
      " 0.9987692  0.9987355  0.9987355  0.9987355  0.9987355  0.9987355\n",
      " 0.9987355  0.9987355 ]\n"
     ]
    },
    {
     "name": "stderr",
     "output_type": "stream",
     "text": [
      " 84% |############################################################            |\r"
     ]
    },
    {
     "name": "stdout",
     "output_type": "stream",
     "text": [
      "[0.99967    0.99966455 0.99955684 0.99955684 0.99955684 0.99926955\n",
      " 0.99907804 0.99878675 0.99878675 0.9987355  0.9987355  0.9987355\n",
      " 0.9987355  0.9987355  0.9987355  0.9987355  0.9987355  0.9987355\n",
      " 0.9987355  0.9987355 ]\n",
      "[0.9998702  0.99967    0.99936014 0.99926955 0.99907804 0.9987355\n",
      " 0.9987355  0.9987355  0.9987355  0.9987355  0.9987355  0.9987355\n",
      " 0.9987355  0.9987355  0.9987355  0.9987355  0.9987355  0.9987355\n",
      " 0.9987355  0.9987355 ]\n",
      "[0.9998702  0.9998702  0.9998702  0.99967    0.99966455 0.99966455\n",
      " 0.99962175 0.99955684 0.99936014 0.99928135 0.99928135 0.99926955\n",
      " 0.99907804 0.99907804 0.9988337  0.9988337  0.99878675 0.9987692\n",
      " 0.9987355  0.9987355 ]\n",
      "[0.9998702  0.99967    0.99962664 0.99955684 0.99928135 0.99928135\n",
      " 0.99926955 0.99926955 0.99907804 0.9987741  0.9987692  0.9987355\n",
      " 0.9987355  0.9987355  0.9987355  0.9987355  0.9987355  0.9987355\n",
      " 0.9987355  0.9987355 ]\n",
      "[0.99967    0.99962175 0.99955684 0.99955684 0.99928135 0.99924266\n",
      " 0.9987355  0.9987355  0.9987355  0.9987355  0.9987355  0.9987355\n",
      " 0.9987355  0.9987355  0.9987355  0.9987355  0.9987355  0.9987355\n",
      " 0.9987355  0.9987355 ]\n",
      "[0.99967    0.99966455 0.99966455 0.99962664 0.99962664 0.99926955\n",
      " 0.99907804 0.9988337  0.99878675 0.9987741  0.9987741  0.9987355\n",
      " 0.9987355  0.9987355  0.9987355  0.9987355  0.9987355  0.9987355\n",
      " 0.9987355  0.9987355 ]\n"
     ]
    },
    {
     "name": "stderr",
     "output_type": "stream",
     "text": [
      " 85% |#############################################################           |\r"
     ]
    },
    {
     "name": "stdout",
     "output_type": "stream",
     "text": [
      "[0.99962175 0.99924266 0.9988337  0.9988337  0.99878675 0.9987355\n",
      " 0.9987355  0.9987355  0.9987355  0.9987355  0.9987355  0.9987355\n",
      " 0.9987355  0.9987355  0.9987355  0.9987355  0.9987355  0.9987355\n",
      " 0.9987355  0.9987355 ]\n",
      "[0.9998702  0.99967    0.99955684 0.99928135 0.99926955 0.99926955\n",
      " 0.99926955 0.99924266 0.99907804 0.9987355  0.9987355  0.9987355\n",
      " 0.9987355  0.9987355  0.9987355  0.9987355  0.9987355  0.9987355\n",
      " 0.9987355  0.9987355 ]\n",
      "[0.9998702  0.99962175 0.99962175 0.99955684 0.99936014 0.99928135\n",
      " 0.99928135 0.99928135 0.99928135 0.99926955 0.99926955 0.99924266\n",
      " 0.99924266 0.9987355  0.9987355  0.9987355  0.9987355  0.9987355\n",
      " 0.9987355  0.9987355 ]\n"
     ]
    },
    {
     "name": "stderr",
     "output_type": "stream",
     "text": [
      " 86% |#############################################################           |\r"
     ]
    },
    {
     "name": "stdout",
     "output_type": "stream",
     "text": [
      "[0.99967    0.99967    0.99962175 0.99955684 0.99955684 0.99936014\n",
      " 0.99928135 0.99924266 0.99924266 0.99907804 0.9988337  0.9987692\n",
      " 0.9987692  0.9987355  0.9987355  0.9987355  0.9987355  0.9987355\n",
      " 0.9987355  0.9987355 ]\n",
      "[0.9998702  0.99966455 0.99966455 0.99962175 0.99936014 0.99907804\n",
      " 0.99907804 0.9987355  0.9987355  0.9987355  0.9987355  0.9987355\n",
      " 0.9987355  0.9987355  0.9987355  0.9987355  0.9987355  0.9987355\n",
      " 0.9987355  0.9987355 ]\n",
      "[0.9998702  0.9998702  0.99962664 0.99962664 0.99962175 0.99936014\n",
      " 0.99936014 0.99924266 0.99924266 0.9988337  0.9987741  0.9987355\n",
      " 0.9987355  0.9987355  0.9987355  0.9987355  0.9987355  0.9987355\n",
      " 0.9987355  0.9987355 ]\n",
      "[0.99967    0.99962175 0.99955684 0.99924266 0.9988337  0.99878675\n",
      " 0.9987355  0.9987355  0.9987355  0.9987355  0.9987355  0.9987355\n",
      " 0.9987355  0.9987355  0.9987355  0.9987355  0.9987355  0.9987355\n",
      " 0.9987355  0.9987355 ]\n",
      "[0.9998702  0.99966455 0.99966455 0.99966455 0.99966455 0.99962175\n",
      " 0.99955684 0.99926955 0.99907804 0.99878675 0.9987741  0.9987741\n",
      " 0.9987741  0.9987355  0.9987355  0.9987355  0.9987355  0.9987355\n",
      " 0.9987355  0.9987355 ]\n",
      "[0.99962175 0.99936014 0.99926955 0.9988337  0.9987355  0.9987355\n",
      " 0.9987355  0.9987355  0.9987355  0.9987355  0.9987355  0.9987355\n",
      " 0.9987355  0.9987355  0.9987355  0.9987355  0.9987355  0.9987355\n",
      " 0.9987355  0.9987355 ]\n"
     ]
    },
    {
     "name": "stderr",
     "output_type": "stream",
     "text": [
      " 87% |##############################################################          |\r"
     ]
    },
    {
     "name": "stdout",
     "output_type": "stream",
     "text": [
      "[0.99967    0.99962175 0.99936014 0.99936014 0.9987355  0.9987355\n",
      " 0.9987355  0.9987355  0.9987355  0.9987355  0.9987355  0.9987355\n",
      " 0.9987355  0.9987355  0.9987355  0.9987355  0.9987355  0.9987355\n",
      " 0.9987355  0.9987355 ]\n",
      "[0.9998702  0.99966455 0.99962664 0.99962175 0.99955684 0.99936014\n",
      " 0.99928135 0.99926955 0.99926955 0.9988337  0.99878675 0.9987355\n",
      " 0.9987355  0.9987355  0.9987355  0.9987355  0.9987355  0.9987355\n",
      " 0.9987355  0.9987355 ]\n",
      "[0.99966455 0.99962664 0.99962664 0.99955684 0.99955684 0.99926955\n",
      " 0.99878675 0.99878675 0.9987355  0.9987355  0.9987355  0.9987355\n",
      " 0.9987355  0.9987355  0.9987355  0.9987355  0.9987355  0.9987355\n",
      " 0.9987355  0.9987355 ]\n",
      "[0.9998702  0.99967    0.99966455 0.99962664 0.99955684 0.99907804\n",
      " 0.99907804 0.99907804 0.99878675 0.9987741  0.9987355  0.9987355\n",
      " 0.9987355  0.9987355  0.9987355  0.9987355  0.9987355  0.9987355\n",
      " 0.9987355  0.9987355 ]\n",
      "[0.9998702  0.99967    0.99966455 0.99955684 0.99936014 0.99928135\n",
      " 0.9988337  0.9987741  0.9987692  0.9987355  0.9987355  0.9987355\n",
      " 0.9987355  0.9987355  0.9987355  0.9987355  0.9987355  0.9987355\n",
      " 0.9987355  0.9987355 ]\n",
      "[0.9998702  0.99966455 0.99962175 0.99936014 0.99907804 0.99878675\n",
      " 0.9987741  0.9987355  0.9987355  0.9987355  0.9987355  0.9987355\n",
      " 0.9987355  0.9987355  0.9987355  0.9987355  0.9987355  0.9987355\n",
      " 0.9987355  0.9987355 ]\n"
     ]
    },
    {
     "name": "stderr",
     "output_type": "stream",
     "text": [
      " 88% |###############################################################         |\r"
     ]
    },
    {
     "name": "stdout",
     "output_type": "stream",
     "text": [
      "[0.9998702  0.9998702  0.99966455 0.99966455 0.99955684 0.99928135\n",
      " 0.9987692  0.9987355  0.9987355  0.9987355  0.9987355  0.9987355\n",
      " 0.9987355  0.9987355  0.9987355  0.9987355  0.9987355  0.9987355\n",
      " 0.9987355  0.9987355 ]\n",
      "[0.99962664 0.99962664 0.99962175 0.99907804 0.99907804 0.99878675\n",
      " 0.99878675 0.9987741  0.9987741  0.9987741  0.9987355  0.9987355\n",
      " 0.9987355  0.9987355  0.9987355  0.9987355  0.9987355  0.9987355\n",
      " 0.9987355  0.9987355 ]\n",
      "[0.99962175 0.99936014 0.99936014 0.99928135 0.99926955 0.9988337\n",
      " 0.9987355  0.9987355  0.9987355  0.9987355  0.9987355  0.9987355\n",
      " 0.9987355  0.9987355  0.9987355  0.9987355  0.9987355  0.9987355\n",
      " 0.9987355  0.9987355 ]\n"
     ]
    },
    {
     "name": "stderr",
     "output_type": "stream",
     "text": [
      " 89% |################################################################        |\r"
     ]
    },
    {
     "name": "stdout",
     "output_type": "stream",
     "text": [
      "[0.9998702  0.99967    0.99966455 0.99936014 0.99936014 0.99936014\n",
      " 0.99924266 0.99924266 0.99924266 0.99907804 0.9988337  0.9988337\n",
      " 0.99878675 0.99878675 0.9987741  0.9987741  0.9987692  0.9987355\n",
      " 0.9987355  0.9987355 ]\n",
      "[0.99955684 0.99928135 0.99924266 0.99924266 0.9987741  0.9987692\n",
      " 0.9987355  0.9987355  0.9987355  0.9987355  0.9987355  0.9987355\n",
      " 0.9987355  0.9987355  0.9987355  0.9987355  0.9987355  0.9987355\n",
      " 0.9987355  0.9987355 ]\n",
      "[0.9998702  0.99967    0.99967    0.99962664 0.99936014 0.99928135\n",
      " 0.99924266 0.9988337  0.9988337  0.9987355  0.9987355  0.9987355\n",
      " 0.9987355  0.9987355  0.9987355  0.9987355  0.9987355  0.9987355\n",
      " 0.9987355  0.9987355 ]\n",
      "[0.99967    0.99962664 0.99962175 0.99936014 0.9988337  0.9987355\n",
      " 0.9987355  0.9987355  0.9987355  0.9987355  0.9987355  0.9987355\n",
      " 0.9987355  0.9987355  0.9987355  0.9987355  0.9987355  0.9987355\n",
      " 0.9987355  0.9987355 ]\n",
      "[0.99967   0.9988337 0.9988337 0.9988337 0.9987355 0.9987355 0.9987355\n",
      " 0.9987355 0.9987355 0.9987355 0.9987355 0.9987355 0.9987355 0.9987355\n",
      " 0.9987355 0.9987355 0.9987355 0.9987355 0.9987355 0.9987355]\n",
      "[0.9998702  0.99967    0.99966455 0.99955684 0.99907804 0.9987741\n",
      " 0.9987355  0.9987355  0.9987355  0.9987355  0.9987355  0.9987355\n",
      " 0.9987355  0.9987355  0.9987355  0.9987355  0.9987355  0.9987355\n",
      " 0.9987355  0.9987355 ]\n"
     ]
    },
    {
     "name": "stderr",
     "output_type": "stream",
     "text": [
      " 90% |################################################################        |\r"
     ]
    },
    {
     "name": "stdout",
     "output_type": "stream",
     "text": [
      "[0.99955684 0.99955684 0.99936014 0.99926955 0.9988337  0.99878675\n",
      " 0.9987692  0.9987355  0.9987355  0.9987355  0.9987355  0.9987355\n",
      " 0.9987355  0.9987355  0.9987355  0.9987355  0.9987355  0.9987355\n",
      " 0.9987355  0.9987355 ]\n",
      "[0.9998702  0.99967    0.99962664 0.99962175 0.99936014 0.9988337\n",
      " 0.99878675 0.9987692  0.9987355  0.9987355  0.9987355  0.9987355\n",
      " 0.9987355  0.9987355  0.9987355  0.9987355  0.9987355  0.9987355\n",
      " 0.9987355  0.9987355 ]\n",
      "[0.99962175 0.9987692  0.9987355  0.9987355  0.9987355  0.9987355\n",
      " 0.9987355  0.9987355  0.9987355  0.9987355  0.9987355  0.9987355\n",
      " 0.9987355  0.9987355  0.9987355  0.9987355  0.9987355  0.9987355\n",
      " 0.9987355  0.9987355 ]\n",
      "[0.99967    0.99955684 0.99936014 0.99926955 0.99924266 0.99878675\n",
      " 0.99878675 0.9987692  0.9987355  0.9987355  0.9987355  0.9987355\n",
      " 0.9987355  0.9987355  0.9987355  0.9987355  0.9987355  0.9987355\n",
      " 0.9987355  0.9987355 ]\n",
      "[0.99967    0.99966455 0.99924266 0.99907804 0.9988337  0.9987355\n",
      " 0.9987355  0.9987355  0.9987355  0.9987355  0.9987355  0.9987355\n",
      " 0.9987355  0.9987355  0.9987355  0.9987355  0.9987355  0.9987355\n",
      " 0.9987355  0.9987355 ]\n",
      "[0.9998702  0.99967    0.99962175 0.99962175 0.99955684 0.99928135\n",
      " 0.99924266 0.99907804 0.99878675 0.9987741  0.9987692  0.9987692\n",
      " 0.9987355  0.9987355  0.9987355  0.9987355  0.9987355  0.9987355\n",
      " 0.9987355  0.9987355 ]\n"
     ]
    },
    {
     "name": "stderr",
     "output_type": "stream",
     "text": [
      " 91% |#################################################################       |\r"
     ]
    },
    {
     "name": "stdout",
     "output_type": "stream",
     "text": [
      "[0.9998702  0.99967    0.99967    0.99967    0.99955684 0.9987355\n",
      " 0.9987355  0.9987355  0.9987355  0.9987355  0.9987355  0.9987355\n",
      " 0.9987355  0.9987355  0.9987355  0.9987355  0.9987355  0.9987355\n",
      " 0.9987355  0.9987355 ]\n",
      "[0.99967    0.99962664 0.99962175 0.99962175 0.99878675 0.9987355\n",
      " 0.9987355  0.9987355  0.9987355  0.9987355  0.9987355  0.9987355\n",
      " 0.9987355  0.9987355  0.9987355  0.9987355  0.9987355  0.9987355\n",
      " 0.9987355  0.9987355 ]\n",
      "[0.99962175 0.99962175 0.99926955 0.99926955 0.99926955 0.9987741\n",
      " 0.9987692  0.9987355  0.9987355  0.9987355  0.9987355  0.9987355\n",
      " 0.9987355  0.9987355  0.9987355  0.9987355  0.9987355  0.9987355\n",
      " 0.9987355  0.9987355 ]\n"
     ]
    },
    {
     "name": "stderr",
     "output_type": "stream",
     "text": [
      " 92% |##################################################################      |\r"
     ]
    },
    {
     "name": "stdout",
     "output_type": "stream",
     "text": [
      "[0.99955684 0.99926955 0.9988337  0.9987741  0.9987741  0.9987692\n",
      " 0.9987355  0.9987355  0.9987355  0.9987355  0.9987355  0.9987355\n",
      " 0.9987355  0.9987355  0.9987355  0.9987355  0.9987355  0.9987355\n",
      " 0.9987355  0.9987355 ]\n",
      "[0.9998702  0.99967    0.99936014 0.99936014 0.99926955 0.99926955\n",
      " 0.99878675 0.9987355  0.9987355  0.9987355  0.9987355  0.9987355\n",
      " 0.9987355  0.9987355  0.9987355  0.9987355  0.9987355  0.9987355\n",
      " 0.9987355  0.9987355 ]\n",
      "[0.9998702  0.9998702  0.99967    0.99962664 0.99962175 0.99924266\n",
      " 0.99924266 0.99878675 0.9987355  0.9987355  0.9987355  0.9987355\n",
      " 0.9987355  0.9987355  0.9987355  0.9987355  0.9987355  0.9987355\n",
      " 0.9987355  0.9987355 ]\n",
      "[0.99967    0.99967    0.99966455 0.99962664 0.99955684 0.99907804\n",
      " 0.99907804 0.99878675 0.9987741  0.9987692  0.9987355  0.9987355\n",
      " 0.9987355  0.9987355  0.9987355  0.9987355  0.9987355  0.9987355\n",
      " 0.9987355  0.9987355 ]\n",
      "[0.9998702  0.99967    0.99928135 0.99878675 0.9987741  0.9987355\n",
      " 0.9987355  0.9987355  0.9987355  0.9987355  0.9987355  0.9987355\n",
      " 0.9987355  0.9987355  0.9987355  0.9987355  0.9987355  0.9987355\n",
      " 0.9987355  0.9987355 ]\n",
      "[0.9998702  0.99967    0.99926955 0.9988337  0.9987741  0.9987355\n",
      " 0.9987355  0.9987355  0.9987355  0.9987355  0.9987355  0.9987355\n",
      " 0.9987355  0.9987355  0.9987355  0.9987355  0.9987355  0.9987355\n",
      " 0.9987355  0.9987355 ]\n"
     ]
    },
    {
     "name": "stderr",
     "output_type": "stream",
     "text": [
      " 93% |##################################################################      |\r"
     ]
    },
    {
     "name": "stdout",
     "output_type": "stream",
     "text": [
      "[0.99967    0.99967    0.99962664 0.99936014 0.99907804 0.9987741\n",
      " 0.9987741  0.9987355  0.9987355  0.9987355  0.9987355  0.9987355\n",
      " 0.9987355  0.9987355  0.9987355  0.9987355  0.9987355  0.9987355\n",
      " 0.9987355  0.9987355 ]\n",
      "[0.9998702  0.99966455 0.99962175 0.99955684 0.99926955 0.99878675\n",
      " 0.99878675 0.9987741  0.9987692  0.9987692  0.9987692  0.9987355\n",
      " 0.9987355  0.9987355  0.9987355  0.9987355  0.9987355  0.9987355\n",
      " 0.9987355  0.9987355 ]\n",
      "[0.99967    0.99967    0.99967    0.99962664 0.99955684 0.99955684\n",
      " 0.99955684 0.99936014 0.99928135 0.99928135 0.99907804 0.99878675\n",
      " 0.9987355  0.9987355  0.9987355  0.9987355  0.9987355  0.9987355\n",
      " 0.9987355  0.9987355 ]\n",
      "[0.99966455 0.99962664 0.99962175 0.99926955 0.9987355  0.9987355\n",
      " 0.9987355  0.9987355  0.9987355  0.9987355  0.9987355  0.9987355\n",
      " 0.9987355  0.9987355  0.9987355  0.9987355  0.9987355  0.9987355\n",
      " 0.9987355  0.9987355 ]\n",
      "[0.99955684 0.99936014 0.99928135 0.99907804 0.99878675 0.99878675\n",
      " 0.9987355  0.9987355  0.9987355  0.9987355  0.9987355  0.9987355\n",
      " 0.9987355  0.9987355  0.9987355  0.9987355  0.9987355  0.9987355\n",
      " 0.9987355  0.9987355 ]\n"
     ]
    },
    {
     "name": "stderr",
     "output_type": "stream",
     "text": [
      " 94% |###################################################################     |\r"
     ]
    },
    {
     "name": "stdout",
     "output_type": "stream",
     "text": [
      "[0.9998702  0.99966455 0.99955684 0.99924266 0.99924266 0.99924266\n",
      " 0.9988337  0.9988337  0.9987692  0.9987355  0.9987355  0.9987355\n",
      " 0.9987355  0.9987355  0.9987355  0.9987355  0.9987355  0.9987355\n",
      " 0.9987355  0.9987355 ]\n",
      "[0.9998702  0.99966455 0.99962664 0.99962175 0.99955684 0.9988337\n",
      " 0.9987692  0.9987355  0.9987355  0.9987355  0.9987355  0.9987355\n",
      " 0.9987355  0.9987355  0.9987355  0.9987355  0.9987355  0.9987355\n",
      " 0.9987355  0.9987355 ]\n",
      "[0.9998702  0.99967    0.99966455 0.99962664 0.99936014 0.99928135\n",
      " 0.9988337  0.9987741  0.9987355  0.9987355  0.9987355  0.9987355\n",
      " 0.9987355  0.9987355  0.9987355  0.9987355  0.9987355  0.9987355\n",
      " 0.9987355  0.9987355 ]\n",
      "[0.99966455 0.99962664 0.99955684 0.99955684 0.99936014 0.99924266\n",
      " 0.99924266 0.99907804 0.99907804 0.99878675 0.9987741  0.9987355\n",
      " 0.9987355  0.9987355  0.9987355  0.9987355  0.9987355  0.9987355\n",
      " 0.9987355  0.9987355 ]\n",
      "[0.9998702  0.99962664 0.99907804 0.9987355  0.9987355  0.9987355\n",
      " 0.9987355  0.9987355  0.9987355  0.9987355  0.9987355  0.9987355\n",
      " 0.9987355  0.9987355  0.9987355  0.9987355  0.9987355  0.9987355\n",
      " 0.9987355  0.9987355 ]\n",
      "[0.99962175 0.99962175 0.99878675 0.9987741  0.9987741  0.9987355\n",
      " 0.9987355  0.9987355  0.9987355  0.9987355  0.9987355  0.9987355\n",
      " 0.9987355  0.9987355  0.9987355  0.9987355  0.9987355  0.9987355\n",
      " 0.9987355  0.9987355 ]\n"
     ]
    },
    {
     "name": "stderr",
     "output_type": "stream",
     "text": [
      " 95% |####################################################################    |\r"
     ]
    },
    {
     "name": "stdout",
     "output_type": "stream",
     "text": [
      "[0.99966455 0.99962664 0.99962664 0.99928135 0.99926955 0.9988337\n",
      " 0.9987692  0.9987692  0.9987355  0.9987355  0.9987355  0.9987355\n",
      " 0.9987355  0.9987355  0.9987355  0.9987355  0.9987355  0.9987355\n",
      " 0.9987355  0.9987355 ]\n",
      "[0.9998702  0.99962175 0.99962175 0.99955684 0.99928135 0.99928135\n",
      " 0.99907804 0.99878675 0.9987692  0.9987355  0.9987355  0.9987355\n",
      " 0.9987355  0.9987355  0.9987355  0.9987355  0.9987355  0.9987355\n",
      " 0.9987355  0.9987355 ]\n",
      "[0.99966455 0.99926955 0.99924266 0.9988337  0.9987741  0.9987741\n",
      " 0.9987741  0.9987741  0.9987355  0.9987355  0.9987355  0.9987355\n",
      " 0.9987355  0.9987355  0.9987355  0.9987355  0.9987355  0.9987355\n",
      " 0.9987355  0.9987355 ]\n"
     ]
    },
    {
     "name": "stderr",
     "output_type": "stream",
     "text": [
      " 96% |#####################################################################   |\r"
     ]
    },
    {
     "name": "stdout",
     "output_type": "stream",
     "text": [
      "[0.99966455 0.99907804 0.99878675 0.9987355  0.9987355  0.9987355\n",
      " 0.9987355  0.9987355  0.9987355  0.9987355  0.9987355  0.9987355\n",
      " 0.9987355  0.9987355  0.9987355  0.9987355  0.9987355  0.9987355\n",
      " 0.9987355  0.9987355 ]\n",
      "[0.9998702  0.99962175 0.99936014 0.99924266 0.99924266 0.9987741\n",
      " 0.9987692  0.9987355  0.9987355  0.9987355  0.9987355  0.9987355\n",
      " 0.9987355  0.9987355  0.9987355  0.9987355  0.9987355  0.9987355\n",
      " 0.9987355  0.9987355 ]\n",
      "[0.99924266 0.99924266 0.99907804 0.99878675 0.99878675 0.9987355\n",
      " 0.9987355  0.9987355  0.9987355  0.9987355  0.9987355  0.9987355\n",
      " 0.9987355  0.9987355  0.9987355  0.9987355  0.9987355  0.9987355\n",
      " 0.9987355  0.9987355 ]\n",
      "[0.99967    0.99962664 0.99962175 0.99928135 0.99907804 0.9987741\n",
      " 0.9987355  0.9987355  0.9987355  0.9987355  0.9987355  0.9987355\n",
      " 0.9987355  0.9987355  0.9987355  0.9987355  0.9987355  0.9987355\n",
      " 0.9987355  0.9987355 ]\n",
      "[0.9998702  0.99907804 0.99907804 0.9987355  0.9987355  0.9987355\n",
      " 0.9987355  0.9987355  0.9987355  0.9987355  0.9987355  0.9987355\n",
      " 0.9987355  0.9987355  0.9987355  0.9987355  0.9987355  0.9987355\n",
      " 0.9987355  0.9987355 ]\n",
      "[0.9998702  0.99967    0.99967    0.99962664 0.99924266 0.9987355\n",
      " 0.9987355  0.9987355  0.9987355  0.9987355  0.9987355  0.9987355\n",
      " 0.9987355  0.9987355  0.9987355  0.9987355  0.9987355  0.9987355\n",
      " 0.9987355  0.9987355 ]\n"
     ]
    },
    {
     "name": "stderr",
     "output_type": "stream",
     "text": [
      " 97% |#####################################################################   |\r"
     ]
    },
    {
     "name": "stdout",
     "output_type": "stream",
     "text": [
      "[0.9998702  0.9998702  0.99962175 0.99924266 0.99907804 0.9987355\n",
      " 0.9987355  0.9987355  0.9987355  0.9987355  0.9987355  0.9987355\n",
      " 0.9987355  0.9987355  0.9987355  0.9987355  0.9987355  0.9987355\n",
      " 0.9987355  0.9987355 ]\n",
      "[0.9998702  0.99967    0.99967    0.99967    0.99962664 0.99962175\n",
      " 0.99928135 0.99878675 0.9987355  0.9987355  0.9987355  0.9987355\n",
      " 0.9987355  0.9987355  0.9987355  0.9987355  0.9987355  0.9987355\n",
      " 0.9987355  0.9987355 ]\n",
      "[0.9998702  0.99955684 0.99955684 0.99936014 0.99924266 0.99907804\n",
      " 0.9988337  0.9988337  0.9987692  0.9987355  0.9987355  0.9987355\n",
      " 0.9987355  0.9987355  0.9987355  0.9987355  0.9987355  0.9987355\n",
      " 0.9987355  0.9987355 ]\n",
      "[0.9998702  0.99955684 0.99936014 0.99907804 0.9988337  0.9987355\n",
      " 0.9987355  0.9987355  0.9987355  0.9987355  0.9987355  0.9987355\n",
      " 0.9987355  0.9987355  0.9987355  0.9987355  0.9987355  0.9987355\n",
      " 0.9987355  0.9987355 ]\n",
      "[0.99967    0.99967    0.99966455 0.99962664 0.99928135 0.99878675\n",
      " 0.99878675 0.9987355  0.9987355  0.9987355  0.9987355  0.9987355\n",
      " 0.9987355  0.9987355  0.9987355  0.9987355  0.9987355  0.9987355\n",
      " 0.9987355  0.9987355 ]\n",
      "[0.99962664 0.99962664 0.99962175 0.99936014 0.99924266 0.99924266\n",
      " 0.99924266 0.9988337  0.99878675 0.9987692  0.9987355  0.9987355\n",
      " 0.9987355  0.9987355  0.9987355  0.9987355  0.9987355  0.9987355\n",
      " 0.9987355  0.9987355 ]\n"
     ]
    },
    {
     "name": "stderr",
     "output_type": "stream",
     "text": [
      " 98% |######################################################################  |\r"
     ]
    },
    {
     "name": "stdout",
     "output_type": "stream",
     "text": [
      "[0.99967    0.99928135 0.99907804 0.99878675 0.9987692  0.9987355\n",
      " 0.9987355  0.9987355  0.9987355  0.9987355  0.9987355  0.9987355\n",
      " 0.9987355  0.9987355  0.9987355  0.9987355  0.9987355  0.9987355\n",
      " 0.9987355  0.9987355 ]\n",
      "[0.99966455 0.99962664 0.99962664 0.99955684 0.99928135 0.99928135\n",
      " 0.99924266 0.99907804 0.99907804 0.9987355  0.9987355  0.9987355\n",
      " 0.9987355  0.9987355  0.9987355  0.9987355  0.9987355  0.9987355\n",
      " 0.9987355  0.9987355 ]\n",
      "[0.9998702  0.99962664 0.99962664 0.99936014 0.99928135 0.99924266\n",
      " 0.99924266 0.9987355  0.9987355  0.9987355  0.9987355  0.9987355\n",
      " 0.9987355  0.9987355  0.9987355  0.9987355  0.9987355  0.9987355\n",
      " 0.9987355  0.9987355 ]\n"
     ]
    },
    {
     "name": "stderr",
     "output_type": "stream",
     "text": [
      " 99% |####################################################################### |\r"
     ]
    },
    {
     "name": "stdout",
     "output_type": "stream",
     "text": [
      "[0.99967    0.99967    0.99966455 0.99962175 0.99962175 0.99962175\n",
      " 0.99928135 0.99928135 0.99878675 0.9987355  0.9987355  0.9987355\n",
      " 0.9987355  0.9987355  0.9987355  0.9987355  0.9987355  0.9987355\n",
      " 0.9987355  0.9987355 ]\n",
      "[0.99967    0.99966455 0.99966455 0.99966455 0.99962664 0.99962664\n",
      " 0.99955684 0.99955684 0.99955684 0.99936014 0.99936014 0.99928135\n",
      " 0.99924266 0.99924266 0.99907804 0.9988337  0.9988337  0.99878675\n",
      " 0.99878675 0.9987692 ]\n",
      "[0.99962175 0.99936014 0.99928135 0.99928135 0.99924266 0.9987355\n",
      " 0.9987355  0.9987355  0.9987355  0.9987355  0.9987355  0.9987355\n",
      " 0.9987355  0.9987355  0.9987355  0.9987355  0.9987355  0.9987355\n",
      " 0.9987355  0.9987355 ]\n",
      "[0.9998702  0.99967    0.99962664 0.99936014 0.99926955 0.99924266\n",
      " 0.99924266 0.9988337  0.9988337  0.99878675 0.9987355  0.9987355\n",
      " 0.9987355  0.9987355  0.9987355  0.9987355  0.9987355  0.9987355\n",
      " 0.9987355  0.9987355 ]\n",
      "[0.99967    0.99962664 0.99955684 0.99955684 0.99936014 0.99936014\n",
      " 0.99924266 0.99907804 0.9988337  0.9988337  0.9988337  0.9987741\n",
      " 0.9987692  0.9987355  0.9987355  0.9987355  0.9987355  0.9987355\n",
      " 0.9987355  0.9987355 ]\n",
      "[0.99967    0.99967    0.99966455 0.99962175 0.99955684 0.99926955\n",
      " 0.99924266 0.9988337  0.99878675 0.9987741  0.9987355  0.9987355\n",
      " 0.9987355  0.9987355  0.9987355  0.9987355  0.9987355  0.9987355\n",
      " 0.9987355  0.9987355 ]\n"
     ]
    },
    {
     "name": "stderr",
     "output_type": "stream",
     "text": [
      "100% |########################################################################|\r"
     ]
    },
    {
     "name": "stdout",
     "output_type": "stream",
     "text": [
      "[0.9998702  0.99967    0.99955684 0.99955684 0.99936014 0.99928135\n",
      " 0.99928135 0.99907804 0.9987355  0.9987355  0.9987355  0.9987355\n",
      " 0.9987355  0.9987355  0.9987355  0.9987355  0.9987355  0.9987355\n",
      " 0.9987355  0.9987355 ]\n",
      "[0.99962664 0.99962175 0.99962175 0.99962175 0.99955684 0.99928135\n",
      " 0.99928135 0.99928135 0.99926955 0.99924266 0.99924266 0.99907804\n",
      " 0.99907804 0.9988337  0.9988337  0.99878675 0.99878675 0.9987741\n",
      " 0.9987355  0.9987355 ]\n"
     ]
    },
    {
     "name": "stderr",
     "output_type": "stream",
     "text": [
      "\n"
     ]
    }
   ],
   "source": [
    "preds_ranked = []\n",
    "true_items = []\n",
    "pbar = progressbar.ProgressBar()\n",
    "for u in pbar(test_user_items.index):\n",
    "    true_item = test_user_items[u]\n",
    "    pos_items = user_items[u]\n",
    "    neg_items = set(train_items) - set(pos_items)\n",
    "    neg_sample = np.random.choice(list(neg_items), sample_len-1)\n",
    "    total_sample = np.append(neg_sample, true_item)\n",
    "    user_array = np.full(len(total_sample), u, dtype='int32')\n",
    "\n",
    "    preds = np.hstack(model.predict([user_array, total_sample], batch_size=sample_len, verbose=0))\n",
    "    print(np.sort(preds)[-20:][::-1])\n",
    "#     best = total_sample[np.argsort(preds)][-rank_at:][::-1]\n",
    "    ids = np.argpartition(preds, -rank_at)[-rank_at:]\n",
    "    best_ids = np.argsort(preds[ids])[::-1]\n",
    "    best = total_sample[ids[best_ids]]\n",
    "\n",
    "    preds_ranked.append(best)\n",
    "    true_items.append(true_item)\n",
    "\n",
    "ranked_df = pd.DataFrame(list(zip(test_user_items.index, preds_ranked, true_items)),\n",
    "                         columns=['users', 'pred_items_ranked', 'true_id'])"
   ]
  },
  {
   "cell_type": "code",
   "execution_count": 92,
   "metadata": {
    "scrolled": false
   },
   "outputs": [
    {
     "data": {
      "text/html": [
       "<div>\n",
       "<style scoped>\n",
       "    .dataframe tbody tr th:only-of-type {\n",
       "        vertical-align: middle;\n",
       "    }\n",
       "\n",
       "    .dataframe tbody tr th {\n",
       "        vertical-align: top;\n",
       "    }\n",
       "\n",
       "    .dataframe thead th {\n",
       "        text-align: right;\n",
       "    }\n",
       "</style>\n",
       "<table border=\"1\" class=\"dataframe\">\n",
       "  <thead>\n",
       "    <tr style=\"text-align: right;\">\n",
       "      <th></th>\n",
       "      <th>rank_at</th>\n",
       "      <th>hitcounts</th>\n",
       "      <th>recall</th>\n",
       "      <th>precision</th>\n",
       "      <th>ndcg</th>\n",
       "    </tr>\n",
       "  </thead>\n",
       "  <tbody>\n",
       "    <tr>\n",
       "      <th>0</th>\n",
       "      <td>1</td>\n",
       "      <td>0</td>\n",
       "      <td>0.000</td>\n",
       "      <td>0.0000</td>\n",
       "      <td>0.000000</td>\n",
       "    </tr>\n",
       "    <tr>\n",
       "      <th>1</th>\n",
       "      <td>5</td>\n",
       "      <td>5</td>\n",
       "      <td>0.010</td>\n",
       "      <td>0.0020</td>\n",
       "      <td>0.003956</td>\n",
       "    </tr>\n",
       "    <tr>\n",
       "      <th>2</th>\n",
       "      <td>10</td>\n",
       "      <td>24</td>\n",
       "      <td>0.048</td>\n",
       "      <td>0.0048</td>\n",
       "      <td>0.015909</td>\n",
       "    </tr>\n",
       "    <tr>\n",
       "      <th>3</th>\n",
       "      <td>15</td>\n",
       "      <td>51</td>\n",
       "      <td>0.102</td>\n",
       "      <td>0.0068</td>\n",
       "      <td>0.030284</td>\n",
       "    </tr>\n",
       "    <tr>\n",
       "      <th>4</th>\n",
       "      <td>20</td>\n",
       "      <td>68</td>\n",
       "      <td>0.136</td>\n",
       "      <td>0.0068</td>\n",
       "      <td>0.038184</td>\n",
       "    </tr>\n",
       "  </tbody>\n",
       "</table>\n",
       "</div>"
      ],
      "text/plain": [
       "   rank_at  hitcounts  recall  precision      ndcg\n",
       "0        1          0   0.000     0.0000  0.000000\n",
       "1        5          5   0.010     0.0020  0.003956\n",
       "2       10         24   0.048     0.0048  0.015909\n",
       "3       15         51   0.102     0.0068  0.030284\n",
       "4       20         68   0.136     0.0068  0.038184"
      ]
     },
     "execution_count": 92,
     "metadata": {},
     "output_type": "execute_result"
    }
   ],
   "source": [
    "get_metrics(ranked_df, 5, rank_at, stats=False)"
   ]
  },
  {
   "cell_type": "markdown",
   "metadata": {},
   "source": [
    "---\n",
    "## NeuMF"
   ]
  },
  {
   "cell_type": "markdown",
   "metadata": {},
   "source": [
    "### Full set scores"
   ]
  },
  {
   "cell_type": "code",
   "execution_count": 330,
   "metadata": {},
   "outputs": [],
   "source": [
    "test_set_og = test_set"
   ]
  },
  {
   "cell_type": "code",
   "execution_count": 336,
   "metadata": {},
   "outputs": [],
   "source": [
    "test_set = test_set_og"
   ]
  },
  {
   "cell_type": "code",
   "execution_count": 331,
   "metadata": {},
   "outputs": [],
   "source": [
    "test_set = test_set.iloc[:100]"
   ]
  },
  {
   "cell_type": "code",
   "execution_count": 340,
   "metadata": {},
   "outputs": [],
   "source": [
    "sample_len = 10000"
   ]
  },
  {
   "cell_type": "code",
   "execution_count": 310,
   "metadata": {},
   "outputs": [],
   "source": [
    "u = test_set.user_id.unique()[0]\n",
    "true_item = test_user_items[u]\n",
    "pos_items = user_items[u]\n",
    "neg_items = set(train_items) - set(pos_items)\n",
    "neg_sample = np.random.choice(list(neg_items), sample_len-1)\n",
    "total_sample = np.append(neg_sample, true_item)\n",
    "user_array = np.full(len(total_sample), u, dtype='int32')"
   ]
  },
  {
   "cell_type": "code",
   "execution_count": 342,
   "metadata": {},
   "outputs": [],
   "source": [
    "preds = np.hstack(model.predict([user_array, total_sample], batch_size=sample_len, verbose=0))"
   ]
  },
  {
   "cell_type": "code",
   "execution_count": 344,
   "metadata": {},
   "outputs": [
    {
     "data": {
      "text/plain": [
       "array([  417, 10747])"
      ]
     },
     "execution_count": 344,
     "metadata": {},
     "output_type": "execute_result"
    }
   ],
   "source": [
    "total_sample[np.argsort(preds)[-2:][::-1]]"
   ]
  },
  {
   "cell_type": "code",
   "execution_count": 345,
   "metadata": {},
   "outputs": [
    {
     "data": {
      "text/plain": [
       "array([ 417, 3868])"
      ]
     },
     "execution_count": 345,
     "metadata": {},
     "output_type": "execute_result"
    }
   ],
   "source": [
    "ids = np.argpartition(preds, -2)[-2:]\n",
    "best_ids = np.argsort(preds[ids])[::-1]\n",
    "best = total_sample[ids[best_ids]]\n",
    "best"
   ]
  },
  {
   "cell_type": "code",
   "execution_count": 347,
   "metadata": {},
   "outputs": [
    {
     "data": {
      "text/plain": [
       "array([1, 0])"
      ]
     },
     "execution_count": 347,
     "metadata": {},
     "output_type": "execute_result"
    }
   ],
   "source": []
  },
  {
   "cell_type": "code",
   "execution_count": 238,
   "metadata": {},
   "outputs": [
    {
     "data": {
      "text/plain": [
       "array([16, 15])"
      ]
     },
     "execution_count": 238,
     "metadata": {},
     "output_type": "execute_result"
    }
   ],
   "source": [
    "a = np.array([1,2,3,4,10,15,16])\n",
    "ids = np.argpartition(a, -2)[-2:]\n",
    "best_ids = np.argsort(a[ids])[::-1]\n",
    "best = a[ids[best_ids]]\n",
    "best"
   ]
  },
  {
   "cell_type": "code",
   "execution_count": 239,
   "metadata": {},
   "outputs": [
    {
     "data": {
      "text/plain": [
       "array([16, 15])"
      ]
     },
     "execution_count": 239,
     "metadata": {},
     "output_type": "execute_result"
    }
   ],
   "source": [
    "a[np.argsort(a)[-2:][::-1]]"
   ]
  },
  {
   "cell_type": "code",
   "execution_count": 234,
   "metadata": {},
   "outputs": [
    {
     "data": {
      "text/plain": [
       "array([15, 16])"
      ]
     },
     "execution_count": 234,
     "metadata": {},
     "output_type": "execute_result"
    }
   ],
   "source": [
    "best"
   ]
  },
  {
   "cell_type": "code",
   "execution_count": 231,
   "metadata": {},
   "outputs": [
    {
     "data": {
      "text/plain": [
       "array([ 1,  2,  3,  4, 10, 15, 16])"
      ]
     },
     "execution_count": 231,
     "metadata": {},
     "output_type": "execute_result"
    }
   ],
   "source": [
    "a"
   ]
  },
  {
   "cell_type": "code",
   "execution_count": 334,
   "metadata": {},
   "outputs": [
    {
     "data": {
      "text/html": [
       "<div>\n",
       "<style scoped>\n",
       "    .dataframe tbody tr th:only-of-type {\n",
       "        vertical-align: middle;\n",
       "    }\n",
       "\n",
       "    .dataframe tbody tr th {\n",
       "        vertical-align: top;\n",
       "    }\n",
       "\n",
       "    .dataframe thead th {\n",
       "        text-align: right;\n",
       "    }\n",
       "</style>\n",
       "<table border=\"1\" class=\"dataframe\">\n",
       "  <thead>\n",
       "    <tr style=\"text-align: right;\">\n",
       "      <th></th>\n",
       "      <th>rank_at</th>\n",
       "      <th>hitcounts</th>\n",
       "      <th>recall</th>\n",
       "      <th>precision</th>\n",
       "      <th>ndcg</th>\n",
       "    </tr>\n",
       "  </thead>\n",
       "  <tbody>\n",
       "    <tr>\n",
       "      <th>0</th>\n",
       "      <td>1</td>\n",
       "      <td>100</td>\n",
       "      <td>1.0</td>\n",
       "      <td>1.000000</td>\n",
       "      <td>1.0</td>\n",
       "    </tr>\n",
       "    <tr>\n",
       "      <th>1</th>\n",
       "      <td>5</td>\n",
       "      <td>100</td>\n",
       "      <td>1.0</td>\n",
       "      <td>0.200000</td>\n",
       "      <td>1.0</td>\n",
       "    </tr>\n",
       "    <tr>\n",
       "      <th>2</th>\n",
       "      <td>10</td>\n",
       "      <td>100</td>\n",
       "      <td>1.0</td>\n",
       "      <td>0.100000</td>\n",
       "      <td>1.0</td>\n",
       "    </tr>\n",
       "    <tr>\n",
       "      <th>3</th>\n",
       "      <td>15</td>\n",
       "      <td>100</td>\n",
       "      <td>1.0</td>\n",
       "      <td>0.066667</td>\n",
       "      <td>1.0</td>\n",
       "    </tr>\n",
       "    <tr>\n",
       "      <th>4</th>\n",
       "      <td>20</td>\n",
       "      <td>100</td>\n",
       "      <td>1.0</td>\n",
       "      <td>0.050000</td>\n",
       "      <td>1.0</td>\n",
       "    </tr>\n",
       "  </tbody>\n",
       "</table>\n",
       "</div>"
      ],
      "text/plain": [
       "   rank_at  hitcounts  recall  precision  ndcg\n",
       "0        1        100     1.0   1.000000   1.0\n",
       "1        5        100     1.0   0.200000   1.0\n",
       "2       10        100     1.0   0.100000   1.0\n",
       "3       15        100     1.0   0.066667   1.0\n",
       "4       20        100     1.0   0.050000   1.0"
      ]
     },
     "execution_count": 334,
     "metadata": {},
     "output_type": "execute_result"
    }
   ],
   "source": [
    "get_metrics(ranked_df, steps, rank_at, stats=False)"
   ]
  },
  {
   "cell_type": "code",
   "execution_count": 220,
   "metadata": {},
   "outputs": [
    {
     "data": {
      "text/html": [
       "<div>\n",
       "<style scoped>\n",
       "    .dataframe tbody tr th:only-of-type {\n",
       "        vertical-align: middle;\n",
       "    }\n",
       "\n",
       "    .dataframe tbody tr th {\n",
       "        vertical-align: top;\n",
       "    }\n",
       "\n",
       "    .dataframe thead th {\n",
       "        text-align: right;\n",
       "    }\n",
       "</style>\n",
       "<table border=\"1\" class=\"dataframe\">\n",
       "  <thead>\n",
       "    <tr style=\"text-align: right;\">\n",
       "      <th></th>\n",
       "      <th>rank_at</th>\n",
       "      <th>hitcounts</th>\n",
       "      <th>recall</th>\n",
       "      <th>precision</th>\n",
       "      <th>ndcg</th>\n",
       "    </tr>\n",
       "  </thead>\n",
       "  <tbody>\n",
       "    <tr>\n",
       "      <th>0</th>\n",
       "      <td>1</td>\n",
       "      <td>2</td>\n",
       "      <td>0.02</td>\n",
       "      <td>0.020</td>\n",
       "      <td>0.020000</td>\n",
       "    </tr>\n",
       "    <tr>\n",
       "      <th>1</th>\n",
       "      <td>5</td>\n",
       "      <td>22</td>\n",
       "      <td>0.22</td>\n",
       "      <td>0.044</td>\n",
       "      <td>0.127003</td>\n",
       "    </tr>\n",
       "    <tr>\n",
       "      <th>2</th>\n",
       "      <td>10</td>\n",
       "      <td>29</td>\n",
       "      <td>0.29</td>\n",
       "      <td>0.029</td>\n",
       "      <td>0.149119</td>\n",
       "    </tr>\n",
       "    <tr>\n",
       "      <th>3</th>\n",
       "      <td>15</td>\n",
       "      <td>36</td>\n",
       "      <td>0.36</td>\n",
       "      <td>0.024</td>\n",
       "      <td>0.167483</td>\n",
       "    </tr>\n",
       "    <tr>\n",
       "      <th>4</th>\n",
       "      <td>20</td>\n",
       "      <td>38</td>\n",
       "      <td>0.38</td>\n",
       "      <td>0.019</td>\n",
       "      <td>0.172113</td>\n",
       "    </tr>\n",
       "  </tbody>\n",
       "</table>\n",
       "</div>"
      ],
      "text/plain": [
       "   rank_at  hitcounts  recall  precision      ndcg\n",
       "0        1          2    0.02      0.020  0.020000\n",
       "1        5         22    0.22      0.044  0.127003\n",
       "2       10         29    0.29      0.029  0.149119\n",
       "3       15         36    0.36      0.024  0.167483\n",
       "4       20         38    0.38      0.019  0.172113"
      ]
     },
     "execution_count": 220,
     "metadata": {},
     "output_type": "execute_result"
    }
   ],
   "source": [
    "get_metrics(ranked_df, steps, rank_at, stats=False)"
   ]
  },
  {
   "cell_type": "code",
   "execution_count": 215,
   "metadata": {},
   "outputs": [
    {
     "data": {
      "text/html": [
       "<div>\n",
       "<style scoped>\n",
       "    .dataframe tbody tr th:only-of-type {\n",
       "        vertical-align: middle;\n",
       "    }\n",
       "\n",
       "    .dataframe tbody tr th {\n",
       "        vertical-align: top;\n",
       "    }\n",
       "\n",
       "    .dataframe thead th {\n",
       "        text-align: right;\n",
       "    }\n",
       "</style>\n",
       "<table border=\"1\" class=\"dataframe\">\n",
       "  <thead>\n",
       "    <tr style=\"text-align: right;\">\n",
       "      <th></th>\n",
       "      <th>rank_at</th>\n",
       "      <th>hitcounts</th>\n",
       "      <th>recall</th>\n",
       "      <th>precision</th>\n",
       "      <th>ndcg</th>\n",
       "    </tr>\n",
       "  </thead>\n",
       "  <tbody>\n",
       "    <tr>\n",
       "      <th>0</th>\n",
       "      <td>1</td>\n",
       "      <td>776</td>\n",
       "      <td>0.047742</td>\n",
       "      <td>0.047742</td>\n",
       "      <td>0.047742</td>\n",
       "    </tr>\n",
       "    <tr>\n",
       "      <th>1</th>\n",
       "      <td>5</td>\n",
       "      <td>2614</td>\n",
       "      <td>0.160822</td>\n",
       "      <td>0.032164</td>\n",
       "      <td>0.104654</td>\n",
       "    </tr>\n",
       "    <tr>\n",
       "      <th>2</th>\n",
       "      <td>10</td>\n",
       "      <td>3817</td>\n",
       "      <td>0.234835</td>\n",
       "      <td>0.023483</td>\n",
       "      <td>0.128561</td>\n",
       "    </tr>\n",
       "    <tr>\n",
       "      <th>3</th>\n",
       "      <td>15</td>\n",
       "      <td>4373</td>\n",
       "      <td>0.269041</td>\n",
       "      <td>0.017936</td>\n",
       "      <td>0.137625</td>\n",
       "    </tr>\n",
       "    <tr>\n",
       "      <th>4</th>\n",
       "      <td>20</td>\n",
       "      <td>4799</td>\n",
       "      <td>0.295250</td>\n",
       "      <td>0.014763</td>\n",
       "      <td>0.143807</td>\n",
       "    </tr>\n",
       "  </tbody>\n",
       "</table>\n",
       "</div>"
      ],
      "text/plain": [
       "   rank_at  hitcounts    recall  precision      ndcg\n",
       "0        1        776  0.047742   0.047742  0.047742\n",
       "1        5       2614  0.160822   0.032164  0.104654\n",
       "2       10       3817  0.234835   0.023483  0.128561\n",
       "3       15       4373  0.269041   0.017936  0.137625\n",
       "4       20       4799  0.295250   0.014763  0.143807"
      ]
     },
     "execution_count": 215,
     "metadata": {},
     "output_type": "execute_result"
    }
   ],
   "source": [
    "get_metrics(ranked_df, steps, rank_at, stats=False)"
   ]
  },
  {
   "cell_type": "code",
   "execution_count": 33,
   "metadata": {},
   "outputs": [
    {
     "data": {
      "text/plain": [
       "343771"
      ]
     },
     "execution_count": 33,
     "metadata": {},
     "output_type": "execute_result"
    }
   ],
   "source": [
    "len(train_set)"
   ]
  },
  {
   "cell_type": "code",
   "execution_count": null,
   "metadata": {},
   "outputs": [],
   "source": [
    "%%time\n",
    "NeuMF_ranked_df_full = NCF.get_predictions('NeuMF', test_set)"
   ]
  },
  {
   "cell_type": "code",
   "execution_count": null,
   "metadata": {},
   "outputs": [],
   "source": [
    "from Evaluation import get_metrics\n",
    "get_metrics(NeuMF_ranked_df_full, steps, rank_at, stats=False)"
   ]
  },
  {
   "cell_type": "code",
   "execution_count": 40,
   "metadata": {},
   "outputs": [],
   "source": [
    "metrics_all_sample.to_pickle('../results/NCF/NCF_metrics_all_sample_am_40k')"
   ]
  },
  {
   "cell_type": "markdown",
   "metadata": {},
   "source": [
    "### Sample scores"
   ]
  },
  {
   "cell_type": "code",
   "execution_count": null,
   "metadata": {},
   "outputs": [],
   "source": [
    "%%time\n",
    "NeuMF_ranked_df = NCF.sample_prediction('NeuMF', train_set, test_set)"
   ]
  },
  {
   "cell_type": "code",
   "execution_count": null,
   "metadata": {},
   "outputs": [],
   "source": [
    "from Evaluation import get_metrics\n",
    "get_metrics(NeuMF_ranked_df, steps, rank_at, stats=False)"
   ]
  },
  {
   "cell_type": "code",
   "execution_count": 87,
   "metadata": {},
   "outputs": [
    {
     "name": "stderr",
     "output_type": "stream",
     "text": [
      "100% |########################################################################|\n"
     ]
    },
    {
     "name": "stdout",
     "output_type": "stream",
     "text": [
      "Obtaining metrics time: 0.33\n",
      "   rank_at  hitcounts    recall  precision      ndcg\n",
      "0        1         14  0.046667   0.046667  0.046667\n",
      "1        5         47  0.156667   0.031333  0.099743\n",
      "2       10        100  0.333333   0.033333  0.155061\n",
      "3       15        171  0.570000   0.038000  0.216693\n",
      "4       20        300  1.000000   0.050000  0.317509\n"
     ]
    },
    {
     "name": "stderr",
     "output_type": "stream",
     "text": [
      "100% |########################################################################|\n"
     ]
    },
    {
     "name": "stdout",
     "output_type": "stream",
     "text": [
      "Obtaining metrics time: 0.34\n",
      "   rank_at  hitcounts    recall  precision      ndcg\n",
      "0        1          6  0.020000   0.020000  0.020000\n",
      "1        5         22  0.073333   0.014667  0.047401\n",
      "2       10         36  0.120000   0.012000  0.062457\n",
      "3       15         50  0.166667   0.011111  0.074852\n",
      "4       20         66  0.220000   0.011000  0.087413\n"
     ]
    },
    {
     "ename": "KeyboardInterrupt",
     "evalue": "",
     "output_type": "error",
     "traceback": [
      "\u001b[0;31m---------------------------------------------------------------------------\u001b[0m",
      "\u001b[0;31mKeyboardInterrupt\u001b[0m                         Traceback (most recent call last)",
      "\u001b[0;32m<timed exec>\u001b[0m in \u001b[0;36m<module>\u001b[0;34m\u001b[0m\n",
      "\u001b[0;32m/storage/Robin/recommender_systems/NCF.py\u001b[0m in \u001b[0;36msample_prediction\u001b[0;34m(self, name, train_set, test_set, sample_len, rank_at)\u001b[0m\n\u001b[1;32m    399\u001b[0m     \u001b[0;32mdef\u001b[0m \u001b[0msample_prediction\u001b[0m\u001b[0;34m(\u001b[0m\u001b[0mself\u001b[0m\u001b[0;34m,\u001b[0m \u001b[0mname\u001b[0m\u001b[0;34m,\u001b[0m \u001b[0mtrain_set\u001b[0m\u001b[0;34m,\u001b[0m \u001b[0mtest_set\u001b[0m\u001b[0;34m,\u001b[0m \u001b[0msample_len\u001b[0m\u001b[0;34m=\u001b[0m\u001b[0;36m100\u001b[0m\u001b[0;34m,\u001b[0m \u001b[0mrank_at\u001b[0m\u001b[0;34m=\u001b[0m\u001b[0;36m20\u001b[0m\u001b[0;34m)\u001b[0m\u001b[0;34m:\u001b[0m\u001b[0;34m\u001b[0m\u001b[0;34m\u001b[0m\u001b[0m\n\u001b[1;32m    400\u001b[0m         \u001b[0mmodel\u001b[0m\u001b[0;34m,\u001b[0m \u001b[0m_\u001b[0m \u001b[0;34m=\u001b[0m \u001b[0mself\u001b[0m\u001b[0;34m.\u001b[0m\u001b[0mget_model\u001b[0m\u001b[0;34m(\u001b[0m\u001b[0mname\u001b[0m\u001b[0;34m)\u001b[0m\u001b[0;34m\u001b[0m\u001b[0;34m\u001b[0m\u001b[0m\n\u001b[0;32m--> 401\u001b[0;31m         \u001b[0muser_items\u001b[0m \u001b[0;34m=\u001b[0m \u001b[0mtrain_set\u001b[0m\u001b[0;34m.\u001b[0m\u001b[0mgroupby\u001b[0m\u001b[0;34m(\u001b[0m\u001b[0;34m'user_id'\u001b[0m\u001b[0;34m)\u001b[0m\u001b[0;34m[\u001b[0m\u001b[0;34m'item_id'\u001b[0m\u001b[0;34m]\u001b[0m\u001b[0;34m.\u001b[0m\u001b[0mapply\u001b[0m\u001b[0;34m(\u001b[0m\u001b[0mlist\u001b[0m\u001b[0;34m)\u001b[0m\u001b[0;34m\u001b[0m\u001b[0;34m\u001b[0m\u001b[0m\n\u001b[0m\u001b[1;32m    402\u001b[0m         \u001b[0mtest_user_items\u001b[0m \u001b[0;34m=\u001b[0m \u001b[0mtest_set\u001b[0m\u001b[0;34m.\u001b[0m\u001b[0mgroupby\u001b[0m\u001b[0;34m(\u001b[0m\u001b[0;34m'user_id'\u001b[0m\u001b[0;34m)\u001b[0m\u001b[0;34m[\u001b[0m\u001b[0;34m'item_id'\u001b[0m\u001b[0;34m]\u001b[0m\u001b[0;34m.\u001b[0m\u001b[0mapply\u001b[0m\u001b[0;34m(\u001b[0m\u001b[0mlist\u001b[0m\u001b[0;34m)\u001b[0m\u001b[0;34m\u001b[0m\u001b[0;34m\u001b[0m\u001b[0m\n\u001b[1;32m    403\u001b[0m         \u001b[0mtrain_items\u001b[0m \u001b[0;34m=\u001b[0m \u001b[0mtrain_set\u001b[0m\u001b[0;34m.\u001b[0m\u001b[0mitem_id\u001b[0m\u001b[0;34m.\u001b[0m\u001b[0munique\u001b[0m\u001b[0;34m(\u001b[0m\u001b[0;34m)\u001b[0m\u001b[0;34m\u001b[0m\u001b[0;34m\u001b[0m\u001b[0m\n",
      "\u001b[0;32m/usr/local/lib/python3.6/dist-packages/pandas/core/groupby/generic.py\u001b[0m in \u001b[0;36mapply\u001b[0;34m(self, func, *args, **kwargs)\u001b[0m\n\u001b[1;32m    222\u001b[0m     )\n\u001b[1;32m    223\u001b[0m     \u001b[0;32mdef\u001b[0m \u001b[0mapply\u001b[0m\u001b[0;34m(\u001b[0m\u001b[0mself\u001b[0m\u001b[0;34m,\u001b[0m \u001b[0mfunc\u001b[0m\u001b[0;34m,\u001b[0m \u001b[0;34m*\u001b[0m\u001b[0margs\u001b[0m\u001b[0;34m,\u001b[0m \u001b[0;34m**\u001b[0m\u001b[0mkwargs\u001b[0m\u001b[0;34m)\u001b[0m\u001b[0;34m:\u001b[0m\u001b[0;34m\u001b[0m\u001b[0;34m\u001b[0m\u001b[0m\n\u001b[0;32m--> 224\u001b[0;31m         \u001b[0;32mreturn\u001b[0m \u001b[0msuper\u001b[0m\u001b[0;34m(\u001b[0m\u001b[0;34m)\u001b[0m\u001b[0;34m.\u001b[0m\u001b[0mapply\u001b[0m\u001b[0;34m(\u001b[0m\u001b[0mfunc\u001b[0m\u001b[0;34m,\u001b[0m \u001b[0;34m*\u001b[0m\u001b[0margs\u001b[0m\u001b[0;34m,\u001b[0m \u001b[0;34m**\u001b[0m\u001b[0mkwargs\u001b[0m\u001b[0;34m)\u001b[0m\u001b[0;34m\u001b[0m\u001b[0;34m\u001b[0m\u001b[0m\n\u001b[0m\u001b[1;32m    225\u001b[0m \u001b[0;34m\u001b[0m\u001b[0m\n\u001b[1;32m    226\u001b[0m     @Substitution(\n",
      "\u001b[0;32m/usr/local/lib/python3.6/dist-packages/pandas/core/groupby/groupby.py\u001b[0m in \u001b[0;36mapply\u001b[0;34m(self, func, *args, **kwargs)\u001b[0m\n\u001b[1;32m    733\u001b[0m         \u001b[0;32mwith\u001b[0m \u001b[0moption_context\u001b[0m\u001b[0;34m(\u001b[0m\u001b[0;34m\"mode.chained_assignment\"\u001b[0m\u001b[0;34m,\u001b[0m \u001b[0;32mNone\u001b[0m\u001b[0;34m)\u001b[0m\u001b[0;34m:\u001b[0m\u001b[0;34m\u001b[0m\u001b[0;34m\u001b[0m\u001b[0m\n\u001b[1;32m    734\u001b[0m             \u001b[0;32mtry\u001b[0m\u001b[0;34m:\u001b[0m\u001b[0;34m\u001b[0m\u001b[0;34m\u001b[0m\u001b[0m\n\u001b[0;32m--> 735\u001b[0;31m                 \u001b[0mresult\u001b[0m \u001b[0;34m=\u001b[0m \u001b[0mself\u001b[0m\u001b[0;34m.\u001b[0m\u001b[0m_python_apply_general\u001b[0m\u001b[0;34m(\u001b[0m\u001b[0mf\u001b[0m\u001b[0;34m)\u001b[0m\u001b[0;34m\u001b[0m\u001b[0;34m\u001b[0m\u001b[0m\n\u001b[0m\u001b[1;32m    736\u001b[0m             \u001b[0;32mexcept\u001b[0m \u001b[0mTypeError\u001b[0m\u001b[0;34m:\u001b[0m\u001b[0;34m\u001b[0m\u001b[0;34m\u001b[0m\u001b[0m\n\u001b[1;32m    737\u001b[0m                 \u001b[0;31m# gh-20949\u001b[0m\u001b[0;34m\u001b[0m\u001b[0;34m\u001b[0m\u001b[0;34m\u001b[0m\u001b[0m\n",
      "\u001b[0;32m/usr/local/lib/python3.6/dist-packages/pandas/core/groupby/groupby.py\u001b[0m in \u001b[0;36m_python_apply_general\u001b[0;34m(self, f)\u001b[0m\n\u001b[1;32m    752\u001b[0m \u001b[0;34m\u001b[0m\u001b[0m\n\u001b[1;32m    753\u001b[0m         return self._wrap_applied_output(\n\u001b[0;32m--> 754\u001b[0;31m             \u001b[0mkeys\u001b[0m\u001b[0;34m,\u001b[0m \u001b[0mvalues\u001b[0m\u001b[0;34m,\u001b[0m \u001b[0mnot_indexed_same\u001b[0m\u001b[0;34m=\u001b[0m\u001b[0mmutated\u001b[0m \u001b[0;32mor\u001b[0m \u001b[0mself\u001b[0m\u001b[0;34m.\u001b[0m\u001b[0mmutated\u001b[0m\u001b[0;34m\u001b[0m\u001b[0;34m\u001b[0m\u001b[0m\n\u001b[0m\u001b[1;32m    755\u001b[0m         )\n\u001b[1;32m    756\u001b[0m \u001b[0;34m\u001b[0m\u001b[0m\n",
      "\u001b[0;32m/usr/local/lib/python3.6/dist-packages/pandas/core/groupby/generic.py\u001b[0m in \u001b[0;36m_wrap_applied_output\u001b[0;34m(self, keys, values, not_indexed_same)\u001b[0m\n\u001b[1;32m    442\u001b[0m         \u001b[0;32melse\u001b[0m\u001b[0;34m:\u001b[0m\u001b[0;34m\u001b[0m\u001b[0;34m\u001b[0m\u001b[0m\n\u001b[1;32m    443\u001b[0m             \u001b[0;31m# GH #6265 #24880\u001b[0m\u001b[0;34m\u001b[0m\u001b[0;34m\u001b[0m\u001b[0;34m\u001b[0m\u001b[0m\n\u001b[0;32m--> 444\u001b[0;31m             \u001b[0mresult\u001b[0m \u001b[0;34m=\u001b[0m \u001b[0mSeries\u001b[0m\u001b[0;34m(\u001b[0m\u001b[0mdata\u001b[0m\u001b[0;34m=\u001b[0m\u001b[0mvalues\u001b[0m\u001b[0;34m,\u001b[0m \u001b[0mindex\u001b[0m\u001b[0;34m=\u001b[0m\u001b[0m_get_index\u001b[0m\u001b[0;34m(\u001b[0m\u001b[0;34m)\u001b[0m\u001b[0;34m,\u001b[0m \u001b[0mname\u001b[0m\u001b[0;34m=\u001b[0m\u001b[0mself\u001b[0m\u001b[0;34m.\u001b[0m\u001b[0m_selection_name\u001b[0m\u001b[0;34m)\u001b[0m\u001b[0;34m\u001b[0m\u001b[0;34m\u001b[0m\u001b[0m\n\u001b[0m\u001b[1;32m    445\u001b[0m             \u001b[0;32mreturn\u001b[0m \u001b[0mself\u001b[0m\u001b[0;34m.\u001b[0m\u001b[0m_reindex_output\u001b[0m\u001b[0;34m(\u001b[0m\u001b[0mresult\u001b[0m\u001b[0;34m)\u001b[0m\u001b[0;34m\u001b[0m\u001b[0;34m\u001b[0m\u001b[0m\n\u001b[1;32m    446\u001b[0m \u001b[0;34m\u001b[0m\u001b[0m\n",
      "\u001b[0;32m/usr/local/lib/python3.6/dist-packages/pandas/core/series.py\u001b[0m in \u001b[0;36m__init__\u001b[0;34m(self, data, index, dtype, name, copy, fastpath)\u001b[0m\n\u001b[1;32m    303\u001b[0m                     \u001b[0mdata\u001b[0m \u001b[0;34m=\u001b[0m \u001b[0mdata\u001b[0m\u001b[0;34m.\u001b[0m\u001b[0mcopy\u001b[0m\u001b[0;34m(\u001b[0m\u001b[0;34m)\u001b[0m\u001b[0;34m\u001b[0m\u001b[0;34m\u001b[0m\u001b[0m\n\u001b[1;32m    304\u001b[0m             \u001b[0;32melse\u001b[0m\u001b[0;34m:\u001b[0m\u001b[0;34m\u001b[0m\u001b[0;34m\u001b[0m\u001b[0m\n\u001b[0;32m--> 305\u001b[0;31m                 \u001b[0mdata\u001b[0m \u001b[0;34m=\u001b[0m \u001b[0msanitize_array\u001b[0m\u001b[0;34m(\u001b[0m\u001b[0mdata\u001b[0m\u001b[0;34m,\u001b[0m \u001b[0mindex\u001b[0m\u001b[0;34m,\u001b[0m \u001b[0mdtype\u001b[0m\u001b[0;34m,\u001b[0m \u001b[0mcopy\u001b[0m\u001b[0;34m,\u001b[0m \u001b[0mraise_cast_failure\u001b[0m\u001b[0;34m=\u001b[0m\u001b[0;32mTrue\u001b[0m\u001b[0;34m)\u001b[0m\u001b[0;34m\u001b[0m\u001b[0;34m\u001b[0m\u001b[0m\n\u001b[0m\u001b[1;32m    306\u001b[0m \u001b[0;34m\u001b[0m\u001b[0m\n\u001b[1;32m    307\u001b[0m                 \u001b[0mdata\u001b[0m \u001b[0;34m=\u001b[0m \u001b[0mSingleBlockManager\u001b[0m\u001b[0;34m(\u001b[0m\u001b[0mdata\u001b[0m\u001b[0;34m,\u001b[0m \u001b[0mindex\u001b[0m\u001b[0;34m,\u001b[0m \u001b[0mfastpath\u001b[0m\u001b[0;34m=\u001b[0m\u001b[0;32mTrue\u001b[0m\u001b[0;34m)\u001b[0m\u001b[0;34m\u001b[0m\u001b[0;34m\u001b[0m\u001b[0m\n",
      "\u001b[0;32m/usr/local/lib/python3.6/dist-packages/pandas/core/construction.py\u001b[0m in \u001b[0;36msanitize_array\u001b[0;34m(data, index, dtype, copy, raise_cast_failure)\u001b[0m\n\u001b[1;32m    438\u001b[0m             \u001b[0msubarr\u001b[0m \u001b[0;34m=\u001b[0m \u001b[0m_try_cast\u001b[0m\u001b[0;34m(\u001b[0m\u001b[0mdata\u001b[0m\u001b[0;34m,\u001b[0m \u001b[0mdtype\u001b[0m\u001b[0;34m,\u001b[0m \u001b[0mcopy\u001b[0m\u001b[0;34m,\u001b[0m \u001b[0mraise_cast_failure\u001b[0m\u001b[0;34m)\u001b[0m\u001b[0;34m\u001b[0m\u001b[0;34m\u001b[0m\u001b[0m\n\u001b[1;32m    439\u001b[0m         \u001b[0;32melse\u001b[0m\u001b[0;34m:\u001b[0m\u001b[0;34m\u001b[0m\u001b[0;34m\u001b[0m\u001b[0m\n\u001b[0;32m--> 440\u001b[0;31m             \u001b[0msubarr\u001b[0m \u001b[0;34m=\u001b[0m \u001b[0mmaybe_convert_platform\u001b[0m\u001b[0;34m(\u001b[0m\u001b[0mdata\u001b[0m\u001b[0;34m)\u001b[0m\u001b[0;34m\u001b[0m\u001b[0;34m\u001b[0m\u001b[0m\n\u001b[0m\u001b[1;32m    441\u001b[0m \u001b[0;34m\u001b[0m\u001b[0m\n\u001b[1;32m    442\u001b[0m         \u001b[0msubarr\u001b[0m \u001b[0;34m=\u001b[0m \u001b[0mmaybe_cast_to_datetime\u001b[0m\u001b[0;34m(\u001b[0m\u001b[0msubarr\u001b[0m\u001b[0;34m,\u001b[0m \u001b[0mdtype\u001b[0m\u001b[0;34m)\u001b[0m\u001b[0;34m\u001b[0m\u001b[0;34m\u001b[0m\u001b[0m\n",
      "\u001b[0;32m/usr/local/lib/python3.6/dist-packages/pandas/core/dtypes/cast.py\u001b[0m in \u001b[0;36mmaybe_convert_platform\u001b[0;34m(values)\u001b[0m\n\u001b[1;32m     72\u001b[0m \u001b[0;34m\u001b[0m\u001b[0m\n\u001b[1;32m     73\u001b[0m     \u001b[0;32mif\u001b[0m \u001b[0misinstance\u001b[0m\u001b[0;34m(\u001b[0m\u001b[0mvalues\u001b[0m\u001b[0;34m,\u001b[0m \u001b[0;34m(\u001b[0m\u001b[0mlist\u001b[0m\u001b[0;34m,\u001b[0m \u001b[0mtuple\u001b[0m\u001b[0;34m,\u001b[0m \u001b[0mrange\u001b[0m\u001b[0;34m)\u001b[0m\u001b[0;34m)\u001b[0m\u001b[0;34m:\u001b[0m\u001b[0;34m\u001b[0m\u001b[0;34m\u001b[0m\u001b[0m\n\u001b[0;32m---> 74\u001b[0;31m         \u001b[0mvalues\u001b[0m \u001b[0;34m=\u001b[0m \u001b[0mconstruct_1d_object_array_from_listlike\u001b[0m\u001b[0;34m(\u001b[0m\u001b[0mvalues\u001b[0m\u001b[0;34m)\u001b[0m\u001b[0;34m\u001b[0m\u001b[0;34m\u001b[0m\u001b[0m\n\u001b[0m\u001b[1;32m     75\u001b[0m     \u001b[0;32mif\u001b[0m \u001b[0mgetattr\u001b[0m\u001b[0;34m(\u001b[0m\u001b[0mvalues\u001b[0m\u001b[0;34m,\u001b[0m \u001b[0;34m\"dtype\"\u001b[0m\u001b[0;34m,\u001b[0m \u001b[0;32mNone\u001b[0m\u001b[0;34m)\u001b[0m \u001b[0;34m==\u001b[0m \u001b[0mnp\u001b[0m\u001b[0;34m.\u001b[0m\u001b[0mobject_\u001b[0m\u001b[0;34m:\u001b[0m\u001b[0;34m\u001b[0m\u001b[0;34m\u001b[0m\u001b[0m\n\u001b[1;32m     76\u001b[0m         \u001b[0;32mif\u001b[0m \u001b[0mhasattr\u001b[0m\u001b[0;34m(\u001b[0m\u001b[0mvalues\u001b[0m\u001b[0;34m,\u001b[0m \u001b[0;34m\"_values\"\u001b[0m\u001b[0;34m)\u001b[0m\u001b[0;34m:\u001b[0m\u001b[0;34m\u001b[0m\u001b[0;34m\u001b[0m\u001b[0m\n",
      "\u001b[0;32m/usr/local/lib/python3.6/dist-packages/pandas/core/dtypes/cast.py\u001b[0m in \u001b[0;36mconstruct_1d_object_array_from_listlike\u001b[0;34m(values)\u001b[0m\n\u001b[1;32m   1477\u001b[0m     \u001b[0;31m# making a 1D array that contains list-likes is a bit tricky:\u001b[0m\u001b[0;34m\u001b[0m\u001b[0;34m\u001b[0m\u001b[0;34m\u001b[0m\u001b[0m\n\u001b[1;32m   1478\u001b[0m     \u001b[0mresult\u001b[0m \u001b[0;34m=\u001b[0m \u001b[0mnp\u001b[0m\u001b[0;34m.\u001b[0m\u001b[0mempty\u001b[0m\u001b[0;34m(\u001b[0m\u001b[0mlen\u001b[0m\u001b[0;34m(\u001b[0m\u001b[0mvalues\u001b[0m\u001b[0;34m)\u001b[0m\u001b[0;34m,\u001b[0m \u001b[0mdtype\u001b[0m\u001b[0;34m=\u001b[0m\u001b[0;34m\"object\"\u001b[0m\u001b[0;34m)\u001b[0m\u001b[0;34m\u001b[0m\u001b[0;34m\u001b[0m\u001b[0m\n\u001b[0;32m-> 1479\u001b[0;31m     \u001b[0mresult\u001b[0m\u001b[0;34m[\u001b[0m\u001b[0;34m:\u001b[0m\u001b[0;34m]\u001b[0m \u001b[0;34m=\u001b[0m \u001b[0mvalues\u001b[0m\u001b[0;34m\u001b[0m\u001b[0;34m\u001b[0m\u001b[0m\n\u001b[0m\u001b[1;32m   1480\u001b[0m     \u001b[0;32mreturn\u001b[0m \u001b[0mresult\u001b[0m\u001b[0;34m\u001b[0m\u001b[0;34m\u001b[0m\u001b[0m\n\u001b[1;32m   1481\u001b[0m \u001b[0;34m\u001b[0m\u001b[0m\n",
      "\u001b[0;31mKeyboardInterrupt\u001b[0m: "
     ]
    }
   ],
   "source": [
    "%%time\n",
    "from Evaluation import get_metrics\n",
    "test_set = test_set.iloc[:300]\n",
    "sample_sizes = [20, 50, 100, 200, 400, 10000]\n",
    "metrics = []\n",
    "for sample_size in sample_sizes:\n",
    "    ranked_sample_df = NCF.sample_prediction('NeuMF', train_set, test_set, sample_len=sample_size)\n",
    "    metric = get_metrics(ranked_sample_df, steps, rank_at)\n",
    "    metrics.append(metric)\n",
    "#     get_metrics(ranked_sample_df).to_pickle(f'../results/NCF/NCF_metrics_{sample_size}_sample_am_40k')"
   ]
  },
  {
   "cell_type": "code",
   "execution_count": 58,
   "metadata": {},
   "outputs": [
    {
     "data": {
      "text/plain": [
       "[   rank_at  hitcounts    recall  precision      ndcg\n",
       " 0        1         50  0.166667   0.166667  0.166667\n",
       " 1        5        124  0.413333   0.082667  0.283302\n",
       " 2       10        198  0.660000   0.066000  0.361850\n",
       " 3       15        253  0.843333   0.056222  0.410768\n",
       " 4       20        300  1.000000   0.050000  0.447358,\n",
       "    rank_at  hitcounts    recall  precision      ndcg\n",
       " 0        1         45  0.150000   0.150000  0.150000\n",
       " 1        5         60  0.200000   0.040000  0.172079\n",
       " 2       10        105  0.350000   0.035000  0.220121\n",
       " 3       15        143  0.476667   0.031778  0.253404\n",
       " 4       20        181  0.603333   0.030167  0.283313,\n",
       "    rank_at  hitcounts    recall  precision      ndcg\n",
       " 0        1         45  0.150000   0.150000  0.150000\n",
       " 1        5         48  0.160000   0.032000  0.154246\n",
       " 2       10         63  0.210000   0.021000  0.169534\n",
       " 3       15         82  0.273333   0.018222  0.186272\n",
       " 4       20        104  0.346667   0.017333  0.203395,\n",
       "    rank_at  hitcounts    recall  precision      ndcg\n",
       " 0        1         45  0.150000   0.150000  0.150000\n",
       " 1        5         46  0.153333   0.030667  0.151290\n",
       " 2       10         48  0.160000   0.016000  0.153344\n",
       " 3       15         53  0.176667   0.011778  0.157686\n",
       " 4       20         64  0.213333   0.010667  0.166313,\n",
       "    rank_at  hitcounts    recall  precision      ndcg\n",
       " 0        1         45  0.150000   0.150000  0.150000\n",
       " 1        5         45  0.150000   0.030000  0.150000\n",
       " 2       10         46  0.153333   0.015333  0.151187\n",
       " 3       15         47  0.156667   0.010444  0.152021\n",
       " 4       20         48  0.160000   0.008000  0.152820,\n",
       "    rank_at  hitcounts  recall  precision  ndcg\n",
       " 0        1         45    0.15     0.1500  0.15\n",
       " 1        5         45    0.15     0.0300  0.15\n",
       " 2       10         45    0.15     0.0150  0.15\n",
       " 3       15         45    0.15     0.0100  0.15\n",
       " 4       20         45    0.15     0.0075  0.15]"
      ]
     },
     "execution_count": 58,
     "metadata": {},
     "output_type": "execute_result"
    }
   ],
   "source": [
    "metrics"
   ]
  },
  {
   "cell_type": "code",
   "execution_count": null,
   "metadata": {},
   "outputs": [],
   "source": [
    "get_metrics(ranked_df_full, steps, rank_at).to_pickle('../results/NCF/NCF_metrics_ml_1m')\n",
    "get_metrics(ranked_df, steps, rank_at).to_pickle('../results/NCF/NCF_metrics_100_sample_ml_1m')"
   ]
  },
  {
   "cell_type": "markdown",
   "metadata": {},
   "source": [
    "---\n",
    "### Multiprocessing for multiple samples creatings "
   ]
  },
  {
   "cell_type": "code",
   "execution_count": null,
   "metadata": {},
   "outputs": [],
   "source": [
    "# from progressbar import progressbar\n",
    "# def create_samples(params, data, name=''):\n",
    "#         print(f'Creating Samples for {name}')\n",
    "# #         _, params = self.get_model(name)\n",
    "#         all_user_inputs, all_item_inputs, all_labels = [], [], []\n",
    "#         user_items = data.groupby('user_id')['item_id'].apply(list)\n",
    "#         train_users = data.user_id.unique()\n",
    "#         train_items = data.item_id.unique()\n",
    "\n",
    "#         pbar = progressbar.ProgressBar()\n",
    "#         for n in pbar(range(params['epochs'])):\n",
    "#             user_inputs, item_inputs, labels = [], [], []\n",
    "#             for s in range(int(params['sample_size'])):\n",
    "#                 # Add positive item\n",
    "#                 u = np.random.choice(train_users)\n",
    "#                 u_items = user_items[u]\n",
    "#                 i = np.random.choice(u_items)\n",
    "\n",
    "#                 user_inputs.append(u)\n",
    "#                 item_inputs.append(i)\n",
    "#                 labels.append(1)\n",
    "\n",
    "#                 # Add negative item\n",
    "#                 for i in range(params['num_neg']):\n",
    "#                     j = np.random.choice(train_items)\n",
    "#                     while j in u_items:  # neg item j cannot be in the set of pos items of user u\n",
    "#                         j = np.random.choice(train_items)\n",
    "\n",
    "#                     user_inputs.append(u)\n",
    "#                     item_inputs.append(j)\n",
    "#                     labels.append(0)\n",
    "\n",
    "#             all_user_inputs.append(user_inputs)\n",
    "#             all_item_inputs.append(item_inputs)\n",
    "#             all_labels.append(labels)\n",
    "\n",
    "#         return [all_user_inputs, all_item_inputs, all_labels]"
   ]
  },
  {
   "cell_type": "code",
   "execution_count": null,
   "metadata": {},
   "outputs": [],
   "source": [
    "# import multiprocessing as mp\n",
    "# if __name__ == '__main__':\n",
    "    \n",
    "#     with mp.Pool(processes=2) as pool:\n",
    "#         results = pool.starmap(create_samples, [(GMF_params, train_set, 'GMF'), (MLP_params, train_set, 'MLP')])\n",
    "        "
   ]
  },
  {
   "cell_type": "markdown",
   "metadata": {},
   "source": [
    "## MP sampler"
   ]
  },
  {
   "cell_type": "code",
   "execution_count": null,
   "metadata": {},
   "outputs": [],
   "source": [
    "def subsampler(worker_id, epochs, user_items, train_users, train_items, params):\n",
    "    print(f'worker {workes_id} started')\n",
    "    all_user_inputs, all_item_inputs, all_labels = [], [], []\n",
    "    for epoch in range(epochs): \n",
    "        user_inputs, item_inputs, labels = [], [], []\n",
    "        for s in range(params['sample_size']):\n",
    "            # Add positive item\n",
    "            u = np.random.choice(train_users)\n",
    "            u_items = user_items[u]\n",
    "            i = np.random.choice(u_items)\n",
    "\n",
    "            user_inputs.append(u)\n",
    "            item_inputs.append(i)\n",
    "            labels.append(1)\n",
    "\n",
    "            # Add negative item\n",
    "            for i in range(params['num_neg']):\n",
    "                j = np.random.choice(train_items)\n",
    "                while j in u_items:  # neg item j cannot be in the set of pos items of user u\n",
    "                    j = np.random.choice(train_items)\n",
    "\n",
    "                user_inputs.append(u)\n",
    "                item_inputs.append(j)\n",
    "                labels.append(0)\n",
    "                \n",
    "        all_user_inputs.append(user_inputs)\n",
    "        all_item_inputs.append(item_inputs)\n",
    "        all_labels.append(labels)\n",
    "        \n",
    "    return {'u':all_user_inputs, 'i':all_item_inputs, 'l':all_labels}"
   ]
  },
  {
   "cell_type": "code",
   "execution_count": null,
   "metadata": {},
   "outputs": [],
   "source": [
    "%%time\n",
    "import multiprocessing as mp\n",
    "from progressbar import progressbar\n",
    "if __name__ == '__main__':\n",
    "    processors = mp.cpu_count()\n",
    "    params = NCF.GMF_params\n",
    "#     params = NCF.MLP_params\n",
    "#     params = NCF.NeuMF_params\n",
    "    data = train_set\n",
    "\n",
    "    all_user_inputs, all_item_inputs, all_labels = [], [], []\n",
    "    user_items = data.groupby('user_id')['item_id'].apply(list)\n",
    "    train_users = data.user_id.unique()\n",
    "    train_items = data.item_id.unique()\n",
    "    \n",
    "    epoch_splits = np.array_split(np.array(range(params['epochs'])), processors)\n",
    "    args = []\n",
    "    for worker_id, epoch_split in enumerate(epoch_splits):\n",
    "        args.append((worker_id, len(epoch_split), user_items, train_users, train_items, params))\n",
    "        \n",
    "    with mp.Pool(processes=processors) as pool:\n",
    "        results = pool.starmap(subsampler, args)\n",
    "    \n",
    "    all_user_inputs, all_item_inputs, all_labels = [], [], []\n",
    "    samples = [[], [], []]\n",
    "    for res_epochs in results:\n",
    "        all_user_inputs.extend(res_epochs['u'])\n",
    "        all_item_inputs.extend(res_epochs['i'])\n",
    "        all_labels.extend(res_epochs['l'])\n",
    "    \n",
    "    GMF_samples_mp = [all_user_inputs, all_item_inputs, all_labels]\n",
    "#     MLP_samples_mp = [all_user_inputs, all_item_inputs, all_labels]\n",
    "#     NeuMF_samples_mp = [all_user_inputs, all_item_inputs, all_labels]\n"
   ]
  },
  {
   "cell_type": "code",
   "execution_count": null,
   "metadata": {},
   "outputs": [],
   "source": [
    "import multiprocessing as mp\n",
    "from Evaluation import get_metrics\n",
    "def train_model(name='', train_set=[], val_set=[], verbose=1, store_path=''):\n",
    "    model, params = NCF.get_model(name)\n",
    "\n",
    "    ckpts_prefix = os.path.join(params['ckpt_dir'], \"ckpt\")\n",
    "    ckpts_callback = tf.keras.callbacks.ModelCheckpoint(filepath=ckpts_prefix,    \n",
    "                                                     monitor='loss',    \n",
    "                                                     mode='min',    \n",
    "                                                     save_best_only=True,\n",
    "                                                     save_weights_only=True)\n",
    "\n",
    "    if len(train_set) == 0:\n",
    "        raise Exception('No samples available, create samples first using: create_samples')\n",
    "        \n",
    "    val_metrics = fit(model, params, train_set, val_set, [ckpts_callback], verbose)\n",
    "\n",
    "    if len(store_path) > 0:\n",
    "        model.save_weights(store_path)\n",
    "        \n",
    "    return val_metrics\n",
    "\n",
    "\n",
    "def fit(model, params, train_set, val_set, callbacks, verbose):\n",
    "    print(f'\\nFitting {model._name} with parameters:')\n",
    "    print(pd.DataFrame.from_dict(params, orient='index'))\n",
    "    user_items = train_set.groupby('user_id')['item_id'].apply(list)\n",
    "    train_users = train_set.user_id.unique()\n",
    "    train_items = train_set.item_id.unique()\n",
    "    num_processes = mp.cpu_count()\n",
    "    val_metrics = []\n",
    "    for epoch in range(params['epochs']):\n",
    "        print(f'Epoch: {epoch}')\n",
    "        user_inputs, item_inputs, labels = create_sample(user_items, train_users, train_items, params, num_processes)\n",
    "        hist = model.fit([np.array(user_inputs), np.array(item_inputs)], \n",
    "                  np.array(labels), \n",
    "                  batch_size=params['batch_size'], \n",
    "                  verbose=verbose, \n",
    "                  epochs=1, \n",
    "                  shuffle=True,\n",
    "                  callbacks=callbacks)\n",
    "        \n",
    "        ranked_df = sample_prediction(model, train_set, val_set)\n",
    "        val_metrics.append(get_metrics(ranked_df, 5, 20, stats=False))\n",
    "        print(val_metrics[-1:])\n",
    "\n",
    "        NCF.history[model._name]['loss'].append(round(hist.history['loss'][0],5))\n",
    "    return val_metrics\n",
    "        \n",
    "        \n",
    "def create_sample(user_items, train_users, train_items, params, num_processes):\n",
    "    samples_sizes_split = np.array_split(np.array(range(params['sample_size'])),8)\n",
    "    args = []\n",
    "    for samples_size in samples_sizes_split:\n",
    "        args.append((user_items, train_users, train_items, len(samples_size), params['num_neg']))\n",
    "    with mp.Pool(processes=num_processes) as pool:\n",
    "        results = pool.starmap(create_sample_worker, args)\n",
    "\n",
    "    user_inputs, item_inputs, labels = [], [], []\n",
    "    for res_epochs in results: \n",
    "        user_inputs.extend(res_epochs['u'])\n",
    "        item_inputs.extend(res_epochs['i'])\n",
    "        labels.extend(res_epochs['l'])\n",
    "\n",
    "    return user_inputs, item_inputs, labels\n",
    "\n",
    "\n",
    "def create_sample_worker(user_items, train_users, train_items, sample_size, num_neg):\n",
    "    user_inputs, item_inputs, labels = [], [], []\n",
    "#     print('worker started')\n",
    "    for s in range(sample_size):\n",
    "        # Add positive item\n",
    "        u = np.random.choice(train_users)\n",
    "        u_items = user_items[u]\n",
    "        i = np.random.choice(u_items)\n",
    "\n",
    "        user_inputs.append(u)\n",
    "        item_inputs.append(i)\n",
    "        labels.append(1)\n",
    "\n",
    "        # Add negative item\n",
    "        for i in range(num_neg):\n",
    "            j = np.random.choice(train_items)\n",
    "            while j in u_items:  # neg item j cannot be in the set of pos items of user u\n",
    "                j = np.random.choice(train_items)\n",
    "\n",
    "            user_inputs.append(u)\n",
    "            item_inputs.append(j)\n",
    "            labels.append(0)\n",
    "\n",
    "    return {'u':user_inputs, 'i':item_inputs, 'l':labels}"
   ]
  }
 ],
 "metadata": {
  "kernelspec": {
   "display_name": "Python 3",
   "language": "python",
   "name": "python3"
  },
  "language_info": {
   "codemirror_mode": {
    "name": "ipython",
    "version": 3
   },
   "file_extension": ".py",
   "mimetype": "text/x-python",
   "name": "python",
   "nbconvert_exporter": "python",
   "pygments_lexer": "ipython3",
   "version": "3.6.9"
  },
  "toc": {
   "base_numbering": 1,
   "nav_menu": {},
   "number_sections": true,
   "sideBar": true,
   "skip_h1_title": false,
   "title_cell": "Table of Contents",
   "title_sidebar": "Contents",
   "toc_cell": false,
   "toc_position": {},
   "toc_section_display": true,
   "toc_window_display": true
  }
 },
 "nbformat": 4,
 "nbformat_minor": 4
}
