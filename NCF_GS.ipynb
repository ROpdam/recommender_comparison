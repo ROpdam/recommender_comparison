{
 "cells": [
  {
   "cell_type": "code",
   "execution_count": 1,
   "metadata": {},
   "outputs": [],
   "source": [
    "import pandas as pd\n",
    "import numpy as np\n",
    "import tensorflow as tf\n",
    "import os\n",
    "import progressbar as progressbar\n",
    "\n",
    "%load_ext autoreload\n",
    "%autoreload 2"
   ]
  },
  {
   "cell_type": "code",
   "execution_count": 2,
   "metadata": {},
   "outputs": [
    {
     "name": "stdout",
     "output_type": "stream",
     "text": [
      "TF version: 2.2.0\n"
     ]
    },
    {
     "data": {
      "text/plain": [
       "[PhysicalDevice(name='/physical_device:CPU:0', device_type='CPU'),\n",
       " PhysicalDevice(name='/physical_device:XLA_CPU:0', device_type='XLA_CPU')]"
      ]
     },
     "execution_count": 2,
     "metadata": {},
     "output_type": "execute_result"
    }
   ],
   "source": [
    "print(f'TF version: {tf.__version__}')\n",
    "tf.config.list_physical_devices()"
   ]
  },
  {
   "cell_type": "markdown",
   "metadata": {},
   "source": [
    "# Read Data"
   ]
  },
  {
   "cell_type": "code",
   "execution_count": 92,
   "metadata": {},
   "outputs": [],
   "source": [
    "# path = 'C:/Users/robin.opdam/Google Drive/Thesis (Msc)/Thesis_shared_files/'\n",
    "# path = '/Users/Robin/Google Drive/Thesis (Msc)/Thesis_shared_files/'\n",
    "path = '../datasets/'"
   ]
  },
  {
   "cell_type": "markdown",
   "metadata": {},
   "source": [
    "## Amazon Fashion"
   ]
  },
  {
   "cell_type": "code",
   "execution_count": 93,
   "metadata": {},
   "outputs": [],
   "source": [
    "# data_path = 'data/Amazon/'\n",
    "# file_name = 'Amazon_full' # file_name = 'Amazon_05_users' \n",
    "# file_name = 'Amazon_01_users'\n",
    "# file_name = 'am_80k_users'\n",
    "file_name = 'am_40k_users'"
   ]
  },
  {
   "cell_type": "markdown",
   "metadata": {},
   "source": [
    "## MovieLens"
   ]
  },
  {
   "cell_type": "code",
   "execution_count": 94,
   "metadata": {},
   "outputs": [],
   "source": [
    "# data_path = 'data/ML/'\n",
    "file_name = 'ml_1m'\n",
    "# file_name = 'ML_full' # file_name = 'ML_05_users'\n",
    "# file_name = 'ML_01_users'"
   ]
  },
  {
   "cell_type": "code",
   "execution_count": 95,
   "metadata": {},
   "outputs": [
    {
     "data": {
      "text/html": [
       "<div>\n",
       "<style scoped>\n",
       "    .dataframe tbody tr th:only-of-type {\n",
       "        vertical-align: middle;\n",
       "    }\n",
       "\n",
       "    .dataframe tbody tr th {\n",
       "        vertical-align: top;\n",
       "    }\n",
       "\n",
       "    .dataframe thead th {\n",
       "        text-align: right;\n",
       "    }\n",
       "</style>\n",
       "<table border=\"1\" class=\"dataframe\">\n",
       "  <thead>\n",
       "    <tr style=\"text-align: right;\">\n",
       "      <th></th>\n",
       "      <th>rating</th>\n",
       "      <th>datetime</th>\n",
       "      <th>user_id</th>\n",
       "      <th>item_id</th>\n",
       "    </tr>\n",
       "  </thead>\n",
       "  <tbody>\n",
       "    <tr>\n",
       "      <th>0</th>\n",
       "      <td>4</td>\n",
       "      <td>2000-12-31 22:00:19</td>\n",
       "      <td>0</td>\n",
       "      <td>2969</td>\n",
       "    </tr>\n",
       "    <tr>\n",
       "      <th>1</th>\n",
       "      <td>4</td>\n",
       "      <td>2000-12-31 22:00:55</td>\n",
       "      <td>0</td>\n",
       "      <td>1574</td>\n",
       "    </tr>\n",
       "    <tr>\n",
       "      <th>2</th>\n",
       "      <td>5</td>\n",
       "      <td>2000-12-31 22:00:55</td>\n",
       "      <td>0</td>\n",
       "      <td>957</td>\n",
       "    </tr>\n",
       "    <tr>\n",
       "      <th>3</th>\n",
       "      <td>5</td>\n",
       "      <td>2000-12-31 22:00:55</td>\n",
       "      <td>0</td>\n",
       "      <td>1178</td>\n",
       "    </tr>\n",
       "    <tr>\n",
       "      <th>4</th>\n",
       "      <td>3</td>\n",
       "      <td>2000-12-31 22:01:43</td>\n",
       "      <td>0</td>\n",
       "      <td>2147</td>\n",
       "    </tr>\n",
       "  </tbody>\n",
       "</table>\n",
       "</div>"
      ],
      "text/plain": [
       "   rating            datetime  user_id  item_id\n",
       "0       4 2000-12-31 22:00:19        0     2969\n",
       "1       4 2000-12-31 22:00:55        0     1574\n",
       "2       5 2000-12-31 22:00:55        0      957\n",
       "3       5 2000-12-31 22:00:55        0     1178\n",
       "4       3 2000-12-31 22:01:43        0     2147"
      ]
     },
     "execution_count": 95,
     "metadata": {},
     "output_type": "execute_result"
    }
   ],
   "source": [
    "df = pd.read_pickle(path + file_name)\n",
    "df.user_id = df.user_id.astype('category').cat.codes\n",
    "df.item_id = df.item_id.astype('category').cat.codes\n",
    "df.head()"
   ]
  },
  {
   "cell_type": "markdown",
   "metadata": {},
   "source": [
    "### Create ML split (paper)"
   ]
  },
  {
   "cell_type": "code",
   "execution_count": 55,
   "metadata": {},
   "outputs": [
    {
     "name": "stderr",
     "output_type": "stream",
     "text": [
      "100% |########################################################################|\n"
     ]
    }
   ],
   "source": [
    "test_set = pd.DataFrame()\n",
    "train_set = pd.DataFrame()\n",
    "pbar = progressbar.ProgressBar()\n",
    "for u in pbar(df.user_id.unique()):\n",
    "    last_item = df[df.user_id==u].iloc[-1:]\n",
    "    test_set = test_set.append(last_item)\n",
    "    remaining = df[df.user_id==u].iloc[:-1]\n",
    "    train_set = pd.concat([train_set, remaining])"
   ]
  },
  {
   "cell_type": "code",
   "execution_count": 96,
   "metadata": {},
   "outputs": [],
   "source": [
    "test_set = pd.read_pickle(path + 'ml_1m_test')\n",
    "train_set = pd.read_pickle(path + 'ml_1m_train')"
   ]
  },
  {
   "cell_type": "markdown",
   "metadata": {},
   "source": [
    "---\n",
    "# Data Prep"
   ]
  },
  {
   "cell_type": "markdown",
   "metadata": {},
   "source": [
    "## Dataset Params"
   ]
  },
  {
   "cell_type": "code",
   "execution_count": 50,
   "metadata": {},
   "outputs": [],
   "source": [
    "val_perc = test_perc = 0.1\n",
    "n_last_items_val = n_last_items_test = 1\n",
    "\n",
    "total_items = len(df.item_id.unique())\n",
    "total_users = len(df.user_id.unique())"
   ]
  },
  {
   "cell_type": "code",
   "execution_count": 56,
   "metadata": {},
   "outputs": [
    {
     "data": {
      "text/plain": [
       "6040"
      ]
     },
     "execution_count": 56,
     "metadata": {},
     "output_type": "execute_result"
    }
   ],
   "source": [
    "len(train_set.user_id.unique())"
   ]
  },
  {
   "cell_type": "markdown",
   "metadata": {},
   "source": [
    "## Create Split"
   ]
  },
  {
   "cell_type": "code",
   "execution_count": 9,
   "metadata": {},
   "outputs": [],
   "source": [
    "from Data_prep import train_val_test_split\n",
    "datasets = train_val_test_split(df, val_perc, test_perc, n_last_items_val, n_last_items_test)\n",
    "train_set, val_set, test_set = datasets"
   ]
  },
  {
   "cell_type": "markdown",
   "metadata": {},
   "source": [
    "---\n",
    "# Neural Collaborative Filtering (NCF)\n",
    "Using the NCF framework we build Generalized Matrix Factorisation (GMF), Multiplayer Perceptron Matrix Factorisation (MLP) and combine the two in Neural Matrix Factorisation (NeuMF)\n",
    "- paper: http://papers.www2017.com.au.s3-website-ap-southeast-2.amazonaws.com/proceedings/p173.pdf\n",
    "- blog: https://medium.com/@victorkohler/collaborative-filtering-using-deep-neural-networks-in-tensorflow-96e5d41a39a1\n",
    "- code: https://github.com/Leavingseason/NeuralCF/blob/master"
   ]
  },
  {
   "cell_type": "markdown",
   "metadata": {},
   "source": [
    "## Set Parameters"
   ]
  },
  {
   "cell_type": "code",
   "execution_count": 23,
   "metadata": {},
   "outputs": [],
   "source": [
    "# run_num = 'am_40k_GS_'\n",
    "run_num = 'ml_1m_nolf_8'"
   ]
  },
  {
   "cell_type": "code",
   "execution_count": 143,
   "metadata": {},
   "outputs": [],
   "source": [
    "GMF_params = {\n",
    "    'learning_rate': 0.001,\n",
    "    'batch_size': 256,\n",
    "    'nolf': 8,\n",
    "    'regs': [0.000001,0.000001], #ML: [0.000001,0.000001]\n",
    "    'epochs': 20,\n",
    "    'sample_size': len(train_set),#int(0.5*len(train_set.user_id.unique())),\n",
    "    'num_neg': 4,\n",
    "    'ckpt_dir': f'../NeuMF_storage/GMF_ckpts_{run_num}/ckpts',\n",
    "    'optimizer':'Adam'\n",
    "}"
   ]
  },
  {
   "cell_type": "code",
   "execution_count": 12,
   "metadata": {},
   "outputs": [],
   "source": [
    "# MLP_params = {\n",
    "#     'learning_rate': 0.001,\n",
    "#     'batch_size': 256,\n",
    "#     'layers': [16,32,16,8],\n",
    "#     'reg_layers': [0.0001,0,0,0],   #ML: [+-0.0005,0,0,0],\n",
    "#     'epochs': 20,\n",
    "#     'sample_size': len(train_set),#int(0.5*len(train_set.user_id.unique())),\n",
    "#     'num_neg': 4,\n",
    "#     'ckpt_dir': f'../NeuMF_storage/MLP_ckpts_{run_num}/ckpts',\n",
    "#     'optimizer':'Adam'\n",
    "# }"
   ]
  },
  {
   "cell_type": "code",
   "execution_count": 15,
   "metadata": {},
   "outputs": [],
   "source": [
    "NeuMF_params = {\n",
    "    'learning_rate': 0.001,\n",
    "    'batch_size': 256,\n",
    "    'layers': [16,32,16,8],\n",
    "    'reg_layers': [0.0001,0,0,0],\n",
    "    'reg_mf': [0.000001,0.000001],\n",
    "    'nolf': 8,\n",
    "    'epochs': 20,\n",
    "    'sample_size': len(train_set),#int(0.5*len(train_set.user_id.unique())),\n",
    "    'num_neg': 4,\n",
    "    'ckpt_dir': f'../NeuMF_storage/NeuMF_ckpts_{run_num}/ckpts',\n",
    "    'optimizer':'Adam'\n",
    "}"
   ]
  },
  {
   "cell_type": "markdown",
   "metadata": {},
   "source": [
    "## Load samples"
   ]
  },
  {
   "cell_type": "code",
   "execution_count": 37,
   "metadata": {},
   "outputs": [],
   "source": [
    "sample_path = '../NeuMF_storage/samples_ml_1m/'\n",
    "sample_name = 'ml_1m_sample_'\n",
    "\n",
    "# sample_path = '../NeuMF_storage/samples_am_40k/'\n",
    "# sample_name = 'am_40k_sample_'"
   ]
  },
  {
   "cell_type": "code",
   "execution_count": 38,
   "metadata": {},
   "outputs": [
    {
     "name": "stderr",
     "output_type": "stream",
     "text": [
      "100% |########################################################################|\r"
     ]
    },
    {
     "name": "stdout",
     "output_type": "stream",
     "text": [
      "CPU times: user 1min 41s, sys: 11.6 s, total: 1min 52s\n",
      "Wall time: 1min 53s\n"
     ]
    },
    {
     "name": "stderr",
     "output_type": "stream",
     "text": [
      "\n"
     ]
    }
   ],
   "source": [
    "%%time\n",
    "import csv\n",
    "samples = []\n",
    "pbar = progressbar.ProgressBar()\n",
    "for sample_num in pbar(range(20)):\n",
    "    with open(f'{sample_path}{sample_name}{sample_num}.csv', 'r') as read_obj:\n",
    "        sample = [[], [], []]\n",
    "        csv_reader = csv.reader(read_obj)\n",
    "        sample_str = list(csv_reader)\n",
    "        \n",
    "        for user_input, item_input, label in zip(sample_str[0], sample_str[1], sample_str[2]):\n",
    "            sample[0].append(int(user_input))\n",
    "            sample[1].append(int(item_input))\n",
    "            sample[2].append(int(label))\n",
    "        \n",
    "    samples.append(sample)"
   ]
  },
  {
   "cell_type": "markdown",
   "metadata": {},
   "source": [
    "---\n",
    "# Grid Search: NeuMF"
   ]
  },
  {
   "cell_type": "markdown",
   "metadata": {},
   "source": [
    "## Init"
   ]
  },
  {
   "cell_type": "code",
   "execution_count": 21,
   "metadata": {},
   "outputs": [],
   "source": [
    "from NCF import NCF\n",
    "NCF = NCF(total_users, total_items, NeuMF_params=NeuMF_params)\n",
    "NCF.build_NeuMF_model()"
   ]
  },
  {
   "cell_type": "markdown",
   "metadata": {},
   "source": [
    "## Parameter Space"
   ]
  },
  {
   "cell_type": "code",
   "execution_count": 27,
   "metadata": {},
   "outputs": [
    {
     "data": {
      "text/plain": [
       "270"
      ]
     },
     "execution_count": 27,
     "metadata": {},
     "output_type": "execute_result"
    }
   ],
   "source": [
    "learning_rates = [0.005, 0.001, 0.0005, 0.0001]\n",
    "batch_sizes = [128, 256, 512, 1024]\n",
    "gmf_regs = [[0.000001, 0.000001], [0.00001, 0.00001], [0.0001, 0.0001]]\n",
    "mlp_regs = [[0.000001, 0.000001, 0.000001, 0.000001], \n",
    "            [0.00001, 0.00001, 0.00001, 0.00001], \n",
    "            [0.0001, 0.0001, 0.0001, 0.0001],\n",
    "            [0.001, 0.001, 0.001, 0.001],\n",
    "            [0.000001, 0, 0, 0],\n",
    "            [0.00001, 0, 0, 0],\n",
    "            [0.0001, 0, 0, 0],\n",
    "            [0, 0, 0, 0.0001],\n",
    "            [0, 0, 0, 0.00001],\n",
    "            [0, 0, 0, 0.000001]]\n",
    "            \n",
    "total_runs = len(learning_rates) * len(batch_sizes) * len(gmf_regs) * len(mlp_regs)\n",
    "total_runs"
   ]
  },
  {
   "cell_type": "markdown",
   "metadata": {},
   "source": [
    "### Init eval params"
   ]
  },
  {
   "cell_type": "code",
   "execution_count": null,
   "metadata": {},
   "outputs": [],
   "source": [
    "from Evaluation import get_metrics\n",
    "steps = 5\n",
    "rank_at = 20\n",
    "sample_len = 100"
   ]
  },
  {
   "cell_type": "markdown",
   "metadata": {},
   "source": [
    "## Init store results"
   ]
  },
  {
   "cell_type": "code",
   "execution_count": 25,
   "metadata": {},
   "outputs": [
    {
     "ename": "NameError",
     "evalue": "name 'NeuMF_params' is not defined",
     "output_type": "error",
     "traceback": [
      "\u001b[0;31m---------------------------------------------------------------------------\u001b[0m",
      "\u001b[0;31mNameError\u001b[0m                                 Traceback (most recent call last)",
      "\u001b[0;32m<ipython-input-25-8615517b1287>\u001b[0m in \u001b[0;36m<module>\u001b[0;34m\u001b[0m\n\u001b[1;32m      1\u001b[0m \u001b[0mpath\u001b[0m \u001b[0;34m=\u001b[0m \u001b[0;34m'../NeuMF_storage/GS/'\u001b[0m\u001b[0;34m\u001b[0m\u001b[0;34m\u001b[0m\u001b[0m\n\u001b[1;32m      2\u001b[0m \u001b[0mgs_result_name\u001b[0m \u001b[0;34m=\u001b[0m \u001b[0;34m'GS_test'\u001b[0m\u001b[0;34m\u001b[0m\u001b[0;34m\u001b[0m\u001b[0m\n\u001b[0;32m----> 3\u001b[0;31m \u001b[0mstorage_columns\u001b[0m \u001b[0;34m=\u001b[0m \u001b[0;34m[\u001b[0m\u001b[0;34m'tot_val_rec'\u001b[0m\u001b[0;34m]\u001b[0m \u001b[0;34m+\u001b[0m \u001b[0;34m[\u001b[0m\u001b[0;34m'val_metrics'\u001b[0m\u001b[0;34m]\u001b[0m \u001b[0;34m+\u001b[0m \u001b[0mlist\u001b[0m\u001b[0;34m(\u001b[0m\u001b[0mNeuMF_params\u001b[0m\u001b[0;34m.\u001b[0m\u001b[0mkeys\u001b[0m\u001b[0;34m(\u001b[0m\u001b[0;34m)\u001b[0m\u001b[0;34m)\u001b[0m\u001b[0;34m\u001b[0m\u001b[0;34m\u001b[0m\u001b[0m\n\u001b[0m\u001b[1;32m      4\u001b[0m \u001b[0mgs_results\u001b[0m \u001b[0;34m=\u001b[0m \u001b[0mpd\u001b[0m\u001b[0;34m.\u001b[0m\u001b[0mDataFrame\u001b[0m\u001b[0;34m(\u001b[0m\u001b[0mcolumns\u001b[0m\u001b[0;34m=\u001b[0m\u001b[0mstorage_columns\u001b[0m\u001b[0;34m)\u001b[0m\u001b[0;34m\u001b[0m\u001b[0;34m\u001b[0m\u001b[0m\n\u001b[1;32m      5\u001b[0m \u001b[0mgs_results\u001b[0m\u001b[0;34m.\u001b[0m\u001b[0mto_pickle\u001b[0m\u001b[0;34m(\u001b[0m\u001b[0mpath\u001b[0m \u001b[0;34m+\u001b[0m \u001b[0mgs_result_name\u001b[0m\u001b[0;34m)\u001b[0m\u001b[0;34m\u001b[0m\u001b[0;34m\u001b[0m\u001b[0m\n",
      "\u001b[0;31mNameError\u001b[0m: name 'NeuMF_params' is not defined"
     ]
    }
   ],
   "source": [
    "path = '../NeuMF_storage/GS/'\n",
    "gs_result_name = 'GS_test'\n",
    "storage_columns = ['tot_val_rec'] + ['val_metrics'] + list(NeuMF_params.keys())\n",
    "gs_results = pd.DataFrame(columns=storage_columns)\n",
    "gs_results.to_pickle(path + gs_result_name)"
   ]
  },
  {
   "cell_type": "markdown",
   "metadata": {},
   "source": [
    "## Run Grid Search"
   ]
  },
  {
   "cell_type": "code",
   "execution_count": null,
   "metadata": {},
   "outputs": [],
   "source": [
    "all_\n",
    "for learning_rate in learning_rates:\n",
    "    NCF.NeuMF_params['learning_rate'] = learning_rate\n",
    "    \n",
    "    for batch_size in batch_sizes:\n",
    "        NCF.NeuMF_params['batch_size'] = batch_size\n",
    "        \n",
    "        for gmf_reg in gmf_regs:\n",
    "            NCF.NeuMF_params['reg_mf'] = gmf_reg\n",
    "            \n",
    "            for mlp_reg in mlp_regs:\n",
    "                NCF.NeuMF_params['reg_layers'] = mlp_reg\n",
    "                \n",
    "                \n",
    "                "
   ]
  },
  {
   "cell_type": "markdown",
   "metadata": {},
   "source": [
    "---\n",
    "## NeuMF"
   ]
  },
  {
   "cell_type": "markdown",
   "metadata": {},
   "source": [
    "### Full set scores"
   ]
  },
  {
   "cell_type": "code",
   "execution_count": null,
   "metadata": {},
   "outputs": [],
   "source": [
    "%%time\n",
    "NeuMF_ranked_df_full = NCF.get_predictions('NeuMF', test_set)"
   ]
  },
  {
   "cell_type": "code",
   "execution_count": null,
   "metadata": {},
   "outputs": [],
   "source": [
    "from Evaluation import get_metrics\n",
    "get_metrics(NeuMF_ranked_df_full, steps, rank_at, stats=False)"
   ]
  },
  {
   "cell_type": "code",
   "execution_count": 40,
   "metadata": {},
   "outputs": [],
   "source": [
    "metrics_all_sample.to_pickle('../results/NCF/NCF_metrics_all_sample_am_40k')"
   ]
  },
  {
   "cell_type": "markdown",
   "metadata": {},
   "source": [
    "### Sample scores"
   ]
  },
  {
   "cell_type": "code",
   "execution_count": null,
   "metadata": {},
   "outputs": [],
   "source": [
    "%%time\n",
    "NeuMF_ranked_df = NCF.sample_prediction('NeuMF', train_set, test_set)"
   ]
  },
  {
   "cell_type": "code",
   "execution_count": null,
   "metadata": {},
   "outputs": [],
   "source": [
    "from Evaluation import get_metrics\n",
    "get_metrics(NeuMF_ranked_df, steps, rank_at, stats=False)"
   ]
  },
  {
   "cell_type": "markdown",
   "metadata": {},
   "source": [
    "---\n",
    "# Grid Search: GMF"
   ]
  },
  {
   "cell_type": "markdown",
   "metadata": {},
   "source": [
    "## Init"
   ]
  },
  {
   "cell_type": "code",
   "execution_count": 98,
   "metadata": {},
   "outputs": [],
   "source": [
    "from NCF import NCF\n",
    "NCF = NCF(total_users, total_items, GMF_params=GMF_params)\n",
    "NCF.build_GMF_model()"
   ]
  },
  {
   "cell_type": "markdown",
   "metadata": {},
   "source": [
    "## Parameter Space"
   ]
  },
  {
   "cell_type": "code",
   "execution_count": 99,
   "metadata": {},
   "outputs": [
    {
     "data": {
      "text/plain": [
       "32"
      ]
     },
     "execution_count": 99,
     "metadata": {},
     "output_type": "execute_result"
    }
   ],
   "source": [
    "learning_rates = [0.005, 0.001, 0.0005, 0.0001]\n",
    "batch_sizes = [1024, 128, 256, 512]\n",
    "regs = [[0, 0], [0.000001, 0.000001]]\n",
    "            \n",
    "total_runs = len(learning_rates) * len(batch_sizes) * len(regs)\n",
    "total_runs"
   ]
  },
  {
   "cell_type": "markdown",
   "metadata": {},
   "source": [
    "### Init eval params"
   ]
  },
  {
   "cell_type": "code",
   "execution_count": 100,
   "metadata": {},
   "outputs": [],
   "source": [
    "from Evaluation import get_metrics\n",
    "steps = 5\n",
    "rank_at = 20\n",
    "sample_len = 100"
   ]
  },
  {
   "cell_type": "markdown",
   "metadata": {},
   "source": [
    "## Init store results"
   ]
  },
  {
   "cell_type": "code",
   "execution_count": 142,
   "metadata": {},
   "outputs": [],
   "source": [
    "store_path = '../NeuMF_storage/GS/'\n",
    "gs_result_name = 'GS_test'\n",
    "storage_columns = ['test_rec@10'] + ['val_metrics'] + ['test_metrics'] + list(GMF_params.keys())\n",
    "gs_results = pd.DataFrame(columns=storage_columns)\n",
    "gs_results.to_pickle(store_path + gs_result_name)"
   ]
  },
  {
   "cell_type": "markdown",
   "metadata": {},
   "source": [
    "## Run Grid Search"
   ]
  },
  {
   "cell_type": "code",
   "execution_count": 115,
   "metadata": {},
   "outputs": [
    {
     "name": "stdout",
     "output_type": "stream",
     "text": [
      "\n",
      "Fitting GMF with parameters:\n",
      "learning_rate                                            0.005\n",
      "batch_size                                                1024\n",
      "nolf                                                         8\n",
      "regs                                                    [0, 0]\n",
      "epochs                                                       2\n",
      "sample_size                                             994169\n",
      "num_neg                                                      4\n",
      "ckpt_dir         ../NeuMF_storage/GMF_ckpts_ml_1m_nolf_8/ckpts\n",
      "optimizer                                                 Adam\n",
      "Name: 0, dtype: object\n",
      "Epoch: 0\n",
      "Train on 4970845 samples\n",
      "4970845/4970845 [==============================] - 17s 3us/sample - loss: 0.1749\n"
     ]
    },
    {
     "name": "stderr",
     "output_type": "stream",
     "text": [
      "100% |########################################################################|\n"
     ]
    },
    {
     "name": "stdout",
     "output_type": "stream",
     "text": [
      "[   rank_at  hitcounts  recall  precision      ndcg\n",
      "0        1         34   0.068   0.068000  0.068000\n",
      "1        5        127   0.254   0.050800  0.161353\n",
      "2       10        191   0.382   0.038200  0.202466\n",
      "3       15        257   0.514   0.034267  0.237340\n",
      "4       20        291   0.582   0.029100  0.253399]\n",
      "Epoch: 1\n",
      "Train on 4970845 samples\n",
      "4970845/4970845 [==============================] - 17s 3us/sample - loss: 0.1691\n"
     ]
    },
    {
     "name": "stderr",
     "output_type": "stream",
     "text": [
      "100% |########################################################################|\n"
     ]
    },
    {
     "name": "stdout",
     "output_type": "stream",
     "text": [
      "[   rank_at  hitcounts  recall  precision      ndcg\n",
      "0        1         42   0.084     0.0840  0.084000\n",
      "1        5        120   0.240     0.0480  0.159831\n",
      "2       10        201   0.402     0.0402  0.211907\n",
      "3       15        246   0.492     0.0328  0.235828\n",
      "4       20        300   0.600     0.0300  0.261302]\n"
     ]
    },
    {
     "name": "stderr",
     "output_type": "stream",
     "text": [
      "100% |########################################################################|\n"
     ]
    },
    {
     "ename": "TypeError",
     "evalue": "unhashable type: 'dict'",
     "output_type": "error",
     "traceback": [
      "\u001b[0;31m---------------------------------------------------------------------------\u001b[0m",
      "\u001b[0;31mTypeError\u001b[0m                                 Traceback (most recent call last)",
      "\u001b[0;32m<ipython-input-115-b6831c6d0b2c>\u001b[0m in \u001b[0;36m<module>\u001b[0;34m\u001b[0m\n\u001b[1;32m     17\u001b[0m                     \u001b[0;34m{\u001b[0m\u001b[0;34m'test_rec@10'\u001b[0m\u001b[0;34m:\u001b[0m\u001b[0mtest_metrics\u001b[0m\u001b[0;34m[\u001b[0m\u001b[0;34m'recall'\u001b[0m\u001b[0;34m]\u001b[0m\u001b[0;34m.\u001b[0m\u001b[0miloc\u001b[0m\u001b[0;34m[\u001b[0m\u001b[0;36m2\u001b[0m\u001b[0;34m]\u001b[0m\u001b[0;34m}\u001b[0m\u001b[0;34m,\u001b[0m\u001b[0;34m\u001b[0m\u001b[0;34m\u001b[0m\u001b[0m\n\u001b[1;32m     18\u001b[0m                   \u001b[0;34m**\u001b[0m\u001b[0;34m{\u001b[0m\u001b[0;34m'val_metrics'\u001b[0m\u001b[0;34m}\u001b[0m\u001b[0;34m,\u001b[0m\u001b[0;34m\u001b[0m\u001b[0;34m\u001b[0m\u001b[0m\n\u001b[0;32m---> 19\u001b[0;31m                   **{NCF.GMF_params})\n\u001b[0m\u001b[1;32m     20\u001b[0m             \u001b[0mpd\u001b[0m\u001b[0;34m.\u001b[0m\u001b[0mread_pickle\u001b[0m\u001b[0;34m(\u001b[0m\u001b[0mstore_path\u001b[0m \u001b[0;34m+\u001b[0m \u001b[0mgs_result_name\u001b[0m\u001b[0;34m)\u001b[0m\u001b[0;34m.\u001b[0m\u001b[0mappend\u001b[0m\u001b[0;34m(\u001b[0m\u001b[0mresults\u001b[0m\u001b[0;34m,\u001b[0m \u001b[0mignore_index\u001b[0m\u001b[0;34m=\u001b[0m\u001b[0;32mTrue\u001b[0m\u001b[0;34m)\u001b[0m\u001b[0;34m.\u001b[0m\u001b[0mto_pickle\u001b[0m\u001b[0;34m(\u001b[0m\u001b[0mstore_path\u001b[0m \u001b[0;34m+\u001b[0m \u001b[0mgs_result_name\u001b[0m\u001b[0;34m)\u001b[0m\u001b[0;34m\u001b[0m\u001b[0;34m\u001b[0m\u001b[0m\n\u001b[1;32m     21\u001b[0m \u001b[0;34m\u001b[0m\u001b[0m\n",
      "\u001b[0;31mTypeError\u001b[0m: unhashable type: 'dict'"
     ]
    }
   ],
   "source": [
    "from Evaluation import get_metrics\n",
    "\n",
    "all_val_metrics = []\n",
    "for learning_rate in learning_rates:\n",
    "    NCF.GMF_params['learning_rate'] = learning_rate\n",
    "    \n",
    "    for batch_size in batch_sizes:\n",
    "        NCF.GMF_params['batch_size'] = batch_size\n",
    "        \n",
    "        for reg in regs:\n",
    "            NCF.GMF_params['regs'] = reg\n",
    "            \n",
    "            val_metrics = NCF.train_model('GMF', samples, train_set, test_set.iloc[:500], verbose=1) \n",
    "            ranked_df = NCF.sample_prediction('GMF', train_set, test_set)\n",
    "            test_metrics = get_metrics(ranked_df, steps, rank_at, stats=False)\n",
    "            results = dict(NCF.GMF_params,\n",
    "                **{'test_rec@10':test_metrics['recall'].iloc[2], \n",
    "                'val_metrics':val_metrics,\n",
    "                'test_metrics':test_metrics})\n",
    "\n",
    "            pd.read_pickle(store_path + gs_result_name).append(results, ignore_index=True).to_pickle(store_path + gs_result_name)\n",
    "            \n",
    "            all_val_metrics.append(val_metrics)    \n",
    "                "
   ]
  },
  {
   "cell_type": "code",
   "execution_count": 141,
   "metadata": {},
   "outputs": [
    {
     "data": {
      "text/html": [
       "<div>\n",
       "<style scoped>\n",
       "    .dataframe tbody tr th:only-of-type {\n",
       "        vertical-align: middle;\n",
       "    }\n",
       "\n",
       "    .dataframe tbody tr th {\n",
       "        vertical-align: top;\n",
       "    }\n",
       "\n",
       "    .dataframe thead th {\n",
       "        text-align: right;\n",
       "    }\n",
       "</style>\n",
       "<table border=\"1\" class=\"dataframe\">\n",
       "  <thead>\n",
       "    <tr style=\"text-align: right;\">\n",
       "      <th></th>\n",
       "      <th>test_rec@10</th>\n",
       "      <th>val_metrics</th>\n",
       "      <th>learning_rate</th>\n",
       "      <th>batch_size</th>\n",
       "      <th>nolf</th>\n",
       "      <th>regs</th>\n",
       "      <th>epochs</th>\n",
       "      <th>sample_size</th>\n",
       "      <th>num_neg</th>\n",
       "      <th>ckpt_dir</th>\n",
       "      <th>optimizer</th>\n",
       "      <th>test_metrics</th>\n",
       "    </tr>\n",
       "  </thead>\n",
       "  <tbody>\n",
       "    <tr>\n",
       "      <th>0</th>\n",
       "      <td>0.395033</td>\n",
       "      <td>[[rank_at, hitcounts, recall, precision, ndcg]...</td>\n",
       "      <td>0.005</td>\n",
       "      <td>1024</td>\n",
       "      <td>8</td>\n",
       "      <td>[0, 0]</td>\n",
       "      <td>2</td>\n",
       "      <td>994169</td>\n",
       "      <td>4</td>\n",
       "      <td>../NeuMF_storage/GMF_ckpts_ml_1m_nolf_8/ckpts</td>\n",
       "      <td>Adam</td>\n",
       "      <td>rank_at  hitcounts    recall  precision    ...</td>\n",
       "    </tr>\n",
       "  </tbody>\n",
       "</table>\n",
       "</div>"
      ],
      "text/plain": [
       "   test_rec@10                                        val_metrics  \\\n",
       "0     0.395033  [[rank_at, hitcounts, recall, precision, ndcg]...   \n",
       "\n",
       "   learning_rate batch_size nolf    regs epochs sample_size num_neg  \\\n",
       "0          0.005       1024    8  [0, 0]      2      994169       4   \n",
       "\n",
       "                                        ckpt_dir optimizer  \\\n",
       "0  ../NeuMF_storage/GMF_ckpts_ml_1m_nolf_8/ckpts      Adam   \n",
       "\n",
       "                                        test_metrics  \n",
       "0     rank_at  hitcounts    recall  precision    ...  "
      ]
     },
     "execution_count": 141,
     "metadata": {},
     "output_type": "execute_result"
    }
   ],
   "source": [
    "pd.read_pickle(store_path + gs_result_name)"
   ]
  },
  {
   "cell_type": "code",
   "execution_count": null,
   "metadata": {},
   "outputs": [],
   "source": []
  }
 ],
 "metadata": {
  "kernelspec": {
   "display_name": "Python 3",
   "language": "python",
   "name": "python3"
  },
  "language_info": {
   "codemirror_mode": {
    "name": "ipython",
    "version": 3
   },
   "file_extension": ".py",
   "mimetype": "text/x-python",
   "name": "python",
   "nbconvert_exporter": "python",
   "pygments_lexer": "ipython3",
   "version": "3.6.9"
  },
  "toc": {
   "base_numbering": 1,
   "nav_menu": {},
   "number_sections": true,
   "sideBar": true,
   "skip_h1_title": false,
   "title_cell": "Table of Contents",
   "title_sidebar": "Contents",
   "toc_cell": false,
   "toc_position": {},
   "toc_section_display": true,
   "toc_window_display": true
  }
 },
 "nbformat": 4,
 "nbformat_minor": 4
}
