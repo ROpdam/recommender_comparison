{
 "cells": [
  {
   "cell_type": "code",
   "execution_count": 2,
   "metadata": {},
   "outputs": [],
   "source": [
    "import pandas as pd\n",
    "import numpy as np\n",
    "import tensorflow as tf\n",
    "import os\n",
    "\n",
    "%load_ext autoreload\n",
    "%autoreload 2"
   ]
  },
  {
   "cell_type": "code",
   "execution_count": 3,
   "metadata": {},
   "outputs": [
    {
     "name": "stdout",
     "output_type": "stream",
     "text": [
      "TF version: 2.2.0\n"
     ]
    }
   ],
   "source": [
    "print(f'TF version: {tf.__version__}')"
   ]
  },
  {
   "cell_type": "markdown",
   "metadata": {},
   "source": [
    "# Read Data"
   ]
  },
  {
   "cell_type": "code",
   "execution_count": 4,
   "metadata": {},
   "outputs": [],
   "source": [
    "# path = 'C:/Users/robin.opdam/Google Drive/Thesis (Msc)/Thesis_shared_files/'\n",
    "path = '/Users/Robin/Google Drive/Thesis (Msc)/Thesis_shared_files/'"
   ]
  },
  {
   "cell_type": "markdown",
   "metadata": {},
   "source": [
    "## Amazon Fashion"
   ]
  },
  {
   "cell_type": "code",
   "execution_count": 5,
   "metadata": {},
   "outputs": [],
   "source": [
    "data_path = 'data/Amazon/'\n",
    "# file_name = 'Amazon_full' # file_name = 'Amazon_05_users' \n",
    "file_name = 'Amazon_01_users'"
   ]
  },
  {
   "cell_type": "markdown",
   "metadata": {},
   "source": [
    "## MovieLens"
   ]
  },
  {
   "cell_type": "code",
   "execution_count": 6,
   "metadata": {},
   "outputs": [],
   "source": [
    "# data_path = 'data/ML/'\n",
    "# file_name = 'ML_full' # file_name = 'ML_05_users'\n",
    "# file_name = 'ML_01_users'"
   ]
  },
  {
   "cell_type": "code",
   "execution_count": 7,
   "metadata": {},
   "outputs": [
    {
     "data": {
      "text/html": [
       "<div>\n",
       "<style scoped>\n",
       "    .dataframe tbody tr th:only-of-type {\n",
       "        vertical-align: middle;\n",
       "    }\n",
       "\n",
       "    .dataframe tbody tr th {\n",
       "        vertical-align: top;\n",
       "    }\n",
       "\n",
       "    .dataframe thead th {\n",
       "        text-align: right;\n",
       "    }\n",
       "</style>\n",
       "<table border=\"1\" class=\"dataframe\">\n",
       "  <thead>\n",
       "    <tr style=\"text-align: right;\">\n",
       "      <th></th>\n",
       "      <th>user</th>\n",
       "      <th>item</th>\n",
       "      <th>datetime</th>\n",
       "      <th>rating</th>\n",
       "      <th>item_id</th>\n",
       "      <th>user_id</th>\n",
       "    </tr>\n",
       "  </thead>\n",
       "  <tbody>\n",
       "    <tr>\n",
       "      <th>4983863</th>\n",
       "      <td>A39ZLL8ILVT2J8</td>\n",
       "      <td>B00FXSELCM</td>\n",
       "      <td>2014-03-24</td>\n",
       "      <td>3.0</td>\n",
       "      <td>104506</td>\n",
       "      <td>73226</td>\n",
       "    </tr>\n",
       "    <tr>\n",
       "      <th>7294092</th>\n",
       "      <td>A39ZLL8ILVT2J8</td>\n",
       "      <td>B00VDPQ884</td>\n",
       "      <td>2016-06-29</td>\n",
       "      <td>5.0</td>\n",
       "      <td>175639</td>\n",
       "      <td>73226</td>\n",
       "    </tr>\n",
       "    <tr>\n",
       "      <th>4809981</th>\n",
       "      <td>A39ZLL8ILVT2J8</td>\n",
       "      <td>B00EWC0W3W</td>\n",
       "      <td>2016-08-14</td>\n",
       "      <td>5.0</td>\n",
       "      <td>99224</td>\n",
       "      <td>73226</td>\n",
       "    </tr>\n",
       "    <tr>\n",
       "      <th>9337932</th>\n",
       "      <td>A39ZLL8ILVT2J8</td>\n",
       "      <td>B01EZKMD64</td>\n",
       "      <td>2016-10-03</td>\n",
       "      <td>5.0</td>\n",
       "      <td>238824</td>\n",
       "      <td>73226</td>\n",
       "    </tr>\n",
       "    <tr>\n",
       "      <th>8832820</th>\n",
       "      <td>A39ZLL8ILVT2J8</td>\n",
       "      <td>B01ABS4646</td>\n",
       "      <td>2016-12-22</td>\n",
       "      <td>5.0</td>\n",
       "      <td>222085</td>\n",
       "      <td>73226</td>\n",
       "    </tr>\n",
       "  </tbody>\n",
       "</table>\n",
       "</div>"
      ],
      "text/plain": [
       "                   user        item   datetime  rating  item_id  user_id\n",
       "4983863  A39ZLL8ILVT2J8  B00FXSELCM 2014-03-24     3.0   104506    73226\n",
       "7294092  A39ZLL8ILVT2J8  B00VDPQ884 2016-06-29     5.0   175639    73226\n",
       "4809981  A39ZLL8ILVT2J8  B00EWC0W3W 2016-08-14     5.0    99224    73226\n",
       "9337932  A39ZLL8ILVT2J8  B01EZKMD64 2016-10-03     5.0   238824    73226\n",
       "8832820  A39ZLL8ILVT2J8  B01ABS4646 2016-12-22     5.0   222085    73226"
      ]
     },
     "execution_count": 7,
     "metadata": {},
     "output_type": "execute_result"
    }
   ],
   "source": [
    "df = pd.read_pickle(path + data_path + file_name)\n",
    "df.user_id = df.user_id.astype('category').cat.codes\n",
    "df.item_id = df.item_id.astype('category').cat.codes\n",
    "df.head()"
   ]
  },
  {
   "cell_type": "markdown",
   "metadata": {},
   "source": [
    "---\n",
    "# Data Prep"
   ]
  },
  {
   "cell_type": "markdown",
   "metadata": {},
   "source": [
    "## Dataset Params"
   ]
  },
  {
   "cell_type": "code",
   "execution_count": 8,
   "metadata": {},
   "outputs": [],
   "source": [
    "val_perc = test_perc = 0.1\n",
    "n_last_items_val = n_last_items_test = 1\n",
    "\n",
    "total_items = len(df.item_id.unique())\n",
    "total_users = len(df.user_id.unique())"
   ]
  },
  {
   "cell_type": "markdown",
   "metadata": {},
   "source": [
    "## Create Split"
   ]
  },
  {
   "cell_type": "code",
   "execution_count": 9,
   "metadata": {},
   "outputs": [],
   "source": [
    "from Data_prep import train_val_test_split\n",
    "datasets = train_val_test_split(df, val_perc, test_perc, n_last_items_val, n_last_items_test)\n",
    "train_set, val_set, test_set = datasets"
   ]
  },
  {
   "cell_type": "markdown",
   "metadata": {},
   "source": [
    "---\n",
    "# Neural Matrix Factorisation\n",
    "- paper: http://papers.www2017.com.au.s3-website-ap-southeast-2.amazonaws.com/proceedings/p173.pdf\n",
    "- blog: https://medium.com/@victorkohler/collaborative-filtering-using-deep-neural-networks-in-tensorflow-96e5d41a39a1\n",
    "- code: https://github.com/Leavingseason/NeuralCF/blob/master/GMF.py"
   ]
  },
  {
   "cell_type": "markdown",
   "metadata": {},
   "source": [
    "# GMF"
   ]
  },
  {
   "cell_type": "markdown",
   "metadata": {},
   "source": [
    "## Params"
   ]
  },
  {
   "cell_type": "code",
   "execution_count": 47,
   "metadata": {},
   "outputs": [],
   "source": [
    "GMF_params = {\n",
    "    'learning_rate': 0.0001,\n",
    "    'batch_size': 64,\n",
    "    'nolf': 16,\n",
    "    'regs': [0,0],\n",
    "    'epochs': 1,#20,\n",
    "    'sample_size': int(0.5*len(train_set.user_id.unique())),\n",
    "    'num_neg': 5,\n",
    "    'ckpt_dir': '../NeuMF_storage/GMF_ckpts/ckpts'\n",
    "}"
   ]
  },
  {
   "cell_type": "markdown",
   "metadata": {},
   "source": [
    "## Build GMF Model"
   ]
  },
  {
   "cell_type": "code",
   "execution_count": 11,
   "metadata": {},
   "outputs": [],
   "source": [
    "from Models import build_GMF_model\n",
    "GMF_model = build_GMF_model(total_items=total_items,\n",
    "                            total_users=total_users,\n",
    "                            nolf=GMF_params['nolf'],\n",
    "                            regs=GMF_params['regs'])"
   ]
  },
  {
   "cell_type": "markdown",
   "metadata": {},
   "source": [
    "## Summary"
   ]
  },
  {
   "cell_type": "code",
   "execution_count": null,
   "metadata": {},
   "outputs": [],
   "source": [
    "GMF_model.summary()"
   ]
  },
  {
   "cell_type": "markdown",
   "metadata": {},
   "source": [
    "## Compile"
   ]
  },
  {
   "cell_type": "code",
   "execution_count": 12,
   "metadata": {},
   "outputs": [],
   "source": [
    "optimizer = tf.keras.optimizers.Adam(lr=GMF_params['learning_rate'])\n",
    "GMF_model.compile(optimizer=optimizer, loss='binary_crossentropy')"
   ]
  },
  {
   "cell_type": "markdown",
   "metadata": {},
   "source": [
    "---\n",
    "# Train GMF Model"
   ]
  },
  {
   "cell_type": "markdown",
   "metadata": {},
   "source": [
    "## Configure Checkpoints"
   ]
  },
  {
   "cell_type": "code",
   "execution_count": 13,
   "metadata": {},
   "outputs": [],
   "source": [
    "GMF_ckpts_prefix = os.path.join(GMF_params['ckpt_dir'], \"ckpt\")\n",
    "GMF_ckpts_callback = tf.keras.callbacks.ModelCheckpoint(filepath=GMF_ckpts_prefix,    \n",
    "                                                         monitor='loss',    \n",
    "                                                         mode='min',    \n",
    "                                                         save_best_only=True,\n",
    "                                                         save_weights_only=True)"
   ]
  },
  {
   "cell_type": "markdown",
   "metadata": {},
   "source": [
    "## Create Samples"
   ]
  },
  {
   "cell_type": "code",
   "execution_count": 14,
   "metadata": {},
   "outputs": [
    {
     "name": "stdout",
     "output_type": "stream",
     "text": [
      "\n",
      "Creating Samples\n"
     ]
    },
    {
     "name": "stderr",
     "output_type": "stream",
     "text": [
      "100% |########################################################################|\n"
     ]
    }
   ],
   "source": [
    "from Models import create_NeuMF_samples\n",
    "print('\\nCreating Samples')\n",
    "GMF_u_i_l = create_NeuMF_samples(train_set, GMF_params['epochs'], GMF_params['sample_size'], GMF_params['num_neg'])\n",
    "GMF_all_user_inputs, GMF_all_item_inputs, GMF_all_labels = GMF_u_i_l"
   ]
  },
  {
   "cell_type": "markdown",
   "metadata": {},
   "source": [
    "## Fit"
   ]
  },
  {
   "cell_type": "code",
   "execution_count": 15,
   "metadata": {},
   "outputs": [],
   "source": [
    "from Models import neumf_train_loop"
   ]
  },
  {
   "cell_type": "code",
   "execution_count": 17,
   "metadata": {},
   "outputs": [
    {
     "name": "stdout",
     "output_type": "stream",
     "text": [
      "\n",
      "Fitting GMF with parameters:\n",
      "Parameters:                                               0\n",
      "learning_rate                            0.0001\n",
      "batch_size                                   64\n",
      "nolf                                         16\n",
      "epochs                                        1\n",
      "sample_size                               60686\n",
      "num_neg                                       5\n",
      "ckpt_dir       ../NeuMF_storage/GMF_ckpts/ckpts\n",
      "Epoch: 0\n",
      "5690/5690 [==============================] - 442s 78ms/step - loss: 0.6155\n"
     ]
    }
   ],
   "source": [
    "GMF_model, GMF_hist = neumf_train_loop(GMF_model, GMF_u_i_l, GMF_params, [GMF_ckpts_callback])"
   ]
  },
  {
   "cell_type": "markdown",
   "metadata": {},
   "source": [
    "## Store Weights"
   ]
  },
  {
   "cell_type": "code",
   "execution_count": 36,
   "metadata": {},
   "outputs": [],
   "source": [
    "GMF_weights_path = '../NeuMF_storage/GMF_weights/GMF_weights'\n",
    "GMF_model.save_weights(GMF_weights_path, overwrite=False)"
   ]
  },
  {
   "cell_type": "markdown",
   "metadata": {},
   "source": [
    "\n",
    "# Evaluation"
   ]
  },
  {
   "cell_type": "markdown",
   "metadata": {},
   "source": [
    "## Load model_weights"
   ]
  },
  {
   "cell_type": "code",
   "execution_count": 87,
   "metadata": {},
   "outputs": [
    {
     "data": {
      "text/plain": [
       "<tensorflow.python.training.tracking.util.CheckpointLoadStatus at 0x15aab5610>"
      ]
     },
     "execution_count": 87,
     "metadata": {},
     "output_type": "execute_result"
    }
   ],
   "source": [
    "GMF_model = build_GMF_model(total_items=total_items, total_users=total_users, nolf=GMF_params['nolf'])\n",
    "GMF_model.load_weights(tf.train.latest_checkpoint(GMF_params['ckpt_dir']))"
   ]
  },
  {
   "cell_type": "markdown",
   "metadata": {},
   "source": [
    "## Predict within 100 sample\n",
    "- sample 99 negative items\n",
    "- add 1 true item to sample\n",
    "- predict for sample of 100\n",
    "- rank and evaluate"
   ]
  },
  {
   "cell_type": "code",
   "execution_count": 92,
   "metadata": {},
   "outputs": [],
   "source": [
    "import progressbar\n",
    "def predict_neumf(model, train_set, test_set, sample_len=100, rank_at=20):\n",
    "    user_items = train_set.groupby('user_id')['item_id'].apply(list)\n",
    "    test_user_items = test_set.groupby('user_id')['item_id'].apply(list)\n",
    "    train_items = train_set.item_id.unique()\n",
    "\n",
    "    preds_ranked = []\n",
    "    true_items = []\n",
    "    pbar = progressbar.ProgressBar()\n",
    "    for u in pbar(test_user_items.index):\n",
    "        true_item = test_user_items[u]\n",
    "        pos_items = user_items[u]\n",
    "        neg_items = set(train_items) - set(pos_items)\n",
    "        neg_sample = np.random.choice(list(neg_items), sample_len-1)\n",
    "        total_sample = np.append(neg_sample, true_item)\n",
    "        user_array = np.full(len(total_sample), u, dtype='int32')\n",
    "\n",
    "        preds = np.hstack(model.predict([user_array, np.array(total_sample)], batch_size=sample_len, verbose=0))\n",
    "        ids = np.argpartition(preds, -rank_at)[-rank_at:]\n",
    "        best_ids = np.argsort(preds[ids])[::-1]\n",
    "        best = total_sample[ids[best_ids]]\n",
    "\n",
    "        preds_ranked.append(best)\n",
    "        true_items.append(true_item)\n",
    "\n",
    "    ranked_df = pd.DataFrame(list(zip(test_user_items.index, preds_ranked, true_items)),\n",
    "                             columns=['users', 'pred_items_ranked', 'true_id'])\n",
    "\n",
    "    return ranked_df"
   ]
  },
  {
   "cell_type": "markdown",
   "metadata": {},
   "source": [
    "## Metrics from 100 sample"
   ]
  },
  {
   "cell_type": "code",
   "execution_count": 103,
   "metadata": {},
   "outputs": [
    {
     "data": {
      "text/html": [
       "<div>\n",
       "<style scoped>\n",
       "    .dataframe tbody tr th:only-of-type {\n",
       "        vertical-align: middle;\n",
       "    }\n",
       "\n",
       "    .dataframe tbody tr th {\n",
       "        vertical-align: top;\n",
       "    }\n",
       "\n",
       "    .dataframe thead th {\n",
       "        text-align: right;\n",
       "    }\n",
       "</style>\n",
       "<table border=\"1\" class=\"dataframe\">\n",
       "  <thead>\n",
       "    <tr style=\"text-align: right;\">\n",
       "      <th></th>\n",
       "      <th>rank_at</th>\n",
       "      <th>hitcounts</th>\n",
       "      <th>recall</th>\n",
       "      <th>precision</th>\n",
       "    </tr>\n",
       "  </thead>\n",
       "  <tbody>\n",
       "    <tr>\n",
       "      <th>0</th>\n",
       "      <td>1</td>\n",
       "      <td>1333</td>\n",
       "      <td>0.109829</td>\n",
       "      <td>0.109829</td>\n",
       "    </tr>\n",
       "    <tr>\n",
       "      <th>1</th>\n",
       "      <td>5</td>\n",
       "      <td>2109</td>\n",
       "      <td>0.173766</td>\n",
       "      <td>0.034753</td>\n",
       "    </tr>\n",
       "    <tr>\n",
       "      <th>2</th>\n",
       "      <td>10</td>\n",
       "      <td>2729</td>\n",
       "      <td>0.224850</td>\n",
       "      <td>0.022485</td>\n",
       "    </tr>\n",
       "    <tr>\n",
       "      <th>3</th>\n",
       "      <td>15</td>\n",
       "      <td>3294</td>\n",
       "      <td>0.271401</td>\n",
       "      <td>0.018093</td>\n",
       "    </tr>\n",
       "    <tr>\n",
       "      <th>4</th>\n",
       "      <td>20</td>\n",
       "      <td>3799</td>\n",
       "      <td>0.313010</td>\n",
       "      <td>0.015650</td>\n",
       "    </tr>\n",
       "  </tbody>\n",
       "</table>\n",
       "</div>"
      ],
      "text/plain": [
       "   rank_at  hitcounts    recall  precision\n",
       "0        1       1333  0.109829   0.109829\n",
       "1        5       2109  0.173766   0.034753\n",
       "2       10       2729  0.224850   0.022485\n",
       "3       15       3294  0.271401   0.018093\n",
       "4       20       3799  0.313010   0.015650"
      ]
     },
     "execution_count": 103,
     "metadata": {},
     "output_type": "execute_result"
    }
   ],
   "source": [
    "from Evaluation import get_metrics\n",
    "get_metrics(ranked_df, 5, 20, False)"
   ]
  },
  {
   "cell_type": "markdown",
   "metadata": {},
   "source": [
    "## Predictions on all items\n",
    "- Preferred for final comparison"
   ]
  },
  {
   "cell_type": "code",
   "execution_count": 242,
   "metadata": {},
   "outputs": [
    {
     "name": "stderr",
     "output_type": "stream",
     "text": [
      "100% |########################################################################|\r"
     ]
    },
    {
     "name": "stdout",
     "output_type": "stream",
     "text": [
      "CPU times: user 1h 44min 6s, sys: 8min 7s, total: 1h 52min 13s\n",
      "Wall time: 1h 46min 41s\n"
     ]
    },
    {
     "name": "stderr",
     "output_type": "stream",
     "text": [
      "\n"
     ]
    }
   ],
   "source": [
    "%%time\n",
    "preds_ranked = []\n",
    "true_items = []\n",
    "rank_at = 20\n",
    "# model = MLP_model\n",
    "model = GMF_model\n",
    "pbar = progressbar.ProgressBar()\n",
    "\n",
    "\n",
    "for u in pbar(test_user_items.index):\n",
    "    true_item = test_user_items[u]\n",
    "    \n",
    "    user_array = np.full(total_items, u, dtype='int32')\n",
    "    preds = np.hstack(model.predict([user_array, np.arange(total_items)], batch_size=total_items, verbose=0))\n",
    "    ids = np.argpartition(preds, -rank_at)[-rank_at:]\n",
    "    best_ids = np.argsort(preds[ids])[::-1]\n",
    "    best = np.arange(total_items)[ids[best_ids]]\n",
    "    \n",
    "    preds_ranked.append(best)\n",
    "    true_items.append(true_item)\n",
    "    \n",
    "ranked_df_all = pd.DataFrame(list(zip(test_user_items.index, preds_ranked, true_items)),\n",
    "                         columns=['users', 'pred_items_ranked', 'true_id'])"
   ]
  },
  {
   "cell_type": "markdown",
   "metadata": {},
   "source": [
    "## Metrics from all items ranked"
   ]
  },
  {
   "cell_type": "code",
   "execution_count": 243,
   "metadata": {},
   "outputs": [
    {
     "data": {
      "text/html": [
       "<div>\n",
       "<style scoped>\n",
       "    .dataframe tbody tr th:only-of-type {\n",
       "        vertical-align: middle;\n",
       "    }\n",
       "\n",
       "    .dataframe tbody tr th {\n",
       "        vertical-align: top;\n",
       "    }\n",
       "\n",
       "    .dataframe thead th {\n",
       "        text-align: right;\n",
       "    }\n",
       "</style>\n",
       "<table border=\"1\" class=\"dataframe\">\n",
       "  <thead>\n",
       "    <tr style=\"text-align: right;\">\n",
       "      <th></th>\n",
       "      <th>rank_at</th>\n",
       "      <th>hitcounts</th>\n",
       "      <th>recall</th>\n",
       "      <th>precision</th>\n",
       "    </tr>\n",
       "  </thead>\n",
       "  <tbody>\n",
       "    <tr>\n",
       "      <th>0</th>\n",
       "      <td>1</td>\n",
       "      <td>82</td>\n",
       "      <td>0.006756</td>\n",
       "      <td>0.006756</td>\n",
       "    </tr>\n",
       "    <tr>\n",
       "      <th>1</th>\n",
       "      <td>5</td>\n",
       "      <td>251</td>\n",
       "      <td>0.020681</td>\n",
       "      <td>0.004136</td>\n",
       "    </tr>\n",
       "    <tr>\n",
       "      <th>2</th>\n",
       "      <td>10</td>\n",
       "      <td>347</td>\n",
       "      <td>0.028590</td>\n",
       "      <td>0.002859</td>\n",
       "    </tr>\n",
       "    <tr>\n",
       "      <th>3</th>\n",
       "      <td>15</td>\n",
       "      <td>434</td>\n",
       "      <td>0.035758</td>\n",
       "      <td>0.002384</td>\n",
       "    </tr>\n",
       "    <tr>\n",
       "      <th>4</th>\n",
       "      <td>20</td>\n",
       "      <td>484</td>\n",
       "      <td>0.039878</td>\n",
       "      <td>0.001994</td>\n",
       "    </tr>\n",
       "  </tbody>\n",
       "</table>\n",
       "</div>"
      ],
      "text/plain": [
       "   rank_at  hitcounts    recall  precision\n",
       "0        1         82  0.006756   0.006756\n",
       "1        5        251  0.020681   0.004136\n",
       "2       10        347  0.028590   0.002859\n",
       "3       15        434  0.035758   0.002384\n",
       "4       20        484  0.039878   0.001994"
      ]
     },
     "execution_count": 243,
     "metadata": {},
     "output_type": "execute_result"
    }
   ],
   "source": [
    "from Evaluation import get_metrics\n",
    "get_metrics(ranked_df_all, 5, 20, stats=False)"
   ]
  },
  {
   "cell_type": "markdown",
   "metadata": {},
   "source": [
    "---\n",
    "# MLP"
   ]
  },
  {
   "cell_type": "markdown",
   "metadata": {},
   "source": [
    "## Params"
   ]
  },
  {
   "cell_type": "code",
   "execution_count": 23,
   "metadata": {},
   "outputs": [],
   "source": [
    "MLP_params = {\n",
    "    'learning_rate': 0.01,\n",
    "    'batch_size': 256,\n",
    "    'layers': [32,16,8],\n",
    "    'reg_layers': [0,0,0],\n",
    "    'epochs': 1,#20,\n",
    "    'sample_size': int(0.5*len(train_set.user_id.unique())),\n",
    "    'num_neg': 4,\n",
    "    'ckpt_dir': '../NeuMF_storage/MLP_ckpts/ckpts'\n",
    "}"
   ]
  },
  {
   "cell_type": "code",
   "execution_count": 24,
   "metadata": {},
   "outputs": [],
   "source": [
    "from Models import build_MLP_model\n",
    "MLP_model = build_MLP_model(total_items, total_users, layers=MLP_params['layers'], reg_layers=MLP_params['reg_layers'])"
   ]
  },
  {
   "cell_type": "code",
   "execution_count": null,
   "metadata": {},
   "outputs": [],
   "source": [
    "MLP_model.summary()"
   ]
  },
  {
   "cell_type": "markdown",
   "metadata": {},
   "source": [
    "## Compile"
   ]
  },
  {
   "cell_type": "code",
   "execution_count": 25,
   "metadata": {},
   "outputs": [],
   "source": [
    "optimizer = tf.keras.optimizers.Adam(lr=MLP_params['learning_rate'])\n",
    "MLP_model.compile(optimizer=optimizer, loss='binary_crossentropy')"
   ]
  },
  {
   "cell_type": "markdown",
   "metadata": {},
   "source": [
    "\n",
    "# Train MLP Model"
   ]
  },
  {
   "cell_type": "markdown",
   "metadata": {},
   "source": [
    "## Configure Checkpoints"
   ]
  },
  {
   "cell_type": "code",
   "execution_count": 26,
   "metadata": {},
   "outputs": [],
   "source": [
    "MLP_ckpts_prefix = os.path.join(MLP_params['ckpt_dir'], \"ckpt\")\n",
    "MLP_ckpts_callback = tf.keras.callbacks.ModelCheckpoint(filepath=MLP_ckpts_prefix,    \n",
    "                                                         monitor='loss',    \n",
    "                                                         mode='min',    \n",
    "                                                         save_best_only=True,\n",
    "                                                         save_weights_only=True)"
   ]
  },
  {
   "cell_type": "markdown",
   "metadata": {},
   "source": [
    "## Create Samples"
   ]
  },
  {
   "cell_type": "code",
   "execution_count": 27,
   "metadata": {},
   "outputs": [
    {
     "name": "stdout",
     "output_type": "stream",
     "text": [
      "\n",
      "Creating Samples\n"
     ]
    },
    {
     "name": "stderr",
     "output_type": "stream",
     "text": [
      "100% |########################################################################|\r"
     ]
    },
    {
     "name": "stdout",
     "output_type": "stream",
     "text": [
      "CPU times: user 26.5 s, sys: 784 ms, total: 27.3 s\n",
      "Wall time: 28.2 s\n"
     ]
    },
    {
     "name": "stderr",
     "output_type": "stream",
     "text": [
      "\n"
     ]
    }
   ],
   "source": [
    "%%time\n",
    "from Models import create_NeuMF_samples\n",
    "print('\\nCreating Samples')\n",
    "MLP_u_i_l = create_NeuMF_samples(train_set, MLP_params['epochs'], MLP_params['sample_size'], MLP_params['num_neg'])\n",
    "MLP_all_user_inputs, MLP_all_item_inputs, MLP_all_labels = MLP_u_i_l"
   ]
  },
  {
   "cell_type": "markdown",
   "metadata": {},
   "source": [
    "## Fit"
   ]
  },
  {
   "cell_type": "code",
   "execution_count": 28,
   "metadata": {},
   "outputs": [
    {
     "name": "stdout",
     "output_type": "stream",
     "text": [
      "\n",
      "Fitting model_2 with parameters:\n",
      "Parameters:                                               0\n",
      "learning_rate                              0.01\n",
      "batch_size                                  256\n",
      "layers                              [32, 16, 8]\n",
      "reg_layers                            [0, 0, 0]\n",
      "epochs                                        1\n",
      "sample_size                               60686\n",
      "num_neg                                       4\n",
      "ckpt_dir       ../NeuMF_storage/MLP_ckpts/ckpts\n",
      "Epoch: 0\n",
      "1186/1186 [==============================] - 93s 78ms/step - loss: 0.4567\n"
     ]
    }
   ],
   "source": [
    "MLP_model, MLP_hist = neumf_train_loop(MLP_model, MLP_u_i_l, MLP_params, [MLP_ckpts_callback])"
   ]
  },
  {
   "cell_type": "markdown",
   "metadata": {},
   "source": [
    "## Store Weights"
   ]
  },
  {
   "cell_type": "code",
   "execution_count": 37,
   "metadata": {},
   "outputs": [
    {
     "name": "stdin",
     "output_type": "stream",
     "text": [
      "[WARNING] ../NeuMF_storage/MLP_weights/MLP_weights.index already exists - overwrite? [y/n] y\n"
     ]
    },
    {
     "name": "stdout",
     "output_type": "stream",
     "text": [
      "[TIP] Next time specify overwrite=True!\n"
     ]
    }
   ],
   "source": [
    "MLP_weights_path = '../NeuMF_storage/MLP_weights/MLP_weights'\n",
    "MLP_model.save_weights(MLP_weights_path, overwrite=False)"
   ]
  },
  {
   "cell_type": "code",
   "execution_count": 118,
   "metadata": {},
   "outputs": [
    {
     "name": "stderr",
     "output_type": "stream",
     "text": [
      "100% |########################################################################|\r"
     ]
    },
    {
     "name": "stdout",
     "output_type": "stream",
     "text": [
      "CPU times: user 41min 28s, sys: 44.3 s, total: 42min 13s\n",
      "Wall time: 42min 35s\n"
     ]
    },
    {
     "name": "stderr",
     "output_type": "stream",
     "text": [
      "\n"
     ]
    }
   ],
   "source": [
    "%%time\n",
    "ranked_df_MLP = predict_neumf(MLP_model, train_set, test_set)"
   ]
  },
  {
   "cell_type": "code",
   "execution_count": 120,
   "metadata": {},
   "outputs": [
    {
     "data": {
      "text/html": [
       "<div>\n",
       "<style scoped>\n",
       "    .dataframe tbody tr th:only-of-type {\n",
       "        vertical-align: middle;\n",
       "    }\n",
       "\n",
       "    .dataframe tbody tr th {\n",
       "        vertical-align: top;\n",
       "    }\n",
       "\n",
       "    .dataframe thead th {\n",
       "        text-align: right;\n",
       "    }\n",
       "</style>\n",
       "<table border=\"1\" class=\"dataframe\">\n",
       "  <thead>\n",
       "    <tr style=\"text-align: right;\">\n",
       "      <th></th>\n",
       "      <th>rank_at</th>\n",
       "      <th>hitcounts</th>\n",
       "      <th>recall</th>\n",
       "      <th>precision</th>\n",
       "    </tr>\n",
       "  </thead>\n",
       "  <tbody>\n",
       "    <tr>\n",
       "      <th>0</th>\n",
       "      <td>1</td>\n",
       "      <td>1963</td>\n",
       "      <td>0.161737</td>\n",
       "      <td>0.161737</td>\n",
       "    </tr>\n",
       "    <tr>\n",
       "      <th>1</th>\n",
       "      <td>5</td>\n",
       "      <td>4660</td>\n",
       "      <td>0.383950</td>\n",
       "      <td>0.076790</td>\n",
       "    </tr>\n",
       "    <tr>\n",
       "      <th>2</th>\n",
       "      <td>10</td>\n",
       "      <td>6607</td>\n",
       "      <td>0.544368</td>\n",
       "      <td>0.054437</td>\n",
       "    </tr>\n",
       "    <tr>\n",
       "      <th>3</th>\n",
       "      <td>15</td>\n",
       "      <td>7674</td>\n",
       "      <td>0.632281</td>\n",
       "      <td>0.042152</td>\n",
       "    </tr>\n",
       "    <tr>\n",
       "      <th>4</th>\n",
       "      <td>20</td>\n",
       "      <td>8296</td>\n",
       "      <td>0.683530</td>\n",
       "      <td>0.034176</td>\n",
       "    </tr>\n",
       "  </tbody>\n",
       "</table>\n",
       "</div>"
      ],
      "text/plain": [
       "   rank_at  hitcounts    recall  precision\n",
       "0        1       1963  0.161737   0.161737\n",
       "1        5       4660  0.383950   0.076790\n",
       "2       10       6607  0.544368   0.054437\n",
       "3       15       7674  0.632281   0.042152\n",
       "4       20       8296  0.683530   0.034176"
      ]
     },
     "execution_count": 120,
     "metadata": {},
     "output_type": "execute_result"
    }
   ],
   "source": [
    "from Evaluation import get_metrics\n",
    "get_metrics(ranked_df_MLP, 5, 20, False)"
   ]
  },
  {
   "cell_type": "markdown",
   "metadata": {},
   "source": [
    "---\n",
    "# NeuMF"
   ]
  },
  {
   "cell_type": "markdown",
   "metadata": {},
   "source": [
    "## Params"
   ]
  },
  {
   "cell_type": "code",
   "execution_count": 30,
   "metadata": {},
   "outputs": [],
   "source": [
    "NeuMF_params = {\n",
    "    'learning_rate': 0.001,\n",
    "    'batch_size': 256,\n",
    "    'layers': [32,16,8],\n",
    "    'reg_layers': [0,0,0],\n",
    "    'nolf': 16,\n",
    "    'epochs': 1,#20,\n",
    "    'sample_size': int(0.5*len(train_set.user_id.unique())),\n",
    "    'num_neg': 4,\n",
    "    'ckpt_dir': '../MLP_ckpts/ckpts'\n",
    "}"
   ]
  },
  {
   "cell_type": "code",
   "execution_count": 56,
   "metadata": {},
   "outputs": [
    {
     "data": {
      "text/plain": [
       "[16, 8]"
      ]
     },
     "execution_count": 56,
     "metadata": {},
     "output_type": "execute_result"
    }
   ],
   "source": [
    "[MLP_params['layers'][i] for i in range(1, len(MLP_params['layers']))]"
   ]
  },
  {
   "cell_type": "code",
   "execution_count": 73,
   "metadata": {},
   "outputs": [],
   "source": [
    "from Models import build_NeuMF_model\n",
    "NeuMF_model = build_NeuMF_model(total_users, total_items, mf_nolf=GMF_params['nolf'], reg_mf=GMF_params['regs'], layers=MLP_params['layers'], reg_layers=MLP_params['reg_layers'])"
   ]
  },
  {
   "cell_type": "code",
   "execution_count": 74,
   "metadata": {},
   "outputs": [
    {
     "name": "stdout",
     "output_type": "stream",
     "text": [
      "Model: \"NeuMF\"\n",
      "__________________________________________________________________________________________________\n",
      "Layer (type)                    Output Shape         Param #     Connected to                     \n",
      "==================================================================================================\n",
      "user_input (InputLayer)         [(None, 1)]          0                                            \n",
      "__________________________________________________________________________________________________\n",
      "item_input (InputLayer)         [(None, 1)]          0                                            \n",
      "__________________________________________________________________________________________________\n",
      "mlp_embedding_user (Embedding)  (None, 1, 16)        1941952     user_input[0][0]                 \n",
      "__________________________________________________________________________________________________\n",
      "mlp_embedding_item (Embedding)  (None, 1, 16)        3959440     item_input[0][0]                 \n",
      "__________________________________________________________________________________________________\n",
      "flatten_66 (Flatten)            (None, 16)           0           mlp_embedding_user[0][0]         \n",
      "__________________________________________________________________________________________________\n",
      "flatten_67 (Flatten)            (None, 16)           0           mlp_embedding_item[0][0]         \n",
      "__________________________________________________________________________________________________\n",
      "mf_embedding_user (Embedding)   (None, 1, 16)        1941952     user_input[0][0]                 \n",
      "__________________________________________________________________________________________________\n",
      "mf_embedding_item (Embedding)   (None, 1, 16)        3959440     item_input[0][0]                 \n",
      "__________________________________________________________________________________________________\n",
      "concatenate_20 (Concatenate)    (None, 32)           0           flatten_66[0][0]                 \n",
      "                                                                 flatten_67[0][0]                 \n",
      "__________________________________________________________________________________________________\n",
      "flatten_64 (Flatten)            (None, 16)           0           mf_embedding_user[0][0]          \n",
      "__________________________________________________________________________________________________\n",
      "flatten_65 (Flatten)            (None, 16)           0           mf_embedding_item[0][0]          \n",
      "__________________________________________________________________________________________________\n",
      "layer1 (Dense)                  (None, 16)           528         concatenate_20[0][0]             \n",
      "__________________________________________________________________________________________________\n",
      "multiply_16 (Multiply)          (None, 16)           0           flatten_64[0][0]                 \n",
      "                                                                 flatten_65[0][0]                 \n",
      "__________________________________________________________________________________________________\n",
      "layer2 (Dense)                  (None, 8)            136         layer1[0][0]                     \n",
      "__________________________________________________________________________________________________\n",
      "concatenate_21 (Concatenate)    (None, 24)           0           multiply_16[0][0]                \n",
      "                                                                 layer2[0][0]                     \n",
      "__________________________________________________________________________________________________\n",
      "prediction (Dense)              (None, 1)            25          concatenate_21[0][0]             \n",
      "==================================================================================================\n",
      "Total params: 11,803,473\n",
      "Trainable params: 11,803,473\n",
      "Non-trainable params: 0\n",
      "__________________________________________________________________________________________________\n"
     ]
    }
   ],
   "source": [
    "NeuMF_model.summary()"
   ]
  },
  {
   "cell_type": "code",
   "execution_count": 32,
   "metadata": {},
   "outputs": [],
   "source": [
    "optimizer = tf.keras.optimizers.Adam(lr=NeuMF_params['learning_rate'])\n",
    "NeuMF_model.compile(optimizer=optimizer, loss='binary_crossentropy')"
   ]
  },
  {
   "cell_type": "markdown",
   "metadata": {},
   "source": [
    "## Configure Checkpoints"
   ]
  },
  {
   "cell_type": "code",
   "execution_count": 33,
   "metadata": {},
   "outputs": [],
   "source": [
    "NeuMF_ckpts_prefix = os.path.join(NeuMF_params['ckpt_dir'], \"ckpt\")\n",
    "NeuMF_ckpts_callback = tf.keras.callbacks.ModelCheckpoint(filepath=NeuMF_ckpts_prefix,    \n",
    "                                                         monitor='loss',    \n",
    "                                                         mode='min',    \n",
    "                                                         save_best_only=True,\n",
    "                                                         save_weights_only=True)"
   ]
  },
  {
   "cell_type": "markdown",
   "metadata": {},
   "source": [
    "## Create Samples"
   ]
  },
  {
   "cell_type": "code",
   "execution_count": 34,
   "metadata": {},
   "outputs": [
    {
     "name": "stdout",
     "output_type": "stream",
     "text": [
      "\n",
      "Creating Samples\n"
     ]
    }
   ],
   "source": [
    "from Models import create_NeuMF_samples\n",
    "print('\\nCreating Samples')\n",
    "# NeuMF_u_i_l = create_NeuMF_samples(train_set, NeuMF_params['epochs'], NeuMF_params['sample_size'], NeuMF_params['num_neg'])\n",
    "\n",
    "# Re-use of samples\n",
    "NeuMF_u_i_l = MLP_u_i_l\n",
    "NeuMF_all_user_inputs, NeuMF_all_item_inputs, NeuMF_all_labels = NeuMF_u_i_l"
   ]
  },
  {
   "cell_type": "markdown",
   "metadata": {},
   "source": [
    "## Fit"
   ]
  },
  {
   "cell_type": "code",
   "execution_count": 234,
   "metadata": {},
   "outputs": [
    {
     "name": "stdout",
     "output_type": "stream",
     "text": [
      "\n",
      "Fitting NeuMF with parameters:\n",
      "Parameters:                                 0\n",
      "learning_rate               0.001\n",
      "batch_size                    256\n",
      "layers                [32, 16, 8]\n",
      "reg_layers              [0, 0, 0]\n",
      "nolf                           16\n",
      "epochs                         20\n",
      "sample_size                 60686\n",
      "num_neg                         4\n",
      "ckpt_dir       ../MLP_ckpts/ckpts\n",
      "Epoch: 0\n",
      "1423/1423 [==============================] - 103s 72ms/step - loss: 0.5381\n",
      "Epoch: 1\n",
      "1423/1423 [==============================] - 112s 79ms/step - loss: 0.4158\n",
      "Epoch: 2\n",
      "1423/1423 [==============================] - 108s 76ms/step - loss: 0.3877\n",
      "Epoch: 3\n",
      "1423/1423 [==============================] - 113s 79ms/step - loss: 0.3780\n",
      "Epoch: 4\n",
      "1423/1423 [==============================] - 106s 74ms/step - loss: 0.3694\n",
      "Epoch: 5\n",
      "1423/1423 [==============================] - 102s 72ms/step - loss: 0.3647\n",
      "Epoch: 6\n",
      "1423/1423 [==============================] - 103s 72ms/step - loss: 0.3593\n",
      "Epoch: 7\n",
      "1423/1423 [==============================] - 103s 72ms/step - loss: 0.3533\n",
      "Epoch: 8\n",
      "1423/1423 [==============================] - 104s 73ms/step - loss: 0.3486\n",
      "Epoch: 9\n",
      "1423/1423 [==============================] - 105s 74ms/step - loss: 0.3441\n",
      "Epoch: 10\n",
      "1423/1423 [==============================] - 105s 74ms/step - loss: 0.3383\n",
      "Epoch: 11\n",
      "1423/1423 [==============================] - 104s 73ms/step - loss: 0.3353\n",
      "Epoch: 12\n",
      "1423/1423 [==============================] - 105s 74ms/step - loss: 0.3303\n",
      "Epoch: 13\n",
      "1423/1423 [==============================] - 107s 75ms/step - loss: 0.3253\n",
      "Epoch: 14\n",
      "1423/1423 [==============================] - 106s 74ms/step - loss: 0.3222\n",
      "Epoch: 15\n",
      "1423/1423 [==============================] - 109s 77ms/step - loss: 0.3162\n",
      "Epoch: 16\n",
      "1423/1423 [==============================] - 108s 76ms/step - loss: 0.3147\n",
      "Epoch: 17\n",
      "1423/1423 [==============================] - 106s 75ms/step - loss: 0.3112\n",
      "Epoch: 18\n",
      "1423/1423 [==============================] - 107s 75ms/step - loss: 0.3084\n",
      "Epoch: 19\n",
      "1423/1423 [==============================] - 114s 80ms/step - loss: 0.3058\n"
     ]
    }
   ],
   "source": [
    "NeuMF_model, NeuMF_hist = neumf_train_loop(NeuMF_model, NeuMF_u_i_l, NeuMF_params, [NeuMF_ckpts_callback])"
   ]
  },
  {
   "cell_type": "code",
   "execution_count": 237,
   "metadata": {},
   "outputs": [
    {
     "name": "stderr",
     "output_type": "stream",
     "text": [
      "100% |########################################################################|\n"
     ]
    }
   ],
   "source": [
    "ranked_df_neumf = predict_neumf(NeuMF_model, train_set, test_set)"
   ]
  },
  {
   "cell_type": "code",
   "execution_count": 238,
   "metadata": {},
   "outputs": [
    {
     "data": {
      "text/html": [
       "<div>\n",
       "<style scoped>\n",
       "    .dataframe tbody tr th:only-of-type {\n",
       "        vertical-align: middle;\n",
       "    }\n",
       "\n",
       "    .dataframe tbody tr th {\n",
       "        vertical-align: top;\n",
       "    }\n",
       "\n",
       "    .dataframe thead th {\n",
       "        text-align: right;\n",
       "    }\n",
       "</style>\n",
       "<table border=\"1\" class=\"dataframe\">\n",
       "  <thead>\n",
       "    <tr style=\"text-align: right;\">\n",
       "      <th></th>\n",
       "      <th>rank_at</th>\n",
       "      <th>hitcounts</th>\n",
       "      <th>recall</th>\n",
       "      <th>precision</th>\n",
       "    </tr>\n",
       "  </thead>\n",
       "  <tbody>\n",
       "    <tr>\n",
       "      <th>0</th>\n",
       "      <td>1</td>\n",
       "      <td>1821</td>\n",
       "      <td>0.150037</td>\n",
       "      <td>0.150037</td>\n",
       "    </tr>\n",
       "    <tr>\n",
       "      <th>1</th>\n",
       "      <td>5</td>\n",
       "      <td>4044</td>\n",
       "      <td>0.333196</td>\n",
       "      <td>0.066639</td>\n",
       "    </tr>\n",
       "    <tr>\n",
       "      <th>2</th>\n",
       "      <td>10</td>\n",
       "      <td>5803</td>\n",
       "      <td>0.478125</td>\n",
       "      <td>0.047812</td>\n",
       "    </tr>\n",
       "    <tr>\n",
       "      <th>3</th>\n",
       "      <td>15</td>\n",
       "      <td>6919</td>\n",
       "      <td>0.570075</td>\n",
       "      <td>0.038005</td>\n",
       "    </tr>\n",
       "    <tr>\n",
       "      <th>4</th>\n",
       "      <td>20</td>\n",
       "      <td>7598</td>\n",
       "      <td>0.626020</td>\n",
       "      <td>0.031301</td>\n",
       "    </tr>\n",
       "  </tbody>\n",
       "</table>\n",
       "</div>"
      ],
      "text/plain": [
       "   rank_at  hitcounts    recall  precision\n",
       "0        1       1821  0.150037   0.150037\n",
       "1        5       4044  0.333196   0.066639\n",
       "2       10       5803  0.478125   0.047812\n",
       "3       15       6919  0.570075   0.038005\n",
       "4       20       7598  0.626020   0.031301"
      ]
     },
     "execution_count": 238,
     "metadata": {},
     "output_type": "execute_result"
    }
   ],
   "source": [
    "from Evaluation import get_metrics\n",
    "get_metrics(ranked_df_neumf, 5, 20, stats=False)"
   ]
  },
  {
   "cell_type": "markdown",
   "metadata": {},
   "source": [
    "## Load NeuMF from weights\n",
    "- Combining weights of GMF and MLP"
   ]
  },
  {
   "cell_type": "code",
   "execution_count": 75,
   "metadata": {},
   "outputs": [
    {
     "data": {
      "text/plain": [
       "<tensorflow.python.training.tracking.util.CheckpointLoadStatus at 0x1778f6290>"
      ]
     },
     "execution_count": 75,
     "metadata": {},
     "output_type": "execute_result"
    }
   ],
   "source": [
    "from Models import build_GMF_model, build_MLP_model\n",
    "GMF_model = build_GMF_model(total_items=total_items, total_users=total_users, nolf=GMF_params['nolf'])\n",
    "GMF_model.load_weights(GMF_weights_path).expect_partial()\n",
    "\n",
    "MLP_model = build_MLP_model(total_items, total_users, layers=MLP_params['layers'], reg_layers=MLP_params['reg_layers'])\n",
    "MLP_model.load_weights(MLP_weights_path).expect_partial()"
   ]
  },
  {
   "cell_type": "code",
   "execution_count": 78,
   "metadata": {},
   "outputs": [],
   "source": [
    "pretrained_NeuMF = load_pretrain_model(NeuMF_model, GMF_model, MLP_model, len(NeuMF_params['layers']))"
   ]
  },
  {
   "cell_type": "code",
   "execution_count": 79,
   "metadata": {},
   "outputs": [
    {
     "name": "stdout",
     "output_type": "stream",
     "text": [
      "Model: \"NeuMF\"\n",
      "__________________________________________________________________________________________________\n",
      "Layer (type)                    Output Shape         Param #     Connected to                     \n",
      "==================================================================================================\n",
      "user_input (InputLayer)         [(None, 1)]          0                                            \n",
      "__________________________________________________________________________________________________\n",
      "item_input (InputLayer)         [(None, 1)]          0                                            \n",
      "__________________________________________________________________________________________________\n",
      "mlp_embedding_user (Embedding)  (None, 1, 16)        1941952     user_input[0][0]                 \n",
      "__________________________________________________________________________________________________\n",
      "mlp_embedding_item (Embedding)  (None, 1, 16)        3959440     item_input[0][0]                 \n",
      "__________________________________________________________________________________________________\n",
      "flatten_66 (Flatten)            (None, 16)           0           mlp_embedding_user[0][0]         \n",
      "__________________________________________________________________________________________________\n",
      "flatten_67 (Flatten)            (None, 16)           0           mlp_embedding_item[0][0]         \n",
      "__________________________________________________________________________________________________\n",
      "mf_embedding_user (Embedding)   (None, 1, 16)        1941952     user_input[0][0]                 \n",
      "__________________________________________________________________________________________________\n",
      "mf_embedding_item (Embedding)   (None, 1, 16)        3959440     item_input[0][0]                 \n",
      "__________________________________________________________________________________________________\n",
      "concatenate_20 (Concatenate)    (None, 32)           0           flatten_66[0][0]                 \n",
      "                                                                 flatten_67[0][0]                 \n",
      "__________________________________________________________________________________________________\n",
      "flatten_64 (Flatten)            (None, 16)           0           mf_embedding_user[0][0]          \n",
      "__________________________________________________________________________________________________\n",
      "flatten_65 (Flatten)            (None, 16)           0           mf_embedding_item[0][0]          \n",
      "__________________________________________________________________________________________________\n",
      "layer1 (Dense)                  (None, 16)           528         concatenate_20[0][0]             \n",
      "__________________________________________________________________________________________________\n",
      "multiply_16 (Multiply)          (None, 16)           0           flatten_64[0][0]                 \n",
      "                                                                 flatten_65[0][0]                 \n",
      "__________________________________________________________________________________________________\n",
      "layer2 (Dense)                  (None, 8)            136         layer1[0][0]                     \n",
      "__________________________________________________________________________________________________\n",
      "concatenate_21 (Concatenate)    (None, 24)           0           multiply_16[0][0]                \n",
      "                                                                 layer2[0][0]                     \n",
      "__________________________________________________________________________________________________\n",
      "prediction (Dense)              (None, 1)            25          concatenate_21[0][0]             \n",
      "==================================================================================================\n",
      "Total params: 11,803,473\n",
      "Trainable params: 11,803,473\n",
      "Non-trainable params: 0\n",
      "__________________________________________________________________________________________________\n"
     ]
    }
   ],
   "source": [
    "pretrained_NeuMF.summary()"
   ]
  },
  {
   "cell_type": "code",
   "execution_count": null,
   "metadata": {},
   "outputs": [],
   "source": []
  }
 ],
 "metadata": {
  "kernelspec": {
   "display_name": "Python 3",
   "language": "python",
   "name": "python3"
  },
  "language_info": {
   "codemirror_mode": {
    "name": "ipython",
    "version": 3
   },
   "file_extension": ".py",
   "mimetype": "text/x-python",
   "name": "python",
   "nbconvert_exporter": "python",
   "pygments_lexer": "ipython3",
   "version": "3.7.7"
  },
  "toc": {
   "base_numbering": 1,
   "nav_menu": {},
   "number_sections": true,
   "sideBar": true,
   "skip_h1_title": false,
   "title_cell": "Table of Contents",
   "title_sidebar": "Contents",
   "toc_cell": false,
   "toc_position": {},
   "toc_section_display": true,
   "toc_window_display": true
  }
 },
 "nbformat": 4,
 "nbformat_minor": 4
}
