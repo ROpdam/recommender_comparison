{
 "cells": [
  {
   "cell_type": "code",
   "execution_count": 1,
   "metadata": {},
   "outputs": [],
   "source": [
    "import pandas as pd\n",
    "import numpy as np\n",
    "import tensorflow as tf\n",
    "import matplotlib.pyplot as plt\n",
    "from scipy import sparse\n",
    "import os\n",
    "import random"
   ]
  },
  {
   "cell_type": "code",
   "execution_count": 2,
   "metadata": {},
   "outputs": [
    {
     "data": {
      "text/plain": [
       "'2.1.0'"
      ]
     },
     "execution_count": 2,
     "metadata": {},
     "output_type": "execute_result"
    }
   ],
   "source": [
    "tf.__version__"
   ]
  },
  {
   "cell_type": "markdown",
   "metadata": {},
   "source": [
    "# Read Data"
   ]
  },
  {
   "cell_type": "code",
<<<<<<< HEAD
   "execution_count": 3,
=======
   "execution_count": 5,
>>>>>>> d0d5ed2270e2ed8636bf805dc70f26b5b31dd09c
   "metadata": {},
   "outputs": [],
   "source": [
    "# path = 'C:/Users/robin.opdam/Dropbox/'\n",
    "path = '/Users/Robin/Dropbox/'\n",
    "data_path = 'data/'"
   ]
  },
  {
   "cell_type": "markdown",
   "metadata": {},
   "source": [
    "## Amazon Fashion"
   ]
  },
  {
   "cell_type": "code",
   "execution_count": 16,
   "metadata": {},
   "outputs": [],
   "source": [
    "#Full data\n",
    "# file_name = 'amazon_clothing_shoes_jewelry_data' \n",
    "\n",
    "#2m user above 5 ratings\n",
    "file_name = 'amazon_2m'\n",
    "\n",
    "#0.63m user above 5 ratings\n",
    "# file_name = 'df_amazon_csj_with_styles_0.63m_u_above_5_rui' "
   ]
  },
  {
   "cell_type": "markdown",
   "metadata": {},
   "source": [
    "## MovieLens"
   ]
  },
  {
   "cell_type": "code",
   "execution_count": 17,
   "metadata": {},
   "outputs": [],
   "source": [
    "# Full data\n",
    "# file_name = 'ml-25m'\n",
    "\n",
    "# 2m subset\n",
    "# file_name = '2m-ml'\n",
    "\n",
    "# 0.7m subset\n",
    "# file_name = 'ml_0.7_u_above_5'"
   ]
  },
  {
   "cell_type": "markdown",
   "metadata": {},
   "source": [
    "## Time sorted ml 2m dataset"
   ]
  },
  {
   "cell_type": "code",
   "execution_count": 10,
   "metadata": {},
   "outputs": [],
   "source": [
    "# 6000 users sorted on datetime per user\n",
    "file_name = 'ml_6k_users'\n",
    "\n",
    "#0.7m rows sorted per user on datetime\n",
    "# file_name = 'ml_07m_sorted'"
   ]
  },
  {
   "cell_type": "code",
   "execution_count": 18,
   "metadata": {},
   "outputs": [
    {
     "data": {
      "text/html": [
       "<div>\n",
       "<style scoped>\n",
       "    .dataframe tbody tr th:only-of-type {\n",
       "        vertical-align: middle;\n",
       "    }\n",
       "\n",
       "    .dataframe tbody tr th {\n",
       "        vertical-align: top;\n",
       "    }\n",
       "\n",
       "    .dataframe thead th {\n",
       "        text-align: right;\n",
       "    }\n",
       "</style>\n",
       "<table border=\"1\" class=\"dataframe\">\n",
       "  <thead>\n",
       "    <tr style=\"text-align: right;\">\n",
       "      <th></th>\n",
       "      <th>user</th>\n",
       "      <th>item</th>\n",
       "      <th>rating</th>\n",
       "      <th>verified</th>\n",
       "    </tr>\n",
       "  </thead>\n",
       "  <tbody>\n",
       "    <tr>\n",
       "      <th>1814769</th>\n",
       "      <td>A1RYC8I6EC1QBJ</td>\n",
       "      <td>B001TVFBH6</td>\n",
       "      <td>5.0</td>\n",
       "      <td>1</td>\n",
       "    </tr>\n",
       "    <tr>\n",
       "      <th>5113862</th>\n",
       "      <td>A1Y5X7S8QQJ3K8</td>\n",
       "      <td>B00GOMDGOA</td>\n",
       "      <td>5.0</td>\n",
       "      <td>1</td>\n",
       "    </tr>\n",
       "    <tr>\n",
       "      <th>7830577</th>\n",
       "      <td>AXM1F8AN57PAJ</td>\n",
       "      <td>B010GMPKMO</td>\n",
       "      <td>5.0</td>\n",
       "      <td>1</td>\n",
       "    </tr>\n",
       "    <tr>\n",
       "      <th>10086809</th>\n",
       "      <td>ACO80M7HH0U9C</td>\n",
       "      <td>B00BFD9YUS</td>\n",
       "      <td>5.0</td>\n",
       "      <td>1</td>\n",
       "    </tr>\n",
       "    <tr>\n",
       "      <th>8425570</th>\n",
       "      <td>A250GLG6ZR9PQX</td>\n",
       "      <td>B016K4ESMU</td>\n",
       "      <td>3.0</td>\n",
       "      <td>1</td>\n",
       "    </tr>\n",
       "  </tbody>\n",
       "</table>\n",
       "</div>"
      ],
      "text/plain": [
       "                    user        item  rating  verified\n",
       "1814769   A1RYC8I6EC1QBJ  B001TVFBH6     5.0         1\n",
       "5113862   A1Y5X7S8QQJ3K8  B00GOMDGOA     5.0         1\n",
       "7830577    AXM1F8AN57PAJ  B010GMPKMO     5.0         1\n",
       "10086809   ACO80M7HH0U9C  B00BFD9YUS     5.0         1\n",
       "8425570   A250GLG6ZR9PQX  B016K4ESMU     3.0         1"
      ]
     },
     "execution_count": 18,
     "metadata": {},
     "output_type": "execute_result"
    }
   ],
   "source": [
    "df = pd.read_pickle(path + data_path + file_name)\n",
    "df.head()"
   ]
  },
  {
   "cell_type": "code",
   "execution_count": 19,
   "metadata": {},
   "outputs": [],
   "source": [
    "df['user_id'] = df.user.astype('category').cat.codes\n",
    "df['item_id'] = df.item.astype('category').cat.codes"
   ]
  },
  {
   "cell_type": "markdown",
   "metadata": {},
   "source": [
    "## Leave users out "
   ]
  },
  {
   "cell_type": "code",
   "execution_count": 20,
   "metadata": {},
   "outputs": [],
   "source": [
    "def leave_users_out(full_data, leave_out):\n",
    "    full_data['index'] = full_data.index\n",
    "    user_index_df = full_data.groupby('user')['index'].apply(list)\n",
    "    users = np.random.choice(list(user_index_df.index), leave_out, replace=False)\n",
    "    users_indices = []\n",
    "    \n",
    "    for user in users:\n",
    "        users_indices.extend(user_index_df.loc[user])\n",
    "    \n",
    "    sub_set = full_data.loc[users_indices]\n",
    "    remaining = full_data.drop(users_indices)\n",
    "    \n",
    "    return remaining.drop(columns=['index']), sub_set.drop(columns=['index'])"
   ]
  },
  {
   "cell_type": "code",
   "execution_count": 21,
   "metadata": {},
   "outputs": [],
   "source": [
    "# leftovers, new_df = leave_users_out(df, 6000)"
   ]
  },
  {
   "cell_type": "markdown",
   "metadata": {},
   "source": [
    "# Data Exploration\n",
    "\n",
    "First filtering active users and rated items with x or more ratings:"
   ]
  },
  {
   "cell_type": "code",
   "execution_count": 22,
   "metadata": {},
   "outputs": [],
   "source": [
    "user_ratings = df.groupby('user')['rating'].count()\n",
    "item_ratings = df.groupby('item')['rating'].count()\n",
    "norpu = user_ratings.mean()\n",
    "norpi = item_ratings.mean()\n",
    "total_users = df.user.unique().size\n",
    "total_items = df.item.unique().size\n",
    "sparseness = 1 - len(df) / (len(df['user'].unique()) * len(df['item'].unique()))"
   ]
  },
  {
   "cell_type": "code",
   "execution_count": 23,
   "metadata": {},
   "outputs": [
    {
     "name": "stdout",
     "output_type": "stream",
     "text": [
      "rows  2059552 \n",
      "#ratings 2059552 \n",
      "#ratings/user 7.48 \n",
      "#ratings/item 6.53 \n",
      "average rating 4.29 \n",
      "#users  275386 \n",
      "#items  315631 \n",
      "sparse  0.99998 %\n"
     ]
    },
    {
     "data": {
      "image/png": "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\n",
      "text/plain": [
       "<Figure size 432x288 with 1 Axes>"
      ]
     },
     "metadata": {
      "needs_background": "light"
     },
     "output_type": "display_data"
    },
    {
     "data": {
      "image/png": "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\n",
      "text/plain": [
       "<Figure size 432x288 with 1 Axes>"
      ]
     },
     "metadata": {
      "needs_background": "light"
     },
     "output_type": "display_data"
    },
    {
     "data": {
      "image/png": "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\n",
      "text/plain": [
       "<Figure size 432x288 with 1 Axes>"
      ]
     },
     "metadata": {
      "needs_background": "light"
     },
     "output_type": "display_data"
    }
   ],
   "source": [
    "print('rows ', len(df), '\\n#ratings', len(df[df['rating'] != 0]), '\\n#ratings/user', round(norpu,2), '\\n#ratings/item', round(norpi,2), '\\naverage rating', \"{0:.2f}\".format(np.average(df['rating'])), '\\n#users ', df['user'].unique().size, '\\n#items ', df['item'].unique().size, '\\nsparse ', round(sparseness,5), '%')\n",
    "\n",
    "df.hist(column='rating', bins=5, grid=False)\n",
    "plt.title('Rating Distribution')\n",
    "plt.xlabel('Rating')\n",
    "plt.xticks(range(1,6))\n",
    "plt.savefig('Plots/Deliverables/rating_dist_ml')\n",
    "plt.show()\n",
    "\n",
    "plt.hist(item_ratings, bins = 2000)\n",
    "plt.xlim([0,100])\n",
    "plt.title('#ratings per item distribution (1000 bins)')\n",
    "plt.xlabel('Items')\n",
    "plt.ylabel('Count')\n",
    "plt.savefig('Plots/Deliverables/#ratings_per_item_dist_ml')\n",
    "plt.show()\n",
    "\n",
    "plt.hist(user_ratings, bins = 2000)\n",
    "plt.xlim([0,50])\n",
    "plt.title('#ratings per user distribution (1000 bins)')\n",
    "plt.xlabel('Users')\n",
    "plt.ylabel('Count')\n",
    "plt.savefig('Plots/Deliverables/#ratings_per_user_dist_ml')\n",
    "plt.show()"
   ]
  },
  {
   "cell_type": "markdown",
   "metadata": {},
   "source": [
    "---\n",
    "# LSTM Model\n",
    "Collaborative Filtering with Recurrent Neural Networks"
   ]
  },
  {
   "cell_type": "markdown",
   "metadata": {},
   "source": [
    "- paper: https://arxiv.org/pdf/1608.07400.pdf\n",
    "- code:https://github.com/rdevooght/sequence-based-recommendations (in Theano)"
   ]
  },
  {
   "cell_type": "markdown",
   "metadata": {},
   "source": [
    "## Data Prep"
   ]
  },
  {
   "cell_type": "markdown",
   "metadata": {},
   "source": [
    "Create 100 people **train df**"
   ]
  },
  {
   "cell_type": "code",
   "execution_count": 18,
   "metadata": {},
   "outputs": [],
   "source": [
    "df_og = df"
   ]
  },
  {
   "cell_type": "code",
   "execution_count": 19,
   "metadata": {},
   "outputs": [
    {
     "name": "stdout",
     "output_type": "stream",
     "text": [
      "total number of items: 23362\n",
      "total users: 6000\n",
      "number of train users: 5500\n",
      "number of test users: 500\n"
     ]
    }
   ],
   "source": [
    "test_users = 500\n",
    "df, test_df = leave_users_out(df_og, test_users)\n",
    "df['item_id'] = df.item_id.astype('category').cat.codes\n",
    "df['user_id'] = df.user_id.astype('category').cat.codes\n",
    "n_items = len(df_og.item_id.unique())\n",
    "\n",
    "print('total number of items:', n_items)\n",
    "print('total users:', len(df_og.user_id.unique()))\n",
    "print('number of train users:', len(df.user_id.unique()))\n",
    "print('number of test users:', test_users)"
   ]
  },
  {
   "cell_type": "markdown",
   "metadata": {},
   "source": [
    "---\n",
    "### Train and Target sequences\n",
    "Create the **sequences** from the item_ids per user (already sorted)"
   ]
  },
  {
   "cell_type": "code",
   "execution_count": 20,
   "metadata": {},
   "outputs": [
    {
     "name": "stdout",
     "output_type": "stream",
     "text": [
      "number of sequences x: 5500 \n",
      "avg sequence length x: 151.31727272727272 \n",
      "std_dev sequence length x: 260.8\n"
     ]
    }
   ],
   "source": [
    "user_sequences_x = []\n",
    "user_sequences_y = []\n",
    "\n",
    "lengths = []\n",
    "for u in df.user_id.unique():\n",
    "    user_item_seq = np.array(df[df['user_id']==u]['item_id'])\n",
    "    user_sequences_x.append(user_item_seq[:-1])\n",
    "    user_sequences_y.append(user_item_seq[1:])\n",
    "    lengths.append(len(user_item_seq))\n",
    "print('number of sequences x:', len(user_sequences_x), \n",
    "      '\\navg sequence length x:', np.average(lengths),\n",
    "      '\\nstd_dev sequence length x:', np.round(np.std(lengths),2))"
   ]
  },
  {
   "cell_type": "code",
   "execution_count": 21,
   "metadata": {},
   "outputs": [
    {
     "data": {
      "text/plain": [
       "array([ 4699,  1155,  2429, 10693,  5165, 22122,  3988,   306,   250,\n",
       "       22125, 10243,  8965,  3289,  2613, 22666,  5406,  7344,  5305,\n",
       "        8632, 12178, 11348, 13542,  9527,  2364,   142, 22660, 10566,\n",
       "        3723,  9843, 16292, 16291, 13133, 10440, 14857, 13727],\n",
       "      dtype=int16)"
      ]
     },
     "execution_count": 21,
     "metadata": {},
     "output_type": "execute_result"
    }
   ],
   "source": [
    "user_sequences_x[0]"
   ]
  },
  {
   "cell_type": "code",
   "execution_count": 22,
   "metadata": {},
   "outputs": [
    {
     "data": {
      "text/plain": [
       "array([ 1155,  2429, 10693,  5165, 22122,  3988,   306,   250, 22125,\n",
       "       10243,  8965,  3289,  2613, 22666,  5406,  7344,  5305,  8632,\n",
       "       12178, 11348, 13542,  9527,  2364,   142, 22660, 10566,  3723,\n",
       "        9843, 16292, 16291, 13133, 10440, 14857, 13727, 15288],\n",
       "      dtype=int16)"
      ]
     },
     "execution_count": 22,
     "metadata": {},
     "output_type": "execute_result"
    }
   ],
   "source": [
    "user_sequences_y[0]"
   ]
  },
  {
   "cell_type": "markdown",
   "metadata": {},
   "source": [
    "---\n",
    "### Padding\n",
    "**pad** the sequences (needed for rectangular tf.data.Dataset):\n",
    "- add zeros if they are too short\n",
    "- remove item ids from the beginning if they are too long"
   ]
  },
  {
   "cell_type": "code",
   "execution_count": 23,
   "metadata": {},
   "outputs": [
    {
     "name": "stdout",
     "output_type": "stream",
     "text": [
      "number of sequences x: 5500 \n",
      "avg sequence length x: 250.0 \n",
      "std_dev sequence length x: 0.0\n"
     ]
    }
   ],
   "source": [
    "max_length = 250\n",
    "padded_sequences_x = tf.keras.preprocessing.sequence.pad_sequences(user_sequences_x, maxlen=max_length, padding='post', truncating='pre')\n",
    "padded_sequences_y = tf.keras.preprocessing.sequence.pad_sequences(user_sequences_y, maxlen=max_length, padding='post', truncating='pre')\n",
    "print('number of sequences x:', padded_sequences_x.shape[0], \n",
    "      '\\navg sequence length x:', np.average([i.shape[0] for i in padded_sequences_x]),\n",
    "      '\\nstd_dev sequence length x:', np.std([i.shape[0] for i in padded_sequences_x]))\n"
   ]
  },
  {
   "cell_type": "markdown",
   "metadata": {},
   "source": [
    "---\n",
    "### Create Dataset\n",
    "**create batch dataset**\n",
    "- sequences_x inputs\n",
    "- sequences_y actuals\n",
    "- batches of size BATCH_SIZE"
   ]
  },
  {
   "cell_type": "code",
   "execution_count": 24,
   "metadata": {},
   "outputs": [
    {
     "data": {
      "text/plain": [
       "<ZipDataset shapes: ((250,), (250,)), types: (tf.int32, tf.int32)>"
      ]
     },
     "execution_count": 24,
     "metadata": {},
     "output_type": "execute_result"
    }
   ],
   "source": [
    "# One hot encoded input\n",
    "# sequences_data_x = tf.data.Dataset.from_tensor_slices(tf.keras.backend.one_hot(padded_sequences_x, n_items)) \n",
    "# sequences_data_y = tf.data.Dataset.from_tensor_slices(tf.keras.backend.one_hot(padded_sequences_y, n_items)) \n",
    "\n",
    "#normal sequence input\n",
    "sequences_data_x = tf.data.Dataset.from_tensor_slices(padded_sequences_x) \n",
    "sequences_data_y = tf.data.Dataset.from_tensor_slices(padded_sequences_y) \n",
    "dataset = tf.data.Dataset.zip((sequences_data_x, sequences_data_y))\n",
    "dataset"
   ]
  },
  {
   "cell_type": "code",
   "execution_count": 25,
   "metadata": {},
   "outputs": [
    {
     "name": "stdout",
     "output_type": "stream",
     "text": [
      "Input data:  [ 4699  1155  2429 10693  5165 22122  3988   306   250 22125 10243  8965\n",
      "  3289  2613 22666  5406  7344  5305  8632 12178 11348 13542  9527  2364\n",
      "   142 22660 10566  3723  9843 16292 16291 13133 10440 14857 13727     0\n",
      "     0     0     0     0     0     0     0     0     0     0     0     0\n",
      "     0     0     0     0     0     0     0     0     0     0     0     0\n",
      "     0     0     0     0     0     0     0     0     0     0     0     0\n",
      "     0     0     0     0     0     0     0     0     0     0     0     0\n",
      "     0     0     0     0     0     0     0     0     0     0     0     0\n",
      "     0     0     0     0     0     0     0     0     0     0     0     0\n",
      "     0     0     0     0     0     0     0     0     0     0     0     0\n",
      "     0     0     0     0     0     0     0     0     0     0     0     0\n",
      "     0     0     0     0     0     0     0     0     0     0     0     0\n",
      "     0     0     0     0     0     0     0     0     0     0     0     0\n",
      "     0     0     0     0     0     0     0     0     0     0     0     0\n",
      "     0     0     0     0     0     0     0     0     0     0     0     0\n",
      "     0     0     0     0     0     0     0     0     0     0     0     0\n",
      "     0     0     0     0     0     0     0     0     0     0     0     0\n",
      "     0     0     0     0     0     0     0     0     0     0     0     0\n",
      "     0     0     0     0     0     0     0     0     0     0     0     0\n",
      "     0     0     0     0     0     0     0     0     0     0     0     0\n",
      "     0     0     0     0     0     0     0     0     0     0]\n",
      "Target data: [ 1155  2429 10693  5165 22122  3988   306   250 22125 10243  8965  3289\n",
      "  2613 22666  5406  7344  5305  8632 12178 11348 13542  9527  2364   142\n",
      " 22660 10566  3723  9843 16292 16291 13133 10440 14857 13727 15288     0\n",
      "     0     0     0     0     0     0     0     0     0     0     0     0\n",
      "     0     0     0     0     0     0     0     0     0     0     0     0\n",
      "     0     0     0     0     0     0     0     0     0     0     0     0\n",
      "     0     0     0     0     0     0     0     0     0     0     0     0\n",
      "     0     0     0     0     0     0     0     0     0     0     0     0\n",
      "     0     0     0     0     0     0     0     0     0     0     0     0\n",
      "     0     0     0     0     0     0     0     0     0     0     0     0\n",
      "     0     0     0     0     0     0     0     0     0     0     0     0\n",
      "     0     0     0     0     0     0     0     0     0     0     0     0\n",
      "     0     0     0     0     0     0     0     0     0     0     0     0\n",
      "     0     0     0     0     0     0     0     0     0     0     0     0\n",
      "     0     0     0     0     0     0     0     0     0     0     0     0\n",
      "     0     0     0     0     0     0     0     0     0     0     0     0\n",
      "     0     0     0     0     0     0     0     0     0     0     0     0\n",
      "     0     0     0     0     0     0     0     0     0     0     0     0\n",
      "     0     0     0     0     0     0     0     0     0     0     0     0\n",
      "     0     0     0     0     0     0     0     0     0     0     0     0\n",
      "     0     0     0     0     0     0     0     0     0     0]\n"
     ]
    }
   ],
   "source": [
    "for input_example, target_example in  dataset.take(1).as_numpy_iterator():\n",
    "    print ('Input data: ', input_example)\n",
    "    print ('Target data:', target_example)"
   ]
  },
  {
   "cell_type": "code",
   "execution_count": 26,
   "metadata": {
    "scrolled": false
   },
   "outputs": [
    {
     "name": "stdout",
     "output_type": "stream",
     "text": [
      "input: (100, 250) \n",
      "\n",
      "output: (100, 250)\n"
     ]
    }
   ],
   "source": [
    "BATCH_SIZE = 100\n",
    "dataset = dataset.batch(BATCH_SIZE, drop_remainder=False)\n",
    "for i, o in dataset.take(1).as_numpy_iterator():\n",
    "    print('input:', i.shape, '\\n\\noutput:', o.shape)"
   ]
  },
  {
   "cell_type": "markdown",
   "metadata": {},
   "source": [
    "--- \n",
    "## Model Prep"
   ]
  },
  {
   "cell_type": "markdown",
   "metadata": {},
   "source": [
    "**model architecture**"
   ]
  },
  {
   "cell_type": "code",
   "execution_count": 46,
   "metadata": {},
   "outputs": [],
   "source": [
    "def build_model(n_items, embedding_dim, rnn_units, batch_size):\n",
    "    model = tf.keras.Sequential([\n",
    "        tf.keras.layers.Embedding(n_items, embedding_dim,\n",
    "                                  batch_input_shape=[batch_size, None]),\n",
    "        tf.keras.layers.LSTM(units=rnn_units,\n",
    "                             return_sequences=True,\n",
    "                             stateful=False, #Reset cell states with each batch\n",
    "                             recurrent_initializer='glorot_uniform'),\n",
    "        \n",
    "        tf.keras.layers.Dense(n_items)\n",
    "    ])\n",
    "    return model"
   ]
  },
  {
   "cell_type": "markdown",
   "metadata": {},
   "source": [
    "---\n",
    "**build model**"
   ]
  },
  {
   "cell_type": "code",
   "execution_count": 47,
   "metadata": {},
   "outputs": [],
   "source": [
    "embedding_dim = 100\n",
    "rnn_units = 20"
   ]
  },
  {
   "cell_type": "code",
   "execution_count": 48,
   "metadata": {},
   "outputs": [],
   "source": [
    "model = build_model(\n",
    "n_items = n_items,\n",
    "embedding_dim = embedding_dim,\n",
    "rnn_units = rnn_units,\n",
    "batch_size = BATCH_SIZE)"
   ]
  },
  {
   "cell_type": "markdown",
   "metadata": {},
   "source": [
    "---\n",
    "### Add Loss\n",
    "<br>\n",
    "one hot encode labels for dimensionality match of LSTM output\n",
    "<br> \n",
    "**Added one hot encoding of the labels to match logits output after dense layer**"
   ]
  },
  {
   "cell_type": "code",
   "execution_count": 49,
   "metadata": {},
   "outputs": [],
   "source": [
    "def loss(labels, logits):\n",
    "    oh_labels = tf.keras.backend.one_hot(tf.dtypes.cast(labels, tf.int32), n_items)\n",
    "    return tf.keras.losses.categorical_crossentropy(oh_labels, logits, from_logits=True)\n",
    "\n",
    "model.compile(optimizer='Adagrad', loss=loss)"
   ]
  },
  {
   "cell_type": "markdown",
   "metadata": {},
   "source": [
    "---\n",
    "## Try Model"
   ]
  },
  {
   "cell_type": "code",
   "execution_count": 31,
   "metadata": {},
   "outputs": [
    {
     "data": {
      "text/plain": [
       "<TakeDataset shapes: ((None, 250), (None, 250)), types: (tf.int32, tf.int32)>"
      ]
     },
     "execution_count": 31,
     "metadata": {},
     "output_type": "execute_result"
    }
   ],
   "source": [
    "dataset.take(1)"
   ]
  },
  {
   "cell_type": "code",
   "execution_count": 32,
   "metadata": {},
   "outputs": [
    {
     "name": "stdout",
     "output_type": "stream",
     "text": [
      "(100, 250, 23362) # (batch_size, sequence_length, n_items)\n"
     ]
    }
   ],
   "source": [
    "for input_example_batch, target_example_batch in dataset.take(1):\n",
    "    example_batch_preds = model(input_example_batch)\n",
    "    print(example_batch_preds.shape, \"# (batch_size, sequence_length, n_items)\")"
   ]
  },
  {
   "cell_type": "code",
   "execution_count": 33,
   "metadata": {},
   "outputs": [],
   "source": [
    "example_batch_loss = loss(target_example_batch, example_batch_preds)"
   ]
  },
  {
   "cell_type": "code",
   "execution_count": 34,
   "metadata": {},
   "outputs": [
    {
     "data": {
      "text/plain": [
       "TensorShape([100, 250, 23362])"
      ]
     },
     "execution_count": 34,
     "metadata": {},
     "output_type": "execute_result"
    }
   ],
   "source": [
    "example_batch_preds.shape"
   ]
  },
  {
   "cell_type": "code",
   "execution_count": 35,
   "metadata": {},
   "outputs": [
    {
     "data": {
      "text/plain": [
       "TensorShape([100, 250])"
      ]
     },
     "execution_count": 35,
     "metadata": {},
     "output_type": "execute_result"
    }
   ],
   "source": [
    "example_batch_loss.shape"
   ]
  },
  {
   "cell_type": "markdown",
   "metadata": {},
   "source": [
    "---\n",
    "**model summmary**"
   ]
  },
  {
   "cell_type": "code",
   "execution_count": 36,
   "metadata": {},
   "outputs": [
    {
     "name": "stdout",
     "output_type": "stream",
     "text": [
      "Model: \"sequential\"\n",
      "_________________________________________________________________\n",
      "Layer (type)                 Output Shape              Param #   \n",
      "=================================================================\n",
      "embedding (Embedding)        (100, None, 100)          2336200   \n",
      "_________________________________________________________________\n",
      "lstm (LSTM)                  (100, None, 20)           9680      \n",
      "_________________________________________________________________\n",
      "dense (Dense)                (100, None, 23362)        490602    \n",
      "=================================================================\n",
      "Total params: 2,836,482\n",
      "Trainable params: 2,836,482\n",
      "Non-trainable params: 0\n",
      "_________________________________________________________________\n"
     ]
    }
   ],
   "source": [
    "model.summary()"
   ]
  },
  {
   "cell_type": "markdown",
   "metadata": {},
   "source": [
    "---\n",
    "## Train Model"
   ]
  },
  {
   "cell_type": "markdown",
   "metadata": {},
   "source": [
    "---\n",
    "**Configure Checkpoints**"
   ]
  },
  {
   "cell_type": "code",
   "execution_count": 37,
   "metadata": {},
   "outputs": [],
   "source": [
    "# Directory where the checkpoints will be saved\n",
    "checkpoint_dir = './rnn_train_checkpoints'\n",
    "# Name of the checkpoint files\n",
    "checkpoint_prefix = os.path.join(checkpoint_dir, \"ckpt_{epoch}\")\n",
    "\n",
    "checkpoint_callback=tf.keras.callbacks.ModelCheckpoint(\n",
    "    filepath=checkpoint_prefix,\n",
    "    save_weights_only=True)"
   ]
  },
  {
   "cell_type": "markdown",
   "metadata": {},
   "source": [
    "---\n",
    "**Fit Model**"
   ]
  },
  {
   "cell_type": "code",
   "execution_count": 40,
   "metadata": {},
   "outputs": [
    {
     "data": {
      "text/plain": [
       "<BatchDataset shapes: ((None, 250), (None, 250)), types: (tf.int32, tf.int32)>"
      ]
     },
     "execution_count": 40,
     "metadata": {},
     "output_type": "execute_result"
    }
   ],
   "source": [
    "epochs = 100\n",
    "dataset"
   ]
  },
  {
   "cell_type": "code",
   "execution_count": 41,
   "metadata": {},
   "outputs": [
    {
     "name": "stdout",
     "output_type": "stream",
     "text": [
      "Train for 55 steps\n",
      "Epoch 1/100\n",
      "55/55 [==============================] - 372s 7s/step - loss: 9.9489\n",
      "Epoch 2/100\n",
      "55/55 [==============================] - 371s 7s/step - loss: 9.6420\n",
      "Epoch 3/100\n",
      "55/55 [==============================] - 372s 7s/step - loss: 9.3998\n",
      "Epoch 4/100\n",
      "55/55 [==============================] - 368s 7s/step - loss: 9.2193\n",
      "Epoch 5/100\n",
      "54/55 [============================>.] - ETA: 7s - loss: 9.0735"
     ]
    },
    {
     "ename": "KeyboardInterrupt",
     "evalue": "",
     "output_type": "error",
     "traceback": [
      "\u001b[1;31m---------------------------------------------------------------------------\u001b[0m",
      "\u001b[1;31mKeyboardInterrupt\u001b[0m                         Traceback (most recent call last)",
      "\u001b[1;32m<ipython-input-41-ceba8f85df4e>\u001b[0m in \u001b[0;36m<module>\u001b[1;34m\u001b[0m\n\u001b[1;32m----> 1\u001b[1;33m \u001b[0mhistory\u001b[0m \u001b[1;33m=\u001b[0m \u001b[0mmodel\u001b[0m\u001b[1;33m.\u001b[0m\u001b[0mfit\u001b[0m\u001b[1;33m(\u001b[0m\u001b[0mdataset\u001b[0m\u001b[1;33m,\u001b[0m \u001b[0mepochs\u001b[0m\u001b[1;33m=\u001b[0m\u001b[0mepochs\u001b[0m\u001b[1;33m,\u001b[0m \u001b[0mcallbacks\u001b[0m\u001b[1;33m=\u001b[0m\u001b[1;33m[\u001b[0m\u001b[0mcheckpoint_callback\u001b[0m\u001b[1;33m]\u001b[0m\u001b[1;33m)\u001b[0m\u001b[1;33m\u001b[0m\u001b[1;33m\u001b[0m\u001b[0m\n\u001b[0m",
      "\u001b[1;32m~\\AppData\\Local\\Continuum\\anaconda3\\envs\\re_research\\lib\\site-packages\\tensorflow_core\\python\\keras\\engine\\training.py\u001b[0m in \u001b[0;36mfit\u001b[1;34m(self, x, y, batch_size, epochs, verbose, callbacks, validation_split, validation_data, shuffle, class_weight, sample_weight, initial_epoch, steps_per_epoch, validation_steps, validation_freq, max_queue_size, workers, use_multiprocessing, **kwargs)\u001b[0m\n\u001b[0;32m    817\u001b[0m         \u001b[0mmax_queue_size\u001b[0m\u001b[1;33m=\u001b[0m\u001b[0mmax_queue_size\u001b[0m\u001b[1;33m,\u001b[0m\u001b[1;33m\u001b[0m\u001b[1;33m\u001b[0m\u001b[0m\n\u001b[0;32m    818\u001b[0m         \u001b[0mworkers\u001b[0m\u001b[1;33m=\u001b[0m\u001b[0mworkers\u001b[0m\u001b[1;33m,\u001b[0m\u001b[1;33m\u001b[0m\u001b[1;33m\u001b[0m\u001b[0m\n\u001b[1;32m--> 819\u001b[1;33m         use_multiprocessing=use_multiprocessing)\n\u001b[0m\u001b[0;32m    820\u001b[0m \u001b[1;33m\u001b[0m\u001b[0m\n\u001b[0;32m    821\u001b[0m   def evaluate(self,\n",
      "\u001b[1;32m~\\AppData\\Local\\Continuum\\anaconda3\\envs\\re_research\\lib\\site-packages\\tensorflow_core\\python\\keras\\engine\\training_v2.py\u001b[0m in \u001b[0;36mfit\u001b[1;34m(self, model, x, y, batch_size, epochs, verbose, callbacks, validation_split, validation_data, shuffle, class_weight, sample_weight, initial_epoch, steps_per_epoch, validation_steps, validation_freq, max_queue_size, workers, use_multiprocessing, **kwargs)\u001b[0m\n\u001b[0;32m    340\u001b[0m                 \u001b[0mmode\u001b[0m\u001b[1;33m=\u001b[0m\u001b[0mModeKeys\u001b[0m\u001b[1;33m.\u001b[0m\u001b[0mTRAIN\u001b[0m\u001b[1;33m,\u001b[0m\u001b[1;33m\u001b[0m\u001b[1;33m\u001b[0m\u001b[0m\n\u001b[0;32m    341\u001b[0m                 \u001b[0mtraining_context\u001b[0m\u001b[1;33m=\u001b[0m\u001b[0mtraining_context\u001b[0m\u001b[1;33m,\u001b[0m\u001b[1;33m\u001b[0m\u001b[1;33m\u001b[0m\u001b[0m\n\u001b[1;32m--> 342\u001b[1;33m                 total_epochs=epochs)\n\u001b[0m\u001b[0;32m    343\u001b[0m             \u001b[0mcbks\u001b[0m\u001b[1;33m.\u001b[0m\u001b[0mmake_logs\u001b[0m\u001b[1;33m(\u001b[0m\u001b[0mmodel\u001b[0m\u001b[1;33m,\u001b[0m \u001b[0mepoch_logs\u001b[0m\u001b[1;33m,\u001b[0m \u001b[0mtraining_result\u001b[0m\u001b[1;33m,\u001b[0m \u001b[0mModeKeys\u001b[0m\u001b[1;33m.\u001b[0m\u001b[0mTRAIN\u001b[0m\u001b[1;33m)\u001b[0m\u001b[1;33m\u001b[0m\u001b[1;33m\u001b[0m\u001b[0m\n\u001b[0;32m    344\u001b[0m \u001b[1;33m\u001b[0m\u001b[0m\n",
      "\u001b[1;32m~\\AppData\\Local\\Continuum\\anaconda3\\envs\\re_research\\lib\\site-packages\\tensorflow_core\\python\\keras\\engine\\training_v2.py\u001b[0m in \u001b[0;36mrun_one_epoch\u001b[1;34m(model, iterator, execution_function, dataset_size, batch_size, strategy, steps_per_epoch, num_samples, mode, training_context, total_epochs)\u001b[0m\n\u001b[0;32m    126\u001b[0m         step=step, mode=mode, size=current_batch_size) as batch_logs:\n\u001b[0;32m    127\u001b[0m       \u001b[1;32mtry\u001b[0m\u001b[1;33m:\u001b[0m\u001b[1;33m\u001b[0m\u001b[1;33m\u001b[0m\u001b[0m\n\u001b[1;32m--> 128\u001b[1;33m         \u001b[0mbatch_outs\u001b[0m \u001b[1;33m=\u001b[0m \u001b[0mexecution_function\u001b[0m\u001b[1;33m(\u001b[0m\u001b[0miterator\u001b[0m\u001b[1;33m)\u001b[0m\u001b[1;33m\u001b[0m\u001b[1;33m\u001b[0m\u001b[0m\n\u001b[0m\u001b[0;32m    129\u001b[0m       \u001b[1;32mexcept\u001b[0m \u001b[1;33m(\u001b[0m\u001b[0mStopIteration\u001b[0m\u001b[1;33m,\u001b[0m \u001b[0merrors\u001b[0m\u001b[1;33m.\u001b[0m\u001b[0mOutOfRangeError\u001b[0m\u001b[1;33m)\u001b[0m\u001b[1;33m:\u001b[0m\u001b[1;33m\u001b[0m\u001b[1;33m\u001b[0m\u001b[0m\n\u001b[0;32m    130\u001b[0m         \u001b[1;31m# TODO(kaftan): File bug about tf function and errors.OutOfRangeError?\u001b[0m\u001b[1;33m\u001b[0m\u001b[1;33m\u001b[0m\u001b[1;33m\u001b[0m\u001b[0m\n",
      "\u001b[1;32m~\\AppData\\Local\\Continuum\\anaconda3\\envs\\re_research\\lib\\site-packages\\tensorflow_core\\python\\keras\\engine\\training_v2_utils.py\u001b[0m in \u001b[0;36mexecution_function\u001b[1;34m(input_fn)\u001b[0m\n\u001b[0;32m     96\u001b[0m     \u001b[1;31m# `numpy` translates Tensors to values in Eager mode.\u001b[0m\u001b[1;33m\u001b[0m\u001b[1;33m\u001b[0m\u001b[1;33m\u001b[0m\u001b[0m\n\u001b[0;32m     97\u001b[0m     return nest.map_structure(_non_none_constant_value,\n\u001b[1;32m---> 98\u001b[1;33m                               distributed_function(input_fn))\n\u001b[0m\u001b[0;32m     99\u001b[0m \u001b[1;33m\u001b[0m\u001b[0m\n\u001b[0;32m    100\u001b[0m   \u001b[1;32mreturn\u001b[0m \u001b[0mexecution_function\u001b[0m\u001b[1;33m\u001b[0m\u001b[1;33m\u001b[0m\u001b[0m\n",
      "\u001b[1;32m~\\AppData\\Local\\Continuum\\anaconda3\\envs\\re_research\\lib\\site-packages\\tensorflow_core\\python\\eager\\def_function.py\u001b[0m in \u001b[0;36m__call__\u001b[1;34m(self, *args, **kwds)\u001b[0m\n\u001b[0;32m    566\u001b[0m         \u001b[0mxla_context\u001b[0m\u001b[1;33m.\u001b[0m\u001b[0mExit\u001b[0m\u001b[1;33m(\u001b[0m\u001b[1;33m)\u001b[0m\u001b[1;33m\u001b[0m\u001b[1;33m\u001b[0m\u001b[0m\n\u001b[0;32m    567\u001b[0m     \u001b[1;32melse\u001b[0m\u001b[1;33m:\u001b[0m\u001b[1;33m\u001b[0m\u001b[1;33m\u001b[0m\u001b[0m\n\u001b[1;32m--> 568\u001b[1;33m       \u001b[0mresult\u001b[0m \u001b[1;33m=\u001b[0m \u001b[0mself\u001b[0m\u001b[1;33m.\u001b[0m\u001b[0m_call\u001b[0m\u001b[1;33m(\u001b[0m\u001b[1;33m*\u001b[0m\u001b[0margs\u001b[0m\u001b[1;33m,\u001b[0m \u001b[1;33m**\u001b[0m\u001b[0mkwds\u001b[0m\u001b[1;33m)\u001b[0m\u001b[1;33m\u001b[0m\u001b[1;33m\u001b[0m\u001b[0m\n\u001b[0m\u001b[0;32m    569\u001b[0m \u001b[1;33m\u001b[0m\u001b[0m\n\u001b[0;32m    570\u001b[0m     \u001b[1;32mif\u001b[0m \u001b[0mtracing_count\u001b[0m \u001b[1;33m==\u001b[0m \u001b[0mself\u001b[0m\u001b[1;33m.\u001b[0m\u001b[0m_get_tracing_count\u001b[0m\u001b[1;33m(\u001b[0m\u001b[1;33m)\u001b[0m\u001b[1;33m:\u001b[0m\u001b[1;33m\u001b[0m\u001b[1;33m\u001b[0m\u001b[0m\n",
      "\u001b[1;32m~\\AppData\\Local\\Continuum\\anaconda3\\envs\\re_research\\lib\\site-packages\\tensorflow_core\\python\\eager\\def_function.py\u001b[0m in \u001b[0;36m_call\u001b[1;34m(self, *args, **kwds)\u001b[0m\n\u001b[0;32m    597\u001b[0m       \u001b[1;31m# In this case we have created variables on the first call, so we run the\u001b[0m\u001b[1;33m\u001b[0m\u001b[1;33m\u001b[0m\u001b[1;33m\u001b[0m\u001b[0m\n\u001b[0;32m    598\u001b[0m       \u001b[1;31m# defunned version which is guaranteed to never create variables.\u001b[0m\u001b[1;33m\u001b[0m\u001b[1;33m\u001b[0m\u001b[1;33m\u001b[0m\u001b[0m\n\u001b[1;32m--> 599\u001b[1;33m       \u001b[1;32mreturn\u001b[0m \u001b[0mself\u001b[0m\u001b[1;33m.\u001b[0m\u001b[0m_stateless_fn\u001b[0m\u001b[1;33m(\u001b[0m\u001b[1;33m*\u001b[0m\u001b[0margs\u001b[0m\u001b[1;33m,\u001b[0m \u001b[1;33m**\u001b[0m\u001b[0mkwds\u001b[0m\u001b[1;33m)\u001b[0m  \u001b[1;31m# pylint: disable=not-callable\u001b[0m\u001b[1;33m\u001b[0m\u001b[1;33m\u001b[0m\u001b[0m\n\u001b[0m\u001b[0;32m    600\u001b[0m     \u001b[1;32melif\u001b[0m \u001b[0mself\u001b[0m\u001b[1;33m.\u001b[0m\u001b[0m_stateful_fn\u001b[0m \u001b[1;32mis\u001b[0m \u001b[1;32mnot\u001b[0m \u001b[1;32mNone\u001b[0m\u001b[1;33m:\u001b[0m\u001b[1;33m\u001b[0m\u001b[1;33m\u001b[0m\u001b[0m\n\u001b[0;32m    601\u001b[0m       \u001b[1;31m# Release the lock early so that multiple threads can perform the call\u001b[0m\u001b[1;33m\u001b[0m\u001b[1;33m\u001b[0m\u001b[1;33m\u001b[0m\u001b[0m\n",
      "\u001b[1;32m~\\AppData\\Local\\Continuum\\anaconda3\\envs\\re_research\\lib\\site-packages\\tensorflow_core\\python\\eager\\function.py\u001b[0m in \u001b[0;36m__call__\u001b[1;34m(self, *args, **kwargs)\u001b[0m\n\u001b[0;32m   2361\u001b[0m     \u001b[1;32mwith\u001b[0m \u001b[0mself\u001b[0m\u001b[1;33m.\u001b[0m\u001b[0m_lock\u001b[0m\u001b[1;33m:\u001b[0m\u001b[1;33m\u001b[0m\u001b[1;33m\u001b[0m\u001b[0m\n\u001b[0;32m   2362\u001b[0m       \u001b[0mgraph_function\u001b[0m\u001b[1;33m,\u001b[0m \u001b[0margs\u001b[0m\u001b[1;33m,\u001b[0m \u001b[0mkwargs\u001b[0m \u001b[1;33m=\u001b[0m \u001b[0mself\u001b[0m\u001b[1;33m.\u001b[0m\u001b[0m_maybe_define_function\u001b[0m\u001b[1;33m(\u001b[0m\u001b[0margs\u001b[0m\u001b[1;33m,\u001b[0m \u001b[0mkwargs\u001b[0m\u001b[1;33m)\u001b[0m\u001b[1;33m\u001b[0m\u001b[1;33m\u001b[0m\u001b[0m\n\u001b[1;32m-> 2363\u001b[1;33m     \u001b[1;32mreturn\u001b[0m \u001b[0mgraph_function\u001b[0m\u001b[1;33m.\u001b[0m\u001b[0m_filtered_call\u001b[0m\u001b[1;33m(\u001b[0m\u001b[0margs\u001b[0m\u001b[1;33m,\u001b[0m \u001b[0mkwargs\u001b[0m\u001b[1;33m)\u001b[0m  \u001b[1;31m# pylint: disable=protected-access\u001b[0m\u001b[1;33m\u001b[0m\u001b[1;33m\u001b[0m\u001b[0m\n\u001b[0m\u001b[0;32m   2364\u001b[0m \u001b[1;33m\u001b[0m\u001b[0m\n\u001b[0;32m   2365\u001b[0m   \u001b[1;33m@\u001b[0m\u001b[0mproperty\u001b[0m\u001b[1;33m\u001b[0m\u001b[1;33m\u001b[0m\u001b[0m\n",
      "\u001b[1;32m~\\AppData\\Local\\Continuum\\anaconda3\\envs\\re_research\\lib\\site-packages\\tensorflow_core\\python\\eager\\function.py\u001b[0m in \u001b[0;36m_filtered_call\u001b[1;34m(self, args, kwargs)\u001b[0m\n\u001b[0;32m   1609\u001b[0m          if isinstance(t, (ops.Tensor,\n\u001b[0;32m   1610\u001b[0m                            resource_variable_ops.BaseResourceVariable))),\n\u001b[1;32m-> 1611\u001b[1;33m         self.captured_inputs)\n\u001b[0m\u001b[0;32m   1612\u001b[0m \u001b[1;33m\u001b[0m\u001b[0m\n\u001b[0;32m   1613\u001b[0m   \u001b[1;32mdef\u001b[0m \u001b[0m_call_flat\u001b[0m\u001b[1;33m(\u001b[0m\u001b[0mself\u001b[0m\u001b[1;33m,\u001b[0m \u001b[0margs\u001b[0m\u001b[1;33m,\u001b[0m \u001b[0mcaptured_inputs\u001b[0m\u001b[1;33m,\u001b[0m \u001b[0mcancellation_manager\u001b[0m\u001b[1;33m=\u001b[0m\u001b[1;32mNone\u001b[0m\u001b[1;33m)\u001b[0m\u001b[1;33m:\u001b[0m\u001b[1;33m\u001b[0m\u001b[1;33m\u001b[0m\u001b[0m\n",
      "\u001b[1;32m~\\AppData\\Local\\Continuum\\anaconda3\\envs\\re_research\\lib\\site-packages\\tensorflow_core\\python\\eager\\function.py\u001b[0m in \u001b[0;36m_call_flat\u001b[1;34m(self, args, captured_inputs, cancellation_manager)\u001b[0m\n\u001b[0;32m   1690\u001b[0m       \u001b[1;31m# No tape is watching; skip to running the function.\u001b[0m\u001b[1;33m\u001b[0m\u001b[1;33m\u001b[0m\u001b[1;33m\u001b[0m\u001b[0m\n\u001b[0;32m   1691\u001b[0m       return self._build_call_outputs(self._inference_function.call(\n\u001b[1;32m-> 1692\u001b[1;33m           ctx, args, cancellation_manager=cancellation_manager))\n\u001b[0m\u001b[0;32m   1693\u001b[0m     forward_backward = self._select_forward_and_backward_functions(\n\u001b[0;32m   1694\u001b[0m         \u001b[0margs\u001b[0m\u001b[1;33m,\u001b[0m\u001b[1;33m\u001b[0m\u001b[1;33m\u001b[0m\u001b[0m\n",
      "\u001b[1;32m~\\AppData\\Local\\Continuum\\anaconda3\\envs\\re_research\\lib\\site-packages\\tensorflow_core\\python\\eager\\function.py\u001b[0m in \u001b[0;36mcall\u001b[1;34m(self, ctx, args, cancellation_manager)\u001b[0m\n\u001b[0;32m    543\u001b[0m               \u001b[0minputs\u001b[0m\u001b[1;33m=\u001b[0m\u001b[0margs\u001b[0m\u001b[1;33m,\u001b[0m\u001b[1;33m\u001b[0m\u001b[1;33m\u001b[0m\u001b[0m\n\u001b[0;32m    544\u001b[0m               \u001b[0mattrs\u001b[0m\u001b[1;33m=\u001b[0m\u001b[1;33m(\u001b[0m\u001b[1;34m\"executor_type\"\u001b[0m\u001b[1;33m,\u001b[0m \u001b[0mexecutor_type\u001b[0m\u001b[1;33m,\u001b[0m \u001b[1;34m\"config_proto\"\u001b[0m\u001b[1;33m,\u001b[0m \u001b[0mconfig\u001b[0m\u001b[1;33m)\u001b[0m\u001b[1;33m,\u001b[0m\u001b[1;33m\u001b[0m\u001b[1;33m\u001b[0m\u001b[0m\n\u001b[1;32m--> 545\u001b[1;33m               ctx=ctx)\n\u001b[0m\u001b[0;32m    546\u001b[0m         \u001b[1;32melse\u001b[0m\u001b[1;33m:\u001b[0m\u001b[1;33m\u001b[0m\u001b[1;33m\u001b[0m\u001b[0m\n\u001b[0;32m    547\u001b[0m           outputs = execute.execute_with_cancellation(\n",
      "\u001b[1;32m~\\AppData\\Local\\Continuum\\anaconda3\\envs\\re_research\\lib\\site-packages\\tensorflow_core\\python\\eager\\execute.py\u001b[0m in \u001b[0;36mquick_execute\u001b[1;34m(op_name, num_outputs, inputs, attrs, ctx, name)\u001b[0m\n\u001b[0;32m     59\u001b[0m     tensors = pywrap_tensorflow.TFE_Py_Execute(ctx._handle, device_name,\n\u001b[0;32m     60\u001b[0m                                                \u001b[0mop_name\u001b[0m\u001b[1;33m,\u001b[0m \u001b[0minputs\u001b[0m\u001b[1;33m,\u001b[0m \u001b[0mattrs\u001b[0m\u001b[1;33m,\u001b[0m\u001b[1;33m\u001b[0m\u001b[1;33m\u001b[0m\u001b[0m\n\u001b[1;32m---> 61\u001b[1;33m                                                num_outputs)\n\u001b[0m\u001b[0;32m     62\u001b[0m   \u001b[1;32mexcept\u001b[0m \u001b[0mcore\u001b[0m\u001b[1;33m.\u001b[0m\u001b[0m_NotOkStatusException\u001b[0m \u001b[1;32mas\u001b[0m \u001b[0me\u001b[0m\u001b[1;33m:\u001b[0m\u001b[1;33m\u001b[0m\u001b[1;33m\u001b[0m\u001b[0m\n\u001b[0;32m     63\u001b[0m     \u001b[1;32mif\u001b[0m \u001b[0mname\u001b[0m \u001b[1;32mis\u001b[0m \u001b[1;32mnot\u001b[0m \u001b[1;32mNone\u001b[0m\u001b[1;33m:\u001b[0m\u001b[1;33m\u001b[0m\u001b[1;33m\u001b[0m\u001b[0m\n",
      "\u001b[1;31mKeyboardInterrupt\u001b[0m: "
     ]
    }
   ],
   "source": [
    "history = model.fit(dataset, epochs=epochs, callbacks=[checkpoint_callback])"
   ]
  },
  {
   "cell_type": "markdown",
   "metadata": {},
   "source": [
    "---\n",
    "## Continue training from checkpoint"
   ]
  },
  {
   "cell_type": "code",
   "execution_count": 54,
   "metadata": {},
   "outputs": [
    {
     "name": "stdout",
     "output_type": "stream",
     "text": [
      "Model: \"sequential_4\"\n",
      "_________________________________________________________________\n",
      "Layer (type)                 Output Shape              Param #   \n",
      "=================================================================\n",
      "embedding_4 (Embedding)      (100, None, 100)          2336200   \n",
      "_________________________________________________________________\n",
      "lstm_4 (LSTM)                (100, None, 20)           9680      \n",
      "_________________________________________________________________\n",
      "dense_4 (Dense)              (100, None, 23362)        490602    \n",
      "=================================================================\n",
      "Total params: 2,836,482\n",
      "Trainable params: 2,836,482\n",
      "Non-trainable params: 0\n",
      "_________________________________________________________________\n"
     ]
    }
   ],
   "source": [
    "model.summary()"
   ]
  },
  {
   "cell_type": "code",
   "execution_count": 62,
   "metadata": {},
   "outputs": [],
   "source": [
    "tf.train.latest_checkpoint(checkpoint_dir)\n",
    "model = build_model(n_items, embedding_dim, rnn_units, batch_size=100)\n",
    "model.load_weights(tf.train.latest_checkpoint(checkpoint_dir))\n",
    "model.compile(optimizer='Adagrad', loss=loss)"
   ]
  },
  {
   "cell_type": "code",
   "execution_count": 63,
   "metadata": {},
   "outputs": [],
   "source": [
    "aditional_epochs = 1"
   ]
  },
  {
   "cell_type": "code",
   "execution_count": 64,
   "metadata": {},
   "outputs": [
    {
     "name": "stdout",
     "output_type": "stream",
     "text": [
      "Train for 55 steps\n",
      "WARNING:tensorflow:Unresolved object in checkpoint: (root).optimizer.iter\n",
      "WARNING:tensorflow:Unresolved object in checkpoint: (root).optimizer.decay\n",
      "WARNING:tensorflow:Unresolved object in checkpoint: (root).optimizer.learning_rate\n",
      "WARNING:tensorflow:A checkpoint was restored (e.g. tf.train.Checkpoint.restore or tf.keras.Model.load_weights) but not all checkpointed values were used. See above for specific issues. Use expect_partial() on the load status object, e.g. tf.train.Checkpoint.restore(...).expect_partial(), to silence these warnings, or use assert_consumed() to make the check explicit. See https://www.tensorflow.org/guide/checkpoint#loading_mechanics for details.\n",
      " 9/55 [===>..........................] - ETA: 5:50 - loss: 4.1975"
     ]
    },
    {
     "name": "stderr",
     "output_type": "stream",
     "text": [
      "\n",
      "KeyboardInterrupt\n",
      "\n"
     ]
    }
   ],
   "source": [
    "model.fit(dataset, epochs=aditional_epochs, callbacks=[checkpoint_callback])"
   ]
  },
  {
   "cell_type": "markdown",
   "metadata": {},
   "source": [
    "---\n",
    "# Predict Sequences"
   ]
  },
  {
   "cell_type": "markdown",
   "metadata": {},
   "source": [
    "## Restore Latest Checkpoints"
   ]
  },
  {
   "cell_type": "code",
   "execution_count": null,
   "metadata": {},
   "outputs": [],
   "source": [
    "tf.train.latest_checkpoint(checkpoint_dir)"
   ]
  },
  {
   "cell_type": "code",
   "execution_count": null,
   "metadata": {},
   "outputs": [],
   "source": [
    "model = build_model(n_items, embedding_dim, rnn_units, batch_size=1)\n",
    "\n",
    "model.load_weights(tf.train.latest_checkpoint(checkpoint_dir))\n",
    "                   \n",
    "model.build(tf.TensorShape([1, None]))"
   ]
  },
  {
   "cell_type": "code",
   "execution_count": null,
   "metadata": {},
   "outputs": [],
   "source": [
    "model.summary()"
   ]
  },
  {
   "cell_type": "markdown",
   "metadata": {},
   "source": [
    "---\n",
    "## Create Predictions"
   ]
  },
  {
   "cell_type": "markdown",
   "metadata": {},
   "source": [
    "**Using test_df**"
   ]
  },
  {
   "cell_type": "code",
   "execution_count": 69,
   "metadata": {},
   "outputs": [
    {
     "name": "stdout",
     "output_type": "stream",
     "text": [
      "test users: 500\n"
     ]
    }
   ],
   "source": [
    "print('test users:', len(test_df.user_id.unique()))"
   ]
  },
  {
   "cell_type": "code",
   "execution_count": null,
   "metadata": {},
   "outputs": [],
   "source": [
    "predictions_df = pd.DataFrame(columns=['user', 'pred_seq', 'true_seq'])"
   ]
  },
  {
   "cell_type": "code",
   "execution_count": null,
   "metadata": {},
   "outputs": [],
   "source": [
    "temperature = 1.0\n",
    "\n",
    "for u in test_df.user_id.unique(): #Note: Can use multiprocessing for this\n",
    "    generated_predictions = []\n",
    "    user_item_seq = np.array(test_df[test_df['user_id']==u]['item_id'])\n",
    "    half_test_seq = user_item_seq[:int(len(user_item_seq)/2)]\n",
    "    half_test_seq = half_test_seq.reshape(-1,1).transpose()\n",
    "    other_half = user_item_seq[int(len(user_item_seq)/2):]\n",
    "\n",
    "    #Predict\n",
    "    for item in half_test_seq[0]:\n",
    "        predictions = model(half_test_seq)\n",
    "        predictions = tf.squeeze(predictions, 0)\n",
    "\n",
    "        predictions = predictions / temperature\n",
    "        predicted_id = tf.random.categorical(predictions, num_samples=1)[-1,0].numpy()\n",
    "        half_test_seq = np.append(half_test_seq, predicted_id).reshape(-1,1).transpose()\n",
    "\n",
    "        half_test_seq = tf.expand_dims([predicted_id], 0)\n",
    "        generated_predictions.append(predicted_id)\n",
    "        \n",
    "    predictions_df = predictions_df.append({'user':u, 'pred_seq':generated_predictions, 'true_seq':other_half}, ignore_index=True)"
   ]
  },
  {
   "cell_type": "code",
   "execution_count": null,
   "metadata": {},
   "outputs": [],
   "source": [
    "len(predictions_df.iloc[0]['true_seq'])"
   ]
  },
  {
   "cell_type": "markdown",
   "metadata": {},
   "source": [
    "# Evaluate"
   ]
  },
  {
   "cell_type": "code",
<<<<<<< HEAD
   "execution_count": 4,
=======
   "execution_count": 6,
>>>>>>> d0d5ed2270e2ed8636bf805dc70f26b5b31dd09c
   "metadata": {},
   "outputs": [],
   "source": [
    "result_path = 'Results/CFRNN/'\n",
    "predictions = pd.read_pickle(path + result_path + 'CFRNN_ml_6k_users_700_epochs')"
   ]
  },
  {
   "cell_type": "code",
<<<<<<< HEAD
   "execution_count": 5,
=======
   "execution_count": 7,
>>>>>>> d0d5ed2270e2ed8636bf805dc70f26b5b31dd09c
   "metadata": {},
   "outputs": [
    {
     "data": {
      "text/plain": [
       "['user', 'pred_seq', 'true_seq']"
      ]
     },
<<<<<<< HEAD
     "execution_count": 5,
=======
     "execution_count": 7,
>>>>>>> d0d5ed2270e2ed8636bf805dc70f26b5b31dd09c
     "metadata": {},
     "output_type": "execute_result"
    }
   ],
   "source": [
    "list(predictions)"
   ]
  },
  {
   "cell_type": "code",
   "execution_count": 82,
   "metadata": {},
   "outputs": [
    {
     "name": "stdout",
     "output_type": "stream",
     "text": [
      "1108 1841\n",
      "2448 148\n",
      "5552 10204\n",
      "5552 9145\n",
      "5854 2313\n",
      "5135 46\n",
      "5135 21015\n",
      "5135 1880\n",
      "4620 7300\n",
      "1208 133\n",
      "1373 6354\n",
      "602 6892\n",
      "602 18287\n",
      "602 4246\n",
      "602 3614\n",
      "602 4005\n",
      "602 5518\n",
      "602 14551\n",
      "602 9912\n",
      "602 19011\n",
      "602 3265\n",
      "602 12593\n",
      "602 14227\n",
      "602 2018\n",
      "602 1040\n",
      "602 1159\n",
      "602 644\n",
      "602 6615\n",
      "602 16919\n",
      "602 5083\n",
      "602 20933\n",
      "1192 3120\n",
      "1192 68\n",
      "1192 5060\n",
      "1192 7385\n",
      "1192 5180\n",
      "1192 1552\n",
      "1192 11481\n",
      "1192 13450\n",
      "1192 14588\n",
      "1192 14642\n",
      "3355 965\n",
      "3355 1147\n",
      "3355 650\n",
      "2040 1142\n",
      "5600 0\n",
      "920 2554\n",
      "5485 2768\n",
      "2733 1289\n",
      "2733 7320\n",
      "2733 5000\n",
      "2733 1405\n",
      "2733 6091\n",
      "2733 5501\n",
      "2733 5130\n",
      "2733 2929\n",
      "2733 7701\n",
      "2733 9226\n",
      "2733 1605\n",
      "2310 5121\n",
      "4394 22\n",
      "525 1534\n",
      "4851 466\n",
      "3857 1166\n",
      "3857 5082\n",
      "3857 5899\n",
      "2103 2326\n",
      "2103 2235\n",
      "2418 2767\n",
      "2418 1947\n",
      "2418 3886\n",
      "934 5149\n",
      "934 3748\n",
      "934 998\n",
      "5908 442\n",
      "2698 3320\n",
      "145 4792\n",
      "145 3642\n",
      "145 6353\n",
      "145 106\n",
      "5565 9501\n",
      "1540 1232\n",
      "1540 3847\n",
      "1540 210\n",
      "1540 5558\n",
      "1540 746\n",
      "1540 1590\n",
      "1540 3979\n",
      "5929 442\n",
      "3864 8562\n",
      "3864 984\n",
      "3864 242\n",
      "3864 649\n",
      "3864 291\n",
      "3864 3492\n",
      "2346 2543\n",
      "4801 1234\n",
      "4801 1216\n",
      "305 6121\n",
      "1638 2848\n",
      "4485 5498\n",
      "4485 1986\n",
      "4485 1830\n",
      "4485 7228\n",
      "4485 6403\n",
      "5850 6452\n",
      "3998 2539\n",
      "1618 5276\n",
      "2624 1195\n",
      "2624 10292\n",
      "2624 567\n",
      "1513 12312\n",
      "3113 457\n",
      "3113 77\n",
      "3113 264\n",
      "5660 0\n",
      "5660 5899\n",
      "2284 2230\n",
      "2284 9503\n",
      "2284 7220\n",
      "2284 10206\n",
      "2284 10422\n",
      "2284 10937\n",
      "2284 12737\n",
      "2284 1311\n",
      "2284 15404\n",
      "2284 15934\n",
      "2284 10802\n",
      "2284 14977\n",
      "2284 1146\n",
      "5961 14974\n",
      "5961 15320\n",
      "5961 23048\n",
      "5961 1204\n",
      "5961 23166\n",
      "4176 9140\n",
      "4650 4125\n",
      "1457 107\n",
      "1457 3111\n",
      "1064 2544\n",
      "1064 2838\n",
      "1064 2368\n",
      "1064 442\n",
      "4619 2836\n",
      "3241 9000\n",
      "3241 11705\n",
      "3241 9834\n",
      "3241 10511\n",
      "2013 4416\n",
      "2013 10563\n",
      "2013 15248\n",
      "2013 16693\n",
      "2013 21350\n",
      "580 576\n",
      "3933 2770\n",
      "730 390\n",
      "730 1165\n",
      "730 1035\n",
      "730 1168\n",
      "730 1031\n",
      "1704 6837\n",
      "1704 6702\n",
      "4474 4013\n",
      "4474 4138\n",
      "4032 1045\n",
      "4032 3459\n",
      "3178 0\n",
      "5400 4123\n",
      "5400 11373\n",
      "5400 10306\n",
      "5400 4380\n",
      "5400 1520\n",
      "5400 13451\n",
      "5400 2858\n",
      "5400 5098\n",
      "5400 9814\n",
      "5400 3549\n",
      "5400 9193\n",
      "3990 10311\n",
      "5232 5450\n",
      "981 3815\n",
      "466 3235\n",
      "4542 5854\n",
      "4542 5839\n",
      "4542 5122\n",
      "4542 5938\n",
      "1103 15\n",
      "1103 1\n",
      "5898 1520\n",
      "2815 3837\n",
      "2815 3803\n",
      "2815 3798\n",
      "2815 5792\n",
      "2815 6350\n",
      "2815 2160\n",
      "2815 8639\n",
      "2815 3086\n",
      "2815 4657\n",
      "2815 7175\n",
      "2815 325\n",
      "2815 1485\n",
      "2895 1440\n",
      "2895 11196\n",
      "5622 11481\n",
      "5622 18016\n",
      "5622 3516\n",
      "5622 5104\n",
      "5622 15949\n",
      "5622 10413\n",
      "5622 9670\n",
      "5622 10969\n",
      "5622 15130\n",
      "5622 13173\n",
      "5622 17761\n",
      "5622 15459\n",
      "4790 306\n",
      "3343 350\n",
      "4641 1140\n",
      "4641 2580\n",
      "2371 3522\n",
      "2371 1543\n",
      "2371 43\n",
      "4535 1831\n",
      "4535 2794\n",
      "4367 3991\n",
      "4367 6031\n",
      "4367 6254\n",
      "4367 6345\n",
      "4367 439\n",
      "4367 4710\n",
      "4367 2902\n",
      "4367 9699\n",
      "4367 9938\n",
      "4367 10127\n",
      "4367 10474\n",
      "4367 12887\n",
      "4367 13648\n",
      "4367 12167\n",
      "3750 4402\n",
      "3750 1407\n",
      "3750 3347\n",
      "3750 5521\n",
      "3750 6084\n",
      "3750 3558\n",
      "3750 10302\n",
      "3750 6758\n",
      "3750 4224\n",
      "3750 8151\n",
      "3750 45\n",
      "3750 14178\n",
      "3900 1814\n",
      "3120 1214\n",
      "3120 2955\n",
      "3120 3085\n",
      "3120 369\n",
      "3120 1712\n",
      "3120 1461\n",
      "3120 77\n",
      "3120 3032\n",
      "3120 3317\n",
      "3120 3357\n",
      "3120 3158\n",
      "3120 1206\n",
      "3120 2592\n",
      "3120 371\n",
      "923 3216\n",
      "923 6541\n",
      "923 4675\n",
      "923 7367\n",
      "923 3704\n",
      "923 7477\n",
      "923 927\n",
      "923 9706\n",
      "923 9670\n",
      "923 4303\n",
      "923 4565\n",
      "923 6819\n",
      "923 10837\n",
      "3965 8563\n",
      "3965 3111\n",
      "194 523\n",
      "194 5940\n",
      "194 14645\n",
      "194 19011\n",
      "194 19333\n",
      "354 1142\n",
      "528 570\n",
      "997 9639\n",
      "997 5565\n",
      "997 4177\n",
      "997 2929\n",
      "997 13301\n",
      "997 3994\n",
      "997 14144\n",
      "1305 913\n",
      "1116 3265\n",
      "1116 534\n",
      "36 2157\n",
      "36 15009\n",
      "3153 5625\n",
      "5323 8435\n",
      "4325 108\n",
      "4325 1201\n",
      "4325 4986\n",
      "4325 1234\n",
      "1170 5772\n",
      "1896 47\n",
      "2203 3295\n",
      "2203 7236\n",
      "3826 2276\n",
      "3826 3347\n",
      "3094 1147\n",
      "3094 1026\n",
      "3094 1878\n",
      "1931 2286\n",
      "1931 4161\n",
      "1931 3922\n",
      "1931 2441\n",
      "1931 3019\n",
      "1931 1829\n",
      "1931 4013\n",
      "1931 3799\n",
      "1931 4709\n",
      "1931 3781\n",
      "1931 1189\n",
      "1931 2769\n",
      "1931 6366\n",
      "1931 1534\n",
      "4457 802\n",
      "4457 60\n",
      "4457 983\n",
      "154 3180\n",
      "154 9091\n",
      "4302 7133\n",
      "5749 1183\n",
      "5085 14662\n",
      "5085 1798\n",
      "5085 165\n",
      "5085 6414\n",
      "5085 7221\n",
      "5085 1631\n",
      "5085 2257\n",
      "5085 335\n",
      "5085 7389\n",
      "5085 6555\n",
      "5531 314\n",
      "5710 1201\n",
      "4294 2047\n",
      "4294 2848\n",
      "4749 2649\n",
      "2504 2392\n",
      "2504 2313\n",
      "3927 7127\n",
      "3927 1149\n",
      "3927 9538\n",
      "3927 10692\n",
      "3927 35\n",
      "3927 8889\n",
      "3927 9833\n",
      "3927 5546\n",
      "3927 11146\n",
      "3927 12367\n",
      "3927 4996\n",
      "3927 1227\n",
      "3927 13643\n",
      "3927 1302\n",
      "3927 5402\n",
      "3927 7717\n",
      "3927 10215\n",
      "3927 14788\n",
      "3927 14452\n",
      "3927 14814\n",
      "3927 13860\n",
      "3927 15319\n",
      "3927 6392\n",
      "3927 13590\n",
      "3927 6009\n",
      "3927 17931\n",
      "3927 18025\n",
      "3927 6848\n",
      "3927 17921\n",
      "3927 13693\n",
      "3927 5830\n",
      "3927 22393\n",
      "3927 10957\n",
      "5521 219\n",
      "5521 2518\n",
      "5521 5035\n",
      "175 7662\n",
      "2356 2743\n",
      "2356 3722\n",
      "2356 3740\n",
      "2356 2010\n",
      "2450 3828\n",
      "2450 1524\n",
      "2450 983\n",
      "2450 3366\n",
      "2450 408\n",
      "2450 528\n",
      "2450 417\n",
      "2450 4624\n",
      "2450 470\n",
      "5410 3099\n",
      "5410 160\n",
      "5410 1\n",
      "5410 3412\n",
      "5410 1255\n",
      "5410 1806\n",
      "5410 979\n",
      "5410 3440\n",
      "5410 3635\n",
      "5410 3311\n",
      "5410 3693\n",
      "5410 1084\n",
      "5410 4385\n",
      "5410 4933\n",
      "5410 5320\n",
      "5410 6250\n",
      "5410 6055\n",
      "5410 7385\n",
      "5410 4828\n",
      "1104 5422\n",
      "1104 14468\n",
      "1104 14783\n",
      "1104 1206\n",
      "1104 1787\n",
      "1104 15722\n",
      "1104 15627\n",
      "1104 16567\n",
      "1104 3933\n",
      "1104 12730\n",
      "1104 12246\n",
      "1104 17431\n",
      "1104 17880\n",
      "1104 263\n",
      "2136 2186\n",
      "3752 456\n",
      "4164 1715\n",
      "1362 3693\n",
      "1362 1980\n",
      "1362 2734\n",
      "1362 248\n",
      "1362 1631\n",
      "1362 1615\n",
      "1362 1524\n",
      "1362 2121\n",
      "1362 3670\n",
      "1362 4600\n",
      "1362 5275\n",
      "1362 6254\n",
      "1362 7514\n",
      "69 367\n",
      "450 10275\n",
      "450 20364\n",
      "3366 3485\n",
      "3366 1649\n",
      "3366 106\n",
      "3366 0\n",
      "3366 2651\n",
      "3366 70\n",
      "3366 2294\n",
      "3366 2714\n",
      "5779 5447\n",
      "1938 1085\n",
      "1841 1955\n",
      "1841 7073\n",
      "1107 864\n",
      "1107 3982\n",
      "1107 6465\n",
      "1107 107\n",
      "1107 1165\n",
      "1107 162\n",
      "1107 10514\n",
      "1107 68\n",
      "1107 10815\n",
      "1107 9772\n",
      "1107 11468\n",
      "1107 23180\n",
      "1107 9839\n",
      "5737 3933\n",
      "5737 3643\n",
      "5737 1231\n",
      "278 4033\n",
      "278 1836\n",
      "278 2948\n"
     ]
    }
   ],
   "source": [
    "hitcount = 0\n",
    "for i, row in predictions.iterrows():\n",
    "    for true_item in row.true_seq:\n",
    "        if true_item in row.pred_seq:\n",
    "            hitcount += 1"
   ]
  },
  {
   "cell_type": "code",
   "execution_count": 81,
   "metadata": {},
   "outputs": [
    {
     "data": {
      "text/plain": [
       "485"
      ]
     },
     "execution_count": 81,
     "metadata": {},
     "output_type": "execute_result"
    }
   ],
   "source": [
    "hitcount"
   ]
  },
  {
   "cell_type": "markdown",
   "metadata": {},
   "source": [
    "# Appendix"
   ]
  },
  {
   "cell_type": "code",
   "execution_count": null,
   "metadata": {},
   "outputs": [],
   "source": [
    "# oh_input = tf.keras.backend.one_hot(padded, n_items)\n",
    "# e = tf.keras.layers.Embedding(n_items, 100, input_length=max_l)"
   ]
  }
 ],
 "metadata": {
  "kernelspec": {
   "display_name": "Python 3",
   "language": "python",
   "name": "python3"
  },
  "language_info": {
   "codemirror_mode": {
    "name": "ipython",
    "version": 3
   },
   "file_extension": ".py",
   "mimetype": "text/x-python",
   "name": "python",
   "nbconvert_exporter": "python",
   "pygments_lexer": "ipython3",
   "version": "3.7.6"
  },
  "toc": {
   "base_numbering": 1,
   "nav_menu": {},
   "number_sections": true,
   "sideBar": true,
   "skip_h1_title": false,
   "title_cell": "Table of Contents",
   "title_sidebar": "Contents",
   "toc_cell": false,
   "toc_position": {
    "height": "375.742px",
    "left": "1048.75px",
    "top": "110.57px",
    "width": "200.295px"
   },
   "toc_section_display": true,
   "toc_window_display": true
  }
 },
 "nbformat": 4,
 "nbformat_minor": 2
}
