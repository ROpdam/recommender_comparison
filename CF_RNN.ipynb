{
 "cells": [
  {
   "cell_type": "code",
   "execution_count": 1,
   "metadata": {
    "colab": {},
    "colab_type": "code",
    "id": "GKmM1TG-c-TS"
   },
   "outputs": [
    {
     "name": "stdout",
     "output_type": "stream",
     "text": [
      "TF version: 2.2.0 \n",
      "GPU available: []\n"
     ]
    }
   ],
   "source": [
    "import pandas as pd\n",
    "import numpy as np\n",
    "import tensorflow as tf\n",
    "import matplotlib.pyplot as plt\n",
    "import os\n",
    "%load_ext autoreload\n",
    "%autoreload 2\n",
    "print('TF version:', tf.__version__ , '\\nGPU available:', tf.config.list_physical_devices('GPU'))"
   ]
  },
  {
   "cell_type": "markdown",
   "metadata": {
    "colab_type": "text",
    "id": "dCYwnVWQc-Te"
   },
   "source": [
    "# Read Data\n",
    "- all datasets are datetime sorted"
   ]
  },
  {
   "cell_type": "code",
   "execution_count": 3,
   "metadata": {
    "colab": {},
    "colab_type": "code",
    "id": "8zDM1sWVc-Tf"
   },
   "outputs": [],
   "source": [
    "# path = 'C:/Users/robin.opdam/Google Drive/Thesis (Msc)/Thesis_shared_files/'\n",
    "path = '/Users/Robin/Google Drive/Thesis (Msc)/Thesis_shared_files/'\n",
    "# path = '../' # Paperspace"
   ]
  },
  {
   "cell_type": "markdown",
   "metadata": {
    "colab_type": "text",
    "id": "D8KT8aimc-Tj"
   },
   "source": [
    "## Amazon Fashion "
   ]
  },
  {
   "cell_type": "code",
   "execution_count": 3,
   "metadata": {
    "colab": {},
    "colab_type": "code",
    "id": "l62L3lv-c-Tj"
   },
   "outputs": [],
   "source": [
    "data_path = 'datasets/' # Paperspace\n",
    "# data_path = 'Data/Amazon/'\n",
    "file_name = 'Amazon_01_users'\n",
    "# file_name = 'am_like_ml_01'"
   ]
  },
  {
   "cell_type": "markdown",
   "metadata": {
    "colab_type": "text",
    "id": "pLo0gKuEc-Tn"
   },
   "source": [
    "## MovieLens "
   ]
  },
  {
   "cell_type": "code",
   "execution_count": 4,
   "metadata": {
    "colab": {},
    "colab_type": "code",
    "id": "zbxNjxJFc-To"
   },
   "outputs": [],
   "source": [
    "# data_path = 'datasets/' # Paperspace\n",
    "file_name = 'ml_1m'\n",
    "data_path = 'Data/ML/'\n",
    "# file_name = 'ML_05_users'\n",
    "# file_name = 'ML_01_users'"
   ]
  },
  {
   "cell_type": "code",
   "execution_count": 5,
   "metadata": {
    "colab": {
     "base_uri": "https://localhost:8080/",
     "height": 204
    },
    "colab_type": "code",
    "executionInfo": {
     "elapsed": 487,
     "status": "ok",
     "timestamp": 1586364387222,
     "user": {
      "displayName": "Robin Opdam",
      "photoUrl": "",
      "userId": "15967290835659268034"
     },
     "user_tz": -120
    },
    "id": "O8lLdQE-c-Ts",
    "outputId": "03b7ad73-f0bb-41c5-f083-7571ba3c53d8"
   },
   "outputs": [
    {
     "data": {
      "text/html": [
       "<div>\n",
       "<style scoped>\n",
       "    .dataframe tbody tr th:only-of-type {\n",
       "        vertical-align: middle;\n",
       "    }\n",
       "\n",
       "    .dataframe tbody tr th {\n",
       "        vertical-align: top;\n",
       "    }\n",
       "\n",
       "    .dataframe thead th {\n",
       "        text-align: right;\n",
       "    }\n",
       "</style>\n",
       "<table border=\"1\" class=\"dataframe\">\n",
       "  <thead>\n",
       "    <tr style=\"text-align: right;\">\n",
       "      <th></th>\n",
       "      <th>rating</th>\n",
       "      <th>datetime</th>\n",
       "      <th>user_id</th>\n",
       "      <th>item_id</th>\n",
       "    </tr>\n",
       "  </thead>\n",
       "  <tbody>\n",
       "    <tr>\n",
       "      <th>0</th>\n",
       "      <td>4</td>\n",
       "      <td>2000-12-31 22:00:19</td>\n",
       "      <td>0</td>\n",
       "      <td>2969</td>\n",
       "    </tr>\n",
       "    <tr>\n",
       "      <th>1</th>\n",
       "      <td>4</td>\n",
       "      <td>2000-12-31 22:00:55</td>\n",
       "      <td>0</td>\n",
       "      <td>1574</td>\n",
       "    </tr>\n",
       "    <tr>\n",
       "      <th>2</th>\n",
       "      <td>5</td>\n",
       "      <td>2000-12-31 22:00:55</td>\n",
       "      <td>0</td>\n",
       "      <td>957</td>\n",
       "    </tr>\n",
       "    <tr>\n",
       "      <th>3</th>\n",
       "      <td>5</td>\n",
       "      <td>2000-12-31 22:00:55</td>\n",
       "      <td>0</td>\n",
       "      <td>1178</td>\n",
       "    </tr>\n",
       "    <tr>\n",
       "      <th>4</th>\n",
       "      <td>3</td>\n",
       "      <td>2000-12-31 22:01:43</td>\n",
       "      <td>0</td>\n",
       "      <td>2147</td>\n",
       "    </tr>\n",
       "  </tbody>\n",
       "</table>\n",
       "</div>"
      ],
      "text/plain": [
       "   rating            datetime  user_id  item_id\n",
       "0       4 2000-12-31 22:00:19        0     2969\n",
       "1       4 2000-12-31 22:00:55        0     1574\n",
       "2       5 2000-12-31 22:00:55        0      957\n",
       "3       5 2000-12-31 22:00:55        0     1178\n",
       "4       3 2000-12-31 22:01:43        0     2147"
      ]
     },
     "execution_count": 5,
     "metadata": {},
     "output_type": "execute_result"
    }
   ],
   "source": [
    "df = pd.read_pickle(path + data_path + file_name)\n",
    "# df['item_id'] = df.item.astype('category').cat.codes\n",
    "# df['user_id'] = df.user.astype('category').cat.codes\n",
    "\n",
    "df.head()"
   ]
  },
  {
   "cell_type": "markdown",
   "metadata": {
    "colab_type": "text",
    "id": "pWbRJiusc-U4"
   },
   "source": [
    "---\n",
    "# LSTM Model\n",
    "Collaborative Filtering with Recurrent Neural Networks\n",
    "- paper: https://arxiv.org/pdf/1608.07400.pdf\n",
    "- code: https://github.com/rdevooght/sequence-based-recommendations (in Theano)"
   ]
  },
  {
   "cell_type": "markdown",
   "metadata": {},
   "source": [
    "## Init"
   ]
  },
  {
   "cell_type": "code",
   "execution_count": null,
   "metadata": {},
   "outputs": [],
   "source": [
    "res_ext = file_name[:2]\n",
    "all_models = pd.read_pickle(path + 'results/' + res_ext + '/all_models')"
   ]
  },
  {
   "cell_type": "code",
   "execution_count": 77,
   "metadata": {},
   "outputs": [
    {
     "name": "stdout",
     "output_type": "stream",
     "text": [
      "new model id: 0_ml\n"
     ]
    }
   ],
   "source": [
    "res_ext = file_name[:2]\n",
    "new_model_id = str(0) + '_' + res_ext\n",
    "print('new model id:', new_model_id)"
   ]
  },
  {
   "cell_type": "code",
   "execution_count": 78,
   "metadata": {},
   "outputs": [],
   "source": [
    "params = {\n",
    "'model_id':new_model_id,\n",
    "'train_time':0,\n",
    "'epochs':2,\n",
    "'BATCH_SIZE':32,\n",
    "'learning_rate':0.1,\n",
    "'delta':0.01,             # Diversity Bias\n",
    "'max_seq_len':30,        # Max length of sequence71=median\n",
    "'embedding_dim':100,\n",
    "'rnn_units':20,\n",
    "'ckpt_dir': '../ckpts/ckpts' + '_' + new_model_id,\n",
    "\n",
    "'test_users': 500,\n",
    "'val_users': 500,\n",
    "\n",
    "'pad_value':total_items, # Pad with total_items+1 => masked => still use item 0\n",
    "'shift_targets_by':1     \n",
    "}"
   ]
  },
  {
   "cell_type": "code",
   "execution_count": 83,
   "metadata": {},
   "outputs": [],
   "source": [
    "from CFRNN import CFRNN\n",
    "total_users = df.user_id.nunique()\n",
    "total_items = df.item_id.nunique()\n",
    "cfrnn = CFRNN(total_users, total_items, params)"
   ]
  },
  {
   "cell_type": "markdown",
   "metadata": {},
   "source": [
    "## Create Train Test Split"
   ]
  },
  {
   "cell_type": "code",
   "execution_count": 85,
   "metadata": {},
   "outputs": [
    {
     "name": "stderr",
     "output_type": "stream",
     "text": [
      "100% |########################################################################|\n",
      "100% |########################################################################|\n"
     ]
    }
   ],
   "source": [
    "train_set, test_set = cfrnn.data_split(df)\n",
    "train_set, val_set = cfrnn.data_split(train_set, val=True)"
   ]
  },
  {
   "cell_type": "code",
   "execution_count": 86,
   "metadata": {},
   "outputs": [],
   "source": [
    "train_dataset = model.create_seq_batch_tf_dataset(train_set, stats=False)\n",
    "val_dataset = model.create_seq_batch_tf_dataset(val_set, stats=False)"
   ]
  },
  {
   "cell_type": "code",
   "execution_count": 87,
   "metadata": {},
   "outputs": [],
   "source": [
    "# train_set.to_pickle(path + 'Data/ML/train_set_cfrnn')\n",
    "# test_set.to_pickle(path + 'Data/ML/test_set_cfrnn')\n",
    "# val_set.to_pickle(path + 'Data/ML/val_set_cfrnn')"
   ]
  },
  {
   "cell_type": "markdown",
   "metadata": {
    "colab_type": "text",
    "id": "5uHkY9zyc-VA"
   },
   "source": [
    "## Build Model"
   ]
  },
  {
   "cell_type": "code",
   "execution_count": 89,
   "metadata": {},
   "outputs": [
    {
     "name": "stdout",
     "output_type": "stream",
     "text": [
      "Model: \"0_ml\"\n",
      "_________________________________________________________________\n",
      "Layer (type)                 Output Shape              Param #   \n",
      "=================================================================\n",
      "embedding_7 (Embedding)      (32, None, 100)           370700    \n",
      "_________________________________________________________________\n",
      "masking_7 (Masking)          (32, None, 100)           0         \n",
      "_________________________________________________________________\n",
      "lstm_7 (LSTM)                (32, None, 20)            9680      \n",
      "_________________________________________________________________\n",
      "dense_7 (Dense)              (32, None, 3706)          77826     \n",
      "=================================================================\n",
      "Total params: 458,206\n",
      "Trainable params: 458,206\n",
      "Non-trainable params: 0\n",
      "_________________________________________________________________\n",
      "None\n",
      "Creating Diveristy Bias\n",
      "Compiled LSTM\n"
     ]
    }
   ],
   "source": [
    "cfrnn.build_model()\n",
    "cfrnn.compile_model(train_set=train_set)"
   ]
  },
  {
   "cell_type": "markdown",
   "metadata": {
    "colab_type": "text",
    "id": "9mzqTsiqc-Vc"
   },
   "source": [
    "---\n",
    "# Train Model"
   ]
  },
  {
   "cell_type": "code",
   "execution_count": 92,
   "metadata": {},
   "outputs": [
    {
     "name": "stdout",
     "output_type": "stream",
     "text": [
      "#Batches: 188\n",
      "Batch size: 32\n"
     ]
    }
   ],
   "source": [
    "print('#Batches:', tf.data.experimental.cardinality(train_dataset).numpy())\n",
    "print('Batch size:', BATCH_SIZE)"
   ]
  },
  {
   "cell_type": "code",
   "execution_count": 90,
   "metadata": {},
   "outputs": [
    {
     "name": "stdout",
     "output_type": "stream",
     "text": [
      "Fitting LSTM with parameters:\n",
      "model_id                           0_ml\n",
      "train_time                            0\n",
      "epochs                                2\n",
      "BATCH_SIZE                           32\n",
      "learning_rate                       0.1\n",
      "delta                              0.01\n",
      "max_seq_len                          30\n",
      "embedding_dim                       100\n",
      "rnn_units                            20\n",
      "ckpt_dir            ../ckpts/ckpts_0_ml\n",
      "test_users                          500\n",
      "val_users                           500\n",
      "pad_value                          3706\n",
      "shift_targets_by                      1\n",
      "Name: 0, dtype: object\n",
      "Epoch 1/2\n",
      "188/188 [==============================] - 16s 84ms/step - loss: 7.5998 - recall: 0.0000e+00 - val_loss: 6.6681 - val_recall: 0.0000e+00\n",
      "Epoch 2/2\n",
      "188/188 [==============================] - 17s 89ms/step - loss: 7.5415 - recall: 0.0010 - val_loss: 6.5959 - val_recall: 0.0069\n"
     ]
    }
   ],
   "source": [
    "cfrnn.train(train_dataset, val_dataset, verbose=1)"
   ]
  },
  {
   "cell_type": "markdown",
   "metadata": {},
   "source": [
    "## Plot Training Loss, Metrics"
   ]
  },
  {
   "cell_type": "code",
   "execution_count": 23,
   "metadata": {},
   "outputs": [
    {
     "data": {
      "image/png": "[encoded data removed]",
      "text/plain": [
       "<Figure size 432x288 with 1 Axes>"
      ]
     },
     "metadata": {
      "needs_background": "light"
     },
     "output_type": "display_data"
    },
    {
     "data": {
      "image/png": "[encoded data removed]",
      "text/plain": [
       "<Figure size 432x288 with 1 Axes>"
      ]
     },
     "metadata": {
      "needs_background": "light"
     },
     "output_type": "display_data"
    }
   ],
   "source": [
    "results = history.history\n",
    "plt.plot(results['loss'])\n",
    "plt.plot(results['val_loss'])\n",
    "plt.show()\n",
    "plt.plot(results['recall'])\n",
    "plt.plot(results['val_recall'])\n",
    "plt.show()"
   ]
  },
  {
   "cell_type": "markdown",
   "metadata": {
    "colab_type": "text",
    "id": "qG6qSlkuc-Vs"
   },
   "source": [
    "---\n",
    "## Continue training from checkpoint"
   ]
  },
  {
   "cell_type": "markdown",
   "metadata": {},
   "source": [
    "### Load Weights"
   ]
  },
  {
   "cell_type": "code",
   "execution_count": 20,
   "metadata": {
    "colab": {},
    "colab_type": "code",
    "id": "EplgEE4Zc-Vz"
   },
   "outputs": [
    {
     "data": {
      "text/plain": [
       "<tensorflow.python.training.tracking.util.CheckpointLoadStatus at 0x7fcd29208c88>"
      ]
     },
     "execution_count": 20,
     "metadata": {},
     "output_type": "execute_result"
    }
   ],
   "source": [
    "from Models import build_LSTM_model\n",
    "model = build_LSTM_model(total_items = total_items,\n",
    "                         embedding_dim = embedding_dim,\n",
    "                         mask_value = pad_value,\n",
    "                         rnn_units = rnn_units,\n",
    "                         batch_size = BATCH_SIZE)\n",
    "\n",
    "model.load_weights(tf.train.latest_checkpoint(checkpoint_dir)).expect_partial()"
   ]
  },
  {
   "cell_type": "markdown",
   "metadata": {},
   "source": [
    "### Compile"
   ]
  },
  {
   "cell_type": "code",
   "execution_count": 21,
   "metadata": {},
   "outputs": [],
   "source": [
    "from Evaluation import recall_metric, diversity_bias_loss, create_diversity_bias\n",
    "diversity_bias = create_diversity_bias(train_set, total_items, delta)\n",
    "\n",
    "optimizer=tf.keras.optimizers.Adagrad(lr=learning_rate)\n",
    "loss=diversity_bias_loss(db=diversity_bias, total_items=total_items)\n",
    "metrics=[recall_metric(total_items=total_items)]\n",
    "\n",
    "model.compile(optimizer=optimizer,\n",
    "              loss=loss, \n",
    "              metrics=metrics)"
   ]
  },
  {
   "cell_type": "code",
   "execution_count": 22,
   "metadata": {},
   "outputs": [
    {
     "data": {
      "text/plain": [
       "{'model_id': '0_Am',\n",
       " 'train_time': 0,\n",
       " 'epochs': 0,\n",
       " 'BATCH_SIZE': 32,\n",
       " 'learning_rate': 0.1,\n",
       " 'delta': 0.6,\n",
       " 'max_seq_len': 30,\n",
       " 'val_perc': 0.1,\n",
       " 'test_perc': 0.1,\n",
       " 'n_items_val': 0,\n",
       " 'n_items_test': 1,\n",
       " 'pad_value': 247465,\n",
       " 'shift_targets_by': 1}"
      ]
     },
     "execution_count": 22,
     "metadata": {},
     "output_type": "execute_result"
    }
   ],
   "source": [
    "params"
   ]
  },
  {
   "cell_type": "code",
   "execution_count": 23,
   "metadata": {
    "colab": {},
    "colab_type": "code",
    "id": "kisl-tXEc-V3"
   },
   "outputs": [],
   "source": [
    "initial_epoch = 55\n",
    "total_epochs = 100"
   ]
  },
  {
   "cell_type": "markdown",
   "metadata": {},
   "source": [
    "### Continue Training"
   ]
  },
  {
   "cell_type": "code",
   "execution_count": 24,
   "metadata": {
    "colab": {},
    "colab_type": "code",
    "id": "wte4RyUsc-V7"
   },
   "outputs": [
    {
     "name": "stdout",
     "output_type": "stream",
     "text": [
      "Epoch 56/100\n",
      "3034/3034 [==============================] - 747s 246ms/step - loss: 0.0869 - recall: 0.0077 - val_loss: 0.0000e+00 - val_recall: 0.0000e+00\n",
      "Epoch 57/100\n",
      "3034/3034 [==============================] - 720s 237ms/step - loss: 0.0869 - recall: 0.0077 - val_loss: 0.4985 - val_recall: 0.0077\n",
      "Epoch 58/100\n",
      "3034/3034 [==============================] - 713s 235ms/step - loss: 0.0868 - recall: 0.0077 - val_loss: 0.4985 - val_recall: 0.0077\n",
      "Epoch 59/100\n",
      "3034/3034 [==============================] - 714s 235ms/step - loss: 0.0867 - recall: 0.0077 - val_loss: 0.4985 - val_recall: 0.0077\n",
      "Epoch 60/100\n",
      "3034/3034 [==============================] - 715s 236ms/step - loss: 0.0867 - recall: 0.0078 - val_loss: 0.4986 - val_recall: 0.0078\n",
      "Epoch 61/100\n",
      "3034/3034 [==============================] - 714s 235ms/step - loss: 0.0866 - recall: 0.0078 - val_loss: 0.4987 - val_recall: 0.0078\n",
      "Epoch 62/100\n",
      "3034/3034 [==============================] - 714s 235ms/step - loss: 0.0866 - recall: 0.0078 - val_loss: 0.4987 - val_recall: 0.0078\n",
      "Epoch 63/100\n",
      "3034/3034 [==============================] - 715s 236ms/step - loss: 0.0865 - recall: 0.0078 - val_loss: 0.4988 - val_recall: 0.0078\n",
      "Epoch 64/100\n",
      "3034/3034 [==============================] - 714s 235ms/step - loss: 0.0865 - recall: 0.0078 - val_loss: 0.4988 - val_recall: 0.0078\n",
      "Epoch 65/100\n",
      "3034/3034 [==============================] - 715s 236ms/step - loss: 0.0864 - recall: 0.0078 - val_loss: 0.4989 - val_recall: 0.0078\n",
      "Epoch 66/100\n",
      "3034/3034 [==============================] - 715s 236ms/step - loss: 0.0864 - recall: 0.0079 - val_loss: 0.4989 - val_recall: 0.0079\n",
      "Epoch 67/100\n",
      "3034/3034 [==============================] - 713s 235ms/step - loss: 0.0863 - recall: 0.0079 - val_loss: 0.4990 - val_recall: 0.0079\n",
      "Epoch 68/100\n",
      "3034/3034 [==============================] - 715s 236ms/step - loss: 0.0862 - recall: 0.0079 - val_loss: 0.4991 - val_recall: 0.0079\n",
      "Epoch 69/100\n",
      "3034/3034 [==============================] - 716s 236ms/step - loss: 0.0862 - recall: 0.0080 - val_loss: 0.4991 - val_recall: 0.0080\n",
      "Epoch 70/100\n",
      "3034/3034 [==============================] - 715s 236ms/step - loss: 0.0861 - recall: 0.0080 - val_loss: 0.4992 - val_recall: 0.0080\n",
      "Epoch 71/100\n",
      "3034/3034 [==============================] - 717s 236ms/step - loss: 0.0861 - recall: 0.0080 - val_loss: 0.4993 - val_recall: 0.0081\n",
      "Epoch 72/100\n",
      "3034/3034 [==============================] - 717s 236ms/step - loss: 0.0861 - recall: 0.0081 - val_loss: 0.4993 - val_recall: 0.0082\n",
      "Epoch 73/100\n",
      "3034/3034 [==============================] - 718s 237ms/step - loss: 0.0860 - recall: 0.0082 - val_loss: 0.4994 - val_recall: 0.0082\n",
      "Epoch 74/100\n",
      "3034/3034 [==============================] - 717s 236ms/step - loss: 0.0860 - recall: 0.0082 - val_loss: 0.4995 - val_recall: 0.0083\n",
      "Epoch 75/100\n",
      "3034/3034 [==============================] - 718s 237ms/step - loss: 0.0859 - recall: 0.0083 - val_loss: 0.4996 - val_recall: 0.0083\n",
      "Epoch 76/100\n",
      "3034/3034 [==============================] - 717s 236ms/step - loss: 0.0859 - recall: 0.0084 - val_loss: 0.4996 - val_recall: 0.0084\n",
      "Epoch 77/100\n",
      "3034/3034 [==============================] - 717s 236ms/step - loss: 0.0858 - recall: 0.0085 - val_loss: 0.4997 - val_recall: 0.0085\n",
      "Epoch 78/100\n",
      "3034/3034 [==============================] - 718s 237ms/step - loss: 0.0858 - recall: 0.0086 - val_loss: 0.4998 - val_recall: 0.0086\n",
      "Epoch 79/100\n",
      "3034/3034 [==============================] - 719s 237ms/step - loss: 0.0857 - recall: 0.0087 - val_loss: 0.4998 - val_recall: 0.0087\n",
      "Epoch 80/100\n",
      "3034/3034 [==============================] - 718s 237ms/step - loss: 0.0857 - recall: 0.0088 - val_loss: 0.4999 - val_recall: 0.0089\n",
      "Epoch 81/100\n",
      "3034/3034 [==============================] - 717s 236ms/step - loss: 0.0856 - recall: 0.0089 - val_loss: 0.5000 - val_recall: 0.0089\n",
      "Epoch 82/100\n",
      "3034/3034 [==============================] - 719s 237ms/step - loss: 0.0856 - recall: 0.0090 - val_loss: 0.5000 - val_recall: 0.0090\n",
      "Epoch 83/100\n",
      "3034/3034 [==============================] - 719s 237ms/step - loss: 0.0856 - recall: 0.0090 - val_loss: 0.5001 - val_recall: 0.0091\n",
      "Epoch 84/100\n",
      "3034/3034 [==============================] - 719s 237ms/step - loss: 0.0855 - recall: 0.0091 - val_loss: 0.5001 - val_recall: 0.0092\n",
      "Epoch 85/100\n",
      "3034/3034 [==============================] - 717s 236ms/step - loss: 0.0855 - recall: 0.0092 - val_loss: 0.5001 - val_recall: 0.0093\n",
      "Epoch 86/100\n",
      "3034/3034 [==============================] - 717s 236ms/step - loss: 0.0854 - recall: 0.0093 - val_loss: 0.5001 - val_recall: 0.0094\n",
      "Epoch 87/100\n",
      "3034/3034 [==============================] - 718s 237ms/step - loss: 0.0853 - recall: 0.0094 - val_loss: 0.5001 - val_recall: 0.0095\n",
      "Epoch 88/100\n",
      "3034/3034 [==============================] - 717s 236ms/step - loss: 0.0853 - recall: 0.0095 - val_loss: 0.5002 - val_recall: 0.0096\n",
      "Epoch 89/100\n",
      "3034/3034 [==============================] - 717s 236ms/step - loss: 0.0852 - recall: 0.0097 - val_loss: 0.5002 - val_recall: 0.0097\n",
      "Epoch 90/100\n",
      "3034/3034 [==============================] - 719s 237ms/step - loss: 0.0851 - recall: 0.0098 - val_loss: 0.5003 - val_recall: 0.0098\n",
      "Epoch 91/100\n",
      "3034/3034 [==============================] - 720s 237ms/step - loss: 0.0850 - recall: 0.0099 - val_loss: 0.5003 - val_recall: 0.0099\n",
      "Epoch 92/100\n",
      "3034/3034 [==============================] - 718s 237ms/step - loss: 0.0849 - recall: 0.0100 - val_loss: 0.5003 - val_recall: 0.0101\n",
      "Epoch 93/100\n",
      "3034/3034 [==============================] - 719s 237ms/step - loss: 0.0848 - recall: 0.0102 - val_loss: 0.5003 - val_recall: 0.0102\n",
      "Epoch 94/100\n",
      "3034/3034 [==============================] - 721s 238ms/step - loss: 0.0847 - recall: 0.0103 - val_loss: 0.5004 - val_recall: 0.0104\n",
      "Epoch 95/100\n",
      "3034/3034 [==============================] - 723s 238ms/step - loss: 0.0846 - recall: 0.0104 - val_loss: 0.5004 - val_recall: 0.0105\n",
      "Epoch 96/100\n",
      "3034/3034 [==============================] - 720s 237ms/step - loss: 0.0845 - recall: 0.0105 - val_loss: 0.5004 - val_recall: 0.0106\n",
      "Epoch 97/100\n",
      "3034/3034 [==============================] - 728s 240ms/step - loss: 0.0844 - recall: 0.0107 - val_loss: 0.5004 - val_recall: 0.0108\n",
      "Epoch 98/100\n",
      "3034/3034 [==============================] - 721s 238ms/step - loss: 0.0843 - recall: 0.0108 - val_loss: 0.5003 - val_recall: 0.0109\n",
      "Epoch 99/100\n",
      "3034/3034 [==============================] - 728s 240ms/step - loss: 0.0842 - recall: 0.0110 - val_loss: 0.5003 - val_recall: 0.0110\n",
      "Epoch 100/100\n",
      "3034/3034 [==============================] - 722s 238ms/step - loss: 0.0841 - recall: 0.0111 - val_loss: 0.5003 - val_recall: 0.0112\n"
     ]
    }
   ],
   "source": [
    "history = model.fit(x = train_dataset, \n",
    "                    validation_data=val_dataset, \n",
    "                    epochs=total_epochs, \n",
    "                    callbacks=callbacks, \n",
    "                    initial_epoch=initial_epoch)"
   ]
  },
  {
   "cell_type": "markdown",
   "metadata": {
    "colab_type": "text",
    "id": "Ltj7HkPxc-V-"
   },
   "source": [
    "---\n",
    "# Predict Sequences"
   ]
  },
  {
   "cell_type": "markdown",
   "metadata": {
    "colab_type": "text",
    "id": "2Spy42iNc-V_"
   },
   "source": [
    "## Restore Latest Checkpoints"
   ]
  },
  {
   "cell_type": "code",
   "execution_count": 21,
   "metadata": {},
   "outputs": [
    {
     "name": "stdout",
     "output_type": "stream",
     "text": [
      "Latest checkpoint from: ../ckpts/ckpts_0_Am/ckpt\n"
     ]
    }
   ],
   "source": [
    "from Models import build_LSTM_model\n",
    "model = build_LSTM_model(total_items = total_items, \n",
    "                         embedding_dim = embedding_dim,\n",
    "                         mask_value = pad_value,\n",
    "                         rnn_units = rnn_units,\n",
    "                         batch_size = None,\n",
    "                         return_sequences=False)\n",
    "\n",
    "model.load_weights(tf.train.latest_checkpoint(checkpoint_dir)).expect_partial()\n",
    "\n",
    "model.build(tf.TensorShape([1, None]))\n",
    "\n",
    "print('Latest checkpoint from:', tf.train.latest_checkpoint(checkpoint_dir))"
   ]
  },
  {
   "cell_type": "markdown",
   "metadata": {},
   "source": [
    "## Predict"
   ]
  },
  {
   "cell_type": "code",
   "execution_count": 22,
   "metadata": {},
   "outputs": [],
   "source": [
    "rank_at = 20"
   ]
  },
  {
   "cell_type": "code",
   "execution_count": 25,
   "metadata": {},
   "outputs": [
    {
     "data": {
      "text/plain": [
       "2048.0"
      ]
     },
     "execution_count": 25,
     "metadata": {},
     "output_type": "execute_result"
    }
   ],
   "source": [
    "8192/2/2"
   ]
  },
  {
   "cell_type": "code",
   "execution_count": 24,
   "metadata": {},
   "outputs": [
    {
     "name": "stdout",
     "output_type": "stream",
     "text": [
      "CPU times: user 5min 49s, sys: 8min 9s, total: 13min 58s\n",
      "Wall time: 12min 2s\n"
     ]
    },
    {
     "data": {
      "text/html": [
       "<div>\n",
       "<style scoped>\n",
       "    .dataframe tbody tr th:only-of-type {\n",
       "        vertical-align: middle;\n",
       "    }\n",
       "\n",
       "    .dataframe tbody tr th {\n",
       "        vertical-align: top;\n",
       "    }\n",
       "\n",
       "    .dataframe thead th {\n",
       "        text-align: right;\n",
       "    }\n",
       "</style>\n",
       "<table border=\"1\" class=\"dataframe\">\n",
       "  <thead>\n",
       "    <tr style=\"text-align: right;\">\n",
       "      <th></th>\n",
       "      <th>user</th>\n",
       "      <th>pred_items_ranked</th>\n",
       "      <th>true_id</th>\n",
       "    </tr>\n",
       "  </thead>\n",
       "  <tbody>\n",
       "    <tr>\n",
       "      <th>0</th>\n",
       "      <td>0</td>\n",
       "      <td>[8602, 8602, 8602, 8602, 8602, 8602, 8602, 860...</td>\n",
       "      <td>[194041]</td>\n",
       "    </tr>\n",
       "    <tr>\n",
       "      <th>1</th>\n",
       "      <td>24</td>\n",
       "      <td>[8602, 8602, 8602, 8602, 8602, 8602, 8602, 860...</td>\n",
       "      <td>[214214]</td>\n",
       "    </tr>\n",
       "    <tr>\n",
       "      <th>2</th>\n",
       "      <td>33</td>\n",
       "      <td>[8602, 8602, 8602, 8602, 8602, 8602, 8602, 860...</td>\n",
       "      <td>[96786]</td>\n",
       "    </tr>\n",
       "    <tr>\n",
       "      <th>3</th>\n",
       "      <td>38</td>\n",
       "      <td>[8602, 8602, 8602, 8602, 8602, 8602, 8602, 860...</td>\n",
       "      <td>[17902]</td>\n",
       "    </tr>\n",
       "    <tr>\n",
       "      <th>4</th>\n",
       "      <td>50</td>\n",
       "      <td>[8602, 8602, 8602, 8602, 8602, 8602, 8602, 860...</td>\n",
       "      <td>[235218]</td>\n",
       "    </tr>\n",
       "    <tr>\n",
       "      <th>...</th>\n",
       "      <td>...</td>\n",
       "      <td>...</td>\n",
       "      <td>...</td>\n",
       "    </tr>\n",
       "    <tr>\n",
       "      <th>12132</th>\n",
       "      <td>121296</td>\n",
       "      <td>[8602, 8602, 8602, 8602, 8602, 8602, 8602, 860...</td>\n",
       "      <td>[1292]</td>\n",
       "    </tr>\n",
       "    <tr>\n",
       "      <th>12133</th>\n",
       "      <td>121308</td>\n",
       "      <td>[8602, 8602, 8602, 8602, 8602, 8602, 8602, 860...</td>\n",
       "      <td>[112187]</td>\n",
       "    </tr>\n",
       "    <tr>\n",
       "      <th>12134</th>\n",
       "      <td>121316</td>\n",
       "      <td>[8602, 8602, 8602, 8602, 8602, 8602, 8602, 860...</td>\n",
       "      <td>[33094]</td>\n",
       "    </tr>\n",
       "    <tr>\n",
       "      <th>12135</th>\n",
       "      <td>121350</td>\n",
       "      <td>[8602, 8602, 8602, 8602, 8602, 8602, 8602, 860...</td>\n",
       "      <td>[233491]</td>\n",
       "    </tr>\n",
       "    <tr>\n",
       "      <th>12136</th>\n",
       "      <td>121364</td>\n",
       "      <td>[8602, 8602, 8602, 8602, 8602, 8602, 8602, 860...</td>\n",
       "      <td>[223422]</td>\n",
       "    </tr>\n",
       "  </tbody>\n",
       "</table>\n",
       "<p>12137 rows × 3 columns</p>\n",
       "</div>"
      ],
      "text/plain": [
       "         user                                  pred_items_ranked   true_id\n",
       "0           0  [8602, 8602, 8602, 8602, 8602, 8602, 8602, 860...  [194041]\n",
       "1          24  [8602, 8602, 8602, 8602, 8602, 8602, 8602, 860...  [214214]\n",
       "2          33  [8602, 8602, 8602, 8602, 8602, 8602, 8602, 860...   [96786]\n",
       "3          38  [8602, 8602, 8602, 8602, 8602, 8602, 8602, 860...   [17902]\n",
       "4          50  [8602, 8602, 8602, 8602, 8602, 8602, 8602, 860...  [235218]\n",
       "...       ...                                                ...       ...\n",
       "12132  121296  [8602, 8602, 8602, 8602, 8602, 8602, 8602, 860...    [1292]\n",
       "12133  121308  [8602, 8602, 8602, 8602, 8602, 8602, 8602, 860...  [112187]\n",
       "12134  121316  [8602, 8602, 8602, 8602, 8602, 8602, 8602, 860...   [33094]\n",
       "12135  121350  [8602, 8602, 8602, 8602, 8602, 8602, 8602, 860...  [233491]\n",
       "12136  121364  [8602, 8602, 8602, 8602, 8602, 8602, 8602, 860...  [223422]\n",
       "\n",
       "[12137 rows x 3 columns]"
      ]
     },
     "execution_count": 24,
     "metadata": {},
     "output_type": "execute_result"
    }
   ],
   "source": [
    "%%time\n",
    "from Evaluation import get_predictions\n",
    "preds_df = get_predictions(model=model, \n",
    "                           data=test_set, \n",
    "                           left_out=test_left_out_items, \n",
    "                           batch_size=2048, \n",
    "                           max_seq_len=max_seq_len, \n",
    "                           pad_value=pad_value, \n",
    "                           rank_at=rank_at)\n",
    "preds_df"
   ]
  },
  {
   "cell_type": "code",
   "execution_count": 40,
   "metadata": {},
   "outputs": [
    {
     "data": {
      "text/plain": [
       "12137"
      ]
     },
     "execution_count": 40,
     "metadata": {},
     "output_type": "execute_result"
    }
   ],
   "source": [
    "len(test_left_out_items)"
   ]
  },
  {
   "cell_type": "markdown",
   "metadata": {},
   "source": [
    "### Load Predictions"
   ]
  },
  {
   "cell_type": "code",
   "execution_count": null,
   "metadata": {},
   "outputs": [],
   "source": [
    "# predictions = pd.read_pickle('CFRNN_res_200_ML_01_users')"
   ]
  },
  {
   "cell_type": "markdown",
   "metadata": {
    "colab_type": "text",
    "id": "XobdlG9Wc-WY"
   },
   "source": [
    "---\n",
    "# Evaluate"
   ]
  },
  {
   "cell_type": "code",
   "execution_count": 44,
   "metadata": {},
   "outputs": [],
   "source": [
    "from Evaluation import get_metrics"
   ]
  },
  {
   "cell_type": "code",
   "execution_count": 45,
   "metadata": {},
   "outputs": [],
   "source": [
    "steps = 5"
   ]
  },
  {
   "cell_type": "code",
   "execution_count": 46,
   "metadata": {},
   "outputs": [
    {
     "name": "stdout",
     "output_type": "stream",
     "text": [
      "Obtaining metrics time: 0.36\n"
     ]
    },
    {
     "data": {
      "text/html": [
       "<div>\n",
       "<style scoped>\n",
       "    .dataframe tbody tr th:only-of-type {\n",
       "        vertical-align: middle;\n",
       "    }\n",
       "\n",
       "    .dataframe tbody tr th {\n",
       "        vertical-align: top;\n",
       "    }\n",
       "\n",
       "    .dataframe thead th {\n",
       "        text-align: right;\n",
       "    }\n",
       "</style>\n",
       "<table border=\"1\" class=\"dataframe\">\n",
       "  <thead>\n",
       "    <tr style=\"text-align: right;\">\n",
       "      <th></th>\n",
       "      <th>rank_at</th>\n",
       "      <th>hitcounts</th>\n",
       "      <th>recall</th>\n",
       "      <th>precision</th>\n",
       "    </tr>\n",
       "  </thead>\n",
       "  <tbody>\n",
       "    <tr>\n",
       "      <th>0</th>\n",
       "      <td>1</td>\n",
       "      <td>1</td>\n",
       "      <td>0.002</td>\n",
       "      <td>0.002000</td>\n",
       "    </tr>\n",
       "    <tr>\n",
       "      <th>1</th>\n",
       "      <td>5</td>\n",
       "      <td>1</td>\n",
       "      <td>0.002</td>\n",
       "      <td>0.000400</td>\n",
       "    </tr>\n",
       "    <tr>\n",
       "      <th>2</th>\n",
       "      <td>10</td>\n",
       "      <td>1</td>\n",
       "      <td>0.002</td>\n",
       "      <td>0.000200</td>\n",
       "    </tr>\n",
       "    <tr>\n",
       "      <th>3</th>\n",
       "      <td>15</td>\n",
       "      <td>1</td>\n",
       "      <td>0.002</td>\n",
       "      <td>0.000133</td>\n",
       "    </tr>\n",
       "    <tr>\n",
       "      <th>4</th>\n",
       "      <td>20</td>\n",
       "      <td>1</td>\n",
       "      <td>0.002</td>\n",
       "      <td>0.000100</td>\n",
       "    </tr>\n",
       "  </tbody>\n",
       "</table>\n",
       "</div>"
      ],
      "text/plain": [
       "   rank_at  hitcounts  recall  precision\n",
       "0        1          1   0.002   0.002000\n",
       "1        5          1   0.002   0.000400\n",
       "2       10          1   0.002   0.000200\n",
       "3       15          1   0.002   0.000133\n",
       "4       20          1   0.002   0.000100"
      ]
     },
     "execution_count": 46,
     "metadata": {},
     "output_type": "execute_result"
    }
   ],
   "source": [
    "metrics_test = get_metrics(preds_df, steps, rank_at)\n",
    "metrics_test"
   ]
  },
  {
   "cell_type": "markdown",
   "metadata": {},
   "source": [
    "---\n",
    "# Store Results"
   ]
  },
  {
   "cell_type": "code",
   "execution_count": null,
   "metadata": {},
   "outputs": [],
   "source": [
    "from Models import store_LSTM_model\n",
    "# store_path = path + 'results/CFRNN/' + res_ext + '/all_models'\n",
    "store_path = path + 'results/' + res_ext + '/all_models'\n",
    "train_time = np.sum(timing_callback.logs)\n",
    "all_models = store_LSTM_model(store_path, params.copy(), history.history.copy(), train_time, metrics_test, store=True)"
   ]
  },
  {
   "cell_type": "code",
   "execution_count": null,
   "metadata": {},
   "outputs": [],
   "source": [
    "all_models"
   ]
  },
  {
   "cell_type": "markdown",
   "metadata": {},
   "source": [
    "### Val Set Metrics ML"
   ]
  },
  {
   "cell_type": "code",
   "execution_count": 36,
   "metadata": {},
   "outputs": [
    {
     "name": "stdout",
     "output_type": "stream",
     "text": [
      "Obtaining metrics time: 1.12\n"
     ]
    },
    {
     "data": {
      "text/html": [
       "<div>\n",
       "<style scoped>\n",
       "    .dataframe tbody tr th:only-of-type {\n",
       "        vertical-align: middle;\n",
       "    }\n",
       "\n",
       "    .dataframe tbody tr th {\n",
       "        vertical-align: top;\n",
       "    }\n",
       "\n",
       "    .dataframe thead th {\n",
       "        text-align: right;\n",
       "    }\n",
       "</style>\n",
       "<table border=\"1\" class=\"dataframe\">\n",
       "  <thead>\n",
       "    <tr style=\"text-align: right;\">\n",
       "      <th></th>\n",
       "      <th>rank_at</th>\n",
       "      <th>hitcounts</th>\n",
       "      <th>recall</th>\n",
       "      <th>precision</th>\n",
       "    </tr>\n",
       "  </thead>\n",
       "  <tbody>\n",
       "    <tr>\n",
       "      <th>0</th>\n",
       "      <td>1</td>\n",
       "      <td>1</td>\n",
       "      <td>0.000601</td>\n",
       "      <td>0.000601</td>\n",
       "    </tr>\n",
       "    <tr>\n",
       "      <th>1</th>\n",
       "      <td>5</td>\n",
       "      <td>8</td>\n",
       "      <td>0.004808</td>\n",
       "      <td>0.000962</td>\n",
       "    </tr>\n",
       "    <tr>\n",
       "      <th>2</th>\n",
       "      <td>10</td>\n",
       "      <td>15</td>\n",
       "      <td>0.009014</td>\n",
       "      <td>0.000901</td>\n",
       "    </tr>\n",
       "    <tr>\n",
       "      <th>3</th>\n",
       "      <td>15</td>\n",
       "      <td>21</td>\n",
       "      <td>0.012620</td>\n",
       "      <td>0.000841</td>\n",
       "    </tr>\n",
       "    <tr>\n",
       "      <th>4</th>\n",
       "      <td>20</td>\n",
       "      <td>27</td>\n",
       "      <td>0.016226</td>\n",
       "      <td>0.000811</td>\n",
       "    </tr>\n",
       "  </tbody>\n",
       "</table>\n",
       "</div>"
      ],
      "text/plain": [
       "   rank_at  hitcounts    recall  precision\n",
       "0        1          1  0.000601   0.000601\n",
       "1        5          8  0.004808   0.000962\n",
       "2       10         15  0.009014   0.000901\n",
       "3       15         21  0.012620   0.000841\n",
       "4       20         27  0.016226   0.000811"
      ]
     },
     "execution_count": 36,
     "metadata": {},
     "output_type": "execute_result"
    }
   ],
   "source": [
    "metrics_val_set_vsl = get_metrics(preds_val, 5, 20)\n",
    "metrics_val_set_vsl"
   ]
  },
  {
   "cell_type": "markdown",
   "metadata": {
    "colab_type": "text",
    "id": "2bfN_yhzc-Wq"
   },
   "source": [
    "# Appendix"
   ]
  },
  {
   "cell_type": "code",
   "execution_count": null,
   "metadata": {
    "colab": {},
    "colab_type": "code",
    "id": "Icth_zsCc-Wr"
   },
   "outputs": [],
   "source": [
    "# oh_input = tf.keras.backend.one_hot(padded, n_items)\n",
    "# e = tf.keras.layers.Embedding(n_items, 100, input_length=max_l)"
   ]
  },
  {
   "cell_type": "code",
   "execution_count": null,
   "metadata": {
    "colab": {},
    "colab_type": "code",
    "id": "PlhXrmLnc-Wu"
   },
   "outputs": [],
   "source": [
    "# One hot encoded input\n",
    "# sequences_data_x = tf.data.Dataset.from_tensor_slices(tf.keras.backend.one_hot(padded_sequences_x, n_items)) \n",
    "# sequences_data_y = tf.data.Dataset.from_tensor_slices(tf.keras.backend.one_hot(padded_sequences_y, n_items)) "
   ]
  },
  {
   "cell_type": "code",
   "execution_count": null,
   "metadata": {},
   "outputs": [],
   "source": [
    "# max_seq_len = 30\n",
    "# min_seq_len = 10\n",
    "# shift_targets_by = 1\n",
    "\n",
    "# from Data_prep import get_x_y_sequences, min_padding\n",
    "# vsl = True # Set for training later\n",
    "\n",
    "# # Train Set\n",
    "# user_sequences_x, user_sequences_y, user_order = get_x_y_sequences(train_set, shift_targets_by)\n",
    "# padded_sequences_x = min_padding(user_sequences_x, BATCH_SIZE, min_seq_len, max_seq_len)\n",
    "# padded_sequences_y = min_padding(user_sequences_y, BATCH_SIZE, min_seq_len, max_seq_len)\n",
    "\n",
    "# # Val Set \n",
    "# user_sequences_val_x, user_sequences_val_y, user_order = get_x_y_sequences(val_set, shift_targets_by, stats=False)\n",
    "# padded_sequences_val_x = min_padding(user_sequences_val_x, BATCH_SIZE, min_seq_len, max_seq_len)\n",
    "# padded_sequences_val_y = min_padding(user_sequences_val_y, BATCH_SIZE, min_seq_len, max_seq_len)"
   ]
  },
  {
   "cell_type": "code",
   "execution_count": null,
   "metadata": {},
   "outputs": [],
   "source": [
    "# test_set_u_i = test_set.groupby('user_id')['item_id'].apply(list)\n",
    "# test_X = []\n",
    "# test_y = []\n",
    "# all_predictions = []\n",
    "# for user_items in test_set_u_i:\n",
    "#     test_X.append(user_items[-200:-1])\n",
    "#     test_y.append(user_items[-1:])\n",
    "\n",
    "# for i, seq in enumerate(test_X): \n",
    "#     seq = seq.copy()\n",
    "#     predictions = []\n",
    "#     for i in range(20):\n",
    "#         pred_item_id = model.predict_classes(np.array([seq,]), batch_size=1)[0]\n",
    "#         seq.append(pred_item_id)\n",
    "#         predictions.append(pred_item_id)\n",
    "#     all_predictions.append(predictions)\n",
    "    \n",
    "# predictions_df = pd.DataFrame(list(zip(test_set.user_id.unique(), all_predictions, test_y)),\n",
    "#                               columns=['user', 'pred_items_ranked', 'true_id'])"
   ]
  }
 ],
 "metadata": {
  "accelerator": "GPU",
  "colab": {
   "collapsed_sections": [
    "2Spy42iNc-V_",
    "XQNPBkyQc-WI"
   ],
   "name": "CF_RNN.ipynb",
   "provenance": [],
   "toc_visible": true
  },
  "kernelspec": {
   "display_name": "Python 3",
   "language": "python",
   "name": "python3"
  },
  "language_info": {
   "codemirror_mode": {
    "name": "ipython",
    "version": 3
   },
   "file_extension": ".py",
   "mimetype": "text/x-python",
   "name": "python",
   "nbconvert_exporter": "python",
   "pygments_lexer": "ipython3",
   "version": "3.7.7"
  },
  "toc": {
   "base_numbering": 1,
   "nav_menu": {},
   "number_sections": true,
   "sideBar": true,
   "skip_h1_title": false,
   "title_cell": "Table of Contents",
   "title_sidebar": "Contents",
   "toc_cell": false,
   "toc_position": {
    "height": "375.742px",
    "left": "1048.75px",
    "top": "110.57px",
    "width": "200.295px"
   },
   "toc_section_display": true,
   "toc_window_display": true
  }
 },
 "nbformat": 4,
 "nbformat_minor": 4
}
