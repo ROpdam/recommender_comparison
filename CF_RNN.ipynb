{
 "cells": [
  {
   "cell_type": "code",
   "execution_count": 6,
   "metadata": {},
   "outputs": [],
   "source": [
    "import pandas as pd\n",
    "import numpy as np\n",
    "import tensorflow as tf\n",
    "import matplotlib.pyplot as plt\n",
    "from scipy import sparse\n",
    "import os\n",
    "import random"
   ]
  },
  {
   "cell_type": "code",
   "execution_count": 7,
   "metadata": {},
   "outputs": [
    {
     "data": {
      "text/plain": [
       "'2.1.0'"
      ]
     },
     "execution_count": 7,
     "metadata": {},
     "output_type": "execute_result"
    }
   ],
   "source": [
    "tf.__version__"
   ]
  },
  {
   "cell_type": "markdown",
   "metadata": {},
   "source": [
    "# Read Data"
   ]
  },
  {
   "cell_type": "code",
   "execution_count": 8,
   "metadata": {},
   "outputs": [],
   "source": [
    "path = 'C:/Users/robin.opdam/Dropbox/'\n",
    "# path = '/Users/Robin/Dropbox'\n",
    "data_path = 'data/'"
   ]
  },
  {
   "cell_type": "markdown",
   "metadata": {},
   "source": [
    "## Amazon Fashion"
   ]
  },
  {
   "cell_type": "code",
   "execution_count": 9,
   "metadata": {},
   "outputs": [],
   "source": [
    "#Full data\n",
    "# file_name = 'amazon_clothing_shoes_jewelry_data' \n",
    "\n",
    "#2m user above 5 ratings\n",
    "# file_name = 'amazon_csj_2m'\n",
    "\n",
    "#0.63m user above 5 ratings\n",
    "# file_name = 'df_amazon_csj_with_styles_0.63m_u_above_5_rui' "
   ]
  },
  {
   "cell_type": "markdown",
   "metadata": {},
   "source": [
    "## MovieLens"
   ]
  },
  {
   "cell_type": "code",
   "execution_count": 10,
   "metadata": {},
   "outputs": [],
   "source": [
    "# Full data\n",
    "# file_name = 'ml-25m'\n",
    "\n",
    "# 2m subset\n",
    "# file_name = '2m-ml'\n",
    "\n",
    "# 0.7m subset\n",
    "# file_name = 'ml_0.7_u_above_5'"
   ]
  },
  {
   "cell_type": "markdown",
   "metadata": {},
   "source": [
    "## Time sorted ml 2m dataset"
   ]
  },
  {
   "cell_type": "code",
   "execution_count": 11,
   "metadata": {},
   "outputs": [],
   "source": [
    "# 6000 users sorted on datetime per user\n",
    "file_name = 'ml_6k_users'\n",
    "\n",
    "#0.7m rows sorted per user on datetime\n",
    "# file_name = 'ml_07m_sorted'"
   ]
  },
  {
   "cell_type": "code",
   "execution_count": 12,
   "metadata": {},
   "outputs": [
    {
     "data": {
      "text/html": [
       "<div>\n",
       "<style scoped>\n",
       "    .dataframe tbody tr th:only-of-type {\n",
       "        vertical-align: middle;\n",
       "    }\n",
       "\n",
       "    .dataframe tbody tr th {\n",
       "        vertical-align: top;\n",
       "    }\n",
       "\n",
       "    .dataframe thead th {\n",
       "        text-align: right;\n",
       "    }\n",
       "</style>\n",
       "<table border=\"1\" class=\"dataframe\">\n",
       "  <thead>\n",
       "    <tr style=\"text-align: right;\">\n",
       "      <th></th>\n",
       "      <th>user</th>\n",
       "      <th>item</th>\n",
       "      <th>rating</th>\n",
       "      <th>timestamp</th>\n",
       "      <th>user_id</th>\n",
       "      <th>item_id</th>\n",
       "    </tr>\n",
       "  </thead>\n",
       "  <tbody>\n",
       "    <tr>\n",
       "      <th>5258074</th>\n",
       "      <td>34161</td>\n",
       "      <td>4993</td>\n",
       "      <td>4.0</td>\n",
       "      <td>2018-12-28 02:15:28</td>\n",
       "      <td>34160</td>\n",
       "      <td>4887</td>\n",
       "    </tr>\n",
       "    <tr>\n",
       "      <th>5258067</th>\n",
       "      <td>34161</td>\n",
       "      <td>1210</td>\n",
       "      <td>4.0</td>\n",
       "      <td>2018-12-28 02:18:16</td>\n",
       "      <td>34160</td>\n",
       "      <td>1179</td>\n",
       "    </tr>\n",
       "    <tr>\n",
       "      <th>5258069</th>\n",
       "      <td>34161</td>\n",
       "      <td>2571</td>\n",
       "      <td>4.0</td>\n",
       "      <td>2018-12-28 02:18:44</td>\n",
       "      <td>34160</td>\n",
       "      <td>2480</td>\n",
       "    </tr>\n",
       "    <tr>\n",
       "      <th>5258086</th>\n",
       "      <td>34161</td>\n",
       "      <td>59315</td>\n",
       "      <td>4.0</td>\n",
       "      <td>2018-12-28 02:19:04</td>\n",
       "      <td>34160</td>\n",
       "      <td>12319</td>\n",
       "    </tr>\n",
       "    <tr>\n",
       "      <th>5258075</th>\n",
       "      <td>34161</td>\n",
       "      <td>5502</td>\n",
       "      <td>5.0</td>\n",
       "      <td>2018-12-28 02:19:28</td>\n",
       "      <td>34160</td>\n",
       "      <td>5394</td>\n",
       "    </tr>\n",
       "  </tbody>\n",
       "</table>\n",
       "</div>"
      ],
      "text/plain": [
       "          user   item  rating           timestamp  user_id  item_id\n",
       "5258074  34161   4993     4.0 2018-12-28 02:15:28    34160     4887\n",
       "5258067  34161   1210     4.0 2018-12-28 02:18:16    34160     1179\n",
       "5258069  34161   2571     4.0 2018-12-28 02:18:44    34160     2480\n",
       "5258086  34161  59315     4.0 2018-12-28 02:19:04    34160    12319\n",
       "5258075  34161   5502     5.0 2018-12-28 02:19:28    34160     5394"
      ]
     },
     "execution_count": 12,
     "metadata": {},
     "output_type": "execute_result"
    }
   ],
   "source": [
    "df = pd.read_pickle(path + data_path + file_name)\n",
    "df.head()"
   ]
  },
  {
   "cell_type": "code",
   "execution_count": 13,
   "metadata": {},
   "outputs": [],
   "source": [
    "df['user_id'] = df.user.astype('category').cat.codes\n",
    "df['item_id'] = df.item.astype('category').cat.codes"
   ]
  },
  {
   "cell_type": "markdown",
   "metadata": {},
   "source": [
    "## Leave users out "
   ]
  },
  {
   "cell_type": "code",
   "execution_count": 14,
   "metadata": {},
   "outputs": [],
   "source": [
    "def leave_users_out(full_data, leave_out):\n",
    "    full_data['index'] = full_data.index\n",
    "    user_index_df = full_data.groupby('user')['index'].apply(list)\n",
    "    users = np.random.choice(list(user_index_df.index), leave_out, replace=False)\n",
    "    users_indices = []\n",
    "    \n",
    "    for user in users:\n",
    "        users_indices.extend(user_index_df.loc[user])\n",
    "    \n",
    "    sub_set = full_data.loc[users_indices]\n",
    "    remaining = full_data.drop(users_indices)\n",
    "    \n",
    "    return remaining.drop(columns=['index']), sub_set.drop(columns=['index'])"
   ]
  },
  {
   "cell_type": "code",
   "execution_count": 15,
   "metadata": {},
   "outputs": [],
   "source": [
    "# leftovers, new_df = leave_users_out(df, 6000)"
   ]
  },
  {
   "cell_type": "markdown",
   "metadata": {},
   "source": [
    "# Data Exploration\n",
    "\n",
    "First filtering active users and rated items with x or more ratings:"
   ]
  },
  {
   "cell_type": "code",
   "execution_count": 16,
   "metadata": {},
   "outputs": [],
   "source": [
    "user_ratings = df.groupby('user')['rating'].count()\n",
    "item_ratings = df.groupby('item')['rating'].count()\n",
    "norpu = user_ratings.mean()\n",
    "norpi = item_ratings.mean()\n",
    "total_users = df.user.unique().size\n",
    "total_items = df.item.unique().size\n",
    "sparseness = 1 - len(df) / (len(df['user'].unique()) * len(df['item'].unique()))"
   ]
  },
  {
   "cell_type": "code",
   "execution_count": 17,
   "metadata": {},
   "outputs": [
    {
     "name": "stdout",
     "output_type": "stream",
     "text": [
      "rows  904023 \n",
      "#ratings 904023 \n",
      "#ratings/user 150.67 \n",
      "#ratings/item 38.7 \n",
      "average rating 3.54 \n",
      "#users  6000 \n",
      "#items  23362 \n",
      "sparse  0.99355 %\n"
     ]
    },
    {
     "data": {
      "image/png": "[encoded data removed]",
      "text/plain": [
       "<Figure size 432x288 with 1 Axes>"
      ]
     },
     "metadata": {
      "needs_background": "light"
     },
     "output_type": "display_data"
    },
    {
     "data": {
      "image/png": "[encoded data removed]",
      "text/plain": [
       "<Figure size 432x288 with 1 Axes>"
      ]
     },
     "metadata": {
      "needs_background": "light"
     },
     "output_type": "display_data"
    },
    {
     "data": {
      "image/png": "[encoded data removed]",
      "text/plain": [
       "<Figure size 432x288 with 1 Axes>"
      ]
     },
     "metadata": {
      "needs_background": "light"
     },
     "output_type": "display_data"
    }
   ],
   "source": [
    "print('rows ', len(df), '\\n#ratings', len(df[df['rating'] != 0]), '\\n#ratings/user', round(norpu,2), '\\n#ratings/item', round(norpi,2), '\\naverage rating', \"{0:.2f}\".format(np.average(df['rating'])), '\\n#users ', df['user'].unique().size, '\\n#items ', df['item'].unique().size, '\\nsparse ', round(sparseness,5), '%')\n",
    "\n",
    "df.hist(column='rating', bins=5, grid=False)\n",
    "plt.title('Rating Distribution')\n",
    "plt.xlabel('Rating')\n",
    "plt.xticks(range(1,6))\n",
    "plt.savefig('Plots/Deliverables/rating_dist_ml')\n",
    "plt.show()\n",
    "\n",
    "plt.hist(item_ratings, bins = 2000)\n",
    "plt.xlim([0,100])\n",
    "plt.title('#ratings per item distribution (1000 bins)')\n",
    "plt.xlabel('Items')\n",
    "plt.ylabel('Count')\n",
    "plt.savefig('Plots/Deliverables/#ratings_per_item_dist_ml')\n",
    "plt.show()\n",
    "\n",
    "plt.hist(user_ratings, bins = 2000)\n",
    "plt.xlim([0,50])\n",
    "plt.title('#ratings per user distribution (1000 bins)')\n",
    "plt.xlabel('Users')\n",
    "plt.ylabel('Count')\n",
    "plt.savefig('Plots/Deliverables/#ratings_per_user_dist_ml')\n",
    "plt.show()"
   ]
  },
  {
   "cell_type": "markdown",
   "metadata": {},
   "source": [
    "---\n",
    "# LSTM Model\n",
    "Collaborative Filtering with Recurrent Neural Networks"
   ]
  },
  {
   "cell_type": "markdown",
   "metadata": {},
   "source": [
    "- paper: https://arxiv.org/pdf/1608.07400.pdf\n",
    "- code:https://github.com/rdevooght/sequence-based-recommendations (in Theano)"
   ]
  },
  {
   "cell_type": "markdown",
   "metadata": {},
   "source": [
    "## Data Prep"
   ]
  },
  {
   "cell_type": "markdown",
   "metadata": {},
   "source": [
    "Create 100 people **train df**"
   ]
  },
  {
   "cell_type": "code",
   "execution_count": 18,
   "metadata": {},
   "outputs": [],
   "source": [
    "df_og = df"
   ]
  },
  {
   "cell_type": "code",
   "execution_count": 19,
   "metadata": {},
   "outputs": [
    {
     "name": "stdout",
     "output_type": "stream",
     "text": [
      "total number of items: 23362\n",
      "total users: 6000\n",
      "number of train users: 5500\n",
      "number of test users: 500\n"
     ]
    }
   ],
   "source": [
    "test_users = 500\n",
    "df, test_df = leave_users_out(df_og, test_users)\n",
    "df['item_id'] = df.item_id.astype('category').cat.codes\n",
    "df['user_id'] = df.user_id.astype('category').cat.codes\n",
    "n_items = len(df_og.item_id.unique())\n",
    "\n",
    "print('total number of items:', n_items)\n",
    "print('total users:', len(df_og.user_id.unique()))\n",
    "print('number of train users:', len(df.user_id.unique()))\n",
    "print('number of test users:', test_users)"
   ]
  },
  {
   "cell_type": "markdown",
   "metadata": {},
   "source": [
    "---\n",
    "### Train and Target sequences\n",
    "Create the **sequences** from the item_ids per user (already sorted)"
   ]
  },
  {
   "cell_type": "code",
   "execution_count": 20,
   "metadata": {},
   "outputs": [
    {
     "name": "stdout",
     "output_type": "stream",
     "text": [
      "number of sequences x: 5500 \n",
      "avg sequence length x: 151.31727272727272 \n",
      "std_dev sequence length x: 260.8\n"
     ]
    }
   ],
   "source": [
    "user_sequences_x = []\n",
    "user_sequences_y = []\n",
    "\n",
    "lengths = []\n",
    "for u in df.user_id.unique():\n",
    "    user_item_seq = np.array(df[df['user_id']==u]['item_id'])\n",
    "    user_sequences_x.append(user_item_seq[:-1])\n",
    "    user_sequences_y.append(user_item_seq[1:])\n",
    "    lengths.append(len(user_item_seq))\n",
    "print('number of sequences x:', len(user_sequences_x), \n",
    "      '\\navg sequence length x:', np.average(lengths),\n",
    "      '\\nstd_dev sequence length x:', np.round(np.std(lengths),2))"
   ]
  },
  {
   "cell_type": "code",
   "execution_count": 21,
   "metadata": {},
   "outputs": [
    {
     "data": {
      "text/plain": [
       "array([ 4699,  1155,  2429, 10693,  5165, 22122,  3988,   306,   250,\n",
       "       22125, 10243,  8965,  3289,  2613, 22666,  5406,  7344,  5305,\n",
       "        8632, 12178, 11348, 13542,  9527,  2364,   142, 22660, 10566,\n",
       "        3723,  9843, 16292, 16291, 13133, 10440, 14857, 13727],\n",
       "      dtype=int16)"
      ]
     },
     "execution_count": 21,
     "metadata": {},
     "output_type": "execute_result"
    }
   ],
   "source": [
    "user_sequences_x[0]"
   ]
  },
  {
   "cell_type": "code",
   "execution_count": 22,
   "metadata": {},
   "outputs": [
    {
     "data": {
      "text/plain": [
       "array([ 1155,  2429, 10693,  5165, 22122,  3988,   306,   250, 22125,\n",
       "       10243,  8965,  3289,  2613, 22666,  5406,  7344,  5305,  8632,\n",
       "       12178, 11348, 13542,  9527,  2364,   142, 22660, 10566,  3723,\n",
       "        9843, 16292, 16291, 13133, 10440, 14857, 13727, 15288],\n",
       "      dtype=int16)"
      ]
     },
     "execution_count": 22,
     "metadata": {},
     "output_type": "execute_result"
    }
   ],
   "source": [
    "user_sequences_y[0]"
   ]
  },
  {
   "cell_type": "markdown",
   "metadata": {},
   "source": [
    "---\n",
    "### Padding\n",
    "**pad** the sequences (needed for rectangular tf.data.Dataset):\n",
    "- add zeros if they are too short\n",
    "- remove item ids from the beginning if they are too long"
   ]
  },
  {
   "cell_type": "code",
   "execution_count": 23,
   "metadata": {},
   "outputs": [
    {
     "name": "stdout",
     "output_type": "stream",
     "text": [
      "number of sequences x: 5500 \n",
      "avg sequence length x: 250.0 \n",
      "std_dev sequence length x: 0.0\n"
     ]
    }
   ],
   "source": [
    "max_length = 250\n",
    "padded_sequences_x = tf.keras.preprocessing.sequence.pad_sequences(user_sequences_x, maxlen=max_length, padding='post', truncating='pre')\n",
    "padded_sequences_y = tf.keras.preprocessing.sequence.pad_sequences(user_sequences_y, maxlen=max_length, padding='post', truncating='pre')\n",
    "print('number of sequences x:', padded_sequences_x.shape[0], \n",
    "      '\\navg sequence length x:', np.average([i.shape[0] for i in padded_sequences_x]),\n",
    "      '\\nstd_dev sequence length x:', np.std([i.shape[0] for i in padded_sequences_x]))\n"
   ]
  },
  {
   "cell_type": "markdown",
   "metadata": {},
   "source": [
    "---\n",
    "### Create Dataset\n",
    "**create batch dataset**\n",
    "- sequences_x inputs\n",
    "- sequences_y actuals\n",
    "- batches of size BATCH_SIZE"
   ]
  },
  {
   "cell_type": "code",
   "execution_count": 24,
   "metadata": {},
   "outputs": [
    {
     "data": {
      "text/plain": [
       "<ZipDataset shapes: ((250,), (250,)), types: (tf.int32, tf.int32)>"
      ]
     },
     "execution_count": 24,
     "metadata": {},
     "output_type": "execute_result"
    }
   ],
   "source": [
    "# One hot encoded input\n",
    "# sequences_data_x = tf.data.Dataset.from_tensor_slices(tf.keras.backend.one_hot(padded_sequences_x, n_items)) \n",
    "# sequences_data_y = tf.data.Dataset.from_tensor_slices(tf.keras.backend.one_hot(padded_sequences_y, n_items)) \n",
    "\n",
    "#normal sequence input\n",
    "sequences_data_x = tf.data.Dataset.from_tensor_slices(padded_sequences_x) \n",
    "sequences_data_y = tf.data.Dataset.from_tensor_slices(padded_sequences_y) \n",
    "dataset = tf.data.Dataset.zip((sequences_data_x, sequences_data_y))\n",
    "dataset"
   ]
  },
  {
   "cell_type": "code",
   "execution_count": 25,
   "metadata": {},
   "outputs": [
    {
     "name": "stdout",
     "output_type": "stream",
     "text": [
      "Input data:  [ 4699  1155  2429 10693  5165 22122  3988   306   250 22125 10243  8965\n",
      "  3289  2613 22666  5406  7344  5305  8632 12178 11348 13542  9527  2364\n",
      "   142 22660 10566  3723  9843 16292 16291 13133 10440 14857 13727     0\n",
      "     0     0     0     0     0     0     0     0     0     0     0     0\n",
      "     0     0     0     0     0     0     0     0     0     0     0     0\n",
      "     0     0     0     0     0     0     0     0     0     0     0     0\n",
      "     0     0     0     0     0     0     0     0     0     0     0     0\n",
      "     0     0     0     0     0     0     0     0     0     0     0     0\n",
      "     0     0     0     0     0     0     0     0     0     0     0     0\n",
      "     0     0     0     0     0     0     0     0     0     0     0     0\n",
      "     0     0     0     0     0     0     0     0     0     0     0     0\n",
      "     0     0     0     0     0     0     0     0     0     0     0     0\n",
      "     0     0     0     0     0     0     0     0     0     0     0     0\n",
      "     0     0     0     0     0     0     0     0     0     0     0     0\n",
      "     0     0     0     0     0     0     0     0     0     0     0     0\n",
      "     0     0     0     0     0     0     0     0     0     0     0     0\n",
      "     0     0     0     0     0     0     0     0     0     0     0     0\n",
      "     0     0     0     0     0     0     0     0     0     0     0     0\n",
      "     0     0     0     0     0     0     0     0     0     0     0     0\n",
      "     0     0     0     0     0     0     0     0     0     0     0     0\n",
      "     0     0     0     0     0     0     0     0     0     0]\n",
      "Target data: [ 1155  2429 10693  5165 22122  3988   306   250 22125 10243  8965  3289\n",
      "  2613 22666  5406  7344  5305  8632 12178 11348 13542  9527  2364   142\n",
      " 22660 10566  3723  9843 16292 16291 13133 10440 14857 13727 15288     0\n",
      "     0     0     0     0     0     0     0     0     0     0     0     0\n",
      "     0     0     0     0     0     0     0     0     0     0     0     0\n",
      "     0     0     0     0     0     0     0     0     0     0     0     0\n",
      "     0     0     0     0     0     0     0     0     0     0     0     0\n",
      "     0     0     0     0     0     0     0     0     0     0     0     0\n",
      "     0     0     0     0     0     0     0     0     0     0     0     0\n",
      "     0     0     0     0     0     0     0     0     0     0     0     0\n",
      "     0     0     0     0     0     0     0     0     0     0     0     0\n",
      "     0     0     0     0     0     0     0     0     0     0     0     0\n",
      "     0     0     0     0     0     0     0     0     0     0     0     0\n",
      "     0     0     0     0     0     0     0     0     0     0     0     0\n",
      "     0     0     0     0     0     0     0     0     0     0     0     0\n",
      "     0     0     0     0     0     0     0     0     0     0     0     0\n",
      "     0     0     0     0     0     0     0     0     0     0     0     0\n",
      "     0     0     0     0     0     0     0     0     0     0     0     0\n",
      "     0     0     0     0     0     0     0     0     0     0     0     0\n",
      "     0     0     0     0     0     0     0     0     0     0     0     0\n",
      "     0     0     0     0     0     0     0     0     0     0]\n"
     ]
    }
   ],
   "source": [
    "for input_example, target_example in  dataset.take(1).as_numpy_iterator():\n",
    "    print ('Input data: ', input_example)\n",
    "    print ('Target data:', target_example)"
   ]
  },
  {
   "cell_type": "code",
   "execution_count": 26,
   "metadata": {
    "scrolled": false
   },
   "outputs": [
    {
     "name": "stdout",
     "output_type": "stream",
     "text": [
      "input: (100, 250) \n",
      "\n",
      "output: (100, 250)\n"
     ]
    }
   ],
   "source": [
    "BATCH_SIZE = 100\n",
    "dataset = dataset.batch(BATCH_SIZE, drop_remainder=False)\n",
    "for i, o in dataset.take(1).as_numpy_iterator():\n",
    "    print('input:', i.shape, '\\n\\noutput:', o.shape)"
   ]
  },
  {
   "cell_type": "markdown",
   "metadata": {},
   "source": [
    "--- \n",
    "## Model Prep"
   ]
  },
  {
   "cell_type": "markdown",
   "metadata": {},
   "source": [
    "**model architecture**"
   ]
  },
  {
   "cell_type": "code",
   "execution_count": 46,
   "metadata": {},
   "outputs": [],
   "source": [
    "def build_model(n_items, embedding_dim, rnn_units, batch_size):\n",
    "    model = tf.keras.Sequential([\n",
    "        tf.keras.layers.Embedding(n_items, embedding_dim,\n",
    "                                  batch_input_shape=[batch_size, None]),\n",
    "        tf.keras.layers.LSTM(units=rnn_units,\n",
    "                             return_sequences=True,\n",
    "                             stateful=False, #Reset cell states with each batch\n",
    "                             recurrent_initializer='glorot_uniform'),\n",
    "        \n",
    "        tf.keras.layers.Dense(n_items)\n",
    "    ])\n",
    "    return model"
   ]
  },
  {
   "cell_type": "markdown",
   "metadata": {},
   "source": [
    "---\n",
    "**build model**"
   ]
  },
  {
   "cell_type": "code",
   "execution_count": 47,
   "metadata": {},
   "outputs": [],
   "source": [
    "embedding_dim = 100\n",
    "rnn_units = 20"
   ]
  },
  {
   "cell_type": "code",
   "execution_count": 48,
   "metadata": {},
   "outputs": [],
   "source": [
    "model = build_model(\n",
    "n_items = n_items,\n",
    "embedding_dim = embedding_dim,\n",
    "rnn_units = rnn_units,\n",
    "batch_size = BATCH_SIZE)"
   ]
  },
  {
   "cell_type": "markdown",
   "metadata": {},
   "source": [
    "---\n",
    "### Add Loss\n",
    "<br>\n",
    "one hot encode labels for dimensionality match of LSTM output\n",
    "<br> \n",
    "**Added one hot encoding of the labels to match logits output after dense layer**"
   ]
  },
  {
   "cell_type": "code",
   "execution_count": 49,
   "metadata": {},
   "outputs": [],
   "source": [
    "def loss(labels, logits):\n",
    "    oh_labels = tf.keras.backend.one_hot(tf.dtypes.cast(labels, tf.int32), n_items)\n",
    "    return tf.keras.losses.categorical_crossentropy(oh_labels, logits, from_logits=True)\n",
    "\n",
    "model.compile(optimizer='Adagrad', loss=loss)"
   ]
  },
  {
   "cell_type": "markdown",
   "metadata": {},
   "source": [
    "---\n",
    "## Try Model"
   ]
  },
  {
   "cell_type": "code",
   "execution_count": 31,
   "metadata": {},
   "outputs": [
    {
     "data": {
      "text/plain": [
       "<TakeDataset shapes: ((None, 250), (None, 250)), types: (tf.int32, tf.int32)>"
      ]
     },
     "execution_count": 31,
     "metadata": {},
     "output_type": "execute_result"
    }
   ],
   "source": [
    "dataset.take(1)"
   ]
  },
  {
   "cell_type": "code",
   "execution_count": 32,
   "metadata": {},
   "outputs": [
    {
     "name": "stdout",
     "output_type": "stream",
     "text": [
      "(100, 250, 23362) # (batch_size, sequence_length, n_items)\n"
     ]
    }
   ],
   "source": [
    "for input_example_batch, target_example_batch in dataset.take(1):\n",
    "    example_batch_preds = model(input_example_batch)\n",
    "    print(example_batch_preds.shape, \"# (batch_size, sequence_length, n_items)\")"
   ]
  },
  {
   "cell_type": "code",
   "execution_count": 33,
   "metadata": {},
   "outputs": [],
   "source": [
    "example_batch_loss = loss(target_example_batch, example_batch_preds)"
   ]
  },
  {
   "cell_type": "code",
   "execution_count": 34,
   "metadata": {},
   "outputs": [
    {
     "data": {
      "text/plain": [
       "TensorShape([100, 250, 23362])"
      ]
     },
     "execution_count": 34,
     "metadata": {},
     "output_type": "execute_result"
    }
   ],
   "source": [
    "example_batch_preds.shape"
   ]
  },
  {
   "cell_type": "code",
   "execution_count": 35,
   "metadata": {},
   "outputs": [
    {
     "data": {
      "text/plain": [
       "TensorShape([100, 250])"
      ]
     },
     "execution_count": 35,
     "metadata": {},
     "output_type": "execute_result"
    }
   ],
   "source": [
    "example_batch_loss.shape"
   ]
  },
  {
   "cell_type": "markdown",
   "metadata": {},
   "source": [
    "---\n",
    "**model summmary**"
   ]
  },
  {
   "cell_type": "code",
   "execution_count": 36,
   "metadata": {},
   "outputs": [
    {
     "name": "stdout",
     "output_type": "stream",
     "text": [
      "Model: \"sequential\"\n",
      "_________________________________________________________________\n",
      "Layer (type)                 Output Shape              Param #   \n",
      "=================================================================\n",
      "embedding (Embedding)        (100, None, 100)          2336200   \n",
      "_________________________________________________________________\n",
      "lstm (LSTM)                  (100, None, 20)           9680      \n",
      "_________________________________________________________________\n",
      "dense (Dense)                (100, None, 23362)        490602    \n",
      "=================================================================\n",
      "Total params: 2,836,482\n",
      "Trainable params: 2,836,482\n",
      "Non-trainable params: 0\n",
      "_________________________________________________________________\n"
     ]
    }
   ],
   "source": [
    "model.summary()"
   ]
  },
  {
   "cell_type": "markdown",
   "metadata": {},
   "source": [
    "---\n",
    "## Train Model"
   ]
  },
  {
   "cell_type": "markdown",
   "metadata": {},
   "source": [
    "---\n",
    "**Configure Checkpoints**"
   ]
  },
  {
   "cell_type": "code",
   "execution_count": 37,
   "metadata": {},
   "outputs": [],
   "source": [
    "# Directory where the checkpoints will be saved\n",
    "checkpoint_dir = './rnn_train_checkpoints'\n",
    "# Name of the checkpoint files\n",
    "checkpoint_prefix = os.path.join(checkpoint_dir, \"ckpt_{epoch}\")\n",
    "\n",
    "checkpoint_callback=tf.keras.callbacks.ModelCheckpoint(\n",
    "    filepath=checkpoint_prefix,\n",
    "    save_weights_only=True)"
   ]
  },
  {
   "cell_type": "markdown",
   "metadata": {},
   "source": [
    "---\n",
    "**Fit Model**"
   ]
  },
  {
   "cell_type": "code",
   "execution_count": 40,
   "metadata": {},
   "outputs": [
    {
     "data": {
      "text/plain": [
       "<BatchDataset shapes: ((None, 250), (None, 250)), types: (tf.int32, tf.int32)>"
      ]
     },
     "execution_count": 40,
     "metadata": {},
     "output_type": "execute_result"
    }
   ],
   "source": [
    "epochs = 100\n",
    "dataset"
   ]
  },
  {
   "cell_type": "code",
   "execution_count": 41,
   "metadata": {},
   "outputs": [
    {
     "name": "stdout",
     "output_type": "stream",
     "text": [
      "Train for 55 steps\n",
      "Epoch 1/100\n",
      "55/55 [==============================] - 372s 7s/step - loss: 9.9489\n",
      "Epoch 2/100\n",
      "55/55 [==============================] - 371s 7s/step - loss: 9.6420\n",
      "Epoch 3/100\n",
      "55/55 [==============================] - 372s 7s/step - loss: 9.3998\n",
      "Epoch 4/100\n",
      "55/55 [==============================] - 368s 7s/step - loss: 9.2193\n",
      "Epoch 5/100\n",
      "54/55 [============================>.] - ETA: 7s - loss: 9.0735"
     ]
    },
    {
     "ename": "KeyboardInterrupt",
     "evalue": "",
     "output_type": "error",
     "traceback": [
      "\u001b[1;31m---------------------------------------------------------------------------\u001b[0m",
      "\u001b[1;31mKeyboardInterrupt\u001b[0m                         Traceback (most recent call last)",
      "\u001b[1;32m<ipython-input-41-ceba8f85df4e>\u001b[0m in \u001b[0;36m<module>\u001b[1;34m\u001b[0m\n\u001b[1;32m----> 1\u001b[1;33m \u001b[0mhistory\u001b[0m \u001b[1;33m=\u001b[0m \u001b[0mmodel\u001b[0m\u001b[1;33m.\u001b[0m\u001b[0mfit\u001b[0m\u001b[1;33m(\u001b[0m\u001b[0mdataset\u001b[0m\u001b[1;33m,\u001b[0m \u001b[0mepochs\u001b[0m\u001b[1;33m=\u001b[0m\u001b[0mepochs\u001b[0m\u001b[1;33m,\u001b[0m \u001b[0mcallbacks\u001b[0m\u001b[1;33m=\u001b[0m\u001b[1;33m[\u001b[0m\u001b[0mcheckpoint_callback\u001b[0m\u001b[1;33m]\u001b[0m\u001b[1;33m)\u001b[0m\u001b[1;33m\u001b[0m\u001b[1;33m\u001b[0m\u001b[0m\n\u001b[0m",
      "\u001b[1;32m~\\AppData\\Local\\Continuum\\anaconda3\\envs\\re_research\\lib\\site-packages\\tensorflow_core\\python\\keras\\engine\\training.py\u001b[0m in \u001b[0;36mfit\u001b[1;34m(self, x, y, batch_size, epochs, verbose, callbacks, validation_split, validation_data, shuffle, class_weight, sample_weight, initial_epoch, steps_per_epoch, validation_steps, validation_freq, max_queue_size, workers, use_multiprocessing, **kwargs)\u001b[0m\n\u001b[0;32m    817\u001b[0m         \u001b[0mmax_queue_size\u001b[0m\u001b[1;33m=\u001b[0m\u001b[0mmax_queue_size\u001b[0m\u001b[1;33m,\u001b[0m\u001b[1;33m\u001b[0m\u001b[1;33m\u001b[0m\u001b[0m\n\u001b[0;32m    818\u001b[0m         \u001b[0mworkers\u001b[0m\u001b[1;33m=\u001b[0m\u001b[0mworkers\u001b[0m\u001b[1;33m,\u001b[0m\u001b[1;33m\u001b[0m\u001b[1;33m\u001b[0m\u001b[0m\n\u001b[1;32m--> 819\u001b[1;33m         use_multiprocessing=use_multiprocessing)\n\u001b[0m\u001b[0;32m    820\u001b[0m \u001b[1;33m\u001b[0m\u001b[0m\n\u001b[0;32m    821\u001b[0m   def evaluate(self,\n",
      "\u001b[1;32m~\\AppData\\Local\\Continuum\\anaconda3\\envs\\re_research\\lib\\site-packages\\tensorflow_core\\python\\keras\\engine\\training_v2.py\u001b[0m in \u001b[0;36mfit\u001b[1;34m(self, model, x, y, batch_size, epochs, verbose, callbacks, validation_split, validation_data, shuffle, class_weight, sample_weight, initial_epoch, steps_per_epoch, validation_steps, validation_freq, max_queue_size, workers, use_multiprocessing, **kwargs)\u001b[0m\n\u001b[0;32m    340\u001b[0m                 \u001b[0mmode\u001b[0m\u001b[1;33m=\u001b[0m\u001b[0mModeKeys\u001b[0m\u001b[1;33m.\u001b[0m\u001b[0mTRAIN\u001b[0m\u001b[1;33m,\u001b[0m\u001b[1;33m\u001b[0m\u001b[1;33m\u001b[0m\u001b[0m\n\u001b[0;32m    341\u001b[0m                 \u001b[0mtraining_context\u001b[0m\u001b[1;33m=\u001b[0m\u001b[0mtraining_context\u001b[0m\u001b[1;33m,\u001b[0m\u001b[1;33m\u001b[0m\u001b[1;33m\u001b[0m\u001b[0m\n\u001b[1;32m--> 342\u001b[1;33m                 total_epochs=epochs)\n\u001b[0m\u001b[0;32m    343\u001b[0m             \u001b[0mcbks\u001b[0m\u001b[1;33m.\u001b[0m\u001b[0mmake_logs\u001b[0m\u001b[1;33m(\u001b[0m\u001b[0mmodel\u001b[0m\u001b[1;33m,\u001b[0m \u001b[0mepoch_logs\u001b[0m\u001b[1;33m,\u001b[0m \u001b[0mtraining_result\u001b[0m\u001b[1;33m,\u001b[0m \u001b[0mModeKeys\u001b[0m\u001b[1;33m.\u001b[0m\u001b[0mTRAIN\u001b[0m\u001b[1;33m)\u001b[0m\u001b[1;33m\u001b[0m\u001b[1;33m\u001b[0m\u001b[0m\n\u001b[0;32m    344\u001b[0m \u001b[1;33m\u001b[0m\u001b[0m\n",
      "\u001b[1;32m~\\AppData\\Local\\Continuum\\anaconda3\\envs\\re_research\\lib\\site-packages\\tensorflow_core\\python\\keras\\engine\\training_v2.py\u001b[0m in \u001b[0;36mrun_one_epoch\u001b[1;34m(model, iterator, execution_function, dataset_size, batch_size, strategy, steps_per_epoch, num_samples, mode, training_context, total_epochs)\u001b[0m\n\u001b[0;32m    126\u001b[0m         step=step, mode=mode, size=current_batch_size) as batch_logs:\n\u001b[0;32m    127\u001b[0m       \u001b[1;32mtry\u001b[0m\u001b[1;33m:\u001b[0m\u001b[1;33m\u001b[0m\u001b[1;33m\u001b[0m\u001b[0m\n\u001b[1;32m--> 128\u001b[1;33m         \u001b[0mbatch_outs\u001b[0m \u001b[1;33m=\u001b[0m \u001b[0mexecution_function\u001b[0m\u001b[1;33m(\u001b[0m\u001b[0miterator\u001b[0m\u001b[1;33m)\u001b[0m\u001b[1;33m\u001b[0m\u001b[1;33m\u001b[0m\u001b[0m\n\u001b[0m\u001b[0;32m    129\u001b[0m       \u001b[1;32mexcept\u001b[0m \u001b[1;33m(\u001b[0m\u001b[0mStopIteration\u001b[0m\u001b[1;33m,\u001b[0m \u001b[0merrors\u001b[0m\u001b[1;33m.\u001b[0m\u001b[0mOutOfRangeError\u001b[0m\u001b[1;33m)\u001b[0m\u001b[1;33m:\u001b[0m\u001b[1;33m\u001b[0m\u001b[1;33m\u001b[0m\u001b[0m\n\u001b[0;32m    130\u001b[0m         \u001b[1;31m# TODO(kaftan): File bug about tf function and errors.OutOfRangeError?\u001b[0m\u001b[1;33m\u001b[0m\u001b[1;33m\u001b[0m\u001b[1;33m\u001b[0m\u001b[0m\n",
      "\u001b[1;32m~\\AppData\\Local\\Continuum\\anaconda3\\envs\\re_research\\lib\\site-packages\\tensorflow_core\\python\\keras\\engine\\training_v2_utils.py\u001b[0m in \u001b[0;36mexecution_function\u001b[1;34m(input_fn)\u001b[0m\n\u001b[0;32m     96\u001b[0m     \u001b[1;31m# `numpy` translates Tensors to values in Eager mode.\u001b[0m\u001b[1;33m\u001b[0m\u001b[1;33m\u001b[0m\u001b[1;33m\u001b[0m\u001b[0m\n\u001b[0;32m     97\u001b[0m     return nest.map_structure(_non_none_constant_value,\n\u001b[1;32m---> 98\u001b[1;33m                               distributed_function(input_fn))\n\u001b[0m\u001b[0;32m     99\u001b[0m \u001b[1;33m\u001b[0m\u001b[0m\n\u001b[0;32m    100\u001b[0m   \u001b[1;32mreturn\u001b[0m \u001b[0mexecution_function\u001b[0m\u001b[1;33m\u001b[0m\u001b[1;33m\u001b[0m\u001b[0m\n",
      "\u001b[1;32m~\\AppData\\Local\\Continuum\\anaconda3\\envs\\re_research\\lib\\site-packages\\tensorflow_core\\python\\eager\\def_function.py\u001b[0m in \u001b[0;36m__call__\u001b[1;34m(self, *args, **kwds)\u001b[0m\n\u001b[0;32m    566\u001b[0m         \u001b[0mxla_context\u001b[0m\u001b[1;33m.\u001b[0m\u001b[0mExit\u001b[0m\u001b[1;33m(\u001b[0m\u001b[1;33m)\u001b[0m\u001b[1;33m\u001b[0m\u001b[1;33m\u001b[0m\u001b[0m\n\u001b[0;32m    567\u001b[0m     \u001b[1;32melse\u001b[0m\u001b[1;33m:\u001b[0m\u001b[1;33m\u001b[0m\u001b[1;33m\u001b[0m\u001b[0m\n\u001b[1;32m--> 568\u001b[1;33m       \u001b[0mresult\u001b[0m \u001b[1;33m=\u001b[0m \u001b[0mself\u001b[0m\u001b[1;33m.\u001b[0m\u001b[0m_call\u001b[0m\u001b[1;33m(\u001b[0m\u001b[1;33m*\u001b[0m\u001b[0margs\u001b[0m\u001b[1;33m,\u001b[0m \u001b[1;33m**\u001b[0m\u001b[0mkwds\u001b[0m\u001b[1;33m)\u001b[0m\u001b[1;33m\u001b[0m\u001b[1;33m\u001b[0m\u001b[0m\n\u001b[0m\u001b[0;32m    569\u001b[0m \u001b[1;33m\u001b[0m\u001b[0m\n\u001b[0;32m    570\u001b[0m     \u001b[1;32mif\u001b[0m \u001b[0mtracing_count\u001b[0m \u001b[1;33m==\u001b[0m \u001b[0mself\u001b[0m\u001b[1;33m.\u001b[0m\u001b[0m_get_tracing_count\u001b[0m\u001b[1;33m(\u001b[0m\u001b[1;33m)\u001b[0m\u001b[1;33m:\u001b[0m\u001b[1;33m\u001b[0m\u001b[1;33m\u001b[0m\u001b[0m\n",
      "\u001b[1;32m~\\AppData\\Local\\Continuum\\anaconda3\\envs\\re_research\\lib\\site-packages\\tensorflow_core\\python\\eager\\def_function.py\u001b[0m in \u001b[0;36m_call\u001b[1;34m(self, *args, **kwds)\u001b[0m\n\u001b[0;32m    597\u001b[0m       \u001b[1;31m# In this case we have created variables on the first call, so we run the\u001b[0m\u001b[1;33m\u001b[0m\u001b[1;33m\u001b[0m\u001b[1;33m\u001b[0m\u001b[0m\n\u001b[0;32m    598\u001b[0m       \u001b[1;31m# defunned version which is guaranteed to never create variables.\u001b[0m\u001b[1;33m\u001b[0m\u001b[1;33m\u001b[0m\u001b[1;33m\u001b[0m\u001b[0m\n\u001b[1;32m--> 599\u001b[1;33m       \u001b[1;32mreturn\u001b[0m \u001b[0mself\u001b[0m\u001b[1;33m.\u001b[0m\u001b[0m_stateless_fn\u001b[0m\u001b[1;33m(\u001b[0m\u001b[1;33m*\u001b[0m\u001b[0margs\u001b[0m\u001b[1;33m,\u001b[0m \u001b[1;33m**\u001b[0m\u001b[0mkwds\u001b[0m\u001b[1;33m)\u001b[0m  \u001b[1;31m# pylint: disable=not-callable\u001b[0m\u001b[1;33m\u001b[0m\u001b[1;33m\u001b[0m\u001b[0m\n\u001b[0m\u001b[0;32m    600\u001b[0m     \u001b[1;32melif\u001b[0m \u001b[0mself\u001b[0m\u001b[1;33m.\u001b[0m\u001b[0m_stateful_fn\u001b[0m \u001b[1;32mis\u001b[0m \u001b[1;32mnot\u001b[0m \u001b[1;32mNone\u001b[0m\u001b[1;33m:\u001b[0m\u001b[1;33m\u001b[0m\u001b[1;33m\u001b[0m\u001b[0m\n\u001b[0;32m    601\u001b[0m       \u001b[1;31m# Release the lock early so that multiple threads can perform the call\u001b[0m\u001b[1;33m\u001b[0m\u001b[1;33m\u001b[0m\u001b[1;33m\u001b[0m\u001b[0m\n",
      "\u001b[1;32m~\\AppData\\Local\\Continuum\\anaconda3\\envs\\re_research\\lib\\site-packages\\tensorflow_core\\python\\eager\\function.py\u001b[0m in \u001b[0;36m__call__\u001b[1;34m(self, *args, **kwargs)\u001b[0m\n\u001b[0;32m   2361\u001b[0m     \u001b[1;32mwith\u001b[0m \u001b[0mself\u001b[0m\u001b[1;33m.\u001b[0m\u001b[0m_lock\u001b[0m\u001b[1;33m:\u001b[0m\u001b[1;33m\u001b[0m\u001b[1;33m\u001b[0m\u001b[0m\n\u001b[0;32m   2362\u001b[0m       \u001b[0mgraph_function\u001b[0m\u001b[1;33m,\u001b[0m \u001b[0margs\u001b[0m\u001b[1;33m,\u001b[0m \u001b[0mkwargs\u001b[0m \u001b[1;33m=\u001b[0m \u001b[0mself\u001b[0m\u001b[1;33m.\u001b[0m\u001b[0m_maybe_define_function\u001b[0m\u001b[1;33m(\u001b[0m\u001b[0margs\u001b[0m\u001b[1;33m,\u001b[0m \u001b[0mkwargs\u001b[0m\u001b[1;33m)\u001b[0m\u001b[1;33m\u001b[0m\u001b[1;33m\u001b[0m\u001b[0m\n\u001b[1;32m-> 2363\u001b[1;33m     \u001b[1;32mreturn\u001b[0m \u001b[0mgraph_function\u001b[0m\u001b[1;33m.\u001b[0m\u001b[0m_filtered_call\u001b[0m\u001b[1;33m(\u001b[0m\u001b[0margs\u001b[0m\u001b[1;33m,\u001b[0m \u001b[0mkwargs\u001b[0m\u001b[1;33m)\u001b[0m  \u001b[1;31m# pylint: disable=protected-access\u001b[0m\u001b[1;33m\u001b[0m\u001b[1;33m\u001b[0m\u001b[0m\n\u001b[0m\u001b[0;32m   2364\u001b[0m \u001b[1;33m\u001b[0m\u001b[0m\n\u001b[0;32m   2365\u001b[0m   \u001b[1;33m@\u001b[0m\u001b[0mproperty\u001b[0m\u001b[1;33m\u001b[0m\u001b[1;33m\u001b[0m\u001b[0m\n",
      "\u001b[1;32m~\\AppData\\Local\\Continuum\\anaconda3\\envs\\re_research\\lib\\site-packages\\tensorflow_core\\python\\eager\\function.py\u001b[0m in \u001b[0;36m_filtered_call\u001b[1;34m(self, args, kwargs)\u001b[0m\n\u001b[0;32m   1609\u001b[0m          if isinstance(t, (ops.Tensor,\n\u001b[0;32m   1610\u001b[0m                            resource_variable_ops.BaseResourceVariable))),\n\u001b[1;32m-> 1611\u001b[1;33m         self.captured_inputs)\n\u001b[0m\u001b[0;32m   1612\u001b[0m \u001b[1;33m\u001b[0m\u001b[0m\n\u001b[0;32m   1613\u001b[0m   \u001b[1;32mdef\u001b[0m \u001b[0m_call_flat\u001b[0m\u001b[1;33m(\u001b[0m\u001b[0mself\u001b[0m\u001b[1;33m,\u001b[0m \u001b[0margs\u001b[0m\u001b[1;33m,\u001b[0m \u001b[0mcaptured_inputs\u001b[0m\u001b[1;33m,\u001b[0m \u001b[0mcancellation_manager\u001b[0m\u001b[1;33m=\u001b[0m\u001b[1;32mNone\u001b[0m\u001b[1;33m)\u001b[0m\u001b[1;33m:\u001b[0m\u001b[1;33m\u001b[0m\u001b[1;33m\u001b[0m\u001b[0m\n",
      "\u001b[1;32m~\\AppData\\Local\\Continuum\\anaconda3\\envs\\re_research\\lib\\site-packages\\tensorflow_core\\python\\eager\\function.py\u001b[0m in \u001b[0;36m_call_flat\u001b[1;34m(self, args, captured_inputs, cancellation_manager)\u001b[0m\n\u001b[0;32m   1690\u001b[0m       \u001b[1;31m# No tape is watching; skip to running the function.\u001b[0m\u001b[1;33m\u001b[0m\u001b[1;33m\u001b[0m\u001b[1;33m\u001b[0m\u001b[0m\n\u001b[0;32m   1691\u001b[0m       return self._build_call_outputs(self._inference_function.call(\n\u001b[1;32m-> 1692\u001b[1;33m           ctx, args, cancellation_manager=cancellation_manager))\n\u001b[0m\u001b[0;32m   1693\u001b[0m     forward_backward = self._select_forward_and_backward_functions(\n\u001b[0;32m   1694\u001b[0m         \u001b[0margs\u001b[0m\u001b[1;33m,\u001b[0m\u001b[1;33m\u001b[0m\u001b[1;33m\u001b[0m\u001b[0m\n",
      "\u001b[1;32m~\\AppData\\Local\\Continuum\\anaconda3\\envs\\re_research\\lib\\site-packages\\tensorflow_core\\python\\eager\\function.py\u001b[0m in \u001b[0;36mcall\u001b[1;34m(self, ctx, args, cancellation_manager)\u001b[0m\n\u001b[0;32m    543\u001b[0m               \u001b[0minputs\u001b[0m\u001b[1;33m=\u001b[0m\u001b[0margs\u001b[0m\u001b[1;33m,\u001b[0m\u001b[1;33m\u001b[0m\u001b[1;33m\u001b[0m\u001b[0m\n\u001b[0;32m    544\u001b[0m               \u001b[0mattrs\u001b[0m\u001b[1;33m=\u001b[0m\u001b[1;33m(\u001b[0m\u001b[1;34m\"executor_type\"\u001b[0m\u001b[1;33m,\u001b[0m \u001b[0mexecutor_type\u001b[0m\u001b[1;33m,\u001b[0m \u001b[1;34m\"config_proto\"\u001b[0m\u001b[1;33m,\u001b[0m \u001b[0mconfig\u001b[0m\u001b[1;33m)\u001b[0m\u001b[1;33m,\u001b[0m\u001b[1;33m\u001b[0m\u001b[1;33m\u001b[0m\u001b[0m\n\u001b[1;32m--> 545\u001b[1;33m               ctx=ctx)\n\u001b[0m\u001b[0;32m    546\u001b[0m         \u001b[1;32melse\u001b[0m\u001b[1;33m:\u001b[0m\u001b[1;33m\u001b[0m\u001b[1;33m\u001b[0m\u001b[0m\n\u001b[0;32m    547\u001b[0m           outputs = execute.execute_with_cancellation(\n",
      "\u001b[1;32m~\\AppData\\Local\\Continuum\\anaconda3\\envs\\re_research\\lib\\site-packages\\tensorflow_core\\python\\eager\\execute.py\u001b[0m in \u001b[0;36mquick_execute\u001b[1;34m(op_name, num_outputs, inputs, attrs, ctx, name)\u001b[0m\n\u001b[0;32m     59\u001b[0m     tensors = pywrap_tensorflow.TFE_Py_Execute(ctx._handle, device_name,\n\u001b[0;32m     60\u001b[0m                                                \u001b[0mop_name\u001b[0m\u001b[1;33m,\u001b[0m \u001b[0minputs\u001b[0m\u001b[1;33m,\u001b[0m \u001b[0mattrs\u001b[0m\u001b[1;33m,\u001b[0m\u001b[1;33m\u001b[0m\u001b[1;33m\u001b[0m\u001b[0m\n\u001b[1;32m---> 61\u001b[1;33m                                                num_outputs)\n\u001b[0m\u001b[0;32m     62\u001b[0m   \u001b[1;32mexcept\u001b[0m \u001b[0mcore\u001b[0m\u001b[1;33m.\u001b[0m\u001b[0m_NotOkStatusException\u001b[0m \u001b[1;32mas\u001b[0m \u001b[0me\u001b[0m\u001b[1;33m:\u001b[0m\u001b[1;33m\u001b[0m\u001b[1;33m\u001b[0m\u001b[0m\n\u001b[0;32m     63\u001b[0m     \u001b[1;32mif\u001b[0m \u001b[0mname\u001b[0m \u001b[1;32mis\u001b[0m \u001b[1;32mnot\u001b[0m \u001b[1;32mNone\u001b[0m\u001b[1;33m:\u001b[0m\u001b[1;33m\u001b[0m\u001b[1;33m\u001b[0m\u001b[0m\n",
      "\u001b[1;31mKeyboardInterrupt\u001b[0m: "
     ]
    }
   ],
   "source": [
    "history = model.fit(dataset, epochs=epochs, callbacks=[checkpoint_callback])"
   ]
  },
  {
   "cell_type": "markdown",
   "metadata": {},
   "source": [
    "---\n",
    "## Continue training from checkpoint"
   ]
  },
  {
   "cell_type": "code",
   "execution_count": 54,
   "metadata": {},
   "outputs": [
    {
     "name": "stdout",
     "output_type": "stream",
     "text": [
      "Model: \"sequential_4\"\n",
      "_________________________________________________________________\n",
      "Layer (type)                 Output Shape              Param #   \n",
      "=================================================================\n",
      "embedding_4 (Embedding)      (100, None, 100)          2336200   \n",
      "_________________________________________________________________\n",
      "lstm_4 (LSTM)                (100, None, 20)           9680      \n",
      "_________________________________________________________________\n",
      "dense_4 (Dense)              (100, None, 23362)        490602    \n",
      "=================================================================\n",
      "Total params: 2,836,482\n",
      "Trainable params: 2,836,482\n",
      "Non-trainable params: 0\n",
      "_________________________________________________________________\n"
     ]
    }
   ],
   "source": [
    "model.summary()"
   ]
  },
  {
   "cell_type": "code",
   "execution_count": 62,
   "metadata": {},
   "outputs": [],
   "source": [
    "tf.train.latest_checkpoint(checkpoint_dir)\n",
    "model = build_model(n_items, embedding_dim, rnn_units, batch_size=100)\n",
    "model.load_weights(tf.train.latest_checkpoint(checkpoint_dir))\n",
    "model.compile(optimizer='Adagrad', loss=loss)"
   ]
  },
  {
   "cell_type": "code",
   "execution_count": 63,
   "metadata": {},
   "outputs": [],
   "source": [
    "aditional_epochs = 1"
   ]
  },
  {
   "cell_type": "code",
   "execution_count": 64,
   "metadata": {},
   "outputs": [
    {
     "name": "stdout",
     "output_type": "stream",
     "text": [
      "Train for 55 steps\n",
      "WARNING:tensorflow:Unresolved object in checkpoint: (root).optimizer.iter\n",
      "WARNING:tensorflow:Unresolved object in checkpoint: (root).optimizer.decay\n",
      "WARNING:tensorflow:Unresolved object in checkpoint: (root).optimizer.learning_rate\n",
      "WARNING:tensorflow:A checkpoint was restored (e.g. tf.train.Checkpoint.restore or tf.keras.Model.load_weights) but not all checkpointed values were used. See above for specific issues. Use expect_partial() on the load status object, e.g. tf.train.Checkpoint.restore(...).expect_partial(), to silence these warnings, or use assert_consumed() to make the check explicit. See https://www.tensorflow.org/guide/checkpoint#loading_mechanics for details.\n",
      " 9/55 [===>..........................] - ETA: 5:50 - loss: 4.1975"
     ]
    },
    {
     "name": "stderr",
     "output_type": "stream",
     "text": [
      "\n",
      "KeyboardInterrupt\n",
      "\n"
     ]
    }
   ],
   "source": [
    "model.fit(dataset, epochs=aditional_epochs, callbacks=[checkpoint_callback])"
   ]
  },
  {
   "cell_type": "markdown",
   "metadata": {},
   "source": [
    "---\n",
    "# Predict Sequences"
   ]
  },
  {
   "cell_type": "markdown",
   "metadata": {},
   "source": [
    "## Restore Latest Checkpoints"
   ]
  },
  {
   "cell_type": "code",
   "execution_count": null,
   "metadata": {},
   "outputs": [],
   "source": [
    "tf.train.latest_checkpoint(checkpoint_dir)"
   ]
  },
  {
   "cell_type": "code",
   "execution_count": null,
   "metadata": {},
   "outputs": [],
   "source": [
    "model = build_model(n_items, embedding_dim, rnn_units, batch_size=1)\n",
    "\n",
    "model.load_weights(tf.train.latest_checkpoint(checkpoint_dir))\n",
    "                   \n",
    "model.build(tf.TensorShape([1, None]))"
   ]
  },
  {
   "cell_type": "code",
   "execution_count": null,
   "metadata": {},
   "outputs": [],
   "source": [
    "model.summary()"
   ]
  },
  {
   "cell_type": "markdown",
   "metadata": {},
   "source": [
    "---\n",
    "## Create Predictions"
   ]
  },
  {
   "cell_type": "markdown",
   "metadata": {},
   "source": [
    "**Using test_df**"
   ]
  },
  {
   "cell_type": "code",
   "execution_count": 69,
   "metadata": {},
   "outputs": [
    {
     "name": "stdout",
     "output_type": "stream",
     "text": [
      "test users: 500\n"
     ]
    }
   ],
   "source": [
    "print('test users:', len(test_df.user_id.unique()))"
   ]
  },
  {
   "cell_type": "code",
   "execution_count": null,
   "metadata": {},
   "outputs": [],
   "source": [
    "predictions_df = pd.DataFrame(columns=['user', 'pred_seq', 'true_seq'])"
   ]
  },
  {
   "cell_type": "code",
   "execution_count": null,
   "metadata": {},
   "outputs": [],
   "source": [
    "temperature = 1.0\n",
    "\n",
    "for u in test_df.user_id.unique(): #Note: Can use multiprocessing for this\n",
    "    generated_predictions = []\n",
    "    user_item_seq = np.array(test_df[test_df['user_id']==u]['item_id'])\n",
    "    half_test_seq = user_item_seq[:int(len(user_item_seq)/2)]\n",
    "    half_test_seq = half_test_seq.reshape(-1,1).transpose()\n",
    "    other_half = user_item_seq[int(len(user_item_seq)/2):]\n",
    "\n",
    "    #Predict\n",
    "    for item in half_test_seq[0]:\n",
    "        predictions = model(half_test_seq)\n",
    "        predictions = tf.squeeze(predictions, 0)\n",
    "\n",
    "        predictions = predictions / temperature\n",
    "        predicted_id = tf.random.categorical(predictions, num_samples=1)[-1,0].numpy()\n",
    "        half_test_seq = np.append(half_test_seq, predicted_id).reshape(-1,1).transpose()\n",
    "\n",
    "        half_test_seq = tf.expand_dims([predicted_id], 0)\n",
    "        generated_predictions.append(predicted_id)\n",
    "        \n",
    "    predictions_df = predictions_df.append({'user':u, 'pred_seq':generated_predictions, 'true_seq':other_half}, ignore_index=True)"
   ]
  },
  {
   "cell_type": "code",
   "execution_count": null,
   "metadata": {},
   "outputs": [],
   "source": [
    "len(predictions_df.iloc[0]['true_seq'])"
   ]
  },
  {
   "cell_type": "markdown",
   "metadata": {},
   "source": [
    "# Evaluate"
   ]
  },
  {
   "cell_type": "code",
   "execution_count": 70,
   "metadata": {},
   "outputs": [],
   "source": [
    "result_path = 'Results/CFRNN/'\n",
    "predictions = pd.read_pickle(path + result_path + 'CFRNN_ml_6k_users_700_epochs')"
   ]
  },
  {
   "cell_type": "code",
   "execution_count": 79,
   "metadata": {},
   "outputs": [
    {
     "data": {
      "text/plain": [
       "['user', 'pred_seq', 'true_seq']"
      ]
     },
     "execution_count": 79,
     "metadata": {},
     "output_type": "execute_result"
    }
   ],
   "source": [
    "list(predictions)"
   ]
  },
  {
   "cell_type": "code",
   "execution_count": 82,
   "metadata": {},
   "outputs": [
    {
     "name": "stdout",
     "output_type": "stream",
     "text": [
      "1108 1841\n",
      "2448 148\n",
      "5552 10204\n",
      "5552 9145\n",
      "5854 2313\n",
      "5135 46\n",
      "5135 21015\n",
      "5135 1880\n",
      "4620 7300\n",
      "1208 133\n",
      "1373 6354\n",
      "602 6892\n",
      "602 18287\n",
      "602 4246\n",
      "602 3614\n",
      "602 4005\n",
      "602 5518\n",
      "602 14551\n",
      "602 9912\n",
      "602 19011\n",
      "602 3265\n",
      "602 12593\n",
      "602 14227\n",
      "602 2018\n",
      "602 1040\n",
      "602 1159\n",
      "602 644\n",
      "602 6615\n",
      "602 16919\n",
      "602 5083\n",
      "602 20933\n",
      "1192 3120\n",
      "1192 68\n",
      "1192 5060\n",
      "1192 7385\n",
      "1192 5180\n",
      "1192 1552\n",
      "1192 11481\n",
      "1192 13450\n",
      "1192 14588\n",
      "1192 14642\n",
      "3355 965\n",
      "3355 1147\n",
      "3355 650\n",
      "2040 1142\n",
      "5600 0\n",
      "920 2554\n",
      "5485 2768\n",
      "2733 1289\n",
      "2733 7320\n",
      "2733 5000\n",
      "2733 1405\n",
      "2733 6091\n",
      "2733 5501\n",
      "2733 5130\n",
      "2733 2929\n",
      "2733 7701\n",
      "2733 9226\n",
      "2733 1605\n",
      "2310 5121\n",
      "4394 22\n",
      "525 1534\n",
      "4851 466\n",
      "3857 1166\n",
      "3857 5082\n",
      "3857 5899\n",
      "2103 2326\n",
      "2103 2235\n",
      "2418 2767\n",
      "2418 1947\n",
      "2418 3886\n",
      "934 5149\n",
      "934 3748\n",
      "934 998\n",
      "5908 442\n",
      "2698 3320\n",
      "145 4792\n",
      "145 3642\n",
      "145 6353\n",
      "145 106\n",
      "5565 9501\n",
      "1540 1232\n",
      "1540 3847\n",
      "1540 210\n",
      "1540 5558\n",
      "1540 746\n",
      "1540 1590\n",
      "1540 3979\n",
      "5929 442\n",
      "3864 8562\n",
      "3864 984\n",
      "3864 242\n",
      "3864 649\n",
      "3864 291\n",
      "3864 3492\n",
      "2346 2543\n",
      "4801 1234\n",
      "4801 1216\n",
      "305 6121\n",
      "1638 2848\n",
      "4485 5498\n",
      "4485 1986\n",
      "4485 1830\n",
      "4485 7228\n",
      "4485 6403\n",
      "5850 6452\n",
      "3998 2539\n",
      "1618 5276\n",
      "2624 1195\n",
      "2624 10292\n",
      "2624 567\n",
      "1513 12312\n",
      "3113 457\n",
      "3113 77\n",
      "3113 264\n",
      "5660 0\n",
      "5660 5899\n",
      "2284 2230\n",
      "2284 9503\n",
      "2284 7220\n",
      "2284 10206\n",
      "2284 10422\n",
      "2284 10937\n",
      "2284 12737\n",
      "2284 1311\n",
      "2284 15404\n",
      "2284 15934\n",
      "2284 10802\n",
      "2284 14977\n",
      "2284 1146\n",
      "5961 14974\n",
      "5961 15320\n",
      "5961 23048\n",
      "5961 1204\n",
      "5961 23166\n",
      "4176 9140\n",
      "4650 4125\n",
      "1457 107\n",
      "1457 3111\n",
      "1064 2544\n",
      "1064 2838\n",
      "1064 2368\n",
      "1064 442\n",
      "4619 2836\n",
      "3241 9000\n",
      "3241 11705\n",
      "3241 9834\n",
      "3241 10511\n",
      "2013 4416\n",
      "2013 10563\n",
      "2013 15248\n",
      "2013 16693\n",
      "2013 21350\n",
      "580 576\n",
      "3933 2770\n",
      "730 390\n",
      "730 1165\n",
      "730 1035\n",
      "730 1168\n",
      "730 1031\n",
      "1704 6837\n",
      "1704 6702\n",
      "4474 4013\n",
      "4474 4138\n",
      "4032 1045\n",
      "4032 3459\n",
      "3178 0\n",
      "5400 4123\n",
      "5400 11373\n",
      "5400 10306\n",
      "5400 4380\n",
      "5400 1520\n",
      "5400 13451\n",
      "5400 2858\n",
      "5400 5098\n",
      "5400 9814\n",
      "5400 3549\n",
      "5400 9193\n",
      "3990 10311\n",
      "5232 5450\n",
      "981 3815\n",
      "466 3235\n",
      "4542 5854\n",
      "4542 5839\n",
      "4542 5122\n",
      "4542 5938\n",
      "1103 15\n",
      "1103 1\n",
      "5898 1520\n",
      "2815 3837\n",
      "2815 3803\n",
      "2815 3798\n",
      "2815 5792\n",
      "2815 6350\n",
      "2815 2160\n",
      "2815 8639\n",
      "2815 3086\n",
      "2815 4657\n",
      "2815 7175\n",
      "2815 325\n",
      "2815 1485\n",
      "2895 1440\n",
      "2895 11196\n",
      "5622 11481\n",
      "5622 18016\n",
      "5622 3516\n",
      "5622 5104\n",
      "5622 15949\n",
      "5622 10413\n",
      "5622 9670\n",
      "5622 10969\n",
      "5622 15130\n",
      "5622 13173\n",
      "5622 17761\n",
      "5622 15459\n",
      "4790 306\n",
      "3343 350\n",
      "4641 1140\n",
      "4641 2580\n",
      "2371 3522\n",
      "2371 1543\n",
      "2371 43\n",
      "4535 1831\n",
      "4535 2794\n",
      "4367 3991\n",
      "4367 6031\n",
      "4367 6254\n",
      "4367 6345\n",
      "4367 439\n",
      "4367 4710\n",
      "4367 2902\n",
      "4367 9699\n",
      "4367 9938\n",
      "4367 10127\n",
      "4367 10474\n",
      "4367 12887\n",
      "4367 13648\n",
      "4367 12167\n",
      "3750 4402\n",
      "3750 1407\n",
      "3750 3347\n",
      "3750 5521\n",
      "3750 6084\n",
      "3750 3558\n",
      "3750 10302\n",
      "3750 6758\n",
      "3750 4224\n",
      "3750 8151\n",
      "3750 45\n",
      "3750 14178\n",
      "3900 1814\n",
      "3120 1214\n",
      "3120 2955\n",
      "3120 3085\n",
      "3120 369\n",
      "3120 1712\n",
      "3120 1461\n",
      "3120 77\n",
      "3120 3032\n",
      "3120 3317\n",
      "3120 3357\n",
      "3120 3158\n",
      "3120 1206\n",
      "3120 2592\n",
      "3120 371\n",
      "923 3216\n",
      "923 6541\n",
      "923 4675\n",
      "923 7367\n",
      "923 3704\n",
      "923 7477\n",
      "923 927\n",
      "923 9706\n",
      "923 9670\n",
      "923 4303\n",
      "923 4565\n",
      "923 6819\n",
      "923 10837\n",
      "3965 8563\n",
      "3965 3111\n",
      "194 523\n",
      "194 5940\n",
      "194 14645\n",
      "194 19011\n",
      "194 19333\n",
      "354 1142\n",
      "528 570\n",
      "997 9639\n",
      "997 5565\n",
      "997 4177\n",
      "997 2929\n",
      "997 13301\n",
      "997 3994\n",
      "997 14144\n",
      "1305 913\n",
      "1116 3265\n",
      "1116 534\n",
      "36 2157\n",
      "36 15009\n",
      "3153 5625\n",
      "5323 8435\n",
      "4325 108\n",
      "4325 1201\n",
      "4325 4986\n",
      "4325 1234\n",
      "1170 5772\n",
      "1896 47\n",
      "2203 3295\n",
      "2203 7236\n",
      "3826 2276\n",
      "3826 3347\n",
      "3094 1147\n",
      "3094 1026\n",
      "3094 1878\n",
      "1931 2286\n",
      "1931 4161\n",
      "1931 3922\n",
      "1931 2441\n",
      "1931 3019\n",
      "1931 1829\n",
      "1931 4013\n",
      "1931 3799\n",
      "1931 4709\n",
      "1931 3781\n",
      "1931 1189\n",
      "1931 2769\n",
      "1931 6366\n",
      "1931 1534\n",
      "4457 802\n",
      "4457 60\n",
      "4457 983\n",
      "154 3180\n",
      "154 9091\n",
      "4302 7133\n",
      "5749 1183\n",
      "5085 14662\n",
      "5085 1798\n",
      "5085 165\n",
      "5085 6414\n",
      "5085 7221\n",
      "5085 1631\n",
      "5085 2257\n",
      "5085 335\n",
      "5085 7389\n",
      "5085 6555\n",
      "5531 314\n",
      "5710 1201\n",
      "4294 2047\n",
      "4294 2848\n",
      "4749 2649\n",
      "2504 2392\n",
      "2504 2313\n",
      "3927 7127\n",
      "3927 1149\n",
      "3927 9538\n",
      "3927 10692\n",
      "3927 35\n",
      "3927 8889\n",
      "3927 9833\n",
      "3927 5546\n",
      "3927 11146\n",
      "3927 12367\n",
      "3927 4996\n",
      "3927 1227\n",
      "3927 13643\n",
      "3927 1302\n",
      "3927 5402\n",
      "3927 7717\n",
      "3927 10215\n",
      "3927 14788\n",
      "3927 14452\n",
      "3927 14814\n",
      "3927 13860\n",
      "3927 15319\n",
      "3927 6392\n",
      "3927 13590\n",
      "3927 6009\n",
      "3927 17931\n",
      "3927 18025\n",
      "3927 6848\n",
      "3927 17921\n",
      "3927 13693\n",
      "3927 5830\n",
      "3927 22393\n",
      "3927 10957\n",
      "5521 219\n",
      "5521 2518\n",
      "5521 5035\n",
      "175 7662\n",
      "2356 2743\n",
      "2356 3722\n",
      "2356 3740\n",
      "2356 2010\n",
      "2450 3828\n",
      "2450 1524\n",
      "2450 983\n",
      "2450 3366\n",
      "2450 408\n",
      "2450 528\n",
      "2450 417\n",
      "2450 4624\n",
      "2450 470\n",
      "5410 3099\n",
      "5410 160\n",
      "5410 1\n",
      "5410 3412\n",
      "5410 1255\n",
      "5410 1806\n",
      "5410 979\n",
      "5410 3440\n",
      "5410 3635\n",
      "5410 3311\n",
      "5410 3693\n",
      "5410 1084\n",
      "5410 4385\n",
      "5410 4933\n",
      "5410 5320\n",
      "5410 6250\n",
      "5410 6055\n",
      "5410 7385\n",
      "5410 4828\n",
      "1104 5422\n",
      "1104 14468\n",
      "1104 14783\n",
      "1104 1206\n",
      "1104 1787\n",
      "1104 15722\n",
      "1104 15627\n",
      "1104 16567\n",
      "1104 3933\n",
      "1104 12730\n",
      "1104 12246\n",
      "1104 17431\n",
      "1104 17880\n",
      "1104 263\n",
      "2136 2186\n",
      "3752 456\n",
      "4164 1715\n",
      "1362 3693\n",
      "1362 1980\n",
      "1362 2734\n",
      "1362 248\n",
      "1362 1631\n",
      "1362 1615\n",
      "1362 1524\n",
      "1362 2121\n",
      "1362 3670\n",
      "1362 4600\n",
      "1362 5275\n",
      "1362 6254\n",
      "1362 7514\n",
      "69 367\n",
      "450 10275\n",
      "450 20364\n",
      "3366 3485\n",
      "3366 1649\n",
      "3366 106\n",
      "3366 0\n",
      "3366 2651\n",
      "3366 70\n",
      "3366 2294\n",
      "3366 2714\n",
      "5779 5447\n",
      "1938 1085\n",
      "1841 1955\n",
      "1841 7073\n",
      "1107 864\n",
      "1107 3982\n",
      "1107 6465\n",
      "1107 107\n",
      "1107 1165\n",
      "1107 162\n",
      "1107 10514\n",
      "1107 68\n",
      "1107 10815\n",
      "1107 9772\n",
      "1107 11468\n",
      "1107 23180\n",
      "1107 9839\n",
      "5737 3933\n",
      "5737 3643\n",
      "5737 1231\n",
      "278 4033\n",
      "278 1836\n",
      "278 2948\n"
     ]
    }
   ],
   "source": [
    "hitcount = 0\n",
    "for i, row in predictions.iterrows():\n",
    "    for true_item in row.true_seq:\n",
    "        if true_item in row.pred_seq:\n",
    "            hitcount += 1\n",
    "            print(row.user, true_item)"
   ]
  },
  {
   "cell_type": "code",
   "execution_count": 81,
   "metadata": {},
   "outputs": [
    {
     "data": {
      "text/plain": [
       "485"
      ]
     },
     "execution_count": 81,
     "metadata": {},
     "output_type": "execute_result"
    }
   ],
   "source": [
    "hitcount"
   ]
  },
  {
   "cell_type": "markdown",
   "metadata": {},
   "source": [
    "# Appendix"
   ]
  },
  {
   "cell_type": "code",
   "execution_count": null,
   "metadata": {},
   "outputs": [],
   "source": [
    "# oh_input = tf.keras.backend.one_hot(padded, n_items)\n",
    "# e = tf.keras.layers.Embedding(n_items, 100, input_length=max_l)"
   ]
  }
 ],
 "metadata": {
  "kernelspec": {
   "display_name": "Python 3",
   "language": "python",
   "name": "python3"
  },
  "language_info": {
   "codemirror_mode": {
    "name": "ipython",
    "version": 3
   },
   "file_extension": ".py",
   "mimetype": "text/x-python",
   "name": "python",
   "nbconvert_exporter": "python",
   "pygments_lexer": "ipython3",
   "version": "3.7.6"
  },
  "toc": {
   "base_numbering": 1,
   "nav_menu": {},
   "number_sections": true,
   "sideBar": true,
   "skip_h1_title": false,
   "title_cell": "Table of Contents",
   "title_sidebar": "Contents",
   "toc_cell": false,
   "toc_position": {
    "height": "375.742px",
    "left": "1048.75px",
    "top": "110.57px",
    "width": "200.295px"
   },
   "toc_section_display": true,
   "toc_window_display": true
  }
 },
 "nbformat": 4,
 "nbformat_minor": 2
}
