{
 "cells": [
  {
   "cell_type": "code",
   "execution_count": 2,
   "metadata": {
    "colab": {},
    "colab_type": "code",
    "id": "GKmM1TG-c-TS"
   },
   "outputs": [
    {
     "name": "stdout",
     "output_type": "stream",
     "text": [
      "The autoreload extension is already loaded. To reload it, use:\n",
      "  %reload_ext autoreload\n"
     ]
    }
   ],
   "source": [
    "import pandas as pd\n",
    "import numpy as np\n",
    "import tensorflow as tf\n",
    "import matplotlib.pyplot as plt\n",
    "import os\n",
    "%load_ext autoreload\n",
    "%autoreload 2\n",
    "# print('TF version:', tf.__version__ , '\\nGPU available:', tf.config.list_physical_devices('GPU'))"
   ]
  },
  {
   "cell_type": "markdown",
   "metadata": {
    "colab_type": "text",
    "id": "dCYwnVWQc-Te"
   },
   "source": [
    "# Read Data\n",
    "- all datasets are datetime sorted"
   ]
  },
  {
   "cell_type": "code",
   "execution_count": 3,
   "metadata": {
    "colab": {},
    "colab_type": "code",
    "id": "8zDM1sWVc-Tf"
   },
   "outputs": [],
   "source": [
    "# path = 'C:/Users/robin.opdam/Google Drive/Thesis (Msc)/Thesis_shared_files/'\n",
    "# path = '/Users/Robin/Google Drive/Thesis (Msc)/Thesis_shared_files/'\n",
    "path = '../' # Paperspace"
   ]
  },
  {
   "cell_type": "markdown",
   "metadata": {
    "colab_type": "text",
    "id": "D8KT8aimc-Tj"
   },
   "source": [
    "## Amazon Fashion "
   ]
  },
  {
   "cell_type": "code",
   "execution_count": 6,
   "metadata": {
    "colab": {},
    "colab_type": "code",
    "id": "l62L3lv-c-Tj"
   },
   "outputs": [],
   "source": [
    "data_path = 'Data/Amazon/' # Paperspace\n",
    "file_name = 'am_40k_users'\n",
    "# data_path = 'Data/Amazon/'\n",
    "# file_name = 'Amazon_01_users'\n",
    "# file_name = 'am_like_ml_01'"
   ]
  },
  {
   "cell_type": "markdown",
   "metadata": {
    "colab_type": "text",
    "id": "pLo0gKuEc-Tn"
   },
   "source": [
    "## MovieLens "
   ]
  },
  {
   "cell_type": "code",
   "execution_count": 4,
   "metadata": {
    "colab": {},
    "colab_type": "code",
    "id": "zbxNjxJFc-To"
   },
   "outputs": [],
   "source": [
    "data_path = 'datasets/' # Paperspace\n",
    "file_name = 'ml_1m'\n",
    "# data_path = 'Data/ML/'\n",
    "# file_name = 'ML_05_users'\n",
    "# file_name = 'ML_01_users'"
   ]
  },
  {
   "cell_type": "code",
   "execution_count": 7,
   "metadata": {
    "colab": {
     "base_uri": "https://localhost:8080/",
     "height": 204
    },
    "colab_type": "code",
    "executionInfo": {
     "elapsed": 487,
     "status": "ok",
     "timestamp": 1586364387222,
     "user": {
      "displayName": "Robin Opdam",
      "photoUrl": "",
      "userId": "15967290835659268034"
     },
     "user_tz": -120
    },
    "id": "O8lLdQE-c-Ts",
    "outputId": "03b7ad73-f0bb-41c5-f083-7571ba3c53d8"
   },
   "outputs": [
    {
     "data": {
      "text/html": [
       "<div>\n",
       "<style scoped>\n",
       "    .dataframe tbody tr th:only-of-type {\n",
       "        vertical-align: middle;\n",
       "    }\n",
       "\n",
       "    .dataframe tbody tr th {\n",
       "        vertical-align: top;\n",
       "    }\n",
       "\n",
       "    .dataframe thead th {\n",
       "        text-align: right;\n",
       "    }\n",
       "</style>\n",
       "<table border=\"1\" class=\"dataframe\">\n",
       "  <thead>\n",
       "    <tr style=\"text-align: right;\">\n",
       "      <th></th>\n",
       "      <th>user</th>\n",
       "      <th>item</th>\n",
       "      <th>datetime</th>\n",
       "      <th>rating</th>\n",
       "      <th>user_id</th>\n",
       "      <th>item_id</th>\n",
       "    </tr>\n",
       "  </thead>\n",
       "  <tbody>\n",
       "    <tr>\n",
       "      <th>1845392</th>\n",
       "      <td>AGYA6NBNU1VUH</td>\n",
       "      <td>B0020B4EYU</td>\n",
       "      <td>2015-04-14</td>\n",
       "      <td>3.0</td>\n",
       "      <td>34371</td>\n",
       "      <td>11002</td>\n",
       "    </tr>\n",
       "    <tr>\n",
       "      <th>919114</th>\n",
       "      <td>AGYA6NBNU1VUH</td>\n",
       "      <td>B0000ZFDD4</td>\n",
       "      <td>2015-04-14</td>\n",
       "      <td>3.0</td>\n",
       "      <td>34371</td>\n",
       "      <td>179</td>\n",
       "    </tr>\n",
       "    <tr>\n",
       "      <th>5872323</th>\n",
       "      <td>AGYA6NBNU1VUH</td>\n",
       "      <td>B00KR6I6IK</td>\n",
       "      <td>2015-04-14</td>\n",
       "      <td>5.0</td>\n",
       "      <td>34371</td>\n",
       "      <td>75683</td>\n",
       "    </tr>\n",
       "    <tr>\n",
       "      <th>1237107</th>\n",
       "      <td>AGYA6NBNU1VUH</td>\n",
       "      <td>B0000ZFDD4</td>\n",
       "      <td>2015-04-14</td>\n",
       "      <td>3.0</td>\n",
       "      <td>34371</td>\n",
       "      <td>179</td>\n",
       "    </tr>\n",
       "    <tr>\n",
       "      <th>9971633</th>\n",
       "      <td>AGYA6NBNU1VUH</td>\n",
       "      <td>B008GXBRNM</td>\n",
       "      <td>2015-12-20</td>\n",
       "      <td>5.0</td>\n",
       "      <td>34371</td>\n",
       "      <td>35964</td>\n",
       "    </tr>\n",
       "  </tbody>\n",
       "</table>\n",
       "</div>"
      ],
      "text/plain": [
       "                  user        item   datetime  rating  user_id  item_id\n",
       "1845392  AGYA6NBNU1VUH  B0020B4EYU 2015-04-14     3.0    34371    11002\n",
       "919114   AGYA6NBNU1VUH  B0000ZFDD4 2015-04-14     3.0    34371      179\n",
       "5872323  AGYA6NBNU1VUH  B00KR6I6IK 2015-04-14     5.0    34371    75683\n",
       "1237107  AGYA6NBNU1VUH  B0000ZFDD4 2015-04-14     3.0    34371      179\n",
       "9971633  AGYA6NBNU1VUH  B008GXBRNM 2015-12-20     5.0    34371    35964"
      ]
     },
     "execution_count": 7,
     "metadata": {},
     "output_type": "execute_result"
    }
   ],
   "source": [
    "df = pd.read_pickle(path + data_path + file_name)\n",
    "total_users = df.user_id.nunique()\n",
    "total_items = df.item_id.nunique()\n",
    "df.head()"
   ]
  },
  {
   "cell_type": "markdown",
   "metadata": {
    "colab_type": "text",
    "id": "pWbRJiusc-U4"
   },
   "source": [
    "---\n",
    "# LSTM Model\n",
    "Collaborative Filtering with Recurrent Neural Networks\n",
    "- paper: https://arxiv.org/pdf/1608.07400.pdf\n",
    "- code: https://github.com/rdevooght/sequence-based-recommendations (in Theano)"
   ]
  },
  {
   "cell_type": "markdown",
   "metadata": {},
   "source": [
    "## Init"
   ]
  },
  {
   "cell_type": "code",
   "execution_count": null,
   "metadata": {},
   "outputs": [],
   "source": [
    "res_ext = file_name[:2]\n",
    "all_models = pd.read_pickle(path + 'results/' + res_ext + '/all_models')"
   ]
  },
  {
   "cell_type": "code",
   "execution_count": 9,
   "metadata": {},
   "outputs": [
    {
     "name": "stdout",
     "output_type": "stream",
     "text": [
      "new model id: 0_am\n"
     ]
    }
   ],
   "source": [
    "res_ext = file_name[:2]\n",
    "new_model_id = str(0) + '_' + res_ext\n",
    "print('new model id:', new_model_id)"
   ]
  },
  {
   "cell_type": "code",
   "execution_count": 22,
   "metadata": {},
   "outputs": [],
   "source": [
    "params = {\n",
    "'model_id':new_model_id,\n",
    "'train_time':0,\n",
    "'epochs':200,\n",
    "'BATCH_SIZE':32,\n",
    "'learning_rate':0.1,\n",
    "'delta':0.01,             # Diversity Bias\n",
    "'max_seq_len':30,        # Max length of sequence71=median\n",
    "'embedding_dim':100,\n",
    "'rnn_units':20,\n",
    "'ckpt_dir': '../CFRNN_storage/ckpts/ckpts',\n",
    "\n",
    "'test_users': 2000,\n",
    "'val_users': 1000,\n",
    "\n",
    "'pad_value':total_items, # Pad with total_items+1 => masked => still use item 0\n",
    "'shift_targets_by':1     \n",
    "}"
   ]
  },
  {
   "cell_type": "code",
   "execution_count": 18,
   "metadata": {},
   "outputs": [],
   "source": [
    "from CFRNN import CFRNN\n",
    "cfrnn = CFRNN(total_users, total_items, params)"
   ]
  },
  {
   "cell_type": "markdown",
   "metadata": {},
   "source": [
    "## Create Train Test Split"
   ]
  },
  {
   "cell_type": "code",
   "execution_count": 39,
   "metadata": {},
   "outputs": [],
   "source": [
    "train_set = pd.read_pickle(path + 'datasets/train_set_ml_cfrnn')\n",
    "test_set = pd.read_pickle(path + 'datasets/test_set_ml_cfrnn')\n",
    "val_set = pd.read_pickle(path + 'datasets/val_set_ml_cfrnn')"
   ]
  },
  {
   "cell_type": "code",
   "execution_count": 19,
   "metadata": {},
   "outputs": [],
   "source": [
    "train_set, test_set = cfrnn.data_split(df)\n",
    "train_set, val_set = cfrnn.data_split(train_set, val=True)"
   ]
  },
  {
   "cell_type": "code",
   "execution_count": 41,
   "metadata": {},
   "outputs": [],
   "source": [
    "train_dataset = cfrnn.create_seq_batch_tf_dataset(train_set, stats=False)\n",
    "val_dataset = cfrnn.create_seq_batch_tf_dataset(val_set, stats=False)"
   ]
  },
  {
   "cell_type": "code",
   "execution_count": 26,
   "metadata": {},
   "outputs": [],
   "source": [
    "train_set.to_pickle(path + f'Data/Amazon/{file_name}_train_cfrnn')\n",
    "test_set.to_pickle(path + f'Data/Amazon/{file_name}_test_cfrnn')\n",
    "val_set.to_pickle(path + f'Data/Amazon/{file_name}_val_cfrnn')"
   ]
  },
  {
   "cell_type": "markdown",
   "metadata": {
    "colab_type": "text",
    "id": "5uHkY9zyc-VA"
   },
   "source": [
    "## Build Model"
   ]
  },
  {
   "cell_type": "code",
   "execution_count": 42,
   "metadata": {},
   "outputs": [
    {
     "name": "stdout",
     "output_type": "stream",
     "text": [
      "Creating Diveristy Bias\n",
      "Compiled LSTM\n"
     ]
    }
   ],
   "source": [
    "cfrnn.build_model(summary=False)\n",
    "cfrnn.compile_model(train_set=train_set)"
   ]
  },
  {
   "cell_type": "markdown",
   "metadata": {
    "colab_type": "text",
    "id": "9mzqTsiqc-Vc"
   },
   "source": [
    "---\n",
    "# Train Model"
   ]
  },
  {
   "cell_type": "code",
   "execution_count": 43,
   "metadata": {},
   "outputs": [
    {
     "name": "stdout",
     "output_type": "stream",
     "text": [
      "#Batches: 141\n",
      "Batch size: 32\n"
     ]
    }
   ],
   "source": [
    "print('#Batches:', tf.data.experimental.cardinality(train_dataset).numpy())\n",
    "print('Batch size:', cfrnn.batch_size)"
   ]
  },
  {
   "cell_type": "code",
   "execution_count": 44,
   "metadata": {},
   "outputs": [],
   "source": [
    "# cfrnn.epochs = 10"
   ]
  },
  {
   "cell_type": "code",
   "execution_count": 45,
   "metadata": {},
   "outputs": [
    {
     "name": "stdout",
     "output_type": "stream",
     "text": [
      "Fitting LSTM with parameters:\n",
      "model_id                                    0_ml\n",
      "train_time                                     0\n",
      "epochs                                       200\n",
      "BATCH_SIZE                                    32\n",
      "learning_rate                                0.1\n",
      "delta                                       0.01\n",
      "max_seq_len                                   30\n",
      "embedding_dim                                100\n",
      "rnn_units                                     20\n",
      "ckpt_dir            ../CFRNN_storage/ckpts/ckpts\n",
      "test_users                                  1000\n",
      "val_users                                    500\n",
      "pad_value                                   3706\n",
      "shift_targets_by                               1\n",
      "Name: 0, dtype: object\n",
      "Train for 141 steps, validate for 15 steps\n",
      "Epoch 1/200\n",
      "141/141 [==============================] - 4s 31ms/step - loss: 7.7500 - recall: 0.0000e+00 - val_loss: 7.7546 - val_recall: 0.0000e+00\n",
      "Epoch 2/200\n",
      "141/141 [==============================] - 2s 11ms/step - loss: 7.7104 - recall: 5.6476e-05 - val_loss: 7.6964 - val_recall: 4.4206e-04\n",
      "Epoch 3/200\n",
      "141/141 [==============================] - 1s 10ms/step - loss: 7.6096 - recall: 0.0103 - val_loss: 7.5463 - val_recall: 0.0285\n",
      "Epoch 4/200\n",
      "141/141 [==============================] - 1s 10ms/step - loss: 7.4138 - recall: 0.0591 - val_loss: 7.3566 - val_recall: 0.0880\n",
      "Epoch 5/200\n",
      "141/141 [==============================] - 1s 11ms/step - loss: 7.2646 - recall: 0.1108 - val_loss: 7.2607 - val_recall: 0.1292\n",
      "Epoch 6/200\n",
      "141/141 [==============================] - 1s 10ms/step - loss: 7.1892 - recall: 0.1429 - val_loss: 7.2105 - val_recall: 0.1567\n",
      "Epoch 7/200\n",
      "141/141 [==============================] - 2s 11ms/step - loss: 7.1466 - recall: 0.1656 - val_loss: 7.1803 - val_recall: 0.1755\n",
      "Epoch 8/200\n",
      "141/141 [==============================] - 1s 10ms/step - loss: 7.1197 - recall: 0.1834 - val_loss: 7.1604 - val_recall: 0.1914\n",
      "Epoch 9/200\n",
      "141/141 [==============================] - 1s 10ms/step - loss: 7.1012 - recall: 0.1978 - val_loss: 7.1463 - val_recall: 0.2044\n",
      "Epoch 10/200\n",
      "141/141 [==============================] - 2s 11ms/step - loss: 7.0878 - recall: 0.2102 - val_loss: 7.1358 - val_recall: 0.2149\n",
      "Epoch 11/200\n",
      "141/141 [==============================] - 1s 10ms/step - loss: 7.0776 - recall: 0.2203 - val_loss: 7.1277 - val_recall: 0.2255\n",
      "Epoch 12/200\n",
      "141/141 [==============================] - 1s 11ms/step - loss: 7.0696 - recall: 0.2304 - val_loss: 7.1213 - val_recall: 0.2367\n",
      "Epoch 13/200\n",
      "141/141 [==============================] - 1s 10ms/step - loss: 7.0632 - recall: 0.2392 - val_loss: 7.1161 - val_recall: 0.2428\n",
      "Epoch 14/200\n",
      "141/141 [==============================] - 2s 11ms/step - loss: 7.0580 - recall: 0.2456 - val_loss: 7.1118 - val_recall: 0.2492\n",
      "Epoch 15/200\n",
      "141/141 [==============================] - 1s 11ms/step - loss: 7.0536 - recall: 0.2513 - val_loss: 7.1082 - val_recall: 0.2544\n",
      "Epoch 16/200\n",
      "141/141 [==============================] - 1s 10ms/step - loss: 7.0498 - recall: 0.2568 - val_loss: 7.1052 - val_recall: 0.2596\n",
      "Epoch 17/200\n",
      "141/141 [==============================] - 2s 11ms/step - loss: 7.0466 - recall: 0.2614 - val_loss: 7.1025 - val_recall: 0.2635\n",
      "Epoch 18/200\n",
      "141/141 [==============================] - 1s 10ms/step - loss: 7.0438 - recall: 0.2659 - val_loss: 7.1003 - val_recall: 0.2682\n",
      "Epoch 19/200\n",
      "141/141 [==============================] - 1s 10ms/step - loss: 7.0414 - recall: 0.2701 - val_loss: 7.0983 - val_recall: 0.2729\n",
      "Epoch 20/200\n",
      "141/141 [==============================] - 1s 10ms/step - loss: 7.0392 - recall: 0.2740 - val_loss: 7.0965 - val_recall: 0.2765\n",
      "Epoch 21/200\n",
      "141/141 [==============================] - 2s 11ms/step - loss: 7.0373 - recall: 0.2773 - val_loss: 7.0950 - val_recall: 0.2785\n",
      "Epoch 22/200\n",
      "141/141 [==============================] - 1s 11ms/step - loss: 7.0356 - recall: 0.2799 - val_loss: 7.0936 - val_recall: 0.2809\n",
      "Epoch 23/200\n",
      "141/141 [==============================] - 1s 10ms/step - loss: 7.0341 - recall: 0.2821 - val_loss: 7.0924 - val_recall: 0.2830\n",
      "Epoch 24/200\n",
      "141/141 [==============================] - 2s 11ms/step - loss: 7.0327 - recall: 0.2840 - val_loss: 7.0912 - val_recall: 0.2848\n",
      "Epoch 25/200\n",
      "141/141 [==============================] - 2s 11ms/step - loss: 7.0314 - recall: 0.2857 - val_loss: 7.0902 - val_recall: 0.2869\n",
      "Epoch 26/200\n",
      "141/141 [==============================] - 1s 10ms/step - loss: 7.0302 - recall: 0.2870 - val_loss: 7.0893 - val_recall: 0.2879\n",
      "Epoch 27/200\n",
      "141/141 [==============================] - 1s 10ms/step - loss: 7.0292 - recall: 0.2882 - val_loss: 7.0885 - val_recall: 0.2888\n",
      "Epoch 28/200\n",
      "141/141 [==============================] - 1s 11ms/step - loss: 7.0282 - recall: 0.2890 - val_loss: 7.0877 - val_recall: 0.2896\n",
      "Epoch 29/200\n",
      "141/141 [==============================] - 2s 11ms/step - loss: 7.0273 - recall: 0.2897 - val_loss: 7.0870 - val_recall: 0.2905\n",
      "Epoch 30/200\n",
      "141/141 [==============================] - 1s 10ms/step - loss: 7.0264 - recall: 0.2902 - val_loss: 7.0863 - val_recall: 0.2908\n",
      "Epoch 31/200\n",
      "141/141 [==============================] - 2s 11ms/step - loss: 7.0256 - recall: 0.2906 - val_loss: 7.0857 - val_recall: 0.2912\n",
      "Epoch 32/200\n",
      "141/141 [==============================] - 1s 10ms/step - loss: 7.0249 - recall: 0.2909 - val_loss: 7.0851 - val_recall: 0.2913\n",
      "Epoch 33/200\n",
      "141/141 [==============================] - 2s 11ms/step - loss: 7.0242 - recall: 0.2910 - val_loss: 7.0846 - val_recall: 0.2914\n",
      "Epoch 34/200\n",
      "141/141 [==============================] - 1s 10ms/step - loss: 7.0236 - recall: 0.2911 - val_loss: 7.0841 - val_recall: 0.2914\n",
      "Epoch 35/200\n",
      "141/141 [==============================] - 1s 11ms/step - loss: 7.0230 - recall: 0.2911 - val_loss: 7.0837 - val_recall: 0.2912\n",
      "Epoch 36/200\n",
      "141/141 [==============================] - 1s 11ms/step - loss: 7.0224 - recall: 0.2910 - val_loss: 7.0832 - val_recall: 0.2912\n",
      "Epoch 37/200\n",
      "141/141 [==============================] - 1s 11ms/step - loss: 7.0219 - recall: 0.2908 - val_loss: 7.0828 - val_recall: 0.2912\n",
      "Epoch 38/200\n",
      "141/141 [==============================] - 2s 11ms/step - loss: 7.0214 - recall: 0.2905 - val_loss: 7.0825 - val_recall: 0.2910\n",
      "Epoch 39/200\n",
      "141/141 [==============================] - 2s 11ms/step - loss: 7.0209 - recall: 0.2902 - val_loss: 7.0821 - val_recall: 0.2905\n",
      "Epoch 40/200\n",
      "141/141 [==============================] - 1s 10ms/step - loss: 7.0204 - recall: 0.2898 - val_loss: 7.0818 - val_recall: 0.2900\n",
      "Epoch 41/200\n",
      "141/141 [==============================] - 1s 10ms/step - loss: 7.0200 - recall: 0.2893 - val_loss: 7.0814 - val_recall: 0.2891\n",
      "Epoch 42/200\n",
      "141/141 [==============================] - 2s 11ms/step - loss: 7.0196 - recall: 0.2888 - val_loss: 7.0811 - val_recall: 0.2884\n",
      "Epoch 43/200\n",
      "141/141 [==============================] - 2s 11ms/step - loss: 7.0192 - recall: 0.2882 - val_loss: 7.0808 - val_recall: 0.2876\n",
      "Epoch 44/200\n",
      "141/141 [==============================] - 1s 10ms/step - loss: 7.0188 - recall: 0.2875 - val_loss: 7.0806 - val_recall: 0.2871\n",
      "Epoch 45/200\n",
      "141/141 [==============================] - 1s 11ms/step - loss: 7.0185 - recall: 0.2868 - val_loss: 7.0803 - val_recall: 0.2864\n",
      "Epoch 46/200\n",
      "141/141 [==============================] - 1s 10ms/step - loss: 7.0181 - recall: 0.2861 - val_loss: 7.0801 - val_recall: 0.2861\n",
      "Epoch 47/200\n",
      "141/141 [==============================] - 1s 10ms/step - loss: 7.0178 - recall: 0.2853 - val_loss: 7.0798 - val_recall: 0.2854\n",
      "Epoch 48/200\n",
      "141/141 [==============================] - 1s 10ms/step - loss: 7.0175 - recall: 0.2845 - val_loss: 7.0796 - val_recall: 0.2841\n",
      "Epoch 49/200\n",
      "141/141 [==============================] - 2s 11ms/step - loss: 7.0172 - recall: 0.2836 - val_loss: 7.0794 - val_recall: 0.2832\n",
      "Epoch 50/200\n",
      "141/141 [==============================] - 2s 11ms/step - loss: 7.0169 - recall: 0.2827 - val_loss: 7.0792 - val_recall: 0.2822\n",
      "Epoch 51/200\n",
      "141/141 [==============================] - 1s 10ms/step - loss: 7.0167 - recall: 0.2818 - val_loss: 7.0790 - val_recall: 0.2815\n",
      "Epoch 52/200\n",
      "141/141 [==============================] - 1s 10ms/step - loss: 7.0164 - recall: 0.2808 - val_loss: 7.0788 - val_recall: 0.2799\n",
      "Epoch 53/200\n",
      "141/141 [==============================] - 1s 10ms/step - loss: 7.0161 - recall: 0.2797 - val_loss: 7.0786 - val_recall: 0.2798\n",
      "Epoch 54/200\n",
      "141/141 [==============================] - 1s 10ms/step - loss: 7.0159 - recall: 0.2784 - val_loss: 7.0784 - val_recall: 0.2786\n",
      "Epoch 55/200\n",
      "141/141 [==============================] - 1s 11ms/step - loss: 7.0157 - recall: 0.2771 - val_loss: 7.0782 - val_recall: 0.2776\n",
      "Epoch 56/200\n",
      "141/141 [==============================] - 2s 11ms/step - loss: 7.0154 - recall: 0.2759 - val_loss: 7.0781 - val_recall: 0.2758\n",
      "Epoch 57/200\n",
      "141/141 [==============================] - 2s 11ms/step - loss: 7.0152 - recall: 0.2745 - val_loss: 7.0779 - val_recall: 0.2746\n",
      "Epoch 58/200\n",
      "141/141 [==============================] - 1s 10ms/step - loss: 7.0150 - recall: 0.2733 - val_loss: 7.0778 - val_recall: 0.2728\n",
      "Epoch 59/200\n",
      "141/141 [==============================] - 1s 10ms/step - loss: 7.0148 - recall: 0.2719 - val_loss: 7.0776 - val_recall: 0.2717\n",
      "Epoch 60/200\n",
      "141/141 [==============================] - 1s 10ms/step - loss: 7.0146 - recall: 0.2706 - val_loss: 7.0775 - val_recall: 0.2706\n",
      "Epoch 61/200\n",
      "141/141 [==============================] - 1s 10ms/step - loss: 7.0144 - recall: 0.2694 - val_loss: 7.0773 - val_recall: 0.2689\n",
      "Epoch 62/200\n",
      "141/141 [==============================] - 1s 10ms/step - loss: 7.0142 - recall: 0.2682 - val_loss: 7.0772 - val_recall: 0.2681\n",
      "Epoch 63/200\n",
      "141/141 [==============================] - 2s 11ms/step - loss: 7.0140 - recall: 0.2669 - val_loss: 7.0771 - val_recall: 0.2661\n",
      "Epoch 64/200\n",
      "141/141 [==============================] - 1s 10ms/step - loss: 7.0139 - recall: 0.2656 - val_loss: 7.0769 - val_recall: 0.2646\n",
      "Epoch 65/200\n",
      "141/141 [==============================] - 1s 11ms/step - loss: 7.0137 - recall: 0.2642 - val_loss: 7.0768 - val_recall: 0.2638\n",
      "Epoch 66/200\n",
      "141/141 [==============================] - 1s 10ms/step - loss: 7.0135 - recall: 0.2630 - val_loss: 7.0767 - val_recall: 0.2630\n",
      "Epoch 67/200\n",
      "141/141 [==============================] - 2s 11ms/step - loss: 7.0134 - recall: 0.2618 - val_loss: 7.0766 - val_recall: 0.2616\n",
      "Epoch 68/200\n",
      "141/141 [==============================] - 1s 11ms/step - loss: 7.0132 - recall: 0.2606 - val_loss: 7.0765 - val_recall: 0.2594\n",
      "Epoch 69/200\n",
      "141/141 [==============================] - 1s 11ms/step - loss: 7.0131 - recall: 0.2592 - val_loss: 7.0764 - val_recall: 0.2583\n",
      "Epoch 70/200\n",
      "141/141 [==============================] - 2s 11ms/step - loss: 7.0129 - recall: 0.2577 - val_loss: 7.0763 - val_recall: 0.2573\n",
      "Epoch 71/200\n",
      "141/141 [==============================] - 1s 11ms/step - loss: 7.0128 - recall: 0.2564 - val_loss: 7.0762 - val_recall: 0.2559\n",
      "Epoch 72/200\n",
      "141/141 [==============================] - 1s 10ms/step - loss: 7.0126 - recall: 0.2552 - val_loss: 7.0761 - val_recall: 0.2544\n",
      "Epoch 73/200\n",
      "141/141 [==============================] - 2s 11ms/step - loss: 7.0125 - recall: 0.2538 - val_loss: 7.0760 - val_recall: 0.2534\n",
      "Epoch 74/200\n",
      "141/141 [==============================] - 2s 11ms/step - loss: 7.0124 - recall: 0.2527 - val_loss: 7.0759 - val_recall: 0.2524\n",
      "Epoch 75/200\n",
      "141/141 [==============================] - 1s 10ms/step - loss: 7.0122 - recall: 0.2517 - val_loss: 7.0758 - val_recall: 0.2513\n",
      "Epoch 76/200\n",
      "141/141 [==============================] - 1s 10ms/step - loss: 7.0121 - recall: 0.2507 - val_loss: 7.0757 - val_recall: 0.2509\n",
      "Epoch 77/200\n",
      "141/141 [==============================] - 2s 11ms/step - loss: 7.0120 - recall: 0.2497 - val_loss: 7.0756 - val_recall: 0.2489\n",
      "Epoch 78/200\n",
      "141/141 [==============================] - 1s 11ms/step - loss: 7.0119 - recall: 0.2487 - val_loss: 7.0755 - val_recall: 0.2483\n",
      "Epoch 79/200\n",
      "141/141 [==============================] - 1s 10ms/step - loss: 7.0117 - recall: 0.2477 - val_loss: 7.0754 - val_recall: 0.2475\n",
      "Epoch 80/200\n",
      "141/141 [==============================] - 1s 11ms/step - loss: 7.0116 - recall: 0.2466 - val_loss: 7.0754 - val_recall: 0.2471\n",
      "Epoch 81/200\n",
      "141/141 [==============================] - 2s 11ms/step - loss: 7.0115 - recall: 0.2455 - val_loss: 7.0753 - val_recall: 0.2461\n",
      "Epoch 82/200\n",
      "141/141 [==============================] - 1s 11ms/step - loss: 7.0114 - recall: 0.2443 - val_loss: 7.0752 - val_recall: 0.2448\n",
      "Epoch 83/200\n",
      "141/141 [==============================] - 1s 10ms/step - loss: 7.0113 - recall: 0.2431 - val_loss: 7.0751 - val_recall: 0.2425\n",
      "Epoch 84/200\n",
      "141/141 [==============================] - 2s 11ms/step - loss: 7.0112 - recall: 0.2419 - val_loss: 7.0751 - val_recall: 0.2421\n",
      "Epoch 85/200\n",
      "141/141 [==============================] - 1s 10ms/step - loss: 7.0111 - recall: 0.2405 - val_loss: 7.0750 - val_recall: 0.2401\n",
      "Epoch 86/200\n",
      "141/141 [==============================] - 1s 11ms/step - loss: 7.0110 - recall: 0.2389 - val_loss: 7.0749 - val_recall: 0.2388\n",
      "Epoch 87/200\n",
      "141/141 [==============================] - 1s 10ms/step - loss: 7.0109 - recall: 0.2373 - val_loss: 7.0749 - val_recall: 0.2371\n",
      "Epoch 88/200\n",
      "141/141 [==============================] - 2s 11ms/step - loss: 7.0108 - recall: 0.2358 - val_loss: 7.0748 - val_recall: 0.2360\n",
      "Epoch 89/200\n",
      "141/141 [==============================] - 2s 11ms/step - loss: 7.0107 - recall: 0.2344 - val_loss: 7.0747 - val_recall: 0.2347\n",
      "Epoch 90/200\n",
      "141/141 [==============================] - 1s 10ms/step - loss: 7.0106 - recall: 0.2329 - val_loss: 7.0747 - val_recall: 0.2335\n",
      "Epoch 91/200\n",
      "141/141 [==============================] - 2s 11ms/step - loss: 7.0105 - recall: 0.2311 - val_loss: 7.0746 - val_recall: 0.2307\n",
      "Epoch 92/200\n",
      "141/141 [==============================] - 1s 10ms/step - loss: 7.0104 - recall: 0.2295 - val_loss: 7.0745 - val_recall: 0.2289\n",
      "Epoch 93/200\n",
      "141/141 [==============================] - 1s 10ms/step - loss: 7.0103 - recall: 0.2278 - val_loss: 7.0745 - val_recall: 0.2267\n",
      "Epoch 94/200\n",
      "141/141 [==============================] - 1s 10ms/step - loss: 7.0103 - recall: 0.2261 - val_loss: 7.0744 - val_recall: 0.2240\n",
      "Epoch 95/200\n",
      "141/141 [==============================] - 2s 11ms/step - loss: 7.0102 - recall: 0.2246 - val_loss: 7.0744 - val_recall: 0.2225\n",
      "Epoch 96/200\n",
      "141/141 [==============================] - 1s 11ms/step - loss: 7.0101 - recall: 0.2234 - val_loss: 7.0743 - val_recall: 0.2217\n",
      "Epoch 97/200\n",
      "141/141 [==============================] - 1s 11ms/step - loss: 7.0100 - recall: 0.2223 - val_loss: 7.0742 - val_recall: 0.2205\n",
      "Epoch 98/200\n",
      "141/141 [==============================] - 2s 11ms/step - loss: 7.0099 - recall: 0.2212 - val_loss: 7.0742 - val_recall: 0.2199\n",
      "Epoch 99/200\n",
      "141/141 [==============================] - 1s 11ms/step - loss: 7.0099 - recall: 0.2203 - val_loss: 7.0741 - val_recall: 0.2191\n",
      "Epoch 100/200\n",
      "141/141 [==============================] - 1s 11ms/step - loss: 7.0098 - recall: 0.2194 - val_loss: 7.0741 - val_recall: 0.2186\n",
      "Epoch 101/200\n",
      "141/141 [==============================] - 1s 10ms/step - loss: 7.0097 - recall: 0.2183 - val_loss: 7.0740 - val_recall: 0.2182\n",
      "Epoch 102/200\n",
      "141/141 [==============================] - 1s 10ms/step - loss: 7.0096 - recall: 0.2171 - val_loss: 7.0740 - val_recall: 0.2166\n",
      "Epoch 103/200\n",
      "141/141 [==============================] - 1s 11ms/step - loss: 7.0096 - recall: 0.2159 - val_loss: 7.0739 - val_recall: 0.2146\n",
      "Epoch 104/200\n",
      "141/141 [==============================] - 1s 10ms/step - loss: 7.0095 - recall: 0.2145 - val_loss: 7.0739 - val_recall: 0.2131\n",
      "Epoch 105/200\n",
      "141/141 [==============================] - 2s 11ms/step - loss: 7.0094 - recall: 0.2131 - val_loss: 7.0738 - val_recall: 0.2116\n",
      "Epoch 106/200\n",
      "141/141 [==============================] - 1s 10ms/step - loss: 7.0093 - recall: 0.2117 - val_loss: 7.0738 - val_recall: 0.2099\n",
      "Epoch 107/200\n",
      "141/141 [==============================] - 2s 11ms/step - loss: 7.0093 - recall: 0.2103 - val_loss: 7.0737 - val_recall: 0.2088\n",
      "Epoch 108/200\n",
      "141/141 [==============================] - 1s 11ms/step - loss: 7.0092 - recall: 0.2090 - val_loss: 7.0737 - val_recall: 0.2075\n",
      "Epoch 109/200\n",
      "141/141 [==============================] - 1s 11ms/step - loss: 7.0091 - recall: 0.2075 - val_loss: 7.0736 - val_recall: 0.2057\n",
      "Epoch 110/200\n",
      "141/141 [==============================] - 1s 11ms/step - loss: 7.0091 - recall: 0.2061 - val_loss: 7.0736 - val_recall: 0.2046\n",
      "Epoch 111/200\n",
      "141/141 [==============================] - 1s 11ms/step - loss: 7.0090 - recall: 0.2048 - val_loss: 7.0735 - val_recall: 0.2036\n",
      "Epoch 112/200\n",
      "141/141 [==============================] - 2s 11ms/step - loss: 7.0090 - recall: 0.2035 - val_loss: 7.0735 - val_recall: 0.2027\n",
      "Epoch 113/200\n",
      "141/141 [==============================] - 1s 11ms/step - loss: 7.0089 - recall: 0.2022 - val_loss: 7.0735 - val_recall: 0.2017\n",
      "Epoch 114/200\n",
      "141/141 [==============================] - 2s 11ms/step - loss: 7.0088 - recall: 0.2009 - val_loss: 7.0734 - val_recall: 0.2008\n",
      "Epoch 115/200\n",
      "141/141 [==============================] - 2s 11ms/step - loss: 7.0088 - recall: 0.1995 - val_loss: 7.0734 - val_recall: 0.1998\n",
      "Epoch 116/200\n",
      "141/141 [==============================] - 2s 11ms/step - loss: 7.0087 - recall: 0.1982 - val_loss: 7.0733 - val_recall: 0.1987\n",
      "Epoch 117/200\n",
      "141/141 [==============================] - 1s 11ms/step - loss: 7.0087 - recall: 0.1969 - val_loss: 7.0733 - val_recall: 0.1971\n",
      "Epoch 118/200\n",
      "141/141 [==============================] - 1s 11ms/step - loss: 7.0086 - recall: 0.1957 - val_loss: 7.0733 - val_recall: 0.1961\n",
      "Epoch 119/200\n",
      "141/141 [==============================] - 2s 11ms/step - loss: 7.0085 - recall: 0.1947 - val_loss: 7.0732 - val_recall: 0.1948\n",
      "Epoch 120/200\n",
      "141/141 [==============================] - 2s 11ms/step - loss: 7.0085 - recall: 0.1937 - val_loss: 7.0732 - val_recall: 0.1942\n",
      "Epoch 121/200\n",
      "141/141 [==============================] - 1s 10ms/step - loss: 7.0084 - recall: 0.1927 - val_loss: 7.0731 - val_recall: 0.1926\n",
      "Epoch 122/200\n",
      "141/141 [==============================] - 2s 11ms/step - loss: 7.0084 - recall: 0.1915 - val_loss: 7.0731 - val_recall: 0.1910\n",
      "Epoch 123/200\n",
      "141/141 [==============================] - 1s 11ms/step - loss: 7.0083 - recall: 0.1902 - val_loss: 7.0731 - val_recall: 0.1900\n",
      "Epoch 124/200\n",
      "141/141 [==============================] - 1s 10ms/step - loss: 7.0083 - recall: 0.1889 - val_loss: 7.0730 - val_recall: 0.1890\n",
      "Epoch 125/200\n",
      "141/141 [==============================] - 1s 10ms/step - loss: 7.0082 - recall: 0.1877 - val_loss: 7.0730 - val_recall: 0.1884\n",
      "Epoch 126/200\n",
      "141/141 [==============================] - 2s 11ms/step - loss: 7.0082 - recall: 0.1866 - val_loss: 7.0730 - val_recall: 0.1875\n",
      "Epoch 127/200\n",
      "141/141 [==============================] - 1s 10ms/step - loss: 7.0081 - recall: 0.1855 - val_loss: 7.0729 - val_recall: 0.1852\n",
      "Epoch 128/200\n",
      "141/141 [==============================] - 1s 11ms/step - loss: 7.0081 - recall: 0.1844 - val_loss: 7.0729 - val_recall: 0.1838\n",
      "Epoch 129/200\n",
      "141/141 [==============================] - 2s 11ms/step - loss: 7.0080 - recall: 0.1833 - val_loss: 7.0729 - val_recall: 0.1826\n",
      "Epoch 130/200\n",
      "141/141 [==============================] - 2s 11ms/step - loss: 7.0080 - recall: 0.1822 - val_loss: 7.0728 - val_recall: 0.1818\n",
      "Epoch 131/200\n",
      "141/141 [==============================] - 1s 11ms/step - loss: 7.0079 - recall: 0.1809 - val_loss: 7.0728 - val_recall: 0.1805\n",
      "Epoch 132/200\n",
      "141/141 [==============================] - 1s 11ms/step - loss: 7.0079 - recall: 0.1797 - val_loss: 7.0728 - val_recall: 0.1797\n",
      "Epoch 133/200\n",
      "141/141 [==============================] - 2s 11ms/step - loss: 7.0078 - recall: 0.1786 - val_loss: 7.0727 - val_recall: 0.1791\n",
      "Epoch 134/200\n",
      "141/141 [==============================] - 1s 11ms/step - loss: 7.0078 - recall: 0.1776 - val_loss: 7.0727 - val_recall: 0.1783\n",
      "Epoch 135/200\n",
      "141/141 [==============================] - 2s 11ms/step - loss: 7.0077 - recall: 0.1765 - val_loss: 7.0727 - val_recall: 0.1767\n",
      "Epoch 136/200\n",
      "141/141 [==============================] - 2s 11ms/step - loss: 7.0077 - recall: 0.1754 - val_loss: 7.0726 - val_recall: 0.1756\n",
      "Epoch 137/200\n",
      "141/141 [==============================] - 1s 11ms/step - loss: 7.0076 - recall: 0.1744 - val_loss: 7.0726 - val_recall: 0.1743\n",
      "Epoch 138/200\n",
      "141/141 [==============================] - 1s 10ms/step - loss: 7.0076 - recall: 0.1735 - val_loss: 7.0726 - val_recall: 0.1735\n",
      "Epoch 139/200\n",
      "141/141 [==============================] - 2s 11ms/step - loss: 7.0075 - recall: 0.1724 - val_loss: 7.0725 - val_recall: 0.1720\n",
      "Epoch 140/200\n",
      "141/141 [==============================] - 2s 11ms/step - loss: 7.0075 - recall: 0.1713 - val_loss: 7.0725 - val_recall: 0.1714\n",
      "Epoch 141/200\n",
      "141/141 [==============================] - 1s 10ms/step - loss: 7.0074 - recall: 0.1701 - val_loss: 7.0725 - val_recall: 0.1703\n",
      "Epoch 142/200\n",
      "141/141 [==============================] - 1s 10ms/step - loss: 7.0074 - recall: 0.1689 - val_loss: 7.0724 - val_recall: 0.1690\n",
      "Epoch 143/200\n",
      "141/141 [==============================] - 1s 11ms/step - loss: 7.0074 - recall: 0.1677 - val_loss: 7.0724 - val_recall: 0.1679\n",
      "Epoch 144/200\n",
      "141/141 [==============================] - 1s 10ms/step - loss: 7.0073 - recall: 0.1665 - val_loss: 7.0724 - val_recall: 0.1666\n",
      "Epoch 145/200\n",
      "141/141 [==============================] - 1s 10ms/step - loss: 7.0073 - recall: 0.1655 - val_loss: 7.0724 - val_recall: 0.1661\n",
      "Epoch 146/200\n",
      "141/141 [==============================] - 1s 11ms/step - loss: 7.0072 - recall: 0.1647 - val_loss: 7.0723 - val_recall: 0.1646\n",
      "Epoch 147/200\n",
      "141/141 [==============================] - 2s 11ms/step - loss: 7.0072 - recall: 0.1638 - val_loss: 7.0723 - val_recall: 0.1642\n",
      "Epoch 148/200\n",
      "141/141 [==============================] - 1s 10ms/step - loss: 7.0071 - recall: 0.1628 - val_loss: 7.0723 - val_recall: 0.1628\n",
      "Epoch 149/200\n",
      "141/141 [==============================] - 1s 10ms/step - loss: 7.0071 - recall: 0.1617 - val_loss: 7.0723 - val_recall: 0.1618\n",
      "Epoch 150/200\n",
      "141/141 [==============================] - 1s 11ms/step - loss: 7.0071 - recall: 0.1605 - val_loss: 7.0722 - val_recall: 0.1609\n",
      "Epoch 151/200\n",
      "141/141 [==============================] - 1s 11ms/step - loss: 7.0070 - recall: 0.1595 - val_loss: 7.0722 - val_recall: 0.1596\n",
      "Epoch 152/200\n",
      "141/141 [==============================] - 1s 11ms/step - loss: 7.0070 - recall: 0.1585 - val_loss: 7.0722 - val_recall: 0.1588\n",
      "Epoch 153/200\n",
      "141/141 [==============================] - 2s 11ms/step - loss: 7.0069 - recall: 0.1575 - val_loss: 7.0721 - val_recall: 0.1575\n",
      "Epoch 154/200\n",
      "141/141 [==============================] - 2s 11ms/step - loss: 7.0069 - recall: 0.1563 - val_loss: 7.0721 - val_recall: 0.1562\n",
      "Epoch 155/200\n",
      "141/141 [==============================] - 1s 10ms/step - loss: 7.0069 - recall: 0.1550 - val_loss: 7.0721 - val_recall: 0.1553\n",
      "Epoch 156/200\n",
      "141/141 [==============================] - 1s 11ms/step - loss: 7.0068 - recall: 0.1535 - val_loss: 7.0721 - val_recall: 0.1538\n",
      "Epoch 157/200\n",
      "141/141 [==============================] - 1s 11ms/step - loss: 7.0068 - recall: 0.1522 - val_loss: 7.0720 - val_recall: 0.1522\n",
      "Epoch 158/200\n",
      "141/141 [==============================] - 1s 10ms/step - loss: 7.0068 - recall: 0.1511 - val_loss: 7.0720 - val_recall: 0.1506\n",
      "Epoch 159/200\n",
      "141/141 [==============================] - 1s 10ms/step - loss: 7.0067 - recall: 0.1498 - val_loss: 7.0720 - val_recall: 0.1500\n",
      "Epoch 160/200\n",
      "141/141 [==============================] - 1s 10ms/step - loss: 7.0067 - recall: 0.1487 - val_loss: 7.0720 - val_recall: 0.1487\n",
      "Epoch 161/200\n",
      "141/141 [==============================] - 2s 11ms/step - loss: 7.0066 - recall: 0.1476 - val_loss: 7.0719 - val_recall: 0.1477\n",
      "Epoch 162/200\n",
      "141/141 [==============================] - 1s 10ms/step - loss: 7.0066 - recall: 0.1464 - val_loss: 7.0719 - val_recall: 0.1461\n",
      "Epoch 163/200\n",
      "141/141 [==============================] - 2s 11ms/step - loss: 7.0066 - recall: 0.1451 - val_loss: 7.0719 - val_recall: 0.1443\n",
      "Epoch 164/200\n",
      "141/141 [==============================] - 1s 10ms/step - loss: 7.0065 - recall: 0.1438 - val_loss: 7.0719 - val_recall: 0.1432\n",
      "Epoch 165/200\n",
      "141/141 [==============================] - 1s 10ms/step - loss: 7.0065 - recall: 0.1427 - val_loss: 7.0718 - val_recall: 0.1420\n",
      "Epoch 166/200\n",
      "141/141 [==============================] - 1s 10ms/step - loss: 7.0064 - recall: 0.1417 - val_loss: 7.0718 - val_recall: 0.1406\n",
      "Epoch 167/200\n",
      "141/141 [==============================] - 1s 11ms/step - loss: 7.0064 - recall: 0.1405 - val_loss: 7.0718 - val_recall: 0.1398\n",
      "Epoch 168/200\n",
      "141/141 [==============================] - 2s 11ms/step - loss: 7.0064 - recall: 0.1392 - val_loss: 7.0718 - val_recall: 0.1387\n",
      "Epoch 169/200\n",
      "141/141 [==============================] - 1s 10ms/step - loss: 7.0063 - recall: 0.1381 - val_loss: 7.0717 - val_recall: 0.1377\n",
      "Epoch 170/200\n",
      "141/141 [==============================] - 1s 10ms/step - loss: 7.0063 - recall: 0.1371 - val_loss: 7.0717 - val_recall: 0.1357\n",
      "Epoch 171/200\n",
      "141/141 [==============================] - 1s 10ms/step - loss: 7.0063 - recall: 0.1361 - val_loss: 7.0717 - val_recall: 0.1354\n",
      "Epoch 172/200\n",
      "141/141 [==============================] - 2s 11ms/step - loss: 7.0062 - recall: 0.1350 - val_loss: 7.0717 - val_recall: 0.1341\n",
      "Epoch 173/200\n",
      "141/141 [==============================] - 1s 10ms/step - loss: 7.0062 - recall: 0.1341 - val_loss: 7.0716 - val_recall: 0.1333\n",
      "Epoch 174/200\n",
      "141/141 [==============================] - 1s 11ms/step - loss: 7.0062 - recall: 0.1333 - val_loss: 7.0716 - val_recall: 0.1327\n",
      "Epoch 175/200\n",
      "141/141 [==============================] - 2s 11ms/step - loss: 7.0061 - recall: 0.1325 - val_loss: 7.0716 - val_recall: 0.1318\n",
      "Epoch 176/200\n",
      "141/141 [==============================] - 1s 10ms/step - loss: 7.0061 - recall: 0.1317 - val_loss: 7.0716 - val_recall: 0.1310\n",
      "Epoch 177/200\n",
      "141/141 [==============================] - 1s 10ms/step - loss: 7.0060 - recall: 0.1309 - val_loss: 7.0715 - val_recall: 0.1305\n",
      "Epoch 178/200\n",
      "141/141 [==============================] - 1s 10ms/step - loss: 7.0060 - recall: 0.1301 - val_loss: 7.0715 - val_recall: 0.1296\n",
      "Epoch 179/200\n",
      "141/141 [==============================] - 1s 11ms/step - loss: 7.0060 - recall: 0.1293 - val_loss: 7.0715 - val_recall: 0.1295\n",
      "Epoch 180/200\n",
      "141/141 [==============================] - 1s 10ms/step - loss: 7.0059 - recall: 0.1284 - val_loss: 7.0715 - val_recall: 0.1284\n",
      "Epoch 181/200\n",
      "141/141 [==============================] - 1s 11ms/step - loss: 7.0059 - recall: 0.1274 - val_loss: 7.0714 - val_recall: 0.1268\n",
      "Epoch 182/200\n",
      "141/141 [==============================] - 2s 11ms/step - loss: 7.0059 - recall: 0.1263 - val_loss: 7.0714 - val_recall: 0.1254\n",
      "Epoch 183/200\n",
      "141/141 [==============================] - 1s 10ms/step - loss: 7.0058 - recall: 0.1252 - val_loss: 7.0714 - val_recall: 0.1246\n",
      "Epoch 184/200\n",
      "141/141 [==============================] - 1s 10ms/step - loss: 7.0058 - recall: 0.1240 - val_loss: 7.0714 - val_recall: 0.1232\n",
      "Epoch 185/200\n",
      "141/141 [==============================] - 1s 11ms/step - loss: 7.0057 - recall: 0.1227 - val_loss: 7.0713 - val_recall: 0.1220\n",
      "Epoch 186/200\n",
      "141/141 [==============================] - 2s 11ms/step - loss: 7.0057 - recall: 0.1214 - val_loss: 7.0713 - val_recall: 0.1206\n",
      "Epoch 187/200\n",
      "141/141 [==============================] - 1s 11ms/step - loss: 7.0057 - recall: 0.1201 - val_loss: 7.0713 - val_recall: 0.1197\n",
      "Epoch 188/200\n",
      "141/141 [==============================] - 1s 10ms/step - loss: 7.0056 - recall: 0.1188 - val_loss: 7.0713 - val_recall: 0.1185\n",
      "Epoch 189/200\n",
      "141/141 [==============================] - 1s 11ms/step - loss: 7.0056 - recall: 0.1176 - val_loss: 7.0712 - val_recall: 0.1172\n",
      "Epoch 190/200\n",
      "141/141 [==============================] - 1s 10ms/step - loss: 7.0055 - recall: 0.1164 - val_loss: 7.0712 - val_recall: 0.1162\n",
      "Epoch 191/200\n",
      "141/141 [==============================] - 1s 11ms/step - loss: 7.0055 - recall: 0.1153 - val_loss: 7.0712 - val_recall: 0.1153\n",
      "Epoch 192/200\n",
      "141/141 [==============================] - 1s 10ms/step - loss: 7.0055 - recall: 0.1140 - val_loss: 7.0711 - val_recall: 0.1130\n",
      "Epoch 193/200\n",
      "141/141 [==============================] - 2s 11ms/step - loss: 7.0054 - recall: 0.1127 - val_loss: 7.0711 - val_recall: 0.1124\n",
      "Epoch 194/200\n",
      "141/141 [==============================] - 1s 10ms/step - loss: 7.0054 - recall: 0.1115 - val_loss: 7.0711 - val_recall: 0.1113\n",
      "Epoch 195/200\n",
      "141/141 [==============================] - 1s 10ms/step - loss: 7.0053 - recall: 0.1105 - val_loss: 7.0711 - val_recall: 0.1101\n",
      "Epoch 196/200\n",
      "141/141 [==============================] - 1s 10ms/step - loss: 7.0053 - recall: 0.1093 - val_loss: 7.0710 - val_recall: 0.1094\n",
      "Epoch 197/200\n",
      "141/141 [==============================] - 2s 11ms/step - loss: 7.0052 - recall: 0.1083 - val_loss: 7.0710 - val_recall: 0.1086\n",
      "Epoch 198/200\n",
      "141/141 [==============================] - 2s 11ms/step - loss: 7.0052 - recall: 0.1071 - val_loss: 7.0710 - val_recall: 0.1075\n",
      "Epoch 199/200\n",
      "141/141 [==============================] - 1s 10ms/step - loss: 7.0052 - recall: 0.1060 - val_loss: 7.0709 - val_recall: 0.1054\n",
      "Epoch 200/200\n",
      "141/141 [==============================] - 1s 11ms/step - loss: 7.0051 - recall: 0.1049 - val_loss: 7.0709 - val_recall: 0.1040\n"
     ]
    },
    {
     "data": {
      "text/plain": [
       "(None,)"
      ]
     },
     "execution_count": 45,
     "metadata": {},
     "output_type": "execute_result"
    }
   ],
   "source": [
    "cfrnn.train(train_dataset, val_dataset, verbose=1, callback_names=['checkpoint', 'store_hist', 'timing']), "
   ]
  },
  {
   "cell_type": "markdown",
   "metadata": {},
   "source": [
    "## Plot Training Loss, Metrics"
   ]
  },
  {
   "cell_type": "code",
   "execution_count": 46,
   "metadata": {},
   "outputs": [
    {
     "data": {
      "image/png": "[encoded data removed]",
      "text/plain": [
       "<Figure size 432x288 with 1 Axes>"
      ]
     },
     "metadata": {
      "needs_background": "light"
     },
     "output_type": "display_data"
    },
    {
     "data": {
      "image/png": "[encoded data removed]",
      "text/plain": [
       "<Figure size 432x288 with 1 Axes>"
      ]
     },
     "metadata": {
      "needs_background": "light"
     },
     "output_type": "display_data"
    }
   ],
   "source": [
    "cfrnn.plot_training()"
   ]
  },
  {
   "cell_type": "markdown",
   "metadata": {
    "colab_type": "text",
    "id": "qG6qSlkuc-Vs"
   },
   "source": [
    "---\n",
    "## Continue training from checkpoint"
   ]
  },
  {
   "cell_type": "markdown",
   "metadata": {},
   "source": [
    "### Load Weights"
   ]
  },
  {
   "cell_type": "code",
   "execution_count": null,
   "metadata": {},
   "outputs": [],
   "source": [
    "cfrnn = CFRNN(total_users, total_items, params)\n",
    "cfrnn.build_model(ckpt_dir=cfrnn.ckpt_dir)\n",
    "cfrnn.compile_model()"
   ]
  },
  {
   "cell_type": "code",
   "execution_count": 23,
   "metadata": {
    "colab": {},
    "colab_type": "code",
    "id": "kisl-tXEc-V3"
   },
   "outputs": [],
   "source": [
    "init_epoch = 55\n",
    "cfrnn.params['epochs'] = 100\n",
    "cfrnn.epochs = 100"
   ]
  },
  {
   "cell_type": "markdown",
   "metadata": {},
   "source": [
    "### Continue Training"
   ]
  },
  {
   "cell_type": "code",
   "execution_count": null,
   "metadata": {},
   "outputs": [],
   "source": [
    "cfrnn.train(train_dataset, val_dataset, initial_epoch=init_epoch)"
   ]
  },
  {
   "cell_type": "markdown",
   "metadata": {
    "colab_type": "text",
    "id": "Ltj7HkPxc-V-"
   },
   "source": [
    "---\n",
    "# Predict Sequences"
   ]
  },
  {
   "cell_type": "code",
   "execution_count": 47,
   "metadata": {},
   "outputs": [],
   "source": [
    "from Evaluation import get_metrics"
   ]
  },
  {
   "cell_type": "markdown",
   "metadata": {
    "colab_type": "text",
    "id": "2Spy42iNc-V_"
   },
   "source": [
    "## Restore Latest Checkpoints"
   ]
  },
  {
   "cell_type": "code",
   "execution_count": 48,
   "metadata": {},
   "outputs": [],
   "source": [
    "test_half_indices = []\n",
    "pred_half_indices = []\n",
    "for user_id in test_set.user_id.unique():\n",
    "    df_user = test_set[test_set['user_id'] == user_id]\n",
    "#     split = np.array_split(df_user, 2)\n",
    "#     test_half_indices.extend(split[0].index)\n",
    "#     pred_half_indices.extend(split[1].index[:1])\n",
    "    test_half_indices.extend(df_user.iloc[:-1].index)\n",
    "    pred_half_indices.extend(df_user.iloc[-1:].index)\n",
    "    \n",
    "test_half = test_set.loc[test_half_indices]\n",
    "pred_half = test_set.loc[pred_half_indices]    "
   ]
  },
  {
   "cell_type": "code",
   "execution_count": 49,
   "metadata": {},
   "outputs": [],
   "source": [
    "preds_df = cfrnn.get_predictions(train_set, test_half, pred_half, batch_size = 1000, rank_at = 20, ckpt_dir = '../CFRNN_storage/ckpts')"
   ]
  },
  {
   "cell_type": "code",
   "execution_count": 164,
   "metadata": {},
   "outputs": [
    {
     "name": "stdout",
     "output_type": "stream",
     "text": [
      "Obtaining metrics time: 0.38\n"
     ]
    },
    {
     "data": {
      "text/html": [
       "<div>\n",
       "<style scoped>\n",
       "    .dataframe tbody tr th:only-of-type {\n",
       "        vertical-align: middle;\n",
       "    }\n",
       "\n",
       "    .dataframe tbody tr th {\n",
       "        vertical-align: top;\n",
       "    }\n",
       "\n",
       "    .dataframe thead th {\n",
       "        text-align: right;\n",
       "    }\n",
       "</style>\n",
       "<table border=\"1\" class=\"dataframe\">\n",
       "  <thead>\n",
       "    <tr style=\"text-align: right;\">\n",
       "      <th></th>\n",
       "      <th>rank_at</th>\n",
       "      <th>hitcounts</th>\n",
       "      <th>recall</th>\n",
       "      <th>precision</th>\n",
       "    </tr>\n",
       "  </thead>\n",
       "  <tbody>\n",
       "    <tr>\n",
       "      <th>0</th>\n",
       "      <td>1</td>\n",
       "      <td>4</td>\n",
       "      <td>0.008</td>\n",
       "      <td>0.0080</td>\n",
       "    </tr>\n",
       "    <tr>\n",
       "      <th>1</th>\n",
       "      <td>5</td>\n",
       "      <td>23</td>\n",
       "      <td>0.046</td>\n",
       "      <td>0.0092</td>\n",
       "    </tr>\n",
       "    <tr>\n",
       "      <th>2</th>\n",
       "      <td>10</td>\n",
       "      <td>45</td>\n",
       "      <td>0.090</td>\n",
       "      <td>0.0090</td>\n",
       "    </tr>\n",
       "    <tr>\n",
       "      <th>3</th>\n",
       "      <td>15</td>\n",
       "      <td>63</td>\n",
       "      <td>0.126</td>\n",
       "      <td>0.0084</td>\n",
       "    </tr>\n",
       "    <tr>\n",
       "      <th>4</th>\n",
       "      <td>20</td>\n",
       "      <td>76</td>\n",
       "      <td>0.152</td>\n",
       "      <td>0.0076</td>\n",
       "    </tr>\n",
       "  </tbody>\n",
       "</table>\n",
       "</div>"
      ],
      "text/plain": [
       "   rank_at  hitcounts  recall  precision\n",
       "0        1          4   0.008     0.0080\n",
       "1        5         23   0.046     0.0092\n",
       "2       10         45   0.090     0.0090\n",
       "3       15         63   0.126     0.0084\n",
       "4       20         76   0.152     0.0076"
      ]
     },
     "execution_count": 164,
     "metadata": {},
     "output_type": "execute_result"
    }
   ],
   "source": [
    "get_metrics(preds_df, ndcg=False)"
   ]
  },
  {
   "cell_type": "code",
   "execution_count": 27,
   "metadata": {},
   "outputs": [
    {
     "name": "stdout",
     "output_type": "stream",
     "text": [
      "Obtaining metrics time: 0.73\n"
     ]
    },
    {
     "data": {
      "text/html": [
       "<div>\n",
       "<style scoped>\n",
       "    .dataframe tbody tr th:only-of-type {\n",
       "        vertical-align: middle;\n",
       "    }\n",
       "\n",
       "    .dataframe tbody tr th {\n",
       "        vertical-align: top;\n",
       "    }\n",
       "\n",
       "    .dataframe thead th {\n",
       "        text-align: right;\n",
       "    }\n",
       "</style>\n",
       "<table border=\"1\" class=\"dataframe\">\n",
       "  <thead>\n",
       "    <tr style=\"text-align: right;\">\n",
       "      <th></th>\n",
       "      <th>rank_at</th>\n",
       "      <th>hitcounts</th>\n",
       "      <th>recall</th>\n",
       "      <th>precision</th>\n",
       "    </tr>\n",
       "  </thead>\n",
       "  <tbody>\n",
       "    <tr>\n",
       "      <th>0</th>\n",
       "      <td>1</td>\n",
       "      <td>3</td>\n",
       "      <td>0.003</td>\n",
       "      <td>0.003000</td>\n",
       "    </tr>\n",
       "    <tr>\n",
       "      <th>1</th>\n",
       "      <td>5</td>\n",
       "      <td>22</td>\n",
       "      <td>0.022</td>\n",
       "      <td>0.004400</td>\n",
       "    </tr>\n",
       "    <tr>\n",
       "      <th>2</th>\n",
       "      <td>10</td>\n",
       "      <td>47</td>\n",
       "      <td>0.047</td>\n",
       "      <td>0.004700</td>\n",
       "    </tr>\n",
       "    <tr>\n",
       "      <th>3</th>\n",
       "      <td>15</td>\n",
       "      <td>73</td>\n",
       "      <td>0.073</td>\n",
       "      <td>0.004867</td>\n",
       "    </tr>\n",
       "    <tr>\n",
       "      <th>4</th>\n",
       "      <td>20</td>\n",
       "      <td>92</td>\n",
       "      <td>0.092</td>\n",
       "      <td>0.004600</td>\n",
       "    </tr>\n",
       "  </tbody>\n",
       "</table>\n",
       "</div>"
      ],
      "text/plain": [
       "   rank_at  hitcounts  recall  precision\n",
       "0        1          3   0.003   0.003000\n",
       "1        5         22   0.022   0.004400\n",
       "2       10         47   0.047   0.004700\n",
       "3       15         73   0.073   0.004867\n",
       "4       20         92   0.092   0.004600"
      ]
     },
     "execution_count": 27,
     "metadata": {},
     "output_type": "execute_result"
    }
   ],
   "source": [
    "get_metrics(preds_df, ndcg=False)"
   ]
  },
  {
   "cell_type": "code",
   "execution_count": 50,
   "metadata": {},
   "outputs": [
    {
     "data": {
      "text/html": [
       "<div>\n",
       "<style scoped>\n",
       "    .dataframe tbody tr th:only-of-type {\n",
       "        vertical-align: middle;\n",
       "    }\n",
       "\n",
       "    .dataframe tbody tr th {\n",
       "        vertical-align: top;\n",
       "    }\n",
       "\n",
       "    .dataframe thead th {\n",
       "        text-align: right;\n",
       "    }\n",
       "</style>\n",
       "<table border=\"1\" class=\"dataframe\">\n",
       "  <thead>\n",
       "    <tr style=\"text-align: right;\">\n",
       "      <th></th>\n",
       "      <th>user</th>\n",
       "      <th>pred_items_ranked</th>\n",
       "      <th>true_id</th>\n",
       "    </tr>\n",
       "  </thead>\n",
       "  <tbody>\n",
       "    <tr>\n",
       "      <th>0</th>\n",
       "      <td>1</td>\n",
       "      <td>[2785, 2511, 2557, 1485, 2898, 253, 1148, 1178...</td>\n",
       "      <td>[1737]</td>\n",
       "    </tr>\n",
       "    <tr>\n",
       "      <th>1</th>\n",
       "      <td>17</td>\n",
       "      <td>[466, 2785, 2557, 2203, 2374, 579, 309, 1178, ...</td>\n",
       "      <td>[1546]</td>\n",
       "    </tr>\n",
       "    <tr>\n",
       "      <th>2</th>\n",
       "      <td>21</td>\n",
       "      <td>[0, 579, 2162, 2480, 49, 513, 2958, 3177, 3248...</td>\n",
       "      <td>[849]</td>\n",
       "    </tr>\n",
       "    <tr>\n",
       "      <th>3</th>\n",
       "      <td>22</td>\n",
       "      <td>[2898, 1120, 2775, 1848, 1178, 346, 2511, 2959...</td>\n",
       "      <td>[2441]</td>\n",
       "    </tr>\n",
       "    <tr>\n",
       "      <th>4</th>\n",
       "      <td>28</td>\n",
       "      <td>[2203, 593, 3341, 579, 2651, 1173, 2775, 1848,...</td>\n",
       "      <td>[2354]</td>\n",
       "    </tr>\n",
       "    <tr>\n",
       "      <th>...</th>\n",
       "      <td>...</td>\n",
       "      <td>...</td>\n",
       "      <td>...</td>\n",
       "    </tr>\n",
       "    <tr>\n",
       "      <th>995</th>\n",
       "      <td>6025</td>\n",
       "      <td>[287, 1173, 3341, 1485, 1848, 106, 2203, 3550,...</td>\n",
       "      <td>[1142]</td>\n",
       "    </tr>\n",
       "    <tr>\n",
       "      <th>996</th>\n",
       "      <td>6027</td>\n",
       "      <td>[2203, 579, 2785, 593, 1449, 3341, 2426, 2557,...</td>\n",
       "      <td>[2788]</td>\n",
       "    </tr>\n",
       "    <tr>\n",
       "      <th>997</th>\n",
       "      <td>6035</td>\n",
       "      <td>[0, 802, 3341, 513, 346, 287, 3550, 2748, 1131...</td>\n",
       "      <td>[3337]</td>\n",
       "    </tr>\n",
       "    <tr>\n",
       "      <th>998</th>\n",
       "      <td>6037</td>\n",
       "      <td>[3341, 593, 2557, 2426, 2203, 2651, 579, 1106,...</td>\n",
       "      <td>[1094]</td>\n",
       "    </tr>\n",
       "    <tr>\n",
       "      <th>999</th>\n",
       "      <td>6039</td>\n",
       "      <td>[106, 2898, 1449, 2958, 2959, 737, 2426, 3341,...</td>\n",
       "      <td>[1131]</td>\n",
       "    </tr>\n",
       "  </tbody>\n",
       "</table>\n",
       "<p>1000 rows × 3 columns</p>\n",
       "</div>"
      ],
      "text/plain": [
       "     user                                  pred_items_ranked true_id\n",
       "0       1  [2785, 2511, 2557, 1485, 2898, 253, 1148, 1178...  [1737]\n",
       "1      17  [466, 2785, 2557, 2203, 2374, 579, 309, 1178, ...  [1546]\n",
       "2      21  [0, 579, 2162, 2480, 49, 513, 2958, 3177, 3248...   [849]\n",
       "3      22  [2898, 1120, 2775, 1848, 1178, 346, 2511, 2959...  [2441]\n",
       "4      28  [2203, 593, 3341, 579, 2651, 1173, 2775, 1848,...  [2354]\n",
       "..    ...                                                ...     ...\n",
       "995  6025  [287, 1173, 3341, 1485, 1848, 106, 2203, 3550,...  [1142]\n",
       "996  6027  [2203, 579, 2785, 593, 1449, 3341, 2426, 2557,...  [2788]\n",
       "997  6035  [0, 802, 3341, 513, 346, 287, 3550, 2748, 1131...  [3337]\n",
       "998  6037  [3341, 593, 2557, 2426, 2203, 2651, 579, 1106,...  [1094]\n",
       "999  6039  [106, 2898, 1449, 2958, 2959, 737, 2426, 3341,...  [1131]\n",
       "\n",
       "[1000 rows x 3 columns]"
      ]
     },
     "execution_count": 50,
     "metadata": {},
     "output_type": "execute_result"
    }
   ],
   "source": [
    "preds_df"
   ]
  },
  {
   "cell_type": "code",
   "execution_count": 52,
   "metadata": {},
   "outputs": [
    {
     "name": "stdout",
     "output_type": "stream",
     "text": [
      "Obtaining metrics time: 0.71\n"
     ]
    }
   ],
   "source": [
    "get_metrics(preds_df, ndcg=False).to_pickle('../Results/metrics_ml_1m_cfrnn')"
   ]
  },
  {
   "cell_type": "markdown",
   "metadata": {},
   "source": [
    "---\n",
    "# Store Results"
   ]
  },
  {
   "cell_type": "code",
   "execution_count": null,
   "metadata": {},
   "outputs": [],
   "source": [
    "from Models import store_LSTM_model\n",
    "# store_path = path + 'results/CFRNN/' + res_ext + '/all_models'\n",
    "store_path = path + 'results/' + res_ext + '/all_models'\n",
    "train_time = np.sum(timing_callback.logs)\n",
    "all_models = store_LSTM_model(store_path, params.copy(), history.history.copy(), train_time, metrics_test, store=True)"
   ]
  },
  {
   "cell_type": "code",
   "execution_count": null,
   "metadata": {},
   "outputs": [],
   "source": [
    "all_models"
   ]
  },
  {
   "cell_type": "code",
   "execution_count": 36,
   "metadata": {},
   "outputs": [
    {
     "name": "stdout",
     "output_type": "stream",
     "text": [
      "Obtaining metrics time: 1.12\n"
     ]
    },
    {
     "data": {
      "text/html": [
       "<div>\n",
       "<style scoped>\n",
       "    .dataframe tbody tr th:only-of-type {\n",
       "        vertical-align: middle;\n",
       "    }\n",
       "\n",
       "    .dataframe tbody tr th {\n",
       "        vertical-align: top;\n",
       "    }\n",
       "\n",
       "    .dataframe thead th {\n",
       "        text-align: right;\n",
       "    }\n",
       "</style>\n",
       "<table border=\"1\" class=\"dataframe\">\n",
       "  <thead>\n",
       "    <tr style=\"text-align: right;\">\n",
       "      <th></th>\n",
       "      <th>rank_at</th>\n",
       "      <th>hitcounts</th>\n",
       "      <th>recall</th>\n",
       "      <th>precision</th>\n",
       "    </tr>\n",
       "  </thead>\n",
       "  <tbody>\n",
       "    <tr>\n",
       "      <th>0</th>\n",
       "      <td>1</td>\n",
       "      <td>1</td>\n",
       "      <td>0.000601</td>\n",
       "      <td>0.000601</td>\n",
       "    </tr>\n",
       "    <tr>\n",
       "      <th>1</th>\n",
       "      <td>5</td>\n",
       "      <td>8</td>\n",
       "      <td>0.004808</td>\n",
       "      <td>0.000962</td>\n",
       "    </tr>\n",
       "    <tr>\n",
       "      <th>2</th>\n",
       "      <td>10</td>\n",
       "      <td>15</td>\n",
       "      <td>0.009014</td>\n",
       "      <td>0.000901</td>\n",
       "    </tr>\n",
       "    <tr>\n",
       "      <th>3</th>\n",
       "      <td>15</td>\n",
       "      <td>21</td>\n",
       "      <td>0.012620</td>\n",
       "      <td>0.000841</td>\n",
       "    </tr>\n",
       "    <tr>\n",
       "      <th>4</th>\n",
       "      <td>20</td>\n",
       "      <td>27</td>\n",
       "      <td>0.016226</td>\n",
       "      <td>0.000811</td>\n",
       "    </tr>\n",
       "  </tbody>\n",
       "</table>\n",
       "</div>"
      ],
      "text/plain": [
       "   rank_at  hitcounts    recall  precision\n",
       "0        1          1  0.000601   0.000601\n",
       "1        5          8  0.004808   0.000962\n",
       "2       10         15  0.009014   0.000901\n",
       "3       15         21  0.012620   0.000841\n",
       "4       20         27  0.016226   0.000811"
      ]
     },
     "execution_count": 36,
     "metadata": {},
     "output_type": "execute_result"
    }
   ],
   "source": [
    "metrics_val_set_vsl = get_metrics(preds_val, 5, 20)\n",
    "metrics_val_set_vsl"
   ]
  },
  {
   "cell_type": "markdown",
   "metadata": {
    "colab_type": "text",
    "id": "2bfN_yhzc-Wq"
   },
   "source": [
    "# Appendix"
   ]
  },
  {
   "cell_type": "code",
   "execution_count": null,
   "metadata": {
    "colab": {},
    "colab_type": "code",
    "id": "Icth_zsCc-Wr"
   },
   "outputs": [],
   "source": [
    "# oh_input = tf.keras.backend.one_hot(padded, n_items)\n",
    "# e = tf.keras.layers.Embedding(n_items, 100, input_length=max_l)"
   ]
  },
  {
   "cell_type": "code",
   "execution_count": null,
   "metadata": {
    "colab": {},
    "colab_type": "code",
    "id": "PlhXrmLnc-Wu"
   },
   "outputs": [],
   "source": [
    "# One hot encoded input\n",
    "# sequences_data_x = tf.data.Dataset.from_tensor_slices(tf.keras.backend.one_hot(padded_sequences_x, n_items)) \n",
    "# sequences_data_y = tf.data.Dataset.from_tensor_slices(tf.keras.backend.one_hot(padded_sequences_y, n_items)) "
   ]
  },
  {
   "cell_type": "code",
   "execution_count": null,
   "metadata": {},
   "outputs": [],
   "source": [
    "# max_seq_len = 30\n",
    "# min_seq_len = 10\n",
    "# shift_targets_by = 1\n",
    "\n",
    "# from Data_prep import get_x_y_sequences, min_padding\n",
    "# vsl = True # Set for training later\n",
    "\n",
    "# # Train Set\n",
    "# user_sequences_x, user_sequences_y, user_order = get_x_y_sequences(train_set, shift_targets_by)\n",
    "# padded_sequences_x = min_padding(user_sequences_x, BATCH_SIZE, min_seq_len, max_seq_len)\n",
    "# padded_sequences_y = min_padding(user_sequences_y, BATCH_SIZE, min_seq_len, max_seq_len)\n",
    "\n",
    "# # Val Set \n",
    "# user_sequences_val_x, user_sequences_val_y, user_order = get_x_y_sequences(val_set, shift_targets_by, stats=False)\n",
    "# padded_sequences_val_x = min_padding(user_sequences_val_x, BATCH_SIZE, min_seq_len, max_seq_len)\n",
    "# padded_sequences_val_y = min_padding(user_sequences_val_y, BATCH_SIZE, min_seq_len, max_seq_len)"
   ]
  },
  {
   "cell_type": "code",
   "execution_count": null,
   "metadata": {},
   "outputs": [],
   "source": [
    "# test_set_u_i = test_set.groupby('user_id')['item_id'].apply(list)\n",
    "# test_X = []\n",
    "# test_y = []\n",
    "# all_predictions = []\n",
    "# for user_items in test_set_u_i:\n",
    "#     test_X.append(user_items[-200:-1])\n",
    "#     test_y.append(user_items[-1:])\n",
    "\n",
    "# for i, seq in enumerate(test_X): \n",
    "#     seq = seq.copy()\n",
    "#     predictions = []\n",
    "#     for i in range(20):\n",
    "#         pred_item_id = model.predict_classes(np.array([seq,]), batch_size=1)[0]\n",
    "#         seq.append(pred_item_id)\n",
    "#         predictions.append(pred_item_id)\n",
    "#     all_predictions.append(predictions)\n",
    "    \n",
    "# predictions_df = pd.DataFrame(list(zip(test_set.user_id.unique(), all_predictions, test_y)),\n",
    "#                               columns=['user', 'pred_items_ranked', 'true_id'])"
   ]
  }
 ],
 "metadata": {
  "accelerator": "GPU",
  "colab": {
   "collapsed_sections": [
    "2Spy42iNc-V_",
    "XQNPBkyQc-WI"
   ],
   "name": "CF_RNN.ipynb",
   "provenance": [],
   "toc_visible": true
  },
  "kernelspec": {
   "display_name": "Python 3",
   "language": "python",
   "name": "python3"
  },
  "language_info": {
   "codemirror_mode": {
    "name": "ipython",
    "version": 3
   },
   "file_extension": ".py",
   "mimetype": "text/x-python",
   "name": "python",
   "nbconvert_exporter": "python",
   "pygments_lexer": "ipython3",
   "version": "3.6.8"
  },
  "toc": {
   "base_numbering": 1,
   "nav_menu": {},
   "number_sections": true,
   "sideBar": true,
   "skip_h1_title": false,
   "title_cell": "Table of Contents",
   "title_sidebar": "Contents",
   "toc_cell": false,
   "toc_position": {
    "height": "375.742px",
    "left": "1048.75px",
    "top": "110.57px",
    "width": "200.295px"
   },
   "toc_section_display": true,
   "toc_window_display": true
  }
 },
 "nbformat": 4,
 "nbformat_minor": 4
}
