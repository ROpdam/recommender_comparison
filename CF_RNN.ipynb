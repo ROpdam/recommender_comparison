{
 "cells": [
  {
   "cell_type": "code",
   "execution_count": 186,
   "metadata": {},
   "outputs": [],
   "source": [
    "import pandas as pd\n",
    "import numpy as np\n",
    "import tensorflow as tf\n",
    "import matplotlib.pyplot as plt\n",
    "from scipy import sparse\n",
    "import os\n",
    "import random"
   ]
  },
  {
   "cell_type": "markdown",
   "metadata": {},
   "source": [
    "# Read Data"
   ]
  },
  {
   "cell_type": "markdown",
   "metadata": {},
   "source": [
    "## Amazon Fashion"
   ]
  },
  {
   "cell_type": "code",
   "execution_count": 187,
   "metadata": {},
   "outputs": [],
   "source": [
    "path = 'Data/'\n",
    "#Full data\n",
    "# file_name = 'amazon_clothing_shoes_jewelry_data' \n",
    "\n",
    "#2m user above 5 ratings\n",
    "# file_name = 'amazon_csj_2m'\n",
    "\n",
    "#0.63m user above 5 ratings\n",
    "# file_name = 'df_amazon_csj_with_styles_0.63m_u_above_5_rui' "
   ]
  },
  {
   "cell_type": "markdown",
   "metadata": {},
   "source": [
    "## MovieLens"
   ]
  },
  {
   "cell_type": "code",
   "execution_count": 188,
   "metadata": {},
   "outputs": [],
   "source": [
    "path = 'Data/'\n",
    "# Full data\n",
    "# file_name = 'ml-25m'\n",
    "\n",
    "# 2m subset\n",
    "# file_name = '2m-ml'\n",
    "\n",
    "# 0.7m subset\n",
    "# file_name = 'ml_0.7_u_above_5'"
   ]
  },
  {
   "cell_type": "markdown",
   "metadata": {},
   "source": [
    "## Time sorted ml 2m dataset"
   ]
  },
  {
   "cell_type": "code",
   "execution_count": 189,
   "metadata": {},
   "outputs": [],
   "source": [
    "path = 'Data/datetime_sorted/'\n",
    "\n",
    "#25m rows sorted per user on datetime\n",
    "# file_name = 'ml-25m_sorted_u_dt'\n",
    "\n",
    "#0.7m rows sorted per user on datetime\n",
    "file_name = 'ml_07m_sorted'"
   ]
  },
  {
   "cell_type": "code",
   "execution_count": 190,
   "metadata": {},
   "outputs": [
    {
     "data": {
      "text/html": [
       "<div>\n",
       "<style scoped>\n",
       "    .dataframe tbody tr th:only-of-type {\n",
       "        vertical-align: middle;\n",
       "    }\n",
       "\n",
       "    .dataframe tbody tr th {\n",
       "        vertical-align: top;\n",
       "    }\n",
       "\n",
       "    .dataframe thead th {\n",
       "        text-align: right;\n",
       "    }\n",
       "</style>\n",
       "<table border=\"1\" class=\"dataframe\">\n",
       "  <thead>\n",
       "    <tr style=\"text-align: right;\">\n",
       "      <th></th>\n",
       "      <th>user</th>\n",
       "      <th>item</th>\n",
       "      <th>rating</th>\n",
       "      <th>timestamp</th>\n",
       "    </tr>\n",
       "  </thead>\n",
       "  <tbody>\n",
       "    <tr>\n",
       "      <th>20178786</th>\n",
       "      <td>131246</td>\n",
       "      <td>150</td>\n",
       "      <td>5.0</td>\n",
       "      <td>1996-06-25 19:51:50</td>\n",
       "    </tr>\n",
       "    <tr>\n",
       "      <th>20178815</th>\n",
       "      <td>131246</td>\n",
       "      <td>592</td>\n",
       "      <td>3.0</td>\n",
       "      <td>1996-06-25 19:51:50</td>\n",
       "    </tr>\n",
       "    <tr>\n",
       "      <th>20178814</th>\n",
       "      <td>131246</td>\n",
       "      <td>590</td>\n",
       "      <td>5.0</td>\n",
       "      <td>1996-06-25 19:51:50</td>\n",
       "    </tr>\n",
       "    <tr>\n",
       "      <th>20178806</th>\n",
       "      <td>131246</td>\n",
       "      <td>380</td>\n",
       "      <td>4.0</td>\n",
       "      <td>1996-06-25 19:51:50</td>\n",
       "    </tr>\n",
       "    <tr>\n",
       "      <th>20178796</th>\n",
       "      <td>131246</td>\n",
       "      <td>296</td>\n",
       "      <td>5.0</td>\n",
       "      <td>1996-06-25 19:51:50</td>\n",
       "    </tr>\n",
       "  </tbody>\n",
       "</table>\n",
       "</div>"
      ],
      "text/plain": [
       "            user  item  rating           timestamp\n",
       "20178786  131246   150     5.0 1996-06-25 19:51:50\n",
       "20178815  131246   592     3.0 1996-06-25 19:51:50\n",
       "20178814  131246   590     5.0 1996-06-25 19:51:50\n",
       "20178806  131246   380     4.0 1996-06-25 19:51:50\n",
       "20178796  131246   296     5.0 1996-06-25 19:51:50"
      ]
     },
     "execution_count": 190,
     "metadata": {},
     "output_type": "execute_result"
    }
   ],
   "source": [
    "df = pd.read_pickle(path + file_name)\n",
    "df.head()"
   ]
  },
  {
   "cell_type": "code",
   "execution_count": 191,
   "metadata": {},
   "outputs": [],
   "source": [
    "df['user_id'] = df.user.astype('category').cat.codes\n",
    "df['item_id'] = df.item.astype('category').cat.codes"
   ]
  },
  {
   "cell_type": "markdown",
   "metadata": {},
   "source": [
    "## Leave users out "
   ]
  },
  {
   "cell_type": "code",
   "execution_count": 192,
   "metadata": {},
   "outputs": [],
   "source": [
    "def leave_users_out(full_data, leave_out):\n",
    "    full_data['index'] = full_data.index\n",
    "    user_index_df = full_data.groupby('user')['index'].apply(list)\n",
    "    users = np.random.choice(list(user_index_df.index), leave_out, replace=False)\n",
    "    users_indices = []\n",
    "    \n",
    "    for user in users:\n",
    "        users_indices.extend(user_index_df.loc[user])\n",
    "    \n",
    "    sub_set = full_data.loc[users_indices]\n",
    "    remaining = full_data.drop(users_indices)\n",
    "    \n",
    "    return remaining.drop(columns=['index']), sub_set.drop(columns=['index'])"
   ]
  },
  {
   "cell_type": "code",
   "execution_count": 193,
   "metadata": {},
   "outputs": [],
   "source": [
    "# leftovers, new_df = leave_users_out(df, 4500)"
   ]
  },
  {
   "cell_type": "markdown",
   "metadata": {},
   "source": [
    "# Data Exploration\n",
    "\n",
    "First filtering active users and rated items with x or more ratings:"
   ]
  },
  {
   "cell_type": "code",
   "execution_count": 194,
   "metadata": {},
   "outputs": [],
   "source": [
    "user_ratings = df.groupby('user')['rating'].count()\n",
    "item_ratings = df.groupby('item')['rating'].count()\n",
    "norpu = user_ratings.mean()\n",
    "norpi = item_ratings.mean()\n",
    "total_users = df.user.unique().size\n",
    "total_items = df.item.unique().size\n",
    "sparseness = 1 - len(df) / (len(df['user'].unique()) * len(df['item'].unique()))"
   ]
  },
  {
   "cell_type": "code",
   "execution_count": 195,
   "metadata": {},
   "outputs": [
    {
     "name": "stdout",
     "output_type": "stream",
     "text": [
      "rows  698816 \n",
      "#ratings 698816 \n",
      "#ratings/user 155.29 \n",
      "#ratings/item 35.43 \n",
      "average rating 3.54 \n",
      "#users  4500 \n",
      "#items  19725 \n",
      "sparse  0.99213 %\n"
     ]
    },
    {
     "data": {
      "image/png": "[encoded data removed]",
      "text/plain": [
       "<Figure size 432x288 with 1 Axes>"
      ]
     },
     "metadata": {
      "needs_background": "light"
     },
     "output_type": "display_data"
    },
    {
     "data": {
      "image/png": "[encoded data removed]",
      "text/plain": [
       "<Figure size 432x288 with 1 Axes>"
      ]
     },
     "metadata": {
      "needs_background": "light"
     },
     "output_type": "display_data"
    },
    {
     "data": {
      "image/png": "[encoded data removed]",
      "text/plain": [
       "<Figure size 432x288 with 1 Axes>"
      ]
     },
     "metadata": {
      "needs_background": "light"
     },
     "output_type": "display_data"
    }
   ],
   "source": [
    "print('rows ', len(df), '\\n#ratings', len(df[df['rating'] != 0]), '\\n#ratings/user', round(norpu,2), '\\n#ratings/item', round(norpi,2), '\\naverage rating', \"{0:.2f}\".format(np.average(df['rating'])), '\\n#users ', df['user'].unique().size, '\\n#items ', df['item'].unique().size, '\\nsparse ', round(sparseness,5), '%')\n",
    "\n",
    "df.hist(column='rating', bins=5, grid=False)\n",
    "plt.title('Rating Distribution')\n",
    "plt.xlabel('Rating')\n",
    "plt.xticks(range(1,6))\n",
    "plt.savefig('Plots/Deliverables/rating_dist_ml')\n",
    "plt.show()\n",
    "\n",
    "plt.hist(item_ratings, bins = 2000)\n",
    "plt.xlim([0,100])\n",
    "plt.title('#ratings per item distribution (1000 bins)')\n",
    "plt.xlabel('Items')\n",
    "plt.ylabel('Count')\n",
    "plt.savefig('Plots/Deliverables/#ratings_per_item_dist_ml')\n",
    "plt.show()\n",
    "\n",
    "plt.hist(user_ratings, bins = 2000)\n",
    "plt.xlim([0,50])\n",
    "plt.title('#ratings per user distribution (1000 bins)')\n",
    "plt.xlabel('Users')\n",
    "plt.ylabel('Count')\n",
    "plt.savefig('Plots/Deliverables/#ratings_per_user_dist_ml')\n",
    "plt.show()"
   ]
  },
  {
   "cell_type": "markdown",
   "metadata": {},
   "source": [
    "---\n",
    "# LSTM Model\n",
    "Collaborative Filtering with Recurrent Neural Networks"
   ]
  },
  {
   "cell_type": "markdown",
   "metadata": {},
   "source": [
    "- paper: https://arxiv.org/pdf/1608.07400.pdf\n",
    "- code:https://github.com/rdevooght/sequence-based-recommendations (in Theano)"
   ]
  },
  {
   "cell_type": "markdown",
   "metadata": {},
   "source": [
    "## Data Prep"
   ]
  },
  {
   "cell_type": "markdown",
   "metadata": {},
   "source": [
    "Create 100 people **train df**"
   ]
  },
  {
   "cell_type": "code",
   "execution_count": 196,
   "metadata": {},
   "outputs": [],
   "source": [
    "df_og = df"
   ]
  },
  {
   "cell_type": "code",
   "execution_count": 198,
   "metadata": {},
   "outputs": [
    {
     "name": "stdout",
     "output_type": "stream",
     "text": [
      "total number of items: 19725\n",
      "number of test users: 3500\n",
      "number of test users: 500\n"
     ]
    }
   ],
   "source": [
    "test_users = 500\n",
    "df, test_df = leave_users_out(df_og, test_users)\n",
    "df['item_id'] = df.item_id.astype('category').cat.codes\n",
    "df['user_id'] = df.user_id.astype('category').cat.codes\n",
    "n_items = len(df_og.item_id.unique())\n",
    "print('total number of items:', n_items)\n",
    "print('number of test users:', len(df.user_id.unique()) - test_users)\n",
    "print('number of test users:', test_users)"
   ]
  },
  {
   "cell_type": "markdown",
   "metadata": {},
   "source": [
    "---\n",
    "### Train and Target sequences\n",
    "Create the **sequences** from the item_ids per user (already sorted)"
   ]
  },
  {
   "cell_type": "code",
   "execution_count": 199,
   "metadata": {},
   "outputs": [
    {
     "name": "stdout",
     "output_type": "stream",
     "text": [
      "number of sequences x: 4000 \n",
      "avg sequence length x: 153.575 \n",
      "std_dev sequence length x: 259.81\n"
     ]
    }
   ],
   "source": [
    "user_sequences_x = []\n",
    "user_sequences_y = []\n",
    "\n",
    "lengths = []\n",
    "for u in df.user_id.unique():\n",
    "    user_item_seq = np.array(df[df['user_id']==u]['item_id'])\n",
    "    user_sequences_x.append(user_item_seq[:-1])\n",
    "    user_sequences_y.append(user_item_seq[1:])\n",
    "    lengths.append(len(user_item_seq))\n",
    "print('number of sequences x:', len(user_sequences_x), \n",
    "      '\\navg sequence length x:', np.average(lengths),\n",
    "      '\\nstd_dev sequence length x:', np.round(np.std(lengths),2))"
   ]
  },
  {
   "cell_type": "code",
   "execution_count": 200,
   "metadata": {},
   "outputs": [
    {
     "data": {
      "text/plain": [
       "array([144, 567, 565, 367, 284, 563, 159, 336, 331, 306, 316, 570, 568,\n",
       "       417, 280, 440, 179,   9, 243, 288,   0, 108, 277,  20, 216,  33,\n",
       "        46, 351,  49,  31, 154, 343, 463, 415, 354, 109, 418, 272, 564,\n",
       "       167], dtype=int16)"
      ]
     },
     "execution_count": 200,
     "metadata": {},
     "output_type": "execute_result"
    }
   ],
   "source": [
    "user_sequences_x[0]"
   ]
  },
  {
   "cell_type": "code",
   "execution_count": 201,
   "metadata": {},
   "outputs": [
    {
     "data": {
      "text/plain": [
       "array([567, 565, 367, 284, 563, 159, 336, 331, 306, 316, 570, 568, 417,\n",
       "       280, 440, 179,   9, 243, 288,   0, 108, 277,  20, 216,  33,  46,\n",
       "       351,  49,  31, 154, 343, 463, 415, 354, 109, 418, 272, 564, 167,\n",
       "       303], dtype=int16)"
      ]
     },
     "execution_count": 201,
     "metadata": {},
     "output_type": "execute_result"
    }
   ],
   "source": [
    "user_sequences_y[0]"
   ]
  },
  {
   "cell_type": "markdown",
   "metadata": {},
   "source": [
    "---\n",
    "### Padding\n",
    "**pad** the sequences (needed for rectangular tf.data.Dataset):\n",
    "- add zeros if they are too short\n",
    "- remove item ids from the beginning if they are too long"
   ]
  },
  {
   "cell_type": "code",
   "execution_count": 202,
   "metadata": {},
   "outputs": [
    {
     "name": "stdout",
     "output_type": "stream",
     "text": [
      "number of sequences x: 4000 \n",
      "avg sequence length x: 250.0 \n",
      "std_dev sequence length x: 0.0\n"
     ]
    }
   ],
   "source": [
    "max_length = 250\n",
    "padded_sequences_x = tf.keras.preprocessing.sequence.pad_sequences(user_sequences_x, maxlen=max_length, padding='post', truncating='pre')\n",
    "padded_sequences_y = tf.keras.preprocessing.sequence.pad_sequences(user_sequences_y, maxlen=max_length, padding='post', truncating='pre')\n",
    "print('number of sequences x:', padded_sequences_x.shape[0], \n",
    "      '\\navg sequence length x:', np.average([i.shape[0] for i in padded_sequences_x]),\n",
    "      '\\nstd_dev sequence length x:', np.std([i.shape[0] for i in padded_sequences_x]))\n"
   ]
  },
  {
   "cell_type": "markdown",
   "metadata": {},
   "source": [
    "---\n",
    "### Create Dataset\n",
    "**create batch dataset**\n",
    "- sequences_x inputs\n",
    "- sequences_y actuals\n",
    "- batches of size BATCH_SIZE"
   ]
  },
  {
   "cell_type": "code",
   "execution_count": 203,
   "metadata": {},
   "outputs": [
    {
     "data": {
      "text/plain": [
       "<ZipDataset shapes: ((250,), (250,)), types: (tf.int32, tf.int32)>"
      ]
     },
     "execution_count": 203,
     "metadata": {},
     "output_type": "execute_result"
    }
   ],
   "source": [
    "# One hot encoded input\n",
    "# sequences_data_x = tf.data.Dataset.from_tensor_slices(tf.keras.backend.one_hot(padded_sequences_x, n_items)) \n",
    "# sequences_data_y = tf.data.Dataset.from_tensor_slices(tf.keras.backend.one_hot(padded_sequences_y, n_items)) \n",
    "\n",
    "#normal sequence input\n",
    "sequences_data_x = tf.data.Dataset.from_tensor_slices(padded_sequences_x) \n",
    "sequences_data_y = tf.data.Dataset.from_tensor_slices(padded_sequences_y) \n",
    "dataset = tf.data.Dataset.zip((sequences_data_x, sequences_data_y))\n",
    "dataset"
   ]
  },
  {
   "cell_type": "code",
   "execution_count": 204,
   "metadata": {},
   "outputs": [
    {
     "name": "stdout",
     "output_type": "stream",
     "text": [
      "Input data:  [144 567 565 367 284 563 159 336 331 306 316 570 568 417 280 440 179   9\n",
      " 243 288   0 108 277  20 216  33  46 351  49  31 154 343 463 415 354 109\n",
      " 418 272 564 167   0   0   0   0   0   0   0   0   0   0   0   0   0   0\n",
      "   0   0   0   0   0   0   0   0   0   0   0   0   0   0   0   0   0   0\n",
      "   0   0   0   0   0   0   0   0   0   0   0   0   0   0   0   0   0   0\n",
      "   0   0   0   0   0   0   0   0   0   0   0   0   0   0   0   0   0   0\n",
      "   0   0   0   0   0   0   0   0   0   0   0   0   0   0   0   0   0   0\n",
      "   0   0   0   0   0   0   0   0   0   0   0   0   0   0   0   0   0   0\n",
      "   0   0   0   0   0   0   0   0   0   0   0   0   0   0   0   0   0   0\n",
      "   0   0   0   0   0   0   0   0   0   0   0   0   0   0   0   0   0   0\n",
      "   0   0   0   0   0   0   0   0   0   0   0   0   0   0   0   0   0   0\n",
      "   0   0   0   0   0   0   0   0   0   0   0   0   0   0   0   0   0   0\n",
      "   0   0   0   0   0   0   0   0   0   0   0   0   0   0   0   0   0   0\n",
      "   0   0   0   0   0   0   0   0   0   0   0   0   0   0   0   0]\n",
      "Target data: [567 565 367 284 563 159 336 331 306 316 570 568 417 280 440 179   9 243\n",
      " 288   0 108 277  20 216  33  46 351  49  31 154 343 463 415 354 109 418\n",
      " 272 564 167 303   0   0   0   0   0   0   0   0   0   0   0   0   0   0\n",
      "   0   0   0   0   0   0   0   0   0   0   0   0   0   0   0   0   0   0\n",
      "   0   0   0   0   0   0   0   0   0   0   0   0   0   0   0   0   0   0\n",
      "   0   0   0   0   0   0   0   0   0   0   0   0   0   0   0   0   0   0\n",
      "   0   0   0   0   0   0   0   0   0   0   0   0   0   0   0   0   0   0\n",
      "   0   0   0   0   0   0   0   0   0   0   0   0   0   0   0   0   0   0\n",
      "   0   0   0   0   0   0   0   0   0   0   0   0   0   0   0   0   0   0\n",
      "   0   0   0   0   0   0   0   0   0   0   0   0   0   0   0   0   0   0\n",
      "   0   0   0   0   0   0   0   0   0   0   0   0   0   0   0   0   0   0\n",
      "   0   0   0   0   0   0   0   0   0   0   0   0   0   0   0   0   0   0\n",
      "   0   0   0   0   0   0   0   0   0   0   0   0   0   0   0   0   0   0\n",
      "   0   0   0   0   0   0   0   0   0   0   0   0   0   0   0   0]\n"
     ]
    }
   ],
   "source": [
    "for input_example, target_example in  dataset.take(1).as_numpy_iterator():\n",
    "    print ('Input data: ', input_example)\n",
    "    print ('Target data:', target_example)"
   ]
  },
  {
   "cell_type": "code",
   "execution_count": 205,
   "metadata": {
    "scrolled": false
   },
   "outputs": [
    {
     "name": "stdout",
     "output_type": "stream",
     "text": [
      "input: (100, 250) \n",
      "\n",
      "output: (100, 250)\n"
     ]
    }
   ],
   "source": [
    "BATCH_SIZE = 100\n",
    "dataset = dataset.batch(BATCH_SIZE, drop_remainder=False)\n",
    "for i, o in dataset.take(1).as_numpy_iterator():\n",
    "    print('input:', i.shape, '\\n\\noutput:', o.shape)"
   ]
  },
  {
   "cell_type": "markdown",
   "metadata": {},
   "source": [
    "--- \n",
    "## Model Prep"
   ]
  },
  {
   "cell_type": "markdown",
   "metadata": {},
   "source": [
    "**model architecture**"
   ]
  },
  {
   "cell_type": "code",
   "execution_count": 206,
   "metadata": {},
   "outputs": [],
   "source": [
    "def build_model(n_items, embedding_dim, rnn_units, batch_size):\n",
    "    model = tf.keras.Sequential([\n",
    "        tf.keras.layers.Embedding(n_items, embedding_dim,\n",
    "                                  batch_input_shape=[batch_size, None]),\n",
    "        tf.keras.layers.LSTM(units=rnn_units,\n",
    "                             return_sequences=True,\n",
    "                             stateful=True,\n",
    "                             recurrent_initializer='glorot_uniform'),\n",
    "        \n",
    "        tf.keras.layers.Dense(n_items)\n",
    "    ])\n",
    "    return model"
   ]
  },
  {
   "cell_type": "markdown",
   "metadata": {},
   "source": [
    "---\n",
    "**build model**"
   ]
  },
  {
   "cell_type": "code",
   "execution_count": 207,
   "metadata": {},
   "outputs": [],
   "source": [
    "embedding_dim = 100\n",
    "rnn_units = 20"
   ]
  },
  {
   "cell_type": "code",
   "execution_count": 208,
   "metadata": {},
   "outputs": [],
   "source": [
    "model = build_model(\n",
    "n_items = n_items,\n",
    "embedding_dim = embedding_dim,\n",
    "rnn_units = rnn_units,\n",
    "batch_size = BATCH_SIZE)"
   ]
  },
  {
   "cell_type": "markdown",
   "metadata": {},
   "source": [
    "---\n",
    "### Add Loss\n",
    "<br>\n",
    "one hot encode labels for dimensionality match of LSTM output\n",
    "<br> \n",
    "**Added one hot encoding of the labels to match logits output after dense layer**"
   ]
  },
  {
   "cell_type": "code",
   "execution_count": 209,
   "metadata": {},
   "outputs": [],
   "source": [
    "def loss(labels, logits):\n",
    "    oh_labels = tf.keras.backend.one_hot(tf.dtypes.cast(labels, tf.int32), n_items)\n",
    "    return tf.keras.losses.categorical_crossentropy(oh_labels, logits, from_logits=True)\n",
    "\n",
    "model.compile(optimizer='Adagrad', loss=loss)"
   ]
  },
  {
   "cell_type": "markdown",
   "metadata": {},
   "source": [
    "---\n",
    "## Try Model"
   ]
  },
  {
   "cell_type": "code",
   "execution_count": 210,
   "metadata": {},
   "outputs": [
    {
     "data": {
      "text/plain": [
       "<TakeDataset shapes: ((None, 250), (None, 250)), types: (tf.int32, tf.int32)>"
      ]
     },
     "execution_count": 210,
     "metadata": {},
     "output_type": "execute_result"
    }
   ],
   "source": [
    "dataset.take(1)"
   ]
  },
  {
   "cell_type": "code",
   "execution_count": 211,
   "metadata": {},
   "outputs": [
    {
     "name": "stdout",
     "output_type": "stream",
     "text": [
      "(100, 250, 19725) # (batch_size, sequence_length, n_items)\n"
     ]
    }
   ],
   "source": [
    "for input_example_batch, target_example_batch in dataset.take(1):\n",
    "    example_batch_preds = model(input_example_batch)\n",
    "    print(example_batch_preds.shape, \"# (batch_size, sequence_length, n_items)\")"
   ]
  },
  {
   "cell_type": "code",
   "execution_count": 212,
   "metadata": {},
   "outputs": [],
   "source": [
    "example_batch_loss = loss(target_example_batch, example_batch_preds)"
   ]
  },
  {
   "cell_type": "code",
   "execution_count": 213,
   "metadata": {},
   "outputs": [
    {
     "data": {
      "text/plain": [
       "TensorShape([100, 250, 19725])"
      ]
     },
     "execution_count": 213,
     "metadata": {},
     "output_type": "execute_result"
    }
   ],
   "source": [
    "example_batch_preds.shape"
   ]
  },
  {
   "cell_type": "code",
   "execution_count": 214,
   "metadata": {},
   "outputs": [
    {
     "data": {
      "text/plain": [
       "TensorShape([100, 250])"
      ]
     },
     "execution_count": 214,
     "metadata": {},
     "output_type": "execute_result"
    }
   ],
   "source": [
    "example_batch_loss.shape"
   ]
  },
  {
   "cell_type": "markdown",
   "metadata": {},
   "source": [
    "---\n",
    "**model summmary**"
   ]
  },
  {
   "cell_type": "code",
   "execution_count": 215,
   "metadata": {},
   "outputs": [
    {
     "name": "stdout",
     "output_type": "stream",
     "text": [
      "Model: \"sequential_2\"\n",
      "_________________________________________________________________\n",
      "Layer (type)                 Output Shape              Param #   \n",
      "=================================================================\n",
      "embedding_2 (Embedding)      (100, None, 100)          1972500   \n",
      "_________________________________________________________________\n",
      "lstm_2 (LSTM)                (100, None, 20)           9680      \n",
      "_________________________________________________________________\n",
      "dense_2 (Dense)              (100, None, 19725)        414225    \n",
      "=================================================================\n",
      "Total params: 2,396,405\n",
      "Trainable params: 2,396,405\n",
      "Non-trainable params: 0\n",
      "_________________________________________________________________\n"
     ]
    }
   ],
   "source": [
    "model.summary()"
   ]
  },
  {
   "cell_type": "markdown",
   "metadata": {},
   "source": [
    "---\n",
    "## Train Model"
   ]
  },
  {
   "cell_type": "markdown",
   "metadata": {},
   "source": [
    "---\n",
    "**Configure Checkpoints**"
   ]
  },
  {
   "cell_type": "code",
   "execution_count": 216,
   "metadata": {},
   "outputs": [],
   "source": [
    "# Directory where the checkpoints will be saved\n",
    "checkpoint_dir = './rnn_train_checkpoints'\n",
    "# Name of the checkpoint files\n",
    "checkpoint_prefix = os.path.join(checkpoint_dir, \"ckpt_{epoch}\")\n",
    "\n",
    "checkpoint_callback=tf.keras.callbacks.ModelCheckpoint(\n",
    "    filepath=checkpoint_prefix,\n",
    "    save_weights_only=True)"
   ]
  },
  {
   "cell_type": "markdown",
   "metadata": {},
   "source": [
    "---\n",
    "**Fit Model**"
   ]
  },
  {
   "cell_type": "code",
   "execution_count": 217,
   "metadata": {},
   "outputs": [
    {
     "data": {
      "text/plain": [
       "<BatchDataset shapes: ((None, 250), (None, 250)), types: (tf.int32, tf.int32)>"
      ]
     },
     "execution_count": 217,
     "metadata": {},
     "output_type": "execute_result"
    }
   ],
   "source": [
    "epochs = 1\n",
    "dataset"
   ]
  },
  {
   "cell_type": "code",
   "execution_count": 218,
   "metadata": {},
   "outputs": [
    {
     "name": "stdout",
     "output_type": "stream",
     "text": [
      "Train for 40 steps\n",
      "40/40 [==============================] - 402s 10s/step - loss: 9.8063\n"
     ]
    }
   ],
   "source": [
    "history = model.fit(dataset, epochs=epochs, callbacks=[checkpoint_callback])"
   ]
  },
  {
   "cell_type": "markdown",
   "metadata": {},
   "source": [
    "---\n",
    "# Predict Sequences"
   ]
  },
  {
   "cell_type": "markdown",
   "metadata": {},
   "source": [
    "## Restore Latest Checkpoints"
   ]
  },
  {
   "cell_type": "code",
   "execution_count": 219,
   "metadata": {},
   "outputs": [
    {
     "data": {
      "text/plain": [
       "'./rnn_train_checkpoints/ckpt_1'"
      ]
     },
     "execution_count": 219,
     "metadata": {},
     "output_type": "execute_result"
    }
   ],
   "source": [
    "tf.train.latest_checkpoint(checkpoint_dir)"
   ]
  },
  {
   "cell_type": "code",
   "execution_count": 220,
   "metadata": {},
   "outputs": [],
   "source": [
    "model = build_model(n_items, embedding_dim, rnn_units, batch_size=1)\n",
    "\n",
    "model.load_weights(tf.train.latest_checkpoint(checkpoint_dir))\n",
    "                   \n",
    "model.build(tf.TensorShape([1, None]))"
   ]
  },
  {
   "cell_type": "code",
   "execution_count": 221,
   "metadata": {},
   "outputs": [
    {
     "name": "stdout",
     "output_type": "stream",
     "text": [
      "Model: \"sequential_3\"\n",
      "_________________________________________________________________\n",
      "Layer (type)                 Output Shape              Param #   \n",
      "=================================================================\n",
      "embedding_3 (Embedding)      (1, None, 100)            1972500   \n",
      "_________________________________________________________________\n",
      "lstm_3 (LSTM)                (1, None, 20)             9680      \n",
      "_________________________________________________________________\n",
      "dense_3 (Dense)              (1, None, 19725)          414225    \n",
      "=================================================================\n",
      "Total params: 2,396,405\n",
      "Trainable params: 2,396,405\n",
      "Non-trainable params: 0\n",
      "_________________________________________________________________\n"
     ]
    }
   ],
   "source": [
    "model.summary()"
   ]
  },
  {
   "cell_type": "markdown",
   "metadata": {},
   "source": [
    "---\n",
    "## Try Predictions"
   ]
  },
  {
   "cell_type": "markdown",
   "metadata": {},
   "source": [
    "**Test user**"
   ]
  },
  {
   "cell_type": "code",
   "execution_count": 260,
   "metadata": {},
   "outputs": [],
   "source": [
    "predictions_df = pd.DataFrame(columns=['user', 'pred_seq', 'true_seq'])"
   ]
  },
  {
   "cell_type": "code",
   "execution_count": 261,
   "metadata": {},
   "outputs": [],
   "source": [
    "temperature = 1.0\n",
    "\n",
    "for u in test_df.user_id.unique(): #Note: Can use multiprocessing module for this\n",
    "    generated_predictions = []\n",
    "    user_item_seq = np.array(test_df[test_df['user_id']==u]['item_id'])\n",
    "    half_test_seq = user_item_seq[:int(len(user_item_seq)/2)]\n",
    "    half_test_seq = half_test_seq.reshape(-1,1).transpose()\n",
    "    other_half = user_item_seq[int(len(user_item_seq)/2):]\n",
    "\n",
    "    #Predict\n",
    "    for item in half_test_seq[0]:\n",
    "        predictions = model(half_test_seq)\n",
    "        predictions = tf.squeeze(predictions, 0)\n",
    "\n",
    "        predictions = predictions / temperature\n",
    "        predicted_id = tf.random.categorical(predictions, num_samples=1)[-1,0].numpy()\n",
    "\n",
    "        half_test_seq = tf.expand_dims([predicted_id], 0)\n",
    "        generated_predictions.append(predicted_id)\n",
    "        \n",
    "    predictions_df = predictions_df.append({'user':u, 'pred_seq':generated_predictions, 'true_seq':other_half}, ignore_index=True)"
   ]
  },
  {
   "cell_type": "code",
   "execution_count": 262,
   "metadata": {},
   "outputs": [
    {
     "data": {
      "text/html": [
       "<div>\n",
       "<style scoped>\n",
       "    .dataframe tbody tr th:only-of-type {\n",
       "        vertical-align: middle;\n",
       "    }\n",
       "\n",
       "    .dataframe tbody tr th {\n",
       "        vertical-align: top;\n",
       "    }\n",
       "\n",
       "    .dataframe thead th {\n",
       "        text-align: right;\n",
       "    }\n",
       "</style>\n",
       "<table border=\"1\" class=\"dataframe\">\n",
       "  <thead>\n",
       "    <tr style=\"text-align: right;\">\n",
       "      <th></th>\n",
       "      <th>user</th>\n",
       "      <th>pred_seq</th>\n",
       "      <th>true_seq</th>\n",
       "    </tr>\n",
       "  </thead>\n",
       "  <tbody>\n",
       "    <tr>\n",
       "      <th>0</th>\n",
       "      <td>1919</td>\n",
       "      <td>[4431, 13638, 15464, 15169, 2662, 19610, 2634,...</td>\n",
       "      <td>[4985, 5780, 4900, 13866, 14362, 9564, 4788, 5...</td>\n",
       "    </tr>\n",
       "    <tr>\n",
       "      <th>1</th>\n",
       "      <td>3921</td>\n",
       "      <td>[4105, 10505, 3946, 237, 14781, 11681, 7047, 7...</td>\n",
       "      <td>[6060, 3586, 7090, 5931, 6196, 5775, 4360, 925...</td>\n",
       "    </tr>\n",
       "    <tr>\n",
       "      <th>2</th>\n",
       "      <td>3905</td>\n",
       "      <td>[13606, 4257, 9814, 2996, 11696, 9808, 8929, 1...</td>\n",
       "      <td>[366, 217, 485, 512, 346, 535, 565, 564, 197, ...</td>\n",
       "    </tr>\n",
       "    <tr>\n",
       "      <th>3</th>\n",
       "      <td>532</td>\n",
       "      <td>[4837, 5071, 16816, 17191, 5749, 7575, 18092, ...</td>\n",
       "      <td>[359, 567, 726, 465, 512, 425, 396, 366, 524, ...</td>\n",
       "    </tr>\n",
       "    <tr>\n",
       "      <th>4</th>\n",
       "      <td>603</td>\n",
       "      <td>[7319, 6927, 7408, 759, 1983, 3253, 4306, 3453...</td>\n",
       "      <td>[353, 442, 326, 279, 570, 49, 156, 145, 439, 4...</td>\n",
       "    </tr>\n",
       "    <tr>\n",
       "      <th>...</th>\n",
       "      <td>...</td>\n",
       "      <td>...</td>\n",
       "      <td>...</td>\n",
       "    </tr>\n",
       "    <tr>\n",
       "      <th>495</th>\n",
       "      <td>3970</td>\n",
       "      <td>[2451, 14345, 9291, 11159, 15553, 360, 13816, ...</td>\n",
       "      <td>[8757, 8286, 9091, 8943, 4933, 789, 9125, 6197...</td>\n",
       "    </tr>\n",
       "    <tr>\n",
       "      <th>496</th>\n",
       "      <td>536</td>\n",
       "      <td>[5458, 14719, 2041, 1072, 19462, 14731, 17613,...</td>\n",
       "      <td>[181, 283, 167, 494, 93, 153, 539, 459, 30, 21...</td>\n",
       "    </tr>\n",
       "    <tr>\n",
       "      <th>497</th>\n",
       "      <td>2538</td>\n",
       "      <td>[3383, 6179, 14307, 19562, 15105, 14753, 3339,...</td>\n",
       "      <td>[1001, 1174, 3082, 10000, 887, 2866, 0, 11588,...</td>\n",
       "    </tr>\n",
       "    <tr>\n",
       "      <th>498</th>\n",
       "      <td>1385</td>\n",
       "      <td>[446, 6212, 4046, 14170, 4901, 6749, 2604, 158...</td>\n",
       "      <td>[2403, 517, 818, 1253, 2309, 2128, 1784, 1783,...</td>\n",
       "    </tr>\n",
       "    <tr>\n",
       "      <th>499</th>\n",
       "      <td>683</td>\n",
       "      <td>[7643, 3442, 14532, 15102, 18061, 3323, 7879, ...</td>\n",
       "      <td>[4829, 5060, 6252, 5941, 5926, 35, 5749, 5694,...</td>\n",
       "    </tr>\n",
       "  </tbody>\n",
       "</table>\n",
       "<p>500 rows × 3 columns</p>\n",
       "</div>"
      ],
      "text/plain": [
       "     user                                           pred_seq  \\\n",
       "0    1919  [4431, 13638, 15464, 15169, 2662, 19610, 2634,...   \n",
       "1    3921  [4105, 10505, 3946, 237, 14781, 11681, 7047, 7...   \n",
       "2    3905  [13606, 4257, 9814, 2996, 11696, 9808, 8929, 1...   \n",
       "3     532  [4837, 5071, 16816, 17191, 5749, 7575, 18092, ...   \n",
       "4     603  [7319, 6927, 7408, 759, 1983, 3253, 4306, 3453...   \n",
       "..    ...                                                ...   \n",
       "495  3970  [2451, 14345, 9291, 11159, 15553, 360, 13816, ...   \n",
       "496   536  [5458, 14719, 2041, 1072, 19462, 14731, 17613,...   \n",
       "497  2538  [3383, 6179, 14307, 19562, 15105, 14753, 3339,...   \n",
       "498  1385  [446, 6212, 4046, 14170, 4901, 6749, 2604, 158...   \n",
       "499   683  [7643, 3442, 14532, 15102, 18061, 3323, 7879, ...   \n",
       "\n",
       "                                              true_seq  \n",
       "0    [4985, 5780, 4900, 13866, 14362, 9564, 4788, 5...  \n",
       "1    [6060, 3586, 7090, 5931, 6196, 5775, 4360, 925...  \n",
       "2    [366, 217, 485, 512, 346, 535, 565, 564, 197, ...  \n",
       "3    [359, 567, 726, 465, 512, 425, 396, 366, 524, ...  \n",
       "4    [353, 442, 326, 279, 570, 49, 156, 145, 439, 4...  \n",
       "..                                                 ...  \n",
       "495  [8757, 8286, 9091, 8943, 4933, 789, 9125, 6197...  \n",
       "496  [181, 283, 167, 494, 93, 153, 539, 459, 30, 21...  \n",
       "497  [1001, 1174, 3082, 10000, 887, 2866, 0, 11588,...  \n",
       "498  [2403, 517, 818, 1253, 2309, 2128, 1784, 1783,...  \n",
       "499  [4829, 5060, 6252, 5941, 5926, 35, 5749, 5694,...  \n",
       "\n",
       "[500 rows x 3 columns]"
      ]
     },
     "execution_count": 262,
     "metadata": {},
     "output_type": "execute_result"
    }
   ],
   "source": [
    "predictions_df"
   ]
  },
  {
   "cell_type": "markdown",
   "metadata": {},
   "source": [
    "---\n",
    "**Prediction Loop**"
   ]
  },
  {
   "cell_type": "code",
   "execution_count": null,
   "metadata": {},
   "outputs": [],
   "source": [
    "def generate_seq_preds(model, start_input):\n",
    "    # Evaluation step (generating text using the learned model)\n",
    "\n",
    "    # Number of characters to generate\n",
    "    num_generate = 1000\n",
    "\n",
    "    # Converting our start string to numbers (vectorizing)\n",
    "    input_eval = [char2idx[s] for s in start_string]\n",
    "    input_eval = tf.expand_dims(input_eval, 0)\n",
    "\n",
    "    # Empty string to store our results\n",
    "    text_generated = []\n",
    "\n",
    "    # Low temperatures results in more predictable text.\n",
    "    # Higher temperatures results in more surprising text.\n",
    "    # Experiment to find the best setting.\n",
    "    temperature = 1.0\n",
    "\n",
    "    # Here batch size == 1\n",
    "    model.reset_states()\n",
    "    for i in range(num_generate):\n",
    "        predictions = model(input_eval)\n",
    "        # remove the batch dimension\n",
    "        predictions = tf.squeeze(predictions, 0)\n",
    "\n",
    "        # using a categorical distribution to predict the character returned by the model\n",
    "        predictions = predictions / temperature\n",
    "        predicted_id = tf.random.categorical(predictions, num_samples=1)[-1,0].numpy()\n",
    "\n",
    "        # We pass the predicted character as the next input to the model\n",
    "        # along with the previous hidden state\n",
    "        input_eval = tf.expand_dims([predicted_id], 0)\n",
    "\n",
    "        text_generated.append(idx2char[predicted_id])\n",
    "\n",
    "    return (start_string + ''.join(text_generated))"
   ]
  },
  {
   "cell_type": "code",
   "execution_count": null,
   "metadata": {},
   "outputs": [],
   "source": [
    "print(generate_seq_preds(model, start_input=1))"
   ]
  },
  {
   "cell_type": "markdown",
   "metadata": {},
   "source": [
    "# Appendix"
   ]
  },
  {
   "cell_type": "code",
   "execution_count": null,
   "metadata": {},
   "outputs": [],
   "source": [
    "# oh_input = tf.keras.backend.one_hot(padded, n_items)\n",
    "# e = tf.keras.layers.Embedding(n_items, 100, input_length=max_l)"
   ]
  }
 ],
 "metadata": {
  "kernelspec": {
   "display_name": "Python 3",
   "language": "python",
   "name": "python3"
  },
  "language_info": {
   "codemirror_mode": {
    "name": "ipython",
    "version": 3
   },
   "file_extension": ".py",
   "mimetype": "text/x-python",
   "name": "python",
   "nbconvert_exporter": "python",
   "pygments_lexer": "ipython3",
   "version": "3.7.6"
  },
  "toc": {
   "base_numbering": 1,
   "nav_menu": {},
   "number_sections": true,
   "sideBar": true,
   "skip_h1_title": false,
   "title_cell": "Table of Contents",
   "title_sidebar": "Contents",
   "toc_cell": false,
   "toc_position": {
    "height": "375.742px",
    "left": "1048.75px",
    "top": "110.57px",
    "width": "200.295px"
   },
   "toc_section_display": true,
   "toc_window_display": true
  }
 },
 "nbformat": 4,
 "nbformat_minor": 2
}
