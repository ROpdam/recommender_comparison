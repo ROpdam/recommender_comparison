{
 "cells": [
  {
   "cell_type": "code",
   "execution_count": 1,
   "metadata": {
    "colab": {},
    "colab_type": "code",
    "id": "GKmM1TG-c-TS"
   },
   "outputs": [],
   "source": [
    "import pandas as pd\n",
    "import numpy as np\n",
    "import tensorflow as tf\n",
    "import matplotlib.pyplot as plt\n",
    "import time\n",
    "import os\n",
    "%load_ext autoreload\n",
    "%autoreload 2"
   ]
  },
  {
   "cell_type": "code",
   "execution_count": 2,
   "metadata": {
    "colab": {
     "base_uri": "https://localhost:8080/",
     "height": 34
    },
    "colab_type": "code",
    "executionInfo": {
     "elapsed": 534,
     "status": "ok",
     "timestamp": 1586364379603,
     "user": {
      "displayName": "Robin Opdam",
      "photoUrl": "",
      "userId": "15967290835659268034"
     },
     "user_tz": -120
    },
    "id": "eWJsd_7Pc-TZ",
    "outputId": "38fa93e1-7d3a-4b3e-9cc5-ff2f5debea21"
   },
   "outputs": [
    {
     "data": {
      "text/plain": [
       "('version:', '2.0.0')"
      ]
     },
     "execution_count": 2,
     "metadata": {},
     "output_type": "execute_result"
    }
   ],
   "source": [
    "'version:', tf.__version__ "
   ]
  },
  {
   "cell_type": "code",
   "execution_count": 3,
   "metadata": {},
   "outputs": [
    {
     "data": {
      "text/plain": [
       "('gpu available:', True)"
      ]
     },
     "execution_count": 3,
     "metadata": {},
     "output_type": "execute_result"
    }
   ],
   "source": [
    "'gpu available:', tf.test.is_gpu_available()"
   ]
  },
  {
   "cell_type": "markdown",
   "metadata": {
    "colab_type": "text",
    "id": "dCYwnVWQc-Te"
   },
   "source": [
    "# Read Data\n",
    "- all datasets are datetime sorted"
   ]
  },
  {
   "cell_type": "code",
   "execution_count": 4,
   "metadata": {
    "colab": {},
    "colab_type": "code",
    "id": "8zDM1sWVc-Tf"
   },
   "outputs": [],
   "source": [
    "# path = 'C:/Users/robin.opdam/Google Drive/Thesis (Msc)/Thesis_shared_files/'\n",
    "# path = '/Users/Robin/Google Drive/Thesis (Msc)/Thesis_shared_files/'\n",
    "path = '../' # Paperspace"
   ]
  },
  {
   "cell_type": "markdown",
   "metadata": {
    "colab_type": "text",
    "id": "D8KT8aimc-Tj"
   },
   "source": [
    "## Amazon Fashion "
   ]
  },
  {
   "cell_type": "code",
   "execution_count": 5,
   "metadata": {
    "colab": {},
    "colab_type": "code",
    "id": "l62L3lv-c-Tj"
   },
   "outputs": [],
   "source": [
    "# file_name = 'Amazon_full' \n",
    "# file_name = 'Amazon_05_users' \n",
    "# file_name = 'Amazon_01_users'"
   ]
  },
  {
   "cell_type": "markdown",
   "metadata": {
    "colab_type": "text",
    "id": "pLo0gKuEc-Tn"
   },
   "source": [
    "## MovieLens "
   ]
  },
  {
   "cell_type": "code",
   "execution_count": 6,
   "metadata": {
    "colab": {},
    "colab_type": "code",
    "id": "zbxNjxJFc-To"
   },
   "outputs": [],
   "source": [
    "data_path = 'datasets/'\n",
    "# data_path = 'data/ML/'\n",
    "# file_name = 'ML_full' \n",
    "# file_name = 'ML_05_users'\n",
    "file_name = 'ML_01_users'"
   ]
  },
  {
   "cell_type": "code",
   "execution_count": 7,
   "metadata": {
    "colab": {
     "base_uri": "https://localhost:8080/",
     "height": 204
    },
    "colab_type": "code",
    "executionInfo": {
     "elapsed": 487,
     "status": "ok",
     "timestamp": 1586364387222,
     "user": {
      "displayName": "Robin Opdam",
      "photoUrl": "",
      "userId": "15967290835659268034"
     },
     "user_tz": -120
    },
    "id": "O8lLdQE-c-Ts",
    "outputId": "03b7ad73-f0bb-41c5-f083-7571ba3c53d8"
   },
   "outputs": [
    {
     "data": {
      "text/html": [
       "<div>\n",
       "<style scoped>\n",
       "    .dataframe tbody tr th:only-of-type {\n",
       "        vertical-align: middle;\n",
       "    }\n",
       "\n",
       "    .dataframe tbody tr th {\n",
       "        vertical-align: top;\n",
       "    }\n",
       "\n",
       "    .dataframe thead th {\n",
       "        text-align: right;\n",
       "    }\n",
       "</style>\n",
       "<table border=\"1\" class=\"dataframe\">\n",
       "  <thead>\n",
       "    <tr style=\"text-align: right;\">\n",
       "      <th></th>\n",
       "      <th>user</th>\n",
       "      <th>item</th>\n",
       "      <th>rating</th>\n",
       "      <th>datetime</th>\n",
       "      <th>item_id</th>\n",
       "      <th>user_id</th>\n",
       "    </tr>\n",
       "  </thead>\n",
       "  <tbody>\n",
       "    <tr>\n",
       "      <th>18590190</th>\n",
       "      <td>120461</td>\n",
       "      <td>2501</td>\n",
       "      <td>5.0</td>\n",
       "      <td>2000-04-25 02:29:35</td>\n",
       "      <td>2372</td>\n",
       "      <td>11959</td>\n",
       "    </tr>\n",
       "    <tr>\n",
       "      <th>18590032</th>\n",
       "      <td>120461</td>\n",
       "      <td>252</td>\n",
       "      <td>4.0</td>\n",
       "      <td>2000-04-25 02:29:35</td>\n",
       "      <td>246</td>\n",
       "      <td>11959</td>\n",
       "    </tr>\n",
       "    <tr>\n",
       "      <th>18590159</th>\n",
       "      <td>120461</td>\n",
       "      <td>2069</td>\n",
       "      <td>4.0</td>\n",
       "      <td>2000-04-25 02:29:35</td>\n",
       "      <td>1946</td>\n",
       "      <td>11959</td>\n",
       "    </tr>\n",
       "    <tr>\n",
       "      <th>18590048</th>\n",
       "      <td>120461</td>\n",
       "      <td>440</td>\n",
       "      <td>4.0</td>\n",
       "      <td>2000-04-25 02:29:35</td>\n",
       "      <td>431</td>\n",
       "      <td>11959</td>\n",
       "    </tr>\n",
       "    <tr>\n",
       "      <th>18590145</th>\n",
       "      <td>120461</td>\n",
       "      <td>1959</td>\n",
       "      <td>4.0</td>\n",
       "      <td>2000-04-25 02:29:35</td>\n",
       "      <td>1836</td>\n",
       "      <td>11959</td>\n",
       "    </tr>\n",
       "  </tbody>\n",
       "</table>\n",
       "</div>"
      ],
      "text/plain": [
       "            user  item  rating            datetime  item_id  user_id\n",
       "18590190  120461  2501     5.0 2000-04-25 02:29:35     2372    11959\n",
       "18590032  120461   252     4.0 2000-04-25 02:29:35      246    11959\n",
       "18590159  120461  2069     4.0 2000-04-25 02:29:35     1946    11959\n",
       "18590048  120461   440     4.0 2000-04-25 02:29:35      431    11959\n",
       "18590145  120461  1959     4.0 2000-04-25 02:29:35     1836    11959"
      ]
     },
     "execution_count": 7,
     "metadata": {},
     "output_type": "execute_result"
    }
   ],
   "source": [
    "df = pd.read_pickle(path + data_path + file_name)\n",
    "df['item_id'] = df.item.astype('category').cat.codes\n",
    "df['user_id'] = df.user.astype('category').cat.codes\n",
    "df.head()"
   ]
  },
  {
   "cell_type": "markdown",
   "metadata": {},
   "source": [
    "# Data Prep"
   ]
  },
  {
   "cell_type": "markdown",
   "metadata": {},
   "source": [
    "## Init"
   ]
  },
  {
   "cell_type": "code",
   "execution_count": 8,
   "metadata": {},
   "outputs": [],
   "source": [
    "total_items = len(df.item_id.unique())"
   ]
  },
  {
   "cell_type": "code",
   "execution_count": 10,
   "metadata": {},
   "outputs": [],
   "source": [
    "res_ext = file_name[:2]\n",
    "all_models = pd.read_pickle(path + 'results/' + res_ext + '/all_models')"
   ]
  },
  {
   "cell_type": "markdown",
   "metadata": {},
   "source": [
    "### New Model?"
   ]
  },
  {
   "cell_type": "code",
   "execution_count": 18,
   "metadata": {},
   "outputs": [
    {
     "data": {
      "text/html": [
       "<div>\n",
       "<style scoped>\n",
       "    .dataframe tbody tr th:only-of-type {\n",
       "        vertical-align: middle;\n",
       "    }\n",
       "\n",
       "    .dataframe tbody tr th {\n",
       "        vertical-align: top;\n",
       "    }\n",
       "\n",
       "    .dataframe thead th {\n",
       "        text-align: right;\n",
       "    }\n",
       "</style>\n",
       "<table border=\"1\" class=\"dataframe\">\n",
       "  <thead>\n",
       "    <tr style=\"text-align: right;\">\n",
       "      <th></th>\n",
       "      <th>model_id</th>\n",
       "      <th>train_time</th>\n",
       "      <th>epochs</th>\n",
       "      <th>BATCH_SIZE</th>\n",
       "      <th>learning_rate</th>\n",
       "      <th>delta</th>\n",
       "      <th>max_seq_len</th>\n",
       "      <th>val_perc</th>\n",
       "      <th>test_perc</th>\n",
       "      <th>n_last_items</th>\n",
       "      <th>pad_value</th>\n",
       "      <th>shift_targets_by</th>\n",
       "      <th>loss</th>\n",
       "      <th>recall</th>\n",
       "      <th>val_loss</th>\n",
       "      <th>val_recall</th>\n",
       "    </tr>\n",
       "  </thead>\n",
       "  <tbody>\n",
       "    <tr>\n",
       "      <th>0</th>\n",
       "      <td>1ML</td>\n",
       "      <td>38.21</td>\n",
       "      <td>2</td>\n",
       "      <td>32</td>\n",
       "      <td>0.1</td>\n",
       "      <td>0.2</td>\n",
       "      <td>30</td>\n",
       "      <td>0.1</td>\n",
       "      <td>0.1</td>\n",
       "      <td>1</td>\n",
       "      <td>27387</td>\n",
       "      <td>1</td>\n",
       "      <td>[4.758840565921879, 4.5218276757152145]</td>\n",
       "      <td>[0.02555282, 0.040129572]</td>\n",
       "      <td>[4.606517875097631, 4.454784183967404]</td>\n",
       "      <td>[0.034687616, 0.045015093]</td>\n",
       "    </tr>\n",
       "  </tbody>\n",
       "</table>\n",
       "</div>"
      ],
      "text/plain": [
       "  model_id  train_time epochs BATCH_SIZE  learning_rate  delta max_seq_len  \\\n",
       "0      1ML       38.21      2         32            0.1    0.2          30   \n",
       "\n",
       "   val_perc  test_perc n_last_items pad_value shift_targets_by  \\\n",
       "0       0.1        0.1            1     27387                1   \n",
       "\n",
       "                                      loss                     recall  \\\n",
       "0  [4.758840565921879, 4.5218276757152145]  [0.02555282, 0.040129572]   \n",
       "\n",
       "                                 val_loss                  val_recall  \n",
       "0  [4.606517875097631, 4.454784183967404]  [0.034687616, 0.045015093]  "
      ]
     },
     "execution_count": 18,
     "metadata": {},
     "output_type": "execute_result"
    }
   ],
   "source": [
    "all_models"
   ]
  },
  {
   "cell_type": "code",
   "execution_count": 17,
   "metadata": {},
   "outputs": [],
   "source": [
    "new_model_id = str(int(all_models.model_id.max()[0]) + 1) + '_' + res_ext"
   ]
  },
  {
   "cell_type": "code",
   "execution_count": 21,
   "metadata": {},
   "outputs": [],
   "source": [
    "params = {\n",
    "'model_id':new_model_id,\n",
    "'train_time':0,\n",
    "'epochs':0,\n",
    "'BATCH_SIZE':32,\n",
    "'learning_rate':0.1,\n",
    "'delta':0.2,             # Diversity Bias\n",
    "'max_seq_len':30,        # Max length of sequence71=median\n",
    "\n",
    "'val_perc':0.1,          # Percentage of users from df in val and test set\n",
    "'test_perc':0.1, \n",
    "'n_last_items':1,        # Number of last (chronologically) items in val and test set\n",
    "\n",
    "'pad_value':total_items, # Pad with total_items+1 => masked => still use item 0\n",
    "'shift_targets_by':1     \n",
    "}"
   ]
  },
  {
   "cell_type": "code",
   "execution_count": 29,
   "metadata": {},
   "outputs": [],
   "source": [
    "BATCH_SIZE = params['BATCH_SIZE']\n",
    "learning_rate = params['learning_rate']\n",
    "delta = params['delta']\n",
    "max_seq_len = params['max_seq_len']\n",
    "\n",
    "val_perc = params['val_perc']\n",
    "test_perc = params['test_perc']\n",
    "n_last_items = params['n_last_items']\n",
    "\n",
    "pad_value = params['pad_value']\n",
    "shift_targets_by = params['shift_targets_by'] "
   ]
  },
  {
   "cell_type": "markdown",
   "metadata": {},
   "source": [
    "## TO PICK ONE: Train Test Split"
   ]
  },
  {
   "cell_type": "code",
   "execution_count": 30,
   "metadata": {},
   "outputs": [
    {
     "name": "stdout",
     "output_type": "stream",
     "text": [
      "Total number of items: 27387\n",
      "Total users: 16254\n",
      "Number of train users: 16224\n",
      "Number of test users: 1632\n",
      "Number of validation users: 1632 \n",
      "\n",
      "Users deleted: 30\n"
     ]
    }
   ],
   "source": [
    "from Data_prep import train_val_test_split\n",
    "\n",
    "# Train Test Val Split\n",
    "total_users, total_items, train_set, val_set, test_set = \\\n",
    "train_val_test_split(df, BATCH_SIZE, val_perc, test_perc, n_last_items)"
   ]
  },
  {
   "cell_type": "code",
   "execution_count": 31,
   "metadata": {},
   "outputs": [],
   "source": [
    "from Data_prep import leave_users_out\n",
    "\n",
    "train_set, val_set = leave_users_out(df, 1000, seed=1234)\n",
    "val_set, test_set = leave_users_out(df, 500, seed=1234)"
   ]
  },
  {
   "cell_type": "markdown",
   "metadata": {},
   "source": [
    "## Create Datasets\n",
    "- Can make train_val_test_split and create_seq_batch_dataset one step"
   ]
  },
  {
   "cell_type": "code",
   "execution_count": 32,
   "metadata": {},
   "outputs": [],
   "source": [
    "from Data_prep import create_seq_batch_dataset\n",
    "    \n",
    "#Train Set\n",
    "train_dataset = create_seq_batch_dataset(df=train_set, \n",
    "                                         shift=shift_targets_by, \n",
    "                                         max_seq_len=max_seq_len, \n",
    "                                         pad_value=pad_value, \n",
    "                                         batch_size=BATCH_SIZE, \n",
    "                                         stats=False,\n",
    "                                         drop_remainder=True)\n",
    "\n",
    "#Val Set\n",
    "val_dataset = create_seq_batch_dataset(df=val_set, \n",
    "                                       shift=shift_targets_by, \n",
    "                                       max_seq_len=max_seq_len, \n",
    "                                       pad_value=pad_value, \n",
    "                                       batch_size=BATCH_SIZE, \n",
    "                                       stats=False,\n",
    "                                       drop_remainder=True)\n",
    "\n",
    "#Test Set\n",
    "test_dataset = create_seq_batch_dataset(df=test_set, \n",
    "                                       shift=shift_targets_by, \n",
    "                                       max_seq_len=max_seq_len, \n",
    "                                       pad_value=pad_value, \n",
    "                                       batch_size=BATCH_SIZE, \n",
    "                                       stats=False,\n",
    "                                       drop_remainder=True)"
   ]
  },
  {
   "cell_type": "markdown",
   "metadata": {
    "colab_type": "text",
    "id": "pWbRJiusc-U4"
   },
   "source": [
    "---\n",
    "# LSTM Model\n",
    "Collaborative Filtering with Recurrent Neural Networks\n",
    "- paper: https://arxiv.org/pdf/1608.07400.pdf\n",
    "- code: https://github.com/rdevooght/sequence-based-recommendations (in Theano)"
   ]
  },
  {
   "cell_type": "markdown",
   "metadata": {
    "colab_type": "text",
    "id": "5uHkY9zyc-VA"
   },
   "source": [
    "## Build Model"
   ]
  },
  {
   "cell_type": "code",
   "execution_count": 33,
   "metadata": {
    "colab": {},
    "colab_type": "code",
    "id": "0HqmM7Gzc-VA"
   },
   "outputs": [],
   "source": [
    "embedding_dim = 100\n",
    "rnn_units = 20"
   ]
  },
  {
   "cell_type": "code",
   "execution_count": 34,
   "metadata": {
    "colab": {},
    "colab_type": "code",
    "id": "Lzpsaebwc-VC"
   },
   "outputs": [],
   "source": [
    "from Models import build_LSTM_model\n",
    "model = build_LSTM_model(total_items = total_items,\n",
    "                         embedding_dim = embedding_dim,\n",
    "                         mask_value = pad_value,\n",
    "                         rnn_units = rnn_units,\n",
    "                         batch_size = BATCH_SIZE)"
   ]
  },
  {
   "cell_type": "markdown",
   "metadata": {
    "colab_type": "text",
    "id": "bCRSnplpc-VF"
   },
   "source": [
    "## Add Custom Metric=Recall and Loss=Diversity Bias Loss"
   ]
  },
  {
   "cell_type": "code",
   "execution_count": 35,
   "metadata": {},
   "outputs": [],
   "source": [
    "from Evaluation import recall_metric, diversity_bias_loss, create_diversity_bias"
   ]
  },
  {
   "cell_type": "code",
   "execution_count": 36,
   "metadata": {},
   "outputs": [],
   "source": [
    "diversity_bias = create_diversity_bias(train_set, total_items, delta)"
   ]
  },
  {
   "cell_type": "code",
   "execution_count": 37,
   "metadata": {},
   "outputs": [],
   "source": [
    "optimizer=tf.keras.optimizers.Adagrad(lr=learning_rate)\n",
    "loss=diversity_bias_loss(db=diversity_bias, total_items=total_items)\n",
    "metrics=[recall_metric(total_items=total_items)]\n",
    "\n",
    "model.compile(optimizer=optimizer,\n",
    "              loss=loss, \n",
    "              metrics=metrics)"
   ]
  },
  {
   "cell_type": "markdown",
   "metadata": {
    "colab_type": "text",
    "id": "rEVgdcLEc-VY"
   },
   "source": [
    "## Summmary"
   ]
  },
  {
   "cell_type": "code",
   "execution_count": 38,
   "metadata": {
    "colab": {
     "base_uri": "https://localhost:8080/",
     "height": 255
    },
    "colab_type": "code",
    "executionInfo": {
     "elapsed": 532,
     "status": "ok",
     "timestamp": 1586364427504,
     "user": {
      "displayName": "Robin Opdam",
      "photoUrl": "",
      "userId": "15967290835659268034"
     },
     "user_tz": -120
    },
    "id": "9d9vAqj9c-VZ",
    "outputId": "36f6f17f-64da-4387-9929-d6dc450b55bb"
   },
   "outputs": [
    {
     "name": "stdout",
     "output_type": "stream",
     "text": [
      "Model: \"sequential\"\n",
      "_________________________________________________________________\n",
      "Layer (type)                 Output Shape              Param #   \n",
      "=================================================================\n",
      "embedding (Embedding)        (32, None, 100)           2738800   \n",
      "_________________________________________________________________\n",
      "masking (Masking)            (32, None, 100)           0         \n",
      "_________________________________________________________________\n",
      "lstm (LSTM)                  (32, None, 20)            9680      \n",
      "_________________________________________________________________\n",
      "dense (Dense)                (32, None, 27387)         575127    \n",
      "=================================================================\n",
      "Total params: 3,323,607\n",
      "Trainable params: 3,323,607\n",
      "Non-trainable params: 0\n",
      "_________________________________________________________________\n"
     ]
    }
   ],
   "source": [
    "model.summary()"
   ]
  },
  {
   "cell_type": "markdown",
   "metadata": {
    "colab_type": "text",
    "id": "9mzqTsiqc-Vc"
   },
   "source": [
    "---\n",
    "# Train Model"
   ]
  },
  {
   "cell_type": "markdown",
   "metadata": {
    "colab_type": "text",
    "id": "FetP-6nDc-Vd"
   },
   "source": [
    "## Configure Callbacks"
   ]
  },
  {
   "cell_type": "code",
   "execution_count": 377,
   "metadata": {},
   "outputs": [],
   "source": [
    "ext = '_' + file_name[:2] #ML or Am\n",
    "directory = './ckpts' \n",
    "directory = '../ckpts/ckpts'\n",
    "\n",
    "# Directory where the checkpoints will be saved\n",
    "checkpoint_dir = directory + '_' + str(params['model_id'])\n",
    "\n",
    "# Name of the checkpoint files\n",
    "checkpoint_prefix = os.path.join(checkpoint_dir, \"ckpt\")"
   ]
  },
  {
   "cell_type": "code",
   "execution_count": 47,
   "metadata": {
    "colab": {},
    "colab_type": "code",
    "id": "fWyjHT3dc-Vf"
   },
   "outputs": [],
   "source": [
    "from Helpers import TimingCallback\n",
    "\n",
    "checkpoint_callback = tf.keras.callbacks.ModelCheckpoint(filepath = checkpoint_prefix,    \n",
    "                                                         monitor = 'val_recall',    \n",
    "                                                         mode = 'max',    \n",
    "                                                         save_best_only = True,\n",
    "                                                         save_weights_only = True)\n",
    "\n",
    "early_stopping_callback = tf.keras.callbacks.EarlyStopping(monitor = 'recall',\n",
    "                                                           min_delta = 0.0001,\n",
    "                                                           mode = 'max',\n",
    "                                                           patience = 15)\n",
    "    \n",
    "\n",
    "timing_callback = TimingCallback()"
   ]
  },
  {
   "cell_type": "markdown",
   "metadata": {
    "colab_type": "text",
    "id": "zgpHHzp8c-Vi"
   },
   "source": [
    "## Fit Model"
   ]
  },
  {
   "cell_type": "code",
   "execution_count": 254,
   "metadata": {
    "colab": {
     "base_uri": "https://localhost:8080/",
     "height": 34
    },
    "colab_type": "code",
    "executionInfo": {
     "elapsed": 422,
     "status": "ok",
     "timestamp": 1586364435411,
     "user": {
      "displayName": "Robin Opdam",
      "photoUrl": "",
      "userId": "15967290835659268034"
     },
     "user_tz": -120
    },
    "id": "dx6G0y_Ic-Vi",
    "outputId": "045b9ca5-85e9-4a74-ac70-e002ea409212"
   },
   "outputs": [
    {
     "name": "stdout",
     "output_type": "stream",
     "text": [
      "#Batches: 476\n",
      "Batch size: 32\n"
     ]
    }
   ],
   "source": [
    "epochs = 2\n",
    "print('#Batches:', tf.data.experimental.cardinality(train_dataset).numpy())\n",
    "print('Batch size:', BATCH_SIZE)"
   ]
  },
  {
   "cell_type": "code",
   "execution_count": 255,
   "metadata": {
    "colab": {
     "base_uri": "https://localhost:8080/",
     "height": 1000
    },
    "colab_type": "code",
    "executionInfo": {
     "elapsed": 93383,
     "status": "error",
     "timestamp": 1586364530380,
     "user": {
      "displayName": "Robin Opdam",
      "photoUrl": "",
      "userId": "15967290835659268034"
     },
     "user_tz": -120
    },
    "id": "R0k6UFJRc-Vp",
    "outputId": "0413c5d8-6977-476c-f7c9-a06e9e63a47f"
   },
   "outputs": [
    {
     "name": "stdout",
     "output_type": "stream",
     "text": [
      "Fitting LSTM with max sequence length: 30\n",
      "Epoch 1/2\n",
      "476/476 [==============================] - 22s 45ms/step - loss: 4.4115 - recall: 0.0490 - val_loss: 0.0000e+00 - val_recall: 0.0000e+00\n",
      "Epoch 2/2\n",
      "476/476 [==============================] - 21s 44ms/step - loss: 4.3450 - recall: 0.0574 - val_loss: 4.3201 - val_recall: 0.0605\n"
     ]
    }
   ],
   "source": [
    "print('Fitting LSTM with max sequence length:', str(max_seq_len))\n",
    "history = model.fit(x = train_dataset, \n",
    "                    validation_data=val_dataset, \n",
    "                    epochs=epochs,\n",
    "#                         batch_size=BATCH_SIZE,\n",
    "#                         class_weight=class_weights,\n",
    "#                         sample_weight=np.vstack(train_sample_weights),\n",
    "                    callbacks=[checkpoint_callback, early_stopping_callback, timing_callback])"
   ]
  },
  {
   "cell_type": "markdown",
   "metadata": {},
   "source": [
    "# TODO"
   ]
  },
  {
   "cell_type": "code",
   "execution_count": 405,
   "metadata": {},
   "outputs": [],
   "source": [
    "def add_to_existing_model(model_dict, final_results):\n",
    "    print('Adding to existing DataFrame')\n",
    "    print(model_dict)\n",
    "    final_results['epochs'] += model_dict['epochs']\n",
    "    final_results['train_time'] += model_dict['train_time']\n",
    "    train_values = ['recall', 'val_recall', 'loss', 'val_loss']\n",
    "    for train_value in train_values:\n",
    "        final_results[train_value].extend(model_dict[train_value])\n",
    "    \n",
    "    final_results_df = pd.DataFrame(final_results)\n",
    "    \n",
    "    return final_results_df"
   ]
  },
  {
   "cell_type": "code",
   "execution_count": 429,
   "metadata": {},
   "outputs": [],
   "source": [
    "def store_LSTM_model(path, params, history, train_time):\n",
    "    final_results = {**params, **history.history, 'train_time':train_time, 'epochs':len(history.history['loss'])}\n",
    "    \n",
    "    if os.path.exists(path):\n",
    "        all_models = pd.read_pickle(path)\n",
    "#         if len(all_models) == 1 and final_results['model_id'] in all_models['model_id']:\n",
    "#             all_models.update(add_to_existing_model(all_models.to_dict(), final_results))\n",
    "            \n",
    "        if final_results['model_id'] in set(all_models['model_id']):\n",
    "            model_index = 0\n",
    "            if len(all_models) > 1:\n",
    "                model_index = all_models[all_models['model_id']==final_results['model_id']].index\n",
    "            all_models.update(add_to_existing_model(all_models.iloc[model_index].to_dict(), final_results))\n",
    "            \n",
    "        else:##\n",
    "            all_models = all_models.append(final_results, ignore_index=True)\n",
    "    else:##   \n",
    "        all_models = pd.DataFrame(columns=final_results.keys())\n",
    "        all_models = all_models.append(final_results, ignore_index=True)\n",
    "    \n",
    "    return all_models"
   ]
  },
  {
   "cell_type": "code",
   "execution_count": 442,
   "metadata": {},
   "outputs": [
    {
     "data": {
      "text/plain": [
       "<function str.index>"
      ]
     },
     "execution_count": 442,
     "metadata": {},
     "output_type": "execute_result"
    }
   ],
   "source": [
    "all_models[all_models['model_id']==final_results['model_id']].index"
   ]
  },
  {
   "cell_type": "code",
   "execution_count": 452,
   "metadata": {},
   "outputs": [
    {
     "data": {
      "text/plain": [
       "85.51350998878479"
      ]
     },
     "execution_count": 452,
     "metadata": {},
     "output_type": "execute_result"
    }
   ],
   "source": [
    "all_models[all_models['model_id'] == '1_ML']"
   ]
  },
  {
   "cell_type": "code",
   "execution_count": 459,
   "metadata": {},
   "outputs": [
    {
     "data": {
      "text/plain": [
       "model_id                                              2_ML\n",
       "train_time                                         85.5135\n",
       "epochs                                                   2\n",
       "BATCH_SIZE                                              32\n",
       "learning_rate                                          0.1\n",
       "delta                                                  0.2\n",
       "max_seq_len                                             30\n",
       "val_perc                                               0.1\n",
       "test_perc                                              0.1\n",
       "n_last_items                                             1\n",
       "pad_value                                            27387\n",
       "shift_targets_by                                         1\n",
       "loss                [4.411530450612557, 4.344958093987794]\n",
       "recall                           [0.048959255, 0.05737415]\n",
       "val_loss            [4.373318672180176, 4.320149163889691]\n",
       "val_recall                       [0.053253733, 0.06053967]\n",
       "Name: 0, dtype: object"
      ]
     },
     "execution_count": 459,
     "metadata": {},
     "output_type": "execute_result"
    }
   ],
   "source": [
    "all_models.iloc[0]"
   ]
  },
  {
   "cell_type": "code",
   "execution_count": 454,
   "metadata": {},
   "outputs": [
    {
     "data": {
      "text/plain": [
       "{'model_id': '2_ML',\n",
       " 'train_time': 0,\n",
       " 'epochs': 0,\n",
       " 'BATCH_SIZE': 32,\n",
       " 'learning_rate': 0.1,\n",
       " 'delta': 0.2,\n",
       " 'max_seq_len': 30,\n",
       " 'val_perc': 0.1,\n",
       " 'test_perc': 0.1,\n",
       " 'n_last_items': 1,\n",
       " 'pad_value': 27387,\n",
       " 'shift_targets_by': 1}"
      ]
     },
     "execution_count": 454,
     "metadata": {},
     "output_type": "execute_result"
    }
   ],
   "source": [
    "params"
   ]
  },
  {
   "cell_type": "code",
   "execution_count": 458,
   "metadata": {},
   "outputs": [
    {
     "name": "stdout",
     "output_type": "stream",
     "text": [
      "Int64Index([0], dtype='int64')\n",
      "Adding to existing DataFrame\n",
      "{'model_id': {0: '2_ML'}, 'train_time': {0: 85.51350998878479}, 'epochs': {0: 2}, 'BATCH_SIZE': {0: 32}, 'learning_rate': {0: 0.1}, 'delta': {0: 0.2}, 'max_seq_len': {0: 30}, 'val_perc': {0: 0.1}, 'test_perc': {0: 0.1}, 'n_last_items': {0: 1}, 'pad_value': {0: 27387}, 'shift_targets_by': {0: 1}, 'loss': {0: [4.411530450612557, 4.344958093987794]}, 'recall': {0: [0.048959255, 0.05737415]}, 'val_loss': {0: [4.373318672180176, 4.320149163889691]}, 'val_recall': {0: [0.053253733, 0.06053967]}}\n"
     ]
    },
    {
     "ename": "TypeError",
     "evalue": "unsupported operand type(s) for +=: 'int' and 'dict'",
     "output_type": "error",
     "traceback": [
      "\u001b[0;31m---------------------------------------------------------------------------\u001b[0m",
      "\u001b[0;31mTypeError\u001b[0m                                 Traceback (most recent call last)",
      "\u001b[0;32m<ipython-input-458-0c05fd023e63>\u001b[0m in \u001b[0;36m<module>\u001b[0;34m\u001b[0m\n\u001b[0;32m----> 1\u001b[0;31m \u001b[0mall_models\u001b[0m \u001b[0;34m=\u001b[0m \u001b[0mstore_LSTM_model\u001b[0m\u001b[0;34m(\u001b[0m\u001b[0mstore_path\u001b[0m\u001b[0;34m,\u001b[0m \u001b[0mparams\u001b[0m\u001b[0;34m,\u001b[0m \u001b[0mhistory\u001b[0m\u001b[0;34m,\u001b[0m \u001b[0mtrain_time\u001b[0m\u001b[0;34m)\u001b[0m\u001b[0;34m\u001b[0m\u001b[0;34m\u001b[0m\u001b[0m\n\u001b[0m\u001b[1;32m      2\u001b[0m \u001b[0;31m# all_models.to_pickle(store_path)\u001b[0m\u001b[0;34m\u001b[0m\u001b[0;34m\u001b[0m\u001b[0;34m\u001b[0m\u001b[0m\n\u001b[1;32m      3\u001b[0m \u001b[0mall_models\u001b[0m\u001b[0;34m\u001b[0m\u001b[0;34m\u001b[0m\u001b[0m\n",
      "\u001b[0;32m<ipython-input-429-5581282828cb>\u001b[0m in \u001b[0;36mstore_LSTM_model\u001b[0;34m(path, params, history, train_time)\u001b[0m\n\u001b[1;32m     10\u001b[0m             \u001b[0mmodel_index\u001b[0m \u001b[0;34m=\u001b[0m \u001b[0mall_models\u001b[0m\u001b[0;34m[\u001b[0m\u001b[0mall_models\u001b[0m\u001b[0;34m[\u001b[0m\u001b[0;34m'model_id'\u001b[0m\u001b[0;34m]\u001b[0m\u001b[0;34m==\u001b[0m\u001b[0mfinal_results\u001b[0m\u001b[0;34m[\u001b[0m\u001b[0;34m'model_id'\u001b[0m\u001b[0;34m]\u001b[0m\u001b[0;34m]\u001b[0m\u001b[0;34m.\u001b[0m\u001b[0mindex\u001b[0m\u001b[0;34m\u001b[0m\u001b[0;34m\u001b[0m\u001b[0m\n\u001b[1;32m     11\u001b[0m             \u001b[0mprint\u001b[0m\u001b[0;34m(\u001b[0m\u001b[0mmodel_index\u001b[0m\u001b[0;34m)\u001b[0m\u001b[0;34m\u001b[0m\u001b[0;34m\u001b[0m\u001b[0m\n\u001b[0;32m---> 12\u001b[0;31m             \u001b[0mall_models\u001b[0m\u001b[0;34m.\u001b[0m\u001b[0mupdate\u001b[0m\u001b[0;34m(\u001b[0m\u001b[0madd_to_existing_model\u001b[0m\u001b[0;34m(\u001b[0m\u001b[0mall_models\u001b[0m\u001b[0;34m.\u001b[0m\u001b[0miloc\u001b[0m\u001b[0;34m[\u001b[0m\u001b[0mmodel_index\u001b[0m\u001b[0;34m]\u001b[0m\u001b[0;34m.\u001b[0m\u001b[0mto_dict\u001b[0m\u001b[0;34m(\u001b[0m\u001b[0;34m)\u001b[0m\u001b[0;34m,\u001b[0m \u001b[0mfinal_results\u001b[0m\u001b[0;34m)\u001b[0m\u001b[0;34m)\u001b[0m\u001b[0;34m\u001b[0m\u001b[0;34m\u001b[0m\u001b[0m\n\u001b[0m\u001b[1;32m     13\u001b[0m \u001b[0;34m\u001b[0m\u001b[0m\n\u001b[1;32m     14\u001b[0m         \u001b[0;32melse\u001b[0m\u001b[0;34m:\u001b[0m\u001b[0;31m##\u001b[0m\u001b[0;34m\u001b[0m\u001b[0;34m\u001b[0m\u001b[0m\n",
      "\u001b[0;32m<ipython-input-405-1175b356c7d4>\u001b[0m in \u001b[0;36madd_to_existing_model\u001b[0;34m(model_dict, final_results)\u001b[0m\n\u001b[1;32m      2\u001b[0m     \u001b[0mprint\u001b[0m\u001b[0;34m(\u001b[0m\u001b[0;34m'Adding to existing DataFrame'\u001b[0m\u001b[0;34m)\u001b[0m\u001b[0;34m\u001b[0m\u001b[0;34m\u001b[0m\u001b[0m\n\u001b[1;32m      3\u001b[0m     \u001b[0mprint\u001b[0m\u001b[0;34m(\u001b[0m\u001b[0mmodel_dict\u001b[0m\u001b[0;34m)\u001b[0m\u001b[0;34m\u001b[0m\u001b[0;34m\u001b[0m\u001b[0m\n\u001b[0;32m----> 4\u001b[0;31m     \u001b[0mfinal_results\u001b[0m\u001b[0;34m[\u001b[0m\u001b[0;34m'epochs'\u001b[0m\u001b[0;34m]\u001b[0m \u001b[0;34m+=\u001b[0m \u001b[0mmodel_dict\u001b[0m\u001b[0;34m[\u001b[0m\u001b[0;34m'epochs'\u001b[0m\u001b[0;34m]\u001b[0m\u001b[0;34m\u001b[0m\u001b[0;34m\u001b[0m\u001b[0m\n\u001b[0m\u001b[1;32m      5\u001b[0m     \u001b[0mfinal_results\u001b[0m\u001b[0;34m[\u001b[0m\u001b[0;34m'train_time'\u001b[0m\u001b[0;34m]\u001b[0m \u001b[0;34m+=\u001b[0m \u001b[0mmodel_dict\u001b[0m\u001b[0;34m[\u001b[0m\u001b[0;34m'train_time'\u001b[0m\u001b[0;34m]\u001b[0m\u001b[0;34m\u001b[0m\u001b[0;34m\u001b[0m\u001b[0m\n\u001b[1;32m      6\u001b[0m     \u001b[0mtrain_values\u001b[0m \u001b[0;34m=\u001b[0m \u001b[0;34m[\u001b[0m\u001b[0;34m'recall'\u001b[0m\u001b[0;34m,\u001b[0m \u001b[0;34m'val_recall'\u001b[0m\u001b[0;34m,\u001b[0m \u001b[0;34m'loss'\u001b[0m\u001b[0;34m,\u001b[0m \u001b[0;34m'val_loss'\u001b[0m\u001b[0;34m]\u001b[0m\u001b[0;34m\u001b[0m\u001b[0;34m\u001b[0m\u001b[0m\n",
      "\u001b[0;31mTypeError\u001b[0m: unsupported operand type(s) for +=: 'int' and 'dict'"
     ]
    }
   ],
   "source": [
    "all_models = store_LSTM_model(store_path, params, history, train_time)\n",
    "# all_models.to_pickle(store_path)\n",
    "all_models"
   ]
  },
  {
   "cell_type": "code",
   "execution_count": 306,
   "metadata": {},
   "outputs": [
    {
     "data": {
      "text/plain": [
       "model_id                                              2_ML\n",
       "train_time                                         42.8197\n",
       "epochs                                                   2\n",
       "BATCH_SIZE                                              32\n",
       "learning_rate                                          0.1\n",
       "delta                                                  0.2\n",
       "max_seq_len                                             30\n",
       "val_perc                                               0.1\n",
       "test_perc                                              0.1\n",
       "n_last_items                                             1\n",
       "pad_value                                            27387\n",
       "shift_targets_by                                         1\n",
       "loss                [4.765899322613948, 4.524667009586046]\n",
       "recall                           [0.025187327, 0.03997531]\n",
       "val_loss            [4.610616824491237, 4.456750662346196]\n",
       "val_recall                      [0.034631453, 0.045065023]\n",
       "Name: 0, dtype: object"
      ]
     },
     "execution_count": 306,
     "metadata": {},
     "output_type": "execute_result"
    }
   ],
   "source": [
    "all_models"
   ]
  },
  {
   "cell_type": "code",
   "execution_count": 307,
   "metadata": {},
   "outputs": [
    {
     "ename": "ImportError",
     "evalue": "cannot import name 'store_LSTM_model'",
     "output_type": "error",
     "traceback": [
      "\u001b[0;31m---------------------------------------------------------------------------\u001b[0m",
      "\u001b[0;31mImportError\u001b[0m                               Traceback (most recent call last)",
      "\u001b[0;32m<ipython-input-307-e624a9cb2e70>\u001b[0m in \u001b[0;36m<module>\u001b[0;34m\u001b[0m\n\u001b[0;32m----> 1\u001b[0;31m \u001b[0;32mfrom\u001b[0m \u001b[0mHelpers\u001b[0m \u001b[0;32mimport\u001b[0m \u001b[0mstore_LSTM_model\u001b[0m\u001b[0;34m\u001b[0m\u001b[0;34m\u001b[0m\u001b[0m\n\u001b[0m\u001b[1;32m      2\u001b[0m \u001b[0madd_new_LSTM_results\u001b[0m\u001b[0;34m(\u001b[0m\u001b[0mpath\u001b[0m\u001b[0;34m,\u001b[0m \u001b[0mparams\u001b[0m\u001b[0;34m,\u001b[0m \u001b[0mhistory\u001b[0m\u001b[0;34m,\u001b[0m \u001b[0mnp\u001b[0m\u001b[0;34m.\u001b[0m\u001b[0msum\u001b[0m\u001b[0;34m(\u001b[0m\u001b[0mtiming_callback\u001b[0m\u001b[0;34m.\u001b[0m\u001b[0mlogs\u001b[0m\u001b[0;34m)\u001b[0m\u001b[0;34m)\u001b[0m\u001b[0;34m\u001b[0m\u001b[0;34m\u001b[0m\u001b[0m\n\u001b[1;32m      3\u001b[0m \u001b[0mtotal_train_time\u001b[0m \u001b[0;34m=\u001b[0m \u001b[0mround\u001b[0m\u001b[0;34m(\u001b[0m\u001b[0mparams\u001b[0m\u001b[0;34m[\u001b[0m\u001b[0;34m'train_time'\u001b[0m\u001b[0;34m]\u001b[0m \u001b[0;34m+\u001b[0m \u001b[0mnp\u001b[0m\u001b[0;34m.\u001b[0m\u001b[0msum\u001b[0m\u001b[0;34m(\u001b[0m\u001b[0mtiming_callback\u001b[0m\u001b[0;34m.\u001b[0m\u001b[0mlogs\u001b[0m\u001b[0;34m)\u001b[0m\u001b[0;34m,\u001b[0m\u001b[0;36m2\u001b[0m\u001b[0;34m)\u001b[0m\u001b[0;34m\u001b[0m\u001b[0;34m\u001b[0m\u001b[0m\n\u001b[1;32m      4\u001b[0m \u001b[0mtotal_epochs\u001b[0m \u001b[0;34m=\u001b[0m \u001b[0mparams\u001b[0m\u001b[0;34m[\u001b[0m\u001b[0;34m'epochs'\u001b[0m\u001b[0;34m]\u001b[0m \u001b[0;34m+\u001b[0m \u001b[0mepochs\u001b[0m\u001b[0;34m\u001b[0m\u001b[0;34m\u001b[0m\u001b[0m\n\u001b[1;32m      5\u001b[0m \u001b[0mresults\u001b[0m \u001b[0;34m=\u001b[0m \u001b[0mpd\u001b[0m\u001b[0;34m.\u001b[0m\u001b[0mDataFrame\u001b[0m\u001b[0;34m(\u001b[0m\u001b[0mhistory\u001b[0m\u001b[0;34m.\u001b[0m\u001b[0mhistory\u001b[0m\u001b[0;34m)\u001b[0m\u001b[0;34m\u001b[0m\u001b[0;34m\u001b[0m\u001b[0m\n",
      "\u001b[0;31mImportError\u001b[0m: cannot import name 'store_LSTM_model'"
     ]
    }
   ],
   "source": [
    "from Helpers import store_LSTM_model\n",
    "add_new_LSTM_results(path, params, history, np.sum(timing_callback.logs))\n",
    "total_train_time = round(params['train_time'] + np.sum(timing_callback.logs),2)\n",
    "total_epochs = params['epochs'] + epochs\n",
    "results = pd.DataFrame(history.history)\n",
    "final_results = {**params, **history.history, 'train_time':total_train_time, 'epochs':total_epochs}"
   ]
  },
  {
   "cell_type": "code",
   "execution_count": 132,
   "metadata": {},
   "outputs": [
    {
     "name": "stdout",
     "output_type": "stream",
     "text": [
      "ML_01_users ML\n"
     ]
    }
   ],
   "source": [
    "print(file_name, res_ext)"
   ]
  },
  {
   "cell_type": "code",
   "execution_count": 136,
   "metadata": {},
   "outputs": [],
   "source": [
    "all_models = pd.DataFrame(columns=final_results.keys())"
   ]
  },
  {
   "cell_type": "code",
   "execution_count": 139,
   "metadata": {},
   "outputs": [
    {
     "data": {
      "text/html": [
       "<div>\n",
       "<style scoped>\n",
       "    .dataframe tbody tr th:only-of-type {\n",
       "        vertical-align: middle;\n",
       "    }\n",
       "\n",
       "    .dataframe tbody tr th {\n",
       "        vertical-align: top;\n",
       "    }\n",
       "\n",
       "    .dataframe thead th {\n",
       "        text-align: right;\n",
       "    }\n",
       "</style>\n",
       "<table border=\"1\" class=\"dataframe\">\n",
       "  <thead>\n",
       "    <tr style=\"text-align: right;\">\n",
       "      <th></th>\n",
       "      <th>model_id</th>\n",
       "      <th>train_time</th>\n",
       "      <th>epochs</th>\n",
       "      <th>BATCH_SIZE</th>\n",
       "      <th>learning_rate</th>\n",
       "      <th>delta</th>\n",
       "      <th>max_seq_len</th>\n",
       "      <th>val_perc</th>\n",
       "      <th>test_perc</th>\n",
       "      <th>n_last_items</th>\n",
       "      <th>pad_value</th>\n",
       "      <th>shift_targets_by</th>\n",
       "      <th>loss</th>\n",
       "      <th>recall</th>\n",
       "      <th>val_loss</th>\n",
       "      <th>val_recall</th>\n",
       "    </tr>\n",
       "  </thead>\n",
       "  <tbody>\n",
       "    <tr>\n",
       "      <th>0</th>\n",
       "      <td>1ML</td>\n",
       "      <td>38.21</td>\n",
       "      <td>2</td>\n",
       "      <td>32</td>\n",
       "      <td>0.1</td>\n",
       "      <td>0.2</td>\n",
       "      <td>30</td>\n",
       "      <td>0.1</td>\n",
       "      <td>0.1</td>\n",
       "      <td>1</td>\n",
       "      <td>27387</td>\n",
       "      <td>1</td>\n",
       "      <td>[4.758840565921879, 4.5218276757152145]</td>\n",
       "      <td>[0.02555282, 0.040129572]</td>\n",
       "      <td>[4.606517875097631, 4.454784183967404]</td>\n",
       "      <td>[0.034687616, 0.045015093]</td>\n",
       "    </tr>\n",
       "  </tbody>\n",
       "</table>\n",
       "</div>"
      ],
      "text/plain": [
       "  model_id  train_time epochs BATCH_SIZE  learning_rate  delta max_seq_len  \\\n",
       "0      1ML       38.21      2         32            0.1    0.2          30   \n",
       "\n",
       "   val_perc  test_perc n_last_items pad_value shift_targets_by  \\\n",
       "0       0.1        0.1            1     27387                1   \n",
       "\n",
       "                                      loss                     recall  \\\n",
       "0  [4.758840565921879, 4.5218276757152145]  [0.02555282, 0.040129572]   \n",
       "\n",
       "                                 val_loss                  val_recall  \n",
       "0  [4.606517875097631, 4.454784183967404]  [0.034687616, 0.045015093]  "
      ]
     },
     "execution_count": 139,
     "metadata": {},
     "output_type": "execute_result"
    }
   ],
   "source": [
    "all_models = pd.read_pickle(path + 'results/' + res_ext + '/all_models')\n",
    "# all_models = all_models.append(final_results, ignore_index=True)\n",
    "all_models"
   ]
  },
  {
   "cell_type": "code",
   "execution_count": 138,
   "metadata": {},
   "outputs": [],
   "source": [
    "all_models.to_pickle(path + 'results/' + res_ext + '/all_models')"
   ]
  },
  {
   "cell_type": "code",
   "execution_count": 59,
   "metadata": {},
   "outputs": [
    {
     "data": {
      "image/png": "[encoded data removed]",
      "text/plain": [
       "<Figure size 432x288 with 1 Axes>"
      ]
     },
     "metadata": {
      "needs_background": "light"
     },
     "output_type": "display_data"
    },
    {
     "data": {
      "image/png": "[encoded data removed]",
      "text/plain": [
       "<Figure size 432x288 with 1 Axes>"
      ]
     },
     "metadata": {
      "needs_background": "light"
     },
     "output_type": "display_data"
    }
   ],
   "source": [
    "plt.plot(results['loss'])\n",
    "plt.plot(results['val_loss'])\n",
    "plt.show()\n",
    "plt.plot(results['recall'])\n",
    "plt.plot(results['val_recall'])\n",
    "plt.show()"
   ]
  },
  {
   "cell_type": "markdown",
   "metadata": {
    "colab_type": "text",
    "id": "qG6qSlkuc-Vs"
   },
   "source": [
    "---\n",
    "## Continue training from checkpoint"
   ]
  },
  {
   "cell_type": "code",
   "execution_count": 396,
   "metadata": {
    "colab": {},
    "colab_type": "code",
    "id": "EplgEE4Zc-Vz"
   },
   "outputs": [],
   "source": [
    "tf.train.latest_checkpoint(checkpoint_dir)\n",
    "model = build_model(total_items, embedding_dim, pad_value, rnn_units, batch_size=BATCH_SIZE)\n",
    "model.load_weights(tf.train.latest_checkpoint(checkpoint_dir))\n",
    "model.compile(optimizer=tf.keras.optimizers.Adagrad(lr=learning_rate), \n",
    "              loss=db_loss(db=db), \n",
    "              metrics=[recall])"
   ]
  },
  {
   "cell_type": "code",
   "execution_count": 397,
   "metadata": {
    "colab": {},
    "colab_type": "code",
    "id": "kisl-tXEc-V3"
   },
   "outputs": [],
   "source": [
    "initial_epoch = 800\n",
    "total_epochs = 900"
   ]
  },
  {
   "cell_type": "code",
   "execution_count": 398,
   "metadata": {
    "colab": {},
    "colab_type": "code",
    "id": "wte4RyUsc-V7"
   },
   "outputs": [
    {
     "name": "stdout",
     "output_type": "stream",
     "text": [
      "Epoch 801/900\n",
      "476/476 [==============================] - 26s 55ms/step - loss: 3.6794 - recall: 0.2695 - val_loss: 0.0000e+00 - val_recall: 0.0000e+00\n",
      "Epoch 802/900\n",
      "476/476 [==============================] - 19s 40ms/step - loss: 3.6791 - recall: 0.2696 - val_loss: 3.6796 - val_recall: 0.2696\n",
      "Epoch 803/900\n",
      "476/476 [==============================] - 19s 40ms/step - loss: 3.6787 - recall: 0.2696 - val_loss: 3.6792 - val_recall: 0.2697\n",
      "Epoch 804/900\n",
      "476/476 [==============================] - 19s 40ms/step - loss: 3.6783 - recall: 0.2697 - val_loss: 3.6788 - val_recall: 0.2697\n",
      "Epoch 805/900\n",
      "476/476 [==============================] - 19s 40ms/step - loss: 3.6779 - recall: 0.2697 - val_loss: 3.6784 - val_recall: 0.2697\n",
      "Epoch 806/900\n",
      "476/476 [==============================] - 19s 40ms/step - loss: 3.6774 - recall: 0.2698 - val_loss: 3.6779 - val_recall: 0.2698\n",
      "Epoch 807/900\n",
      "476/476 [==============================] - 19s 40ms/step - loss: 3.6770 - recall: 0.2698 - val_loss: 3.6775 - val_recall: 0.2698\n",
      "Epoch 808/900\n",
      "476/476 [==============================] - 19s 40ms/step - loss: 3.6766 - recall: 0.2698 - val_loss: 3.6771 - val_recall: 0.2698\n",
      "Epoch 809/900\n",
      "476/476 [==============================] - 19s 40ms/step - loss: 3.6762 - recall: 0.2699 - val_loss: 3.6767 - val_recall: 0.2699\n",
      "Epoch 810/900\n",
      "476/476 [==============================] - 19s 40ms/step - loss: 3.6758 - recall: 0.2699 - val_loss: 3.6763 - val_recall: 0.2699\n",
      "Epoch 811/900\n",
      "476/476 [==============================] - 19s 40ms/step - loss: 3.6754 - recall: 0.2699 - val_loss: 3.6759 - val_recall: 0.2700\n",
      "Epoch 812/900\n",
      "476/476 [==============================] - 19s 40ms/step - loss: 3.6750 - recall: 0.2700 - val_loss: 3.6756 - val_recall: 0.2700\n",
      "Epoch 813/900\n",
      "476/476 [==============================] - 19s 40ms/step - loss: 3.6746 - recall: 0.2700 - val_loss: 3.6752 - val_recall: 0.2700\n",
      "Epoch 814/900\n",
      "476/476 [==============================] - 19s 40ms/step - loss: 3.6742 - recall: 0.2701 - val_loss: 3.6748 - val_recall: 0.2701\n",
      "Epoch 815/900\n",
      "476/476 [==============================] - 19s 40ms/step - loss: 3.6738 - recall: 0.2701 - val_loss: 3.6744 - val_recall: 0.2701\n",
      "Epoch 816/900\n",
      "476/476 [==============================] - 19s 40ms/step - loss: 3.6735 - recall: 0.2701 - val_loss: 3.6740 - val_recall: 0.2702\n",
      "Epoch 817/900\n",
      "476/476 [==============================] - 19s 40ms/step - loss: 3.6731 - recall: 0.2702 - val_loss: 3.6737 - val_recall: 0.2702\n",
      "Epoch 818/900\n",
      "476/476 [==============================] - 19s 40ms/step - loss: 3.6727 - recall: 0.2702 - val_loss: 3.6733 - val_recall: 0.2702\n",
      "Epoch 819/900\n",
      "476/476 [==============================] - 19s 40ms/step - loss: 3.6723 - recall: 0.2703 - val_loss: 3.6729 - val_recall: 0.2703\n",
      "Epoch 820/900\n",
      "476/476 [==============================] - 19s 40ms/step - loss: 3.6720 - recall: 0.2703 - val_loss: 3.6725 - val_recall: 0.2703\n",
      "Epoch 821/900\n",
      "476/476 [==============================] - 19s 40ms/step - loss: 3.6716 - recall: 0.2703 - val_loss: 3.6722 - val_recall: 0.2704\n",
      "Epoch 822/900\n",
      "476/476 [==============================] - 19s 40ms/step - loss: 3.6712 - recall: 0.2704 - val_loss: 3.6718 - val_recall: 0.2704\n",
      "Epoch 823/900\n",
      "476/476 [==============================] - 19s 41ms/step - loss: 3.6709 - recall: 0.2704 - val_loss: 3.6714 - val_recall: 0.2704\n",
      "Epoch 824/900\n",
      "476/476 [==============================] - 19s 40ms/step - loss: 3.6705 - recall: 0.2704 - val_loss: 3.6711 - val_recall: 0.2705\n",
      "Epoch 825/900\n",
      "476/476 [==============================] - 19s 40ms/step - loss: 3.6701 - recall: 0.2705 - val_loss: 3.6707 - val_recall: 0.2705\n",
      "Epoch 826/900\n",
      "476/476 [==============================] - 19s 40ms/step - loss: 3.6697 - recall: 0.2705 - val_loss: 3.6703 - val_recall: 0.2705\n",
      "Epoch 827/900\n",
      "476/476 [==============================] - 19s 40ms/step - loss: 3.6694 - recall: 0.2705 - val_loss: 3.6700 - val_recall: 0.2706\n",
      "Epoch 828/900\n",
      "476/476 [==============================] - 19s 40ms/step - loss: 3.6690 - recall: 0.2706 - val_loss: 3.6696 - val_recall: 0.2706\n",
      "Epoch 829/900\n",
      "476/476 [==============================] - 19s 40ms/step - loss: 3.6686 - recall: 0.2706 - val_loss: 3.6692 - val_recall: 0.2706\n",
      "Epoch 830/900\n",
      "476/476 [==============================] - 19s 40ms/step - loss: 3.6683 - recall: 0.2706 - val_loss: 3.6689 - val_recall: 0.2707\n",
      "Epoch 831/900\n",
      "476/476 [==============================] - 19s 40ms/step - loss: 3.6679 - recall: 0.2707 - val_loss: 3.6685 - val_recall: 0.2707\n",
      "Epoch 832/900\n",
      "476/476 [==============================] - 19s 40ms/step - loss: 3.6676 - recall: 0.2707 - val_loss: 3.6682 - val_recall: 0.2707\n",
      "Epoch 833/900\n",
      "476/476 [==============================] - 19s 40ms/step - loss: 3.6672 - recall: 0.2707 - val_loss: 3.6678 - val_recall: 0.2707\n",
      "Epoch 834/900\n",
      "476/476 [==============================] - 19s 40ms/step - loss: 3.6668 - recall: 0.2708 - val_loss: 3.6674 - val_recall: 0.2708\n",
      "Epoch 835/900\n",
      "476/476 [==============================] - 19s 40ms/step - loss: 3.6665 - recall: 0.2708 - val_loss: 3.6671 - val_recall: 0.2708\n",
      "Epoch 836/900\n",
      "476/476 [==============================] - 19s 40ms/step - loss: 3.6661 - recall: 0.2708 - val_loss: 3.6667 - val_recall: 0.2708\n",
      "Epoch 837/900\n",
      "476/476 [==============================] - 19s 40ms/step - loss: 3.6657 - recall: 0.2708 - val_loss: 3.6664 - val_recall: 0.2709\n",
      "Epoch 838/900\n",
      "476/476 [==============================] - 19s 40ms/step - loss: 3.6654 - recall: 0.2709 - val_loss: 3.6660 - val_recall: 0.2709\n",
      "Epoch 839/900\n",
      "476/476 [==============================] - 19s 40ms/step - loss: 3.6650 - recall: 0.2709 - val_loss: 3.6657 - val_recall: 0.2709\n",
      "Epoch 840/900\n",
      "476/476 [==============================] - 19s 40ms/step - loss: 3.6647 - recall: 0.2709 - val_loss: 3.6653 - val_recall: 0.2709\n",
      "Epoch 841/900\n",
      "476/476 [==============================] - 19s 40ms/step - loss: 3.6643 - recall: 0.2710 - val_loss: 3.6649 - val_recall: 0.2710\n",
      "Epoch 842/900\n",
      "476/476 [==============================] - 19s 40ms/step - loss: 3.6640 - recall: 0.2710 - val_loss: 3.6646 - val_recall: 0.2710\n",
      "Epoch 843/900\n",
      "476/476 [==============================] - 19s 40ms/step - loss: 3.6636 - recall: 0.2710 - val_loss: 3.6642 - val_recall: 0.2710\n",
      "Epoch 844/900\n",
      "476/476 [==============================] - 19s 40ms/step - loss: 3.6632 - recall: 0.2710 - val_loss: 3.6639 - val_recall: 0.2710\n",
      "Epoch 845/900\n",
      "476/476 [==============================] - 19s 40ms/step - loss: 3.6629 - recall: 0.2711 - val_loss: 3.6635 - val_recall: 0.2711\n",
      "Epoch 846/900\n",
      "476/476 [==============================] - 19s 40ms/step - loss: 3.6625 - recall: 0.2711 - val_loss: 3.6632 - val_recall: 0.2711\n",
      "Epoch 847/900\n",
      "476/476 [==============================] - 19s 40ms/step - loss: 3.6622 - recall: 0.2711 - val_loss: 3.6628 - val_recall: 0.2711\n",
      "Epoch 848/900\n",
      "476/476 [==============================] - 19s 40ms/step - loss: 3.6618 - recall: 0.2711 - val_loss: 3.6625 - val_recall: 0.2711\n",
      "Epoch 849/900\n",
      "476/476 [==============================] - 19s 40ms/step - loss: 3.6615 - recall: 0.2712 - val_loss: 3.6621 - val_recall: 0.2712\n",
      "Epoch 850/900\n",
      "476/476 [==============================] - 19s 40ms/step - loss: 3.6611 - recall: 0.2712 - val_loss: 3.6618 - val_recall: 0.2712\n",
      "Epoch 851/900\n",
      "476/476 [==============================] - 19s 40ms/step - loss: 3.6608 - recall: 0.2712 - val_loss: 3.6614 - val_recall: 0.2712\n",
      "Epoch 852/900\n",
      "476/476 [==============================] - 19s 40ms/step - loss: 3.6604 - recall: 0.2712 - val_loss: 3.6611 - val_recall: 0.2713\n",
      "Epoch 853/900\n",
      "476/476 [==============================] - 19s 40ms/step - loss: 3.6601 - recall: 0.2713 - val_loss: 3.6607 - val_recall: 0.2713\n",
      "Epoch 854/900\n",
      "476/476 [==============================] - 19s 40ms/step - loss: 3.6597 - recall: 0.2713 - val_loss: 3.6604 - val_recall: 0.2713\n",
      "Epoch 855/900\n",
      "476/476 [==============================] - 19s 40ms/step - loss: 3.6593 - recall: 0.2713 - val_loss: 3.6600 - val_recall: 0.2713\n",
      "Epoch 856/900\n",
      "476/476 [==============================] - 19s 40ms/step - loss: 3.6590 - recall: 0.2713 - val_loss: 3.6597 - val_recall: 0.2714\n",
      "Epoch 857/900\n",
      "476/476 [==============================] - 19s 40ms/step - loss: 3.6586 - recall: 0.2714 - val_loss: 3.6593 - val_recall: 0.2714\n",
      "Epoch 858/900\n",
      "476/476 [==============================] - 19s 40ms/step - loss: 3.6583 - recall: 0.2714 - val_loss: 3.6590 - val_recall: 0.2714\n",
      "Epoch 859/900\n",
      "476/476 [==============================] - 19s 40ms/step - loss: 3.6579 - recall: 0.2714 - val_loss: 3.6586 - val_recall: 0.2714\n",
      "Epoch 860/900\n",
      "476/476 [==============================] - 19s 40ms/step - loss: 3.6576 - recall: 0.2715 - val_loss: 3.6583 - val_recall: 0.2715\n",
      "Epoch 861/900\n",
      "476/476 [==============================] - 19s 40ms/step - loss: 3.6572 - recall: 0.2715 - val_loss: 3.6579 - val_recall: 0.2715\n",
      "Epoch 862/900\n",
      "476/476 [==============================] - 19s 40ms/step - loss: 3.6569 - recall: 0.2715 - val_loss: 3.6576 - val_recall: 0.2715\n",
      "Epoch 863/900\n",
      "476/476 [==============================] - 19s 40ms/step - loss: 3.6565 - recall: 0.2715 - val_loss: 3.6572 - val_recall: 0.2715\n",
      "Epoch 864/900\n",
      "476/476 [==============================] - 19s 40ms/step - loss: 3.6562 - recall: 0.2716 - val_loss: 3.6569 - val_recall: 0.2716\n",
      "Epoch 865/900\n",
      "476/476 [==============================] - 19s 40ms/step - loss: 3.6558 - recall: 0.2716 - val_loss: 3.6565 - val_recall: 0.2716\n",
      "Epoch 866/900\n",
      "476/476 [==============================] - 19s 40ms/step - loss: 3.6555 - recall: 0.2716 - val_loss: 3.6562 - val_recall: 0.2716\n",
      "Epoch 867/900\n",
      "476/476 [==============================] - 19s 40ms/step - loss: 3.6551 - recall: 0.2717 - val_loss: 3.6558 - val_recall: 0.2717\n",
      "Epoch 868/900\n",
      "476/476 [==============================] - 19s 40ms/step - loss: 3.6548 - recall: 0.2717 - val_loss: 3.6555 - val_recall: 0.2717\n",
      "Epoch 869/900\n",
      "476/476 [==============================] - 19s 40ms/step - loss: 3.6544 - recall: 0.2717 - val_loss: 3.6551 - val_recall: 0.2717\n",
      "Epoch 870/900\n",
      "476/476 [==============================] - 19s 40ms/step - loss: 3.6541 - recall: 0.2717 - val_loss: 3.6548 - val_recall: 0.2717\n",
      "Epoch 871/900\n",
      "476/476 [==============================] - 19s 40ms/step - loss: 3.6537 - recall: 0.2718 - val_loss: 3.6544 - val_recall: 0.2718\n",
      "Epoch 872/900\n",
      "476/476 [==============================] - 19s 40ms/step - loss: 3.6534 - recall: 0.2718 - val_loss: 3.6541 - val_recall: 0.2718\n",
      "Epoch 873/900\n",
      "476/476 [==============================] - 19s 40ms/step - loss: 3.6530 - recall: 0.2718 - val_loss: 3.6537 - val_recall: 0.2718\n",
      "Epoch 874/900\n",
      "476/476 [==============================] - 19s 40ms/step - loss: 3.6527 - recall: 0.2718 - val_loss: 3.6534 - val_recall: 0.2718\n",
      "Epoch 875/900\n",
      "476/476 [==============================] - 19s 40ms/step - loss: 3.6523 - recall: 0.2719 - val_loss: 3.6530 - val_recall: 0.2719\n",
      "Epoch 876/900\n",
      "476/476 [==============================] - 19s 40ms/step - loss: 3.6520 - recall: 0.2719 - val_loss: 3.6527 - val_recall: 0.2719\n",
      "Epoch 877/900\n",
      "476/476 [==============================] - 19s 40ms/step - loss: 3.6516 - recall: 0.2719 - val_loss: 3.6523 - val_recall: 0.2719\n",
      "Epoch 878/900\n",
      "476/476 [==============================] - 19s 40ms/step - loss: 3.6513 - recall: 0.2719 - val_loss: 3.6520 - val_recall: 0.2719\n",
      "Epoch 879/900\n",
      "476/476 [==============================] - 19s 40ms/step - loss: 3.6509 - recall: 0.2720 - val_loss: 3.6517 - val_recall: 0.2720\n",
      "Epoch 880/900\n",
      "476/476 [==============================] - 19s 40ms/step - loss: 3.6506 - recall: 0.2720 - val_loss: 3.6513 - val_recall: 0.2720\n",
      "Epoch 881/900\n",
      "476/476 [==============================] - 19s 40ms/step - loss: 3.6502 - recall: 0.2720 - val_loss: 3.6510 - val_recall: 0.2720\n",
      "Epoch 882/900\n",
      "476/476 [==============================] - 19s 40ms/step - loss: 3.6499 - recall: 0.2720 - val_loss: 3.6506 - val_recall: 0.2720\n",
      "Epoch 883/900\n",
      "476/476 [==============================] - 19s 40ms/step - loss: 3.6495 - recall: 0.2721 - val_loss: 3.6503 - val_recall: 0.2721\n",
      "Epoch 884/900\n",
      "476/476 [==============================] - 19s 40ms/step - loss: 3.6492 - recall: 0.2721 - val_loss: 3.6499 - val_recall: 0.2721\n",
      "Epoch 885/900\n",
      "476/476 [==============================] - 19s 40ms/step - loss: 3.6488 - recall: 0.2721 - val_loss: 3.6496 - val_recall: 0.2721\n",
      "Epoch 886/900\n",
      "476/476 [==============================] - 19s 40ms/step - loss: 3.6485 - recall: 0.2721 - val_loss: 3.6492 - val_recall: 0.2721\n",
      "Epoch 887/900\n",
      "476/476 [==============================] - 19s 40ms/step - loss: 3.6481 - recall: 0.2722 - val_loss: 3.6489 - val_recall: 0.2722\n",
      "Epoch 888/900\n",
      "476/476 [==============================] - 19s 40ms/step - loss: 3.6477 - recall: 0.2722 - val_loss: 3.6485 - val_recall: 0.2722\n",
      "Epoch 889/900\n",
      "476/476 [==============================] - 19s 40ms/step - loss: 3.6474 - recall: 0.2722 - val_loss: 3.6482 - val_recall: 0.2722\n",
      "Epoch 890/900\n",
      "476/476 [==============================] - 19s 40ms/step - loss: 3.6470 - recall: 0.2722 - val_loss: 3.6478 - val_recall: 0.2722\n",
      "Epoch 891/900\n",
      "476/476 [==============================] - 19s 40ms/step - loss: 3.6467 - recall: 0.2723 - val_loss: 3.6475 - val_recall: 0.2723\n",
      "Epoch 892/900\n",
      "476/476 [==============================] - 19s 40ms/step - loss: 3.6463 - recall: 0.2723 - val_loss: 3.6471 - val_recall: 0.2723\n",
      "Epoch 893/900\n",
      "476/476 [==============================] - 19s 40ms/step - loss: 3.6460 - recall: 0.2723 - val_loss: 3.6468 - val_recall: 0.2723\n",
      "Epoch 894/900\n",
      "476/476 [==============================] - 19s 40ms/step - loss: 3.6456 - recall: 0.2723 - val_loss: 3.6464 - val_recall: 0.2723\n",
      "Epoch 895/900\n",
      "476/476 [==============================] - 19s 40ms/step - loss: 3.6453 - recall: 0.2723 - val_loss: 3.6460 - val_recall: 0.2723\n",
      "Epoch 896/900\n",
      "476/476 [==============================] - 19s 40ms/step - loss: 3.6449 - recall: 0.2724 - val_loss: 3.6457 - val_recall: 0.2724\n",
      "Epoch 897/900\n",
      "476/476 [==============================] - 19s 40ms/step - loss: 3.6445 - recall: 0.2724 - val_loss: 3.6453 - val_recall: 0.2724\n",
      "Epoch 898/900\n",
      "476/476 [==============================] - 19s 40ms/step - loss: 3.6442 - recall: 0.2724 - val_loss: 3.6450 - val_recall: 0.2724\n",
      "Epoch 899/900\n",
      "476/476 [==============================] - 19s 40ms/step - loss: 3.6438 - recall: 0.2724 - val_loss: 3.6446 - val_recall: 0.2724\n",
      "Epoch 900/900\n",
      "476/476 [==============================] - 19s 40ms/step - loss: 3.6435 - recall: 0.2724 - val_loss: 3.6443 - val_recall: 0.2724\n"
     ]
    }
   ],
   "source": [
    "history = model.fit(dataset, \n",
    "                    validation_data=val_dataset, \n",
    "                    epochs=total_epochs, \n",
    "                    callbacks=[checkpoint_callback, early_stopping_callback], \n",
    "                    initial_epoch=initial_epoch)\n",
    "#                     class_weight=class_weights)"
   ]
  },
  {
   "cell_type": "markdown",
   "metadata": {
    "colab_type": "text",
    "id": "Ltj7HkPxc-V-"
   },
   "source": [
    "---\n",
    "# Predict Sequences"
   ]
  },
  {
   "cell_type": "markdown",
   "metadata": {
    "colab_type": "text",
    "id": "2Spy42iNc-V_"
   },
   "source": [
    "## Restore Latest Checkpoints\n",
    "- TODO: include partial when loading weights"
   ]
  },
  {
   "cell_type": "code",
   "execution_count": 28,
   "metadata": {},
   "outputs": [],
   "source": [
    "model = build_model(total_items, embedding_dim, pad_value, rnn_units, batch_size=1, return_sequences=False)\n",
    "\n",
    "model.load_weights(tf.train.latest_checkpoint(checkpoint_dir))\n",
    "\n",
    "model.build(tf.TensorShape([1, None]))"
   ]
  },
  {
   "cell_type": "code",
   "execution_count": 29,
   "metadata": {},
   "outputs": [
    {
     "name": "stdout",
     "output_type": "stream",
     "text": [
      "Model: \"sequential_2\"\n",
      "_________________________________________________________________\n",
      "Layer (type)                 Output Shape              Param #   \n",
      "=================================================================\n",
      "embedding_2 (Embedding)      (1, None, 100)            2738800   \n",
      "_________________________________________________________________\n",
      "masking_2 (Masking)          (1, None, 100)            0         \n",
      "_________________________________________________________________\n",
      "lstm_2 (LSTM)                (1, 20)                   9680      \n",
      "_________________________________________________________________\n",
      "dense_2 (Dense)              (1, 27387)                575127    \n",
      "=================================================================\n",
      "Total params: 3,323,607\n",
      "Trainable params: 3,323,607\n",
      "Non-trainable params: 0\n",
      "_________________________________________________________________\n"
     ]
    }
   ],
   "source": [
    "model.summary()"
   ]
  },
  {
   "cell_type": "code",
   "execution_count": 30,
   "metadata": {
    "colab": {},
    "colab_type": "code",
    "id": "rY0mtM26c-V_"
   },
   "outputs": [
    {
     "data": {
      "text/plain": [
       "'../ckpts/ckpts_30ML_01_users_lr0.1_batch32_mask/ckpt'"
      ]
     },
     "execution_count": 30,
     "metadata": {},
     "output_type": "execute_result"
    }
   ],
   "source": [
    "tf.train.latest_checkpoint(checkpoint_dir)"
   ]
  },
  {
   "cell_type": "code",
   "execution_count": 40,
   "metadata": {},
   "outputs": [],
   "source": [
    "def get_predictions(model, train_set, test_set, rank_at):\n",
    "    \"\"\"\n",
    "    Uses a Keras model with batch size set to 1 to predict the rest of the sequences from the train_set per user.\n",
    "    Finally creates predictions_df where each row represents user, a list pred_items_ranked and a list containing true_ids\n",
    "    from the test_set\n",
    "    :param model: Keras RNN model with batch size set to 1\n",
    "    :param train_set: pandas df containing user_id, item_id sorted on datetime per user\n",
    "    :param test_set: pandas df containing: user_id, last item_id(s) per user\n",
    "    :param rank_at: maximum of top ranked items per user\n",
    "    :param temp: temperature, 1 means no deviation from model prediction\n",
    "    :return: pandas df where each row represents a user, the columns represent: pred_items_ranked at rank_at,\n",
    "             true_id extracted from test_set\n",
    "    \"\"\"\n",
    "    test_user_sequences = train_set[train_set.user_id.isin(test_set.user_id.unique())].groupby('user_id')['item_id'].apply(list)\n",
    "    user_items = np.array(test_set.groupby('user_id')['item_id'].apply(list))\n",
    "    users = test_user_sequences.index \n",
    "    all_predictions = []\n",
    "    all_true_items = []\n",
    "\n",
    "    for true_items, user_sequence in zip(user_items, test_user_sequences):\n",
    "        predictions = []\n",
    "        all_true_items.append(list(np.array(true_items)))\n",
    "        for i in range(rank_at):\n",
    "            pred_item_id = model.predict_classes(np.array([user_sequence,]), batch_size=1)\n",
    "            user_sequence.append(pred_item_id)\n",
    "            predictions.append(pred_item_id)\n",
    "\n",
    "        all_predictions.append(predictions)\n",
    "\n",
    "    predictions_df = pd.DataFrame(list(zip(users, all_predictions, all_true_items)),\n",
    "                              columns=['user', 'pred_items_ranked', 'true_id'])\n",
    "\n",
    "\n",
    "    return predictions_df"
   ]
  },
  {
   "cell_type": "code",
   "execution_count": null,
   "metadata": {},
   "outputs": [],
   "source": [
    "rank_at = 20\n",
    "preds_df = get_predictions(model, train_set, test_set, rank_at)"
   ]
  },
  {
   "cell_type": "code",
   "execution_count": 29,
   "metadata": {},
   "outputs": [],
   "source": []
  },
  {
   "cell_type": "code",
   "execution_count": 32,
   "metadata": {},
   "outputs": [],
   "source": [
    "test_set_u_i = test_set.groupby('user_id')['item_id'].apply(list)\n",
    "test_X = []\n",
    "test_y = []\n",
    "all_predictions = []\n",
    "for user_items in test_set_u_i:\n",
    "    test_X.append(user_items[-200:-1])\n",
    "    test_y.append(user_items[-1:])\n",
    "\n",
    "for i, seq in enumerate(test_X): \n",
    "    seq = seq.copy()\n",
    "    predictions = []\n",
    "    for i in range(20):\n",
    "        pred_item_id = model.predict_classes(np.array([seq,]), batch_size=1)[0]\n",
    "        seq.append(pred_item_id)\n",
    "        predictions.append(pred_item_id)\n",
    "    all_predictions.append(predictions)\n",
    "    \n",
    "predictions_df = pd.DataFrame(list(zip(test_set.user_id.unique(), all_predictions, test_y)),\n",
    "                              columns=['user', 'pred_items_ranked', 'true_id'])"
   ]
  },
  {
   "cell_type": "code",
   "execution_count": null,
   "metadata": {},
   "outputs": [],
   "source": [
    "# for p in predictions_df['pred_items_ranked']:\n",
    "#     for i in p:\n",
    "#         if i != 348:\n",
    "#             print(i)"
   ]
  },
  {
   "cell_type": "code",
   "execution_count": 33,
   "metadata": {},
   "outputs": [
    {
     "data": {
      "text/plain": [
       "item_id\n",
       "311     7762\n",
       "348     7684\n",
       "289     7468\n",
       "581     6946\n",
       "2441    6855\n",
       "254     6457\n",
       "471     6022\n",
       "518     5733\n",
       "107     5521\n",
       "2823    5510\n",
       "577     5400\n",
       "1148    5391\n",
       "0       5363\n",
       "4805    5274\n",
       "49      5177\n",
       "1150    5133\n",
       "1161    5127\n",
       "2724    5109\n",
       "828     4936\n",
       "5734    4877\n",
       "Name: user_id, dtype: int64"
      ]
     },
     "execution_count": 33,
     "metadata": {},
     "output_type": "execute_result"
    }
   ],
   "source": [
    "train_set.groupby('item_id')['user_id'].count().sort_values(ascending=False)[:20]"
   ]
  },
  {
   "cell_type": "code",
   "execution_count": 34,
   "metadata": {},
   "outputs": [
    {
     "data": {
      "text/html": [
       "<div>\n",
       "<style scoped>\n",
       "    .dataframe tbody tr th:only-of-type {\n",
       "        vertical-align: middle;\n",
       "    }\n",
       "\n",
       "    .dataframe tbody tr th {\n",
       "        vertical-align: top;\n",
       "    }\n",
       "\n",
       "    .dataframe thead th {\n",
       "        text-align: right;\n",
       "    }\n",
       "</style>\n",
       "<table border=\"1\" class=\"dataframe\">\n",
       "  <thead>\n",
       "    <tr style=\"text-align: right;\">\n",
       "      <th></th>\n",
       "      <th>user</th>\n",
       "      <th>pred_items_ranked</th>\n",
       "      <th>true_id</th>\n",
       "    </tr>\n",
       "  </thead>\n",
       "  <tbody>\n",
       "    <tr>\n",
       "      <th>0</th>\n",
       "      <td>9430</td>\n",
       "      <td>[289, 289, 581, 581, 581, 581, 581, 581, 311, ...</td>\n",
       "      <td>[11411]</td>\n",
       "    </tr>\n",
       "    <tr>\n",
       "      <th>1</th>\n",
       "      <td>15350</td>\n",
       "      <td>[348, 348, 348, 289, 311, 289, 311, 311, 145, ...</td>\n",
       "      <td>[13707]</td>\n",
       "    </tr>\n",
       "    <tr>\n",
       "      <th>2</th>\n",
       "      <td>9516</td>\n",
       "      <td>[10968, 10968, 10968, 10968, 10968, 10968, 109...</td>\n",
       "      <td>[17257]</td>\n",
       "    </tr>\n",
       "    <tr>\n",
       "      <th>3</th>\n",
       "      <td>7237</td>\n",
       "      <td>[348, 348, 348, 348, 348, 348, 348, 348, 348, ...</td>\n",
       "      <td>[348]</td>\n",
       "    </tr>\n",
       "    <tr>\n",
       "      <th>4</th>\n",
       "      <td>13653</td>\n",
       "      <td>[254, 254, 254, 254, 254, 254, 254, 254, 254, ...</td>\n",
       "      <td>[532]</td>\n",
       "    </tr>\n",
       "    <tr>\n",
       "      <th>...</th>\n",
       "      <td>...</td>\n",
       "      <td>...</td>\n",
       "      <td>...</td>\n",
       "    </tr>\n",
       "    <tr>\n",
       "      <th>495</th>\n",
       "      <td>3602</td>\n",
       "      <td>[753, 753, 753, 630, 630, 630, 630, 630, 630, ...</td>\n",
       "      <td>[1131]</td>\n",
       "    </tr>\n",
       "    <tr>\n",
       "      <th>496</th>\n",
       "      <td>9515</td>\n",
       "      <td>[761, 761, 761, 761, 761, 761, 761, 761, 761, ...</td>\n",
       "      <td>[336]</td>\n",
       "    </tr>\n",
       "    <tr>\n",
       "      <th>497</th>\n",
       "      <td>11961</td>\n",
       "      <td>[828, 828, 828, 254, 254, 254, 828, 254, 254, ...</td>\n",
       "      <td>[1800]</td>\n",
       "    </tr>\n",
       "    <tr>\n",
       "      <th>498</th>\n",
       "      <td>14898</td>\n",
       "      <td>[289, 289, 581, 581, 581, 581, 581, 581, 581, ...</td>\n",
       "      <td>[5098]</td>\n",
       "    </tr>\n",
       "    <tr>\n",
       "      <th>499</th>\n",
       "      <td>12674</td>\n",
       "      <td>[289, 581, 581, 581, 581, 581, 581, 581, 581, ...</td>\n",
       "      <td>[31]</td>\n",
       "    </tr>\n",
       "  </tbody>\n",
       "</table>\n",
       "<p>500 rows × 3 columns</p>\n",
       "</div>"
      ],
      "text/plain": [
       "      user                                  pred_items_ranked  true_id\n",
       "0     9430  [289, 289, 581, 581, 581, 581, 581, 581, 311, ...  [11411]\n",
       "1    15350  [348, 348, 348, 289, 311, 289, 311, 311, 145, ...  [13707]\n",
       "2     9516  [10968, 10968, 10968, 10968, 10968, 10968, 109...  [17257]\n",
       "3     7237  [348, 348, 348, 348, 348, 348, 348, 348, 348, ...    [348]\n",
       "4    13653  [254, 254, 254, 254, 254, 254, 254, 254, 254, ...    [532]\n",
       "..     ...                                                ...      ...\n",
       "495   3602  [753, 753, 753, 630, 630, 630, 630, 630, 630, ...   [1131]\n",
       "496   9515  [761, 761, 761, 761, 761, 761, 761, 761, 761, ...    [336]\n",
       "497  11961  [828, 828, 828, 254, 254, 254, 828, 254, 254, ...   [1800]\n",
       "498  14898  [289, 289, 581, 581, 581, 581, 581, 581, 581, ...   [5098]\n",
       "499  12674  [289, 581, 581, 581, 581, 581, 581, 581, 581, ...     [31]\n",
       "\n",
       "[500 rows x 3 columns]"
      ]
     },
     "execution_count": 34,
     "metadata": {},
     "output_type": "execute_result"
    }
   ],
   "source": [
    "predictions_df"
   ]
  },
  {
   "cell_type": "markdown",
   "metadata": {
    "colab_type": "text",
    "id": "XQNPBkyQc-WI"
   },
   "source": [
    "## Create Predictions\n",
    "- **TODO: Can keep batches of 64 for evaluation => faster**"
   ]
  },
  {
   "cell_type": "markdown",
   "metadata": {
    "colab_type": "text",
    "id": "n3A-hRV-c-WJ"
   },
   "source": [
    "Using train_set sequences to predict test_set / val_set item(s)"
   ]
  },
  {
   "cell_type": "code",
   "execution_count": 373,
   "metadata": {},
   "outputs": [],
   "source": [
    "from Evaluation import get_predictions"
   ]
  },
  {
   "cell_type": "code",
   "execution_count": 374,
   "metadata": {},
   "outputs": [
    {
     "data": {
      "text/plain": [
       "'ML_01_users'"
      ]
     },
     "execution_count": 374,
     "metadata": {},
     "output_type": "execute_result"
    }
   ],
   "source": [
    "file_name"
   ]
  },
  {
   "cell_type": "markdown",
   "metadata": {},
   "source": [
    "### Val Set Predictions"
   ]
  },
  {
   "cell_type": "code",
   "execution_count": 33,
   "metadata": {},
   "outputs": [],
   "source": [
    "rank_at = 20\n",
    "preds_val = get_predictions(model, train_set, val_set, rank_at)\n",
    "preds_val.to_pickle('../results/preds_val_CFRNN_vsl_100_' + file_name + '_lr' + str(learning_rate))"
   ]
  },
  {
   "cell_type": "markdown",
   "metadata": {},
   "source": [
    "### Fixed"
   ]
  },
  {
   "cell_type": "code",
   "execution_count": 33,
   "metadata": {},
   "outputs": [],
   "source": [
    "rank_at = 20\n",
    "preds_val = get_predictions(model, train_set, val_set, rank_at)\n",
    "preds_val.to_pickle('../results/preds_val_CFRNN_fixed_100_' + str(max_seq_len) + '_' + file_name + '_lr' + str(learning_rate))"
   ]
  },
  {
   "cell_type": "markdown",
   "metadata": {},
   "source": [
    "### Test Set Predictions"
   ]
  },
  {
   "cell_type": "code",
   "execution_count": 34,
   "metadata": {},
   "outputs": [],
   "source": [
    "rank_at = 20\n",
    "preds_test = get_predictions(model, train_set, test_set, rank_at)\n",
    "preds_test.to_pickle('../results/preds_test_CFRNN_vsl_100_' + file_name + '_lr' + str(learning_rate))"
   ]
  },
  {
   "cell_type": "markdown",
   "metadata": {},
   "source": [
    "### Fixed"
   ]
  },
  {
   "cell_type": "code",
   "execution_count": 34,
   "metadata": {},
   "outputs": [],
   "source": [
    "rank_at = 20\n",
    "preds_test = get_predictions(model, train_set, test_set, rank_at)\n",
    "preds_test.to_pickle('../results/preds_test_CFRNN_fixed_100_' + str(max_seq_len) + '_' + file_name + '_lr' + str(learning_rate))"
   ]
  },
  {
   "cell_type": "markdown",
   "metadata": {},
   "source": [
    "#### Read Predictions"
   ]
  },
  {
   "cell_type": "code",
   "execution_count": 55,
   "metadata": {},
   "outputs": [],
   "source": [
    "# predictions = pd.read_pickle('CFRNN_res_200_ML_01_users')"
   ]
  },
  {
   "cell_type": "markdown",
   "metadata": {
    "colab_type": "text",
    "id": "XobdlG9Wc-WY"
   },
   "source": [
    "---\n",
    "# Evaluate"
   ]
  },
  {
   "cell_type": "code",
   "execution_count": null,
   "metadata": {},
   "outputs": [],
   "source": [
    "preds_df"
   ]
  },
  {
   "cell_type": "code",
   "execution_count": null,
   "metadata": {},
   "outputs": [],
   "source": [
    "from Evaluation import get_metrics"
   ]
  },
  {
   "cell_type": "code",
   "execution_count": null,
   "metadata": {},
   "outputs": [],
   "source": [
    "metrics_test_set_vsl = get_metrics(preds_df, 5, 20)\n",
    "metrics_test_set_vsl"
   ]
  },
  {
   "cell_type": "markdown",
   "metadata": {},
   "source": [
    "### Val Set Metrics"
   ]
  },
  {
   "cell_type": "code",
   "execution_count": 36,
   "metadata": {},
   "outputs": [
    {
     "name": "stdout",
     "output_type": "stream",
     "text": [
      "Obtaining metrics time: 1.12\n"
     ]
    },
    {
     "data": {
      "text/html": [
       "<div>\n",
       "<style scoped>\n",
       "    .dataframe tbody tr th:only-of-type {\n",
       "        vertical-align: middle;\n",
       "    }\n",
       "\n",
       "    .dataframe tbody tr th {\n",
       "        vertical-align: top;\n",
       "    }\n",
       "\n",
       "    .dataframe thead th {\n",
       "        text-align: right;\n",
       "    }\n",
       "</style>\n",
       "<table border=\"1\" class=\"dataframe\">\n",
       "  <thead>\n",
       "    <tr style=\"text-align: right;\">\n",
       "      <th></th>\n",
       "      <th>rank_at</th>\n",
       "      <th>hitcounts</th>\n",
       "      <th>recall</th>\n",
       "      <th>precision</th>\n",
       "    </tr>\n",
       "  </thead>\n",
       "  <tbody>\n",
       "    <tr>\n",
       "      <th>0</th>\n",
       "      <td>1</td>\n",
       "      <td>1</td>\n",
       "      <td>0.000601</td>\n",
       "      <td>0.000601</td>\n",
       "    </tr>\n",
       "    <tr>\n",
       "      <th>1</th>\n",
       "      <td>5</td>\n",
       "      <td>8</td>\n",
       "      <td>0.004808</td>\n",
       "      <td>0.000962</td>\n",
       "    </tr>\n",
       "    <tr>\n",
       "      <th>2</th>\n",
       "      <td>10</td>\n",
       "      <td>15</td>\n",
       "      <td>0.009014</td>\n",
       "      <td>0.000901</td>\n",
       "    </tr>\n",
       "    <tr>\n",
       "      <th>3</th>\n",
       "      <td>15</td>\n",
       "      <td>21</td>\n",
       "      <td>0.012620</td>\n",
       "      <td>0.000841</td>\n",
       "    </tr>\n",
       "    <tr>\n",
       "      <th>4</th>\n",
       "      <td>20</td>\n",
       "      <td>27</td>\n",
       "      <td>0.016226</td>\n",
       "      <td>0.000811</td>\n",
       "    </tr>\n",
       "  </tbody>\n",
       "</table>\n",
       "</div>"
      ],
      "text/plain": [
       "   rank_at  hitcounts    recall  precision\n",
       "0        1          1  0.000601   0.000601\n",
       "1        5          8  0.004808   0.000962\n",
       "2       10         15  0.009014   0.000901\n",
       "3       15         21  0.012620   0.000841\n",
       "4       20         27  0.016226   0.000811"
      ]
     },
     "execution_count": 36,
     "metadata": {},
     "output_type": "execute_result"
    }
   ],
   "source": [
    "metrics_val_set_vsl = get_metrics(preds_val, 5, 20)\n",
    "metrics_val_set_vsl"
   ]
  },
  {
   "cell_type": "code",
   "execution_count": 37,
   "metadata": {},
   "outputs": [],
   "source": [
    "metrics_val_set_vsl.to_pickle('../results/metrics_val_CFRNN_fixed_' + str(max_seq_len) + '_' + file_name + '_lr' + str(learning_rate))"
   ]
  },
  {
   "cell_type": "code",
   "execution_count": 37,
   "metadata": {},
   "outputs": [],
   "source": [
    "metrics_val_set_vsl.to_pickle('../results/metrics_val_CFRNN_vsl_' + file_name + '_lr' + str(learning_rate))"
   ]
  },
  {
   "cell_type": "markdown",
   "metadata": {},
   "source": [
    "### Test Set Metrics"
   ]
  },
  {
   "cell_type": "code",
   "execution_count": 38,
   "metadata": {},
   "outputs": [
    {
     "name": "stdout",
     "output_type": "stream",
     "text": [
      "Obtaining metrics time: 1.13\n"
     ]
    },
    {
     "data": {
      "text/html": [
       "<div>\n",
       "<style scoped>\n",
       "    .dataframe tbody tr th:only-of-type {\n",
       "        vertical-align: middle;\n",
       "    }\n",
       "\n",
       "    .dataframe tbody tr th {\n",
       "        vertical-align: top;\n",
       "    }\n",
       "\n",
       "    .dataframe thead th {\n",
       "        text-align: right;\n",
       "    }\n",
       "</style>\n",
       "<table border=\"1\" class=\"dataframe\">\n",
       "  <thead>\n",
       "    <tr style=\"text-align: right;\">\n",
       "      <th></th>\n",
       "      <th>rank_at</th>\n",
       "      <th>hitcounts</th>\n",
       "      <th>recall</th>\n",
       "      <th>precision</th>\n",
       "    </tr>\n",
       "  </thead>\n",
       "  <tbody>\n",
       "    <tr>\n",
       "      <th>0</th>\n",
       "      <td>1</td>\n",
       "      <td>1</td>\n",
       "      <td>0.000601</td>\n",
       "      <td>0.000601</td>\n",
       "    </tr>\n",
       "    <tr>\n",
       "      <th>1</th>\n",
       "      <td>5</td>\n",
       "      <td>4</td>\n",
       "      <td>0.002404</td>\n",
       "      <td>0.000481</td>\n",
       "    </tr>\n",
       "    <tr>\n",
       "      <th>2</th>\n",
       "      <td>10</td>\n",
       "      <td>8</td>\n",
       "      <td>0.004808</td>\n",
       "      <td>0.000481</td>\n",
       "    </tr>\n",
       "    <tr>\n",
       "      <th>3</th>\n",
       "      <td>15</td>\n",
       "      <td>12</td>\n",
       "      <td>0.007212</td>\n",
       "      <td>0.000481</td>\n",
       "    </tr>\n",
       "    <tr>\n",
       "      <th>4</th>\n",
       "      <td>20</td>\n",
       "      <td>19</td>\n",
       "      <td>0.011418</td>\n",
       "      <td>0.000571</td>\n",
       "    </tr>\n",
       "  </tbody>\n",
       "</table>\n",
       "</div>"
      ],
      "text/plain": [
       "   rank_at  hitcounts    recall  precision\n",
       "0        1          1  0.000601   0.000601\n",
       "1        5          4  0.002404   0.000481\n",
       "2       10          8  0.004808   0.000481\n",
       "3       15         12  0.007212   0.000481\n",
       "4       20         19  0.011418   0.000571"
      ]
     },
     "execution_count": 38,
     "metadata": {},
     "output_type": "execute_result"
    }
   ],
   "source": [
    "metrics_test_set_vsl = get_metrics(preds_test, 5, 20)\n",
    "metrics_test_set_vsl"
   ]
  },
  {
   "cell_type": "code",
   "execution_count": 39,
   "metadata": {},
   "outputs": [],
   "source": [
    "metrics_test_set_vsl.to_pickle('../results/metrics_test_CFRNN_fixed_' + str(max_seq_len) + '_' + file_name + '_lr' + str(learning_rate))"
   ]
  },
  {
   "cell_type": "code",
   "execution_count": 39,
   "metadata": {},
   "outputs": [],
   "source": [
    "metrics_test_set_vsl.to_pickle('../results/metrics_test_CFRNN_vsl_' + file_name + '_lr' + str(learning_rate))"
   ]
  },
  {
   "cell_type": "markdown",
   "metadata": {
    "colab_type": "text",
    "id": "2bfN_yhzc-Wq"
   },
   "source": [
    "# Appendix"
   ]
  },
  {
   "cell_type": "code",
   "execution_count": null,
   "metadata": {
    "colab": {},
    "colab_type": "code",
    "id": "Icth_zsCc-Wr"
   },
   "outputs": [],
   "source": [
    "# oh_input = tf.keras.backend.one_hot(padded, n_items)\n",
    "# e = tf.keras.layers.Embedding(n_items, 100, input_length=max_l)"
   ]
  },
  {
   "cell_type": "code",
   "execution_count": null,
   "metadata": {
    "colab": {},
    "colab_type": "code",
    "id": "PlhXrmLnc-Wu"
   },
   "outputs": [],
   "source": [
    "# One hot encoded input\n",
    "# sequences_data_x = tf.data.Dataset.from_tensor_slices(tf.keras.backend.one_hot(padded_sequences_x, n_items)) \n",
    "# sequences_data_y = tf.data.Dataset.from_tensor_slices(tf.keras.backend.one_hot(padded_sequences_y, n_items)) "
   ]
  },
  {
   "cell_type": "code",
   "execution_count": null,
   "metadata": {},
   "outputs": [],
   "source": [
    "# max_seq_len = 30\n",
    "# min_seq_len = 10\n",
    "# shift_targets_by = 1\n",
    "\n",
    "# from Data_prep import get_x_y_sequences, min_padding\n",
    "# vsl = True # Set for training later\n",
    "\n",
    "# # Train Set\n",
    "# user_sequences_x, user_sequences_y, user_order = get_x_y_sequences(train_set, shift_targets_by)\n",
    "# padded_sequences_x = min_padding(user_sequences_x, BATCH_SIZE, min_seq_len, max_seq_len)\n",
    "# padded_sequences_y = min_padding(user_sequences_y, BATCH_SIZE, min_seq_len, max_seq_len)\n",
    "\n",
    "# # Val Set \n",
    "# user_sequences_val_x, user_sequences_val_y, user_order = get_x_y_sequences(val_set, shift_targets_by, stats=False)\n",
    "# padded_sequences_val_x = min_padding(user_sequences_val_x, BATCH_SIZE, min_seq_len, max_seq_len)\n",
    "# padded_sequences_val_y = min_padding(user_sequences_val_y, BATCH_SIZE, min_seq_len, max_seq_len)"
   ]
  }
 ],
 "metadata": {
  "accelerator": "GPU",
  "colab": {
   "collapsed_sections": [
    "2Spy42iNc-V_",
    "XQNPBkyQc-WI"
   ],
   "name": "CF_RNN.ipynb",
   "provenance": [],
   "toc_visible": true
  },
  "kernelspec": {
   "display_name": "Python 3",
   "language": "python",
   "name": "python3"
  },
  "language_info": {
   "codemirror_mode": {
    "name": "ipython",
    "version": 3
   },
   "file_extension": ".py",
   "mimetype": "text/x-python",
   "name": "python",
   "nbconvert_exporter": "python",
   "pygments_lexer": "ipython3",
   "version": "3.6.8"
  },
  "toc": {
   "base_numbering": 1,
   "nav_menu": {},
   "number_sections": true,
   "sideBar": true,
   "skip_h1_title": false,
   "title_cell": "Table of Contents",
   "title_sidebar": "Contents",
   "toc_cell": false,
   "toc_position": {
    "height": "375.742px",
    "left": "1048.75px",
    "top": "110.57px",
    "width": "200.295px"
   },
   "toc_section_display": true,
   "toc_window_display": true
  }
 },
 "nbformat": 4,
 "nbformat_minor": 4
}
