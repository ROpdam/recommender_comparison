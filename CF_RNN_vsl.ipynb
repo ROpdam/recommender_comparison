{
 "cells": [
  {
   "cell_type": "code",
   "execution_count": 4,
   "metadata": {
    "colab": {},
    "colab_type": "code",
    "id": "GKmM1TG-c-TS"
   },
   "outputs": [
    {
     "ename": "ModuleNotFoundError",
     "evalue": "No module named 'pandas'",
     "output_type": "error",
     "traceback": [
      "\u001b[0;31m---------------------------------------------------------------------------\u001b[0m",
      "\u001b[0;31mModuleNotFoundError\u001b[0m                       Traceback (most recent call last)",
      "\u001b[0;32m<ipython-input-4-c99a39882f9c>\u001b[0m in \u001b[0;36m<module>\u001b[0;34m\u001b[0m\n\u001b[0;32m----> 1\u001b[0;31m \u001b[0;32mimport\u001b[0m \u001b[0mpandas\u001b[0m \u001b[0;32mas\u001b[0m \u001b[0mpd\u001b[0m\u001b[0;34m\u001b[0m\u001b[0;34m\u001b[0m\u001b[0m\n\u001b[0m\u001b[1;32m      2\u001b[0m \u001b[0;32mimport\u001b[0m \u001b[0mnumpy\u001b[0m \u001b[0;32mas\u001b[0m \u001b[0mnp\u001b[0m\u001b[0;34m\u001b[0m\u001b[0;34m\u001b[0m\u001b[0m\n\u001b[1;32m      3\u001b[0m \u001b[0;32mimport\u001b[0m \u001b[0mtensorflow\u001b[0m \u001b[0;32mas\u001b[0m \u001b[0mtf\u001b[0m\u001b[0;34m\u001b[0m\u001b[0;34m\u001b[0m\u001b[0m\n\u001b[1;32m      4\u001b[0m \u001b[0;32mimport\u001b[0m \u001b[0mmatplotlib\u001b[0m\u001b[0;34m.\u001b[0m\u001b[0mpyplot\u001b[0m \u001b[0;32mas\u001b[0m \u001b[0mplt\u001b[0m\u001b[0;34m\u001b[0m\u001b[0;34m\u001b[0m\u001b[0m\n\u001b[1;32m      5\u001b[0m \u001b[0;32mimport\u001b[0m \u001b[0mtime\u001b[0m\u001b[0;34m\u001b[0m\u001b[0;34m\u001b[0m\u001b[0m\n",
      "\u001b[0;31mModuleNotFoundError\u001b[0m: No module named 'pandas'"
     ]
    }
   ],
   "source": [
    "import pandas as pd\n",
    "import numpy as np\n",
    "import tensorflow as tf\n",
    "import matplotlib.pyplot as plt\n",
    "import time\n",
    "import os\n",
    "%load_ext autoreload\n",
    "%autoreload 2"
   ]
  },
  {
   "cell_type": "code",
   "execution_count": 2,
   "metadata": {
    "colab": {
     "base_uri": "https://localhost:8080/",
     "height": 34
    },
    "colab_type": "code",
    "executionInfo": {
     "elapsed": 534,
     "status": "ok",
     "timestamp": 1586364379603,
     "user": {
      "displayName": "Robin Opdam",
      "photoUrl": "",
      "userId": "15967290835659268034"
     },
     "user_tz": -120
    },
    "id": "eWJsd_7Pc-TZ",
    "outputId": "38fa93e1-7d3a-4b3e-9cc5-ff2f5debea21"
   },
   "outputs": [
    {
     "ename": "NameError",
     "evalue": "name 'tf' is not defined",
     "output_type": "error",
     "traceback": [
      "\u001b[0;31m---------------------------------------------------------------------------\u001b[0m",
      "\u001b[0;31mNameError\u001b[0m                                 Traceback (most recent call last)",
      "\u001b[0;32m<ipython-input-2-844ff60ffc3b>\u001b[0m in \u001b[0;36m<module>\u001b[0;34m\u001b[0m\n\u001b[0;32m----> 1\u001b[0;31m \u001b[0mprint\u001b[0m\u001b[0;34m(\u001b[0m\u001b[0;34m'version:'\u001b[0m\u001b[0;34m,\u001b[0m \u001b[0mtf\u001b[0m\u001b[0;34m.\u001b[0m\u001b[0m__version__\u001b[0m\u001b[0;34m,\u001b[0m \u001b[0;34m'\\t\\tgpu available:'\u001b[0m\u001b[0;34m,\u001b[0m \u001b[0mtf\u001b[0m\u001b[0;34m.\u001b[0m\u001b[0mtest\u001b[0m\u001b[0;34m.\u001b[0m\u001b[0mis_gpu_available\u001b[0m\u001b[0;34m(\u001b[0m\u001b[0;34m)\u001b[0m\u001b[0;34m)\u001b[0m\u001b[0;34m\u001b[0m\u001b[0;34m\u001b[0m\u001b[0m\n\u001b[0m",
      "\u001b[0;31mNameError\u001b[0m: name 'tf' is not defined"
     ]
    }
   ],
   "source": [
    "print('version:', tf.__version__, '\\t\\tgpu available:', tf.test.is_gpu_available())"
   ]
  },
  {
   "cell_type": "markdown",
   "metadata": {
    "colab_type": "text",
    "id": "dCYwnVWQc-Te"
   },
   "source": [
    "# Read Data\n",
    "- all datasets are datetime sorted"
   ]
  },
  {
   "cell_type": "code",
   "execution_count": 3,
   "metadata": {
    "colab": {},
    "colab_type": "code",
    "id": "8zDM1sWVc-Tf"
   },
   "outputs": [],
   "source": [
    "# path = 'C:/Users/robin.opdam/Google Drive/Thesis (Msc)/Thesis_shared_files/'\n",
    "# path = '/Users/Robin/Google Drive/Thesis (Msc)/Thesis_shared_files/'\n",
    "data_path = '../datasets/'"
   ]
  },
  {
   "cell_type": "markdown",
   "metadata": {
    "colab_type": "text",
    "id": "D8KT8aimc-Tj"
   },
   "source": [
    "## Amazon Fashion "
   ]
  },
  {
   "cell_type": "code",
   "execution_count": 4,
   "metadata": {
    "colab": {},
    "colab_type": "code",
    "id": "l62L3lv-c-Tj"
   },
   "outputs": [],
   "source": [
    "# file_name = 'Amazon_full' \n",
    "# file_name = 'Amazon_05_users' \n",
    "# file_name = 'Amazon_01_users'\n",
    "# file_name = 'Amazon_005_users'\n",
    "# file_name = 'Amazon_001_users'"
   ]
  },
  {
   "cell_type": "markdown",
   "metadata": {
    "colab_type": "text",
    "id": "pLo0gKuEc-Tn"
   },
   "source": [
    "## MovieLens "
   ]
  },
  {
   "cell_type": "code",
   "execution_count": 5,
   "metadata": {
    "colab": {},
    "colab_type": "code",
    "id": "zbxNjxJFc-To"
   },
   "outputs": [],
   "source": [
    "# file_name = 'ML_full' \n",
    "# file_name = 'ML_05_users'\n",
    "file_name = 'ML_01_users'\n",
    "# file_name = 'ML_005_users'\n",
    "# file_name = 'ML_001_users'"
   ]
  },
  {
   "cell_type": "code",
   "execution_count": 6,
   "metadata": {
    "colab": {
     "base_uri": "https://localhost:8080/",
     "height": 204
    },
    "colab_type": "code",
    "executionInfo": {
     "elapsed": 487,
     "status": "ok",
     "timestamp": 1586364387222,
     "user": {
      "displayName": "Robin Opdam",
      "photoUrl": "",
      "userId": "15967290835659268034"
     },
     "user_tz": -120
    },
    "id": "O8lLdQE-c-Ts",
    "outputId": "03b7ad73-f0bb-41c5-f083-7571ba3c53d8"
   },
   "outputs": [
    {
     "data": {
      "text/html": [
       "<div>\n",
       "<style scoped>\n",
       "    .dataframe tbody tr th:only-of-type {\n",
       "        vertical-align: middle;\n",
       "    }\n",
       "\n",
       "    .dataframe tbody tr th {\n",
       "        vertical-align: top;\n",
       "    }\n",
       "\n",
       "    .dataframe thead th {\n",
       "        text-align: right;\n",
       "    }\n",
       "</style>\n",
       "<table border=\"1\" class=\"dataframe\">\n",
       "  <thead>\n",
       "    <tr style=\"text-align: right;\">\n",
       "      <th></th>\n",
       "      <th>user</th>\n",
       "      <th>item</th>\n",
       "      <th>rating</th>\n",
       "      <th>datetime</th>\n",
       "      <th>item_id</th>\n",
       "      <th>user_id</th>\n",
       "    </tr>\n",
       "  </thead>\n",
       "  <tbody>\n",
       "    <tr>\n",
       "      <th>18590190</th>\n",
       "      <td>120461</td>\n",
       "      <td>2501</td>\n",
       "      <td>5.0</td>\n",
       "      <td>2000-04-25 02:29:35</td>\n",
       "      <td>2410</td>\n",
       "      <td>120460</td>\n",
       "    </tr>\n",
       "    <tr>\n",
       "      <th>18590032</th>\n",
       "      <td>120461</td>\n",
       "      <td>252</td>\n",
       "      <td>4.0</td>\n",
       "      <td>2000-04-25 02:29:35</td>\n",
       "      <td>249</td>\n",
       "      <td>120460</td>\n",
       "    </tr>\n",
       "    <tr>\n",
       "      <th>18590159</th>\n",
       "      <td>120461</td>\n",
       "      <td>2069</td>\n",
       "      <td>4.0</td>\n",
       "      <td>2000-04-25 02:29:35</td>\n",
       "      <td>1980</td>\n",
       "      <td>120460</td>\n",
       "    </tr>\n",
       "    <tr>\n",
       "      <th>18590048</th>\n",
       "      <td>120461</td>\n",
       "      <td>440</td>\n",
       "      <td>4.0</td>\n",
       "      <td>2000-04-25 02:29:35</td>\n",
       "      <td>435</td>\n",
       "      <td>120460</td>\n",
       "    </tr>\n",
       "    <tr>\n",
       "      <th>18590145</th>\n",
       "      <td>120461</td>\n",
       "      <td>1959</td>\n",
       "      <td>4.0</td>\n",
       "      <td>2000-04-25 02:29:35</td>\n",
       "      <td>1870</td>\n",
       "      <td>120460</td>\n",
       "    </tr>\n",
       "  </tbody>\n",
       "</table>\n",
       "</div>"
      ],
      "text/plain": [
       "            user  item  rating            datetime item_id user_id\n",
       "18590190  120461  2501     5.0 2000-04-25 02:29:35    2410  120460\n",
       "18590032  120461   252     4.0 2000-04-25 02:29:35     249  120460\n",
       "18590159  120461  2069     4.0 2000-04-25 02:29:35    1980  120460\n",
       "18590048  120461   440     4.0 2000-04-25 02:29:35     435  120460\n",
       "18590145  120461  1959     4.0 2000-04-25 02:29:35    1870  120460"
      ]
     },
     "execution_count": 6,
     "metadata": {},
     "output_type": "execute_result"
    }
   ],
   "source": [
    "df = pd.read_pickle(data_path + file_name)\n",
    "df.head()"
   ]
  },
  {
   "cell_type": "markdown",
   "metadata": {},
   "source": [
    "# Data Prep\n",
    "Create new ids for users and items that match the row and column indices of the user-item interaction matrix"
   ]
  },
  {
   "cell_type": "code",
   "execution_count": 7,
   "metadata": {},
   "outputs": [],
   "source": [
    "BATCH_SIZE = 32\n",
    "val_perc = test_perc = 0.1\n",
    "n_last_items_val = n_last_items_test = 1"
   ]
  },
  {
   "cell_type": "markdown",
   "metadata": {},
   "source": [
    "## Train Test Split"
   ]
  },
  {
   "cell_type": "code",
   "execution_count": 8,
   "metadata": {},
   "outputs": [
    {
     "name": "stdout",
     "output_type": "stream",
     "text": [
      "Total number of items: 27387\n",
      "Total users: 16254\n",
      "Number of train users: 16224\n",
      "Number of test users: 1632\n",
      "Number of validation users: 1632 \n",
      "\n",
      "Users deleted: 30\n"
     ]
    }
   ],
   "source": [
    "from Data_prep import train_val_test_split\n",
    "\n",
    "# Train Test Val Split\n",
    "total_users, total_items, train_set, val_set, test_set = \\\n",
    "train_val_test_split(df, BATCH_SIZE, val_perc, test_perc, n_last_items_val, n_last_items_test)"
   ]
  },
  {
   "cell_type": "markdown",
   "metadata": {},
   "source": [
    "## Option 1: Variable Sequence Length"
   ]
  },
  {
   "cell_type": "code",
   "execution_count": 9,
   "metadata": {},
   "outputs": [],
   "source": [
    "max_seq_len = 400\n",
    "min_seq_len = 10\n",
    "shift_targets_by = 1"
   ]
  },
  {
   "cell_type": "code",
   "execution_count": 18,
   "metadata": {},
   "outputs": [
    {
     "name": "stdout",
     "output_type": "stream",
     "text": [
      "Number of sequences x: 16224 \n",
      "Avg sequence length x: 150.29357741617358 \n",
      "Std_dev sequence length x: 242.54 \n",
      "Median of sequence length x: 71.0\n"
     ]
    }
   ],
   "source": [
    "from Data_prep import get_x_y_sequences, min_padding\n",
    "vsl = True # Set for training later\n",
    "\n",
    "# Train Set\n",
    "user_sequences_x, user_sequences_y, user_order = get_x_y_sequences(train_set, shift_targets_by)\n",
    "padded_sequences_x = min_padding(user_sequences_x, BATCH_SIZE, min_seq_len, max_seq_len)\n",
    "padded_sequences_y = min_padding(user_sequences_y, BATCH_SIZE, min_seq_len, max_seq_len)\n",
    "\n",
    "# Val Set \n",
    "user_sequences_val_x, user_sequences_val_y, user_order = get_x_y_sequences(val_set, shift_targets_by, stats=False)\n",
    "padded_sequences_val_x = min_padding(user_sequences_val_x, BATCH_SIZE, min_seq_len, max_seq_len)\n",
    "padded_sequences_val_y = min_padding(user_sequences_val_y, BATCH_SIZE, min_seq_len, max_seq_len)"
   ]
  },
  {
   "cell_type": "markdown",
   "metadata": {},
   "source": [
    "## Option 2: Fixed Sequence Length"
   ]
  },
  {
   "cell_type": "code",
   "execution_count": 10,
   "metadata": {},
   "outputs": [],
   "source": [
    "# max_seq_len = 71 #median\n",
    "# max_seq_len = 142 #2xmedian\n",
    "max_seq_len = 213 #3xmedian\n",
    "shift_targets_by = 1"
   ]
  },
  {
   "cell_type": "code",
   "execution_count": 11,
   "metadata": {},
   "outputs": [
    {
     "name": "stdout",
     "output_type": "stream",
     "text": [
      "Number of sequences x: 16224 \n",
      "Avg sequence length x: 150.29357741617358 \n",
      "Std_dev sequence length x: 242.54 \n",
      "Median of sequence length x: 71.0\n",
      "number of sequences: 16224 \n",
      "avg sequence length: 213.0 \n",
      "std_dev sequence length: 0.0\n"
     ]
    }
   ],
   "source": [
    "from Data_prep import get_x_y_sequences, standard_padding\n",
    "vsl = False\n",
    "\n",
    "#Train Set\n",
    "user_sequences_x, user_sequences_y, median = get_x_y_sequences(train_set, shift_targets_by, ordered=False)\n",
    "sequences_data_x = standard_padding(user_sequences_x, max_seq_len)\n",
    "sequences_data_y = standard_padding(user_sequences_y, max_seq_len, stats=False)\n",
    "\n",
    "dataset = tf.data.Dataset.zip((sequences_data_x, sequences_data_y))\n",
    "dataset = dataset.batch(BATCH_SIZE, drop_remainder=False)\n",
    "\n",
    "#Val Set\n",
    "user_sequences_val_x, user_sequences_val_y, median = get_x_y_sequences(val_set, shift_targets_by, ordered=False, stats=False)\n",
    "sequences_data_val_x = standard_padding(user_sequences_val_x, max_seq_len, stats=False)\n",
    "sequences_data_val_y = standard_padding(user_sequences_val_y, max_seq_len, stats=False)\n",
    "\n",
    "val_dataset = tf.data.Dataset.zip((sequences_data_val_x, sequences_data_val_y))\n",
    "val_dataset = val_dataset.batch(BATCH_SIZE, drop_remainder=False)"
   ]
  },
  {
   "cell_type": "markdown",
   "metadata": {
    "colab_type": "text",
    "id": "pWbRJiusc-U4"
   },
   "source": [
    "---\n",
    "# LSTM Model\n",
    "Collaborative Filtering with Recurrent Neural Networks\n",
    "- paper: https://arxiv.org/pdf/1608.07400.pdf\n",
    "- code: https://github.com/rdevooght/sequence-based-recommendations (in Theano)"
   ]
  },
  {
   "cell_type": "markdown",
   "metadata": {
    "colab_type": "text",
    "id": "huW9kTD0c-U6"
   },
   "source": [
    "## Architecture"
   ]
  },
  {
   "cell_type": "code",
   "execution_count": 12,
   "metadata": {
    "colab": {},
    "colab_type": "code",
    "id": "sjqXT55ic-U8"
   },
   "outputs": [],
   "source": [
    "def build_model(total_items, embedding_dim, rnn_units, batch_size):\n",
    "    model = tf.keras.Sequential([\n",
    "        tf.keras.layers.Embedding(total_items, embedding_dim,\n",
    "                                  batch_input_shape=[batch_size, None]),\n",
    "        \n",
    "        tf.keras.layers.LSTM(units=rnn_units,\n",
    "                             return_sequences=True,\n",
    "                             stateful=False, #Reset cell states with each batch\n",
    "                             recurrent_initializer='glorot_uniform'),\n",
    "        \n",
    "        tf.keras.layers.Dense(total_items)\n",
    "    ])\n",
    "    return model"
   ]
  },
  {
   "cell_type": "markdown",
   "metadata": {
    "colab_type": "text",
    "id": "5uHkY9zyc-VA"
   },
   "source": [
    "## Build Model"
   ]
  },
  {
   "cell_type": "code",
   "execution_count": 13,
   "metadata": {
    "colab": {},
    "colab_type": "code",
    "id": "0HqmM7Gzc-VA"
   },
   "outputs": [],
   "source": [
    "embedding_dim = 100\n",
    "rnn_units = 20"
   ]
  },
  {
   "cell_type": "code",
   "execution_count": 14,
   "metadata": {
    "colab": {},
    "colab_type": "code",
    "id": "Lzpsaebwc-VC"
   },
   "outputs": [],
   "source": [
    "model = build_model(\n",
    "total_items = total_items,\n",
    "embedding_dim = embedding_dim,\n",
    "rnn_units = rnn_units,\n",
    "batch_size = BATCH_SIZE)"
   ]
  },
  {
   "cell_type": "markdown",
   "metadata": {
    "colab_type": "text",
    "id": "bCRSnplpc-VF"
   },
   "source": [
    "## Add Loss\n",
    "- **Added one hot encoding of the labels to match logits output after dense layer**"
   ]
  },
  {
   "cell_type": "code",
   "execution_count": 15,
   "metadata": {},
   "outputs": [],
   "source": [
    "# def recall(y_true, y_pred):\n",
    "#     K = tf.keras.backend\n",
    "#     y_true = K.one_hot(tf.dtypes.cast(y_true, tf.int32), total_items)\n",
    "#     y_true = K.ones_like(y_true) \n",
    "#     true_positives = K.sum(K.round(K.clip(y_true * y_pred, 0, 1)))\n",
    "#     all_positives = K.sum(K.round(K.clip(y_true, 0, 1)))\n",
    "    \n",
    "#     recall = true_positives / (all_positives + K.epsilon())\n",
    "#     return recall"
   ]
  },
  {
   "cell_type": "code",
   "execution_count": 16,
   "metadata": {
    "colab": {},
    "colab_type": "code",
    "id": "QE_UKWEgc-VF"
   },
   "outputs": [],
   "source": [
    "def loss(labels, logits):\n",
    "    oh_labels = tf.keras.backend.one_hot(tf.dtypes.cast(labels, tf.int32), total_items)\n",
    "    return tf.keras.losses.categorical_crossentropy(oh_labels, logits, from_logits=True)"
   ]
  },
  {
   "cell_type": "code",
   "execution_count": 17,
   "metadata": {},
   "outputs": [],
   "source": [
    "model.compile(optimizer='Adagrad', loss=loss)#, metrics=[recall])"
   ]
  },
  {
   "cell_type": "markdown",
   "metadata": {
    "colab_type": "text",
    "id": "rEVgdcLEc-VY"
   },
   "source": [
    "## Summmary"
   ]
  },
  {
   "cell_type": "code",
   "execution_count": 18,
   "metadata": {
    "colab": {
     "base_uri": "https://localhost:8080/",
     "height": 255
    },
    "colab_type": "code",
    "executionInfo": {
     "elapsed": 532,
     "status": "ok",
     "timestamp": 1586364427504,
     "user": {
      "displayName": "Robin Opdam",
      "photoUrl": "",
      "userId": "15967290835659268034"
     },
     "user_tz": -120
    },
    "id": "9d9vAqj9c-VZ",
    "outputId": "36f6f17f-64da-4387-9929-d6dc450b55bb"
   },
   "outputs": [
    {
     "name": "stdout",
     "output_type": "stream",
     "text": [
      "Model: \"sequential\"\n",
      "_________________________________________________________________\n",
      "Layer (type)                 Output Shape              Param #   \n",
      "=================================================================\n",
      "embedding (Embedding)        (32, None, 100)           2738700   \n",
      "_________________________________________________________________\n",
      "lstm (LSTM)                  (32, None, 20)            9680      \n",
      "_________________________________________________________________\n",
      "dense (Dense)                (32, None, 27387)         575127    \n",
      "=================================================================\n",
      "Total params: 3,323,507\n",
      "Trainable params: 3,323,507\n",
      "Non-trainable params: 0\n",
      "_________________________________________________________________\n"
     ]
    }
   ],
   "source": [
    "model.summary()"
   ]
  },
  {
   "cell_type": "markdown",
   "metadata": {
    "colab_type": "text",
    "id": "9mzqTsiqc-Vc"
   },
   "source": [
    "---\n",
    "# Train Model"
   ]
  },
  {
   "cell_type": "markdown",
   "metadata": {
    "colab_type": "text",
    "id": "FetP-6nDc-Vd"
   },
   "source": [
    "### Configure Checkpoints"
   ]
  },
  {
   "cell_type": "code",
   "execution_count": 19,
   "metadata": {
    "colab": {},
    "colab_type": "code",
    "id": "fWyjHT3dc-Vf"
   },
   "outputs": [],
   "source": [
    "# Directory where the checkpoints will be saved\n",
    "if vsl:\n",
    "    checkpoint_dir = '../ckpts/ckpts_vsl' + file_name + '_vsl'\n",
    "else:\n",
    "    checkpoint_dir = '../ckpts/ckpts_fixed_' + str(max_seq_len) + file_name\n",
    "    \n",
    "# Name of the checkpoint files\n",
    "checkpoint_prefix = os.path.join(checkpoint_dir, \"ckpt\")\n",
    "\n",
    "checkpoint_callback = tf.keras.callbacks.ModelCheckpoint(\n",
    "    filepath = checkpoint_prefix,\n",
    "    save_weights_only = True)"
   ]
  },
  {
   "cell_type": "markdown",
   "metadata": {
    "colab_type": "text",
    "id": "zgpHHzp8c-Vi"
   },
   "source": [
    "## Fit Model"
   ]
  },
  {
   "cell_type": "code",
   "execution_count": 20,
   "metadata": {
    "colab": {
     "base_uri": "https://localhost:8080/",
     "height": 34
    },
    "colab_type": "code",
    "executionInfo": {
     "elapsed": 422,
     "status": "ok",
     "timestamp": 1586364435411,
     "user": {
      "displayName": "Robin Opdam",
      "photoUrl": "",
      "userId": "15967290835659268034"
     },
     "user_tz": -120
    },
    "id": "dx6G0y_Ic-Vi",
    "outputId": "045b9ca5-85e9-4a74-ac70-e002ea409212"
   },
   "outputs": [
    {
     "name": "stdout",
     "output_type": "stream",
     "text": [
      "#Batches: 507.0\n",
      "Batch size: 32\n"
     ]
    }
   ],
   "source": [
    "epochs = 100\n",
    "print('#Batches:', len(user_sequences_x)/BATCH_SIZE)\n",
    "print('Batch size:', BATCH_SIZE)"
   ]
  },
  {
   "cell_type": "code",
   "execution_count": 21,
   "metadata": {
    "colab": {
     "base_uri": "https://localhost:8080/",
     "height": 1000
    },
    "colab_type": "code",
    "executionInfo": {
     "elapsed": 93383,
     "status": "error",
     "timestamp": 1586364530380,
     "user": {
      "displayName": "Robin Opdam",
      "photoUrl": "",
      "userId": "15967290835659268034"
     },
     "user_tz": -120
    },
    "id": "R0k6UFJRc-Vp",
    "outputId": "0413c5d8-6977-476c-f7c9-a06e9e63a47f"
   },
   "outputs": [
    {
     "name": "stdout",
     "output_type": "stream",
     "text": [
      "Fitting LSTM with Fixed sequence length\n",
      "Epoch 1/100\n",
      "507/507 [==============================] - 52s 103ms/step - loss: 9.3369\n",
      "Epoch 2/100\n",
      "507/507 [==============================] - 48s 95ms/step - loss: 8.4477\n",
      "Epoch 3/100\n",
      "507/507 [==============================] - 48s 95ms/step - loss: 7.9731\n",
      "Epoch 4/100\n",
      "507/507 [==============================] - 48s 95ms/step - loss: 7.6444\n",
      "Epoch 5/100\n",
      "507/507 [==============================] - 48s 95ms/step - loss: 7.3871\n",
      "Epoch 6/100\n",
      "507/507 [==============================] - 48s 95ms/step - loss: 7.1706\n",
      "Epoch 7/100\n",
      "507/507 [==============================] - 48s 95ms/step - loss: 6.9804\n",
      "Epoch 8/100\n",
      "507/507 [==============================] - 48s 95ms/step - loss: 6.8086\n",
      "Epoch 9/100\n",
      "507/507 [==============================] - 48s 95ms/step - loss: 6.6509\n",
      "Epoch 10/100\n",
      "507/507 [==============================] - 48s 95ms/step - loss: 6.5044\n",
      "Epoch 11/100\n",
      "507/507 [==============================] - 48s 95ms/step - loss: 6.3673\n",
      "Epoch 12/100\n",
      "507/507 [==============================] - 48s 95ms/step - loss: 6.2382\n",
      "Epoch 13/100\n",
      "507/507 [==============================] - 48s 95ms/step - loss: 6.1162\n",
      "Epoch 14/100\n",
      "507/507 [==============================] - 48s 95ms/step - loss: 6.0007\n",
      "Epoch 15/100\n",
      "507/507 [==============================] - 48s 95ms/step - loss: 5.8909\n",
      "Epoch 16/100\n",
      "507/507 [==============================] - 48s 95ms/step - loss: 5.7866\n",
      "Epoch 17/100\n",
      "507/507 [==============================] - 48s 95ms/step - loss: 5.6874\n",
      "Epoch 18/100\n",
      "507/507 [==============================] - 48s 95ms/step - loss: 5.5931\n",
      "Epoch 19/100\n",
      "507/507 [==============================] - 48s 95ms/step - loss: 5.5034\n",
      "Epoch 20/100\n",
      "507/507 [==============================] - 48s 95ms/step - loss: 5.4183\n",
      "Epoch 21/100\n",
      "507/507 [==============================] - 48s 95ms/step - loss: 5.3377\n",
      "Epoch 22/100\n",
      "507/507 [==============================] - 48s 95ms/step - loss: 5.2614\n",
      "Epoch 23/100\n",
      "507/507 [==============================] - 48s 95ms/step - loss: 5.1894\n",
      "Epoch 24/100\n",
      "507/507 [==============================] - 48s 95ms/step - loss: 5.1215\n",
      "Epoch 25/100\n",
      "507/507 [==============================] - 48s 95ms/step - loss: 5.0579\n",
      "Epoch 26/100\n",
      "507/507 [==============================] - 48s 95ms/step - loss: 4.9982\n",
      "Epoch 27/100\n",
      "507/507 [==============================] - 48s 95ms/step - loss: 4.9426\n",
      "Epoch 28/100\n",
      "507/507 [==============================] - 48s 95ms/step - loss: 4.8907\n",
      "Epoch 29/100\n",
      "507/507 [==============================] - 48s 95ms/step - loss: 4.8427\n",
      "Epoch 30/100\n",
      "507/507 [==============================] - 48s 95ms/step - loss: 4.7982\n",
      "Epoch 31/100\n",
      "507/507 [==============================] - 48s 95ms/step - loss: 4.7571\n",
      "Epoch 32/100\n",
      "507/507 [==============================] - 48s 95ms/step - loss: 4.7193\n",
      "Epoch 33/100\n",
      "507/507 [==============================] - 48s 95ms/step - loss: 4.6845\n",
      "Epoch 34/100\n",
      "507/507 [==============================] - 48s 95ms/step - loss: 4.6527\n",
      "Epoch 35/100\n",
      "507/507 [==============================] - 48s 95ms/step - loss: 4.6235\n",
      "Epoch 36/100\n",
      "507/507 [==============================] - 48s 95ms/step - loss: 4.5968\n",
      "Epoch 37/100\n",
      "507/507 [==============================] - 48s 95ms/step - loss: 4.5724\n",
      "Epoch 38/100\n",
      "507/507 [==============================] - 48s 95ms/step - loss: 4.5501\n",
      "Epoch 39/100\n",
      "507/507 [==============================] - 48s 95ms/step - loss: 4.5296\n",
      "Epoch 40/100\n",
      "507/507 [==============================] - 48s 95ms/step - loss: 4.5107\n",
      "Epoch 41/100\n",
      "507/507 [==============================] - 48s 95ms/step - loss: 4.4932\n",
      "Epoch 42/100\n",
      "507/507 [==============================] - 48s 95ms/step - loss: 4.4767\n",
      "Epoch 43/100\n",
      "507/507 [==============================] - 48s 95ms/step - loss: 4.4604\n",
      "Epoch 44/100\n",
      "507/507 [==============================] - 48s 95ms/step - loss: 4.4424\n",
      "Epoch 45/100\n",
      "507/507 [==============================] - 48s 95ms/step - loss: 4.4205\n",
      "Epoch 46/100\n",
      "507/507 [==============================] - 48s 95ms/step - loss: 4.3949\n",
      "Epoch 47/100\n",
      "507/507 [==============================] - 48s 95ms/step - loss: 4.3693\n",
      "Epoch 48/100\n",
      "507/507 [==============================] - 48s 95ms/step - loss: 4.3462\n",
      "Epoch 49/100\n",
      "507/507 [==============================] - 48s 95ms/step - loss: 4.3260\n",
      "Epoch 50/100\n",
      "507/507 [==============================] - 48s 95ms/step - loss: 4.3072\n",
      "Epoch 51/100\n",
      "507/507 [==============================] - 48s 95ms/step - loss: 4.2880\n",
      "Epoch 52/100\n",
      "507/507 [==============================] - 48s 95ms/step - loss: 4.2679\n",
      "Epoch 53/100\n",
      "507/507 [==============================] - 48s 95ms/step - loss: 4.2495\n",
      "Epoch 54/100\n",
      "507/507 [==============================] - 48s 95ms/step - loss: 4.2332\n",
      "Epoch 55/100\n",
      "507/507 [==============================] - 48s 95ms/step - loss: 4.2179\n",
      "Epoch 56/100\n",
      "507/507 [==============================] - 50s 98ms/step - loss: 4.2033\n",
      "Epoch 57/100\n",
      "507/507 [==============================] - 48s 95ms/step - loss: 4.1892\n",
      "Epoch 58/100\n",
      "507/507 [==============================] - 48s 95ms/step - loss: 4.1756\n",
      "Epoch 59/100\n",
      "507/507 [==============================] - 48s 95ms/step - loss: 4.1626\n",
      "Epoch 60/100\n",
      "507/507 [==============================] - 48s 95ms/step - loss: 4.1500\n",
      "Epoch 61/100\n",
      "507/507 [==============================] - 48s 95ms/step - loss: 4.1379\n",
      "Epoch 62/100\n",
      "507/507 [==============================] - 48s 95ms/step - loss: 4.1262\n",
      "Epoch 63/100\n",
      "507/507 [==============================] - 48s 95ms/step - loss: 4.1149\n",
      "Epoch 64/100\n",
      "507/507 [==============================] - 48s 95ms/step - loss: 4.1040\n",
      "Epoch 65/100\n",
      "507/507 [==============================] - 48s 95ms/step - loss: 4.0935\n",
      "Epoch 66/100\n",
      "507/507 [==============================] - 48s 95ms/step - loss: 4.0834\n",
      "Epoch 67/100\n",
      "507/507 [==============================] - 48s 95ms/step - loss: 4.0736\n",
      "Epoch 68/100\n",
      "507/507 [==============================] - 48s 95ms/step - loss: 4.0642\n",
      "Epoch 69/100\n",
      "507/507 [==============================] - 48s 95ms/step - loss: 4.0551\n",
      "Epoch 70/100\n",
      "507/507 [==============================] - 48s 95ms/step - loss: 4.0463\n",
      "Epoch 71/100\n",
      "507/507 [==============================] - 48s 95ms/step - loss: 4.0378\n",
      "Epoch 72/100\n",
      "507/507 [==============================] - 48s 95ms/step - loss: 4.0295\n",
      "Epoch 73/100\n",
      "507/507 [==============================] - 48s 95ms/step - loss: 4.0216\n",
      "Epoch 74/100\n",
      "507/507 [==============================] - 48s 95ms/step - loss: 4.0139\n",
      "Epoch 75/100\n",
      "507/507 [==============================] - 48s 95ms/step - loss: 4.0064\n",
      "Epoch 76/100\n",
      "507/507 [==============================] - 48s 95ms/step - loss: 3.9992\n",
      "Epoch 77/100\n",
      "507/507 [==============================] - 48s 95ms/step - loss: 3.9922\n",
      "Epoch 78/100\n",
      "507/507 [==============================] - 48s 95ms/step - loss: 3.9854\n",
      "Epoch 79/100\n",
      "507/507 [==============================] - 48s 95ms/step - loss: 3.9789\n",
      "Epoch 80/100\n",
      "507/507 [==============================] - 48s 95ms/step - loss: 3.9725\n",
      "Epoch 81/100\n",
      "507/507 [==============================] - 48s 95ms/step - loss: 3.9664\n",
      "Epoch 82/100\n",
      "507/507 [==============================] - 48s 95ms/step - loss: 3.9604\n",
      "Epoch 83/100\n",
      "507/507 [==============================] - 48s 95ms/step - loss: 3.9546\n",
      "Epoch 84/100\n",
      "507/507 [==============================] - 48s 95ms/step - loss: 3.9489\n",
      "Epoch 85/100\n",
      "507/507 [==============================] - 48s 95ms/step - loss: 3.9434\n",
      "Epoch 86/100\n",
      "507/507 [==============================] - 48s 95ms/step - loss: 3.9381\n",
      "Epoch 87/100\n",
      "507/507 [==============================] - 48s 95ms/step - loss: 3.9329\n",
      "Epoch 88/100\n",
      "507/507 [==============================] - 48s 95ms/step - loss: 3.9278\n",
      "Epoch 89/100\n",
      "507/507 [==============================] - 48s 95ms/step - loss: 3.9229\n",
      "Epoch 90/100\n",
      "507/507 [==============================] - 48s 95ms/step - loss: 3.9181\n",
      "Epoch 91/100\n",
      "507/507 [==============================] - 48s 95ms/step - loss: 3.9134\n",
      "Epoch 92/100\n",
      "507/507 [==============================] - 48s 95ms/step - loss: 3.9089\n",
      "Epoch 93/100\n",
      "507/507 [==============================] - 48s 95ms/step - loss: 3.9044\n",
      "Epoch 94/100\n",
      "507/507 [==============================] - 48s 95ms/step - loss: 3.9001\n",
      "Epoch 95/100\n",
      "507/507 [==============================] - 48s 95ms/step - loss: 3.8958\n",
      "Epoch 96/100\n",
      "507/507 [==============================] - 48s 95ms/step - loss: 3.8917\n",
      "Epoch 97/100\n",
      "507/507 [==============================] - 48s 95ms/step - loss: 3.8877\n",
      "Epoch 98/100\n",
      "507/507 [==============================] - 48s 95ms/step - loss: 3.8837\n",
      "Epoch 99/100\n",
      "507/507 [==============================] - 48s 95ms/step - loss: 3.8799\n",
      "Epoch 100/100\n",
      "507/507 [==============================] - 48s 95ms/step - loss: 3.8761\n"
     ]
    }
   ],
   "source": [
    "if vsl:\n",
    "    print('Fitting LSTM with Variable sequence length')\n",
    "    from Helpers import Batch_Generator\n",
    "    history = model.fit_generator(generator=Batch_Generator(\n",
    "                                  X=padded_sequences_x, \n",
    "                                  y=padded_sequences_y, \n",
    "                                  batch_size=BATCH_SIZE,\n",
    "                                  shuffle=True),\n",
    "\n",
    "    #                               validation_data=Batch_Generator(\n",
    "    #                               X=padded_sequences_val_x,\n",
    "    #                               y=padded_sequences_val_y,\n",
    "    #                               batch_size=BATCH_SIZE,\n",
    "    #                               shuffle=True),\n",
    "\n",
    "                                  epochs=epochs, \n",
    "                                  callbacks=[checkpoint_callback],\n",
    "                                  use_multiprocessing=True)\n",
    "else:\n",
    "    print('Fitting LSTM with Fixed sequence length')\n",
    "    history = model.fit(dataset, \n",
    "#                         validation_data=val_dataset, \n",
    "                        epochs=epochs, \n",
    "                        callbacks=[checkpoint_callback])"
   ]
  },
  {
   "cell_type": "code",
   "execution_count": 22,
   "metadata": {},
   "outputs": [
    {
     "data": {
      "text/plain": [
       "'ML_01_users'"
      ]
     },
     "execution_count": 22,
     "metadata": {},
     "output_type": "execute_result"
    }
   ],
   "source": [
    "file_name"
   ]
  },
  {
   "cell_type": "code",
   "execution_count": 23,
   "metadata": {},
   "outputs": [],
   "source": [
    "results = pd.DataFrame(history.history)\n",
    "if vsl:\n",
    "    results.to_pickle('../results/his_vsl_01_ml_users_200_epochs')\n",
    "else:\n",
    "    results.to_pickle('../results/his_fixed_' + str(max_seq_len) + '_01_ml_users_200_epochs')"
   ]
  },
  {
   "cell_type": "markdown",
   "metadata": {
    "colab_type": "text",
    "id": "qG6qSlkuc-Vs"
   },
   "source": [
    "---\n",
    "## Continue training from checkpoint"
   ]
  },
  {
   "cell_type": "code",
   "execution_count": 24,
   "metadata": {
    "colab": {},
    "colab_type": "code",
    "id": "xMQBMjJfc-Vt"
   },
   "outputs": [],
   "source": [
    "# model.summary()"
   ]
  },
  {
   "cell_type": "code",
   "execution_count": 25,
   "metadata": {
    "colab": {},
    "colab_type": "code",
    "id": "EplgEE4Zc-Vz"
   },
   "outputs": [],
   "source": [
    "# tf.train.latest_checkpoint(checkpoint_dir)\n",
    "# model = build_model(n_items, embedding_dim, rnn_units, batch_size=100)\n",
    "# model.load_weights(tf.train.latest_checkpoint(checkpoint_dir))\n",
    "# model.compile(optimizer='Adagrad', loss=loss)"
   ]
  },
  {
   "cell_type": "code",
   "execution_count": 26,
   "metadata": {
    "colab": {},
    "colab_type": "code",
    "id": "kisl-tXEc-V3"
   },
   "outputs": [],
   "source": [
    "# aditional_epochs = 1"
   ]
  },
  {
   "cell_type": "code",
   "execution_count": 27,
   "metadata": {
    "colab": {},
    "colab_type": "code",
    "id": "wte4RyUsc-V7"
   },
   "outputs": [],
   "source": [
    "# model.fit(dataset, epochs=aditional_epochs, callbacks=[checkpoint_callback])"
   ]
  },
  {
   "cell_type": "markdown",
   "metadata": {
    "colab_type": "text",
    "id": "Ltj7HkPxc-V-"
   },
   "source": [
    "---\n",
    "# Predict Sequences"
   ]
  },
  {
   "cell_type": "markdown",
   "metadata": {
    "colab_type": "text",
    "id": "2Spy42iNc-V_"
   },
   "source": [
    "## Restore Latest Checkpoints\n",
    "- **TODO: Can keep batches of 64 for evaluation => faster**"
   ]
  },
  {
   "cell_type": "code",
   "execution_count": 28,
   "metadata": {
    "colab": {},
    "colab_type": "code",
    "id": "rY0mtM26c-V_"
   },
   "outputs": [
    {
     "data": {
      "text/plain": [
       "'../ckpts/ckpts_fixed_213ML_01_users/ckpt'"
      ]
     },
     "execution_count": 28,
     "metadata": {},
     "output_type": "execute_result"
    }
   ],
   "source": [
    "tf.train.latest_checkpoint(checkpoint_dir)"
   ]
  },
  {
   "cell_type": "code",
   "execution_count": 29,
   "metadata": {
    "colab": {},
    "colab_type": "code",
    "id": "7-Ths7-hc-WE"
   },
   "outputs": [],
   "source": [
    "model = build_model(total_items, embedding_dim, rnn_units, batch_size=1)\n",
    "\n",
    "model.load_weights(tf.train.latest_checkpoint(checkpoint_dir))\n",
    "                   \n",
    "model.build(tf.TensorShape([1, None]))"
   ]
  },
  {
   "cell_type": "code",
   "execution_count": 30,
   "metadata": {
    "colab": {},
    "colab_type": "code",
    "id": "oQfRtD71c-WH"
   },
   "outputs": [
    {
     "name": "stdout",
     "output_type": "stream",
     "text": [
      "Model: \"sequential_1\"\n",
      "_________________________________________________________________\n",
      "Layer (type)                 Output Shape              Param #   \n",
      "=================================================================\n",
      "embedding_1 (Embedding)      (1, None, 100)            2738700   \n",
      "_________________________________________________________________\n",
      "lstm_1 (LSTM)                (1, None, 20)             9680      \n",
      "_________________________________________________________________\n",
      "dense_1 (Dense)              (1, None, 27387)          575127    \n",
      "=================================================================\n",
      "Total params: 3,323,507\n",
      "Trainable params: 3,323,507\n",
      "Non-trainable params: 0\n",
      "_________________________________________________________________\n"
     ]
    }
   ],
   "source": [
    "model.summary()"
   ]
  },
  {
   "cell_type": "markdown",
   "metadata": {
    "colab_type": "text",
    "id": "XQNPBkyQc-WI"
   },
   "source": [
    "## Create Predictions\n",
    "- **TODO: Can keep batches of 64 for evaluation => faster**"
   ]
  },
  {
   "cell_type": "markdown",
   "metadata": {
    "colab_type": "text",
    "id": "n3A-hRV-c-WJ"
   },
   "source": [
    "Using train_set sequences to predict test_set / val_set item(s)"
   ]
  },
  {
   "cell_type": "code",
   "execution_count": 31,
   "metadata": {},
   "outputs": [],
   "source": [
    "from Evaluation import get_predictions"
   ]
  },
  {
   "cell_type": "code",
   "execution_count": 32,
   "metadata": {},
   "outputs": [
    {
     "data": {
      "text/plain": [
       "'ML_01_users'"
      ]
     },
     "execution_count": 32,
     "metadata": {},
     "output_type": "execute_result"
    }
   ],
   "source": [
    "file_name"
   ]
  },
  {
   "cell_type": "markdown",
   "metadata": {},
   "source": [
    "### Val Set Predictions"
   ]
  },
  {
   "cell_type": "code",
   "execution_count": 36,
   "metadata": {},
   "outputs": [],
   "source": [
    "rank_at = 20\n",
    "preds_val = get_predictions(model, train_set, val_set, rank_at)\n",
    "preds_val.to_pickle('../results/preds_val_CFRNN_vsl_100_' + file_name)"
   ]
  },
  {
   "cell_type": "markdown",
   "metadata": {},
   "source": [
    "### Fixed"
   ]
  },
  {
   "cell_type": "code",
   "execution_count": 33,
   "metadata": {},
   "outputs": [],
   "source": [
    "rank_at = 20\n",
    "preds_val = get_predictions(model, train_set, val_set, rank_at)\n",
    "preds_val.to_pickle('../results/preds_val_CFRNN_fixed_100_' + str(max_seq_len) + '_' + file_name)"
   ]
  },
  {
   "cell_type": "markdown",
   "metadata": {},
   "source": [
    "### Test Set Predictions"
   ]
  },
  {
   "cell_type": "code",
   "execution_count": null,
   "metadata": {},
   "outputs": [],
   "source": [
    "rank_at = 20\n",
    "preds_test = get_predictions(model, train_set, test_set, rank_at)\n",
    "preds_test.to_pickle('../results/preds_test_CFRNN_vsl_100_' + file_name)"
   ]
  },
  {
   "cell_type": "markdown",
   "metadata": {},
   "source": [
    "### Fixed"
   ]
  },
  {
   "cell_type": "code",
   "execution_count": 34,
   "metadata": {},
   "outputs": [],
   "source": [
    "rank_at = 20\n",
    "preds_test = get_predictions(model, train_set, test_set, rank_at)\n",
    "preds_test.to_pickle('../results/preds_test_CFRNN_fixed_100_' + str(max_seq_len) + '_' + file_name)"
   ]
  },
  {
   "cell_type": "markdown",
   "metadata": {},
   "source": [
    "#### Read Predictions"
   ]
  },
  {
   "cell_type": "code",
   "execution_count": 35,
   "metadata": {},
   "outputs": [],
   "source": [
    "# predictions = pd.read_pickle('CFRNN_res_200_ML_01_users')"
   ]
  },
  {
   "cell_type": "markdown",
   "metadata": {
    "colab_type": "text",
    "id": "XobdlG9Wc-WY"
   },
   "source": [
    "---\n",
    "# Evaluate"
   ]
  },
  {
   "cell_type": "code",
   "execution_count": 36,
   "metadata": {},
   "outputs": [],
   "source": [
    "from Evaluation import get_metrics"
   ]
  },
  {
   "cell_type": "markdown",
   "metadata": {},
   "source": [
    "### Val Set Metrics"
   ]
  },
  {
   "cell_type": "code",
   "execution_count": 37,
   "metadata": {},
   "outputs": [
    {
     "name": "stdout",
     "output_type": "stream",
     "text": [
      "Obtaining metrics time: 1.38\n"
     ]
    },
    {
     "data": {
      "text/html": [
       "<div>\n",
       "<style scoped>\n",
       "    .dataframe tbody tr th:only-of-type {\n",
       "        vertical-align: middle;\n",
       "    }\n",
       "\n",
       "    .dataframe tbody tr th {\n",
       "        vertical-align: top;\n",
       "    }\n",
       "\n",
       "    .dataframe thead th {\n",
       "        text-align: right;\n",
       "    }\n",
       "</style>\n",
       "<table border=\"1\" class=\"dataframe\">\n",
       "  <thead>\n",
       "    <tr style=\"text-align: right;\">\n",
       "      <th></th>\n",
       "      <th>rank_at</th>\n",
       "      <th>hitcounts</th>\n",
       "      <th>recall</th>\n",
       "      <th>precision</th>\n",
       "    </tr>\n",
       "  </thead>\n",
       "  <tbody>\n",
       "    <tr>\n",
       "      <th>0</th>\n",
       "      <td>1</td>\n",
       "      <td>2</td>\n",
       "      <td>0.001225</td>\n",
       "      <td>0.001225</td>\n",
       "    </tr>\n",
       "    <tr>\n",
       "      <th>1</th>\n",
       "      <td>5</td>\n",
       "      <td>5</td>\n",
       "      <td>0.003064</td>\n",
       "      <td>0.000613</td>\n",
       "    </tr>\n",
       "    <tr>\n",
       "      <th>2</th>\n",
       "      <td>10</td>\n",
       "      <td>12</td>\n",
       "      <td>0.007353</td>\n",
       "      <td>0.000735</td>\n",
       "    </tr>\n",
       "    <tr>\n",
       "      <th>3</th>\n",
       "      <td>15</td>\n",
       "      <td>17</td>\n",
       "      <td>0.010417</td>\n",
       "      <td>0.000694</td>\n",
       "    </tr>\n",
       "    <tr>\n",
       "      <th>4</th>\n",
       "      <td>20</td>\n",
       "      <td>22</td>\n",
       "      <td>0.013480</td>\n",
       "      <td>0.000674</td>\n",
       "    </tr>\n",
       "  </tbody>\n",
       "</table>\n",
       "</div>"
      ],
      "text/plain": [
       "   rank_at  hitcounts    recall  precision\n",
       "0        1          2  0.001225   0.001225\n",
       "1        5          5  0.003064   0.000613\n",
       "2       10         12  0.007353   0.000735\n",
       "3       15         17  0.010417   0.000694\n",
       "4       20         22  0.013480   0.000674"
      ]
     },
     "execution_count": 37,
     "metadata": {},
     "output_type": "execute_result"
    }
   ],
   "source": [
    "metrics_val_set_vsl = get_metrics(preds_val, 5, 20)\n",
    "metrics_val_set_vsl"
   ]
  },
  {
   "cell_type": "code",
   "execution_count": 38,
   "metadata": {},
   "outputs": [],
   "source": [
    "metrics_val_set_vsl.to_pickle('../results/metrics_val_CFRNN_fixed_' + str(max_seq_len) + '_' + file_name)"
   ]
  },
  {
   "cell_type": "code",
   "execution_count": 40,
   "metadata": {},
   "outputs": [],
   "source": [
    "metrics_val_set_vsl.to_pickle('../results/metrics_val_CFRNN_vsl_' + file_name)"
   ]
  },
  {
   "cell_type": "markdown",
   "metadata": {},
   "source": [
    "### Test Set Metrics"
   ]
  },
  {
   "cell_type": "code",
   "execution_count": 39,
   "metadata": {},
   "outputs": [
    {
     "name": "stdout",
     "output_type": "stream",
     "text": [
      "Obtaining metrics time: 1.5\n"
     ]
    },
    {
     "data": {
      "text/html": [
       "<div>\n",
       "<style scoped>\n",
       "    .dataframe tbody tr th:only-of-type {\n",
       "        vertical-align: middle;\n",
       "    }\n",
       "\n",
       "    .dataframe tbody tr th {\n",
       "        vertical-align: top;\n",
       "    }\n",
       "\n",
       "    .dataframe thead th {\n",
       "        text-align: right;\n",
       "    }\n",
       "</style>\n",
       "<table border=\"1\" class=\"dataframe\">\n",
       "  <thead>\n",
       "    <tr style=\"text-align: right;\">\n",
       "      <th></th>\n",
       "      <th>rank_at</th>\n",
       "      <th>hitcounts</th>\n",
       "      <th>recall</th>\n",
       "      <th>precision</th>\n",
       "    </tr>\n",
       "  </thead>\n",
       "  <tbody>\n",
       "    <tr>\n",
       "      <th>0</th>\n",
       "      <td>1</td>\n",
       "      <td>3</td>\n",
       "      <td>0.001838</td>\n",
       "      <td>0.001838</td>\n",
       "    </tr>\n",
       "    <tr>\n",
       "      <th>1</th>\n",
       "      <td>5</td>\n",
       "      <td>13</td>\n",
       "      <td>0.007966</td>\n",
       "      <td>0.001593</td>\n",
       "    </tr>\n",
       "    <tr>\n",
       "      <th>2</th>\n",
       "      <td>10</td>\n",
       "      <td>15</td>\n",
       "      <td>0.009191</td>\n",
       "      <td>0.000919</td>\n",
       "    </tr>\n",
       "    <tr>\n",
       "      <th>3</th>\n",
       "      <td>15</td>\n",
       "      <td>17</td>\n",
       "      <td>0.010417</td>\n",
       "      <td>0.000694</td>\n",
       "    </tr>\n",
       "    <tr>\n",
       "      <th>4</th>\n",
       "      <td>20</td>\n",
       "      <td>23</td>\n",
       "      <td>0.014093</td>\n",
       "      <td>0.000705</td>\n",
       "    </tr>\n",
       "  </tbody>\n",
       "</table>\n",
       "</div>"
      ],
      "text/plain": [
       "   rank_at  hitcounts    recall  precision\n",
       "0        1          3  0.001838   0.001838\n",
       "1        5         13  0.007966   0.001593\n",
       "2       10         15  0.009191   0.000919\n",
       "3       15         17  0.010417   0.000694\n",
       "4       20         23  0.014093   0.000705"
      ]
     },
     "execution_count": 39,
     "metadata": {},
     "output_type": "execute_result"
    }
   ],
   "source": [
    "metrics_test_set_vsl = get_metrics(preds_test, 5, 20)\n",
    "metrics_test_set_vsl"
   ]
  },
  {
   "cell_type": "code",
   "execution_count": 40,
   "metadata": {},
   "outputs": [],
   "source": [
    "metrics_test_set_vsl.to_pickle('../results/metrics_test_CFRNN_fixed_' + str(max_seq_len) + '_' + file_name)"
   ]
  },
  {
   "cell_type": "code",
   "execution_count": 42,
   "metadata": {},
   "outputs": [],
   "source": [
    "metrics_test_set_vsl.to_pickle('../results/metrics_test_CFRNN_vsl_' + file_name)"
   ]
  },
  {
   "cell_type": "code",
   "execution_count": null,
   "metadata": {},
   "outputs": [],
   "source": [
    "%run CF_RNN_fixed.ipynb"
   ]
  },
  {
   "cell_type": "markdown",
   "metadata": {
    "colab_type": "text",
    "id": "2bfN_yhzc-Wq"
   },
   "source": [
    "# Appendix"
   ]
  },
  {
   "cell_type": "code",
   "execution_count": null,
   "metadata": {
    "colab": {},
    "colab_type": "code",
    "id": "Icth_zsCc-Wr"
   },
   "outputs": [],
   "source": [
    "# oh_input = tf.keras.backend.one_hot(padded, n_items)\n",
    "# e = tf.keras.layers.Embedding(n_items, 100, input_length=max_l)"
   ]
  },
  {
   "cell_type": "code",
   "execution_count": null,
   "metadata": {
    "colab": {},
    "colab_type": "code",
    "id": "PlhXrmLnc-Wu"
   },
   "outputs": [],
   "source": [
    "# One hot encoded input\n",
    "# sequences_data_x = tf.data.Dataset.from_tensor_slices(tf.keras.backend.one_hot(padded_sequences_x, n_items)) \n",
    "# sequences_data_y = tf.data.Dataset.from_tensor_slices(tf.keras.backend.one_hot(padded_sequences_y, n_items)) "
   ]
  }
 ],
 "metadata": {
  "accelerator": "GPU",
  "colab": {
   "collapsed_sections": [
    "2Spy42iNc-V_",
    "XQNPBkyQc-WI"
   ],
   "name": "CF_RNN.ipynb",
   "provenance": [],
   "toc_visible": true
  },
  "kernelspec": {
   "display_name": "Python 3",
   "language": "python",
   "name": "python3"
  },
  "language_info": {
   "codemirror_mode": {
    "name": "ipython",
    "version": 3
   },
   "file_extension": ".py",
   "mimetype": "text/x-python",
   "name": "python",
   "nbconvert_exporter": "python",
   "pygments_lexer": "ipython3",
   "version": "3.6.8"
  },
  "toc": {
   "base_numbering": 1,
   "nav_menu": {},
   "number_sections": true,
   "sideBar": true,
   "skip_h1_title": false,
   "title_cell": "Table of Contents",
   "title_sidebar": "Contents",
   "toc_cell": false,
   "toc_position": {
    "height": "375.742px",
    "left": "1048.75px",
    "top": "110.57px",
    "width": "200.295px"
   },
   "toc_section_display": true,
   "toc_window_display": true
  }
 },
 "nbformat": 4,
 "nbformat_minor": 4
}
