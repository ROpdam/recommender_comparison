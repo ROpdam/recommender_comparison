{
 "cells": [
  {
   "cell_type": "code",
   "execution_count": 1,
   "metadata": {},
   "outputs": [],
   "source": [
    "import pandas as pd\n",
    "import numpy as np\n",
    "import matplotlib.pyplot as plt\n",
    "\n",
    "%load_ext autoreload\n",
    "%autoreload 2"
   ]
  },
  {
   "cell_type": "markdown",
   "metadata": {},
   "source": [
    "# Read Data"
   ]
  },
  {
   "cell_type": "code",
   "execution_count": 2,
   "metadata": {},
   "outputs": [],
   "source": [
    "# path = 'C:/Users/robin.opdam/Google Drive/Thesis (Msc)/Thesis_shared_files/'\n",
    "path = '/Users/Robin/Google Drive/Thesis (Msc)/Thesis_shared_files/'"
   ]
  },
  {
   "cell_type": "markdown",
   "metadata": {},
   "source": [
    "## Amazon Fashion"
   ]
  },
  {
   "cell_type": "code",
   "execution_count": 3,
   "metadata": {},
   "outputs": [],
   "source": [
    "data_path = 'Data/Amazon/'\n",
    "# file_name = 'Amazon_full' # file_name = 'Amazon_05_users' \n",
    "# file_name = 'Amazon_01_users'\n",
    "# file_name = 'am_80k_users'\n",
    "file_name = 'am_40k_users'"
   ]
  },
  {
   "cell_type": "markdown",
   "metadata": {},
   "source": [
    "## MovieLens"
   ]
  },
  {
   "cell_type": "code",
   "execution_count": 4,
   "metadata": {},
   "outputs": [],
   "source": [
    "data_path = 'data/ML/'\n",
    "file_name = 'ml_1m'\n",
    "# file_name = 'ML_full' # file_name = 'ML_05_users'\n",
    "# file_name = 'ML_01_users'"
   ]
  },
  {
   "cell_type": "code",
   "execution_count": 33,
   "metadata": {},
   "outputs": [],
   "source": [
    "test_set_cfrnn = pd.read_pickle(path + data_path + 'test_set_ml_cfrnn')\n",
    "val_set_cfrnn = pd.read_pickle(path + data_path + 'val_set_ml_cfrnn')\n",
    "train_set_cfrnn = pd.read_pickle(path + data_path + 'train_set_ml_cfrnn')"
   ]
  },
  {
   "cell_type": "code",
   "execution_count": 111,
   "metadata": {},
   "outputs": [],
   "source": [
    "test_set = pd.read_pickle(path + data_path + 'ml_1m_test')\n",
    "train_set = pd.read_pickle(path + data_path + 'ml_1m_train')"
   ]
  },
  {
   "cell_type": "code",
   "execution_count": 39,
   "metadata": {},
   "outputs": [],
   "source": [
    "from Data_prep import leave_last_x_out_2\n",
    "\n",
    "add_to_train, val_set = leave_last_x_out_2(val_set_cfrnn)\n",
    "add_to_train_2, test_set = leave_last_x_out_2(test_set_cfrnn)\n",
    "\n",
    "train_set = pd.concat([train_set_cfrnn, add_to_train, add_to_train_2])"
   ]
  },
  {
   "cell_type": "code",
   "execution_count": 112,
   "metadata": {},
   "outputs": [
    {
     "data": {
      "text/html": [
       "<div>\n",
       "<style scoped>\n",
       "    .dataframe tbody tr th:only-of-type {\n",
       "        vertical-align: middle;\n",
       "    }\n",
       "\n",
       "    .dataframe tbody tr th {\n",
       "        vertical-align: top;\n",
       "    }\n",
       "\n",
       "    .dataframe thead th {\n",
       "        text-align: right;\n",
       "    }\n",
       "</style>\n",
       "<table border=\"1\" class=\"dataframe\">\n",
       "  <thead>\n",
       "    <tr style=\"text-align: right;\">\n",
       "      <th></th>\n",
       "      <th>rating</th>\n",
       "      <th>datetime</th>\n",
       "      <th>user_id</th>\n",
       "      <th>item_id</th>\n",
       "    </tr>\n",
       "  </thead>\n",
       "  <tbody>\n",
       "    <tr>\n",
       "      <th>0</th>\n",
       "      <td>4</td>\n",
       "      <td>2000-12-31 22:00:19</td>\n",
       "      <td>0</td>\n",
       "      <td>2969</td>\n",
       "    </tr>\n",
       "    <tr>\n",
       "      <th>1</th>\n",
       "      <td>4</td>\n",
       "      <td>2000-12-31 22:00:55</td>\n",
       "      <td>0</td>\n",
       "      <td>1574</td>\n",
       "    </tr>\n",
       "    <tr>\n",
       "      <th>2</th>\n",
       "      <td>5</td>\n",
       "      <td>2000-12-31 22:00:55</td>\n",
       "      <td>0</td>\n",
       "      <td>957</td>\n",
       "    </tr>\n",
       "    <tr>\n",
       "      <th>3</th>\n",
       "      <td>5</td>\n",
       "      <td>2000-12-31 22:00:55</td>\n",
       "      <td>0</td>\n",
       "      <td>1178</td>\n",
       "    </tr>\n",
       "    <tr>\n",
       "      <th>4</th>\n",
       "      <td>3</td>\n",
       "      <td>2000-12-31 22:01:43</td>\n",
       "      <td>0</td>\n",
       "      <td>2147</td>\n",
       "    </tr>\n",
       "  </tbody>\n",
       "</table>\n",
       "</div>"
      ],
      "text/plain": [
       "   rating            datetime  user_id  item_id\n",
       "0       4 2000-12-31 22:00:19        0     2969\n",
       "1       4 2000-12-31 22:00:55        0     1574\n",
       "2       5 2000-12-31 22:00:55        0      957\n",
       "3       5 2000-12-31 22:00:55        0     1178\n",
       "4       3 2000-12-31 22:01:43        0     2147"
      ]
     },
     "execution_count": 112,
     "metadata": {},
     "output_type": "execute_result"
    }
   ],
   "source": [
    "df = pd.read_pickle(path + data_path + file_name)\n",
    "df.user_id = df.user_id.astype('category').cat.codes\n",
    "df.item_id = df.item_id.astype('category').cat.codes\n",
    "df.head()"
   ]
  },
  {
   "cell_type": "markdown",
   "metadata": {},
   "source": [
    "## Create Subset"
   ]
  },
  {
   "cell_type": "code",
   "execution_count": 367,
   "metadata": {},
   "outputs": [],
   "source": [
    "from Data_prep import leave_users_out\n",
    "remaining, subset = leave_users_out(df, 40000)\n",
    "df = subset\n",
    "df.user_id = df.user_id.astype('category').cat.codes\n",
    "df.item_id = df.item_id.astype('category').cat.codes"
   ]
  },
  {
   "cell_type": "markdown",
   "metadata": {},
   "source": [
    "---\n",
    "# Data Prep"
   ]
  },
  {
   "cell_type": "markdown",
   "metadata": {},
   "source": [
    "## Dataset Params"
   ]
  },
  {
   "cell_type": "code",
   "execution_count": 8,
   "metadata": {},
   "outputs": [],
   "source": [
    "val_perc = test_perc = 0.1\n",
    "n_last_items_val = n_last_items_test = 1\n",
    "\n",
    "total_items = len(df.item_id.unique())\n",
    "total_users = len(df.user_id.unique())"
   ]
  },
  {
   "cell_type": "markdown",
   "metadata": {},
   "source": [
    "## Create Split"
   ]
  },
  {
   "cell_type": "code",
   "execution_count": 246,
   "metadata": {},
   "outputs": [
    {
     "name": "stderr",
     "output_type": "stream",
     "text": [
      "100% |########################################################################|\n"
     ]
    }
   ],
   "source": [
    "test_set = pd.DataFrame()\n",
    "train_set = pd.DataFrame()\n",
    "pbar = progressbar.ProgressBar()\n",
    "for u in pbar(df.user_id.unique()):\n",
    "    last_item = df[df.user_id==u].iloc[-1:]\n",
    "    test_set = test_set.append(last_item)\n",
    "    remaining = df[df.user_id==u].iloc[:-1]\n",
    "    train_set = pd.concat([train_set, remaining])"
   ]
  },
  {
   "cell_type": "code",
   "execution_count": 7,
   "metadata": {},
   "outputs": [],
   "source": [
    "from Data_prep import train_val_test_split\n",
    "datasets = train_val_test_split(df, val_perc, test_perc, n_last_items_val, n_last_items_test)\n",
    "train_set, val_set, test_set = datasets"
   ]
  },
  {
   "cell_type": "code",
   "execution_count": 8,
   "metadata": {},
   "outputs": [
    {
     "data": {
      "text/plain": [
       "'am_40k_users'"
      ]
     },
     "execution_count": 8,
     "metadata": {},
     "output_type": "execute_result"
    }
   ],
   "source": [
    "file_name"
   ]
  },
  {
   "cell_type": "markdown",
   "metadata": {},
   "source": [
    "---\n",
    "# Bayesian Personalized Ranking\n",
    "- Paper: https://arxiv.org/pdf/1205.2618.pdf\n",
    "- Code:  https://github.com/valerystrizh/bpr/blob/master/BPR.java"
   ]
  },
  {
   "cell_type": "markdown",
   "metadata": {},
   "source": [
    "## Parameters"
   ]
  },
  {
   "cell_type": "code",
   "execution_count": 82,
   "metadata": {},
   "outputs": [],
   "source": [
    "params = {\n",
    "\"nolf\": 8, #Size of latent feature vectors\n",
    "\"n_iterations\": 20, #around 20 is sufficient\n",
    "\"sample_size\": 0.5*len(train_set),\n",
    "\"seed\": 1234,\n",
    "\"alpha\": 0.08, # Learning rate: Amazon_01 best: 0.08\n",
    "\"rho\": 1.05, # Bold driver increase alpha\n",
    "\"sigma\": 0.45, # Bold driver decrease alpha\n",
    "          \n",
    "#Regularizers, still tweaking the values\n",
    "# Amazon_01 best: 0.1\n",
    "# ML_1 best: 0\n",
    "\"reg_user\": 0.001, #0.1,\n",
    "\"reg_item\": 0.001, #0.1,\n",
    "}"
   ]
  },
  {
   "cell_type": "code",
   "execution_count": 83,
   "metadata": {},
   "outputs": [
    {
     "data": {
      "text/plain": [
       "'ml_1m'"
      ]
     },
     "execution_count": 83,
     "metadata": {},
     "output_type": "execute_result"
    }
   ],
   "source": [
    "from BPR import BPR\n",
    "bpr = BPR(total_users, total_items, params)\n",
    "file_name"
   ]
  },
  {
   "cell_type": "markdown",
   "metadata": {},
   "source": [
    "## Create Samples"
   ]
  },
  {
   "cell_type": "code",
   "execution_count": 60,
   "metadata": {},
   "outputs": [
    {
     "name": "stdout",
     "output_type": "stream",
     "text": [
      "Creating 20 samples of length 499354\n"
     ]
    },
    {
     "name": "stderr",
     "output_type": "stream",
     "text": [
      "100% |########################################################################|\n"
     ]
    }
   ],
   "source": [
    "samples = bpr.create_samples(train_set)"
   ]
  },
  {
   "cell_type": "markdown",
   "metadata": {},
   "source": [
    "#### Store Samples"
   ]
  },
  {
   "cell_type": "code",
   "execution_count": 61,
   "metadata": {},
   "outputs": [],
   "source": [
    "# samples_name = '/ml_1m_samples'\n",
    "samples_name = '/ml_1m_samples_cfrnn'"
   ]
  },
  {
   "cell_type": "code",
   "execution_count": 62,
   "metadata": {},
   "outputs": [],
   "source": [
    "samples = np.array(samples)\n",
    "np.save(path + data_path + samples_name, samples)"
   ]
  },
  {
   "cell_type": "markdown",
   "metadata": {},
   "source": [
    "## Fit"
   ]
  },
  {
   "cell_type": "code",
   "execution_count": 84,
   "metadata": {},
   "outputs": [
    {
     "name": "stdout",
     "output_type": "stream",
     "text": [
      "iteration: 0  loss: 0.582837  rec@10: 0.02\n",
      "iteration: 1  loss: 0.312791  rec@10: 0.028\n",
      "iteration: 2  loss: 0.262332  rec@10: 0.028\n",
      "iteration: 3  loss: 0.238829  rec@10: 0.028\n",
      "iteration: 4  loss: 0.233736  rec@10: 0.024\n",
      "iteration: 5  loss: 0.24142  rec@10: 0.024\n",
      "iteration: 6  loss: 0.234307  rec@10: 0.022\n",
      "iteration: 7  loss: 0.219226  rec@10: 0.026\n",
      "iteration: 8  loss: 0.212886  rec@10: 0.028\n",
      "iteration: 9  loss: 0.210233  rec@10: 0.014\n",
      "iteration: 10  loss: 0.209289  rec@10: 0.022\n",
      "iteration: 11  loss: 0.208847  rec@10: 0.028\n",
      "iteration: 12  loss: 0.211388  rec@10: 0.022\n",
      "iteration: 13  loss: 0.205349  rec@10: 0.026\n",
      "iteration: 14  loss: 0.198377  rec@10: 0.028\n",
      "iteration: 15  loss: 0.195319  rec@10: 0.024\n",
      "iteration: 16  loss: 0.193441  rec@10: 0.026\n",
      "iteration: 17  loss: 0.191502  rec@10: 0.016\n",
      "iteration: 18  loss: 0.191437  rec@10: 0.026\n",
      "iteration: 19  loss: 0.192441  rec@10: 0.028\n",
      "CPU times: user 7min 28s, sys: 3.83 s, total: 7min 32s\n",
      "Wall time: 7min 48s\n"
     ]
    }
   ],
   "source": [
    "%%time\n",
    "bpr.train_model(sample_path=path + data_path + samples_name + '.npy', val_set=val_set)"
   ]
  },
  {
   "cell_type": "markdown",
   "metadata": {},
   "source": [
    "## Store Model"
   ]
  },
  {
   "cell_type": "code",
   "execution_count": 106,
   "metadata": {},
   "outputs": [],
   "source": [
    "log_path = path + 'Results/BPR/'\n",
    "res_name = 'BPR_models_ml_1m'\n",
    "# model.store_results(log_path, res_name, file_name)"
   ]
  },
  {
   "cell_type": "code",
   "execution_count": 107,
   "metadata": {},
   "outputs": [],
   "source": [
    "df_res = pd.read_pickle(log_path + res_name)"
   ]
  },
  {
   "cell_type": "code",
   "execution_count": 108,
   "metadata": {},
   "outputs": [
    {
     "data": {
      "text/html": [
       "<div>\n",
       "<style scoped>\n",
       "    .dataframe tbody tr th:only-of-type {\n",
       "        vertical-align: middle;\n",
       "    }\n",
       "\n",
       "    .dataframe tbody tr th {\n",
       "        vertical-align: top;\n",
       "    }\n",
       "\n",
       "    .dataframe thead th {\n",
       "        text-align: right;\n",
       "    }\n",
       "</style>\n",
       "<table border=\"1\" class=\"dataframe\">\n",
       "  <thead>\n",
       "    <tr style=\"text-align: right;\">\n",
       "      <th></th>\n",
       "      <th>train_loss</th>\n",
       "      <th>val_auc</th>\n",
       "      <th>train_speed</th>\n",
       "      <th>lr</th>\n",
       "      <th>file</th>\n",
       "      <th>nolf</th>\n",
       "      <th>n_iterations</th>\n",
       "      <th>sample_size</th>\n",
       "      <th>seed</th>\n",
       "      <th>alpha</th>\n",
       "      <th>reg_user</th>\n",
       "      <th>reg_item</th>\n",
       "      <th>p</th>\n",
       "      <th>q</th>\n",
       "      <th>rho</th>\n",
       "      <th>sigma</th>\n",
       "    </tr>\n",
       "  </thead>\n",
       "  <tbody>\n",
       "    <tr>\n",
       "      <th>0</th>\n",
       "      <td>[0.4280874360060686, 0.23456262467076563, 0.21...</td>\n",
       "      <td>[]</td>\n",
       "      <td>971.526762</td>\n",
       "      <td>[0.08, 0.07968, 0.07936128, 0.03968064, 0.0198...</td>\n",
       "      <td>ml_1m</td>\n",
       "      <td>8</td>\n",
       "      <td>20</td>\n",
       "      <td>999001</td>\n",
       "      <td>1234</td>\n",
       "      <td>0.08</td>\n",
       "      <td>0</td>\n",
       "      <td>0</td>\n",
       "      <td>[[0.1511637915719814, -0.3173339449339406, -0....</td>\n",
       "      <td>[[2.49902713106001, -1.6457139347826235, -4.27...</td>\n",
       "      <td>NaN</td>\n",
       "      <td>NaN</td>\n",
       "    </tr>\n",
       "    <tr>\n",
       "      <th>1</th>\n",
       "      <td>[0.4273768647927152, 0.23884409152682956, 0.21...</td>\n",
       "      <td>[]</td>\n",
       "      <td>968.177193</td>\n",
       "      <td>[0.08, 0.07968, 0.07936128, 0.03968064, 0.0395...</td>\n",
       "      <td>ml_1m</td>\n",
       "      <td>8</td>\n",
       "      <td>20</td>\n",
       "      <td>994169</td>\n",
       "      <td>1234</td>\n",
       "      <td>0.08</td>\n",
       "      <td>0</td>\n",
       "      <td>0</td>\n",
       "      <td>[[-0.14674822722927147, 0.3385207321191396, -0...</td>\n",
       "      <td>[[1.313975950703949, 2.2223455161709165, 2.508...</td>\n",
       "      <td>NaN</td>\n",
       "      <td>NaN</td>\n",
       "    </tr>\n",
       "    <tr>\n",
       "      <th>2</th>\n",
       "      <td>[0.4262480005459771, 0.23891997015179622, 0.21...</td>\n",
       "      <td>[]</td>\n",
       "      <td>837.310544</td>\n",
       "      <td>[0.08, 0.07968, 0.07936128, 0.03968064, 0.0395...</td>\n",
       "      <td>ml_1m</td>\n",
       "      <td>8</td>\n",
       "      <td>20</td>\n",
       "      <td>994169</td>\n",
       "      <td>1234</td>\n",
       "      <td>0.08</td>\n",
       "      <td>0</td>\n",
       "      <td>0</td>\n",
       "      <td>[[0.7062134945576238, -0.4566284163975517, -0....</td>\n",
       "      <td>[[3.220768283452017, 0.2016917509859173, -0.35...</td>\n",
       "      <td>NaN</td>\n",
       "      <td>NaN</td>\n",
       "    </tr>\n",
       "    <tr>\n",
       "      <th>3</th>\n",
       "      <td>[0.4508524392013311, 0.24924464826477136, 0.20...</td>\n",
       "      <td>[]</td>\n",
       "      <td>228.437804</td>\n",
       "      <td>[0.08, 0.07936, 0.07872512, 0.07809531904, 0.0...</td>\n",
       "      <td>ml_1m</td>\n",
       "      <td>8</td>\n",
       "      <td>10</td>\n",
       "      <td>497084</td>\n",
       "      <td>1234</td>\n",
       "      <td>0.08</td>\n",
       "      <td>0</td>\n",
       "      <td>0</td>\n",
       "      <td>[[0.033347353356346345, 0.10166072154450412, -...</td>\n",
       "      <td>[[3.1402685295419395, 1.508107767833505, -0.80...</td>\n",
       "      <td>NaN</td>\n",
       "      <td>NaN</td>\n",
       "    </tr>\n",
       "    <tr>\n",
       "      <th>4</th>\n",
       "      <td>[0.4508524392013311, 0.24924464826477136, 0.19...</td>\n",
       "      <td>[]</td>\n",
       "      <td>496.584120</td>\n",
       "      <td>[0.08, 0.07968, 0.07936128, 0.0790438348800000...</td>\n",
       "      <td>ml_1m</td>\n",
       "      <td>8</td>\n",
       "      <td>20</td>\n",
       "      <td>497084</td>\n",
       "      <td>1234</td>\n",
       "      <td>0.08</td>\n",
       "      <td>0</td>\n",
       "      <td>0</td>\n",
       "      <td>[[0.2411571377163555, 0.3360608490615798, -0.5...</td>\n",
       "      <td>[[3.3246752727347806, 1.5053034277758417, -0.8...</td>\n",
       "      <td>NaN</td>\n",
       "      <td>NaN</td>\n",
       "    </tr>\n",
       "    <tr>\n",
       "      <th>5</th>\n",
       "      <td>[0.4508524392013311, 0.24924464826477136, 0.19...</td>\n",
       "      <td>[]</td>\n",
       "      <td>547.059173</td>\n",
       "      <td>[0.08, 0.084, 0.08820000000000001, 0.092610000...</td>\n",
       "      <td>ml_1m</td>\n",
       "      <td>8</td>\n",
       "      <td>20</td>\n",
       "      <td>497084</td>\n",
       "      <td>1234</td>\n",
       "      <td>0.08</td>\n",
       "      <td>0</td>\n",
       "      <td>0</td>\n",
       "      <td>[[0.24527480565794993, 0.01755084268110578, -0...</td>\n",
       "      <td>[[3.1529183545320145, 1.5572832363552516, -1.0...</td>\n",
       "      <td>1.05</td>\n",
       "      <td>0.4</td>\n",
       "    </tr>\n",
       "    <tr>\n",
       "      <th>6</th>\n",
       "      <td>[0.582082236535849, 0.3014259883347379, 0.2475...</td>\n",
       "      <td>[]</td>\n",
       "      <td>309.974249</td>\n",
       "      <td>[0.08, 0.084, 0.08820000000000001, 0.092610000...</td>\n",
       "      <td>ml_1m</td>\n",
       "      <td>8</td>\n",
       "      <td>10</td>\n",
       "      <td>497084</td>\n",
       "      <td>1234</td>\n",
       "      <td>0.08</td>\n",
       "      <td>0</td>\n",
       "      <td>0</td>\n",
       "      <td>[[0.9023469273880115, 0.8155246383309424, -0.2...</td>\n",
       "      <td>[[3.5050459007548582, 4.271195964389365, 0.948...</td>\n",
       "      <td>1.05</td>\n",
       "      <td>0.4</td>\n",
       "    </tr>\n",
       "    <tr>\n",
       "      <th>7</th>\n",
       "      <td>[0.6766144152127932, 0.4058353176703962, 0.297...</td>\n",
       "      <td>[]</td>\n",
       "      <td>584.064584</td>\n",
       "      <td>[0.08, 0.08800000000000001, 0.0968000000000000...</td>\n",
       "      <td>ml_1m</td>\n",
       "      <td>8</td>\n",
       "      <td>20</td>\n",
       "      <td>298251</td>\n",
       "      <td>1234</td>\n",
       "      <td>0.08</td>\n",
       "      <td>0</td>\n",
       "      <td>0</td>\n",
       "      <td>[[0.9575058629503107, 0.453533453886671, -0.05...</td>\n",
       "      <td>[[4.29282246430047, 3.127852818720075, -1.2866...</td>\n",
       "      <td>1.10</td>\n",
       "      <td>0.5</td>\n",
       "    </tr>\n",
       "  </tbody>\n",
       "</table>\n",
       "</div>"
      ],
      "text/plain": [
       "                                          train_loss val_auc  train_speed  \\\n",
       "0  [0.4280874360060686, 0.23456262467076563, 0.21...      []   971.526762   \n",
       "1  [0.4273768647927152, 0.23884409152682956, 0.21...      []   968.177193   \n",
       "2  [0.4262480005459771, 0.23891997015179622, 0.21...      []   837.310544   \n",
       "3  [0.4508524392013311, 0.24924464826477136, 0.20...      []   228.437804   \n",
       "4  [0.4508524392013311, 0.24924464826477136, 0.19...      []   496.584120   \n",
       "5  [0.4508524392013311, 0.24924464826477136, 0.19...      []   547.059173   \n",
       "6  [0.582082236535849, 0.3014259883347379, 0.2475...      []   309.974249   \n",
       "7  [0.6766144152127932, 0.4058353176703962, 0.297...      []   584.064584   \n",
       "\n",
       "                                                  lr   file nolf n_iterations  \\\n",
       "0  [0.08, 0.07968, 0.07936128, 0.03968064, 0.0198...  ml_1m    8           20   \n",
       "1  [0.08, 0.07968, 0.07936128, 0.03968064, 0.0395...  ml_1m    8           20   \n",
       "2  [0.08, 0.07968, 0.07936128, 0.03968064, 0.0395...  ml_1m    8           20   \n",
       "3  [0.08, 0.07936, 0.07872512, 0.07809531904, 0.0...  ml_1m    8           10   \n",
       "4  [0.08, 0.07968, 0.07936128, 0.0790438348800000...  ml_1m    8           20   \n",
       "5  [0.08, 0.084, 0.08820000000000001, 0.092610000...  ml_1m    8           20   \n",
       "6  [0.08, 0.084, 0.08820000000000001, 0.092610000...  ml_1m    8           10   \n",
       "7  [0.08, 0.08800000000000001, 0.0968000000000000...  ml_1m    8           20   \n",
       "\n",
       "  sample_size  seed  alpha reg_user reg_item  \\\n",
       "0      999001  1234   0.08        0        0   \n",
       "1      994169  1234   0.08        0        0   \n",
       "2      994169  1234   0.08        0        0   \n",
       "3      497084  1234   0.08        0        0   \n",
       "4      497084  1234   0.08        0        0   \n",
       "5      497084  1234   0.08        0        0   \n",
       "6      497084  1234   0.08        0        0   \n",
       "7      298251  1234   0.08        0        0   \n",
       "\n",
       "                                                   p  \\\n",
       "0  [[0.1511637915719814, -0.3173339449339406, -0....   \n",
       "1  [[-0.14674822722927147, 0.3385207321191396, -0...   \n",
       "2  [[0.7062134945576238, -0.4566284163975517, -0....   \n",
       "3  [[0.033347353356346345, 0.10166072154450412, -...   \n",
       "4  [[0.2411571377163555, 0.3360608490615798, -0.5...   \n",
       "5  [[0.24527480565794993, 0.01755084268110578, -0...   \n",
       "6  [[0.9023469273880115, 0.8155246383309424, -0.2...   \n",
       "7  [[0.9575058629503107, 0.453533453886671, -0.05...   \n",
       "\n",
       "                                                   q   rho  sigma  \n",
       "0  [[2.49902713106001, -1.6457139347826235, -4.27...   NaN    NaN  \n",
       "1  [[1.313975950703949, 2.2223455161709165, 2.508...   NaN    NaN  \n",
       "2  [[3.220768283452017, 0.2016917509859173, -0.35...   NaN    NaN  \n",
       "3  [[3.1402685295419395, 1.508107767833505, -0.80...   NaN    NaN  \n",
       "4  [[3.3246752727347806, 1.5053034277758417, -0.8...   NaN    NaN  \n",
       "5  [[3.1529183545320145, 1.5572832363552516, -1.0...  1.05    0.4  \n",
       "6  [[3.5050459007548582, 4.271195964389365, 0.948...  1.05    0.4  \n",
       "7  [[4.29282246430047, 3.127852818720075, -1.2866...  1.10    0.5  "
      ]
     },
     "execution_count": 108,
     "metadata": {},
     "output_type": "execute_result"
    }
   ],
   "source": [
    "df_res"
   ]
  },
  {
   "cell_type": "code",
   "execution_count": 100,
   "metadata": {},
   "outputs": [
    {
     "data": {
      "image/png": "[encoded data removed]",
      "text/plain": [
       "<Figure size 864x576 with 3 Axes>"
      ]
     },
     "metadata": {
      "needs_background": "light"
     },
     "output_type": "display_data"
    }
   ],
   "source": [
    "bpr.plot_training()"
   ]
  },
  {
   "cell_type": "code",
   "execution_count": 109,
   "metadata": {},
   "outputs": [],
   "source": [
    "model.model['p'] = df_res.iloc[7]['p']\n",
    "model.model['q'] = df_res.iloc[7]['q']"
   ]
  },
  {
   "cell_type": "markdown",
   "metadata": {},
   "source": [
    "# Evaluation"
   ]
  },
  {
   "cell_type": "code",
   "execution_count": 55,
   "metadata": {},
   "outputs": [],
   "source": [
    "rank_at = 20\n",
    "steps = 5"
   ]
  },
  {
   "cell_type": "markdown",
   "metadata": {},
   "source": [
    "## Ranking and Metrics"
   ]
  },
  {
   "cell_type": "code",
   "execution_count": 113,
   "metadata": {},
   "outputs": [
    {
     "name": "stdout",
     "output_type": "stream",
     "text": [
      "Ranking time: 1.56\n"
     ]
    }
   ],
   "source": [
    "ranked_df = model.get_predictions(test_set)"
   ]
  },
  {
   "cell_type": "code",
   "execution_count": 114,
   "metadata": {},
   "outputs": [
    {
     "name": "stdout",
     "output_type": "stream",
     "text": [
      "Obtaining metrics time: 7.55\n"
     ]
    },
    {
     "data": {
      "text/html": [
       "<div>\n",
       "<style scoped>\n",
       "    .dataframe tbody tr th:only-of-type {\n",
       "        vertical-align: middle;\n",
       "    }\n",
       "\n",
       "    .dataframe tbody tr th {\n",
       "        vertical-align: top;\n",
       "    }\n",
       "\n",
       "    .dataframe thead th {\n",
       "        text-align: right;\n",
       "    }\n",
       "</style>\n",
       "<table border=\"1\" class=\"dataframe\">\n",
       "  <thead>\n",
       "    <tr style=\"text-align: right;\">\n",
       "      <th></th>\n",
       "      <th>rank_at</th>\n",
       "      <th>hitcounts</th>\n",
       "      <th>recall</th>\n",
       "      <th>precision</th>\n",
       "      <th>ndcg</th>\n",
       "    </tr>\n",
       "  </thead>\n",
       "  <tbody>\n",
       "    <tr>\n",
       "      <th>0</th>\n",
       "      <td>1</td>\n",
       "      <td>14</td>\n",
       "      <td>0.002318</td>\n",
       "      <td>0.002318</td>\n",
       "      <td>0.002318</td>\n",
       "    </tr>\n",
       "    <tr>\n",
       "      <th>1</th>\n",
       "      <td>5</td>\n",
       "      <td>70</td>\n",
       "      <td>0.011589</td>\n",
       "      <td>0.002318</td>\n",
       "      <td>0.006913</td>\n",
       "    </tr>\n",
       "    <tr>\n",
       "      <th>2</th>\n",
       "      <td>10</td>\n",
       "      <td>130</td>\n",
       "      <td>0.021523</td>\n",
       "      <td>0.002152</td>\n",
       "      <td>0.010097</td>\n",
       "    </tr>\n",
       "    <tr>\n",
       "      <th>3</th>\n",
       "      <td>15</td>\n",
       "      <td>210</td>\n",
       "      <td>0.034768</td>\n",
       "      <td>0.002318</td>\n",
       "      <td>0.013594</td>\n",
       "    </tr>\n",
       "    <tr>\n",
       "      <th>4</th>\n",
       "      <td>20</td>\n",
       "      <td>283</td>\n",
       "      <td>0.046854</td>\n",
       "      <td>0.002343</td>\n",
       "      <td>0.016442</td>\n",
       "    </tr>\n",
       "  </tbody>\n",
       "</table>\n",
       "</div>"
      ],
      "text/plain": [
       "   rank_at  hitcounts    recall  precision      ndcg\n",
       "0        1         14  0.002318   0.002318  0.002318\n",
       "1        5         70  0.011589   0.002318  0.006913\n",
       "2       10        130  0.021523   0.002152  0.010097\n",
       "3       15        210  0.034768   0.002318  0.013594\n",
       "4       20        283  0.046854   0.002343  0.016442"
      ]
     },
     "execution_count": 114,
     "metadata": {},
     "output_type": "execute_result"
    }
   ],
   "source": [
    "from Evaluation import get_metrics\n",
    "metrics = get_metrics(ranked_df, steps, rank_at)\n",
    "metrics"
   ]
  },
  {
   "cell_type": "markdown",
   "metadata": {},
   "source": [
    "## ML for CFRNN"
   ]
  },
  {
   "cell_type": "code",
   "execution_count": 128,
   "metadata": {},
   "outputs": [
    {
     "data": {
      "text/plain": [
       "Int64Index([   0,    1,    2,    3,    4,    5,    6,    7,    8,    9,\n",
       "            ...\n",
       "            6030, 6031, 6032, 6033, 6034, 6035, 6036, 6037, 6038, 6039],\n",
       "           dtype='int64', name='user_id', length=6040)"
      ]
     },
     "execution_count": 128,
     "metadata": {},
     "output_type": "execute_result"
    }
   ],
   "source": [
    "ranked_df.index"
   ]
  },
  {
   "cell_type": "code",
   "execution_count": 129,
   "metadata": {},
   "outputs": [
    {
     "name": "stdout",
     "output_type": "stream",
     "text": [
      "Obtaining metrics time: 6.4\n"
     ]
    },
    {
     "data": {
      "text/html": [
       "<div>\n",
       "<style scoped>\n",
       "    .dataframe tbody tr th:only-of-type {\n",
       "        vertical-align: middle;\n",
       "    }\n",
       "\n",
       "    .dataframe tbody tr th {\n",
       "        vertical-align: top;\n",
       "    }\n",
       "\n",
       "    .dataframe thead th {\n",
       "        text-align: right;\n",
       "    }\n",
       "</style>\n",
       "<table border=\"1\" class=\"dataframe\">\n",
       "  <thead>\n",
       "    <tr style=\"text-align: right;\">\n",
       "      <th></th>\n",
       "      <th>rank_at</th>\n",
       "      <th>hitcounts</th>\n",
       "      <th>recall</th>\n",
       "      <th>precision</th>\n",
       "      <th>ndcg</th>\n",
       "    </tr>\n",
       "  </thead>\n",
       "  <tbody>\n",
       "    <tr>\n",
       "      <th>0</th>\n",
       "      <td>1</td>\n",
       "      <td>14</td>\n",
       "      <td>0.002318</td>\n",
       "      <td>0.002318</td>\n",
       "      <td>0.002318</td>\n",
       "    </tr>\n",
       "    <tr>\n",
       "      <th>1</th>\n",
       "      <td>5</td>\n",
       "      <td>70</td>\n",
       "      <td>0.011589</td>\n",
       "      <td>0.002318</td>\n",
       "      <td>0.006913</td>\n",
       "    </tr>\n",
       "    <tr>\n",
       "      <th>2</th>\n",
       "      <td>10</td>\n",
       "      <td>130</td>\n",
       "      <td>0.021523</td>\n",
       "      <td>0.002152</td>\n",
       "      <td>0.010097</td>\n",
       "    </tr>\n",
       "    <tr>\n",
       "      <th>3</th>\n",
       "      <td>15</td>\n",
       "      <td>210</td>\n",
       "      <td>0.034768</td>\n",
       "      <td>0.002318</td>\n",
       "      <td>0.013594</td>\n",
       "    </tr>\n",
       "    <tr>\n",
       "      <th>4</th>\n",
       "      <td>20</td>\n",
       "      <td>283</td>\n",
       "      <td>0.046854</td>\n",
       "      <td>0.002343</td>\n",
       "      <td>0.016442</td>\n",
       "    </tr>\n",
       "  </tbody>\n",
       "</table>\n",
       "</div>"
      ],
      "text/plain": [
       "   rank_at  hitcounts    recall  precision      ndcg\n",
       "0        1         14  0.002318   0.002318  0.002318\n",
       "1        5         70  0.011589   0.002318  0.006913\n",
       "2       10        130  0.021523   0.002152  0.010097\n",
       "3       15        210  0.034768   0.002318  0.013594\n",
       "4       20        283  0.046854   0.002343  0.016442"
      ]
     },
     "execution_count": 129,
     "metadata": {},
     "output_type": "execute_result"
    }
   ],
   "source": [
    "from Evaluation import get_metrics\n",
    "metrics = get_metrics(ranked_df, steps, rank_at)\n",
    "metrics"
   ]
  },
  {
   "cell_type": "code",
   "execution_count": 103,
   "metadata": {},
   "outputs": [],
   "source": [
    "metrics.to_pickle(path + 'Results/BPR/metrics_ml_1m_cfrnn')"
   ]
  },
  {
   "cell_type": "code",
   "execution_count": 383,
   "metadata": {},
   "outputs": [],
   "source": [
    "metrics.to_pickle(path + 'Results/BPR/metrics_all_sample_am_40k')"
   ]
  },
  {
   "cell_type": "markdown",
   "metadata": {},
   "source": [
    "## Sample Predictions"
   ]
  },
  {
   "cell_type": "code",
   "execution_count": 27,
   "metadata": {},
   "outputs": [
    {
     "name": "stderr",
     "output_type": "stream",
     "text": [
      "100% |########################################################################|\n"
     ]
    },
    {
     "name": "stdout",
     "output_type": "stream",
     "text": [
      "Obtaining metrics time: 6.51\n"
     ]
    },
    {
     "name": "stderr",
     "output_type": "stream",
     "text": [
      "100% |########################################################################|\n"
     ]
    },
    {
     "name": "stdout",
     "output_type": "stream",
     "text": [
      "Obtaining metrics time: 6.61\n"
     ]
    },
    {
     "name": "stderr",
     "output_type": "stream",
     "text": [
      "100% |########################################################################|\n"
     ]
    },
    {
     "name": "stdout",
     "output_type": "stream",
     "text": [
      "Obtaining metrics time: 6.73\n"
     ]
    },
    {
     "name": "stderr",
     "output_type": "stream",
     "text": [
      "100% |########################################################################|\n"
     ]
    },
    {
     "name": "stdout",
     "output_type": "stream",
     "text": [
      "Obtaining metrics time: 7.08\n"
     ]
    },
    {
     "name": "stderr",
     "output_type": "stream",
     "text": [
      "100% |########################################################################|\n"
     ]
    },
    {
     "name": "stdout",
     "output_type": "stream",
     "text": [
      "Obtaining metrics time: 7.0\n"
     ]
    },
    {
     "name": "stderr",
     "output_type": "stream",
     "text": [
      "100% |########################################################################|\n"
     ]
    },
    {
     "name": "stdout",
     "output_type": "stream",
     "text": [
      "Obtaining metrics time: 7.05\n",
      "CPU times: user 2min 6s, sys: 2.61 s, total: 2min 8s\n",
      "Wall time: 2min 3s\n"
     ]
    }
   ],
   "source": [
    "%%time\n",
    "from Evaluation import get_metrics\n",
    "sample_sizes = [20, 50, 100, 500, 1000, 5000]\n",
    "metrics = []\n",
    "for sample_size in sample_sizes:\n",
    "        ranked_sample_df = BPR_ml_1m.sample_prediction(train_set, test_set, sample_size)\n",
    "        metric = get_metrics(ranked_sample_df)\n",
    "        metrics.append(metric)\n",
    "        metric.to_pickle(path + f'Results/BPR/metrics_ml_1m_nolf_8_{sample_size}')        "
   ]
  },
  {
   "cell_type": "code",
   "execution_count": 115,
   "metadata": {},
   "outputs": [
    {
     "name": "stderr",
     "output_type": "stream",
     "text": [
      "100% |########################################################################|\n"
     ]
    }
   ],
   "source": [
    "ranked_sample_df = model.sample_prediction(train_set, test_set)"
   ]
  },
  {
   "cell_type": "code",
   "execution_count": null,
   "metadata": {},
   "outputs": [],
   "source": [
    "metrics_sample = get_metrics(ranked_sample_df, steps, rank_at)"
   ]
  },
  {
   "cell_type": "code",
   "execution_count": 21,
   "metadata": {},
   "outputs": [
    {
     "data": {
      "text/html": [
       "<div>\n",
       "<style scoped>\n",
       "    .dataframe tbody tr th:only-of-type {\n",
       "        vertical-align: middle;\n",
       "    }\n",
       "\n",
       "    .dataframe tbody tr th {\n",
       "        vertical-align: top;\n",
       "    }\n",
       "\n",
       "    .dataframe thead th {\n",
       "        text-align: right;\n",
       "    }\n",
       "</style>\n",
       "<table border=\"1\" class=\"dataframe\">\n",
       "  <thead>\n",
       "    <tr style=\"text-align: right;\">\n",
       "      <th></th>\n",
       "      <th>rank_at</th>\n",
       "      <th>hitcounts</th>\n",
       "      <th>recall</th>\n",
       "      <th>precision</th>\n",
       "      <th>ndcg</th>\n",
       "    </tr>\n",
       "  </thead>\n",
       "  <tbody>\n",
       "    <tr>\n",
       "      <th>0</th>\n",
       "      <td>1</td>\n",
       "      <td>481</td>\n",
       "      <td>0.12025</td>\n",
       "      <td>0.120250</td>\n",
       "      <td>0.120250</td>\n",
       "    </tr>\n",
       "    <tr>\n",
       "      <th>1</th>\n",
       "      <td>5</td>\n",
       "      <td>756</td>\n",
       "      <td>0.18900</td>\n",
       "      <td>0.037800</td>\n",
       "      <td>0.154836</td>\n",
       "    </tr>\n",
       "    <tr>\n",
       "      <th>2</th>\n",
       "      <td>10</td>\n",
       "      <td>951</td>\n",
       "      <td>0.23775</td>\n",
       "      <td>0.023775</td>\n",
       "      <td>0.170575</td>\n",
       "    </tr>\n",
       "    <tr>\n",
       "      <th>3</th>\n",
       "      <td>15</td>\n",
       "      <td>1142</td>\n",
       "      <td>0.28550</td>\n",
       "      <td>0.019033</td>\n",
       "      <td>0.183205</td>\n",
       "    </tr>\n",
       "    <tr>\n",
       "      <th>4</th>\n",
       "      <td>20</td>\n",
       "      <td>1303</td>\n",
       "      <td>0.32575</td>\n",
       "      <td>0.016287</td>\n",
       "      <td>0.192657</td>\n",
       "    </tr>\n",
       "  </tbody>\n",
       "</table>\n",
       "</div>"
      ],
      "text/plain": [
       "   rank_at  hitcounts   recall  precision      ndcg\n",
       "0        1        481  0.12025   0.120250  0.120250\n",
       "1        5        756  0.18900   0.037800  0.154836\n",
       "2       10        951  0.23775   0.023775  0.170575\n",
       "3       15       1142  0.28550   0.019033  0.183205\n",
       "4       20       1303  0.32575   0.016287  0.192657"
      ]
     },
     "execution_count": 21,
     "metadata": {},
     "output_type": "execute_result"
    }
   ],
   "source": [
    "metrics_sample"
   ]
  },
  {
   "cell_type": "code",
   "execution_count": 118,
   "metadata": {},
   "outputs": [],
   "source": [
    "metrics_sample.to_pickle(path + 'Results/BPR/metrics_ml_1m_100_sample')"
   ]
  },
  {
   "cell_type": "code",
   "execution_count": 122,
   "metadata": {},
   "outputs": [
    {
     "data": {
      "text/html": [
       "<div>\n",
       "<style scoped>\n",
       "    .dataframe tbody tr th:only-of-type {\n",
       "        vertical-align: middle;\n",
       "    }\n",
       "\n",
       "    .dataframe tbody tr th {\n",
       "        vertical-align: top;\n",
       "    }\n",
       "\n",
       "    .dataframe thead th {\n",
       "        text-align: right;\n",
       "    }\n",
       "</style>\n",
       "<table border=\"1\" class=\"dataframe\">\n",
       "  <thead>\n",
       "    <tr style=\"text-align: right;\">\n",
       "      <th></th>\n",
       "      <th>rank_at</th>\n",
       "      <th>hitcounts</th>\n",
       "      <th>recall</th>\n",
       "      <th>precision</th>\n",
       "      <th>ndcg</th>\n",
       "    </tr>\n",
       "  </thead>\n",
       "  <tbody>\n",
       "    <tr>\n",
       "      <th>0</th>\n",
       "      <td>1</td>\n",
       "      <td>835</td>\n",
       "      <td>0.138245</td>\n",
       "      <td>0.138245</td>\n",
       "      <td>0.138245</td>\n",
       "    </tr>\n",
       "    <tr>\n",
       "      <th>1</th>\n",
       "      <td>5</td>\n",
       "      <td>2450</td>\n",
       "      <td>0.405629</td>\n",
       "      <td>0.081126</td>\n",
       "      <td>0.275441</td>\n",
       "    </tr>\n",
       "    <tr>\n",
       "      <th>2</th>\n",
       "      <td>10</td>\n",
       "      <td>3500</td>\n",
       "      <td>0.579470</td>\n",
       "      <td>0.057947</td>\n",
       "      <td>0.331504</td>\n",
       "    </tr>\n",
       "    <tr>\n",
       "      <th>3</th>\n",
       "      <td>15</td>\n",
       "      <td>4154</td>\n",
       "      <td>0.687748</td>\n",
       "      <td>0.045850</td>\n",
       "      <td>0.360125</td>\n",
       "    </tr>\n",
       "    <tr>\n",
       "      <th>4</th>\n",
       "      <td>20</td>\n",
       "      <td>4580</td>\n",
       "      <td>0.758278</td>\n",
       "      <td>0.037914</td>\n",
       "      <td>0.376779</td>\n",
       "    </tr>\n",
       "  </tbody>\n",
       "</table>\n",
       "</div>"
      ],
      "text/plain": [
       "   rank_at  hitcounts    recall  precision      ndcg\n",
       "0        1        835  0.138245   0.138245  0.138245\n",
       "1        5       2450  0.405629   0.081126  0.275441\n",
       "2       10       3500  0.579470   0.057947  0.331504\n",
       "3       15       4154  0.687748   0.045850  0.360125\n",
       "4       20       4580  0.758278   0.037914  0.376779"
      ]
     },
     "execution_count": 122,
     "metadata": {},
     "output_type": "execute_result"
    }
   ],
   "source": [
    "metrics_sample"
   ]
  },
  {
   "cell_type": "markdown",
   "metadata": {},
   "source": [
    "## This one with new bold driver approach"
   ]
  },
  {
   "cell_type": "code",
   "execution_count": 144,
   "metadata": {},
   "outputs": [
    {
     "data": {
      "text/html": [
       "<div>\n",
       "<style scoped>\n",
       "    .dataframe tbody tr th:only-of-type {\n",
       "        vertical-align: middle;\n",
       "    }\n",
       "\n",
       "    .dataframe tbody tr th {\n",
       "        vertical-align: top;\n",
       "    }\n",
       "\n",
       "    .dataframe thead th {\n",
       "        text-align: right;\n",
       "    }\n",
       "</style>\n",
       "<table border=\"1\" class=\"dataframe\">\n",
       "  <thead>\n",
       "    <tr style=\"text-align: right;\">\n",
       "      <th></th>\n",
       "      <th>rank_at</th>\n",
       "      <th>hitcounts</th>\n",
       "      <th>recall</th>\n",
       "      <th>precision</th>\n",
       "      <th>ndcg</th>\n",
       "    </tr>\n",
       "  </thead>\n",
       "  <tbody>\n",
       "    <tr>\n",
       "      <th>0</th>\n",
       "      <td>1</td>\n",
       "      <td>880</td>\n",
       "      <td>0.145695</td>\n",
       "      <td>0.145695</td>\n",
       "      <td>0.145695</td>\n",
       "    </tr>\n",
       "    <tr>\n",
       "      <th>1</th>\n",
       "      <td>5</td>\n",
       "      <td>2509</td>\n",
       "      <td>0.415397</td>\n",
       "      <td>0.083079</td>\n",
       "      <td>0.283357</td>\n",
       "    </tr>\n",
       "    <tr>\n",
       "      <th>2</th>\n",
       "      <td>10</td>\n",
       "      <td>3545</td>\n",
       "      <td>0.586921</td>\n",
       "      <td>0.058692</td>\n",
       "      <td>0.338873</td>\n",
       "    </tr>\n",
       "    <tr>\n",
       "      <th>3</th>\n",
       "      <td>15</td>\n",
       "      <td>4236</td>\n",
       "      <td>0.701325</td>\n",
       "      <td>0.046755</td>\n",
       "      <td>0.369178</td>\n",
       "    </tr>\n",
       "    <tr>\n",
       "      <th>4</th>\n",
       "      <td>20</td>\n",
       "      <td>4688</td>\n",
       "      <td>0.776159</td>\n",
       "      <td>0.038808</td>\n",
       "      <td>0.386845</td>\n",
       "    </tr>\n",
       "  </tbody>\n",
       "</table>\n",
       "</div>"
      ],
      "text/plain": [
       "   rank_at  hitcounts    recall  precision      ndcg\n",
       "0        1        880  0.145695   0.145695  0.145695\n",
       "1        5       2509  0.415397   0.083079  0.283357\n",
       "2       10       3545  0.586921   0.058692  0.338873\n",
       "3       15       4236  0.701325   0.046755  0.369178\n",
       "4       20       4688  0.776159   0.038808  0.386845"
      ]
     },
     "execution_count": 144,
     "metadata": {},
     "output_type": "execute_result"
    }
   ],
   "source": [
    "metrics_sample"
   ]
  },
  {
   "cell_type": "code",
   "execution_count": 66,
   "metadata": {},
   "outputs": [],
   "source": [
    "metrics_sample.to_pickle(path + 'Results/BPR/metrics_100_sample_ml_1m')"
   ]
  },
  {
   "cell_type": "markdown",
   "metadata": {},
   "source": [
    "## Visualise Results"
   ]
  },
  {
   "cell_type": "code",
   "execution_count": 57,
   "metadata": {},
   "outputs": [
    {
     "data": {
      "image/png": "[encoded data removed]",
      "text/plain": [
       "<Figure size 432x288 with 1 Axes>"
      ]
     },
     "metadata": {
      "needs_background": "light"
     },
     "output_type": "display_data"
    }
   ],
   "source": [
    "plt.plot(metrics['rank_at'], metrics['precision'])\n",
    "plt.xlabel('Rank')\n",
    "plt.ylabel('precision@')\n",
    "plt.title('Precision for different rank values')\n",
    "plt.show()"
   ]
  },
  {
   "cell_type": "code",
   "execution_count": 58,
   "metadata": {},
   "outputs": [
    {
     "data": {
      "image/png": "[encoded data removed]",
      "text/plain": [
       "<Figure size 432x288 with 1 Axes>"
      ]
     },
     "metadata": {
      "needs_background": "light"
     },
     "output_type": "display_data"
    }
   ],
   "source": [
    "plt.plot(metrics['rank_at'], metrics['recall'])\n",
    "plt.xlabel('Rank')\n",
    "plt.ylabel('recall@')\n",
    "plt.title('Recall')\n",
    "plt.show()"
   ]
  },
  {
   "cell_type": "markdown",
   "metadata": {},
   "source": [
    "---\n",
    "# Grid Search\n",
    "- Amazon_01_users\n",
    "- ML_01_users"
   ]
  },
  {
   "cell_type": "code",
   "execution_count": 55,
   "metadata": {},
   "outputs": [],
   "source": [
    "def read_get_train_test(file_path, file_name):\n",
    "    # Init \n",
    "    df = pd.read_pickle(file_path + file_name)\n",
    "    df['item_id'] = df.item.astype('category').cat.codes\n",
    "    df['user_id'] = df.user.astype('category').cat.codes\n",
    "\n",
    "    # Create Train and Test sets\n",
    "    BATCH_SIZE = 64\n",
    "    val_perc = test_perc = 0.1\n",
    "    n_last_items_val = n_last_items_test = 1\n",
    "    return train_val_test_split(df, BATCH_SIZE, val_perc, test_perc, n_last_items_val, n_last_items_test, stats=False) "
   ]
  },
  {
   "cell_type": "code",
   "execution_count": 68,
   "metadata": {},
   "outputs": [],
   "source": [
    "def full_run(total_users, total_items, train_set, val_set, test_set, params, sample_perc, n_full_runs=1):\n",
    "    print('Run:', str(1) ,'/', str(n_full_runs))\n",
    "    # Model Run\n",
    "    params['sample_size'] = sample_perc*len(train_set)\n",
    "    model = BPR(total_users, total_items, params)\n",
    "    model.fit(train_set,verbose=0)\n",
    "    \n",
    "    # Evaluation\n",
    "    rank_at = 20\n",
    "    steps = 5\n",
    "    ranked_df = rank_predictions(model.model, test_set, rank_at, stats=False)\n",
    "    full_metrics = get_metrics(ranked_df, steps, rank_at, stats=False)\n",
    "    \n",
    "    for i in range(n_full_runs-1):\n",
    "        print('Run:', str(i+2) ,'/', str(n_full_runs))\n",
    "        model = BPR(total_users, total_items, params)\n",
    "        model.fit(train_set, verbose=0)\n",
    "\n",
    "        # Evaluation\n",
    "        ranked_df = rank_predictions(model.model, test_set, rank_at, stats=False)\n",
    "        full_metrics += get_metrics(ranked_df, steps, rank_at, stats=False)\n",
    "    \n",
    "    full_metrics /= n_full_runs\n",
    "    return model, full_metrics"
   ]
  },
  {
   "cell_type": "markdown",
   "metadata": {},
   "source": [
    "## Amazon"
   ]
  },
  {
   "cell_type": "code",
   "execution_count": 69,
   "metadata": {},
   "outputs": [],
   "source": [
    "params = {\n",
    "\"nolf\":20, # Size of latent feature vectors\n",
    "\"n_iterations\":40, # Depends on number of items and users\n",
    "\"sample_size\":1, # Adjusted in loop to sample_perc*len(train_set)\n",
    "\"seed\":0, # 0 Means no seed and samples will be drawn differently every time\n",
    "\"alpha\":0.1, # Learning rate\n",
    "          \n",
    "#Regularizers\n",
    "\"reg_user\":0.03, # should be in proportion to the number of items \n",
    "\"reg_item\":0.03,\n",
    "}"
   ]
  },
  {
   "cell_type": "code",
   "execution_count": 70,
   "metadata": {},
   "outputs": [
    {
     "data": {
      "text/plain": [
       "'C:/Users/robin.opdam/Google Drive/Thesis (Msc)/Thesis_shared_files/'"
      ]
     },
     "execution_count": 70,
     "metadata": {},
     "output_type": "execute_result"
    }
   ],
   "source": [
    "path"
   ]
  },
  {
   "cell_type": "markdown",
   "metadata": {},
   "source": [
    "## Init"
   ]
  },
  {
   "cell_type": "code",
   "execution_count": 73,
   "metadata": {
    "scrolled": true
   },
   "outputs": [],
   "source": [
    "file_names = ['Amazon_01_users']\n",
    "file_paths = [path + 'Data/Amazon/']\n",
    "ext = 'Am'\n",
    "store_path = path + 'Results/BPR/Grid_Search/learning_rate/'\n",
    "\n",
    "n_iterations = [40]\n",
    "regs = [0.1]\n",
    "nolfs = [20]\n",
    "sample_percs = [0.4]\n",
    "alphas = [0.001, 0.01, 0.05, 0.08, 0.1, 0.12, 0.15]\n",
    "\n",
    "runs = 0\n",
    "all_runs = len(n_iterations) * len(regs) * len(nolfs) * len(sample_percs) * len(alphas)"
   ]
  },
  {
   "cell_type": "markdown",
   "metadata": {},
   "source": [
    "## Run Grid Search"
   ]
  },
  {
   "cell_type": "code",
   "execution_count": 74,
   "metadata": {},
   "outputs": [
    {
     "name": "stdout",
     "output_type": "stream",
     "text": [
      "\n",
      " ============================================================ \n",
      " Run: 1 / 7\n",
      "File:\t\t\t Amazon_01_users\n",
      "Iterations:\t\t 40\n",
      "Regularisation:\t\t 0.1\n",
      "NOLF:\t\t\t 20\n",
      "Learning Rate:\t\t 0.001\n",
      "Sample Percentage:\t 0.4\n",
      "Run: 1 / 10\n",
      "Run: 2 / 10\n",
      "Run: 3 / 10\n",
      "Run: 4 / 10\n",
      "Run: 5 / 10\n",
      "Run: 6 / 10\n",
      "Run: 7 / 10\n",
      "Run: 8 / 10\n",
      "Run: 9 / 10\n",
      "Run: 10 / 10\n",
      "\n",
      " ============================================================ \n",
      " Run: 2 / 7\n",
      "File:\t\t\t Amazon_01_users\n",
      "Iterations:\t\t 40\n",
      "Regularisation:\t\t 0.1\n",
      "NOLF:\t\t\t 20\n",
      "Learning Rate:\t\t 0.01\n",
      "Sample Percentage:\t 0.4\n",
      "Run: 1 / 10\n",
      "Run: 2 / 10\n",
      "Run: 3 / 10\n",
      "Run: 4 / 10\n",
      "Run: 5 / 10\n",
      "Run: 6 / 10\n",
      "Run: 7 / 10\n",
      "Run: 8 / 10\n",
      "Run: 9 / 10\n",
      "Run: 10 / 10\n",
      "\n",
      " ============================================================ \n",
      " Run: 3 / 7\n",
      "File:\t\t\t Amazon_01_users\n",
      "Iterations:\t\t 40\n",
      "Regularisation:\t\t 0.1\n",
      "NOLF:\t\t\t 20\n",
      "Learning Rate:\t\t 0.05\n",
      "Sample Percentage:\t 0.4\n",
      "Run: 1 / 10\n",
      "Run: 2 / 10\n",
      "Run: 3 / 10\n",
      "Run: 4 / 10\n",
      "Run: 5 / 10\n",
      "Run: 6 / 10\n",
      "Run: 7 / 10\n",
      "Run: 8 / 10\n",
      "Run: 9 / 10\n",
      "Run: 10 / 10\n",
      "\n",
      " ============================================================ \n",
      " Run: 4 / 7\n",
      "File:\t\t\t Amazon_01_users\n",
      "Iterations:\t\t 40\n",
      "Regularisation:\t\t 0.1\n",
      "NOLF:\t\t\t 20\n",
      "Learning Rate:\t\t 0.08\n",
      "Sample Percentage:\t 0.4\n",
      "Run: 1 / 10\n",
      "Run: 2 / 10\n",
      "Run: 3 / 10\n",
      "Run: 4 / 10\n",
      "Run: 5 / 10\n",
      "Run: 6 / 10\n",
      "Run: 7 / 10\n",
      "Run: 8 / 10\n",
      "Run: 9 / 10\n",
      "Run: 10 / 10\n",
      "\n",
      " ============================================================ \n",
      " Run: 5 / 7\n",
      "File:\t\t\t Amazon_01_users\n",
      "Iterations:\t\t 40\n",
      "Regularisation:\t\t 0.1\n",
      "NOLF:\t\t\t 20\n",
      "Learning Rate:\t\t 0.1\n",
      "Sample Percentage:\t 0.4\n",
      "Run: 1 / 10\n",
      "Run: 2 / 10\n",
      "Run: 3 / 10\n",
      "Run: 4 / 10\n",
      "Run: 5 / 10\n",
      "Run: 6 / 10\n",
      "Run: 7 / 10\n",
      "Run: 8 / 10\n",
      "Run: 9 / 10\n",
      "Run: 10 / 10\n",
      "\n",
      " ============================================================ \n",
      " Run: 6 / 7\n",
      "File:\t\t\t Amazon_01_users\n",
      "Iterations:\t\t 40\n",
      "Regularisation:\t\t 0.1\n",
      "NOLF:\t\t\t 20\n",
      "Learning Rate:\t\t 0.12\n",
      "Sample Percentage:\t 0.4\n",
      "Run: 1 / 10\n",
      "Run: 2 / 10\n",
      "Run: 3 / 10\n",
      "Run: 4 / 10\n",
      "Run: 5 / 10\n",
      "Run: 6 / 10\n",
      "Run: 7 / 10\n",
      "Run: 8 / 10\n",
      "Run: 9 / 10\n",
      "Run: 10 / 10\n",
      "\n",
      " ============================================================ \n",
      " Run: 7 / 7\n",
      "File:\t\t\t Amazon_01_users\n",
      "Iterations:\t\t 40\n",
      "Regularisation:\t\t 0.1\n",
      "NOLF:\t\t\t 20\n",
      "Learning Rate:\t\t 0.15\n",
      "Sample Percentage:\t 0.4\n",
      "Run: 1 / 10\n",
      "Run: 2 / 10\n",
      "Run: 3 / 10\n",
      "Run: 4 / 10\n",
      "Run: 5 / 10\n",
      "Run: 6 / 10\n",
      "Run: 7 / 10\n",
      "Run: 8 / 10\n",
      "Run: 9 / 10\n",
      "Run: 10 / 10\n"
     ]
    }
   ],
   "source": [
    "from Evaluation import rank_predictions, get_metrics\n",
    "from Data_prep import train_val_test_split\n",
    "for file_name, file_path in zip(file_names, file_paths):\n",
    "    #Get data split and variables needed for BPR\n",
    "    total_users, total_items, train_set, val_set, test_set = read_get_train_test(file_path, file_name)\n",
    "    for n_iters in n_iterations:\n",
    "        params['n_iterations'] = n_iters\n",
    "        for reg in regs:\n",
    "            params['reg_user'] = reg\n",
    "            params['reg_item'] = reg\n",
    "            for nolf in nolfs:\n",
    "                params['nolf'] = nolf\n",
    "                for alpha in alphas:\n",
    "                    params['alpha'] = alpha\n",
    "                    for sample_perc in sample_percs:\n",
    "                        # Track Progress\n",
    "                        runs += 1\n",
    "                        print('\\n', '='*60, '\\n', 'Run:', runs, '/', all_runs)\n",
    "                        print('File:\\t\\t\\t', file_name)\n",
    "                        print('Iterations:\\t\\t', n_iters)\n",
    "                        print('Regularisation:\\t\\t', reg)\n",
    "                        print('NOLF:\\t\\t\\t', nolf)\n",
    "                        print('Learning Rate:\\t\\t', alpha)\n",
    "                        print('Sample Percentage:\\t', sample_perc)\n",
    "\n",
    "                        # Result name\n",
    "                        final_name = ext + '_' + str(n_iters) + '_' + str(nolf) + '_' + str(reg) + '_' + str(alpha) + '_' + str(sample_perc)\n",
    "\n",
    "                        # Run\n",
    "                        model, metrics = full_run(total_users, total_items, train_set, val_set, test_set, params, sample_perc, 10)\n",
    "\n",
    "                        # Store TODO: Should be in full run\n",
    "                        res_name = 'BPR_models'\n",
    "                        model.store_results(store_path, res_name, final_name, stats=False)\n",
    "                        metrics.to_pickle(store_path + 'metrics_' + final_name)"
   ]
  },
  {
   "cell_type": "markdown",
   "metadata": {},
   "source": [
    "# Appendix"
   ]
  },
  {
   "cell_type": "code",
   "execution_count": null,
   "metadata": {},
   "outputs": [],
   "source": [
    "# df = pd.read_pickle('Data/amazon_clothing_shoes_jewelry_data')\n",
    "# users = df.user.unique()\n",
    "# to_keep = users[:300000]\n",
    "\n",
    "# user_indices = df.groupby('user')['index'].apply(list)\n",
    "# to_keep_indices = []\n",
    "# for u in user_indices[to_keep]:\n",
    "#     to_keep_indices.extend(u)\n",
    "\n",
    "# new_df = df_og.loc[to_keep_indices]\n",
    "# len(to_keep_indices)"
   ]
  },
  {
   "cell_type": "markdown",
   "metadata": {},
   "source": [
    "## standard SVD model"
   ]
  },
  {
   "cell_type": "code",
   "execution_count": null,
   "metadata": {},
   "outputs": [],
   "source": [
    "# class SVD:\n",
    "#     \"\"\"\" All functions used to run, test, plot and store the\n",
    "#     Singular Value Decomposition Model\"\"\"\n",
    "\n",
    "#     def __init__(self, params, total_users, total_items):\n",
    "#         self.nolf = params['nolf']\n",
    "#         self.n_epochs = params['n_epochs']\n",
    "#         self.alpha = params['alpha']\n",
    "#         self.alpha_b = params['alpha_b']\n",
    "#         self.alpha_cb = params['alpha_cb']\n",
    "#         self.use_bias = params['use_bias']\n",
    "#         self.use_impl_fb = params['use_impl_fb']\n",
    "#         self.use_color = params['use_color']\n",
    "#         self.use_weight_ver = params['use_weight_ver']\n",
    "#         self.bu_reg = params['bu_reg']\n",
    "#         self.bi_reg = params['bi_reg']\n",
    "#         self.pu_reg = params['pu_reg']\n",
    "#         self.qi_reg = params['qi_reg']\n",
    "#         self.x_reg = params['x_reg']\n",
    "#         self.cb_reg = params['cb_reg']\n",
    "#         self.ver_weight = params['ver_weight']\n",
    "#         self.stop = params['stop']\n",
    "#         self.random_state = params['random_state']\n",
    "#         self.total_users = total_users\n",
    "#         self.total_items = total_items\n",
    "#         self.params = params\n",
    "#         self.mu = 0 \n",
    "#         self.N = []\n",
    "#         self.N_test = []\n",
    "#         self.t = pd.DataFrame()\n",
    "#         self.c = pd.DataFrame()\n",
    "#         self.F = pd.DataFrame()\n",
    "\n",
    "#         self.train_data = pd.DataFrame()\n",
    "#         self.test_data = pd.DataFrame()\n",
    "#         self.val_data = pd.DataFrame()\n",
    "#         self.train_time = 0\n",
    "#         self.best_model = {}\n",
    "#         self.model = {}\n",
    "#         self.test_results = {}\n",
    "\n",
    "#     def fit(self, train_data, val_data=[], verbose=1, plot=True, plot_name=''):\n",
    "#         self.train_data = train_data\n",
    "#         self.val_data = val_data\n",
    "#         self.SVD(train_data=train_data, val_data=val_data, verbose=verbose, plot=plot, plot_name=plot_name)\n",
    "#         return self\n",
    "\n",
    "    \n",
    "# ###############################################################################################\n",
    "    \n",
    "#     def SVD(self, train_data, val_data, verbose, plot, plot_name):\n",
    "#         \"\"\"\"The SVD algorithm with sgd\n",
    "#         input: rating dataset with columns:['rating', 'user_id', 'item_id']\n",
    "#         output: the resulting p, q, bi, bu matrices\"\"\"\n",
    "#         self.mu = self.create_mu(train_data)\n",
    "#         train_matrix = self.create_matrix(train_data, self.total_users, self.total_items)\n",
    "        \n",
    "#         tuples_train = [tuple(x) for x in train_data[['new_user_id', 'new_item_id', 'rating']].to_numpy()]\n",
    "        \n",
    "#         p = np.random.normal(0, .1, (total_users, self.nolf))  # users\n",
    "#         q = np.random.normal(0, .1, (total_items, self.nolf))  # items\n",
    "        \n",
    "#         # user and item biases\n",
    "#         b_user = np.zeros(total_users)\n",
    "#         b_item = np.zeros(total_items)\n",
    "        \n",
    "#         # using color (pareto split (0,1,2)) attribute bias\n",
    "#         if self.use_color:\n",
    "#             print('Creating F and c, for incorporating color bias')\n",
    "#             self.F, self.c = self.init_color(train_data)\n",
    "\n",
    "#         # implicit fb rated, not rated\n",
    "#         x = np.random.normal(0, .1, (total_items, self.nolf))\n",
    "#         impl_fb_u = np.zeros(self.nolf)\n",
    "#         if self.use_impl_fb:\n",
    "#             print('Creating N, for incorporating implicit feedback')\n",
    "#             self.N = train_data.groupby('new_user_id')['new_item_id'].apply(list)\n",
    "        \n",
    "#         # 0.5 weight on the errors of verified = False user item combinations\n",
    "#         if self.use_weight_ver:\n",
    "#             i_verified = train_data.set_index(['new_user_id', 'new_item_id'])['verified']\n",
    "#             i_verified = i_verified.loc[~i_verified.index.duplicated(keep='first')]\n",
    "        \n",
    "#         sqrt_Nu = 0\n",
    "#         cb = 0\n",
    "#         rmses = []\n",
    "#         val_rmses = []\n",
    "#         smallest_val_rmse = 10000\n",
    "#         val_rmse = \"na\"\n",
    "#         start = time.time()\n",
    "#         for epoch in range(self.n_epochs):\n",
    "#             total_sq_error = 0\n",
    "#             for u, i, r_ui in tuples_train:\n",
    "#                 u = int(u)\n",
    "#                 i = int(i)\n",
    "                \n",
    "#                 if self.use_impl_fb:\n",
    "#                     impl_fb_u = np.zeros(self.nolf)\n",
    "#                     sqrt_Nu = np.sqrt(len(self.N[u]))\n",
    "#                     for j in self.N[u]:\n",
    "#                         impl_fb_u += x[j] / sqrt_Nu\n",
    "\n",
    "#                 if self.use_color and epoch > 5:\n",
    "#                     F_ui =  self.F[u,i] #Set of items associated with i and rated by u\n",
    "#                     u_mu = self.mu + b_user[u]\n",
    "#                     sqrt_F_ui = np.sqrt(len(F_ui))\n",
    "#                     for index, f in enumerate(F_ui):\n",
    "#                         r_uf = train_data[(train_data['new_user_id']==u) & (train_data['new_item_id']==f)]['rating'].iloc[0]\n",
    "#                         cb += (r_uf - u_mu) * self.c[u,i][index]\n",
    "#                     cb /=  sqrt_F_ui\n",
    "                        \n",
    "#                 if self.use_bias:   \n",
    "#                     error = r_ui - ((self.mu + b_user[u] + b_item[i] + cb) + np.dot(p[u] + impl_fb_u, q[i]))\n",
    "#                     if self.use_weight_ver and not i_verified[u,i]:\n",
    "#                         error = self.ver_weight * error\n",
    "                    \n",
    "#                     b_user[u] += self.alpha_b * (error - self.bu_reg * b_user[u])\n",
    "#                     b_item[i] += self.alpha_b * (error - self.bi_reg * b_item[i])\n",
    "#                 else:\n",
    "#                     error = r_ui - np.dot(p[u], q[i])\n",
    "\n",
    "#                 p[u] += self.alpha * (error * q[i] - self.pu_reg * p[u])\n",
    "#                 q[i] += self.alpha * (error * (p[u] + impl_fb_u) - self.qi_reg * q[i])\n",
    "#                 total_sq_error += np.square(error)\n",
    "            \n",
    "#                 if self.use_impl_fb:\n",
    "#                     for j in self.N[u]:\n",
    "#                         x[j] += self.alpha * (error * q[i] / sqrt_Nu - self.x_reg * x[j])\n",
    "                \n",
    "#                 if self.use_color and epoch > 5:\n",
    "#                     for index, f in enumerate(F_ui):\n",
    "#                         r_uf = train_data[(train_data['new_user_id']==u) & (train_data['new_item_id']==f)]['rating'].iloc[0]\n",
    "#                         u_mu = self.mu + b_user[u]\n",
    "#                         self.c[u,i][index] += self.alpha_cb * (error * (1/sqrt_F_ui) * (r_uf - u_mu) - self.cb_reg * self.c[u,i][index])\n",
    "                \n",
    "#             rmse = np.sqrt(total_sq_error / len(tuples_train))\n",
    "#             rmses.append(rmse)\n",
    "            \n",
    "#             self.model = {'p': p, 'q': q, 'bu':b_user, 'bi':b_item, 'cbu': self.c, 'x':x, 'rmse':rmses, 'val_rmse':val_rmses}\n",
    "            \n",
    "#             # Validation\n",
    "#             if len(val_data) > 0:\n",
    "#                 new_val_rmse = self.test(val_data, val=True)\n",
    "#                 val_rmses.append(new_val_rmse)\n",
    "#                 if new_val_rmse < smallest_val_rmse:\n",
    "#                     smallest_val_rmse = new_val_rmse\n",
    "#                     self.best_model = copy.deepcopy(self.model)\n",
    "#                 val_rmse = new_val_rmse\n",
    "                \n",
    "#             # Epoch Printing\n",
    "#             if epoch % verbose == 0:\n",
    "#                 if len(val_data) > 0:\n",
    "#                     print('Epoch:', epoch, '  RMSE:', rmse, ' Val_RMSE:', val_rmse)\n",
    "#                 else:\n",
    "#                     print('Epoch:', epoch, '  RMSE:', rmse)\n",
    "            \n",
    "#             if self.stop and val_rmses[-2:][0] < val_rmse:\n",
    "#                 print('BREAK: Validation set not improving anymore')\n",
    "#                 break\n",
    "                \n",
    "#         if plot:\n",
    "#             self.plot_rmse(rmses, val_rmses, plot_name)\n",
    "\n",
    "#         self.train_time = time.time() - start\n",
    "#         self.model = {'p': p, 'q': q, 'bu':b_user, 'bi':b_item, 'cbu': self.c, 'x':x, 'rmse':rmses, 'val_rmse':val_rmses}\n",
    "# #################################################################################################\n",
    "\n",
    "#     def init_color(self, data_set):\n",
    "#         self.t = data_set.groupby(['new_user_id', 'par_col2'])['new_item_id'].apply(list)\n",
    "#         F = data_set.groupby(['new_user_id', 'new_item_id'])['par_col2'].apply(self.sim_items)\n",
    "#         c = data_set.groupby(['new_user_id', 'new_item_id'])['par_col2'].apply(self.sim_items, random=True)\n",
    "#         return F, c\n",
    "\n",
    "#     def sim_items(self, x, random=False):\n",
    "#         u_id = x.name[0]\n",
    "#         col = x.iloc[0]\n",
    "#         if random:\n",
    "#             return np.random.normal(0,.1,len(self.t[u_id, col]))\n",
    "#         return self.t[u_id, col]\n",
    "    \n",
    "#     def create_matrix(self, X_train, n_users, n_items):\n",
    "#         r = X_train['new_user_id']\n",
    "#         c = X_train['new_item_id']\n",
    "#         d = X_train['rating']\n",
    "#         train_matrix = sparse.coo_matrix((d, (r, c)), shape=(n_users, n_items))\n",
    "    \n",
    "#         return train_matrix.tocsr()\n",
    "    \n",
    "#     def create_mu(self, train_set):\n",
    "#         # Better mean calculation according to https://sifter.org/~simon/journal/20061211.html\n",
    "#         va = train_set.groupby('new_user_id')['rating'].mean().var() #variance mean ratings users\n",
    "#         vb = train_set.groupby('new_item_id')['rating'].mean().var() #variance mean ratings items\n",
    "#         k = va/vb #variance proportion\n",
    "#         better_mu = (train_set['rating'].mean() + train_set['rating'].sum()) / (k+len(train_set))\n",
    "#         return better_mu\n",
    "    \n",
    "#     def plot_rmse(self, rmse, val_rmses=[], plot_name=''):\n",
    "#         plt.plot(np.arange(len(rmse)), rmse)\n",
    "#         if len(val_rmses) > 0:\n",
    "#             plt.plot(np.arange(len(val_rmses)), val_rmses, color='red')\n",
    "#         plt.title('RMSE')\n",
    "#         plt.xlabel('epoch')\n",
    "#         plt.ylabel('RMSE')\n",
    "#         plt.legend(['Train', 'Validation'])\n",
    "#         if len(plot_name) > 0:\n",
    "#             plt.savefig('Plots/' + plot_name + '.png')\n",
    "#         plt.show()\n",
    "\n",
    "#     def test(self, test_data, val=False):\n",
    "#         if not val:\n",
    "#             self.test_data = test_data\n",
    "#         tuples_test = [tuple(x) for x in test_data[['new_user_id', 'new_item_id', 'rating']].to_numpy()]\n",
    "#         test_matrix = self.create_matrix(test_data, self.total_users, self.total_items)\n",
    "        \n",
    "#         if self.use_impl_fb and val:\n",
    "#             self.N_test = self.val_data.groupby('new_user_id')['new_item_id'].apply(list)\n",
    "#         elif self.use_impl_fb:\n",
    "#             self.N_test = self.test_data.groupby('new_user_id')['new_item_id'].apply(list)\n",
    "            \n",
    "#         total_error = 0\n",
    "#         estimates = []\n",
    "#         for u, i, r_ui in tuples_test:\n",
    "#             u = int(u)\n",
    "#             i = int(i)\n",
    "#             est = self.estimate(u, i, test_matrix, test_data)\n",
    "#             estimates.append(est)\n",
    "#             total_error += np.square(r_ui - est)\n",
    "        \n",
    "#         rmse = np.sqrt(total_error / len(tuples_test))\n",
    "        \n",
    "#         if not val:\n",
    "#             self.test_results = {'rmse': rmse, 'estimates':estimates}\n",
    "#             print('RMSE on test set:', self.test_results['rmse'])\n",
    "#         else:\n",
    "#             return rmse\n",
    "\n",
    "#     def estimate(self, u, i, test_matrix, test_data):\n",
    "#         est = self.mu + self.model['bu'][u] + self.model['bi'][i]\n",
    "#         impl_fb_u = np.zeros(self.nolf)\n",
    "#         cb = 0\n",
    "#         if u in self.train_data['new_user_id'] and i in self.train_data['new_item_id']:\n",
    "            \n",
    "#             if self.use_impl_fb and u in self.N.index:\n",
    "#                 sqrt_Nu = np.sqrt(len(self.N[u]))\n",
    "#                 for j in self.N[u]:   \n",
    "#                     impl_fb_u += self.model['x'][j] / sqrt_Nu\n",
    "            \n",
    "#             if self.use_color and (u,i) in self.model['cbu']:\n",
    "#                 F_ui =  self.F[u,i] #Set of items associated with i and rated by u\n",
    "#                 u_mu = self.mu + self.model['bu'][u]\n",
    "#                 sqrt_F_ui = np.sqrt(len(F_ui))\n",
    "#                 for index, f in enumerate(F_ui):\n",
    "#                     r_uf = self.train_data[(self.train_data['new_user_id']==u) & (self.train_data['new_item_id']==f)]['rating'].iloc[0]\n",
    "#                     cb += (r_uf - u_mu) * self.model['cbu'][u,i][index]\n",
    "#                 cb /=  sqrt_F_ui\n",
    "                \n",
    "#             est += cb + np.dot(self.model['p'][u] + impl_fb_u, self.model['q'][i])\n",
    "\n",
    "#         return est\n",
    "    \n",
    "#     def store_results(self, log_path, res_name, user_thres, item_thres):\n",
    "#         train_size = round((len(self.train_data) / (len(self.train_data) + len(self.test_data) + len(self.val_data))),1)\n",
    "#         test_size = round((len(self.test_data) / (len(self.train_data) + len(self.test_data) + len(self.val_data))),1)\n",
    "#         val_size = round((len(self.val_data) / (len(self.train_data) + len(self.test_data) + len(self.val_data))),1)\n",
    "        \n",
    "#         result_info = {'RMSE_test': self.test_results['rmse'], 'train_speed': round(self.train_time,2)}\n",
    "#         other_info = {'u_thres': user_thres,'i_thres': item_thres, 'train_size':train_size, 'test_size':test_size, 'val_size':val_size, 'train_rmse':self.model['rmse'], 'val_rmse':self.model['val_rmse']}\n",
    "#         final_log = dict(result_info, **self.params, **other_info)\n",
    "\n",
    "#         if not os.path.exists(log_path + res_name):\n",
    "#             df_results = pd.DataFrame(columns=final_log.keys())\n",
    "#             print('new results created')\n",
    "\n",
    "#         else:\n",
    "#             df_results = pd.read_pickle(log_path + res_name)\n",
    "#             print('results added')\n",
    "\n",
    "#         df_results = df_results.append(final_log, ignore_index=True)\n",
    "#         pd.to_pickle(df_results, log_path + res_name)"
   ]
  },
  {
   "cell_type": "code",
   "execution_count": null,
   "metadata": {},
   "outputs": [],
   "source": [
    "# class BPR():\n",
    "#     def __init__(self, total_users, total_items, params):\n",
    "#         self.total_users = total_users\n",
    "#         self.total_items = total_items\n",
    "#         self.nolf = params['nolf']\n",
    "#         self.n_iterations = params['n_iterations']\n",
    "#         self.alpha = params['alpha']\n",
    "#         self.reg_user = params['reg_user']\n",
    "#         self.reg_item = params['reg_item']\n",
    "#         self.reg_bias = params['reg_bias']\n",
    "#         self.alpha_decay = self.alpha / self.n_iterations\n",
    "#         self.model = {'loss_list':[], 'learning_rate':[]}\n",
    "        \n",
    "#     def fit(self, train_set, val_set, val_rank, batch_size=1000):\n",
    "#         #Init\n",
    "#         s = time.time()\n",
    "#         self.model['p'] = np.random.normal(0, .1, (self.total_users, self.nolf))  # users\n",
    "#         self.model['q'] = np.random.normal(0, .1, (self.total_items, self.nolf))  # items\n",
    "#         self.model['b'] = np.zeros(self.total_items)\n",
    "        \n",
    "# #         val_prec_at = []\n",
    "# #         val_rec_at = []\n",
    "# #         val_hitcount = []\n",
    "        \n",
    "#         # Create samples \n",
    "#         n_sgd_samples = len(train_set) * self.n_iterations\n",
    "        \n",
    "#         z = 0\n",
    "#         self.model['train_time'] = 0\n",
    "#         print('init and sampling done:', time.time() - s, 'seconds')\n",
    "#         for i in range(self.n_iterations):\n",
    "#             sgd_users, sgd_pos_items, sgd_neg_items = self.user_sampling(train_set, n_sgd_samples)\n",
    "        \n",
    "#         while (z+1)*batch_size < n_sgd_samples:\n",
    "#             s_it = time.time()\n",
    "#             it_loss = self.train(sgd_users[z*batch_size:(z+1)*batch_size], sgd_pos_items[z*batch_size:(z+1)*batch_size], sgd_neg_items[z*batch_size:(z+1)*batch_size])\n",
    "            \n",
    "#             if z > 0:\n",
    "#                 self.update_alpha(it_loss)\n",
    "            \n",
    "#             z += 1\n",
    "#             self.model['loss_list'].append(it_loss) \n",
    "\n",
    "# #             rec_at, prec_at, hitcount = self.eval(val_set, val_rank)\n",
    "#             t_it = time.time()- s_it\n",
    "#             self.model['train_time'] += t_it\n",
    "#             print('batch:', z, ' loss:', round(it_loss,4), 'iteration time:', round(t_it/2,2))#, ' val prec@' + str(val_rank), ':', round(prec_at,5), ' val rec@' + str(val_rank), ':', round(rec_at,5), '  Hits:', hitcount)#'  alpha:', self.alpha)\n",
    "    \n",
    "# #             val_prec_at.append(prec_at)\n",
    "# #             val_rec_at.append(rec_at)\n",
    "# #             val_hitcount.append(hitcount)\n",
    "            \n",
    "# #         self.model['val_prec_at'] = val_prec_at\n",
    "# #         self.model['val_rec_at'] = val_rec_at\n",
    "# #         self.model['val_hitcount'] = val_hitcount\n",
    "        \n",
    "        \n",
    "#     def create_matrices(self, data):\n",
    "#         r = data['new_user_id']\n",
    "#         c = data['new_item_id']\n",
    "#         d = data['rating']\n",
    "#         m = sparse.csr_matrix((d, (r, c)), shape=(self.total_users, self.total_items))\n",
    "#         m_ones = m.copy()\n",
    "#         m_ones[m_ones > 0] = 1                 \n",
    "#         return m, m_ones\n",
    "    \n",
    "#     def sigmoid(self, x):\n",
    "#         return 1 / (1 + math.exp(-x))\n",
    "    \n",
    "#     def user_sampling(self, data, n_samples):\n",
    "#         train_ratings, train_ones = self.create_matrices(train_set)\n",
    "#         user_items = train_set.groupby('new_user_id')['new_item_id'].apply(list)\n",
    "#         train_users  = train_set.new_user_id.unique()\n",
    "#         train_items = train_set.new_item_id.unique()\n",
    "        \n",
    "#         sgd_users, sgd_pos_items, sgd_neg_items = [], [], []\n",
    "#         for sample in range(n_samples):\n",
    "#             u = np.random.choice(train_users)\n",
    "#             i = random.choice(user_items[u])\n",
    "\n",
    "#             j = int(np.random.choice(train_items)) # neg item\n",
    "# #             j_v = int(train_ones[u,j]) # Value, NEEDED?\n",
    "\n",
    "#             while j in user_items[u]: # j cannot be the same item or an item with a 1\n",
    "#                 j = int(np.random.choice(train_items))\n",
    "# #                 j_v = int(train_ones[u,j])\n",
    "            \n",
    "#             sgd_users.append(u)\n",
    "#             sgd_pos_items.append(i)\n",
    "#             sgd_neg_items.append(j)\n",
    "            \n",
    "#         return sgd_users, sgd_pos_items, sgd_neg_items\n",
    "        \n",
    "#     def train(self, users, pos_items, neg_items):\n",
    "#         for u, i, j in zip(users, pos_items, neg_items):\n",
    "#             pos_item_pred = self.model['b'][i] + np.dot(self.model['p'][u], self.model['q'][i].T)\n",
    "#             neg_item_pred = self.model['b'][j] + np.dot(self.model['p'][u], self.model['q'][j].T)\n",
    "#             diff = pos_item_pred - neg_item_pred\n",
    "\n",
    "#             loss_value = - np.log(self.sigmoid(diff)) #NEGATIVE?\n",
    "#             regulariser = self.reg_user * np.dot(self.model['p'][u], self.model['p'][u]) + self.reg_item * np.dot(self.model['q'][i],self.model['q'][i]) + self.reg_item/10 * np.dot(self.model['q'][j], self.model['q'][j]) + self.reg_bias * (self.model['b'][i]**2 + self.model['b'][j]**2) \n",
    "#             it_loss = loss_value + regulariser\n",
    "\n",
    "#             diff_deriv = self.sigmoid(- diff)\n",
    "            \n",
    "#             #SGD update\n",
    "#             for f in range(self.nolf): # update each factor (see notes for derivatives)\n",
    "#                 self.model['p'][u,f] += self.alpha * (diff_deriv * (self.model['q'][i,f] - self.model['q'][j,f]) - self.reg_user * self.model['p'][u,f])\n",
    "#                 self.model['q'][i,f] += self.alpha * (diff_deriv * self.model['p'][u,f] - self.reg_item * self.model['q'][i,f])\n",
    "#                 self.model['q'][j,f] += self.alpha * (diff_deriv * (-self.model['p'][u,f]) - self.reg_item / 10 * self.model['q'][j,f])\n",
    "#                 self.model['b'][i] += self.alpha * (diff_deriv * self.reg_bias * self.model['b'][i])\n",
    "#                 self.model['b'][j] += self.alpha * (- diff_deriv * (- self.reg_bias) * self.model['b'][j])\n",
    "\n",
    "# #                 it_loss += self.reg_user * self.model['p'][u,f] * self.model['p'][u,f] + self.reg_item * self.model['q'][i,f] * self.model['q'][i,f] + self.reg_item * self.model['q'][j,f] * self.model['q'][j,f]\n",
    "#         return it_loss\n",
    "        \n",
    "#     def update_alpha(self, it_loss):\n",
    "#         last_loss = self.model['loss_list'][-1]\n",
    "#         if(last_loss < it_loss): #bold driver\n",
    "#             self.alpha = 0.5 * self.alpha\n",
    "#             return\n",
    "        \n",
    "#         self.alpha = (1 - self.alpha_decay) * self.alpha\n",
    "#         self.model['learning_rate'].append(self.alpha)\n",
    "        \n",
    "#     def eval(self, val_set, max_rank):\n",
    "#         import eval_rank\n",
    "#         val_ratings, val_ones = create_matrices(val_set, self.total_users, self.total_items)\n",
    "#         result = self.model\n",
    "#         users = val_set.new_user_id.unique()\n",
    "#         items = val_set.new_item_id.unique()\n",
    "\n",
    "#         s = time.time()\n",
    "#         rank_at = max_rank\n",
    "#         mp_splits = 4\n",
    "#         users_split = np.array_split(users, mp_splits)\n",
    "\n",
    "#         if __name__ == '__main__':\n",
    "#             pool = mp.Pool(processes = mp_splits)\n",
    "#             ranked = pool.map(eval_rank.eval_rank, [[result, users_split[0], items, val_ones, rank_at], \n",
    "#                                                     [result, users_split[1], items, val_ones, rank_at], \n",
    "#                                                     [result, users_split[2], items, val_ones, rank_at], \n",
    "#                                                     [result, users_split[3], items, val_ones, rank_at]])\n",
    "#             pool.close()\n",
    "\n",
    "#             ranked_df = pd.DataFrame()\n",
    "\n",
    "#             for i in range(mp_splits):\n",
    "#                 ranked_df = pd.concat([ranked_df, ranked[i]])\n",
    "\n",
    "#             t = time.time() - s\n",
    "#             hitcount = 0\n",
    "#             for u in ranked_df.index:\n",
    "#                 hitcount += len(set(ranked_df.loc[u]['true_id']) & set(ranked_df.loc[u]['pred_items_ranked']))\n",
    "\n",
    "#             prec_at =  hitcount / (len(ranked_df) * rank_at)\n",
    "#             rec_at = hitcount / (len(ranked_df) * len(ranked_df.loc[0]['true_id']))\n",
    "            \n",
    "#             return prec_at, rec_at, hitcount\n",
    "# #             print(t)"
   ]
  }
 ],
 "metadata": {
  "kernelspec": {
   "display_name": "Python 3",
   "language": "python",
   "name": "python3"
  },
  "language_info": {
   "codemirror_mode": {
    "name": "ipython",
    "version": 3
   },
   "file_extension": ".py",
   "mimetype": "text/x-python",
   "name": "python",
   "nbconvert_exporter": "python",
   "pygments_lexer": "ipython3",
   "version": "3.7.7"
  },
  "toc": {
   "base_numbering": 1,
   "nav_menu": {},
   "number_sections": true,
   "sideBar": true,
   "skip_h1_title": false,
   "title_cell": "Table of Contents",
   "title_sidebar": "Contents",
   "toc_cell": false,
   "toc_position": {
    "height": "375.742px",
    "left": "1048.75px",
    "top": "110.57px",
    "width": "200.292px"
   },
   "toc_section_display": true,
   "toc_window_display": false
  }
 },
 "nbformat": 4,
 "nbformat_minor": 4
}
