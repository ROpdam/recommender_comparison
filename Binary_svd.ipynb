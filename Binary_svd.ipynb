{
 "cells": [
  {
   "cell_type": "code",
   "execution_count": 1,
   "metadata": {},
   "outputs": [],
   "source": [
    "import pandas as pd\n",
    "import numpy as np\n",
    "import matplotlib.pyplot as plt\n",
    "import math\n",
    "import os\n",
    "import time\n",
    "import copy\n",
    "import calc_vector\n",
    "import multiprocessing as mp\n",
    "\n",
    "from scipy import sparse\n",
    "from sklearn.model_selection import train_test_split\n",
    "from sklearn.preprocessing import StandardScaler\n",
    "from scipy.sparse.linalg import spsolve\n",
    "\n",
    "pd.set_option('display.max_columns', 100)"
   ]
  },
  {
   "cell_type": "code",
   "execution_count": 2,
   "metadata": {},
   "outputs": [],
   "source": [
    "# from IPython.core.display import display, HTML\n",
    "# display(HTML(\"<style>.container { width:100% !important; }</style>\"))"
   ]
  },
  {
   "cell_type": "markdown",
   "metadata": {},
   "source": [
    "# Read Data"
   ]
  },
  {
   "cell_type": "markdown",
   "metadata": {},
   "source": [
    "## Amazon Fashion"
   ]
  },
  {
   "cell_type": "markdown",
   "metadata": {},
   "source": [
    "### Full CSJ fashion file"
   ]
  },
  {
   "cell_type": "code",
   "execution_count": 3,
   "metadata": {},
   "outputs": [],
   "source": [
    "# df = pd.read_pickle('Data/df_amazon_csj_with_styles')\n",
    "# df.head()"
   ]
  },
  {
   "cell_type": "markdown",
   "metadata": {},
   "source": [
    "### CSJ 0.63m user above 5, r_u_i"
   ]
  },
  {
   "cell_type": "code",
   "execution_count": 4,
   "metadata": {},
   "outputs": [
    {
     "data": {
      "text/html": [
       "<div>\n",
       "<style scoped>\n",
       "    .dataframe tbody tr th:only-of-type {\n",
       "        vertical-align: middle;\n",
       "    }\n",
       "\n",
       "    .dataframe tbody tr th {\n",
       "        vertical-align: top;\n",
       "    }\n",
       "\n",
       "    .dataframe thead th {\n",
       "        text-align: right;\n",
       "    }\n",
       "</style>\n",
       "<table border=\"1\" class=\"dataframe\">\n",
       "  <thead>\n",
       "    <tr style=\"text-align: right;\">\n",
       "      <th></th>\n",
       "      <th>user</th>\n",
       "      <th>item</th>\n",
       "      <th>rating</th>\n",
       "      <th>verified</th>\n",
       "    </tr>\n",
       "  </thead>\n",
       "  <tbody>\n",
       "    <tr>\n",
       "      <th>0</th>\n",
       "      <td>A2OLY7TMIYHOQQ</td>\n",
       "      <td>B00EAKJUUW</td>\n",
       "      <td>5.0</td>\n",
       "      <td>True</td>\n",
       "    </tr>\n",
       "    <tr>\n",
       "      <th>1</th>\n",
       "      <td>A3F6ZP5VM8QUC6</td>\n",
       "      <td>B00D98EGE6</td>\n",
       "      <td>5.0</td>\n",
       "      <td>True</td>\n",
       "    </tr>\n",
       "    <tr>\n",
       "      <th>2</th>\n",
       "      <td>A21PFJA2O7Z5GY</td>\n",
       "      <td>B01DTEXSHA</td>\n",
       "      <td>2.0</td>\n",
       "      <td>True</td>\n",
       "    </tr>\n",
       "    <tr>\n",
       "      <th>3</th>\n",
       "      <td>AV9HIUYXBZODJ</td>\n",
       "      <td>B0045DBUBQ</td>\n",
       "      <td>3.0</td>\n",
       "      <td>True</td>\n",
       "    </tr>\n",
       "    <tr>\n",
       "      <th>4</th>\n",
       "      <td>A73X3PFCRTJVX</td>\n",
       "      <td>B00DEWBMU8</td>\n",
       "      <td>5.0</td>\n",
       "      <td>True</td>\n",
       "    </tr>\n",
       "  </tbody>\n",
       "</table>\n",
       "</div>"
      ],
      "text/plain": [
       "             user        item  rating  verified\n",
       "0  A2OLY7TMIYHOQQ  B00EAKJUUW     5.0      True\n",
       "1  A3F6ZP5VM8QUC6  B00D98EGE6     5.0      True\n",
       "2  A21PFJA2O7Z5GY  B01DTEXSHA     2.0      True\n",
       "3   AV9HIUYXBZODJ  B0045DBUBQ     3.0      True\n",
       "4   A73X3PFCRTJVX  B00DEWBMU8     5.0      True"
      ]
     },
     "execution_count": 4,
     "metadata": {},
     "output_type": "execute_result"
    }
   ],
   "source": [
    "df = pd.read_pickle('Data/df_amazon_csj_with_styles_0.63m_u_above_5_rui')\n",
    "df.head()"
   ]
  },
  {
   "cell_type": "markdown",
   "metadata": {},
   "source": [
    "## MovieLens"
   ]
  },
  {
   "cell_type": "markdown",
   "metadata": {},
   "source": [
    "### 0.7m user above 5 r_u_i"
   ]
  },
  {
   "cell_type": "code",
   "execution_count": 5,
   "metadata": {},
   "outputs": [],
   "source": [
    "# df = pd.read_pickle('Data/ml_0.7_u_above_5')\n",
    "# print('rating interval:', df.rating.unique().min(), ',', df.rating.unique().max())\n",
    "# df.head()"
   ]
  },
  {
   "cell_type": "markdown",
   "metadata": {},
   "source": [
    "# Data Exploration\n",
    "\n",
    "First filtering active users and rated items with x or more ratings:"
   ]
  },
  {
   "cell_type": "code",
   "execution_count": 6,
   "metadata": {},
   "outputs": [],
   "source": [
    "user_ratings = df.groupby('user')['rating'].count()\n",
    "item_ratings = df.groupby('item')['rating'].count()\n",
    "norpu = user_ratings.mean()\n",
    "norpi = item_ratings.mean()\n",
    "total_users = df.user.unique().size\n",
    "total_items = df.item.unique().size\n",
    "sparseness = 1 - len(df) / (len(df['user'].unique()) * len(df['item'].unique()))"
   ]
  },
  {
   "cell_type": "markdown",
   "metadata": {},
   "source": [
    "## Sub Sample"
   ]
  },
  {
   "cell_type": "code",
   "execution_count": 7,
   "metadata": {},
   "outputs": [],
   "source": [
    "# df = df.sample(frac=0.9, random_state=1234)"
   ]
  },
  {
   "cell_type": "code",
   "execution_count": 8,
   "metadata": {},
   "outputs": [],
   "source": [
    "# print('rows ', len(df), '\\n#ratings', len(df[df['rating'] != 0]), '\\n#ratings/user', round(norpu,2), '\\n#ratings/item', round(norpi,2), '\\naverage rating', \"{0:.2f}\".format(np.average(df['rating'])), '\\n#users ', df['user'].unique().size, '\\n#items ', df['item'].unique().size, '\\nsparse ', round(sparseness,5), '%')\n",
    "# df.hist(column='rating', bins=5, grid=False)\n",
    "# plt.title('Rating Distribution')\n",
    "# plt.xlabel('Rating')\n",
    "# plt.xticks(range(1,6))\n",
    "# plt.savefig('Plots/Deliverables/rating_dist_ml')\n",
    "# plt.show()\n",
    "\n",
    "# plt.hist(item_ratings, bins = 1000)\n",
    "# plt.xlim([0,100])\n",
    "# plt.title('#ratings per item distribution (1000 bins)')\n",
    "# plt.xlabel('Items')\n",
    "# plt.ylabel('Count')\n",
    "# plt.savefig('Plots/Deliverables/#ratings_per_item_dist_ml')\n",
    "# plt.show()\n",
    "\n",
    "# plt.hist(user_ratings, bins = 100)\n",
    "# plt.xlim([0,30])\n",
    "# plt.title('#ratings per user distribution (100 bins)')\n",
    "# plt.xlabel('Users')\n",
    "# plt.ylabel('Count')\n",
    "# plt.savefig('Plots/Deliverables/#ratings_per_user_dist_ml')\n",
    "# plt.show()"
   ]
  },
  {
   "cell_type": "markdown",
   "metadata": {},
   "source": [
    "## Verification Analysis\n",
    "Only keep verified ratings"
   ]
  },
  {
   "cell_type": "code",
   "execution_count": 9,
   "metadata": {},
   "outputs": [
    {
     "name": "stdout",
     "output_type": "stream",
     "text": [
      "verified: 0.9118257343754217\n",
      "verified: 1.0\n"
     ]
    }
   ],
   "source": [
    "print('verified:', df['verified'].sum() / len(df))\n",
    "df = df[df['verified']==True]\n",
    "print('verified:', df['verified'].sum() / len(df))"
   ]
  },
  {
   "cell_type": "code",
   "execution_count": 10,
   "metadata": {},
   "outputs": [],
   "source": [
    "df['verified'] = 1"
   ]
  },
  {
   "cell_type": "code",
   "execution_count": 11,
   "metadata": {},
   "outputs": [],
   "source": [
    "# r = df['rating']\n",
    "# df['rating'] = df['verified']"
   ]
  },
  {
   "cell_type": "code",
   "execution_count": 12,
   "metadata": {},
   "outputs": [],
   "source": [
    "df_og = df\n",
    "df = df_og.sample(frac=0.0001, random_state=1234)\n",
    "total_users = df.user.unique().size\n",
    "total_items = df.item.unique().size"
   ]
  },
  {
   "cell_type": "code",
   "execution_count": 13,
   "metadata": {},
   "outputs": [
    {
     "data": {
      "text/html": [
       "<div>\n",
       "<style scoped>\n",
       "    .dataframe tbody tr th:only-of-type {\n",
       "        vertical-align: middle;\n",
       "    }\n",
       "\n",
       "    .dataframe tbody tr th {\n",
       "        vertical-align: top;\n",
       "    }\n",
       "\n",
       "    .dataframe thead th {\n",
       "        text-align: right;\n",
       "    }\n",
       "</style>\n",
       "<table border=\"1\" class=\"dataframe\">\n",
       "  <thead>\n",
       "    <tr style=\"text-align: right;\">\n",
       "      <th></th>\n",
       "      <th>user</th>\n",
       "      <th>item</th>\n",
       "      <th>rating</th>\n",
       "      <th>verified</th>\n",
       "    </tr>\n",
       "  </thead>\n",
       "  <tbody>\n",
       "    <tr>\n",
       "      <th>24161</th>\n",
       "      <td>ABMRK1O13436Y</td>\n",
       "      <td>B00JBJCLG2</td>\n",
       "      <td>5.0</td>\n",
       "      <td>1</td>\n",
       "    </tr>\n",
       "    <tr>\n",
       "      <th>396411</th>\n",
       "      <td>A36IZ3GX3RI33W</td>\n",
       "      <td>B00VWKWWMG</td>\n",
       "      <td>5.0</td>\n",
       "      <td>1</td>\n",
       "    </tr>\n",
       "    <tr>\n",
       "      <th>426457</th>\n",
       "      <td>AZWGNYTKSK9JS</td>\n",
       "      <td>B000KPXYCG</td>\n",
       "      <td>5.0</td>\n",
       "      <td>1</td>\n",
       "    </tr>\n",
       "    <tr>\n",
       "      <th>587848</th>\n",
       "      <td>AQLT5XRHA958G</td>\n",
       "      <td>B000CEM6FG</td>\n",
       "      <td>5.0</td>\n",
       "      <td>1</td>\n",
       "    </tr>\n",
       "    <tr>\n",
       "      <th>198173</th>\n",
       "      <td>A31IV9AHRLVY3O</td>\n",
       "      <td>B0077BX3GI</td>\n",
       "      <td>5.0</td>\n",
       "      <td>1</td>\n",
       "    </tr>\n",
       "  </tbody>\n",
       "</table>\n",
       "</div>"
      ],
      "text/plain": [
       "                  user        item  rating  verified\n",
       "24161    ABMRK1O13436Y  B00JBJCLG2     5.0         1\n",
       "396411  A36IZ3GX3RI33W  B00VWKWWMG     5.0         1\n",
       "426457   AZWGNYTKSK9JS  B000KPXYCG     5.0         1\n",
       "587848   AQLT5XRHA958G  B000CEM6FG     5.0         1\n",
       "198173  A31IV9AHRLVY3O  B0077BX3GI     5.0         1"
      ]
     },
     "execution_count": 13,
     "metadata": {},
     "output_type": "execute_result"
    }
   ],
   "source": [
    "df.head()"
   ]
  },
  {
   "cell_type": "markdown",
   "metadata": {},
   "source": [
    "# Models"
   ]
  },
  {
   "cell_type": "markdown",
   "metadata": {},
   "source": [
    "## Direct Implicit Feedback Implementation\n",
    "Slow and inaccurate "
   ]
  },
  {
   "cell_type": "code",
   "execution_count": 14,
   "metadata": {},
   "outputs": [],
   "source": [
    "# def create_matrix(data, n_users, n_items):\n",
    "#         r = data['new_user_id']\n",
    "#         c = data['new_item_id']\n",
    "#         d = data['rating']\n",
    "#         train_matrix = sparse.coo_matrix((d, (r, c)), shape=(n_users, n_items))\n",
    "    \n",
    "#         return train_matrix.tocsr()"
   ]
  },
  {
   "cell_type": "code",
   "execution_count": 15,
   "metadata": {},
   "outputs": [],
   "source": [
    "# #init\n",
    "# m_train = create_matrix(train_set, total_users, total_items)\n",
    "# m_val = create_matrix(train_set, total_users, total_items)\n",
    "# #\n",
    "# p = np.random.normal(0, .1, (total_users, params['nolf']))  # users\n",
    "# q = np.random.normal(0, .1, (total_items, params['nolf']))  # items"
   ]
  },
  {
   "cell_type": "code",
   "execution_count": 16,
   "metadata": {},
   "outputs": [],
   "source": [
    "# # iterate\n",
    "# s = time.time()\n",
    "# errors = []\n",
    "# for e in range(params['n_epochs']):\n",
    "#     for u in range(total_users):\n",
    "#         for i in range(total_items):\n",
    "#             b_ui = m_train[u,i]\n",
    "#             error = b_ui - np.dot(p[u], q[i])\n",
    "\n",
    "#             #update\n",
    "#             p[u] += params['alpha'] * (error * q[i])# - self.pu_reg * p[u])\n",
    "#             q[i] += params['alpha'] * (error * p[u])# - self.qi_reg * q[i])\n",
    "#             errors.append(np.square(error))\n",
    "        \n",
    "# t = time.time() - s\n",
    "# print(t)"
   ]
  },
  {
   "cell_type": "code",
   "execution_count": 17,
   "metadata": {},
   "outputs": [],
   "source": [
    "# t/60"
   ]
  },
  {
   "cell_type": "markdown",
   "metadata": {},
   "source": [
    "## ALS Implicit Feedback Implementation with Confidence\n",
    "- From Paper: http://citeseerx.ist.psu.edu/viewdoc/download?doi=10.1.1.167.5120&rep=rep1&type=pdf\n",
    "- Code Found: https://github.com/MrChrisJohnson/implicit-mf/blob/master/mf.py"
   ]
  },
  {
   "cell_type": "code",
   "execution_count": 18,
   "metadata": {},
   "outputs": [],
   "source": [
    "params = {\n",
    "\"nolf\":20, #Size of latent feature vectors\n",
    "\"n_epochs\":10,\n",
    "\"alpha\":5, # Impact of confidence\n",
    "          \n",
    "#Regularizers, still tweaking the values\n",
    "\"reg\":0.001,\n",
    "}"
   ]
  },
  {
   "cell_type": "code",
   "execution_count": 37,
   "metadata": {},
   "outputs": [],
   "source": [
    "#init\n",
    "class ALS_impl_fb():\n",
    "    \n",
    "    def __init__(self, total_users, total_items, params):\n",
    "        self.total_users = total_users\n",
    "        self.total_items = total_items\n",
    "        self.nolf = params['nolf']\n",
    "        self.n_epochs = params['n_epochs']\n",
    "        self.alpha = params['alpha']\n",
    "        self.reg = params['reg']\n",
    "        self.model = {}\n",
    "\n",
    "    \n",
    "    def fit(self, train_set, val_set):\n",
    "        #Init\n",
    "        m_train, m_ones_train = self.create_matrices(train_set, self.total_users, self.total_items)\n",
    "        m_val, m_ones_val = self.create_matrices(val_set, self.total_users, self.total_items)\n",
    "        p = np.random.normal(0, .1, (total_users, self.nolf))  # users\n",
    "        q = np.random.normal(0, .1, (total_items, self.nolf))  # items\n",
    "        \n",
    "        p_old = copy.deepcopy(p)\n",
    "        q_old = copy.deepcopy(q)\n",
    "        self_items = {'total_users': self.total_users, 'total_items': self.total_items, \n",
    "                        'alpha': self.alpha, 'reg':self.reg, 'nolf':self.nolf}\n",
    "        \n",
    "        #Solve with ALS\n",
    "        if __name__ == '__main__':\n",
    "            manager = mp.Manager()\n",
    "            res = manager.dict([('p',p),('q',q)])\n",
    "            s = time.time()\n",
    "            for e in range(self.n_epochs):\n",
    "                    user_job = mp.Process(target=calc_vector.calc_vector, args=(True, sparse.csr_matrix(res['q']), m_train, m_ones_train, res, 'p', self_items))\n",
    "                    item_job = mp.Process(target=calc_vector.calc_vector, args=(False, sparse.csr_matrix(res['p']), m_train, m_ones_train, res, 'q', self_items))\n",
    "\n",
    "                    user_job.start()\n",
    "                    print('solving for user vectors')\n",
    "                    item_job.start()\n",
    "                    print('solving for item vectors')                \n",
    "\n",
    "                    user_job.join()\n",
    "                    item_job.join()\n",
    "                    print('p', np.sum(p_old - res['p']))\n",
    "                    print('q', np.sum(q_old - res['q']))\n",
    "                    print(res['test'])\n",
    "#             print('solving for user vectors')\n",
    "#             p = self.calc_vector(True, sparse.csr_matrix(q), m_train, m_ones_train, res, 'p', self_items)\n",
    "#             print('solving for item vectors')\n",
    "#             q = self.calc_vector(False, sparse.csr_matrix(p), m_train, m_ones_train, res, 'q', self_items)\n",
    "\n",
    "        t = time.time() - s\n",
    "        print('Total time:', t)\n",
    "        self.model['p'] = res['p']\n",
    "        self.model['q'] = res['q']\n",
    "        self.model['time'] = t\n",
    "        \n",
    "#         self.evaluate(m_ones_val, val=True)\n",
    "        return self.model\n",
    "\n",
    "    def create_matrices(self, data, n_users, n_items):\n",
    "        r = data['new_user_id']\n",
    "        c = data['new_item_id']\n",
    "        d = data['rating']\n",
    "        m = sparse.csr_matrix((d, (r, c)), shape=(n_users, n_items))\n",
    "        m_ones = m.copy()\n",
    "        m_ones[m_ones > 0] = 1\n",
    "                               \n",
    "        return m, m_ones\n",
    "    \n",
    "    def evaluate(self, data, val):\n",
    "        errors = []\n",
    "        for u in range(data.shape[0]):\n",
    "            sq_total_error_u = 0\n",
    "            for i in range(data.shape[1]):\n",
    "                sq_total_error_u += np.square(data[u,i] - np.dot(self.model['p'].T, self.model['q']))\n",
    "                \n",
    "            errors.append(sq_total_error_u / (data.shape[0]*data.shape[1]))\n",
    "            \n",
    "        rmse = np.sqrt(np.sum(errors))\n",
    "        \n",
    "        return rmse"
   ]
  },
  {
   "cell_type": "markdown",
   "metadata": {},
   "source": [
    "# Data Prep\n",
    "Create new ids for users and items that match the row and column indices of the user-item interaction matrix"
   ]
  },
  {
   "cell_type": "code",
   "execution_count": 38,
   "metadata": {},
   "outputs": [
    {
     "name": "stdout",
     "output_type": "stream",
     "text": [
      "Full data #row:  57\n"
     ]
    }
   ],
   "source": [
    "def transform(df):\n",
    "    items = df['item'].unique()\n",
    "    itemsDF = pd.DataFrame(data=items, columns=['original_item_id'])\n",
    "    itemsDF['new_item_id'] = itemsDF.index\n",
    "\n",
    "    users = df['user'].unique()\n",
    "    usersDF = pd.DataFrame(data=users, columns=['original_user_id'])\n",
    "    usersDF['new_user_id'] = usersDF.index\n",
    "\n",
    "    ratingDF = df.merge(itemsDF, left_on='item', right_on='original_item_id')\n",
    "    ratingDF = ratingDF.drop(columns=['original_item_id'])\n",
    "\n",
    "    ratingDF = ratingDF.merge(usersDF, left_on='user', right_on='original_user_id')\n",
    "    ratingDF = ratingDF.drop(columns=['original_user_id'])\n",
    "\n",
    "    df_new_ids = ratingDF\n",
    "    print('Full data #row: ', df_new_ids.shape[0])\n",
    "    df_new_ids.head()\n",
    "    \n",
    "    return df_new_ids\n",
    "\n",
    "df_new_ids = transform(df)"
   ]
  },
  {
   "cell_type": "markdown",
   "metadata": {},
   "source": [
    "## Train Test split\n",
    "Train 0.8, Train 0.2, Test 0.1, could add validation set"
   ]
  },
  {
   "cell_type": "code",
   "execution_count": 39,
   "metadata": {},
   "outputs": [
    {
     "name": "stdout",
     "output_type": "stream",
     "text": [
      "Size of train set:  45\n",
      "Size of validation set:  6\n",
      "Size of test set:  6\n"
     ]
    }
   ],
   "source": [
    "random_state = 1234\n",
    "train_set, test_set = train_test_split(df_new_ids, test_size=0.20, shuffle=True, random_state=random_state)\n",
    "val_set, test_set = train_test_split(test_set, test_size=0.50, shuffle=True, random_state=random_state)\n",
    "\n",
    "print('Size of train set: ', len(train_set))\n",
    "print('Size of validation set: ', len(val_set))\n",
    "print('Size of test set: ', len(test_set))"
   ]
  },
  {
   "cell_type": "markdown",
   "metadata": {},
   "source": [
    "# Train Model"
   ]
  },
  {
   "cell_type": "code",
   "execution_count": 40,
   "metadata": {},
   "outputs": [
    {
     "name": "stdout",
     "output_type": "stream",
     "text": [
      "solving for user vectors\n",
      "solving for item vectors\n",
      "1 4\n"
     ]
    }
   ],
   "source": [
    "import worker\n",
    "manager = mp.Manager()\n",
    "res = manager.dict([('x1',0), ('x2',0)])\n",
    "if __name__ == '__main__':\n",
    "        user_job = mp.Process(target=worker.worker, args=(1,'x1', res))\n",
    "        item_job = mp.Process(target=worker.worker, args=(2,'x2', res))\n",
    "\n",
    "        user_job.start()\n",
    "        print('solving for user vectors')\n",
    "        item_job.start()\n",
    "        print('solving for item vectors')                \n",
    "\n",
    "        user_job.join()\n",
    "        item_job.join()\n",
    "        print(res['x1'], res['x2'])"
   ]
  },
  {
   "cell_type": "code",
   "execution_count": 41,
   "metadata": {},
   "outputs": [
    {
     "name": "stdout",
     "output_type": "stream",
     "text": [
      "solving for user vectors\n",
      "solving for item vectors\n",
      "p 4.343974563958723\n",
      "q 1.8207970694697098\n",
      "10\n",
      "solving for user vectors\n",
      "solving for item vectors\n",
      "p 2.4113212314136057\n",
      "q -0.5329522997048056\n",
      "10\n",
      "solving for user vectors\n",
      "solving for item vectors\n",
      "p 4.621371619471093\n",
      "q 1.7096724106778138\n",
      "10\n",
      "solving for user vectors\n",
      "solving for item vectors\n",
      "p 2.324573277305411\n",
      "q -0.4747176432695819\n",
      "10\n",
      "solving for user vectors\n",
      "solving for item vectors\n",
      "p 4.669185392501221\n",
      "q 1.5495860229997054\n",
      "10\n",
      "solving for user vectors\n",
      "solving for item vectors\n",
      "p 2.299261266398002\n",
      "q -0.4684401769521378\n",
      "10\n",
      "solving for user vectors\n",
      "solving for item vectors\n",
      "p 4.670849374274292\n",
      "q 1.4976544649467045\n",
      "10\n",
      "solving for user vectors\n",
      "solving for item vectors\n",
      "p 2.294387055225246\n",
      "q -0.46815757799711033\n",
      "10\n",
      "solving for user vectors\n",
      "solving for item vectors\n",
      "p 4.664996340704826\n",
      "q 1.4840854956133\n",
      "10\n",
      "solving for user vectors\n",
      "solving for item vectors\n",
      "p 2.2951937461423983\n",
      "q -0.468502736505068\n",
      "10\n",
      "Total time: 4.025933027267456\n"
     ]
    }
   ],
   "source": [
    "model = ALS_impl_fb(total_users, total_items, params)\n",
    "results = model.fit(train_set, val_set)"
   ]
  },
  {
   "cell_type": "code",
   "execution_count": 42,
   "metadata": {},
   "outputs": [],
   "source": [
    "def evaluate(data, val, model):\n",
    "        errors = []\n",
    "        for u in range(data.shape[0]):\n",
    "            sq_total_error_u = 0\n",
    "            for i in range(data.shape[1]):\n",
    "                sq_total_error_u += np.square(data[u,i] - np.dot(model['p'][u], model['q'][i].T))\n",
    "                \n",
    "            errors.append(sq_total_error_u / (data.shape[0]*data.shape[1]))\n",
    "            \n",
    "        rmse = np.sqrt(np.sum(errors))\n",
    "        \n",
    "        return rmse"
   ]
  },
  {
   "cell_type": "code",
   "execution_count": 43,
   "metadata": {},
   "outputs": [],
   "source": [
    "def create_matrices(data, n_users, n_items):\n",
    "        r = data['new_user_id']\n",
    "        c = data['new_item_id']\n",
    "        d = data['rating']\n",
    "        m = sparse.csr_matrix((d, (r, c)), shape=(n_users, n_items))\n",
    "        m_ones = m.copy()\n",
    "        m_ones[m_ones > 0] = 1\n",
    "                               \n",
    "        return m, m_ones"
   ]
  },
  {
   "cell_type": "code",
   "execution_count": 48,
   "metadata": {},
   "outputs": [
    {
     "data": {
      "text/plain": [
       "0.06611126332603486"
      ]
     },
     "execution_count": 48,
     "metadata": {},
     "output_type": "execute_result"
    }
   ],
   "source": [
    "m_val, m_ones_val = create_matrices(val_set, total_users, total_items)\n",
    "evaluate(m_ones_val, True, results)"
   ]
  },
  {
   "cell_type": "code",
   "execution_count": null,
   "metadata": {},
   "outputs": [],
   "source": []
  }
 ],
 "metadata": {
  "kernelspec": {
   "display_name": "Python 3",
   "language": "python",
   "name": "python3"
  },
  "language_info": {
   "codemirror_mode": {
    "name": "ipython",
    "version": 3
   },
   "file_extension": ".py",
   "mimetype": "text/x-python",
   "name": "python",
   "nbconvert_exporter": "python",
   "pygments_lexer": "ipython3",
   "version": "3.7.6"
  },
  "toc": {
   "base_numbering": 1,
   "nav_menu": {},
   "number_sections": true,
   "sideBar": true,
   "skip_h1_title": false,
   "title_cell": "Table of Contents",
   "title_sidebar": "Contents",
   "toc_cell": false,
   "toc_position": {
    "height": "375.742px",
    "left": "1048.75px",
    "top": "110.57px",
    "width": "239.774px"
   },
   "toc_section_display": true,
   "toc_window_display": true
  }
 },
 "nbformat": 4,
 "nbformat_minor": 2
}
