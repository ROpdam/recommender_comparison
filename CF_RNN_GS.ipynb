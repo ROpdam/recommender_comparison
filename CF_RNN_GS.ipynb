{
 "cells": [
  {
   "cell_type": "code",
   "execution_count": 1,
   "metadata": {},
   "outputs": [
    {
     "name": "stdout",
     "output_type": "stream",
     "text": [
      "WARNING:tensorflow:From <ipython-input-1-f683b9cb7b3a>:8: is_gpu_available (from tensorflow.python.framework.test_util) is deprecated and will be removed in a future version.\n",
      "Instructions for updating:\n",
      "Use `tf.config.list_physical_devices('GPU')` instead.\n",
      "TF version: 2.1.0 \n",
      "GPU available: True\n"
     ]
    }
   ],
   "source": [
    "import pandas as pd\n",
    "import numpy as np\n",
    "import tensorflow as tf\n",
    "import matplotlib.pyplot as plt\n",
    "import os\n",
    "%load_ext autoreload\n",
    "%autoreload 2\n",
    "print('TF version:', tf.__version__ , '\\nGPU available:', tf.test.is_gpu_available())"
   ]
  },
  {
   "cell_type": "markdown",
   "metadata": {},
   "source": [
    "# MovieLens Dataset"
   ]
  },
  {
   "cell_type": "code",
   "execution_count": 2,
   "metadata": {},
   "outputs": [],
   "source": [
    "path = '../'\n",
    "data_path = 'datasets/' # Paperspace\n",
    "file_name = 'am_like_ml_01'"
   ]
  },
  {
   "cell_type": "code",
   "execution_count": 3,
   "metadata": {},
   "outputs": [
    {
     "data": {
      "text/html": [
       "<div>\n",
       "<style scoped>\n",
       "    .dataframe tbody tr th:only-of-type {\n",
       "        vertical-align: middle;\n",
       "    }\n",
       "\n",
       "    .dataframe tbody tr th {\n",
       "        vertical-align: top;\n",
       "    }\n",
       "\n",
       "    .dataframe thead th {\n",
       "        text-align: right;\n",
       "    }\n",
       "</style>\n",
       "<table border=\"1\" class=\"dataframe\">\n",
       "  <thead>\n",
       "    <tr style=\"text-align: right;\">\n",
       "      <th></th>\n",
       "      <th>user_id</th>\n",
       "      <th>user</th>\n",
       "      <th>item</th>\n",
       "      <th>datetime</th>\n",
       "      <th>rating</th>\n",
       "      <th>item_id</th>\n",
       "    </tr>\n",
       "  </thead>\n",
       "  <tbody>\n",
       "    <tr>\n",
       "      <th>0</th>\n",
       "      <td>0</td>\n",
       "      <td>A0039616ADOZ0KMWQRNX</td>\n",
       "      <td>B00QFJG1U8</td>\n",
       "      <td>2016-10-04</td>\n",
       "      <td>5.0</td>\n",
       "      <td>87754</td>\n",
       "    </tr>\n",
       "    <tr>\n",
       "      <th>1</th>\n",
       "      <td>0</td>\n",
       "      <td>A0039616ADOZ0KMWQRNX</td>\n",
       "      <td>B010ACF2PK</td>\n",
       "      <td>2016-10-04</td>\n",
       "      <td>5.0</td>\n",
       "      <td>104761</td>\n",
       "    </tr>\n",
       "    <tr>\n",
       "      <th>2</th>\n",
       "      <td>0</td>\n",
       "      <td>A0039616ADOZ0KMWQRNX</td>\n",
       "      <td>B00BFE0IZ2</td>\n",
       "      <td>2016-10-04</td>\n",
       "      <td>5.0</td>\n",
       "      <td>42989</td>\n",
       "    </tr>\n",
       "    <tr>\n",
       "      <th>3</th>\n",
       "      <td>0</td>\n",
       "      <td>A0039616ADOZ0KMWQRNX</td>\n",
       "      <td>B01CZMQCPC</td>\n",
       "      <td>2016-10-04</td>\n",
       "      <td>5.0</td>\n",
       "      <td>127248</td>\n",
       "    </tr>\n",
       "    <tr>\n",
       "      <th>4</th>\n",
       "      <td>0</td>\n",
       "      <td>A0039616ADOZ0KMWQRNX</td>\n",
       "      <td>B01B5DLG7G</td>\n",
       "      <td>2016-10-26</td>\n",
       "      <td>4.0</td>\n",
       "      <td>123866</td>\n",
       "    </tr>\n",
       "  </tbody>\n",
       "</table>\n",
       "</div>"
      ],
      "text/plain": [
       "   user_id                  user        item   datetime  rating  item_id\n",
       "0        0  A0039616ADOZ0KMWQRNX  B00QFJG1U8 2016-10-04     5.0    87754\n",
       "1        0  A0039616ADOZ0KMWQRNX  B010ACF2PK 2016-10-04     5.0   104761\n",
       "2        0  A0039616ADOZ0KMWQRNX  B00BFE0IZ2 2016-10-04     5.0    42989\n",
       "3        0  A0039616ADOZ0KMWQRNX  B01CZMQCPC 2016-10-04     5.0   127248\n",
       "4        0  A0039616ADOZ0KMWQRNX  B01B5DLG7G 2016-10-26     4.0   123866"
      ]
     },
     "execution_count": 3,
     "metadata": {},
     "output_type": "execute_result"
    }
   ],
   "source": [
    "df = pd.read_pickle(path + data_path + file_name)\n",
    "df['item_id'] = df.item.astype('category').cat.codes\n",
    "df['user_id'] = df.user.astype('category').cat.codes\n",
    "df.head()"
   ]
  },
  {
   "cell_type": "markdown",
   "metadata": {},
   "source": [
    "# Init Params"
   ]
  },
  {
   "cell_type": "code",
   "execution_count": 4,
   "metadata": {},
   "outputs": [],
   "source": [
    "res_ext = file_name[:2]\n",
    "total_items = len(df.item_id.unique())\n",
    "first_model_id = str(0) + '_' + res_ext"
   ]
  },
  {
   "cell_type": "code",
   "execution_count": 5,
   "metadata": {},
   "outputs": [],
   "source": [
    "all_models = pd.read_pickle(path + 'results/' + res_ext + '/all_models_2')\n",
    "# new_model_id = str(int(all_models.model_id.max()[0]) + 1) + '_' + res_ext"
   ]
  },
  {
   "cell_type": "code",
   "execution_count": 6,
   "metadata": {},
   "outputs": [
    {
     "data": {
      "text/html": [
       "<div>\n",
       "<style scoped>\n",
       "    .dataframe tbody tr th:only-of-type {\n",
       "        vertical-align: middle;\n",
       "    }\n",
       "\n",
       "    .dataframe tbody tr th {\n",
       "        vertical-align: top;\n",
       "    }\n",
       "\n",
       "    .dataframe thead th {\n",
       "        text-align: right;\n",
       "    }\n",
       "</style>\n",
       "<table border=\"1\" class=\"dataframe\">\n",
       "  <thead>\n",
       "    <tr style=\"text-align: right;\">\n",
       "      <th></th>\n",
       "      <th>model_id</th>\n",
       "      <th>train_time</th>\n",
       "      <th>epochs</th>\n",
       "      <th>BATCH_SIZE</th>\n",
       "      <th>learning_rate</th>\n",
       "      <th>delta</th>\n",
       "      <th>max_seq_len</th>\n",
       "      <th>embedding_dim</th>\n",
       "      <th>rnn_units</th>\n",
       "      <th>val_perc</th>\n",
       "      <th>test_perc</th>\n",
       "      <th>n_items_val</th>\n",
       "      <th>n_items_test</th>\n",
       "      <th>pad_value</th>\n",
       "      <th>shift_targets_by</th>\n",
       "      <th>loss</th>\n",
       "      <th>recall</th>\n",
       "      <th>val_loss</th>\n",
       "      <th>val_recall</th>\n",
       "      <th>test_recall</th>\n",
       "    </tr>\n",
       "  </thead>\n",
       "  <tbody>\n",
       "    <tr>\n",
       "      <th>0</th>\n",
       "      <td>0_am</td>\n",
       "      <td>381.841</td>\n",
       "      <td>5</td>\n",
       "      <td>16</td>\n",
       "      <td>0.10</td>\n",
       "      <td>0.2</td>\n",
       "      <td>18</td>\n",
       "      <td>100</td>\n",
       "      <td>20</td>\n",
       "      <td>0.1</td>\n",
       "      <td>0.1</td>\n",
       "      <td>0</td>\n",
       "      <td>1</td>\n",
       "      <td>135784</td>\n",
       "      <td>1</td>\n",
       "      <td>[2.554899125704037, 2.531272994767269, 2.42756...</td>\n",
       "      <td>[3.0679382e-06, 0.00013887067, 0.0003541822, 0...</td>\n",
       "      <td>[4.938515297257074, 4.899379484724291, 4.72148...</td>\n",
       "      <td>[7.364693e-05, 0.0002172925, 0.00063066464, 0....</td>\n",
       "      <td>0.009231</td>\n",
       "    </tr>\n",
       "    <tr>\n",
       "      <th>1</th>\n",
       "      <td>1_am</td>\n",
       "      <td>380.193</td>\n",
       "      <td>5</td>\n",
       "      <td>16</td>\n",
       "      <td>0.20</td>\n",
       "      <td>0.2</td>\n",
       "      <td>18</td>\n",
       "      <td>100</td>\n",
       "      <td>20</td>\n",
       "      <td>0.1</td>\n",
       "      <td>0.1</td>\n",
       "      <td>0</td>\n",
       "      <td>1</td>\n",
       "      <td>135784</td>\n",
       "      <td>1</td>\n",
       "      <td>[2.543539660317557, 2.3818412894392247, 2.2508...</td>\n",
       "      <td>[7.198009e-05, 0.0005920039, 0.0021189037, 0.0...</td>\n",
       "      <td>[4.905496847511518, 4.684745960896558, 4.64929...</td>\n",
       "      <td>[0.00020389272, 0.001283496, 0.0029719444, 0.0...</td>\n",
       "      <td>0.006154</td>\n",
       "    </tr>\n",
       "    <tr>\n",
       "      <th>2</th>\n",
       "      <td>2_am</td>\n",
       "      <td>384.891</td>\n",
       "      <td>5</td>\n",
       "      <td>16</td>\n",
       "      <td>0.05</td>\n",
       "      <td>0.2</td>\n",
       "      <td>18</td>\n",
       "      <td>100</td>\n",
       "      <td>20</td>\n",
       "      <td>0.1</td>\n",
       "      <td>0.1</td>\n",
       "      <td>0</td>\n",
       "      <td>1</td>\n",
       "      <td>135784</td>\n",
       "      <td>1</td>\n",
       "      <td>[2.559877950863298, 2.5500924277481776, 2.5402...</td>\n",
       "      <td>[0.0, 3.207008e-06, 9.430675e-05, 0.0001619212...</td>\n",
       "      <td>[4.94934888169317, 4.938912814206416, 4.927669...</td>\n",
       "      <td>[0.0, 5.800284e-05, 0.00010820535, 0.000194552...</td>\n",
       "      <td>0.012308</td>\n",
       "    </tr>\n",
       "  </tbody>\n",
       "</table>\n",
       "</div>"
      ],
      "text/plain": [
       "  model_id  train_time epochs BATCH_SIZE  learning_rate  delta max_seq_len  \\\n",
       "0     0_am     381.841      5         16           0.10    0.2          18   \n",
       "1     1_am     380.193      5         16           0.20    0.2          18   \n",
       "2     2_am     384.891      5         16           0.05    0.2          18   \n",
       "\n",
       "  embedding_dim rnn_units  val_perc  test_perc n_items_val n_items_test  \\\n",
       "0           100        20       0.1        0.1           0            1   \n",
       "1           100        20       0.1        0.1           0            1   \n",
       "2           100        20       0.1        0.1           0            1   \n",
       "\n",
       "  pad_value shift_targets_by  \\\n",
       "0    135784                1   \n",
       "1    135784                1   \n",
       "2    135784                1   \n",
       "\n",
       "                                                loss  \\\n",
       "0  [2.554899125704037, 2.531272994767269, 2.42756...   \n",
       "1  [2.543539660317557, 2.3818412894392247, 2.2508...   \n",
       "2  [2.559877950863298, 2.5500924277481776, 2.5402...   \n",
       "\n",
       "                                              recall  \\\n",
       "0  [3.0679382e-06, 0.00013887067, 0.0003541822, 0...   \n",
       "1  [7.198009e-05, 0.0005920039, 0.0021189037, 0.0...   \n",
       "2  [0.0, 3.207008e-06, 9.430675e-05, 0.0001619212...   \n",
       "\n",
       "                                            val_loss  \\\n",
       "0  [4.938515297257074, 4.899379484724291, 4.72148...   \n",
       "1  [4.905496847511518, 4.684745960896558, 4.64929...   \n",
       "2  [4.94934888169317, 4.938912814206416, 4.927669...   \n",
       "\n",
       "                                          val_recall  test_recall  \n",
       "0  [7.364693e-05, 0.0002172925, 0.00063066464, 0....     0.009231  \n",
       "1  [0.00020389272, 0.001283496, 0.0029719444, 0.0...     0.006154  \n",
       "2  [0.0, 5.800284e-05, 0.00010820535, 0.000194552...     0.012308  "
      ]
     },
     "execution_count": 6,
     "metadata": {},
     "output_type": "execute_result"
    }
   ],
   "source": [
    "all_models"
   ]
  },
  {
   "cell_type": "code",
   "execution_count": 7,
   "metadata": {},
   "outputs": [
    {
     "data": {
      "image/png": "[encoded data removed]",
      "text/plain": [
       "<Figure size 432x288 with 1 Axes>"
      ]
     },
     "metadata": {
      "needs_background": "light"
     },
     "output_type": "display_data"
    }
   ],
   "source": [
    "for value in all_models['val_recall'][:3]:\n",
    "    plt.plot(value)\n",
    "    plt.legend(all_models['model_id'])\n",
    "plt.show()"
   ]
  },
  {
   "cell_type": "code",
   "execution_count": 8,
   "metadata": {},
   "outputs": [],
   "source": [
    "params = {\n",
    "'model_id':first_model_id,\n",
    "'train_time':0,\n",
    "'epochs':0,\n",
    "\n",
    "# Grid Search params\n",
    "'BATCH_SIZE':32,\n",
    "'learning_rate':0.1,\n",
    "'delta':0.2,             # Diversity Bias\n",
    "'max_seq_len':30,        # Max length of sequence71=median\n",
    "'embedding_dim':100,\n",
    "'rnn_units':20,\n",
    "    \n",
    "'val_perc':0.1,          # Percentage of users from df in val and test set\n",
    "'test_perc':0.1, \n",
    "'n_items_val':0,        # Number of last (chronologically) items in val and test set\n",
    "'n_items_test':1,\n",
    "\n",
    "'pad_value':total_items, # Pad with total_items+1 => masked => still use item 0\n",
    "'shift_targets_by':1  \n",
    "}"
   ]
  },
  {
   "cell_type": "code",
   "execution_count": 9,
   "metadata": {},
   "outputs": [],
   "source": [
    "BATCH_SIZE = params['BATCH_SIZE']\n",
    "learning_rate = params['learning_rate']\n",
    "delta = params['delta']\n",
    "max_seq_len = params['max_seq_len']\n",
    "\n",
    "val_perc = params['val_perc']\n",
    "test_perc = params['test_perc']\n",
    "n_items_val = params['n_items_val']\n",
    "n_items_test = params['n_items_test']\n",
    "\n",
    "pad_value = params['pad_value']\n",
    "shift_targets_by = params['shift_targets_by'] \n",
    "\n",
    "embedding_dim = params['embedding_dim']\n",
    "rnn_units = params['rnn_units']"
   ]
  },
  {
   "cell_type": "markdown",
   "metadata": {},
   "source": [
    "# Imports"
   ]
  },
  {
   "cell_type": "code",
   "execution_count": 12,
   "metadata": {},
   "outputs": [],
   "source": [
    "from Data_prep import train_val_test_split, create_seq_batch_dataset\n",
    "from Models import build_LSTM_model, store_LSTM_model\n",
    "from Evaluation import recall_metric, diversity_bias_loss, create_diversity_bias, get_predictions, get_metrics\n",
    "from Helpers import TimingCallback\n",
    "import time"
   ]
  },
  {
   "cell_type": "markdown",
   "metadata": {},
   "source": [
    "# Init Datasets"
   ]
  },
  {
   "cell_type": "code",
   "execution_count": 13,
   "metadata": {},
   "outputs": [],
   "source": [
    "# Train Test Val Split\n",
    "data_split = train_val_test_split(df, val_perc, test_perc, n_items_val, n_items_test, seqs=True)\n",
    "train_set, val_set, val_left_out_items, test_set, test_left_out_items = data_split "
   ]
  },
  {
   "cell_type": "markdown",
   "metadata": {
    "colab_type": "text",
    "id": "FetP-6nDc-Vd"
   },
   "source": [
    "# Configure Checkpoint directory"
   ]
  },
  {
   "cell_type": "code",
   "execution_count": 17,
   "metadata": {},
   "outputs": [
    {
     "name": "stdout",
     "output_type": "stream",
     "text": [
      "BPR.ipynb\t CF_RNN_old.ipynb  Helpers.py\tbenchmarks.ipynb\r\n",
      "BPR_TF.ipynb\t Data_prep.py\t   Models.py\tcore\r\n",
      "CF_RNN.ipynb\t Evaluation.py\t   README.md\tdata_used.ipynb\r\n",
      "CF_RNN_GS.ipynb  Full_model.ipynb  __pycache__\tvisualize_results.ipynb\r\n"
     ]
    }
   ],
   "source": []
  },
  {
   "cell_type": "code",
   "execution_count": 14,
   "metadata": {},
   "outputs": [],
   "source": [
    "ext = '_' + file_name[:2] #ML or Am\n",
    "# directory = './ckpts/ckpts' \n",
    "directory = '../ckpts/ckpts'"
   ]
  },
  {
   "cell_type": "markdown",
   "metadata": {},
   "source": [
    "---\n",
    "# Grid Search"
   ]
  },
  {
   "cell_type": "code",
   "execution_count": 15,
   "metadata": {},
   "outputs": [
    {
     "name": "stdout",
     "output_type": "stream",
     "text": [
      "Total runs: 32\n"
     ]
    }
   ],
   "source": [
    "learning_rates = [0.1, 0.2]\n",
    "epochs = [1]\n",
    "deltas = [0.2, 0.5]\n",
    "batch_sizes = [16, 32]\n",
    "max_seq_lens = [18, 30] #Median=18\n",
    "rnn_units = [20, 50]\n",
    "\n",
    "rank_at = 20\n",
    "test_batch_size = 1024\n",
    "\n",
    "total_runs = len(learning_rates) * len(epochs) * len(deltas) * len(batch_sizes) * len(max_seq_lens) * len(rnn_units)\n",
    "runs = 0\n",
    "print(f'Total runs: {total_runs}')"
   ]
  },
  {
   "cell_type": "code",
   "execution_count": 16,
   "metadata": {},
   "outputs": [
    {
     "name": "stdout",
     "output_type": "stream",
     "text": [
      "================================================== \n",
      "Run: 1/32\n",
      "Number of epochs:\t 150\n",
      "Number of (h) units:\t 20\n",
      "Batch size:\t\t 16\n",
      "Max seq len:\t\t 18\n",
      "Learning rate:\t\t 0.1\n",
      "Train for 812 steps, validate for 101 steps\n",
      "Epoch 1/150\n",
      "812/812 [==============================] - 36s 44ms/step - loss: 2.5549 - recall: 3.5005e-06 - val_loss: 4.9384 - val_recall: 7.9604e-05\n",
      "Epoch 2/150\n",
      "812/812 [==============================] - 28s 35ms/step - loss: 2.5278 - recall: 1.4902e-04 - val_loss: 4.8876 - val_recall: 2.2340e-04\n",
      "Epoch 3/150\n",
      "812/812 [==============================] - 29s 35ms/step - loss: 2.4053 - recall: 4.1582e-04 - val_loss: 4.7131 - val_recall: 7.7271e-04\n",
      "Epoch 4/150\n",
      "812/812 [==============================] - 29s 35ms/step - loss: 2.2867 - recall: 0.0011 - val_loss: 4.6787 - val_recall: 0.0015\n",
      "Epoch 5/150\n",
      "812/812 [==============================] - 28s 35ms/step - loss: 2.2543 - recall: 0.0019 - val_loss: 4.6596 - val_recall: 0.0024\n",
      "Epoch 6/150\n",
      "812/812 [==============================] - 29s 35ms/step - loss: 2.2334 - recall: 0.0028 - val_loss: 4.6467 - val_recall: 0.0032\n",
      "Epoch 7/150\n",
      "812/812 [==============================] - 28s 35ms/step - loss: 2.2180 - recall: 0.0038 - val_loss: 4.6384 - val_recall: 0.0044\n",
      "Epoch 8/150\n",
      "812/812 [==============================] - 28s 35ms/step - loss: 2.2060 - recall: 0.0052 - val_loss: 4.6319 - val_recall: 0.0061\n",
      "Epoch 9/150\n",
      "812/812 [==============================] - 28s 35ms/step - loss: 2.1960 - recall: 0.0068 - val_loss: 4.6268 - val_recall: 0.0075\n",
      "Epoch 10/150\n",
      "812/812 [==============================] - 29s 35ms/step - loss: 2.1874 - recall: 0.0082 - val_loss: 4.6231 - val_recall: 0.0088\n",
      "Epoch 11/150\n",
      "812/812 [==============================] - 28s 35ms/step - loss: 2.1802 - recall: 0.0093 - val_loss: 4.6204 - val_recall: 0.0098\n",
      "Epoch 12/150\n",
      "812/812 [==============================] - 29s 35ms/step - loss: 2.1739 - recall: 0.0105 - val_loss: 4.6185 - val_recall: 0.0111\n",
      "Epoch 13/150\n",
      "812/812 [==============================] - 28s 35ms/step - loss: 2.1683 - recall: 0.0118 - val_loss: 4.6169 - val_recall: 0.0125\n",
      "Epoch 14/150\n",
      "547/812 [===================>..........] - ETA: 8s - loss: 2.1576 - recall: 0.0130WARNING:tensorflow:Can save best model only with val_recall available, skipping.\n",
      "WARNING:tensorflow:Early stopping conditioned on metric `val_recall` which is not available. Available metrics are: loss,recall\n"
     ]
    },
    {
     "ename": "KeyboardInterrupt",
     "evalue": "",
     "output_type": "error",
     "traceback": [
      "\u001b[0;31m---------------------------------------------------------------------------\u001b[0m",
      "\u001b[0;31mKeyboardInterrupt\u001b[0m                         Traceback (most recent call last)",
      "\u001b[0;32m<ipython-input-16-5cae268b303c>\u001b[0m in \u001b[0;36m<module>\u001b[0;34m\u001b[0m\n\u001b[1;32m     61\u001b[0m                                             \u001b[0mepochs\u001b[0m\u001b[0;34m=\u001b[0m\u001b[0mepoch\u001b[0m\u001b[0;34m,\u001b[0m\u001b[0;34m\u001b[0m\u001b[0;34m\u001b[0m\u001b[0m\n\u001b[1;32m     62\u001b[0m                                             \u001b[0mcallbacks\u001b[0m\u001b[0;34m=\u001b[0m\u001b[0mcallbacks\u001b[0m\u001b[0;34m,\u001b[0m\u001b[0;34m\u001b[0m\u001b[0;34m\u001b[0m\u001b[0m\n\u001b[0;32m---> 63\u001b[0;31m                                             verbose=1)\n\u001b[0m\u001b[1;32m     64\u001b[0m \u001b[0;34m\u001b[0m\u001b[0m\n\u001b[1;32m     65\u001b[0m \u001b[0;34m\u001b[0m\u001b[0m\n",
      "\u001b[0;32m/usr/local/lib/python3.6/dist-packages/tensorflow_core/python/keras/engine/training.py\u001b[0m in \u001b[0;36mfit\u001b[0;34m(self, x, y, batch_size, epochs, verbose, callbacks, validation_split, validation_data, shuffle, class_weight, sample_weight, initial_epoch, steps_per_epoch, validation_steps, validation_freq, max_queue_size, workers, use_multiprocessing, **kwargs)\u001b[0m\n\u001b[1;32m    817\u001b[0m         \u001b[0mmax_queue_size\u001b[0m\u001b[0;34m=\u001b[0m\u001b[0mmax_queue_size\u001b[0m\u001b[0;34m,\u001b[0m\u001b[0;34m\u001b[0m\u001b[0;34m\u001b[0m\u001b[0m\n\u001b[1;32m    818\u001b[0m         \u001b[0mworkers\u001b[0m\u001b[0;34m=\u001b[0m\u001b[0mworkers\u001b[0m\u001b[0;34m,\u001b[0m\u001b[0;34m\u001b[0m\u001b[0;34m\u001b[0m\u001b[0m\n\u001b[0;32m--> 819\u001b[0;31m         use_multiprocessing=use_multiprocessing)\n\u001b[0m\u001b[1;32m    820\u001b[0m \u001b[0;34m\u001b[0m\u001b[0m\n\u001b[1;32m    821\u001b[0m   def evaluate(self,\n",
      "\u001b[0;32m/usr/local/lib/python3.6/dist-packages/tensorflow_core/python/keras/engine/training_v2.py\u001b[0m in \u001b[0;36mfit\u001b[0;34m(self, model, x, y, batch_size, epochs, verbose, callbacks, validation_split, validation_data, shuffle, class_weight, sample_weight, initial_epoch, steps_per_epoch, validation_steps, validation_freq, max_queue_size, workers, use_multiprocessing, **kwargs)\u001b[0m\n\u001b[1;32m    340\u001b[0m                 \u001b[0mmode\u001b[0m\u001b[0;34m=\u001b[0m\u001b[0mModeKeys\u001b[0m\u001b[0;34m.\u001b[0m\u001b[0mTRAIN\u001b[0m\u001b[0;34m,\u001b[0m\u001b[0;34m\u001b[0m\u001b[0;34m\u001b[0m\u001b[0m\n\u001b[1;32m    341\u001b[0m                 \u001b[0mtraining_context\u001b[0m\u001b[0;34m=\u001b[0m\u001b[0mtraining_context\u001b[0m\u001b[0;34m,\u001b[0m\u001b[0;34m\u001b[0m\u001b[0;34m\u001b[0m\u001b[0m\n\u001b[0;32m--> 342\u001b[0;31m                 total_epochs=epochs)\n\u001b[0m\u001b[1;32m    343\u001b[0m             \u001b[0mcbks\u001b[0m\u001b[0;34m.\u001b[0m\u001b[0mmake_logs\u001b[0m\u001b[0;34m(\u001b[0m\u001b[0mmodel\u001b[0m\u001b[0;34m,\u001b[0m \u001b[0mepoch_logs\u001b[0m\u001b[0;34m,\u001b[0m \u001b[0mtraining_result\u001b[0m\u001b[0;34m,\u001b[0m \u001b[0mModeKeys\u001b[0m\u001b[0;34m.\u001b[0m\u001b[0mTRAIN\u001b[0m\u001b[0;34m)\u001b[0m\u001b[0;34m\u001b[0m\u001b[0;34m\u001b[0m\u001b[0m\n\u001b[1;32m    344\u001b[0m \u001b[0;34m\u001b[0m\u001b[0m\n",
      "\u001b[0;32m/usr/local/lib/python3.6/dist-packages/tensorflow_core/python/keras/engine/training_v2.py\u001b[0m in \u001b[0;36mrun_one_epoch\u001b[0;34m(model, iterator, execution_function, dataset_size, batch_size, strategy, steps_per_epoch, num_samples, mode, training_context, total_epochs)\u001b[0m\n\u001b[1;32m    126\u001b[0m         step=step, mode=mode, size=current_batch_size) as batch_logs:\n\u001b[1;32m    127\u001b[0m       \u001b[0;32mtry\u001b[0m\u001b[0;34m:\u001b[0m\u001b[0;34m\u001b[0m\u001b[0;34m\u001b[0m\u001b[0m\n\u001b[0;32m--> 128\u001b[0;31m         \u001b[0mbatch_outs\u001b[0m \u001b[0;34m=\u001b[0m \u001b[0mexecution_function\u001b[0m\u001b[0;34m(\u001b[0m\u001b[0miterator\u001b[0m\u001b[0;34m)\u001b[0m\u001b[0;34m\u001b[0m\u001b[0;34m\u001b[0m\u001b[0m\n\u001b[0m\u001b[1;32m    129\u001b[0m       \u001b[0;32mexcept\u001b[0m \u001b[0;34m(\u001b[0m\u001b[0mStopIteration\u001b[0m\u001b[0;34m,\u001b[0m \u001b[0merrors\u001b[0m\u001b[0;34m.\u001b[0m\u001b[0mOutOfRangeError\u001b[0m\u001b[0;34m)\u001b[0m\u001b[0;34m:\u001b[0m\u001b[0;34m\u001b[0m\u001b[0;34m\u001b[0m\u001b[0m\n\u001b[1;32m    130\u001b[0m         \u001b[0;31m# TODO(kaftan): File bug about tf function and errors.OutOfRangeError?\u001b[0m\u001b[0;34m\u001b[0m\u001b[0;34m\u001b[0m\u001b[0;34m\u001b[0m\u001b[0m\n",
      "\u001b[0;32m/usr/local/lib/python3.6/dist-packages/tensorflow_core/python/keras/engine/training_v2_utils.py\u001b[0m in \u001b[0;36mexecution_function\u001b[0;34m(input_fn)\u001b[0m\n\u001b[1;32m     96\u001b[0m     \u001b[0;31m# `numpy` translates Tensors to values in Eager mode.\u001b[0m\u001b[0;34m\u001b[0m\u001b[0;34m\u001b[0m\u001b[0;34m\u001b[0m\u001b[0m\n\u001b[1;32m     97\u001b[0m     return nest.map_structure(_non_none_constant_value,\n\u001b[0;32m---> 98\u001b[0;31m                               distributed_function(input_fn))\n\u001b[0m\u001b[1;32m     99\u001b[0m \u001b[0;34m\u001b[0m\u001b[0m\n\u001b[1;32m    100\u001b[0m   \u001b[0;32mreturn\u001b[0m \u001b[0mexecution_function\u001b[0m\u001b[0;34m\u001b[0m\u001b[0;34m\u001b[0m\u001b[0m\n",
      "\u001b[0;32m/usr/local/lib/python3.6/dist-packages/tensorflow_core/python/eager/def_function.py\u001b[0m in \u001b[0;36m__call__\u001b[0;34m(self, *args, **kwds)\u001b[0m\n\u001b[1;32m    566\u001b[0m         \u001b[0mxla_context\u001b[0m\u001b[0;34m.\u001b[0m\u001b[0mExit\u001b[0m\u001b[0;34m(\u001b[0m\u001b[0;34m)\u001b[0m\u001b[0;34m\u001b[0m\u001b[0;34m\u001b[0m\u001b[0m\n\u001b[1;32m    567\u001b[0m     \u001b[0;32melse\u001b[0m\u001b[0;34m:\u001b[0m\u001b[0;34m\u001b[0m\u001b[0;34m\u001b[0m\u001b[0m\n\u001b[0;32m--> 568\u001b[0;31m       \u001b[0mresult\u001b[0m \u001b[0;34m=\u001b[0m \u001b[0mself\u001b[0m\u001b[0;34m.\u001b[0m\u001b[0m_call\u001b[0m\u001b[0;34m(\u001b[0m\u001b[0;34m*\u001b[0m\u001b[0margs\u001b[0m\u001b[0;34m,\u001b[0m \u001b[0;34m**\u001b[0m\u001b[0mkwds\u001b[0m\u001b[0;34m)\u001b[0m\u001b[0;34m\u001b[0m\u001b[0;34m\u001b[0m\u001b[0m\n\u001b[0m\u001b[1;32m    569\u001b[0m \u001b[0;34m\u001b[0m\u001b[0m\n\u001b[1;32m    570\u001b[0m     \u001b[0;32mif\u001b[0m \u001b[0mtracing_count\u001b[0m \u001b[0;34m==\u001b[0m \u001b[0mself\u001b[0m\u001b[0;34m.\u001b[0m\u001b[0m_get_tracing_count\u001b[0m\u001b[0;34m(\u001b[0m\u001b[0;34m)\u001b[0m\u001b[0;34m:\u001b[0m\u001b[0;34m\u001b[0m\u001b[0;34m\u001b[0m\u001b[0m\n",
      "\u001b[0;32m/usr/local/lib/python3.6/dist-packages/tensorflow_core/python/eager/def_function.py\u001b[0m in \u001b[0;36m_call\u001b[0;34m(self, *args, **kwds)\u001b[0m\n\u001b[1;32m    597\u001b[0m       \u001b[0;31m# In this case we have created variables on the first call, so we run the\u001b[0m\u001b[0;34m\u001b[0m\u001b[0;34m\u001b[0m\u001b[0;34m\u001b[0m\u001b[0m\n\u001b[1;32m    598\u001b[0m       \u001b[0;31m# defunned version which is guaranteed to never create variables.\u001b[0m\u001b[0;34m\u001b[0m\u001b[0;34m\u001b[0m\u001b[0;34m\u001b[0m\u001b[0m\n\u001b[0;32m--> 599\u001b[0;31m       \u001b[0;32mreturn\u001b[0m \u001b[0mself\u001b[0m\u001b[0;34m.\u001b[0m\u001b[0m_stateless_fn\u001b[0m\u001b[0;34m(\u001b[0m\u001b[0;34m*\u001b[0m\u001b[0margs\u001b[0m\u001b[0;34m,\u001b[0m \u001b[0;34m**\u001b[0m\u001b[0mkwds\u001b[0m\u001b[0;34m)\u001b[0m  \u001b[0;31m# pylint: disable=not-callable\u001b[0m\u001b[0;34m\u001b[0m\u001b[0;34m\u001b[0m\u001b[0m\n\u001b[0m\u001b[1;32m    600\u001b[0m     \u001b[0;32melif\u001b[0m \u001b[0mself\u001b[0m\u001b[0;34m.\u001b[0m\u001b[0m_stateful_fn\u001b[0m \u001b[0;32mis\u001b[0m \u001b[0;32mnot\u001b[0m \u001b[0;32mNone\u001b[0m\u001b[0;34m:\u001b[0m\u001b[0;34m\u001b[0m\u001b[0;34m\u001b[0m\u001b[0m\n\u001b[1;32m    601\u001b[0m       \u001b[0;31m# Release the lock early so that multiple threads can perform the call\u001b[0m\u001b[0;34m\u001b[0m\u001b[0;34m\u001b[0m\u001b[0;34m\u001b[0m\u001b[0m\n",
      "\u001b[0;32m/usr/local/lib/python3.6/dist-packages/tensorflow_core/python/eager/function.py\u001b[0m in \u001b[0;36m__call__\u001b[0;34m(self, *args, **kwargs)\u001b[0m\n\u001b[1;32m   2361\u001b[0m     \u001b[0;32mwith\u001b[0m \u001b[0mself\u001b[0m\u001b[0;34m.\u001b[0m\u001b[0m_lock\u001b[0m\u001b[0;34m:\u001b[0m\u001b[0;34m\u001b[0m\u001b[0;34m\u001b[0m\u001b[0m\n\u001b[1;32m   2362\u001b[0m       \u001b[0mgraph_function\u001b[0m\u001b[0;34m,\u001b[0m \u001b[0margs\u001b[0m\u001b[0;34m,\u001b[0m \u001b[0mkwargs\u001b[0m \u001b[0;34m=\u001b[0m \u001b[0mself\u001b[0m\u001b[0;34m.\u001b[0m\u001b[0m_maybe_define_function\u001b[0m\u001b[0;34m(\u001b[0m\u001b[0margs\u001b[0m\u001b[0;34m,\u001b[0m \u001b[0mkwargs\u001b[0m\u001b[0;34m)\u001b[0m\u001b[0;34m\u001b[0m\u001b[0;34m\u001b[0m\u001b[0m\n\u001b[0;32m-> 2363\u001b[0;31m     \u001b[0;32mreturn\u001b[0m \u001b[0mgraph_function\u001b[0m\u001b[0;34m.\u001b[0m\u001b[0m_filtered_call\u001b[0m\u001b[0;34m(\u001b[0m\u001b[0margs\u001b[0m\u001b[0;34m,\u001b[0m \u001b[0mkwargs\u001b[0m\u001b[0;34m)\u001b[0m  \u001b[0;31m# pylint: disable=protected-access\u001b[0m\u001b[0;34m\u001b[0m\u001b[0;34m\u001b[0m\u001b[0m\n\u001b[0m\u001b[1;32m   2364\u001b[0m \u001b[0;34m\u001b[0m\u001b[0m\n\u001b[1;32m   2365\u001b[0m   \u001b[0;34m@\u001b[0m\u001b[0mproperty\u001b[0m\u001b[0;34m\u001b[0m\u001b[0;34m\u001b[0m\u001b[0m\n",
      "\u001b[0;32m/usr/local/lib/python3.6/dist-packages/tensorflow_core/python/eager/function.py\u001b[0m in \u001b[0;36m_filtered_call\u001b[0;34m(self, args, kwargs)\u001b[0m\n\u001b[1;32m   1609\u001b[0m          if isinstance(t, (ops.Tensor,\n\u001b[1;32m   1610\u001b[0m                            resource_variable_ops.BaseResourceVariable))),\n\u001b[0;32m-> 1611\u001b[0;31m         self.captured_inputs)\n\u001b[0m\u001b[1;32m   1612\u001b[0m \u001b[0;34m\u001b[0m\u001b[0m\n\u001b[1;32m   1613\u001b[0m   \u001b[0;32mdef\u001b[0m \u001b[0m_call_flat\u001b[0m\u001b[0;34m(\u001b[0m\u001b[0mself\u001b[0m\u001b[0;34m,\u001b[0m \u001b[0margs\u001b[0m\u001b[0;34m,\u001b[0m \u001b[0mcaptured_inputs\u001b[0m\u001b[0;34m,\u001b[0m \u001b[0mcancellation_manager\u001b[0m\u001b[0;34m=\u001b[0m\u001b[0;32mNone\u001b[0m\u001b[0;34m)\u001b[0m\u001b[0;34m:\u001b[0m\u001b[0;34m\u001b[0m\u001b[0;34m\u001b[0m\u001b[0m\n",
      "\u001b[0;32m/usr/local/lib/python3.6/dist-packages/tensorflow_core/python/eager/function.py\u001b[0m in \u001b[0;36m_call_flat\u001b[0;34m(self, args, captured_inputs, cancellation_manager)\u001b[0m\n\u001b[1;32m   1690\u001b[0m       \u001b[0;31m# No tape is watching; skip to running the function.\u001b[0m\u001b[0;34m\u001b[0m\u001b[0;34m\u001b[0m\u001b[0;34m\u001b[0m\u001b[0m\n\u001b[1;32m   1691\u001b[0m       return self._build_call_outputs(self._inference_function.call(\n\u001b[0;32m-> 1692\u001b[0;31m           ctx, args, cancellation_manager=cancellation_manager))\n\u001b[0m\u001b[1;32m   1693\u001b[0m     forward_backward = self._select_forward_and_backward_functions(\n\u001b[1;32m   1694\u001b[0m         \u001b[0margs\u001b[0m\u001b[0;34m,\u001b[0m\u001b[0;34m\u001b[0m\u001b[0;34m\u001b[0m\u001b[0m\n",
      "\u001b[0;32m/usr/local/lib/python3.6/dist-packages/tensorflow_core/python/eager/function.py\u001b[0m in \u001b[0;36mcall\u001b[0;34m(self, ctx, args, cancellation_manager)\u001b[0m\n\u001b[1;32m    543\u001b[0m               \u001b[0minputs\u001b[0m\u001b[0;34m=\u001b[0m\u001b[0margs\u001b[0m\u001b[0;34m,\u001b[0m\u001b[0;34m\u001b[0m\u001b[0;34m\u001b[0m\u001b[0m\n\u001b[1;32m    544\u001b[0m               \u001b[0mattrs\u001b[0m\u001b[0;34m=\u001b[0m\u001b[0;34m(\u001b[0m\u001b[0;34m\"executor_type\"\u001b[0m\u001b[0;34m,\u001b[0m \u001b[0mexecutor_type\u001b[0m\u001b[0;34m,\u001b[0m \u001b[0;34m\"config_proto\"\u001b[0m\u001b[0;34m,\u001b[0m \u001b[0mconfig\u001b[0m\u001b[0;34m)\u001b[0m\u001b[0;34m,\u001b[0m\u001b[0;34m\u001b[0m\u001b[0;34m\u001b[0m\u001b[0m\n\u001b[0;32m--> 545\u001b[0;31m               ctx=ctx)\n\u001b[0m\u001b[1;32m    546\u001b[0m         \u001b[0;32melse\u001b[0m\u001b[0;34m:\u001b[0m\u001b[0;34m\u001b[0m\u001b[0;34m\u001b[0m\u001b[0m\n\u001b[1;32m    547\u001b[0m           outputs = execute.execute_with_cancellation(\n",
      "\u001b[0;32m/usr/local/lib/python3.6/dist-packages/tensorflow_core/python/eager/execute.py\u001b[0m in \u001b[0;36mquick_execute\u001b[0;34m(op_name, num_outputs, inputs, attrs, ctx, name)\u001b[0m\n\u001b[1;32m     59\u001b[0m     tensors = pywrap_tensorflow.TFE_Py_Execute(ctx._handle, device_name,\n\u001b[1;32m     60\u001b[0m                                                \u001b[0mop_name\u001b[0m\u001b[0;34m,\u001b[0m \u001b[0minputs\u001b[0m\u001b[0;34m,\u001b[0m \u001b[0mattrs\u001b[0m\u001b[0;34m,\u001b[0m\u001b[0;34m\u001b[0m\u001b[0;34m\u001b[0m\u001b[0m\n\u001b[0;32m---> 61\u001b[0;31m                                                num_outputs)\n\u001b[0m\u001b[1;32m     62\u001b[0m   \u001b[0;32mexcept\u001b[0m \u001b[0mcore\u001b[0m\u001b[0;34m.\u001b[0m\u001b[0m_NotOkStatusException\u001b[0m \u001b[0;32mas\u001b[0m \u001b[0me\u001b[0m\u001b[0;34m:\u001b[0m\u001b[0;34m\u001b[0m\u001b[0;34m\u001b[0m\u001b[0m\n\u001b[1;32m     63\u001b[0m     \u001b[0;32mif\u001b[0m \u001b[0mname\u001b[0m \u001b[0;32mis\u001b[0m \u001b[0;32mnot\u001b[0m \u001b[0;32mNone\u001b[0m\u001b[0;34m:\u001b[0m\u001b[0;34m\u001b[0m\u001b[0;34m\u001b[0m\u001b[0m\n",
      "\u001b[0;31mKeyboardInterrupt\u001b[0m: "
     ]
    }
   ],
   "source": [
    "metrics=[recall_metric(total_items=total_items)]\n",
    "for epoch in epochs:\n",
    "    params['epochs'] = epoch\n",
    "    for delta in deltas:\n",
    "        params['delta'] = delta\n",
    "        \n",
    "        # Pre-Calculate diversity_bias\n",
    "        diversity_bias = create_diversity_bias(train_set, total_items, delta)\n",
    "        loss=diversity_bias_loss(db=diversity_bias, total_items=total_items)\n",
    "        \n",
    "        for rnn_unit in rnn_units:\n",
    "            params['rnn_units'] = rnn_unit\n",
    "        \n",
    "            for batch_size in batch_sizes:\n",
    "                params['BATCH_SIZE'] = batch_size\n",
    "                \n",
    "                # Rebuild model \n",
    "                model = build_LSTM_model(total_items = total_items, embedding_dim = embedding_dim, mask_value = pad_value, rnn_units = rnn_unit, batch_size = batch_size, return_sequences=True)\n",
    "\n",
    "                for max_seq_len in max_seq_lens:\n",
    "                    params['max_seq_len'] = max_seq_len\n",
    "\n",
    "                    # Create new datasets\n",
    "                    train_dataset = create_seq_batch_dataset(df=train_set, shift=shift_targets_by, max_seq_len=max_seq_len, pad_value=pad_value, batch_size=batch_size, stats=False, drop_remainder=True)\n",
    "                    val_dataset = create_seq_batch_dataset(df=val_set, shift=shift_targets_by, max_seq_len=max_seq_len, pad_value=pad_value, batch_size=batch_size, stats=False, drop_remainder=True) \n",
    "\n",
    "                    for learning_rate in learning_rates:\n",
    "                        runs += 1\n",
    "                        s = time.time()\n",
    "\n",
    "                        # Print current run\n",
    "                        print('='*50, '\\nRun:', str(runs) + '/' + str(total_runs))\n",
    "                        print('Number of epochs:\\t', epoch)\n",
    "                        print('Number of (h) units:\\t', rnn_unit)\n",
    "                        print('Batch size:\\t\\t', batch_size)\n",
    "                        print('Max seq len:\\t\\t', max_seq_len)\n",
    "                        print('Learning rate:\\t\\t', learning_rate)\n",
    "\n",
    "                        params['learning_rate'] =  learning_rate\n",
    "\n",
    "                        # Compile Model\n",
    "                        model = build_LSTM_model(total_items = total_items, embedding_dim = embedding_dim, mask_value = pad_value, rnn_units = rnn_unit, batch_size = batch_size, return_sequences=True)\n",
    "                        optimizer=tf.keras.optimizers.Adagrad(lr=learning_rate)\n",
    "\n",
    "                        model.compile(optimizer=optimizer,\n",
    "                                      loss=loss, \n",
    "                                      metrics=metrics)\n",
    "\n",
    "                        # Create Callbacks\n",
    "                        checkpoint_dir = directory + '_' + str(params['model_id'])\n",
    "                        checkpoint_prefix = os.path.join(checkpoint_dir, \"ckpt\")\n",
    "                        \n",
    "                        checkpoint_callback = tf.keras.callbacks.ModelCheckpoint(filepath = checkpoint_prefix, monitor = 'val_recall', mode = 'max', save_best_only = True, save_weights_only = True)\n",
    "                        early_stopping_callback = tf.keras.callbacks.EarlyStopping(monitor = 'val_recall', min_delta = 0.0001, mode = 'max', patience = 15)\n",
    "                        timing_callback = TimingCallback()\n",
    "                        callbacks = [checkpoint_callback, early_stopping_callback, timing_callback]\n",
    "                        \n",
    "                        # Run \n",
    "                        history = model.fit(x=train_dataset, \n",
    "                                            validation_data=val_dataset, \n",
    "                                            epochs=epoch,\n",
    "                                            callbacks=callbacks,\n",
    "                                            verbose=1)\n",
    "                        \n",
    "                        \n",
    "                        # Restore lates checkpoint and predict \n",
    "                        model = build_LSTM_model(total_items = total_items, embedding_dim = embedding_dim, mask_value = pad_value, rnn_units = rnn_unit, batch_size = None, return_sequences=False)\n",
    "                        model.load_weights(tf.train.latest_checkpoint(checkpoint_dir)).expect_partial()\n",
    "                        model.build(tf.TensorShape([1, None]))\n",
    "                        preds_df = get_predictions(model, test_set, test_left_out_items, test_batch_size, max_seq_len, pad_value, rank_at)\n",
    "                        metrics_test = get_metrics(preds_df, 5, rank_at, stats=False)\n",
    "#                         print(metrics_test)\n",
    "                        \n",
    "                        # Store model\n",
    "                        store_path = path + 'results/' + res_ext + '/all_models_2'\n",
    "                        train_time = np.sum(timing_callback.logs)\n",
    "                        all_models = store_LSTM_model(store_path, params.copy(), history.history.copy(), train_time, metrics_test, store=True)\n",
    "                        \n",
    "                        # Change Model Id for next model\n",
    "                        params['model_id'] = str(int(params['model_id'][0]) + 1) + '_am'\n",
    "                        print(f'Run Time: {time.time() - s}')\n"
   ]
  },
  {
   "cell_type": "markdown",
   "metadata": {},
   "source": [
    "Speed with test_batch_size:\n",
    "- 1    => +- 1500 sec\n",
    "- 1024 => "
   ]
  }
 ],
 "metadata": {
  "kernelspec": {
   "display_name": "Python 3",
   "language": "python",
   "name": "python3"
  },
  "language_info": {
   "codemirror_mode": {
    "name": "ipython",
    "version": 3
   },
   "file_extension": ".py",
   "mimetype": "text/x-python",
   "name": "python",
   "nbconvert_exporter": "python",
   "pygments_lexer": "ipython3",
   "version": "3.6.9"
  }
 },
 "nbformat": 4,
 "nbformat_minor": 4
}
